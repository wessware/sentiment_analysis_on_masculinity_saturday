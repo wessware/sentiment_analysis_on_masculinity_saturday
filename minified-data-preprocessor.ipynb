{
 "cells": [
  {
   "cell_type": "code",
   "execution_count": 1,
   "id": "468a2509",
   "metadata": {
    "_cell_guid": "b1076dfc-b9ad-4769-8c92-a6c4dae69d19",
    "_uuid": "8f2839f25d086af736a60e9eeb907d3b93b6e0e5",
    "execution": {
     "iopub.execute_input": "2023-01-18T04:05:12.994667Z",
     "iopub.status.busy": "2023-01-18T04:05:12.994220Z",
     "iopub.status.idle": "2023-01-18T04:05:13.009847Z",
     "shell.execute_reply": "2023-01-18T04:05:13.009070Z"
    },
    "papermill": {
     "duration": 0.023946,
     "end_time": "2023-01-18T04:05:13.012825",
     "exception": false,
     "start_time": "2023-01-18T04:05:12.988879",
     "status": "completed"
    },
    "tags": []
   },
   "outputs": [
    {
     "name": "stdout",
     "output_type": "stream",
     "text": [
      "/kaggle/input/amerix-data/sentiment_analysis_amerix_1.csv\n"
     ]
    }
   ],
   "source": [
    "# This Python 3 environment comes with many helpful analytics libraries installed\n",
    "# It is defined by the kaggle/python Docker image: https://github.com/kaggle/docker-python\n",
    "# For example, here's several helpful packages to load\n",
    "\n",
    "import numpy as np # linear algebra\n",
    "import pandas as pd # data processing, CSV file I/O (e.g. pd.read_csv)\n",
    "\n",
    "# Input data files are available in the read-only \"../input/\" directory\n",
    "# For example, running this (by clicking run or pressing Shift+Enter) will list all files under the input directory\n",
    "\n",
    "import os\n",
    "for dirname, _, filenames in os.walk('/kaggle/input'):\n",
    "    for filename in filenames:\n",
    "        print(os.path.join(dirname, filename))\n",
    "\n",
    "# You can write up to 20GB to the current directory (/kaggle/working/) that gets preserved as output when you create a version using \"Save & Run All\" \n",
    "# You can also write temporary files to /kaggle/temp/, but they won't be saved outside of the current session"
   ]
  },
  {
   "cell_type": "code",
   "execution_count": 2,
   "id": "abc939f6",
   "metadata": {
    "execution": {
     "iopub.execute_input": "2023-01-18T04:05:13.019786Z",
     "iopub.status.busy": "2023-01-18T04:05:13.019204Z",
     "iopub.status.idle": "2023-01-18T04:05:13.023203Z",
     "shell.execute_reply": "2023-01-18T04:05:13.022481Z"
    },
    "papermill": {
     "duration": 0.009622,
     "end_time": "2023-01-18T04:05:13.025222",
     "exception": false,
     "start_time": "2023-01-18T04:05:13.015600",
     "status": "completed"
    },
    "tags": []
   },
   "outputs": [],
   "source": [
    "import pandas as pd"
   ]
  },
  {
   "cell_type": "code",
   "execution_count": 3,
   "id": "59000bde",
   "metadata": {
    "execution": {
     "iopub.execute_input": "2023-01-18T04:05:13.031379Z",
     "iopub.status.busy": "2023-01-18T04:05:13.030838Z",
     "iopub.status.idle": "2023-01-18T04:05:14.834916Z",
     "shell.execute_reply": "2023-01-18T04:05:14.833715Z"
    },
    "papermill": {
     "duration": 1.809952,
     "end_time": "2023-01-18T04:05:14.837599",
     "exception": false,
     "start_time": "2023-01-18T04:05:13.027647",
     "status": "completed"
    },
    "tags": []
   },
   "outputs": [],
   "source": [
    "raw_df = pd.read_csv('/kaggle/input/amerix-data/sentiment_analysis_amerix_1.csv')"
   ]
  },
  {
   "cell_type": "code",
   "execution_count": 4,
   "id": "bb8bf542",
   "metadata": {
    "execution": {
     "iopub.execute_input": "2023-01-18T04:05:14.843880Z",
     "iopub.status.busy": "2023-01-18T04:05:14.843489Z",
     "iopub.status.idle": "2023-01-18T04:05:14.855668Z",
     "shell.execute_reply": "2023-01-18T04:05:14.854551Z"
    },
    "papermill": {
     "duration": 0.018669,
     "end_time": "2023-01-18T04:05:14.858810",
     "exception": false,
     "start_time": "2023-01-18T04:05:14.840141",
     "status": "completed"
    },
    "tags": []
   },
   "outputs": [
    {
     "name": "stdout",
     "output_type": "stream",
     "text": [
      "  Unnamed: 0           tweet_created_at  \\\n",
      "0          0  2022-12-30 22:37:46+00:00   \n",
      "1          1  2022-12-30 22:30:58+00:00   \n",
      "2          2  2022-12-30 22:18:00+00:00   \n",
      "3          3  2022-12-30 20:42:54+00:00   \n",
      "4          4  2022-12-30 20:32:23+00:00   \n",
      "\n",
      "                                                text  \n",
      "0  Men who have refused to listen to/attend @amer...  \n",
      "1                       @OvOBrezzzy Take amerix next  \n",
      "2  @AyodeleYo11 @amerix Nah I’m good my masculini...  \n",
      "3  @Amerix_DontSimp There is no need for dating i...  \n",
      "4  @DyeAnna7 @amerix @kibe From what cos nothing ...  \n"
     ]
    }
   ],
   "source": [
    "print(raw_df.head())"
   ]
  },
  {
   "cell_type": "code",
   "execution_count": 5,
   "id": "6323ebdb",
   "metadata": {
    "execution": {
     "iopub.execute_input": "2023-01-18T04:05:14.865191Z",
     "iopub.status.busy": "2023-01-18T04:05:14.864452Z",
     "iopub.status.idle": "2023-01-18T04:05:14.873168Z",
     "shell.execute_reply": "2023-01-18T04:05:14.872069Z"
    },
    "papermill": {
     "duration": 0.014086,
     "end_time": "2023-01-18T04:05:14.875352",
     "exception": false,
     "start_time": "2023-01-18T04:05:14.861266",
     "status": "completed"
    },
    "tags": []
   },
   "outputs": [
    {
     "data": {
      "text/plain": [
       "(248739, 3)"
      ]
     },
     "execution_count": 5,
     "metadata": {},
     "output_type": "execute_result"
    }
   ],
   "source": [
    "raw_df.shape"
   ]
  },
  {
   "cell_type": "code",
   "execution_count": null,
   "id": "ace1dd35",
   "metadata": {
    "papermill": {
     "duration": 0.00226,
     "end_time": "2023-01-18T04:05:14.880304",
     "exception": false,
     "start_time": "2023-01-18T04:05:14.878044",
     "status": "completed"
    },
    "tags": []
   },
   "outputs": [],
   "source": []
  }
 ],
 "metadata": {
  "kernelspec": {
   "display_name": "Python 3",
   "language": "python",
   "name": "python3"
  },
  "language_info": {
   "codemirror_mode": {
    "name": "ipython",
    "version": 3
   },
   "file_extension": ".py",
   "mimetype": "text/x-python",
   "name": "python",
   "nbconvert_exporter": "python",
   "pygments_lexer": "ipython3",
   "version": "3.7.12"
  },
  "papermill": {
   "default_parameters": {},
   "duration": 10.662518,
   "end_time": "2023-01-18T04:05:15.504129",
   "environment_variables": {},
   "exception": null,
   "input_path": "__notebook__.ipynb",
   "output_path": "__notebook__.ipynb",
   "parameters": {},
   "start_time": "2023-01-18T04:05:04.841611",
   "version": "2.3.4"
  }
 },
 "nbformat": 4,
 "nbformat_minor": 5
}
