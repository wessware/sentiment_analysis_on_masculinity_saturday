{
 "cells": [
  {
   "cell_type": "code",
   "execution_count": 1,
   "id": "05e6098a",
   "metadata": {
    "execution": {
     "iopub.execute_input": "2023-01-18T04:12:09.154094Z",
     "iopub.status.busy": "2023-01-18T04:12:09.153668Z",
     "iopub.status.idle": "2023-01-18T04:12:10.985786Z",
     "shell.execute_reply": "2023-01-18T04:12:10.984444Z"
    },
    "papermill": {
     "duration": 1.84066,
     "end_time": "2023-01-18T04:12:10.988434",
     "exception": false,
     "start_time": "2023-01-18T04:12:09.147774",
     "status": "completed"
    },
    "tags": []
   },
   "outputs": [],
   "source": [
    "import pandas as pd\n",
    "import nltk\n",
    "from nltk.sentiment.vader import SentimentIntensityAnalyzer"
   ]
  },
  {
   "cell_type": "code",
   "execution_count": 2,
   "id": "65b4daed",
   "metadata": {
    "execution": {
     "iopub.execute_input": "2023-01-18T04:12:10.996133Z",
     "iopub.status.busy": "2023-01-18T04:12:10.995759Z",
     "iopub.status.idle": "2023-01-18T04:12:12.575967Z",
     "shell.execute_reply": "2023-01-18T04:12:12.574613Z"
    },
    "papermill": {
     "duration": 1.58705,
     "end_time": "2023-01-18T04:12:12.578677",
     "exception": false,
     "start_time": "2023-01-18T04:12:10.991627",
     "status": "completed"
    },
    "tags": []
   },
   "outputs": [],
   "source": [
    "raw_df = pd.read_csv('/kaggle/input/amerix-data/sentiment_analysis_amerix_1.csv')"
   ]
  },
  {
   "cell_type": "code",
   "execution_count": 3,
   "id": "890026b4",
   "metadata": {
    "execution": {
     "iopub.execute_input": "2023-01-18T04:12:12.586705Z",
     "iopub.status.busy": "2023-01-18T04:12:12.586357Z",
     "iopub.status.idle": "2023-01-18T04:12:12.600736Z",
     "shell.execute_reply": "2023-01-18T04:12:12.599654Z"
    },
    "papermill": {
     "duration": 0.020901,
     "end_time": "2023-01-18T04:12:12.602861",
     "exception": false,
     "start_time": "2023-01-18T04:12:12.581960",
     "status": "completed"
    },
    "tags": []
   },
   "outputs": [
    {
     "name": "stdout",
     "output_type": "stream",
     "text": [
      "  Unnamed: 0           tweet_created_at  \\\n",
      "0          0  2022-12-30 22:37:46+00:00   \n",
      "1          1  2022-12-30 22:30:58+00:00   \n",
      "2          2  2022-12-30 22:18:00+00:00   \n",
      "3          3  2022-12-30 20:42:54+00:00   \n",
      "4          4  2022-12-30 20:32:23+00:00   \n",
      "\n",
      "                                                text  \n",
      "0  Men who have refused to listen to/attend @amer...  \n",
      "1                       @OvOBrezzzy Take amerix next  \n",
      "2  @AyodeleYo11 @amerix Nah I’m good my masculini...  \n",
      "3  @Amerix_DontSimp There is no need for dating i...  \n",
      "4  @DyeAnna7 @amerix @kibe From what cos nothing ...  \n"
     ]
    }
   ],
   "source": [
    "print(raw_df.head())"
   ]
  },
  {
   "cell_type": "code",
   "execution_count": 4,
   "id": "abb48d23",
   "metadata": {
    "execution": {
     "iopub.execute_input": "2023-01-18T04:12:12.610880Z",
     "iopub.status.busy": "2023-01-18T04:12:12.610545Z",
     "iopub.status.idle": "2023-01-18T04:12:12.618940Z",
     "shell.execute_reply": "2023-01-18T04:12:12.617844Z"
    },
    "papermill": {
     "duration": 0.015687,
     "end_time": "2023-01-18T04:12:12.621959",
     "exception": false,
     "start_time": "2023-01-18T04:12:12.606272",
     "status": "completed"
    },
    "tags": []
   },
   "outputs": [
    {
     "data": {
      "text/plain": [
       "(248739, 3)"
      ]
     },
     "execution_count": 4,
     "metadata": {},
     "output_type": "execute_result"
    }
   ],
   "source": [
    "raw_df.shape"
   ]
  },
  {
   "cell_type": "code",
   "execution_count": 5,
   "id": "5cc71e68",
   "metadata": {
    "execution": {
     "iopub.execute_input": "2023-01-18T04:12:12.630314Z",
     "iopub.status.busy": "2023-01-18T04:12:12.629942Z",
     "iopub.status.idle": "2023-01-18T04:12:13.385503Z",
     "shell.execute_reply": "2023-01-18T04:12:13.383758Z"
    },
    "papermill": {
     "duration": 0.762265,
     "end_time": "2023-01-18T04:12:13.387807",
     "exception": false,
     "start_time": "2023-01-18T04:12:12.625542",
     "status": "completed"
    },
    "tags": []
   },
   "outputs": [
    {
     "data": {
      "text/html": [
       "<div>\n",
       "<style scoped>\n",
       "    .dataframe tbody tr th:only-of-type {\n",
       "        vertical-align: middle;\n",
       "    }\n",
       "\n",
       "    .dataframe tbody tr th {\n",
       "        vertical-align: top;\n",
       "    }\n",
       "\n",
       "    .dataframe thead th {\n",
       "        text-align: right;\n",
       "    }\n",
       "</style>\n",
       "<table border=\"1\" class=\"dataframe\">\n",
       "  <thead>\n",
       "    <tr style=\"text-align: right;\">\n",
       "      <th></th>\n",
       "      <th>count</th>\n",
       "      <th>unique</th>\n",
       "      <th>top</th>\n",
       "      <th>freq</th>\n",
       "    </tr>\n",
       "  </thead>\n",
       "  <tbody>\n",
       "    <tr>\n",
       "      <th>Unnamed: 0</th>\n",
       "      <td>248739</td>\n",
       "      <td>248739</td>\n",
       "      <td>0</td>\n",
       "      <td>1</td>\n",
       "    </tr>\n",
       "    <tr>\n",
       "      <th>tweet_created_at</th>\n",
       "      <td>248738</td>\n",
       "      <td>242124</td>\n",
       "      <td>2022-11-24 19:00:01+00:00</td>\n",
       "      <td>9</td>\n",
       "    </tr>\n",
       "    <tr>\n",
       "      <th>text</th>\n",
       "      <td>248738</td>\n",
       "      <td>236023</td>\n",
       "      <td>@amerix @pikaso_me screenshot this</td>\n",
       "      <td>550</td>\n",
       "    </tr>\n",
       "  </tbody>\n",
       "</table>\n",
       "</div>"
      ],
      "text/plain": [
       "                   count  unique                                 top freq\n",
       "Unnamed: 0        248739  248739                                   0    1\n",
       "tweet_created_at  248738  242124           2022-11-24 19:00:01+00:00    9\n",
       "text              248738  236023  @amerix @pikaso_me screenshot this  550"
      ]
     },
     "execution_count": 5,
     "metadata": {},
     "output_type": "execute_result"
    }
   ],
   "source": [
    "raw_df.describe().T"
   ]
  },
  {
   "cell_type": "code",
   "execution_count": 6,
   "id": "f43c122a",
   "metadata": {
    "execution": {
     "iopub.execute_input": "2023-01-18T04:12:13.396481Z",
     "iopub.status.busy": "2023-01-18T04:12:13.396020Z",
     "iopub.status.idle": "2023-01-18T04:12:13.402275Z",
     "shell.execute_reply": "2023-01-18T04:12:13.401433Z"
    },
    "papermill": {
     "duration": 0.012581,
     "end_time": "2023-01-18T04:12:13.404108",
     "exception": false,
     "start_time": "2023-01-18T04:12:13.391527",
     "status": "completed"
    },
    "tags": []
   },
   "outputs": [
    {
     "data": {
      "text/plain": [
       "Index(['Unnamed: 0', 'tweet_created_at', 'text'], dtype='object')"
      ]
     },
     "execution_count": 6,
     "metadata": {},
     "output_type": "execute_result"
    }
   ],
   "source": [
    "raw_df.columns"
   ]
  },
  {
   "cell_type": "code",
   "execution_count": 7,
   "id": "c99638cf",
   "metadata": {
    "execution": {
     "iopub.execute_input": "2023-01-18T04:12:13.414457Z",
     "iopub.status.busy": "2023-01-18T04:12:13.412828Z",
     "iopub.status.idle": "2023-01-18T04:12:13.426821Z",
     "shell.execute_reply": "2023-01-18T04:12:13.425674Z"
    },
    "papermill": {
     "duration": 0.021663,
     "end_time": "2023-01-18T04:12:13.429452",
     "exception": false,
     "start_time": "2023-01-18T04:12:13.407789",
     "status": "completed"
    },
    "tags": []
   },
   "outputs": [],
   "source": [
    "df_raw = raw_df.drop(columns='Unnamed: 0')"
   ]
  },
  {
   "cell_type": "code",
   "execution_count": 8,
   "id": "c2c091a8",
   "metadata": {
    "execution": {
     "iopub.execute_input": "2023-01-18T04:12:13.438723Z",
     "iopub.status.busy": "2023-01-18T04:12:13.438250Z",
     "iopub.status.idle": "2023-01-18T04:12:13.447471Z",
     "shell.execute_reply": "2023-01-18T04:12:13.445468Z"
    },
    "papermill": {
     "duration": 0.017264,
     "end_time": "2023-01-18T04:12:13.450508",
     "exception": false,
     "start_time": "2023-01-18T04:12:13.433244",
     "status": "completed"
    },
    "tags": []
   },
   "outputs": [
    {
     "data": {
      "text/plain": [
       "Index(['tweet_created_at', 'text'], dtype='object')"
      ]
     },
     "execution_count": 8,
     "metadata": {},
     "output_type": "execute_result"
    }
   ],
   "source": [
    "df_raw.columns"
   ]
  },
  {
   "cell_type": "code",
   "execution_count": 9,
   "id": "322e3b8e",
   "metadata": {
    "execution": {
     "iopub.execute_input": "2023-01-18T04:12:13.459410Z",
     "iopub.status.busy": "2023-01-18T04:12:13.459074Z",
     "iopub.status.idle": "2023-01-18T04:12:13.554459Z",
     "shell.execute_reply": "2023-01-18T04:12:13.553139Z"
    },
    "papermill": {
     "duration": 0.102637,
     "end_time": "2023-01-18T04:12:13.556903",
     "exception": false,
     "start_time": "2023-01-18T04:12:13.454266",
     "status": "completed"
    },
    "tags": []
   },
   "outputs": [
    {
     "name": "stderr",
     "output_type": "stream",
     "text": [
      "[nltk_data] Downloading package vader_lexicon to\n",
      "[nltk_data]     /usr/share/nltk_data...\n",
      "[nltk_data]   Package vader_lexicon is already up-to-date!\n"
     ]
    },
    {
     "data": {
      "text/plain": [
       "True"
      ]
     },
     "execution_count": 9,
     "metadata": {},
     "output_type": "execute_result"
    }
   ],
   "source": [
    "nltk.download('vader_lexicon')"
   ]
  },
  {
   "cell_type": "code",
   "execution_count": 10,
   "id": "bae076ff",
   "metadata": {
    "execution": {
     "iopub.execute_input": "2023-01-18T04:12:13.565862Z",
     "iopub.status.busy": "2023-01-18T04:12:13.565508Z",
     "iopub.status.idle": "2023-01-18T04:12:13.634665Z",
     "shell.execute_reply": "2023-01-18T04:12:13.633438Z"
    },
    "papermill": {
     "duration": 0.076642,
     "end_time": "2023-01-18T04:12:13.637423",
     "exception": false,
     "start_time": "2023-01-18T04:12:13.560781",
     "status": "completed"
    },
    "tags": []
   },
   "outputs": [],
   "source": [
    "df_raw = df_raw.dropna()"
   ]
  },
  {
   "cell_type": "code",
   "execution_count": 11,
   "id": "bd9e5aea",
   "metadata": {
    "execution": {
     "iopub.execute_input": "2023-01-18T04:12:13.648043Z",
     "iopub.status.busy": "2023-01-18T04:12:13.647693Z",
     "iopub.status.idle": "2023-01-18T04:12:13.654407Z",
     "shell.execute_reply": "2023-01-18T04:12:13.653404Z"
    },
    "papermill": {
     "duration": 0.014891,
     "end_time": "2023-01-18T04:12:13.657018",
     "exception": false,
     "start_time": "2023-01-18T04:12:13.642127",
     "status": "completed"
    },
    "tags": []
   },
   "outputs": [
    {
     "data": {
      "text/plain": [
       "(248738, 2)"
      ]
     },
     "execution_count": 11,
     "metadata": {},
     "output_type": "execute_result"
    }
   ],
   "source": [
    "df_raw.shape"
   ]
  }
 ],
 "metadata": {
  "kernelspec": {
   "display_name": "Python 3",
   "language": "python",
   "name": "python3"
  },
  "language_info": {
   "codemirror_mode": {
    "name": "ipython",
    "version": 3
   },
   "file_extension": ".py",
   "mimetype": "text/x-python",
   "name": "python",
   "nbconvert_exporter": "python",
   "pygments_lexer": "ipython3",
   "version": "3.7.12"
  },
  "papermill": {
   "default_parameters": {},
   "duration": 13.537825,
   "end_time": "2023-01-18T04:12:14.584165",
   "environment_variables": {},
   "exception": null,
   "input_path": "__notebook__.ipynb",
   "output_path": "__notebook__.ipynb",
   "parameters": {},
   "start_time": "2023-01-18T04:12:01.046340",
   "version": "2.3.4"
  }
 },
 "nbformat": 4,
 "nbformat_minor": 5
}
