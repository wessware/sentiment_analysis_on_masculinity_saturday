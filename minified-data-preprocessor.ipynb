{
 "cells": [
  {
   "cell_type": "code",
   "execution_count": 1,
   "id": "6e5830dc",
   "metadata": {
    "execution": {
     "iopub.execute_input": "2023-01-18T04:28:57.351947Z",
     "iopub.status.busy": "2023-01-18T04:28:57.351415Z",
     "iopub.status.idle": "2023-01-18T04:28:59.367243Z",
     "shell.execute_reply": "2023-01-18T04:28:59.365240Z"
    },
    "papermill": {
     "duration": 2.028325,
     "end_time": "2023-01-18T04:28:59.371044",
     "exception": false,
     "start_time": "2023-01-18T04:28:57.342719",
     "status": "completed"
    },
    "tags": []
   },
   "outputs": [],
   "source": [
    "import pandas as pd\n",
    "import nltk\n",
    "from nltk.sentiment.vader import SentimentIntensityAnalyzer"
   ]
  },
  {
   "cell_type": "code",
   "execution_count": 2,
   "id": "4b65df45",
   "metadata": {
    "execution": {
     "iopub.execute_input": "2023-01-18T04:28:59.385689Z",
     "iopub.status.busy": "2023-01-18T04:28:59.383750Z",
     "iopub.status.idle": "2023-01-18T04:29:01.164884Z",
     "shell.execute_reply": "2023-01-18T04:29:01.163061Z"
    },
    "papermill": {
     "duration": 1.7908,
     "end_time": "2023-01-18T04:29:01.167981",
     "exception": false,
     "start_time": "2023-01-18T04:28:59.377181",
     "status": "completed"
    },
    "tags": []
   },
   "outputs": [],
   "source": [
    "raw_df = pd.read_csv('/kaggle/input/amerix-data/sentiment_analysis_amerix_1.csv')"
   ]
  },
  {
   "cell_type": "code",
   "execution_count": 3,
   "id": "b4819918",
   "metadata": {
    "execution": {
     "iopub.execute_input": "2023-01-18T04:29:01.178995Z",
     "iopub.status.busy": "2023-01-18T04:29:01.178550Z",
     "iopub.status.idle": "2023-01-18T04:29:01.195037Z",
     "shell.execute_reply": "2023-01-18T04:29:01.193643Z"
    },
    "papermill": {
     "duration": 0.024946,
     "end_time": "2023-01-18T04:29:01.197660",
     "exception": false,
     "start_time": "2023-01-18T04:29:01.172714",
     "status": "completed"
    },
    "tags": []
   },
   "outputs": [
    {
     "name": "stdout",
     "output_type": "stream",
     "text": [
      "  Unnamed: 0           tweet_created_at  \\\n",
      "0          0  2022-12-30 22:37:46+00:00   \n",
      "1          1  2022-12-30 22:30:58+00:00   \n",
      "2          2  2022-12-30 22:18:00+00:00   \n",
      "3          3  2022-12-30 20:42:54+00:00   \n",
      "4          4  2022-12-30 20:32:23+00:00   \n",
      "\n",
      "                                                text  \n",
      "0  Men who have refused to listen to/attend @amer...  \n",
      "1                       @OvOBrezzzy Take amerix next  \n",
      "2  @AyodeleYo11 @amerix Nah I’m good my masculini...  \n",
      "3  @Amerix_DontSimp There is no need for dating i...  \n",
      "4  @DyeAnna7 @amerix @kibe From what cos nothing ...  \n"
     ]
    }
   ],
   "source": [
    "print(raw_df.head())"
   ]
  },
  {
   "cell_type": "code",
   "execution_count": 4,
   "id": "8357a3d3",
   "metadata": {
    "execution": {
     "iopub.execute_input": "2023-01-18T04:29:01.209879Z",
     "iopub.status.busy": "2023-01-18T04:29:01.208919Z",
     "iopub.status.idle": "2023-01-18T04:29:01.219449Z",
     "shell.execute_reply": "2023-01-18T04:29:01.217715Z"
    },
    "papermill": {
     "duration": 0.020004,
     "end_time": "2023-01-18T04:29:01.222633",
     "exception": false,
     "start_time": "2023-01-18T04:29:01.202629",
     "status": "completed"
    },
    "tags": []
   },
   "outputs": [
    {
     "data": {
      "text/plain": [
       "(248739, 3)"
      ]
     },
     "execution_count": 4,
     "metadata": {},
     "output_type": "execute_result"
    }
   ],
   "source": [
    "raw_df.shape"
   ]
  },
  {
   "cell_type": "code",
   "execution_count": 5,
   "id": "dfe754e1",
   "metadata": {
    "execution": {
     "iopub.execute_input": "2023-01-18T04:29:01.235262Z",
     "iopub.status.busy": "2023-01-18T04:29:01.234736Z",
     "iopub.status.idle": "2023-01-18T04:29:02.242293Z",
     "shell.execute_reply": "2023-01-18T04:29:02.240795Z"
    },
    "papermill": {
     "duration": 1.017997,
     "end_time": "2023-01-18T04:29:02.245928",
     "exception": false,
     "start_time": "2023-01-18T04:29:01.227931",
     "status": "completed"
    },
    "tags": []
   },
   "outputs": [
    {
     "data": {
      "text/html": [
       "<div>\n",
       "<style scoped>\n",
       "    .dataframe tbody tr th:only-of-type {\n",
       "        vertical-align: middle;\n",
       "    }\n",
       "\n",
       "    .dataframe tbody tr th {\n",
       "        vertical-align: top;\n",
       "    }\n",
       "\n",
       "    .dataframe thead th {\n",
       "        text-align: right;\n",
       "    }\n",
       "</style>\n",
       "<table border=\"1\" class=\"dataframe\">\n",
       "  <thead>\n",
       "    <tr style=\"text-align: right;\">\n",
       "      <th></th>\n",
       "      <th>count</th>\n",
       "      <th>unique</th>\n",
       "      <th>top</th>\n",
       "      <th>freq</th>\n",
       "    </tr>\n",
       "  </thead>\n",
       "  <tbody>\n",
       "    <tr>\n",
       "      <th>Unnamed: 0</th>\n",
       "      <td>248739</td>\n",
       "      <td>248739</td>\n",
       "      <td>0</td>\n",
       "      <td>1</td>\n",
       "    </tr>\n",
       "    <tr>\n",
       "      <th>tweet_created_at</th>\n",
       "      <td>248738</td>\n",
       "      <td>242124</td>\n",
       "      <td>2022-11-24 19:00:01+00:00</td>\n",
       "      <td>9</td>\n",
       "    </tr>\n",
       "    <tr>\n",
       "      <th>text</th>\n",
       "      <td>248738</td>\n",
       "      <td>236023</td>\n",
       "      <td>@amerix @pikaso_me screenshot this</td>\n",
       "      <td>550</td>\n",
       "    </tr>\n",
       "  </tbody>\n",
       "</table>\n",
       "</div>"
      ],
      "text/plain": [
       "                   count  unique                                 top freq\n",
       "Unnamed: 0        248739  248739                                   0    1\n",
       "tweet_created_at  248738  242124           2022-11-24 19:00:01+00:00    9\n",
       "text              248738  236023  @amerix @pikaso_me screenshot this  550"
      ]
     },
     "execution_count": 5,
     "metadata": {},
     "output_type": "execute_result"
    }
   ],
   "source": [
    "raw_df.describe().T"
   ]
  },
  {
   "cell_type": "code",
   "execution_count": 6,
   "id": "0104de10",
   "metadata": {
    "execution": {
     "iopub.execute_input": "2023-01-18T04:29:02.258269Z",
     "iopub.status.busy": "2023-01-18T04:29:02.257740Z",
     "iopub.status.idle": "2023-01-18T04:29:02.267258Z",
     "shell.execute_reply": "2023-01-18T04:29:02.265954Z"
    },
    "papermill": {
     "duration": 0.019649,
     "end_time": "2023-01-18T04:29:02.270849",
     "exception": false,
     "start_time": "2023-01-18T04:29:02.251200",
     "status": "completed"
    },
    "tags": []
   },
   "outputs": [
    {
     "data": {
      "text/plain": [
       "Index(['Unnamed: 0', 'tweet_created_at', 'text'], dtype='object')"
      ]
     },
     "execution_count": 6,
     "metadata": {},
     "output_type": "execute_result"
    }
   ],
   "source": [
    "raw_df.columns"
   ]
  },
  {
   "cell_type": "code",
   "execution_count": 7,
   "id": "3211aeba",
   "metadata": {
    "execution": {
     "iopub.execute_input": "2023-01-18T04:29:02.283719Z",
     "iopub.status.busy": "2023-01-18T04:29:02.283240Z",
     "iopub.status.idle": "2023-01-18T04:29:02.300044Z",
     "shell.execute_reply": "2023-01-18T04:29:02.299008Z"
    },
    "papermill": {
     "duration": 0.026351,
     "end_time": "2023-01-18T04:29:02.302669",
     "exception": false,
     "start_time": "2023-01-18T04:29:02.276318",
     "status": "completed"
    },
    "tags": []
   },
   "outputs": [],
   "source": [
    "df_raw = raw_df.drop(columns='Unnamed: 0')"
   ]
  },
  {
   "cell_type": "code",
   "execution_count": 8,
   "id": "62c22ffa",
   "metadata": {
    "execution": {
     "iopub.execute_input": "2023-01-18T04:29:02.315364Z",
     "iopub.status.busy": "2023-01-18T04:29:02.314928Z",
     "iopub.status.idle": "2023-01-18T04:29:02.323221Z",
     "shell.execute_reply": "2023-01-18T04:29:02.321102Z"
    },
    "papermill": {
     "duration": 0.018818,
     "end_time": "2023-01-18T04:29:02.326791",
     "exception": false,
     "start_time": "2023-01-18T04:29:02.307973",
     "status": "completed"
    },
    "tags": []
   },
   "outputs": [
    {
     "data": {
      "text/plain": [
       "Index(['tweet_created_at', 'text'], dtype='object')"
      ]
     },
     "execution_count": 8,
     "metadata": {},
     "output_type": "execute_result"
    }
   ],
   "source": [
    "df_raw.columns"
   ]
  },
  {
   "cell_type": "code",
   "execution_count": 9,
   "id": "f4e29aa1",
   "metadata": {
    "execution": {
     "iopub.execute_input": "2023-01-18T04:29:02.339871Z",
     "iopub.status.busy": "2023-01-18T04:29:02.339416Z",
     "iopub.status.idle": "2023-01-18T04:29:02.439361Z",
     "shell.execute_reply": "2023-01-18T04:29:02.436420Z"
    },
    "papermill": {
     "duration": 0.1108,
     "end_time": "2023-01-18T04:29:02.443301",
     "exception": false,
     "start_time": "2023-01-18T04:29:02.332501",
     "status": "completed"
    },
    "tags": []
   },
   "outputs": [
    {
     "name": "stderr",
     "output_type": "stream",
     "text": [
      "[nltk_data] Downloading package vader_lexicon to\n",
      "[nltk_data]     /usr/share/nltk_data...\n",
      "[nltk_data]   Package vader_lexicon is already up-to-date!\n"
     ]
    },
    {
     "data": {
      "text/plain": [
       "True"
      ]
     },
     "execution_count": 9,
     "metadata": {},
     "output_type": "execute_result"
    }
   ],
   "source": [
    "nltk.download('vader_lexicon')"
   ]
  },
  {
   "cell_type": "code",
   "execution_count": 10,
   "id": "a7a69210",
   "metadata": {
    "execution": {
     "iopub.execute_input": "2023-01-18T04:29:02.459873Z",
     "iopub.status.busy": "2023-01-18T04:29:02.459373Z",
     "iopub.status.idle": "2023-01-18T04:29:02.553150Z",
     "shell.execute_reply": "2023-01-18T04:29:02.551820Z"
    },
    "papermill": {
     "duration": 0.10643,
     "end_time": "2023-01-18T04:29:02.555965",
     "exception": false,
     "start_time": "2023-01-18T04:29:02.449535",
     "status": "completed"
    },
    "tags": []
   },
   "outputs": [],
   "source": [
    "df_raw = df_raw.dropna()"
   ]
  },
  {
   "cell_type": "code",
   "execution_count": 11,
   "id": "674f3049",
   "metadata": {
    "execution": {
     "iopub.execute_input": "2023-01-18T04:29:02.568481Z",
     "iopub.status.busy": "2023-01-18T04:29:02.568058Z",
     "iopub.status.idle": "2023-01-18T04:29:02.577160Z",
     "shell.execute_reply": "2023-01-18T04:29:02.575906Z"
    },
    "papermill": {
     "duration": 0.018008,
     "end_time": "2023-01-18T04:29:02.579544",
     "exception": false,
     "start_time": "2023-01-18T04:29:02.561536",
     "status": "completed"
    },
    "tags": []
   },
   "outputs": [
    {
     "data": {
      "text/plain": [
       "(248738, 2)"
      ]
     },
     "execution_count": 11,
     "metadata": {},
     "output_type": "execute_result"
    }
   ],
   "source": [
    "df_raw.shape"
   ]
  },
  {
   "cell_type": "code",
   "execution_count": 12,
   "id": "27ef013a",
   "metadata": {
    "execution": {
     "iopub.execute_input": "2023-01-18T04:29:02.592875Z",
     "iopub.status.busy": "2023-01-18T04:29:02.591858Z",
     "iopub.status.idle": "2023-01-18T04:34:03.527570Z",
     "shell.execute_reply": "2023-01-18T04:34:03.524870Z"
    },
    "papermill": {
     "duration": 300.946334,
     "end_time": "2023-01-18T04:34:03.531416",
     "exception": false,
     "start_time": "2023-01-18T04:29:02.585082",
     "status": "completed"
    },
    "tags": []
   },
   "outputs": [],
   "source": [
    "sentiments = SentimentIntensityAnalyzer()\n",
    "\n",
    "df_raw[\"Positive\"] = [sentiments.polarity_scores(i)[\"pos\"] for i in df_raw[\"text\"]]\n",
    "df_raw[\"Negative\"] = [sentiments.polarity_scores(i)[\"neg\"] for i in df_raw[\"text\"]]\n",
    "df_raw[\"Neutral\"] = [sentiments.polarity_scores(i)[\"neu\"] for i in df_raw[\"text\"]]\n",
    "df_raw['Compound'] = [sentiments.polarity_scores(i)[\"compound\"] for i in df_raw[\"text\"]]"
   ]
  },
  {
   "cell_type": "code",
   "execution_count": 13,
   "id": "2ccfb581",
   "metadata": {
    "execution": {
     "iopub.execute_input": "2023-01-18T04:34:03.546945Z",
     "iopub.status.busy": "2023-01-18T04:34:03.545971Z",
     "iopub.status.idle": "2023-01-18T04:34:03.561417Z",
     "shell.execute_reply": "2023-01-18T04:34:03.558963Z"
    },
    "papermill": {
     "duration": 0.027133,
     "end_time": "2023-01-18T04:34:03.564983",
     "exception": false,
     "start_time": "2023-01-18T04:34:03.537850",
     "status": "completed"
    },
    "tags": []
   },
   "outputs": [
    {
     "name": "stdout",
     "output_type": "stream",
     "text": [
      "            tweet_created_at  \\\n",
      "0  2022-12-30 22:37:46+00:00   \n",
      "1  2022-12-30 22:30:58+00:00   \n",
      "2  2022-12-30 22:18:00+00:00   \n",
      "3  2022-12-30 20:42:54+00:00   \n",
      "4  2022-12-30 20:32:23+00:00   \n",
      "5  2022-12-30 20:25:56+00:00   \n",
      "6  2022-12-30 20:22:24+00:00   \n",
      "7  2022-12-30 20:10:49+00:00   \n",
      "8  2022-12-30 19:36:49+00:00   \n",
      "9  2022-12-30 19:30:58+00:00   \n",
      "\n",
      "                                                text  Positive  Negative  \\\n",
      "0  Men who have refused to listen to/attend @amer...     0.000     0.073   \n",
      "1                       @OvOBrezzzy Take amerix next     0.000     0.000   \n",
      "2  @AyodeleYo11 @amerix Nah I’m good my masculini...     0.493     0.068   \n",
      "3  @Amerix_DontSimp There is no need for dating i...     0.000     0.180   \n",
      "4  @DyeAnna7 @amerix @kibe From what cos nothing ...     0.110     0.000   \n",
      "5  @salim_the_don @MwendiaJnr I see you unblocked...     0.000     0.152   \n",
      "6  @german_kenyan @ML_Philosophy 🤣 yes they are a...     0.038     0.102   \n",
      "7  @PadreMusa Amerix once said the alcohol menace...     0.000     0.066   \n",
      "8  @DodoPicard You're in Eastafrica, he probably ...     0.000     0.000   \n",
      "9                   @HBK_ACTIVIST @amerix @kibe Heal     0.000     0.000   \n",
      "\n",
      "   Neutral  Compound  \n",
      "0    0.927   -0.2960  \n",
      "1    1.000    0.0000  \n",
      "2    0.439    0.8271  \n",
      "3    0.820   -0.2960  \n",
      "4    0.890    0.6908  \n",
      "5    0.848   -0.7732  \n",
      "6    0.860   -0.2824  \n",
      "7    0.934   -0.4939  \n",
      "8    1.000    0.0000  \n",
      "9    1.000    0.0000  \n"
     ]
    }
   ],
   "source": [
    "print(df_raw.head(10))"
   ]
  },
  {
   "cell_type": "code",
   "execution_count": 14,
   "id": "f7335957",
   "metadata": {
    "execution": {
     "iopub.execute_input": "2023-01-18T04:34:03.580702Z",
     "iopub.status.busy": "2023-01-18T04:34:03.580155Z",
     "iopub.status.idle": "2023-01-18T04:34:03.588545Z",
     "shell.execute_reply": "2023-01-18T04:34:03.587673Z"
    },
    "papermill": {
     "duration": 0.019327,
     "end_time": "2023-01-18T04:34:03.591584",
     "exception": false,
     "start_time": "2023-01-18T04:34:03.572257",
     "status": "completed"
    },
    "tags": []
   },
   "outputs": [
    {
     "data": {
      "text/plain": [
       "Index(['tweet_created_at', 'text', 'Positive', 'Negative', 'Neutral',\n",
       "       'Compound'],\n",
       "      dtype='object')"
      ]
     },
     "execution_count": 14,
     "metadata": {},
     "output_type": "execute_result"
    }
   ],
   "source": [
    "df_raw.columns"
   ]
  },
  {
   "cell_type": "code",
   "execution_count": 15,
   "id": "6925611a",
   "metadata": {
    "execution": {
     "iopub.execute_input": "2023-01-18T04:34:03.606962Z",
     "iopub.status.busy": "2023-01-18T04:34:03.606045Z",
     "iopub.status.idle": "2023-01-18T04:34:03.687023Z",
     "shell.execute_reply": "2023-01-18T04:34:03.685266Z"
    },
    "papermill": {
     "duration": 0.091766,
     "end_time": "2023-01-18T04:34:03.690162",
     "exception": false,
     "start_time": "2023-01-18T04:34:03.598396",
     "status": "completed"
    },
    "tags": []
   },
   "outputs": [],
   "source": [
    "score = df_raw[\"Compound\"].values\n",
    "sentiment = []\n",
    "for i in score:\n",
    "    if i >= 0.05 :\n",
    "        sentiment.append('Positive')\n",
    "    elif i <= -0.05 :\n",
    "        sentiment.append('Negative')\n",
    "    else:\n",
    "        sentiment.append('Neutral')\n",
    "df_raw[\"Sentiment\"] = sentiment"
   ]
  },
  {
   "cell_type": "code",
   "execution_count": 16,
   "id": "1b3fa975",
   "metadata": {
    "execution": {
     "iopub.execute_input": "2023-01-18T04:34:03.704591Z",
     "iopub.status.busy": "2023-01-18T04:34:03.704061Z",
     "iopub.status.idle": "2023-01-18T04:34:03.712085Z",
     "shell.execute_reply": "2023-01-18T04:34:03.711198Z"
    },
    "papermill": {
     "duration": 0.018529,
     "end_time": "2023-01-18T04:34:03.715150",
     "exception": false,
     "start_time": "2023-01-18T04:34:03.696621",
     "status": "completed"
    },
    "tags": []
   },
   "outputs": [
    {
     "data": {
      "text/plain": [
       "Index(['tweet_created_at', 'text', 'Positive', 'Negative', 'Neutral',\n",
       "       'Compound', 'Sentiment'],\n",
       "      dtype='object')"
      ]
     },
     "execution_count": 16,
     "metadata": {},
     "output_type": "execute_result"
    }
   ],
   "source": [
    "df_raw.columns"
   ]
  },
  {
   "cell_type": "code",
   "execution_count": 17,
   "id": "ac0ce579",
   "metadata": {
    "execution": {
     "iopub.execute_input": "2023-01-18T04:34:03.731236Z",
     "iopub.status.busy": "2023-01-18T04:34:03.729741Z",
     "iopub.status.idle": "2023-01-18T04:34:03.748498Z",
     "shell.execute_reply": "2023-01-18T04:34:03.746408Z"
    },
    "papermill": {
     "duration": 0.029945,
     "end_time": "2023-01-18T04:34:03.752035",
     "exception": false,
     "start_time": "2023-01-18T04:34:03.722090",
     "status": "completed"
    },
    "tags": []
   },
   "outputs": [
    {
     "name": "stdout",
     "output_type": "stream",
     "text": [
      "Positive    135780\n",
      "Neutral      68811\n",
      "Negative     44147\n",
      "Name: Sentiment, dtype: int64\n"
     ]
    }
   ],
   "source": [
    "print(df_raw[\"Sentiment\"].value_counts())"
   ]
  },
  {
   "cell_type": "code",
   "execution_count": 18,
   "id": "570e3bef",
   "metadata": {
    "execution": {
     "iopub.execute_input": "2023-01-18T04:34:03.767260Z",
     "iopub.status.busy": "2023-01-18T04:34:03.765848Z",
     "iopub.status.idle": "2023-01-18T04:34:05.291538Z",
     "shell.execute_reply": "2023-01-18T04:34:05.290713Z"
    },
    "papermill": {
     "duration": 1.535893,
     "end_time": "2023-01-18T04:34:05.294211",
     "exception": false,
     "start_time": "2023-01-18T04:34:03.758318",
     "status": "completed"
    },
    "tags": []
   },
   "outputs": [],
   "source": [
    "df_raw.to_csv('twitter_sentiment_analysis_masculinity_saturday_data_annotated.csv')"
   ]
  }
 ],
 "metadata": {
  "kernelspec": {
   "display_name": "Python 3",
   "language": "python",
   "name": "python3"
  },
  "language_info": {
   "codemirror_mode": {
    "name": "ipython",
    "version": 3
   },
   "file_extension": ".py",
   "mimetype": "text/x-python",
   "name": "python",
   "nbconvert_exporter": "python",
   "pygments_lexer": "ipython3",
   "version": "3.7.12"
  },
  "papermill": {
   "default_parameters": {},
   "duration": 318.251707,
   "end_time": "2023-01-18T04:34:06.526104",
   "environment_variables": {},
   "exception": null,
   "input_path": "__notebook__.ipynb",
   "output_path": "__notebook__.ipynb",
   "parameters": {},
   "start_time": "2023-01-18T04:28:48.274397",
   "version": "2.3.4"
  }
 },
 "nbformat": 4,
 "nbformat_minor": 5
}
