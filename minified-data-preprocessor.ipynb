{
 "cells": [
  {
   "cell_type": "code",
   "execution_count": 1,
   "id": "4124550b",
   "metadata": {
    "execution": {
     "iopub.execute_input": "2023-01-18T04:31:32.771896Z",
     "iopub.status.busy": "2023-01-18T04:31:32.771424Z",
     "iopub.status.idle": "2023-01-18T04:31:34.615867Z",
     "shell.execute_reply": "2023-01-18T04:31:34.614801Z"
    },
    "papermill": {
     "duration": 1.855304,
     "end_time": "2023-01-18T04:31:34.618913",
     "exception": false,
     "start_time": "2023-01-18T04:31:32.763609",
     "status": "completed"
    },
    "tags": []
   },
   "outputs": [],
   "source": [
    "import pandas as pd\n",
    "\n",
    "import nltk\n",
    "from nltk.sentiment.vader import SentimentIntensityAnalyzer\n",
    "\n",
    "import os\n",
    "from IPython.display import FileLink"
   ]
  },
  {
   "cell_type": "code",
   "execution_count": 2,
   "id": "30b30298",
   "metadata": {
    "execution": {
     "iopub.execute_input": "2023-01-18T04:31:34.631270Z",
     "iopub.status.busy": "2023-01-18T04:31:34.630855Z",
     "iopub.status.idle": "2023-01-18T04:31:36.551516Z",
     "shell.execute_reply": "2023-01-18T04:31:36.550257Z"
    },
    "papermill": {
     "duration": 1.92962,
     "end_time": "2023-01-18T04:31:36.554156",
     "exception": false,
     "start_time": "2023-01-18T04:31:34.624536",
     "status": "completed"
    },
    "tags": []
   },
   "outputs": [],
   "source": [
    "raw_df = pd.read_csv('/kaggle/input/amerix-data/sentiment_analysis_amerix_1.csv')"
   ]
  },
  {
   "cell_type": "code",
   "execution_count": 3,
   "id": "94719a7f",
   "metadata": {
    "execution": {
     "iopub.execute_input": "2023-01-18T04:31:36.565792Z",
     "iopub.status.busy": "2023-01-18T04:31:36.565368Z",
     "iopub.status.idle": "2023-01-18T04:31:36.579843Z",
     "shell.execute_reply": "2023-01-18T04:31:36.578635Z"
    },
    "papermill": {
     "duration": 0.022852,
     "end_time": "2023-01-18T04:31:36.582248",
     "exception": false,
     "start_time": "2023-01-18T04:31:36.559396",
     "status": "completed"
    },
    "tags": []
   },
   "outputs": [
    {
     "name": "stdout",
     "output_type": "stream",
     "text": [
      "  Unnamed: 0           tweet_created_at  \\\n",
      "0          0  2022-12-30 22:37:46+00:00   \n",
      "1          1  2022-12-30 22:30:58+00:00   \n",
      "2          2  2022-12-30 22:18:00+00:00   \n",
      "3          3  2022-12-30 20:42:54+00:00   \n",
      "4          4  2022-12-30 20:32:23+00:00   \n",
      "\n",
      "                                                text  \n",
      "0  Men who have refused to listen to/attend @amer...  \n",
      "1                       @OvOBrezzzy Take amerix next  \n",
      "2  @AyodeleYo11 @amerix Nah I’m good my masculini...  \n",
      "3  @Amerix_DontSimp There is no need for dating i...  \n",
      "4  @DyeAnna7 @amerix @kibe From what cos nothing ...  \n"
     ]
    }
   ],
   "source": [
    "print(raw_df.head())"
   ]
  },
  {
   "cell_type": "code",
   "execution_count": 4,
   "id": "87004347",
   "metadata": {
    "execution": {
     "iopub.execute_input": "2023-01-18T04:31:36.594829Z",
     "iopub.status.busy": "2023-01-18T04:31:36.593897Z",
     "iopub.status.idle": "2023-01-18T04:31:36.603597Z",
     "shell.execute_reply": "2023-01-18T04:31:36.602518Z"
    },
    "papermill": {
     "duration": 0.018299,
     "end_time": "2023-01-18T04:31:36.605868",
     "exception": false,
     "start_time": "2023-01-18T04:31:36.587569",
     "status": "completed"
    },
    "tags": []
   },
   "outputs": [
    {
     "data": {
      "text/plain": [
       "(248739, 3)"
      ]
     },
     "execution_count": 4,
     "metadata": {},
     "output_type": "execute_result"
    }
   ],
   "source": [
    "raw_df.shape"
   ]
  },
  {
   "cell_type": "code",
   "execution_count": 5,
   "id": "be59f12c",
   "metadata": {
    "execution": {
     "iopub.execute_input": "2023-01-18T04:31:36.618293Z",
     "iopub.status.busy": "2023-01-18T04:31:36.617908Z",
     "iopub.status.idle": "2023-01-18T04:31:37.446039Z",
     "shell.execute_reply": "2023-01-18T04:31:37.444857Z"
    },
    "papermill": {
     "duration": 0.837179,
     "end_time": "2023-01-18T04:31:37.448583",
     "exception": false,
     "start_time": "2023-01-18T04:31:36.611404",
     "status": "completed"
    },
    "tags": []
   },
   "outputs": [
    {
     "data": {
      "text/html": [
       "<div>\n",
       "<style scoped>\n",
       "    .dataframe tbody tr th:only-of-type {\n",
       "        vertical-align: middle;\n",
       "    }\n",
       "\n",
       "    .dataframe tbody tr th {\n",
       "        vertical-align: top;\n",
       "    }\n",
       "\n",
       "    .dataframe thead th {\n",
       "        text-align: right;\n",
       "    }\n",
       "</style>\n",
       "<table border=\"1\" class=\"dataframe\">\n",
       "  <thead>\n",
       "    <tr style=\"text-align: right;\">\n",
       "      <th></th>\n",
       "      <th>count</th>\n",
       "      <th>unique</th>\n",
       "      <th>top</th>\n",
       "      <th>freq</th>\n",
       "    </tr>\n",
       "  </thead>\n",
       "  <tbody>\n",
       "    <tr>\n",
       "      <th>Unnamed: 0</th>\n",
       "      <td>248739</td>\n",
       "      <td>248739</td>\n",
       "      <td>0</td>\n",
       "      <td>1</td>\n",
       "    </tr>\n",
       "    <tr>\n",
       "      <th>tweet_created_at</th>\n",
       "      <td>248738</td>\n",
       "      <td>242124</td>\n",
       "      <td>2022-11-24 19:00:01+00:00</td>\n",
       "      <td>9</td>\n",
       "    </tr>\n",
       "    <tr>\n",
       "      <th>text</th>\n",
       "      <td>248738</td>\n",
       "      <td>236023</td>\n",
       "      <td>@amerix @pikaso_me screenshot this</td>\n",
       "      <td>550</td>\n",
       "    </tr>\n",
       "  </tbody>\n",
       "</table>\n",
       "</div>"
      ],
      "text/plain": [
       "                   count  unique                                 top freq\n",
       "Unnamed: 0        248739  248739                                   0    1\n",
       "tweet_created_at  248738  242124           2022-11-24 19:00:01+00:00    9\n",
       "text              248738  236023  @amerix @pikaso_me screenshot this  550"
      ]
     },
     "execution_count": 5,
     "metadata": {},
     "output_type": "execute_result"
    }
   ],
   "source": [
    "raw_df.describe().T"
   ]
  },
  {
   "cell_type": "code",
   "execution_count": 6,
   "id": "e2da87fb",
   "metadata": {
    "execution": {
     "iopub.execute_input": "2023-01-18T04:31:37.462060Z",
     "iopub.status.busy": "2023-01-18T04:31:37.461669Z",
     "iopub.status.idle": "2023-01-18T04:31:37.468849Z",
     "shell.execute_reply": "2023-01-18T04:31:37.467720Z"
    },
    "papermill": {
     "duration": 0.016672,
     "end_time": "2023-01-18T04:31:37.471328",
     "exception": false,
     "start_time": "2023-01-18T04:31:37.454656",
     "status": "completed"
    },
    "tags": []
   },
   "outputs": [
    {
     "data": {
      "text/plain": [
       "Index(['Unnamed: 0', 'tweet_created_at', 'text'], dtype='object')"
      ]
     },
     "execution_count": 6,
     "metadata": {},
     "output_type": "execute_result"
    }
   ],
   "source": [
    "raw_df.columns"
   ]
  },
  {
   "cell_type": "code",
   "execution_count": 7,
   "id": "98db1016",
   "metadata": {
    "execution": {
     "iopub.execute_input": "2023-01-18T04:31:37.484849Z",
     "iopub.status.busy": "2023-01-18T04:31:37.484392Z",
     "iopub.status.idle": "2023-01-18T04:31:37.500866Z",
     "shell.execute_reply": "2023-01-18T04:31:37.499790Z"
    },
    "papermill": {
     "duration": 0.026129,
     "end_time": "2023-01-18T04:31:37.503198",
     "exception": false,
     "start_time": "2023-01-18T04:31:37.477069",
     "status": "completed"
    },
    "tags": []
   },
   "outputs": [],
   "source": [
    "df_raw = raw_df.drop(columns='Unnamed: 0')"
   ]
  },
  {
   "cell_type": "code",
   "execution_count": 8,
   "id": "ce375022",
   "metadata": {
    "execution": {
     "iopub.execute_input": "2023-01-18T04:31:37.516492Z",
     "iopub.status.busy": "2023-01-18T04:31:37.516033Z",
     "iopub.status.idle": "2023-01-18T04:31:37.524054Z",
     "shell.execute_reply": "2023-01-18T04:31:37.522784Z"
    },
    "papermill": {
     "duration": 0.0176,
     "end_time": "2023-01-18T04:31:37.526698",
     "exception": false,
     "start_time": "2023-01-18T04:31:37.509098",
     "status": "completed"
    },
    "tags": []
   },
   "outputs": [
    {
     "data": {
      "text/plain": [
       "Index(['tweet_created_at', 'text'], dtype='object')"
      ]
     },
     "execution_count": 8,
     "metadata": {},
     "output_type": "execute_result"
    }
   ],
   "source": [
    "df_raw.columns"
   ]
  },
  {
   "cell_type": "code",
   "execution_count": 9,
   "id": "b529e1f8",
   "metadata": {
    "execution": {
     "iopub.execute_input": "2023-01-18T04:31:37.542415Z",
     "iopub.status.busy": "2023-01-18T04:31:37.541996Z",
     "iopub.status.idle": "2023-01-18T04:31:37.638314Z",
     "shell.execute_reply": "2023-01-18T04:31:37.636401Z"
    },
    "papermill": {
     "duration": 0.107681,
     "end_time": "2023-01-18T04:31:37.641925",
     "exception": false,
     "start_time": "2023-01-18T04:31:37.534244",
     "status": "completed"
    },
    "tags": []
   },
   "outputs": [
    {
     "name": "stderr",
     "output_type": "stream",
     "text": [
      "[nltk_data] Downloading package vader_lexicon to\n",
      "[nltk_data]     /usr/share/nltk_data...\n",
      "[nltk_data]   Package vader_lexicon is already up-to-date!\n"
     ]
    },
    {
     "data": {
      "text/plain": [
       "True"
      ]
     },
     "execution_count": 9,
     "metadata": {},
     "output_type": "execute_result"
    }
   ],
   "source": [
    "nltk.download('vader_lexicon')"
   ]
  },
  {
   "cell_type": "code",
   "execution_count": 10,
   "id": "e363dc2a",
   "metadata": {
    "execution": {
     "iopub.execute_input": "2023-01-18T04:31:37.657811Z",
     "iopub.status.busy": "2023-01-18T04:31:37.655524Z",
     "iopub.status.idle": "2023-01-18T04:31:37.735807Z",
     "shell.execute_reply": "2023-01-18T04:31:37.734628Z"
    },
    "papermill": {
     "duration": 0.09053,
     "end_time": "2023-01-18T04:31:37.738520",
     "exception": false,
     "start_time": "2023-01-18T04:31:37.647990",
     "status": "completed"
    },
    "tags": []
   },
   "outputs": [],
   "source": [
    "df_raw = df_raw.dropna()"
   ]
  },
  {
   "cell_type": "code",
   "execution_count": 11,
   "id": "57efa168",
   "metadata": {
    "execution": {
     "iopub.execute_input": "2023-01-18T04:31:37.752053Z",
     "iopub.status.busy": "2023-01-18T04:31:37.751651Z",
     "iopub.status.idle": "2023-01-18T04:31:37.759684Z",
     "shell.execute_reply": "2023-01-18T04:31:37.758418Z"
    },
    "papermill": {
     "duration": 0.01761,
     "end_time": "2023-01-18T04:31:37.762146",
     "exception": false,
     "start_time": "2023-01-18T04:31:37.744536",
     "status": "completed"
    },
    "tags": []
   },
   "outputs": [
    {
     "data": {
      "text/plain": [
       "(248738, 2)"
      ]
     },
     "execution_count": 11,
     "metadata": {},
     "output_type": "execute_result"
    }
   ],
   "source": [
    "df_raw.shape"
   ]
  },
  {
   "cell_type": "code",
   "execution_count": 12,
   "id": "9207ef7d",
   "metadata": {
    "execution": {
     "iopub.execute_input": "2023-01-18T04:31:37.777104Z",
     "iopub.status.busy": "2023-01-18T04:31:37.776702Z",
     "iopub.status.idle": "2023-01-18T04:38:02.046824Z",
     "shell.execute_reply": "2023-01-18T04:38:02.044948Z"
    },
    "papermill": {
     "duration": 384.282313,
     "end_time": "2023-01-18T04:38:02.050628",
     "exception": false,
     "start_time": "2023-01-18T04:31:37.768315",
     "status": "completed"
    },
    "tags": []
   },
   "outputs": [],
   "source": [
    "sentiments = SentimentIntensityAnalyzer()\n",
    "\n",
    "df_raw[\"Positive\"] = [sentiments.polarity_scores(i)[\"pos\"] for i in df_raw[\"text\"]]\n",
    "df_raw[\"Negative\"] = [sentiments.polarity_scores(i)[\"neg\"] for i in df_raw[\"text\"]]\n",
    "df_raw[\"Neutral\"] = [sentiments.polarity_scores(i)[\"neu\"] for i in df_raw[\"text\"]]\n",
    "df_raw['Compound'] = [sentiments.polarity_scores(i)[\"compound\"] for i in df_raw[\"text\"]]"
   ]
  },
  {
   "cell_type": "code",
   "execution_count": 13,
   "id": "f3353c50",
   "metadata": {
    "execution": {
     "iopub.execute_input": "2023-01-18T04:38:02.069225Z",
     "iopub.status.busy": "2023-01-18T04:38:02.067846Z",
     "iopub.status.idle": "2023-01-18T04:38:02.089815Z",
     "shell.execute_reply": "2023-01-18T04:38:02.087510Z"
    },
    "papermill": {
     "duration": 0.036075,
     "end_time": "2023-01-18T04:38:02.094728",
     "exception": false,
     "start_time": "2023-01-18T04:38:02.058653",
     "status": "completed"
    },
    "tags": []
   },
   "outputs": [
    {
     "name": "stdout",
     "output_type": "stream",
     "text": [
      "            tweet_created_at  \\\n",
      "0  2022-12-30 22:37:46+00:00   \n",
      "1  2022-12-30 22:30:58+00:00   \n",
      "2  2022-12-30 22:18:00+00:00   \n",
      "3  2022-12-30 20:42:54+00:00   \n",
      "4  2022-12-30 20:32:23+00:00   \n",
      "5  2022-12-30 20:25:56+00:00   \n",
      "6  2022-12-30 20:22:24+00:00   \n",
      "7  2022-12-30 20:10:49+00:00   \n",
      "8  2022-12-30 19:36:49+00:00   \n",
      "9  2022-12-30 19:30:58+00:00   \n",
      "\n",
      "                                                text  Positive  Negative  \\\n",
      "0  Men who have refused to listen to/attend @amer...     0.000     0.073   \n",
      "1                       @OvOBrezzzy Take amerix next     0.000     0.000   \n",
      "2  @AyodeleYo11 @amerix Nah I’m good my masculini...     0.493     0.068   \n",
      "3  @Amerix_DontSimp There is no need for dating i...     0.000     0.180   \n",
      "4  @DyeAnna7 @amerix @kibe From what cos nothing ...     0.110     0.000   \n",
      "5  @salim_the_don @MwendiaJnr I see you unblocked...     0.000     0.152   \n",
      "6  @german_kenyan @ML_Philosophy 🤣 yes they are a...     0.038     0.102   \n",
      "7  @PadreMusa Amerix once said the alcohol menace...     0.000     0.066   \n",
      "8  @DodoPicard You're in Eastafrica, he probably ...     0.000     0.000   \n",
      "9                   @HBK_ACTIVIST @amerix @kibe Heal     0.000     0.000   \n",
      "\n",
      "   Neutral  Compound  \n",
      "0    0.927   -0.2960  \n",
      "1    1.000    0.0000  \n",
      "2    0.439    0.8271  \n",
      "3    0.820   -0.2960  \n",
      "4    0.890    0.6908  \n",
      "5    0.848   -0.7732  \n",
      "6    0.860   -0.2824  \n",
      "7    0.934   -0.4939  \n",
      "8    1.000    0.0000  \n",
      "9    1.000    0.0000  \n"
     ]
    }
   ],
   "source": [
    "print(df_raw.head(10))"
   ]
  },
  {
   "cell_type": "code",
   "execution_count": 14,
   "id": "cc51ec01",
   "metadata": {
    "execution": {
     "iopub.execute_input": "2023-01-18T04:38:02.113951Z",
     "iopub.status.busy": "2023-01-18T04:38:02.112566Z",
     "iopub.status.idle": "2023-01-18T04:38:02.127927Z",
     "shell.execute_reply": "2023-01-18T04:38:02.125748Z"
    },
    "papermill": {
     "duration": 0.028673,
     "end_time": "2023-01-18T04:38:02.132378",
     "exception": false,
     "start_time": "2023-01-18T04:38:02.103705",
     "status": "completed"
    },
    "tags": []
   },
   "outputs": [
    {
     "data": {
      "text/plain": [
       "Index(['tweet_created_at', 'text', 'Positive', 'Negative', 'Neutral',\n",
       "       'Compound'],\n",
       "      dtype='object')"
      ]
     },
     "execution_count": 14,
     "metadata": {},
     "output_type": "execute_result"
    }
   ],
   "source": [
    "df_raw.columns"
   ]
  },
  {
   "cell_type": "code",
   "execution_count": 15,
   "id": "ad0f659b",
   "metadata": {
    "execution": {
     "iopub.execute_input": "2023-01-18T04:38:02.152137Z",
     "iopub.status.busy": "2023-01-18T04:38:02.151592Z",
     "iopub.status.idle": "2023-01-18T04:38:02.262504Z",
     "shell.execute_reply": "2023-01-18T04:38:02.259646Z"
    },
    "papermill": {
     "duration": 0.12504,
     "end_time": "2023-01-18T04:38:02.265975",
     "exception": false,
     "start_time": "2023-01-18T04:38:02.140935",
     "status": "completed"
    },
    "tags": []
   },
   "outputs": [],
   "source": [
    "score = df_raw[\"Compound\"].values\n",
    "sentiment = []\n",
    "for i in score:\n",
    "    if i >= 0.05 :\n",
    "        sentiment.append('Positive')\n",
    "    elif i <= -0.05 :\n",
    "        sentiment.append('Negative')\n",
    "    else:\n",
    "        sentiment.append('Neutral')\n",
    "df_raw[\"Sentiment\"] = sentiment"
   ]
  },
  {
   "cell_type": "code",
   "execution_count": 16,
   "id": "a2a237e2",
   "metadata": {
    "execution": {
     "iopub.execute_input": "2023-01-18T04:38:02.283879Z",
     "iopub.status.busy": "2023-01-18T04:38:02.283229Z",
     "iopub.status.idle": "2023-01-18T04:38:02.294823Z",
     "shell.execute_reply": "2023-01-18T04:38:02.292769Z"
    },
    "papermill": {
     "duration": 0.024987,
     "end_time": "2023-01-18T04:38:02.299395",
     "exception": false,
     "start_time": "2023-01-18T04:38:02.274408",
     "status": "completed"
    },
    "tags": []
   },
   "outputs": [
    {
     "data": {
      "text/plain": [
       "Index(['tweet_created_at', 'text', 'Positive', 'Negative', 'Neutral',\n",
       "       'Compound', 'Sentiment'],\n",
       "      dtype='object')"
      ]
     },
     "execution_count": 16,
     "metadata": {},
     "output_type": "execute_result"
    }
   ],
   "source": [
    "df_raw.columns"
   ]
  },
  {
   "cell_type": "code",
   "execution_count": 17,
   "id": "c102d45e",
   "metadata": {
    "execution": {
     "iopub.execute_input": "2023-01-18T04:38:02.315818Z",
     "iopub.status.busy": "2023-01-18T04:38:02.315325Z",
     "iopub.status.idle": "2023-01-18T04:38:02.336142Z",
     "shell.execute_reply": "2023-01-18T04:38:02.334898Z"
    },
    "papermill": {
     "duration": 0.032754,
     "end_time": "2023-01-18T04:38:02.338912",
     "exception": false,
     "start_time": "2023-01-18T04:38:02.306158",
     "status": "completed"
    },
    "tags": []
   },
   "outputs": [
    {
     "name": "stdout",
     "output_type": "stream",
     "text": [
      "Positive    135780\n",
      "Neutral      68811\n",
      "Negative     44147\n",
      "Name: Sentiment, dtype: int64\n"
     ]
    }
   ],
   "source": [
    "print(df_raw[\"Sentiment\"].value_counts())"
   ]
  },
  {
   "cell_type": "code",
   "execution_count": 18,
   "id": "e13c369d",
   "metadata": {
    "execution": {
     "iopub.execute_input": "2023-01-18T04:38:02.357743Z",
     "iopub.status.busy": "2023-01-18T04:38:02.356993Z",
     "iopub.status.idle": "2023-01-18T04:38:04.932288Z",
     "shell.execute_reply": "2023-01-18T04:38:04.930395Z"
    },
    "papermill": {
     "duration": 2.588859,
     "end_time": "2023-01-18T04:38:04.935758",
     "exception": false,
     "start_time": "2023-01-18T04:38:02.346899",
     "status": "completed"
    },
    "tags": []
   },
   "outputs": [],
   "source": [
    "df_raw.to_csv('twitter_sentiment_analysis_masculinity_saturday_data_annotated.csv')"
   ]
  },
  {
   "cell_type": "code",
   "execution_count": 19,
   "id": "5ae94eca",
   "metadata": {
    "execution": {
     "iopub.execute_input": "2023-01-18T04:38:04.954153Z",
     "iopub.status.busy": "2023-01-18T04:38:04.953314Z",
     "iopub.status.idle": "2023-01-18T04:38:06.150211Z",
     "shell.execute_reply": "2023-01-18T04:38:06.147805Z"
    },
    "papermill": {
     "duration": 1.211636,
     "end_time": "2023-01-18T04:38:06.155421",
     "exception": false,
     "start_time": "2023-01-18T04:38:04.943785",
     "status": "completed"
    },
    "tags": []
   },
   "outputs": [
    {
     "name": "stdout",
     "output_type": "stream",
     "text": [
      "tar: kaggle/working: Cannot stat: No such file or directory\r\n",
      "tar: Exiting with failure status due to previous errors\r\n"
     ]
    },
    {
     "data": {
      "text/html": [
       "Path (<tt>twitter_sentiment_analysis_amerix.tar.gz</tt>) doesn't exist. It may still be in the process of being generated, or you may have the incorrect path."
      ],
      "text/plain": [
       "/kaggle/working/twitter_sentiment_analysis_amerix.tar.gz"
      ]
     },
     "execution_count": 19,
     "metadata": {},
     "output_type": "execute_result"
    }
   ],
   "source": [
    "os.chdir(r'/kaggle/working')\n",
    "\n",
    "!tar -czf sentiment_analysis_twitter_amerix.tar.gz kaggle/working\n",
    "\n",
    "FileLink(r'twitter_sentiment_analysis_amerix.tar.gz')"
   ]
  }
 ],
 "metadata": {
  "kernelspec": {
   "display_name": "Python 3",
   "language": "python",
   "name": "python3"
  },
  "language_info": {
   "codemirror_mode": {
    "name": "ipython",
    "version": 3
   },
   "file_extension": ".py",
   "mimetype": "text/x-python",
   "name": "python",
   "nbconvert_exporter": "python",
   "pygments_lexer": "ipython3",
   "version": "3.7.12"
  },
  "papermill": {
   "default_parameters": {},
   "duration": 403.950736,
   "end_time": "2023-01-18T04:38:07.707714",
   "environment_variables": {},
   "exception": null,
   "input_path": "__notebook__.ipynb",
   "output_path": "__notebook__.ipynb",
   "parameters": {},
   "start_time": "2023-01-18T04:31:23.756978",
   "version": "2.3.4"
  }
 },
 "nbformat": 4,
 "nbformat_minor": 5
}
