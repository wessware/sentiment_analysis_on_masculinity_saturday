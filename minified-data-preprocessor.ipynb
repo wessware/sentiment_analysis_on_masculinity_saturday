{
 "cells": [
  {
   "cell_type": "code",
   "execution_count": 1,
   "id": "22687971",
   "metadata": {
    "execution": {
     "iopub.execute_input": "2023-01-18T04:27:56.034422Z",
     "iopub.status.busy": "2023-01-18T04:27:56.033920Z",
     "iopub.status.idle": "2023-01-18T04:27:57.724645Z",
     "shell.execute_reply": "2023-01-18T04:27:57.723237Z"
    },
    "papermill": {
     "duration": 1.702482,
     "end_time": "2023-01-18T04:27:57.728313",
     "exception": false,
     "start_time": "2023-01-18T04:27:56.025831",
     "status": "completed"
    },
    "tags": []
   },
   "outputs": [],
   "source": [
    "import pandas as pd\n",
    "import nltk\n",
    "from nltk.sentiment.vader import SentimentIntensityAnalyzer"
   ]
  },
  {
   "cell_type": "code",
   "execution_count": 2,
   "id": "c5013529",
   "metadata": {
    "execution": {
     "iopub.execute_input": "2023-01-18T04:27:57.740398Z",
     "iopub.status.busy": "2023-01-18T04:27:57.739895Z",
     "iopub.status.idle": "2023-01-18T04:27:59.867719Z",
     "shell.execute_reply": "2023-01-18T04:27:59.866434Z"
    },
    "papermill": {
     "duration": 2.137095,
     "end_time": "2023-01-18T04:27:59.870759",
     "exception": false,
     "start_time": "2023-01-18T04:27:57.733664",
     "status": "completed"
    },
    "tags": []
   },
   "outputs": [],
   "source": [
    "raw_df = pd.read_csv('/kaggle/input/amerix-data/sentiment_analysis_amerix_1.csv')"
   ]
  },
  {
   "cell_type": "code",
   "execution_count": 3,
   "id": "16b5f1cc",
   "metadata": {
    "execution": {
     "iopub.execute_input": "2023-01-18T04:27:59.883517Z",
     "iopub.status.busy": "2023-01-18T04:27:59.882256Z",
     "iopub.status.idle": "2023-01-18T04:27:59.898476Z",
     "shell.execute_reply": "2023-01-18T04:27:59.897404Z"
    },
    "papermill": {
     "duration": 0.026259,
     "end_time": "2023-01-18T04:27:59.901998",
     "exception": false,
     "start_time": "2023-01-18T04:27:59.875739",
     "status": "completed"
    },
    "tags": []
   },
   "outputs": [
    {
     "name": "stdout",
     "output_type": "stream",
     "text": [
      "  Unnamed: 0           tweet_created_at  \\\n",
      "0          0  2022-12-30 22:37:46+00:00   \n",
      "1          1  2022-12-30 22:30:58+00:00   \n",
      "2          2  2022-12-30 22:18:00+00:00   \n",
      "3          3  2022-12-30 20:42:54+00:00   \n",
      "4          4  2022-12-30 20:32:23+00:00   \n",
      "\n",
      "                                                text  \n",
      "0  Men who have refused to listen to/attend @amer...  \n",
      "1                       @OvOBrezzzy Take amerix next  \n",
      "2  @AyodeleYo11 @amerix Nah I’m good my masculini...  \n",
      "3  @Amerix_DontSimp There is no need for dating i...  \n",
      "4  @DyeAnna7 @amerix @kibe From what cos nothing ...  \n"
     ]
    }
   ],
   "source": [
    "print(raw_df.head())"
   ]
  },
  {
   "cell_type": "code",
   "execution_count": 4,
   "id": "51284fb5",
   "metadata": {
    "execution": {
     "iopub.execute_input": "2023-01-18T04:27:59.915073Z",
     "iopub.status.busy": "2023-01-18T04:27:59.914096Z",
     "iopub.status.idle": "2023-01-18T04:27:59.925104Z",
     "shell.execute_reply": "2023-01-18T04:27:59.923842Z"
    },
    "papermill": {
     "duration": 0.020886,
     "end_time": "2023-01-18T04:27:59.928051",
     "exception": false,
     "start_time": "2023-01-18T04:27:59.907165",
     "status": "completed"
    },
    "tags": []
   },
   "outputs": [
    {
     "data": {
      "text/plain": [
       "(248739, 3)"
      ]
     },
     "execution_count": 4,
     "metadata": {},
     "output_type": "execute_result"
    }
   ],
   "source": [
    "raw_df.shape"
   ]
  },
  {
   "cell_type": "code",
   "execution_count": 5,
   "id": "c0ee0e6f",
   "metadata": {
    "execution": {
     "iopub.execute_input": "2023-01-18T04:27:59.941747Z",
     "iopub.status.busy": "2023-01-18T04:27:59.940225Z",
     "iopub.status.idle": "2023-01-18T04:28:00.861721Z",
     "shell.execute_reply": "2023-01-18T04:28:00.860061Z"
    },
    "papermill": {
     "duration": 0.931335,
     "end_time": "2023-01-18T04:28:00.864753",
     "exception": false,
     "start_time": "2023-01-18T04:27:59.933418",
     "status": "completed"
    },
    "tags": []
   },
   "outputs": [
    {
     "data": {
      "text/html": [
       "<div>\n",
       "<style scoped>\n",
       "    .dataframe tbody tr th:only-of-type {\n",
       "        vertical-align: middle;\n",
       "    }\n",
       "\n",
       "    .dataframe tbody tr th {\n",
       "        vertical-align: top;\n",
       "    }\n",
       "\n",
       "    .dataframe thead th {\n",
       "        text-align: right;\n",
       "    }\n",
       "</style>\n",
       "<table border=\"1\" class=\"dataframe\">\n",
       "  <thead>\n",
       "    <tr style=\"text-align: right;\">\n",
       "      <th></th>\n",
       "      <th>count</th>\n",
       "      <th>unique</th>\n",
       "      <th>top</th>\n",
       "      <th>freq</th>\n",
       "    </tr>\n",
       "  </thead>\n",
       "  <tbody>\n",
       "    <tr>\n",
       "      <th>Unnamed: 0</th>\n",
       "      <td>248739</td>\n",
       "      <td>248739</td>\n",
       "      <td>0</td>\n",
       "      <td>1</td>\n",
       "    </tr>\n",
       "    <tr>\n",
       "      <th>tweet_created_at</th>\n",
       "      <td>248738</td>\n",
       "      <td>242124</td>\n",
       "      <td>2022-11-24 19:00:01+00:00</td>\n",
       "      <td>9</td>\n",
       "    </tr>\n",
       "    <tr>\n",
       "      <th>text</th>\n",
       "      <td>248738</td>\n",
       "      <td>236023</td>\n",
       "      <td>@amerix @pikaso_me screenshot this</td>\n",
       "      <td>550</td>\n",
       "    </tr>\n",
       "  </tbody>\n",
       "</table>\n",
       "</div>"
      ],
      "text/plain": [
       "                   count  unique                                 top freq\n",
       "Unnamed: 0        248739  248739                                   0    1\n",
       "tweet_created_at  248738  242124           2022-11-24 19:00:01+00:00    9\n",
       "text              248738  236023  @amerix @pikaso_me screenshot this  550"
      ]
     },
     "execution_count": 5,
     "metadata": {},
     "output_type": "execute_result"
    }
   ],
   "source": [
    "raw_df.describe().T"
   ]
  },
  {
   "cell_type": "code",
   "execution_count": 6,
   "id": "7963b59e",
   "metadata": {
    "execution": {
     "iopub.execute_input": "2023-01-18T04:28:00.879395Z",
     "iopub.status.busy": "2023-01-18T04:28:00.878811Z",
     "iopub.status.idle": "2023-01-18T04:28:00.888243Z",
     "shell.execute_reply": "2023-01-18T04:28:00.886603Z"
    },
    "papermill": {
     "duration": 0.020117,
     "end_time": "2023-01-18T04:28:00.891028",
     "exception": false,
     "start_time": "2023-01-18T04:28:00.870911",
     "status": "completed"
    },
    "tags": []
   },
   "outputs": [
    {
     "data": {
      "text/plain": [
       "Index(['Unnamed: 0', 'tweet_created_at', 'text'], dtype='object')"
      ]
     },
     "execution_count": 6,
     "metadata": {},
     "output_type": "execute_result"
    }
   ],
   "source": [
    "raw_df.columns"
   ]
  },
  {
   "cell_type": "code",
   "execution_count": 7,
   "id": "8ef7bd2e",
   "metadata": {
    "execution": {
     "iopub.execute_input": "2023-01-18T04:28:00.906741Z",
     "iopub.status.busy": "2023-01-18T04:28:00.906285Z",
     "iopub.status.idle": "2023-01-18T04:28:00.923293Z",
     "shell.execute_reply": "2023-01-18T04:28:00.922010Z"
    },
    "papermill": {
     "duration": 0.029798,
     "end_time": "2023-01-18T04:28:00.926627",
     "exception": false,
     "start_time": "2023-01-18T04:28:00.896829",
     "status": "completed"
    },
    "tags": []
   },
   "outputs": [],
   "source": [
    "df_raw = raw_df.drop(columns='Unnamed: 0')"
   ]
  },
  {
   "cell_type": "code",
   "execution_count": 8,
   "id": "ed3251b5",
   "metadata": {
    "execution": {
     "iopub.execute_input": "2023-01-18T04:28:00.942140Z",
     "iopub.status.busy": "2023-01-18T04:28:00.941653Z",
     "iopub.status.idle": "2023-01-18T04:28:00.951908Z",
     "shell.execute_reply": "2023-01-18T04:28:00.950090Z"
    },
    "papermill": {
     "duration": 0.023126,
     "end_time": "2023-01-18T04:28:00.955811",
     "exception": false,
     "start_time": "2023-01-18T04:28:00.932685",
     "status": "completed"
    },
    "tags": []
   },
   "outputs": [
    {
     "data": {
      "text/plain": [
       "Index(['tweet_created_at', 'text'], dtype='object')"
      ]
     },
     "execution_count": 8,
     "metadata": {},
     "output_type": "execute_result"
    }
   ],
   "source": [
    "df_raw.columns"
   ]
  },
  {
   "cell_type": "code",
   "execution_count": 9,
   "id": "3f22898a",
   "metadata": {
    "execution": {
     "iopub.execute_input": "2023-01-18T04:28:00.970274Z",
     "iopub.status.busy": "2023-01-18T04:28:00.969821Z",
     "iopub.status.idle": "2023-01-18T04:28:01.273095Z",
     "shell.execute_reply": "2023-01-18T04:28:01.271313Z"
    },
    "papermill": {
     "duration": 0.313546,
     "end_time": "2023-01-18T04:28:01.275886",
     "exception": false,
     "start_time": "2023-01-18T04:28:00.962340",
     "status": "completed"
    },
    "tags": []
   },
   "outputs": [
    {
     "name": "stderr",
     "output_type": "stream",
     "text": [
      "[nltk_data] Downloading package vader_lexicon to\n",
      "[nltk_data]     /usr/share/nltk_data...\n",
      "[nltk_data]   Package vader_lexicon is already up-to-date!\n"
     ]
    },
    {
     "data": {
      "text/plain": [
       "True"
      ]
     },
     "execution_count": 9,
     "metadata": {},
     "output_type": "execute_result"
    }
   ],
   "source": [
    "nltk.download('vader_lexicon')"
   ]
  },
  {
   "cell_type": "code",
   "execution_count": 10,
   "id": "f6160f23",
   "metadata": {
    "execution": {
     "iopub.execute_input": "2023-01-18T04:28:01.291342Z",
     "iopub.status.busy": "2023-01-18T04:28:01.290710Z",
     "iopub.status.idle": "2023-01-18T04:28:01.371100Z",
     "shell.execute_reply": "2023-01-18T04:28:01.369797Z"
    },
    "papermill": {
     "duration": 0.092432,
     "end_time": "2023-01-18T04:28:01.374773",
     "exception": false,
     "start_time": "2023-01-18T04:28:01.282341",
     "status": "completed"
    },
    "tags": []
   },
   "outputs": [],
   "source": [
    "df_raw = df_raw.dropna()"
   ]
  },
  {
   "cell_type": "code",
   "execution_count": 11,
   "id": "71d3ac83",
   "metadata": {
    "execution": {
     "iopub.execute_input": "2023-01-18T04:28:01.392540Z",
     "iopub.status.busy": "2023-01-18T04:28:01.392087Z",
     "iopub.status.idle": "2023-01-18T04:28:01.399085Z",
     "shell.execute_reply": "2023-01-18T04:28:01.397922Z"
    },
    "papermill": {
     "duration": 0.020402,
     "end_time": "2023-01-18T04:28:01.401680",
     "exception": false,
     "start_time": "2023-01-18T04:28:01.381278",
     "status": "completed"
    },
    "tags": []
   },
   "outputs": [
    {
     "data": {
      "text/plain": [
       "(248738, 2)"
      ]
     },
     "execution_count": 11,
     "metadata": {},
     "output_type": "execute_result"
    }
   ],
   "source": [
    "df_raw.shape"
   ]
  },
  {
   "cell_type": "code",
   "execution_count": 12,
   "id": "70213834",
   "metadata": {
    "execution": {
     "iopub.execute_input": "2023-01-18T04:28:01.416821Z",
     "iopub.status.busy": "2023-01-18T04:28:01.415935Z",
     "iopub.status.idle": "2023-01-18T04:33:57.091452Z",
     "shell.execute_reply": "2023-01-18T04:33:57.089804Z"
    },
    "papermill": {
     "duration": 355.686271,
     "end_time": "2023-01-18T04:33:57.095197",
     "exception": false,
     "start_time": "2023-01-18T04:28:01.408926",
     "status": "completed"
    },
    "tags": []
   },
   "outputs": [],
   "source": [
    "sentiments = SentimentIntensityAnalyzer()\n",
    "\n",
    "df_raw[\"Positive\"] = [sentiments.polarity_scores(i)[\"pos\"] for i in df_raw[\"text\"]]\n",
    "df_raw[\"Negative\"] = [sentiments.polarity_scores(i)[\"neg\"] for i in df_raw[\"text\"]]\n",
    "df_raw[\"Neutral\"] = [sentiments.polarity_scores(i)[\"neu\"] for i in df_raw[\"text\"]]\n",
    "df_raw['Compound'] = [sentiments.polarity_scores(i)[\"compound\"] for i in df_raw[\"text\"]]"
   ]
  },
  {
   "cell_type": "code",
   "execution_count": 13,
   "id": "859b895d",
   "metadata": {
    "execution": {
     "iopub.execute_input": "2023-01-18T04:33:57.109441Z",
     "iopub.status.busy": "2023-01-18T04:33:57.108927Z",
     "iopub.status.idle": "2023-01-18T04:33:57.121499Z",
     "shell.execute_reply": "2023-01-18T04:33:57.120132Z"
    },
    "papermill": {
     "duration": 0.023734,
     "end_time": "2023-01-18T04:33:57.124998",
     "exception": false,
     "start_time": "2023-01-18T04:33:57.101264",
     "status": "completed"
    },
    "tags": []
   },
   "outputs": [
    {
     "name": "stdout",
     "output_type": "stream",
     "text": [
      "            tweet_created_at  \\\n",
      "0  2022-12-30 22:37:46+00:00   \n",
      "1  2022-12-30 22:30:58+00:00   \n",
      "2  2022-12-30 22:18:00+00:00   \n",
      "3  2022-12-30 20:42:54+00:00   \n",
      "4  2022-12-30 20:32:23+00:00   \n",
      "5  2022-12-30 20:25:56+00:00   \n",
      "6  2022-12-30 20:22:24+00:00   \n",
      "7  2022-12-30 20:10:49+00:00   \n",
      "8  2022-12-30 19:36:49+00:00   \n",
      "9  2022-12-30 19:30:58+00:00   \n",
      "\n",
      "                                                text  Positive  Negative  \\\n",
      "0  Men who have refused to listen to/attend @amer...     0.000     0.073   \n",
      "1                       @OvOBrezzzy Take amerix next     0.000     0.000   \n",
      "2  @AyodeleYo11 @amerix Nah I’m good my masculini...     0.493     0.068   \n",
      "3  @Amerix_DontSimp There is no need for dating i...     0.000     0.180   \n",
      "4  @DyeAnna7 @amerix @kibe From what cos nothing ...     0.110     0.000   \n",
      "5  @salim_the_don @MwendiaJnr I see you unblocked...     0.000     0.152   \n",
      "6  @german_kenyan @ML_Philosophy 🤣 yes they are a...     0.038     0.102   \n",
      "7  @PadreMusa Amerix once said the alcohol menace...     0.000     0.066   \n",
      "8  @DodoPicard You're in Eastafrica, he probably ...     0.000     0.000   \n",
      "9                   @HBK_ACTIVIST @amerix @kibe Heal     0.000     0.000   \n",
      "\n",
      "   Neutral  Compound  \n",
      "0    0.927   -0.2960  \n",
      "1    1.000    0.0000  \n",
      "2    0.439    0.8271  \n",
      "3    0.820   -0.2960  \n",
      "4    0.890    0.6908  \n",
      "5    0.848   -0.7732  \n",
      "6    0.860   -0.2824  \n",
      "7    0.934   -0.4939  \n",
      "8    1.000    0.0000  \n",
      "9    1.000    0.0000  \n"
     ]
    }
   ],
   "source": [
    "print(df_raw.head(10))"
   ]
  },
  {
   "cell_type": "code",
   "execution_count": 14,
   "id": "906bf1d9",
   "metadata": {
    "execution": {
     "iopub.execute_input": "2023-01-18T04:33:57.139413Z",
     "iopub.status.busy": "2023-01-18T04:33:57.138683Z",
     "iopub.status.idle": "2023-01-18T04:33:57.148388Z",
     "shell.execute_reply": "2023-01-18T04:33:57.146973Z"
    },
    "papermill": {
     "duration": 0.019951,
     "end_time": "2023-01-18T04:33:57.151039",
     "exception": false,
     "start_time": "2023-01-18T04:33:57.131088",
     "status": "completed"
    },
    "tags": []
   },
   "outputs": [
    {
     "data": {
      "text/plain": [
       "Index(['tweet_created_at', 'text', 'Positive', 'Negative', 'Neutral',\n",
       "       'Compound'],\n",
       "      dtype='object')"
      ]
     },
     "execution_count": 14,
     "metadata": {},
     "output_type": "execute_result"
    }
   ],
   "source": [
    "df_raw.columns"
   ]
  },
  {
   "cell_type": "code",
   "execution_count": 15,
   "id": "1a8125e1",
   "metadata": {
    "execution": {
     "iopub.execute_input": "2023-01-18T04:33:57.166366Z",
     "iopub.status.busy": "2023-01-18T04:33:57.165619Z",
     "iopub.status.idle": "2023-01-18T04:33:57.253946Z",
     "shell.execute_reply": "2023-01-18T04:33:57.252856Z"
    },
    "papermill": {
     "duration": 0.099098,
     "end_time": "2023-01-18T04:33:57.256756",
     "exception": false,
     "start_time": "2023-01-18T04:33:57.157658",
     "status": "completed"
    },
    "tags": []
   },
   "outputs": [],
   "source": [
    "score = df_raw[\"Compound\"].values\n",
    "sentiment = []\n",
    "for i in score:\n",
    "    if i >= 0.05 :\n",
    "        sentiment.append('Positive')\n",
    "    elif i <= -0.05 :\n",
    "        sentiment.append('Negative')\n",
    "    else:\n",
    "        sentiment.append('Neutral')\n",
    "df_raw[\"Sentiment\"] = sentiment"
   ]
  },
  {
   "cell_type": "code",
   "execution_count": 16,
   "id": "49b12bf5",
   "metadata": {
    "execution": {
     "iopub.execute_input": "2023-01-18T04:33:57.271056Z",
     "iopub.status.busy": "2023-01-18T04:33:57.270397Z",
     "iopub.status.idle": "2023-01-18T04:33:57.277975Z",
     "shell.execute_reply": "2023-01-18T04:33:57.276582Z"
    },
    "papermill": {
     "duration": 0.017837,
     "end_time": "2023-01-18T04:33:57.280668",
     "exception": false,
     "start_time": "2023-01-18T04:33:57.262831",
     "status": "completed"
    },
    "tags": []
   },
   "outputs": [
    {
     "data": {
      "text/plain": [
       "Index(['tweet_created_at', 'text', 'Positive', 'Negative', 'Neutral',\n",
       "       'Compound', 'Sentiment'],\n",
       "      dtype='object')"
      ]
     },
     "execution_count": 16,
     "metadata": {},
     "output_type": "execute_result"
    }
   ],
   "source": [
    "df_raw.columns"
   ]
  },
  {
   "cell_type": "code",
   "execution_count": 17,
   "id": "f3d44fdf",
   "metadata": {
    "execution": {
     "iopub.execute_input": "2023-01-18T04:33:57.295627Z",
     "iopub.status.busy": "2023-01-18T04:33:57.294427Z",
     "iopub.status.idle": "2023-01-18T04:33:57.315004Z",
     "shell.execute_reply": "2023-01-18T04:33:57.313028Z"
    },
    "papermill": {
     "duration": 0.03136,
     "end_time": "2023-01-18T04:33:57.318205",
     "exception": false,
     "start_time": "2023-01-18T04:33:57.286845",
     "status": "completed"
    },
    "tags": []
   },
   "outputs": [
    {
     "name": "stdout",
     "output_type": "stream",
     "text": [
      "Positive    135780\n",
      "Neutral      68811\n",
      "Negative     44147\n",
      "Name: Sentiment, dtype: int64\n"
     ]
    }
   ],
   "source": [
    "print(df_raw[\"Sentiment\"].value_counts())"
   ]
  }
 ],
 "metadata": {
  "kernelspec": {
   "display_name": "Python 3",
   "language": "python",
   "name": "python3"
  },
  "language_info": {
   "codemirror_mode": {
    "name": "ipython",
    "version": 3
   },
   "file_extension": ".py",
   "mimetype": "text/x-python",
   "name": "python",
   "nbconvert_exporter": "python",
   "pygments_lexer": "ipython3",
   "version": "3.7.12"
  },
  "papermill": {
   "default_parameters": {},
   "duration": 373.510379,
   "end_time": "2023-01-18T04:33:58.349859",
   "environment_variables": {},
   "exception": null,
   "input_path": "__notebook__.ipynb",
   "output_path": "__notebook__.ipynb",
   "parameters": {},
   "start_time": "2023-01-18T04:27:44.839480",
   "version": "2.3.4"
  }
 },
 "nbformat": 4,
 "nbformat_minor": 5
}
