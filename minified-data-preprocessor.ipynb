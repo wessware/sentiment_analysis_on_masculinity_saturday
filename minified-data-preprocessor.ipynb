{
 "cells": [
  {
   "cell_type": "code",
   "execution_count": 1,
   "id": "ab48a1b0",
   "metadata": {
    "execution": {
     "iopub.execute_input": "2023-01-18T04:23:55.623403Z",
     "iopub.status.busy": "2023-01-18T04:23:55.622824Z",
     "iopub.status.idle": "2023-01-18T04:23:57.360983Z",
     "shell.execute_reply": "2023-01-18T04:23:57.359671Z"
    },
    "papermill": {
     "duration": 1.747078,
     "end_time": "2023-01-18T04:23:57.363543",
     "exception": false,
     "start_time": "2023-01-18T04:23:55.616465",
     "status": "completed"
    },
    "tags": []
   },
   "outputs": [],
   "source": [
    "import pandas as pd\n",
    "import nltk\n",
    "from nltk.sentiment.vader import SentimentIntensityAnalyzer"
   ]
  },
  {
   "cell_type": "code",
   "execution_count": 2,
   "id": "bc3908f9",
   "metadata": {
    "execution": {
     "iopub.execute_input": "2023-01-18T04:23:57.372287Z",
     "iopub.status.busy": "2023-01-18T04:23:57.371853Z",
     "iopub.status.idle": "2023-01-18T04:23:59.011917Z",
     "shell.execute_reply": "2023-01-18T04:23:59.010826Z"
    },
    "papermill": {
     "duration": 1.647306,
     "end_time": "2023-01-18T04:23:59.014469",
     "exception": false,
     "start_time": "2023-01-18T04:23:57.367163",
     "status": "completed"
    },
    "tags": []
   },
   "outputs": [],
   "source": [
    "raw_df = pd.read_csv('/kaggle/input/amerix-data/sentiment_analysis_amerix_1.csv')"
   ]
  },
  {
   "cell_type": "code",
   "execution_count": 3,
   "id": "78315549",
   "metadata": {
    "execution": {
     "iopub.execute_input": "2023-01-18T04:23:59.023811Z",
     "iopub.status.busy": "2023-01-18T04:23:59.022518Z",
     "iopub.status.idle": "2023-01-18T04:23:59.039180Z",
     "shell.execute_reply": "2023-01-18T04:23:59.037641Z"
    },
    "papermill": {
     "duration": 0.024018,
     "end_time": "2023-01-18T04:23:59.041880",
     "exception": false,
     "start_time": "2023-01-18T04:23:59.017862",
     "status": "completed"
    },
    "tags": []
   },
   "outputs": [
    {
     "name": "stdout",
     "output_type": "stream",
     "text": [
      "  Unnamed: 0           tweet_created_at  \\\n",
      "0          0  2022-12-30 22:37:46+00:00   \n",
      "1          1  2022-12-30 22:30:58+00:00   \n",
      "2          2  2022-12-30 22:18:00+00:00   \n",
      "3          3  2022-12-30 20:42:54+00:00   \n",
      "4          4  2022-12-30 20:32:23+00:00   \n",
      "\n",
      "                                                text  \n",
      "0  Men who have refused to listen to/attend @amer...  \n",
      "1                       @OvOBrezzzy Take amerix next  \n",
      "2  @AyodeleYo11 @amerix Nah I’m good my masculini...  \n",
      "3  @Amerix_DontSimp There is no need for dating i...  \n",
      "4  @DyeAnna7 @amerix @kibe From what cos nothing ...  \n"
     ]
    }
   ],
   "source": [
    "print(raw_df.head())"
   ]
  },
  {
   "cell_type": "code",
   "execution_count": 4,
   "id": "b6455565",
   "metadata": {
    "execution": {
     "iopub.execute_input": "2023-01-18T04:23:59.050577Z",
     "iopub.status.busy": "2023-01-18T04:23:59.050164Z",
     "iopub.status.idle": "2023-01-18T04:23:59.059994Z",
     "shell.execute_reply": "2023-01-18T04:23:59.058330Z"
    },
    "papermill": {
     "duration": 0.016825,
     "end_time": "2023-01-18T04:23:59.062358",
     "exception": false,
     "start_time": "2023-01-18T04:23:59.045533",
     "status": "completed"
    },
    "tags": []
   },
   "outputs": [
    {
     "data": {
      "text/plain": [
       "(248739, 3)"
      ]
     },
     "execution_count": 4,
     "metadata": {},
     "output_type": "execute_result"
    }
   ],
   "source": [
    "raw_df.shape"
   ]
  },
  {
   "cell_type": "code",
   "execution_count": 5,
   "id": "9eb8bb53",
   "metadata": {
    "execution": {
     "iopub.execute_input": "2023-01-18T04:23:59.072360Z",
     "iopub.status.busy": "2023-01-18T04:23:59.071993Z",
     "iopub.status.idle": "2023-01-18T04:23:59.779329Z",
     "shell.execute_reply": "2023-01-18T04:23:59.778269Z"
    },
    "papermill": {
     "duration": 0.714618,
     "end_time": "2023-01-18T04:23:59.781273",
     "exception": false,
     "start_time": "2023-01-18T04:23:59.066655",
     "status": "completed"
    },
    "tags": []
   },
   "outputs": [
    {
     "data": {
      "text/html": [
       "<div>\n",
       "<style scoped>\n",
       "    .dataframe tbody tr th:only-of-type {\n",
       "        vertical-align: middle;\n",
       "    }\n",
       "\n",
       "    .dataframe tbody tr th {\n",
       "        vertical-align: top;\n",
       "    }\n",
       "\n",
       "    .dataframe thead th {\n",
       "        text-align: right;\n",
       "    }\n",
       "</style>\n",
       "<table border=\"1\" class=\"dataframe\">\n",
       "  <thead>\n",
       "    <tr style=\"text-align: right;\">\n",
       "      <th></th>\n",
       "      <th>count</th>\n",
       "      <th>unique</th>\n",
       "      <th>top</th>\n",
       "      <th>freq</th>\n",
       "    </tr>\n",
       "  </thead>\n",
       "  <tbody>\n",
       "    <tr>\n",
       "      <th>Unnamed: 0</th>\n",
       "      <td>248739</td>\n",
       "      <td>248739</td>\n",
       "      <td>0</td>\n",
       "      <td>1</td>\n",
       "    </tr>\n",
       "    <tr>\n",
       "      <th>tweet_created_at</th>\n",
       "      <td>248738</td>\n",
       "      <td>242124</td>\n",
       "      <td>2022-11-24 19:00:01+00:00</td>\n",
       "      <td>9</td>\n",
       "    </tr>\n",
       "    <tr>\n",
       "      <th>text</th>\n",
       "      <td>248738</td>\n",
       "      <td>236023</td>\n",
       "      <td>@amerix @pikaso_me screenshot this</td>\n",
       "      <td>550</td>\n",
       "    </tr>\n",
       "  </tbody>\n",
       "</table>\n",
       "</div>"
      ],
      "text/plain": [
       "                   count  unique                                 top freq\n",
       "Unnamed: 0        248739  248739                                   0    1\n",
       "tweet_created_at  248738  242124           2022-11-24 19:00:01+00:00    9\n",
       "text              248738  236023  @amerix @pikaso_me screenshot this  550"
      ]
     },
     "execution_count": 5,
     "metadata": {},
     "output_type": "execute_result"
    }
   ],
   "source": [
    "raw_df.describe().T"
   ]
  },
  {
   "cell_type": "code",
   "execution_count": 6,
   "id": "8119bdd2",
   "metadata": {
    "execution": {
     "iopub.execute_input": "2023-01-18T04:23:59.790222Z",
     "iopub.status.busy": "2023-01-18T04:23:59.789807Z",
     "iopub.status.idle": "2023-01-18T04:23:59.796887Z",
     "shell.execute_reply": "2023-01-18T04:23:59.795913Z"
    },
    "papermill": {
     "duration": 0.014678,
     "end_time": "2023-01-18T04:23:59.799821",
     "exception": false,
     "start_time": "2023-01-18T04:23:59.785143",
     "status": "completed"
    },
    "tags": []
   },
   "outputs": [
    {
     "data": {
      "text/plain": [
       "Index(['Unnamed: 0', 'tweet_created_at', 'text'], dtype='object')"
      ]
     },
     "execution_count": 6,
     "metadata": {},
     "output_type": "execute_result"
    }
   ],
   "source": [
    "raw_df.columns"
   ]
  },
  {
   "cell_type": "code",
   "execution_count": 7,
   "id": "9f866ef8",
   "metadata": {
    "execution": {
     "iopub.execute_input": "2023-01-18T04:23:59.809298Z",
     "iopub.status.busy": "2023-01-18T04:23:59.808849Z",
     "iopub.status.idle": "2023-01-18T04:23:59.823294Z",
     "shell.execute_reply": "2023-01-18T04:23:59.822178Z"
    },
    "papermill": {
     "duration": 0.021617,
     "end_time": "2023-01-18T04:23:59.825414",
     "exception": false,
     "start_time": "2023-01-18T04:23:59.803797",
     "status": "completed"
    },
    "tags": []
   },
   "outputs": [],
   "source": [
    "df_raw = raw_df.drop(columns='Unnamed: 0')"
   ]
  },
  {
   "cell_type": "code",
   "execution_count": 8,
   "id": "0fa6ca46",
   "metadata": {
    "execution": {
     "iopub.execute_input": "2023-01-18T04:23:59.834840Z",
     "iopub.status.busy": "2023-01-18T04:23:59.834481Z",
     "iopub.status.idle": "2023-01-18T04:23:59.840165Z",
     "shell.execute_reply": "2023-01-18T04:23:59.839348Z"
    },
    "papermill": {
     "duration": 0.012496,
     "end_time": "2023-01-18T04:23:59.841941",
     "exception": false,
     "start_time": "2023-01-18T04:23:59.829445",
     "status": "completed"
    },
    "tags": []
   },
   "outputs": [
    {
     "data": {
      "text/plain": [
       "Index(['tweet_created_at', 'text'], dtype='object')"
      ]
     },
     "execution_count": 8,
     "metadata": {},
     "output_type": "execute_result"
    }
   ],
   "source": [
    "df_raw.columns"
   ]
  },
  {
   "cell_type": "code",
   "execution_count": 9,
   "id": "0446b21c",
   "metadata": {
    "execution": {
     "iopub.execute_input": "2023-01-18T04:23:59.852087Z",
     "iopub.status.busy": "2023-01-18T04:23:59.850565Z",
     "iopub.status.idle": "2023-01-18T04:24:00.012503Z",
     "shell.execute_reply": "2023-01-18T04:24:00.011200Z"
    },
    "papermill": {
     "duration": 0.169776,
     "end_time": "2023-01-18T04:24:00.015439",
     "exception": false,
     "start_time": "2023-01-18T04:23:59.845663",
     "status": "completed"
    },
    "tags": []
   },
   "outputs": [
    {
     "name": "stderr",
     "output_type": "stream",
     "text": [
      "[nltk_data] Downloading package vader_lexicon to\n",
      "[nltk_data]     /usr/share/nltk_data...\n",
      "[nltk_data]   Package vader_lexicon is already up-to-date!\n"
     ]
    },
    {
     "data": {
      "text/plain": [
       "True"
      ]
     },
     "execution_count": 9,
     "metadata": {},
     "output_type": "execute_result"
    }
   ],
   "source": [
    "nltk.download('vader_lexicon')"
   ]
  },
  {
   "cell_type": "code",
   "execution_count": 10,
   "id": "3f812203",
   "metadata": {
    "execution": {
     "iopub.execute_input": "2023-01-18T04:24:00.025512Z",
     "iopub.status.busy": "2023-01-18T04:24:00.024468Z",
     "iopub.status.idle": "2023-01-18T04:24:00.094155Z",
     "shell.execute_reply": "2023-01-18T04:24:00.093080Z"
    },
    "papermill": {
     "duration": 0.077333,
     "end_time": "2023-01-18T04:24:00.096797",
     "exception": false,
     "start_time": "2023-01-18T04:24:00.019464",
     "status": "completed"
    },
    "tags": []
   },
   "outputs": [],
   "source": [
    "df_raw = df_raw.dropna()"
   ]
  },
  {
   "cell_type": "code",
   "execution_count": 11,
   "id": "39f92791",
   "metadata": {
    "execution": {
     "iopub.execute_input": "2023-01-18T04:24:00.106840Z",
     "iopub.status.busy": "2023-01-18T04:24:00.106406Z",
     "iopub.status.idle": "2023-01-18T04:24:00.114981Z",
     "shell.execute_reply": "2023-01-18T04:24:00.113512Z"
    },
    "papermill": {
     "duration": 0.016278,
     "end_time": "2023-01-18T04:24:00.117403",
     "exception": false,
     "start_time": "2023-01-18T04:24:00.101125",
     "status": "completed"
    },
    "tags": []
   },
   "outputs": [
    {
     "data": {
      "text/plain": [
       "(248738, 2)"
      ]
     },
     "execution_count": 11,
     "metadata": {},
     "output_type": "execute_result"
    }
   ],
   "source": [
    "df_raw.shape"
   ]
  },
  {
   "cell_type": "code",
   "execution_count": 12,
   "id": "716a17bd",
   "metadata": {
    "execution": {
     "iopub.execute_input": "2023-01-18T04:24:00.127459Z",
     "iopub.status.busy": "2023-01-18T04:24:00.127070Z",
     "iopub.status.idle": "2023-01-18T04:28:56.268478Z",
     "shell.execute_reply": "2023-01-18T04:28:56.267378Z"
    },
    "papermill": {
     "duration": 296.149453,
     "end_time": "2023-01-18T04:28:56.271168",
     "exception": false,
     "start_time": "2023-01-18T04:24:00.121715",
     "status": "completed"
    },
    "tags": []
   },
   "outputs": [],
   "source": [
    "sentiments = SentimentIntensityAnalyzer()\n",
    "\n",
    "df_raw[\"Positive\"] = [sentiments.polarity_scores(i)[\"pos\"] for i in df_raw[\"text\"]]\n",
    "df_raw[\"Negative\"] = [sentiments.polarity_scores(i)[\"neg\"] for i in df_raw[\"text\"]]\n",
    "df_raw[\"Neutral\"] = [sentiments.polarity_scores(i)[\"neu\"] for i in df_raw[\"text\"]]\n",
    "df_raw['Compound'] = [sentiments.polarity_scores(i)[\"compound\"] for i in df_raw[\"text\"]]"
   ]
  }
 ],
 "metadata": {
  "kernelspec": {
   "display_name": "Python 3",
   "language": "python",
   "name": "python3"
  },
  "language_info": {
   "codemirror_mode": {
    "name": "ipython",
    "version": 3
   },
   "file_extension": ".py",
   "mimetype": "text/x-python",
   "name": "python",
   "nbconvert_exporter": "python",
   "pygments_lexer": "ipython3",
   "version": "3.7.12"
  },
  "papermill": {
   "default_parameters": {},
   "duration": 309.571396,
   "end_time": "2023-01-18T04:28:57.101097",
   "environment_variables": {},
   "exception": null,
   "input_path": "__notebook__.ipynb",
   "output_path": "__notebook__.ipynb",
   "parameters": {},
   "start_time": "2023-01-18T04:23:47.529701",
   "version": "2.3.4"
  }
 },
 "nbformat": 4,
 "nbformat_minor": 5
}
