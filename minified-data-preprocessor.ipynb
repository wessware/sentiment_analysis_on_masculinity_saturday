{
 "cells": [
  {
   "cell_type": "code",
   "execution_count": 1,
   "id": "83fde5ec",
   "metadata": {
    "_cell_guid": "b1076dfc-b9ad-4769-8c92-a6c4dae69d19",
    "_uuid": "8f2839f25d086af736a60e9eeb907d3b93b6e0e5",
    "execution": {
     "iopub.execute_input": "2023-01-18T04:09:28.200870Z",
     "iopub.status.busy": "2023-01-18T04:09:28.200407Z",
     "iopub.status.idle": "2023-01-18T04:09:28.217207Z",
     "shell.execute_reply": "2023-01-18T04:09:28.215967Z"
    },
    "papermill": {
     "duration": 0.024427,
     "end_time": "2023-01-18T04:09:28.219731",
     "exception": false,
     "start_time": "2023-01-18T04:09:28.195304",
     "status": "completed"
    },
    "tags": []
   },
   "outputs": [
    {
     "name": "stdout",
     "output_type": "stream",
     "text": [
      "/kaggle/input/amerix-data/sentiment_analysis_amerix_1.csv\n"
     ]
    }
   ],
   "source": [
    "# This Python 3 environment comes with many helpful analytics libraries installed\n",
    "# It is defined by the kaggle/python Docker image: https://github.com/kaggle/docker-python\n",
    "# For example, here's several helpful packages to load\n",
    "\n",
    "import numpy as np # linear algebra\n",
    "import pandas as pd # data processing, CSV file I/O (e.g. pd.read_csv)\n",
    "\n",
    "# Input data files are available in the read-only \"../input/\" directory\n",
    "# For example, running this (by clicking run or pressing Shift+Enter) will list all files under the input directory\n",
    "\n",
    "import os\n",
    "for dirname, _, filenames in os.walk('/kaggle/input'):\n",
    "    for filename in filenames:\n",
    "        print(os.path.join(dirname, filename))\n",
    "\n",
    "# You can write up to 20GB to the current directory (/kaggle/working/) that gets preserved as output when you create a version using \"Save & Run All\" \n",
    "# You can also write temporary files to /kaggle/temp/, but they won't be saved outside of the current session"
   ]
  },
  {
   "cell_type": "code",
   "execution_count": 2,
   "id": "dc33d35f",
   "metadata": {
    "execution": {
     "iopub.execute_input": "2023-01-18T04:09:28.228053Z",
     "iopub.status.busy": "2023-01-18T04:09:28.226767Z",
     "iopub.status.idle": "2023-01-18T04:09:28.232219Z",
     "shell.execute_reply": "2023-01-18T04:09:28.231044Z"
    },
    "papermill": {
     "duration": 0.012017,
     "end_time": "2023-01-18T04:09:28.234837",
     "exception": false,
     "start_time": "2023-01-18T04:09:28.222820",
     "status": "completed"
    },
    "tags": []
   },
   "outputs": [],
   "source": [
    "import pandas as pd"
   ]
  },
  {
   "cell_type": "code",
   "execution_count": 3,
   "id": "d42f643a",
   "metadata": {
    "execution": {
     "iopub.execute_input": "2023-01-18T04:09:28.242466Z",
     "iopub.status.busy": "2023-01-18T04:09:28.242043Z",
     "iopub.status.idle": "2023-01-18T04:09:29.780366Z",
     "shell.execute_reply": "2023-01-18T04:09:29.778746Z"
    },
    "papermill": {
     "duration": 1.545014,
     "end_time": "2023-01-18T04:09:29.782878",
     "exception": false,
     "start_time": "2023-01-18T04:09:28.237864",
     "status": "completed"
    },
    "tags": []
   },
   "outputs": [],
   "source": [
    "raw_df = pd.read_csv('/kaggle/input/amerix-data/sentiment_analysis_amerix_1.csv')"
   ]
  },
  {
   "cell_type": "code",
   "execution_count": 4,
   "id": "b157eee9",
   "metadata": {
    "execution": {
     "iopub.execute_input": "2023-01-18T04:09:29.790697Z",
     "iopub.status.busy": "2023-01-18T04:09:29.789654Z",
     "iopub.status.idle": "2023-01-18T04:09:29.803642Z",
     "shell.execute_reply": "2023-01-18T04:09:29.801168Z"
    },
    "papermill": {
     "duration": 0.020463,
     "end_time": "2023-01-18T04:09:29.806231",
     "exception": false,
     "start_time": "2023-01-18T04:09:29.785768",
     "status": "completed"
    },
    "tags": []
   },
   "outputs": [
    {
     "name": "stdout",
     "output_type": "stream",
     "text": [
      "  Unnamed: 0           tweet_created_at  \\\n",
      "0          0  2022-12-30 22:37:46+00:00   \n",
      "1          1  2022-12-30 22:30:58+00:00   \n",
      "2          2  2022-12-30 22:18:00+00:00   \n",
      "3          3  2022-12-30 20:42:54+00:00   \n",
      "4          4  2022-12-30 20:32:23+00:00   \n",
      "\n",
      "                                                text  \n",
      "0  Men who have refused to listen to/attend @amer...  \n",
      "1                       @OvOBrezzzy Take amerix next  \n",
      "2  @AyodeleYo11 @amerix Nah I’m good my masculini...  \n",
      "3  @Amerix_DontSimp There is no need for dating i...  \n",
      "4  @DyeAnna7 @amerix @kibe From what cos nothing ...  \n"
     ]
    }
   ],
   "source": [
    "print(raw_df.head())"
   ]
  },
  {
   "cell_type": "code",
   "execution_count": 5,
   "id": "39ceb1f7",
   "metadata": {
    "execution": {
     "iopub.execute_input": "2023-01-18T04:09:29.813731Z",
     "iopub.status.busy": "2023-01-18T04:09:29.813341Z",
     "iopub.status.idle": "2023-01-18T04:09:29.823029Z",
     "shell.execute_reply": "2023-01-18T04:09:29.821689Z"
    },
    "papermill": {
     "duration": 0.015933,
     "end_time": "2023-01-18T04:09:29.825218",
     "exception": false,
     "start_time": "2023-01-18T04:09:29.809285",
     "status": "completed"
    },
    "tags": []
   },
   "outputs": [
    {
     "data": {
      "text/plain": [
       "(248739, 3)"
      ]
     },
     "execution_count": 5,
     "metadata": {},
     "output_type": "execute_result"
    }
   ],
   "source": [
    "raw_df.shape"
   ]
  },
  {
   "cell_type": "code",
   "execution_count": 6,
   "id": "17e86a12",
   "metadata": {
    "execution": {
     "iopub.execute_input": "2023-01-18T04:09:29.832913Z",
     "iopub.status.busy": "2023-01-18T04:09:29.832499Z",
     "iopub.status.idle": "2023-01-18T04:09:30.567562Z",
     "shell.execute_reply": "2023-01-18T04:09:30.566897Z"
    },
    "papermill": {
     "duration": 0.74188,
     "end_time": "2023-01-18T04:09:30.570209",
     "exception": false,
     "start_time": "2023-01-18T04:09:29.828329",
     "status": "completed"
    },
    "tags": []
   },
   "outputs": [
    {
     "data": {
      "text/html": [
       "<div>\n",
       "<style scoped>\n",
       "    .dataframe tbody tr th:only-of-type {\n",
       "        vertical-align: middle;\n",
       "    }\n",
       "\n",
       "    .dataframe tbody tr th {\n",
       "        vertical-align: top;\n",
       "    }\n",
       "\n",
       "    .dataframe thead th {\n",
       "        text-align: right;\n",
       "    }\n",
       "</style>\n",
       "<table border=\"1\" class=\"dataframe\">\n",
       "  <thead>\n",
       "    <tr style=\"text-align: right;\">\n",
       "      <th></th>\n",
       "      <th>count</th>\n",
       "      <th>unique</th>\n",
       "      <th>top</th>\n",
       "      <th>freq</th>\n",
       "    </tr>\n",
       "  </thead>\n",
       "  <tbody>\n",
       "    <tr>\n",
       "      <th>Unnamed: 0</th>\n",
       "      <td>248739</td>\n",
       "      <td>248739</td>\n",
       "      <td>0</td>\n",
       "      <td>1</td>\n",
       "    </tr>\n",
       "    <tr>\n",
       "      <th>tweet_created_at</th>\n",
       "      <td>248738</td>\n",
       "      <td>242124</td>\n",
       "      <td>2022-11-24 19:00:01+00:00</td>\n",
       "      <td>9</td>\n",
       "    </tr>\n",
       "    <tr>\n",
       "      <th>text</th>\n",
       "      <td>248738</td>\n",
       "      <td>236023</td>\n",
       "      <td>@amerix @pikaso_me screenshot this</td>\n",
       "      <td>550</td>\n",
       "    </tr>\n",
       "  </tbody>\n",
       "</table>\n",
       "</div>"
      ],
      "text/plain": [
       "                   count  unique                                 top freq\n",
       "Unnamed: 0        248739  248739                                   0    1\n",
       "tweet_created_at  248738  242124           2022-11-24 19:00:01+00:00    9\n",
       "text              248738  236023  @amerix @pikaso_me screenshot this  550"
      ]
     },
     "execution_count": 6,
     "metadata": {},
     "output_type": "execute_result"
    }
   ],
   "source": [
    "raw_df.describe().T"
   ]
  },
  {
   "cell_type": "code",
   "execution_count": 7,
   "id": "800d52fc",
   "metadata": {
    "execution": {
     "iopub.execute_input": "2023-01-18T04:09:30.580717Z",
     "iopub.status.busy": "2023-01-18T04:09:30.580120Z",
     "iopub.status.idle": "2023-01-18T04:09:30.585505Z",
     "shell.execute_reply": "2023-01-18T04:09:30.584805Z"
    },
    "papermill": {
     "duration": 0.013472,
     "end_time": "2023-01-18T04:09:30.587857",
     "exception": false,
     "start_time": "2023-01-18T04:09:30.574385",
     "status": "completed"
    },
    "tags": []
   },
   "outputs": [
    {
     "data": {
      "text/plain": [
       "Index(['Unnamed: 0', 'tweet_created_at', 'text'], dtype='object')"
      ]
     },
     "execution_count": 7,
     "metadata": {},
     "output_type": "execute_result"
    }
   ],
   "source": [
    "raw_df.columns"
   ]
  },
  {
   "cell_type": "code",
   "execution_count": 8,
   "id": "7e58a881",
   "metadata": {
    "execution": {
     "iopub.execute_input": "2023-01-18T04:09:30.596913Z",
     "iopub.status.busy": "2023-01-18T04:09:30.596254Z",
     "iopub.status.idle": "2023-01-18T04:09:30.611357Z",
     "shell.execute_reply": "2023-01-18T04:09:30.609891Z"
    },
    "papermill": {
     "duration": 0.022481,
     "end_time": "2023-01-18T04:09:30.614018",
     "exception": false,
     "start_time": "2023-01-18T04:09:30.591537",
     "status": "completed"
    },
    "tags": []
   },
   "outputs": [],
   "source": [
    "df_raw = raw_df.drop(columns='Unnamed: 0')"
   ]
  },
  {
   "cell_type": "code",
   "execution_count": 9,
   "id": "df2cbfa0",
   "metadata": {
    "execution": {
     "iopub.execute_input": "2023-01-18T04:09:30.623314Z",
     "iopub.status.busy": "2023-01-18T04:09:30.622116Z",
     "iopub.status.idle": "2023-01-18T04:09:30.629808Z",
     "shell.execute_reply": "2023-01-18T04:09:30.628542Z"
    },
    "papermill": {
     "duration": 0.014376,
     "end_time": "2023-01-18T04:09:30.632341",
     "exception": false,
     "start_time": "2023-01-18T04:09:30.617965",
     "status": "completed"
    },
    "tags": []
   },
   "outputs": [
    {
     "data": {
      "text/plain": [
       "Index(['tweet_created_at', 'text'], dtype='object')"
      ]
     },
     "execution_count": 9,
     "metadata": {},
     "output_type": "execute_result"
    }
   ],
   "source": [
    "df_raw.columns"
   ]
  }
 ],
 "metadata": {
  "kernelspec": {
   "display_name": "Python 3",
   "language": "python",
   "name": "python3"
  },
  "language_info": {
   "codemirror_mode": {
    "name": "ipython",
    "version": 3
   },
   "file_extension": ".py",
   "mimetype": "text/x-python",
   "name": "python",
   "nbconvert_exporter": "python",
   "pygments_lexer": "ipython3",
   "version": "3.7.12"
  },
  "papermill": {
   "default_parameters": {},
   "duration": 10.611781,
   "end_time": "2023-01-18T04:09:31.358126",
   "environment_variables": {},
   "exception": null,
   "input_path": "__notebook__.ipynb",
   "output_path": "__notebook__.ipynb",
   "parameters": {},
   "start_time": "2023-01-18T04:09:20.746345",
   "version": "2.3.4"
  }
 },
 "nbformat": 4,
 "nbformat_minor": 5
}
