{
 "cells": [
  {
   "cell_type": "code",
   "execution_count": 1,
   "id": "770a2992",
   "metadata": {
    "_cell_guid": "b1076dfc-b9ad-4769-8c92-a6c4dae69d19",
    "_uuid": "8f2839f25d086af736a60e9eeb907d3b93b6e0e5",
    "execution": {
     "iopub.execute_input": "2023-02-17T07:00:15.776962Z",
     "iopub.status.busy": "2023-02-17T07:00:15.775945Z",
     "iopub.status.idle": "2023-02-17T07:00:16.622867Z",
     "shell.execute_reply": "2023-02-17T07:00:16.621490Z"
    },
    "papermill": {
     "duration": 0.860164,
     "end_time": "2023-02-17T07:00:16.625877",
     "exception": false,
     "start_time": "2023-02-17T07:00:15.765713",
     "status": "completed"
    },
    "tags": []
   },
   "outputs": [],
   "source": [
    "import pandas as pd\n",
    "import numpy as np\n",
    "from scipy.special import softmax\n",
    "\n",
    "from transformers import AutoModelForSequenceClassification\n",
    "from transformers import TFAutoModelForSequenceClassification\n",
    "from transformers import AutoTokenizer\n",
    "\n",
    "import csv\n",
    "import urllib.request"
   ]
  },
  {
   "cell_type": "code",
   "execution_count": 2,
   "id": "8b5b06da",
   "metadata": {
    "execution": {
     "iopub.execute_input": "2023-02-17T07:00:16.635948Z",
     "iopub.status.busy": "2023-02-17T07:00:16.635522Z",
     "iopub.status.idle": "2023-02-17T07:00:18.945455Z",
     "shell.execute_reply": "2023-02-17T07:00:18.944611Z"
    },
    "papermill": {
     "duration": 2.31872,
     "end_time": "2023-02-17T07:00:18.948639",
     "exception": false,
     "start_time": "2023-02-17T07:00:16.629919",
     "status": "completed"
    },
    "tags": []
   },
   "outputs": [],
   "source": [
    "df_1 = pd.read_csv('/kaggle/input/masculinity-saturday-twitter-sentiment-analysis/twitter_sentiment_analysis_masculinity_saturday_data_annotated.csv', index_col=0)"
   ]
  },
  {
   "cell_type": "code",
   "execution_count": 3,
   "id": "397541c4",
   "metadata": {
    "execution": {
     "iopub.execute_input": "2023-02-17T07:00:18.958701Z",
     "iopub.status.busy": "2023-02-17T07:00:18.958280Z",
     "iopub.status.idle": "2023-02-17T07:00:18.981071Z",
     "shell.execute_reply": "2023-02-17T07:00:18.979929Z"
    },
    "papermill": {
     "duration": 0.033162,
     "end_time": "2023-02-17T07:00:18.985935",
     "exception": false,
     "start_time": "2023-02-17T07:00:18.952773",
     "status": "completed"
    },
    "tags": []
   },
   "outputs": [
    {
     "data": {
      "text/html": [
       "<div>\n",
       "<style scoped>\n",
       "    .dataframe tbody tr th:only-of-type {\n",
       "        vertical-align: middle;\n",
       "    }\n",
       "\n",
       "    .dataframe tbody tr th {\n",
       "        vertical-align: top;\n",
       "    }\n",
       "\n",
       "    .dataframe thead th {\n",
       "        text-align: right;\n",
       "    }\n",
       "</style>\n",
       "<table border=\"1\" class=\"dataframe\">\n",
       "  <thead>\n",
       "    <tr style=\"text-align: right;\">\n",
       "      <th></th>\n",
       "      <th>tweet_created_at</th>\n",
       "      <th>text</th>\n",
       "      <th>Positive</th>\n",
       "      <th>Negative</th>\n",
       "      <th>Neutral</th>\n",
       "      <th>Compound</th>\n",
       "      <th>Sentiment</th>\n",
       "    </tr>\n",
       "  </thead>\n",
       "  <tbody>\n",
       "    <tr>\n",
       "      <th>0</th>\n",
       "      <td>2022-12-30 22:37:46+00:00</td>\n",
       "      <td>Men who have refused to listen to/attend @amer...</td>\n",
       "      <td>0.000</td>\n",
       "      <td>0.073</td>\n",
       "      <td>0.927</td>\n",
       "      <td>-0.2960</td>\n",
       "      <td>Negative</td>\n",
       "    </tr>\n",
       "    <tr>\n",
       "      <th>1</th>\n",
       "      <td>2022-12-30 22:30:58+00:00</td>\n",
       "      <td>@OvOBrezzzy Take amerix next</td>\n",
       "      <td>0.000</td>\n",
       "      <td>0.000</td>\n",
       "      <td>1.000</td>\n",
       "      <td>0.0000</td>\n",
       "      <td>Neutral</td>\n",
       "    </tr>\n",
       "    <tr>\n",
       "      <th>2</th>\n",
       "      <td>2022-12-30 22:18:00+00:00</td>\n",
       "      <td>@AyodeleYo11 @amerix Nah I’m good my masculini...</td>\n",
       "      <td>0.493</td>\n",
       "      <td>0.068</td>\n",
       "      <td>0.439</td>\n",
       "      <td>0.8271</td>\n",
       "      <td>Positive</td>\n",
       "    </tr>\n",
       "    <tr>\n",
       "      <th>3</th>\n",
       "      <td>2022-12-30 20:42:54+00:00</td>\n",
       "      <td>@Amerix_DontSimp There is no need for dating i...</td>\n",
       "      <td>0.000</td>\n",
       "      <td>0.180</td>\n",
       "      <td>0.820</td>\n",
       "      <td>-0.2960</td>\n",
       "      <td>Negative</td>\n",
       "    </tr>\n",
       "    <tr>\n",
       "      <th>4</th>\n",
       "      <td>2022-12-30 20:32:23+00:00</td>\n",
       "      <td>@DyeAnna7 @amerix @kibe From what cos nothing ...</td>\n",
       "      <td>0.110</td>\n",
       "      <td>0.000</td>\n",
       "      <td>0.890</td>\n",
       "      <td>0.6908</td>\n",
       "      <td>Positive</td>\n",
       "    </tr>\n",
       "  </tbody>\n",
       "</table>\n",
       "</div>"
      ],
      "text/plain": [
       "            tweet_created_at  \\\n",
       "0  2022-12-30 22:37:46+00:00   \n",
       "1  2022-12-30 22:30:58+00:00   \n",
       "2  2022-12-30 22:18:00+00:00   \n",
       "3  2022-12-30 20:42:54+00:00   \n",
       "4  2022-12-30 20:32:23+00:00   \n",
       "\n",
       "                                                text  Positive  Negative  \\\n",
       "0  Men who have refused to listen to/attend @amer...     0.000     0.073   \n",
       "1                       @OvOBrezzzy Take amerix next     0.000     0.000   \n",
       "2  @AyodeleYo11 @amerix Nah I’m good my masculini...     0.493     0.068   \n",
       "3  @Amerix_DontSimp There is no need for dating i...     0.000     0.180   \n",
       "4  @DyeAnna7 @amerix @kibe From what cos nothing ...     0.110     0.000   \n",
       "\n",
       "   Neutral  Compound Sentiment  \n",
       "0    0.927   -0.2960  Negative  \n",
       "1    1.000    0.0000   Neutral  \n",
       "2    0.439    0.8271  Positive  \n",
       "3    0.820   -0.2960  Negative  \n",
       "4    0.890    0.6908  Positive  "
      ]
     },
     "execution_count": 3,
     "metadata": {},
     "output_type": "execute_result"
    }
   ],
   "source": [
    "df_1.head()"
   ]
  },
  {
   "cell_type": "code",
   "execution_count": 4,
   "id": "7dc85859",
   "metadata": {
    "execution": {
     "iopub.execute_input": "2023-02-17T07:00:18.996663Z",
     "iopub.status.busy": "2023-02-17T07:00:18.996264Z",
     "iopub.status.idle": "2023-02-17T07:00:19.003698Z",
     "shell.execute_reply": "2023-02-17T07:00:19.002694Z"
    },
    "papermill": {
     "duration": 0.015449,
     "end_time": "2023-02-17T07:00:19.005910",
     "exception": false,
     "start_time": "2023-02-17T07:00:18.990461",
     "status": "completed"
    },
    "tags": []
   },
   "outputs": [
    {
     "data": {
      "text/plain": [
       "Index(['tweet_created_at', 'text', 'Positive', 'Negative', 'Neutral',\n",
       "       'Compound', 'Sentiment'],\n",
       "      dtype='object')"
      ]
     },
     "execution_count": 4,
     "metadata": {},
     "output_type": "execute_result"
    }
   ],
   "source": [
    "df_1.columns"
   ]
  },
  {
   "cell_type": "code",
   "execution_count": 5,
   "id": "f870dbe0",
   "metadata": {
    "execution": {
     "iopub.execute_input": "2023-02-17T07:00:19.017140Z",
     "iopub.status.busy": "2023-02-17T07:00:19.015820Z",
     "iopub.status.idle": "2023-02-17T07:00:19.040968Z",
     "shell.execute_reply": "2023-02-17T07:00:19.039540Z"
    },
    "papermill": {
     "duration": 0.03332,
     "end_time": "2023-02-17T07:00:19.043508",
     "exception": false,
     "start_time": "2023-02-17T07:00:19.010188",
     "status": "completed"
    },
    "tags": []
   },
   "outputs": [],
   "source": [
    "df = df_1[['tweet_created_at', 'text', 'Sentiment']]"
   ]
  },
  {
   "cell_type": "code",
   "execution_count": 6,
   "id": "5da31fc8",
   "metadata": {
    "execution": {
     "iopub.execute_input": "2023-02-17T07:00:19.053744Z",
     "iopub.status.busy": "2023-02-17T07:00:19.053239Z",
     "iopub.status.idle": "2023-02-17T07:00:19.068541Z",
     "shell.execute_reply": "2023-02-17T07:00:19.067107Z"
    },
    "papermill": {
     "duration": 0.023388,
     "end_time": "2023-02-17T07:00:19.071102",
     "exception": false,
     "start_time": "2023-02-17T07:00:19.047714",
     "status": "completed"
    },
    "tags": []
   },
   "outputs": [
    {
     "data": {
      "text/html": [
       "<div>\n",
       "<style scoped>\n",
       "    .dataframe tbody tr th:only-of-type {\n",
       "        vertical-align: middle;\n",
       "    }\n",
       "\n",
       "    .dataframe tbody tr th {\n",
       "        vertical-align: top;\n",
       "    }\n",
       "\n",
       "    .dataframe thead th {\n",
       "        text-align: right;\n",
       "    }\n",
       "</style>\n",
       "<table border=\"1\" class=\"dataframe\">\n",
       "  <thead>\n",
       "    <tr style=\"text-align: right;\">\n",
       "      <th></th>\n",
       "      <th>tweet_created_at</th>\n",
       "      <th>text</th>\n",
       "      <th>Sentiment</th>\n",
       "    </tr>\n",
       "  </thead>\n",
       "  <tbody>\n",
       "    <tr>\n",
       "      <th>0</th>\n",
       "      <td>2022-12-30 22:37:46+00:00</td>\n",
       "      <td>Men who have refused to listen to/attend @amer...</td>\n",
       "      <td>Negative</td>\n",
       "    </tr>\n",
       "    <tr>\n",
       "      <th>1</th>\n",
       "      <td>2022-12-30 22:30:58+00:00</td>\n",
       "      <td>@OvOBrezzzy Take amerix next</td>\n",
       "      <td>Neutral</td>\n",
       "    </tr>\n",
       "    <tr>\n",
       "      <th>2</th>\n",
       "      <td>2022-12-30 22:18:00+00:00</td>\n",
       "      <td>@AyodeleYo11 @amerix Nah I’m good my masculini...</td>\n",
       "      <td>Positive</td>\n",
       "    </tr>\n",
       "    <tr>\n",
       "      <th>3</th>\n",
       "      <td>2022-12-30 20:42:54+00:00</td>\n",
       "      <td>@Amerix_DontSimp There is no need for dating i...</td>\n",
       "      <td>Negative</td>\n",
       "    </tr>\n",
       "    <tr>\n",
       "      <th>4</th>\n",
       "      <td>2022-12-30 20:32:23+00:00</td>\n",
       "      <td>@DyeAnna7 @amerix @kibe From what cos nothing ...</td>\n",
       "      <td>Positive</td>\n",
       "    </tr>\n",
       "  </tbody>\n",
       "</table>\n",
       "</div>"
      ],
      "text/plain": [
       "            tweet_created_at  \\\n",
       "0  2022-12-30 22:37:46+00:00   \n",
       "1  2022-12-30 22:30:58+00:00   \n",
       "2  2022-12-30 22:18:00+00:00   \n",
       "3  2022-12-30 20:42:54+00:00   \n",
       "4  2022-12-30 20:32:23+00:00   \n",
       "\n",
       "                                                text Sentiment  \n",
       "0  Men who have refused to listen to/attend @amer...  Negative  \n",
       "1                       @OvOBrezzzy Take amerix next   Neutral  \n",
       "2  @AyodeleYo11 @amerix Nah I’m good my masculini...  Positive  \n",
       "3  @Amerix_DontSimp There is no need for dating i...  Negative  \n",
       "4  @DyeAnna7 @amerix @kibe From what cos nothing ...  Positive  "
      ]
     },
     "execution_count": 6,
     "metadata": {},
     "output_type": "execute_result"
    }
   ],
   "source": [
    "df.head()"
   ]
  },
  {
   "cell_type": "code",
   "execution_count": 7,
   "id": "c2778ce1",
   "metadata": {
    "execution": {
     "iopub.execute_input": "2023-02-17T07:00:19.081700Z",
     "iopub.status.busy": "2023-02-17T07:00:19.081214Z",
     "iopub.status.idle": "2023-02-17T07:00:19.160955Z",
     "shell.execute_reply": "2023-02-17T07:00:19.159156Z"
    },
    "papermill": {
     "duration": 0.08835,
     "end_time": "2023-02-17T07:00:19.163726",
     "exception": false,
     "start_time": "2023-02-17T07:00:19.075376",
     "status": "completed"
    },
    "tags": []
   },
   "outputs": [
    {
     "name": "stdout",
     "output_type": "stream",
     "text": [
      "<class 'pandas.core.frame.DataFrame'>\n",
      "Int64Index: 248738 entries, 0 to 248738\n",
      "Data columns (total 3 columns):\n",
      " #   Column            Non-Null Count   Dtype \n",
      "---  ------            --------------   ----- \n",
      " 0   tweet_created_at  248738 non-null  object\n",
      " 1   text              248738 non-null  object\n",
      " 2   Sentiment         248738 non-null  object\n",
      "dtypes: object(3)\n",
      "memory usage: 7.6+ MB\n"
     ]
    }
   ],
   "source": [
    "df.info()"
   ]
  },
  {
   "cell_type": "code",
   "execution_count": 8,
   "id": "68c87530",
   "metadata": {
    "execution": {
     "iopub.execute_input": "2023-02-17T07:00:19.174697Z",
     "iopub.status.busy": "2023-02-17T07:00:19.174265Z",
     "iopub.status.idle": "2023-02-17T07:00:19.310848Z",
     "shell.execute_reply": "2023-02-17T07:00:19.309331Z"
    },
    "papermill": {
     "duration": 0.145921,
     "end_time": "2023-02-17T07:00:19.314179",
     "exception": false,
     "start_time": "2023-02-17T07:00:19.168258",
     "status": "completed"
    },
    "tags": []
   },
   "outputs": [
    {
     "name": "stderr",
     "output_type": "stream",
     "text": [
      "/opt/conda/lib/python3.7/site-packages/ipykernel_launcher.py:1: SettingWithCopyWarning: \n",
      "A value is trying to be set on a copy of a slice from a DataFrame.\n",
      "Try using .loc[row_indexer,col_indexer] = value instead\n",
      "\n",
      "See the caveats in the documentation: https://pandas.pydata.org/pandas-docs/stable/user_guide/indexing.html#returning-a-view-versus-a-copy\n",
      "  \"\"\"Entry point for launching an IPython kernel.\n"
     ]
    }
   ],
   "source": [
    "df['tweet_created_at'] = pd.to_datetime(df['tweet_created_at'])"
   ]
  },
  {
   "cell_type": "code",
   "execution_count": 9,
   "id": "639fb819",
   "metadata": {
    "execution": {
     "iopub.execute_input": "2023-02-17T07:00:19.325732Z",
     "iopub.status.busy": "2023-02-17T07:00:19.325329Z",
     "iopub.status.idle": "2023-02-17T07:00:19.366442Z",
     "shell.execute_reply": "2023-02-17T07:00:19.364777Z"
    },
    "papermill": {
     "duration": 0.050497,
     "end_time": "2023-02-17T07:00:19.369635",
     "exception": false,
     "start_time": "2023-02-17T07:00:19.319138",
     "status": "completed"
    },
    "tags": []
   },
   "outputs": [
    {
     "name": "stderr",
     "output_type": "stream",
     "text": [
      "/opt/conda/lib/python3.7/site-packages/ipykernel_launcher.py:1: SettingWithCopyWarning: \n",
      "A value is trying to be set on a copy of a slice from a DataFrame.\n",
      "Try using .loc[row_indexer,col_indexer] = value instead\n",
      "\n",
      "See the caveats in the documentation: https://pandas.pydata.org/pandas-docs/stable/user_guide/indexing.html#returning-a-view-versus-a-copy\n",
      "  \"\"\"Entry point for launching an IPython kernel.\n"
     ]
    }
   ],
   "source": [
    "df['Sentiment'] = df['Sentiment'].map({'Negative':0,'Neutral':1, 'Positive':2})"
   ]
  },
  {
   "cell_type": "code",
   "execution_count": 10,
   "id": "a90b9da6",
   "metadata": {
    "execution": {
     "iopub.execute_input": "2023-02-17T07:00:19.381533Z",
     "iopub.status.busy": "2023-02-17T07:00:19.381159Z",
     "iopub.status.idle": "2023-02-17T07:00:19.395471Z",
     "shell.execute_reply": "2023-02-17T07:00:19.393979Z"
    },
    "papermill": {
     "duration": 0.022856,
     "end_time": "2023-02-17T07:00:19.397950",
     "exception": false,
     "start_time": "2023-02-17T07:00:19.375094",
     "status": "completed"
    },
    "tags": []
   },
   "outputs": [
    {
     "data": {
      "text/html": [
       "<div>\n",
       "<style scoped>\n",
       "    .dataframe tbody tr th:only-of-type {\n",
       "        vertical-align: middle;\n",
       "    }\n",
       "\n",
       "    .dataframe tbody tr th {\n",
       "        vertical-align: top;\n",
       "    }\n",
       "\n",
       "    .dataframe thead th {\n",
       "        text-align: right;\n",
       "    }\n",
       "</style>\n",
       "<table border=\"1\" class=\"dataframe\">\n",
       "  <thead>\n",
       "    <tr style=\"text-align: right;\">\n",
       "      <th></th>\n",
       "      <th>tweet_created_at</th>\n",
       "      <th>text</th>\n",
       "      <th>Sentiment</th>\n",
       "    </tr>\n",
       "  </thead>\n",
       "  <tbody>\n",
       "    <tr>\n",
       "      <th>0</th>\n",
       "      <td>2022-12-30 22:37:46+00:00</td>\n",
       "      <td>Men who have refused to listen to/attend @amer...</td>\n",
       "      <td>0</td>\n",
       "    </tr>\n",
       "    <tr>\n",
       "      <th>1</th>\n",
       "      <td>2022-12-30 22:30:58+00:00</td>\n",
       "      <td>@OvOBrezzzy Take amerix next</td>\n",
       "      <td>1</td>\n",
       "    </tr>\n",
       "    <tr>\n",
       "      <th>2</th>\n",
       "      <td>2022-12-30 22:18:00+00:00</td>\n",
       "      <td>@AyodeleYo11 @amerix Nah I’m good my masculini...</td>\n",
       "      <td>2</td>\n",
       "    </tr>\n",
       "    <tr>\n",
       "      <th>3</th>\n",
       "      <td>2022-12-30 20:42:54+00:00</td>\n",
       "      <td>@Amerix_DontSimp There is no need for dating i...</td>\n",
       "      <td>0</td>\n",
       "    </tr>\n",
       "    <tr>\n",
       "      <th>4</th>\n",
       "      <td>2022-12-30 20:32:23+00:00</td>\n",
       "      <td>@DyeAnna7 @amerix @kibe From what cos nothing ...</td>\n",
       "      <td>2</td>\n",
       "    </tr>\n",
       "  </tbody>\n",
       "</table>\n",
       "</div>"
      ],
      "text/plain": [
       "           tweet_created_at  \\\n",
       "0 2022-12-30 22:37:46+00:00   \n",
       "1 2022-12-30 22:30:58+00:00   \n",
       "2 2022-12-30 22:18:00+00:00   \n",
       "3 2022-12-30 20:42:54+00:00   \n",
       "4 2022-12-30 20:32:23+00:00   \n",
       "\n",
       "                                                text  Sentiment  \n",
       "0  Men who have refused to listen to/attend @amer...          0  \n",
       "1                       @OvOBrezzzy Take amerix next          1  \n",
       "2  @AyodeleYo11 @amerix Nah I’m good my masculini...          2  \n",
       "3  @Amerix_DontSimp There is no need for dating i...          0  \n",
       "4  @DyeAnna7 @amerix @kibe From what cos nothing ...          2  "
      ]
     },
     "execution_count": 10,
     "metadata": {},
     "output_type": "execute_result"
    }
   ],
   "source": [
    "df.head()"
   ]
  },
  {
   "cell_type": "code",
   "execution_count": 11,
   "id": "b72651b6",
   "metadata": {
    "execution": {
     "iopub.execute_input": "2023-02-17T07:00:19.409800Z",
     "iopub.status.busy": "2023-02-17T07:00:19.409391Z",
     "iopub.status.idle": "2023-02-17T07:00:19.416448Z",
     "shell.execute_reply": "2023-02-17T07:00:19.415183Z"
    },
    "papermill": {
     "duration": 0.015989,
     "end_time": "2023-02-17T07:00:19.419045",
     "exception": false,
     "start_time": "2023-02-17T07:00:19.403056",
     "status": "completed"
    },
    "tags": []
   },
   "outputs": [],
   "source": [
    "def preprocess(text):\n",
    "    \n",
    "    new_text = []\n",
    " \n",
    "    for t in text.split(\" \"):\n",
    "        t = '@user' if t.startswith('@') and len(t) > 1 else t\n",
    "        t = 'http' if t.startswith('http') else t\n",
    "        \n",
    "        new_text.append(t)\n",
    "        \n",
    "    return \" \".join(new_text)"
   ]
  },
  {
   "cell_type": "code",
   "execution_count": null,
   "id": "7531b183",
   "metadata": {
    "papermill": {
     "duration": 0.004422,
     "end_time": "2023-02-17T07:00:19.428266",
     "exception": false,
     "start_time": "2023-02-17T07:00:19.423844",
     "status": "completed"
    },
    "tags": []
   },
   "outputs": [],
   "source": []
  }
 ],
 "metadata": {
  "kernelspec": {
   "display_name": "Python 3",
   "language": "python",
   "name": "python3"
  },
  "language_info": {
   "codemirror_mode": {
    "name": "ipython",
    "version": 3
   },
   "file_extension": ".py",
   "mimetype": "text/x-python",
   "name": "python",
   "nbconvert_exporter": "python",
   "pygments_lexer": "ipython3",
   "version": "3.7.12"
  },
  "papermill": {
   "default_parameters": {},
   "duration": 13.00151,
   "end_time": "2023-02-17T07:00:20.155916",
   "environment_variables": {},
   "exception": null,
   "input_path": "__notebook__.ipynb",
   "output_path": "__notebook__.ipynb",
   "parameters": {},
   "start_time": "2023-02-17T07:00:07.154406",
   "version": "2.3.4"
  }
 },
 "nbformat": 4,
 "nbformat_minor": 5
}
