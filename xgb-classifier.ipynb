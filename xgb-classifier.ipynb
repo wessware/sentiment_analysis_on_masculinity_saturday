{
 "cells": [
  {
   "cell_type": "code",
   "execution_count": 1,
   "id": "798e3033",
   "metadata": {
    "_cell_guid": "b1076dfc-b9ad-4769-8c92-a6c4dae69d19",
    "_uuid": "8f2839f25d086af736a60e9eeb907d3b93b6e0e5",
    "execution": {
     "iopub.execute_input": "2023-01-26T06:18:55.074621Z",
     "iopub.status.busy": "2023-01-26T06:18:55.073938Z",
     "iopub.status.idle": "2023-01-26T06:18:56.795101Z",
     "shell.execute_reply": "2023-01-26T06:18:56.793832Z"
    },
    "papermill": {
     "duration": 1.731788,
     "end_time": "2023-01-26T06:18:56.798392",
     "exception": false,
     "start_time": "2023-01-26T06:18:55.066604",
     "status": "completed"
    },
    "tags": []
   },
   "outputs": [],
   "source": [
    "import pandas as pd \n",
    "\n",
    "import xgboost as xgb\n",
    "\n",
    "import numpy as np\n",
    "\n",
    "from sklearn import preprocessing\n",
    "from imblearn.over_sampling import RandomOverSampler\n",
    "from sklearn.model_selection import train_test_split\n",
    "\n",
    "from sklearn.feature_extraction.text import CountVectorizer\n",
    "from sklearn.feature_extraction.text import TfidfTransformer\n",
    "\n",
    "from sklearn.metrics import accuracy_score\n",
    "from sklearn.metrics import classification_report"
   ]
  },
  {
   "cell_type": "code",
   "execution_count": 2,
   "id": "46d16ac2",
   "metadata": {
    "execution": {
     "iopub.execute_input": "2023-01-26T06:18:56.810243Z",
     "iopub.status.busy": "2023-01-26T06:18:56.809607Z",
     "iopub.status.idle": "2023-01-26T06:18:58.222814Z",
     "shell.execute_reply": "2023-01-26T06:18:58.221203Z"
    },
    "papermill": {
     "duration": 1.422005,
     "end_time": "2023-01-26T06:18:58.225791",
     "exception": false,
     "start_time": "2023-01-26T06:18:56.803786",
     "status": "completed"
    },
    "tags": []
   },
   "outputs": [],
   "source": [
    "df = pd.read_csv('/kaggle/input/amerix-sa-nlp-deep-cleaned-data/sentiment_adv_preprocessed_data.csv', index_col=0)"
   ]
  },
  {
   "cell_type": "code",
   "execution_count": 3,
   "id": "cf313b9b",
   "metadata": {
    "execution": {
     "iopub.execute_input": "2023-01-26T06:18:58.236141Z",
     "iopub.status.busy": "2023-01-26T06:18:58.235719Z",
     "iopub.status.idle": "2023-01-26T06:18:58.254758Z",
     "shell.execute_reply": "2023-01-26T06:18:58.253421Z"
    },
    "papermill": {
     "duration": 0.027135,
     "end_time": "2023-01-26T06:18:58.257262",
     "exception": false,
     "start_time": "2023-01-26T06:18:58.230127",
     "status": "completed"
    },
    "tags": []
   },
   "outputs": [
    {
     "data": {
      "text/html": [
       "<div>\n",
       "<style scoped>\n",
       "    .dataframe tbody tr th:only-of-type {\n",
       "        vertical-align: middle;\n",
       "    }\n",
       "\n",
       "    .dataframe tbody tr th {\n",
       "        vertical-align: top;\n",
       "    }\n",
       "\n",
       "    .dataframe thead th {\n",
       "        text-align: right;\n",
       "    }\n",
       "</style>\n",
       "<table border=\"1\" class=\"dataframe\">\n",
       "  <thead>\n",
       "    <tr style=\"text-align: right;\">\n",
       "      <th></th>\n",
       "      <th>tweet_created_at</th>\n",
       "      <th>text_clean</th>\n",
       "      <th>Sentiment</th>\n",
       "    </tr>\n",
       "  </thead>\n",
       "  <tbody>\n",
       "    <tr>\n",
       "      <th>0</th>\n",
       "      <td>2022-05-20 16:01:49+00:00</td>\n",
       "      <td>actor amp cookbook author recently joined the ...</td>\n",
       "      <td>1</td>\n",
       "    </tr>\n",
       "    <tr>\n",
       "      <th>1</th>\n",
       "      <td>2022-08-23 15:26:31+00:00</td>\n",
       "      <td>sprinkled a little kindness to brighten someon...</td>\n",
       "      <td>1</td>\n",
       "    </tr>\n",
       "    <tr>\n",
       "      <th>2</th>\n",
       "      <td>2021-10-15 17:23:25+00:00</td>\n",
       "      <td>the body is not stupid it has an efficient hom...</td>\n",
       "      <td>1</td>\n",
       "    </tr>\n",
       "    <tr>\n",
       "      <th>3</th>\n",
       "      <td>2022-11-19 16:26:01+00:00</td>\n",
       "      <td>food for the thought masculinitysaturday</td>\n",
       "      <td>2</td>\n",
       "    </tr>\n",
       "    <tr>\n",
       "      <th>4</th>\n",
       "      <td>2022-12-12 08:59:22+00:00</td>\n",
       "      <td>why though</td>\n",
       "      <td>2</td>\n",
       "    </tr>\n",
       "  </tbody>\n",
       "</table>\n",
       "</div>"
      ],
      "text/plain": [
       "            tweet_created_at  \\\n",
       "0  2022-05-20 16:01:49+00:00   \n",
       "1  2022-08-23 15:26:31+00:00   \n",
       "2  2021-10-15 17:23:25+00:00   \n",
       "3  2022-11-19 16:26:01+00:00   \n",
       "4  2022-12-12 08:59:22+00:00   \n",
       "\n",
       "                                          text_clean  Sentiment  \n",
       "0  actor amp cookbook author recently joined the ...          1  \n",
       "1  sprinkled a little kindness to brighten someon...          1  \n",
       "2  the body is not stupid it has an efficient hom...          1  \n",
       "3           food for the thought masculinitysaturday          2  \n",
       "4                                         why though          2  "
      ]
     },
     "execution_count": 3,
     "metadata": {},
     "output_type": "execute_result"
    }
   ],
   "source": [
    "df.head()"
   ]
  },
  {
   "cell_type": "code",
   "execution_count": 4,
   "id": "0b7397ee",
   "metadata": {
    "execution": {
     "iopub.execute_input": "2023-01-26T06:18:58.268346Z",
     "iopub.status.busy": "2023-01-26T06:18:58.267959Z",
     "iopub.status.idle": "2023-01-26T06:18:58.839197Z",
     "shell.execute_reply": "2023-01-26T06:18:58.837973Z"
    },
    "papermill": {
     "duration": 0.579964,
     "end_time": "2023-01-26T06:18:58.842005",
     "exception": false,
     "start_time": "2023-01-26T06:18:58.262041",
     "status": "completed"
    },
    "tags": []
   },
   "outputs": [],
   "source": [
    "ros = RandomOverSampler()\n",
    "\n",
    "train_x, train_y = ros.fit_resample(np.array(df['text_clean']).reshape(-1, 1), np.array(df['Sentiment']).reshape(-1, 1));\n",
    "\n",
    "ros_df = pd.DataFrame(list(zip([x[0] for x in train_x], train_y)), columns = ['text_clean', 'Sentiment']);"
   ]
  },
  {
   "cell_type": "code",
   "execution_count": 5,
   "id": "9d8c2d5f",
   "metadata": {
    "execution": {
     "iopub.execute_input": "2023-01-26T06:18:58.853581Z",
     "iopub.status.busy": "2023-01-26T06:18:58.852440Z",
     "iopub.status.idle": "2023-01-26T06:18:58.867818Z",
     "shell.execute_reply": "2023-01-26T06:18:58.866646Z"
    },
    "papermill": {
     "duration": 0.023818,
     "end_time": "2023-01-26T06:18:58.870371",
     "exception": false,
     "start_time": "2023-01-26T06:18:58.846553",
     "status": "completed"
    },
    "tags": []
   },
   "outputs": [
    {
     "data": {
      "text/plain": [
       "1    129038\n",
       "2    129038\n",
       "0    129038\n",
       "Name: Sentiment, dtype: int64"
      ]
     },
     "execution_count": 5,
     "metadata": {},
     "output_type": "execute_result"
    }
   ],
   "source": [
    "ros_df['Sentiment'].value_counts()"
   ]
  },
  {
   "cell_type": "code",
   "execution_count": 6,
   "id": "8e01597a",
   "metadata": {
    "execution": {
     "iopub.execute_input": "2023-01-26T06:18:58.881522Z",
     "iopub.status.busy": "2023-01-26T06:18:58.881094Z",
     "iopub.status.idle": "2023-01-26T06:18:58.885855Z",
     "shell.execute_reply": "2023-01-26T06:18:58.884712Z"
    },
    "papermill": {
     "duration": 0.01326,
     "end_time": "2023-01-26T06:18:58.888293",
     "exception": false,
     "start_time": "2023-01-26T06:18:58.875033",
     "status": "completed"
    },
    "tags": []
   },
   "outputs": [],
   "source": [
    "X = ros_df['text_clean'].values\n",
    "y = ros_df['Sentiment'].values"
   ]
  },
  {
   "cell_type": "code",
   "execution_count": 7,
   "id": "205114ad",
   "metadata": {
    "execution": {
     "iopub.execute_input": "2023-01-26T06:18:58.900116Z",
     "iopub.status.busy": "2023-01-26T06:18:58.899272Z",
     "iopub.status.idle": "2023-01-26T06:18:58.904697Z",
     "shell.execute_reply": "2023-01-26T06:18:58.903576Z"
    },
    "papermill": {
     "duration": 0.014732,
     "end_time": "2023-01-26T06:18:58.908049",
     "exception": false,
     "start_time": "2023-01-26T06:18:58.893317",
     "status": "completed"
    },
    "tags": []
   },
   "outputs": [
    {
     "name": "stdout",
     "output_type": "stream",
     "text": [
      "(387114,)\n",
      "(387114,)\n"
     ]
    }
   ],
   "source": [
    "print(X.shape)\n",
    "print(y.shape)"
   ]
  },
  {
   "cell_type": "code",
   "execution_count": 8,
   "id": "3b584a84",
   "metadata": {
    "execution": {
     "iopub.execute_input": "2023-01-26T06:18:58.919097Z",
     "iopub.status.busy": "2023-01-26T06:18:58.918727Z",
     "iopub.status.idle": "2023-01-26T06:18:59.090977Z",
     "shell.execute_reply": "2023-01-26T06:18:59.089570Z"
    },
    "papermill": {
     "duration": 0.180995,
     "end_time": "2023-01-26T06:18:59.093756",
     "exception": false,
     "start_time": "2023-01-26T06:18:58.912761",
     "status": "completed"
    },
    "tags": []
   },
   "outputs": [],
   "source": [
    "x_, x_test, y_, y_test = train_test_split(X, y, test_size=0.3, stratify=y, random_state=42)"
   ]
  },
  {
   "cell_type": "code",
   "execution_count": 9,
   "id": "b9552034",
   "metadata": {
    "execution": {
     "iopub.execute_input": "2023-01-26T06:18:59.105071Z",
     "iopub.status.busy": "2023-01-26T06:18:59.104636Z",
     "iopub.status.idle": "2023-01-26T06:18:59.230431Z",
     "shell.execute_reply": "2023-01-26T06:18:59.229215Z"
    },
    "papermill": {
     "duration": 0.134758,
     "end_time": "2023-01-26T06:18:59.233377",
     "exception": false,
     "start_time": "2023-01-26T06:18:59.098619",
     "status": "completed"
    },
    "tags": []
   },
   "outputs": [],
   "source": [
    "x_train, x_val, y_train, y_val = train_test_split(x_, y_, test_size=0.2, stratify=y_, random_state=42)"
   ]
  },
  {
   "cell_type": "code",
   "execution_count": 10,
   "id": "9d60987b",
   "metadata": {
    "execution": {
     "iopub.execute_input": "2023-01-26T06:18:59.245458Z",
     "iopub.status.busy": "2023-01-26T06:18:59.245001Z",
     "iopub.status.idle": "2023-01-26T06:18:59.251506Z",
     "shell.execute_reply": "2023-01-26T06:18:59.250095Z"
    },
    "papermill": {
     "duration": 0.01611,
     "end_time": "2023-01-26T06:18:59.254548",
     "exception": false,
     "start_time": "2023-01-26T06:18:59.238438",
     "status": "completed"
    },
    "tags": []
   },
   "outputs": [],
   "source": [
    "y_train_c = y_train.copy()\n",
    "y_valid_c = y_val.copy()\n",
    "y_test_c = y_test.copy()"
   ]
  },
  {
   "cell_type": "code",
   "execution_count": 11,
   "id": "bdb9abb7",
   "metadata": {
    "execution": {
     "iopub.execute_input": "2023-01-26T06:18:59.266303Z",
     "iopub.status.busy": "2023-01-26T06:18:59.265912Z",
     "iopub.status.idle": "2023-01-26T06:18:59.322663Z",
     "shell.execute_reply": "2023-01-26T06:18:59.321512Z"
    },
    "papermill": {
     "duration": 0.065671,
     "end_time": "2023-01-26T06:18:59.325469",
     "exception": false,
     "start_time": "2023-01-26T06:18:59.259798",
     "status": "completed"
    },
    "tags": []
   },
   "outputs": [],
   "source": [
    "encoder = preprocessing.OneHotEncoder()\n",
    "\n",
    "y_train = encoder.fit_transform(np.array(y_train).reshape(-1, 1)).toarray()\n",
    "y_val = encoder.fit_transform(np.array(y_val).reshape(-1, 1)).toarray()\n",
    "y_test = encoder.fit_transform(np.array(y_test).reshape(-1, 1)).toarray()"
   ]
  },
  {
   "cell_type": "code",
   "execution_count": 12,
   "id": "a7a75cff",
   "metadata": {
    "execution": {
     "iopub.execute_input": "2023-01-26T06:18:59.337845Z",
     "iopub.status.busy": "2023-01-26T06:18:59.337344Z",
     "iopub.status.idle": "2023-01-26T06:18:59.343728Z",
     "shell.execute_reply": "2023-01-26T06:18:59.342413Z"
    },
    "papermill": {
     "duration": 0.017182,
     "end_time": "2023-01-26T06:18:59.347714",
     "exception": false,
     "start_time": "2023-01-26T06:18:59.330532",
     "status": "completed"
    },
    "tags": []
   },
   "outputs": [
    {
     "name": "stdout",
     "output_type": "stream",
     "text": [
      "Training Data: 216783\n",
      "Validation Data: 54196\n",
      "Testing Data: 116135\n"
     ]
    }
   ],
   "source": [
    "print(f\"Training Data: {x_train.shape[0]}\\nValidation Data: {x_val.shape[0]}\\nTesting Data: {x_test.shape[0]}\" )"
   ]
  },
  {
   "cell_type": "code",
   "execution_count": 13,
   "id": "e5f8fdd9",
   "metadata": {
    "execution": {
     "iopub.execute_input": "2023-01-26T06:18:59.361083Z",
     "iopub.status.busy": "2023-01-26T06:18:59.360683Z",
     "iopub.status.idle": "2023-01-26T06:19:06.750145Z",
     "shell.execute_reply": "2023-01-26T06:19:06.748775Z"
    },
    "papermill": {
     "duration": 7.398862,
     "end_time": "2023-01-26T06:19:06.753035",
     "exception": false,
     "start_time": "2023-01-26T06:18:59.354173",
     "status": "completed"
    },
    "tags": []
   },
   "outputs": [],
   "source": [
    "clf = CountVectorizer()\n",
    "\n",
    "X_train_cv =  clf.fit_transform(x_train)\n",
    "X_test_cv = clf.transform(x_test)"
   ]
  },
  {
   "cell_type": "code",
   "execution_count": 14,
   "id": "ddd09fb7",
   "metadata": {
    "execution": {
     "iopub.execute_input": "2023-01-26T06:19:06.764374Z",
     "iopub.status.busy": "2023-01-26T06:19:06.763915Z",
     "iopub.status.idle": "2023-01-26T06:19:07.379990Z",
     "shell.execute_reply": "2023-01-26T06:19:07.378821Z"
    },
    "papermill": {
     "duration": 0.624792,
     "end_time": "2023-01-26T06:19:07.382838",
     "exception": false,
     "start_time": "2023-01-26T06:19:06.758046",
     "status": "completed"
    },
    "tags": []
   },
   "outputs": [],
   "source": [
    "tf_transformer = TfidfTransformer(use_idf=True).fit(X_train_cv)\n",
    "\n",
    "X_train_tf = tf_transformer.transform(X_train_cv)\n",
    "X_test_tf = tf_transformer.transform(X_test_cv)"
   ]
  },
  {
   "cell_type": "code",
   "execution_count": null,
   "id": "35fc2cd4",
   "metadata": {
    "papermill": {
     "duration": 0.0044,
     "end_time": "2023-01-26T06:19:07.392056",
     "exception": false,
     "start_time": "2023-01-26T06:19:07.387656",
     "status": "completed"
    },
    "tags": []
   },
   "outputs": [],
   "source": []
  }
 ],
 "metadata": {
  "kernelspec": {
   "display_name": "Python 3",
   "language": "python",
   "name": "python3"
  },
  "language_info": {
   "codemirror_mode": {
    "name": "ipython",
    "version": 3
   },
   "file_extension": ".py",
   "mimetype": "text/x-python",
   "name": "python",
   "nbconvert_exporter": "python",
   "pygments_lexer": "ipython3",
   "version": "3.7.12"
  },
  "papermill": {
   "default_parameters": {},
   "duration": 21.829761,
   "end_time": "2023-01-26T06:19:08.220824",
   "environment_variables": {},
   "exception": null,
   "input_path": "__notebook__.ipynb",
   "output_path": "__notebook__.ipynb",
   "parameters": {},
   "start_time": "2023-01-26T06:18:46.391063",
   "version": "2.3.4"
  }
 },
 "nbformat": 4,
 "nbformat_minor": 5
}
