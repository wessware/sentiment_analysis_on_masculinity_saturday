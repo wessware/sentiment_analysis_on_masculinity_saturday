{
 "cells": [
  {
   "cell_type": "code",
   "execution_count": 1,
   "id": "d3d0419a",
   "metadata": {
    "_cell_guid": "b1076dfc-b9ad-4769-8c92-a6c4dae69d19",
    "_uuid": "8f2839f25d086af736a60e9eeb907d3b93b6e0e5",
    "execution": {
     "iopub.execute_input": "2023-01-26T06:25:57.868181Z",
     "iopub.status.busy": "2023-01-26T06:25:57.867660Z",
     "iopub.status.idle": "2023-01-26T06:25:59.643691Z",
     "shell.execute_reply": "2023-01-26T06:25:59.642506Z"
    },
    "papermill": {
     "duration": 1.7876,
     "end_time": "2023-01-26T06:25:59.646542",
     "exception": false,
     "start_time": "2023-01-26T06:25:57.858942",
     "status": "completed"
    },
    "tags": []
   },
   "outputs": [],
   "source": [
    "import pandas as pd \n",
    "\n",
    "import xgboost as xgb\n",
    "\n",
    "import numpy as np\n",
    "\n",
    "from sklearn import preprocessing\n",
    "from imblearn.over_sampling import RandomOverSampler\n",
    "from sklearn.model_selection import train_test_split\n",
    "\n",
    "from sklearn.feature_extraction.text import CountVectorizer\n",
    "from sklearn.feature_extraction.text import TfidfTransformer\n",
    "\n",
    "from sklearn.metrics import accuracy_score\n",
    "from sklearn.metrics import classification_report"
   ]
  },
  {
   "cell_type": "code",
   "execution_count": 2,
   "id": "259de8f3",
   "metadata": {
    "execution": {
     "iopub.execute_input": "2023-01-26T06:25:59.658726Z",
     "iopub.status.busy": "2023-01-26T06:25:59.658313Z",
     "iopub.status.idle": "2023-01-26T06:26:00.995802Z",
     "shell.execute_reply": "2023-01-26T06:26:00.994554Z"
    },
    "papermill": {
     "duration": 1.34648,
     "end_time": "2023-01-26T06:26:00.998470",
     "exception": false,
     "start_time": "2023-01-26T06:25:59.651990",
     "status": "completed"
    },
    "tags": []
   },
   "outputs": [],
   "source": [
    "df = pd.read_csv('/kaggle/input/amerix-sa-nlp-deep-cleaned-data/sentiment_adv_preprocessed_data.csv', index_col=0)"
   ]
  },
  {
   "cell_type": "code",
   "execution_count": 3,
   "id": "438f3df4",
   "metadata": {
    "execution": {
     "iopub.execute_input": "2023-01-26T06:26:01.010841Z",
     "iopub.status.busy": "2023-01-26T06:26:01.010438Z",
     "iopub.status.idle": "2023-01-26T06:26:01.027654Z",
     "shell.execute_reply": "2023-01-26T06:26:01.026465Z"
    },
    "papermill": {
     "duration": 0.02653,
     "end_time": "2023-01-26T06:26:01.030342",
     "exception": false,
     "start_time": "2023-01-26T06:26:01.003812",
     "status": "completed"
    },
    "tags": []
   },
   "outputs": [
    {
     "data": {
      "text/html": [
       "<div>\n",
       "<style scoped>\n",
       "    .dataframe tbody tr th:only-of-type {\n",
       "        vertical-align: middle;\n",
       "    }\n",
       "\n",
       "    .dataframe tbody tr th {\n",
       "        vertical-align: top;\n",
       "    }\n",
       "\n",
       "    .dataframe thead th {\n",
       "        text-align: right;\n",
       "    }\n",
       "</style>\n",
       "<table border=\"1\" class=\"dataframe\">\n",
       "  <thead>\n",
       "    <tr style=\"text-align: right;\">\n",
       "      <th></th>\n",
       "      <th>tweet_created_at</th>\n",
       "      <th>text_clean</th>\n",
       "      <th>Sentiment</th>\n",
       "    </tr>\n",
       "  </thead>\n",
       "  <tbody>\n",
       "    <tr>\n",
       "      <th>0</th>\n",
       "      <td>2022-05-20 16:01:49+00:00</td>\n",
       "      <td>actor amp cookbook author recently joined the ...</td>\n",
       "      <td>1</td>\n",
       "    </tr>\n",
       "    <tr>\n",
       "      <th>1</th>\n",
       "      <td>2022-08-23 15:26:31+00:00</td>\n",
       "      <td>sprinkled a little kindness to brighten someon...</td>\n",
       "      <td>1</td>\n",
       "    </tr>\n",
       "    <tr>\n",
       "      <th>2</th>\n",
       "      <td>2021-10-15 17:23:25+00:00</td>\n",
       "      <td>the body is not stupid it has an efficient hom...</td>\n",
       "      <td>1</td>\n",
       "    </tr>\n",
       "    <tr>\n",
       "      <th>3</th>\n",
       "      <td>2022-11-19 16:26:01+00:00</td>\n",
       "      <td>food for the thought masculinitysaturday</td>\n",
       "      <td>2</td>\n",
       "    </tr>\n",
       "    <tr>\n",
       "      <th>4</th>\n",
       "      <td>2022-12-12 08:59:22+00:00</td>\n",
       "      <td>why though</td>\n",
       "      <td>2</td>\n",
       "    </tr>\n",
       "  </tbody>\n",
       "</table>\n",
       "</div>"
      ],
      "text/plain": [
       "            tweet_created_at  \\\n",
       "0  2022-05-20 16:01:49+00:00   \n",
       "1  2022-08-23 15:26:31+00:00   \n",
       "2  2021-10-15 17:23:25+00:00   \n",
       "3  2022-11-19 16:26:01+00:00   \n",
       "4  2022-12-12 08:59:22+00:00   \n",
       "\n",
       "                                          text_clean  Sentiment  \n",
       "0  actor amp cookbook author recently joined the ...          1  \n",
       "1  sprinkled a little kindness to brighten someon...          1  \n",
       "2  the body is not stupid it has an efficient hom...          1  \n",
       "3           food for the thought masculinitysaturday          2  \n",
       "4                                         why though          2  "
      ]
     },
     "execution_count": 3,
     "metadata": {},
     "output_type": "execute_result"
    }
   ],
   "source": [
    "df.head()"
   ]
  },
  {
   "cell_type": "code",
   "execution_count": 4,
   "id": "5c47b33f",
   "metadata": {
    "execution": {
     "iopub.execute_input": "2023-01-26T06:26:01.043402Z",
     "iopub.status.busy": "2023-01-26T06:26:01.042956Z",
     "iopub.status.idle": "2023-01-26T06:26:01.620008Z",
     "shell.execute_reply": "2023-01-26T06:26:01.618425Z"
    },
    "papermill": {
     "duration": 0.586924,
     "end_time": "2023-01-26T06:26:01.622846",
     "exception": false,
     "start_time": "2023-01-26T06:26:01.035922",
     "status": "completed"
    },
    "tags": []
   },
   "outputs": [],
   "source": [
    "ros = RandomOverSampler()\n",
    "\n",
    "train_x, train_y = ros.fit_resample(np.array(df['text_clean']).reshape(-1, 1), np.array(df['Sentiment']).reshape(-1, 1));\n",
    "\n",
    "ros_df = pd.DataFrame(list(zip([x[0] for x in train_x], train_y)), columns = ['text_clean', 'Sentiment']);"
   ]
  },
  {
   "cell_type": "code",
   "execution_count": 5,
   "id": "d810f1bd",
   "metadata": {
    "execution": {
     "iopub.execute_input": "2023-01-26T06:26:01.636156Z",
     "iopub.status.busy": "2023-01-26T06:26:01.635510Z",
     "iopub.status.idle": "2023-01-26T06:26:01.649034Z",
     "shell.execute_reply": "2023-01-26T06:26:01.647855Z"
    },
    "papermill": {
     "duration": 0.022913,
     "end_time": "2023-01-26T06:26:01.651378",
     "exception": false,
     "start_time": "2023-01-26T06:26:01.628465",
     "status": "completed"
    },
    "tags": []
   },
   "outputs": [
    {
     "data": {
      "text/plain": [
       "1    129038\n",
       "2    129038\n",
       "0    129038\n",
       "Name: Sentiment, dtype: int64"
      ]
     },
     "execution_count": 5,
     "metadata": {},
     "output_type": "execute_result"
    }
   ],
   "source": [
    "ros_df['Sentiment'].value_counts()"
   ]
  },
  {
   "cell_type": "code",
   "execution_count": 6,
   "id": "21786e68",
   "metadata": {
    "execution": {
     "iopub.execute_input": "2023-01-26T06:26:01.664690Z",
     "iopub.status.busy": "2023-01-26T06:26:01.664241Z",
     "iopub.status.idle": "2023-01-26T06:26:01.669776Z",
     "shell.execute_reply": "2023-01-26T06:26:01.668535Z"
    },
    "papermill": {
     "duration": 0.015069,
     "end_time": "2023-01-26T06:26:01.672126",
     "exception": false,
     "start_time": "2023-01-26T06:26:01.657057",
     "status": "completed"
    },
    "tags": []
   },
   "outputs": [],
   "source": [
    "X = ros_df['text_clean'].values\n",
    "y = ros_df['Sentiment'].values"
   ]
  },
  {
   "cell_type": "code",
   "execution_count": 7,
   "id": "11f078e4",
   "metadata": {
    "execution": {
     "iopub.execute_input": "2023-01-26T06:26:01.686212Z",
     "iopub.status.busy": "2023-01-26T06:26:01.685752Z",
     "iopub.status.idle": "2023-01-26T06:26:01.691911Z",
     "shell.execute_reply": "2023-01-26T06:26:01.690285Z"
    },
    "papermill": {
     "duration": 0.016864,
     "end_time": "2023-01-26T06:26:01.694919",
     "exception": false,
     "start_time": "2023-01-26T06:26:01.678055",
     "status": "completed"
    },
    "tags": []
   },
   "outputs": [
    {
     "name": "stdout",
     "output_type": "stream",
     "text": [
      "(387114,)\n",
      "(387114,)\n"
     ]
    }
   ],
   "source": [
    "print(X.shape)\n",
    "print(y.shape)"
   ]
  },
  {
   "cell_type": "code",
   "execution_count": 8,
   "id": "fa0c0d6c",
   "metadata": {
    "execution": {
     "iopub.execute_input": "2023-01-26T06:26:01.707992Z",
     "iopub.status.busy": "2023-01-26T06:26:01.707518Z",
     "iopub.status.idle": "2023-01-26T06:26:01.884731Z",
     "shell.execute_reply": "2023-01-26T06:26:01.883320Z"
    },
    "papermill": {
     "duration": 0.186989,
     "end_time": "2023-01-26T06:26:01.887601",
     "exception": false,
     "start_time": "2023-01-26T06:26:01.700612",
     "status": "completed"
    },
    "tags": []
   },
   "outputs": [],
   "source": [
    "x_, x_test, y_, y_test = train_test_split(X, y, test_size=0.3, stratify=y, random_state=42)"
   ]
  },
  {
   "cell_type": "code",
   "execution_count": 9,
   "id": "2728cc99",
   "metadata": {
    "execution": {
     "iopub.execute_input": "2023-01-26T06:26:01.901110Z",
     "iopub.status.busy": "2023-01-26T06:26:01.900693Z",
     "iopub.status.idle": "2023-01-26T06:26:02.026434Z",
     "shell.execute_reply": "2023-01-26T06:26:02.025004Z"
    },
    "papermill": {
     "duration": 0.135812,
     "end_time": "2023-01-26T06:26:02.029369",
     "exception": false,
     "start_time": "2023-01-26T06:26:01.893557",
     "status": "completed"
    },
    "tags": []
   },
   "outputs": [],
   "source": [
    "x_train, x_val, y_train, y_val = train_test_split(x_, y_, test_size=0.2, stratify=y_, random_state=42)"
   ]
  },
  {
   "cell_type": "code",
   "execution_count": 10,
   "id": "e0046e1a",
   "metadata": {
    "execution": {
     "iopub.execute_input": "2023-01-26T06:26:02.042423Z",
     "iopub.status.busy": "2023-01-26T06:26:02.041978Z",
     "iopub.status.idle": "2023-01-26T06:26:02.048714Z",
     "shell.execute_reply": "2023-01-26T06:26:02.047266Z"
    },
    "papermill": {
     "duration": 0.016293,
     "end_time": "2023-01-26T06:26:02.051269",
     "exception": false,
     "start_time": "2023-01-26T06:26:02.034976",
     "status": "completed"
    },
    "tags": []
   },
   "outputs": [],
   "source": [
    "y_train_c = y_train.copy()\n",
    "y_valid_c = y_val.copy()\n",
    "y_test_c = y_test.copy()"
   ]
  },
  {
   "cell_type": "code",
   "execution_count": 11,
   "id": "0ebe0d0b",
   "metadata": {
    "execution": {
     "iopub.execute_input": "2023-01-26T06:26:02.064365Z",
     "iopub.status.busy": "2023-01-26T06:26:02.063907Z",
     "iopub.status.idle": "2023-01-26T06:26:02.119850Z",
     "shell.execute_reply": "2023-01-26T06:26:02.118332Z"
    },
    "papermill": {
     "duration": 0.065778,
     "end_time": "2023-01-26T06:26:02.122717",
     "exception": false,
     "start_time": "2023-01-26T06:26:02.056939",
     "status": "completed"
    },
    "tags": []
   },
   "outputs": [],
   "source": [
    "encoder = preprocessing.OneHotEncoder()\n",
    "\n",
    "y_train = encoder.fit_transform(np.array(y_train).reshape(-1, 1)).toarray()\n",
    "y_val = encoder.fit_transform(np.array(y_val).reshape(-1, 1)).toarray()\n",
    "y_test = encoder.fit_transform(np.array(y_test).reshape(-1, 1)).toarray()"
   ]
  },
  {
   "cell_type": "code",
   "execution_count": 12,
   "id": "39e6127d",
   "metadata": {
    "execution": {
     "iopub.execute_input": "2023-01-26T06:26:02.136824Z",
     "iopub.status.busy": "2023-01-26T06:26:02.135989Z",
     "iopub.status.idle": "2023-01-26T06:26:02.144981Z",
     "shell.execute_reply": "2023-01-26T06:26:02.143163Z"
    },
    "papermill": {
     "duration": 0.019724,
     "end_time": "2023-01-26T06:26:02.148152",
     "exception": false,
     "start_time": "2023-01-26T06:26:02.128428",
     "status": "completed"
    },
    "tags": []
   },
   "outputs": [
    {
     "name": "stdout",
     "output_type": "stream",
     "text": [
      "Training Data: 216783\n",
      "Validation Data: 54196\n",
      "Testing Data: 116135\n"
     ]
    }
   ],
   "source": [
    "print(f\"Training Data: {x_train.shape[0]}\\nValidation Data: {x_val.shape[0]}\\nTesting Data: {x_test.shape[0]}\" )"
   ]
  },
  {
   "cell_type": "code",
   "execution_count": 13,
   "id": "996b55f7",
   "metadata": {
    "execution": {
     "iopub.execute_input": "2023-01-26T06:26:02.161801Z",
     "iopub.status.busy": "2023-01-26T06:26:02.161354Z",
     "iopub.status.idle": "2023-01-26T06:26:09.438816Z",
     "shell.execute_reply": "2023-01-26T06:26:09.437592Z"
    },
    "papermill": {
     "duration": 7.28776,
     "end_time": "2023-01-26T06:26:09.441928",
     "exception": false,
     "start_time": "2023-01-26T06:26:02.154168",
     "status": "completed"
    },
    "tags": []
   },
   "outputs": [],
   "source": [
    "clf = CountVectorizer()\n",
    "\n",
    "X_train_cv =  clf.fit_transform(x_train)\n",
    "X_test_cv = clf.transform(x_test)"
   ]
  },
  {
   "cell_type": "code",
   "execution_count": 14,
   "id": "1b1049ff",
   "metadata": {
    "execution": {
     "iopub.execute_input": "2023-01-26T06:26:09.455667Z",
     "iopub.status.busy": "2023-01-26T06:26:09.454788Z",
     "iopub.status.idle": "2023-01-26T06:26:10.094745Z",
     "shell.execute_reply": "2023-01-26T06:26:10.093443Z"
    },
    "papermill": {
     "duration": 0.650216,
     "end_time": "2023-01-26T06:26:10.097908",
     "exception": false,
     "start_time": "2023-01-26T06:26:09.447692",
     "status": "completed"
    },
    "tags": []
   },
   "outputs": [],
   "source": [
    "tf_transformer = TfidfTransformer(use_idf=True).fit(X_train_cv)\n",
    "\n",
    "X_train_tf = tf_transformer.transform(X_train_cv)\n",
    "X_test_tf = tf_transformer.transform(X_test_cv)"
   ]
  },
  {
   "cell_type": "code",
   "execution_count": 15,
   "id": "7c58ec8d",
   "metadata": {
    "execution": {
     "iopub.execute_input": "2023-01-26T06:26:10.111096Z",
     "iopub.status.busy": "2023-01-26T06:26:10.110681Z",
     "iopub.status.idle": "2023-01-26T06:26:10.115612Z",
     "shell.execute_reply": "2023-01-26T06:26:10.114483Z"
    },
    "papermill": {
     "duration": 0.014279,
     "end_time": "2023-01-26T06:26:10.118032",
     "exception": false,
     "start_time": "2023-01-26T06:26:10.103753",
     "status": "completed"
    },
    "tags": []
   },
   "outputs": [],
   "source": [
    "xgb_classifier = xgb.XGBClassifier()"
   ]
  },
  {
   "cell_type": "code",
   "execution_count": 16,
   "id": "8da10e1d",
   "metadata": {
    "execution": {
     "iopub.execute_input": "2023-01-26T06:26:10.131689Z",
     "iopub.status.busy": "2023-01-26T06:26:10.130868Z",
     "iopub.status.idle": "2023-01-26T06:29:46.905969Z",
     "shell.execute_reply": "2023-01-26T06:29:46.904773Z"
    },
    "papermill": {
     "duration": 216.790278,
     "end_time": "2023-01-26T06:29:46.914047",
     "exception": false,
     "start_time": "2023-01-26T06:26:10.123769",
     "status": "completed"
    },
    "tags": []
   },
   "outputs": [
    {
     "data": {
      "text/plain": [
       "XGBClassifier(base_score=0.5, booster='gbtree', callbacks=None,\n",
       "              colsample_bylevel=1, colsample_bynode=1, colsample_bytree=1,\n",
       "              early_stopping_rounds=None, enable_categorical=False,\n",
       "              eval_metric=None, gamma=0, gpu_id=-1, grow_policy='depthwise',\n",
       "              importance_type=None, interaction_constraints='',\n",
       "              learning_rate=0.300000012, max_bin=256, max_cat_to_onehot=4,\n",
       "              max_delta_step=0, max_depth=6, max_leaves=0, min_child_weight=1,\n",
       "              missing=nan, monotone_constraints='()', n_estimators=100,\n",
       "              n_jobs=0, num_parallel_tree=1, objective='multi:softprob',\n",
       "              predictor='auto', random_state=0, reg_alpha=0, ...)"
      ]
     },
     "execution_count": 16,
     "metadata": {},
     "output_type": "execute_result"
    }
   ],
   "source": [
    "xgb_classifier.fit(X_train_tf, y_train_c)"
   ]
  },
  {
   "cell_type": "code",
   "execution_count": 17,
   "id": "24a677c3",
   "metadata": {
    "execution": {
     "iopub.execute_input": "2023-01-26T06:29:46.927576Z",
     "iopub.status.busy": "2023-01-26T06:29:46.927150Z",
     "iopub.status.idle": "2023-01-26T06:29:47.637564Z",
     "shell.execute_reply": "2023-01-26T06:29:47.636603Z"
    },
    "papermill": {
     "duration": 0.720292,
     "end_time": "2023-01-26T06:29:47.640332",
     "exception": false,
     "start_time": "2023-01-26T06:29:46.920040",
     "status": "completed"
    },
    "tags": []
   },
   "outputs": [],
   "source": [
    "xgb_prediction = xgb_classifier.predict(X_test_tf)"
   ]
  },
  {
   "cell_type": "code",
   "execution_count": 18,
   "id": "80e9bbd0",
   "metadata": {
    "execution": {
     "iopub.execute_input": "2023-01-26T06:29:47.654024Z",
     "iopub.status.busy": "2023-01-26T06:29:47.653595Z",
     "iopub.status.idle": "2023-01-26T06:29:47.878500Z",
     "shell.execute_reply": "2023-01-26T06:29:47.876509Z"
    },
    "papermill": {
     "duration": 0.235597,
     "end_time": "2023-01-26T06:29:47.881991",
     "exception": false,
     "start_time": "2023-01-26T06:29:47.646394",
     "status": "completed"
    },
    "tags": []
   },
   "outputs": [
    {
     "name": "stdout",
     "output_type": "stream",
     "text": [
      "\tExtreme Gradient Boosters Classification Report:\n",
      "\n",
      "               precision    recall  f1-score   support\n",
      "\n",
      "    Negative       0.80      0.73      0.76     38711\n",
      "    Positive       0.86      0.74      0.79     38712\n",
      "     Neutral       0.73      0.90      0.81     38712\n",
      "\n",
      "    accuracy                           0.79    116135\n",
      "   macro avg       0.80      0.79      0.79    116135\n",
      "weighted avg       0.80      0.79      0.79    116135\n",
      "\n"
     ]
    }
   ],
   "source": [
    "print('\\tExtreme Gradient Boosters Classification Report:\\n\\n',\n",
    "      classification_report(y_test_c,xgb_prediction, target_names=['Negative', 'Positive', 'Neutral']))"
   ]
  },
  {
   "cell_type": "code",
   "execution_count": null,
   "id": "6d9f53b5",
   "metadata": {
    "papermill": {
     "duration": 0.005603,
     "end_time": "2023-01-26T06:29:47.893676",
     "exception": false,
     "start_time": "2023-01-26T06:29:47.888073",
     "status": "completed"
    },
    "tags": []
   },
   "outputs": [],
   "source": []
  }
 ],
 "metadata": {
  "kernelspec": {
   "display_name": "Python 3",
   "language": "python",
   "name": "python3"
  },
  "language_info": {
   "codemirror_mode": {
    "name": "ipython",
    "version": 3
   },
   "file_extension": ".py",
   "mimetype": "text/x-python",
   "name": "python",
   "nbconvert_exporter": "python",
   "pygments_lexer": "ipython3",
   "version": "3.7.12"
  },
  "papermill": {
   "default_parameters": {},
   "duration": 240.288124,
   "end_time": "2023-01-26T06:29:48.723395",
   "environment_variables": {},
   "exception": null,
   "input_path": "__notebook__.ipynb",
   "output_path": "__notebook__.ipynb",
   "parameters": {},
   "start_time": "2023-01-26T06:25:48.435271",
   "version": "2.3.4"
  }
 },
 "nbformat": 4,
 "nbformat_minor": 5
}
