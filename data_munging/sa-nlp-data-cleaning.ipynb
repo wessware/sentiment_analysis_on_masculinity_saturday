{
 "cells": [
  {
   "cell_type": "code",
   "execution_count": 1,
   "id": "3cd61393",
   "metadata": {
    "_cell_guid": "b1076dfc-b9ad-4769-8c92-a6c4dae69d19",
    "_uuid": "8f2839f25d086af736a60e9eeb907d3b93b6e0e5",
    "execution": {
     "iopub.execute_input": "2023-01-18T07:12:46.863815Z",
     "iopub.status.busy": "2023-01-18T07:12:46.863319Z",
     "iopub.status.idle": "2023-01-18T07:12:48.603545Z",
     "shell.execute_reply": "2023-01-18T07:12:48.602117Z"
    },
    "papermill": {
     "duration": 1.754625,
     "end_time": "2023-01-18T07:12:48.607132",
     "exception": false,
     "start_time": "2023-01-18T07:12:46.852507",
     "status": "completed"
    },
    "tags": []
   },
   "outputs": [],
   "source": [
    "import pandas as pd\n",
    "\n",
    "import re\n",
    "import string\n",
    "import os\n",
    "\n",
    "from IPython.display import FileLink\n",
    "\n",
    "import nltk\n",
    "from nltk import pos_tag, word_tokenize\n",
    "from nltk.stem import WordNetLemmatizer \n",
    "from nltk.stem.porter import PorterStemmer\n",
    "from nltk.corpus import stopwords"
   ]
  },
  {
   "cell_type": "code",
   "execution_count": 2,
   "id": "1768f37b",
   "metadata": {
    "execution": {
     "iopub.execute_input": "2023-01-18T07:12:48.623147Z",
     "iopub.status.busy": "2023-01-18T07:12:48.622623Z",
     "iopub.status.idle": "2023-01-18T07:12:50.697468Z",
     "shell.execute_reply": "2023-01-18T07:12:50.696236Z"
    },
    "papermill": {
     "duration": 2.086731,
     "end_time": "2023-01-18T07:12:50.701028",
     "exception": false,
     "start_time": "2023-01-18T07:12:48.614297",
     "status": "completed"
    },
    "tags": []
   },
   "outputs": [],
   "source": [
    "df = pd.read_csv('/kaggle/input/masculinity-saturday-twitter-sentiment-analysis/twitter_sentiment_analysis_masculinity_saturday_data_annotated.csv')"
   ]
  },
  {
   "cell_type": "code",
   "execution_count": 3,
   "id": "52710a3e",
   "metadata": {
    "execution": {
     "iopub.execute_input": "2023-01-18T07:12:50.716688Z",
     "iopub.status.busy": "2023-01-18T07:12:50.716222Z",
     "iopub.status.idle": "2023-01-18T07:12:50.734263Z",
     "shell.execute_reply": "2023-01-18T07:12:50.732440Z"
    },
    "papermill": {
     "duration": 0.029444,
     "end_time": "2023-01-18T07:12:50.737470",
     "exception": false,
     "start_time": "2023-01-18T07:12:50.708026",
     "status": "completed"
    },
    "tags": []
   },
   "outputs": [
    {
     "name": "stdout",
     "output_type": "stream",
     "text": [
      "   Unnamed: 0           tweet_created_at  \\\n",
      "0           0  2022-12-30 22:37:46+00:00   \n",
      "1           1  2022-12-30 22:30:58+00:00   \n",
      "2           2  2022-12-30 22:18:00+00:00   \n",
      "3           3  2022-12-30 20:42:54+00:00   \n",
      "4           4  2022-12-30 20:32:23+00:00   \n",
      "\n",
      "                                                text  Positive  Negative  \\\n",
      "0  Men who have refused to listen to/attend @amer...     0.000     0.073   \n",
      "1                       @OvOBrezzzy Take amerix next     0.000     0.000   \n",
      "2  @AyodeleYo11 @amerix Nah I’m good my masculini...     0.493     0.068   \n",
      "3  @Amerix_DontSimp There is no need for dating i...     0.000     0.180   \n",
      "4  @DyeAnna7 @amerix @kibe From what cos nothing ...     0.110     0.000   \n",
      "\n",
      "   Neutral  Compound Sentiment  \n",
      "0    0.927   -0.2960  Negative  \n",
      "1    1.000    0.0000   Neutral  \n",
      "2    0.439    0.8271  Positive  \n",
      "3    0.820   -0.2960  Negative  \n",
      "4    0.890    0.6908  Positive  \n"
     ]
    }
   ],
   "source": [
    "print(df.head())"
   ]
  },
  {
   "cell_type": "code",
   "execution_count": 4,
   "id": "0af0ba99",
   "metadata": {
    "execution": {
     "iopub.execute_input": "2023-01-18T07:12:50.754182Z",
     "iopub.status.busy": "2023-01-18T07:12:50.753355Z",
     "iopub.status.idle": "2023-01-18T07:12:50.831278Z",
     "shell.execute_reply": "2023-01-18T07:12:50.829692Z"
    },
    "papermill": {
     "duration": 0.089406,
     "end_time": "2023-01-18T07:12:50.834389",
     "exception": false,
     "start_time": "2023-01-18T07:12:50.744983",
     "status": "completed"
    },
    "tags": []
   },
   "outputs": [
    {
     "name": "stdout",
     "output_type": "stream",
     "text": [
      "<class 'pandas.core.frame.DataFrame'>\n",
      "RangeIndex: 248738 entries, 0 to 248737\n",
      "Data columns (total 8 columns):\n",
      " #   Column            Non-Null Count   Dtype  \n",
      "---  ------            --------------   -----  \n",
      " 0   Unnamed: 0        248738 non-null  int64  \n",
      " 1   tweet_created_at  248738 non-null  object \n",
      " 2   text              248738 non-null  object \n",
      " 3   Positive          248738 non-null  float64\n",
      " 4   Negative          248738 non-null  float64\n",
      " 5   Neutral           248738 non-null  float64\n",
      " 6   Compound          248738 non-null  float64\n",
      " 7   Sentiment         248738 non-null  object \n",
      "dtypes: float64(4), int64(1), object(3)\n",
      "memory usage: 15.2+ MB\n"
     ]
    }
   ],
   "source": [
    "df.info()"
   ]
  },
  {
   "cell_type": "code",
   "execution_count": 5,
   "id": "a5cead6c",
   "metadata": {
    "execution": {
     "iopub.execute_input": "2023-01-18T07:12:50.851095Z",
     "iopub.status.busy": "2023-01-18T07:12:50.850636Z",
     "iopub.status.idle": "2023-01-18T07:12:50.878514Z",
     "shell.execute_reply": "2023-01-18T07:12:50.877443Z"
    },
    "papermill": {
     "duration": 0.039765,
     "end_time": "2023-01-18T07:12:50.881306",
     "exception": false,
     "start_time": "2023-01-18T07:12:50.841541",
     "status": "completed"
    },
    "tags": []
   },
   "outputs": [],
   "source": [
    "df = df.drop(columns=['Unnamed: 0', 'Positive', 'Negative',\n",
    "       'Neutral', 'Compound'])"
   ]
  },
  {
   "cell_type": "code",
   "execution_count": 6,
   "id": "108a804b",
   "metadata": {
    "execution": {
     "iopub.execute_input": "2023-01-18T07:12:50.897444Z",
     "iopub.status.busy": "2023-01-18T07:12:50.896987Z",
     "iopub.status.idle": "2023-01-18T07:12:50.907036Z",
     "shell.execute_reply": "2023-01-18T07:12:50.905771Z"
    },
    "papermill": {
     "duration": 0.021286,
     "end_time": "2023-01-18T07:12:50.909733",
     "exception": false,
     "start_time": "2023-01-18T07:12:50.888447",
     "status": "completed"
    },
    "tags": []
   },
   "outputs": [
    {
     "data": {
      "text/plain": [
       "Index(['tweet_created_at', 'text', 'Sentiment'], dtype='object')"
      ]
     },
     "execution_count": 6,
     "metadata": {},
     "output_type": "execute_result"
    }
   ],
   "source": [
    "df.columns"
   ]
  },
  {
   "cell_type": "code",
   "execution_count": 7,
   "id": "dac1d367",
   "metadata": {
    "execution": {
     "iopub.execute_input": "2023-01-18T07:12:50.926947Z",
     "iopub.status.busy": "2023-01-18T07:12:50.925935Z",
     "iopub.status.idle": "2023-01-18T07:12:51.074370Z",
     "shell.execute_reply": "2023-01-18T07:12:51.072832Z"
    },
    "papermill": {
     "duration": 0.160026,
     "end_time": "2023-01-18T07:12:51.077394",
     "exception": false,
     "start_time": "2023-01-18T07:12:50.917368",
     "status": "completed"
    },
    "tags": []
   },
   "outputs": [],
   "source": [
    "df['tweet_created_at'] = df['tweet_created_at'].astype('datetime64[ns]')"
   ]
  },
  {
   "cell_type": "code",
   "execution_count": 8,
   "id": "2ed1c6f8",
   "metadata": {
    "execution": {
     "iopub.execute_input": "2023-01-18T07:12:51.095567Z",
     "iopub.status.busy": "2023-01-18T07:12:51.095107Z",
     "iopub.status.idle": "2023-01-18T07:12:51.144415Z",
     "shell.execute_reply": "2023-01-18T07:12:51.143024Z"
    },
    "papermill": {
     "duration": 0.062403,
     "end_time": "2023-01-18T07:12:51.147008",
     "exception": false,
     "start_time": "2023-01-18T07:12:51.084605",
     "status": "completed"
    },
    "tags": []
   },
   "outputs": [
    {
     "name": "stdout",
     "output_type": "stream",
     "text": [
      "<class 'pandas.core.frame.DataFrame'>\n",
      "RangeIndex: 248738 entries, 0 to 248737\n",
      "Data columns (total 3 columns):\n",
      " #   Column            Non-Null Count   Dtype         \n",
      "---  ------            --------------   -----         \n",
      " 0   tweet_created_at  248738 non-null  datetime64[ns]\n",
      " 1   text              248738 non-null  object        \n",
      " 2   Sentiment         248738 non-null  object        \n",
      "dtypes: datetime64[ns](1), object(2)\n",
      "memory usage: 5.7+ MB\n"
     ]
    }
   ],
   "source": [
    "df.info()"
   ]
  },
  {
   "cell_type": "code",
   "execution_count": 9,
   "id": "b0b131d3",
   "metadata": {
    "execution": {
     "iopub.execute_input": "2023-01-18T07:12:51.163897Z",
     "iopub.status.busy": "2023-01-18T07:12:51.162946Z",
     "iopub.status.idle": "2023-01-18T07:12:51.172391Z",
     "shell.execute_reply": "2023-01-18T07:12:51.171137Z"
    },
    "papermill": {
     "duration": 0.020573,
     "end_time": "2023-01-18T07:12:51.174905",
     "exception": false,
     "start_time": "2023-01-18T07:12:51.154332",
     "status": "completed"
    },
    "tags": []
   },
   "outputs": [
    {
     "name": "stdout",
     "output_type": "stream",
     "text": [
      "     tweet_created_at                                               text  \\\n",
      "0 2022-12-30 22:37:46  Men who have refused to listen to/attend @amer...   \n",
      "1 2022-12-30 22:30:58                       @OvOBrezzzy Take amerix next   \n",
      "2 2022-12-30 22:18:00  @AyodeleYo11 @amerix Nah I’m good my masculini...   \n",
      "3 2022-12-30 20:42:54  @Amerix_DontSimp There is no need for dating i...   \n",
      "4 2022-12-30 20:32:23  @DyeAnna7 @amerix @kibe From what cos nothing ...   \n",
      "\n",
      "  Sentiment  \n",
      "0  Negative  \n",
      "1   Neutral  \n",
      "2  Positive  \n",
      "3  Negative  \n",
      "4  Positive  \n"
     ]
    }
   ],
   "source": [
    "print(df.head())"
   ]
  },
  {
   "cell_type": "code",
   "execution_count": 10,
   "id": "524f17ac",
   "metadata": {
    "execution": {
     "iopub.execute_input": "2023-01-18T07:12:51.192789Z",
     "iopub.status.busy": "2023-01-18T07:12:51.192023Z",
     "iopub.status.idle": "2023-01-18T07:12:52.777511Z",
     "shell.execute_reply": "2023-01-18T07:12:52.776026Z"
    },
    "papermill": {
     "duration": 1.598216,
     "end_time": "2023-01-18T07:12:52.780461",
     "exception": false,
     "start_time": "2023-01-18T07:12:51.182245",
     "status": "completed"
    },
    "tags": []
   },
   "outputs": [],
   "source": [
    "STOPWORDS = set(stopwords.words('english'))\n",
    "\n",
    "def cleaning_stopwords(text):\n",
    "    return \" \".join([word for word in str(text).split() if word not in STOPWORDS])\n",
    "\n",
    "df['text'] = df['text'].apply(lambda text: cleaning_stopwords(text))"
   ]
  },
  {
   "cell_type": "code",
   "execution_count": 11,
   "id": "78dfac4d",
   "metadata": {
    "execution": {
     "iopub.execute_input": "2023-01-18T07:12:52.797676Z",
     "iopub.status.busy": "2023-01-18T07:12:52.796890Z",
     "iopub.status.idle": "2023-01-18T07:12:52.811779Z",
     "shell.execute_reply": "2023-01-18T07:12:52.810423Z"
    },
    "papermill": {
     "duration": 0.026365,
     "end_time": "2023-01-18T07:12:52.814502",
     "exception": false,
     "start_time": "2023-01-18T07:12:52.788137",
     "status": "completed"
    },
    "tags": []
   },
   "outputs": [
    {
     "data": {
      "text/html": [
       "<div>\n",
       "<style scoped>\n",
       "    .dataframe tbody tr th:only-of-type {\n",
       "        vertical-align: middle;\n",
       "    }\n",
       "\n",
       "    .dataframe tbody tr th {\n",
       "        vertical-align: top;\n",
       "    }\n",
       "\n",
       "    .dataframe thead th {\n",
       "        text-align: right;\n",
       "    }\n",
       "</style>\n",
       "<table border=\"1\" class=\"dataframe\">\n",
       "  <thead>\n",
       "    <tr style=\"text-align: right;\">\n",
       "      <th></th>\n",
       "      <th>tweet_created_at</th>\n",
       "      <th>text</th>\n",
       "      <th>Sentiment</th>\n",
       "    </tr>\n",
       "  </thead>\n",
       "  <tbody>\n",
       "    <tr>\n",
       "      <th>0</th>\n",
       "      <td>2022-12-30 22:37:46</td>\n",
       "      <td>Men refused listen to/attend @amerix classes m...</td>\n",
       "      <td>Negative</td>\n",
       "    </tr>\n",
       "    <tr>\n",
       "      <th>1</th>\n",
       "      <td>2022-12-30 22:30:58</td>\n",
       "      <td>@OvOBrezzzy Take amerix next</td>\n",
       "      <td>Neutral</td>\n",
       "    </tr>\n",
       "    <tr>\n",
       "      <th>2</th>\n",
       "      <td>2022-12-30 22:18:00</td>\n",
       "      <td>@AyodeleYo11 @amerix Nah I’m good masculinity,...</td>\n",
       "      <td>Positive</td>\n",
       "    </tr>\n",
       "    <tr>\n",
       "      <th>3</th>\n",
       "      <td>2022-12-30 20:42:54</td>\n",
       "      <td>@Amerix_DontSimp There need dating first place</td>\n",
       "      <td>Negative</td>\n",
       "    </tr>\n",
       "    <tr>\n",
       "      <th>4</th>\n",
       "      <td>2022-12-30 20:32:23</td>\n",
       "      <td>@DyeAnna7 @amerix @kibe From cos nothing chang...</td>\n",
       "      <td>Positive</td>\n",
       "    </tr>\n",
       "  </tbody>\n",
       "</table>\n",
       "</div>"
      ],
      "text/plain": [
       "     tweet_created_at                                               text  \\\n",
       "0 2022-12-30 22:37:46  Men refused listen to/attend @amerix classes m...   \n",
       "1 2022-12-30 22:30:58                       @OvOBrezzzy Take amerix next   \n",
       "2 2022-12-30 22:18:00  @AyodeleYo11 @amerix Nah I’m good masculinity,...   \n",
       "3 2022-12-30 20:42:54     @Amerix_DontSimp There need dating first place   \n",
       "4 2022-12-30 20:32:23  @DyeAnna7 @amerix @kibe From cos nothing chang...   \n",
       "\n",
       "  Sentiment  \n",
       "0  Negative  \n",
       "1   Neutral  \n",
       "2  Positive  \n",
       "3  Negative  \n",
       "4  Positive  "
      ]
     },
     "execution_count": 11,
     "metadata": {},
     "output_type": "execute_result"
    }
   ],
   "source": [
    "df.head()"
   ]
  },
  {
   "cell_type": "code",
   "execution_count": 12,
   "id": "5f932c7c",
   "metadata": {
    "execution": {
     "iopub.execute_input": "2023-01-18T07:12:52.831678Z",
     "iopub.status.busy": "2023-01-18T07:12:52.831257Z",
     "iopub.status.idle": "2023-01-18T07:12:54.988013Z",
     "shell.execute_reply": "2023-01-18T07:12:54.986812Z"
    },
    "papermill": {
     "duration": 2.168442,
     "end_time": "2023-01-18T07:12:54.990673",
     "exception": false,
     "start_time": "2023-01-18T07:12:52.822231",
     "status": "completed"
    },
    "tags": []
   },
   "outputs": [],
   "source": [
    "def cleaning_URLs(data):\n",
    "    return re.sub('((www\\.[^\\s]+)|(https?://[^\\s]+))',' ',data)\n",
    "df['text']= df['text'].apply(lambda x: cleaning_URLs(x))"
   ]
  },
  {
   "cell_type": "code",
   "execution_count": 13,
   "id": "8b4818b0",
   "metadata": {
    "execution": {
     "iopub.execute_input": "2023-01-18T07:12:55.009893Z",
     "iopub.status.busy": "2023-01-18T07:12:55.009388Z",
     "iopub.status.idle": "2023-01-18T07:12:55.022153Z",
     "shell.execute_reply": "2023-01-18T07:12:55.020727Z"
    },
    "papermill": {
     "duration": 0.025499,
     "end_time": "2023-01-18T07:12:55.024578",
     "exception": false,
     "start_time": "2023-01-18T07:12:54.999079",
     "status": "completed"
    },
    "tags": []
   },
   "outputs": [
    {
     "data": {
      "text/html": [
       "<div>\n",
       "<style scoped>\n",
       "    .dataframe tbody tr th:only-of-type {\n",
       "        vertical-align: middle;\n",
       "    }\n",
       "\n",
       "    .dataframe tbody tr th {\n",
       "        vertical-align: top;\n",
       "    }\n",
       "\n",
       "    .dataframe thead th {\n",
       "        text-align: right;\n",
       "    }\n",
       "</style>\n",
       "<table border=\"1\" class=\"dataframe\">\n",
       "  <thead>\n",
       "    <tr style=\"text-align: right;\">\n",
       "      <th></th>\n",
       "      <th>tweet_created_at</th>\n",
       "      <th>text</th>\n",
       "      <th>Sentiment</th>\n",
       "    </tr>\n",
       "  </thead>\n",
       "  <tbody>\n",
       "    <tr>\n",
       "      <th>0</th>\n",
       "      <td>2022-12-30 22:37:46</td>\n",
       "      <td>Men refused listen to/attend @amerix classes m...</td>\n",
       "      <td>Negative</td>\n",
       "    </tr>\n",
       "    <tr>\n",
       "      <th>1</th>\n",
       "      <td>2022-12-30 22:30:58</td>\n",
       "      <td>@OvOBrezzzy Take amerix next</td>\n",
       "      <td>Neutral</td>\n",
       "    </tr>\n",
       "    <tr>\n",
       "      <th>2</th>\n",
       "      <td>2022-12-30 22:18:00</td>\n",
       "      <td>@AyodeleYo11 @amerix Nah I’m good masculinity,...</td>\n",
       "      <td>Positive</td>\n",
       "    </tr>\n",
       "    <tr>\n",
       "      <th>3</th>\n",
       "      <td>2022-12-30 20:42:54</td>\n",
       "      <td>@Amerix_DontSimp There need dating first place</td>\n",
       "      <td>Negative</td>\n",
       "    </tr>\n",
       "    <tr>\n",
       "      <th>4</th>\n",
       "      <td>2022-12-30 20:32:23</td>\n",
       "      <td>@DyeAnna7 @amerix @kibe From cos nothing chang...</td>\n",
       "      <td>Positive</td>\n",
       "    </tr>\n",
       "  </tbody>\n",
       "</table>\n",
       "</div>"
      ],
      "text/plain": [
       "     tweet_created_at                                               text  \\\n",
       "0 2022-12-30 22:37:46  Men refused listen to/attend @amerix classes m...   \n",
       "1 2022-12-30 22:30:58                       @OvOBrezzzy Take amerix next   \n",
       "2 2022-12-30 22:18:00  @AyodeleYo11 @amerix Nah I’m good masculinity,...   \n",
       "3 2022-12-30 20:42:54     @Amerix_DontSimp There need dating first place   \n",
       "4 2022-12-30 20:32:23  @DyeAnna7 @amerix @kibe From cos nothing chang...   \n",
       "\n",
       "  Sentiment  \n",
       "0  Negative  \n",
       "1   Neutral  \n",
       "2  Positive  \n",
       "3  Negative  \n",
       "4  Positive  "
      ]
     },
     "execution_count": 13,
     "metadata": {},
     "output_type": "execute_result"
    }
   ],
   "source": [
    "df.head()"
   ]
  },
  {
   "cell_type": "code",
   "execution_count": 14,
   "id": "20739f76",
   "metadata": {
    "execution": {
     "iopub.execute_input": "2023-01-18T07:12:55.043537Z",
     "iopub.status.busy": "2023-01-18T07:12:55.043064Z",
     "iopub.status.idle": "2023-01-18T07:12:57.238659Z",
     "shell.execute_reply": "2023-01-18T07:12:57.237428Z"
    },
    "papermill": {
     "duration": 2.208574,
     "end_time": "2023-01-18T07:12:57.241674",
     "exception": false,
     "start_time": "2023-01-18T07:12:55.033100",
     "status": "completed"
    },
    "tags": []
   },
   "outputs": [],
   "source": [
    "english_punctuations = string.punctuation\n",
    "punctuations_list = english_punctuations\n",
    "def cleaning_punctuations(text):\n",
    "    translator = str.maketrans('', '', punctuations_list)\n",
    "    return text.translate(translator)\n",
    "df['text']= df['text'].apply(lambda x: cleaning_punctuations(x))"
   ]
  },
  {
   "cell_type": "code",
   "execution_count": 15,
   "id": "18e6de3c",
   "metadata": {
    "execution": {
     "iopub.execute_input": "2023-01-18T07:12:57.259536Z",
     "iopub.status.busy": "2023-01-18T07:12:57.259085Z",
     "iopub.status.idle": "2023-01-18T07:12:57.272545Z",
     "shell.execute_reply": "2023-01-18T07:12:57.271068Z"
    },
    "papermill": {
     "duration": 0.02575,
     "end_time": "2023-01-18T07:12:57.275202",
     "exception": false,
     "start_time": "2023-01-18T07:12:57.249452",
     "status": "completed"
    },
    "tags": []
   },
   "outputs": [
    {
     "data": {
      "text/html": [
       "<div>\n",
       "<style scoped>\n",
       "    .dataframe tbody tr th:only-of-type {\n",
       "        vertical-align: middle;\n",
       "    }\n",
       "\n",
       "    .dataframe tbody tr th {\n",
       "        vertical-align: top;\n",
       "    }\n",
       "\n",
       "    .dataframe thead th {\n",
       "        text-align: right;\n",
       "    }\n",
       "</style>\n",
       "<table border=\"1\" class=\"dataframe\">\n",
       "  <thead>\n",
       "    <tr style=\"text-align: right;\">\n",
       "      <th></th>\n",
       "      <th>tweet_created_at</th>\n",
       "      <th>text</th>\n",
       "      <th>Sentiment</th>\n",
       "    </tr>\n",
       "  </thead>\n",
       "  <tbody>\n",
       "    <tr>\n",
       "      <th>0</th>\n",
       "      <td>2022-12-30 22:37:46</td>\n",
       "      <td>Men refused listen toattend amerix classes men...</td>\n",
       "      <td>Negative</td>\n",
       "    </tr>\n",
       "    <tr>\n",
       "      <th>1</th>\n",
       "      <td>2022-12-30 22:30:58</td>\n",
       "      <td>OvOBrezzzy Take amerix next</td>\n",
       "      <td>Neutral</td>\n",
       "    </tr>\n",
       "    <tr>\n",
       "      <th>2</th>\n",
       "      <td>2022-12-30 22:18:00</td>\n",
       "      <td>AyodeleYo11 amerix Nah I’m good masculinity he...</td>\n",
       "      <td>Positive</td>\n",
       "    </tr>\n",
       "    <tr>\n",
       "      <th>3</th>\n",
       "      <td>2022-12-30 20:42:54</td>\n",
       "      <td>AmerixDontSimp There need dating first place</td>\n",
       "      <td>Negative</td>\n",
       "    </tr>\n",
       "    <tr>\n",
       "      <th>4</th>\n",
       "      <td>2022-12-30 20:32:23</td>\n",
       "      <td>DyeAnna7 amerix kibe From cos nothing changing...</td>\n",
       "      <td>Positive</td>\n",
       "    </tr>\n",
       "  </tbody>\n",
       "</table>\n",
       "</div>"
      ],
      "text/plain": [
       "     tweet_created_at                                               text  \\\n",
       "0 2022-12-30 22:37:46  Men refused listen toattend amerix classes men...   \n",
       "1 2022-12-30 22:30:58                        OvOBrezzzy Take amerix next   \n",
       "2 2022-12-30 22:18:00  AyodeleYo11 amerix Nah I’m good masculinity he...   \n",
       "3 2022-12-30 20:42:54       AmerixDontSimp There need dating first place   \n",
       "4 2022-12-30 20:32:23  DyeAnna7 amerix kibe From cos nothing changing...   \n",
       "\n",
       "  Sentiment  \n",
       "0  Negative  \n",
       "1   Neutral  \n",
       "2  Positive  \n",
       "3  Negative  \n",
       "4  Positive  "
      ]
     },
     "execution_count": 15,
     "metadata": {},
     "output_type": "execute_result"
    }
   ],
   "source": [
    "df.head()"
   ]
  },
  {
   "cell_type": "code",
   "execution_count": 16,
   "id": "03a668cb",
   "metadata": {
    "execution": {
     "iopub.execute_input": "2023-01-18T07:12:57.293005Z",
     "iopub.status.busy": "2023-01-18T07:12:57.292519Z",
     "iopub.status.idle": "2023-01-18T07:12:58.461041Z",
     "shell.execute_reply": "2023-01-18T07:12:58.458511Z"
    },
    "papermill": {
     "duration": 1.181134,
     "end_time": "2023-01-18T07:12:58.464417",
     "exception": false,
     "start_time": "2023-01-18T07:12:57.283283",
     "status": "completed"
    },
    "tags": []
   },
   "outputs": [],
   "source": [
    "def cleaning_numbers(data):\n",
    "    return re.sub('[0-9]+','', data)\n",
    "df['text']= df['text'].apply(lambda x: cleaning_numbers(x))"
   ]
  },
  {
   "cell_type": "code",
   "execution_count": 17,
   "id": "814c013b",
   "metadata": {
    "execution": {
     "iopub.execute_input": "2023-01-18T07:12:58.483696Z",
     "iopub.status.busy": "2023-01-18T07:12:58.483035Z",
     "iopub.status.idle": "2023-01-18T07:12:58.494771Z",
     "shell.execute_reply": "2023-01-18T07:12:58.493546Z"
    },
    "papermill": {
     "duration": 0.024646,
     "end_time": "2023-01-18T07:12:58.497241",
     "exception": false,
     "start_time": "2023-01-18T07:12:58.472595",
     "status": "completed"
    },
    "tags": []
   },
   "outputs": [
    {
     "data": {
      "text/html": [
       "<div>\n",
       "<style scoped>\n",
       "    .dataframe tbody tr th:only-of-type {\n",
       "        vertical-align: middle;\n",
       "    }\n",
       "\n",
       "    .dataframe tbody tr th {\n",
       "        vertical-align: top;\n",
       "    }\n",
       "\n",
       "    .dataframe thead th {\n",
       "        text-align: right;\n",
       "    }\n",
       "</style>\n",
       "<table border=\"1\" class=\"dataframe\">\n",
       "  <thead>\n",
       "    <tr style=\"text-align: right;\">\n",
       "      <th></th>\n",
       "      <th>tweet_created_at</th>\n",
       "      <th>text</th>\n",
       "      <th>Sentiment</th>\n",
       "    </tr>\n",
       "  </thead>\n",
       "  <tbody>\n",
       "    <tr>\n",
       "      <th>0</th>\n",
       "      <td>2022-12-30 22:37:46</td>\n",
       "      <td>Men refused listen toattend amerix classes men...</td>\n",
       "      <td>Negative</td>\n",
       "    </tr>\n",
       "    <tr>\n",
       "      <th>1</th>\n",
       "      <td>2022-12-30 22:30:58</td>\n",
       "      <td>OvOBrezzzy Take amerix next</td>\n",
       "      <td>Neutral</td>\n",
       "    </tr>\n",
       "    <tr>\n",
       "      <th>2</th>\n",
       "      <td>2022-12-30 22:18:00</td>\n",
       "      <td>AyodeleYo amerix Nah I’m good masculinity heal...</td>\n",
       "      <td>Positive</td>\n",
       "    </tr>\n",
       "    <tr>\n",
       "      <th>3</th>\n",
       "      <td>2022-12-30 20:42:54</td>\n",
       "      <td>AmerixDontSimp There need dating first place</td>\n",
       "      <td>Negative</td>\n",
       "    </tr>\n",
       "    <tr>\n",
       "      <th>4</th>\n",
       "      <td>2022-12-30 20:32:23</td>\n",
       "      <td>DyeAnna amerix kibe From cos nothing changing ...</td>\n",
       "      <td>Positive</td>\n",
       "    </tr>\n",
       "  </tbody>\n",
       "</table>\n",
       "</div>"
      ],
      "text/plain": [
       "     tweet_created_at                                               text  \\\n",
       "0 2022-12-30 22:37:46  Men refused listen toattend amerix classes men...   \n",
       "1 2022-12-30 22:30:58                        OvOBrezzzy Take amerix next   \n",
       "2 2022-12-30 22:18:00  AyodeleYo amerix Nah I’m good masculinity heal...   \n",
       "3 2022-12-30 20:42:54       AmerixDontSimp There need dating first place   \n",
       "4 2022-12-30 20:32:23  DyeAnna amerix kibe From cos nothing changing ...   \n",
       "\n",
       "  Sentiment  \n",
       "0  Negative  \n",
       "1   Neutral  \n",
       "2  Positive  \n",
       "3  Negative  \n",
       "4  Positive  "
      ]
     },
     "execution_count": 17,
     "metadata": {},
     "output_type": "execute_result"
    }
   ],
   "source": [
    "df.head()"
   ]
  },
  {
   "cell_type": "code",
   "execution_count": 18,
   "id": "86357b69",
   "metadata": {
    "execution": {
     "iopub.execute_input": "2023-01-18T07:12:58.515448Z",
     "iopub.status.busy": "2023-01-18T07:12:58.515002Z",
     "iopub.status.idle": "2023-01-18T07:13:01.639650Z",
     "shell.execute_reply": "2023-01-18T07:13:01.638198Z"
    },
    "papermill": {
     "duration": 3.137571,
     "end_time": "2023-01-18T07:13:01.642931",
     "exception": false,
     "start_time": "2023-01-18T07:12:58.505360",
     "status": "completed"
    },
    "tags": []
   },
   "outputs": [],
   "source": [
    "def alphanumeral(text):\n",
    "    # convert to lowercase, susbstitute non alphanumerical characters with whitespaces\n",
    "    text = re.sub('<[^>]*>', '', text)\n",
    "    emoticons = re.findall('(?::|;|=)(?:-)?(?:\\)|\\(|D|P)', text)\n",
    "    text = (re.sub('[\\W]+', ' ', text.lower()) +\n",
    "            ' '.join(emoticons).replace('-', ''))\n",
    "    return text\n",
    "\n",
    "df['text']= df['text'].apply(lambda x: alphanumeral(x))"
   ]
  },
  {
   "cell_type": "code",
   "execution_count": 19,
   "id": "d0d7bffd",
   "metadata": {
    "execution": {
     "iopub.execute_input": "2023-01-18T07:13:01.663202Z",
     "iopub.status.busy": "2023-01-18T07:13:01.662404Z",
     "iopub.status.idle": "2023-01-18T07:13:01.676700Z",
     "shell.execute_reply": "2023-01-18T07:13:01.675437Z"
    },
    "papermill": {
     "duration": 0.027552,
     "end_time": "2023-01-18T07:13:01.679478",
     "exception": false,
     "start_time": "2023-01-18T07:13:01.651926",
     "status": "completed"
    },
    "tags": []
   },
   "outputs": [
    {
     "data": {
      "text/html": [
       "<div>\n",
       "<style scoped>\n",
       "    .dataframe tbody tr th:only-of-type {\n",
       "        vertical-align: middle;\n",
       "    }\n",
       "\n",
       "    .dataframe tbody tr th {\n",
       "        vertical-align: top;\n",
       "    }\n",
       "\n",
       "    .dataframe thead th {\n",
       "        text-align: right;\n",
       "    }\n",
       "</style>\n",
       "<table border=\"1\" class=\"dataframe\">\n",
       "  <thead>\n",
       "    <tr style=\"text-align: right;\">\n",
       "      <th></th>\n",
       "      <th>tweet_created_at</th>\n",
       "      <th>text</th>\n",
       "      <th>Sentiment</th>\n",
       "    </tr>\n",
       "  </thead>\n",
       "  <tbody>\n",
       "    <tr>\n",
       "      <th>0</th>\n",
       "      <td>2022-12-30 22:37:46</td>\n",
       "      <td>men refused listen toattend amerix classes men...</td>\n",
       "      <td>Negative</td>\n",
       "    </tr>\n",
       "    <tr>\n",
       "      <th>1</th>\n",
       "      <td>2022-12-30 22:30:58</td>\n",
       "      <td>ovobrezzzy take amerix next</td>\n",
       "      <td>Neutral</td>\n",
       "    </tr>\n",
       "    <tr>\n",
       "      <th>2</th>\n",
       "      <td>2022-12-30 22:18:00</td>\n",
       "      <td>ayodeleyo amerix nah i m good masculinity heal...</td>\n",
       "      <td>Positive</td>\n",
       "    </tr>\n",
       "    <tr>\n",
       "      <th>3</th>\n",
       "      <td>2022-12-30 20:42:54</td>\n",
       "      <td>amerixdontsimp there need dating first place</td>\n",
       "      <td>Negative</td>\n",
       "    </tr>\n",
       "    <tr>\n",
       "      <th>4</th>\n",
       "      <td>2022-12-30 20:32:23</td>\n",
       "      <td>dyeanna amerix kibe from cos nothing changing ...</td>\n",
       "      <td>Positive</td>\n",
       "    </tr>\n",
       "  </tbody>\n",
       "</table>\n",
       "</div>"
      ],
      "text/plain": [
       "     tweet_created_at                                               text  \\\n",
       "0 2022-12-30 22:37:46  men refused listen toattend amerix classes men...   \n",
       "1 2022-12-30 22:30:58                        ovobrezzzy take amerix next   \n",
       "2 2022-12-30 22:18:00  ayodeleyo amerix nah i m good masculinity heal...   \n",
       "3 2022-12-30 20:42:54       amerixdontsimp there need dating first place   \n",
       "4 2022-12-30 20:32:23  dyeanna amerix kibe from cos nothing changing ...   \n",
       "\n",
       "  Sentiment  \n",
       "0  Negative  \n",
       "1   Neutral  \n",
       "2  Positive  \n",
       "3  Negative  \n",
       "4  Positive  "
      ]
     },
     "execution_count": 19,
     "metadata": {},
     "output_type": "execute_result"
    }
   ],
   "source": [
    "df.head()"
   ]
  },
  {
   "cell_type": "code",
   "execution_count": 20,
   "id": "1daecbb0",
   "metadata": {
    "execution": {
     "iopub.execute_input": "2023-01-18T07:13:01.701390Z",
     "iopub.status.busy": "2023-01-18T07:13:01.700420Z",
     "iopub.status.idle": "2023-01-18T07:13:01.712656Z",
     "shell.execute_reply": "2023-01-18T07:13:01.711338Z"
    },
    "papermill": {
     "duration": 0.026761,
     "end_time": "2023-01-18T07:13:01.715727",
     "exception": false,
     "start_time": "2023-01-18T07:13:01.688966",
     "status": "completed"
    },
    "tags": []
   },
   "outputs": [],
   "source": [
    "df_1 = df.copy()"
   ]
  },
  {
   "cell_type": "code",
   "execution_count": 21,
   "id": "b328a628",
   "metadata": {
    "execution": {
     "iopub.execute_input": "2023-01-18T07:13:01.734807Z",
     "iopub.status.busy": "2023-01-18T07:13:01.734260Z",
     "iopub.status.idle": "2023-01-18T07:13:01.838565Z",
     "shell.execute_reply": "2023-01-18T07:13:01.837179Z"
    },
    "papermill": {
     "duration": 0.1175,
     "end_time": "2023-01-18T07:13:01.841764",
     "exception": false,
     "start_time": "2023-01-18T07:13:01.724264",
     "status": "completed"
    },
    "tags": []
   },
   "outputs": [],
   "source": [
    "df.Sentiment=df.Sentiment.replace('Neutral',2)\n",
    "df.Sentiment=df.Sentiment.replace('Positive',1)\n",
    "df.Sentiment=df.Sentiment.replace('Negative',0)"
   ]
  },
  {
   "cell_type": "code",
   "execution_count": 22,
   "id": "f98642dc",
   "metadata": {
    "execution": {
     "iopub.execute_input": "2023-01-18T07:13:01.860813Z",
     "iopub.status.busy": "2023-01-18T07:13:01.860284Z",
     "iopub.status.idle": "2023-01-18T07:13:01.874367Z",
     "shell.execute_reply": "2023-01-18T07:13:01.872822Z"
    },
    "papermill": {
     "duration": 0.026852,
     "end_time": "2023-01-18T07:13:01.877122",
     "exception": false,
     "start_time": "2023-01-18T07:13:01.850270",
     "status": "completed"
    },
    "tags": []
   },
   "outputs": [
    {
     "data": {
      "text/html": [
       "<div>\n",
       "<style scoped>\n",
       "    .dataframe tbody tr th:only-of-type {\n",
       "        vertical-align: middle;\n",
       "    }\n",
       "\n",
       "    .dataframe tbody tr th {\n",
       "        vertical-align: top;\n",
       "    }\n",
       "\n",
       "    .dataframe thead th {\n",
       "        text-align: right;\n",
       "    }\n",
       "</style>\n",
       "<table border=\"1\" class=\"dataframe\">\n",
       "  <thead>\n",
       "    <tr style=\"text-align: right;\">\n",
       "      <th></th>\n",
       "      <th>tweet_created_at</th>\n",
       "      <th>text</th>\n",
       "      <th>Sentiment</th>\n",
       "    </tr>\n",
       "  </thead>\n",
       "  <tbody>\n",
       "    <tr>\n",
       "      <th>0</th>\n",
       "      <td>2022-12-30 22:37:46</td>\n",
       "      <td>men refused listen toattend amerix classes men...</td>\n",
       "      <td>0</td>\n",
       "    </tr>\n",
       "    <tr>\n",
       "      <th>1</th>\n",
       "      <td>2022-12-30 22:30:58</td>\n",
       "      <td>ovobrezzzy take amerix next</td>\n",
       "      <td>2</td>\n",
       "    </tr>\n",
       "    <tr>\n",
       "      <th>2</th>\n",
       "      <td>2022-12-30 22:18:00</td>\n",
       "      <td>ayodeleyo amerix nah i m good masculinity heal...</td>\n",
       "      <td>1</td>\n",
       "    </tr>\n",
       "    <tr>\n",
       "      <th>3</th>\n",
       "      <td>2022-12-30 20:42:54</td>\n",
       "      <td>amerixdontsimp there need dating first place</td>\n",
       "      <td>0</td>\n",
       "    </tr>\n",
       "    <tr>\n",
       "      <th>4</th>\n",
       "      <td>2022-12-30 20:32:23</td>\n",
       "      <td>dyeanna amerix kibe from cos nothing changing ...</td>\n",
       "      <td>1</td>\n",
       "    </tr>\n",
       "  </tbody>\n",
       "</table>\n",
       "</div>"
      ],
      "text/plain": [
       "     tweet_created_at                                               text  \\\n",
       "0 2022-12-30 22:37:46  men refused listen toattend amerix classes men...   \n",
       "1 2022-12-30 22:30:58                        ovobrezzzy take amerix next   \n",
       "2 2022-12-30 22:18:00  ayodeleyo amerix nah i m good masculinity heal...   \n",
       "3 2022-12-30 20:42:54       amerixdontsimp there need dating first place   \n",
       "4 2022-12-30 20:32:23  dyeanna amerix kibe from cos nothing changing ...   \n",
       "\n",
       "   Sentiment  \n",
       "0          0  \n",
       "1          2  \n",
       "2          1  \n",
       "3          0  \n",
       "4          1  "
      ]
     },
     "execution_count": 22,
     "metadata": {},
     "output_type": "execute_result"
    }
   ],
   "source": [
    "df.head()"
   ]
  },
  {
   "cell_type": "code",
   "execution_count": 23,
   "id": "75c83538",
   "metadata": {
    "execution": {
     "iopub.execute_input": "2023-01-18T07:13:01.897827Z",
     "iopub.status.busy": "2023-01-18T07:13:01.896850Z",
     "iopub.status.idle": "2023-01-18T07:13:01.937327Z",
     "shell.execute_reply": "2023-01-18T07:13:01.935620Z"
    },
    "papermill": {
     "duration": 0.055127,
     "end_time": "2023-01-18T07:13:01.941156",
     "exception": false,
     "start_time": "2023-01-18T07:13:01.886029",
     "status": "completed"
    },
    "tags": []
   },
   "outputs": [
    {
     "name": "stdout",
     "output_type": "stream",
     "text": [
      "<class 'pandas.core.frame.DataFrame'>\n",
      "RangeIndex: 248738 entries, 0 to 248737\n",
      "Data columns (total 3 columns):\n",
      " #   Column            Non-Null Count   Dtype         \n",
      "---  ------            --------------   -----         \n",
      " 0   tweet_created_at  248738 non-null  datetime64[ns]\n",
      " 1   text              248738 non-null  object        \n",
      " 2   Sentiment         248738 non-null  int64         \n",
      "dtypes: datetime64[ns](1), int64(1), object(1)\n",
      "memory usage: 5.7+ MB\n"
     ]
    }
   ],
   "source": [
    "df.info()"
   ]
  },
  {
   "cell_type": "code",
   "execution_count": 24,
   "id": "dbc21e18",
   "metadata": {
    "execution": {
     "iopub.execute_input": "2023-01-18T07:13:01.961328Z",
     "iopub.status.busy": "2023-01-18T07:13:01.960877Z",
     "iopub.status.idle": "2023-01-18T07:13:03.407266Z",
     "shell.execute_reply": "2023-01-18T07:13:03.405888Z"
    },
    "papermill": {
     "duration": 1.459873,
     "end_time": "2023-01-18T07:13:03.410134",
     "exception": false,
     "start_time": "2023-01-18T07:13:01.950261",
     "status": "completed"
    },
    "tags": []
   },
   "outputs": [],
   "source": [
    "df.to_csv('amerix_sentiment_analysis_preprocessed_data.csv')"
   ]
  },
  {
   "cell_type": "code",
   "execution_count": 25,
   "id": "14059525",
   "metadata": {
    "execution": {
     "iopub.execute_input": "2023-01-18T07:13:03.431007Z",
     "iopub.status.busy": "2023-01-18T07:13:03.430452Z",
     "iopub.status.idle": "2023-01-18T07:13:04.498241Z",
     "shell.execute_reply": "2023-01-18T07:13:04.496769Z"
    },
    "papermill": {
     "duration": 1.082171,
     "end_time": "2023-01-18T07:13:04.501311",
     "exception": false,
     "start_time": "2023-01-18T07:13:03.419140",
     "status": "completed"
    },
    "tags": []
   },
   "outputs": [
    {
     "name": "stdout",
     "output_type": "stream",
     "text": [
      "tar: kaggle/working: Cannot stat: No such file or directory\r\n",
      "tar: Exiting with failure status due to previous errors\r\n"
     ]
    },
    {
     "data": {
      "text/html": [
       "<a href='sentiment_analysis_amerix_clean.tar.gz' target='_blank'>sentiment_analysis_amerix_clean.tar.gz</a><br>"
      ],
      "text/plain": [
       "/kaggle/working/sentiment_analysis_amerix_clean.tar.gz"
      ]
     },
     "execution_count": 25,
     "metadata": {},
     "output_type": "execute_result"
    }
   ],
   "source": [
    "os.chdir(r'/kaggle/working')\n",
    "\n",
    "!tar -czf sentiment_analysis_amerix_clean.tar.gz kaggle/working\n",
    "\n",
    "FileLink(r'sentiment_analysis_amerix_clean.tar.gz')"
   ]
  },
  {
   "cell_type": "code",
   "execution_count": null,
   "id": "7f67a025",
   "metadata": {
    "papermill": {
     "duration": 0.008453,
     "end_time": "2023-01-18T07:13:04.519073",
     "exception": false,
     "start_time": "2023-01-18T07:13:04.510620",
     "status": "completed"
    },
    "tags": []
   },
   "outputs": [],
   "source": []
  }
 ],
 "metadata": {
  "kernelspec": {
   "display_name": "Python 3",
   "language": "python",
   "name": "python3"
  },
  "language_info": {
   "codemirror_mode": {
    "name": "ipython",
    "version": 3
   },
   "file_extension": ".py",
   "mimetype": "text/x-python",
   "name": "python",
   "nbconvert_exporter": "python",
   "pygments_lexer": "ipython3",
   "version": "3.7.12"
  },
  "papermill": {
   "default_parameters": {},
   "duration": 27.686413,
   "end_time": "2023-01-18T07:13:05.452349",
   "environment_variables": {},
   "exception": null,
   "input_path": "__notebook__.ipynb",
   "output_path": "__notebook__.ipynb",
   "parameters": {},
   "start_time": "2023-01-18T07:12:37.765936",
   "version": "2.3.4"
  }
 },
 "nbformat": 4,
 "nbformat_minor": 5
}
