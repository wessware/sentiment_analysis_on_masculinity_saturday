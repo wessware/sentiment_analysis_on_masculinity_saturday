{
 "cells": [
  {
   "cell_type": "code",
   "execution_count": 1,
   "id": "aa89ad48",
   "metadata": {
    "execution": {
     "iopub.execute_input": "2023-01-18T04:41:02.723915Z",
     "iopub.status.busy": "2023-01-18T04:41:02.723422Z",
     "iopub.status.idle": "2023-01-18T04:41:04.286342Z",
     "shell.execute_reply": "2023-01-18T04:41:04.285163Z"
    },
    "papermill": {
     "duration": 1.575209,
     "end_time": "2023-01-18T04:41:04.290567",
     "exception": false,
     "start_time": "2023-01-18T04:41:02.715358",
     "status": "completed"
    },
    "tags": []
   },
   "outputs": [],
   "source": [
    "import pandas as pd\n",
    "\n",
    "import nltk\n",
    "from nltk.sentiment.vader import SentimentIntensityAnalyzer\n",
    "\n",
    "import os\n",
    "from IPython.display import FileLink"
   ]
  },
  {
   "cell_type": "code",
   "execution_count": 2,
   "id": "6eb1ec28",
   "metadata": {
    "execution": {
     "iopub.execute_input": "2023-01-18T04:41:04.306229Z",
     "iopub.status.busy": "2023-01-18T04:41:04.305222Z",
     "iopub.status.idle": "2023-01-18T04:41:06.155241Z",
     "shell.execute_reply": "2023-01-18T04:41:06.153855Z"
    },
    "papermill": {
     "duration": 1.860386,
     "end_time": "2023-01-18T04:41:06.158113",
     "exception": false,
     "start_time": "2023-01-18T04:41:04.297727",
     "status": "completed"
    },
    "tags": []
   },
   "outputs": [],
   "source": [
    "raw_df = pd.read_csv('/kaggle/input/amerix-data/sentiment_analysis_amerix_1.csv')"
   ]
  },
  {
   "cell_type": "code",
   "execution_count": 3,
   "id": "d8d7a640",
   "metadata": {
    "execution": {
     "iopub.execute_input": "2023-01-18T04:41:06.171229Z",
     "iopub.status.busy": "2023-01-18T04:41:06.170027Z",
     "iopub.status.idle": "2023-01-18T04:41:06.184577Z",
     "shell.execute_reply": "2023-01-18T04:41:06.183455Z"
    },
    "papermill": {
     "duration": 0.02453,
     "end_time": "2023-01-18T04:41:06.187973",
     "exception": false,
     "start_time": "2023-01-18T04:41:06.163443",
     "status": "completed"
    },
    "tags": []
   },
   "outputs": [
    {
     "name": "stdout",
     "output_type": "stream",
     "text": [
      "  Unnamed: 0           tweet_created_at  \\\n",
      "0          0  2022-12-30 22:37:46+00:00   \n",
      "1          1  2022-12-30 22:30:58+00:00   \n",
      "2          2  2022-12-30 22:18:00+00:00   \n",
      "3          3  2022-12-30 20:42:54+00:00   \n",
      "4          4  2022-12-30 20:32:23+00:00   \n",
      "\n",
      "                                                text  \n",
      "0  Men who have refused to listen to/attend @amer...  \n",
      "1                       @OvOBrezzzy Take amerix next  \n",
      "2  @AyodeleYo11 @amerix Nah I’m good my masculini...  \n",
      "3  @Amerix_DontSimp There is no need for dating i...  \n",
      "4  @DyeAnna7 @amerix @kibe From what cos nothing ...  \n"
     ]
    }
   ],
   "source": [
    "print(raw_df.head())"
   ]
  },
  {
   "cell_type": "code",
   "execution_count": 4,
   "id": "bf2a0e75",
   "metadata": {
    "execution": {
     "iopub.execute_input": "2023-01-18T04:41:06.201281Z",
     "iopub.status.busy": "2023-01-18T04:41:06.200843Z",
     "iopub.status.idle": "2023-01-18T04:41:06.210441Z",
     "shell.execute_reply": "2023-01-18T04:41:06.209022Z"
    },
    "papermill": {
     "duration": 0.019223,
     "end_time": "2023-01-18T04:41:06.213284",
     "exception": false,
     "start_time": "2023-01-18T04:41:06.194061",
     "status": "completed"
    },
    "tags": []
   },
   "outputs": [
    {
     "data": {
      "text/plain": [
       "(248739, 3)"
      ]
     },
     "execution_count": 4,
     "metadata": {},
     "output_type": "execute_result"
    }
   ],
   "source": [
    "raw_df.shape"
   ]
  },
  {
   "cell_type": "code",
   "execution_count": 5,
   "id": "d16790c8",
   "metadata": {
    "execution": {
     "iopub.execute_input": "2023-01-18T04:41:06.226040Z",
     "iopub.status.busy": "2023-01-18T04:41:06.225637Z",
     "iopub.status.idle": "2023-01-18T04:41:07.020546Z",
     "shell.execute_reply": "2023-01-18T04:41:07.019386Z"
    },
    "papermill": {
     "duration": 0.804196,
     "end_time": "2023-01-18T04:41:07.023115",
     "exception": false,
     "start_time": "2023-01-18T04:41:06.218919",
     "status": "completed"
    },
    "tags": []
   },
   "outputs": [
    {
     "data": {
      "text/html": [
       "<div>\n",
       "<style scoped>\n",
       "    .dataframe tbody tr th:only-of-type {\n",
       "        vertical-align: middle;\n",
       "    }\n",
       "\n",
       "    .dataframe tbody tr th {\n",
       "        vertical-align: top;\n",
       "    }\n",
       "\n",
       "    .dataframe thead th {\n",
       "        text-align: right;\n",
       "    }\n",
       "</style>\n",
       "<table border=\"1\" class=\"dataframe\">\n",
       "  <thead>\n",
       "    <tr style=\"text-align: right;\">\n",
       "      <th></th>\n",
       "      <th>count</th>\n",
       "      <th>unique</th>\n",
       "      <th>top</th>\n",
       "      <th>freq</th>\n",
       "    </tr>\n",
       "  </thead>\n",
       "  <tbody>\n",
       "    <tr>\n",
       "      <th>Unnamed: 0</th>\n",
       "      <td>248739</td>\n",
       "      <td>248739</td>\n",
       "      <td>0</td>\n",
       "      <td>1</td>\n",
       "    </tr>\n",
       "    <tr>\n",
       "      <th>tweet_created_at</th>\n",
       "      <td>248738</td>\n",
       "      <td>242124</td>\n",
       "      <td>2022-11-24 19:00:01+00:00</td>\n",
       "      <td>9</td>\n",
       "    </tr>\n",
       "    <tr>\n",
       "      <th>text</th>\n",
       "      <td>248738</td>\n",
       "      <td>236023</td>\n",
       "      <td>@amerix @pikaso_me screenshot this</td>\n",
       "      <td>550</td>\n",
       "    </tr>\n",
       "  </tbody>\n",
       "</table>\n",
       "</div>"
      ],
      "text/plain": [
       "                   count  unique                                 top freq\n",
       "Unnamed: 0        248739  248739                                   0    1\n",
       "tweet_created_at  248738  242124           2022-11-24 19:00:01+00:00    9\n",
       "text              248738  236023  @amerix @pikaso_me screenshot this  550"
      ]
     },
     "execution_count": 5,
     "metadata": {},
     "output_type": "execute_result"
    }
   ],
   "source": [
    "raw_df.describe().T"
   ]
  },
  {
   "cell_type": "code",
   "execution_count": 6,
   "id": "d85e0798",
   "metadata": {
    "execution": {
     "iopub.execute_input": "2023-01-18T04:41:07.036085Z",
     "iopub.status.busy": "2023-01-18T04:41:07.035644Z",
     "iopub.status.idle": "2023-01-18T04:41:07.042863Z",
     "shell.execute_reply": "2023-01-18T04:41:07.041811Z"
    },
    "papermill": {
     "duration": 0.016467,
     "end_time": "2023-01-18T04:41:07.045233",
     "exception": false,
     "start_time": "2023-01-18T04:41:07.028766",
     "status": "completed"
    },
    "tags": []
   },
   "outputs": [
    {
     "data": {
      "text/plain": [
       "Index(['Unnamed: 0', 'tweet_created_at', 'text'], dtype='object')"
      ]
     },
     "execution_count": 6,
     "metadata": {},
     "output_type": "execute_result"
    }
   ],
   "source": [
    "raw_df.columns"
   ]
  },
  {
   "cell_type": "code",
   "execution_count": 7,
   "id": "ce167778",
   "metadata": {
    "execution": {
     "iopub.execute_input": "2023-01-18T04:41:07.059451Z",
     "iopub.status.busy": "2023-01-18T04:41:07.058330Z",
     "iopub.status.idle": "2023-01-18T04:41:07.074245Z",
     "shell.execute_reply": "2023-01-18T04:41:07.073240Z"
    },
    "papermill": {
     "duration": 0.026074,
     "end_time": "2023-01-18T04:41:07.077069",
     "exception": false,
     "start_time": "2023-01-18T04:41:07.050995",
     "status": "completed"
    },
    "tags": []
   },
   "outputs": [],
   "source": [
    "df_raw = raw_df.drop(columns='Unnamed: 0')"
   ]
  },
  {
   "cell_type": "code",
   "execution_count": 8,
   "id": "ee498a28",
   "metadata": {
    "execution": {
     "iopub.execute_input": "2023-01-18T04:41:07.090724Z",
     "iopub.status.busy": "2023-01-18T04:41:07.090245Z",
     "iopub.status.idle": "2023-01-18T04:41:07.097578Z",
     "shell.execute_reply": "2023-01-18T04:41:07.096440Z"
    },
    "papermill": {
     "duration": 0.017093,
     "end_time": "2023-01-18T04:41:07.100048",
     "exception": false,
     "start_time": "2023-01-18T04:41:07.082955",
     "status": "completed"
    },
    "tags": []
   },
   "outputs": [
    {
     "data": {
      "text/plain": [
       "Index(['tweet_created_at', 'text'], dtype='object')"
      ]
     },
     "execution_count": 8,
     "metadata": {},
     "output_type": "execute_result"
    }
   ],
   "source": [
    "df_raw.columns"
   ]
  },
  {
   "cell_type": "code",
   "execution_count": 9,
   "id": "d83a786f",
   "metadata": {
    "execution": {
     "iopub.execute_input": "2023-01-18T04:41:07.115686Z",
     "iopub.status.busy": "2023-01-18T04:41:07.114612Z",
     "iopub.status.idle": "2023-01-18T04:41:07.409542Z",
     "shell.execute_reply": "2023-01-18T04:41:07.408263Z"
    },
    "papermill": {
     "duration": 0.30473,
     "end_time": "2023-01-18T04:41:07.412314",
     "exception": false,
     "start_time": "2023-01-18T04:41:07.107584",
     "status": "completed"
    },
    "tags": []
   },
   "outputs": [
    {
     "name": "stderr",
     "output_type": "stream",
     "text": [
      "[nltk_data] Downloading package vader_lexicon to\n",
      "[nltk_data]     /usr/share/nltk_data...\n",
      "[nltk_data]   Package vader_lexicon is already up-to-date!\n"
     ]
    },
    {
     "data": {
      "text/plain": [
       "True"
      ]
     },
     "execution_count": 9,
     "metadata": {},
     "output_type": "execute_result"
    }
   ],
   "source": [
    "nltk.download('vader_lexicon')"
   ]
  },
  {
   "cell_type": "code",
   "execution_count": 10,
   "id": "1da63334",
   "metadata": {
    "execution": {
     "iopub.execute_input": "2023-01-18T04:41:07.426552Z",
     "iopub.status.busy": "2023-01-18T04:41:07.426104Z",
     "iopub.status.idle": "2023-01-18T04:41:07.496220Z",
     "shell.execute_reply": "2023-01-18T04:41:07.494931Z"
    },
    "papermill": {
     "duration": 0.080446,
     "end_time": "2023-01-18T04:41:07.498977",
     "exception": false,
     "start_time": "2023-01-18T04:41:07.418531",
     "status": "completed"
    },
    "tags": []
   },
   "outputs": [],
   "source": [
    "df_raw = df_raw.dropna()"
   ]
  },
  {
   "cell_type": "code",
   "execution_count": 11,
   "id": "c5526ce6",
   "metadata": {
    "execution": {
     "iopub.execute_input": "2023-01-18T04:41:07.513586Z",
     "iopub.status.busy": "2023-01-18T04:41:07.512883Z",
     "iopub.status.idle": "2023-01-18T04:41:07.519272Z",
     "shell.execute_reply": "2023-01-18T04:41:07.518510Z"
    },
    "papermill": {
     "duration": 0.016207,
     "end_time": "2023-01-18T04:41:07.521499",
     "exception": false,
     "start_time": "2023-01-18T04:41:07.505292",
     "status": "completed"
    },
    "tags": []
   },
   "outputs": [
    {
     "data": {
      "text/plain": [
       "(248738, 2)"
      ]
     },
     "execution_count": 11,
     "metadata": {},
     "output_type": "execute_result"
    }
   ],
   "source": [
    "df_raw.shape"
   ]
  },
  {
   "cell_type": "code",
   "execution_count": 12,
   "id": "b14b029c",
   "metadata": {
    "execution": {
     "iopub.execute_input": "2023-01-18T04:41:07.536201Z",
     "iopub.status.busy": "2023-01-18T04:41:07.535782Z",
     "iopub.status.idle": "2023-01-18T04:47:08.376471Z",
     "shell.execute_reply": "2023-01-18T04:47:08.375445Z"
    },
    "papermill": {
     "duration": 360.851373,
     "end_time": "2023-01-18T04:47:08.379283",
     "exception": false,
     "start_time": "2023-01-18T04:41:07.527910",
     "status": "completed"
    },
    "tags": []
   },
   "outputs": [],
   "source": [
    "sentiments = SentimentIntensityAnalyzer()\n",
    "\n",
    "df_raw[\"Positive\"] = [sentiments.polarity_scores(i)[\"pos\"] for i in df_raw[\"text\"]]\n",
    "df_raw[\"Negative\"] = [sentiments.polarity_scores(i)[\"neg\"] for i in df_raw[\"text\"]]\n",
    "df_raw[\"Neutral\"] = [sentiments.polarity_scores(i)[\"neu\"] for i in df_raw[\"text\"]]\n",
    "df_raw['Compound'] = [sentiments.polarity_scores(i)[\"compound\"] for i in df_raw[\"text\"]]"
   ]
  },
  {
   "cell_type": "code",
   "execution_count": 13,
   "id": "4526db51",
   "metadata": {
    "execution": {
     "iopub.execute_input": "2023-01-18T04:47:08.393724Z",
     "iopub.status.busy": "2023-01-18T04:47:08.392997Z",
     "iopub.status.idle": "2023-01-18T04:47:08.404195Z",
     "shell.execute_reply": "2023-01-18T04:47:08.402888Z"
    },
    "papermill": {
     "duration": 0.021663,
     "end_time": "2023-01-18T04:47:08.407440",
     "exception": false,
     "start_time": "2023-01-18T04:47:08.385777",
     "status": "completed"
    },
    "tags": []
   },
   "outputs": [
    {
     "name": "stdout",
     "output_type": "stream",
     "text": [
      "            tweet_created_at  \\\n",
      "0  2022-12-30 22:37:46+00:00   \n",
      "1  2022-12-30 22:30:58+00:00   \n",
      "2  2022-12-30 22:18:00+00:00   \n",
      "3  2022-12-30 20:42:54+00:00   \n",
      "4  2022-12-30 20:32:23+00:00   \n",
      "5  2022-12-30 20:25:56+00:00   \n",
      "6  2022-12-30 20:22:24+00:00   \n",
      "7  2022-12-30 20:10:49+00:00   \n",
      "8  2022-12-30 19:36:49+00:00   \n",
      "9  2022-12-30 19:30:58+00:00   \n",
      "\n",
      "                                                text  Positive  Negative  \\\n",
      "0  Men who have refused to listen to/attend @amer...     0.000     0.073   \n",
      "1                       @OvOBrezzzy Take amerix next     0.000     0.000   \n",
      "2  @AyodeleYo11 @amerix Nah I’m good my masculini...     0.493     0.068   \n",
      "3  @Amerix_DontSimp There is no need for dating i...     0.000     0.180   \n",
      "4  @DyeAnna7 @amerix @kibe From what cos nothing ...     0.110     0.000   \n",
      "5  @salim_the_don @MwendiaJnr I see you unblocked...     0.000     0.152   \n",
      "6  @german_kenyan @ML_Philosophy 🤣 yes they are a...     0.038     0.102   \n",
      "7  @PadreMusa Amerix once said the alcohol menace...     0.000     0.066   \n",
      "8  @DodoPicard You're in Eastafrica, he probably ...     0.000     0.000   \n",
      "9                   @HBK_ACTIVIST @amerix @kibe Heal     0.000     0.000   \n",
      "\n",
      "   Neutral  Compound  \n",
      "0    0.927   -0.2960  \n",
      "1    1.000    0.0000  \n",
      "2    0.439    0.8271  \n",
      "3    0.820   -0.2960  \n",
      "4    0.890    0.6908  \n",
      "5    0.848   -0.7732  \n",
      "6    0.860   -0.2824  \n",
      "7    0.934   -0.4939  \n",
      "8    1.000    0.0000  \n",
      "9    1.000    0.0000  \n"
     ]
    }
   ],
   "source": [
    "print(df_raw.head(10))"
   ]
  },
  {
   "cell_type": "code",
   "execution_count": 14,
   "id": "5cd620e1",
   "metadata": {
    "execution": {
     "iopub.execute_input": "2023-01-18T04:47:08.421797Z",
     "iopub.status.busy": "2023-01-18T04:47:08.421370Z",
     "iopub.status.idle": "2023-01-18T04:47:08.429010Z",
     "shell.execute_reply": "2023-01-18T04:47:08.427847Z"
    },
    "papermill": {
     "duration": 0.01757,
     "end_time": "2023-01-18T04:47:08.431368",
     "exception": false,
     "start_time": "2023-01-18T04:47:08.413798",
     "status": "completed"
    },
    "tags": []
   },
   "outputs": [
    {
     "data": {
      "text/plain": [
       "Index(['tweet_created_at', 'text', 'Positive', 'Negative', 'Neutral',\n",
       "       'Compound'],\n",
       "      dtype='object')"
      ]
     },
     "execution_count": 14,
     "metadata": {},
     "output_type": "execute_result"
    }
   ],
   "source": [
    "df_raw.columns"
   ]
  },
  {
   "cell_type": "code",
   "execution_count": 15,
   "id": "3920e9bc",
   "metadata": {
    "execution": {
     "iopub.execute_input": "2023-01-18T04:47:08.446302Z",
     "iopub.status.busy": "2023-01-18T04:47:08.445906Z",
     "iopub.status.idle": "2023-01-18T04:47:08.537254Z",
     "shell.execute_reply": "2023-01-18T04:47:08.536090Z"
    },
    "papermill": {
     "duration": 0.102061,
     "end_time": "2023-01-18T04:47:08.540024",
     "exception": false,
     "start_time": "2023-01-18T04:47:08.437963",
     "status": "completed"
    },
    "tags": []
   },
   "outputs": [],
   "source": [
    "score = df_raw[\"Compound\"].values\n",
    "sentiment = []\n",
    "for i in score:\n",
    "    if i >= 0.05 :\n",
    "        sentiment.append('Positive')\n",
    "    elif i <= -0.05 :\n",
    "        sentiment.append('Negative')\n",
    "    else:\n",
    "        sentiment.append('Neutral')\n",
    "df_raw[\"Sentiment\"] = sentiment"
   ]
  },
  {
   "cell_type": "code",
   "execution_count": 16,
   "id": "a4d35994",
   "metadata": {
    "execution": {
     "iopub.execute_input": "2023-01-18T04:47:08.554854Z",
     "iopub.status.busy": "2023-01-18T04:47:08.554418Z",
     "iopub.status.idle": "2023-01-18T04:47:08.561862Z",
     "shell.execute_reply": "2023-01-18T04:47:08.560638Z"
    },
    "papermill": {
     "duration": 0.017662,
     "end_time": "2023-01-18T04:47:08.564179",
     "exception": false,
     "start_time": "2023-01-18T04:47:08.546517",
     "status": "completed"
    },
    "tags": []
   },
   "outputs": [
    {
     "data": {
      "text/plain": [
       "Index(['tweet_created_at', 'text', 'Positive', 'Negative', 'Neutral',\n",
       "       'Compound', 'Sentiment'],\n",
       "      dtype='object')"
      ]
     },
     "execution_count": 16,
     "metadata": {},
     "output_type": "execute_result"
    }
   ],
   "source": [
    "df_raw.columns"
   ]
  },
  {
   "cell_type": "code",
   "execution_count": 17,
   "id": "5cecd98e",
   "metadata": {
    "execution": {
     "iopub.execute_input": "2023-01-18T04:47:08.579305Z",
     "iopub.status.busy": "2023-01-18T04:47:08.578929Z",
     "iopub.status.idle": "2023-01-18T04:47:08.597988Z",
     "shell.execute_reply": "2023-01-18T04:47:08.596828Z"
    },
    "papermill": {
     "duration": 0.030087,
     "end_time": "2023-01-18T04:47:08.600725",
     "exception": false,
     "start_time": "2023-01-18T04:47:08.570638",
     "status": "completed"
    },
    "tags": []
   },
   "outputs": [
    {
     "name": "stdout",
     "output_type": "stream",
     "text": [
      "Positive    135780\n",
      "Neutral      68811\n",
      "Negative     44147\n",
      "Name: Sentiment, dtype: int64\n"
     ]
    }
   ],
   "source": [
    "print(df_raw[\"Sentiment\"].value_counts())"
   ]
  },
  {
   "cell_type": "code",
   "execution_count": 18,
   "id": "80a1229d",
   "metadata": {
    "execution": {
     "iopub.execute_input": "2023-01-18T04:47:08.615865Z",
     "iopub.status.busy": "2023-01-18T04:47:08.615409Z",
     "iopub.status.idle": "2023-01-18T04:47:10.682334Z",
     "shell.execute_reply": "2023-01-18T04:47:10.681415Z"
    },
    "papermill": {
     "duration": 2.07761,
     "end_time": "2023-01-18T04:47:10.684995",
     "exception": false,
     "start_time": "2023-01-18T04:47:08.607385",
     "status": "completed"
    },
    "tags": []
   },
   "outputs": [],
   "source": [
    "df_raw.to_csv('twitter_sentiment_analysis_masculinity_saturday_data_annotated.csv')"
   ]
  },
  {
   "cell_type": "code",
   "execution_count": 19,
   "id": "8d5fb8c0",
   "metadata": {
    "execution": {
     "iopub.execute_input": "2023-01-18T04:47:10.699722Z",
     "iopub.status.busy": "2023-01-18T04:47:10.698996Z",
     "iopub.status.idle": "2023-01-18T04:47:11.797776Z",
     "shell.execute_reply": "2023-01-18T04:47:11.796405Z"
    },
    "papermill": {
     "duration": 1.108802,
     "end_time": "2023-01-18T04:47:11.800231",
     "exception": false,
     "start_time": "2023-01-18T04:47:10.691429",
     "status": "completed"
    },
    "tags": []
   },
   "outputs": [
    {
     "name": "stdout",
     "output_type": "stream",
     "text": [
      "tar: kaggle/working: Cannot stat: No such file or directory\r\n",
      "tar: Exiting with failure status due to previous errors\r\n"
     ]
    },
    {
     "data": {
      "text/html": [
       "Path (<tt>twitter_sentiment_analysis_amerix_.tar.gz</tt>) doesn't exist. It may still be in the process of being generated, or you may have the incorrect path."
      ],
      "text/plain": [
       "/kaggle/working/twitter_sentiment_analysis_amerix_.tar.gz"
      ]
     },
     "execution_count": 19,
     "metadata": {},
     "output_type": "execute_result"
    }
   ],
   "source": [
    "os.chdir(r'/kaggle/working')\n",
    "\n",
    "!tar -czf sentiment_analysis_twitter_amerix_.tar.gz kaggle/working\n",
    "\n",
    "FileLink(r'twitter_sentiment_analysis_amerix_.tar.gz')"
   ]
  }
 ],
 "metadata": {
  "kernelspec": {
   "display_name": "Python 3",
   "language": "python",
   "name": "python3"
  },
  "language_info": {
   "codemirror_mode": {
    "name": "ipython",
    "version": 3
   },
   "file_extension": ".py",
   "mimetype": "text/x-python",
   "name": "python",
   "nbconvert_exporter": "python",
   "pygments_lexer": "ipython3",
   "version": "3.7.12"
  },
  "papermill": {
   "default_parameters": {},
   "duration": 378.626846,
   "end_time": "2023-01-18T04:47:12.729640",
   "environment_variables": {},
   "exception": null,
   "input_path": "__notebook__.ipynb",
   "output_path": "__notebook__.ipynb",
   "parameters": {},
   "start_time": "2023-01-18T04:40:54.102794",
   "version": "2.3.4"
  }
 },
 "nbformat": 4,
 "nbformat_minor": 5
}
