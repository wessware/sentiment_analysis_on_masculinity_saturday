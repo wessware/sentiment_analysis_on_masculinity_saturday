{
 "cells": [
  {
   "cell_type": "code",
   "execution_count": null,
   "metadata": {},
   "outputs": [],
   "source": [
    "import snscrape\n",
    "import pandas as pd\n",
    "import os\n",
    "import snscrape.modules.twitter as sntwitter\n",
    "\n",
    "maxTweets = 80000\n",
    "\n",
    "tweets_list = [] \n",
    "mylist=['amerix', '#ManDay', '#BetterTogether', '#MasculinitySaturday', '#FoodFriday', 'Change', 'Perish'] \n",
    "\n",
    "for j in mylist:\n",
    "    for i,tweet in enumerate(sntwitter.TwitterSearchScraper(f'{j} -is:retweet lang:en since:2020-01-01 until:2022-12-31').get_items()):\n",
    "        if i>maxTweets:\n",
    "            break\n",
    "        tweets_list.append([tweet.date,tweet.rawContent])\n",
    "\n",
    "tweets_df= pd.DataFrame(tweets_list, columns=['tweet_created_at','text'])\n",
    "\n",
    "tweets_df.head()"
   ]
  },
  {
   "cell_type": "code",
   "execution_count": null,
   "metadata": {},
   "outputs": [],
   "source": [
    "tweets_df.to_csv('SentimentAnalysis_amerix.csv')"
   ]
  }
 ],
 "metadata": {
  "kernelspec": {
   "display_name": "Python 3",
   "language": "python",
   "name": "python3"
  },
  "language_info": {
   "name": "python",
   "version": "3.11.1"
  },
  "orig_nbformat": 4,
  "vscode": {
   "interpreter": {
    "hash": "7b56480209d5478df219ea78a8a8d62b5e99c9ac7689fc7198f4a6887a9a58e6"
   }
  }
 },
 "nbformat": 4,
 "nbformat_minor": 2
}
