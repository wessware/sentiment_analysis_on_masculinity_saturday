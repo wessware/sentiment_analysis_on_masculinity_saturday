{
 "cells": [
  {
   "cell_type": "code",
   "execution_count": 1,
   "id": "46f40010",
   "metadata": {
    "_cell_guid": "b1076dfc-b9ad-4769-8c92-a6c4dae69d19",
    "_uuid": "8f2839f25d086af736a60e9eeb907d3b93b6e0e5",
    "execution": {
     "iopub.execute_input": "2023-01-25T12:28:43.394406Z",
     "iopub.status.busy": "2023-01-25T12:28:43.393779Z",
     "iopub.status.idle": "2023-01-25T12:28:45.129043Z",
     "shell.execute_reply": "2023-01-25T12:28:45.127722Z"
    },
    "papermill": {
     "duration": 1.747242,
     "end_time": "2023-01-25T12:28:45.132673",
     "exception": false,
     "start_time": "2023-01-25T12:28:43.385431",
     "status": "completed"
    },
    "tags": []
   },
   "outputs": [],
   "source": [
    "import pandas as pd\n",
    "import numpy as np\n",
    "\n",
    "from sklearn import preprocessing\n",
    "from imblearn.over_sampling import RandomOverSampler\n",
    "from sklearn.model_selection import train_test_split\n",
    "\n",
    "from sklearn.feature_extraction.text import CountVectorizer\n",
    "from sklearn.feature_extraction.text import TfidfTransformer\n",
    "from sklearn.ensemble import RandomForestClassifier\n",
    "\n",
    "from sklearn.metrics import accuracy_score\n",
    "from sklearn.metrics import classification_report"
   ]
  },
  {
   "cell_type": "code",
   "execution_count": 2,
   "id": "5ba7b88e",
   "metadata": {
    "execution": {
     "iopub.execute_input": "2023-01-25T12:28:45.149578Z",
     "iopub.status.busy": "2023-01-25T12:28:45.147988Z",
     "iopub.status.idle": "2023-01-25T12:28:46.434405Z",
     "shell.execute_reply": "2023-01-25T12:28:46.433141Z"
    },
    "papermill": {
     "duration": 1.297717,
     "end_time": "2023-01-25T12:28:46.437558",
     "exception": false,
     "start_time": "2023-01-25T12:28:45.139841",
     "status": "completed"
    },
    "tags": []
   },
   "outputs": [],
   "source": [
    "df = pd.read_csv('/kaggle/input/amerix-sa-nlp-deep-cleaned-data/sentiment_adv_preprocessed_data.csv', index_col=0)"
   ]
  },
  {
   "cell_type": "code",
   "execution_count": 3,
   "id": "a3b95278",
   "metadata": {
    "execution": {
     "iopub.execute_input": "2023-01-25T12:28:46.448728Z",
     "iopub.status.busy": "2023-01-25T12:28:46.448274Z",
     "iopub.status.idle": "2023-01-25T12:28:46.468040Z",
     "shell.execute_reply": "2023-01-25T12:28:46.466418Z"
    },
    "papermill": {
     "duration": 0.028983,
     "end_time": "2023-01-25T12:28:46.471005",
     "exception": false,
     "start_time": "2023-01-25T12:28:46.442022",
     "status": "completed"
    },
    "tags": []
   },
   "outputs": [
    {
     "data": {
      "text/html": [
       "<div>\n",
       "<style scoped>\n",
       "    .dataframe tbody tr th:only-of-type {\n",
       "        vertical-align: middle;\n",
       "    }\n",
       "\n",
       "    .dataframe tbody tr th {\n",
       "        vertical-align: top;\n",
       "    }\n",
       "\n",
       "    .dataframe thead th {\n",
       "        text-align: right;\n",
       "    }\n",
       "</style>\n",
       "<table border=\"1\" class=\"dataframe\">\n",
       "  <thead>\n",
       "    <tr style=\"text-align: right;\">\n",
       "      <th></th>\n",
       "      <th>tweet_created_at</th>\n",
       "      <th>text_clean</th>\n",
       "      <th>Sentiment</th>\n",
       "    </tr>\n",
       "  </thead>\n",
       "  <tbody>\n",
       "    <tr>\n",
       "      <th>0</th>\n",
       "      <td>2022-05-20 16:01:49+00:00</td>\n",
       "      <td>actor amp cookbook author recently joined the ...</td>\n",
       "      <td>1</td>\n",
       "    </tr>\n",
       "    <tr>\n",
       "      <th>1</th>\n",
       "      <td>2022-08-23 15:26:31+00:00</td>\n",
       "      <td>sprinkled a little kindness to brighten someon...</td>\n",
       "      <td>1</td>\n",
       "    </tr>\n",
       "    <tr>\n",
       "      <th>2</th>\n",
       "      <td>2021-10-15 17:23:25+00:00</td>\n",
       "      <td>the body is not stupid it has an efficient hom...</td>\n",
       "      <td>1</td>\n",
       "    </tr>\n",
       "    <tr>\n",
       "      <th>3</th>\n",
       "      <td>2022-11-19 16:26:01+00:00</td>\n",
       "      <td>food for the thought masculinitysaturday</td>\n",
       "      <td>2</td>\n",
       "    </tr>\n",
       "    <tr>\n",
       "      <th>4</th>\n",
       "      <td>2022-12-12 08:59:22+00:00</td>\n",
       "      <td>why though</td>\n",
       "      <td>2</td>\n",
       "    </tr>\n",
       "  </tbody>\n",
       "</table>\n",
       "</div>"
      ],
      "text/plain": [
       "            tweet_created_at  \\\n",
       "0  2022-05-20 16:01:49+00:00   \n",
       "1  2022-08-23 15:26:31+00:00   \n",
       "2  2021-10-15 17:23:25+00:00   \n",
       "3  2022-11-19 16:26:01+00:00   \n",
       "4  2022-12-12 08:59:22+00:00   \n",
       "\n",
       "                                          text_clean  Sentiment  \n",
       "0  actor amp cookbook author recently joined the ...          1  \n",
       "1  sprinkled a little kindness to brighten someon...          1  \n",
       "2  the body is not stupid it has an efficient hom...          1  \n",
       "3           food for the thought masculinitysaturday          2  \n",
       "4                                         why though          2  "
      ]
     },
     "execution_count": 3,
     "metadata": {},
     "output_type": "execute_result"
    }
   ],
   "source": [
    "df.head()"
   ]
  },
  {
   "cell_type": "code",
   "execution_count": 4,
   "id": "3c406e26",
   "metadata": {
    "execution": {
     "iopub.execute_input": "2023-01-25T12:28:46.483292Z",
     "iopub.status.busy": "2023-01-25T12:28:46.482630Z",
     "iopub.status.idle": "2023-01-25T12:28:47.086240Z",
     "shell.execute_reply": "2023-01-25T12:28:47.084946Z"
    },
    "papermill": {
     "duration": 0.613746,
     "end_time": "2023-01-25T12:28:47.089527",
     "exception": false,
     "start_time": "2023-01-25T12:28:46.475781",
     "status": "completed"
    },
    "tags": []
   },
   "outputs": [],
   "source": [
    "ros = RandomOverSampler()\n",
    "\n",
    "train_x, train_y = ros.fit_resample(np.array(df['text_clean']).reshape(-1, 1), np.array(df['Sentiment']).reshape(-1, 1));\n",
    "\n",
    "ros_df = pd.DataFrame(list(zip([x[0] for x in train_x], train_y)), columns = ['text_clean', 'Sentiment']);"
   ]
  },
  {
   "cell_type": "code",
   "execution_count": 5,
   "id": "2d056c26",
   "metadata": {
    "execution": {
     "iopub.execute_input": "2023-01-25T12:28:47.101289Z",
     "iopub.status.busy": "2023-01-25T12:28:47.100872Z",
     "iopub.status.idle": "2023-01-25T12:28:47.114963Z",
     "shell.execute_reply": "2023-01-25T12:28:47.113231Z"
    },
    "papermill": {
     "duration": 0.023193,
     "end_time": "2023-01-25T12:28:47.117729",
     "exception": false,
     "start_time": "2023-01-25T12:28:47.094536",
     "status": "completed"
    },
    "tags": []
   },
   "outputs": [
    {
     "data": {
      "text/plain": [
       "1    129038\n",
       "2    129038\n",
       "0    129038\n",
       "Name: Sentiment, dtype: int64"
      ]
     },
     "execution_count": 5,
     "metadata": {},
     "output_type": "execute_result"
    }
   ],
   "source": [
    "ros_df['Sentiment'].value_counts()"
   ]
  },
  {
   "cell_type": "code",
   "execution_count": 6,
   "id": "87ee2823",
   "metadata": {
    "execution": {
     "iopub.execute_input": "2023-01-25T12:28:47.129927Z",
     "iopub.status.busy": "2023-01-25T12:28:47.129505Z",
     "iopub.status.idle": "2023-01-25T12:28:47.135486Z",
     "shell.execute_reply": "2023-01-25T12:28:47.134111Z"
    },
    "papermill": {
     "duration": 0.015506,
     "end_time": "2023-01-25T12:28:47.138399",
     "exception": false,
     "start_time": "2023-01-25T12:28:47.122893",
     "status": "completed"
    },
    "tags": []
   },
   "outputs": [],
   "source": [
    "X = ros_df['text_clean'].values\n",
    "y = ros_df['Sentiment'].values"
   ]
  },
  {
   "cell_type": "code",
   "execution_count": 7,
   "id": "4a18b092",
   "metadata": {
    "execution": {
     "iopub.execute_input": "2023-01-25T12:28:47.150334Z",
     "iopub.status.busy": "2023-01-25T12:28:47.149920Z",
     "iopub.status.idle": "2023-01-25T12:28:47.156810Z",
     "shell.execute_reply": "2023-01-25T12:28:47.155173Z"
    },
    "papermill": {
     "duration": 0.016179,
     "end_time": "2023-01-25T12:28:47.159570",
     "exception": false,
     "start_time": "2023-01-25T12:28:47.143391",
     "status": "completed"
    },
    "tags": []
   },
   "outputs": [
    {
     "name": "stdout",
     "output_type": "stream",
     "text": [
      "(387114,)\n",
      "(387114,)\n"
     ]
    }
   ],
   "source": [
    "print(X.shape)\n",
    "print(y.shape)"
   ]
  },
  {
   "cell_type": "code",
   "execution_count": 8,
   "id": "eb66a485",
   "metadata": {
    "execution": {
     "iopub.execute_input": "2023-01-25T12:28:47.171976Z",
     "iopub.status.busy": "2023-01-25T12:28:47.171542Z",
     "iopub.status.idle": "2023-01-25T12:28:47.361539Z",
     "shell.execute_reply": "2023-01-25T12:28:47.359965Z"
    },
    "papermill": {
     "duration": 0.199946,
     "end_time": "2023-01-25T12:28:47.364856",
     "exception": false,
     "start_time": "2023-01-25T12:28:47.164910",
     "status": "completed"
    },
    "tags": []
   },
   "outputs": [],
   "source": [
    "x_, x_test, y_, y_test = train_test_split(X, y, test_size=0.3, stratify=y, random_state=42)"
   ]
  },
  {
   "cell_type": "code",
   "execution_count": 9,
   "id": "83c60f50",
   "metadata": {
    "execution": {
     "iopub.execute_input": "2023-01-25T12:28:47.379072Z",
     "iopub.status.busy": "2023-01-25T12:28:47.378611Z",
     "iopub.status.idle": "2023-01-25T12:28:47.510582Z",
     "shell.execute_reply": "2023-01-25T12:28:47.509073Z"
    },
    "papermill": {
     "duration": 0.141915,
     "end_time": "2023-01-25T12:28:47.513612",
     "exception": false,
     "start_time": "2023-01-25T12:28:47.371697",
     "status": "completed"
    },
    "tags": []
   },
   "outputs": [],
   "source": [
    "x_train, x_val, y_train, y_val = train_test_split(x_, y_, test_size=0.2, stratify=y_, random_state=42)"
   ]
  },
  {
   "cell_type": "code",
   "execution_count": 10,
   "id": "f2477252",
   "metadata": {
    "execution": {
     "iopub.execute_input": "2023-01-25T12:28:47.527368Z",
     "iopub.status.busy": "2023-01-25T12:28:47.526932Z",
     "iopub.status.idle": "2023-01-25T12:28:47.534000Z",
     "shell.execute_reply": "2023-01-25T12:28:47.532661Z"
    },
    "papermill": {
     "duration": 0.017434,
     "end_time": "2023-01-25T12:28:47.536827",
     "exception": false,
     "start_time": "2023-01-25T12:28:47.519393",
     "status": "completed"
    },
    "tags": []
   },
   "outputs": [],
   "source": [
    "y_train_c = y_train.copy()\n",
    "y_valid_c = y_val.copy()\n",
    "y_test_c = y_test.copy()"
   ]
  },
  {
   "cell_type": "code",
   "execution_count": 11,
   "id": "9918cf01",
   "metadata": {
    "execution": {
     "iopub.execute_input": "2023-01-25T12:28:47.548455Z",
     "iopub.status.busy": "2023-01-25T12:28:47.548062Z",
     "iopub.status.idle": "2023-01-25T12:28:47.604390Z",
     "shell.execute_reply": "2023-01-25T12:28:47.603171Z"
    },
    "papermill": {
     "duration": 0.066059,
     "end_time": "2023-01-25T12:28:47.607833",
     "exception": false,
     "start_time": "2023-01-25T12:28:47.541774",
     "status": "completed"
    },
    "tags": []
   },
   "outputs": [],
   "source": [
    "encoder = preprocessing.OneHotEncoder()\n",
    "\n",
    "y_train = encoder.fit_transform(np.array(y_train).reshape(-1, 1)).toarray()\n",
    "y_val = encoder.fit_transform(np.array(y_val).reshape(-1, 1)).toarray()\n",
    "y_test = encoder.fit_transform(np.array(y_test).reshape(-1, 1)).toarray()"
   ]
  },
  {
   "cell_type": "code",
   "execution_count": 12,
   "id": "a4adb23d",
   "metadata": {
    "execution": {
     "iopub.execute_input": "2023-01-25T12:28:47.621227Z",
     "iopub.status.busy": "2023-01-25T12:28:47.619732Z",
     "iopub.status.idle": "2023-01-25T12:28:47.628601Z",
     "shell.execute_reply": "2023-01-25T12:28:47.626541Z"
    },
    "papermill": {
     "duration": 0.017936,
     "end_time": "2023-01-25T12:28:47.631373",
     "exception": false,
     "start_time": "2023-01-25T12:28:47.613437",
     "status": "completed"
    },
    "tags": []
   },
   "outputs": [
    {
     "name": "stdout",
     "output_type": "stream",
     "text": [
      "Training Data: 216783\n",
      "Validation Data: 54196\n",
      "Testing Data: 116135\n"
     ]
    }
   ],
   "source": [
    "print(f\"Training Data: {x_train.shape[0]}\\nValidation Data: {x_val.shape[0]}\\nTesting Data: {x_test.shape[0]}\" )"
   ]
  },
  {
   "cell_type": "code",
   "execution_count": 13,
   "id": "66a1cf3f",
   "metadata": {
    "execution": {
     "iopub.execute_input": "2023-01-25T12:28:47.644575Z",
     "iopub.status.busy": "2023-01-25T12:28:47.644139Z",
     "iopub.status.idle": "2023-01-25T12:28:55.271196Z",
     "shell.execute_reply": "2023-01-25T12:28:55.269591Z"
    },
    "papermill": {
     "duration": 7.637451,
     "end_time": "2023-01-25T12:28:55.274963",
     "exception": false,
     "start_time": "2023-01-25T12:28:47.637512",
     "status": "completed"
    },
    "tags": []
   },
   "outputs": [],
   "source": [
    "clf = CountVectorizer()\n",
    "\n",
    "X_train_cv =  clf.fit_transform(x_train)\n",
    "X_test_cv = clf.transform(x_test)"
   ]
  },
  {
   "cell_type": "code",
   "execution_count": 14,
   "id": "7c293489",
   "metadata": {
    "execution": {
     "iopub.execute_input": "2023-01-25T12:28:55.290157Z",
     "iopub.status.busy": "2023-01-25T12:28:55.288631Z",
     "iopub.status.idle": "2023-01-25T12:28:55.965791Z",
     "shell.execute_reply": "2023-01-25T12:28:55.964700Z"
    },
    "papermill": {
     "duration": 0.68753,
     "end_time": "2023-01-25T12:28:55.968566",
     "exception": false,
     "start_time": "2023-01-25T12:28:55.281036",
     "status": "completed"
    },
    "tags": []
   },
   "outputs": [],
   "source": [
    "tf_transformer = TfidfTransformer(use_idf=True).fit(X_train_cv)\n",
    "\n",
    "X_train_tf = tf_transformer.transform(X_train_cv)\n",
    "X_test_tf = tf_transformer.transform(X_test_cv)"
   ]
  },
  {
   "cell_type": "code",
   "execution_count": null,
   "id": "33853cf0",
   "metadata": {
    "papermill": {
     "duration": 0.00428,
     "end_time": "2023-01-25T12:28:55.978006",
     "exception": false,
     "start_time": "2023-01-25T12:28:55.973726",
     "status": "completed"
    },
    "tags": []
   },
   "outputs": [],
   "source": []
  }
 ],
 "metadata": {
  "kernelspec": {
   "display_name": "Python 3",
   "language": "python",
   "name": "python3"
  },
  "language_info": {
   "codemirror_mode": {
    "name": "ipython",
    "version": 3
   },
   "file_extension": ".py",
   "mimetype": "text/x-python",
   "name": "python",
   "nbconvert_exporter": "python",
   "pygments_lexer": "ipython3",
   "version": "3.7.12"
  },
  "papermill": {
   "default_parameters": {},
   "duration": 23.596748,
   "end_time": "2023-01-25T12:28:56.806855",
   "environment_variables": {},
   "exception": null,
   "input_path": "__notebook__.ipynb",
   "output_path": "__notebook__.ipynb",
   "parameters": {},
   "start_time": "2023-01-25T12:28:33.210107",
   "version": "2.3.4"
  }
 },
 "nbformat": 4,
 "nbformat_minor": 5
}
