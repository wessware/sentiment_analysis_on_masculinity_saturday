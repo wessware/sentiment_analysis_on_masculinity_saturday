{
 "cells": [
  {
   "cell_type": "code",
   "execution_count": 1,
   "id": "46b3cdb3",
   "metadata": {
    "_cell_guid": "b1076dfc-b9ad-4769-8c92-a6c4dae69d19",
    "_uuid": "8f2839f25d086af736a60e9eeb907d3b93b6e0e5",
    "execution": {
     "iopub.execute_input": "2023-01-25T13:27:57.357748Z",
     "iopub.status.busy": "2023-01-25T13:27:57.357280Z",
     "iopub.status.idle": "2023-01-25T13:27:58.871520Z",
     "shell.execute_reply": "2023-01-25T13:27:58.870235Z"
    },
    "papermill": {
     "duration": 1.526168,
     "end_time": "2023-01-25T13:27:58.874478",
     "exception": false,
     "start_time": "2023-01-25T13:27:57.348310",
     "status": "completed"
    },
    "tags": []
   },
   "outputs": [],
   "source": [
    "import pandas as pd\n",
    "import numpy as np\n",
    "\n",
    "from sklearn import preprocessing\n",
    "from imblearn.over_sampling import RandomOverSampler\n",
    "from sklearn.model_selection import train_test_split\n",
    "\n",
    "from sklearn.feature_extraction.text import CountVectorizer\n",
    "from sklearn.feature_extraction.text import TfidfTransformer\n",
    "from sklearn.ensemble import RandomForestClassifier\n",
    "\n",
    "from sklearn.metrics import accuracy_score\n",
    "from sklearn.metrics import classification_report"
   ]
  },
  {
   "cell_type": "code",
   "execution_count": 2,
   "id": "bfa21ed9",
   "metadata": {
    "execution": {
     "iopub.execute_input": "2023-01-25T13:27:58.887305Z",
     "iopub.status.busy": "2023-01-25T13:27:58.886900Z",
     "iopub.status.idle": "2023-01-25T13:28:00.175423Z",
     "shell.execute_reply": "2023-01-25T13:28:00.174328Z"
    },
    "papermill": {
     "duration": 1.298478,
     "end_time": "2023-01-25T13:28:00.178441",
     "exception": false,
     "start_time": "2023-01-25T13:27:58.879963",
     "status": "completed"
    },
    "tags": []
   },
   "outputs": [],
   "source": [
    "df = pd.read_csv('/kaggle/input/amerix-sa-nlp-deep-cleaned-data/sentiment_adv_preprocessed_data.csv', index_col=0)"
   ]
  },
  {
   "cell_type": "code",
   "execution_count": 3,
   "id": "8c005d0e",
   "metadata": {
    "execution": {
     "iopub.execute_input": "2023-01-25T13:28:00.191830Z",
     "iopub.status.busy": "2023-01-25T13:28:00.191418Z",
     "iopub.status.idle": "2023-01-25T13:28:00.210195Z",
     "shell.execute_reply": "2023-01-25T13:28:00.209218Z"
    },
    "papermill": {
     "duration": 0.028219,
     "end_time": "2023-01-25T13:28:00.212666",
     "exception": false,
     "start_time": "2023-01-25T13:28:00.184447",
     "status": "completed"
    },
    "tags": []
   },
   "outputs": [
    {
     "data": {
      "text/html": [
       "<div>\n",
       "<style scoped>\n",
       "    .dataframe tbody tr th:only-of-type {\n",
       "        vertical-align: middle;\n",
       "    }\n",
       "\n",
       "    .dataframe tbody tr th {\n",
       "        vertical-align: top;\n",
       "    }\n",
       "\n",
       "    .dataframe thead th {\n",
       "        text-align: right;\n",
       "    }\n",
       "</style>\n",
       "<table border=\"1\" class=\"dataframe\">\n",
       "  <thead>\n",
       "    <tr style=\"text-align: right;\">\n",
       "      <th></th>\n",
       "      <th>tweet_created_at</th>\n",
       "      <th>text_clean</th>\n",
       "      <th>Sentiment</th>\n",
       "    </tr>\n",
       "  </thead>\n",
       "  <tbody>\n",
       "    <tr>\n",
       "      <th>0</th>\n",
       "      <td>2022-05-20 16:01:49+00:00</td>\n",
       "      <td>actor amp cookbook author recently joined the ...</td>\n",
       "      <td>1</td>\n",
       "    </tr>\n",
       "    <tr>\n",
       "      <th>1</th>\n",
       "      <td>2022-08-23 15:26:31+00:00</td>\n",
       "      <td>sprinkled a little kindness to brighten someon...</td>\n",
       "      <td>1</td>\n",
       "    </tr>\n",
       "    <tr>\n",
       "      <th>2</th>\n",
       "      <td>2021-10-15 17:23:25+00:00</td>\n",
       "      <td>the body is not stupid it has an efficient hom...</td>\n",
       "      <td>1</td>\n",
       "    </tr>\n",
       "    <tr>\n",
       "      <th>3</th>\n",
       "      <td>2022-11-19 16:26:01+00:00</td>\n",
       "      <td>food for the thought masculinitysaturday</td>\n",
       "      <td>2</td>\n",
       "    </tr>\n",
       "    <tr>\n",
       "      <th>4</th>\n",
       "      <td>2022-12-12 08:59:22+00:00</td>\n",
       "      <td>why though</td>\n",
       "      <td>2</td>\n",
       "    </tr>\n",
       "  </tbody>\n",
       "</table>\n",
       "</div>"
      ],
      "text/plain": [
       "            tweet_created_at  \\\n",
       "0  2022-05-20 16:01:49+00:00   \n",
       "1  2022-08-23 15:26:31+00:00   \n",
       "2  2021-10-15 17:23:25+00:00   \n",
       "3  2022-11-19 16:26:01+00:00   \n",
       "4  2022-12-12 08:59:22+00:00   \n",
       "\n",
       "                                          text_clean  Sentiment  \n",
       "0  actor amp cookbook author recently joined the ...          1  \n",
       "1  sprinkled a little kindness to brighten someon...          1  \n",
       "2  the body is not stupid it has an efficient hom...          1  \n",
       "3           food for the thought masculinitysaturday          2  \n",
       "4                                         why though          2  "
      ]
     },
     "execution_count": 3,
     "metadata": {},
     "output_type": "execute_result"
    }
   ],
   "source": [
    "df.head()"
   ]
  },
  {
   "cell_type": "code",
   "execution_count": 4,
   "id": "09c1dad7",
   "metadata": {
    "execution": {
     "iopub.execute_input": "2023-01-25T13:28:00.226566Z",
     "iopub.status.busy": "2023-01-25T13:28:00.225563Z",
     "iopub.status.idle": "2023-01-25T13:28:00.790946Z",
     "shell.execute_reply": "2023-01-25T13:28:00.789391Z"
    },
    "papermill": {
     "duration": 0.575788,
     "end_time": "2023-01-25T13:28:00.794131",
     "exception": false,
     "start_time": "2023-01-25T13:28:00.218343",
     "status": "completed"
    },
    "tags": []
   },
   "outputs": [],
   "source": [
    "ros = RandomOverSampler()\n",
    "\n",
    "train_x, train_y = ros.fit_resample(np.array(df['text_clean']).reshape(-1, 1), np.array(df['Sentiment']).reshape(-1, 1));\n",
    "\n",
    "ros_df = pd.DataFrame(list(zip([x[0] for x in train_x], train_y)), columns = ['text_clean', 'Sentiment']);"
   ]
  },
  {
   "cell_type": "code",
   "execution_count": 5,
   "id": "e09d1438",
   "metadata": {
    "execution": {
     "iopub.execute_input": "2023-01-25T13:28:00.807048Z",
     "iopub.status.busy": "2023-01-25T13:28:00.806600Z",
     "iopub.status.idle": "2023-01-25T13:28:00.820132Z",
     "shell.execute_reply": "2023-01-25T13:28:00.818874Z"
    },
    "papermill": {
     "duration": 0.022862,
     "end_time": "2023-01-25T13:28:00.822547",
     "exception": false,
     "start_time": "2023-01-25T13:28:00.799685",
     "status": "completed"
    },
    "tags": []
   },
   "outputs": [
    {
     "data": {
      "text/plain": [
       "1    129038\n",
       "2    129038\n",
       "0    129038\n",
       "Name: Sentiment, dtype: int64"
      ]
     },
     "execution_count": 5,
     "metadata": {},
     "output_type": "execute_result"
    }
   ],
   "source": [
    "ros_df['Sentiment'].value_counts()"
   ]
  },
  {
   "cell_type": "code",
   "execution_count": 6,
   "id": "415f3130",
   "metadata": {
    "execution": {
     "iopub.execute_input": "2023-01-25T13:28:00.836847Z",
     "iopub.status.busy": "2023-01-25T13:28:00.835901Z",
     "iopub.status.idle": "2023-01-25T13:28:00.842928Z",
     "shell.execute_reply": "2023-01-25T13:28:00.841299Z"
    },
    "papermill": {
     "duration": 0.017019,
     "end_time": "2023-01-25T13:28:00.845448",
     "exception": false,
     "start_time": "2023-01-25T13:28:00.828429",
     "status": "completed"
    },
    "tags": []
   },
   "outputs": [],
   "source": [
    "X = ros_df['text_clean'].values\n",
    "y = ros_df['Sentiment'].values"
   ]
  },
  {
   "cell_type": "code",
   "execution_count": 7,
   "id": "3b3697f6",
   "metadata": {
    "execution": {
     "iopub.execute_input": "2023-01-25T13:28:00.858603Z",
     "iopub.status.busy": "2023-01-25T13:28:00.858197Z",
     "iopub.status.idle": "2023-01-25T13:28:00.864530Z",
     "shell.execute_reply": "2023-01-25T13:28:00.862773Z"
    },
    "papermill": {
     "duration": 0.016019,
     "end_time": "2023-01-25T13:28:00.867183",
     "exception": false,
     "start_time": "2023-01-25T13:28:00.851164",
     "status": "completed"
    },
    "tags": []
   },
   "outputs": [
    {
     "name": "stdout",
     "output_type": "stream",
     "text": [
      "(387114,)\n",
      "(387114,)\n"
     ]
    }
   ],
   "source": [
    "print(X.shape)\n",
    "print(y.shape)"
   ]
  },
  {
   "cell_type": "code",
   "execution_count": 8,
   "id": "f52e0c5a",
   "metadata": {
    "execution": {
     "iopub.execute_input": "2023-01-25T13:28:00.880650Z",
     "iopub.status.busy": "2023-01-25T13:28:00.880225Z",
     "iopub.status.idle": "2023-01-25T13:28:01.056667Z",
     "shell.execute_reply": "2023-01-25T13:28:01.055076Z"
    },
    "papermill": {
     "duration": 0.186939,
     "end_time": "2023-01-25T13:28:01.059787",
     "exception": false,
     "start_time": "2023-01-25T13:28:00.872848",
     "status": "completed"
    },
    "tags": []
   },
   "outputs": [],
   "source": [
    "x_, x_test, y_, y_test = train_test_split(X, y, test_size=0.3, stratify=y, random_state=42)"
   ]
  },
  {
   "cell_type": "code",
   "execution_count": 9,
   "id": "26e254a4",
   "metadata": {
    "execution": {
     "iopub.execute_input": "2023-01-25T13:28:01.073891Z",
     "iopub.status.busy": "2023-01-25T13:28:01.073449Z",
     "iopub.status.idle": "2023-01-25T13:28:01.196974Z",
     "shell.execute_reply": "2023-01-25T13:28:01.195649Z"
    },
    "papermill": {
     "duration": 0.134533,
     "end_time": "2023-01-25T13:28:01.200319",
     "exception": false,
     "start_time": "2023-01-25T13:28:01.065786",
     "status": "completed"
    },
    "tags": []
   },
   "outputs": [],
   "source": [
    "x_train, x_val, y_train, y_val = train_test_split(x_, y_, test_size=0.2, stratify=y_, random_state=42)"
   ]
  },
  {
   "cell_type": "code",
   "execution_count": 10,
   "id": "e0513168",
   "metadata": {
    "execution": {
     "iopub.execute_input": "2023-01-25T13:28:01.215842Z",
     "iopub.status.busy": "2023-01-25T13:28:01.215377Z",
     "iopub.status.idle": "2023-01-25T13:28:01.221612Z",
     "shell.execute_reply": "2023-01-25T13:28:01.220082Z"
    },
    "papermill": {
     "duration": 0.018272,
     "end_time": "2023-01-25T13:28:01.225431",
     "exception": false,
     "start_time": "2023-01-25T13:28:01.207159",
     "status": "completed"
    },
    "tags": []
   },
   "outputs": [],
   "source": [
    "y_train_c = y_train.copy()\n",
    "y_valid_c = y_val.copy()\n",
    "y_test_c = y_test.copy()"
   ]
  },
  {
   "cell_type": "code",
   "execution_count": 11,
   "id": "5cf2d963",
   "metadata": {
    "execution": {
     "iopub.execute_input": "2023-01-25T13:28:01.239727Z",
     "iopub.status.busy": "2023-01-25T13:28:01.239275Z",
     "iopub.status.idle": "2023-01-25T13:28:01.293875Z",
     "shell.execute_reply": "2023-01-25T13:28:01.292659Z"
    },
    "papermill": {
     "duration": 0.064356,
     "end_time": "2023-01-25T13:28:01.296621",
     "exception": false,
     "start_time": "2023-01-25T13:28:01.232265",
     "status": "completed"
    },
    "tags": []
   },
   "outputs": [],
   "source": [
    "encoder = preprocessing.OneHotEncoder()\n",
    "\n",
    "y_train = encoder.fit_transform(np.array(y_train).reshape(-1, 1)).toarray()\n",
    "y_val = encoder.fit_transform(np.array(y_val).reshape(-1, 1)).toarray()\n",
    "y_test = encoder.fit_transform(np.array(y_test).reshape(-1, 1)).toarray()"
   ]
  },
  {
   "cell_type": "code",
   "execution_count": 12,
   "id": "eb1aa027",
   "metadata": {
    "execution": {
     "iopub.execute_input": "2023-01-25T13:28:01.309892Z",
     "iopub.status.busy": "2023-01-25T13:28:01.309491Z",
     "iopub.status.idle": "2023-01-25T13:28:01.316886Z",
     "shell.execute_reply": "2023-01-25T13:28:01.315578Z"
    },
    "papermill": {
     "duration": 0.017967,
     "end_time": "2023-01-25T13:28:01.320325",
     "exception": false,
     "start_time": "2023-01-25T13:28:01.302358",
     "status": "completed"
    },
    "tags": []
   },
   "outputs": [
    {
     "name": "stdout",
     "output_type": "stream",
     "text": [
      "Training Data: 216783\n",
      "Validation Data: 54196\n",
      "Testing Data: 116135\n"
     ]
    }
   ],
   "source": [
    "print(f\"Training Data: {x_train.shape[0]}\\nValidation Data: {x_val.shape[0]}\\nTesting Data: {x_test.shape[0]}\" )"
   ]
  },
  {
   "cell_type": "code",
   "execution_count": 13,
   "id": "e43abcb1",
   "metadata": {
    "execution": {
     "iopub.execute_input": "2023-01-25T13:28:01.335636Z",
     "iopub.status.busy": "2023-01-25T13:28:01.334445Z",
     "iopub.status.idle": "2023-01-25T13:28:08.748580Z",
     "shell.execute_reply": "2023-01-25T13:28:08.747401Z"
    },
    "papermill": {
     "duration": 7.424838,
     "end_time": "2023-01-25T13:28:08.751511",
     "exception": false,
     "start_time": "2023-01-25T13:28:01.326673",
     "status": "completed"
    },
    "tags": []
   },
   "outputs": [],
   "source": [
    "clf = CountVectorizer()\n",
    "\n",
    "X_train_cv =  clf.fit_transform(x_train)\n",
    "X_test_cv = clf.transform(x_test)"
   ]
  },
  {
   "cell_type": "code",
   "execution_count": 14,
   "id": "3c7ed475",
   "metadata": {
    "execution": {
     "iopub.execute_input": "2023-01-25T13:28:08.764649Z",
     "iopub.status.busy": "2023-01-25T13:28:08.764246Z",
     "iopub.status.idle": "2023-01-25T13:28:09.357809Z",
     "shell.execute_reply": "2023-01-25T13:28:09.356663Z"
    },
    "papermill": {
     "duration": 0.603753,
     "end_time": "2023-01-25T13:28:09.360900",
     "exception": false,
     "start_time": "2023-01-25T13:28:08.757147",
     "status": "completed"
    },
    "tags": []
   },
   "outputs": [],
   "source": [
    "tf_transformer = TfidfTransformer(use_idf=True).fit(X_train_cv)\n",
    "\n",
    "X_train_tf = tf_transformer.transform(X_train_cv)\n",
    "X_test_tf = tf_transformer.transform(X_test_cv)"
   ]
  },
  {
   "cell_type": "code",
   "execution_count": 15,
   "id": "cfe85ad1",
   "metadata": {
    "execution": {
     "iopub.execute_input": "2023-01-25T13:28:09.374588Z",
     "iopub.status.busy": "2023-01-25T13:28:09.374166Z",
     "iopub.status.idle": "2023-01-25T13:28:09.379435Z",
     "shell.execute_reply": "2023-01-25T13:28:09.378232Z"
    },
    "papermill": {
     "duration": 0.014997,
     "end_time": "2023-01-25T13:28:09.382033",
     "exception": false,
     "start_time": "2023-01-25T13:28:09.367036",
     "status": "completed"
    },
    "tags": []
   },
   "outputs": [],
   "source": [
    "rf_classifier = RandomForestClassifier()"
   ]
  },
  {
   "cell_type": "code",
   "execution_count": 16,
   "id": "6698bb6e",
   "metadata": {
    "execution": {
     "iopub.execute_input": "2023-01-25T13:28:09.395573Z",
     "iopub.status.busy": "2023-01-25T13:28:09.395148Z",
     "iopub.status.idle": "2023-01-25T14:12:17.008796Z",
     "shell.execute_reply": "2023-01-25T14:12:17.007593Z"
    },
    "papermill": {
     "duration": 2647.627967,
     "end_time": "2023-01-25T14:12:17.016175",
     "exception": false,
     "start_time": "2023-01-25T13:28:09.388208",
     "status": "completed"
    },
    "tags": []
   },
   "outputs": [
    {
     "data": {
      "text/plain": [
       "RandomForestClassifier()"
      ]
     },
     "execution_count": 16,
     "metadata": {},
     "output_type": "execute_result"
    }
   ],
   "source": [
    "rf_classifier.fit(X_train_tf, y_train_c)"
   ]
  },
  {
   "cell_type": "code",
   "execution_count": 17,
   "id": "fb3b310e",
   "metadata": {
    "execution": {
     "iopub.execute_input": "2023-01-25T14:12:17.030224Z",
     "iopub.status.busy": "2023-01-25T14:12:17.029484Z",
     "iopub.status.idle": "2023-01-25T14:12:38.286231Z",
     "shell.execute_reply": "2023-01-25T14:12:38.284423Z"
    },
    "papermill": {
     "duration": 21.266685,
     "end_time": "2023-01-25T14:12:38.288993",
     "exception": false,
     "start_time": "2023-01-25T14:12:17.022308",
     "status": "completed"
    },
    "tags": []
   },
   "outputs": [],
   "source": [
    "rf_prediction = rf_classifier.predict(X_test_tf)"
   ]
  },
  {
   "cell_type": "code",
   "execution_count": 18,
   "id": "fa29487a",
   "metadata": {
    "execution": {
     "iopub.execute_input": "2023-01-25T14:12:38.303765Z",
     "iopub.status.busy": "2023-01-25T14:12:38.303368Z",
     "iopub.status.idle": "2023-01-25T14:12:38.534157Z",
     "shell.execute_reply": "2023-01-25T14:12:38.532617Z"
    },
    "papermill": {
     "duration": 0.241116,
     "end_time": "2023-01-25T14:12:38.536798",
     "exception": false,
     "start_time": "2023-01-25T14:12:38.295682",
     "status": "completed"
    },
    "tags": []
   },
   "outputs": [
    {
     "name": "stdout",
     "output_type": "stream",
     "text": [
      "\tRandom Forests Classification Report:\n",
      "\n",
      "               precision    recall  f1-score   support\n",
      "\n",
      "    Negative       0.89      0.93      0.91     38711\n",
      "    Positive       0.91      0.83      0.87     38712\n",
      "     Neutral       0.89      0.93      0.91     38712\n",
      "\n",
      "    accuracy                           0.90    116135\n",
      "   macro avg       0.90      0.90      0.90    116135\n",
      "weighted avg       0.90      0.90      0.90    116135\n",
      "\n"
     ]
    }
   ],
   "source": [
    "print('\\tRandom Forests Classification Report:\\n\\n',\n",
    "      classification_report(y_test_c,rf_prediction, target_names=['Negative', 'Positive', 'Neutral']))"
   ]
  },
  {
   "cell_type": "code",
   "execution_count": null,
   "id": "f72065c1",
   "metadata": {
    "papermill": {
     "duration": 0.005571,
     "end_time": "2023-01-25T14:12:38.548189",
     "exception": false,
     "start_time": "2023-01-25T14:12:38.542618",
     "status": "completed"
    },
    "tags": []
   },
   "outputs": [],
   "source": []
  }
 ],
 "metadata": {
  "kernelspec": {
   "display_name": "Python 3",
   "language": "python",
   "name": "python3"
  },
  "language_info": {
   "codemirror_mode": {
    "name": "ipython",
    "version": 3
   },
   "file_extension": ".py",
   "mimetype": "text/x-python",
   "name": "python",
   "nbconvert_exporter": "python",
   "pygments_lexer": "ipython3",
   "version": "3.7.12"
  },
  "papermill": {
   "default_parameters": {},
   "duration": 2691.697035,
   "end_time": "2023-01-25T14:12:39.585965",
   "environment_variables": {},
   "exception": null,
   "input_path": "__notebook__.ipynb",
   "output_path": "__notebook__.ipynb",
   "parameters": {},
   "start_time": "2023-01-25T13:27:47.888930",
   "version": "2.3.4"
  }
 },
 "nbformat": 4,
 "nbformat_minor": 5
}
