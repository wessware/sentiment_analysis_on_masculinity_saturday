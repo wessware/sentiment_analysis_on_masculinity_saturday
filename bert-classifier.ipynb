{
 "cells": [
  {
   "cell_type": "code",
   "execution_count": 1,
   "id": "732b3c5f",
   "metadata": {
    "_cell_guid": "b1076dfc-b9ad-4769-8c92-a6c4dae69d19",
    "_uuid": "8f2839f25d086af736a60e9eeb907d3b93b6e0e5",
    "execution": {
     "iopub.execute_input": "2023-01-26T08:32:37.312249Z",
     "iopub.status.busy": "2023-01-26T08:32:37.311594Z",
     "iopub.status.idle": "2023-01-26T08:32:43.798360Z",
     "shell.execute_reply": "2023-01-26T08:32:43.797071Z"
    },
    "papermill": {
     "duration": 6.498723,
     "end_time": "2023-01-26T08:32:43.801717",
     "exception": false,
     "start_time": "2023-01-26T08:32:37.302994",
     "status": "completed"
    },
    "tags": []
   },
   "outputs": [],
   "source": [
    "import pandas as pd \n",
    "import numpy as np\n",
    "\n",
    "import matplotlib.pyplot as plt\n",
    "import seaborn as sns\n",
    "\n",
    "from sklearn import preprocessing\n",
    "from imblearn.over_sampling import RandomOverSampler\n",
    "from sklearn.model_selection import train_test_split\n",
    "from sklearn.feature_extraction.text import CountVectorizer\n",
    "from sklearn.feature_extraction.text import TfidfTransformer\n",
    "#keras\n",
    "import tensorflow as tf\n",
    "from tensorflow import keras\n",
    "\n",
    "\n",
    "#metrics\n",
    "from sklearn.metrics import accuracy_score, f1_score\n",
    "from sklearn.metrics import classification_report, confusion_matrix\n",
    "\n",
    "#set seed for reproducibility\n",
    "seed=42"
   ]
  },
  {
   "cell_type": "code",
   "execution_count": 2,
   "id": "3f25fb8c",
   "metadata": {
    "execution": {
     "iopub.execute_input": "2023-01-26T08:32:43.814564Z",
     "iopub.status.busy": "2023-01-26T08:32:43.813831Z",
     "iopub.status.idle": "2023-01-26T08:32:43.828701Z",
     "shell.execute_reply": "2023-01-26T08:32:43.827814Z"
    },
    "papermill": {
     "duration": 0.02374,
     "end_time": "2023-01-26T08:32:43.830960",
     "exception": false,
     "start_time": "2023-01-26T08:32:43.807220",
     "status": "completed"
    },
    "tags": []
   },
   "outputs": [
    {
     "data": {
      "text/plain": [
       "<Figure size 432x288 with 0 Axes>"
      ]
     },
     "metadata": {},
     "output_type": "display_data"
    }
   ],
   "source": [
    "#set style for plots\n",
    "sns.set_style(\"whitegrid\")\n",
    "sns.despine()\n",
    "plt.style.use(\"seaborn-whitegrid\")\n",
    "plt.rc(\"figure\", autolayout=True)\n",
    "plt.rc(\"axes\", labelweight=\"bold\", labelsize=\"large\", titleweight=\"bold\", titlepad=10)"
   ]
  },
  {
   "cell_type": "code",
   "execution_count": 3,
   "id": "fcd27723",
   "metadata": {
    "execution": {
     "iopub.execute_input": "2023-01-26T08:32:43.845201Z",
     "iopub.status.busy": "2023-01-26T08:32:43.844027Z",
     "iopub.status.idle": "2023-01-26T08:32:47.314404Z",
     "shell.execute_reply": "2023-01-26T08:32:47.312224Z"
    },
    "papermill": {
     "duration": 3.4812,
     "end_time": "2023-01-26T08:32:47.317945",
     "exception": false,
     "start_time": "2023-01-26T08:32:43.836745",
     "status": "completed"
    },
    "tags": []
   },
   "outputs": [
    {
     "name": "stderr",
     "output_type": "stream",
     "text": [
      "2023-01-26 08:32:47.234140: I tensorflow/core/common_runtime/process_util.cc:146] Creating new thread pool with default inter op setting: 2. Tune using inter_op_parallelism_threads for best performance.\n"
     ]
    }
   ],
   "source": [
    "#transformers\n",
    "from transformers import BertTokenizerFast\n",
    "from transformers import TFBertModel\n",
    "from transformers import RobertaTokenizerFast\n",
    "from transformers import TFRobertaModel"
   ]
  },
  {
   "cell_type": "code",
   "execution_count": 4,
   "id": "cd53f91b",
   "metadata": {
    "execution": {
     "iopub.execute_input": "2023-01-26T08:32:47.331854Z",
     "iopub.status.busy": "2023-01-26T08:32:47.330827Z",
     "iopub.status.idle": "2023-01-26T08:32:47.339496Z",
     "shell.execute_reply": "2023-01-26T08:32:47.338242Z"
    },
    "papermill": {
     "duration": 0.018054,
     "end_time": "2023-01-26T08:32:47.341907",
     "exception": false,
     "start_time": "2023-01-26T08:32:47.323853",
     "status": "completed"
    },
    "tags": []
   },
   "outputs": [],
   "source": [
    "def conf_matrix(y, y_pred, title):\n",
    "    fig, ax =plt.subplots(figsize=(5,5))\n",
    "    labels=['Negative', 'Positive', 'Neutral']\n",
    "    ax=sns.heatmap(confusion_matrix(y, y_pred), annot=True, cmap=\"Blues\", fmt='g', cbar=False, annot_kws={\"size\":25})\n",
    "    plt.title(title, fontsize=20)\n",
    "    ax.xaxis.set_ticklabels(labels, fontsize=17) \n",
    "    ax.yaxis.set_ticklabels(labels, fontsize=17)\n",
    "    ax.set_ylabel('Test', fontsize=20)\n",
    "    ax.set_xlabel('Predicted', fontsize=20)\n",
    "    plt.show()"
   ]
  },
  {
   "cell_type": "code",
   "execution_count": 5,
   "id": "ea37016a",
   "metadata": {
    "execution": {
     "iopub.execute_input": "2023-01-26T08:32:47.354573Z",
     "iopub.status.busy": "2023-01-26T08:32:47.354172Z",
     "iopub.status.idle": "2023-01-26T08:32:48.708561Z",
     "shell.execute_reply": "2023-01-26T08:32:48.707405Z"
    },
    "papermill": {
     "duration": 1.363939,
     "end_time": "2023-01-26T08:32:48.711316",
     "exception": false,
     "start_time": "2023-01-26T08:32:47.347377",
     "status": "completed"
    },
    "tags": []
   },
   "outputs": [],
   "source": [
    "df = pd.read_csv('/kaggle/input/amerix-sa-nlp-deep-cleaned-data/sentiment_adv_preprocessed_data.csv', index_col=0)"
   ]
  },
  {
   "cell_type": "code",
   "execution_count": 6,
   "id": "3482f9b5",
   "metadata": {
    "execution": {
     "iopub.execute_input": "2023-01-26T08:32:48.724257Z",
     "iopub.status.busy": "2023-01-26T08:32:48.723799Z",
     "iopub.status.idle": "2023-01-26T08:32:48.740786Z",
     "shell.execute_reply": "2023-01-26T08:32:48.739808Z"
    },
    "papermill": {
     "duration": 0.026417,
     "end_time": "2023-01-26T08:32:48.743165",
     "exception": false,
     "start_time": "2023-01-26T08:32:48.716748",
     "status": "completed"
    },
    "tags": []
   },
   "outputs": [
    {
     "data": {
      "text/html": [
       "<div>\n",
       "<style scoped>\n",
       "    .dataframe tbody tr th:only-of-type {\n",
       "        vertical-align: middle;\n",
       "    }\n",
       "\n",
       "    .dataframe tbody tr th {\n",
       "        vertical-align: top;\n",
       "    }\n",
       "\n",
       "    .dataframe thead th {\n",
       "        text-align: right;\n",
       "    }\n",
       "</style>\n",
       "<table border=\"1\" class=\"dataframe\">\n",
       "  <thead>\n",
       "    <tr style=\"text-align: right;\">\n",
       "      <th></th>\n",
       "      <th>tweet_created_at</th>\n",
       "      <th>text_clean</th>\n",
       "      <th>Sentiment</th>\n",
       "    </tr>\n",
       "  </thead>\n",
       "  <tbody>\n",
       "    <tr>\n",
       "      <th>0</th>\n",
       "      <td>2022-05-20 16:01:49+00:00</td>\n",
       "      <td>actor amp cookbook author recently joined the ...</td>\n",
       "      <td>1</td>\n",
       "    </tr>\n",
       "    <tr>\n",
       "      <th>1</th>\n",
       "      <td>2022-08-23 15:26:31+00:00</td>\n",
       "      <td>sprinkled a little kindness to brighten someon...</td>\n",
       "      <td>1</td>\n",
       "    </tr>\n",
       "    <tr>\n",
       "      <th>2</th>\n",
       "      <td>2021-10-15 17:23:25+00:00</td>\n",
       "      <td>the body is not stupid it has an efficient hom...</td>\n",
       "      <td>1</td>\n",
       "    </tr>\n",
       "    <tr>\n",
       "      <th>3</th>\n",
       "      <td>2022-11-19 16:26:01+00:00</td>\n",
       "      <td>food for the thought masculinitysaturday</td>\n",
       "      <td>2</td>\n",
       "    </tr>\n",
       "    <tr>\n",
       "      <th>4</th>\n",
       "      <td>2022-12-12 08:59:22+00:00</td>\n",
       "      <td>why though</td>\n",
       "      <td>2</td>\n",
       "    </tr>\n",
       "  </tbody>\n",
       "</table>\n",
       "</div>"
      ],
      "text/plain": [
       "            tweet_created_at  \\\n",
       "0  2022-05-20 16:01:49+00:00   \n",
       "1  2022-08-23 15:26:31+00:00   \n",
       "2  2021-10-15 17:23:25+00:00   \n",
       "3  2022-11-19 16:26:01+00:00   \n",
       "4  2022-12-12 08:59:22+00:00   \n",
       "\n",
       "                                          text_clean  Sentiment  \n",
       "0  actor amp cookbook author recently joined the ...          1  \n",
       "1  sprinkled a little kindness to brighten someon...          1  \n",
       "2  the body is not stupid it has an efficient hom...          1  \n",
       "3           food for the thought masculinitysaturday          2  \n",
       "4                                         why though          2  "
      ]
     },
     "execution_count": 6,
     "metadata": {},
     "output_type": "execute_result"
    }
   ],
   "source": [
    "df.head()"
   ]
  },
  {
   "cell_type": "code",
   "execution_count": 7,
   "id": "6687d797",
   "metadata": {
    "execution": {
     "iopub.execute_input": "2023-01-26T08:32:48.756583Z",
     "iopub.status.busy": "2023-01-26T08:32:48.755442Z",
     "iopub.status.idle": "2023-01-26T08:32:49.315580Z",
     "shell.execute_reply": "2023-01-26T08:32:49.314511Z"
    },
    "papermill": {
     "duration": 0.569594,
     "end_time": "2023-01-26T08:32:49.318310",
     "exception": false,
     "start_time": "2023-01-26T08:32:48.748716",
     "status": "completed"
    },
    "tags": []
   },
   "outputs": [],
   "source": [
    "ros = RandomOverSampler()\n",
    "\n",
    "train_x, train_y = ros.fit_resample(np.array(df['text_clean']).reshape(-1, 1), np.array(df['Sentiment']).reshape(-1, 1));\n",
    "\n",
    "ros_df = pd.DataFrame(list(zip([x[0] for x in train_x], train_y)), columns = ['text_clean', 'Sentiment']);"
   ]
  },
  {
   "cell_type": "code",
   "execution_count": 8,
   "id": "67669934",
   "metadata": {
    "execution": {
     "iopub.execute_input": "2023-01-26T08:32:49.336643Z",
     "iopub.status.busy": "2023-01-26T08:32:49.336221Z",
     "iopub.status.idle": "2023-01-26T08:32:49.348561Z",
     "shell.execute_reply": "2023-01-26T08:32:49.347587Z"
    },
    "papermill": {
     "duration": 0.023401,
     "end_time": "2023-01-26T08:32:49.350889",
     "exception": false,
     "start_time": "2023-01-26T08:32:49.327488",
     "status": "completed"
    },
    "tags": []
   },
   "outputs": [
    {
     "data": {
      "text/plain": [
       "1    129038\n",
       "2    129038\n",
       "0    129038\n",
       "Name: Sentiment, dtype: int64"
      ]
     },
     "execution_count": 8,
     "metadata": {},
     "output_type": "execute_result"
    }
   ],
   "source": [
    "ros_df['Sentiment'].value_counts()"
   ]
  },
  {
   "cell_type": "code",
   "execution_count": 9,
   "id": "6d1ea22a",
   "metadata": {
    "execution": {
     "iopub.execute_input": "2023-01-26T08:32:49.364528Z",
     "iopub.status.busy": "2023-01-26T08:32:49.363626Z",
     "iopub.status.idle": "2023-01-26T08:32:49.368396Z",
     "shell.execute_reply": "2023-01-26T08:32:49.367494Z"
    },
    "papermill": {
     "duration": 0.01402,
     "end_time": "2023-01-26T08:32:49.370700",
     "exception": false,
     "start_time": "2023-01-26T08:32:49.356680",
     "status": "completed"
    },
    "tags": []
   },
   "outputs": [],
   "source": [
    "X = ros_df['text_clean'].values\n",
    "y = ros_df['Sentiment'].values"
   ]
  },
  {
   "cell_type": "code",
   "execution_count": 10,
   "id": "048c521c",
   "metadata": {
    "execution": {
     "iopub.execute_input": "2023-01-26T08:32:49.384353Z",
     "iopub.status.busy": "2023-01-26T08:32:49.383645Z",
     "iopub.status.idle": "2023-01-26T08:32:49.551628Z",
     "shell.execute_reply": "2023-01-26T08:32:49.550418Z"
    },
    "papermill": {
     "duration": 0.178099,
     "end_time": "2023-01-26T08:32:49.554576",
     "exception": false,
     "start_time": "2023-01-26T08:32:49.376477",
     "status": "completed"
    },
    "tags": []
   },
   "outputs": [],
   "source": [
    "x_, x_test, y_, y_test = train_test_split(X, y, test_size=0.3, stratify=y, random_state=42)"
   ]
  },
  {
   "cell_type": "code",
   "execution_count": 11,
   "id": "f5cc0599",
   "metadata": {
    "execution": {
     "iopub.execute_input": "2023-01-26T08:32:49.567908Z",
     "iopub.status.busy": "2023-01-26T08:32:49.567413Z",
     "iopub.status.idle": "2023-01-26T08:32:49.690365Z",
     "shell.execute_reply": "2023-01-26T08:32:49.689164Z"
    },
    "papermill": {
     "duration": 0.132771,
     "end_time": "2023-01-26T08:32:49.693124",
     "exception": false,
     "start_time": "2023-01-26T08:32:49.560353",
     "status": "completed"
    },
    "tags": []
   },
   "outputs": [],
   "source": [
    "x_train, x_val, y_train, y_val = train_test_split(x_, y_, test_size=0.2, stratify=y_, random_state=42)"
   ]
  },
  {
   "cell_type": "code",
   "execution_count": 12,
   "id": "e2bc7cf5",
   "metadata": {
    "execution": {
     "iopub.execute_input": "2023-01-26T08:32:49.706605Z",
     "iopub.status.busy": "2023-01-26T08:32:49.706167Z",
     "iopub.status.idle": "2023-01-26T08:32:49.713470Z",
     "shell.execute_reply": "2023-01-26T08:32:49.711489Z"
    },
    "papermill": {
     "duration": 0.017282,
     "end_time": "2023-01-26T08:32:49.716096",
     "exception": false,
     "start_time": "2023-01-26T08:32:49.698814",
     "status": "completed"
    },
    "tags": []
   },
   "outputs": [],
   "source": [
    "y_train_c = y_train.copy()\n",
    "y_valid_c = y_val.copy()\n",
    "y_test_c = y_test.copy()"
   ]
  },
  {
   "cell_type": "code",
   "execution_count": 13,
   "id": "90be769d",
   "metadata": {
    "execution": {
     "iopub.execute_input": "2023-01-26T08:32:49.729600Z",
     "iopub.status.busy": "2023-01-26T08:32:49.729151Z",
     "iopub.status.idle": "2023-01-26T08:32:49.783768Z",
     "shell.execute_reply": "2023-01-26T08:32:49.782608Z"
    },
    "papermill": {
     "duration": 0.064881,
     "end_time": "2023-01-26T08:32:49.786653",
     "exception": false,
     "start_time": "2023-01-26T08:32:49.721772",
     "status": "completed"
    },
    "tags": []
   },
   "outputs": [],
   "source": [
    "encoder = preprocessing.OneHotEncoder()\n",
    "\n",
    "y_train = encoder.fit_transform(np.array(y_train).reshape(-1, 1)).toarray()\n",
    "y_val = encoder.fit_transform(np.array(y_val).reshape(-1, 1)).toarray()\n",
    "y_test = encoder.fit_transform(np.array(y_test).reshape(-1, 1)).toarray()"
   ]
  },
  {
   "cell_type": "code",
   "execution_count": 14,
   "id": "5f5d4fb0",
   "metadata": {
    "execution": {
     "iopub.execute_input": "2023-01-26T08:32:49.800162Z",
     "iopub.status.busy": "2023-01-26T08:32:49.799764Z",
     "iopub.status.idle": "2023-01-26T08:32:49.805764Z",
     "shell.execute_reply": "2023-01-26T08:32:49.804516Z"
    },
    "papermill": {
     "duration": 0.015647,
     "end_time": "2023-01-26T08:32:49.808133",
     "exception": false,
     "start_time": "2023-01-26T08:32:49.792486",
     "status": "completed"
    },
    "tags": []
   },
   "outputs": [
    {
     "name": "stdout",
     "output_type": "stream",
     "text": [
      "Training Data: 216783\n",
      "Validation Data: 54196\n",
      "Testing Data: 116135\n"
     ]
    }
   ],
   "source": [
    "print(f\"Training Data: {x_train.shape[0]}\\nValidation Data: {x_val.shape[0]}\\nTesting Data: {x_test.shape[0]}\" )"
   ]
  },
  {
   "cell_type": "code",
   "execution_count": 15,
   "id": "0245dbe8",
   "metadata": {
    "execution": {
     "iopub.execute_input": "2023-01-26T08:32:49.821452Z",
     "iopub.status.busy": "2023-01-26T08:32:49.820640Z",
     "iopub.status.idle": "2023-01-26T08:32:56.969280Z",
     "shell.execute_reply": "2023-01-26T08:32:56.968068Z"
    },
    "papermill": {
     "duration": 7.158363,
     "end_time": "2023-01-26T08:32:56.972161",
     "exception": false,
     "start_time": "2023-01-26T08:32:49.813798",
     "status": "completed"
    },
    "tags": []
   },
   "outputs": [],
   "source": [
    "clf = CountVectorizer()\n",
    "\n",
    "X_train_cv =  clf.fit_transform(x_train)\n",
    "X_test_cv = clf.transform(x_test)"
   ]
  },
  {
   "cell_type": "code",
   "execution_count": 16,
   "id": "0a4469ea",
   "metadata": {
    "execution": {
     "iopub.execute_input": "2023-01-26T08:32:56.985857Z",
     "iopub.status.busy": "2023-01-26T08:32:56.984785Z",
     "iopub.status.idle": "2023-01-26T08:32:57.604570Z",
     "shell.execute_reply": "2023-01-26T08:32:57.603666Z"
    },
    "papermill": {
     "duration": 0.629152,
     "end_time": "2023-01-26T08:32:57.607102",
     "exception": false,
     "start_time": "2023-01-26T08:32:56.977950",
     "status": "completed"
    },
    "tags": []
   },
   "outputs": [],
   "source": [
    "tf_transformer = TfidfTransformer(use_idf=True).fit(X_train_cv)\n",
    "\n",
    "X_train_tf = tf_transformer.transform(X_train_cv)\n",
    "X_test_tf = tf_transformer.transform(X_test_cv)"
   ]
  },
  {
   "cell_type": "code",
   "execution_count": 17,
   "id": "565ad80e",
   "metadata": {
    "execution": {
     "iopub.execute_input": "2023-01-26T08:32:57.621329Z",
     "iopub.status.busy": "2023-01-26T08:32:57.620924Z",
     "iopub.status.idle": "2023-01-26T08:32:57.625460Z",
     "shell.execute_reply": "2023-01-26T08:32:57.624230Z"
    },
    "papermill": {
     "duration": 0.015413,
     "end_time": "2023-01-26T08:32:57.628211",
     "exception": false,
     "start_time": "2023-01-26T08:32:57.612798",
     "status": "completed"
    },
    "tags": []
   },
   "outputs": [],
   "source": [
    "MAX_LEN = 128"
   ]
  },
  {
   "cell_type": "code",
   "execution_count": 18,
   "id": "3e9b8fe7",
   "metadata": {
    "execution": {
     "iopub.execute_input": "2023-01-26T08:32:57.641302Z",
     "iopub.status.busy": "2023-01-26T08:32:57.640851Z",
     "iopub.status.idle": "2023-01-26T08:32:57.647936Z",
     "shell.execute_reply": "2023-01-26T08:32:57.646814Z"
    },
    "papermill": {
     "duration": 0.016347,
     "end_time": "2023-01-26T08:32:57.650197",
     "exception": false,
     "start_time": "2023-01-26T08:32:57.633850",
     "status": "completed"
    },
    "tags": []
   },
   "outputs": [],
   "source": [
    "def tokenize(data, max_len=MAX_LEN) :\n",
    "    \n",
    "    input_ids = []\n",
    "    attention_masks = []\n",
    "    \n",
    "    for i in range(len(data)):\n",
    "        encoded = tokenizer.encode_plus(\n",
    "            data[i],\n",
    "            add_special_tokens=True,\n",
    "            max_length=MAX_LEN,\n",
    "            padding='max_length',\n",
    "            return_attention_mask=True\n",
    "        )\n",
    "        input_ids.append(encoded['input_ids'])\n",
    "        attention_masks.append(encoded['attention_mask'])\n",
    "        \n",
    "    return np.array(input_ids),np.array(attention_masks)"
   ]
  },
  {
   "cell_type": "code",
   "execution_count": null,
   "id": "052c8809",
   "metadata": {
    "papermill": {
     "duration": 0.005455,
     "end_time": "2023-01-26T08:32:57.661289",
     "exception": false,
     "start_time": "2023-01-26T08:32:57.655834",
     "status": "completed"
    },
    "tags": []
   },
   "outputs": [],
   "source": []
  }
 ],
 "metadata": {
  "kernelspec": {
   "display_name": "Python 3",
   "language": "python",
   "name": "python3"
  },
  "language_info": {
   "codemirror_mode": {
    "name": "ipython",
    "version": 3
   },
   "file_extension": ".py",
   "mimetype": "text/x-python",
   "name": "python",
   "nbconvert_exporter": "python",
   "pygments_lexer": "ipython3",
   "version": "3.7.12"
  },
  "papermill": {
   "default_parameters": {},
   "duration": 34.139191,
   "end_time": "2023-01-26T08:33:00.968848",
   "environment_variables": {},
   "exception": null,
   "input_path": "__notebook__.ipynb",
   "output_path": "__notebook__.ipynb",
   "parameters": {},
   "start_time": "2023-01-26T08:32:26.829657",
   "version": "2.3.4"
  }
 },
 "nbformat": 4,
 "nbformat_minor": 5
}
