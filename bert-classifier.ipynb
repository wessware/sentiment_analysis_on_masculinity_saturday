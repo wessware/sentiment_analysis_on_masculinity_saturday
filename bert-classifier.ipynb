{
 "cells": [
  {
   "cell_type": "code",
   "execution_count": 1,
   "id": "7ddaedfa",
   "metadata": {
    "_cell_guid": "b1076dfc-b9ad-4769-8c92-a6c4dae69d19",
    "_uuid": "8f2839f25d086af736a60e9eeb907d3b93b6e0e5",
    "execution": {
     "iopub.execute_input": "2023-01-26T08:31:06.729459Z",
     "iopub.status.busy": "2023-01-26T08:31:06.728915Z",
     "iopub.status.idle": "2023-01-26T08:31:13.986474Z",
     "shell.execute_reply": "2023-01-26T08:31:13.985284Z"
    },
    "papermill": {
     "duration": 7.267014,
     "end_time": "2023-01-26T08:31:13.989097",
     "exception": false,
     "start_time": "2023-01-26T08:31:06.722083",
     "status": "completed"
    },
    "tags": []
   },
   "outputs": [],
   "source": [
    "import pandas as pd \n",
    "import numpy as np\n",
    "\n",
    "import matplotlib.pyplot as plt\n",
    "import seaborn as sns\n",
    "\n",
    "from sklearn import preprocessing\n",
    "from imblearn.over_sampling import RandomOverSampler\n",
    "from sklearn.model_selection import train_test_split\n",
    "from sklearn.feature_extraction.text import CountVectorizer\n",
    "from sklearn.feature_extraction.text import TfidfTransformer\n",
    "#keras\n",
    "import tensorflow as tf\n",
    "from tensorflow import keras\n",
    "\n",
    "\n",
    "#metrics\n",
    "from sklearn.metrics import accuracy_score, f1_score\n",
    "from sklearn.metrics import classification_report, confusion_matrix\n",
    "\n",
    "#set seed for reproducibility\n",
    "seed=42"
   ]
  },
  {
   "cell_type": "code",
   "execution_count": 2,
   "id": "81559b61",
   "metadata": {
    "execution": {
     "iopub.execute_input": "2023-01-26T08:31:13.999726Z",
     "iopub.status.busy": "2023-01-26T08:31:13.998968Z",
     "iopub.status.idle": "2023-01-26T08:31:14.013687Z",
     "shell.execute_reply": "2023-01-26T08:31:14.012339Z"
    },
    "papermill": {
     "duration": 0.022893,
     "end_time": "2023-01-26T08:31:14.016414",
     "exception": false,
     "start_time": "2023-01-26T08:31:13.993521",
     "status": "completed"
    },
    "tags": []
   },
   "outputs": [
    {
     "data": {
      "text/plain": [
       "<Figure size 432x288 with 0 Axes>"
      ]
     },
     "metadata": {},
     "output_type": "display_data"
    }
   ],
   "source": [
    "#set style for plots\n",
    "sns.set_style(\"whitegrid\")\n",
    "sns.despine()\n",
    "plt.style.use(\"seaborn-whitegrid\")\n",
    "plt.rc(\"figure\", autolayout=True)\n",
    "plt.rc(\"axes\", labelweight=\"bold\", labelsize=\"large\", titleweight=\"bold\", titlepad=10)"
   ]
  },
  {
   "cell_type": "code",
   "execution_count": 3,
   "id": "34143714",
   "metadata": {
    "execution": {
     "iopub.execute_input": "2023-01-26T08:31:14.026701Z",
     "iopub.status.busy": "2023-01-26T08:31:14.026302Z",
     "iopub.status.idle": "2023-01-26T08:31:17.496232Z",
     "shell.execute_reply": "2023-01-26T08:31:17.494198Z"
    },
    "papermill": {
     "duration": 3.477494,
     "end_time": "2023-01-26T08:31:17.498467",
     "exception": false,
     "start_time": "2023-01-26T08:31:14.020973",
     "status": "completed"
    },
    "tags": []
   },
   "outputs": [
    {
     "name": "stderr",
     "output_type": "stream",
     "text": [
      "2023-01-26 08:31:17.424512: I tensorflow/core/common_runtime/process_util.cc:146] Creating new thread pool with default inter op setting: 2. Tune using inter_op_parallelism_threads for best performance.\n"
     ]
    }
   ],
   "source": [
    "#transformers\n",
    "from transformers import BertTokenizerFast\n",
    "from transformers import TFBertModel\n",
    "from transformers import RobertaTokenizerFast\n",
    "from transformers import TFRobertaModel"
   ]
  },
  {
   "cell_type": "code",
   "execution_count": 4,
   "id": "a3a0a2e4",
   "metadata": {
    "execution": {
     "iopub.execute_input": "2023-01-26T08:31:17.510011Z",
     "iopub.status.busy": "2023-01-26T08:31:17.508563Z",
     "iopub.status.idle": "2023-01-26T08:31:17.516527Z",
     "shell.execute_reply": "2023-01-26T08:31:17.515331Z"
    },
    "papermill": {
     "duration": 0.016049,
     "end_time": "2023-01-26T08:31:17.518948",
     "exception": false,
     "start_time": "2023-01-26T08:31:17.502899",
     "status": "completed"
    },
    "tags": []
   },
   "outputs": [],
   "source": [
    "def conf_matrix(y, y_pred, title):\n",
    "    fig, ax =plt.subplots(figsize=(5,5))\n",
    "    labels=['Negative', 'Positive', 'Neutral']\n",
    "    ax=sns.heatmap(confusion_matrix(y, y_pred), annot=True, cmap=\"Blues\", fmt='g', cbar=False, annot_kws={\"size\":25})\n",
    "    plt.title(title, fontsize=20)\n",
    "    ax.xaxis.set_ticklabels(labels, fontsize=17) \n",
    "    ax.yaxis.set_ticklabels(labels, fontsize=17)\n",
    "    ax.set_ylabel('Test', fontsize=20)\n",
    "    ax.set_xlabel('Predicted', fontsize=20)\n",
    "    plt.show()"
   ]
  },
  {
   "cell_type": "code",
   "execution_count": 5,
   "id": "c8d72411",
   "metadata": {
    "execution": {
     "iopub.execute_input": "2023-01-26T08:31:17.529653Z",
     "iopub.status.busy": "2023-01-26T08:31:17.529241Z",
     "iopub.status.idle": "2023-01-26T08:31:18.681570Z",
     "shell.execute_reply": "2023-01-26T08:31:18.680258Z"
    },
    "papermill": {
     "duration": 1.160541,
     "end_time": "2023-01-26T08:31:18.684202",
     "exception": false,
     "start_time": "2023-01-26T08:31:17.523661",
     "status": "completed"
    },
    "tags": []
   },
   "outputs": [],
   "source": [
    "df = pd.read_csv('/kaggle/input/amerix-sa-nlp-deep-cleaned-data/sentiment_adv_preprocessed_data.csv', index_col=0)"
   ]
  },
  {
   "cell_type": "code",
   "execution_count": 6,
   "id": "b99240c3",
   "metadata": {
    "execution": {
     "iopub.execute_input": "2023-01-26T08:31:18.694557Z",
     "iopub.status.busy": "2023-01-26T08:31:18.694165Z",
     "iopub.status.idle": "2023-01-26T08:31:18.709266Z",
     "shell.execute_reply": "2023-01-26T08:31:18.707830Z"
    },
    "papermill": {
     "duration": 0.022717,
     "end_time": "2023-01-26T08:31:18.711316",
     "exception": false,
     "start_time": "2023-01-26T08:31:18.688599",
     "status": "completed"
    },
    "tags": []
   },
   "outputs": [
    {
     "data": {
      "text/html": [
       "<div>\n",
       "<style scoped>\n",
       "    .dataframe tbody tr th:only-of-type {\n",
       "        vertical-align: middle;\n",
       "    }\n",
       "\n",
       "    .dataframe tbody tr th {\n",
       "        vertical-align: top;\n",
       "    }\n",
       "\n",
       "    .dataframe thead th {\n",
       "        text-align: right;\n",
       "    }\n",
       "</style>\n",
       "<table border=\"1\" class=\"dataframe\">\n",
       "  <thead>\n",
       "    <tr style=\"text-align: right;\">\n",
       "      <th></th>\n",
       "      <th>tweet_created_at</th>\n",
       "      <th>text_clean</th>\n",
       "      <th>Sentiment</th>\n",
       "    </tr>\n",
       "  </thead>\n",
       "  <tbody>\n",
       "    <tr>\n",
       "      <th>0</th>\n",
       "      <td>2022-05-20 16:01:49+00:00</td>\n",
       "      <td>actor amp cookbook author recently joined the ...</td>\n",
       "      <td>1</td>\n",
       "    </tr>\n",
       "    <tr>\n",
       "      <th>1</th>\n",
       "      <td>2022-08-23 15:26:31+00:00</td>\n",
       "      <td>sprinkled a little kindness to brighten someon...</td>\n",
       "      <td>1</td>\n",
       "    </tr>\n",
       "    <tr>\n",
       "      <th>2</th>\n",
       "      <td>2021-10-15 17:23:25+00:00</td>\n",
       "      <td>the body is not stupid it has an efficient hom...</td>\n",
       "      <td>1</td>\n",
       "    </tr>\n",
       "    <tr>\n",
       "      <th>3</th>\n",
       "      <td>2022-11-19 16:26:01+00:00</td>\n",
       "      <td>food for the thought masculinitysaturday</td>\n",
       "      <td>2</td>\n",
       "    </tr>\n",
       "    <tr>\n",
       "      <th>4</th>\n",
       "      <td>2022-12-12 08:59:22+00:00</td>\n",
       "      <td>why though</td>\n",
       "      <td>2</td>\n",
       "    </tr>\n",
       "  </tbody>\n",
       "</table>\n",
       "</div>"
      ],
      "text/plain": [
       "            tweet_created_at  \\\n",
       "0  2022-05-20 16:01:49+00:00   \n",
       "1  2022-08-23 15:26:31+00:00   \n",
       "2  2021-10-15 17:23:25+00:00   \n",
       "3  2022-11-19 16:26:01+00:00   \n",
       "4  2022-12-12 08:59:22+00:00   \n",
       "\n",
       "                                          text_clean  Sentiment  \n",
       "0  actor amp cookbook author recently joined the ...          1  \n",
       "1  sprinkled a little kindness to brighten someon...          1  \n",
       "2  the body is not stupid it has an efficient hom...          1  \n",
       "3           food for the thought masculinitysaturday          2  \n",
       "4                                         why though          2  "
      ]
     },
     "execution_count": 6,
     "metadata": {},
     "output_type": "execute_result"
    }
   ],
   "source": [
    "df.head()"
   ]
  },
  {
   "cell_type": "code",
   "execution_count": 7,
   "id": "3f179865",
   "metadata": {
    "execution": {
     "iopub.execute_input": "2023-01-26T08:31:18.721726Z",
     "iopub.status.busy": "2023-01-26T08:31:18.721356Z",
     "iopub.status.idle": "2023-01-26T08:31:19.199656Z",
     "shell.execute_reply": "2023-01-26T08:31:19.198202Z"
    },
    "papermill": {
     "duration": 0.486607,
     "end_time": "2023-01-26T08:31:19.202550",
     "exception": false,
     "start_time": "2023-01-26T08:31:18.715943",
     "status": "completed"
    },
    "tags": []
   },
   "outputs": [],
   "source": [
    "ros = RandomOverSampler()\n",
    "\n",
    "train_x, train_y = ros.fit_resample(np.array(df['text_clean']).reshape(-1, 1), np.array(df['Sentiment']).reshape(-1, 1));\n",
    "\n",
    "ros_df = pd.DataFrame(list(zip([x[0] for x in train_x], train_y)), columns = ['text_clean', 'Sentiment']);"
   ]
  },
  {
   "cell_type": "code",
   "execution_count": 8,
   "id": "6b92a579",
   "metadata": {
    "execution": {
     "iopub.execute_input": "2023-01-26T08:31:19.218804Z",
     "iopub.status.busy": "2023-01-26T08:31:19.217598Z",
     "iopub.status.idle": "2023-01-26T08:31:19.229689Z",
     "shell.execute_reply": "2023-01-26T08:31:19.228800Z"
    },
    "papermill": {
     "duration": 0.021502,
     "end_time": "2023-01-26T08:31:19.231737",
     "exception": false,
     "start_time": "2023-01-26T08:31:19.210235",
     "status": "completed"
    },
    "tags": []
   },
   "outputs": [
    {
     "data": {
      "text/plain": [
       "1    129038\n",
       "2    129038\n",
       "0    129038\n",
       "Name: Sentiment, dtype: int64"
      ]
     },
     "execution_count": 8,
     "metadata": {},
     "output_type": "execute_result"
    }
   ],
   "source": [
    "ros_df['Sentiment'].value_counts()"
   ]
  },
  {
   "cell_type": "code",
   "execution_count": 9,
   "id": "c4bddcdb",
   "metadata": {
    "execution": {
     "iopub.execute_input": "2023-01-26T08:31:19.243371Z",
     "iopub.status.busy": "2023-01-26T08:31:19.242366Z",
     "iopub.status.idle": "2023-01-26T08:31:19.248315Z",
     "shell.execute_reply": "2023-01-26T08:31:19.247019Z"
    },
    "papermill": {
     "duration": 0.013916,
     "end_time": "2023-01-26T08:31:19.250541",
     "exception": false,
     "start_time": "2023-01-26T08:31:19.236625",
     "status": "completed"
    },
    "tags": []
   },
   "outputs": [],
   "source": [
    "X = ros_df['text_clean'].values\n",
    "y = ros_df['Sentiment'].values"
   ]
  },
  {
   "cell_type": "code",
   "execution_count": 10,
   "id": "4cab20f7",
   "metadata": {
    "execution": {
     "iopub.execute_input": "2023-01-26T08:31:19.261365Z",
     "iopub.status.busy": "2023-01-26T08:31:19.260980Z",
     "iopub.status.idle": "2023-01-26T08:31:19.398103Z",
     "shell.execute_reply": "2023-01-26T08:31:19.396662Z"
    },
    "papermill": {
     "duration": 0.145535,
     "end_time": "2023-01-26T08:31:19.400684",
     "exception": false,
     "start_time": "2023-01-26T08:31:19.255149",
     "status": "completed"
    },
    "tags": []
   },
   "outputs": [],
   "source": [
    "x_, x_test, y_, y_test = train_test_split(X, y, test_size=0.3, stratify=y, random_state=42)"
   ]
  },
  {
   "cell_type": "code",
   "execution_count": 11,
   "id": "7b3a6df6",
   "metadata": {
    "execution": {
     "iopub.execute_input": "2023-01-26T08:31:19.411637Z",
     "iopub.status.busy": "2023-01-26T08:31:19.411241Z",
     "iopub.status.idle": "2023-01-26T08:31:19.509053Z",
     "shell.execute_reply": "2023-01-26T08:31:19.507503Z"
    },
    "papermill": {
     "duration": 0.106189,
     "end_time": "2023-01-26T08:31:19.511617",
     "exception": false,
     "start_time": "2023-01-26T08:31:19.405428",
     "status": "completed"
    },
    "tags": []
   },
   "outputs": [],
   "source": [
    "x_train, x_val, y_train, y_val = train_test_split(x_, y_, test_size=0.2, stratify=y_, random_state=42)"
   ]
  },
  {
   "cell_type": "code",
   "execution_count": 12,
   "id": "c2735677",
   "metadata": {
    "execution": {
     "iopub.execute_input": "2023-01-26T08:31:19.523540Z",
     "iopub.status.busy": "2023-01-26T08:31:19.523136Z",
     "iopub.status.idle": "2023-01-26T08:31:19.530053Z",
     "shell.execute_reply": "2023-01-26T08:31:19.528809Z"
    },
    "papermill": {
     "duration": 0.015598,
     "end_time": "2023-01-26T08:31:19.532455",
     "exception": false,
     "start_time": "2023-01-26T08:31:19.516857",
     "status": "completed"
    },
    "tags": []
   },
   "outputs": [],
   "source": [
    "y_train_c = y_train.copy()\n",
    "y_valid_c = y_val.copy()\n",
    "y_test_c = y_test.copy()"
   ]
  },
  {
   "cell_type": "code",
   "execution_count": 13,
   "id": "c5cba17a",
   "metadata": {
    "execution": {
     "iopub.execute_input": "2023-01-26T08:31:19.543668Z",
     "iopub.status.busy": "2023-01-26T08:31:19.543295Z",
     "iopub.status.idle": "2023-01-26T08:31:19.576847Z",
     "shell.execute_reply": "2023-01-26T08:31:19.575858Z"
    },
    "papermill": {
     "duration": 0.041875,
     "end_time": "2023-01-26T08:31:19.579168",
     "exception": false,
     "start_time": "2023-01-26T08:31:19.537293",
     "status": "completed"
    },
    "tags": []
   },
   "outputs": [],
   "source": [
    "encoder = preprocessing.OneHotEncoder()\n",
    "\n",
    "y_train = encoder.fit_transform(np.array(y_train).reshape(-1, 1)).toarray()\n",
    "y_val = encoder.fit_transform(np.array(y_val).reshape(-1, 1)).toarray()\n",
    "y_test = encoder.fit_transform(np.array(y_test).reshape(-1, 1)).toarray()"
   ]
  },
  {
   "cell_type": "code",
   "execution_count": 14,
   "id": "93293626",
   "metadata": {
    "execution": {
     "iopub.execute_input": "2023-01-26T08:31:19.590579Z",
     "iopub.status.busy": "2023-01-26T08:31:19.590146Z",
     "iopub.status.idle": "2023-01-26T08:31:19.597078Z",
     "shell.execute_reply": "2023-01-26T08:31:19.595343Z"
    },
    "papermill": {
     "duration": 0.015637,
     "end_time": "2023-01-26T08:31:19.599538",
     "exception": false,
     "start_time": "2023-01-26T08:31:19.583901",
     "status": "completed"
    },
    "tags": []
   },
   "outputs": [
    {
     "name": "stdout",
     "output_type": "stream",
     "text": [
      "Training Data: 216783\n",
      "Validation Data: 54196\n",
      "Testing Data: 116135\n"
     ]
    }
   ],
   "source": [
    "print(f\"Training Data: {x_train.shape[0]}\\nValidation Data: {x_val.shape[0]}\\nTesting Data: {x_test.shape[0]}\" )"
   ]
  },
  {
   "cell_type": "code",
   "execution_count": 15,
   "id": "6ab45bf1",
   "metadata": {
    "execution": {
     "iopub.execute_input": "2023-01-26T08:31:19.610723Z",
     "iopub.status.busy": "2023-01-26T08:31:19.610326Z",
     "iopub.status.idle": "2023-01-26T08:31:26.209992Z",
     "shell.execute_reply": "2023-01-26T08:31:26.208271Z"
    },
    "papermill": {
     "duration": 6.608338,
     "end_time": "2023-01-26T08:31:26.212724",
     "exception": false,
     "start_time": "2023-01-26T08:31:19.604386",
     "status": "completed"
    },
    "tags": []
   },
   "outputs": [],
   "source": [
    "clf = CountVectorizer()\n",
    "\n",
    "X_train_cv =  clf.fit_transform(x_train)\n",
    "X_test_cv = clf.transform(x_test)"
   ]
  },
  {
   "cell_type": "code",
   "execution_count": 16,
   "id": "bbb21829",
   "metadata": {
    "execution": {
     "iopub.execute_input": "2023-01-26T08:31:26.226882Z",
     "iopub.status.busy": "2023-01-26T08:31:26.225151Z",
     "iopub.status.idle": "2023-01-26T08:31:26.844468Z",
     "shell.execute_reply": "2023-01-26T08:31:26.843347Z"
    },
    "papermill": {
     "duration": 0.629264,
     "end_time": "2023-01-26T08:31:26.846926",
     "exception": false,
     "start_time": "2023-01-26T08:31:26.217662",
     "status": "completed"
    },
    "tags": []
   },
   "outputs": [],
   "source": [
    "tf_transformer = TfidfTransformer(use_idf=True).fit(X_train_cv)\n",
    "\n",
    "X_train_tf = tf_transformer.transform(X_train_cv)\n",
    "X_test_tf = tf_transformer.transform(X_test_cv)"
   ]
  },
  {
   "cell_type": "code",
   "execution_count": null,
   "id": "d6fba70c",
   "metadata": {
    "papermill": {
     "duration": 0.004817,
     "end_time": "2023-01-26T08:31:26.856707",
     "exception": false,
     "start_time": "2023-01-26T08:31:26.851890",
     "status": "completed"
    },
    "tags": []
   },
   "outputs": [],
   "source": []
  }
 ],
 "metadata": {
  "kernelspec": {
   "display_name": "Python 3",
   "language": "python",
   "name": "python3"
  },
  "language_info": {
   "codemirror_mode": {
    "name": "ipython",
    "version": 3
   },
   "file_extension": ".py",
   "mimetype": "text/x-python",
   "name": "python",
   "nbconvert_exporter": "python",
   "pygments_lexer": "ipython3",
   "version": "3.7.12"
  },
  "papermill": {
   "default_parameters": {},
   "duration": 31.056169,
   "end_time": "2023-01-26T08:31:29.619790",
   "environment_variables": {},
   "exception": null,
   "input_path": "__notebook__.ipynb",
   "output_path": "__notebook__.ipynb",
   "parameters": {},
   "start_time": "2023-01-26T08:30:58.563621",
   "version": "2.3.4"
  }
 },
 "nbformat": 4,
 "nbformat_minor": 5
}
