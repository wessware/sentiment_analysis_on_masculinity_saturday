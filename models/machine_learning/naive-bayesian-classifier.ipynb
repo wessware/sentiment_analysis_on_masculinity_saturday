{
 "cells": [
  {
   "cell_type": "code",
   "execution_count": 1,
   "id": "48fbd404",
   "metadata": {
    "_cell_guid": "b1076dfc-b9ad-4769-8c92-a6c4dae69d19",
    "_uuid": "8f2839f25d086af736a60e9eeb907d3b93b6e0e5",
    "execution": {
     "iopub.execute_input": "2023-01-25T12:21:06.517254Z",
     "iopub.status.busy": "2023-01-25T12:21:06.516778Z",
     "iopub.status.idle": "2023-01-25T12:21:07.889268Z",
     "shell.execute_reply": "2023-01-25T12:21:07.888133Z"
    },
    "papermill": {
     "duration": 1.383924,
     "end_time": "2023-01-25T12:21:07.892484",
     "exception": false,
     "start_time": "2023-01-25T12:21:06.508560",
     "status": "completed"
    },
    "tags": []
   },
   "outputs": [],
   "source": [
    "import pandas as pd\n",
    "import numpy as np\n",
    "\n",
    "from sklearn import preprocessing\n",
    "from imblearn.over_sampling import RandomOverSampler\n",
    "from sklearn.model_selection import train_test_split\n",
    "\n",
    "from sklearn.feature_extraction.text import CountVectorizer\n",
    "from sklearn.feature_extraction.text import TfidfTransformer\n",
    "from sklearn.naive_bayes import MultinomialNB\n",
    "\n",
    "from sklearn.metrics import accuracy_score, f1_score\n",
    "from sklearn.metrics import classification_report, confusion_matrix"
   ]
  },
  {
   "cell_type": "code",
   "execution_count": 2,
   "id": "bd4c6921",
   "metadata": {
    "execution": {
     "iopub.execute_input": "2023-01-25T12:21:07.904520Z",
     "iopub.status.busy": "2023-01-25T12:21:07.904087Z",
     "iopub.status.idle": "2023-01-25T12:21:09.119658Z",
     "shell.execute_reply": "2023-01-25T12:21:09.118587Z"
    },
    "papermill": {
     "duration": 1.224616,
     "end_time": "2023-01-25T12:21:09.122469",
     "exception": false,
     "start_time": "2023-01-25T12:21:07.897853",
     "status": "completed"
    },
    "tags": []
   },
   "outputs": [],
   "source": [
    "df = pd.read_csv('/kaggle/input/amerix-sa-nlp-deep-cleaned-data/sentiment_adv_preprocessed_data.csv', index_col=0)"
   ]
  },
  {
   "cell_type": "code",
   "execution_count": 3,
   "id": "8276a087",
   "metadata": {
    "execution": {
     "iopub.execute_input": "2023-01-25T12:21:09.135342Z",
     "iopub.status.busy": "2023-01-25T12:21:09.134940Z",
     "iopub.status.idle": "2023-01-25T12:21:09.152589Z",
     "shell.execute_reply": "2023-01-25T12:21:09.151254Z"
    },
    "papermill": {
     "duration": 0.027936,
     "end_time": "2023-01-25T12:21:09.155814",
     "exception": false,
     "start_time": "2023-01-25T12:21:09.127878",
     "status": "completed"
    },
    "tags": []
   },
   "outputs": [
    {
     "data": {
      "text/html": [
       "<div>\n",
       "<style scoped>\n",
       "    .dataframe tbody tr th:only-of-type {\n",
       "        vertical-align: middle;\n",
       "    }\n",
       "\n",
       "    .dataframe tbody tr th {\n",
       "        vertical-align: top;\n",
       "    }\n",
       "\n",
       "    .dataframe thead th {\n",
       "        text-align: right;\n",
       "    }\n",
       "</style>\n",
       "<table border=\"1\" class=\"dataframe\">\n",
       "  <thead>\n",
       "    <tr style=\"text-align: right;\">\n",
       "      <th></th>\n",
       "      <th>tweet_created_at</th>\n",
       "      <th>text_clean</th>\n",
       "      <th>Sentiment</th>\n",
       "    </tr>\n",
       "  </thead>\n",
       "  <tbody>\n",
       "    <tr>\n",
       "      <th>0</th>\n",
       "      <td>2022-05-20 16:01:49+00:00</td>\n",
       "      <td>actor amp cookbook author recently joined the ...</td>\n",
       "      <td>1</td>\n",
       "    </tr>\n",
       "    <tr>\n",
       "      <th>1</th>\n",
       "      <td>2022-08-23 15:26:31+00:00</td>\n",
       "      <td>sprinkled a little kindness to brighten someon...</td>\n",
       "      <td>1</td>\n",
       "    </tr>\n",
       "    <tr>\n",
       "      <th>2</th>\n",
       "      <td>2021-10-15 17:23:25+00:00</td>\n",
       "      <td>the body is not stupid it has an efficient hom...</td>\n",
       "      <td>1</td>\n",
       "    </tr>\n",
       "    <tr>\n",
       "      <th>3</th>\n",
       "      <td>2022-11-19 16:26:01+00:00</td>\n",
       "      <td>food for the thought masculinitysaturday</td>\n",
       "      <td>2</td>\n",
       "    </tr>\n",
       "    <tr>\n",
       "      <th>4</th>\n",
       "      <td>2022-12-12 08:59:22+00:00</td>\n",
       "      <td>why though</td>\n",
       "      <td>2</td>\n",
       "    </tr>\n",
       "  </tbody>\n",
       "</table>\n",
       "</div>"
      ],
      "text/plain": [
       "            tweet_created_at  \\\n",
       "0  2022-05-20 16:01:49+00:00   \n",
       "1  2022-08-23 15:26:31+00:00   \n",
       "2  2021-10-15 17:23:25+00:00   \n",
       "3  2022-11-19 16:26:01+00:00   \n",
       "4  2022-12-12 08:59:22+00:00   \n",
       "\n",
       "                                          text_clean  Sentiment  \n",
       "0  actor amp cookbook author recently joined the ...          1  \n",
       "1  sprinkled a little kindness to brighten someon...          1  \n",
       "2  the body is not stupid it has an efficient hom...          1  \n",
       "3           food for the thought masculinitysaturday          2  \n",
       "4                                         why though          2  "
      ]
     },
     "execution_count": 3,
     "metadata": {},
     "output_type": "execute_result"
    }
   ],
   "source": [
    "df.head()"
   ]
  },
  {
   "cell_type": "code",
   "execution_count": 4,
   "id": "cbee5634",
   "metadata": {
    "execution": {
     "iopub.execute_input": "2023-01-25T12:21:09.169468Z",
     "iopub.status.busy": "2023-01-25T12:21:09.169048Z",
     "iopub.status.idle": "2023-01-25T12:21:09.718916Z",
     "shell.execute_reply": "2023-01-25T12:21:09.717917Z"
    },
    "papermill": {
     "duration": 0.559962,
     "end_time": "2023-01-25T12:21:09.721797",
     "exception": false,
     "start_time": "2023-01-25T12:21:09.161835",
     "status": "completed"
    },
    "tags": []
   },
   "outputs": [],
   "source": [
    "ros = RandomOverSampler()\n",
    "\n",
    "train_x, train_y = ros.fit_resample(np.array(df['text_clean']).reshape(-1, 1), np.array(df['Sentiment']).reshape(-1, 1));\n",
    "\n",
    "ros_df = pd.DataFrame(list(zip([x[0] for x in train_x], train_y)), columns = ['text_clean', 'Sentiment']);"
   ]
  },
  {
   "cell_type": "code",
   "execution_count": 5,
   "id": "4e20b668",
   "metadata": {
    "execution": {
     "iopub.execute_input": "2023-01-25T12:21:09.734821Z",
     "iopub.status.busy": "2023-01-25T12:21:09.734396Z",
     "iopub.status.idle": "2023-01-25T12:21:09.747640Z",
     "shell.execute_reply": "2023-01-25T12:21:09.746471Z"
    },
    "papermill": {
     "duration": 0.022693,
     "end_time": "2023-01-25T12:21:09.750239",
     "exception": false,
     "start_time": "2023-01-25T12:21:09.727546",
     "status": "completed"
    },
    "tags": []
   },
   "outputs": [
    {
     "data": {
      "text/plain": [
       "1    129038\n",
       "2    129038\n",
       "0    129038\n",
       "Name: Sentiment, dtype: int64"
      ]
     },
     "execution_count": 5,
     "metadata": {},
     "output_type": "execute_result"
    }
   ],
   "source": [
    "ros_df['Sentiment'].value_counts()"
   ]
  },
  {
   "cell_type": "code",
   "execution_count": 6,
   "id": "8bfa833c",
   "metadata": {
    "execution": {
     "iopub.execute_input": "2023-01-25T12:21:09.764413Z",
     "iopub.status.busy": "2023-01-25T12:21:09.764005Z",
     "iopub.status.idle": "2023-01-25T12:21:09.769776Z",
     "shell.execute_reply": "2023-01-25T12:21:09.768412Z"
    },
    "papermill": {
     "duration": 0.016035,
     "end_time": "2023-01-25T12:21:09.772154",
     "exception": false,
     "start_time": "2023-01-25T12:21:09.756119",
     "status": "completed"
    },
    "tags": []
   },
   "outputs": [],
   "source": [
    "X = ros_df['text_clean'].values\n",
    "y = ros_df['Sentiment'].values"
   ]
  },
  {
   "cell_type": "code",
   "execution_count": 7,
   "id": "b35fb591",
   "metadata": {
    "execution": {
     "iopub.execute_input": "2023-01-25T12:21:09.786619Z",
     "iopub.status.busy": "2023-01-25T12:21:09.786221Z",
     "iopub.status.idle": "2023-01-25T12:21:09.791648Z",
     "shell.execute_reply": "2023-01-25T12:21:09.790639Z"
    },
    "papermill": {
     "duration": 0.016723,
     "end_time": "2023-01-25T12:21:09.795130",
     "exception": false,
     "start_time": "2023-01-25T12:21:09.778407",
     "status": "completed"
    },
    "tags": []
   },
   "outputs": [
    {
     "name": "stdout",
     "output_type": "stream",
     "text": [
      "(387114,)\n",
      "(387114,)\n"
     ]
    }
   ],
   "source": [
    "print(X.shape)\n",
    "print(y.shape)"
   ]
  },
  {
   "cell_type": "code",
   "execution_count": 8,
   "id": "d0606171",
   "metadata": {
    "execution": {
     "iopub.execute_input": "2023-01-25T12:21:09.808636Z",
     "iopub.status.busy": "2023-01-25T12:21:09.807611Z",
     "iopub.status.idle": "2023-01-25T12:21:09.989405Z",
     "shell.execute_reply": "2023-01-25T12:21:09.988351Z"
    },
    "papermill": {
     "duration": 0.191282,
     "end_time": "2023-01-25T12:21:09.991942",
     "exception": false,
     "start_time": "2023-01-25T12:21:09.800660",
     "status": "completed"
    },
    "tags": []
   },
   "outputs": [],
   "source": [
    "x_, x_test, y_, y_test = train_test_split(X, y, test_size=0.3, stratify=y, random_state=42)"
   ]
  },
  {
   "cell_type": "code",
   "execution_count": 9,
   "id": "a11a4887",
   "metadata": {
    "execution": {
     "iopub.execute_input": "2023-01-25T12:21:10.005271Z",
     "iopub.status.busy": "2023-01-25T12:21:10.004224Z",
     "iopub.status.idle": "2023-01-25T12:21:10.009838Z",
     "shell.execute_reply": "2023-01-25T12:21:10.008704Z"
    },
    "papermill": {
     "duration": 0.015415,
     "end_time": "2023-01-25T12:21:10.013015",
     "exception": false,
     "start_time": "2023-01-25T12:21:09.997600",
     "status": "completed"
    },
    "tags": []
   },
   "outputs": [
    {
     "name": "stdout",
     "output_type": "stream",
     "text": [
      "(270979,)\n",
      "(270979,)\n"
     ]
    }
   ],
   "source": [
    "print(x_.shape)\n",
    "print(y_.shape)"
   ]
  },
  {
   "cell_type": "code",
   "execution_count": 10,
   "id": "e1898666",
   "metadata": {
    "execution": {
     "iopub.execute_input": "2023-01-25T12:21:10.027795Z",
     "iopub.status.busy": "2023-01-25T12:21:10.027374Z",
     "iopub.status.idle": "2023-01-25T12:21:10.148342Z",
     "shell.execute_reply": "2023-01-25T12:21:10.147213Z"
    },
    "papermill": {
     "duration": 0.131656,
     "end_time": "2023-01-25T12:21:10.151277",
     "exception": false,
     "start_time": "2023-01-25T12:21:10.019621",
     "status": "completed"
    },
    "tags": []
   },
   "outputs": [],
   "source": [
    "x_train, x_val, y_train, y_val = train_test_split(x_, y_, test_size=0.2, stratify=y_, random_state=42)"
   ]
  },
  {
   "cell_type": "code",
   "execution_count": 11,
   "id": "d58d8aaf",
   "metadata": {
    "execution": {
     "iopub.execute_input": "2023-01-25T12:21:10.164585Z",
     "iopub.status.busy": "2023-01-25T12:21:10.164127Z",
     "iopub.status.idle": "2023-01-25T12:21:10.170437Z",
     "shell.execute_reply": "2023-01-25T12:21:10.169228Z"
    },
    "papermill": {
     "duration": 0.015704,
     "end_time": "2023-01-25T12:21:10.172780",
     "exception": false,
     "start_time": "2023-01-25T12:21:10.157076",
     "status": "completed"
    },
    "tags": []
   },
   "outputs": [],
   "source": [
    "y_train_c = y_train.copy()\n",
    "y_valid_c = y_val.copy()\n",
    "y_test_c = y_test.copy()"
   ]
  },
  {
   "cell_type": "code",
   "execution_count": 12,
   "id": "2f0fc262",
   "metadata": {
    "execution": {
     "iopub.execute_input": "2023-01-25T12:21:10.186655Z",
     "iopub.status.busy": "2023-01-25T12:21:10.186256Z",
     "iopub.status.idle": "2023-01-25T12:21:10.239599Z",
     "shell.execute_reply": "2023-01-25T12:21:10.238442Z"
    },
    "papermill": {
     "duration": 0.063396,
     "end_time": "2023-01-25T12:21:10.242373",
     "exception": false,
     "start_time": "2023-01-25T12:21:10.178977",
     "status": "completed"
    },
    "tags": []
   },
   "outputs": [],
   "source": [
    "encoder = preprocessing.OneHotEncoder()\n",
    "\n",
    "y_train = encoder.fit_transform(np.array(y_train).reshape(-1, 1)).toarray()\n",
    "y_val = encoder.fit_transform(np.array(y_val).reshape(-1, 1)).toarray()\n",
    "y_test = encoder.fit_transform(np.array(y_test).reshape(-1, 1)).toarray()"
   ]
  },
  {
   "cell_type": "code",
   "execution_count": 13,
   "id": "c78e8da0",
   "metadata": {
    "execution": {
     "iopub.execute_input": "2023-01-25T12:21:10.256012Z",
     "iopub.status.busy": "2023-01-25T12:21:10.255586Z",
     "iopub.status.idle": "2023-01-25T12:21:10.261933Z",
     "shell.execute_reply": "2023-01-25T12:21:10.260279Z"
    },
    "papermill": {
     "duration": 0.016429,
     "end_time": "2023-01-25T12:21:10.264738",
     "exception": false,
     "start_time": "2023-01-25T12:21:10.248309",
     "status": "completed"
    },
    "tags": []
   },
   "outputs": [
    {
     "name": "stdout",
     "output_type": "stream",
     "text": [
      "Training Data: 216783\n",
      "Validation Data: 54196\n",
      "Testing Data: 116135\n"
     ]
    }
   ],
   "source": [
    "print(f\"Training Data: {x_train.shape[0]}\\nValidation Data: {x_val.shape[0]}\\nTesting Data: {x_test.shape[0]}\" )"
   ]
  },
  {
   "cell_type": "code",
   "execution_count": 14,
   "id": "5fd5d71b",
   "metadata": {
    "execution": {
     "iopub.execute_input": "2023-01-25T12:21:10.278327Z",
     "iopub.status.busy": "2023-01-25T12:21:10.277918Z",
     "iopub.status.idle": "2023-01-25T12:21:17.501829Z",
     "shell.execute_reply": "2023-01-25T12:21:17.500799Z"
    },
    "papermill": {
     "duration": 7.233877,
     "end_time": "2023-01-25T12:21:17.504611",
     "exception": false,
     "start_time": "2023-01-25T12:21:10.270734",
     "status": "completed"
    },
    "tags": []
   },
   "outputs": [],
   "source": [
    "clf = CountVectorizer()\n",
    "\n",
    "X_train_cv =  clf.fit_transform(x_train)\n",
    "X_test_cv = clf.transform(x_test)"
   ]
  },
  {
   "cell_type": "code",
   "execution_count": 15,
   "id": "624f47f8",
   "metadata": {
    "execution": {
     "iopub.execute_input": "2023-01-25T12:21:17.519498Z",
     "iopub.status.busy": "2023-01-25T12:21:17.518527Z",
     "iopub.status.idle": "2023-01-25T12:21:18.163575Z",
     "shell.execute_reply": "2023-01-25T12:21:18.162448Z"
    },
    "papermill": {
     "duration": 0.654789,
     "end_time": "2023-01-25T12:21:18.166363",
     "exception": false,
     "start_time": "2023-01-25T12:21:17.511574",
     "status": "completed"
    },
    "tags": []
   },
   "outputs": [],
   "source": [
    "tf_transformer = TfidfTransformer(use_idf=True).fit(X_train_cv)\n",
    "\n",
    "X_train_tf = tf_transformer.transform(X_train_cv)\n",
    "X_test_tf = tf_transformer.transform(X_test_cv)"
   ]
  },
  {
   "cell_type": "code",
   "execution_count": 16,
   "id": "c1122814",
   "metadata": {
    "execution": {
     "iopub.execute_input": "2023-01-25T12:21:18.179626Z",
     "iopub.status.busy": "2023-01-25T12:21:18.179233Z",
     "iopub.status.idle": "2023-01-25T12:21:18.183731Z",
     "shell.execute_reply": "2023-01-25T12:21:18.182673Z"
    },
    "papermill": {
     "duration": 0.01382,
     "end_time": "2023-01-25T12:21:18.185973",
     "exception": false,
     "start_time": "2023-01-25T12:21:18.172153",
     "status": "completed"
    },
    "tags": []
   },
   "outputs": [],
   "source": [
    "naive_classifier = MultinomialNB()"
   ]
  },
  {
   "cell_type": "code",
   "execution_count": 17,
   "id": "81e57324",
   "metadata": {
    "execution": {
     "iopub.execute_input": "2023-01-25T12:21:18.198806Z",
     "iopub.status.busy": "2023-01-25T12:21:18.198466Z",
     "iopub.status.idle": "2023-01-25T12:21:18.302272Z",
     "shell.execute_reply": "2023-01-25T12:21:18.301134Z"
    },
    "papermill": {
     "duration": 0.113224,
     "end_time": "2023-01-25T12:21:18.304842",
     "exception": false,
     "start_time": "2023-01-25T12:21:18.191618",
     "status": "completed"
    },
    "tags": []
   },
   "outputs": [
    {
     "data": {
      "text/plain": [
       "MultinomialNB()"
      ]
     },
     "execution_count": 17,
     "metadata": {},
     "output_type": "execute_result"
    }
   ],
   "source": [
    "naive_classifier.fit(X_train_tf, y_train_c)"
   ]
  },
  {
   "cell_type": "code",
   "execution_count": 18,
   "id": "c2216e1a",
   "metadata": {
    "execution": {
     "iopub.execute_input": "2023-01-25T12:21:18.318666Z",
     "iopub.status.busy": "2023-01-25T12:21:18.318242Z",
     "iopub.status.idle": "2023-01-25T12:21:18.349768Z",
     "shell.execute_reply": "2023-01-25T12:21:18.347972Z"
    },
    "papermill": {
     "duration": 0.0418,
     "end_time": "2023-01-25T12:21:18.352706",
     "exception": false,
     "start_time": "2023-01-25T12:21:18.310906",
     "status": "completed"
    },
    "tags": []
   },
   "outputs": [],
   "source": [
    "naive_prediction = naive_classifier.predict(X_test_tf)"
   ]
  },
  {
   "cell_type": "code",
   "execution_count": 19,
   "id": "6f3ee4fd",
   "metadata": {
    "execution": {
     "iopub.execute_input": "2023-01-25T12:21:18.366940Z",
     "iopub.status.busy": "2023-01-25T12:21:18.365947Z",
     "iopub.status.idle": "2023-01-25T12:21:18.594101Z",
     "shell.execute_reply": "2023-01-25T12:21:18.592921Z"
    },
    "papermill": {
     "duration": 0.237894,
     "end_time": "2023-01-25T12:21:18.596610",
     "exception": false,
     "start_time": "2023-01-25T12:21:18.358716",
     "status": "completed"
    },
    "tags": []
   },
   "outputs": [
    {
     "name": "stdout",
     "output_type": "stream",
     "text": [
      "\tNaive Bayesian Classification Report:\n",
      "\n",
      "               precision    recall  f1-score   support\n",
      "\n",
      "    Negative       0.63      0.91      0.74     38711\n",
      "    Positive       0.77      0.70      0.73     38712\n",
      "     Neutral       0.87      0.57      0.69     38712\n",
      "\n",
      "    accuracy                           0.73    116135\n",
      "   macro avg       0.76      0.73      0.72    116135\n",
      "weighted avg       0.76      0.73      0.72    116135\n",
      "\n"
     ]
    }
   ],
   "source": [
    "print('\\tNaive Bayesian Classification Report:\\n\\n',\n",
    "      classification_report(y_test_c,naive_prediction, target_names=['Negative', 'Positive', 'Neutral']))"
   ]
  },
  {
   "cell_type": "code",
   "execution_count": null,
   "id": "33d87a65",
   "metadata": {
    "papermill": {
     "duration": 0.005693,
     "end_time": "2023-01-25T12:21:18.607991",
     "exception": false,
     "start_time": "2023-01-25T12:21:18.602298",
     "status": "completed"
    },
    "tags": []
   },
   "outputs": [],
   "source": []
  }
 ],
 "metadata": {
  "kernelspec": {
   "display_name": "Python 3",
   "language": "python",
   "name": "python3"
  },
  "language_info": {
   "codemirror_mode": {
    "name": "ipython",
    "version": 3
   },
   "file_extension": ".py",
   "mimetype": "text/x-python",
   "name": "python",
   "nbconvert_exporter": "python",
   "pygments_lexer": "ipython3",
   "version": "3.7.12"
  },
  "papermill": {
   "default_parameters": {},
   "duration": 21.629369,
   "end_time": "2023-01-25T12:21:19.439348",
   "environment_variables": {},
   "exception": null,
   "input_path": "__notebook__.ipynb",
   "output_path": "__notebook__.ipynb",
   "parameters": {},
   "start_time": "2023-01-25T12:20:57.809979",
   "version": "2.3.4"
  }
 },
 "nbformat": 4,
 "nbformat_minor": 5
}
