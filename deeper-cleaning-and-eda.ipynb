{
 "cells": [
  {
   "cell_type": "code",
   "execution_count": 1,
   "id": "3b6382ac",
   "metadata": {
    "_cell_guid": "b1076dfc-b9ad-4769-8c92-a6c4dae69d19",
    "_uuid": "8f2839f25d086af736a60e9eeb907d3b93b6e0e5",
    "execution": {
     "iopub.execute_input": "2023-01-25T10:16:28.784202Z",
     "iopub.status.busy": "2023-01-25T10:16:28.783489Z",
     "iopub.status.idle": "2023-01-25T10:16:31.195957Z",
     "shell.execute_reply": "2023-01-25T10:16:31.194382Z"
    },
    "papermill": {
     "duration": 2.430408,
     "end_time": "2023-01-25T10:16:31.198543",
     "exception": false,
     "start_time": "2023-01-25T10:16:28.768135",
     "status": "completed"
    },
    "tags": []
   },
   "outputs": [],
   "source": [
    "import pandas as pd \n",
    "import numpy as np\n",
    "import seaborn as sns\n",
    "import matplotlib.pyplot as plt\n",
    "\n",
    "import re, string\n",
    "import emoji\n",
    "import nltk\n",
    "\n",
    "from sklearn import preprocessing\n",
    "from imblearn.over_sampling import RandomOverSampler\n",
    "from sklearn.model_selection import train_test_split"
   ]
  },
  {
   "cell_type": "code",
   "execution_count": 2,
   "id": "a58faa1e",
   "metadata": {
    "execution": {
     "iopub.execute_input": "2023-01-25T10:16:31.224116Z",
     "iopub.status.busy": "2023-01-25T10:16:31.223731Z",
     "iopub.status.idle": "2023-01-25T10:16:31.236001Z",
     "shell.execute_reply": "2023-01-25T10:16:31.234746Z"
    },
    "papermill": {
     "duration": 0.028101,
     "end_time": "2023-01-25T10:16:31.238003",
     "exception": false,
     "start_time": "2023-01-25T10:16:31.209902",
     "status": "completed"
    },
    "tags": []
   },
   "outputs": [
    {
     "data": {
      "text/plain": [
       "<Figure size 432x288 with 0 Axes>"
      ]
     },
     "metadata": {},
     "output_type": "display_data"
    }
   ],
   "source": [
    "sns.set_style(\"whitegrid\")\n",
    "sns.despine()\n",
    "plt.style.use(\"seaborn-whitegrid\")\n",
    "plt.rc(\"figure\", autolayout=True)\n",
    "plt.rc(\"axes\", labelweight=\"bold\", labelsize=\"large\", titleweight=\"bold\", titlepad=10)"
   ]
  },
  {
   "cell_type": "code",
   "execution_count": 3,
   "id": "a957e07a",
   "metadata": {
    "execution": {
     "iopub.execute_input": "2023-01-25T10:16:31.264238Z",
     "iopub.status.busy": "2023-01-25T10:16:31.263020Z",
     "iopub.status.idle": "2023-01-25T10:16:33.232338Z",
     "shell.execute_reply": "2023-01-25T10:16:33.230568Z"
    },
    "papermill": {
     "duration": 1.984441,
     "end_time": "2023-01-25T10:16:33.234873",
     "exception": false,
     "start_time": "2023-01-25T10:16:31.250432",
     "status": "completed"
    },
    "tags": []
   },
   "outputs": [],
   "source": [
    "df = pd.read_csv('/kaggle/input/masculinity-saturday-twitter-sentiment-analysis/twitter_sentiment_analysis_masculinity_saturday_data_annotated.csv', index_col=0)"
   ]
  },
  {
   "cell_type": "code",
   "execution_count": 4,
   "id": "d809ffe6",
   "metadata": {
    "execution": {
     "iopub.execute_input": "2023-01-25T10:16:33.260067Z",
     "iopub.status.busy": "2023-01-25T10:16:33.259624Z",
     "iopub.status.idle": "2023-01-25T10:16:33.278745Z",
     "shell.execute_reply": "2023-01-25T10:16:33.277595Z"
    },
    "papermill": {
     "duration": 0.035626,
     "end_time": "2023-01-25T10:16:33.282506",
     "exception": false,
     "start_time": "2023-01-25T10:16:33.246880",
     "status": "completed"
    },
    "tags": []
   },
   "outputs": [
    {
     "data": {
      "text/html": [
       "<div>\n",
       "<style scoped>\n",
       "    .dataframe tbody tr th:only-of-type {\n",
       "        vertical-align: middle;\n",
       "    }\n",
       "\n",
       "    .dataframe tbody tr th {\n",
       "        vertical-align: top;\n",
       "    }\n",
       "\n",
       "    .dataframe thead th {\n",
       "        text-align: right;\n",
       "    }\n",
       "</style>\n",
       "<table border=\"1\" class=\"dataframe\">\n",
       "  <thead>\n",
       "    <tr style=\"text-align: right;\">\n",
       "      <th></th>\n",
       "      <th>tweet_created_at</th>\n",
       "      <th>text</th>\n",
       "      <th>Positive</th>\n",
       "      <th>Negative</th>\n",
       "      <th>Neutral</th>\n",
       "      <th>Compound</th>\n",
       "      <th>Sentiment</th>\n",
       "    </tr>\n",
       "  </thead>\n",
       "  <tbody>\n",
       "    <tr>\n",
       "      <th>0</th>\n",
       "      <td>2022-12-30 22:37:46+00:00</td>\n",
       "      <td>Men who have refused to listen to/attend @amer...</td>\n",
       "      <td>0.000</td>\n",
       "      <td>0.073</td>\n",
       "      <td>0.927</td>\n",
       "      <td>-0.2960</td>\n",
       "      <td>Negative</td>\n",
       "    </tr>\n",
       "    <tr>\n",
       "      <th>1</th>\n",
       "      <td>2022-12-30 22:30:58+00:00</td>\n",
       "      <td>@OvOBrezzzy Take amerix next</td>\n",
       "      <td>0.000</td>\n",
       "      <td>0.000</td>\n",
       "      <td>1.000</td>\n",
       "      <td>0.0000</td>\n",
       "      <td>Neutral</td>\n",
       "    </tr>\n",
       "    <tr>\n",
       "      <th>2</th>\n",
       "      <td>2022-12-30 22:18:00+00:00</td>\n",
       "      <td>@AyodeleYo11 @amerix Nah I’m good my masculini...</td>\n",
       "      <td>0.493</td>\n",
       "      <td>0.068</td>\n",
       "      <td>0.439</td>\n",
       "      <td>0.8271</td>\n",
       "      <td>Positive</td>\n",
       "    </tr>\n",
       "    <tr>\n",
       "      <th>3</th>\n",
       "      <td>2022-12-30 20:42:54+00:00</td>\n",
       "      <td>@Amerix_DontSimp There is no need for dating i...</td>\n",
       "      <td>0.000</td>\n",
       "      <td>0.180</td>\n",
       "      <td>0.820</td>\n",
       "      <td>-0.2960</td>\n",
       "      <td>Negative</td>\n",
       "    </tr>\n",
       "    <tr>\n",
       "      <th>4</th>\n",
       "      <td>2022-12-30 20:32:23+00:00</td>\n",
       "      <td>@DyeAnna7 @amerix @kibe From what cos nothing ...</td>\n",
       "      <td>0.110</td>\n",
       "      <td>0.000</td>\n",
       "      <td>0.890</td>\n",
       "      <td>0.6908</td>\n",
       "      <td>Positive</td>\n",
       "    </tr>\n",
       "  </tbody>\n",
       "</table>\n",
       "</div>"
      ],
      "text/plain": [
       "            tweet_created_at  \\\n",
       "0  2022-12-30 22:37:46+00:00   \n",
       "1  2022-12-30 22:30:58+00:00   \n",
       "2  2022-12-30 22:18:00+00:00   \n",
       "3  2022-12-30 20:42:54+00:00   \n",
       "4  2022-12-30 20:32:23+00:00   \n",
       "\n",
       "                                                text  Positive  Negative  \\\n",
       "0  Men who have refused to listen to/attend @amer...     0.000     0.073   \n",
       "1                       @OvOBrezzzy Take amerix next     0.000     0.000   \n",
       "2  @AyodeleYo11 @amerix Nah I’m good my masculini...     0.493     0.068   \n",
       "3  @Amerix_DontSimp There is no need for dating i...     0.000     0.180   \n",
       "4  @DyeAnna7 @amerix @kibe From what cos nothing ...     0.110     0.000   \n",
       "\n",
       "   Neutral  Compound Sentiment  \n",
       "0    0.927   -0.2960  Negative  \n",
       "1    1.000    0.0000   Neutral  \n",
       "2    0.439    0.8271  Positive  \n",
       "3    0.820   -0.2960  Negative  \n",
       "4    0.890    0.6908  Positive  "
      ]
     },
     "execution_count": 4,
     "metadata": {},
     "output_type": "execute_result"
    }
   ],
   "source": [
    "df.head()"
   ]
  },
  {
   "cell_type": "code",
   "execution_count": 5,
   "id": "217406f2",
   "metadata": {
    "execution": {
     "iopub.execute_input": "2023-01-25T10:16:33.310884Z",
     "iopub.status.busy": "2023-01-25T10:16:33.309808Z",
     "iopub.status.idle": "2023-01-25T10:16:33.384373Z",
     "shell.execute_reply": "2023-01-25T10:16:33.383154Z"
    },
    "papermill": {
     "duration": 0.092413,
     "end_time": "2023-01-25T10:16:33.387625",
     "exception": false,
     "start_time": "2023-01-25T10:16:33.295212",
     "status": "completed"
    },
    "tags": []
   },
   "outputs": [
    {
     "name": "stdout",
     "output_type": "stream",
     "text": [
      "<class 'pandas.core.frame.DataFrame'>\n",
      "Int64Index: 248738 entries, 0 to 248738\n",
      "Data columns (total 7 columns):\n",
      " #   Column            Non-Null Count   Dtype  \n",
      "---  ------            --------------   -----  \n",
      " 0   tweet_created_at  248738 non-null  object \n",
      " 1   text              248738 non-null  object \n",
      " 2   Positive          248738 non-null  float64\n",
      " 3   Negative          248738 non-null  float64\n",
      " 4   Neutral           248738 non-null  float64\n",
      " 5   Compound          248738 non-null  float64\n",
      " 6   Sentiment         248738 non-null  object \n",
      "dtypes: float64(4), object(3)\n",
      "memory usage: 15.2+ MB\n"
     ]
    }
   ],
   "source": [
    "df.info()"
   ]
  },
  {
   "cell_type": "code",
   "execution_count": 6,
   "id": "e73a3c08",
   "metadata": {
    "execution": {
     "iopub.execute_input": "2023-01-25T10:16:33.414052Z",
     "iopub.status.busy": "2023-01-25T10:16:33.413476Z",
     "iopub.status.idle": "2023-01-25T10:16:33.521000Z",
     "shell.execute_reply": "2023-01-25T10:16:33.519890Z"
    },
    "papermill": {
     "duration": 0.123594,
     "end_time": "2023-01-25T10:16:33.523554",
     "exception": false,
     "start_time": "2023-01-25T10:16:33.399960",
     "status": "completed"
    },
    "tags": []
   },
   "outputs": [],
   "source": [
    "df['tweet_created_at'] = pd.to_datetime(df['tweet_created_at'])"
   ]
  },
  {
   "cell_type": "code",
   "execution_count": 7,
   "id": "93d33935",
   "metadata": {
    "execution": {
     "iopub.execute_input": "2023-01-25T10:16:33.550151Z",
     "iopub.status.busy": "2023-01-25T10:16:33.549326Z",
     "iopub.status.idle": "2023-01-25T10:16:33.607862Z",
     "shell.execute_reply": "2023-01-25T10:16:33.605147Z"
    },
    "papermill": {
     "duration": 0.07592,
     "end_time": "2023-01-25T10:16:33.611319",
     "exception": false,
     "start_time": "2023-01-25T10:16:33.535399",
     "status": "completed"
    },
    "tags": []
   },
   "outputs": [
    {
     "name": "stdout",
     "output_type": "stream",
     "text": [
      "<class 'pandas.core.frame.DataFrame'>\n",
      "Int64Index: 248738 entries, 0 to 248738\n",
      "Data columns (total 7 columns):\n",
      " #   Column            Non-Null Count   Dtype              \n",
      "---  ------            --------------   -----              \n",
      " 0   tweet_created_at  248738 non-null  datetime64[ns, UTC]\n",
      " 1   text              248738 non-null  object             \n",
      " 2   Positive          248738 non-null  float64            \n",
      " 3   Negative          248738 non-null  float64            \n",
      " 4   Neutral           248738 non-null  float64            \n",
      " 5   Compound          248738 non-null  float64            \n",
      " 6   Sentiment         248738 non-null  object             \n",
      "dtypes: datetime64[ns, UTC](1), float64(4), object(2)\n",
      "memory usage: 15.2+ MB\n"
     ]
    }
   ],
   "source": [
    "df.info()"
   ]
  },
  {
   "cell_type": "code",
   "execution_count": 8,
   "id": "58367f80",
   "metadata": {
    "execution": {
     "iopub.execute_input": "2023-01-25T10:16:33.641497Z",
     "iopub.status.busy": "2023-01-25T10:16:33.640345Z",
     "iopub.status.idle": "2023-01-25T10:16:33.648957Z",
     "shell.execute_reply": "2023-01-25T10:16:33.647121Z"
    },
    "papermill": {
     "duration": 0.027031,
     "end_time": "2023-01-25T10:16:33.652175",
     "exception": false,
     "start_time": "2023-01-25T10:16:33.625144",
     "status": "completed"
    },
    "tags": []
   },
   "outputs": [
    {
     "data": {
      "text/plain": [
       "(248738, 7)"
      ]
     },
     "execution_count": 8,
     "metadata": {},
     "output_type": "execute_result"
    }
   ],
   "source": [
    "df.shape"
   ]
  },
  {
   "cell_type": "code",
   "execution_count": 9,
   "id": "fc6eb719",
   "metadata": {
    "execution": {
     "iopub.execute_input": "2023-01-25T10:16:33.681336Z",
     "iopub.status.busy": "2023-01-25T10:16:33.680832Z",
     "iopub.status.idle": "2023-01-25T10:16:33.927308Z",
     "shell.execute_reply": "2023-01-25T10:16:33.926034Z"
    },
    "papermill": {
     "duration": 0.264169,
     "end_time": "2023-01-25T10:16:33.930202",
     "exception": false,
     "start_time": "2023-01-25T10:16:33.666033",
     "status": "completed"
    },
    "tags": []
   },
   "outputs": [],
   "source": [
    "df.drop_duplicates(subset='text',inplace=True)"
   ]
  },
  {
   "cell_type": "code",
   "execution_count": 10,
   "id": "278bad04",
   "metadata": {
    "execution": {
     "iopub.execute_input": "2023-01-25T10:16:33.957204Z",
     "iopub.status.busy": "2023-01-25T10:16:33.956857Z",
     "iopub.status.idle": "2023-01-25T10:16:33.963604Z",
     "shell.execute_reply": "2023-01-25T10:16:33.962495Z"
    },
    "papermill": {
     "duration": 0.023926,
     "end_time": "2023-01-25T10:16:33.966309",
     "exception": false,
     "start_time": "2023-01-25T10:16:33.942383",
     "status": "completed"
    },
    "tags": []
   },
   "outputs": [
    {
     "data": {
      "text/plain": [
       "(236023, 7)"
      ]
     },
     "execution_count": 10,
     "metadata": {},
     "output_type": "execute_result"
    }
   ],
   "source": [
    "df.shape"
   ]
  },
  {
   "cell_type": "code",
   "execution_count": 11,
   "id": "c3ba413c",
   "metadata": {
    "execution": {
     "iopub.execute_input": "2023-01-25T10:16:33.991941Z",
     "iopub.status.busy": "2023-01-25T10:16:33.991606Z",
     "iopub.status.idle": "2023-01-25T10:16:34.047510Z",
     "shell.execute_reply": "2023-01-25T10:16:34.046273Z"
    },
    "papermill": {
     "duration": 0.072055,
     "end_time": "2023-01-25T10:16:34.050377",
     "exception": false,
     "start_time": "2023-01-25T10:16:33.978322",
     "status": "completed"
    },
    "tags": []
   },
   "outputs": [
    {
     "name": "stdout",
     "output_type": "stream",
     "text": [
      "<class 'pandas.core.frame.DataFrame'>\n",
      "Int64Index: 236023 entries, 0 to 248738\n",
      "Data columns (total 7 columns):\n",
      " #   Column            Non-Null Count   Dtype              \n",
      "---  ------            --------------   -----              \n",
      " 0   tweet_created_at  236023 non-null  datetime64[ns, UTC]\n",
      " 1   text              236023 non-null  object             \n",
      " 2   Positive          236023 non-null  float64            \n",
      " 3   Negative          236023 non-null  float64            \n",
      " 4   Neutral           236023 non-null  float64            \n",
      " 5   Compound          236023 non-null  float64            \n",
      " 6   Sentiment         236023 non-null  object             \n",
      "dtypes: datetime64[ns, UTC](1), float64(4), object(2)\n",
      "memory usage: 14.4+ MB\n"
     ]
    }
   ],
   "source": [
    "df.info()"
   ]
  },
  {
   "cell_type": "code",
   "execution_count": 12,
   "id": "eaaa8081",
   "metadata": {
    "execution": {
     "iopub.execute_input": "2023-01-25T10:16:34.076725Z",
     "iopub.status.busy": "2023-01-25T10:16:34.076207Z",
     "iopub.status.idle": "2023-01-25T10:16:35.137812Z",
     "shell.execute_reply": "2023-01-25T10:16:35.135859Z"
    },
    "papermill": {
     "duration": 1.078141,
     "end_time": "2023-01-25T10:16:35.140861",
     "exception": false,
     "start_time": "2023-01-25T10:16:34.062720",
     "status": "completed"
    },
    "tags": []
   },
   "outputs": [],
   "source": [
    "tweets_per_day = df['tweet_created_at'].dt.strftime('%m-%d').value_counts().sort_index().reset_index(name='counts')"
   ]
  },
  {
   "cell_type": "code",
   "execution_count": 13,
   "id": "a58cc44e",
   "metadata": {
    "execution": {
     "iopub.execute_input": "2023-01-25T10:16:35.168382Z",
     "iopub.status.busy": "2023-01-25T10:16:35.168007Z",
     "iopub.status.idle": "2023-01-25T10:16:44.387127Z",
     "shell.execute_reply": "2023-01-25T10:16:44.385500Z"
    },
    "papermill": {
     "duration": 9.234855,
     "end_time": "2023-01-25T10:16:44.389459",
     "exception": false,
     "start_time": "2023-01-25T10:16:35.154604",
     "status": "completed"
    },
    "tags": []
   },
   "outputs": [
    {
     "data": {
      "image/png": "[encoded data removed]",
      "text/plain": [
       "<Figure size 1440x360 with 1 Axes>"
      ]
     },
     "metadata": {},
     "output_type": "display_data"
    }
   ],
   "source": [
    "plt.figure(figsize=(20,5))\n",
    "ax = sns.barplot(x='index', y='counts', data=tweets_per_day, edgecolor = 'black', ci=False, palette='Blues_r')\n",
    "\n",
    "plt.title('Tweets count by date')\n",
    "plt.yticks([])\n",
    "\n",
    "ax.bar_label(ax.containers[0])\n",
    "\n",
    "plt.ylabel('count')\n",
    "plt.xlabel('')\n",
    "plt.show()"
   ]
  },
  {
   "cell_type": "code",
   "execution_count": 14,
   "id": "5a667767",
   "metadata": {
    "execution": {
     "iopub.execute_input": "2023-01-25T10:16:44.418328Z",
     "iopub.status.busy": "2023-01-25T10:16:44.417988Z",
     "iopub.status.idle": "2023-01-25T10:16:44.431140Z",
     "shell.execute_reply": "2023-01-25T10:16:44.429866Z"
    },
    "papermill": {
     "duration": 0.030285,
     "end_time": "2023-01-25T10:16:44.433304",
     "exception": false,
     "start_time": "2023-01-25T10:16:44.403019",
     "status": "completed"
    },
    "tags": []
   },
   "outputs": [],
   "source": [
    "df_1 = df[['text','Sentiment']]"
   ]
  },
  {
   "cell_type": "code",
   "execution_count": 15,
   "id": "0ecc1ac4",
   "metadata": {
    "execution": {
     "iopub.execute_input": "2023-01-25T10:16:44.463148Z",
     "iopub.status.busy": "2023-01-25T10:16:44.461925Z",
     "iopub.status.idle": "2023-01-25T10:16:44.473323Z",
     "shell.execute_reply": "2023-01-25T10:16:44.472146Z"
    },
    "papermill": {
     "duration": 0.028833,
     "end_time": "2023-01-25T10:16:44.475740",
     "exception": false,
     "start_time": "2023-01-25T10:16:44.446907",
     "status": "completed"
    },
    "tags": []
   },
   "outputs": [
    {
     "data": {
      "text/html": [
       "<div>\n",
       "<style scoped>\n",
       "    .dataframe tbody tr th:only-of-type {\n",
       "        vertical-align: middle;\n",
       "    }\n",
       "\n",
       "    .dataframe tbody tr th {\n",
       "        vertical-align: top;\n",
       "    }\n",
       "\n",
       "    .dataframe thead th {\n",
       "        text-align: right;\n",
       "    }\n",
       "</style>\n",
       "<table border=\"1\" class=\"dataframe\">\n",
       "  <thead>\n",
       "    <tr style=\"text-align: right;\">\n",
       "      <th></th>\n",
       "      <th>text</th>\n",
       "      <th>Sentiment</th>\n",
       "    </tr>\n",
       "  </thead>\n",
       "  <tbody>\n",
       "    <tr>\n",
       "      <th>0</th>\n",
       "      <td>Men who have refused to listen to/attend @amer...</td>\n",
       "      <td>Negative</td>\n",
       "    </tr>\n",
       "    <tr>\n",
       "      <th>1</th>\n",
       "      <td>@OvOBrezzzy Take amerix next</td>\n",
       "      <td>Neutral</td>\n",
       "    </tr>\n",
       "    <tr>\n",
       "      <th>2</th>\n",
       "      <td>@AyodeleYo11 @amerix Nah I’m good my masculini...</td>\n",
       "      <td>Positive</td>\n",
       "    </tr>\n",
       "    <tr>\n",
       "      <th>3</th>\n",
       "      <td>@Amerix_DontSimp There is no need for dating i...</td>\n",
       "      <td>Negative</td>\n",
       "    </tr>\n",
       "    <tr>\n",
       "      <th>4</th>\n",
       "      <td>@DyeAnna7 @amerix @kibe From what cos nothing ...</td>\n",
       "      <td>Positive</td>\n",
       "    </tr>\n",
       "  </tbody>\n",
       "</table>\n",
       "</div>"
      ],
      "text/plain": [
       "                                                text Sentiment\n",
       "0  Men who have refused to listen to/attend @amer...  Negative\n",
       "1                       @OvOBrezzzy Take amerix next   Neutral\n",
       "2  @AyodeleYo11 @amerix Nah I’m good my masculini...  Positive\n",
       "3  @Amerix_DontSimp There is no need for dating i...  Negative\n",
       "4  @DyeAnna7 @amerix @kibe From what cos nothing ...  Positive"
      ]
     },
     "execution_count": 15,
     "metadata": {},
     "output_type": "execute_result"
    }
   ],
   "source": [
    "df_1.head()"
   ]
  },
  {
   "cell_type": "code",
   "execution_count": 16,
   "id": "dde774ab",
   "metadata": {
    "execution": {
     "iopub.execute_input": "2023-01-25T10:16:44.505833Z",
     "iopub.status.busy": "2023-01-25T10:16:44.505140Z",
     "iopub.status.idle": "2023-01-25T10:16:44.510171Z",
     "shell.execute_reply": "2023-01-25T10:16:44.508720Z"
    },
    "papermill": {
     "duration": 0.022723,
     "end_time": "2023-01-25T10:16:44.512422",
     "exception": false,
     "start_time": "2023-01-25T10:16:44.489699",
     "status": "completed"
    },
    "tags": []
   },
   "outputs": [],
   "source": [
    "# remove multiple spaces\n",
    "\n",
    "def remove_mult_spaces(text): \n",
    "    return re.sub(\"\\s\\s+\" , \" \", text)"
   ]
  },
  {
   "cell_type": "code",
   "execution_count": 17,
   "id": "a2ccb632",
   "metadata": {
    "execution": {
     "iopub.execute_input": "2023-01-25T10:16:44.541887Z",
     "iopub.status.busy": "2023-01-25T10:16:44.541469Z",
     "iopub.status.idle": "2023-01-25T10:16:44.546258Z",
     "shell.execute_reply": "2023-01-25T10:16:44.545325Z"
    },
    "papermill": {
     "duration": 0.02225,
     "end_time": "2023-01-25T10:16:44.548341",
     "exception": false,
     "start_time": "2023-01-25T10:16:44.526091",
     "status": "completed"
    },
    "tags": []
   },
   "outputs": [],
   "source": [
    "#remove emoji\n",
    "\n",
    "def strip_emoji(text):\n",
    "    return re.sub(emoji.emoji_list(text), r\"\", text) "
   ]
  },
  {
   "cell_type": "code",
   "execution_count": 18,
   "id": "054851cb",
   "metadata": {
    "execution": {
     "iopub.execute_input": "2023-01-25T10:16:44.578081Z",
     "iopub.status.busy": "2023-01-25T10:16:44.577579Z",
     "iopub.status.idle": "2023-01-25T10:16:44.584116Z",
     "shell.execute_reply": "2023-01-25T10:16:44.582774Z"
    },
    "papermill": {
     "duration": 0.024236,
     "end_time": "2023-01-25T10:16:44.586495",
     "exception": false,
     "start_time": "2023-01-25T10:16:44.562259",
     "status": "completed"
    },
    "tags": []
   },
   "outputs": [],
   "source": [
    "#Remove punctuations, links, mentions and \\r\\n new line characters\n",
    "\n",
    "def strip_all_entities(text): \n",
    "    text = text.replace('\\r', '').replace('\\n', ' ').replace('\\n', ' ').lower() #remove \\n and \\r and lowercase\n",
    "    text = re.sub(r\"(?:\\@|https?\\://)\\S+\", \"\", text) #remove links and mentions\n",
    "    text = re.sub(r'[^\\x00-\\x7f]',r'', text) #remove non utf8/ascii characters such as '\\x9a\\x91\\x97\\x9a\\x97'\n",
    "    banned_list= string.punctuation + 'Ã'+'±'+'ã'+'¼'+'â'+'»'+'§'\n",
    "    table = str.maketrans('', '', banned_list)\n",
    "    text = text.translate(table)\n",
    "    return text"
   ]
  },
  {
   "cell_type": "code",
   "execution_count": 19,
   "id": "a62529eb",
   "metadata": {
    "execution": {
     "iopub.execute_input": "2023-01-25T10:16:44.615831Z",
     "iopub.status.busy": "2023-01-25T10:16:44.615431Z",
     "iopub.status.idle": "2023-01-25T10:16:44.622310Z",
     "shell.execute_reply": "2023-01-25T10:16:44.620835Z"
    },
    "papermill": {
     "duration": 0.024514,
     "end_time": "2023-01-25T10:16:44.624815",
     "exception": false,
     "start_time": "2023-01-25T10:16:44.600301",
     "status": "completed"
    },
    "tags": []
   },
   "outputs": [],
   "source": [
    "#clean hashtags at the end of the sentence, and keep those in the middle of the sentence by removing just the # symbol\n",
    "\n",
    "def clean_hashtags(tweet):\n",
    "    new_tweet = \" \".join(word.strip() for word in re.split('#(?!(?:hashtag)\\b)[\\w-]+(?=(?:\\s+#[\\w-]+)*\\s*$)', tweet)) #remove last hashtags\n",
    "    new_tweet2 = \" \".join(word.strip() for word in re.split('#|_', new_tweet)) #remove hashtags symbol from words in the middle of the sentence\n",
    "    return new_tweet2\n"
   ]
  },
  {
   "cell_type": "code",
   "execution_count": 20,
   "id": "7d5f5233",
   "metadata": {
    "execution": {
     "iopub.execute_input": "2023-01-25T10:16:44.655580Z",
     "iopub.status.busy": "2023-01-25T10:16:44.654721Z",
     "iopub.status.idle": "2023-01-25T10:16:44.661040Z",
     "shell.execute_reply": "2023-01-25T10:16:44.659843Z"
    },
    "papermill": {
     "duration": 0.025182,
     "end_time": "2023-01-25T10:16:44.663926",
     "exception": false,
     "start_time": "2023-01-25T10:16:44.638744",
     "status": "completed"
    },
    "tags": []
   },
   "outputs": [],
   "source": [
    "#Filter special characters such as & and $ present in some words\n",
    "\n",
    "def filter_chars(a):\n",
    "    sent = []\n",
    "    for word in a.split(' '):\n",
    "        if ('$' in word) | ('&' in word):\n",
    "            sent.append('')\n",
    "        else:\n",
    "            sent.append(word)\n",
    "    return ' '.join(sent)\n"
   ]
  },
  {
   "cell_type": "code",
   "execution_count": 21,
   "id": "8c8979fc",
   "metadata": {
    "execution": {
     "iopub.execute_input": "2023-01-25T10:16:44.693512Z",
     "iopub.status.busy": "2023-01-25T10:16:44.693140Z",
     "iopub.status.idle": "2023-01-25T10:16:50.124867Z",
     "shell.execute_reply": "2023-01-25T10:16:50.123836Z"
    },
    "papermill": {
     "duration": 5.449592,
     "end_time": "2023-01-25T10:16:50.127378",
     "exception": false,
     "start_time": "2023-01-25T10:16:44.677786",
     "status": "completed"
    },
    "tags": []
   },
   "outputs": [],
   "source": [
    "texts_new = []\n",
    "for t in df.text:\n",
    "    texts_new.append(\n",
    "        remove_mult_spaces(filter_chars(clean_hashtags(strip_all_entities((t)))))\n",
    "    )"
   ]
  },
  {
   "cell_type": "code",
   "execution_count": 22,
   "id": "d20c6ad2",
   "metadata": {
    "execution": {
     "iopub.execute_input": "2023-01-25T10:16:50.156572Z",
     "iopub.status.busy": "2023-01-25T10:16:50.156171Z",
     "iopub.status.idle": "2023-01-25T10:16:50.190820Z",
     "shell.execute_reply": "2023-01-25T10:16:50.189544Z"
    },
    "papermill": {
     "duration": 0.052446,
     "end_time": "2023-01-25T10:16:50.193507",
     "exception": false,
     "start_time": "2023-01-25T10:16:50.141061",
     "status": "completed"
    },
    "tags": []
   },
   "outputs": [],
   "source": [
    "df['text_clean'] = texts_new"
   ]
  },
  {
   "cell_type": "code",
   "execution_count": 23,
   "id": "c6d607ec",
   "metadata": {
    "execution": {
     "iopub.execute_input": "2023-01-25T10:16:50.225244Z",
     "iopub.status.busy": "2023-01-25T10:16:50.223970Z",
     "iopub.status.idle": "2023-01-25T10:16:50.231894Z",
     "shell.execute_reply": "2023-01-25T10:16:50.230998Z"
    },
    "papermill": {
     "duration": 0.02634,
     "end_time": "2023-01-25T10:16:50.234246",
     "exception": false,
     "start_time": "2023-01-25T10:16:50.207906",
     "status": "completed"
    },
    "tags": []
   },
   "outputs": [
    {
     "data": {
      "text/plain": [
       "0    Men who have refused to listen to/attend @amer...\n",
       "1                         @OvOBrezzzy Take amerix next\n",
       "2    @AyodeleYo11 @amerix Nah I’m good my masculini...\n",
       "3    @Amerix_DontSimp There is no need for dating i...\n",
       "4    @DyeAnna7 @amerix @kibe From what cos nothing ...\n",
       "5    @salim_the_don @MwendiaJnr I see you unblocked...\n",
       "6    @german_kenyan @ML_Philosophy 🤣 yes they are a...\n",
       "7    @PadreMusa Amerix once said the alcohol menace...\n",
       "8    @DodoPicard You're in Eastafrica, he probably ...\n",
       "9                     @HBK_ACTIVIST @amerix @kibe Heal\n",
       "Name: text, dtype: object"
      ]
     },
     "execution_count": 23,
     "metadata": {},
     "output_type": "execute_result"
    }
   ],
   "source": [
    "df['text'].head(10)"
   ]
  },
  {
   "cell_type": "code",
   "execution_count": 24,
   "id": "1dc12872",
   "metadata": {
    "execution": {
     "iopub.execute_input": "2023-01-25T10:16:50.264797Z",
     "iopub.status.busy": "2023-01-25T10:16:50.264263Z",
     "iopub.status.idle": "2023-01-25T10:16:50.271011Z",
     "shell.execute_reply": "2023-01-25T10:16:50.270254Z"
    },
    "papermill": {
     "duration": 0.024094,
     "end_time": "2023-01-25T10:16:50.272760",
     "exception": false,
     "start_time": "2023-01-25T10:16:50.248666",
     "status": "completed"
    },
    "tags": []
   },
   "outputs": [
    {
     "data": {
      "text/plain": [
       "0    men who have refused to listen toattend classe...\n",
       "1                                     take amerix next\n",
       "2    nah im good my masculinity health and wellness...\n",
       "3       there is no need for dating in the first place\n",
       "4    from what cos nothing is changing and if we go...\n",
       "5    i see you unblocked me one minute uko kwa amer...\n",
       "6    yes they are also those who can cook i would r...\n",
       "7    amerix once said the alcohol menace is wreckin...\n",
       "8         youre in eastafrica he probably knows amerix\n",
       "9                                                 heal\n",
       "Name: text_clean, dtype: object"
      ]
     },
     "execution_count": 24,
     "metadata": {},
     "output_type": "execute_result"
    }
   ],
   "source": [
    "df['text_clean'].head(10)"
   ]
  },
  {
   "cell_type": "code",
   "execution_count": 25,
   "id": "dabaf91f",
   "metadata": {
    "execution": {
     "iopub.execute_input": "2023-01-25T10:16:50.302502Z",
     "iopub.status.busy": "2023-01-25T10:16:50.302090Z",
     "iopub.status.idle": "2023-01-25T10:16:50.309198Z",
     "shell.execute_reply": "2023-01-25T10:16:50.308336Z"
    },
    "papermill": {
     "duration": 0.024117,
     "end_time": "2023-01-25T10:16:50.310946",
     "exception": false,
     "start_time": "2023-01-25T10:16:50.286829",
     "status": "completed"
    },
    "tags": []
   },
   "outputs": [
    {
     "data": {
      "text/plain": [
       "array(['take amerix next',\n",
       "       'nah im good my masculinity health and wellness are fine thank you',\n",
       "       'there is no need for dating in the first place',\n",
       "       'from what cos nothing is changing and if we got people who have heal and thy are healing the nation then its good cos men have got platform to empower each other and even you ladies have got platform to learn what men are sharing',\n",
       "       'i see you unblocked me one minute uko kwa amerixkibe mnasema marriage is a prison for menthe next your here blaming feminism for not getting wives one would assume given the first statement that men wouldnt want to marry kumbe it is the exact opposite mnashangaza',\n",
       "       'yes they are also those who can cook i would recognize one too bad he aint on twitterbut i dont know if i want to date i view amerixs page cant help but think how misled most men are and cant be suitable for me at all',\n",
       "       'amerix once said the alcohol menace is wrecking among the youths of kenya and especially the once productive rift valley province has drifted to alcoholismand if president moi was in power today he would have summoned all the chiefs and reprimand them for letting a generation'],\n",
       "      dtype=object)"
      ]
     },
     "execution_count": 25,
     "metadata": {},
     "output_type": "execute_result"
    }
   ],
   "source": [
    "df['text_clean'][1:8].values"
   ]
  },
  {
   "cell_type": "code",
   "execution_count": 26,
   "id": "27d00eb0",
   "metadata": {
    "execution": {
     "iopub.execute_input": "2023-01-25T10:16:50.341980Z",
     "iopub.status.busy": "2023-01-25T10:16:50.341436Z",
     "iopub.status.idle": "2023-01-25T10:16:50.637503Z",
     "shell.execute_reply": "2023-01-25T10:16:50.636793Z"
    },
    "papermill": {
     "duration": 0.314632,
     "end_time": "2023-01-25T10:16:50.639554",
     "exception": false,
     "start_time": "2023-01-25T10:16:50.324922",
     "status": "completed"
    },
    "tags": []
   },
   "outputs": [],
   "source": [
    "text_len = []\n",
    "\n",
    "for text in df.text_clean:\n",
    "    tweet_len = len(text.split())\n",
    "    text_len.append(tweet_len)"
   ]
  },
  {
   "cell_type": "code",
   "execution_count": 27,
   "id": "79ea1776",
   "metadata": {
    "execution": {
     "iopub.execute_input": "2023-01-25T10:16:50.671180Z",
     "iopub.status.busy": "2023-01-25T10:16:50.670651Z",
     "iopub.status.idle": "2023-01-25T10:16:50.721630Z",
     "shell.execute_reply": "2023-01-25T10:16:50.720491Z"
    },
    "papermill": {
     "duration": 0.070825,
     "end_time": "2023-01-25T10:16:50.724195",
     "exception": false,
     "start_time": "2023-01-25T10:16:50.653370",
     "status": "completed"
    },
    "tags": []
   },
   "outputs": [],
   "source": [
    "df['text_len'] = text_len"
   ]
  },
  {
   "cell_type": "code",
   "execution_count": 28,
   "id": "0a84a71e",
   "metadata": {
    "execution": {
     "iopub.execute_input": "2023-01-25T10:16:50.755524Z",
     "iopub.status.busy": "2023-01-25T10:16:50.754574Z",
     "iopub.status.idle": "2023-01-25T10:16:50.776931Z",
     "shell.execute_reply": "2023-01-25T10:16:50.776009Z"
    },
    "papermill": {
     "duration": 0.040954,
     "end_time": "2023-01-25T10:16:50.779653",
     "exception": false,
     "start_time": "2023-01-25T10:16:50.738699",
     "status": "completed"
    },
    "tags": []
   },
   "outputs": [
    {
     "data": {
      "text/html": [
       "<div>\n",
       "<style scoped>\n",
       "    .dataframe tbody tr th:only-of-type {\n",
       "        vertical-align: middle;\n",
       "    }\n",
       "\n",
       "    .dataframe tbody tr th {\n",
       "        vertical-align: top;\n",
       "    }\n",
       "\n",
       "    .dataframe thead th {\n",
       "        text-align: right;\n",
       "    }\n",
       "</style>\n",
       "<table border=\"1\" class=\"dataframe\">\n",
       "  <thead>\n",
       "    <tr style=\"text-align: right;\">\n",
       "      <th></th>\n",
       "      <th>tweet_created_at</th>\n",
       "      <th>text</th>\n",
       "      <th>Positive</th>\n",
       "      <th>Negative</th>\n",
       "      <th>Neutral</th>\n",
       "      <th>Compound</th>\n",
       "      <th>Sentiment</th>\n",
       "      <th>text_clean</th>\n",
       "      <th>text_len</th>\n",
       "    </tr>\n",
       "  </thead>\n",
       "  <tbody>\n",
       "    <tr>\n",
       "      <th>0</th>\n",
       "      <td>2022-12-30 22:37:46+00:00</td>\n",
       "      <td>Men who have refused to listen to/attend @amer...</td>\n",
       "      <td>0.000</td>\n",
       "      <td>0.073</td>\n",
       "      <td>0.927</td>\n",
       "      <td>-0.2960</td>\n",
       "      <td>Negative</td>\n",
       "      <td>men who have refused to listen toattend classe...</td>\n",
       "      <td>27</td>\n",
       "    </tr>\n",
       "    <tr>\n",
       "      <th>1</th>\n",
       "      <td>2022-12-30 22:30:58+00:00</td>\n",
       "      <td>@OvOBrezzzy Take amerix next</td>\n",
       "      <td>0.000</td>\n",
       "      <td>0.000</td>\n",
       "      <td>1.000</td>\n",
       "      <td>0.0000</td>\n",
       "      <td>Neutral</td>\n",
       "      <td>take amerix next</td>\n",
       "      <td>3</td>\n",
       "    </tr>\n",
       "    <tr>\n",
       "      <th>2</th>\n",
       "      <td>2022-12-30 22:18:00+00:00</td>\n",
       "      <td>@AyodeleYo11 @amerix Nah I’m good my masculini...</td>\n",
       "      <td>0.493</td>\n",
       "      <td>0.068</td>\n",
       "      <td>0.439</td>\n",
       "      <td>0.8271</td>\n",
       "      <td>Positive</td>\n",
       "      <td>nah im good my masculinity health and wellness...</td>\n",
       "      <td>12</td>\n",
       "    </tr>\n",
       "    <tr>\n",
       "      <th>3</th>\n",
       "      <td>2022-12-30 20:42:54+00:00</td>\n",
       "      <td>@Amerix_DontSimp There is no need for dating i...</td>\n",
       "      <td>0.000</td>\n",
       "      <td>0.180</td>\n",
       "      <td>0.820</td>\n",
       "      <td>-0.2960</td>\n",
       "      <td>Negative</td>\n",
       "      <td>there is no need for dating in the first place</td>\n",
       "      <td>10</td>\n",
       "    </tr>\n",
       "    <tr>\n",
       "      <th>4</th>\n",
       "      <td>2022-12-30 20:32:23+00:00</td>\n",
       "      <td>@DyeAnna7 @amerix @kibe From what cos nothing ...</td>\n",
       "      <td>0.110</td>\n",
       "      <td>0.000</td>\n",
       "      <td>0.890</td>\n",
       "      <td>0.6908</td>\n",
       "      <td>Positive</td>\n",
       "      <td>from what cos nothing is changing and if we go...</td>\n",
       "      <td>45</td>\n",
       "    </tr>\n",
       "  </tbody>\n",
       "</table>\n",
       "</div>"
      ],
      "text/plain": [
       "           tweet_created_at  \\\n",
       "0 2022-12-30 22:37:46+00:00   \n",
       "1 2022-12-30 22:30:58+00:00   \n",
       "2 2022-12-30 22:18:00+00:00   \n",
       "3 2022-12-30 20:42:54+00:00   \n",
       "4 2022-12-30 20:32:23+00:00   \n",
       "\n",
       "                                                text  Positive  Negative  \\\n",
       "0  Men who have refused to listen to/attend @amer...     0.000     0.073   \n",
       "1                       @OvOBrezzzy Take amerix next     0.000     0.000   \n",
       "2  @AyodeleYo11 @amerix Nah I’m good my masculini...     0.493     0.068   \n",
       "3  @Amerix_DontSimp There is no need for dating i...     0.000     0.180   \n",
       "4  @DyeAnna7 @amerix @kibe From what cos nothing ...     0.110     0.000   \n",
       "\n",
       "   Neutral  Compound Sentiment  \\\n",
       "0    0.927   -0.2960  Negative   \n",
       "1    1.000    0.0000   Neutral   \n",
       "2    0.439    0.8271  Positive   \n",
       "3    0.820   -0.2960  Negative   \n",
       "4    0.890    0.6908  Positive   \n",
       "\n",
       "                                          text_clean  text_len  \n",
       "0  men who have refused to listen toattend classe...        27  \n",
       "1                                   take amerix next         3  \n",
       "2  nah im good my masculinity health and wellness...        12  \n",
       "3     there is no need for dating in the first place        10  \n",
       "4  from what cos nothing is changing and if we go...        45  "
      ]
     },
     "execution_count": 28,
     "metadata": {},
     "output_type": "execute_result"
    }
   ],
   "source": [
    "df.head()"
   ]
  },
  {
   "cell_type": "code",
   "execution_count": 29,
   "id": "9ab6e746",
   "metadata": {
    "execution": {
     "iopub.execute_input": "2023-01-25T10:16:50.810243Z",
     "iopub.status.busy": "2023-01-25T10:16:50.809704Z",
     "iopub.status.idle": "2023-01-25T10:16:50.815268Z",
     "shell.execute_reply": "2023-01-25T10:16:50.814594Z"
    },
    "papermill": {
     "duration": 0.023069,
     "end_time": "2023-01-25T10:16:50.817240",
     "exception": false,
     "start_time": "2023-01-25T10:16:50.794171",
     "status": "completed"
    },
    "tags": []
   },
   "outputs": [
    {
     "data": {
      "text/plain": [
       "Index(['tweet_created_at', 'text', 'Positive', 'Negative', 'Neutral',\n",
       "       'Compound', 'Sentiment', 'text_clean', 'text_len'],\n",
       "      dtype='object')"
      ]
     },
     "execution_count": 29,
     "metadata": {},
     "output_type": "execute_result"
    }
   ],
   "source": [
    "df.columns"
   ]
  },
  {
   "cell_type": "code",
   "execution_count": 30,
   "id": "187c3a4f",
   "metadata": {
    "execution": {
     "iopub.execute_input": "2023-01-25T10:16:50.849018Z",
     "iopub.status.busy": "2023-01-25T10:16:50.848667Z",
     "iopub.status.idle": "2023-01-25T10:16:50.892798Z",
     "shell.execute_reply": "2023-01-25T10:16:50.891391Z"
    },
    "papermill": {
     "duration": 0.062259,
     "end_time": "2023-01-25T10:16:50.895760",
     "exception": false,
     "start_time": "2023-01-25T10:16:50.833501",
     "status": "completed"
    },
    "tags": []
   },
   "outputs": [],
   "source": [
    "df = df[['tweet_created_at', 'text', 'text_clean', 'Sentiment', 'text_len']]"
   ]
  },
  {
   "cell_type": "code",
   "execution_count": 31,
   "id": "56d4002f",
   "metadata": {
    "execution": {
     "iopub.execute_input": "2023-01-25T10:16:50.926375Z",
     "iopub.status.busy": "2023-01-25T10:16:50.925987Z",
     "iopub.status.idle": "2023-01-25T10:16:50.937674Z",
     "shell.execute_reply": "2023-01-25T10:16:50.937006Z"
    },
    "papermill": {
     "duration": 0.029155,
     "end_time": "2023-01-25T10:16:50.939426",
     "exception": false,
     "start_time": "2023-01-25T10:16:50.910271",
     "status": "completed"
    },
    "tags": []
   },
   "outputs": [
    {
     "data": {
      "text/html": [
       "<div>\n",
       "<style scoped>\n",
       "    .dataframe tbody tr th:only-of-type {\n",
       "        vertical-align: middle;\n",
       "    }\n",
       "\n",
       "    .dataframe tbody tr th {\n",
       "        vertical-align: top;\n",
       "    }\n",
       "\n",
       "    .dataframe thead th {\n",
       "        text-align: right;\n",
       "    }\n",
       "</style>\n",
       "<table border=\"1\" class=\"dataframe\">\n",
       "  <thead>\n",
       "    <tr style=\"text-align: right;\">\n",
       "      <th></th>\n",
       "      <th>tweet_created_at</th>\n",
       "      <th>text</th>\n",
       "      <th>text_clean</th>\n",
       "      <th>Sentiment</th>\n",
       "      <th>text_len</th>\n",
       "    </tr>\n",
       "  </thead>\n",
       "  <tbody>\n",
       "    <tr>\n",
       "      <th>0</th>\n",
       "      <td>2022-12-30 22:37:46+00:00</td>\n",
       "      <td>Men who have refused to listen to/attend @amer...</td>\n",
       "      <td>men who have refused to listen toattend classe...</td>\n",
       "      <td>Negative</td>\n",
       "      <td>27</td>\n",
       "    </tr>\n",
       "    <tr>\n",
       "      <th>1</th>\n",
       "      <td>2022-12-30 22:30:58+00:00</td>\n",
       "      <td>@OvOBrezzzy Take amerix next</td>\n",
       "      <td>take amerix next</td>\n",
       "      <td>Neutral</td>\n",
       "      <td>3</td>\n",
       "    </tr>\n",
       "    <tr>\n",
       "      <th>2</th>\n",
       "      <td>2022-12-30 22:18:00+00:00</td>\n",
       "      <td>@AyodeleYo11 @amerix Nah I’m good my masculini...</td>\n",
       "      <td>nah im good my masculinity health and wellness...</td>\n",
       "      <td>Positive</td>\n",
       "      <td>12</td>\n",
       "    </tr>\n",
       "    <tr>\n",
       "      <th>3</th>\n",
       "      <td>2022-12-30 20:42:54+00:00</td>\n",
       "      <td>@Amerix_DontSimp There is no need for dating i...</td>\n",
       "      <td>there is no need for dating in the first place</td>\n",
       "      <td>Negative</td>\n",
       "      <td>10</td>\n",
       "    </tr>\n",
       "    <tr>\n",
       "      <th>4</th>\n",
       "      <td>2022-12-30 20:32:23+00:00</td>\n",
       "      <td>@DyeAnna7 @amerix @kibe From what cos nothing ...</td>\n",
       "      <td>from what cos nothing is changing and if we go...</td>\n",
       "      <td>Positive</td>\n",
       "      <td>45</td>\n",
       "    </tr>\n",
       "  </tbody>\n",
       "</table>\n",
       "</div>"
      ],
      "text/plain": [
       "           tweet_created_at  \\\n",
       "0 2022-12-30 22:37:46+00:00   \n",
       "1 2022-12-30 22:30:58+00:00   \n",
       "2 2022-12-30 22:18:00+00:00   \n",
       "3 2022-12-30 20:42:54+00:00   \n",
       "4 2022-12-30 20:32:23+00:00   \n",
       "\n",
       "                                                text  \\\n",
       "0  Men who have refused to listen to/attend @amer...   \n",
       "1                       @OvOBrezzzy Take amerix next   \n",
       "2  @AyodeleYo11 @amerix Nah I’m good my masculini...   \n",
       "3  @Amerix_DontSimp There is no need for dating i...   \n",
       "4  @DyeAnna7 @amerix @kibe From what cos nothing ...   \n",
       "\n",
       "                                          text_clean Sentiment  text_len  \n",
       "0  men who have refused to listen toattend classe...  Negative        27  \n",
       "1                                   take amerix next   Neutral         3  \n",
       "2  nah im good my masculinity health and wellness...  Positive        12  \n",
       "3     there is no need for dating in the first place  Negative        10  \n",
       "4  from what cos nothing is changing and if we go...  Positive        45  "
      ]
     },
     "execution_count": 31,
     "metadata": {},
     "output_type": "execute_result"
    }
   ],
   "source": [
    "df.head()"
   ]
  },
  {
   "cell_type": "code",
   "execution_count": 32,
   "id": "6a7a62c1",
   "metadata": {
    "execution": {
     "iopub.execute_input": "2023-01-25T10:16:50.970789Z",
     "iopub.status.busy": "2023-01-25T10:16:50.970249Z",
     "iopub.status.idle": "2023-01-25T10:16:51.217115Z",
     "shell.execute_reply": "2023-01-25T10:16:51.216251Z"
    },
    "papermill": {
     "duration": 0.265611,
     "end_time": "2023-01-25T10:16:51.219772",
     "exception": false,
     "start_time": "2023-01-25T10:16:50.954161",
     "status": "completed"
    },
    "tags": []
   },
   "outputs": [
    {
     "data": {
      "image/png": "[encoded data removed]",
      "text/plain": [
       "<Figure size 504x360 with 1 Axes>"
      ]
     },
     "metadata": {},
     "output_type": "display_data"
    }
   ],
   "source": [
    "plt.figure(figsize=(7,5))\n",
    "\n",
    "ax = sns.countplot(x='text_len', data=df[df['text_len']<10], palette='mako')\n",
    "\n",
    "plt.title('Tweets with less than 10 words')\n",
    "plt.yticks([])\n",
    "ax.bar_label(ax.containers[0])\n",
    "\n",
    "plt.ylabel('count')\n",
    "plt.xlabel('')\n",
    "plt.show()"
   ]
  },
  {
   "cell_type": "code",
   "execution_count": 33,
   "id": "3ad82a4e",
   "metadata": {
    "execution": {
     "iopub.execute_input": "2023-01-25T10:16:51.262528Z",
     "iopub.status.busy": "2023-01-25T10:16:51.262153Z",
     "iopub.status.idle": "2023-01-25T10:16:51.267690Z",
     "shell.execute_reply": "2023-01-25T10:16:51.266870Z"
    },
    "papermill": {
     "duration": 0.02957,
     "end_time": "2023-01-25T10:16:51.269384",
     "exception": false,
     "start_time": "2023-01-25T10:16:51.239814",
     "status": "completed"
    },
    "tags": []
   },
   "outputs": [
    {
     "data": {
      "text/plain": [
       "(236023, 5)"
      ]
     },
     "execution_count": 33,
     "metadata": {},
     "output_type": "execute_result"
    }
   ],
   "source": [
    "df.shape"
   ]
  },
  {
   "cell_type": "code",
   "execution_count": 34,
   "id": "4857845f",
   "metadata": {
    "execution": {
     "iopub.execute_input": "2023-01-25T10:16:51.302309Z",
     "iopub.status.busy": "2023-01-25T10:16:51.301186Z",
     "iopub.status.idle": "2023-01-25T10:16:51.328595Z",
     "shell.execute_reply": "2023-01-25T10:16:51.327404Z"
    },
    "papermill": {
     "duration": 0.046393,
     "end_time": "2023-01-25T10:16:51.330965",
     "exception": false,
     "start_time": "2023-01-25T10:16:51.284572",
     "status": "completed"
    },
    "tags": []
   },
   "outputs": [],
   "source": [
    "df = df[df['text_len'] > 1]"
   ]
  },
  {
   "cell_type": "code",
   "execution_count": 35,
   "id": "652becdf",
   "metadata": {
    "execution": {
     "iopub.execute_input": "2023-01-25T10:16:51.362807Z",
     "iopub.status.busy": "2023-01-25T10:16:51.362392Z",
     "iopub.status.idle": "2023-01-25T10:16:51.369309Z",
     "shell.execute_reply": "2023-01-25T10:16:51.367885Z"
    },
    "papermill": {
     "duration": 0.026408,
     "end_time": "2023-01-25T10:16:51.372389",
     "exception": false,
     "start_time": "2023-01-25T10:16:51.345981",
     "status": "completed"
    },
    "tags": []
   },
   "outputs": [
    {
     "data": {
      "text/plain": [
       "(232974, 5)"
      ]
     },
     "execution_count": 35,
     "metadata": {},
     "output_type": "execute_result"
    }
   ],
   "source": [
    "df.shape"
   ]
  },
  {
   "cell_type": "code",
   "execution_count": 36,
   "id": "2b3cc720",
   "metadata": {
    "execution": {
     "iopub.execute_input": "2023-01-25T10:16:51.404822Z",
     "iopub.status.busy": "2023-01-25T10:16:51.404430Z",
     "iopub.status.idle": "2023-01-25T10:16:51.603686Z",
     "shell.execute_reply": "2023-01-25T10:16:51.602923Z"
    },
    "papermill": {
     "duration": 0.217486,
     "end_time": "2023-01-25T10:16:51.605699",
     "exception": false,
     "start_time": "2023-01-25T10:16:51.388213",
     "status": "completed"
    },
    "tags": []
   },
   "outputs": [
    {
     "data": {
      "image/png": "[encoded data removed]",
      "text/plain": [
       "<Figure size 504x360 with 1 Axes>"
      ]
     },
     "metadata": {},
     "output_type": "display_data"
    }
   ],
   "source": [
    "plt.figure(figsize=(7,5))\n",
    "\n",
    "ax = sns.countplot(x='text_len', data=df[df['text_len']<10], palette='mako')\n",
    "\n",
    "plt.title('Tweets with less than 10 words')\n",
    "plt.yticks([])\n",
    "ax.bar_label(ax.containers[0])\n",
    "\n",
    "plt.ylabel('count')\n",
    "plt.xlabel('')\n",
    "plt.show()"
   ]
  },
  {
   "cell_type": "code",
   "execution_count": 37,
   "id": "b41df7ed",
   "metadata": {
    "execution": {
     "iopub.execute_input": "2023-01-25T10:16:51.651332Z",
     "iopub.status.busy": "2023-01-25T10:16:51.650005Z",
     "iopub.status.idle": "2023-01-25T10:16:51.663700Z",
     "shell.execute_reply": "2023-01-25T10:16:51.662944Z"
    },
    "papermill": {
     "duration": 0.039471,
     "end_time": "2023-01-25T10:16:51.665591",
     "exception": false,
     "start_time": "2023-01-25T10:16:51.626120",
     "status": "completed"
    },
    "tags": []
   },
   "outputs": [
    {
     "data": {
      "text/html": [
       "<div>\n",
       "<style scoped>\n",
       "    .dataframe tbody tr th:only-of-type {\n",
       "        vertical-align: middle;\n",
       "    }\n",
       "\n",
       "    .dataframe tbody tr th {\n",
       "        vertical-align: top;\n",
       "    }\n",
       "\n",
       "    .dataframe thead th {\n",
       "        text-align: right;\n",
       "    }\n",
       "</style>\n",
       "<table border=\"1\" class=\"dataframe\">\n",
       "  <thead>\n",
       "    <tr style=\"text-align: right;\">\n",
       "      <th></th>\n",
       "      <th>tweet_created_at</th>\n",
       "      <th>text</th>\n",
       "      <th>text_clean</th>\n",
       "      <th>Sentiment</th>\n",
       "      <th>text_len</th>\n",
       "    </tr>\n",
       "  </thead>\n",
       "  <tbody>\n",
       "    <tr>\n",
       "      <th>0</th>\n",
       "      <td>2022-12-30 22:37:46+00:00</td>\n",
       "      <td>Men who have refused to listen to/attend @amer...</td>\n",
       "      <td>men who have refused to listen toattend classe...</td>\n",
       "      <td>Negative</td>\n",
       "      <td>27</td>\n",
       "    </tr>\n",
       "    <tr>\n",
       "      <th>1</th>\n",
       "      <td>2022-12-30 22:30:58+00:00</td>\n",
       "      <td>@OvOBrezzzy Take amerix next</td>\n",
       "      <td>take amerix next</td>\n",
       "      <td>Neutral</td>\n",
       "      <td>3</td>\n",
       "    </tr>\n",
       "    <tr>\n",
       "      <th>2</th>\n",
       "      <td>2022-12-30 22:18:00+00:00</td>\n",
       "      <td>@AyodeleYo11 @amerix Nah I’m good my masculini...</td>\n",
       "      <td>nah im good my masculinity health and wellness...</td>\n",
       "      <td>Positive</td>\n",
       "      <td>12</td>\n",
       "    </tr>\n",
       "    <tr>\n",
       "      <th>3</th>\n",
       "      <td>2022-12-30 20:42:54+00:00</td>\n",
       "      <td>@Amerix_DontSimp There is no need for dating i...</td>\n",
       "      <td>there is no need for dating in the first place</td>\n",
       "      <td>Negative</td>\n",
       "      <td>10</td>\n",
       "    </tr>\n",
       "    <tr>\n",
       "      <th>4</th>\n",
       "      <td>2022-12-30 20:32:23+00:00</td>\n",
       "      <td>@DyeAnna7 @amerix @kibe From what cos nothing ...</td>\n",
       "      <td>from what cos nothing is changing and if we go...</td>\n",
       "      <td>Positive</td>\n",
       "      <td>45</td>\n",
       "    </tr>\n",
       "  </tbody>\n",
       "</table>\n",
       "</div>"
      ],
      "text/plain": [
       "           tweet_created_at  \\\n",
       "0 2022-12-30 22:37:46+00:00   \n",
       "1 2022-12-30 22:30:58+00:00   \n",
       "2 2022-12-30 22:18:00+00:00   \n",
       "3 2022-12-30 20:42:54+00:00   \n",
       "4 2022-12-30 20:32:23+00:00   \n",
       "\n",
       "                                                text  \\\n",
       "0  Men who have refused to listen to/attend @amer...   \n",
       "1                       @OvOBrezzzy Take amerix next   \n",
       "2  @AyodeleYo11 @amerix Nah I’m good my masculini...   \n",
       "3  @Amerix_DontSimp There is no need for dating i...   \n",
       "4  @DyeAnna7 @amerix @kibe From what cos nothing ...   \n",
       "\n",
       "                                          text_clean Sentiment  text_len  \n",
       "0  men who have refused to listen toattend classe...  Negative        27  \n",
       "1                                   take amerix next   Neutral         3  \n",
       "2  nah im good my masculinity health and wellness...  Positive        12  \n",
       "3     there is no need for dating in the first place  Negative        10  \n",
       "4  from what cos nothing is changing and if we go...  Positive        45  "
      ]
     },
     "execution_count": 37,
     "metadata": {},
     "output_type": "execute_result"
    }
   ],
   "source": [
    "df.head()"
   ]
  },
  {
   "cell_type": "code",
   "execution_count": 38,
   "id": "d4616488",
   "metadata": {
    "execution": {
     "iopub.execute_input": "2023-01-25T10:16:51.699541Z",
     "iopub.status.busy": "2023-01-25T10:16:51.698880Z",
     "iopub.status.idle": "2023-01-25T10:17:01.743375Z",
     "shell.execute_reply": "2023-01-25T10:17:01.742089Z"
    },
    "papermill": {
     "duration": 10.063504,
     "end_time": "2023-01-25T10:17:01.745513",
     "exception": false,
     "start_time": "2023-01-25T10:16:51.682009",
     "status": "completed"
    },
    "tags": []
   },
   "outputs": [
    {
     "name": "stderr",
     "output_type": "stream",
     "text": [
      "2023-01-25 10:17:01.678815: I tensorflow/core/common_runtime/process_util.cc:146] Creating new thread pool with default inter op setting: 2. Tune using inter_op_parallelism_threads for best performance.\n"
     ]
    }
   ],
   "source": [
    "from transformers import BertTokenizerFast\n",
    "from transformers import TFBertModel\n",
    "from transformers import RobertaTokenizerFast\n",
    "from transformers import TFRobertaModel"
   ]
  },
  {
   "cell_type": "code",
   "execution_count": 39,
   "id": "d5dd1562",
   "metadata": {
    "execution": {
     "iopub.execute_input": "2023-01-25T10:17:01.783059Z",
     "iopub.status.busy": "2023-01-25T10:17:01.782180Z",
     "iopub.status.idle": "2023-01-25T10:17:07.771154Z",
     "shell.execute_reply": "2023-01-25T10:17:07.770072Z"
    },
    "papermill": {
     "duration": 6.009311,
     "end_time": "2023-01-25T10:17:07.773935",
     "exception": false,
     "start_time": "2023-01-25T10:17:01.764624",
     "status": "completed"
    },
    "tags": []
   },
   "outputs": [
    {
     "data": {
      "application/vnd.jupyter.widget-view+json": {
       "model_id": "66f400b177164177a820225a2be6f962",
       "version_major": 2,
       "version_minor": 0
      },
      "text/plain": [
       "Downloading:   0%|          | 0.00/28.0 [00:00<?, ?B/s]"
      ]
     },
     "metadata": {},
     "output_type": "display_data"
    },
    {
     "data": {
      "application/vnd.jupyter.widget-view+json": {
       "model_id": "dbedfd09c4cc47f0b63f0c3663c2b3cb",
       "version_major": 2,
       "version_minor": 0
      },
      "text/plain": [
       "Downloading:   0%|          | 0.00/226k [00:00<?, ?B/s]"
      ]
     },
     "metadata": {},
     "output_type": "display_data"
    },
    {
     "data": {
      "application/vnd.jupyter.widget-view+json": {
       "model_id": "389ba94d0fe84b4b89382fd369c15a6e",
       "version_major": 2,
       "version_minor": 0
      },
      "text/plain": [
       "Downloading:   0%|          | 0.00/455k [00:00<?, ?B/s]"
      ]
     },
     "metadata": {},
     "output_type": "display_data"
    },
    {
     "data": {
      "application/vnd.jupyter.widget-view+json": {
       "model_id": "6dd59b24d0cc46b6a5e95df1d2ba2499",
       "version_major": 2,
       "version_minor": 0
      },
      "text/plain": [
       "Downloading:   0%|          | 0.00/570 [00:00<?, ?B/s]"
      ]
     },
     "metadata": {},
     "output_type": "display_data"
    }
   ],
   "source": [
    "tokenizer = BertTokenizerFast.from_pretrained('bert-base-uncased')"
   ]
  },
  {
   "cell_type": "code",
   "execution_count": 40,
   "id": "b1d18e67",
   "metadata": {
    "execution": {
     "iopub.execute_input": "2023-01-25T10:17:07.810208Z",
     "iopub.status.busy": "2023-01-25T10:17:07.809428Z",
     "iopub.status.idle": "2023-01-25T10:17:39.563892Z",
     "shell.execute_reply": "2023-01-25T10:17:39.562399Z"
    },
    "papermill": {
     "duration": 31.775526,
     "end_time": "2023-01-25T10:17:39.566490",
     "exception": false,
     "start_time": "2023-01-25T10:17:07.790964",
     "status": "completed"
    },
    "tags": []
   },
   "outputs": [],
   "source": [
    "token_lens = []\n",
    "\n",
    "for txt in df['text_clean'].values:\n",
    "    tokens = tokenizer.encode(txt, max_length=512, truncation=True)\n",
    "    token_lens.append(len(tokens))\n",
    "    \n",
    "max_len=np.max(token_lens)"
   ]
  },
  {
   "cell_type": "code",
   "execution_count": 41,
   "id": "e134e18d",
   "metadata": {
    "execution": {
     "iopub.execute_input": "2023-01-25T10:17:39.600789Z",
     "iopub.status.busy": "2023-01-25T10:17:39.600408Z",
     "iopub.status.idle": "2023-01-25T10:17:39.606295Z",
     "shell.execute_reply": "2023-01-25T10:17:39.604991Z"
    },
    "papermill": {
     "duration": 0.025611,
     "end_time": "2023-01-25T10:17:39.608590",
     "exception": false,
     "start_time": "2023-01-25T10:17:39.582979",
     "status": "completed"
    },
    "tags": []
   },
   "outputs": [
    {
     "name": "stdout",
     "output_type": "stream",
     "text": [
      "MAX TOKENIZED SENTENCE LENGTH: 90\n"
     ]
    }
   ],
   "source": [
    "print(f\"MAX TOKENIZED SENTENCE LENGTH: {max_len}\")"
   ]
  },
  {
   "cell_type": "code",
   "execution_count": 42,
   "id": "113868be",
   "metadata": {
    "execution": {
     "iopub.execute_input": "2023-01-25T10:17:39.643978Z",
     "iopub.status.busy": "2023-01-25T10:17:39.643507Z",
     "iopub.status.idle": "2023-01-25T10:18:11.948768Z",
     "shell.execute_reply": "2023-01-25T10:18:11.947207Z"
    },
    "papermill": {
     "duration": 32.32614,
     "end_time": "2023-01-25T10:18:11.951786",
     "exception": false,
     "start_time": "2023-01-25T10:17:39.625646",
     "status": "completed"
    },
    "tags": []
   },
   "outputs": [
    {
     "name": "stdout",
     "output_type": "stream",
     "text": [
      "INDEX: 338, TEXT: yesanakuambia leo marriage is a scam kesho unaskia a man must have a family siku ingine amerix ameamka akasema never trust a man who doesnt have a babymama then again akarudi kusema ati its weak men who made these babymamas tweeps wanawezafanya uishi maisha mbaya\n",
      "INDEX: 19419, TEXT: kitu amerix amesaidia nayo watu sana ni kutufungulia macho we no longer simp bana i used to simp alot saa hizi bora nimesense hauwezikani hata kabla niambiwe naendanga dont waste your resources on someone who have no intention of commiting to you in any way\n",
      "INDEX: 33174, TEXT: househelps holiday releavers dayburg and cleaners available call0716253784 0721147366 0115836665 0788446796 0789419588 0757823747 waterfront karen peter drury president ruto humphrey kariuki azimio masculinitysaturday kisumu mzee baba congratulations sir ayew amerix\n",
      "INDEX: 47558, TEXT: get this hp revolve 810 g3 at 29999 this month callwhatsapp 0716 000565 get free hp headsets ichwareri citizen tv weston hotel juliana cherera ukambani state house nairobi cbd redmi amerix mainaandkingangi kenyans thika eliud kipchoge uhuru kericho jeremiah kioni\n",
      "INDEX: 66627, TEXT: this mug shows your picturesmessage when warm drink is added amp remains black when emptyksh 800 callwhatsapp 0718397521 delivery countrywide free nairobi cbd elon musk masculinitysaturday amerix gachagua miguna safaricom mpesa ruto wetangula azimio nhif kisumu paye murega\n",
      "INDEX: 69073, TEXT: pay on delivery countrywide hp elitebook x360 1030 g3 133 touchscreen lcd 2 in 1 laptop intel core i5 8th gen i58650u 8gb lpddr3 ram 256gb pcie nvme m2 ssd 133 windows 11 ksh48000 254 713 441634 riggyg amerix tate odinga eldoret obina nairobi\n",
      "INDEX: 69081, TEXT: amerix murife thierry henry andrew tate kisumu eldoret riggy g salim mvurya homabay winnie odinga bungoma get ps5 standard 1padfifa 21 75k ps5 standard2pads fifa 22 85k ps5 standard2pads fifa 22 90k ps5 standard 2pads 80k call or text 0743970341\n",
      "INDEX: 69144, TEXT: hi guyswe selling hp elitebook 840 g3 corei5 6th gen 16 gb 256gb ssd at 26999 we deliver country widereach us on 0711686637 retweet our buyer may be on your timeline riggy g murife amerix nairobi homa bay javascript coding 100daysofncode mainaandkingangi follow\n",
      "INDEX: 72272, TEXT: sad for this to have happened in nyamira county even if you hate someone why do this to a cow god forbid kibe impeachment kanini kega peninah malonza tuya muhoozi ruto wetangula azimio raila sakaja amerix safaricom eala thika road kplc meru send money for free mcas kisii\n",
      "INDEX: 73132, TEXT: 2 days left get 25 off hp elitebook 840 g3 core i5 8gb 256gb ssd callwhatsapp 0716000565 mudavadi machakoscountyexposed ichaweri chebukati eldoret nakuru riggy g mombasa nairobi river grade 6 ronaldo round of 16 somali spaceyamagari alai manday apple kibra\n",
      "INDEX: 73133, TEXT: 2 days left get 21 off hp elitebook850 g5 i7 32gb 512gb 156 fhd callwhatsapp 0716000565 mudavadi machakoscountyexposed ichaweri chebukati eldoret nakuru riggy g mombasa nairobi river grade 6 ronaldo round of 16 somali spaceyamagari alai manday apple\n",
      "INDEX: 73134, TEXT: 2 days left get 35 off hp 1030 g2 x360 core i7 16gb 512gb 133touch callwhatsapp 0716000565 mudavadi machakoscountyexposed ichaweri chebukati eldoret nakuru riggy g mombasa nairobi river grade 6 ronaldo round of 16 somali spaceyamagari alai manday apple\n",
      "INDEX: 158910, TEXT: phone repair screenbatterybackcasing replacement tabipadiphone amp all phones contact 0728934747 accra rdraiciri hs2nd flr rm208 tshala muana 3 gb ikokazike raila odinga arabs kylian mbappe rest in peace masculinitysaturday wajir uthiru pinocchio bible teach north pole\n",
      "INDEX: 158911, TEXT: brand new hp 240 laptops core i3 1tb hard disk 4gb ram widows 11 1yr warranty contact 0728934747 accra rdraiciri hs2nd flr rm208 tshala muana 3 gb ikokazike raila odinga arabs kylian mbappe rest in peace masculinitysaturday wajir uthiru one million spotify streams\n",
      "INDEX: 158950, TEXT: weightloss and tummy seeds pack of 10 seeds at 500ksh you take thrice a week for two months contact 0759134717 jamhuri day masculinitysaturday uthiru 3 gb de jong smash eastleigh atwoli china the us kplc mpesa uthiru naivasha westlands ruto chebukat kalonzo morocco\n",
      "INDEX: 160100, TEXT: ni end month weekendsalary ishaa ingiafuliza limit ishaa pandahustler fund imekumbalimrembo amekubali sleepover kabaridi kamekubali kujiongeza kwa mixif this is youplease show us how to pray and what side to face while praying 30trilliongang kariuki masculinitysaturday\n",
      "INDEX: 160825, TEXT: gorgeous mma2022 mpesago mumbaiterrorattack messi midterms2022 mama2022 morbibridgecollapse masculinitysaturday gpay googledoodle google gore gorgerous gorge m nft newjeansatmma nsfwtw newjeans nasaanangpangulo newcenladxbiblebuild naseemshah nct\n",
      "INDEX: 160986, TEXT: on 10th naivasha mpesago sammyboykenya worldcupqatar2022 worlds2022 masculinitysaturday shortsisbetter youtubeshorts metro james bloodandwater igf2022 fauzietoursandtravel fauzietours funandbeyond twendesitevisit zurukenya magicalkenya tembeakenya dm for booking\n",
      "INDEX: 161030, TEXT: samsung a23 screen66inch camera50mp8mp2mp2mp front13mp android 12 ram4gb storage12864gb battery5000mah contact 0728934747 accra rdraiciri hs2nd flr rm208 churches disbandneanow bloodandwater alfred mutua masculinitysaturday ikokazi gachagua elon phone samsung\n",
      "INDEX: 161836, TEXT: meja mwangis soft copies pdfs the mzungu boy kill me quick cocroach dance carcass for hounds going down river road each book ksh 50all at ksh 200 dm if interested benji lgbtq raila masculinitysaturday kibe top g gachagua maize kitale africans takeoff whatsapp tmall kiambu\n",
      "INDEX: 162648, TEXT: meja mwangis soft copies pdfs the mzungu boy kill me quick cocroach dance carcass for hounds going down river road each book ksh 50all at ksh 200 dm if interested bahati masculinitysaturday martha karua doggy devki riggy g fear women gmos mombasa mini led tv in kenya psvs\n",
      "INDEX: 163610, TEXT: genuine isuzu king pin kit for nqr 43 is now on sale get it for sh17250 only at lilmotors and we will deliver it for free call or whatsapp us on 254720774235 email spares isuzu isuzuparts isuzunqr kingpinkit kdj 037g masculinitysaturday\n",
      "INDEX: 164186, TEXT: ruracio for a kamba chick 84 goats 12 cows 3 water tanks 100k lts 3 beer crates 40 lts of kaluvu 100kg sugar 2 debes of honey mukwa sh300k mzees fimbo sh100k mzees coat sh50k bows amp arrows sh50k parents bahasha sh500k for wazee sh20k greencard masculinitysaturday\n",
      "INDEX: 164844, TEXT: 8 masculinitysaturday walked back to another lady pleaded with hertafadhali mshow tu huyo madam alikua amenishika mi nitampea 1k tu roho safi anipee phone niende job made some turns with her in search but wapi huyo ashapotea time aliishika tu machos and what do i do\n",
      "INDEX: 166827, TEXT: cooking gas 6kg will drop from sh1450 ksh to 1000 ksh 13kg will drop from sh3000 ksh to sh2650 ksh unga 2kg will drop from 213 ksh to 156 ksh bottomup rais ni ruto moses kuria nabii kericho muregu baechu masculinitysaturday baby pendo\n",
      "INDEX: 167614, TEXT: amollo jailed for 8yrs amollo faced nyayo house to amollo has been teargassed for yrs amollo is the luo nyanza and luo nyanza is amollo miguna was detained in cell for 6 hrs and he has cried for 5 yrswhat a woman he is kinotiababu namwambamasculinitysaturdaytuchel\n",
      "INDEX: 168915, TEXT: what if dk was like a pencil the more inatumika the more it gets short and psy was like a pit latrine the more it get used inajaa kuna wengi wenu izo vikochozi zenu zingekuwa useless sai masculinitysaturday joe ageyo ababu namwamba mithika linturi migunamiguna\n",
      "INDEX: 170023, TEXT: yeah lets accept that ecconomy its not a dream to drop in abrink of an eye bt give the government time and see the caperbility of thier hardwork and knoledge ksh 1 dci boss somalis gikomba thika masculinitysaturday ida odinga joseph kinyua salt luo nyanza livmci george mwangi\n",
      "INDEX: 170373, TEXT: george mwangi oburu dm or whatsapp luo nyanza masculinitysaturday hp spectre 15 x360 10th gen core i7 16gb ram 512gb ssd 2gb nvidia geforce mx250 dedicated graphics 8gb intel uhd graphics 15 5k oled screen 1usb port 1 thunderbolt usb c port 1 usb c port hdmi p\n",
      "INDEX: 170743, TEXT: alai is very right women have flooded clubs than men women cant compete with men women have lost morals kabsa matatasautisol bloodgroupchanged fofana mdvd haji afande kinoti muhoozi 19 kiambu nobraday2022 kiraitu kanze laikipia mohammed nanok masculinitysaturday amerix\n",
      "INDEX: 171113, TEXT: if you are a lady try your best and get married between 22 rs amp 29 yrs this is the prime age in which u can get kids but u r also energetic to take care of them and hv fun ndindi nyoro tamasha eldoret shakira chebukati masculinitysaturday kasarani thika waititu julie soweto\n",
      "INDEX: 171297, TEXT: lenovo thinkpad 14 inch led screen intel core i7 storage 8gb ram256gb ssd speed upto 35ghz windows 10 price 42000 call whatsapp 0701846097 dm masculinitysaturday chelsea tamasha eldoret vdj jones clout azimio omosh chebukati wetangula dubai liverpool\n",
      "INDEX: 171375, TEXT: hi guyswe selling hp elitebook 820 corei5 8gb 500gb at 17999 we deliver country widereach us on 0711686637 retweet our buyer may be on your timeline masculinitysaturday verasidika william chepkut oscar sudi ichaweri sudi tuju coding javascript gainwithme tems mazee\n",
      "INDEX: 172214, TEXT: lenovo thinkpad 14 inch led screen intel core i7 storage 8gb ram256gb ssd speed upto 35ghz windows 10 price 42000 call whatsapp 0701846097 dm masculinitysaturday chelsea tamasha eldoret vdj jones clout azimio omosh chebukati wetangula dubai liverpool\n",
      "INDEX: 172220, TEXT: good morning from your trusted wristbands plug omosh kimilili tamasha eldoret azimio happy sabbath verasidika omosh biden pombeyausiku south africa masculinitysaturday sharon medikal ig100club president uhuru kenyatta quavo azimio tamasha eldoret kanye fave tems\n",
      "INDEX: 173666, TEXT: sold and delivered to a farmer based in kilome makueni county if also interested in such dairy cowsincalf heifers call or whatsapp0705366836 naivasha museveni masculinitysaturday orengo kinoti kikuyu riggyg kenyans rentyakekejayako russia putin and biden jurgen klopp nato\n",
      "INDEX: 175844, TEXT: grade a exsingapore hp elitebook 830 g5 intel core i3 8th gen 8gb ram 256gb ssd 133 full hd display backlit keyboard hdmi typec 2xusb rj45 ethernet port 6 months warranty available at ksh32000 0703240655 murkomen nyegenyege2022 masculinitysaturday\n",
      "INDEX: 176003, TEXT: training with the champions wanna know how it feels join us kindly dm riggy g tiktokdown masculinitysaturday tanzania sifuna nyegenyege2022 azimio mombasa baba the 6th isaac ruto nikujaributu teargasonnrg sudi tttt mzee duale moses kuria cabinet unga toto kenya kwanza\n",
      "INDEX: 176014, TEXT: do you think theres a gym in kenya bigger than us think again riggy g tiktokdown masculinitysaturday tanzania sifuna nyegenyege2022 azimio kindly dm mombasa baba the 6th isaac ruto drinkbetternotmore nikujaributu teargasonnrg sudi tttt mzee duale moses kuria cabinet\n",
      "INDEX: 176034, TEXT: mahogany panel doors kingposts staircase balustrades amp steps riggy g tiktokdown masculinitysaturday tanzania sifuna nyegenyege2022 azimio kindly dm mombasa baba the 6th isaac ruto drinkbetternotmore nikujaributu teargasonnrg sudi tttt mzee duale moses kuria cabinet\n",
      "INDEX: 176259, TEXT: masculinitysaturday nyegenyege22 jakadalatreasuregardens riddimvybzk24 nameless president ruto hp elitebook 1030g2 7th generation x360touch screen intel co i5 8gb ram 256gb ssd backlight keybord 14 inch windows 10 pro 64bits ksh 48500 0706 899 875\n",
      "INDEX: 176447, TEXT: phone repairs screenbackglass amp batteries s8 s9 s20 s21 note series etc contact0728934747 visit our office accra rdraiciri hs2nd floor rm208 dr ruto thika masculinitysaturday babaman red alert satan siaya haiya senior citizen nyegenyege2022 mombasa nakuru kisii kiambu road\n",
      "INDEX: 176689, TEXT: the panel characteristic that we used was a 540wp jinko solar which has stc540wp noct 402wp vmp 3880v voc4665v imo1055a isc 1119a module fficiency stc 2094 nameless red alert githeri media nyegenyege2022 senior citizen kericho masculinitysaturday tanzania\n",
      "INDEX: 176807, TEXT: god did againplease retweet iphone14pro cali mainaandkingangi southgatereuben kigamebeiyajionirachel rutowilliansudipogbagitheri mediaus embassybailavinijr gilbeys mombasangong racecoursesouth cnyegenyege2022 karua masculinitysaturdayred alert\n",
      "INDEX: 177006, TEXT: lenovo thinkpad 14 inch led screen intel core i7 storage 8gb ram256gb ssd speed upto 35ghz windows 10 price 42000 call whatsapp 0701846097 masculinitysaturday red alert nipee oscar sudi esir saudi arabia mzee gilbeys mombasa kenya kwanza kiambu road pogba\n",
      "INDEX: 179288, TEXT: what will happen if a run off is done and smartmartic refuses to open the servers again wale lawyer warefuwacute wamevaa miwani wajibu hii eldoret monday the 5th scork nakuru kalenjins saudi arabia otiende amollo dennis nkarichia masculinitysaturday mahat kiraitu murungi\n",
      "INDEX: 179511, TEXT: what wooden products are you searching for enquiry 0707024100 location gikomba nairobi amp witeithie thika nakuru monday the 5th smartmatic bondo form34a alai mutai eldoret kalenjins dj bash george njoroge us embassy masculinitysaturday babathe5th otiende amollo junet ruto\n",
      "INDEX: 179988, TEXT: filmora 11 crack lovelive lucas luis4mas luissequeda lulaeoptjano1turno lulanojn lummox maratoncdmx marchaporelrechazo marchasporcristina masculinitysaturday maskedsingerau mcicry mebogretmenidinle mecidiyeky meemnfcgol meemnfc1\n",
      "INDEX: 180060, TEXT: filmora 11 crack masculinitysaturday maduriyetlerbitsin mcicry mebogretmenidinle meemnfcgol meemnfc1 milanbologna mlbxteleven mostrequestedlive mourinho mtn8 mtnpulsetransform muertecruzada mufc mujeresconabel mwch2022 nascar\n",
      "INDEX: 180246, TEXT: filmora 11 crack martinpradenasviolador masculinitysaturday maduriyetlerbitsin mcicry mebogretmenidinle mebpromosyondemesi meemnfcgol meemnfc1 metaverse mind4eve money monzaudinese mtn8 mtnpulsetransform muertecruzada mufc\n",
      "INDEX: 180292, TEXT: 4br all ensuite apt 2916sqft and with a dsq in kileleshwa with 5 balconies selling at kshs 386m call mary 254 0722638873 to view and book themarquisinkileleshwa apartmentsforsaleinnairobi kenya masculinitysaturday greatvalue housing rihanna size8 checkdm djmo\n",
      "INDEX: 180299, TEXT: 3br all ensuite apt 2452sqft and with a dsq in kileleshwa with 3 balconies selling at kshs 3368m call mary 254 0722638873 to view themarquisinkileleshwa apartmentsforsaleinnairobi kenya masculinitysaturday greatvalue housing rihanna size8 checkdm djmo\n",
      "INDEX: 180399, TEXT: lenovo core i78gb ram256gb ssd ksh 39499 only call 0706108634 to order trends juliana cherera size 8 dj mo itumbi marjan manchester united alai masculinitysaturday antony luo nyanza manunited qrabs junet and joho malacia de gea babu owino martinez mombasa mubs tape\n",
      "INDEX: 180408, TEXT: filmora 11 crack macron malazgirtzaferi malmff manchesterpride2022 martinpradenasviolador masculinitysaturday mastrangelo maduriyetlerbitsin mebogretmenidinle mebpromosyondemesi meemnfcgol meemnfc1 metaverse metsdubarbeucdansuntitre\n",
      "INDEX: 180586, TEXT: fridgefreezer repairs spares amp parts call 0722 807 615 0 casemiro and ronaldo greenwood kinoti here we go size 8 clout matiangi cristiano masculinitysaturday form 34as embakasi east ndindi nyoro memphis depay no maguire meru saitabao luo nyanza neves whatsapp luos\n",
      "INDEX: 180809, TEXT: you already know where to get the best mahogany doors for orders 0707024100 location gikomba nairobi amp witeithie thika road nhif kiems junet joho gilbeys masculinitysaturday form 34as gideon moi limuru embakasi east beiyajioni itumbi 54 lawyers sudi meru uganda iebc nhif\n",
      "INDEX: 180889, TEXT: our doors are well guaged amp seasoned for orders 0707024100 location gikomba nairobi amp witeithie thika road matiangi gladys wanga itumbi 54 lawyers whatsapp kamiti raila david achieng sudi nhif kiems beiyajioni embakasi east limuru gideon moi masculinitysaturday form 34as\n",
      "INDEX: 181043, TEXT: whatsapp guys lenovo thinkpad 14 inch led screen intel core i7 storage 8gb ram256gb ssd speed upto 35ghz windows 10 price 42000 call whatsapp 0701846097 babu owino 54 lawyers chebukati kamito david ochieng fuliza gladys wanga sudi ausvrsa masculinitysaturday\n",
      "INDEX: 181495, TEXT: hp elitebook touchscreen intel core i5 speed upto 35ghz storage 8gb ram256gb ssd size 12 5 inches price 30000 call whatsapp 0701846097 masculinitysaturday 54 lawyers fuliza kamiti chebukati keims david ochieng arsful southampton sudi kisumu soumun chelei ajax\n",
      "INDEX: 181527, TEXT: hot deal hp elitebook 810 touchscreen core i5 speed upto 35ghz 8gb ram256gb ssd 116 inch price 25000 call whatsapp 0701846097 whatsapp mammito chebukati 54 lawyers noor gabow jpeg masculinitysaturday welcome to chelsea ucldraw rhemafeast2022\n",
      "INDEX: 182073, TEXT: hp elitebook 14 inches intel core i5 storage 4gb ram500gb hdd speed 23ghz battery life 4hrs with windows 10 pro and office very clean price ksh28000 contact 0717040531 masculinitysaturday vasectomykesseswafula chebukatihayat hotelmarthakaruaazimio mpsnursesdrruto\n",
      "INDEX: 182212, TEXT: sony s700rf 1000w 2 tall boys soundbar ksh54500 pay on delivery countrywide 0721750188 cookie house accra rd opp tuskys 5th flr sn505lift available kalonzo musyoka kirinyaga masculinitysaturday form34as tony moturi wafula chebukati assimio azimio mps karen\n",
      "INDEX: 182224, TEXT: hisense 9kgs front load washing machine ksh50500 pay on delivery countrywide 0721750188 cookie house accra rd opp tuskys 5th flr sn505lift available kalonzo musyoka kirinyaga masculinitysaturday form34as tony moturi wafula chebukati assimio azimio mps karen\n",
      "INDEX: 182226, TEXT: truck safari beachcamping and party of the year dianigtgtgtgtzanzibargtgtgtgtdaresalam reserve your slot with 20000 and pay the balance as you wish whatsapp 254115083259 kalonzo musyoka kirinyaga masculinitysaturday form34as tony moturi wafula chebukati assimio azimio mps\n",
      "INDEX: 182236, TEXT: tcl 43inch p735 smart 4k hdr google tv ksh39500 pay on delivery countrywide 0721750188 cookie house accra rd opp tuskys 5th flr sn505lift available kalonzo musyoka kirinyaga masculinitysaturday form34as tony moturi wafula chebukati assimio internetdown karen\n",
      "INDEX: 183199, TEXT: even the azimio politburo amp lieutenants know things are not going well electionske2022 william ruto dp ruto cs magoha imewezekana etihad gatundu south kicc martha karua cecily mbarire 34as national assembly naivasha luos masculinitysaturday simba arati fatuma achani wewe\n",
      "INDEX: 183282, TEXT: 7 months old male maltese terrier puppy available for rehoming namespike vaccination amp dewormingupto date locationkikuyu deliveryavailable how to book 07888074250729039995eddy 07247391890737330105givan masculinitysaturday waititu concede odinga manyora\n",
      "INDEX: 183815, TEXT: clean lenovo ideapad v14 10th generation intel core i3 storage 1tb hard disk 4gb ram ddr4 size 14 inches price ksh35000 call whatsapp 0701846097 kenyakwanzamegarally nyayostadium azimiograndfinale kasarani liverpool solomon mkubwa gabriel jesus masculinitysaturday\n",
      "INDEX: 183906, TEXT: hp elitebook 840 full hd 1080 antiglare intel core l7 storage 8gb ram256gb ssd speed 28ghz windows 10 pro amp microsoft office price ksh 38000 call whatsapp sms 0701846097 repentancebringshealing coyg gabriel jesus kenyadecides2022 ruto raila masculinitysaturday\n",
      "INDEX: 183907, TEXT: the day shell get new boyfriend she will forget all the good you did to her masculinitysaturday kasarani kenyadecides2022 teargasonnrg enoughisenough firimbifest nyayostadium kurakwaruto kenyakwanzamegarally bbnajias7 jklive azimiograndfinale drinkbetternotmore\n",
      "INDEX: 184192, TEXT: microsoft surface pro 4 123 screen intel core i5 4gb memory 128gb ssd cracked screen but fully working ksh 35000 call text whatsapp 0706358332 0726024022 chebukati ndindi nyoro kinoti azimio kenyakwanzamegarally votebluenomatterwho kasarani masculinitysaturday\n",
      "INDEX: 184195, TEXT: hp elitebook 840 full hd 1080 antiglare intel core l7 storage 8gb ram256gb ssd speed 28ghz windows 10 pro amp microsoft office price ksh 38000 call whatsapp sms 0701846097 repentancebringshealing coyg gabriel jesus kenyadecides2022 ruto raila masculinitysaturday\n",
      "INDEX: 184451, TEXT: ive never had more than 31 likes in any post it takes me about 3hrs to sew one bag call 0795381914 nakuru safaricom kenya kwisha hassan omar westlands nikujaributu masculinitysaturday kakamega ruto raila uda azimio drinkbetternotmore kenyatta kuzimia drinkbetternotmore\n",
      "INDEX: 184548, TEXT: well vetted house help available and ready to report to work immediately for placement please call 0115836665 0721147366 0716253784 0789419588 0788446796 ndindi nyoro nakuru kikuyus kinoti uhuru kisimu masculinitysaturday enough is enough diana marua princewilliamaffair\n",
      "INDEX: 184843, TEXT: beautiful masculinitysaturday afternoon have you bought yourself 1 or 2 of these 6x6 fleece blankets going for only ksh2000 callwhatsapp 0711699704 muiltipurpose long lastingdecorativeeasy carewarm and cozy with a velvet soft touch ndindi nyoro kikuyus sonko azimio\n",
      "INDEX: 185152, TEXT: well vetted house help available and ready to report to work immediately for placement please call 0115836665 0721147366 0716253784 0789419588 0788446796 ndindi nyoro nakuru kikuyus kinoti uhuru kisimu masculinitysaturday enough is enough diana marua princewilliamaffair\n",
      "INDEX: 185564, TEXT: the long awaited hike is here see you on 3oth july here we go fauzietours fauzietoursandtravel zurukenya magicalkenya kenyinanitosha wajackoyathe5th kilimambogo hike masculinitysaturday doggy theboystv presidentialdebateske2022 nakuru meru kante odinga uhuru silva\n",
      "INDEX: 185804, TEXT: wailing soulsjah jah give us life to live marthakaruaonkbc jkia mary moraa cooperative university atpu duchessoftights obado babu owino themorningafter masculinitysaturday presidentialdebateske2022 bbnaija sdcc2022 onepiece1054 buildjakapan raila ruto wajackohay amerix\n",
      "INDEX: 186093, TEXT: cartoon themed duvets 1xduvet 1xbedsheet 1xpillow case size 4x6 price 3200kshs dm or whatsapp 0720757096 to place your order free delivery within cbd ssot atpu obado slyvia wanjiku masculinitysaturday munavl themorningafter ten hag de gea\n",
      "INDEX: 187086, TEXT: we have well vetted house helps countrywide ready to work immediately for placement please call 0788446796 0115836665 0721147366 0716253784 0789419588 kiambu hussein omanyala therutopromise breaking news sonko faith kipyegon kyallokulture masculinitysaturday hivdeleted\n",
      "INDEX: 187369, TEXT: we have well vetted house helps countrywide ready to work immediately for placement please call 0788446796 0115836665 0721147366 0716253784 0789419588 kiambu hussein omanyala therutopromise breaking news sonko faith kipyegon kyallokulture masculinitysaturday hivdeleted\n",
      "INDEX: 187370, TEXT: we have well vetted house helps countrywide ready to work immediately for placement please call 0788446796 0115836665 0721147366 0716253784 0789419588 kiambu hussein omanyala therutopromise breaking news sonko faith kipyegon kyallokulture masculinitysaturday hivdeleted\n",
      "INDEX: 187624, TEXT: 4br 3 ensuite house in runda on 05 of an acre selling at kshs 95m call 254 722638873 to view this week omanyala sonko hivdeleted faithkipyegon mamacitachallenge countryqueenkenya masculinitysaturday biden asuustrike darvodepp ethereum femboy\n",
      "INDEX: 188334, TEXT: which one is more likely to happen on 9th august 30 days from now when iebc amp chebukati declares a winner 1 dp william ruto of kenya kwanza to sugoi 2 raila odinga of azimio to bondo kenyakwanza azimiolaumoja kenyadecides azimioinkakamega kikuyus masculinitysaturday\n",
      "INDEX: 188766, TEXT: hp elitebook revolve 810 g3 intel core i5 8gb ram 256gb ssd 13 inches touchscreen backlit keyboard ksh22000 call us 0727460167 kimathi chambers 2nd flr suite 9 kimathi strt eid mubarak masculinitysaturday nzlvire ulizarutoktn safetoride all blacks elon musk shinzoabeshot\n",
      "INDEX: 189320, TEXT: cartoon themed duvets 1xduvet 1xbedsheet 2xpillow cases size 4x6 price 3000kshs dm or whatsapp 0720757096 to place your order free delivery within cbd masculinitysaturday phyllis fred matiang nketiah elon musk mathari migoridecides azimioinkakamega\n",
      "INDEX: 190740, TEXT: hp elitebook 840 g5 14 full hd fhd business laptop intel quadcore i78550u 8gb ddr4 512gb pcie nvme m2 ssd fingerprint backlit thunderbolt bampo audio hdmi windows 10 pro ksh65000ksh to order 0711392562 pay on delivery country wide masculinitysaturday nhif\n",
      "INDEX: 190988, TEXT: hp 348 g4 i5 7th gen 27ghz 500gb 8gb dvdrw 14 w10 pro 3556 cm display for your daily needs this laptop is powered by intel core i57200u processor coupled with 8 gb of ram and has 500gb hdd ksh 32000 doggy sakaja ronaldotochelsea masculinitysaturday ungakwanza\n",
      "INDEX: 192007, TEXT: 5acres to 200acres of prime land with clean amp valid title deeds available for sale along mombasa road in sultan hamud for only kes 25million per acre to buy 0700 224455 0711224455 or whats app 254 789 796296 kedong feeltheroar mombasa doggy satan masculinitysaturday\n",
      "INDEX: 193256, TEXT: laptop tablet 22999 ksh price slashed 0711686637 hp revolve 810 touchscreen corei5 8 gb ram 256 gb ssd convertible to atablet factory refurbished student id masculinitysaturday tim wanyonyi tiktok wajackoyathe5th kiambu 100daysofcode azimio itumbi amerix coding\n",
      "INDEX: 194289, TEXT: samsung galaxy a71 128gb 1 year warranty shop located at imenti house callwhatsapp0711203106 wajackoyahthe5th opengoodtimes boston announce nunez crypto stockmarketcrash arabs masculinitysaturday cj koome thiago klay draymond ralf rangnick andrew wiggins rodri\n",
      "INDEX: 194566, TEXT: acer veriton x4650g small form factor sff intel core i5 4gb ram 500gb hdd 319ghz 6th gen hdmi port ksh18000 0759209554 stores located at family trade centre building shop f5 masculinitysaturday wajackoyahthe5th omoke kenya kwisha happy sabbath narok toto\n",
      "INDEX: 195270, TEXT: mounting and framing photos call02080528870727263242 size a5 600sh size a4 800sh size a3 1400sh size a3 1500sh size a2 2700sh size a1 4500sh size ao 9000sh zimbabwe masculinitysaturday kalonzo citizen tv bbnaijareunion mike sonko atwoli kisumu gikomba south b\n",
      "INDEX: 196013, TEXT: 1 month old rottweiler puppies available for booking each rehoming age253 months old after full vaccination amp deworming males3 females5 bookings 07888074250729039995eddy 07247391890737330105givan zimbambwe alchemist masculinitysaturday martha masimba\n",
      "INDEX: 196751, TEXT: 5 br all ensuite duplex with stunning views of kileleshwa nairobi kenya in a gated community selling at kshs 724m call mary 254 722638873 fenty igathe jules masculinitysaturday 100daysofcode sherpratikwillconquerkkk12 allthebestfaisufork monkeypox\n",
      "INDEX: 196946, TEXT: a customized solid flush door amp mahogany frames delivery for enquiriesorders 0707024100 location gikomba nairobi amp witeithie thika mombasa sakaja iebc oscar sudi uganda iniesta fool ruto ikokazike masculinitysaturday rigathi atwoli azimio andrewkibe itumbi miguna tawe\n",
      "INDEX: 197104, TEXT: who hates great looking floor weve got it for enquiries amp orders 0707024100 location gikomba nairobi amp witeithie thika trans nzoia masculinitysaturday ikokazike sudi teargasonnrg martha mauritius eacc iebc the fifa fenty waititu baba kemsa igkenya ruto raila uhuru moi\n",
      "INDEX: 197874, TEXT: we get your floors in new good shape for enquiriesorders amp free quotations 07070241000740288009 location gikomba nairobi amp witeithie thika meru teachers college oscar sudi obado masculinitysaturday inawezekana kenya7s basmati kidero ramos saka kibicho toto rigathi\n",
      "INDEX: 201762, TEXT: redmi 9a 1 year warranty shop located at imenti house callwhatsapp0711203106 warriors othaya pat bev nbaplayoffs embiid whatsapp masculinitysaturday coutinho railatosha francis kimemia ozark doggy messi moneylaunderinginafrica rashford simp mino raiola\n",
      "INDEX: 203076, TEXT: hi guyswe selling macbook pro corei5 4gb 500 gb wifi mac os dvd wr at 32999 we deliver country widereach us on 0711686637 retweet our buyer may be on your timeline dm or whatsapp big ted miguna miguna masculinitysaturday amerix jalas westlands lgbtq ruto\n",
      "INDEX: 203122, TEXT: its a beautiful saturday 230422 and these are the dailies headlines in kenya igathe jayden simon mbugua westlands miguna miguna mwai kibaki luhyas rest in power church masaai 2022runningmatepoll raila ruto azimio tim wanyonyi mombasa masculinitysaturday amerix gachagua\n",
      "INDEX: 203770, TEXT: 1riftvalley vs luonyanza nandi gvr 32yrs nandi sen32 yrs nandi women rep 27yrs bomet woman rep 25 yrs wsr 54 yrs 2luonyanza oburu odinga 94 yrs james orengo 89 yrs anyang nyongo 80 yrs raila 78 yrs the difference btn us amp them its like day masculinitysaturday\n",
      "INDEX: 206979, TEXT: 15kg one hand 15kg the other hand so 30kg dumbell set with a connector kshs 10500 to place an order reach me on 0726318886 we delivery at a fee kshs java wanjigi 2nd april calab kositany benji itumbi supreme court west pokot man u jacaranda luos masculinitysaturday\n",
      "INDEX: 209385, TEXT: i saw tweet ya amerix admonishing mulamwah for pouring his heart out but nimetafuta tweet ya amerix calling out andrew kibe for his silly insults against a 21yearold girl na bado sijaona does amerix fear andrew kibe kwani mulamwah alikuwa soft target masculinitysaturday\n",
      "INDEX: 212952, TEXT: my g aliambiwa na mumama pale tinder mimi nayo kwa kweli niko kaziif you have 3k i can come make you happy hamtapata a worthy woman kwa dating appsapproach its good for your testosterone na si lazima aingie box by the waythey all cant say no too masculinitysaturday\n",
      "INDEX: 215849, TEXT: my yummy bambooshoots veggie in scallion oil vegan veganfood agnesfoolproofdishes food foodfriday tastythursday recipes easyrecipes tastytuesday yummymonday recipeoftheday homecooking cooking homecookingfood diyfood gourmetfood finedining finediningfood\n",
      "INDEX: 216121, TEXT: my yummy crabroe treat scallops in scallionoil amp ricotta agnesfoolproofdishes food foodfriday tasty tastythursday recipes easyrecipes tastytuesday yummymonday recipeoftheday homecooking cooking homecookingfood diyfood gourmetfood finedining finediningfood\n",
      "INDEX: 216508, TEXT: my yummy baked radish amp crabroe agnesfoolproofdishes food foodie foodfriday treats yummyfood tasty tastythursday recipes easyrecipes tastytuesday yummymonday recipeoftheday homecooking cooking homecookingfood diyfood gourmetfood finedining finediningfood\n",
      "INDEX: 229471, TEXT: winky dinky dog with pastrami its not just a dog its a winky dinky dog winkydinkydog hotdogs gourmet gourmetdogs chilicheesedogs loadedpotatoes nachos food foodie cnn lakersnation foodfriday ggg crenshaw losangeles sandiego rasmikenugradio sanbernardino\n",
      "INDEX: 230376, TEXT: chukua the atab 4g tablet pc for your kidsfor only ksh8000 sauti sol daniel adongo oburu odinga randy orton magoha welcome to arsenal beyonce raila eliud owalo mtkenyaarise vijanatunaweza reliimetamba foodfriday psmochacheworks raeonkiss boda hypocrisy iamadisa ppes\n"
     ]
    }
   ],
   "source": [
    "token_lens = []\n",
    "\n",
    "for i,txt in enumerate(df['text_clean'].values):\n",
    "    tokens = tokenizer.encode(txt, max_length=512, truncation=True)\n",
    "    token_lens.append(len(tokens))\n",
    "    if len(tokens)>80:\n",
    "        \n",
    "        print(f\"INDEX: {i}, TEXT: {txt}\")  "
   ]
  },
  {
   "cell_type": "code",
   "execution_count": 43,
   "id": "28c0d16f",
   "metadata": {
    "execution": {
     "iopub.execute_input": "2023-01-25T10:18:11.990927Z",
     "iopub.status.busy": "2023-01-25T10:18:11.990555Z",
     "iopub.status.idle": "2023-01-25T10:18:12.042367Z",
     "shell.execute_reply": "2023-01-25T10:18:12.041122Z"
    },
    "papermill": {
     "duration": 0.074357,
     "end_time": "2023-01-25T10:18:12.044975",
     "exception": false,
     "start_time": "2023-01-25T10:18:11.970618",
     "status": "completed"
    },
    "tags": []
   },
   "outputs": [],
   "source": [
    "df['token_lens'] = token_lens"
   ]
  },
  {
   "cell_type": "code",
   "execution_count": 44,
   "id": "3275b91f",
   "metadata": {
    "execution": {
     "iopub.execute_input": "2023-01-25T10:18:12.083976Z",
     "iopub.status.busy": "2023-01-25T10:18:12.083584Z",
     "iopub.status.idle": "2023-01-25T10:18:12.101378Z",
     "shell.execute_reply": "2023-01-25T10:18:12.100066Z"
    },
    "papermill": {
     "duration": 0.040199,
     "end_time": "2023-01-25T10:18:12.103879",
     "exception": false,
     "start_time": "2023-01-25T10:18:12.063680",
     "status": "completed"
    },
    "tags": []
   },
   "outputs": [
    {
     "data": {
      "text/html": [
       "<div>\n",
       "<style scoped>\n",
       "    .dataframe tbody tr th:only-of-type {\n",
       "        vertical-align: middle;\n",
       "    }\n",
       "\n",
       "    .dataframe tbody tr th {\n",
       "        vertical-align: top;\n",
       "    }\n",
       "\n",
       "    .dataframe thead th {\n",
       "        text-align: right;\n",
       "    }\n",
       "</style>\n",
       "<table border=\"1\" class=\"dataframe\">\n",
       "  <thead>\n",
       "    <tr style=\"text-align: right;\">\n",
       "      <th></th>\n",
       "      <th>tweet_created_at</th>\n",
       "      <th>text</th>\n",
       "      <th>text_clean</th>\n",
       "      <th>Sentiment</th>\n",
       "      <th>text_len</th>\n",
       "      <th>token_lens</th>\n",
       "    </tr>\n",
       "  </thead>\n",
       "  <tbody>\n",
       "    <tr>\n",
       "      <th>0</th>\n",
       "      <td>2022-12-30 22:37:46+00:00</td>\n",
       "      <td>Men who have refused to listen to/attend @amer...</td>\n",
       "      <td>men who have refused to listen toattend classe...</td>\n",
       "      <td>Negative</td>\n",
       "      <td>27</td>\n",
       "      <td>37</td>\n",
       "    </tr>\n",
       "    <tr>\n",
       "      <th>1</th>\n",
       "      <td>2022-12-30 22:30:58+00:00</td>\n",
       "      <td>@OvOBrezzzy Take amerix next</td>\n",
       "      <td>take amerix next</td>\n",
       "      <td>Neutral</td>\n",
       "      <td>3</td>\n",
       "      <td>7</td>\n",
       "    </tr>\n",
       "    <tr>\n",
       "      <th>2</th>\n",
       "      <td>2022-12-30 22:18:00+00:00</td>\n",
       "      <td>@AyodeleYo11 @amerix Nah I’m good my masculini...</td>\n",
       "      <td>nah im good my masculinity health and wellness...</td>\n",
       "      <td>Positive</td>\n",
       "      <td>12</td>\n",
       "      <td>17</td>\n",
       "    </tr>\n",
       "    <tr>\n",
       "      <th>3</th>\n",
       "      <td>2022-12-30 20:42:54+00:00</td>\n",
       "      <td>@Amerix_DontSimp There is no need for dating i...</td>\n",
       "      <td>there is no need for dating in the first place</td>\n",
       "      <td>Negative</td>\n",
       "      <td>10</td>\n",
       "      <td>12</td>\n",
       "    </tr>\n",
       "    <tr>\n",
       "      <th>4</th>\n",
       "      <td>2022-12-30 20:32:23+00:00</td>\n",
       "      <td>@DyeAnna7 @amerix @kibe From what cos nothing ...</td>\n",
       "      <td>from what cos nothing is changing and if we go...</td>\n",
       "      <td>Positive</td>\n",
       "      <td>45</td>\n",
       "      <td>50</td>\n",
       "    </tr>\n",
       "  </tbody>\n",
       "</table>\n",
       "</div>"
      ],
      "text/plain": [
       "           tweet_created_at  \\\n",
       "0 2022-12-30 22:37:46+00:00   \n",
       "1 2022-12-30 22:30:58+00:00   \n",
       "2 2022-12-30 22:18:00+00:00   \n",
       "3 2022-12-30 20:42:54+00:00   \n",
       "4 2022-12-30 20:32:23+00:00   \n",
       "\n",
       "                                                text  \\\n",
       "0  Men who have refused to listen to/attend @amer...   \n",
       "1                       @OvOBrezzzy Take amerix next   \n",
       "2  @AyodeleYo11 @amerix Nah I’m good my masculini...   \n",
       "3  @Amerix_DontSimp There is no need for dating i...   \n",
       "4  @DyeAnna7 @amerix @kibe From what cos nothing ...   \n",
       "\n",
       "                                          text_clean Sentiment  text_len  \\\n",
       "0  men who have refused to listen toattend classe...  Negative        27   \n",
       "1                                   take amerix next   Neutral         3   \n",
       "2  nah im good my masculinity health and wellness...  Positive        12   \n",
       "3     there is no need for dating in the first place  Negative        10   \n",
       "4  from what cos nothing is changing and if we go...  Positive        45   \n",
       "\n",
       "   token_lens  \n",
       "0          37  \n",
       "1           7  \n",
       "2          17  \n",
       "3          12  \n",
       "4          50  "
      ]
     },
     "execution_count": 44,
     "metadata": {},
     "output_type": "execute_result"
    }
   ],
   "source": [
    "df.head(5)"
   ]
  },
  {
   "cell_type": "code",
   "execution_count": 45,
   "id": "0251945f",
   "metadata": {
    "execution": {
     "iopub.execute_input": "2023-01-25T10:18:12.143567Z",
     "iopub.status.busy": "2023-01-25T10:18:12.142384Z",
     "iopub.status.idle": "2023-01-25T10:18:12.203230Z",
     "shell.execute_reply": "2023-01-25T10:18:12.201741Z"
    },
    "papermill": {
     "duration": 0.083549,
     "end_time": "2023-01-25T10:18:12.205940",
     "exception": false,
     "start_time": "2023-01-25T10:18:12.122391",
     "status": "completed"
    },
    "tags": []
   },
   "outputs": [],
   "source": [
    "df = df.sort_values(by='token_lens', ascending=False)"
   ]
  },
  {
   "cell_type": "code",
   "execution_count": 46,
   "id": "44df8b3a",
   "metadata": {
    "execution": {
     "iopub.execute_input": "2023-01-25T10:18:12.245566Z",
     "iopub.status.busy": "2023-01-25T10:18:12.245126Z",
     "iopub.status.idle": "2023-01-25T10:18:12.262017Z",
     "shell.execute_reply": "2023-01-25T10:18:12.260786Z"
    },
    "papermill": {
     "duration": 0.039245,
     "end_time": "2023-01-25T10:18:12.264121",
     "exception": false,
     "start_time": "2023-01-25T10:18:12.224876",
     "status": "completed"
    },
    "tags": []
   },
   "outputs": [
    {
     "data": {
      "text/html": [
       "<div>\n",
       "<style scoped>\n",
       "    .dataframe tbody tr th:only-of-type {\n",
       "        vertical-align: middle;\n",
       "    }\n",
       "\n",
       "    .dataframe tbody tr th {\n",
       "        vertical-align: top;\n",
       "    }\n",
       "\n",
       "    .dataframe thead th {\n",
       "        text-align: right;\n",
       "    }\n",
       "</style>\n",
       "<table border=\"1\" class=\"dataframe\">\n",
       "  <thead>\n",
       "    <tr style=\"text-align: right;\">\n",
       "      <th></th>\n",
       "      <th>tweet_created_at</th>\n",
       "      <th>text</th>\n",
       "      <th>text_clean</th>\n",
       "      <th>Sentiment</th>\n",
       "      <th>text_len</th>\n",
       "      <th>token_lens</th>\n",
       "    </tr>\n",
       "  </thead>\n",
       "  <tbody>\n",
       "    <tr>\n",
       "      <th>196994</th>\n",
       "      <td>2022-07-30 18:09:00+00:00</td>\n",
       "      <td>Well vetted house help available and ready to ...</td>\n",
       "      <td>well vetted house help available and ready to ...</td>\n",
       "      <td>Positive</td>\n",
       "      <td>35</td>\n",
       "      <td>90</td>\n",
       "    </tr>\n",
       "    <tr>\n",
       "      <th>201439</th>\n",
       "      <td>2022-07-09 09:30:05+00:00</td>\n",
       "      <td>HP EliteBook Revolve 810 G3\\nIntel Core i5\\n8G...</td>\n",
       "      <td>hp elitebook revolve 810 g3 intel core i5 8gb ...</td>\n",
       "      <td>Neutral</td>\n",
       "      <td>40</td>\n",
       "      <td>90</td>\n",
       "    </tr>\n",
       "    <tr>\n",
       "      <th>197618</th>\n",
       "      <td>2022-07-30 07:07:11+00:00</td>\n",
       "      <td>Well vetted house help available and ready to ...</td>\n",
       "      <td>well vetted house help available and ready to ...</td>\n",
       "      <td>Positive</td>\n",
       "      <td>35</td>\n",
       "      <td>90</td>\n",
       "    </tr>\n",
       "    <tr>\n",
       "      <th>35869</th>\n",
       "      <td>2022-12-03 08:04:17+00:00</td>\n",
       "      <td>Househelps, Holiday releavers, Dayburg and cle...</td>\n",
       "      <td>househelps holiday releavers dayburg and clean...</td>\n",
       "      <td>Positive</td>\n",
       "      <td>30</td>\n",
       "      <td>89</td>\n",
       "    </tr>\n",
       "    <tr>\n",
       "      <th>175039</th>\n",
       "      <td>2022-11-12 06:10:39+00:00</td>\n",
       "      <td>Ruracio for a Kamba chick:\\n\\n84 goats, 12 cow...</td>\n",
       "      <td>ruracio for a kamba chick 84 goats 12 cows 3 w...</td>\n",
       "      <td>Positive</td>\n",
       "      <td>47</td>\n",
       "      <td>89</td>\n",
       "    </tr>\n",
       "    <tr>\n",
       "      <th>217892</th>\n",
       "      <td>2022-04-16 19:13:12+00:00</td>\n",
       "      <td>1.Riftvalley Vs LuoNyanza\\nNandi Gvr -32yrs\\nN...</td>\n",
       "      <td>1riftvalley vs luonyanza nandi gvr 32yrs nandi...</td>\n",
       "      <td>Positive</td>\n",
       "      <td>47</td>\n",
       "      <td>89</td>\n",
       "    </tr>\n",
       "    <tr>\n",
       "      <th>194590</th>\n",
       "      <td>2022-08-20 09:58:15+00:00</td>\n",
       "      <td>TCL  43inch P735 Smart 4k HDR Google TV ksh.39...</td>\n",
       "      <td>tcl 43inch p735 smart 4k hdr google tv ksh3950...</td>\n",
       "      <td>Positive</td>\n",
       "      <td>36</td>\n",
       "      <td>88</td>\n",
       "    </tr>\n",
       "    <tr>\n",
       "      <th>179129</th>\n",
       "      <td>2022-10-23 05:11:18+00:00</td>\n",
       "      <td>AMOLLO JAILED FOR 8yrs.\\nAMOLLO FACED Nyayo Ho...</td>\n",
       "      <td>amollo jailed for 8yrs amollo faced nyayo hous...</td>\n",
       "      <td>Negative</td>\n",
       "      <td>46</td>\n",
       "      <td>88</td>\n",
       "    </tr>\n",
       "    <tr>\n",
       "      <th>199654</th>\n",
       "      <td>2022-07-16 21:19:00+00:00</td>\n",
       "      <td>We have well vetted house helps countrywide re...</td>\n",
       "      <td>we have well vetted house helps countrywide re...</td>\n",
       "      <td>Positive</td>\n",
       "      <td>32</td>\n",
       "      <td>88</td>\n",
       "    </tr>\n",
       "    <tr>\n",
       "      <th>194579</th>\n",
       "      <td>2022-08-20 10:05:09+00:00</td>\n",
       "      <td>Truck #safari #beachcamping and #party of the ...</td>\n",
       "      <td>truck safari beachcamping and party of the yea...</td>\n",
       "      <td>Positive</td>\n",
       "      <td>35</td>\n",
       "      <td>88</td>\n",
       "    </tr>\n",
       "    <tr>\n",
       "      <th>199949</th>\n",
       "      <td>2022-07-16 10:16:59+00:00</td>\n",
       "      <td>We have well vetted house helps countrywide re...</td>\n",
       "      <td>we have well vetted house helps countrywide re...</td>\n",
       "      <td>Positive</td>\n",
       "      <td>32</td>\n",
       "      <td>88</td>\n",
       "    </tr>\n",
       "    <tr>\n",
       "      <th>199948</th>\n",
       "      <td>2022-07-16 10:18:35+00:00</td>\n",
       "      <td>We have well vetted house helps countrywide re...</td>\n",
       "      <td>we have well vetted house helps countrywide re...</td>\n",
       "      <td>Positive</td>\n",
       "      <td>32</td>\n",
       "      <td>88</td>\n",
       "    </tr>\n",
       "    <tr>\n",
       "      <th>246091</th>\n",
       "      <td>2020-08-14 10:44:11+00:00</td>\n",
       "      <td>Chukua the ATAB 4G Tablet PC for your kids,for...</td>\n",
       "      <td>chukua the atab 4g tablet pc for your kidsfor ...</td>\n",
       "      <td>Negative</td>\n",
       "      <td>37</td>\n",
       "      <td>87</td>\n",
       "    </tr>\n",
       "    <tr>\n",
       "      <th>194565</th>\n",
       "      <td>2022-08-20 10:24:48+00:00</td>\n",
       "      <td>Sony S700RF, 1000W 2 tall boys Soundbar ksh.54...</td>\n",
       "      <td>sony s700rf 1000w 2 tall boys soundbar ksh5450...</td>\n",
       "      <td>Neutral</td>\n",
       "      <td>36</td>\n",
       "      <td>87</td>\n",
       "    </tr>\n",
       "    <tr>\n",
       "      <th>208299</th>\n",
       "      <td>2022-06-04 18:07:52+00:00</td>\n",
       "      <td>Mounting and Framing photos Call:0208052887/07...</td>\n",
       "      <td>mounting and framing photos call02080528870727...</td>\n",
       "      <td>Neutral</td>\n",
       "      <td>39</td>\n",
       "      <td>87</td>\n",
       "    </tr>\n",
       "    <tr>\n",
       "      <th>168675</th>\n",
       "      <td>2022-12-10 12:47:20+00:00</td>\n",
       "      <td>BRAND NEW HP 240 LAPTOPS\\nCORE i3\\n1TB HARD DI...</td>\n",
       "      <td>brand new hp 240 laptops core i3 1tb hard disk...</td>\n",
       "      <td>Positive</td>\n",
       "      <td>43</td>\n",
       "      <td>86</td>\n",
       "    </tr>\n",
       "    <tr>\n",
       "      <th>192330</th>\n",
       "      <td>2022-08-28 03:46:19+00:00</td>\n",
       "      <td>Filmora 11 Crack➡️https://t.co/C4kYRyxh3k\\n\\n#...</td>\n",
       "      <td>filmora 11 crack masculinitysaturday maduriyet...</td>\n",
       "      <td>Neutral</td>\n",
       "      <td>20</td>\n",
       "      <td>86</td>\n",
       "    </tr>\n",
       "    <tr>\n",
       "      <th>192256</th>\n",
       "      <td>2022-08-28 14:10:05+00:00</td>\n",
       "      <td>Filmora 11 Crack➡️https://t.co/C4kYRyxh3k\\n\\n#...</td>\n",
       "      <td>filmora 11 crack lovelive lucas luis4mas luiss...</td>\n",
       "      <td>Neutral</td>\n",
       "      <td>20</td>\n",
       "      <td>86</td>\n",
       "    </tr>\n",
       "    <tr>\n",
       "      <th>196614</th>\n",
       "      <td>2022-08-06 04:17:16+00:00</td>\n",
       "      <td>Microsoft Surface Pro 4\\n12.3″ Screen\\nintel c...</td>\n",
       "      <td>microsoft surface pro 4 123 screen intel core ...</td>\n",
       "      <td>Neutral</td>\n",
       "      <td>34</td>\n",
       "      <td>85</td>\n",
       "    </tr>\n",
       "    <tr>\n",
       "      <th>182067</th>\n",
       "      <td>2022-10-15 06:28:58+00:00</td>\n",
       "      <td>George Mwangi Oburu DM or Whatsapp Luo Nyanza ...</td>\n",
       "      <td>george mwangi oburu dm or whatsapp luo nyanza ...</td>\n",
       "      <td>Positive</td>\n",
       "      <td>48</td>\n",
       "      <td>85</td>\n",
       "    </tr>\n",
       "  </tbody>\n",
       "</table>\n",
       "</div>"
      ],
      "text/plain": [
       "                tweet_created_at  \\\n",
       "196994 2022-07-30 18:09:00+00:00   \n",
       "201439 2022-07-09 09:30:05+00:00   \n",
       "197618 2022-07-30 07:07:11+00:00   \n",
       "35869  2022-12-03 08:04:17+00:00   \n",
       "175039 2022-11-12 06:10:39+00:00   \n",
       "217892 2022-04-16 19:13:12+00:00   \n",
       "194590 2022-08-20 09:58:15+00:00   \n",
       "179129 2022-10-23 05:11:18+00:00   \n",
       "199654 2022-07-16 21:19:00+00:00   \n",
       "194579 2022-08-20 10:05:09+00:00   \n",
       "199949 2022-07-16 10:16:59+00:00   \n",
       "199948 2022-07-16 10:18:35+00:00   \n",
       "246091 2020-08-14 10:44:11+00:00   \n",
       "194565 2022-08-20 10:24:48+00:00   \n",
       "208299 2022-06-04 18:07:52+00:00   \n",
       "168675 2022-12-10 12:47:20+00:00   \n",
       "192330 2022-08-28 03:46:19+00:00   \n",
       "192256 2022-08-28 14:10:05+00:00   \n",
       "196614 2022-08-06 04:17:16+00:00   \n",
       "182067 2022-10-15 06:28:58+00:00   \n",
       "\n",
       "                                                     text  \\\n",
       "196994  Well vetted house help available and ready to ...   \n",
       "201439  HP EliteBook Revolve 810 G3\\nIntel Core i5\\n8G...   \n",
       "197618  Well vetted house help available and ready to ...   \n",
       "35869   Househelps, Holiday releavers, Dayburg and cle...   \n",
       "175039  Ruracio for a Kamba chick:\\n\\n84 goats, 12 cow...   \n",
       "217892  1.Riftvalley Vs LuoNyanza\\nNandi Gvr -32yrs\\nN...   \n",
       "194590  TCL  43inch P735 Smart 4k HDR Google TV ksh.39...   \n",
       "179129  AMOLLO JAILED FOR 8yrs.\\nAMOLLO FACED Nyayo Ho...   \n",
       "199654  We have well vetted house helps countrywide re...   \n",
       "194579  Truck #safari #beachcamping and #party of the ...   \n",
       "199949  We have well vetted house helps countrywide re...   \n",
       "199948  We have well vetted house helps countrywide re...   \n",
       "246091  Chukua the ATAB 4G Tablet PC for your kids,for...   \n",
       "194565  Sony S700RF, 1000W 2 tall boys Soundbar ksh.54...   \n",
       "208299  Mounting and Framing photos Call:0208052887/07...   \n",
       "168675  BRAND NEW HP 240 LAPTOPS\\nCORE i3\\n1TB HARD DI...   \n",
       "192330  Filmora 11 Crack➡️https://t.co/C4kYRyxh3k\\n\\n#...   \n",
       "192256  Filmora 11 Crack➡️https://t.co/C4kYRyxh3k\\n\\n#...   \n",
       "196614  Microsoft Surface Pro 4\\n12.3″ Screen\\nintel c...   \n",
       "182067  George Mwangi Oburu DM or Whatsapp Luo Nyanza ...   \n",
       "\n",
       "                                               text_clean Sentiment  text_len  \\\n",
       "196994  well vetted house help available and ready to ...  Positive        35   \n",
       "201439  hp elitebook revolve 810 g3 intel core i5 8gb ...   Neutral        40   \n",
       "197618  well vetted house help available and ready to ...  Positive        35   \n",
       "35869   househelps holiday releavers dayburg and clean...  Positive        30   \n",
       "175039  ruracio for a kamba chick 84 goats 12 cows 3 w...  Positive        47   \n",
       "217892  1riftvalley vs luonyanza nandi gvr 32yrs nandi...  Positive        47   \n",
       "194590  tcl 43inch p735 smart 4k hdr google tv ksh3950...  Positive        36   \n",
       "179129  amollo jailed for 8yrs amollo faced nyayo hous...  Negative        46   \n",
       "199654  we have well vetted house helps countrywide re...  Positive        32   \n",
       "194579  truck safari beachcamping and party of the yea...  Positive        35   \n",
       "199949  we have well vetted house helps countrywide re...  Positive        32   \n",
       "199948  we have well vetted house helps countrywide re...  Positive        32   \n",
       "246091  chukua the atab 4g tablet pc for your kidsfor ...  Negative        37   \n",
       "194565  sony s700rf 1000w 2 tall boys soundbar ksh5450...   Neutral        36   \n",
       "208299  mounting and framing photos call02080528870727...   Neutral        39   \n",
       "168675  brand new hp 240 laptops core i3 1tb hard disk...  Positive        43   \n",
       "192330  filmora 11 crack masculinitysaturday maduriyet...   Neutral        20   \n",
       "192256  filmora 11 crack lovelive lucas luis4mas luiss...   Neutral        20   \n",
       "196614  microsoft surface pro 4 123 screen intel core ...   Neutral        34   \n",
       "182067  george mwangi oburu dm or whatsapp luo nyanza ...  Positive        48   \n",
       "\n",
       "        token_lens  \n",
       "196994          90  \n",
       "201439          90  \n",
       "197618          90  \n",
       "35869           89  \n",
       "175039          89  \n",
       "217892          89  \n",
       "194590          88  \n",
       "179129          88  \n",
       "199654          88  \n",
       "194579          88  \n",
       "199949          88  \n",
       "199948          88  \n",
       "246091          87  \n",
       "194565          87  \n",
       "208299          87  \n",
       "168675          86  \n",
       "192330          86  \n",
       "192256          86  \n",
       "196614          85  \n",
       "182067          85  "
      ]
     },
     "execution_count": 46,
     "metadata": {},
     "output_type": "execute_result"
    }
   ],
   "source": [
    "df.head(20)"
   ]
  },
  {
   "cell_type": "code",
   "execution_count": 47,
   "id": "ba59b965",
   "metadata": {
    "execution": {
     "iopub.execute_input": "2023-01-25T10:18:12.306329Z",
     "iopub.status.busy": "2023-01-25T10:18:12.305920Z",
     "iopub.status.idle": "2023-01-25T10:18:12.311638Z",
     "shell.execute_reply": "2023-01-25T10:18:12.310402Z"
    },
    "papermill": {
     "duration": 0.030163,
     "end_time": "2023-01-25T10:18:12.314542",
     "exception": false,
     "start_time": "2023-01-25T10:18:12.284379",
     "status": "completed"
    },
    "tags": []
   },
   "outputs": [],
   "source": [
    "df = df.iloc[12:]"
   ]
  },
  {
   "cell_type": "code",
   "execution_count": 48,
   "id": "4ffad761",
   "metadata": {
    "execution": {
     "iopub.execute_input": "2023-01-25T10:18:12.355558Z",
     "iopub.status.busy": "2023-01-25T10:18:12.355226Z",
     "iopub.status.idle": "2023-01-25T10:18:12.365709Z",
     "shell.execute_reply": "2023-01-25T10:18:12.364867Z"
    },
    "papermill": {
     "duration": 0.033316,
     "end_time": "2023-01-25T10:18:12.367701",
     "exception": false,
     "start_time": "2023-01-25T10:18:12.334385",
     "status": "completed"
    },
    "tags": []
   },
   "outputs": [
    {
     "data": {
      "text/html": [
       "<div>\n",
       "<style scoped>\n",
       "    .dataframe tbody tr th:only-of-type {\n",
       "        vertical-align: middle;\n",
       "    }\n",
       "\n",
       "    .dataframe tbody tr th {\n",
       "        vertical-align: top;\n",
       "    }\n",
       "\n",
       "    .dataframe thead th {\n",
       "        text-align: right;\n",
       "    }\n",
       "</style>\n",
       "<table border=\"1\" class=\"dataframe\">\n",
       "  <thead>\n",
       "    <tr style=\"text-align: right;\">\n",
       "      <th></th>\n",
       "      <th>tweet_created_at</th>\n",
       "      <th>text</th>\n",
       "      <th>text_clean</th>\n",
       "      <th>Sentiment</th>\n",
       "      <th>text_len</th>\n",
       "      <th>token_lens</th>\n",
       "    </tr>\n",
       "  </thead>\n",
       "  <tbody>\n",
       "    <tr>\n",
       "      <th>246091</th>\n",
       "      <td>2020-08-14 10:44:11+00:00</td>\n",
       "      <td>Chukua the ATAB 4G Tablet PC for your kids,for...</td>\n",
       "      <td>chukua the atab 4g tablet pc for your kidsfor ...</td>\n",
       "      <td>Negative</td>\n",
       "      <td>37</td>\n",
       "      <td>87</td>\n",
       "    </tr>\n",
       "    <tr>\n",
       "      <th>194565</th>\n",
       "      <td>2022-08-20 10:24:48+00:00</td>\n",
       "      <td>Sony S700RF, 1000W 2 tall boys Soundbar ksh.54...</td>\n",
       "      <td>sony s700rf 1000w 2 tall boys soundbar ksh5450...</td>\n",
       "      <td>Neutral</td>\n",
       "      <td>36</td>\n",
       "      <td>87</td>\n",
       "    </tr>\n",
       "    <tr>\n",
       "      <th>208299</th>\n",
       "      <td>2022-06-04 18:07:52+00:00</td>\n",
       "      <td>Mounting and Framing photos Call:0208052887/07...</td>\n",
       "      <td>mounting and framing photos call02080528870727...</td>\n",
       "      <td>Neutral</td>\n",
       "      <td>39</td>\n",
       "      <td>87</td>\n",
       "    </tr>\n",
       "    <tr>\n",
       "      <th>168675</th>\n",
       "      <td>2022-12-10 12:47:20+00:00</td>\n",
       "      <td>BRAND NEW HP 240 LAPTOPS\\nCORE i3\\n1TB HARD DI...</td>\n",
       "      <td>brand new hp 240 laptops core i3 1tb hard disk...</td>\n",
       "      <td>Positive</td>\n",
       "      <td>43</td>\n",
       "      <td>86</td>\n",
       "    </tr>\n",
       "    <tr>\n",
       "      <th>192330</th>\n",
       "      <td>2022-08-28 03:46:19+00:00</td>\n",
       "      <td>Filmora 11 Crack➡️https://t.co/C4kYRyxh3k\\n\\n#...</td>\n",
       "      <td>filmora 11 crack masculinitysaturday maduriyet...</td>\n",
       "      <td>Neutral</td>\n",
       "      <td>20</td>\n",
       "      <td>86</td>\n",
       "    </tr>\n",
       "  </tbody>\n",
       "</table>\n",
       "</div>"
      ],
      "text/plain": [
       "                tweet_created_at  \\\n",
       "246091 2020-08-14 10:44:11+00:00   \n",
       "194565 2022-08-20 10:24:48+00:00   \n",
       "208299 2022-06-04 18:07:52+00:00   \n",
       "168675 2022-12-10 12:47:20+00:00   \n",
       "192330 2022-08-28 03:46:19+00:00   \n",
       "\n",
       "                                                     text  \\\n",
       "246091  Chukua the ATAB 4G Tablet PC for your kids,for...   \n",
       "194565  Sony S700RF, 1000W 2 tall boys Soundbar ksh.54...   \n",
       "208299  Mounting and Framing photos Call:0208052887/07...   \n",
       "168675  BRAND NEW HP 240 LAPTOPS\\nCORE i3\\n1TB HARD DI...   \n",
       "192330  Filmora 11 Crack➡️https://t.co/C4kYRyxh3k\\n\\n#...   \n",
       "\n",
       "                                               text_clean Sentiment  text_len  \\\n",
       "246091  chukua the atab 4g tablet pc for your kidsfor ...  Negative        37   \n",
       "194565  sony s700rf 1000w 2 tall boys soundbar ksh5450...   Neutral        36   \n",
       "208299  mounting and framing photos call02080528870727...   Neutral        39   \n",
       "168675  brand new hp 240 laptops core i3 1tb hard disk...  Positive        43   \n",
       "192330  filmora 11 crack masculinitysaturday maduriyet...   Neutral        20   \n",
       "\n",
       "        token_lens  \n",
       "246091          87  \n",
       "194565          87  \n",
       "208299          87  \n",
       "168675          86  \n",
       "192330          86  "
      ]
     },
     "execution_count": 48,
     "metadata": {},
     "output_type": "execute_result"
    }
   ],
   "source": [
    "df.head()"
   ]
  },
  {
   "cell_type": "code",
   "execution_count": 49,
   "id": "f7619aee",
   "metadata": {
    "execution": {
     "iopub.execute_input": "2023-01-25T10:18:12.410796Z",
     "iopub.status.busy": "2023-01-25T10:18:12.410405Z",
     "iopub.status.idle": "2023-01-25T10:18:12.489762Z",
     "shell.execute_reply": "2023-01-25T10:18:12.488825Z"
    },
    "papermill": {
     "duration": 0.104136,
     "end_time": "2023-01-25T10:18:12.492743",
     "exception": false,
     "start_time": "2023-01-25T10:18:12.388607",
     "status": "completed"
    },
    "tags": []
   },
   "outputs": [],
   "source": [
    "df = df.sample(frac=1).reset_index(drop=True)"
   ]
  },
  {
   "cell_type": "code",
   "execution_count": 50,
   "id": "c3797026",
   "metadata": {
    "execution": {
     "iopub.execute_input": "2023-01-25T10:18:12.534589Z",
     "iopub.status.busy": "2023-01-25T10:18:12.534223Z",
     "iopub.status.idle": "2023-01-25T10:18:12.547906Z",
     "shell.execute_reply": "2023-01-25T10:18:12.546354Z"
    },
    "papermill": {
     "duration": 0.036733,
     "end_time": "2023-01-25T10:18:12.549877",
     "exception": false,
     "start_time": "2023-01-25T10:18:12.513144",
     "status": "completed"
    },
    "tags": []
   },
   "outputs": [
    {
     "data": {
      "text/html": [
       "<div>\n",
       "<style scoped>\n",
       "    .dataframe tbody tr th:only-of-type {\n",
       "        vertical-align: middle;\n",
       "    }\n",
       "\n",
       "    .dataframe tbody tr th {\n",
       "        vertical-align: top;\n",
       "    }\n",
       "\n",
       "    .dataframe thead th {\n",
       "        text-align: right;\n",
       "    }\n",
       "</style>\n",
       "<table border=\"1\" class=\"dataframe\">\n",
       "  <thead>\n",
       "    <tr style=\"text-align: right;\">\n",
       "      <th></th>\n",
       "      <th>tweet_created_at</th>\n",
       "      <th>text</th>\n",
       "      <th>text_clean</th>\n",
       "      <th>Sentiment</th>\n",
       "      <th>text_len</th>\n",
       "      <th>token_lens</th>\n",
       "    </tr>\n",
       "  </thead>\n",
       "  <tbody>\n",
       "    <tr>\n",
       "      <th>0</th>\n",
       "      <td>2022-12-05 09:07:25+00:00</td>\n",
       "      <td>@amerix Candidiasis is tearing women apart. Wo...</td>\n",
       "      <td>candidiasis is tearing women apart women are n...</td>\n",
       "      <td>Negative</td>\n",
       "      <td>39</td>\n",
       "      <td>48</td>\n",
       "    </tr>\n",
       "    <tr>\n",
       "      <th>1</th>\n",
       "      <td>2021-11-12 11:42:18+00:00</td>\n",
       "      <td>There's a buffet and you came with your home t...</td>\n",
       "      <td>theres a buffet and you came with your home tr...</td>\n",
       "      <td>Positive</td>\n",
       "      <td>30</td>\n",
       "      <td>40</td>\n",
       "    </tr>\n",
       "    <tr>\n",
       "      <th>2</th>\n",
       "      <td>2022-07-04 19:31:34+00:00</td>\n",
       "      <td>❤️Let's drop some @amazon lists\\n💥 RT #wantlis...</td>\n",
       "      <td>lets drop some lists rt wantlists sprinkle if ...</td>\n",
       "      <td>Negative</td>\n",
       "      <td>15</td>\n",
       "      <td>34</td>\n",
       "    </tr>\n",
       "    <tr>\n",
       "      <th>3</th>\n",
       "      <td>2022-11-05 16:38:44+00:00</td>\n",
       "      <td>@amerix This is no joke</td>\n",
       "      <td>this is no joke</td>\n",
       "      <td>Neutral</td>\n",
       "      <td>4</td>\n",
       "      <td>6</td>\n",
       "    </tr>\n",
       "    <tr>\n",
       "      <th>4</th>\n",
       "      <td>2022-11-29 14:35:13+00:00</td>\n",
       "      <td>Our stories and characters help your students ...</td>\n",
       "      <td>our stories and characters help your students ...</td>\n",
       "      <td>Positive</td>\n",
       "      <td>30</td>\n",
       "      <td>50</td>\n",
       "    </tr>\n",
       "  </tbody>\n",
       "</table>\n",
       "</div>"
      ],
      "text/plain": [
       "           tweet_created_at  \\\n",
       "0 2022-12-05 09:07:25+00:00   \n",
       "1 2021-11-12 11:42:18+00:00   \n",
       "2 2022-07-04 19:31:34+00:00   \n",
       "3 2022-11-05 16:38:44+00:00   \n",
       "4 2022-11-29 14:35:13+00:00   \n",
       "\n",
       "                                                text  \\\n",
       "0  @amerix Candidiasis is tearing women apart. Wo...   \n",
       "1  There's a buffet and you came with your home t...   \n",
       "2  ❤️Let's drop some @amazon lists\\n💥 RT #wantlis...   \n",
       "3                            @amerix This is no joke   \n",
       "4  Our stories and characters help your students ...   \n",
       "\n",
       "                                          text_clean Sentiment  text_len  \\\n",
       "0  candidiasis is tearing women apart women are n...  Negative        39   \n",
       "1  theres a buffet and you came with your home tr...  Positive        30   \n",
       "2  lets drop some lists rt wantlists sprinkle if ...  Negative        15   \n",
       "3                                    this is no joke   Neutral         4   \n",
       "4  our stories and characters help your students ...  Positive        30   \n",
       "\n",
       "   token_lens  \n",
       "0          48  \n",
       "1          40  \n",
       "2          34  \n",
       "3           6  \n",
       "4          50  "
      ]
     },
     "execution_count": 50,
     "metadata": {},
     "output_type": "execute_result"
    }
   ],
   "source": [
    "df.head(5)"
   ]
  },
  {
   "cell_type": "code",
   "execution_count": 51,
   "id": "8bfa9e1f",
   "metadata": {
    "execution": {
     "iopub.execute_input": "2023-01-25T10:18:12.592246Z",
     "iopub.status.busy": "2023-01-25T10:18:12.591560Z",
     "iopub.status.idle": "2023-01-25T10:18:12.611641Z",
     "shell.execute_reply": "2023-01-25T10:18:12.610427Z"
    },
    "papermill": {
     "duration": 0.043754,
     "end_time": "2023-01-25T10:18:12.613587",
     "exception": false,
     "start_time": "2023-01-25T10:18:12.569833",
     "status": "completed"
    },
    "tags": []
   },
   "outputs": [
    {
     "data": {
      "text/plain": [
       "Positive    129038\n",
       "Neutral      62536\n",
       "Negative     41388\n",
       "Name: Sentiment, dtype: int64"
      ]
     },
     "execution_count": 51,
     "metadata": {},
     "output_type": "execute_result"
    }
   ],
   "source": [
    "df['Sentiment'].value_counts()"
   ]
  },
  {
   "cell_type": "code",
   "execution_count": 52,
   "id": "fdb1c2ac",
   "metadata": {
    "execution": {
     "iopub.execute_input": "2023-01-25T10:18:12.656848Z",
     "iopub.status.busy": "2023-01-25T10:18:12.656494Z",
     "iopub.status.idle": "2023-01-25T10:18:12.683803Z",
     "shell.execute_reply": "2023-01-25T10:18:12.682556Z"
    },
    "papermill": {
     "duration": 0.051876,
     "end_time": "2023-01-25T10:18:12.686424",
     "exception": false,
     "start_time": "2023-01-25T10:18:12.634548",
     "status": "completed"
    },
    "tags": []
   },
   "outputs": [],
   "source": [
    "df['Sentiment'] = df['Sentiment'].map({'Negative':0,'Positive':1,'Neutral':2})"
   ]
  },
  {
   "cell_type": "code",
   "execution_count": 53,
   "id": "95b82fae",
   "metadata": {
    "execution": {
     "iopub.execute_input": "2023-01-25T10:18:12.731162Z",
     "iopub.status.busy": "2023-01-25T10:18:12.730570Z",
     "iopub.status.idle": "2023-01-25T10:18:12.740901Z",
     "shell.execute_reply": "2023-01-25T10:18:12.739179Z"
    },
    "papermill": {
     "duration": 0.035339,
     "end_time": "2023-01-25T10:18:12.743172",
     "exception": false,
     "start_time": "2023-01-25T10:18:12.707833",
     "status": "completed"
    },
    "tags": []
   },
   "outputs": [
    {
     "data": {
      "text/plain": [
       "1    129038\n",
       "2     62536\n",
       "0     41388\n",
       "Name: Sentiment, dtype: int64"
      ]
     },
     "execution_count": 53,
     "metadata": {},
     "output_type": "execute_result"
    }
   ],
   "source": [
    "df['Sentiment'].value_counts()"
   ]
  },
  {
   "cell_type": "code",
   "execution_count": 54,
   "id": "99b8135b",
   "metadata": {
    "execution": {
     "iopub.execute_input": "2023-01-25T10:18:12.786428Z",
     "iopub.status.busy": "2023-01-25T10:18:12.786081Z",
     "iopub.status.idle": "2023-01-25T10:18:13.293130Z",
     "shell.execute_reply": "2023-01-25T10:18:13.292050Z"
    },
    "papermill": {
     "duration": 0.531389,
     "end_time": "2023-01-25T10:18:13.295606",
     "exception": false,
     "start_time": "2023-01-25T10:18:12.764217",
     "status": "completed"
    },
    "tags": []
   },
   "outputs": [],
   "source": [
    "ros = RandomOverSampler()\n",
    "\n",
    "train_x, train_y = ros.fit_resample(np.array(df['text_clean']).reshape(-1, 1), np.array(df['Sentiment']).reshape(-1, 1));\n",
    "\n",
    "train_os = pd.DataFrame(list(zip([x[0] for x in train_x], train_y)), columns = ['text_clean', 'Sentiment']);"
   ]
  },
  {
   "cell_type": "code",
   "execution_count": 55,
   "id": "916e7c08",
   "metadata": {
    "execution": {
     "iopub.execute_input": "2023-01-25T10:18:13.339530Z",
     "iopub.status.busy": "2023-01-25T10:18:13.338773Z",
     "iopub.status.idle": "2023-01-25T10:18:13.350488Z",
     "shell.execute_reply": "2023-01-25T10:18:13.349027Z"
    },
    "papermill": {
     "duration": 0.036674,
     "end_time": "2023-01-25T10:18:13.353127",
     "exception": false,
     "start_time": "2023-01-25T10:18:13.316453",
     "status": "completed"
    },
    "tags": []
   },
   "outputs": [
    {
     "data": {
      "text/plain": [
       "0    129038\n",
       "1    129038\n",
       "2    129038\n",
       "Name: Sentiment, dtype: int64"
      ]
     },
     "execution_count": 55,
     "metadata": {},
     "output_type": "execute_result"
    }
   ],
   "source": [
    "train_os['Sentiment'].value_counts()"
   ]
  },
  {
   "cell_type": "code",
   "execution_count": null,
   "id": "7095fd34",
   "metadata": {
    "papermill": {
     "duration": 0.021098,
     "end_time": "2023-01-25T10:18:13.394976",
     "exception": false,
     "start_time": "2023-01-25T10:18:13.373878",
     "status": "completed"
    },
    "tags": []
   },
   "outputs": [],
   "source": []
  }
 ],
 "metadata": {
  "kernelspec": {
   "display_name": "Python 3",
   "language": "python",
   "name": "python3"
  },
  "language_info": {
   "codemirror_mode": {
    "name": "ipython",
    "version": 3
   },
   "file_extension": ".py",
   "mimetype": "text/x-python",
   "name": "python",
   "nbconvert_exporter": "python",
   "pygments_lexer": "ipython3",
   "version": "3.7.12"
  },
  "papermill": {
   "default_parameters": {},
   "duration": 116.163276,
   "end_time": "2023-01-25T10:18:16.708770",
   "environment_variables": {},
   "exception": null,
   "input_path": "__notebook__.ipynb",
   "output_path": "__notebook__.ipynb",
   "parameters": {},
   "start_time": "2023-01-25T10:16:20.545494",
   "version": "2.3.4"
  },
  "widgets": {
   "application/vnd.jupyter.widget-state+json": {
    "state": {
     "04a3e7d2a79546c0bf00ba2ff9cc3b5e": {
      "model_module": "@jupyter-widgets/controls",
      "model_module_version": "1.5.0",
      "model_name": "ProgressStyleModel",
      "state": {
       "_model_module": "@jupyter-widgets/controls",
       "_model_module_version": "1.5.0",
       "_model_name": "ProgressStyleModel",
       "_view_count": null,
       "_view_module": "@jupyter-widgets/base",
       "_view_module_version": "1.2.0",
       "_view_name": "StyleView",
       "bar_color": null,
       "description_width": ""
      }
     },
     "0767cdcfa4014fc194190ea200ff7161": {
      "model_module": "@jupyter-widgets/controls",
      "model_module_version": "1.5.0",
      "model_name": "DescriptionStyleModel",
      "state": {
       "_model_module": "@jupyter-widgets/controls",
       "_model_module_version": "1.5.0",
       "_model_name": "DescriptionStyleModel",
       "_view_count": null,
       "_view_module": "@jupyter-widgets/base",
       "_view_module_version": "1.2.0",
       "_view_name": "StyleView",
       "description_width": ""
      }
     },
     "0a503c53c7e34377a1f5e2e4be2b990d": {
      "model_module": "@jupyter-widgets/controls",
      "model_module_version": "1.5.0",
      "model_name": "HTMLModel",
      "state": {
       "_dom_classes": [],
       "_model_module": "@jupyter-widgets/controls",
       "_model_module_version": "1.5.0",
       "_model_name": "HTMLModel",
       "_view_count": null,
       "_view_module": "@jupyter-widgets/controls",
       "_view_module_version": "1.5.0",
       "_view_name": "HTMLView",
       "description": "",
       "description_tooltip": null,
       "layout": "IPY_MODEL_b17253d8decc4cef90293a54425790c2",
       "placeholder": "​",
       "style": "IPY_MODEL_0767cdcfa4014fc194190ea200ff7161",
       "value": " 570/570 [00:00&lt;00:00, 22.9kB/s]"
      }
     },
     "0cd699ecb3684edea2472688d2ccf96d": {
      "model_module": "@jupyter-widgets/controls",
      "model_module_version": "1.5.0",
      "model_name": "ProgressStyleModel",
      "state": {
       "_model_module": "@jupyter-widgets/controls",
       "_model_module_version": "1.5.0",
       "_model_name": "ProgressStyleModel",
       "_view_count": null,
       "_view_module": "@jupyter-widgets/base",
       "_view_module_version": "1.2.0",
       "_view_name": "StyleView",
       "bar_color": null,
       "description_width": ""
      }
     },
     "1d7438de17da41b09f89660ab24d88de": {
      "model_module": "@jupyter-widgets/controls",
      "model_module_version": "1.5.0",
      "model_name": "ProgressStyleModel",
      "state": {
       "_model_module": "@jupyter-widgets/controls",
       "_model_module_version": "1.5.0",
       "_model_name": "ProgressStyleModel",
       "_view_count": null,
       "_view_module": "@jupyter-widgets/base",
       "_view_module_version": "1.2.0",
       "_view_name": "StyleView",
       "bar_color": null,
       "description_width": ""
      }
     },
     "2a14ac28fc2647c39130bbd0407ef959": {
      "model_module": "@jupyter-widgets/base",
      "model_module_version": "1.2.0",
      "model_name": "LayoutModel",
      "state": {
       "_model_module": "@jupyter-widgets/base",
       "_model_module_version": "1.2.0",
       "_model_name": "LayoutModel",
       "_view_count": null,
       "_view_module": "@jupyter-widgets/base",
       "_view_module_version": "1.2.0",
       "_view_name": "LayoutView",
       "align_content": null,
       "align_items": null,
       "align_self": null,
       "border": null,
       "bottom": null,
       "display": null,
       "flex": null,
       "flex_flow": null,
       "grid_area": null,
       "grid_auto_columns": null,
       "grid_auto_flow": null,
       "grid_auto_rows": null,
       "grid_column": null,
       "grid_gap": null,
       "grid_row": null,
       "grid_template_areas": null,
       "grid_template_columns": null,
       "grid_template_rows": null,
       "height": null,
       "justify_content": null,
       "justify_items": null,
       "left": null,
       "margin": null,
       "max_height": null,
       "max_width": null,
       "min_height": null,
       "min_width": null,
       "object_fit": null,
       "object_position": null,
       "order": null,
       "overflow": null,
       "overflow_x": null,
       "overflow_y": null,
       "padding": null,
       "right": null,
       "top": null,
       "visibility": null,
       "width": null
      }
     },
     "363181c1e22e4eaeafac4170be220cab": {
      "model_module": "@jupyter-widgets/base",
      "model_module_version": "1.2.0",
      "model_name": "LayoutModel",
      "state": {
       "_model_module": "@jupyter-widgets/base",
       "_model_module_version": "1.2.0",
       "_model_name": "LayoutModel",
       "_view_count": null,
       "_view_module": "@jupyter-widgets/base",
       "_view_module_version": "1.2.0",
       "_view_name": "LayoutView",
       "align_content": null,
       "align_items": null,
       "align_self": null,
       "border": null,
       "bottom": null,
       "display": null,
       "flex": null,
       "flex_flow": null,
       "grid_area": null,
       "grid_auto_columns": null,
       "grid_auto_flow": null,
       "grid_auto_rows": null,
       "grid_column": null,
       "grid_gap": null,
       "grid_row": null,
       "grid_template_areas": null,
       "grid_template_columns": null,
       "grid_template_rows": null,
       "height": null,
       "justify_content": null,
       "justify_items": null,
       "left": null,
       "margin": null,
       "max_height": null,
       "max_width": null,
       "min_height": null,
       "min_width": null,
       "object_fit": null,
       "object_position": null,
       "order": null,
       "overflow": null,
       "overflow_x": null,
       "overflow_y": null,
       "padding": null,
       "right": null,
       "top": null,
       "visibility": null,
       "width": null
      }
     },
     "37482eb5a7ee42c996292d1dd760ce98": {
      "model_module": "@jupyter-widgets/base",
      "model_module_version": "1.2.0",
      "model_name": "LayoutModel",
      "state": {
       "_model_module": "@jupyter-widgets/base",
       "_model_module_version": "1.2.0",
       "_model_name": "LayoutModel",
       "_view_count": null,
       "_view_module": "@jupyter-widgets/base",
       "_view_module_version": "1.2.0",
       "_view_name": "LayoutView",
       "align_content": null,
       "align_items": null,
       "align_self": null,
       "border": null,
       "bottom": null,
       "display": null,
       "flex": null,
       "flex_flow": null,
       "grid_area": null,
       "grid_auto_columns": null,
       "grid_auto_flow": null,
       "grid_auto_rows": null,
       "grid_column": null,
       "grid_gap": null,
       "grid_row": null,
       "grid_template_areas": null,
       "grid_template_columns": null,
       "grid_template_rows": null,
       "height": null,
       "justify_content": null,
       "justify_items": null,
       "left": null,
       "margin": null,
       "max_height": null,
       "max_width": null,
       "min_height": null,
       "min_width": null,
       "object_fit": null,
       "object_position": null,
       "order": null,
       "overflow": null,
       "overflow_x": null,
       "overflow_y": null,
       "padding": null,
       "right": null,
       "top": null,
       "visibility": null,
       "width": null
      }
     },
     "389ba94d0fe84b4b89382fd369c15a6e": {
      "model_module": "@jupyter-widgets/controls",
      "model_module_version": "1.5.0",
      "model_name": "HBoxModel",
      "state": {
       "_dom_classes": [],
       "_model_module": "@jupyter-widgets/controls",
       "_model_module_version": "1.5.0",
       "_model_name": "HBoxModel",
       "_view_count": null,
       "_view_module": "@jupyter-widgets/controls",
       "_view_module_version": "1.5.0",
       "_view_name": "HBoxView",
       "box_style": "",
       "children": [
        "IPY_MODEL_f518a4f4a1d64ca7864064f2bd156b84",
        "IPY_MODEL_57280aa3fc344d5aaecae37899210304",
        "IPY_MODEL_85d6d3c5c07f44a9829cea19e47f72f8"
       ],
       "layout": "IPY_MODEL_556404f514884127ba2b0cb17d334e7f"
      }
     },
     "3f98ddcc51904840b9144a0a8f02323b": {
      "model_module": "@jupyter-widgets/base",
      "model_module_version": "1.2.0",
      "model_name": "LayoutModel",
      "state": {
       "_model_module": "@jupyter-widgets/base",
       "_model_module_version": "1.2.0",
       "_model_name": "LayoutModel",
       "_view_count": null,
       "_view_module": "@jupyter-widgets/base",
       "_view_module_version": "1.2.0",
       "_view_name": "LayoutView",
       "align_content": null,
       "align_items": null,
       "align_self": null,
       "border": null,
       "bottom": null,
       "display": null,
       "flex": null,
       "flex_flow": null,
       "grid_area": null,
       "grid_auto_columns": null,
       "grid_auto_flow": null,
       "grid_auto_rows": null,
       "grid_column": null,
       "grid_gap": null,
       "grid_row": null,
       "grid_template_areas": null,
       "grid_template_columns": null,
       "grid_template_rows": null,
       "height": null,
       "justify_content": null,
       "justify_items": null,
       "left": null,
       "margin": null,
       "max_height": null,
       "max_width": null,
       "min_height": null,
       "min_width": null,
       "object_fit": null,
       "object_position": null,
       "order": null,
       "overflow": null,
       "overflow_x": null,
       "overflow_y": null,
       "padding": null,
       "right": null,
       "top": null,
       "visibility": null,
       "width": null
      }
     },
     "5079f4d6dc39499aa44ebeefa3e9601c": {
      "model_module": "@jupyter-widgets/controls",
      "model_module_version": "1.5.0",
      "model_name": "DescriptionStyleModel",
      "state": {
       "_model_module": "@jupyter-widgets/controls",
       "_model_module_version": "1.5.0",
       "_model_name": "DescriptionStyleModel",
       "_view_count": null,
       "_view_module": "@jupyter-widgets/base",
       "_view_module_version": "1.2.0",
       "_view_name": "StyleView",
       "description_width": ""
      }
     },
     "51a2048e75d8487db2374a346528c8d4": {
      "model_module": "@jupyter-widgets/controls",
      "model_module_version": "1.5.0",
      "model_name": "HTMLModel",
      "state": {
       "_dom_classes": [],
       "_model_module": "@jupyter-widgets/controls",
       "_model_module_version": "1.5.0",
       "_model_name": "HTMLModel",
       "_view_count": null,
       "_view_module": "@jupyter-widgets/controls",
       "_view_module_version": "1.5.0",
       "_view_name": "HTMLView",
       "description": "",
       "description_tooltip": null,
       "layout": "IPY_MODEL_e427b6570eac4fe78927bc3a4c19e44f",
       "placeholder": "​",
       "style": "IPY_MODEL_714f2db412684475833df6e38a6fe615",
       "value": " 226k/226k [00:00&lt;00:00, 376kB/s]"
      }
     },
     "556404f514884127ba2b0cb17d334e7f": {
      "model_module": "@jupyter-widgets/base",
      "model_module_version": "1.2.0",
      "model_name": "LayoutModel",
      "state": {
       "_model_module": "@jupyter-widgets/base",
       "_model_module_version": "1.2.0",
       "_model_name": "LayoutModel",
       "_view_count": null,
       "_view_module": "@jupyter-widgets/base",
       "_view_module_version": "1.2.0",
       "_view_name": "LayoutView",
       "align_content": null,
       "align_items": null,
       "align_self": null,
       "border": null,
       "bottom": null,
       "display": null,
       "flex": null,
       "flex_flow": null,
       "grid_area": null,
       "grid_auto_columns": null,
       "grid_auto_flow": null,
       "grid_auto_rows": null,
       "grid_column": null,
       "grid_gap": null,
       "grid_row": null,
       "grid_template_areas": null,
       "grid_template_columns": null,
       "grid_template_rows": null,
       "height": null,
       "justify_content": null,
       "justify_items": null,
       "left": null,
       "margin": null,
       "max_height": null,
       "max_width": null,
       "min_height": null,
       "min_width": null,
       "object_fit": null,
       "object_position": null,
       "order": null,
       "overflow": null,
       "overflow_x": null,
       "overflow_y": null,
       "padding": null,
       "right": null,
       "top": null,
       "visibility": null,
       "width": null
      }
     },
     "57280aa3fc344d5aaecae37899210304": {
      "model_module": "@jupyter-widgets/controls",
      "model_module_version": "1.5.0",
      "model_name": "FloatProgressModel",
      "state": {
       "_dom_classes": [],
       "_model_module": "@jupyter-widgets/controls",
       "_model_module_version": "1.5.0",
       "_model_name": "FloatProgressModel",
       "_view_count": null,
       "_view_module": "@jupyter-widgets/controls",
       "_view_module_version": "1.5.0",
       "_view_name": "ProgressView",
       "bar_style": "success",
       "description": "",
       "description_tooltip": null,
       "layout": "IPY_MODEL_b33478061c08456f972f62d329d957df",
       "max": 466062.0,
       "min": 0.0,
       "orientation": "horizontal",
       "style": "IPY_MODEL_04a3e7d2a79546c0bf00ba2ff9cc3b5e",
       "value": 466062.0
      }
     },
     "5e6221ab570e43069d392b3326f00586": {
      "model_module": "@jupyter-widgets/controls",
      "model_module_version": "1.5.0",
      "model_name": "FloatProgressModel",
      "state": {
       "_dom_classes": [],
       "_model_module": "@jupyter-widgets/controls",
       "_model_module_version": "1.5.0",
       "_model_name": "FloatProgressModel",
       "_view_count": null,
       "_view_module": "@jupyter-widgets/controls",
       "_view_module_version": "1.5.0",
       "_view_name": "ProgressView",
       "bar_style": "success",
       "description": "",
       "description_tooltip": null,
       "layout": "IPY_MODEL_e4cd5dd0bb8f46a58bc2b2fb8eac9b51",
       "max": 231508.0,
       "min": 0.0,
       "orientation": "horizontal",
       "style": "IPY_MODEL_0cd699ecb3684edea2472688d2ccf96d",
       "value": 231508.0
      }
     },
     "66f400b177164177a820225a2be6f962": {
      "model_module": "@jupyter-widgets/controls",
      "model_module_version": "1.5.0",
      "model_name": "HBoxModel",
      "state": {
       "_dom_classes": [],
       "_model_module": "@jupyter-widgets/controls",
       "_model_module_version": "1.5.0",
       "_model_name": "HBoxModel",
       "_view_count": null,
       "_view_module": "@jupyter-widgets/controls",
       "_view_module_version": "1.5.0",
       "_view_name": "HBoxView",
       "box_style": "",
       "children": [
        "IPY_MODEL_f8cdc9a029474fc9b07d5372c24c7e92",
        "IPY_MODEL_83c9b7a5ef694982a270d9fffc74bcfc",
        "IPY_MODEL_b65816fb7e804ffc800fa5cbe3e68a26"
       ],
       "layout": "IPY_MODEL_6e6cdbd0e00c49f2bdb784aeb251a5b7"
      }
     },
     "6dd59b24d0cc46b6a5e95df1d2ba2499": {
      "model_module": "@jupyter-widgets/controls",
      "model_module_version": "1.5.0",
      "model_name": "HBoxModel",
      "state": {
       "_dom_classes": [],
       "_model_module": "@jupyter-widgets/controls",
       "_model_module_version": "1.5.0",
       "_model_name": "HBoxModel",
       "_view_count": null,
       "_view_module": "@jupyter-widgets/controls",
       "_view_module_version": "1.5.0",
       "_view_name": "HBoxView",
       "box_style": "",
       "children": [
        "IPY_MODEL_9459d18fd18548a7badbddf6a7bec736",
        "IPY_MODEL_ba0a9a3fe69e470a85105b33a17633eb",
        "IPY_MODEL_0a503c53c7e34377a1f5e2e4be2b990d"
       ],
       "layout": "IPY_MODEL_2a14ac28fc2647c39130bbd0407ef959"
      }
     },
     "6e6cdbd0e00c49f2bdb784aeb251a5b7": {
      "model_module": "@jupyter-widgets/base",
      "model_module_version": "1.2.0",
      "model_name": "LayoutModel",
      "state": {
       "_model_module": "@jupyter-widgets/base",
       "_model_module_version": "1.2.0",
       "_model_name": "LayoutModel",
       "_view_count": null,
       "_view_module": "@jupyter-widgets/base",
       "_view_module_version": "1.2.0",
       "_view_name": "LayoutView",
       "align_content": null,
       "align_items": null,
       "align_self": null,
       "border": null,
       "bottom": null,
       "display": null,
       "flex": null,
       "flex_flow": null,
       "grid_area": null,
       "grid_auto_columns": null,
       "grid_auto_flow": null,
       "grid_auto_rows": null,
       "grid_column": null,
       "grid_gap": null,
       "grid_row": null,
       "grid_template_areas": null,
       "grid_template_columns": null,
       "grid_template_rows": null,
       "height": null,
       "justify_content": null,
       "justify_items": null,
       "left": null,
       "margin": null,
       "max_height": null,
       "max_width": null,
       "min_height": null,
       "min_width": null,
       "object_fit": null,
       "object_position": null,
       "order": null,
       "overflow": null,
       "overflow_x": null,
       "overflow_y": null,
       "padding": null,
       "right": null,
       "top": null,
       "visibility": null,
       "width": null
      }
     },
     "714f2db412684475833df6e38a6fe615": {
      "model_module": "@jupyter-widgets/controls",
      "model_module_version": "1.5.0",
      "model_name": "DescriptionStyleModel",
      "state": {
       "_model_module": "@jupyter-widgets/controls",
       "_model_module_version": "1.5.0",
       "_model_name": "DescriptionStyleModel",
       "_view_count": null,
       "_view_module": "@jupyter-widgets/base",
       "_view_module_version": "1.2.0",
       "_view_name": "StyleView",
       "description_width": ""
      }
     },
     "7dbbcf87774447dbaaa80b3b6173256f": {
      "model_module": "@jupyter-widgets/base",
      "model_module_version": "1.2.0",
      "model_name": "LayoutModel",
      "state": {
       "_model_module": "@jupyter-widgets/base",
       "_model_module_version": "1.2.0",
       "_model_name": "LayoutModel",
       "_view_count": null,
       "_view_module": "@jupyter-widgets/base",
       "_view_module_version": "1.2.0",
       "_view_name": "LayoutView",
       "align_content": null,
       "align_items": null,
       "align_self": null,
       "border": null,
       "bottom": null,
       "display": null,
       "flex": null,
       "flex_flow": null,
       "grid_area": null,
       "grid_auto_columns": null,
       "grid_auto_flow": null,
       "grid_auto_rows": null,
       "grid_column": null,
       "grid_gap": null,
       "grid_row": null,
       "grid_template_areas": null,
       "grid_template_columns": null,
       "grid_template_rows": null,
       "height": null,
       "justify_content": null,
       "justify_items": null,
       "left": null,
       "margin": null,
       "max_height": null,
       "max_width": null,
       "min_height": null,
       "min_width": null,
       "object_fit": null,
       "object_position": null,
       "order": null,
       "overflow": null,
       "overflow_x": null,
       "overflow_y": null,
       "padding": null,
       "right": null,
       "top": null,
       "visibility": null,
       "width": null
      }
     },
     "83c9b7a5ef694982a270d9fffc74bcfc": {
      "model_module": "@jupyter-widgets/controls",
      "model_module_version": "1.5.0",
      "model_name": "FloatProgressModel",
      "state": {
       "_dom_classes": [],
       "_model_module": "@jupyter-widgets/controls",
       "_model_module_version": "1.5.0",
       "_model_name": "FloatProgressModel",
       "_view_count": null,
       "_view_module": "@jupyter-widgets/controls",
       "_view_module_version": "1.5.0",
       "_view_name": "ProgressView",
       "bar_style": "success",
       "description": "",
       "description_tooltip": null,
       "layout": "IPY_MODEL_7dbbcf87774447dbaaa80b3b6173256f",
       "max": 28.0,
       "min": 0.0,
       "orientation": "horizontal",
       "style": "IPY_MODEL_cae54a25cbac4555b66a7a59c4f0a6ba",
       "value": 28.0
      }
     },
     "85d6d3c5c07f44a9829cea19e47f72f8": {
      "model_module": "@jupyter-widgets/controls",
      "model_module_version": "1.5.0",
      "model_name": "HTMLModel",
      "state": {
       "_dom_classes": [],
       "_model_module": "@jupyter-widgets/controls",
       "_model_module_version": "1.5.0",
       "_model_name": "HTMLModel",
       "_view_count": null,
       "_view_module": "@jupyter-widgets/controls",
       "_view_module_version": "1.5.0",
       "_view_name": "HTMLView",
       "description": "",
       "description_tooltip": null,
       "layout": "IPY_MODEL_eee8584c9ea44bb796a18f27683a75e5",
       "placeholder": "​",
       "style": "IPY_MODEL_e095d1d635724c3f81d34aa66a5d8395",
       "value": " 455k/455k [00:00&lt;00:00, 917kB/s]"
      }
     },
     "8bd10873820247d3a4bc723bbf9b2450": {
      "model_module": "@jupyter-widgets/base",
      "model_module_version": "1.2.0",
      "model_name": "LayoutModel",
      "state": {
       "_model_module": "@jupyter-widgets/base",
       "_model_module_version": "1.2.0",
       "_model_name": "LayoutModel",
       "_view_count": null,
       "_view_module": "@jupyter-widgets/base",
       "_view_module_version": "1.2.0",
       "_view_name": "LayoutView",
       "align_content": null,
       "align_items": null,
       "align_self": null,
       "border": null,
       "bottom": null,
       "display": null,
       "flex": null,
       "flex_flow": null,
       "grid_area": null,
       "grid_auto_columns": null,
       "grid_auto_flow": null,
       "grid_auto_rows": null,
       "grid_column": null,
       "grid_gap": null,
       "grid_row": null,
       "grid_template_areas": null,
       "grid_template_columns": null,
       "grid_template_rows": null,
       "height": null,
       "justify_content": null,
       "justify_items": null,
       "left": null,
       "margin": null,
       "max_height": null,
       "max_width": null,
       "min_height": null,
       "min_width": null,
       "object_fit": null,
       "object_position": null,
       "order": null,
       "overflow": null,
       "overflow_x": null,
       "overflow_y": null,
       "padding": null,
       "right": null,
       "top": null,
       "visibility": null,
       "width": null
      }
     },
     "91863feb4dee44a8a3911f189142904f": {
      "model_module": "@jupyter-widgets/controls",
      "model_module_version": "1.5.0",
      "model_name": "DescriptionStyleModel",
      "state": {
       "_model_module": "@jupyter-widgets/controls",
       "_model_module_version": "1.5.0",
       "_model_name": "DescriptionStyleModel",
       "_view_count": null,
       "_view_module": "@jupyter-widgets/base",
       "_view_module_version": "1.2.0",
       "_view_name": "StyleView",
       "description_width": ""
      }
     },
     "9426c81beeae4de8bcac0667e9006c69": {
      "model_module": "@jupyter-widgets/controls",
      "model_module_version": "1.5.0",
      "model_name": "DescriptionStyleModel",
      "state": {
       "_model_module": "@jupyter-widgets/controls",
       "_model_module_version": "1.5.0",
       "_model_name": "DescriptionStyleModel",
       "_view_count": null,
       "_view_module": "@jupyter-widgets/base",
       "_view_module_version": "1.2.0",
       "_view_name": "StyleView",
       "description_width": ""
      }
     },
     "9459d18fd18548a7badbddf6a7bec736": {
      "model_module": "@jupyter-widgets/controls",
      "model_module_version": "1.5.0",
      "model_name": "HTMLModel",
      "state": {
       "_dom_classes": [],
       "_model_module": "@jupyter-widgets/controls",
       "_model_module_version": "1.5.0",
       "_model_name": "HTMLModel",
       "_view_count": null,
       "_view_module": "@jupyter-widgets/controls",
       "_view_module_version": "1.5.0",
       "_view_name": "HTMLView",
       "description": "",
       "description_tooltip": null,
       "layout": "IPY_MODEL_37482eb5a7ee42c996292d1dd760ce98",
       "placeholder": "​",
       "style": "IPY_MODEL_ff56f50311a2431f935e0f54759060b4",
       "value": "Downloading: 100%"
      }
     },
     "a47b211ba7804f4b904a782a0fe08ac0": {
      "model_module": "@jupyter-widgets/controls",
      "model_module_version": "1.5.0",
      "model_name": "DescriptionStyleModel",
      "state": {
       "_model_module": "@jupyter-widgets/controls",
       "_model_module_version": "1.5.0",
       "_model_name": "DescriptionStyleModel",
       "_view_count": null,
       "_view_module": "@jupyter-widgets/base",
       "_view_module_version": "1.2.0",
       "_view_name": "StyleView",
       "description_width": ""
      }
     },
     "b17253d8decc4cef90293a54425790c2": {
      "model_module": "@jupyter-widgets/base",
      "model_module_version": "1.2.0",
      "model_name": "LayoutModel",
      "state": {
       "_model_module": "@jupyter-widgets/base",
       "_model_module_version": "1.2.0",
       "_model_name": "LayoutModel",
       "_view_count": null,
       "_view_module": "@jupyter-widgets/base",
       "_view_module_version": "1.2.0",
       "_view_name": "LayoutView",
       "align_content": null,
       "align_items": null,
       "align_self": null,
       "border": null,
       "bottom": null,
       "display": null,
       "flex": null,
       "flex_flow": null,
       "grid_area": null,
       "grid_auto_columns": null,
       "grid_auto_flow": null,
       "grid_auto_rows": null,
       "grid_column": null,
       "grid_gap": null,
       "grid_row": null,
       "grid_template_areas": null,
       "grid_template_columns": null,
       "grid_template_rows": null,
       "height": null,
       "justify_content": null,
       "justify_items": null,
       "left": null,
       "margin": null,
       "max_height": null,
       "max_width": null,
       "min_height": null,
       "min_width": null,
       "object_fit": null,
       "object_position": null,
       "order": null,
       "overflow": null,
       "overflow_x": null,
       "overflow_y": null,
       "padding": null,
       "right": null,
       "top": null,
       "visibility": null,
       "width": null
      }
     },
     "b33478061c08456f972f62d329d957df": {
      "model_module": "@jupyter-widgets/base",
      "model_module_version": "1.2.0",
      "model_name": "LayoutModel",
      "state": {
       "_model_module": "@jupyter-widgets/base",
       "_model_module_version": "1.2.0",
       "_model_name": "LayoutModel",
       "_view_count": null,
       "_view_module": "@jupyter-widgets/base",
       "_view_module_version": "1.2.0",
       "_view_name": "LayoutView",
       "align_content": null,
       "align_items": null,
       "align_self": null,
       "border": null,
       "bottom": null,
       "display": null,
       "flex": null,
       "flex_flow": null,
       "grid_area": null,
       "grid_auto_columns": null,
       "grid_auto_flow": null,
       "grid_auto_rows": null,
       "grid_column": null,
       "grid_gap": null,
       "grid_row": null,
       "grid_template_areas": null,
       "grid_template_columns": null,
       "grid_template_rows": null,
       "height": null,
       "justify_content": null,
       "justify_items": null,
       "left": null,
       "margin": null,
       "max_height": null,
       "max_width": null,
       "min_height": null,
       "min_width": null,
       "object_fit": null,
       "object_position": null,
       "order": null,
       "overflow": null,
       "overflow_x": null,
       "overflow_y": null,
       "padding": null,
       "right": null,
       "top": null,
       "visibility": null,
       "width": null
      }
     },
     "b65816fb7e804ffc800fa5cbe3e68a26": {
      "model_module": "@jupyter-widgets/controls",
      "model_module_version": "1.5.0",
      "model_name": "HTMLModel",
      "state": {
       "_dom_classes": [],
       "_model_module": "@jupyter-widgets/controls",
       "_model_module_version": "1.5.0",
       "_model_name": "HTMLModel",
       "_view_count": null,
       "_view_module": "@jupyter-widgets/controls",
       "_view_module_version": "1.5.0",
       "_view_name": "HTMLView",
       "description": "",
       "description_tooltip": null,
       "layout": "IPY_MODEL_efd865a27460466d90a84141192421b8",
       "placeholder": "​",
       "style": "IPY_MODEL_a47b211ba7804f4b904a782a0fe08ac0",
       "value": " 28.0/28.0 [00:00&lt;00:00, 1.09kB/s]"
      }
     },
     "ba0a9a3fe69e470a85105b33a17633eb": {
      "model_module": "@jupyter-widgets/controls",
      "model_module_version": "1.5.0",
      "model_name": "FloatProgressModel",
      "state": {
       "_dom_classes": [],
       "_model_module": "@jupyter-widgets/controls",
       "_model_module_version": "1.5.0",
       "_model_name": "FloatProgressModel",
       "_view_count": null,
       "_view_module": "@jupyter-widgets/controls",
       "_view_module_version": "1.5.0",
       "_view_name": "ProgressView",
       "bar_style": "success",
       "description": "",
       "description_tooltip": null,
       "layout": "IPY_MODEL_8bd10873820247d3a4bc723bbf9b2450",
       "max": 570.0,
       "min": 0.0,
       "orientation": "horizontal",
       "style": "IPY_MODEL_1d7438de17da41b09f89660ab24d88de",
       "value": 570.0
      }
     },
     "cae54a25cbac4555b66a7a59c4f0a6ba": {
      "model_module": "@jupyter-widgets/controls",
      "model_module_version": "1.5.0",
      "model_name": "ProgressStyleModel",
      "state": {
       "_model_module": "@jupyter-widgets/controls",
       "_model_module_version": "1.5.0",
       "_model_name": "ProgressStyleModel",
       "_view_count": null,
       "_view_module": "@jupyter-widgets/base",
       "_view_module_version": "1.2.0",
       "_view_name": "StyleView",
       "bar_color": null,
       "description_width": ""
      }
     },
     "daa60f3aa7244e638ac9d39d4c9e73ae": {
      "model_module": "@jupyter-widgets/base",
      "model_module_version": "1.2.0",
      "model_name": "LayoutModel",
      "state": {
       "_model_module": "@jupyter-widgets/base",
       "_model_module_version": "1.2.0",
       "_model_name": "LayoutModel",
       "_view_count": null,
       "_view_module": "@jupyter-widgets/base",
       "_view_module_version": "1.2.0",
       "_view_name": "LayoutView",
       "align_content": null,
       "align_items": null,
       "align_self": null,
       "border": null,
       "bottom": null,
       "display": null,
       "flex": null,
       "flex_flow": null,
       "grid_area": null,
       "grid_auto_columns": null,
       "grid_auto_flow": null,
       "grid_auto_rows": null,
       "grid_column": null,
       "grid_gap": null,
       "grid_row": null,
       "grid_template_areas": null,
       "grid_template_columns": null,
       "grid_template_rows": null,
       "height": null,
       "justify_content": null,
       "justify_items": null,
       "left": null,
       "margin": null,
       "max_height": null,
       "max_width": null,
       "min_height": null,
       "min_width": null,
       "object_fit": null,
       "object_position": null,
       "order": null,
       "overflow": null,
       "overflow_x": null,
       "overflow_y": null,
       "padding": null,
       "right": null,
       "top": null,
       "visibility": null,
       "width": null
      }
     },
     "dbedfd09c4cc47f0b63f0c3663c2b3cb": {
      "model_module": "@jupyter-widgets/controls",
      "model_module_version": "1.5.0",
      "model_name": "HBoxModel",
      "state": {
       "_dom_classes": [],
       "_model_module": "@jupyter-widgets/controls",
       "_model_module_version": "1.5.0",
       "_model_name": "HBoxModel",
       "_view_count": null,
       "_view_module": "@jupyter-widgets/controls",
       "_view_module_version": "1.5.0",
       "_view_name": "HBoxView",
       "box_style": "",
       "children": [
        "IPY_MODEL_e1907035bb5a420fb2319acc77fa88d6",
        "IPY_MODEL_5e6221ab570e43069d392b3326f00586",
        "IPY_MODEL_51a2048e75d8487db2374a346528c8d4"
       ],
       "layout": "IPY_MODEL_363181c1e22e4eaeafac4170be220cab"
      }
     },
     "e095d1d635724c3f81d34aa66a5d8395": {
      "model_module": "@jupyter-widgets/controls",
      "model_module_version": "1.5.0",
      "model_name": "DescriptionStyleModel",
      "state": {
       "_model_module": "@jupyter-widgets/controls",
       "_model_module_version": "1.5.0",
       "_model_name": "DescriptionStyleModel",
       "_view_count": null,
       "_view_module": "@jupyter-widgets/base",
       "_view_module_version": "1.2.0",
       "_view_name": "StyleView",
       "description_width": ""
      }
     },
     "e1907035bb5a420fb2319acc77fa88d6": {
      "model_module": "@jupyter-widgets/controls",
      "model_module_version": "1.5.0",
      "model_name": "HTMLModel",
      "state": {
       "_dom_classes": [],
       "_model_module": "@jupyter-widgets/controls",
       "_model_module_version": "1.5.0",
       "_model_name": "HTMLModel",
       "_view_count": null,
       "_view_module": "@jupyter-widgets/controls",
       "_view_module_version": "1.5.0",
       "_view_name": "HTMLView",
       "description": "",
       "description_tooltip": null,
       "layout": "IPY_MODEL_e22f4ea1f2404a4e98ce9ddfe8d21b27",
       "placeholder": "​",
       "style": "IPY_MODEL_9426c81beeae4de8bcac0667e9006c69",
       "value": "Downloading: 100%"
      }
     },
     "e22f4ea1f2404a4e98ce9ddfe8d21b27": {
      "model_module": "@jupyter-widgets/base",
      "model_module_version": "1.2.0",
      "model_name": "LayoutModel",
      "state": {
       "_model_module": "@jupyter-widgets/base",
       "_model_module_version": "1.2.0",
       "_model_name": "LayoutModel",
       "_view_count": null,
       "_view_module": "@jupyter-widgets/base",
       "_view_module_version": "1.2.0",
       "_view_name": "LayoutView",
       "align_content": null,
       "align_items": null,
       "align_self": null,
       "border": null,
       "bottom": null,
       "display": null,
       "flex": null,
       "flex_flow": null,
       "grid_area": null,
       "grid_auto_columns": null,
       "grid_auto_flow": null,
       "grid_auto_rows": null,
       "grid_column": null,
       "grid_gap": null,
       "grid_row": null,
       "grid_template_areas": null,
       "grid_template_columns": null,
       "grid_template_rows": null,
       "height": null,
       "justify_content": null,
       "justify_items": null,
       "left": null,
       "margin": null,
       "max_height": null,
       "max_width": null,
       "min_height": null,
       "min_width": null,
       "object_fit": null,
       "object_position": null,
       "order": null,
       "overflow": null,
       "overflow_x": null,
       "overflow_y": null,
       "padding": null,
       "right": null,
       "top": null,
       "visibility": null,
       "width": null
      }
     },
     "e427b6570eac4fe78927bc3a4c19e44f": {
      "model_module": "@jupyter-widgets/base",
      "model_module_version": "1.2.0",
      "model_name": "LayoutModel",
      "state": {
       "_model_module": "@jupyter-widgets/base",
       "_model_module_version": "1.2.0",
       "_model_name": "LayoutModel",
       "_view_count": null,
       "_view_module": "@jupyter-widgets/base",
       "_view_module_version": "1.2.0",
       "_view_name": "LayoutView",
       "align_content": null,
       "align_items": null,
       "align_self": null,
       "border": null,
       "bottom": null,
       "display": null,
       "flex": null,
       "flex_flow": null,
       "grid_area": null,
       "grid_auto_columns": null,
       "grid_auto_flow": null,
       "grid_auto_rows": null,
       "grid_column": null,
       "grid_gap": null,
       "grid_row": null,
       "grid_template_areas": null,
       "grid_template_columns": null,
       "grid_template_rows": null,
       "height": null,
       "justify_content": null,
       "justify_items": null,
       "left": null,
       "margin": null,
       "max_height": null,
       "max_width": null,
       "min_height": null,
       "min_width": null,
       "object_fit": null,
       "object_position": null,
       "order": null,
       "overflow": null,
       "overflow_x": null,
       "overflow_y": null,
       "padding": null,
       "right": null,
       "top": null,
       "visibility": null,
       "width": null
      }
     },
     "e4cd5dd0bb8f46a58bc2b2fb8eac9b51": {
      "model_module": "@jupyter-widgets/base",
      "model_module_version": "1.2.0",
      "model_name": "LayoutModel",
      "state": {
       "_model_module": "@jupyter-widgets/base",
       "_model_module_version": "1.2.0",
       "_model_name": "LayoutModel",
       "_view_count": null,
       "_view_module": "@jupyter-widgets/base",
       "_view_module_version": "1.2.0",
       "_view_name": "LayoutView",
       "align_content": null,
       "align_items": null,
       "align_self": null,
       "border": null,
       "bottom": null,
       "display": null,
       "flex": null,
       "flex_flow": null,
       "grid_area": null,
       "grid_auto_columns": null,
       "grid_auto_flow": null,
       "grid_auto_rows": null,
       "grid_column": null,
       "grid_gap": null,
       "grid_row": null,
       "grid_template_areas": null,
       "grid_template_columns": null,
       "grid_template_rows": null,
       "height": null,
       "justify_content": null,
       "justify_items": null,
       "left": null,
       "margin": null,
       "max_height": null,
       "max_width": null,
       "min_height": null,
       "min_width": null,
       "object_fit": null,
       "object_position": null,
       "order": null,
       "overflow": null,
       "overflow_x": null,
       "overflow_y": null,
       "padding": null,
       "right": null,
       "top": null,
       "visibility": null,
       "width": null
      }
     },
     "eee8584c9ea44bb796a18f27683a75e5": {
      "model_module": "@jupyter-widgets/base",
      "model_module_version": "1.2.0",
      "model_name": "LayoutModel",
      "state": {
       "_model_module": "@jupyter-widgets/base",
       "_model_module_version": "1.2.0",
       "_model_name": "LayoutModel",
       "_view_count": null,
       "_view_module": "@jupyter-widgets/base",
       "_view_module_version": "1.2.0",
       "_view_name": "LayoutView",
       "align_content": null,
       "align_items": null,
       "align_self": null,
       "border": null,
       "bottom": null,
       "display": null,
       "flex": null,
       "flex_flow": null,
       "grid_area": null,
       "grid_auto_columns": null,
       "grid_auto_flow": null,
       "grid_auto_rows": null,
       "grid_column": null,
       "grid_gap": null,
       "grid_row": null,
       "grid_template_areas": null,
       "grid_template_columns": null,
       "grid_template_rows": null,
       "height": null,
       "justify_content": null,
       "justify_items": null,
       "left": null,
       "margin": null,
       "max_height": null,
       "max_width": null,
       "min_height": null,
       "min_width": null,
       "object_fit": null,
       "object_position": null,
       "order": null,
       "overflow": null,
       "overflow_x": null,
       "overflow_y": null,
       "padding": null,
       "right": null,
       "top": null,
       "visibility": null,
       "width": null
      }
     },
     "efd865a27460466d90a84141192421b8": {
      "model_module": "@jupyter-widgets/base",
      "model_module_version": "1.2.0",
      "model_name": "LayoutModel",
      "state": {
       "_model_module": "@jupyter-widgets/base",
       "_model_module_version": "1.2.0",
       "_model_name": "LayoutModel",
       "_view_count": null,
       "_view_module": "@jupyter-widgets/base",
       "_view_module_version": "1.2.0",
       "_view_name": "LayoutView",
       "align_content": null,
       "align_items": null,
       "align_self": null,
       "border": null,
       "bottom": null,
       "display": null,
       "flex": null,
       "flex_flow": null,
       "grid_area": null,
       "grid_auto_columns": null,
       "grid_auto_flow": null,
       "grid_auto_rows": null,
       "grid_column": null,
       "grid_gap": null,
       "grid_row": null,
       "grid_template_areas": null,
       "grid_template_columns": null,
       "grid_template_rows": null,
       "height": null,
       "justify_content": null,
       "justify_items": null,
       "left": null,
       "margin": null,
       "max_height": null,
       "max_width": null,
       "min_height": null,
       "min_width": null,
       "object_fit": null,
       "object_position": null,
       "order": null,
       "overflow": null,
       "overflow_x": null,
       "overflow_y": null,
       "padding": null,
       "right": null,
       "top": null,
       "visibility": null,
       "width": null
      }
     },
     "f518a4f4a1d64ca7864064f2bd156b84": {
      "model_module": "@jupyter-widgets/controls",
      "model_module_version": "1.5.0",
      "model_name": "HTMLModel",
      "state": {
       "_dom_classes": [],
       "_model_module": "@jupyter-widgets/controls",
       "_model_module_version": "1.5.0",
       "_model_name": "HTMLModel",
       "_view_count": null,
       "_view_module": "@jupyter-widgets/controls",
       "_view_module_version": "1.5.0",
       "_view_name": "HTMLView",
       "description": "",
       "description_tooltip": null,
       "layout": "IPY_MODEL_daa60f3aa7244e638ac9d39d4c9e73ae",
       "placeholder": "​",
       "style": "IPY_MODEL_5079f4d6dc39499aa44ebeefa3e9601c",
       "value": "Downloading: 100%"
      }
     },
     "f8cdc9a029474fc9b07d5372c24c7e92": {
      "model_module": "@jupyter-widgets/controls",
      "model_module_version": "1.5.0",
      "model_name": "HTMLModel",
      "state": {
       "_dom_classes": [],
       "_model_module": "@jupyter-widgets/controls",
       "_model_module_version": "1.5.0",
       "_model_name": "HTMLModel",
       "_view_count": null,
       "_view_module": "@jupyter-widgets/controls",
       "_view_module_version": "1.5.0",
       "_view_name": "HTMLView",
       "description": "",
       "description_tooltip": null,
       "layout": "IPY_MODEL_3f98ddcc51904840b9144a0a8f02323b",
       "placeholder": "​",
       "style": "IPY_MODEL_91863feb4dee44a8a3911f189142904f",
       "value": "Downloading: 100%"
      }
     },
     "ff56f50311a2431f935e0f54759060b4": {
      "model_module": "@jupyter-widgets/controls",
      "model_module_version": "1.5.0",
      "model_name": "DescriptionStyleModel",
      "state": {
       "_model_module": "@jupyter-widgets/controls",
       "_model_module_version": "1.5.0",
       "_model_name": "DescriptionStyleModel",
       "_view_count": null,
       "_view_module": "@jupyter-widgets/base",
       "_view_module_version": "1.2.0",
       "_view_name": "StyleView",
       "description_width": ""
      }
     }
    },
    "version_major": 2,
    "version_minor": 0
   }
  }
 },
 "nbformat": 4,
 "nbformat_minor": 5
}
