{
 "cells": [
  {
   "cell_type": "code",
   "execution_count": 1,
   "id": "93bf1f6e",
   "metadata": {
    "_cell_guid": "b1076dfc-b9ad-4769-8c92-a6c4dae69d19",
    "_uuid": "8f2839f25d086af736a60e9eeb907d3b93b6e0e5",
    "execution": {
     "iopub.execute_input": "2023-01-25T08:55:25.612420Z",
     "iopub.status.busy": "2023-01-25T08:55:25.611496Z",
     "iopub.status.idle": "2023-01-25T08:55:25.622075Z",
     "shell.execute_reply": "2023-01-25T08:55:25.621076Z"
    },
    "papermill": {
     "duration": 0.019355,
     "end_time": "2023-01-25T08:55:25.624667",
     "exception": false,
     "start_time": "2023-01-25T08:55:25.605312",
     "status": "completed"
    },
    "tags": []
   },
   "outputs": [],
   "source": [
    "import pandas as pd "
   ]
  },
  {
   "cell_type": "code",
   "execution_count": 2,
   "id": "d876ffcd",
   "metadata": {
    "execution": {
     "iopub.execute_input": "2023-01-25T08:55:25.633294Z",
     "iopub.status.busy": "2023-01-25T08:55:25.632889Z",
     "iopub.status.idle": "2023-01-25T08:55:27.876578Z",
     "shell.execute_reply": "2023-01-25T08:55:27.875403Z"
    },
    "papermill": {
     "duration": 2.251086,
     "end_time": "2023-01-25T08:55:27.879325",
     "exception": false,
     "start_time": "2023-01-25T08:55:25.628239",
     "status": "completed"
    },
    "tags": []
   },
   "outputs": [],
   "source": [
    "df = pd.read_csv('/kaggle/input/masculinity-saturday-twitter-sentiment-analysis/twitter_sentiment_analysis_masculinity_saturday_data_annotated.csv', index_col=0)"
   ]
  },
  {
   "cell_type": "code",
   "execution_count": 3,
   "id": "099d66fb",
   "metadata": {
    "execution": {
     "iopub.execute_input": "2023-01-25T08:55:27.887363Z",
     "iopub.status.busy": "2023-01-25T08:55:27.886942Z",
     "iopub.status.idle": "2023-01-25T08:55:27.914874Z",
     "shell.execute_reply": "2023-01-25T08:55:27.913742Z"
    },
    "papermill": {
     "duration": 0.034999,
     "end_time": "2023-01-25T08:55:27.917565",
     "exception": false,
     "start_time": "2023-01-25T08:55:27.882566",
     "status": "completed"
    },
    "tags": []
   },
   "outputs": [
    {
     "data": {
      "text/html": [
       "<div>\n",
       "<style scoped>\n",
       "    .dataframe tbody tr th:only-of-type {\n",
       "        vertical-align: middle;\n",
       "    }\n",
       "\n",
       "    .dataframe tbody tr th {\n",
       "        vertical-align: top;\n",
       "    }\n",
       "\n",
       "    .dataframe thead th {\n",
       "        text-align: right;\n",
       "    }\n",
       "</style>\n",
       "<table border=\"1\" class=\"dataframe\">\n",
       "  <thead>\n",
       "    <tr style=\"text-align: right;\">\n",
       "      <th></th>\n",
       "      <th>tweet_created_at</th>\n",
       "      <th>text</th>\n",
       "      <th>Positive</th>\n",
       "      <th>Negative</th>\n",
       "      <th>Neutral</th>\n",
       "      <th>Compound</th>\n",
       "      <th>Sentiment</th>\n",
       "    </tr>\n",
       "  </thead>\n",
       "  <tbody>\n",
       "    <tr>\n",
       "      <th>0</th>\n",
       "      <td>2022-12-30 22:37:46+00:00</td>\n",
       "      <td>Men who have refused to listen to/attend @amer...</td>\n",
       "      <td>0.000</td>\n",
       "      <td>0.073</td>\n",
       "      <td>0.927</td>\n",
       "      <td>-0.2960</td>\n",
       "      <td>Negative</td>\n",
       "    </tr>\n",
       "    <tr>\n",
       "      <th>1</th>\n",
       "      <td>2022-12-30 22:30:58+00:00</td>\n",
       "      <td>@OvOBrezzzy Take amerix next</td>\n",
       "      <td>0.000</td>\n",
       "      <td>0.000</td>\n",
       "      <td>1.000</td>\n",
       "      <td>0.0000</td>\n",
       "      <td>Neutral</td>\n",
       "    </tr>\n",
       "    <tr>\n",
       "      <th>2</th>\n",
       "      <td>2022-12-30 22:18:00+00:00</td>\n",
       "      <td>@AyodeleYo11 @amerix Nah I’m good my masculini...</td>\n",
       "      <td>0.493</td>\n",
       "      <td>0.068</td>\n",
       "      <td>0.439</td>\n",
       "      <td>0.8271</td>\n",
       "      <td>Positive</td>\n",
       "    </tr>\n",
       "    <tr>\n",
       "      <th>3</th>\n",
       "      <td>2022-12-30 20:42:54+00:00</td>\n",
       "      <td>@Amerix_DontSimp There is no need for dating i...</td>\n",
       "      <td>0.000</td>\n",
       "      <td>0.180</td>\n",
       "      <td>0.820</td>\n",
       "      <td>-0.2960</td>\n",
       "      <td>Negative</td>\n",
       "    </tr>\n",
       "    <tr>\n",
       "      <th>4</th>\n",
       "      <td>2022-12-30 20:32:23+00:00</td>\n",
       "      <td>@DyeAnna7 @amerix @kibe From what cos nothing ...</td>\n",
       "      <td>0.110</td>\n",
       "      <td>0.000</td>\n",
       "      <td>0.890</td>\n",
       "      <td>0.6908</td>\n",
       "      <td>Positive</td>\n",
       "    </tr>\n",
       "  </tbody>\n",
       "</table>\n",
       "</div>"
      ],
      "text/plain": [
       "            tweet_created_at  \\\n",
       "0  2022-12-30 22:37:46+00:00   \n",
       "1  2022-12-30 22:30:58+00:00   \n",
       "2  2022-12-30 22:18:00+00:00   \n",
       "3  2022-12-30 20:42:54+00:00   \n",
       "4  2022-12-30 20:32:23+00:00   \n",
       "\n",
       "                                                text  Positive  Negative  \\\n",
       "0  Men who have refused to listen to/attend @amer...     0.000     0.073   \n",
       "1                       @OvOBrezzzy Take amerix next     0.000     0.000   \n",
       "2  @AyodeleYo11 @amerix Nah I’m good my masculini...     0.493     0.068   \n",
       "3  @Amerix_DontSimp There is no need for dating i...     0.000     0.180   \n",
       "4  @DyeAnna7 @amerix @kibe From what cos nothing ...     0.110     0.000   \n",
       "\n",
       "   Neutral  Compound Sentiment  \n",
       "0    0.927   -0.2960  Negative  \n",
       "1    1.000    0.0000   Neutral  \n",
       "2    0.439    0.8271  Positive  \n",
       "3    0.820   -0.2960  Negative  \n",
       "4    0.890    0.6908  Positive  "
      ]
     },
     "execution_count": 3,
     "metadata": {},
     "output_type": "execute_result"
    }
   ],
   "source": [
    "df.head()"
   ]
  },
  {
   "cell_type": "code",
   "execution_count": 4,
   "id": "2b5305d5",
   "metadata": {
    "execution": {
     "iopub.execute_input": "2023-01-25T08:55:27.926278Z",
     "iopub.status.busy": "2023-01-25T08:55:27.925848Z",
     "iopub.status.idle": "2023-01-25T08:55:27.993373Z",
     "shell.execute_reply": "2023-01-25T08:55:27.992137Z"
    },
    "papermill": {
     "duration": 0.074625,
     "end_time": "2023-01-25T08:55:27.995805",
     "exception": false,
     "start_time": "2023-01-25T08:55:27.921180",
     "status": "completed"
    },
    "tags": []
   },
   "outputs": [
    {
     "name": "stdout",
     "output_type": "stream",
     "text": [
      "<class 'pandas.core.frame.DataFrame'>\n",
      "Int64Index: 248738 entries, 0 to 248738\n",
      "Data columns (total 7 columns):\n",
      " #   Column            Non-Null Count   Dtype  \n",
      "---  ------            --------------   -----  \n",
      " 0   tweet_created_at  248738 non-null  object \n",
      " 1   text              248738 non-null  object \n",
      " 2   Positive          248738 non-null  float64\n",
      " 3   Negative          248738 non-null  float64\n",
      " 4   Neutral           248738 non-null  float64\n",
      " 5   Compound          248738 non-null  float64\n",
      " 6   Sentiment         248738 non-null  object \n",
      "dtypes: float64(4), object(3)\n",
      "memory usage: 15.2+ MB\n"
     ]
    }
   ],
   "source": [
    "df.info()"
   ]
  },
  {
   "cell_type": "code",
   "execution_count": 5,
   "id": "a79b105f",
   "metadata": {
    "execution": {
     "iopub.execute_input": "2023-01-25T08:55:28.005448Z",
     "iopub.status.busy": "2023-01-25T08:55:28.004185Z",
     "iopub.status.idle": "2023-01-25T08:55:28.141609Z",
     "shell.execute_reply": "2023-01-25T08:55:28.140314Z"
    },
    "papermill": {
     "duration": 0.145052,
     "end_time": "2023-01-25T08:55:28.144542",
     "exception": false,
     "start_time": "2023-01-25T08:55:27.999490",
     "status": "completed"
    },
    "tags": []
   },
   "outputs": [],
   "source": [
    "df['tweet_created_at'] = pd.to_datetime(df['tweet_created_at'])"
   ]
  },
  {
   "cell_type": "code",
   "execution_count": 6,
   "id": "722d871f",
   "metadata": {
    "execution": {
     "iopub.execute_input": "2023-01-25T08:55:28.153507Z",
     "iopub.status.busy": "2023-01-25T08:55:28.153109Z",
     "iopub.status.idle": "2023-01-25T08:55:28.204561Z",
     "shell.execute_reply": "2023-01-25T08:55:28.203357Z"
    },
    "papermill": {
     "duration": 0.059252,
     "end_time": "2023-01-25T08:55:28.207475",
     "exception": false,
     "start_time": "2023-01-25T08:55:28.148223",
     "status": "completed"
    },
    "tags": []
   },
   "outputs": [
    {
     "name": "stdout",
     "output_type": "stream",
     "text": [
      "<class 'pandas.core.frame.DataFrame'>\n",
      "Int64Index: 248738 entries, 0 to 248738\n",
      "Data columns (total 7 columns):\n",
      " #   Column            Non-Null Count   Dtype              \n",
      "---  ------            --------------   -----              \n",
      " 0   tweet_created_at  248738 non-null  datetime64[ns, UTC]\n",
      " 1   text              248738 non-null  object             \n",
      " 2   Positive          248738 non-null  float64            \n",
      " 3   Negative          248738 non-null  float64            \n",
      " 4   Neutral           248738 non-null  float64            \n",
      " 5   Compound          248738 non-null  float64            \n",
      " 6   Sentiment         248738 non-null  object             \n",
      "dtypes: datetime64[ns, UTC](1), float64(4), object(2)\n",
      "memory usage: 15.2+ MB\n"
     ]
    }
   ],
   "source": [
    "df.info()"
   ]
  },
  {
   "cell_type": "code",
   "execution_count": 7,
   "id": "2db98c06",
   "metadata": {
    "execution": {
     "iopub.execute_input": "2023-01-25T08:55:28.216729Z",
     "iopub.status.busy": "2023-01-25T08:55:28.216348Z",
     "iopub.status.idle": "2023-01-25T08:55:28.223211Z",
     "shell.execute_reply": "2023-01-25T08:55:28.222004Z"
    },
    "papermill": {
     "duration": 0.014533,
     "end_time": "2023-01-25T08:55:28.225730",
     "exception": false,
     "start_time": "2023-01-25T08:55:28.211197",
     "status": "completed"
    },
    "tags": []
   },
   "outputs": [
    {
     "data": {
      "text/plain": [
       "(248738, 7)"
      ]
     },
     "execution_count": 7,
     "metadata": {},
     "output_type": "execute_result"
    }
   ],
   "source": [
    "df.shape"
   ]
  },
  {
   "cell_type": "code",
   "execution_count": 8,
   "id": "6bb48557",
   "metadata": {
    "execution": {
     "iopub.execute_input": "2023-01-25T08:55:28.235148Z",
     "iopub.status.busy": "2023-01-25T08:55:28.234755Z",
     "iopub.status.idle": "2023-01-25T08:55:28.512592Z",
     "shell.execute_reply": "2023-01-25T08:55:28.511611Z"
    },
    "papermill": {
     "duration": 0.285632,
     "end_time": "2023-01-25T08:55:28.515221",
     "exception": false,
     "start_time": "2023-01-25T08:55:28.229589",
     "status": "completed"
    },
    "tags": []
   },
   "outputs": [],
   "source": [
    "df.drop_duplicates(subset='text',inplace=True)"
   ]
  },
  {
   "cell_type": "code",
   "execution_count": 9,
   "id": "d4f6bd5e",
   "metadata": {
    "execution": {
     "iopub.execute_input": "2023-01-25T08:55:28.525114Z",
     "iopub.status.busy": "2023-01-25T08:55:28.524040Z",
     "iopub.status.idle": "2023-01-25T08:55:28.530320Z",
     "shell.execute_reply": "2023-01-25T08:55:28.529547Z"
    },
    "papermill": {
     "duration": 0.01362,
     "end_time": "2023-01-25T08:55:28.532702",
     "exception": false,
     "start_time": "2023-01-25T08:55:28.519082",
     "status": "completed"
    },
    "tags": []
   },
   "outputs": [
    {
     "data": {
      "text/plain": [
       "(236023, 7)"
      ]
     },
     "execution_count": 9,
     "metadata": {},
     "output_type": "execute_result"
    }
   ],
   "source": [
    "df.shape"
   ]
  },
  {
   "cell_type": "code",
   "execution_count": null,
   "id": "61d0aac5",
   "metadata": {
    "papermill": {
     "duration": 0.003566,
     "end_time": "2023-01-25T08:55:28.540106",
     "exception": false,
     "start_time": "2023-01-25T08:55:28.536540",
     "status": "completed"
    },
    "tags": []
   },
   "outputs": [],
   "source": []
  }
 ],
 "metadata": {
  "kernelspec": {
   "display_name": "Python 3",
   "language": "python",
   "name": "python3"
  },
  "language_info": {
   "codemirror_mode": {
    "name": "ipython",
    "version": 3
   },
   "file_extension": ".py",
   "mimetype": "text/x-python",
   "name": "python",
   "nbconvert_exporter": "python",
   "pygments_lexer": "ipython3",
   "version": "3.7.12"
  },
  "papermill": {
   "default_parameters": {},
   "duration": 12.050266,
   "end_time": "2023-01-25T08:55:29.265693",
   "environment_variables": {},
   "exception": null,
   "input_path": "__notebook__.ipynb",
   "output_path": "__notebook__.ipynb",
   "parameters": {},
   "start_time": "2023-01-25T08:55:17.215427",
   "version": "2.3.4"
  }
 },
 "nbformat": 4,
 "nbformat_minor": 5
}
