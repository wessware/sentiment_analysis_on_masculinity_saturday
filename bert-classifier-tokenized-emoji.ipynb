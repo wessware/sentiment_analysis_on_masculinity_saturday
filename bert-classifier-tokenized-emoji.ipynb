{
 "cells": [
  {
   "cell_type": "code",
   "execution_count": 1,
   "id": "db4dd3f0",
   "metadata": {
    "_cell_guid": "b1076dfc-b9ad-4769-8c92-a6c4dae69d19",
    "_uuid": "8f2839f25d086af736a60e9eeb907d3b93b6e0e5",
    "execution": {
     "iopub.execute_input": "2023-03-22T06:36:15.143612Z",
     "iopub.status.busy": "2023-03-22T06:36:15.142743Z",
     "iopub.status.idle": "2023-03-22T06:36:27.533920Z",
     "shell.execute_reply": "2023-03-22T06:36:27.532441Z"
    },
    "papermill": {
     "duration": 12.401143,
     "end_time": "2023-03-22T06:36:27.537260",
     "exception": false,
     "start_time": "2023-03-22T06:36:15.136117",
     "status": "completed"
    },
    "tags": []
   },
   "outputs": [],
   "source": [
    "import pandas as pd \n",
    "import numpy as np\n",
    "\n",
    "import matplotlib.pyplot as plt\n",
    "import seaborn as sns\n",
    "\n",
    "from sklearn import preprocessing\n",
    "from imblearn.over_sampling import RandomOverSampler\n",
    "from sklearn.model_selection import train_test_split\n",
    "from sklearn.feature_extraction.text import CountVectorizer\n",
    "from sklearn.feature_extraction.text import TfidfTransformer\n",
    "\n",
    "import tensorflow as tf\n",
    "from tensorflow import keras\n",
    "\n",
    "from sklearn.metrics import accuracy_score, f1_score\n",
    "from sklearn.metrics import classification_report, confusion_matrix\n",
    "\n",
    "seed=42"
   ]
  },
  {
   "cell_type": "code",
   "execution_count": 2,
   "id": "90782993",
   "metadata": {
    "execution": {
     "iopub.execute_input": "2023-03-22T06:36:27.547417Z",
     "iopub.status.busy": "2023-03-22T06:36:27.546559Z",
     "iopub.status.idle": "2023-03-22T06:36:30.843582Z",
     "shell.execute_reply": "2023-03-22T06:36:30.842244Z"
    },
    "papermill": {
     "duration": 3.305283,
     "end_time": "2023-03-22T06:36:30.846448",
     "exception": false,
     "start_time": "2023-03-22T06:36:27.541165",
     "status": "completed"
    },
    "tags": []
   },
   "outputs": [],
   "source": [
    "from transformers import BertTokenizerFast\n",
    "from transformers import TFBertModel"
   ]
  },
  {
   "cell_type": "code",
   "execution_count": 3,
   "id": "5ef5f83e",
   "metadata": {
    "execution": {
     "iopub.execute_input": "2023-03-22T06:36:30.857374Z",
     "iopub.status.busy": "2023-03-22T06:36:30.856131Z",
     "iopub.status.idle": "2023-03-22T06:36:30.878026Z",
     "shell.execute_reply": "2023-03-22T06:36:30.876472Z"
    },
    "papermill": {
     "duration": 0.030055,
     "end_time": "2023-03-22T06:36:30.880727",
     "exception": false,
     "start_time": "2023-03-22T06:36:30.850672",
     "status": "completed"
    },
    "tags": []
   },
   "outputs": [
    {
     "data": {
      "text/plain": [
       "<Figure size 640x480 with 0 Axes>"
      ]
     },
     "metadata": {},
     "output_type": "display_data"
    }
   ],
   "source": [
    "sns.set_style(\"whitegrid\")\n",
    "sns.despine()\n",
    "plt.style.use(\"seaborn-whitegrid\")\n",
    "plt.rc(\"figure\", autolayout=True)\n",
    "plt.rc(\"axes\", labelweight=\"bold\", labelsize=\"large\", titleweight=\"bold\", titlepad=10)"
   ]
  },
  {
   "cell_type": "code",
   "execution_count": 4,
   "id": "7110b789",
   "metadata": {
    "execution": {
     "iopub.execute_input": "2023-03-22T06:36:30.890068Z",
     "iopub.status.busy": "2023-03-22T06:36:30.889621Z",
     "iopub.status.idle": "2023-03-22T06:36:30.897584Z",
     "shell.execute_reply": "2023-03-22T06:36:30.896070Z"
    },
    "papermill": {
     "duration": 0.015449,
     "end_time": "2023-03-22T06:36:30.899996",
     "exception": false,
     "start_time": "2023-03-22T06:36:30.884547",
     "status": "completed"
    },
    "tags": []
   },
   "outputs": [],
   "source": [
    "def conf_matrix(y, y_pred, title):\n",
    "    fig, ax =plt.subplots(figsize=(5,5))\n",
    "    labels=['Negative', 'Positive', 'Neutral']\n",
    "    ax=sns.heatmap(confusion_matrix(y, y_pred), annot=True, cmap=\"Blues\", fmt='g', cbar=False, annot_kws={\"size\":25})\n",
    "    plt.title(title, fontsize=20)\n",
    "    ax.xaxis.set_ticklabels(labels, fontsize=17) \n",
    "    ax.yaxis.set_ticklabels(labels, fontsize=17)\n",
    "    ax.set_ylabel('Test', fontsize=20)\n",
    "    ax.set_xlabel('Predicted', fontsize=20)\n",
    "    plt.show()"
   ]
  },
  {
   "cell_type": "code",
   "execution_count": 5,
   "id": "3056fde2",
   "metadata": {
    "execution": {
     "iopub.execute_input": "2023-03-22T06:36:30.909122Z",
     "iopub.status.busy": "2023-03-22T06:36:30.908728Z",
     "iopub.status.idle": "2023-03-22T06:36:32.184598Z",
     "shell.execute_reply": "2023-03-22T06:36:32.182965Z"
    },
    "papermill": {
     "duration": 1.284159,
     "end_time": "2023-03-22T06:36:32.187918",
     "exception": false,
     "start_time": "2023-03-22T06:36:30.903759",
     "status": "completed"
    },
    "tags": []
   },
   "outputs": [],
   "source": [
    "df = pd.read_csv('/kaggle/input/smsa-tokenized-emoji-dataset/amerix_smsa_adv_emoji_ecoded_data.csv', index_col=0)"
   ]
  },
  {
   "cell_type": "code",
   "execution_count": 6,
   "id": "0649c9a3",
   "metadata": {
    "execution": {
     "iopub.execute_input": "2023-03-22T06:36:32.197959Z",
     "iopub.status.busy": "2023-03-22T06:36:32.197515Z",
     "iopub.status.idle": "2023-03-22T06:36:32.222511Z",
     "shell.execute_reply": "2023-03-22T06:36:32.221035Z"
    },
    "papermill": {
     "duration": 0.033548,
     "end_time": "2023-03-22T06:36:32.225475",
     "exception": false,
     "start_time": "2023-03-22T06:36:32.191927",
     "status": "completed"
    },
    "tags": []
   },
   "outputs": [
    {
     "data": {
      "text/html": [
       "<div>\n",
       "<style scoped>\n",
       "    .dataframe tbody tr th:only-of-type {\n",
       "        vertical-align: middle;\n",
       "    }\n",
       "\n",
       "    .dataframe tbody tr th {\n",
       "        vertical-align: top;\n",
       "    }\n",
       "\n",
       "    .dataframe thead th {\n",
       "        text-align: right;\n",
       "    }\n",
       "</style>\n",
       "<table border=\"1\" class=\"dataframe\">\n",
       "  <thead>\n",
       "    <tr style=\"text-align: right;\">\n",
       "      <th></th>\n",
       "      <th>tweet_created_at</th>\n",
       "      <th>text_clean_deeper</th>\n",
       "      <th>Sentiment</th>\n",
       "    </tr>\n",
       "  </thead>\n",
       "  <tbody>\n",
       "    <tr>\n",
       "      <th>154462</th>\n",
       "      <td>2022-06-08 11:44:34+00:00</td>\n",
       "      <td>wishing the team the best today the team has i...</td>\n",
       "      <td>1</td>\n",
       "    </tr>\n",
       "    <tr>\n",
       "      <th>98658</th>\n",
       "      <td>2022-11-07 22:49:01+00:00</td>\n",
       "      <td>all humans are bettertogether voteblue resist ...</td>\n",
       "      <td>2</td>\n",
       "    </tr>\n",
       "    <tr>\n",
       "      <th>73057</th>\n",
       "      <td>2022-10-29 05:34:53+00:00</td>\n",
       "      <td>lemme retweet share screenshot and tag this fe...</td>\n",
       "      <td>1</td>\n",
       "    </tr>\n",
       "    <tr>\n",
       "      <th>124877</th>\n",
       "      <td>2022-08-21 23:58:59+00:00</td>\n",
       "      <td>keep pushing multiple aeds are so important fo...</td>\n",
       "      <td>1</td>\n",
       "    </tr>\n",
       "    <tr>\n",
       "      <th>99068</th>\n",
       "      <td>2022-11-06 02:45:54+00:00</td>\n",
       "      <td>this is my only points slip this was 80k this ...</td>\n",
       "      <td>1</td>\n",
       "    </tr>\n",
       "  </tbody>\n",
       "</table>\n",
       "</div>"
      ],
      "text/plain": [
       "                 tweet_created_at  \\\n",
       "154462  2022-06-08 11:44:34+00:00   \n",
       "98658   2022-11-07 22:49:01+00:00   \n",
       "73057   2022-10-29 05:34:53+00:00   \n",
       "124877  2022-08-21 23:58:59+00:00   \n",
       "99068   2022-11-06 02:45:54+00:00   \n",
       "\n",
       "                                        text_clean_deeper  Sentiment  \n",
       "154462  wishing the team the best today the team has i...          1  \n",
       "98658   all humans are bettertogether voteblue resist ...          2  \n",
       "73057   lemme retweet share screenshot and tag this fe...          1  \n",
       "124877  keep pushing multiple aeds are so important fo...          1  \n",
       "99068   this is my only points slip this was 80k this ...          1  "
      ]
     },
     "execution_count": 6,
     "metadata": {},
     "output_type": "execute_result"
    }
   ],
   "source": [
    "df.head()"
   ]
  },
  {
   "cell_type": "code",
   "execution_count": 7,
   "id": "603f6bed",
   "metadata": {
    "execution": {
     "iopub.execute_input": "2023-03-22T06:36:32.235347Z",
     "iopub.status.busy": "2023-03-22T06:36:32.234798Z",
     "iopub.status.idle": "2023-03-22T06:36:32.244484Z",
     "shell.execute_reply": "2023-03-22T06:36:32.242867Z"
    },
    "papermill": {
     "duration": 0.017756,
     "end_time": "2023-03-22T06:36:32.247281",
     "exception": false,
     "start_time": "2023-03-22T06:36:32.229525",
     "status": "completed"
    },
    "tags": []
   },
   "outputs": [
    {
     "data": {
      "text/plain": [
       "(233687, 3)"
      ]
     },
     "execution_count": 7,
     "metadata": {},
     "output_type": "execute_result"
    }
   ],
   "source": [
    "df.shape"
   ]
  },
  {
   "cell_type": "code",
   "execution_count": 8,
   "id": "38cbd21c",
   "metadata": {
    "execution": {
     "iopub.execute_input": "2023-03-22T06:36:32.257848Z",
     "iopub.status.busy": "2023-03-22T06:36:32.257409Z",
     "iopub.status.idle": "2023-03-22T06:36:32.314442Z",
     "shell.execute_reply": "2023-03-22T06:36:32.312689Z"
    },
    "papermill": {
     "duration": 0.067237,
     "end_time": "2023-03-22T06:36:32.318729",
     "exception": false,
     "start_time": "2023-03-22T06:36:32.251492",
     "status": "completed"
    },
    "tags": []
   },
   "outputs": [
    {
     "name": "stdout",
     "output_type": "stream",
     "text": [
      "<class 'pandas.core.frame.DataFrame'>\n",
      "Int64Index: 233687 entries, 154462 to 17279\n",
      "Data columns (total 3 columns):\n",
      " #   Column             Non-Null Count   Dtype \n",
      "---  ------             --------------   ----- \n",
      " 0   tweet_created_at   233687 non-null  object\n",
      " 1   text_clean_deeper  233687 non-null  object\n",
      " 2   Sentiment          233687 non-null  int64 \n",
      "dtypes: int64(1), object(2)\n",
      "memory usage: 7.1+ MB\n"
     ]
    }
   ],
   "source": [
    "df.info()"
   ]
  },
  {
   "cell_type": "code",
   "execution_count": 9,
   "id": "c6ba1640",
   "metadata": {
    "execution": {
     "iopub.execute_input": "2023-03-22T06:36:32.330427Z",
     "iopub.status.busy": "2023-03-22T06:36:32.329923Z",
     "iopub.status.idle": "2023-03-22T06:36:32.888852Z",
     "shell.execute_reply": "2023-03-22T06:36:32.887500Z"
    },
    "papermill": {
     "duration": 0.568453,
     "end_time": "2023-03-22T06:36:32.891812",
     "exception": false,
     "start_time": "2023-03-22T06:36:32.323359",
     "status": "completed"
    },
    "tags": []
   },
   "outputs": [],
   "source": [
    "ros = RandomOverSampler()\n",
    "\n",
    "train_x, train_y = ros.fit_resample(np.array(df['text_clean_deeper']).reshape(-1, 1), np.array(df['Sentiment']).reshape(-1, 1))\n",
    "\n",
    "ros_df = pd.DataFrame(list(zip([x[0] for x in train_x], train_y)), columns = ['text_clean_deeper', 'Sentiment'])"
   ]
  },
  {
   "cell_type": "code",
   "execution_count": 10,
   "id": "2a0d6449",
   "metadata": {
    "execution": {
     "iopub.execute_input": "2023-03-22T06:36:32.902999Z",
     "iopub.status.busy": "2023-03-22T06:36:32.902566Z",
     "iopub.status.idle": "2023-03-22T06:36:32.916327Z",
     "shell.execute_reply": "2023-03-22T06:36:32.914694Z"
    },
    "papermill": {
     "duration": 0.022827,
     "end_time": "2023-03-22T06:36:32.918927",
     "exception": false,
     "start_time": "2023-03-22T06:36:32.896100",
     "status": "completed"
    },
    "tags": []
   },
   "outputs": [
    {
     "data": {
      "text/plain": [
       "1    129190\n",
       "2    129190\n",
       "0    129190\n",
       "Name: Sentiment, dtype: int64"
      ]
     },
     "execution_count": 10,
     "metadata": {},
     "output_type": "execute_result"
    }
   ],
   "source": [
    "ros_df['Sentiment'].value_counts()"
   ]
  },
  {
   "cell_type": "code",
   "execution_count": null,
   "id": "1eb4e76d",
   "metadata": {
    "papermill": {
     "duration": 0.004001,
     "end_time": "2023-03-22T06:36:32.927258",
     "exception": false,
     "start_time": "2023-03-22T06:36:32.923257",
     "status": "completed"
    },
    "tags": []
   },
   "outputs": [],
   "source": []
  }
 ],
 "metadata": {
  "kernelspec": {
   "display_name": "Python 3",
   "language": "python",
   "name": "python3"
  },
  "language_info": {
   "codemirror_mode": {
    "name": "ipython",
    "version": 3
   },
   "file_extension": ".py",
   "mimetype": "text/x-python",
   "name": "python",
   "nbconvert_exporter": "python",
   "pygments_lexer": "ipython3",
   "version": "3.7.12"
  },
  "papermill": {
   "default_parameters": {},
   "duration": 31.775089,
   "end_time": "2023-03-22T06:36:36.026139",
   "environment_variables": {},
   "exception": null,
   "input_path": "__notebook__.ipynb",
   "output_path": "__notebook__.ipynb",
   "parameters": {},
   "start_time": "2023-03-22T06:36:04.251050",
   "version": "2.4.0"
  }
 },
 "nbformat": 4,
 "nbformat_minor": 5
}
