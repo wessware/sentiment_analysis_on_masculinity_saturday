{
 "cells": [
  {
   "cell_type": "code",
   "execution_count": 1,
   "id": "ae1df7f1",
   "metadata": {
    "_cell_guid": "b1076dfc-b9ad-4769-8c92-a6c4dae69d19",
    "_uuid": "8f2839f25d086af736a60e9eeb907d3b93b6e0e5",
    "execution": {
     "iopub.execute_input": "2023-03-22T06:27:04.965740Z",
     "iopub.status.busy": "2023-03-22T06:27:04.964608Z",
     "iopub.status.idle": "2023-03-22T06:27:16.497144Z",
     "shell.execute_reply": "2023-03-22T06:27:16.495542Z"
    },
    "papermill": {
     "duration": 11.542093,
     "end_time": "2023-03-22T06:27:16.500706",
     "exception": false,
     "start_time": "2023-03-22T06:27:04.958613",
     "status": "completed"
    },
    "tags": []
   },
   "outputs": [],
   "source": [
    "import pandas as pd \n",
    "import numpy as np\n",
    "\n",
    "import matplotlib.pyplot as plt\n",
    "import seaborn as sns\n",
    "\n",
    "from sklearn import preprocessing\n",
    "from imblearn.over_sampling import RandomOverSampler\n",
    "from sklearn.model_selection import train_test_split\n",
    "from sklearn.feature_extraction.text import CountVectorizer\n",
    "from sklearn.feature_extraction.text import TfidfTransformer\n",
    "\n",
    "import tensorflow as tf\n",
    "from tensorflow import keras\n",
    "\n",
    "from sklearn.metrics import accuracy_score, f1_score\n",
    "from sklearn.metrics import classification_report, confusion_matrix\n",
    "\n",
    "seed=42"
   ]
  },
  {
   "cell_type": "code",
   "execution_count": 2,
   "id": "171bfb2d",
   "metadata": {
    "execution": {
     "iopub.execute_input": "2023-03-22T06:27:16.509977Z",
     "iopub.status.busy": "2023-03-22T06:27:16.508038Z",
     "iopub.status.idle": "2023-03-22T06:27:19.702634Z",
     "shell.execute_reply": "2023-03-22T06:27:19.700900Z"
    },
    "papermill": {
     "duration": 3.202095,
     "end_time": "2023-03-22T06:27:19.705862",
     "exception": false,
     "start_time": "2023-03-22T06:27:16.503767",
     "status": "completed"
    },
    "tags": []
   },
   "outputs": [],
   "source": [
    "from transformers import BertTokenizerFast\n",
    "from transformers import TFBertModel"
   ]
  },
  {
   "cell_type": "code",
   "execution_count": 3,
   "id": "d67d5524",
   "metadata": {
    "execution": {
     "iopub.execute_input": "2023-03-22T06:27:19.714593Z",
     "iopub.status.busy": "2023-03-22T06:27:19.713794Z",
     "iopub.status.idle": "2023-03-22T06:27:19.737655Z",
     "shell.execute_reply": "2023-03-22T06:27:19.736106Z"
    },
    "papermill": {
     "duration": 0.031576,
     "end_time": "2023-03-22T06:27:19.740927",
     "exception": false,
     "start_time": "2023-03-22T06:27:19.709351",
     "status": "completed"
    },
    "tags": []
   },
   "outputs": [
    {
     "data": {
      "text/plain": [
       "<Figure size 640x480 with 0 Axes>"
      ]
     },
     "metadata": {},
     "output_type": "display_data"
    }
   ],
   "source": [
    "sns.set_style(\"whitegrid\")\n",
    "sns.despine()\n",
    "plt.style.use(\"seaborn-whitegrid\")\n",
    "plt.rc(\"figure\", autolayout=True)\n",
    "plt.rc(\"axes\", labelweight=\"bold\", labelsize=\"large\", titleweight=\"bold\", titlepad=10)"
   ]
  },
  {
   "cell_type": "code",
   "execution_count": 4,
   "id": "df5ebf52",
   "metadata": {
    "execution": {
     "iopub.execute_input": "2023-03-22T06:27:19.748970Z",
     "iopub.status.busy": "2023-03-22T06:27:19.748456Z",
     "iopub.status.idle": "2023-03-22T06:27:19.757354Z",
     "shell.execute_reply": "2023-03-22T06:27:19.755879Z"
    },
    "papermill": {
     "duration": 0.016201,
     "end_time": "2023-03-22T06:27:19.760098",
     "exception": false,
     "start_time": "2023-03-22T06:27:19.743897",
     "status": "completed"
    },
    "tags": []
   },
   "outputs": [],
   "source": [
    "def conf_matrix(y, y_pred, title):\n",
    "    fig, ax =plt.subplots(figsize=(5,5))\n",
    "    labels=['Negative', 'Positive', 'Neutral']\n",
    "    ax=sns.heatmap(confusion_matrix(y, y_pred), annot=True, cmap=\"Blues\", fmt='g', cbar=False, annot_kws={\"size\":25})\n",
    "    plt.title(title, fontsize=20)\n",
    "    ax.xaxis.set_ticklabels(labels, fontsize=17) \n",
    "    ax.yaxis.set_ticklabels(labels, fontsize=17)\n",
    "    ax.set_ylabel('Test', fontsize=20)\n",
    "    ax.set_xlabel('Predicted', fontsize=20)\n",
    "    plt.show()"
   ]
  },
  {
   "cell_type": "code",
   "execution_count": null,
   "id": "6ab436aa",
   "metadata": {
    "papermill": {
     "duration": 0.002307,
     "end_time": "2023-03-22T06:27:19.765384",
     "exception": false,
     "start_time": "2023-03-22T06:27:19.763077",
     "status": "completed"
    },
    "tags": []
   },
   "outputs": [],
   "source": []
  }
 ],
 "metadata": {
  "kernelspec": {
   "display_name": "Python 3",
   "language": "python",
   "name": "python3"
  },
  "language_info": {
   "codemirror_mode": {
    "name": "ipython",
    "version": 3
   },
   "file_extension": ".py",
   "mimetype": "text/x-python",
   "name": "python",
   "nbconvert_exporter": "python",
   "pygments_lexer": "ipython3",
   "version": "3.7.12"
  },
  "papermill": {
   "default_parameters": {},
   "duration": 28.843352,
   "end_time": "2023-03-22T06:27:22.990313",
   "environment_variables": {},
   "exception": null,
   "input_path": "__notebook__.ipynb",
   "output_path": "__notebook__.ipynb",
   "parameters": {},
   "start_time": "2023-03-22T06:26:54.146961",
   "version": "2.4.0"
  }
 },
 "nbformat": 4,
 "nbformat_minor": 5
}
