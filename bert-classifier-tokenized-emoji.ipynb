{
 "cells": [
  {
   "cell_type": "code",
   "execution_count": 1,
   "id": "9993c7f1",
   "metadata": {
    "_cell_guid": "b1076dfc-b9ad-4769-8c92-a6c4dae69d19",
    "_uuid": "8f2839f25d086af736a60e9eeb907d3b93b6e0e5",
    "execution": {
     "iopub.execute_input": "2023-03-22T06:38:19.904147Z",
     "iopub.status.busy": "2023-03-22T06:38:19.903532Z",
     "iopub.status.idle": "2023-03-22T06:38:30.587843Z",
     "shell.execute_reply": "2023-03-22T06:38:30.586697Z"
    },
    "papermill": {
     "duration": 10.695445,
     "end_time": "2023-03-22T06:38:30.590903",
     "exception": false,
     "start_time": "2023-03-22T06:38:19.895458",
     "status": "completed"
    },
    "tags": []
   },
   "outputs": [],
   "source": [
    "import pandas as pd \n",
    "import numpy as np\n",
    "\n",
    "import matplotlib.pyplot as plt\n",
    "import seaborn as sns\n",
    "\n",
    "from sklearn import preprocessing\n",
    "from imblearn.over_sampling import RandomOverSampler\n",
    "from sklearn.model_selection import train_test_split\n",
    "from sklearn.feature_extraction.text import CountVectorizer\n",
    "from sklearn.feature_extraction.text import TfidfTransformer\n",
    "\n",
    "import tensorflow as tf\n",
    "from tensorflow import keras\n",
    "\n",
    "from sklearn.metrics import accuracy_score, f1_score\n",
    "from sklearn.metrics import classification_report, confusion_matrix\n",
    "\n",
    "seed=42"
   ]
  },
  {
   "cell_type": "code",
   "execution_count": 2,
   "id": "9d602938",
   "metadata": {
    "execution": {
     "iopub.execute_input": "2023-03-22T06:38:30.603320Z",
     "iopub.status.busy": "2023-03-22T06:38:30.602193Z",
     "iopub.status.idle": "2023-03-22T06:38:33.278305Z",
     "shell.execute_reply": "2023-03-22T06:38:33.276930Z"
    },
    "papermill": {
     "duration": 2.685473,
     "end_time": "2023-03-22T06:38:33.281249",
     "exception": false,
     "start_time": "2023-03-22T06:38:30.595776",
     "status": "completed"
    },
    "tags": []
   },
   "outputs": [],
   "source": [
    "from transformers import BertTokenizerFast\n",
    "from transformers import TFBertModel"
   ]
  },
  {
   "cell_type": "code",
   "execution_count": 3,
   "id": "8195b603",
   "metadata": {
    "execution": {
     "iopub.execute_input": "2023-03-22T06:38:33.292342Z",
     "iopub.status.busy": "2023-03-22T06:38:33.291924Z",
     "iopub.status.idle": "2023-03-22T06:38:33.311688Z",
     "shell.execute_reply": "2023-03-22T06:38:33.310164Z"
    },
    "papermill": {
     "duration": 0.02908,
     "end_time": "2023-03-22T06:38:33.314948",
     "exception": false,
     "start_time": "2023-03-22T06:38:33.285868",
     "status": "completed"
    },
    "tags": []
   },
   "outputs": [
    {
     "data": {
      "text/plain": [
       "<Figure size 640x480 with 0 Axes>"
      ]
     },
     "metadata": {},
     "output_type": "display_data"
    }
   ],
   "source": [
    "sns.set_style(\"whitegrid\")\n",
    "sns.despine()\n",
    "plt.style.use(\"seaborn-whitegrid\")\n",
    "plt.rc(\"figure\", autolayout=True)\n",
    "plt.rc(\"axes\", labelweight=\"bold\", labelsize=\"large\", titleweight=\"bold\", titlepad=10)"
   ]
  },
  {
   "cell_type": "code",
   "execution_count": 4,
   "id": "40efa853",
   "metadata": {
    "execution": {
     "iopub.execute_input": "2023-03-22T06:38:33.326200Z",
     "iopub.status.busy": "2023-03-22T06:38:33.325765Z",
     "iopub.status.idle": "2023-03-22T06:38:33.333346Z",
     "shell.execute_reply": "2023-03-22T06:38:33.332092Z"
    },
    "papermill": {
     "duration": 0.016179,
     "end_time": "2023-03-22T06:38:33.335862",
     "exception": false,
     "start_time": "2023-03-22T06:38:33.319683",
     "status": "completed"
    },
    "tags": []
   },
   "outputs": [],
   "source": [
    "def conf_matrix(y, y_pred, title):\n",
    "    fig, ax =plt.subplots(figsize=(5,5))\n",
    "    labels=['Negative', 'Positive', 'Neutral']\n",
    "    ax=sns.heatmap(confusion_matrix(y, y_pred), annot=True, cmap=\"Blues\", fmt='g', cbar=False, annot_kws={\"size\":25})\n",
    "    plt.title(title, fontsize=20)\n",
    "    ax.xaxis.set_ticklabels(labels, fontsize=17) \n",
    "    ax.yaxis.set_ticklabels(labels, fontsize=17)\n",
    "    ax.set_ylabel('Test', fontsize=20)\n",
    "    ax.set_xlabel('Predicted', fontsize=20)\n",
    "    plt.show()"
   ]
  },
  {
   "cell_type": "code",
   "execution_count": 5,
   "id": "2311469b",
   "metadata": {
    "execution": {
     "iopub.execute_input": "2023-03-22T06:38:33.346662Z",
     "iopub.status.busy": "2023-03-22T06:38:33.346216Z",
     "iopub.status.idle": "2023-03-22T06:38:34.570656Z",
     "shell.execute_reply": "2023-03-22T06:38:34.569394Z"
    },
    "papermill": {
     "duration": 1.233344,
     "end_time": "2023-03-22T06:38:34.573741",
     "exception": false,
     "start_time": "2023-03-22T06:38:33.340397",
     "status": "completed"
    },
    "tags": []
   },
   "outputs": [],
   "source": [
    "df = pd.read_csv('/kaggle/input/smsa-tokenized-emoji-dataset/amerix_smsa_adv_emoji_ecoded_data.csv', index_col=0)"
   ]
  },
  {
   "cell_type": "code",
   "execution_count": 6,
   "id": "e49315a9",
   "metadata": {
    "execution": {
     "iopub.execute_input": "2023-03-22T06:38:34.586382Z",
     "iopub.status.busy": "2023-03-22T06:38:34.585901Z",
     "iopub.status.idle": "2023-03-22T06:38:34.612841Z",
     "shell.execute_reply": "2023-03-22T06:38:34.611658Z"
    },
    "papermill": {
     "duration": 0.036235,
     "end_time": "2023-03-22T06:38:34.615635",
     "exception": false,
     "start_time": "2023-03-22T06:38:34.579400",
     "status": "completed"
    },
    "tags": []
   },
   "outputs": [
    {
     "data": {
      "text/html": [
       "<div>\n",
       "<style scoped>\n",
       "    .dataframe tbody tr th:only-of-type {\n",
       "        vertical-align: middle;\n",
       "    }\n",
       "\n",
       "    .dataframe tbody tr th {\n",
       "        vertical-align: top;\n",
       "    }\n",
       "\n",
       "    .dataframe thead th {\n",
       "        text-align: right;\n",
       "    }\n",
       "</style>\n",
       "<table border=\"1\" class=\"dataframe\">\n",
       "  <thead>\n",
       "    <tr style=\"text-align: right;\">\n",
       "      <th></th>\n",
       "      <th>tweet_created_at</th>\n",
       "      <th>text_clean_deeper</th>\n",
       "      <th>Sentiment</th>\n",
       "    </tr>\n",
       "  </thead>\n",
       "  <tbody>\n",
       "    <tr>\n",
       "      <th>154462</th>\n",
       "      <td>2022-06-08 11:44:34+00:00</td>\n",
       "      <td>wishing the team the best today the team has i...</td>\n",
       "      <td>1</td>\n",
       "    </tr>\n",
       "    <tr>\n",
       "      <th>98658</th>\n",
       "      <td>2022-11-07 22:49:01+00:00</td>\n",
       "      <td>all humans are bettertogether voteblue resist ...</td>\n",
       "      <td>2</td>\n",
       "    </tr>\n",
       "    <tr>\n",
       "      <th>73057</th>\n",
       "      <td>2022-10-29 05:34:53+00:00</td>\n",
       "      <td>lemme retweet share screenshot and tag this fe...</td>\n",
       "      <td>1</td>\n",
       "    </tr>\n",
       "    <tr>\n",
       "      <th>124877</th>\n",
       "      <td>2022-08-21 23:58:59+00:00</td>\n",
       "      <td>keep pushing multiple aeds are so important fo...</td>\n",
       "      <td>1</td>\n",
       "    </tr>\n",
       "    <tr>\n",
       "      <th>99068</th>\n",
       "      <td>2022-11-06 02:45:54+00:00</td>\n",
       "      <td>this is my only points slip this was 80k this ...</td>\n",
       "      <td>1</td>\n",
       "    </tr>\n",
       "  </tbody>\n",
       "</table>\n",
       "</div>"
      ],
      "text/plain": [
       "                 tweet_created_at  \\\n",
       "154462  2022-06-08 11:44:34+00:00   \n",
       "98658   2022-11-07 22:49:01+00:00   \n",
       "73057   2022-10-29 05:34:53+00:00   \n",
       "124877  2022-08-21 23:58:59+00:00   \n",
       "99068   2022-11-06 02:45:54+00:00   \n",
       "\n",
       "                                        text_clean_deeper  Sentiment  \n",
       "154462  wishing the team the best today the team has i...          1  \n",
       "98658   all humans are bettertogether voteblue resist ...          2  \n",
       "73057   lemme retweet share screenshot and tag this fe...          1  \n",
       "124877  keep pushing multiple aeds are so important fo...          1  \n",
       "99068   this is my only points slip this was 80k this ...          1  "
      ]
     },
     "execution_count": 6,
     "metadata": {},
     "output_type": "execute_result"
    }
   ],
   "source": [
    "df.head()"
   ]
  },
  {
   "cell_type": "code",
   "execution_count": 7,
   "id": "9570ae05",
   "metadata": {
    "execution": {
     "iopub.execute_input": "2023-03-22T06:38:34.627275Z",
     "iopub.status.busy": "2023-03-22T06:38:34.626799Z",
     "iopub.status.idle": "2023-03-22T06:38:34.634777Z",
     "shell.execute_reply": "2023-03-22T06:38:34.633637Z"
    },
    "papermill": {
     "duration": 0.016835,
     "end_time": "2023-03-22T06:38:34.637449",
     "exception": false,
     "start_time": "2023-03-22T06:38:34.620614",
     "status": "completed"
    },
    "tags": []
   },
   "outputs": [
    {
     "data": {
      "text/plain": [
       "(233687, 3)"
      ]
     },
     "execution_count": 7,
     "metadata": {},
     "output_type": "execute_result"
    }
   ],
   "source": [
    "df.shape"
   ]
  },
  {
   "cell_type": "code",
   "execution_count": 8,
   "id": "18e20a13",
   "metadata": {
    "execution": {
     "iopub.execute_input": "2023-03-22T06:38:34.649091Z",
     "iopub.status.busy": "2023-03-22T06:38:34.648624Z",
     "iopub.status.idle": "2023-03-22T06:38:34.704779Z",
     "shell.execute_reply": "2023-03-22T06:38:34.702852Z"
    },
    "papermill": {
     "duration": 0.065614,
     "end_time": "2023-03-22T06:38:34.708017",
     "exception": false,
     "start_time": "2023-03-22T06:38:34.642403",
     "status": "completed"
    },
    "tags": []
   },
   "outputs": [
    {
     "name": "stdout",
     "output_type": "stream",
     "text": [
      "<class 'pandas.core.frame.DataFrame'>\n",
      "Int64Index: 233687 entries, 154462 to 17279\n",
      "Data columns (total 3 columns):\n",
      " #   Column             Non-Null Count   Dtype \n",
      "---  ------             --------------   ----- \n",
      " 0   tweet_created_at   233687 non-null  object\n",
      " 1   text_clean_deeper  233687 non-null  object\n",
      " 2   Sentiment          233687 non-null  int64 \n",
      "dtypes: int64(1), object(2)\n",
      "memory usage: 7.1+ MB\n"
     ]
    }
   ],
   "source": [
    "df.info()"
   ]
  },
  {
   "cell_type": "code",
   "execution_count": 9,
   "id": "10173904",
   "metadata": {
    "execution": {
     "iopub.execute_input": "2023-03-22T06:38:34.720332Z",
     "iopub.status.busy": "2023-03-22T06:38:34.719899Z",
     "iopub.status.idle": "2023-03-22T06:38:35.333201Z",
     "shell.execute_reply": "2023-03-22T06:38:35.331701Z"
    },
    "papermill": {
     "duration": 0.622987,
     "end_time": "2023-03-22T06:38:35.336324",
     "exception": false,
     "start_time": "2023-03-22T06:38:34.713337",
     "status": "completed"
    },
    "tags": []
   },
   "outputs": [],
   "source": [
    "ros = RandomOverSampler()\n",
    "\n",
    "train_x, train_y = ros.fit_resample(np.array(df['text_clean_deeper']).reshape(-1, 1), np.array(df['Sentiment']).reshape(-1, 1))\n",
    "\n",
    "ros_df = pd.DataFrame(list(zip([x[0] for x in train_x], train_y)), columns = ['text_clean_deeper', 'Sentiment'])"
   ]
  },
  {
   "cell_type": "code",
   "execution_count": 10,
   "id": "b42ce6b8",
   "metadata": {
    "execution": {
     "iopub.execute_input": "2023-03-22T06:38:35.348515Z",
     "iopub.status.busy": "2023-03-22T06:38:35.348025Z",
     "iopub.status.idle": "2023-03-22T06:38:35.361014Z",
     "shell.execute_reply": "2023-03-22T06:38:35.359826Z"
    },
    "papermill": {
     "duration": 0.022086,
     "end_time": "2023-03-22T06:38:35.363518",
     "exception": false,
     "start_time": "2023-03-22T06:38:35.341432",
     "status": "completed"
    },
    "tags": []
   },
   "outputs": [
    {
     "data": {
      "text/plain": [
       "1    129190\n",
       "2    129190\n",
       "0    129190\n",
       "Name: Sentiment, dtype: int64"
      ]
     },
     "execution_count": 10,
     "metadata": {},
     "output_type": "execute_result"
    }
   ],
   "source": [
    "ros_df['Sentiment'].value_counts()"
   ]
  },
  {
   "cell_type": "code",
   "execution_count": 11,
   "id": "7b37101d",
   "metadata": {
    "execution": {
     "iopub.execute_input": "2023-03-22T06:38:35.376402Z",
     "iopub.status.busy": "2023-03-22T06:38:35.375415Z",
     "iopub.status.idle": "2023-03-22T06:38:35.381972Z",
     "shell.execute_reply": "2023-03-22T06:38:35.380708Z"
    },
    "papermill": {
     "duration": 0.015757,
     "end_time": "2023-03-22T06:38:35.384459",
     "exception": false,
     "start_time": "2023-03-22T06:38:35.368702",
     "status": "completed"
    },
    "tags": []
   },
   "outputs": [],
   "source": [
    "X = ros_df['text_clean_deeper'].values\n",
    "y = ros_df['Sentiment'].values"
   ]
  },
  {
   "cell_type": "code",
   "execution_count": 12,
   "id": "278df305",
   "metadata": {
    "execution": {
     "iopub.execute_input": "2023-03-22T06:38:35.396367Z",
     "iopub.status.busy": "2023-03-22T06:38:35.395907Z",
     "iopub.status.idle": "2023-03-22T06:38:35.565175Z",
     "shell.execute_reply": "2023-03-22T06:38:35.563987Z"
    },
    "papermill": {
     "duration": 0.178542,
     "end_time": "2023-03-22T06:38:35.568084",
     "exception": false,
     "start_time": "2023-03-22T06:38:35.389542",
     "status": "completed"
    },
    "tags": []
   },
   "outputs": [],
   "source": [
    "x_, x_test, y_, y_test = train_test_split(X, y, test_size=0.3, stratify=y, random_state=42)"
   ]
  },
  {
   "cell_type": "code",
   "execution_count": 13,
   "id": "c428616d",
   "metadata": {
    "execution": {
     "iopub.execute_input": "2023-03-22T06:38:35.580468Z",
     "iopub.status.busy": "2023-03-22T06:38:35.580044Z",
     "iopub.status.idle": "2023-03-22T06:38:35.701205Z",
     "shell.execute_reply": "2023-03-22T06:38:35.699763Z"
    },
    "papermill": {
     "duration": 0.130972,
     "end_time": "2023-03-22T06:38:35.704365",
     "exception": false,
     "start_time": "2023-03-22T06:38:35.573393",
     "status": "completed"
    },
    "tags": []
   },
   "outputs": [],
   "source": [
    "x_train, x_val, y_train, y_val = train_test_split(x_, y_, test_size=0.2, stratify=y_, random_state=42)"
   ]
  },
  {
   "cell_type": "code",
   "execution_count": 14,
   "id": "4417b51f",
   "metadata": {
    "execution": {
     "iopub.execute_input": "2023-03-22T06:38:35.716781Z",
     "iopub.status.busy": "2023-03-22T06:38:35.716307Z",
     "iopub.status.idle": "2023-03-22T06:38:35.723180Z",
     "shell.execute_reply": "2023-03-22T06:38:35.721929Z"
    },
    "papermill": {
     "duration": 0.016094,
     "end_time": "2023-03-22T06:38:35.725734",
     "exception": false,
     "start_time": "2023-03-22T06:38:35.709640",
     "status": "completed"
    },
    "tags": []
   },
   "outputs": [],
   "source": [
    "y_train_c = y_train.copy()\n",
    "y_valid_c = y_val.copy()\n",
    "y_test_c = y_test.copy()"
   ]
  },
  {
   "cell_type": "code",
   "execution_count": null,
   "id": "8b151ab0",
   "metadata": {
    "papermill": {
     "duration": 0.00483,
     "end_time": "2023-03-22T06:38:35.735716",
     "exception": false,
     "start_time": "2023-03-22T06:38:35.730886",
     "status": "completed"
    },
    "tags": []
   },
   "outputs": [],
   "source": []
  }
 ],
 "metadata": {
  "kernelspec": {
   "display_name": "Python 3",
   "language": "python",
   "name": "python3"
  },
  "language_info": {
   "codemirror_mode": {
    "name": "ipython",
    "version": 3
   },
   "file_extension": ".py",
   "mimetype": "text/x-python",
   "name": "python",
   "nbconvert_exporter": "python",
   "pygments_lexer": "ipython3",
   "version": "3.7.12"
  },
  "papermill": {
   "default_parameters": {},
   "duration": 29.734566,
   "end_time": "2023-03-22T06:38:39.253695",
   "environment_variables": {},
   "exception": null,
   "input_path": "__notebook__.ipynb",
   "output_path": "__notebook__.ipynb",
   "parameters": {},
   "start_time": "2023-03-22T06:38:09.519129",
   "version": "2.4.0"
  }
 },
 "nbformat": 4,
 "nbformat_minor": 5
}
