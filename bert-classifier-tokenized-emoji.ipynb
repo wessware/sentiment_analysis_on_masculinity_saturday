{
 "cells": [
  {
   "cell_type": "code",
   "execution_count": 1,
   "id": "f66d34eb",
   "metadata": {
    "_cell_guid": "b1076dfc-b9ad-4769-8c92-a6c4dae69d19",
    "_uuid": "8f2839f25d086af736a60e9eeb907d3b93b6e0e5",
    "execution": {
     "iopub.execute_input": "2023-03-22T06:37:11.644608Z",
     "iopub.status.busy": "2023-03-22T06:37:11.644167Z",
     "iopub.status.idle": "2023-03-22T06:37:22.966654Z",
     "shell.execute_reply": "2023-03-22T06:37:22.965395Z"
    },
    "papermill": {
     "duration": 11.332748,
     "end_time": "2023-03-22T06:37:22.970101",
     "exception": false,
     "start_time": "2023-03-22T06:37:11.637353",
     "status": "completed"
    },
    "tags": []
   },
   "outputs": [],
   "source": [
    "import pandas as pd \n",
    "import numpy as np\n",
    "\n",
    "import matplotlib.pyplot as plt\n",
    "import seaborn as sns\n",
    "\n",
    "from sklearn import preprocessing\n",
    "from imblearn.over_sampling import RandomOverSampler\n",
    "from sklearn.model_selection import train_test_split\n",
    "from sklearn.feature_extraction.text import CountVectorizer\n",
    "from sklearn.feature_extraction.text import TfidfTransformer\n",
    "\n",
    "import tensorflow as tf\n",
    "from tensorflow import keras\n",
    "\n",
    "from sklearn.metrics import accuracy_score, f1_score\n",
    "from sklearn.metrics import classification_report, confusion_matrix\n",
    "\n",
    "seed=42"
   ]
  },
  {
   "cell_type": "code",
   "execution_count": 2,
   "id": "da81cc18",
   "metadata": {
    "execution": {
     "iopub.execute_input": "2023-03-22T06:37:22.980932Z",
     "iopub.status.busy": "2023-03-22T06:37:22.980082Z",
     "iopub.status.idle": "2023-03-22T06:37:26.021206Z",
     "shell.execute_reply": "2023-03-22T06:37:26.019793Z"
    },
    "papermill": {
     "duration": 3.050282,
     "end_time": "2023-03-22T06:37:26.024373",
     "exception": false,
     "start_time": "2023-03-22T06:37:22.974091",
     "status": "completed"
    },
    "tags": []
   },
   "outputs": [],
   "source": [
    "from transformers import BertTokenizerFast\n",
    "from transformers import TFBertModel"
   ]
  },
  {
   "cell_type": "code",
   "execution_count": 3,
   "id": "a28a46c5",
   "metadata": {
    "execution": {
     "iopub.execute_input": "2023-03-22T06:37:26.034045Z",
     "iopub.status.busy": "2023-03-22T06:37:26.033632Z",
     "iopub.status.idle": "2023-03-22T06:37:26.052837Z",
     "shell.execute_reply": "2023-03-22T06:37:26.051827Z"
    },
    "papermill": {
     "duration": 0.028118,
     "end_time": "2023-03-22T06:37:26.056282",
     "exception": false,
     "start_time": "2023-03-22T06:37:26.028164",
     "status": "completed"
    },
    "tags": []
   },
   "outputs": [
    {
     "data": {
      "text/plain": [
       "<Figure size 640x480 with 0 Axes>"
      ]
     },
     "metadata": {},
     "output_type": "display_data"
    }
   ],
   "source": [
    "sns.set_style(\"whitegrid\")\n",
    "sns.despine()\n",
    "plt.style.use(\"seaborn-whitegrid\")\n",
    "plt.rc(\"figure\", autolayout=True)\n",
    "plt.rc(\"axes\", labelweight=\"bold\", labelsize=\"large\", titleweight=\"bold\", titlepad=10)"
   ]
  },
  {
   "cell_type": "code",
   "execution_count": 4,
   "id": "4a45dcc8",
   "metadata": {
    "execution": {
     "iopub.execute_input": "2023-03-22T06:37:26.067308Z",
     "iopub.status.busy": "2023-03-22T06:37:26.066585Z",
     "iopub.status.idle": "2023-03-22T06:37:26.073783Z",
     "shell.execute_reply": "2023-03-22T06:37:26.072623Z"
    },
    "papermill": {
     "duration": 0.016288,
     "end_time": "2023-03-22T06:37:26.076971",
     "exception": false,
     "start_time": "2023-03-22T06:37:26.060683",
     "status": "completed"
    },
    "tags": []
   },
   "outputs": [],
   "source": [
    "def conf_matrix(y, y_pred, title):\n",
    "    fig, ax =plt.subplots(figsize=(5,5))\n",
    "    labels=['Negative', 'Positive', 'Neutral']\n",
    "    ax=sns.heatmap(confusion_matrix(y, y_pred), annot=True, cmap=\"Blues\", fmt='g', cbar=False, annot_kws={\"size\":25})\n",
    "    plt.title(title, fontsize=20)\n",
    "    ax.xaxis.set_ticklabels(labels, fontsize=17) \n",
    "    ax.yaxis.set_ticklabels(labels, fontsize=17)\n",
    "    ax.set_ylabel('Test', fontsize=20)\n",
    "    ax.set_xlabel('Predicted', fontsize=20)\n",
    "    plt.show()"
   ]
  },
  {
   "cell_type": "code",
   "execution_count": 5,
   "id": "60ec8f8f",
   "metadata": {
    "execution": {
     "iopub.execute_input": "2023-03-22T06:37:26.088674Z",
     "iopub.status.busy": "2023-03-22T06:37:26.087448Z",
     "iopub.status.idle": "2023-03-22T06:37:27.368120Z",
     "shell.execute_reply": "2023-03-22T06:37:27.366756Z"
    },
    "papermill": {
     "duration": 1.289715,
     "end_time": "2023-03-22T06:37:27.371378",
     "exception": false,
     "start_time": "2023-03-22T06:37:26.081663",
     "status": "completed"
    },
    "tags": []
   },
   "outputs": [],
   "source": [
    "df = pd.read_csv('/kaggle/input/smsa-tokenized-emoji-dataset/amerix_smsa_adv_emoji_ecoded_data.csv', index_col=0)"
   ]
  },
  {
   "cell_type": "code",
   "execution_count": 6,
   "id": "658489b2",
   "metadata": {
    "execution": {
     "iopub.execute_input": "2023-03-22T06:37:27.381106Z",
     "iopub.status.busy": "2023-03-22T06:37:27.380691Z",
     "iopub.status.idle": "2023-03-22T06:37:27.405565Z",
     "shell.execute_reply": "2023-03-22T06:37:27.404067Z"
    },
    "papermill": {
     "duration": 0.032891,
     "end_time": "2023-03-22T06:37:27.408334",
     "exception": false,
     "start_time": "2023-03-22T06:37:27.375443",
     "status": "completed"
    },
    "tags": []
   },
   "outputs": [
    {
     "data": {
      "text/html": [
       "<div>\n",
       "<style scoped>\n",
       "    .dataframe tbody tr th:only-of-type {\n",
       "        vertical-align: middle;\n",
       "    }\n",
       "\n",
       "    .dataframe tbody tr th {\n",
       "        vertical-align: top;\n",
       "    }\n",
       "\n",
       "    .dataframe thead th {\n",
       "        text-align: right;\n",
       "    }\n",
       "</style>\n",
       "<table border=\"1\" class=\"dataframe\">\n",
       "  <thead>\n",
       "    <tr style=\"text-align: right;\">\n",
       "      <th></th>\n",
       "      <th>tweet_created_at</th>\n",
       "      <th>text_clean_deeper</th>\n",
       "      <th>Sentiment</th>\n",
       "    </tr>\n",
       "  </thead>\n",
       "  <tbody>\n",
       "    <tr>\n",
       "      <th>154462</th>\n",
       "      <td>2022-06-08 11:44:34+00:00</td>\n",
       "      <td>wishing the team the best today the team has i...</td>\n",
       "      <td>1</td>\n",
       "    </tr>\n",
       "    <tr>\n",
       "      <th>98658</th>\n",
       "      <td>2022-11-07 22:49:01+00:00</td>\n",
       "      <td>all humans are bettertogether voteblue resist ...</td>\n",
       "      <td>2</td>\n",
       "    </tr>\n",
       "    <tr>\n",
       "      <th>73057</th>\n",
       "      <td>2022-10-29 05:34:53+00:00</td>\n",
       "      <td>lemme retweet share screenshot and tag this fe...</td>\n",
       "      <td>1</td>\n",
       "    </tr>\n",
       "    <tr>\n",
       "      <th>124877</th>\n",
       "      <td>2022-08-21 23:58:59+00:00</td>\n",
       "      <td>keep pushing multiple aeds are so important fo...</td>\n",
       "      <td>1</td>\n",
       "    </tr>\n",
       "    <tr>\n",
       "      <th>99068</th>\n",
       "      <td>2022-11-06 02:45:54+00:00</td>\n",
       "      <td>this is my only points slip this was 80k this ...</td>\n",
       "      <td>1</td>\n",
       "    </tr>\n",
       "  </tbody>\n",
       "</table>\n",
       "</div>"
      ],
      "text/plain": [
       "                 tweet_created_at  \\\n",
       "154462  2022-06-08 11:44:34+00:00   \n",
       "98658   2022-11-07 22:49:01+00:00   \n",
       "73057   2022-10-29 05:34:53+00:00   \n",
       "124877  2022-08-21 23:58:59+00:00   \n",
       "99068   2022-11-06 02:45:54+00:00   \n",
       "\n",
       "                                        text_clean_deeper  Sentiment  \n",
       "154462  wishing the team the best today the team has i...          1  \n",
       "98658   all humans are bettertogether voteblue resist ...          2  \n",
       "73057   lemme retweet share screenshot and tag this fe...          1  \n",
       "124877  keep pushing multiple aeds are so important fo...          1  \n",
       "99068   this is my only points slip this was 80k this ...          1  "
      ]
     },
     "execution_count": 6,
     "metadata": {},
     "output_type": "execute_result"
    }
   ],
   "source": [
    "df.head()"
   ]
  },
  {
   "cell_type": "code",
   "execution_count": 7,
   "id": "28b57a51",
   "metadata": {
    "execution": {
     "iopub.execute_input": "2023-03-22T06:37:27.419075Z",
     "iopub.status.busy": "2023-03-22T06:37:27.418105Z",
     "iopub.status.idle": "2023-03-22T06:37:27.426126Z",
     "shell.execute_reply": "2023-03-22T06:37:27.424680Z"
    },
    "papermill": {
     "duration": 0.016249,
     "end_time": "2023-03-22T06:37:27.428829",
     "exception": false,
     "start_time": "2023-03-22T06:37:27.412580",
     "status": "completed"
    },
    "tags": []
   },
   "outputs": [
    {
     "data": {
      "text/plain": [
       "(233687, 3)"
      ]
     },
     "execution_count": 7,
     "metadata": {},
     "output_type": "execute_result"
    }
   ],
   "source": [
    "df.shape"
   ]
  },
  {
   "cell_type": "code",
   "execution_count": 8,
   "id": "d73497b3",
   "metadata": {
    "execution": {
     "iopub.execute_input": "2023-03-22T06:37:27.439306Z",
     "iopub.status.busy": "2023-03-22T06:37:27.438856Z",
     "iopub.status.idle": "2023-03-22T06:37:27.494028Z",
     "shell.execute_reply": "2023-03-22T06:37:27.492243Z"
    },
    "papermill": {
     "duration": 0.064516,
     "end_time": "2023-03-22T06:37:27.497608",
     "exception": false,
     "start_time": "2023-03-22T06:37:27.433092",
     "status": "completed"
    },
    "tags": []
   },
   "outputs": [
    {
     "name": "stdout",
     "output_type": "stream",
     "text": [
      "<class 'pandas.core.frame.DataFrame'>\n",
      "Int64Index: 233687 entries, 154462 to 17279\n",
      "Data columns (total 3 columns):\n",
      " #   Column             Non-Null Count   Dtype \n",
      "---  ------             --------------   ----- \n",
      " 0   tweet_created_at   233687 non-null  object\n",
      " 1   text_clean_deeper  233687 non-null  object\n",
      " 2   Sentiment          233687 non-null  int64 \n",
      "dtypes: int64(1), object(2)\n",
      "memory usage: 7.1+ MB\n"
     ]
    }
   ],
   "source": [
    "df.info()"
   ]
  },
  {
   "cell_type": "code",
   "execution_count": 9,
   "id": "f8493483",
   "metadata": {
    "execution": {
     "iopub.execute_input": "2023-03-22T06:37:27.508275Z",
     "iopub.status.busy": "2023-03-22T06:37:27.507841Z",
     "iopub.status.idle": "2023-03-22T06:37:28.034985Z",
     "shell.execute_reply": "2023-03-22T06:37:28.033490Z"
    },
    "papermill": {
     "duration": 0.536068,
     "end_time": "2023-03-22T06:37:28.038167",
     "exception": false,
     "start_time": "2023-03-22T06:37:27.502099",
     "status": "completed"
    },
    "tags": []
   },
   "outputs": [],
   "source": [
    "ros = RandomOverSampler()\n",
    "\n",
    "train_x, train_y = ros.fit_resample(np.array(df['text_clean_deeper']).reshape(-1, 1), np.array(df['Sentiment']).reshape(-1, 1))\n",
    "\n",
    "ros_df = pd.DataFrame(list(zip([x[0] for x in train_x], train_y)), columns = ['text_clean_deeper', 'Sentiment'])"
   ]
  },
  {
   "cell_type": "code",
   "execution_count": 10,
   "id": "6032ac40",
   "metadata": {
    "execution": {
     "iopub.execute_input": "2023-03-22T06:37:28.049187Z",
     "iopub.status.busy": "2023-03-22T06:37:28.048796Z",
     "iopub.status.idle": "2023-03-22T06:37:28.060847Z",
     "shell.execute_reply": "2023-03-22T06:37:28.059979Z"
    },
    "papermill": {
     "duration": 0.020616,
     "end_time": "2023-03-22T06:37:28.063366",
     "exception": false,
     "start_time": "2023-03-22T06:37:28.042750",
     "status": "completed"
    },
    "tags": []
   },
   "outputs": [
    {
     "data": {
      "text/plain": [
       "1    129190\n",
       "2    129190\n",
       "0    129190\n",
       "Name: Sentiment, dtype: int64"
      ]
     },
     "execution_count": 10,
     "metadata": {},
     "output_type": "execute_result"
    }
   ],
   "source": [
    "ros_df['Sentiment'].value_counts()"
   ]
  },
  {
   "cell_type": "code",
   "execution_count": 11,
   "id": "e6b73cd7",
   "metadata": {
    "execution": {
     "iopub.execute_input": "2023-03-22T06:37:28.074712Z",
     "iopub.status.busy": "2023-03-22T06:37:28.073558Z",
     "iopub.status.idle": "2023-03-22T06:37:28.078785Z",
     "shell.execute_reply": "2023-03-22T06:37:28.077921Z"
    },
    "papermill": {
     "duration": 0.013294,
     "end_time": "2023-03-22T06:37:28.081154",
     "exception": false,
     "start_time": "2023-03-22T06:37:28.067860",
     "status": "completed"
    },
    "tags": []
   },
   "outputs": [],
   "source": [
    "X = ros_df['text_clean_deeper'].values\n",
    "y = ros_df['Sentiment'].values"
   ]
  },
  {
   "cell_type": "code",
   "execution_count": null,
   "id": "2d70c033",
   "metadata": {
    "papermill": {
     "duration": 0.004015,
     "end_time": "2023-03-22T06:37:28.089539",
     "exception": false,
     "start_time": "2023-03-22T06:37:28.085524",
     "status": "completed"
    },
    "tags": []
   },
   "outputs": [],
   "source": []
  }
 ],
 "metadata": {
  "kernelspec": {
   "display_name": "Python 3",
   "language": "python",
   "name": "python3"
  },
  "language_info": {
   "codemirror_mode": {
    "name": "ipython",
    "version": 3
   },
   "file_extension": ".py",
   "mimetype": "text/x-python",
   "name": "python",
   "nbconvert_exporter": "python",
   "pygments_lexer": "ipython3",
   "version": "3.7.12"
  },
  "papermill": {
   "default_parameters": {},
   "duration": 29.796105,
   "end_time": "2023-03-22T06:37:30.776633",
   "environment_variables": {},
   "exception": null,
   "input_path": "__notebook__.ipynb",
   "output_path": "__notebook__.ipynb",
   "parameters": {},
   "start_time": "2023-03-22T06:37:00.980528",
   "version": "2.4.0"
  }
 },
 "nbformat": 4,
 "nbformat_minor": 5
}
