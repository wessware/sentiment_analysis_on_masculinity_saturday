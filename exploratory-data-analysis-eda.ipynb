{
 "cells": [
  {
   "cell_type": "code",
   "execution_count": 1,
   "id": "4048bc18",
   "metadata": {
    "_cell_guid": "b1076dfc-b9ad-4769-8c92-a6c4dae69d19",
    "_uuid": "8f2839f25d086af736a60e9eeb907d3b93b6e0e5",
    "execution": {
     "iopub.execute_input": "2023-01-18T06:01:02.040664Z",
     "iopub.status.busy": "2023-01-18T06:01:02.039904Z",
     "iopub.status.idle": "2023-01-18T06:01:02.050074Z",
     "shell.execute_reply": "2023-01-18T06:01:02.049393Z"
    },
    "papermill": {
     "duration": 0.018044,
     "end_time": "2023-01-18T06:01:02.052298",
     "exception": false,
     "start_time": "2023-01-18T06:01:02.034254",
     "status": "completed"
    },
    "tags": []
   },
   "outputs": [],
   "source": [
    "import pandas as pd"
   ]
  },
  {
   "cell_type": "code",
   "execution_count": 2,
   "id": "67475bb0",
   "metadata": {
    "execution": {
     "iopub.execute_input": "2023-01-18T06:01:02.060409Z",
     "iopub.status.busy": "2023-01-18T06:01:02.059832Z",
     "iopub.status.idle": "2023-01-18T06:01:03.530266Z",
     "shell.execute_reply": "2023-01-18T06:01:03.529390Z"
    },
    "papermill": {
     "duration": 1.476989,
     "end_time": "2023-01-18T06:01:03.532685",
     "exception": false,
     "start_time": "2023-01-18T06:01:02.055696",
     "status": "completed"
    },
    "tags": []
   },
   "outputs": [],
   "source": [
    "df = pd.read_csv('/kaggle/input/masculinity-saturday-twitter-sentiment-analysis/twitter_sentiment_analysis_masculinity_saturday_data_annotated.csv')"
   ]
  },
  {
   "cell_type": "code",
   "execution_count": 3,
   "id": "31903da8",
   "metadata": {
    "execution": {
     "iopub.execute_input": "2023-01-18T06:01:03.540116Z",
     "iopub.status.busy": "2023-01-18T06:01:03.539766Z",
     "iopub.status.idle": "2023-01-18T06:01:03.559882Z",
     "shell.execute_reply": "2023-01-18T06:01:03.559082Z"
    },
    "papermill": {
     "duration": 0.026447,
     "end_time": "2023-01-18T06:01:03.562229",
     "exception": false,
     "start_time": "2023-01-18T06:01:03.535782",
     "status": "completed"
    },
    "tags": []
   },
   "outputs": [
    {
     "data": {
      "text/html": [
       "<div>\n",
       "<style scoped>\n",
       "    .dataframe tbody tr th:only-of-type {\n",
       "        vertical-align: middle;\n",
       "    }\n",
       "\n",
       "    .dataframe tbody tr th {\n",
       "        vertical-align: top;\n",
       "    }\n",
       "\n",
       "    .dataframe thead th {\n",
       "        text-align: right;\n",
       "    }\n",
       "</style>\n",
       "<table border=\"1\" class=\"dataframe\">\n",
       "  <thead>\n",
       "    <tr style=\"text-align: right;\">\n",
       "      <th></th>\n",
       "      <th>Unnamed: 0</th>\n",
       "      <th>tweet_created_at</th>\n",
       "      <th>text</th>\n",
       "      <th>Positive</th>\n",
       "      <th>Negative</th>\n",
       "      <th>Neutral</th>\n",
       "      <th>Compound</th>\n",
       "      <th>Sentiment</th>\n",
       "    </tr>\n",
       "  </thead>\n",
       "  <tbody>\n",
       "    <tr>\n",
       "      <th>0</th>\n",
       "      <td>0</td>\n",
       "      <td>2022-12-30 22:37:46+00:00</td>\n",
       "      <td>Men who have refused to listen to/attend @amer...</td>\n",
       "      <td>0.000</td>\n",
       "      <td>0.073</td>\n",
       "      <td>0.927</td>\n",
       "      <td>-0.2960</td>\n",
       "      <td>Negative</td>\n",
       "    </tr>\n",
       "    <tr>\n",
       "      <th>1</th>\n",
       "      <td>1</td>\n",
       "      <td>2022-12-30 22:30:58+00:00</td>\n",
       "      <td>@OvOBrezzzy Take amerix next</td>\n",
       "      <td>0.000</td>\n",
       "      <td>0.000</td>\n",
       "      <td>1.000</td>\n",
       "      <td>0.0000</td>\n",
       "      <td>Neutral</td>\n",
       "    </tr>\n",
       "    <tr>\n",
       "      <th>2</th>\n",
       "      <td>2</td>\n",
       "      <td>2022-12-30 22:18:00+00:00</td>\n",
       "      <td>@AyodeleYo11 @amerix Nah I’m good my masculini...</td>\n",
       "      <td>0.493</td>\n",
       "      <td>0.068</td>\n",
       "      <td>0.439</td>\n",
       "      <td>0.8271</td>\n",
       "      <td>Positive</td>\n",
       "    </tr>\n",
       "    <tr>\n",
       "      <th>3</th>\n",
       "      <td>3</td>\n",
       "      <td>2022-12-30 20:42:54+00:00</td>\n",
       "      <td>@Amerix_DontSimp There is no need for dating i...</td>\n",
       "      <td>0.000</td>\n",
       "      <td>0.180</td>\n",
       "      <td>0.820</td>\n",
       "      <td>-0.2960</td>\n",
       "      <td>Negative</td>\n",
       "    </tr>\n",
       "    <tr>\n",
       "      <th>4</th>\n",
       "      <td>4</td>\n",
       "      <td>2022-12-30 20:32:23+00:00</td>\n",
       "      <td>@DyeAnna7 @amerix @kibe From what cos nothing ...</td>\n",
       "      <td>0.110</td>\n",
       "      <td>0.000</td>\n",
       "      <td>0.890</td>\n",
       "      <td>0.6908</td>\n",
       "      <td>Positive</td>\n",
       "    </tr>\n",
       "  </tbody>\n",
       "</table>\n",
       "</div>"
      ],
      "text/plain": [
       "   Unnamed: 0           tweet_created_at  \\\n",
       "0           0  2022-12-30 22:37:46+00:00   \n",
       "1           1  2022-12-30 22:30:58+00:00   \n",
       "2           2  2022-12-30 22:18:00+00:00   \n",
       "3           3  2022-12-30 20:42:54+00:00   \n",
       "4           4  2022-12-30 20:32:23+00:00   \n",
       "\n",
       "                                                text  Positive  Negative  \\\n",
       "0  Men who have refused to listen to/attend @amer...     0.000     0.073   \n",
       "1                       @OvOBrezzzy Take amerix next     0.000     0.000   \n",
       "2  @AyodeleYo11 @amerix Nah I’m good my masculini...     0.493     0.068   \n",
       "3  @Amerix_DontSimp There is no need for dating i...     0.000     0.180   \n",
       "4  @DyeAnna7 @amerix @kibe From what cos nothing ...     0.110     0.000   \n",
       "\n",
       "   Neutral  Compound Sentiment  \n",
       "0    0.927   -0.2960  Negative  \n",
       "1    1.000    0.0000   Neutral  \n",
       "2    0.439    0.8271  Positive  \n",
       "3    0.820   -0.2960  Negative  \n",
       "4    0.890    0.6908  Positive  "
      ]
     },
     "execution_count": 3,
     "metadata": {},
     "output_type": "execute_result"
    }
   ],
   "source": [
    "df.head()"
   ]
  },
  {
   "cell_type": "code",
   "execution_count": 4,
   "id": "b7b7b651",
   "metadata": {
    "execution": {
     "iopub.execute_input": "2023-01-18T06:01:03.569537Z",
     "iopub.status.busy": "2023-01-18T06:01:03.569105Z",
     "iopub.status.idle": "2023-01-18T06:01:03.574662Z",
     "shell.execute_reply": "2023-01-18T06:01:03.573901Z"
    },
    "papermill": {
     "duration": 0.011399,
     "end_time": "2023-01-18T06:01:03.576696",
     "exception": false,
     "start_time": "2023-01-18T06:01:03.565297",
     "status": "completed"
    },
    "tags": []
   },
   "outputs": [
    {
     "data": {
      "text/plain": [
       "Index(['Unnamed: 0', 'tweet_created_at', 'text', 'Positive', 'Negative',\n",
       "       'Neutral', 'Compound', 'Sentiment'],\n",
       "      dtype='object')"
      ]
     },
     "execution_count": 4,
     "metadata": {},
     "output_type": "execute_result"
    }
   ],
   "source": [
    "df.columns"
   ]
  },
  {
   "cell_type": "code",
   "execution_count": 5,
   "id": "5f1bbabb",
   "metadata": {
    "execution": {
     "iopub.execute_input": "2023-01-18T06:01:03.585043Z",
     "iopub.status.busy": "2023-01-18T06:01:03.584812Z",
     "iopub.status.idle": "2023-01-18T06:01:03.637927Z",
     "shell.execute_reply": "2023-01-18T06:01:03.637129Z"
    },
    "papermill": {
     "duration": 0.059002,
     "end_time": "2023-01-18T06:01:03.639676",
     "exception": false,
     "start_time": "2023-01-18T06:01:03.580674",
     "status": "completed"
    },
    "tags": []
   },
   "outputs": [
    {
     "data": {
      "text/plain": [
       "Unnamed: 0          0\n",
       "tweet_created_at    0\n",
       "text                0\n",
       "Positive            0\n",
       "Negative            0\n",
       "Neutral             0\n",
       "Compound            0\n",
       "Sentiment           0\n",
       "dtype: int64"
      ]
     },
     "execution_count": 5,
     "metadata": {},
     "output_type": "execute_result"
    }
   ],
   "source": [
    "df.isna().sum()"
   ]
  },
  {
   "cell_type": "code",
   "execution_count": 6,
   "id": "28f5d579",
   "metadata": {
    "execution": {
     "iopub.execute_input": "2023-01-18T06:01:03.648080Z",
     "iopub.status.busy": "2023-01-18T06:01:03.647122Z",
     "iopub.status.idle": "2023-01-18T06:01:03.653551Z",
     "shell.execute_reply": "2023-01-18T06:01:03.652385Z"
    },
    "papermill": {
     "duration": 0.012452,
     "end_time": "2023-01-18T06:01:03.655526",
     "exception": false,
     "start_time": "2023-01-18T06:01:03.643074",
     "status": "completed"
    },
    "tags": []
   },
   "outputs": [
    {
     "data": {
      "text/plain": [
       "(248738, 8)"
      ]
     },
     "execution_count": 6,
     "metadata": {},
     "output_type": "execute_result"
    }
   ],
   "source": [
    "df.shape"
   ]
  },
  {
   "cell_type": "code",
   "execution_count": 7,
   "id": "64389983",
   "metadata": {
    "execution": {
     "iopub.execute_input": "2023-01-18T06:01:03.663644Z",
     "iopub.status.busy": "2023-01-18T06:01:03.663309Z",
     "iopub.status.idle": "2023-01-18T06:01:04.004324Z",
     "shell.execute_reply": "2023-01-18T06:01:04.003496Z"
    },
    "papermill": {
     "duration": 0.347169,
     "end_time": "2023-01-18T06:01:04.006293",
     "exception": false,
     "start_time": "2023-01-18T06:01:03.659124",
     "status": "completed"
    },
    "tags": []
   },
   "outputs": [
    {
     "data": {
      "text/plain": [
       "248738"
      ]
     },
     "execution_count": 7,
     "metadata": {},
     "output_type": "execute_result"
    }
   ],
   "source": [
    "len(df.drop_duplicates()) "
   ]
  },
  {
   "cell_type": "code",
   "execution_count": 8,
   "id": "b6714d1e",
   "metadata": {
    "execution": {
     "iopub.execute_input": "2023-01-18T06:01:04.014561Z",
     "iopub.status.busy": "2023-01-18T06:01:04.014284Z",
     "iopub.status.idle": "2023-01-18T06:01:04.028052Z",
     "shell.execute_reply": "2023-01-18T06:01:04.027268Z"
    },
    "papermill": {
     "duration": 0.02003,
     "end_time": "2023-01-18T06:01:04.030018",
     "exception": false,
     "start_time": "2023-01-18T06:01:04.009988",
     "status": "completed"
    },
    "tags": []
   },
   "outputs": [
    {
     "data": {
      "text/plain": [
       "Index(['Unnamed: 0', 'tweet_created_at', 'text', 'Positive', 'Negative',\n",
       "       'Neutral', 'Compound', 'Sentiment'],\n",
       "      dtype='object')"
      ]
     },
     "execution_count": 8,
     "metadata": {},
     "output_type": "execute_result"
    }
   ],
   "source": [
    "df_sa = df.copy()\n",
    "df_sa.columns "
   ]
  },
  {
   "cell_type": "code",
   "execution_count": 9,
   "id": "ebdcc82e",
   "metadata": {
    "execution": {
     "iopub.execute_input": "2023-01-18T06:01:04.038851Z",
     "iopub.status.busy": "2023-01-18T06:01:04.038550Z",
     "iopub.status.idle": "2023-01-18T06:01:04.052838Z",
     "shell.execute_reply": "2023-01-18T06:01:04.051867Z"
    },
    "papermill": {
     "duration": 0.021273,
     "end_time": "2023-01-18T06:01:04.055146",
     "exception": false,
     "start_time": "2023-01-18T06:01:04.033873",
     "status": "completed"
    },
    "tags": []
   },
   "outputs": [],
   "source": [
    "df = df.drop(columns=['Unnamed: 0', 'Positive', 'Negative',\n",
    "       'Neutral', 'Compound'])"
   ]
  },
  {
   "cell_type": "code",
   "execution_count": 10,
   "id": "cc0f2ad0",
   "metadata": {
    "execution": {
     "iopub.execute_input": "2023-01-18T06:01:04.063951Z",
     "iopub.status.busy": "2023-01-18T06:01:04.063208Z",
     "iopub.status.idle": "2023-01-18T06:01:04.070216Z",
     "shell.execute_reply": "2023-01-18T06:01:04.069035Z"
    },
    "papermill": {
     "duration": 0.013491,
     "end_time": "2023-01-18T06:01:04.072355",
     "exception": false,
     "start_time": "2023-01-18T06:01:04.058864",
     "status": "completed"
    },
    "tags": []
   },
   "outputs": [
    {
     "name": "stdout",
     "output_type": "stream",
     "text": [
      "            tweet_created_at  \\\n",
      "0  2022-12-30 22:37:46+00:00   \n",
      "1  2022-12-30 22:30:58+00:00   \n",
      "2  2022-12-30 22:18:00+00:00   \n",
      "3  2022-12-30 20:42:54+00:00   \n",
      "4  2022-12-30 20:32:23+00:00   \n",
      "\n",
      "                                                text Sentiment  \n",
      "0  Men who have refused to listen to/attend @amer...  Negative  \n",
      "1                       @OvOBrezzzy Take amerix next   Neutral  \n",
      "2  @AyodeleYo11 @amerix Nah I’m good my masculini...  Positive  \n",
      "3  @Amerix_DontSimp There is no need for dating i...  Negative  \n",
      "4  @DyeAnna7 @amerix @kibe From what cos nothing ...  Positive  \n"
     ]
    }
   ],
   "source": [
    "df.columns\n",
    "print(df.head())"
   ]
  },
  {
   "cell_type": "code",
   "execution_count": null,
   "id": "d2747a53",
   "metadata": {
    "papermill": {
     "duration": 0.003379,
     "end_time": "2023-01-18T06:01:04.079394",
     "exception": false,
     "start_time": "2023-01-18T06:01:04.076015",
     "status": "completed"
    },
    "tags": []
   },
   "outputs": [],
   "source": []
  }
 ],
 "metadata": {
  "kernelspec": {
   "display_name": "Python 3",
   "language": "python",
   "name": "python3"
  },
  "language_info": {
   "codemirror_mode": {
    "name": "ipython",
    "version": 3
   },
   "file_extension": ".py",
   "mimetype": "text/x-python",
   "name": "python",
   "nbconvert_exporter": "python",
   "pygments_lexer": "ipython3",
   "version": "3.7.12"
  },
  "papermill": {
   "default_parameters": {},
   "duration": 9.879634,
   "end_time": "2023-01-18T06:01:04.703524",
   "environment_variables": {},
   "exception": null,
   "input_path": "__notebook__.ipynb",
   "output_path": "__notebook__.ipynb",
   "parameters": {},
   "start_time": "2023-01-18T06:00:54.823890",
   "version": "2.3.4"
  }
 },
 "nbformat": 4,
 "nbformat_minor": 5
}
