{
 "cells": [
  {
   "cell_type": "code",
   "execution_count": 1,
   "id": "e5c5d7c6",
   "metadata": {
    "_cell_guid": "b1076dfc-b9ad-4769-8c92-a6c4dae69d19",
    "_uuid": "8f2839f25d086af736a60e9eeb907d3b93b6e0e5",
    "execution": {
     "iopub.execute_input": "2023-01-25T12:15:42.841890Z",
     "iopub.status.busy": "2023-01-25T12:15:42.840834Z",
     "iopub.status.idle": "2023-01-25T12:15:44.433229Z",
     "shell.execute_reply": "2023-01-25T12:15:44.431898Z"
    },
    "papermill": {
     "duration": 1.608086,
     "end_time": "2023-01-25T12:15:44.436600",
     "exception": false,
     "start_time": "2023-01-25T12:15:42.828514",
     "status": "completed"
    },
    "tags": []
   },
   "outputs": [],
   "source": [
    "import pandas as pd\n",
    "import numpy as np\n",
    "\n",
    "from sklearn import preprocessing\n",
    "from imblearn.over_sampling import RandomOverSampler\n",
    "from sklearn.model_selection import train_test_split\n",
    "\n",
    "from sklearn.feature_extraction.text import CountVectorizer\n",
    "from sklearn.feature_extraction.text import TfidfTransformer\n",
    "from sklearn.naive_bayes import MultinomialNB\n",
    "\n",
    "from sklearn.metrics import accuracy_score, f1_score\n",
    "from sklearn.metrics import classification_report, confusion_matrix"
   ]
  },
  {
   "cell_type": "code",
   "execution_count": 2,
   "id": "46f7fa03",
   "metadata": {
    "execution": {
     "iopub.execute_input": "2023-01-25T12:15:44.451866Z",
     "iopub.status.busy": "2023-01-25T12:15:44.451010Z",
     "iopub.status.idle": "2023-01-25T12:15:45.719611Z",
     "shell.execute_reply": "2023-01-25T12:15:45.718135Z"
    },
    "papermill": {
     "duration": 1.280651,
     "end_time": "2023-01-25T12:15:45.723278",
     "exception": false,
     "start_time": "2023-01-25T12:15:44.442627",
     "status": "completed"
    },
    "tags": []
   },
   "outputs": [],
   "source": [
    "df = pd.read_csv('/kaggle/input/amerix-sa-nlp-deep-cleaned-data/sentiment_adv_preprocessed_data.csv', index_col=0)"
   ]
  },
  {
   "cell_type": "code",
   "execution_count": 3,
   "id": "20f44388",
   "metadata": {
    "execution": {
     "iopub.execute_input": "2023-01-25T12:15:45.737927Z",
     "iopub.status.busy": "2023-01-25T12:15:45.737399Z",
     "iopub.status.idle": "2023-01-25T12:15:45.757629Z",
     "shell.execute_reply": "2023-01-25T12:15:45.756212Z"
    },
    "papermill": {
     "duration": 0.03071,
     "end_time": "2023-01-25T12:15:45.760775",
     "exception": false,
     "start_time": "2023-01-25T12:15:45.730065",
     "status": "completed"
    },
    "tags": []
   },
   "outputs": [
    {
     "data": {
      "text/html": [
       "<div>\n",
       "<style scoped>\n",
       "    .dataframe tbody tr th:only-of-type {\n",
       "        vertical-align: middle;\n",
       "    }\n",
       "\n",
       "    .dataframe tbody tr th {\n",
       "        vertical-align: top;\n",
       "    }\n",
       "\n",
       "    .dataframe thead th {\n",
       "        text-align: right;\n",
       "    }\n",
       "</style>\n",
       "<table border=\"1\" class=\"dataframe\">\n",
       "  <thead>\n",
       "    <tr style=\"text-align: right;\">\n",
       "      <th></th>\n",
       "      <th>tweet_created_at</th>\n",
       "      <th>text_clean</th>\n",
       "      <th>Sentiment</th>\n",
       "    </tr>\n",
       "  </thead>\n",
       "  <tbody>\n",
       "    <tr>\n",
       "      <th>0</th>\n",
       "      <td>2022-05-20 16:01:49+00:00</td>\n",
       "      <td>actor amp cookbook author recently joined the ...</td>\n",
       "      <td>1</td>\n",
       "    </tr>\n",
       "    <tr>\n",
       "      <th>1</th>\n",
       "      <td>2022-08-23 15:26:31+00:00</td>\n",
       "      <td>sprinkled a little kindness to brighten someon...</td>\n",
       "      <td>1</td>\n",
       "    </tr>\n",
       "    <tr>\n",
       "      <th>2</th>\n",
       "      <td>2021-10-15 17:23:25+00:00</td>\n",
       "      <td>the body is not stupid it has an efficient hom...</td>\n",
       "      <td>1</td>\n",
       "    </tr>\n",
       "    <tr>\n",
       "      <th>3</th>\n",
       "      <td>2022-11-19 16:26:01+00:00</td>\n",
       "      <td>food for the thought masculinitysaturday</td>\n",
       "      <td>2</td>\n",
       "    </tr>\n",
       "    <tr>\n",
       "      <th>4</th>\n",
       "      <td>2022-12-12 08:59:22+00:00</td>\n",
       "      <td>why though</td>\n",
       "      <td>2</td>\n",
       "    </tr>\n",
       "  </tbody>\n",
       "</table>\n",
       "</div>"
      ],
      "text/plain": [
       "            tweet_created_at  \\\n",
       "0  2022-05-20 16:01:49+00:00   \n",
       "1  2022-08-23 15:26:31+00:00   \n",
       "2  2021-10-15 17:23:25+00:00   \n",
       "3  2022-11-19 16:26:01+00:00   \n",
       "4  2022-12-12 08:59:22+00:00   \n",
       "\n",
       "                                          text_clean  Sentiment  \n",
       "0  actor amp cookbook author recently joined the ...          1  \n",
       "1  sprinkled a little kindness to brighten someon...          1  \n",
       "2  the body is not stupid it has an efficient hom...          1  \n",
       "3           food for the thought masculinitysaturday          2  \n",
       "4                                         why though          2  "
      ]
     },
     "execution_count": 3,
     "metadata": {},
     "output_type": "execute_result"
    }
   ],
   "source": [
    "df.head()"
   ]
  },
  {
   "cell_type": "code",
   "execution_count": 4,
   "id": "ad3a7874",
   "metadata": {
    "execution": {
     "iopub.execute_input": "2023-01-25T12:15:45.775061Z",
     "iopub.status.busy": "2023-01-25T12:15:45.774569Z",
     "iopub.status.idle": "2023-01-25T12:15:46.326653Z",
     "shell.execute_reply": "2023-01-25T12:15:46.325288Z"
    },
    "papermill": {
     "duration": 0.562757,
     "end_time": "2023-01-25T12:15:46.329682",
     "exception": false,
     "start_time": "2023-01-25T12:15:45.766925",
     "status": "completed"
    },
    "tags": []
   },
   "outputs": [],
   "source": [
    "ros = RandomOverSampler()\n",
    "\n",
    "train_x, train_y = ros.fit_resample(np.array(df['text_clean']).reshape(-1, 1), np.array(df['Sentiment']).reshape(-1, 1));\n",
    "\n",
    "ros_df = pd.DataFrame(list(zip([x[0] for x in train_x], train_y)), columns = ['text_clean', 'Sentiment']);"
   ]
  },
  {
   "cell_type": "code",
   "execution_count": 5,
   "id": "e0aa8665",
   "metadata": {
    "execution": {
     "iopub.execute_input": "2023-01-25T12:15:46.343687Z",
     "iopub.status.busy": "2023-01-25T12:15:46.343241Z",
     "iopub.status.idle": "2023-01-25T12:15:46.356479Z",
     "shell.execute_reply": "2023-01-25T12:15:46.355183Z"
    },
    "papermill": {
     "duration": 0.02359,
     "end_time": "2023-01-25T12:15:46.359421",
     "exception": false,
     "start_time": "2023-01-25T12:15:46.335831",
     "status": "completed"
    },
    "tags": []
   },
   "outputs": [
    {
     "data": {
      "text/plain": [
       "1    129038\n",
       "2    129038\n",
       "0    129038\n",
       "Name: Sentiment, dtype: int64"
      ]
     },
     "execution_count": 5,
     "metadata": {},
     "output_type": "execute_result"
    }
   ],
   "source": [
    "ros_df['Sentiment'].value_counts()"
   ]
  },
  {
   "cell_type": "code",
   "execution_count": 6,
   "id": "3756ccbf",
   "metadata": {
    "execution": {
     "iopub.execute_input": "2023-01-25T12:15:46.373585Z",
     "iopub.status.busy": "2023-01-25T12:15:46.373161Z",
     "iopub.status.idle": "2023-01-25T12:15:46.378696Z",
     "shell.execute_reply": "2023-01-25T12:15:46.377416Z"
    },
    "papermill": {
     "duration": 0.015616,
     "end_time": "2023-01-25T12:15:46.381140",
     "exception": false,
     "start_time": "2023-01-25T12:15:46.365524",
     "status": "completed"
    },
    "tags": []
   },
   "outputs": [],
   "source": [
    "X = ros_df['text_clean'].values\n",
    "y = ros_df['Sentiment'].values"
   ]
  },
  {
   "cell_type": "code",
   "execution_count": 7,
   "id": "975adc74",
   "metadata": {
    "execution": {
     "iopub.execute_input": "2023-01-25T12:15:46.395288Z",
     "iopub.status.busy": "2023-01-25T12:15:46.394846Z",
     "iopub.status.idle": "2023-01-25T12:15:46.401041Z",
     "shell.execute_reply": "2023-01-25T12:15:46.399717Z"
    },
    "papermill": {
     "duration": 0.016463,
     "end_time": "2023-01-25T12:15:46.403756",
     "exception": false,
     "start_time": "2023-01-25T12:15:46.387293",
     "status": "completed"
    },
    "tags": []
   },
   "outputs": [
    {
     "name": "stdout",
     "output_type": "stream",
     "text": [
      "(387114,)\n",
      "(387114,)\n"
     ]
    }
   ],
   "source": [
    "print(X.shape)\n",
    "print(y.shape)"
   ]
  },
  {
   "cell_type": "code",
   "execution_count": 8,
   "id": "fef3e325",
   "metadata": {
    "execution": {
     "iopub.execute_input": "2023-01-25T12:15:46.418184Z",
     "iopub.status.busy": "2023-01-25T12:15:46.417746Z",
     "iopub.status.idle": "2023-01-25T12:15:46.590846Z",
     "shell.execute_reply": "2023-01-25T12:15:46.589431Z"
    },
    "papermill": {
     "duration": 0.184262,
     "end_time": "2023-01-25T12:15:46.594229",
     "exception": false,
     "start_time": "2023-01-25T12:15:46.409967",
     "status": "completed"
    },
    "tags": []
   },
   "outputs": [],
   "source": [
    "x_, x_test, y_, y_test = train_test_split(X, y, test_size=0.3, stratify=y, random_state=42)"
   ]
  },
  {
   "cell_type": "code",
   "execution_count": 9,
   "id": "e20c4b6e",
   "metadata": {
    "execution": {
     "iopub.execute_input": "2023-01-25T12:15:46.609478Z",
     "iopub.status.busy": "2023-01-25T12:15:46.608215Z",
     "iopub.status.idle": "2023-01-25T12:15:46.615019Z",
     "shell.execute_reply": "2023-01-25T12:15:46.613688Z"
    },
    "papermill": {
     "duration": 0.01699,
     "end_time": "2023-01-25T12:15:46.617674",
     "exception": false,
     "start_time": "2023-01-25T12:15:46.600684",
     "status": "completed"
    },
    "tags": []
   },
   "outputs": [
    {
     "name": "stdout",
     "output_type": "stream",
     "text": [
      "(270979,)\n",
      "(270979,)\n"
     ]
    }
   ],
   "source": [
    "print(x_.shape)\n",
    "print(y_.shape)"
   ]
  },
  {
   "cell_type": "code",
   "execution_count": 10,
   "id": "5e88c4fa",
   "metadata": {
    "execution": {
     "iopub.execute_input": "2023-01-25T12:15:46.632242Z",
     "iopub.status.busy": "2023-01-25T12:15:46.631776Z",
     "iopub.status.idle": "2023-01-25T12:15:46.754663Z",
     "shell.execute_reply": "2023-01-25T12:15:46.753044Z"
    },
    "papermill": {
     "duration": 0.133895,
     "end_time": "2023-01-25T12:15:46.757895",
     "exception": false,
     "start_time": "2023-01-25T12:15:46.624000",
     "status": "completed"
    },
    "tags": []
   },
   "outputs": [],
   "source": [
    "x_train, x_val, y_train, y_val = train_test_split(x_, y_, test_size=0.2, stratify=y_, random_state=42)"
   ]
  },
  {
   "cell_type": "code",
   "execution_count": 11,
   "id": "f18ca47e",
   "metadata": {
    "execution": {
     "iopub.execute_input": "2023-01-25T12:15:46.772198Z",
     "iopub.status.busy": "2023-01-25T12:15:46.771687Z",
     "iopub.status.idle": "2023-01-25T12:15:46.778367Z",
     "shell.execute_reply": "2023-01-25T12:15:46.777239Z"
    },
    "papermill": {
     "duration": 0.016657,
     "end_time": "2023-01-25T12:15:46.780815",
     "exception": false,
     "start_time": "2023-01-25T12:15:46.764158",
     "status": "completed"
    },
    "tags": []
   },
   "outputs": [],
   "source": [
    "y_train_c = y_train.copy()\n",
    "y_valid_c = y_val.copy()\n",
    "y_test_c = y_test.copy()"
   ]
  },
  {
   "cell_type": "code",
   "execution_count": 12,
   "id": "bdac99f5",
   "metadata": {
    "execution": {
     "iopub.execute_input": "2023-01-25T12:15:46.795781Z",
     "iopub.status.busy": "2023-01-25T12:15:46.794936Z",
     "iopub.status.idle": "2023-01-25T12:15:46.851139Z",
     "shell.execute_reply": "2023-01-25T12:15:46.849736Z"
    },
    "papermill": {
     "duration": 0.067056,
     "end_time": "2023-01-25T12:15:46.854353",
     "exception": false,
     "start_time": "2023-01-25T12:15:46.787297",
     "status": "completed"
    },
    "tags": []
   },
   "outputs": [],
   "source": [
    "encoder = preprocessing.OneHotEncoder()\n",
    "\n",
    "y_train = encoder.fit_transform(np.array(y_train).reshape(-1, 1)).toarray()\n",
    "y_val = encoder.fit_transform(np.array(y_val).reshape(-1, 1)).toarray()\n",
    "y_test = encoder.fit_transform(np.array(y_test).reshape(-1, 1)).toarray()"
   ]
  },
  {
   "cell_type": "code",
   "execution_count": 13,
   "id": "12bd05e1",
   "metadata": {
    "execution": {
     "iopub.execute_input": "2023-01-25T12:15:46.869090Z",
     "iopub.status.busy": "2023-01-25T12:15:46.868175Z",
     "iopub.status.idle": "2023-01-25T12:15:46.874874Z",
     "shell.execute_reply": "2023-01-25T12:15:46.873588Z"
    },
    "papermill": {
     "duration": 0.016944,
     "end_time": "2023-01-25T12:15:46.877546",
     "exception": false,
     "start_time": "2023-01-25T12:15:46.860602",
     "status": "completed"
    },
    "tags": []
   },
   "outputs": [
    {
     "name": "stdout",
     "output_type": "stream",
     "text": [
      "Training Data: 216783\n",
      "Validation Data: 54196\n",
      "Testing Data: 116135\n"
     ]
    }
   ],
   "source": [
    "print(f\"Training Data: {x_train.shape[0]}\\nValidation Data: {x_val.shape[0]}\\nTesting Data: {x_test.shape[0]}\" )"
   ]
  },
  {
   "cell_type": "code",
   "execution_count": 14,
   "id": "a1bf1268",
   "metadata": {
    "execution": {
     "iopub.execute_input": "2023-01-25T12:15:46.891837Z",
     "iopub.status.busy": "2023-01-25T12:15:46.891309Z",
     "iopub.status.idle": "2023-01-25T12:15:54.188143Z",
     "shell.execute_reply": "2023-01-25T12:15:54.186961Z"
    },
    "papermill": {
     "duration": 7.307612,
     "end_time": "2023-01-25T12:15:54.191302",
     "exception": false,
     "start_time": "2023-01-25T12:15:46.883690",
     "status": "completed"
    },
    "tags": []
   },
   "outputs": [],
   "source": [
    "clf = CountVectorizer()\n",
    "\n",
    "X_train_cv =  clf.fit_transform(x_train)\n",
    "X_test_cv = clf.transform(x_test)"
   ]
  },
  {
   "cell_type": "code",
   "execution_count": 15,
   "id": "5310e2aa",
   "metadata": {
    "execution": {
     "iopub.execute_input": "2023-01-25T12:15:54.206762Z",
     "iopub.status.busy": "2023-01-25T12:15:54.205811Z",
     "iopub.status.idle": "2023-01-25T12:15:54.804245Z",
     "shell.execute_reply": "2023-01-25T12:15:54.802739Z"
    },
    "papermill": {
     "duration": 0.608804,
     "end_time": "2023-01-25T12:15:54.807263",
     "exception": false,
     "start_time": "2023-01-25T12:15:54.198459",
     "status": "completed"
    },
    "tags": []
   },
   "outputs": [],
   "source": [
    "tf_transformer = TfidfTransformer(use_idf=True).fit(X_train_cv)\n",
    "\n",
    "X_train_tf = tf_transformer.transform(X_train_cv)\n",
    "X_test_tf = tf_transformer.transform(X_test_cv)"
   ]
  },
  {
   "cell_type": "code",
   "execution_count": 16,
   "id": "dabd7d72",
   "metadata": {
    "execution": {
     "iopub.execute_input": "2023-01-25T12:15:54.822925Z",
     "iopub.status.busy": "2023-01-25T12:15:54.821579Z",
     "iopub.status.idle": "2023-01-25T12:15:54.826999Z",
     "shell.execute_reply": "2023-01-25T12:15:54.826025Z"
    },
    "papermill": {
     "duration": 0.015551,
     "end_time": "2023-01-25T12:15:54.829509",
     "exception": false,
     "start_time": "2023-01-25T12:15:54.813958",
     "status": "completed"
    },
    "tags": []
   },
   "outputs": [],
   "source": [
    "naive_classifier = MultinomialNB()"
   ]
  },
  {
   "cell_type": "code",
   "execution_count": 17,
   "id": "db1beee7",
   "metadata": {
    "execution": {
     "iopub.execute_input": "2023-01-25T12:15:54.844241Z",
     "iopub.status.busy": "2023-01-25T12:15:54.843763Z",
     "iopub.status.idle": "2023-01-25T12:15:54.945296Z",
     "shell.execute_reply": "2023-01-25T12:15:54.943989Z"
    },
    "papermill": {
     "duration": 0.112554,
     "end_time": "2023-01-25T12:15:54.948313",
     "exception": false,
     "start_time": "2023-01-25T12:15:54.835759",
     "status": "completed"
    },
    "tags": []
   },
   "outputs": [
    {
     "data": {
      "text/plain": [
       "MultinomialNB()"
      ]
     },
     "execution_count": 17,
     "metadata": {},
     "output_type": "execute_result"
    }
   ],
   "source": [
    "naive_classifier.fit(X_train_tf, y_train_c)"
   ]
  },
  {
   "cell_type": "code",
   "execution_count": 18,
   "id": "bccf6c14",
   "metadata": {
    "execution": {
     "iopub.execute_input": "2023-01-25T12:15:54.962922Z",
     "iopub.status.busy": "2023-01-25T12:15:54.962455Z",
     "iopub.status.idle": "2023-01-25T12:15:54.993184Z",
     "shell.execute_reply": "2023-01-25T12:15:54.991779Z"
    },
    "papermill": {
     "duration": 0.041525,
     "end_time": "2023-01-25T12:15:54.996266",
     "exception": false,
     "start_time": "2023-01-25T12:15:54.954741",
     "status": "completed"
    },
    "tags": []
   },
   "outputs": [],
   "source": [
    "naive_prediction = naive_classifier.predict(X_test_tf)"
   ]
  },
  {
   "cell_type": "code",
   "execution_count": 19,
   "id": "f916a886",
   "metadata": {
    "execution": {
     "iopub.execute_input": "2023-01-25T12:15:55.011485Z",
     "iopub.status.busy": "2023-01-25T12:15:55.011053Z",
     "iopub.status.idle": "2023-01-25T12:15:55.243283Z",
     "shell.execute_reply": "2023-01-25T12:15:55.241826Z"
    },
    "papermill": {
     "duration": 0.243639,
     "end_time": "2023-01-25T12:15:55.246488",
     "exception": false,
     "start_time": "2023-01-25T12:15:55.002849",
     "status": "completed"
    },
    "tags": []
   },
   "outputs": [
    {
     "name": "stdout",
     "output_type": "stream",
     "text": [
      "\tNaive Bayesian Classification Report:\n",
      "\n",
      "               precision    recall  f1-score   support\n",
      "\n",
      "    Negative       0.63      0.91      0.74     38711\n",
      "     Neutral       0.77      0.70      0.73     38712\n",
      "    Positive       0.87      0.56      0.68     38712\n",
      "\n",
      "    accuracy                           0.72    116135\n",
      "   macro avg       0.76      0.72      0.72    116135\n",
      "weighted avg       0.76      0.72      0.72    116135\n",
      "\n"
     ]
    }
   ],
   "source": [
    "print('\\tNaive Bayesian Classification Report:\\n\\n',\n",
    "      classification_report(y_test_c,naive_prediction, target_names=['Negative', 'Neutral', 'Positive']))"
   ]
  },
  {
   "cell_type": "code",
   "execution_count": null,
   "id": "edfa1e2a",
   "metadata": {
    "papermill": {
     "duration": 0.006043,
     "end_time": "2023-01-25T12:15:55.259379",
     "exception": false,
     "start_time": "2023-01-25T12:15:55.253336",
     "status": "completed"
    },
    "tags": []
   },
   "outputs": [],
   "source": []
  }
 ],
 "metadata": {
  "kernelspec": {
   "display_name": "Python 3",
   "language": "python",
   "name": "python3"
  },
  "language_info": {
   "codemirror_mode": {
    "name": "ipython",
    "version": 3
   },
   "file_extension": ".py",
   "mimetype": "text/x-python",
   "name": "python",
   "nbconvert_exporter": "python",
   "pygments_lexer": "ipython3",
   "version": "3.7.12"
  },
  "papermill": {
   "default_parameters": {},
   "duration": 22.680348,
   "end_time": "2023-01-25T12:15:56.090108",
   "environment_variables": {},
   "exception": null,
   "input_path": "__notebook__.ipynb",
   "output_path": "__notebook__.ipynb",
   "parameters": {},
   "start_time": "2023-01-25T12:15:33.409760",
   "version": "2.3.4"
  }
 },
 "nbformat": 4,
 "nbformat_minor": 5
}
