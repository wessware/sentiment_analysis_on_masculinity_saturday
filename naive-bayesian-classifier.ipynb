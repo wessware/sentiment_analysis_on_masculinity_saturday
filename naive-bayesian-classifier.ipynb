{
 "cells": [
  {
   "cell_type": "code",
   "execution_count": 1,
   "id": "9e8637df",
   "metadata": {
    "_cell_guid": "b1076dfc-b9ad-4769-8c92-a6c4dae69d19",
    "_uuid": "8f2839f25d086af736a60e9eeb907d3b93b6e0e5",
    "execution": {
     "iopub.execute_input": "2023-01-25T11:55:53.488022Z",
     "iopub.status.busy": "2023-01-25T11:55:53.486943Z",
     "iopub.status.idle": "2023-01-25T11:55:55.204722Z",
     "shell.execute_reply": "2023-01-25T11:55:55.202797Z"
    },
    "papermill": {
     "duration": 1.728237,
     "end_time": "2023-01-25T11:55:55.207870",
     "exception": false,
     "start_time": "2023-01-25T11:55:53.479633",
     "status": "completed"
    },
    "tags": []
   },
   "outputs": [],
   "source": [
    "import pandas as pd\n",
    "import numpy as np\n",
    "\n",
    "from sklearn import preprocessing\n",
    "from imblearn.over_sampling import RandomOverSampler\n",
    "from sklearn.model_selection import train_test_split\n",
    "\n",
    "from sklearn.feature_extraction.text import CountVectorizer\n",
    "from sklearn.feature_extraction.text import TfidfTransformer\n",
    "from sklearn.naive_bayes import MultinomialNB\n",
    "\n",
    "from sklearn.metrics import accuracy_score, f1_score\n",
    "from sklearn.metrics import classification_report, confusion_matrix"
   ]
  },
  {
   "cell_type": "code",
   "execution_count": 2,
   "id": "cdc3b0e3",
   "metadata": {
    "execution": {
     "iopub.execute_input": "2023-01-25T11:55:55.216189Z",
     "iopub.status.busy": "2023-01-25T11:55:55.215700Z",
     "iopub.status.idle": "2023-01-25T11:55:56.526584Z",
     "shell.execute_reply": "2023-01-25T11:55:56.525315Z"
    },
    "papermill": {
     "duration": 1.318567,
     "end_time": "2023-01-25T11:55:56.529763",
     "exception": false,
     "start_time": "2023-01-25T11:55:55.211196",
     "status": "completed"
    },
    "tags": []
   },
   "outputs": [],
   "source": [
    "df = pd.read_csv('/kaggle/input/amerix-sa-nlp-deep-cleaned-data/sentiment_adv_preprocessed_data.csv', index_col=0)"
   ]
  },
  {
   "cell_type": "code",
   "execution_count": 3,
   "id": "8c773c03",
   "metadata": {
    "execution": {
     "iopub.execute_input": "2023-01-25T11:55:56.537514Z",
     "iopub.status.busy": "2023-01-25T11:55:56.537124Z",
     "iopub.status.idle": "2023-01-25T11:55:56.556637Z",
     "shell.execute_reply": "2023-01-25T11:55:56.555135Z"
    },
    "papermill": {
     "duration": 0.026372,
     "end_time": "2023-01-25T11:55:56.559303",
     "exception": false,
     "start_time": "2023-01-25T11:55:56.532931",
     "status": "completed"
    },
    "tags": []
   },
   "outputs": [
    {
     "data": {
      "text/html": [
       "<div>\n",
       "<style scoped>\n",
       "    .dataframe tbody tr th:only-of-type {\n",
       "        vertical-align: middle;\n",
       "    }\n",
       "\n",
       "    .dataframe tbody tr th {\n",
       "        vertical-align: top;\n",
       "    }\n",
       "\n",
       "    .dataframe thead th {\n",
       "        text-align: right;\n",
       "    }\n",
       "</style>\n",
       "<table border=\"1\" class=\"dataframe\">\n",
       "  <thead>\n",
       "    <tr style=\"text-align: right;\">\n",
       "      <th></th>\n",
       "      <th>tweet_created_at</th>\n",
       "      <th>text_clean</th>\n",
       "      <th>Sentiment</th>\n",
       "    </tr>\n",
       "  </thead>\n",
       "  <tbody>\n",
       "    <tr>\n",
       "      <th>0</th>\n",
       "      <td>2022-05-20 16:01:49+00:00</td>\n",
       "      <td>actor amp cookbook author recently joined the ...</td>\n",
       "      <td>1</td>\n",
       "    </tr>\n",
       "    <tr>\n",
       "      <th>1</th>\n",
       "      <td>2022-08-23 15:26:31+00:00</td>\n",
       "      <td>sprinkled a little kindness to brighten someon...</td>\n",
       "      <td>1</td>\n",
       "    </tr>\n",
       "    <tr>\n",
       "      <th>2</th>\n",
       "      <td>2021-10-15 17:23:25+00:00</td>\n",
       "      <td>the body is not stupid it has an efficient hom...</td>\n",
       "      <td>1</td>\n",
       "    </tr>\n",
       "    <tr>\n",
       "      <th>3</th>\n",
       "      <td>2022-11-19 16:26:01+00:00</td>\n",
       "      <td>food for the thought masculinitysaturday</td>\n",
       "      <td>2</td>\n",
       "    </tr>\n",
       "    <tr>\n",
       "      <th>4</th>\n",
       "      <td>2022-12-12 08:59:22+00:00</td>\n",
       "      <td>why though</td>\n",
       "      <td>2</td>\n",
       "    </tr>\n",
       "  </tbody>\n",
       "</table>\n",
       "</div>"
      ],
      "text/plain": [
       "            tweet_created_at  \\\n",
       "0  2022-05-20 16:01:49+00:00   \n",
       "1  2022-08-23 15:26:31+00:00   \n",
       "2  2021-10-15 17:23:25+00:00   \n",
       "3  2022-11-19 16:26:01+00:00   \n",
       "4  2022-12-12 08:59:22+00:00   \n",
       "\n",
       "                                          text_clean  Sentiment  \n",
       "0  actor amp cookbook author recently joined the ...          1  \n",
       "1  sprinkled a little kindness to brighten someon...          1  \n",
       "2  the body is not stupid it has an efficient hom...          1  \n",
       "3           food for the thought masculinitysaturday          2  \n",
       "4                                         why though          2  "
      ]
     },
     "execution_count": 3,
     "metadata": {},
     "output_type": "execute_result"
    }
   ],
   "source": [
    "df.head()"
   ]
  },
  {
   "cell_type": "code",
   "execution_count": 4,
   "id": "bc6e3d86",
   "metadata": {
    "execution": {
     "iopub.execute_input": "2023-01-25T11:55:56.567646Z",
     "iopub.status.busy": "2023-01-25T11:55:56.567164Z",
     "iopub.status.idle": "2023-01-25T11:55:57.150615Z",
     "shell.execute_reply": "2023-01-25T11:55:57.149538Z"
    },
    "papermill": {
     "duration": 0.591144,
     "end_time": "2023-01-25T11:55:57.153823",
     "exception": false,
     "start_time": "2023-01-25T11:55:56.562679",
     "status": "completed"
    },
    "tags": []
   },
   "outputs": [],
   "source": [
    "ros = RandomOverSampler()\n",
    "\n",
    "train_x, train_y = ros.fit_resample(np.array(df['text_clean']).reshape(-1, 1), np.array(df['Sentiment']).reshape(-1, 1));\n",
    "\n",
    "ros_df = pd.DataFrame(list(zip([x[0] for x in train_x], train_y)), columns = ['text_clean', 'Sentiment']);"
   ]
  },
  {
   "cell_type": "code",
   "execution_count": 5,
   "id": "f647ca34",
   "metadata": {
    "execution": {
     "iopub.execute_input": "2023-01-25T11:55:57.161896Z",
     "iopub.status.busy": "2023-01-25T11:55:57.161530Z",
     "iopub.status.idle": "2023-01-25T11:55:57.173840Z",
     "shell.execute_reply": "2023-01-25T11:55:57.172731Z"
    },
    "papermill": {
     "duration": 0.018918,
     "end_time": "2023-01-25T11:55:57.176246",
     "exception": false,
     "start_time": "2023-01-25T11:55:57.157328",
     "status": "completed"
    },
    "tags": []
   },
   "outputs": [
    {
     "data": {
      "text/plain": [
       "1    129038\n",
       "2    129038\n",
       "0    129038\n",
       "Name: Sentiment, dtype: int64"
      ]
     },
     "execution_count": 5,
     "metadata": {},
     "output_type": "execute_result"
    }
   ],
   "source": [
    "ros_df['Sentiment'].value_counts()"
   ]
  },
  {
   "cell_type": "code",
   "execution_count": 6,
   "id": "8efbf270",
   "metadata": {
    "execution": {
     "iopub.execute_input": "2023-01-25T11:55:57.184029Z",
     "iopub.status.busy": "2023-01-25T11:55:57.183664Z",
     "iopub.status.idle": "2023-01-25T11:55:57.188882Z",
     "shell.execute_reply": "2023-01-25T11:55:57.187666Z"
    },
    "papermill": {
     "duration": 0.011669,
     "end_time": "2023-01-25T11:55:57.191058",
     "exception": false,
     "start_time": "2023-01-25T11:55:57.179389",
     "status": "completed"
    },
    "tags": []
   },
   "outputs": [],
   "source": [
    "X = ros_df['text_clean'].values\n",
    "y = ros_df['Sentiment'].values"
   ]
  },
  {
   "cell_type": "code",
   "execution_count": 7,
   "id": "b6fa0fe3",
   "metadata": {
    "execution": {
     "iopub.execute_input": "2023-01-25T11:55:57.199222Z",
     "iopub.status.busy": "2023-01-25T11:55:57.198794Z",
     "iopub.status.idle": "2023-01-25T11:55:57.361835Z",
     "shell.execute_reply": "2023-01-25T11:55:57.360826Z"
    },
    "papermill": {
     "duration": 0.17041,
     "end_time": "2023-01-25T11:55:57.364624",
     "exception": false,
     "start_time": "2023-01-25T11:55:57.194214",
     "status": "completed"
    },
    "tags": []
   },
   "outputs": [],
   "source": [
    "x_train, x_test, y_train, y_test = train_test_split(X, y, test_size=0.3, stratify=y, random_state=42)"
   ]
  },
  {
   "cell_type": "code",
   "execution_count": null,
   "id": "1abfd188",
   "metadata": {
    "papermill": {
     "duration": 0.0028,
     "end_time": "2023-01-25T11:55:57.370641",
     "exception": false,
     "start_time": "2023-01-25T11:55:57.367841",
     "status": "completed"
    },
    "tags": []
   },
   "outputs": [],
   "source": []
  }
 ],
 "metadata": {
  "kernelspec": {
   "display_name": "Python 3",
   "language": "python",
   "name": "python3"
  },
  "language_info": {
   "codemirror_mode": {
    "name": "ipython",
    "version": 3
   },
   "file_extension": ".py",
   "mimetype": "text/x-python",
   "name": "python",
   "nbconvert_exporter": "python",
   "pygments_lexer": "ipython3",
   "version": "3.7.12"
  },
  "papermill": {
   "default_parameters": {},
   "duration": 13.648228,
   "end_time": "2023-01-25T11:55:58.196724",
   "environment_variables": {},
   "exception": null,
   "input_path": "__notebook__.ipynb",
   "output_path": "__notebook__.ipynb",
   "parameters": {},
   "start_time": "2023-01-25T11:55:44.548496",
   "version": "2.3.4"
  }
 },
 "nbformat": 4,
 "nbformat_minor": 5
}
