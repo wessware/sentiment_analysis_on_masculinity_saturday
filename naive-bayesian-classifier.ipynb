{
 "cells": [
  {
   "cell_type": "code",
   "execution_count": 1,
   "id": "a0662b40",
   "metadata": {
    "_cell_guid": "b1076dfc-b9ad-4769-8c92-a6c4dae69d19",
    "_uuid": "8f2839f25d086af736a60e9eeb907d3b93b6e0e5",
    "execution": {
     "iopub.execute_input": "2023-01-25T12:03:14.981306Z",
     "iopub.status.busy": "2023-01-25T12:03:14.980554Z",
     "iopub.status.idle": "2023-01-25T12:03:16.566970Z",
     "shell.execute_reply": "2023-01-25T12:03:16.565941Z"
    },
    "papermill": {
     "duration": 1.595749,
     "end_time": "2023-01-25T12:03:16.569692",
     "exception": false,
     "start_time": "2023-01-25T12:03:14.973943",
     "status": "completed"
    },
    "tags": []
   },
   "outputs": [],
   "source": [
    "import pandas as pd\n",
    "import numpy as np\n",
    "\n",
    "from sklearn import preprocessing\n",
    "from imblearn.over_sampling import RandomOverSampler\n",
    "from sklearn.model_selection import train_test_split\n",
    "\n",
    "from sklearn.feature_extraction.text import CountVectorizer\n",
    "from sklearn.feature_extraction.text import TfidfTransformer\n",
    "from sklearn.naive_bayes import MultinomialNB\n",
    "\n",
    "from sklearn.metrics import accuracy_score, f1_score\n",
    "from sklearn.metrics import classification_report, confusion_matrix"
   ]
  },
  {
   "cell_type": "code",
   "execution_count": 2,
   "id": "e6fa1b7e",
   "metadata": {
    "execution": {
     "iopub.execute_input": "2023-01-25T12:03:16.579660Z",
     "iopub.status.busy": "2023-01-25T12:03:16.579056Z",
     "iopub.status.idle": "2023-01-25T12:03:17.882660Z",
     "shell.execute_reply": "2023-01-25T12:03:17.881195Z"
    },
    "papermill": {
     "duration": 1.311524,
     "end_time": "2023-01-25T12:03:17.885403",
     "exception": false,
     "start_time": "2023-01-25T12:03:16.573879",
     "status": "completed"
    },
    "tags": []
   },
   "outputs": [],
   "source": [
    "df = pd.read_csv('/kaggle/input/amerix-sa-nlp-deep-cleaned-data/sentiment_adv_preprocessed_data.csv', index_col=0)"
   ]
  },
  {
   "cell_type": "code",
   "execution_count": 3,
   "id": "675e8bc0",
   "metadata": {
    "execution": {
     "iopub.execute_input": "2023-01-25T12:03:17.894287Z",
     "iopub.status.busy": "2023-01-25T12:03:17.893913Z",
     "iopub.status.idle": "2023-01-25T12:03:17.909782Z",
     "shell.execute_reply": "2023-01-25T12:03:17.908913Z"
    },
    "papermill": {
     "duration": 0.023239,
     "end_time": "2023-01-25T12:03:17.912336",
     "exception": false,
     "start_time": "2023-01-25T12:03:17.889097",
     "status": "completed"
    },
    "tags": []
   },
   "outputs": [
    {
     "data": {
      "text/html": [
       "<div>\n",
       "<style scoped>\n",
       "    .dataframe tbody tr th:only-of-type {\n",
       "        vertical-align: middle;\n",
       "    }\n",
       "\n",
       "    .dataframe tbody tr th {\n",
       "        vertical-align: top;\n",
       "    }\n",
       "\n",
       "    .dataframe thead th {\n",
       "        text-align: right;\n",
       "    }\n",
       "</style>\n",
       "<table border=\"1\" class=\"dataframe\">\n",
       "  <thead>\n",
       "    <tr style=\"text-align: right;\">\n",
       "      <th></th>\n",
       "      <th>tweet_created_at</th>\n",
       "      <th>text_clean</th>\n",
       "      <th>Sentiment</th>\n",
       "    </tr>\n",
       "  </thead>\n",
       "  <tbody>\n",
       "    <tr>\n",
       "      <th>0</th>\n",
       "      <td>2022-05-20 16:01:49+00:00</td>\n",
       "      <td>actor amp cookbook author recently joined the ...</td>\n",
       "      <td>1</td>\n",
       "    </tr>\n",
       "    <tr>\n",
       "      <th>1</th>\n",
       "      <td>2022-08-23 15:26:31+00:00</td>\n",
       "      <td>sprinkled a little kindness to brighten someon...</td>\n",
       "      <td>1</td>\n",
       "    </tr>\n",
       "    <tr>\n",
       "      <th>2</th>\n",
       "      <td>2021-10-15 17:23:25+00:00</td>\n",
       "      <td>the body is not stupid it has an efficient hom...</td>\n",
       "      <td>1</td>\n",
       "    </tr>\n",
       "    <tr>\n",
       "      <th>3</th>\n",
       "      <td>2022-11-19 16:26:01+00:00</td>\n",
       "      <td>food for the thought masculinitysaturday</td>\n",
       "      <td>2</td>\n",
       "    </tr>\n",
       "    <tr>\n",
       "      <th>4</th>\n",
       "      <td>2022-12-12 08:59:22+00:00</td>\n",
       "      <td>why though</td>\n",
       "      <td>2</td>\n",
       "    </tr>\n",
       "  </tbody>\n",
       "</table>\n",
       "</div>"
      ],
      "text/plain": [
       "            tweet_created_at  \\\n",
       "0  2022-05-20 16:01:49+00:00   \n",
       "1  2022-08-23 15:26:31+00:00   \n",
       "2  2021-10-15 17:23:25+00:00   \n",
       "3  2022-11-19 16:26:01+00:00   \n",
       "4  2022-12-12 08:59:22+00:00   \n",
       "\n",
       "                                          text_clean  Sentiment  \n",
       "0  actor amp cookbook author recently joined the ...          1  \n",
       "1  sprinkled a little kindness to brighten someon...          1  \n",
       "2  the body is not stupid it has an efficient hom...          1  \n",
       "3           food for the thought masculinitysaturday          2  \n",
       "4                                         why though          2  "
      ]
     },
     "execution_count": 3,
     "metadata": {},
     "output_type": "execute_result"
    }
   ],
   "source": [
    "df.head()"
   ]
  },
  {
   "cell_type": "code",
   "execution_count": 4,
   "id": "b1962d1e",
   "metadata": {
    "execution": {
     "iopub.execute_input": "2023-01-25T12:03:17.922293Z",
     "iopub.status.busy": "2023-01-25T12:03:17.921889Z",
     "iopub.status.idle": "2023-01-25T12:03:18.470453Z",
     "shell.execute_reply": "2023-01-25T12:03:18.469541Z"
    },
    "papermill": {
     "duration": 0.556112,
     "end_time": "2023-01-25T12:03:18.472969",
     "exception": false,
     "start_time": "2023-01-25T12:03:17.916857",
     "status": "completed"
    },
    "tags": []
   },
   "outputs": [],
   "source": [
    "ros = RandomOverSampler()\n",
    "\n",
    "train_x, train_y = ros.fit_resample(np.array(df['text_clean']).reshape(-1, 1), np.array(df['Sentiment']).reshape(-1, 1));\n",
    "\n",
    "ros_df = pd.DataFrame(list(zip([x[0] for x in train_x], train_y)), columns = ['text_clean', 'Sentiment']);"
   ]
  },
  {
   "cell_type": "code",
   "execution_count": 5,
   "id": "18af89f4",
   "metadata": {
    "execution": {
     "iopub.execute_input": "2023-01-25T12:03:18.482036Z",
     "iopub.status.busy": "2023-01-25T12:03:18.481607Z",
     "iopub.status.idle": "2023-01-25T12:03:18.494023Z",
     "shell.execute_reply": "2023-01-25T12:03:18.492904Z"
    },
    "papermill": {
     "duration": 0.019444,
     "end_time": "2023-01-25T12:03:18.496270",
     "exception": false,
     "start_time": "2023-01-25T12:03:18.476826",
     "status": "completed"
    },
    "tags": []
   },
   "outputs": [
    {
     "data": {
      "text/plain": [
       "1    129038\n",
       "2    129038\n",
       "0    129038\n",
       "Name: Sentiment, dtype: int64"
      ]
     },
     "execution_count": 5,
     "metadata": {},
     "output_type": "execute_result"
    }
   ],
   "source": [
    "ros_df['Sentiment'].value_counts()"
   ]
  },
  {
   "cell_type": "code",
   "execution_count": 6,
   "id": "5b31a9c2",
   "metadata": {
    "execution": {
     "iopub.execute_input": "2023-01-25T12:03:18.505757Z",
     "iopub.status.busy": "2023-01-25T12:03:18.505316Z",
     "iopub.status.idle": "2023-01-25T12:03:18.511074Z",
     "shell.execute_reply": "2023-01-25T12:03:18.509911Z"
    },
    "papermill": {
     "duration": 0.013087,
     "end_time": "2023-01-25T12:03:18.513324",
     "exception": false,
     "start_time": "2023-01-25T12:03:18.500237",
     "status": "completed"
    },
    "tags": []
   },
   "outputs": [],
   "source": [
    "X = ros_df['text_clean'].values\n",
    "y = ros_df['Sentiment'].values"
   ]
  },
  {
   "cell_type": "code",
   "execution_count": 7,
   "id": "b24f1c06",
   "metadata": {
    "execution": {
     "iopub.execute_input": "2023-01-25T12:03:18.523087Z",
     "iopub.status.busy": "2023-01-25T12:03:18.522359Z",
     "iopub.status.idle": "2023-01-25T12:03:18.528317Z",
     "shell.execute_reply": "2023-01-25T12:03:18.526787Z"
    },
    "papermill": {
     "duration": 0.013644,
     "end_time": "2023-01-25T12:03:18.530937",
     "exception": false,
     "start_time": "2023-01-25T12:03:18.517293",
     "status": "completed"
    },
    "tags": []
   },
   "outputs": [
    {
     "name": "stdout",
     "output_type": "stream",
     "text": [
      "(387114,)\n",
      "(387114,)\n"
     ]
    }
   ],
   "source": [
    "print(X.shape)\n",
    "print(y.shape)"
   ]
  },
  {
   "cell_type": "code",
   "execution_count": 8,
   "id": "c297ee19",
   "metadata": {
    "execution": {
     "iopub.execute_input": "2023-01-25T12:03:18.540310Z",
     "iopub.status.busy": "2023-01-25T12:03:18.539924Z",
     "iopub.status.idle": "2023-01-25T12:03:18.706300Z",
     "shell.execute_reply": "2023-01-25T12:03:18.705099Z"
    },
    "papermill": {
     "duration": 0.174516,
     "end_time": "2023-01-25T12:03:18.709377",
     "exception": false,
     "start_time": "2023-01-25T12:03:18.534861",
     "status": "completed"
    },
    "tags": []
   },
   "outputs": [],
   "source": [
    "x_, x_test, y_, y_test = train_test_split(X, y, test_size=0.3, stratify=y, random_state=42)"
   ]
  },
  {
   "cell_type": "code",
   "execution_count": 9,
   "id": "fcd66df1",
   "metadata": {
    "execution": {
     "iopub.execute_input": "2023-01-25T12:03:18.719596Z",
     "iopub.status.busy": "2023-01-25T12:03:18.719194Z",
     "iopub.status.idle": "2023-01-25T12:03:18.725258Z",
     "shell.execute_reply": "2023-01-25T12:03:18.723612Z"
    },
    "papermill": {
     "duration": 0.013976,
     "end_time": "2023-01-25T12:03:18.727825",
     "exception": false,
     "start_time": "2023-01-25T12:03:18.713849",
     "status": "completed"
    },
    "tags": []
   },
   "outputs": [
    {
     "name": "stdout",
     "output_type": "stream",
     "text": [
      "(270979,)\n",
      "(270979,)\n"
     ]
    }
   ],
   "source": [
    "print(x_.shape)\n",
    "print(y_.shape)"
   ]
  },
  {
   "cell_type": "code",
   "execution_count": 10,
   "id": "5759e887",
   "metadata": {
    "execution": {
     "iopub.execute_input": "2023-01-25T12:03:18.737953Z",
     "iopub.status.busy": "2023-01-25T12:03:18.737531Z",
     "iopub.status.idle": "2023-01-25T12:03:18.851490Z",
     "shell.execute_reply": "2023-01-25T12:03:18.850190Z"
    },
    "papermill": {
     "duration": 0.122205,
     "end_time": "2023-01-25T12:03:18.854218",
     "exception": false,
     "start_time": "2023-01-25T12:03:18.732013",
     "status": "completed"
    },
    "tags": []
   },
   "outputs": [],
   "source": [
    "x_train, x_val, y_train, y_val = train_test_split(x_, y_, test_size=0.2, stratify=y_, random_state=42)"
   ]
  },
  {
   "cell_type": "code",
   "execution_count": 11,
   "id": "556e5b2b",
   "metadata": {
    "execution": {
     "iopub.execute_input": "2023-01-25T12:03:18.864484Z",
     "iopub.status.busy": "2023-01-25T12:03:18.864075Z",
     "iopub.status.idle": "2023-01-25T12:03:25.921117Z",
     "shell.execute_reply": "2023-01-25T12:03:25.919934Z"
    },
    "papermill": {
     "duration": 7.065561,
     "end_time": "2023-01-25T12:03:25.924114",
     "exception": false,
     "start_time": "2023-01-25T12:03:18.858553",
     "status": "completed"
    },
    "tags": []
   },
   "outputs": [],
   "source": [
    "clf = CountVectorizer()\n",
    "\n",
    "X_train_cv =  clf.fit_transform(x_train)\n",
    "X_test_cv = clf.transform(x_test)"
   ]
  },
  {
   "cell_type": "code",
   "execution_count": null,
   "id": "cbac62bd",
   "metadata": {
    "papermill": {
     "duration": 0.003775,
     "end_time": "2023-01-25T12:03:25.932167",
     "exception": false,
     "start_time": "2023-01-25T12:03:25.928392",
     "status": "completed"
    },
    "tags": []
   },
   "outputs": [],
   "source": []
  }
 ],
 "metadata": {
  "kernelspec": {
   "display_name": "Python 3",
   "language": "python",
   "name": "python3"
  },
  "language_info": {
   "codemirror_mode": {
    "name": "ipython",
    "version": 3
   },
   "file_extension": ".py",
   "mimetype": "text/x-python",
   "name": "python",
   "nbconvert_exporter": "python",
   "pygments_lexer": "ipython3",
   "version": "3.7.12"
  },
  "papermill": {
   "default_parameters": {},
   "duration": 20.362082,
   "end_time": "2023-01-25T12:03:26.757625",
   "environment_variables": {},
   "exception": null,
   "input_path": "__notebook__.ipynb",
   "output_path": "__notebook__.ipynb",
   "parameters": {},
   "start_time": "2023-01-25T12:03:06.395543",
   "version": "2.3.4"
  }
 },
 "nbformat": 4,
 "nbformat_minor": 5
}
