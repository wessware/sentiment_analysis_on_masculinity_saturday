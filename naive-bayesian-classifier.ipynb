{
 "cells": [
  {
   "cell_type": "code",
   "execution_count": 1,
   "id": "a63578a0",
   "metadata": {
    "_cell_guid": "b1076dfc-b9ad-4769-8c92-a6c4dae69d19",
    "_uuid": "8f2839f25d086af736a60e9eeb907d3b93b6e0e5",
    "execution": {
     "iopub.execute_input": "2023-01-25T12:12:59.935780Z",
     "iopub.status.busy": "2023-01-25T12:12:59.935217Z",
     "iopub.status.idle": "2023-01-25T12:13:02.029657Z",
     "shell.execute_reply": "2023-01-25T12:13:02.028057Z"
    },
    "papermill": {
     "duration": 2.107225,
     "end_time": "2023-01-25T12:13:02.033215",
     "exception": false,
     "start_time": "2023-01-25T12:12:59.925990",
     "status": "completed"
    },
    "tags": []
   },
   "outputs": [],
   "source": [
    "import pandas as pd\n",
    "import numpy as np\n",
    "\n",
    "from sklearn import preprocessing\n",
    "from imblearn.over_sampling import RandomOverSampler\n",
    "from sklearn.model_selection import train_test_split\n",
    "\n",
    "from sklearn.feature_extraction.text import CountVectorizer\n",
    "from sklearn.feature_extraction.text import TfidfTransformer\n",
    "from sklearn.naive_bayes import MultinomialNB\n",
    "\n",
    "from sklearn.metrics import accuracy_score, f1_score\n",
    "from sklearn.metrics import classification_report, confusion_matrix"
   ]
  },
  {
   "cell_type": "code",
   "execution_count": 2,
   "id": "11951c48",
   "metadata": {
    "execution": {
     "iopub.execute_input": "2023-01-25T12:13:02.049468Z",
     "iopub.status.busy": "2023-01-25T12:13:02.047594Z",
     "iopub.status.idle": "2023-01-25T12:13:03.406044Z",
     "shell.execute_reply": "2023-01-25T12:13:03.404629Z"
    },
    "papermill": {
     "duration": 1.36923,
     "end_time": "2023-01-25T12:13:03.408992",
     "exception": false,
     "start_time": "2023-01-25T12:13:02.039762",
     "status": "completed"
    },
    "tags": []
   },
   "outputs": [],
   "source": [
    "df = pd.read_csv('/kaggle/input/amerix-sa-nlp-deep-cleaned-data/sentiment_adv_preprocessed_data.csv', index_col=0)"
   ]
  },
  {
   "cell_type": "code",
   "execution_count": 3,
   "id": "5aee91eb",
   "metadata": {
    "execution": {
     "iopub.execute_input": "2023-01-25T12:13:03.421244Z",
     "iopub.status.busy": "2023-01-25T12:13:03.420805Z",
     "iopub.status.idle": "2023-01-25T12:13:03.439785Z",
     "shell.execute_reply": "2023-01-25T12:13:03.438389Z"
    },
    "papermill": {
     "duration": 0.028169,
     "end_time": "2023-01-25T12:13:03.442554",
     "exception": false,
     "start_time": "2023-01-25T12:13:03.414385",
     "status": "completed"
    },
    "tags": []
   },
   "outputs": [
    {
     "data": {
      "text/html": [
       "<div>\n",
       "<style scoped>\n",
       "    .dataframe tbody tr th:only-of-type {\n",
       "        vertical-align: middle;\n",
       "    }\n",
       "\n",
       "    .dataframe tbody tr th {\n",
       "        vertical-align: top;\n",
       "    }\n",
       "\n",
       "    .dataframe thead th {\n",
       "        text-align: right;\n",
       "    }\n",
       "</style>\n",
       "<table border=\"1\" class=\"dataframe\">\n",
       "  <thead>\n",
       "    <tr style=\"text-align: right;\">\n",
       "      <th></th>\n",
       "      <th>tweet_created_at</th>\n",
       "      <th>text_clean</th>\n",
       "      <th>Sentiment</th>\n",
       "    </tr>\n",
       "  </thead>\n",
       "  <tbody>\n",
       "    <tr>\n",
       "      <th>0</th>\n",
       "      <td>2022-05-20 16:01:49+00:00</td>\n",
       "      <td>actor amp cookbook author recently joined the ...</td>\n",
       "      <td>1</td>\n",
       "    </tr>\n",
       "    <tr>\n",
       "      <th>1</th>\n",
       "      <td>2022-08-23 15:26:31+00:00</td>\n",
       "      <td>sprinkled a little kindness to brighten someon...</td>\n",
       "      <td>1</td>\n",
       "    </tr>\n",
       "    <tr>\n",
       "      <th>2</th>\n",
       "      <td>2021-10-15 17:23:25+00:00</td>\n",
       "      <td>the body is not stupid it has an efficient hom...</td>\n",
       "      <td>1</td>\n",
       "    </tr>\n",
       "    <tr>\n",
       "      <th>3</th>\n",
       "      <td>2022-11-19 16:26:01+00:00</td>\n",
       "      <td>food for the thought masculinitysaturday</td>\n",
       "      <td>2</td>\n",
       "    </tr>\n",
       "    <tr>\n",
       "      <th>4</th>\n",
       "      <td>2022-12-12 08:59:22+00:00</td>\n",
       "      <td>why though</td>\n",
       "      <td>2</td>\n",
       "    </tr>\n",
       "  </tbody>\n",
       "</table>\n",
       "</div>"
      ],
      "text/plain": [
       "            tweet_created_at  \\\n",
       "0  2022-05-20 16:01:49+00:00   \n",
       "1  2022-08-23 15:26:31+00:00   \n",
       "2  2021-10-15 17:23:25+00:00   \n",
       "3  2022-11-19 16:26:01+00:00   \n",
       "4  2022-12-12 08:59:22+00:00   \n",
       "\n",
       "                                          text_clean  Sentiment  \n",
       "0  actor amp cookbook author recently joined the ...          1  \n",
       "1  sprinkled a little kindness to brighten someon...          1  \n",
       "2  the body is not stupid it has an efficient hom...          1  \n",
       "3           food for the thought masculinitysaturday          2  \n",
       "4                                         why though          2  "
      ]
     },
     "execution_count": 3,
     "metadata": {},
     "output_type": "execute_result"
    }
   ],
   "source": [
    "df.head()"
   ]
  },
  {
   "cell_type": "code",
   "execution_count": 4,
   "id": "324bcd2a",
   "metadata": {
    "execution": {
     "iopub.execute_input": "2023-01-25T12:13:03.456386Z",
     "iopub.status.busy": "2023-01-25T12:13:03.455866Z",
     "iopub.status.idle": "2023-01-25T12:13:04.086293Z",
     "shell.execute_reply": "2023-01-25T12:13:04.084430Z"
    },
    "papermill": {
     "duration": 0.64159,
     "end_time": "2023-01-25T12:13:04.089612",
     "exception": false,
     "start_time": "2023-01-25T12:13:03.448022",
     "status": "completed"
    },
    "tags": []
   },
   "outputs": [],
   "source": [
    "ros = RandomOverSampler()\n",
    "\n",
    "train_x, train_y = ros.fit_resample(np.array(df['text_clean']).reshape(-1, 1), np.array(df['Sentiment']).reshape(-1, 1));\n",
    "\n",
    "ros_df = pd.DataFrame(list(zip([x[0] for x in train_x], train_y)), columns = ['text_clean', 'Sentiment']);"
   ]
  },
  {
   "cell_type": "code",
   "execution_count": 5,
   "id": "31c732ce",
   "metadata": {
    "execution": {
     "iopub.execute_input": "2023-01-25T12:13:04.103620Z",
     "iopub.status.busy": "2023-01-25T12:13:04.103050Z",
     "iopub.status.idle": "2023-01-25T12:13:04.120031Z",
     "shell.execute_reply": "2023-01-25T12:13:04.118127Z"
    },
    "papermill": {
     "duration": 0.027806,
     "end_time": "2023-01-25T12:13:04.123168",
     "exception": false,
     "start_time": "2023-01-25T12:13:04.095362",
     "status": "completed"
    },
    "tags": []
   },
   "outputs": [
    {
     "data": {
      "text/plain": [
       "1    129038\n",
       "2    129038\n",
       "0    129038\n",
       "Name: Sentiment, dtype: int64"
      ]
     },
     "execution_count": 5,
     "metadata": {},
     "output_type": "execute_result"
    }
   ],
   "source": [
    "ros_df['Sentiment'].value_counts()"
   ]
  },
  {
   "cell_type": "code",
   "execution_count": 6,
   "id": "c80350b6",
   "metadata": {
    "execution": {
     "iopub.execute_input": "2023-01-25T12:13:04.137712Z",
     "iopub.status.busy": "2023-01-25T12:13:04.137254Z",
     "iopub.status.idle": "2023-01-25T12:13:04.143824Z",
     "shell.execute_reply": "2023-01-25T12:13:04.142254Z"
    },
    "papermill": {
     "duration": 0.017649,
     "end_time": "2023-01-25T12:13:04.147150",
     "exception": false,
     "start_time": "2023-01-25T12:13:04.129501",
     "status": "completed"
    },
    "tags": []
   },
   "outputs": [],
   "source": [
    "X = ros_df['text_clean'].values\n",
    "y = ros_df['Sentiment'].values"
   ]
  },
  {
   "cell_type": "code",
   "execution_count": 7,
   "id": "78751b86",
   "metadata": {
    "execution": {
     "iopub.execute_input": "2023-01-25T12:13:04.160475Z",
     "iopub.status.busy": "2023-01-25T12:13:04.159974Z",
     "iopub.status.idle": "2023-01-25T12:13:04.167984Z",
     "shell.execute_reply": "2023-01-25T12:13:04.165877Z"
    },
    "papermill": {
     "duration": 0.019174,
     "end_time": "2023-01-25T12:13:04.171855",
     "exception": false,
     "start_time": "2023-01-25T12:13:04.152681",
     "status": "completed"
    },
    "tags": []
   },
   "outputs": [
    {
     "name": "stdout",
     "output_type": "stream",
     "text": [
      "(387114,)\n",
      "(387114,)\n"
     ]
    }
   ],
   "source": [
    "print(X.shape)\n",
    "print(y.shape)"
   ]
  },
  {
   "cell_type": "code",
   "execution_count": 8,
   "id": "b094775d",
   "metadata": {
    "execution": {
     "iopub.execute_input": "2023-01-25T12:13:04.185517Z",
     "iopub.status.busy": "2023-01-25T12:13:04.185014Z",
     "iopub.status.idle": "2023-01-25T12:13:04.376974Z",
     "shell.execute_reply": "2023-01-25T12:13:04.375314Z"
    },
    "papermill": {
     "duration": 0.202197,
     "end_time": "2023-01-25T12:13:04.380174",
     "exception": false,
     "start_time": "2023-01-25T12:13:04.177977",
     "status": "completed"
    },
    "tags": []
   },
   "outputs": [],
   "source": [
    "x_, x_test, y_, y_test = train_test_split(X, y, test_size=0.3, stratify=y, random_state=42)"
   ]
  },
  {
   "cell_type": "code",
   "execution_count": 9,
   "id": "21431cc0",
   "metadata": {
    "execution": {
     "iopub.execute_input": "2023-01-25T12:13:04.394069Z",
     "iopub.status.busy": "2023-01-25T12:13:04.393077Z",
     "iopub.status.idle": "2023-01-25T12:13:04.399617Z",
     "shell.execute_reply": "2023-01-25T12:13:04.398185Z"
    },
    "papermill": {
     "duration": 0.016121,
     "end_time": "2023-01-25T12:13:04.402260",
     "exception": false,
     "start_time": "2023-01-25T12:13:04.386139",
     "status": "completed"
    },
    "tags": []
   },
   "outputs": [
    {
     "name": "stdout",
     "output_type": "stream",
     "text": [
      "(270979,)\n",
      "(270979,)\n"
     ]
    }
   ],
   "source": [
    "print(x_.shape)\n",
    "print(y_.shape)"
   ]
  },
  {
   "cell_type": "code",
   "execution_count": 10,
   "id": "0579a2bd",
   "metadata": {
    "execution": {
     "iopub.execute_input": "2023-01-25T12:13:04.415211Z",
     "iopub.status.busy": "2023-01-25T12:13:04.414795Z",
     "iopub.status.idle": "2023-01-25T12:13:04.548697Z",
     "shell.execute_reply": "2023-01-25T12:13:04.547222Z"
    },
    "papermill": {
     "duration": 0.143656,
     "end_time": "2023-01-25T12:13:04.551475",
     "exception": false,
     "start_time": "2023-01-25T12:13:04.407819",
     "status": "completed"
    },
    "tags": []
   },
   "outputs": [],
   "source": [
    "x_train, x_val, y_train, y_val = train_test_split(x_, y_, test_size=0.2, stratify=y_, random_state=42)"
   ]
  },
  {
   "cell_type": "code",
   "execution_count": 11,
   "id": "2c70ae4b",
   "metadata": {
    "execution": {
     "iopub.execute_input": "2023-01-25T12:13:04.564327Z",
     "iopub.status.busy": "2023-01-25T12:13:04.563837Z",
     "iopub.status.idle": "2023-01-25T12:13:04.571495Z",
     "shell.execute_reply": "2023-01-25T12:13:04.570170Z"
    },
    "papermill": {
     "duration": 0.01744,
     "end_time": "2023-01-25T12:13:04.574421",
     "exception": false,
     "start_time": "2023-01-25T12:13:04.556981",
     "status": "completed"
    },
    "tags": []
   },
   "outputs": [],
   "source": [
    "y_train_c = y_train.copy()\n",
    "y_valid_c = y_val.copy()\n",
    "y_test_c = y_test.copy()"
   ]
  },
  {
   "cell_type": "code",
   "execution_count": 12,
   "id": "eb2dead6",
   "metadata": {
    "execution": {
     "iopub.execute_input": "2023-01-25T12:13:04.588412Z",
     "iopub.status.busy": "2023-01-25T12:13:04.587896Z",
     "iopub.status.idle": "2023-01-25T12:13:04.646445Z",
     "shell.execute_reply": "2023-01-25T12:13:04.645074Z"
    },
    "papermill": {
     "duration": 0.069212,
     "end_time": "2023-01-25T12:13:04.649258",
     "exception": false,
     "start_time": "2023-01-25T12:13:04.580046",
     "status": "completed"
    },
    "tags": []
   },
   "outputs": [],
   "source": [
    "encoder = preprocessing.OneHotEncoder()\n",
    "\n",
    "y_train = encoder.fit_transform(np.array(y_train).reshape(-1, 1)).toarray()\n",
    "y_val = encoder.fit_transform(np.array(y_val).reshape(-1, 1)).toarray()\n",
    "y_test = encoder.fit_transform(np.array(y_test).reshape(-1, 1)).toarray()"
   ]
  },
  {
   "cell_type": "code",
   "execution_count": 13,
   "id": "1e3e7212",
   "metadata": {
    "execution": {
     "iopub.execute_input": "2023-01-25T12:13:04.662233Z",
     "iopub.status.busy": "2023-01-25T12:13:04.661789Z",
     "iopub.status.idle": "2023-01-25T12:13:04.667992Z",
     "shell.execute_reply": "2023-01-25T12:13:04.666652Z"
    },
    "papermill": {
     "duration": 0.015848,
     "end_time": "2023-01-25T12:13:04.670679",
     "exception": false,
     "start_time": "2023-01-25T12:13:04.654831",
     "status": "completed"
    },
    "tags": []
   },
   "outputs": [
    {
     "name": "stdout",
     "output_type": "stream",
     "text": [
      "Training Data: 216783\n",
      "Validation Data: 54196\n",
      "Testing Data: 116135\n"
     ]
    }
   ],
   "source": [
    "print(f\"Training Data: {x_train.shape[0]}\\nValidation Data: {x_val.shape[0]}\\nTesting Data: {x_test.shape[0]}\" )"
   ]
  },
  {
   "cell_type": "code",
   "execution_count": 14,
   "id": "ce59e488",
   "metadata": {
    "execution": {
     "iopub.execute_input": "2023-01-25T12:13:04.684707Z",
     "iopub.status.busy": "2023-01-25T12:13:04.684297Z",
     "iopub.status.idle": "2023-01-25T12:13:12.800176Z",
     "shell.execute_reply": "2023-01-25T12:13:12.798817Z"
    },
    "papermill": {
     "duration": 8.126341,
     "end_time": "2023-01-25T12:13:12.803098",
     "exception": false,
     "start_time": "2023-01-25T12:13:04.676757",
     "status": "completed"
    },
    "tags": []
   },
   "outputs": [],
   "source": [
    "clf = CountVectorizer()\n",
    "\n",
    "X_train_cv =  clf.fit_transform(x_train)\n",
    "X_test_cv = clf.transform(x_test)"
   ]
  },
  {
   "cell_type": "code",
   "execution_count": 15,
   "id": "860772c0",
   "metadata": {
    "execution": {
     "iopub.execute_input": "2023-01-25T12:13:12.816142Z",
     "iopub.status.busy": "2023-01-25T12:13:12.815754Z",
     "iopub.status.idle": "2023-01-25T12:13:13.450306Z",
     "shell.execute_reply": "2023-01-25T12:13:13.448954Z"
    },
    "papermill": {
     "duration": 0.644396,
     "end_time": "2023-01-25T12:13:13.453183",
     "exception": false,
     "start_time": "2023-01-25T12:13:12.808787",
     "status": "completed"
    },
    "tags": []
   },
   "outputs": [],
   "source": [
    "tf_transformer = TfidfTransformer(use_idf=True).fit(X_train_cv)\n",
    "\n",
    "X_train_tf = tf_transformer.transform(X_train_cv)\n",
    "X_test_tf = tf_transformer.transform(X_test_cv)"
   ]
  },
  {
   "cell_type": "code",
   "execution_count": 16,
   "id": "00b6af30",
   "metadata": {
    "execution": {
     "iopub.execute_input": "2023-01-25T12:13:13.467401Z",
     "iopub.status.busy": "2023-01-25T12:13:13.466951Z",
     "iopub.status.idle": "2023-01-25T12:13:13.471976Z",
     "shell.execute_reply": "2023-01-25T12:13:13.470808Z"
    },
    "papermill": {
     "duration": 0.015512,
     "end_time": "2023-01-25T12:13:13.474759",
     "exception": false,
     "start_time": "2023-01-25T12:13:13.459247",
     "status": "completed"
    },
    "tags": []
   },
   "outputs": [],
   "source": [
    "naive_classifier = MultinomialNB()"
   ]
  },
  {
   "cell_type": "code",
   "execution_count": 17,
   "id": "69ea7f17",
   "metadata": {
    "execution": {
     "iopub.execute_input": "2023-01-25T12:13:13.488617Z",
     "iopub.status.busy": "2023-01-25T12:13:13.488179Z",
     "iopub.status.idle": "2023-01-25T12:13:13.596463Z",
     "shell.execute_reply": "2023-01-25T12:13:13.595177Z"
    },
    "papermill": {
     "duration": 0.118737,
     "end_time": "2023-01-25T12:13:13.599450",
     "exception": false,
     "start_time": "2023-01-25T12:13:13.480713",
     "status": "completed"
    },
    "tags": []
   },
   "outputs": [
    {
     "data": {
      "text/plain": [
       "MultinomialNB()"
      ]
     },
     "execution_count": 17,
     "metadata": {},
     "output_type": "execute_result"
    }
   ],
   "source": [
    "naive_classifier.fit(X_train_tf, y_train_c)"
   ]
  },
  {
   "cell_type": "code",
   "execution_count": null,
   "id": "f5afee39",
   "metadata": {
    "papermill": {
     "duration": 0.005483,
     "end_time": "2023-01-25T12:13:13.611737",
     "exception": false,
     "start_time": "2023-01-25T12:13:13.606254",
     "status": "completed"
    },
    "tags": []
   },
   "outputs": [],
   "source": []
  }
 ],
 "metadata": {
  "kernelspec": {
   "display_name": "Python 3",
   "language": "python",
   "name": "python3"
  },
  "language_info": {
   "codemirror_mode": {
    "name": "ipython",
    "version": 3
   },
   "file_extension": ".py",
   "mimetype": "text/x-python",
   "name": "python",
   "nbconvert_exporter": "python",
   "pygments_lexer": "ipython3",
   "version": "3.7.12"
  },
  "papermill": {
   "default_parameters": {},
   "duration": 25.755496,
   "end_time": "2023-01-25T12:13:14.541007",
   "environment_variables": {},
   "exception": null,
   "input_path": "__notebook__.ipynb",
   "output_path": "__notebook__.ipynb",
   "parameters": {},
   "start_time": "2023-01-25T12:12:48.785511",
   "version": "2.3.4"
  }
 },
 "nbformat": 4,
 "nbformat_minor": 5
}
