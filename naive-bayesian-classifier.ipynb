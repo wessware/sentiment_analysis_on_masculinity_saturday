{
 "cells": [
  {
   "cell_type": "code",
   "execution_count": 1,
   "id": "9a6328f0",
   "metadata": {
    "_cell_guid": "b1076dfc-b9ad-4769-8c92-a6c4dae69d19",
    "_uuid": "8f2839f25d086af736a60e9eeb907d3b93b6e0e5",
    "execution": {
     "iopub.execute_input": "2023-01-25T12:04:59.357098Z",
     "iopub.status.busy": "2023-01-25T12:04:59.356380Z",
     "iopub.status.idle": "2023-01-25T12:05:00.710442Z",
     "shell.execute_reply": "2023-01-25T12:05:00.709233Z"
    },
    "papermill": {
     "duration": 1.36401,
     "end_time": "2023-01-25T12:05:00.713351",
     "exception": false,
     "start_time": "2023-01-25T12:04:59.349341",
     "status": "completed"
    },
    "tags": []
   },
   "outputs": [],
   "source": [
    "import pandas as pd\n",
    "import numpy as np\n",
    "\n",
    "from sklearn import preprocessing\n",
    "from imblearn.over_sampling import RandomOverSampler\n",
    "from sklearn.model_selection import train_test_split\n",
    "\n",
    "from sklearn.feature_extraction.text import CountVectorizer\n",
    "from sklearn.feature_extraction.text import TfidfTransformer\n",
    "from sklearn.naive_bayes import MultinomialNB\n",
    "\n",
    "from sklearn.metrics import accuracy_score, f1_score\n",
    "from sklearn.metrics import classification_report, confusion_matrix"
   ]
  },
  {
   "cell_type": "code",
   "execution_count": 2,
   "id": "b9aaae0b",
   "metadata": {
    "execution": {
     "iopub.execute_input": "2023-01-25T12:05:00.723349Z",
     "iopub.status.busy": "2023-01-25T12:05:00.722700Z",
     "iopub.status.idle": "2023-01-25T12:05:02.068855Z",
     "shell.execute_reply": "2023-01-25T12:05:02.067695Z"
    },
    "papermill": {
     "duration": 1.354053,
     "end_time": "2023-01-25T12:05:02.071516",
     "exception": false,
     "start_time": "2023-01-25T12:05:00.717463",
     "status": "completed"
    },
    "tags": []
   },
   "outputs": [],
   "source": [
    "df = pd.read_csv('/kaggle/input/amerix-sa-nlp-deep-cleaned-data/sentiment_adv_preprocessed_data.csv', index_col=0)"
   ]
  },
  {
   "cell_type": "code",
   "execution_count": 3,
   "id": "d5bc59df",
   "metadata": {
    "execution": {
     "iopub.execute_input": "2023-01-25T12:05:02.081424Z",
     "iopub.status.busy": "2023-01-25T12:05:02.080154Z",
     "iopub.status.idle": "2023-01-25T12:05:02.096762Z",
     "shell.execute_reply": "2023-01-25T12:05:02.095551Z"
    },
    "papermill": {
     "duration": 0.024012,
     "end_time": "2023-01-25T12:05:02.099375",
     "exception": false,
     "start_time": "2023-01-25T12:05:02.075363",
     "status": "completed"
    },
    "tags": []
   },
   "outputs": [
    {
     "data": {
      "text/html": [
       "<div>\n",
       "<style scoped>\n",
       "    .dataframe tbody tr th:only-of-type {\n",
       "        vertical-align: middle;\n",
       "    }\n",
       "\n",
       "    .dataframe tbody tr th {\n",
       "        vertical-align: top;\n",
       "    }\n",
       "\n",
       "    .dataframe thead th {\n",
       "        text-align: right;\n",
       "    }\n",
       "</style>\n",
       "<table border=\"1\" class=\"dataframe\">\n",
       "  <thead>\n",
       "    <tr style=\"text-align: right;\">\n",
       "      <th></th>\n",
       "      <th>tweet_created_at</th>\n",
       "      <th>text_clean</th>\n",
       "      <th>Sentiment</th>\n",
       "    </tr>\n",
       "  </thead>\n",
       "  <tbody>\n",
       "    <tr>\n",
       "      <th>0</th>\n",
       "      <td>2022-05-20 16:01:49+00:00</td>\n",
       "      <td>actor amp cookbook author recently joined the ...</td>\n",
       "      <td>1</td>\n",
       "    </tr>\n",
       "    <tr>\n",
       "      <th>1</th>\n",
       "      <td>2022-08-23 15:26:31+00:00</td>\n",
       "      <td>sprinkled a little kindness to brighten someon...</td>\n",
       "      <td>1</td>\n",
       "    </tr>\n",
       "    <tr>\n",
       "      <th>2</th>\n",
       "      <td>2021-10-15 17:23:25+00:00</td>\n",
       "      <td>the body is not stupid it has an efficient hom...</td>\n",
       "      <td>1</td>\n",
       "    </tr>\n",
       "    <tr>\n",
       "      <th>3</th>\n",
       "      <td>2022-11-19 16:26:01+00:00</td>\n",
       "      <td>food for the thought masculinitysaturday</td>\n",
       "      <td>2</td>\n",
       "    </tr>\n",
       "    <tr>\n",
       "      <th>4</th>\n",
       "      <td>2022-12-12 08:59:22+00:00</td>\n",
       "      <td>why though</td>\n",
       "      <td>2</td>\n",
       "    </tr>\n",
       "  </tbody>\n",
       "</table>\n",
       "</div>"
      ],
      "text/plain": [
       "            tweet_created_at  \\\n",
       "0  2022-05-20 16:01:49+00:00   \n",
       "1  2022-08-23 15:26:31+00:00   \n",
       "2  2021-10-15 17:23:25+00:00   \n",
       "3  2022-11-19 16:26:01+00:00   \n",
       "4  2022-12-12 08:59:22+00:00   \n",
       "\n",
       "                                          text_clean  Sentiment  \n",
       "0  actor amp cookbook author recently joined the ...          1  \n",
       "1  sprinkled a little kindness to brighten someon...          1  \n",
       "2  the body is not stupid it has an efficient hom...          1  \n",
       "3           food for the thought masculinitysaturday          2  \n",
       "4                                         why though          2  "
      ]
     },
     "execution_count": 3,
     "metadata": {},
     "output_type": "execute_result"
    }
   ],
   "source": [
    "df.head()"
   ]
  },
  {
   "cell_type": "code",
   "execution_count": 4,
   "id": "1462f532",
   "metadata": {
    "execution": {
     "iopub.execute_input": "2023-01-25T12:05:02.109803Z",
     "iopub.status.busy": "2023-01-25T12:05:02.108627Z",
     "iopub.status.idle": "2023-01-25T12:05:02.648083Z",
     "shell.execute_reply": "2023-01-25T12:05:02.647085Z"
    },
    "papermill": {
     "duration": 0.547219,
     "end_time": "2023-01-25T12:05:02.650745",
     "exception": false,
     "start_time": "2023-01-25T12:05:02.103526",
     "status": "completed"
    },
    "tags": []
   },
   "outputs": [],
   "source": [
    "ros = RandomOverSampler()\n",
    "\n",
    "train_x, train_y = ros.fit_resample(np.array(df['text_clean']).reshape(-1, 1), np.array(df['Sentiment']).reshape(-1, 1));\n",
    "\n",
    "ros_df = pd.DataFrame(list(zip([x[0] for x in train_x], train_y)), columns = ['text_clean', 'Sentiment']);"
   ]
  },
  {
   "cell_type": "code",
   "execution_count": 5,
   "id": "71ae6b32",
   "metadata": {
    "execution": {
     "iopub.execute_input": "2023-01-25T12:05:02.660273Z",
     "iopub.status.busy": "2023-01-25T12:05:02.659877Z",
     "iopub.status.idle": "2023-01-25T12:05:02.672042Z",
     "shell.execute_reply": "2023-01-25T12:05:02.670930Z"
    },
    "papermill": {
     "duration": 0.019425,
     "end_time": "2023-01-25T12:05:02.674180",
     "exception": false,
     "start_time": "2023-01-25T12:05:02.654755",
     "status": "completed"
    },
    "tags": []
   },
   "outputs": [
    {
     "data": {
      "text/plain": [
       "1    129038\n",
       "2    129038\n",
       "0    129038\n",
       "Name: Sentiment, dtype: int64"
      ]
     },
     "execution_count": 5,
     "metadata": {},
     "output_type": "execute_result"
    }
   ],
   "source": [
    "ros_df['Sentiment'].value_counts()"
   ]
  },
  {
   "cell_type": "code",
   "execution_count": 6,
   "id": "c2527b7b",
   "metadata": {
    "execution": {
     "iopub.execute_input": "2023-01-25T12:05:02.684106Z",
     "iopub.status.busy": "2023-01-25T12:05:02.683714Z",
     "iopub.status.idle": "2023-01-25T12:05:02.688268Z",
     "shell.execute_reply": "2023-01-25T12:05:02.687559Z"
    },
    "papermill": {
     "duration": 0.01178,
     "end_time": "2023-01-25T12:05:02.690150",
     "exception": false,
     "start_time": "2023-01-25T12:05:02.678370",
     "status": "completed"
    },
    "tags": []
   },
   "outputs": [],
   "source": [
    "X = ros_df['text_clean'].values\n",
    "y = ros_df['Sentiment'].values"
   ]
  },
  {
   "cell_type": "code",
   "execution_count": 7,
   "id": "4c6facd7",
   "metadata": {
    "execution": {
     "iopub.execute_input": "2023-01-25T12:05:02.700478Z",
     "iopub.status.busy": "2023-01-25T12:05:02.699407Z",
     "iopub.status.idle": "2023-01-25T12:05:02.705622Z",
     "shell.execute_reply": "2023-01-25T12:05:02.704233Z"
    },
    "papermill": {
     "duration": 0.013629,
     "end_time": "2023-01-25T12:05:02.707841",
     "exception": false,
     "start_time": "2023-01-25T12:05:02.694212",
     "status": "completed"
    },
    "tags": []
   },
   "outputs": [
    {
     "name": "stdout",
     "output_type": "stream",
     "text": [
      "(387114,)\n",
      "(387114,)\n"
     ]
    }
   ],
   "source": [
    "print(X.shape)\n",
    "print(y.shape)"
   ]
  },
  {
   "cell_type": "code",
   "execution_count": 8,
   "id": "32862c79",
   "metadata": {
    "execution": {
     "iopub.execute_input": "2023-01-25T12:05:02.717639Z",
     "iopub.status.busy": "2023-01-25T12:05:02.717235Z",
     "iopub.status.idle": "2023-01-25T12:05:02.879072Z",
     "shell.execute_reply": "2023-01-25T12:05:02.877721Z"
    },
    "papermill": {
     "duration": 0.169937,
     "end_time": "2023-01-25T12:05:02.881941",
     "exception": false,
     "start_time": "2023-01-25T12:05:02.712004",
     "status": "completed"
    },
    "tags": []
   },
   "outputs": [],
   "source": [
    "x_, x_test, y_, y_test = train_test_split(X, y, test_size=0.3, stratify=y, random_state=42)"
   ]
  },
  {
   "cell_type": "code",
   "execution_count": 9,
   "id": "b6482e12",
   "metadata": {
    "execution": {
     "iopub.execute_input": "2023-01-25T12:05:02.893374Z",
     "iopub.status.busy": "2023-01-25T12:05:02.892203Z",
     "iopub.status.idle": "2023-01-25T12:05:02.897112Z",
     "shell.execute_reply": "2023-01-25T12:05:02.896353Z"
    },
    "papermill": {
     "duration": 0.013022,
     "end_time": "2023-01-25T12:05:02.899503",
     "exception": false,
     "start_time": "2023-01-25T12:05:02.886481",
     "status": "completed"
    },
    "tags": []
   },
   "outputs": [
    {
     "name": "stdout",
     "output_type": "stream",
     "text": [
      "(270979,)\n",
      "(270979,)\n"
     ]
    }
   ],
   "source": [
    "print(x_.shape)\n",
    "print(y_.shape)"
   ]
  },
  {
   "cell_type": "code",
   "execution_count": 10,
   "id": "79a0d0d5",
   "metadata": {
    "execution": {
     "iopub.execute_input": "2023-01-25T12:05:02.909507Z",
     "iopub.status.busy": "2023-01-25T12:05:02.909117Z",
     "iopub.status.idle": "2023-01-25T12:05:03.026883Z",
     "shell.execute_reply": "2023-01-25T12:05:03.025937Z"
    },
    "papermill": {
     "duration": 0.125704,
     "end_time": "2023-01-25T12:05:03.029466",
     "exception": false,
     "start_time": "2023-01-25T12:05:02.903762",
     "status": "completed"
    },
    "tags": []
   },
   "outputs": [],
   "source": [
    "x_train, x_val, y_train, y_val = train_test_split(x_, y_, test_size=0.2, stratify=y_, random_state=42)"
   ]
  },
  {
   "cell_type": "code",
   "execution_count": 11,
   "id": "f78b4547",
   "metadata": {
    "execution": {
     "iopub.execute_input": "2023-01-25T12:05:03.040147Z",
     "iopub.status.busy": "2023-01-25T12:05:03.039048Z",
     "iopub.status.idle": "2023-01-25T12:05:10.054901Z",
     "shell.execute_reply": "2023-01-25T12:05:10.053912Z"
    },
    "papermill": {
     "duration": 7.023846,
     "end_time": "2023-01-25T12:05:10.057578",
     "exception": false,
     "start_time": "2023-01-25T12:05:03.033732",
     "status": "completed"
    },
    "tags": []
   },
   "outputs": [],
   "source": [
    "clf = CountVectorizer()\n",
    "\n",
    "X_train_cv =  clf.fit_transform(x_train)\n",
    "X_test_cv = clf.transform(x_test)"
   ]
  },
  {
   "cell_type": "code",
   "execution_count": 12,
   "id": "748c0b00",
   "metadata": {
    "execution": {
     "iopub.execute_input": "2023-01-25T12:05:10.067817Z",
     "iopub.status.busy": "2023-01-25T12:05:10.067431Z",
     "iopub.status.idle": "2023-01-25T12:05:10.614432Z",
     "shell.execute_reply": "2023-01-25T12:05:10.613478Z"
    },
    "papermill": {
     "duration": 0.555184,
     "end_time": "2023-01-25T12:05:10.617183",
     "exception": false,
     "start_time": "2023-01-25T12:05:10.061999",
     "status": "completed"
    },
    "tags": []
   },
   "outputs": [],
   "source": [
    "tf_transformer = TfidfTransformer(use_idf=True).fit(X_train_cv)\n",
    "\n",
    "X_train_tf = tf_transformer.transform(X_train_cv)\n",
    "X_test_tf = tf_transformer.transform(X_test_cv)"
   ]
  },
  {
   "cell_type": "code",
   "execution_count": null,
   "id": "4023c504",
   "metadata": {
    "papermill": {
     "duration": 0.003891,
     "end_time": "2023-01-25T12:05:10.625563",
     "exception": false,
     "start_time": "2023-01-25T12:05:10.621672",
     "status": "completed"
    },
    "tags": []
   },
   "outputs": [],
   "source": []
  }
 ],
 "metadata": {
  "kernelspec": {
   "display_name": "Python 3",
   "language": "python",
   "name": "python3"
  },
  "language_info": {
   "codemirror_mode": {
    "name": "ipython",
    "version": 3
   },
   "file_extension": ".py",
   "mimetype": "text/x-python",
   "name": "python",
   "nbconvert_exporter": "python",
   "pygments_lexer": "ipython3",
   "version": "3.7.12"
  },
  "papermill": {
   "default_parameters": {},
   "duration": 20.410012,
   "end_time": "2023-01-25T12:05:11.451986",
   "environment_variables": {},
   "exception": null,
   "input_path": "__notebook__.ipynb",
   "output_path": "__notebook__.ipynb",
   "parameters": {},
   "start_time": "2023-01-25T12:04:51.041974",
   "version": "2.3.4"
  }
 },
 "nbformat": 4,
 "nbformat_minor": 5
}
