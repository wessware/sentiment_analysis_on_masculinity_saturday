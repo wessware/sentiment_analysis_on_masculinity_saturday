{
 "cells": [
  {
   "cell_type": "code",
   "execution_count": 1,
   "id": "3d54b613",
   "metadata": {
    "_cell_guid": "b1076dfc-b9ad-4769-8c92-a6c4dae69d19",
    "_uuid": "8f2839f25d086af736a60e9eeb907d3b93b6e0e5",
    "execution": {
     "iopub.execute_input": "2023-01-25T12:09:07.555185Z",
     "iopub.status.busy": "2023-01-25T12:09:07.554713Z",
     "iopub.status.idle": "2023-01-25T12:09:09.084096Z",
     "shell.execute_reply": "2023-01-25T12:09:09.082813Z"
    },
    "papermill": {
     "duration": 1.540157,
     "end_time": "2023-01-25T12:09:09.087321",
     "exception": false,
     "start_time": "2023-01-25T12:09:07.547164",
     "status": "completed"
    },
    "tags": []
   },
   "outputs": [],
   "source": [
    "import pandas as pd\n",
    "import numpy as np\n",
    "\n",
    "from sklearn import preprocessing\n",
    "from imblearn.over_sampling import RandomOverSampler\n",
    "from sklearn.model_selection import train_test_split\n",
    "\n",
    "from sklearn.feature_extraction.text import CountVectorizer\n",
    "from sklearn.feature_extraction.text import TfidfTransformer\n",
    "from sklearn.naive_bayes import MultinomialNB\n",
    "\n",
    "from sklearn.metrics import accuracy_score, f1_score\n",
    "from sklearn.metrics import classification_report, confusion_matrix"
   ]
  },
  {
   "cell_type": "code",
   "execution_count": 2,
   "id": "ef973836",
   "metadata": {
    "execution": {
     "iopub.execute_input": "2023-01-25T12:09:09.098201Z",
     "iopub.status.busy": "2023-01-25T12:09:09.097698Z",
     "iopub.status.idle": "2023-01-25T12:09:10.310369Z",
     "shell.execute_reply": "2023-01-25T12:09:10.309269Z"
    },
    "papermill": {
     "duration": 1.221294,
     "end_time": "2023-01-25T12:09:10.313318",
     "exception": false,
     "start_time": "2023-01-25T12:09:09.092024",
     "status": "completed"
    },
    "tags": []
   },
   "outputs": [],
   "source": [
    "df = pd.read_csv('/kaggle/input/amerix-sa-nlp-deep-cleaned-data/sentiment_adv_preprocessed_data.csv', index_col=0)"
   ]
  },
  {
   "cell_type": "code",
   "execution_count": 3,
   "id": "7a38a34c",
   "metadata": {
    "execution": {
     "iopub.execute_input": "2023-01-25T12:09:10.324030Z",
     "iopub.status.busy": "2023-01-25T12:09:10.323583Z",
     "iopub.status.idle": "2023-01-25T12:09:10.340732Z",
     "shell.execute_reply": "2023-01-25T12:09:10.339606Z"
    },
    "papermill": {
     "duration": 0.026386,
     "end_time": "2023-01-25T12:09:10.344139",
     "exception": false,
     "start_time": "2023-01-25T12:09:10.317753",
     "status": "completed"
    },
    "tags": []
   },
   "outputs": [
    {
     "data": {
      "text/html": [
       "<div>\n",
       "<style scoped>\n",
       "    .dataframe tbody tr th:only-of-type {\n",
       "        vertical-align: middle;\n",
       "    }\n",
       "\n",
       "    .dataframe tbody tr th {\n",
       "        vertical-align: top;\n",
       "    }\n",
       "\n",
       "    .dataframe thead th {\n",
       "        text-align: right;\n",
       "    }\n",
       "</style>\n",
       "<table border=\"1\" class=\"dataframe\">\n",
       "  <thead>\n",
       "    <tr style=\"text-align: right;\">\n",
       "      <th></th>\n",
       "      <th>tweet_created_at</th>\n",
       "      <th>text_clean</th>\n",
       "      <th>Sentiment</th>\n",
       "    </tr>\n",
       "  </thead>\n",
       "  <tbody>\n",
       "    <tr>\n",
       "      <th>0</th>\n",
       "      <td>2022-05-20 16:01:49+00:00</td>\n",
       "      <td>actor amp cookbook author recently joined the ...</td>\n",
       "      <td>1</td>\n",
       "    </tr>\n",
       "    <tr>\n",
       "      <th>1</th>\n",
       "      <td>2022-08-23 15:26:31+00:00</td>\n",
       "      <td>sprinkled a little kindness to brighten someon...</td>\n",
       "      <td>1</td>\n",
       "    </tr>\n",
       "    <tr>\n",
       "      <th>2</th>\n",
       "      <td>2021-10-15 17:23:25+00:00</td>\n",
       "      <td>the body is not stupid it has an efficient hom...</td>\n",
       "      <td>1</td>\n",
       "    </tr>\n",
       "    <tr>\n",
       "      <th>3</th>\n",
       "      <td>2022-11-19 16:26:01+00:00</td>\n",
       "      <td>food for the thought masculinitysaturday</td>\n",
       "      <td>2</td>\n",
       "    </tr>\n",
       "    <tr>\n",
       "      <th>4</th>\n",
       "      <td>2022-12-12 08:59:22+00:00</td>\n",
       "      <td>why though</td>\n",
       "      <td>2</td>\n",
       "    </tr>\n",
       "  </tbody>\n",
       "</table>\n",
       "</div>"
      ],
      "text/plain": [
       "            tweet_created_at  \\\n",
       "0  2022-05-20 16:01:49+00:00   \n",
       "1  2022-08-23 15:26:31+00:00   \n",
       "2  2021-10-15 17:23:25+00:00   \n",
       "3  2022-11-19 16:26:01+00:00   \n",
       "4  2022-12-12 08:59:22+00:00   \n",
       "\n",
       "                                          text_clean  Sentiment  \n",
       "0  actor amp cookbook author recently joined the ...          1  \n",
       "1  sprinkled a little kindness to brighten someon...          1  \n",
       "2  the body is not stupid it has an efficient hom...          1  \n",
       "3           food for the thought masculinitysaturday          2  \n",
       "4                                         why though          2  "
      ]
     },
     "execution_count": 3,
     "metadata": {},
     "output_type": "execute_result"
    }
   ],
   "source": [
    "df.head()"
   ]
  },
  {
   "cell_type": "code",
   "execution_count": 4,
   "id": "0d426ee0",
   "metadata": {
    "execution": {
     "iopub.execute_input": "2023-01-25T12:09:10.355946Z",
     "iopub.status.busy": "2023-01-25T12:09:10.355464Z",
     "iopub.status.idle": "2023-01-25T12:09:10.918279Z",
     "shell.execute_reply": "2023-01-25T12:09:10.917062Z"
    },
    "papermill": {
     "duration": 0.571857,
     "end_time": "2023-01-25T12:09:10.920990",
     "exception": false,
     "start_time": "2023-01-25T12:09:10.349133",
     "status": "completed"
    },
    "tags": []
   },
   "outputs": [],
   "source": [
    "ros = RandomOverSampler()\n",
    "\n",
    "train_x, train_y = ros.fit_resample(np.array(df['text_clean']).reshape(-1, 1), np.array(df['Sentiment']).reshape(-1, 1));\n",
    "\n",
    "ros_df = pd.DataFrame(list(zip([x[0] for x in train_x], train_y)), columns = ['text_clean', 'Sentiment']);"
   ]
  },
  {
   "cell_type": "code",
   "execution_count": 5,
   "id": "d4a300ff",
   "metadata": {
    "execution": {
     "iopub.execute_input": "2023-01-25T12:09:10.931730Z",
     "iopub.status.busy": "2023-01-25T12:09:10.931298Z",
     "iopub.status.idle": "2023-01-25T12:09:10.943656Z",
     "shell.execute_reply": "2023-01-25T12:09:10.942579Z"
    },
    "papermill": {
     "duration": 0.020362,
     "end_time": "2023-01-25T12:09:10.945892",
     "exception": false,
     "start_time": "2023-01-25T12:09:10.925530",
     "status": "completed"
    },
    "tags": []
   },
   "outputs": [
    {
     "data": {
      "text/plain": [
       "1    129038\n",
       "2    129038\n",
       "0    129038\n",
       "Name: Sentiment, dtype: int64"
      ]
     },
     "execution_count": 5,
     "metadata": {},
     "output_type": "execute_result"
    }
   ],
   "source": [
    "ros_df['Sentiment'].value_counts()"
   ]
  },
  {
   "cell_type": "code",
   "execution_count": 6,
   "id": "0d3fddc2",
   "metadata": {
    "execution": {
     "iopub.execute_input": "2023-01-25T12:09:10.957313Z",
     "iopub.status.busy": "2023-01-25T12:09:10.956621Z",
     "iopub.status.idle": "2023-01-25T12:09:10.962008Z",
     "shell.execute_reply": "2023-01-25T12:09:10.960864Z"
    },
    "papermill": {
     "duration": 0.013979,
     "end_time": "2023-01-25T12:09:10.964606",
     "exception": false,
     "start_time": "2023-01-25T12:09:10.950627",
     "status": "completed"
    },
    "tags": []
   },
   "outputs": [],
   "source": [
    "X = ros_df['text_clean'].values\n",
    "y = ros_df['Sentiment'].values"
   ]
  },
  {
   "cell_type": "code",
   "execution_count": 7,
   "id": "01cd2e98",
   "metadata": {
    "execution": {
     "iopub.execute_input": "2023-01-25T12:09:10.975826Z",
     "iopub.status.busy": "2023-01-25T12:09:10.975376Z",
     "iopub.status.idle": "2023-01-25T12:09:10.981800Z",
     "shell.execute_reply": "2023-01-25T12:09:10.980268Z"
    },
    "papermill": {
     "duration": 0.015652,
     "end_time": "2023-01-25T12:09:10.984869",
     "exception": false,
     "start_time": "2023-01-25T12:09:10.969217",
     "status": "completed"
    },
    "tags": []
   },
   "outputs": [
    {
     "name": "stdout",
     "output_type": "stream",
     "text": [
      "(387114,)\n",
      "(387114,)\n"
     ]
    }
   ],
   "source": [
    "print(X.shape)\n",
    "print(y.shape)"
   ]
  },
  {
   "cell_type": "code",
   "execution_count": 8,
   "id": "74068f38",
   "metadata": {
    "execution": {
     "iopub.execute_input": "2023-01-25T12:09:10.997859Z",
     "iopub.status.busy": "2023-01-25T12:09:10.997461Z",
     "iopub.status.idle": "2023-01-25T12:09:11.165203Z",
     "shell.execute_reply": "2023-01-25T12:09:11.163899Z"
    },
    "papermill": {
     "duration": 0.177145,
     "end_time": "2023-01-25T12:09:11.168173",
     "exception": false,
     "start_time": "2023-01-25T12:09:10.991028",
     "status": "completed"
    },
    "tags": []
   },
   "outputs": [],
   "source": [
    "x_, x_test, y_, y_test = train_test_split(X, y, test_size=0.3, stratify=y, random_state=42)"
   ]
  },
  {
   "cell_type": "code",
   "execution_count": 9,
   "id": "bf950fa1",
   "metadata": {
    "execution": {
     "iopub.execute_input": "2023-01-25T12:09:11.180182Z",
     "iopub.status.busy": "2023-01-25T12:09:11.179011Z",
     "iopub.status.idle": "2023-01-25T12:09:11.186534Z",
     "shell.execute_reply": "2023-01-25T12:09:11.185124Z"
    },
    "papermill": {
     "duration": 0.016248,
     "end_time": "2023-01-25T12:09:11.189172",
     "exception": false,
     "start_time": "2023-01-25T12:09:11.172924",
     "status": "completed"
    },
    "tags": []
   },
   "outputs": [
    {
     "name": "stdout",
     "output_type": "stream",
     "text": [
      "(270979,)\n",
      "(270979,)\n"
     ]
    }
   ],
   "source": [
    "print(x_.shape)\n",
    "print(y_.shape)"
   ]
  },
  {
   "cell_type": "code",
   "execution_count": 10,
   "id": "1333e862",
   "metadata": {
    "execution": {
     "iopub.execute_input": "2023-01-25T12:09:11.200909Z",
     "iopub.status.busy": "2023-01-25T12:09:11.199859Z",
     "iopub.status.idle": "2023-01-25T12:09:11.314564Z",
     "shell.execute_reply": "2023-01-25T12:09:11.313244Z"
    },
    "papermill": {
     "duration": 0.123483,
     "end_time": "2023-01-25T12:09:11.317416",
     "exception": false,
     "start_time": "2023-01-25T12:09:11.193933",
     "status": "completed"
    },
    "tags": []
   },
   "outputs": [],
   "source": [
    "x_train, x_val, y_train, y_val = train_test_split(x_, y_, test_size=0.2, stratify=y_, random_state=42)"
   ]
  },
  {
   "cell_type": "code",
   "execution_count": 11,
   "id": "2203be47",
   "metadata": {
    "execution": {
     "iopub.execute_input": "2023-01-25T12:09:11.329014Z",
     "iopub.status.busy": "2023-01-25T12:09:11.328578Z",
     "iopub.status.idle": "2023-01-25T12:09:11.335886Z",
     "shell.execute_reply": "2023-01-25T12:09:11.334438Z"
    },
    "papermill": {
     "duration": 0.016197,
     "end_time": "2023-01-25T12:09:11.338529",
     "exception": false,
     "start_time": "2023-01-25T12:09:11.322332",
     "status": "completed"
    },
    "tags": []
   },
   "outputs": [],
   "source": [
    "y_train_c = y_train.copy()\n",
    "y_valid_c = y_val.copy()\n",
    "y_test_c = y_test.copy()"
   ]
  },
  {
   "cell_type": "code",
   "execution_count": 12,
   "id": "dba669d8",
   "metadata": {
    "execution": {
     "iopub.execute_input": "2023-01-25T12:09:11.350616Z",
     "iopub.status.busy": "2023-01-25T12:09:11.349503Z",
     "iopub.status.idle": "2023-01-25T12:09:11.400937Z",
     "shell.execute_reply": "2023-01-25T12:09:11.399601Z"
    },
    "papermill": {
     "duration": 0.060128,
     "end_time": "2023-01-25T12:09:11.403604",
     "exception": false,
     "start_time": "2023-01-25T12:09:11.343476",
     "status": "completed"
    },
    "tags": []
   },
   "outputs": [],
   "source": [
    "encoder = preprocessing.OneHotEncoder()\n",
    "\n",
    "y_train = encoder.fit_transform(np.array(y_train).reshape(-1, 1)).toarray()\n",
    "y_val = encoder.fit_transform(np.array(y_val).reshape(-1, 1)).toarray()\n",
    "y_test = encoder.fit_transform(np.array(y_test).reshape(-1, 1)).toarray()"
   ]
  },
  {
   "cell_type": "code",
   "execution_count": 13,
   "id": "f6e6c86e",
   "metadata": {
    "execution": {
     "iopub.execute_input": "2023-01-25T12:09:11.415397Z",
     "iopub.status.busy": "2023-01-25T12:09:11.414208Z",
     "iopub.status.idle": "2023-01-25T12:09:18.638157Z",
     "shell.execute_reply": "2023-01-25T12:09:18.636992Z"
    },
    "papermill": {
     "duration": 7.232844,
     "end_time": "2023-01-25T12:09:18.641159",
     "exception": false,
     "start_time": "2023-01-25T12:09:11.408315",
     "status": "completed"
    },
    "tags": []
   },
   "outputs": [],
   "source": [
    "clf = CountVectorizer()\n",
    "\n",
    "X_train_cv =  clf.fit_transform(x_train)\n",
    "X_test_cv = clf.transform(x_test)"
   ]
  },
  {
   "cell_type": "code",
   "execution_count": 14,
   "id": "8460eb44",
   "metadata": {
    "execution": {
     "iopub.execute_input": "2023-01-25T12:09:18.652351Z",
     "iopub.status.busy": "2023-01-25T12:09:18.651919Z",
     "iopub.status.idle": "2023-01-25T12:09:19.294794Z",
     "shell.execute_reply": "2023-01-25T12:09:19.293721Z"
    },
    "papermill": {
     "duration": 0.651543,
     "end_time": "2023-01-25T12:09:19.297584",
     "exception": false,
     "start_time": "2023-01-25T12:09:18.646041",
     "status": "completed"
    },
    "tags": []
   },
   "outputs": [],
   "source": [
    "tf_transformer = TfidfTransformer(use_idf=True).fit(X_train_cv)\n",
    "\n",
    "X_train_tf = tf_transformer.transform(X_train_cv)\n",
    "X_test_tf = tf_transformer.transform(X_test_cv)"
   ]
  },
  {
   "cell_type": "code",
   "execution_count": null,
   "id": "aca48f86",
   "metadata": {
    "papermill": {
     "duration": 0.004315,
     "end_time": "2023-01-25T12:09:19.306579",
     "exception": false,
     "start_time": "2023-01-25T12:09:19.302264",
     "status": "completed"
    },
    "tags": []
   },
   "outputs": [],
   "source": []
  }
 ],
 "metadata": {
  "kernelspec": {
   "display_name": "Python 3",
   "language": "python",
   "name": "python3"
  },
  "language_info": {
   "codemirror_mode": {
    "name": "ipython",
    "version": 3
   },
   "file_extension": ".py",
   "mimetype": "text/x-python",
   "name": "python",
   "nbconvert_exporter": "python",
   "pygments_lexer": "ipython3",
   "version": "3.7.12"
  },
  "papermill": {
   "default_parameters": {},
   "duration": 21.490026,
   "end_time": "2023-01-25T12:09:20.133431",
   "environment_variables": {},
   "exception": null,
   "input_path": "__notebook__.ipynb",
   "output_path": "__notebook__.ipynb",
   "parameters": {},
   "start_time": "2023-01-25T12:08:58.643405",
   "version": "2.3.4"
  }
 },
 "nbformat": 4,
 "nbformat_minor": 5
}
