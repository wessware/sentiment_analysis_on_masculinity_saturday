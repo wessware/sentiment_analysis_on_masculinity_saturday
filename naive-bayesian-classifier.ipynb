{
 "cells": [
  {
   "cell_type": "code",
   "execution_count": 1,
   "id": "e9e476c8",
   "metadata": {
    "_cell_guid": "b1076dfc-b9ad-4769-8c92-a6c4dae69d19",
    "_uuid": "8f2839f25d086af736a60e9eeb907d3b93b6e0e5",
    "execution": {
     "iopub.execute_input": "2023-01-25T12:01:33.463258Z",
     "iopub.status.busy": "2023-01-25T12:01:33.462770Z",
     "iopub.status.idle": "2023-01-25T12:01:34.807225Z",
     "shell.execute_reply": "2023-01-25T12:01:34.806093Z"
    },
    "papermill": {
     "duration": 1.35373,
     "end_time": "2023-01-25T12:01:34.810069",
     "exception": false,
     "start_time": "2023-01-25T12:01:33.456339",
     "status": "completed"
    },
    "tags": []
   },
   "outputs": [],
   "source": [
    "import pandas as pd\n",
    "import numpy as np\n",
    "\n",
    "from sklearn import preprocessing\n",
    "from imblearn.over_sampling import RandomOverSampler\n",
    "from sklearn.model_selection import train_test_split\n",
    "\n",
    "from sklearn.feature_extraction.text import CountVectorizer\n",
    "from sklearn.feature_extraction.text import TfidfTransformer\n",
    "from sklearn.naive_bayes import MultinomialNB\n",
    "\n",
    "from sklearn.metrics import accuracy_score, f1_score\n",
    "from sklearn.metrics import classification_report, confusion_matrix"
   ]
  },
  {
   "cell_type": "code",
   "execution_count": 2,
   "id": "7c1362f7",
   "metadata": {
    "execution": {
     "iopub.execute_input": "2023-01-25T12:01:34.820183Z",
     "iopub.status.busy": "2023-01-25T12:01:34.819789Z",
     "iopub.status.idle": "2023-01-25T12:01:36.137903Z",
     "shell.execute_reply": "2023-01-25T12:01:36.136933Z"
    },
    "papermill": {
     "duration": 1.325593,
     "end_time": "2023-01-25T12:01:36.140614",
     "exception": false,
     "start_time": "2023-01-25T12:01:34.815021",
     "status": "completed"
    },
    "tags": []
   },
   "outputs": [],
   "source": [
    "df = pd.read_csv('/kaggle/input/amerix-sa-nlp-deep-cleaned-data/sentiment_adv_preprocessed_data.csv', index_col=0)"
   ]
  },
  {
   "cell_type": "code",
   "execution_count": 3,
   "id": "a077633a",
   "metadata": {
    "execution": {
     "iopub.execute_input": "2023-01-25T12:01:36.148986Z",
     "iopub.status.busy": "2023-01-25T12:01:36.148603Z",
     "iopub.status.idle": "2023-01-25T12:01:36.171232Z",
     "shell.execute_reply": "2023-01-25T12:01:36.170119Z"
    },
    "papermill": {
     "duration": 0.029611,
     "end_time": "2023-01-25T12:01:36.173768",
     "exception": false,
     "start_time": "2023-01-25T12:01:36.144157",
     "status": "completed"
    },
    "tags": []
   },
   "outputs": [
    {
     "data": {
      "text/html": [
       "<div>\n",
       "<style scoped>\n",
       "    .dataframe tbody tr th:only-of-type {\n",
       "        vertical-align: middle;\n",
       "    }\n",
       "\n",
       "    .dataframe tbody tr th {\n",
       "        vertical-align: top;\n",
       "    }\n",
       "\n",
       "    .dataframe thead th {\n",
       "        text-align: right;\n",
       "    }\n",
       "</style>\n",
       "<table border=\"1\" class=\"dataframe\">\n",
       "  <thead>\n",
       "    <tr style=\"text-align: right;\">\n",
       "      <th></th>\n",
       "      <th>tweet_created_at</th>\n",
       "      <th>text_clean</th>\n",
       "      <th>Sentiment</th>\n",
       "    </tr>\n",
       "  </thead>\n",
       "  <tbody>\n",
       "    <tr>\n",
       "      <th>0</th>\n",
       "      <td>2022-05-20 16:01:49+00:00</td>\n",
       "      <td>actor amp cookbook author recently joined the ...</td>\n",
       "      <td>1</td>\n",
       "    </tr>\n",
       "    <tr>\n",
       "      <th>1</th>\n",
       "      <td>2022-08-23 15:26:31+00:00</td>\n",
       "      <td>sprinkled a little kindness to brighten someon...</td>\n",
       "      <td>1</td>\n",
       "    </tr>\n",
       "    <tr>\n",
       "      <th>2</th>\n",
       "      <td>2021-10-15 17:23:25+00:00</td>\n",
       "      <td>the body is not stupid it has an efficient hom...</td>\n",
       "      <td>1</td>\n",
       "    </tr>\n",
       "    <tr>\n",
       "      <th>3</th>\n",
       "      <td>2022-11-19 16:26:01+00:00</td>\n",
       "      <td>food for the thought masculinitysaturday</td>\n",
       "      <td>2</td>\n",
       "    </tr>\n",
       "    <tr>\n",
       "      <th>4</th>\n",
       "      <td>2022-12-12 08:59:22+00:00</td>\n",
       "      <td>why though</td>\n",
       "      <td>2</td>\n",
       "    </tr>\n",
       "  </tbody>\n",
       "</table>\n",
       "</div>"
      ],
      "text/plain": [
       "            tweet_created_at  \\\n",
       "0  2022-05-20 16:01:49+00:00   \n",
       "1  2022-08-23 15:26:31+00:00   \n",
       "2  2021-10-15 17:23:25+00:00   \n",
       "3  2022-11-19 16:26:01+00:00   \n",
       "4  2022-12-12 08:59:22+00:00   \n",
       "\n",
       "                                          text_clean  Sentiment  \n",
       "0  actor amp cookbook author recently joined the ...          1  \n",
       "1  sprinkled a little kindness to brighten someon...          1  \n",
       "2  the body is not stupid it has an efficient hom...          1  \n",
       "3           food for the thought masculinitysaturday          2  \n",
       "4                                         why though          2  "
      ]
     },
     "execution_count": 3,
     "metadata": {},
     "output_type": "execute_result"
    }
   ],
   "source": [
    "df.head()"
   ]
  },
  {
   "cell_type": "code",
   "execution_count": 4,
   "id": "e41ea4a3",
   "metadata": {
    "execution": {
     "iopub.execute_input": "2023-01-25T12:01:36.183094Z",
     "iopub.status.busy": "2023-01-25T12:01:36.182446Z",
     "iopub.status.idle": "2023-01-25T12:01:36.714651Z",
     "shell.execute_reply": "2023-01-25T12:01:36.713692Z"
    },
    "papermill": {
     "duration": 0.539628,
     "end_time": "2023-01-25T12:01:36.717195",
     "exception": false,
     "start_time": "2023-01-25T12:01:36.177567",
     "status": "completed"
    },
    "tags": []
   },
   "outputs": [],
   "source": [
    "ros = RandomOverSampler()\n",
    "\n",
    "train_x, train_y = ros.fit_resample(np.array(df['text_clean']).reshape(-1, 1), np.array(df['Sentiment']).reshape(-1, 1));\n",
    "\n",
    "ros_df = pd.DataFrame(list(zip([x[0] for x in train_x], train_y)), columns = ['text_clean', 'Sentiment']);"
   ]
  },
  {
   "cell_type": "code",
   "execution_count": 5,
   "id": "936ecc2c",
   "metadata": {
    "execution": {
     "iopub.execute_input": "2023-01-25T12:01:36.726010Z",
     "iopub.status.busy": "2023-01-25T12:01:36.725647Z",
     "iopub.status.idle": "2023-01-25T12:01:36.736719Z",
     "shell.execute_reply": "2023-01-25T12:01:36.735920Z"
    },
    "papermill": {
     "duration": 0.017699,
     "end_time": "2023-01-25T12:01:36.738694",
     "exception": false,
     "start_time": "2023-01-25T12:01:36.720995",
     "status": "completed"
    },
    "tags": []
   },
   "outputs": [
    {
     "data": {
      "text/plain": [
       "1    129038\n",
       "2    129038\n",
       "0    129038\n",
       "Name: Sentiment, dtype: int64"
      ]
     },
     "execution_count": 5,
     "metadata": {},
     "output_type": "execute_result"
    }
   ],
   "source": [
    "ros_df['Sentiment'].value_counts()"
   ]
  },
  {
   "cell_type": "code",
   "execution_count": 6,
   "id": "7ef92844",
   "metadata": {
    "execution": {
     "iopub.execute_input": "2023-01-25T12:01:36.747673Z",
     "iopub.status.busy": "2023-01-25T12:01:36.747077Z",
     "iopub.status.idle": "2023-01-25T12:01:36.752000Z",
     "shell.execute_reply": "2023-01-25T12:01:36.750670Z"
    },
    "papermill": {
     "duration": 0.011691,
     "end_time": "2023-01-25T12:01:36.754066",
     "exception": false,
     "start_time": "2023-01-25T12:01:36.742375",
     "status": "completed"
    },
    "tags": []
   },
   "outputs": [],
   "source": [
    "X = ros_df['text_clean'].values\n",
    "y = ros_df['Sentiment'].values"
   ]
  },
  {
   "cell_type": "code",
   "execution_count": 7,
   "id": "d83ae8f6",
   "metadata": {
    "execution": {
     "iopub.execute_input": "2023-01-25T12:01:36.763064Z",
     "iopub.status.busy": "2023-01-25T12:01:36.762474Z",
     "iopub.status.idle": "2023-01-25T12:01:36.767722Z",
     "shell.execute_reply": "2023-01-25T12:01:36.766500Z"
    },
    "papermill": {
     "duration": 0.012989,
     "end_time": "2023-01-25T12:01:36.770601",
     "exception": false,
     "start_time": "2023-01-25T12:01:36.757612",
     "status": "completed"
    },
    "tags": []
   },
   "outputs": [
    {
     "name": "stdout",
     "output_type": "stream",
     "text": [
      "(387114,)\n",
      "(387114,)\n"
     ]
    }
   ],
   "source": [
    "print(X.shape)\n",
    "print(y.shape)"
   ]
  },
  {
   "cell_type": "code",
   "execution_count": 8,
   "id": "3bf761d3",
   "metadata": {
    "execution": {
     "iopub.execute_input": "2023-01-25T12:01:36.780232Z",
     "iopub.status.busy": "2023-01-25T12:01:36.779865Z",
     "iopub.status.idle": "2023-01-25T12:01:36.935969Z",
     "shell.execute_reply": "2023-01-25T12:01:36.934442Z"
    },
    "papermill": {
     "duration": 0.164097,
     "end_time": "2023-01-25T12:01:36.938886",
     "exception": false,
     "start_time": "2023-01-25T12:01:36.774789",
     "status": "completed"
    },
    "tags": []
   },
   "outputs": [],
   "source": [
    "x_, x_test, y_, y_test = train_test_split(X, y, test_size=0.3, stratify=y, random_state=42)"
   ]
  },
  {
   "cell_type": "code",
   "execution_count": 9,
   "id": "f60fdcfc",
   "metadata": {
    "execution": {
     "iopub.execute_input": "2023-01-25T12:01:36.948952Z",
     "iopub.status.busy": "2023-01-25T12:01:36.947825Z",
     "iopub.status.idle": "2023-01-25T12:01:36.954632Z",
     "shell.execute_reply": "2023-01-25T12:01:36.953261Z"
    },
    "papermill": {
     "duration": 0.0145,
     "end_time": "2023-01-25T12:01:36.957296",
     "exception": false,
     "start_time": "2023-01-25T12:01:36.942796",
     "status": "completed"
    },
    "tags": []
   },
   "outputs": [
    {
     "name": "stdout",
     "output_type": "stream",
     "text": [
      "(270979,)\n",
      "(270979,)\n"
     ]
    }
   ],
   "source": [
    "print(x_.shape)\n",
    "print(y_.shape)"
   ]
  },
  {
   "cell_type": "code",
   "execution_count": 10,
   "id": "62b1ab1b",
   "metadata": {
    "execution": {
     "iopub.execute_input": "2023-01-25T12:01:36.967271Z",
     "iopub.status.busy": "2023-01-25T12:01:36.966869Z",
     "iopub.status.idle": "2023-01-25T12:01:37.079013Z",
     "shell.execute_reply": "2023-01-25T12:01:37.077939Z"
    },
    "papermill": {
     "duration": 0.120617,
     "end_time": "2023-01-25T12:01:37.081814",
     "exception": false,
     "start_time": "2023-01-25T12:01:36.961197",
     "status": "completed"
    },
    "tags": []
   },
   "outputs": [],
   "source": [
    "x_train, x_val, y_train, y_val = train_test_split(x_, y_, test_size=0.2, stratify=y_, random_state=42)"
   ]
  },
  {
   "cell_type": "code",
   "execution_count": null,
   "id": "d504e7ac",
   "metadata": {
    "papermill": {
     "duration": 0.003593,
     "end_time": "2023-01-25T12:01:37.089418",
     "exception": false,
     "start_time": "2023-01-25T12:01:37.085825",
     "status": "completed"
    },
    "tags": []
   },
   "outputs": [],
   "source": []
  }
 ],
 "metadata": {
  "kernelspec": {
   "display_name": "Python 3",
   "language": "python",
   "name": "python3"
  },
  "language_info": {
   "codemirror_mode": {
    "name": "ipython",
    "version": 3
   },
   "file_extension": ".py",
   "mimetype": "text/x-python",
   "name": "python",
   "nbconvert_exporter": "python",
   "pygments_lexer": "ipython3",
   "version": "3.7.12"
  },
  "papermill": {
   "default_parameters": {},
   "duration": 12.536771,
   "end_time": "2023-01-25T12:01:37.814645",
   "environment_variables": {},
   "exception": null,
   "input_path": "__notebook__.ipynb",
   "output_path": "__notebook__.ipynb",
   "parameters": {},
   "start_time": "2023-01-25T12:01:25.277874",
   "version": "2.3.4"
  }
 },
 "nbformat": 4,
 "nbformat_minor": 5
}
