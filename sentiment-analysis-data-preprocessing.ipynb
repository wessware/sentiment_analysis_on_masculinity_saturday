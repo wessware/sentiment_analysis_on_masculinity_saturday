{
 "cells": [
  {
   "cell_type": "code",
   "execution_count": 1,
   "id": "8f34de37",
   "metadata": {
    "_cell_guid": "b1076dfc-b9ad-4769-8c92-a6c4dae69d19",
    "_uuid": "8f2839f25d086af736a60e9eeb907d3b93b6e0e5",
    "execution": {
     "iopub.execute_input": "2023-01-17T12:17:43.821906Z",
     "iopub.status.busy": "2023-01-17T12:17:43.821432Z",
     "iopub.status.idle": "2023-01-17T12:17:43.835304Z",
     "shell.execute_reply": "2023-01-17T12:17:43.834116Z"
    },
    "papermill": {
     "duration": 0.026854,
     "end_time": "2023-01-17T12:17:43.838278",
     "exception": false,
     "start_time": "2023-01-17T12:17:43.811424",
     "status": "completed"
    },
    "tags": []
   },
   "outputs": [],
   "source": [
    "# This Python 3 environment comes with many helpful analytics libraries installed\n",
    "# It is defined by the kaggle/python Docker image: https://github.com/kaggle/docker-python\n",
    "# For example, here's several helpful packages to load\n",
    "\n",
    "import numpy as np # linear algebra\n",
    "import pandas as pd # data processing, CSV file I/O (e.g. pd.read_csv)\n",
    "\n",
    "# Input data files are available in the read-only \"../input/\" directory\n",
    "# For example, running this (by clicking run or pressing Shift+Enter) will list all files under the input directory\n",
    "\n",
    "import os\n",
    "for dirname, _, filenames in os.walk('/kaggle/input/twitter-sentiment-analysis-on-masculinity-saturday'):\n",
    "    for filename in filenames:\n",
    "        print(os.path.join(dirname, filename))\n",
    "\n",
    "# You can write up to 20GB to the current directory (/kaggle/working/) that gets preserved as output when you create a version using \"Save & Run All\" \n",
    "# You can also write temporary files to /kaggle/temp/, but they won't be saved outside of the current session"
   ]
  },
  {
   "cell_type": "code",
   "execution_count": 2,
   "id": "c0439864",
   "metadata": {
    "execution": {
     "iopub.execute_input": "2023-01-17T12:17:43.851753Z",
     "iopub.status.busy": "2023-01-17T12:17:43.851351Z",
     "iopub.status.idle": "2023-01-17T12:17:43.855666Z",
     "shell.execute_reply": "2023-01-17T12:17:43.854792Z"
    },
    "papermill": {
     "duration": 0.013655,
     "end_time": "2023-01-17T12:17:43.857863",
     "exception": false,
     "start_time": "2023-01-17T12:17:43.844208",
     "status": "completed"
    },
    "tags": []
   },
   "outputs": [],
   "source": [
    "import pandas as pd"
   ]
  },
  {
   "cell_type": "code",
   "execution_count": 3,
   "id": "e9e82a85",
   "metadata": {
    "execution": {
     "iopub.execute_input": "2023-01-17T12:17:43.870977Z",
     "iopub.status.busy": "2023-01-17T12:17:43.870392Z",
     "iopub.status.idle": "2023-01-17T12:17:47.310723Z",
     "shell.execute_reply": "2023-01-17T12:17:47.309417Z"
    },
    "papermill": {
     "duration": 3.450101,
     "end_time": "2023-01-17T12:17:47.313524",
     "exception": false,
     "start_time": "2023-01-17T12:17:43.863423",
     "status": "completed"
    },
    "tags": []
   },
   "outputs": [],
   "source": [
    "df = pd.read_csv('/kaggle/input/twitter-sentiment-analysis-on-masculinity-Saturday/sentiment_analysis_amerix.csv', low_memory=False)"
   ]
  },
  {
   "cell_type": "code",
   "execution_count": 4,
   "id": "9be4b113",
   "metadata": {
    "execution": {
     "iopub.execute_input": "2023-01-17T12:17:47.327314Z",
     "iopub.status.busy": "2023-01-17T12:17:47.325829Z",
     "iopub.status.idle": "2023-01-17T12:17:47.346932Z",
     "shell.execute_reply": "2023-01-17T12:17:47.345862Z"
    },
    "papermill": {
     "duration": 0.031197,
     "end_time": "2023-01-17T12:17:47.350333",
     "exception": false,
     "start_time": "2023-01-17T12:17:47.319136",
     "status": "completed"
    },
    "tags": []
   },
   "outputs": [
    {
     "data": {
      "text/html": [
       "<div>\n",
       "<style scoped>\n",
       "    .dataframe tbody tr th:only-of-type {\n",
       "        vertical-align: middle;\n",
       "    }\n",
       "\n",
       "    .dataframe tbody tr th {\n",
       "        vertical-align: top;\n",
       "    }\n",
       "\n",
       "    .dataframe thead th {\n",
       "        text-align: right;\n",
       "    }\n",
       "</style>\n",
       "<table border=\"1\" class=\"dataframe\">\n",
       "  <thead>\n",
       "    <tr style=\"text-align: right;\">\n",
       "      <th></th>\n",
       "      <th>Unnamed: 0</th>\n",
       "      <th>tweet_created_at</th>\n",
       "      <th>text</th>\n",
       "    </tr>\n",
       "  </thead>\n",
       "  <tbody>\n",
       "    <tr>\n",
       "      <th>0</th>\n",
       "      <td>0</td>\n",
       "      <td>2022-12-30 22:37:46+00:00</td>\n",
       "      <td>Men who have refused to listen to/attend @amer...</td>\n",
       "    </tr>\n",
       "    <tr>\n",
       "      <th>1</th>\n",
       "      <td>1</td>\n",
       "      <td>2022-12-30 22:30:58+00:00</td>\n",
       "      <td>@OvOBrezzzy Take amerix next</td>\n",
       "    </tr>\n",
       "    <tr>\n",
       "      <th>2</th>\n",
       "      <td>2</td>\n",
       "      <td>2022-12-30 22:18:00+00:00</td>\n",
       "      <td>@AyodeleYo11 @amerix Nah I’m good my masculini...</td>\n",
       "    </tr>\n",
       "    <tr>\n",
       "      <th>3</th>\n",
       "      <td>3</td>\n",
       "      <td>2022-12-30 20:42:54+00:00</td>\n",
       "      <td>@Amerix_DontSimp There is no need for dating i...</td>\n",
       "    </tr>\n",
       "    <tr>\n",
       "      <th>4</th>\n",
       "      <td>4</td>\n",
       "      <td>2022-12-30 20:32:23+00:00</td>\n",
       "      <td>@DyeAnna7 @amerix @kibe From what cos nothing ...</td>\n",
       "    </tr>\n",
       "  </tbody>\n",
       "</table>\n",
       "</div>"
      ],
      "text/plain": [
       "  Unnamed: 0           tweet_created_at  \\\n",
       "0          0  2022-12-30 22:37:46+00:00   \n",
       "1          1  2022-12-30 22:30:58+00:00   \n",
       "2          2  2022-12-30 22:18:00+00:00   \n",
       "3          3  2022-12-30 20:42:54+00:00   \n",
       "4          4  2022-12-30 20:32:23+00:00   \n",
       "\n",
       "                                                text  \n",
       "0  Men who have refused to listen to/attend @amer...  \n",
       "1                       @OvOBrezzzy Take amerix next  \n",
       "2  @AyodeleYo11 @amerix Nah I’m good my masculini...  \n",
       "3  @Amerix_DontSimp There is no need for dating i...  \n",
       "4  @DyeAnna7 @amerix @kibe From what cos nothing ...  "
      ]
     },
     "execution_count": 4,
     "metadata": {},
     "output_type": "execute_result"
    }
   ],
   "source": [
    "df.head()"
   ]
  },
  {
   "cell_type": "code",
   "execution_count": 5,
   "id": "44572f00",
   "metadata": {
    "execution": {
     "iopub.execute_input": "2023-01-17T12:17:47.363946Z",
     "iopub.status.busy": "2023-01-17T12:17:47.363556Z",
     "iopub.status.idle": "2023-01-17T12:17:47.370756Z",
     "shell.execute_reply": "2023-01-17T12:17:47.369594Z"
    },
    "papermill": {
     "duration": 0.016971,
     "end_time": "2023-01-17T12:17:47.373173",
     "exception": false,
     "start_time": "2023-01-17T12:17:47.356202",
     "status": "completed"
    },
    "tags": []
   },
   "outputs": [
    {
     "data": {
      "text/plain": [
       "Index(['Unnamed: 0', 'tweet_created_at', 'text'], dtype='object')"
      ]
     },
     "execution_count": 5,
     "metadata": {},
     "output_type": "execute_result"
    }
   ],
   "source": [
    "df.columns"
   ]
  },
  {
   "cell_type": "code",
   "execution_count": 6,
   "id": "29a15037",
   "metadata": {
    "execution": {
     "iopub.execute_input": "2023-01-17T12:17:47.386598Z",
     "iopub.status.busy": "2023-01-17T12:17:47.386174Z",
     "iopub.status.idle": "2023-01-17T12:17:47.393657Z",
     "shell.execute_reply": "2023-01-17T12:17:47.392362Z"
    },
    "papermill": {
     "duration": 0.017172,
     "end_time": "2023-01-17T12:17:47.396127",
     "exception": false,
     "start_time": "2023-01-17T12:17:47.378955",
     "status": "completed"
    },
    "tags": []
   },
   "outputs": [
    {
     "data": {
      "text/plain": [
       "(408738, 3)"
      ]
     },
     "execution_count": 6,
     "metadata": {},
     "output_type": "execute_result"
    }
   ],
   "source": [
    "df.shape"
   ]
  },
  {
   "cell_type": "code",
   "execution_count": 7,
   "id": "f8cd08d7",
   "metadata": {
    "execution": {
     "iopub.execute_input": "2023-01-17T12:17:47.409870Z",
     "iopub.status.busy": "2023-01-17T12:17:47.409475Z",
     "iopub.status.idle": "2023-01-17T12:17:48.745883Z",
     "shell.execute_reply": "2023-01-17T12:17:48.744643Z"
    },
    "papermill": {
     "duration": 1.346357,
     "end_time": "2023-01-17T12:17:48.748622",
     "exception": false,
     "start_time": "2023-01-17T12:17:47.402265",
     "status": "completed"
    },
    "tags": []
   },
   "outputs": [
    {
     "data": {
      "text/html": [
       "<div>\n",
       "<style scoped>\n",
       "    .dataframe tbody tr th:only-of-type {\n",
       "        vertical-align: middle;\n",
       "    }\n",
       "\n",
       "    .dataframe tbody tr th {\n",
       "        vertical-align: top;\n",
       "    }\n",
       "\n",
       "    .dataframe thead th {\n",
       "        text-align: right;\n",
       "    }\n",
       "</style>\n",
       "<table border=\"1\" class=\"dataframe\">\n",
       "  <thead>\n",
       "    <tr style=\"text-align: right;\">\n",
       "      <th></th>\n",
       "      <th>count</th>\n",
       "      <th>unique</th>\n",
       "      <th>top</th>\n",
       "      <th>freq</th>\n",
       "    </tr>\n",
       "  </thead>\n",
       "  <tbody>\n",
       "    <tr>\n",
       "      <th>Unnamed: 0</th>\n",
       "      <td>408738</td>\n",
       "      <td>408738</td>\n",
       "      <td>0</td>\n",
       "      <td>1</td>\n",
       "    </tr>\n",
       "    <tr>\n",
       "      <th>tweet_created_at</th>\n",
       "      <td>408737</td>\n",
       "      <td>347928</td>\n",
       "      <td>2022-12-30 21:00:01+00:00</td>\n",
       "      <td>14</td>\n",
       "    </tr>\n",
       "    <tr>\n",
       "      <th>text</th>\n",
       "      <td>408737</td>\n",
       "      <td>387053</td>\n",
       "      <td>@amerix @pikaso_me screenshot this</td>\n",
       "      <td>550</td>\n",
       "    </tr>\n",
       "  </tbody>\n",
       "</table>\n",
       "</div>"
      ],
      "text/plain": [
       "                   count  unique                                 top freq\n",
       "Unnamed: 0        408738  408738                                   0    1\n",
       "tweet_created_at  408737  347928           2022-12-30 21:00:01+00:00   14\n",
       "text              408737  387053  @amerix @pikaso_me screenshot this  550"
      ]
     },
     "execution_count": 7,
     "metadata": {},
     "output_type": "execute_result"
    }
   ],
   "source": [
    "df.describe().T"
   ]
  },
  {
   "cell_type": "code",
   "execution_count": 8,
   "id": "be5efbad",
   "metadata": {
    "execution": {
     "iopub.execute_input": "2023-01-17T12:17:48.764527Z",
     "iopub.status.busy": "2023-01-17T12:17:48.764108Z",
     "iopub.status.idle": "2023-01-17T12:17:50.342778Z",
     "shell.execute_reply": "2023-01-17T12:17:50.341601Z"
    },
    "papermill": {
     "duration": 1.590865,
     "end_time": "2023-01-17T12:17:50.345774",
     "exception": false,
     "start_time": "2023-01-17T12:17:48.754909",
     "status": "completed"
    },
    "tags": []
   },
   "outputs": [],
   "source": [
    "import nltk\n",
    "from nltk.sentiment.vader import SentimentIntensityAnalyzer"
   ]
  },
  {
   "cell_type": "code",
   "execution_count": 9,
   "id": "e920e3a0",
   "metadata": {
    "execution": {
     "iopub.execute_input": "2023-01-17T12:17:50.360421Z",
     "iopub.status.busy": "2023-01-17T12:17:50.359907Z",
     "iopub.status.idle": "2023-01-17T12:17:50.651503Z",
     "shell.execute_reply": "2023-01-17T12:17:50.649937Z"
    },
    "papermill": {
     "duration": 0.30259,
     "end_time": "2023-01-17T12:17:50.654586",
     "exception": false,
     "start_time": "2023-01-17T12:17:50.351996",
     "status": "completed"
    },
    "tags": []
   },
   "outputs": [
    {
     "name": "stderr",
     "output_type": "stream",
     "text": [
      "[nltk_data] Downloading package vader_lexicon to\n",
      "[nltk_data]     /usr/share/nltk_data...\n",
      "[nltk_data]   Package vader_lexicon is already up-to-date!\n"
     ]
    },
    {
     "data": {
      "text/plain": [
       "True"
      ]
     },
     "execution_count": 9,
     "metadata": {},
     "output_type": "execute_result"
    }
   ],
   "source": [
    "nltk.download('vader_lexicon')"
   ]
  },
  {
   "cell_type": "code",
   "execution_count": 10,
   "id": "c68bd425",
   "metadata": {
    "execution": {
     "iopub.execute_input": "2023-01-17T12:17:50.669772Z",
     "iopub.status.busy": "2023-01-17T12:17:50.669375Z",
     "iopub.status.idle": "2023-01-17T12:17:50.797514Z",
     "shell.execute_reply": "2023-01-17T12:17:50.796499Z"
    },
    "papermill": {
     "duration": 0.138452,
     "end_time": "2023-01-17T12:17:50.800066",
     "exception": false,
     "start_time": "2023-01-17T12:17:50.661614",
     "status": "completed"
    },
    "tags": []
   },
   "outputs": [],
   "source": [
    "df = df.dropna()"
   ]
  },
  {
   "cell_type": "code",
   "execution_count": 11,
   "id": "f2b5a2e8",
   "metadata": {
    "execution": {
     "iopub.execute_input": "2023-01-17T12:17:50.814633Z",
     "iopub.status.busy": "2023-01-17T12:17:50.814184Z",
     "iopub.status.idle": "2023-01-17T12:17:50.824070Z",
     "shell.execute_reply": "2023-01-17T12:17:50.822127Z"
    },
    "papermill": {
     "duration": 0.020168,
     "end_time": "2023-01-17T12:17:50.826615",
     "exception": false,
     "start_time": "2023-01-17T12:17:50.806447",
     "status": "completed"
    },
    "tags": []
   },
   "outputs": [
    {
     "name": "stdout",
     "output_type": "stream",
     "text": [
      "  Unnamed: 0           tweet_created_at  \\\n",
      "0          0  2022-12-30 22:37:46+00:00   \n",
      "1          1  2022-12-30 22:30:58+00:00   \n",
      "2          2  2022-12-30 22:18:00+00:00   \n",
      "3          3  2022-12-30 20:42:54+00:00   \n",
      "4          4  2022-12-30 20:32:23+00:00   \n",
      "\n",
      "                                                text  \n",
      "0  Men who have refused to listen to/attend @amer...  \n",
      "1                       @OvOBrezzzy Take amerix next  \n",
      "2  @AyodeleYo11 @amerix Nah I’m good my masculini...  \n",
      "3  @Amerix_DontSimp There is no need for dating i...  \n",
      "4  @DyeAnna7 @amerix @kibe From what cos nothing ...  \n"
     ]
    }
   ],
   "source": [
    "print(df.head())"
   ]
  },
  {
   "cell_type": "code",
   "execution_count": 12,
   "id": "3b92846a",
   "metadata": {
    "execution": {
     "iopub.execute_input": "2023-01-17T12:17:50.841472Z",
     "iopub.status.busy": "2023-01-17T12:17:50.840990Z",
     "iopub.status.idle": "2023-01-17T12:17:50.847351Z",
     "shell.execute_reply": "2023-01-17T12:17:50.846496Z"
    },
    "papermill": {
     "duration": 0.016118,
     "end_time": "2023-01-17T12:17:50.849517",
     "exception": false,
     "start_time": "2023-01-17T12:17:50.833399",
     "status": "completed"
    },
    "tags": []
   },
   "outputs": [
    {
     "data": {
      "text/plain": [
       "Index(['Unnamed: 0', 'tweet_created_at', 'text'], dtype='object')"
      ]
     },
     "execution_count": 12,
     "metadata": {},
     "output_type": "execute_result"
    }
   ],
   "source": [
    "df.columns"
   ]
  },
  {
   "cell_type": "code",
   "execution_count": 13,
   "id": "6c3e5990",
   "metadata": {
    "execution": {
     "iopub.execute_input": "2023-01-17T12:17:50.864676Z",
     "iopub.status.busy": "2023-01-17T12:17:50.864310Z",
     "iopub.status.idle": "2023-01-17T12:28:23.189961Z",
     "shell.execute_reply": "2023-01-17T12:28:23.188569Z"
    },
    "papermill": {
     "duration": 632.336562,
     "end_time": "2023-01-17T12:28:23.192805",
     "exception": false,
     "start_time": "2023-01-17T12:17:50.856243",
     "status": "completed"
    },
    "tags": []
   },
   "outputs": [],
   "source": [
    "sentiments = SentimentIntensityAnalyzer()\n",
    "\n",
    "df[\"Positive\"] = [sentiments.polarity_scores(i)[\"pos\"] for i in df[\"text\"]]\n",
    "df[\"Negative\"] = [sentiments.polarity_scores(i)[\"neg\"] for i in df[\"text\"]]\n",
    "df[\"Neutral\"] = [sentiments.polarity_scores(i)[\"neu\"] for i in df[\"text\"]]\n",
    "df['Compound'] = [sentiments.polarity_scores(i)[\"compound\"] for i in df[\"text\"]]"
   ]
  },
  {
   "cell_type": "code",
   "execution_count": 14,
   "id": "daf1ddfd",
   "metadata": {
    "execution": {
     "iopub.execute_input": "2023-01-17T12:28:23.208204Z",
     "iopub.status.busy": "2023-01-17T12:28:23.207737Z",
     "iopub.status.idle": "2023-01-17T12:28:23.220284Z",
     "shell.execute_reply": "2023-01-17T12:28:23.219015Z"
    },
    "papermill": {
     "duration": 0.023699,
     "end_time": "2023-01-17T12:28:23.223597",
     "exception": false,
     "start_time": "2023-01-17T12:28:23.199898",
     "status": "completed"
    },
    "tags": []
   },
   "outputs": [
    {
     "name": "stdout",
     "output_type": "stream",
     "text": [
      "  Unnamed: 0           tweet_created_at  \\\n",
      "0          0  2022-12-30 22:37:46+00:00   \n",
      "1          1  2022-12-30 22:30:58+00:00   \n",
      "2          2  2022-12-30 22:18:00+00:00   \n",
      "3          3  2022-12-30 20:42:54+00:00   \n",
      "4          4  2022-12-30 20:32:23+00:00   \n",
      "5          5  2022-12-30 20:25:56+00:00   \n",
      "6          6  2022-12-30 20:22:24+00:00   \n",
      "7          7  2022-12-30 20:10:49+00:00   \n",
      "8          8  2022-12-30 19:36:49+00:00   \n",
      "9          9  2022-12-30 19:30:58+00:00   \n",
      "\n",
      "                                                text  Positive  Negative  \\\n",
      "0  Men who have refused to listen to/attend @amer...     0.000     0.073   \n",
      "1                       @OvOBrezzzy Take amerix next     0.000     0.000   \n",
      "2  @AyodeleYo11 @amerix Nah I’m good my masculini...     0.493     0.068   \n",
      "3  @Amerix_DontSimp There is no need for dating i...     0.000     0.180   \n",
      "4  @DyeAnna7 @amerix @kibe From what cos nothing ...     0.110     0.000   \n",
      "5  @salim_the_don @MwendiaJnr I see you unblocked...     0.000     0.152   \n",
      "6  @german_kenyan @ML_Philosophy 🤣 yes they are a...     0.038     0.102   \n",
      "7  @PadreMusa Amerix once said the alcohol menace...     0.000     0.066   \n",
      "8  @DodoPicard You're in Eastafrica, he probably ...     0.000     0.000   \n",
      "9                   @HBK_ACTIVIST @amerix @kibe Heal     0.000     0.000   \n",
      "\n",
      "   Neutral  Compound  \n",
      "0    0.927   -0.2960  \n",
      "1    1.000    0.0000  \n",
      "2    0.439    0.8271  \n",
      "3    0.820   -0.2960  \n",
      "4    0.890    0.6908  \n",
      "5    0.848   -0.7732  \n",
      "6    0.860   -0.2824  \n",
      "7    0.934   -0.4939  \n",
      "8    1.000    0.0000  \n",
      "9    1.000    0.0000  \n"
     ]
    }
   ],
   "source": [
    "print(df.head(10))"
   ]
  },
  {
   "cell_type": "code",
   "execution_count": 15,
   "id": "12ca46ed",
   "metadata": {
    "execution": {
     "iopub.execute_input": "2023-01-17T12:28:23.239837Z",
     "iopub.status.busy": "2023-01-17T12:28:23.239397Z",
     "iopub.status.idle": "2023-01-17T12:28:26.824684Z",
     "shell.execute_reply": "2023-01-17T12:28:26.823750Z"
    },
    "papermill": {
     "duration": 3.596006,
     "end_time": "2023-01-17T12:28:26.827291",
     "exception": false,
     "start_time": "2023-01-17T12:28:23.231285",
     "status": "completed"
    },
    "tags": []
   },
   "outputs": [],
   "source": [
    "df.to_csv('sentiment_analysis_amerix_annotated.csv')"
   ]
  },
  {
   "cell_type": "code",
   "execution_count": 16,
   "id": "894ee242",
   "metadata": {
    "execution": {
     "iopub.execute_input": "2023-01-17T12:28:26.843418Z",
     "iopub.status.busy": "2023-01-17T12:28:26.842362Z",
     "iopub.status.idle": "2023-01-17T12:28:26.850726Z",
     "shell.execute_reply": "2023-01-17T12:28:26.849618Z"
    },
    "papermill": {
     "duration": 0.019247,
     "end_time": "2023-01-17T12:28:26.853253",
     "exception": false,
     "start_time": "2023-01-17T12:28:26.834006",
     "status": "completed"
    },
    "tags": []
   },
   "outputs": [
    {
     "data": {
      "text/plain": [
       "Index(['Unnamed: 0', 'tweet_created_at', 'text', 'Positive', 'Negative',\n",
       "       'Neutral', 'Compound'],\n",
       "      dtype='object')"
      ]
     },
     "execution_count": 16,
     "metadata": {},
     "output_type": "execute_result"
    }
   ],
   "source": [
    "df.columns"
   ]
  },
  {
   "cell_type": "code",
   "execution_count": 17,
   "id": "88df50cd",
   "metadata": {
    "execution": {
     "iopub.execute_input": "2023-01-17T12:28:26.868642Z",
     "iopub.status.busy": "2023-01-17T12:28:26.868221Z",
     "iopub.status.idle": "2023-01-17T12:28:27.017081Z",
     "shell.execute_reply": "2023-01-17T12:28:27.015595Z"
    },
    "papermill": {
     "duration": 0.159608,
     "end_time": "2023-01-17T12:28:27.019768",
     "exception": false,
     "start_time": "2023-01-17T12:28:26.860160",
     "status": "completed"
    },
    "tags": []
   },
   "outputs": [],
   "source": [
    "score = df[\"Compound\"].values\n",
    "sentiment = []\n",
    "for i in score:\n",
    "    if i >= 0.05 :\n",
    "        sentiment.append('Positive')\n",
    "    elif i <= -0.05 :\n",
    "        sentiment.append('Negative')\n",
    "    else:\n",
    "        sentiment.append('Neutral')\n",
    "df[\"Sentiment\"] = sentiment"
   ]
  },
  {
   "cell_type": "code",
   "execution_count": 18,
   "id": "3bdecf2c",
   "metadata": {
    "execution": {
     "iopub.execute_input": "2023-01-17T12:28:27.035566Z",
     "iopub.status.busy": "2023-01-17T12:28:27.035138Z",
     "iopub.status.idle": "2023-01-17T12:28:27.045731Z",
     "shell.execute_reply": "2023-01-17T12:28:27.044540Z"
    },
    "papermill": {
     "duration": 0.022188,
     "end_time": "2023-01-17T12:28:27.048902",
     "exception": false,
     "start_time": "2023-01-17T12:28:27.026714",
     "status": "completed"
    },
    "tags": []
   },
   "outputs": [
    {
     "name": "stdout",
     "output_type": "stream",
     "text": [
      "  Unnamed: 0           tweet_created_at  \\\n",
      "0          0  2022-12-30 22:37:46+00:00   \n",
      "1          1  2022-12-30 22:30:58+00:00   \n",
      "2          2  2022-12-30 22:18:00+00:00   \n",
      "3          3  2022-12-30 20:42:54+00:00   \n",
      "4          4  2022-12-30 20:32:23+00:00   \n",
      "\n",
      "                                                text  Positive  Negative  \\\n",
      "0  Men who have refused to listen to/attend @amer...     0.000     0.073   \n",
      "1                       @OvOBrezzzy Take amerix next     0.000     0.000   \n",
      "2  @AyodeleYo11 @amerix Nah I’m good my masculini...     0.493     0.068   \n",
      "3  @Amerix_DontSimp There is no need for dating i...     0.000     0.180   \n",
      "4  @DyeAnna7 @amerix @kibe From what cos nothing ...     0.110     0.000   \n",
      "\n",
      "   Neutral  Compound Sentiment  \n",
      "0    0.927   -0.2960  Negative  \n",
      "1    1.000    0.0000   Neutral  \n",
      "2    0.439    0.8271  Positive  \n",
      "3    0.820   -0.2960  Negative  \n",
      "4    0.890    0.6908  Positive  \n"
     ]
    }
   ],
   "source": [
    "print(df.head())"
   ]
  },
  {
   "cell_type": "code",
   "execution_count": 19,
   "id": "5b013124",
   "metadata": {
    "execution": {
     "iopub.execute_input": "2023-01-17T12:28:27.065442Z",
     "iopub.status.busy": "2023-01-17T12:28:27.064983Z",
     "iopub.status.idle": "2023-01-17T12:28:27.089902Z",
     "shell.execute_reply": "2023-01-17T12:28:27.088285Z"
    },
    "papermill": {
     "duration": 0.036751,
     "end_time": "2023-01-17T12:28:27.093343",
     "exception": false,
     "start_time": "2023-01-17T12:28:27.056592",
     "status": "completed"
    },
    "tags": []
   },
   "outputs": [
    {
     "name": "stdout",
     "output_type": "stream",
     "text": [
      "Positive    206018\n",
      "Neutral     109820\n",
      "Negative     92899\n",
      "Name: Sentiment, dtype: int64\n"
     ]
    }
   ],
   "source": [
    "print(df[\"Sentiment\"].value_counts())"
   ]
  },
  {
   "cell_type": "code",
   "execution_count": 20,
   "id": "f0011712",
   "metadata": {
    "execution": {
     "iopub.execute_input": "2023-01-17T12:28:27.109940Z",
     "iopub.status.busy": "2023-01-17T12:28:27.109539Z",
     "iopub.status.idle": "2023-01-17T12:28:30.759780Z",
     "shell.execute_reply": "2023-01-17T12:28:30.758503Z"
    },
    "papermill": {
     "duration": 3.661798,
     "end_time": "2023-01-17T12:28:30.762511",
     "exception": false,
     "start_time": "2023-01-17T12:28:27.100713",
     "status": "completed"
    },
    "tags": []
   },
   "outputs": [],
   "source": [
    "df.to_csv('twitter_sentiment_analysis_masculinity_saturday_annotated_data.csv')"
   ]
  },
  {
   "cell_type": "code",
   "execution_count": null,
   "id": "4c6a042d",
   "metadata": {
    "papermill": {
     "duration": 0.006597,
     "end_time": "2023-01-17T12:28:30.776212",
     "exception": false,
     "start_time": "2023-01-17T12:28:30.769615",
     "status": "completed"
    },
    "tags": []
   },
   "outputs": [],
   "source": []
  }
 ],
 "metadata": {
  "kernelspec": {
   "display_name": "Python 3",
   "language": "python",
   "name": "python3"
  },
  "language_info": {
   "codemirror_mode": {
    "name": "ipython",
    "version": 3
   },
   "file_extension": ".py",
   "mimetype": "text/x-python",
   "name": "python",
   "nbconvert_exporter": "python",
   "pygments_lexer": "ipython3",
   "version": "3.7.12"
  },
  "papermill": {
   "default_parameters": {},
   "duration": 657.119598,
   "end_time": "2023-01-17T12:28:31.808908",
   "environment_variables": {},
   "exception": null,
   "input_path": "__notebook__.ipynb",
   "output_path": "__notebook__.ipynb",
   "parameters": {},
   "start_time": "2023-01-17T12:17:34.689310",
   "version": "2.3.4"
  }
 },
 "nbformat": 4,
 "nbformat_minor": 5
}
