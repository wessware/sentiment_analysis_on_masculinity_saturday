{
 "cells": [
  {
   "cell_type": "code",
   "execution_count": 1,
   "id": "1600b772",
   "metadata": {
    "_cell_guid": "b1076dfc-b9ad-4769-8c92-a6c4dae69d19",
    "_uuid": "8f2839f25d086af736a60e9eeb907d3b93b6e0e5",
    "execution": {
     "iopub.execute_input": "2023-01-17T11:56:05.254542Z",
     "iopub.status.busy": "2023-01-17T11:56:05.253113Z",
     "iopub.status.idle": "2023-01-17T11:56:05.266570Z",
     "shell.execute_reply": "2023-01-17T11:56:05.265554Z"
    },
    "papermill": {
     "duration": 0.027858,
     "end_time": "2023-01-17T11:56:05.269690",
     "exception": false,
     "start_time": "2023-01-17T11:56:05.241832",
     "status": "completed"
    },
    "tags": []
   },
   "outputs": [],
   "source": [
    "# This Python 3 environment comes with many helpful analytics libraries installed\n",
    "# It is defined by the kaggle/python Docker image: https://github.com/kaggle/docker-python\n",
    "# For example, here's several helpful packages to load\n",
    "\n",
    "import numpy as np # linear algebra\n",
    "import pandas as pd # data processing, CSV file I/O (e.g. pd.read_csv)\n",
    "\n",
    "# Input data files are available in the read-only \"../input/\" directory\n",
    "# For example, running this (by clicking run or pressing Shift+Enter) will list all files under the input directory\n",
    "\n",
    "import os\n",
    "for dirname, _, filenames in os.walk('/kaggle/input/twitter-sentiment-analysis-on-masculinity-saturday'):\n",
    "    for filename in filenames:\n",
    "        print(os.path.join(dirname, filename))\n",
    "\n",
    "# You can write up to 20GB to the current directory (/kaggle/working/) that gets preserved as output when you create a version using \"Save & Run All\" \n",
    "# You can also write temporary files to /kaggle/temp/, but they won't be saved outside of the current session"
   ]
  },
  {
   "cell_type": "code",
   "execution_count": 2,
   "id": "0d0956e2",
   "metadata": {
    "execution": {
     "iopub.execute_input": "2023-01-17T11:56:05.283109Z",
     "iopub.status.busy": "2023-01-17T11:56:05.282397Z",
     "iopub.status.idle": "2023-01-17T11:56:05.287476Z",
     "shell.execute_reply": "2023-01-17T11:56:05.286494Z"
    },
    "papermill": {
     "duration": 0.01401,
     "end_time": "2023-01-17T11:56:05.289818",
     "exception": false,
     "start_time": "2023-01-17T11:56:05.275808",
     "status": "completed"
    },
    "tags": []
   },
   "outputs": [],
   "source": [
    "import pandas as pd"
   ]
  },
  {
   "cell_type": "code",
   "execution_count": 3,
   "id": "47c12678",
   "metadata": {
    "execution": {
     "iopub.execute_input": "2023-01-17T11:56:05.302840Z",
     "iopub.status.busy": "2023-01-17T11:56:05.301788Z",
     "iopub.status.idle": "2023-01-17T11:56:08.360433Z",
     "shell.execute_reply": "2023-01-17T11:56:08.358917Z"
    },
    "papermill": {
     "duration": 3.067999,
     "end_time": "2023-01-17T11:56:08.363258",
     "exception": false,
     "start_time": "2023-01-17T11:56:05.295259",
     "status": "completed"
    },
    "tags": []
   },
   "outputs": [],
   "source": [
    "df = pd.read_csv('/kaggle/input/twitter-sentiment-analysis-on-masculinity-Saturday/sentiment_analysis_amerix.csv', low_memory=False)"
   ]
  },
  {
   "cell_type": "code",
   "execution_count": 4,
   "id": "ab203ee5",
   "metadata": {
    "execution": {
     "iopub.execute_input": "2023-01-17T11:56:08.373495Z",
     "iopub.status.busy": "2023-01-17T11:56:08.373092Z",
     "iopub.status.idle": "2023-01-17T11:56:08.396814Z",
     "shell.execute_reply": "2023-01-17T11:56:08.395491Z"
    },
    "papermill": {
     "duration": 0.032232,
     "end_time": "2023-01-17T11:56:08.399685",
     "exception": false,
     "start_time": "2023-01-17T11:56:08.367453",
     "status": "completed"
    },
    "tags": []
   },
   "outputs": [
    {
     "data": {
      "text/html": [
       "<div>\n",
       "<style scoped>\n",
       "    .dataframe tbody tr th:only-of-type {\n",
       "        vertical-align: middle;\n",
       "    }\n",
       "\n",
       "    .dataframe tbody tr th {\n",
       "        vertical-align: top;\n",
       "    }\n",
       "\n",
       "    .dataframe thead th {\n",
       "        text-align: right;\n",
       "    }\n",
       "</style>\n",
       "<table border=\"1\" class=\"dataframe\">\n",
       "  <thead>\n",
       "    <tr style=\"text-align: right;\">\n",
       "      <th></th>\n",
       "      <th>Unnamed: 0</th>\n",
       "      <th>tweet_created_at</th>\n",
       "      <th>text</th>\n",
       "    </tr>\n",
       "  </thead>\n",
       "  <tbody>\n",
       "    <tr>\n",
       "      <th>0</th>\n",
       "      <td>0</td>\n",
       "      <td>2022-12-30 22:37:46+00:00</td>\n",
       "      <td>Men who have refused to listen to/attend @amer...</td>\n",
       "    </tr>\n",
       "    <tr>\n",
       "      <th>1</th>\n",
       "      <td>1</td>\n",
       "      <td>2022-12-30 22:30:58+00:00</td>\n",
       "      <td>@OvOBrezzzy Take amerix next</td>\n",
       "    </tr>\n",
       "    <tr>\n",
       "      <th>2</th>\n",
       "      <td>2</td>\n",
       "      <td>2022-12-30 22:18:00+00:00</td>\n",
       "      <td>@AyodeleYo11 @amerix Nah I’m good my masculini...</td>\n",
       "    </tr>\n",
       "    <tr>\n",
       "      <th>3</th>\n",
       "      <td>3</td>\n",
       "      <td>2022-12-30 20:42:54+00:00</td>\n",
       "      <td>@Amerix_DontSimp There is no need for dating i...</td>\n",
       "    </tr>\n",
       "    <tr>\n",
       "      <th>4</th>\n",
       "      <td>4</td>\n",
       "      <td>2022-12-30 20:32:23+00:00</td>\n",
       "      <td>@DyeAnna7 @amerix @kibe From what cos nothing ...</td>\n",
       "    </tr>\n",
       "  </tbody>\n",
       "</table>\n",
       "</div>"
      ],
      "text/plain": [
       "  Unnamed: 0           tweet_created_at  \\\n",
       "0          0  2022-12-30 22:37:46+00:00   \n",
       "1          1  2022-12-30 22:30:58+00:00   \n",
       "2          2  2022-12-30 22:18:00+00:00   \n",
       "3          3  2022-12-30 20:42:54+00:00   \n",
       "4          4  2022-12-30 20:32:23+00:00   \n",
       "\n",
       "                                                text  \n",
       "0  Men who have refused to listen to/attend @amer...  \n",
       "1                       @OvOBrezzzy Take amerix next  \n",
       "2  @AyodeleYo11 @amerix Nah I’m good my masculini...  \n",
       "3  @Amerix_DontSimp There is no need for dating i...  \n",
       "4  @DyeAnna7 @amerix @kibe From what cos nothing ...  "
      ]
     },
     "execution_count": 4,
     "metadata": {},
     "output_type": "execute_result"
    }
   ],
   "source": [
    "df.head()"
   ]
  },
  {
   "cell_type": "code",
   "execution_count": 5,
   "id": "bd5b2263",
   "metadata": {
    "execution": {
     "iopub.execute_input": "2023-01-17T11:56:08.410897Z",
     "iopub.status.busy": "2023-01-17T11:56:08.410475Z",
     "iopub.status.idle": "2023-01-17T11:56:08.418169Z",
     "shell.execute_reply": "2023-01-17T11:56:08.416956Z"
    },
    "papermill": {
     "duration": 0.016298,
     "end_time": "2023-01-17T11:56:08.420676",
     "exception": false,
     "start_time": "2023-01-17T11:56:08.404378",
     "status": "completed"
    },
    "tags": []
   },
   "outputs": [
    {
     "data": {
      "text/plain": [
       "Index(['Unnamed: 0', 'tweet_created_at', 'text'], dtype='object')"
      ]
     },
     "execution_count": 5,
     "metadata": {},
     "output_type": "execute_result"
    }
   ],
   "source": [
    "df.columns"
   ]
  },
  {
   "cell_type": "code",
   "execution_count": 6,
   "id": "eb0d7a16",
   "metadata": {
    "execution": {
     "iopub.execute_input": "2023-01-17T11:56:08.431626Z",
     "iopub.status.busy": "2023-01-17T11:56:08.431213Z",
     "iopub.status.idle": "2023-01-17T11:56:08.438151Z",
     "shell.execute_reply": "2023-01-17T11:56:08.436883Z"
    },
    "papermill": {
     "duration": 0.015295,
     "end_time": "2023-01-17T11:56:08.440546",
     "exception": false,
     "start_time": "2023-01-17T11:56:08.425251",
     "status": "completed"
    },
    "tags": []
   },
   "outputs": [
    {
     "data": {
      "text/plain": [
       "(408738, 3)"
      ]
     },
     "execution_count": 6,
     "metadata": {},
     "output_type": "execute_result"
    }
   ],
   "source": [
    "df.shape"
   ]
  },
  {
   "cell_type": "code",
   "execution_count": 7,
   "id": "676758a6",
   "metadata": {
    "execution": {
     "iopub.execute_input": "2023-01-17T11:56:08.451466Z",
     "iopub.status.busy": "2023-01-17T11:56:08.451070Z",
     "iopub.status.idle": "2023-01-17T11:56:09.684965Z",
     "shell.execute_reply": "2023-01-17T11:56:09.683834Z"
    },
    "papermill": {
     "duration": 1.242467,
     "end_time": "2023-01-17T11:56:09.687592",
     "exception": false,
     "start_time": "2023-01-17T11:56:08.445125",
     "status": "completed"
    },
    "tags": []
   },
   "outputs": [
    {
     "data": {
      "text/html": [
       "<div>\n",
       "<style scoped>\n",
       "    .dataframe tbody tr th:only-of-type {\n",
       "        vertical-align: middle;\n",
       "    }\n",
       "\n",
       "    .dataframe tbody tr th {\n",
       "        vertical-align: top;\n",
       "    }\n",
       "\n",
       "    .dataframe thead th {\n",
       "        text-align: right;\n",
       "    }\n",
       "</style>\n",
       "<table border=\"1\" class=\"dataframe\">\n",
       "  <thead>\n",
       "    <tr style=\"text-align: right;\">\n",
       "      <th></th>\n",
       "      <th>count</th>\n",
       "      <th>unique</th>\n",
       "      <th>top</th>\n",
       "      <th>freq</th>\n",
       "    </tr>\n",
       "  </thead>\n",
       "  <tbody>\n",
       "    <tr>\n",
       "      <th>Unnamed: 0</th>\n",
       "      <td>408738</td>\n",
       "      <td>408738</td>\n",
       "      <td>0</td>\n",
       "      <td>1</td>\n",
       "    </tr>\n",
       "    <tr>\n",
       "      <th>tweet_created_at</th>\n",
       "      <td>408737</td>\n",
       "      <td>347928</td>\n",
       "      <td>2022-12-30 21:00:01+00:00</td>\n",
       "      <td>14</td>\n",
       "    </tr>\n",
       "    <tr>\n",
       "      <th>text</th>\n",
       "      <td>408737</td>\n",
       "      <td>387053</td>\n",
       "      <td>@amerix @pikaso_me screenshot this</td>\n",
       "      <td>550</td>\n",
       "    </tr>\n",
       "  </tbody>\n",
       "</table>\n",
       "</div>"
      ],
      "text/plain": [
       "                   count  unique                                 top freq\n",
       "Unnamed: 0        408738  408738                                   0    1\n",
       "tweet_created_at  408737  347928           2022-12-30 21:00:01+00:00   14\n",
       "text              408737  387053  @amerix @pikaso_me screenshot this  550"
      ]
     },
     "execution_count": 7,
     "metadata": {},
     "output_type": "execute_result"
    }
   ],
   "source": [
    "df.describe().T"
   ]
  },
  {
   "cell_type": "code",
   "execution_count": 8,
   "id": "02afd316",
   "metadata": {
    "execution": {
     "iopub.execute_input": "2023-01-17T11:56:09.699451Z",
     "iopub.status.busy": "2023-01-17T11:56:09.698865Z",
     "iopub.status.idle": "2023-01-17T11:56:11.570551Z",
     "shell.execute_reply": "2023-01-17T11:56:11.569436Z"
    },
    "papermill": {
     "duration": 1.880862,
     "end_time": "2023-01-17T11:56:11.573481",
     "exception": false,
     "start_time": "2023-01-17T11:56:09.692619",
     "status": "completed"
    },
    "tags": []
   },
   "outputs": [],
   "source": [
    "import nltk\n",
    "from nltk.sentiment.vader import SentimentIntensityAnalyzer"
   ]
  },
  {
   "cell_type": "code",
   "execution_count": 9,
   "id": "d8d44884",
   "metadata": {
    "execution": {
     "iopub.execute_input": "2023-01-17T11:56:11.585026Z",
     "iopub.status.busy": "2023-01-17T11:56:11.584615Z",
     "iopub.status.idle": "2023-01-17T11:56:11.683713Z",
     "shell.execute_reply": "2023-01-17T11:56:11.681959Z"
    },
    "papermill": {
     "duration": 0.108675,
     "end_time": "2023-01-17T11:56:11.687108",
     "exception": false,
     "start_time": "2023-01-17T11:56:11.578433",
     "status": "completed"
    },
    "tags": []
   },
   "outputs": [
    {
     "name": "stderr",
     "output_type": "stream",
     "text": [
      "[nltk_data] Downloading package vader_lexicon to\n",
      "[nltk_data]     /usr/share/nltk_data...\n",
      "[nltk_data]   Package vader_lexicon is already up-to-date!\n"
     ]
    },
    {
     "data": {
      "text/plain": [
       "True"
      ]
     },
     "execution_count": 9,
     "metadata": {},
     "output_type": "execute_result"
    }
   ],
   "source": [
    "nltk.download('vader_lexicon')"
   ]
  },
  {
   "cell_type": "code",
   "execution_count": 10,
   "id": "fd435235",
   "metadata": {
    "execution": {
     "iopub.execute_input": "2023-01-17T11:56:11.699559Z",
     "iopub.status.busy": "2023-01-17T11:56:11.698489Z",
     "iopub.status.idle": "2023-01-17T11:56:11.824258Z",
     "shell.execute_reply": "2023-01-17T11:56:11.822914Z"
    },
    "papermill": {
     "duration": 0.134741,
     "end_time": "2023-01-17T11:56:11.827043",
     "exception": false,
     "start_time": "2023-01-17T11:56:11.692302",
     "status": "completed"
    },
    "tags": []
   },
   "outputs": [],
   "source": [
    "df = df.dropna()"
   ]
  },
  {
   "cell_type": "code",
   "execution_count": 11,
   "id": "a28c1919",
   "metadata": {
    "execution": {
     "iopub.execute_input": "2023-01-17T11:56:11.839366Z",
     "iopub.status.busy": "2023-01-17T11:56:11.838301Z",
     "iopub.status.idle": "2023-01-17T11:56:11.847954Z",
     "shell.execute_reply": "2023-01-17T11:56:11.846634Z"
    },
    "papermill": {
     "duration": 0.018197,
     "end_time": "2023-01-17T11:56:11.850293",
     "exception": false,
     "start_time": "2023-01-17T11:56:11.832096",
     "status": "completed"
    },
    "tags": []
   },
   "outputs": [
    {
     "name": "stdout",
     "output_type": "stream",
     "text": [
      "  Unnamed: 0           tweet_created_at  \\\n",
      "0          0  2022-12-30 22:37:46+00:00   \n",
      "1          1  2022-12-30 22:30:58+00:00   \n",
      "2          2  2022-12-30 22:18:00+00:00   \n",
      "3          3  2022-12-30 20:42:54+00:00   \n",
      "4          4  2022-12-30 20:32:23+00:00   \n",
      "\n",
      "                                                text  \n",
      "0  Men who have refused to listen to/attend @amer...  \n",
      "1                       @OvOBrezzzy Take amerix next  \n",
      "2  @AyodeleYo11 @amerix Nah I’m good my masculini...  \n",
      "3  @Amerix_DontSimp There is no need for dating i...  \n",
      "4  @DyeAnna7 @amerix @kibe From what cos nothing ...  \n"
     ]
    }
   ],
   "source": [
    "print(df.head())"
   ]
  },
  {
   "cell_type": "code",
   "execution_count": 12,
   "id": "3287d256",
   "metadata": {
    "execution": {
     "iopub.execute_input": "2023-01-17T11:56:11.862264Z",
     "iopub.status.busy": "2023-01-17T11:56:11.861788Z",
     "iopub.status.idle": "2023-01-17T11:56:11.870397Z",
     "shell.execute_reply": "2023-01-17T11:56:11.869221Z"
    },
    "papermill": {
     "duration": 0.017068,
     "end_time": "2023-01-17T11:56:11.872494",
     "exception": false,
     "start_time": "2023-01-17T11:56:11.855426",
     "status": "completed"
    },
    "tags": []
   },
   "outputs": [
    {
     "data": {
      "text/plain": [
       "Index(['Unnamed: 0', 'tweet_created_at', 'text'], dtype='object')"
      ]
     },
     "execution_count": 12,
     "metadata": {},
     "output_type": "execute_result"
    }
   ],
   "source": [
    "df.columns"
   ]
  },
  {
   "cell_type": "code",
   "execution_count": 13,
   "id": "087d711f",
   "metadata": {
    "execution": {
     "iopub.execute_input": "2023-01-17T11:56:11.884919Z",
     "iopub.status.busy": "2023-01-17T11:56:11.884500Z",
     "iopub.status.idle": "2023-01-17T12:06:49.060190Z",
     "shell.execute_reply": "2023-01-17T12:06:49.059003Z"
    },
    "papermill": {
     "duration": 637.184883,
     "end_time": "2023-01-17T12:06:49.062964",
     "exception": false,
     "start_time": "2023-01-17T11:56:11.878081",
     "status": "completed"
    },
    "tags": []
   },
   "outputs": [],
   "source": [
    "sentiments = SentimentIntensityAnalyzer()\n",
    "\n",
    "df[\"Positive\"] = [sentiments.polarity_scores(i)[\"pos\"] for i in df[\"text\"]]\n",
    "df[\"Negative\"] = [sentiments.polarity_scores(i)[\"neg\"] for i in df[\"text\"]]\n",
    "df[\"Neutral\"] = [sentiments.polarity_scores(i)[\"neu\"] for i in df[\"text\"]]\n",
    "df['Compound'] = [sentiments.polarity_scores(i)[\"compound\"] for i in df[\"text\"]]"
   ]
  },
  {
   "cell_type": "code",
   "execution_count": null,
   "id": "425d9940",
   "metadata": {
    "papermill": {
     "duration": 0.00485,
     "end_time": "2023-01-17T12:06:49.073307",
     "exception": false,
     "start_time": "2023-01-17T12:06:49.068457",
     "status": "completed"
    },
    "tags": []
   },
   "outputs": [],
   "source": []
  }
 ],
 "metadata": {
  "kernelspec": {
   "display_name": "Python 3",
   "language": "python",
   "name": "python3"
  },
  "language_info": {
   "codemirror_mode": {
    "name": "ipython",
    "version": 3
   },
   "file_extension": ".py",
   "mimetype": "text/x-python",
   "name": "python",
   "nbconvert_exporter": "python",
   "pygments_lexer": "ipython3",
   "version": "3.7.12"
  },
  "papermill": {
   "default_parameters": {},
   "duration": 653.79911,
   "end_time": "2023-01-17T12:06:49.902251",
   "environment_variables": {},
   "exception": null,
   "input_path": "__notebook__.ipynb",
   "output_path": "__notebook__.ipynb",
   "parameters": {},
   "start_time": "2023-01-17T11:55:56.103141",
   "version": "2.3.4"
  }
 },
 "nbformat": 4,
 "nbformat_minor": 5
}
