{
 "cells": [
  {
   "cell_type": "code",
   "execution_count": 1,
   "id": "6ea7d339",
   "metadata": {
    "_cell_guid": "b1076dfc-b9ad-4769-8c92-a6c4dae69d19",
    "_uuid": "8f2839f25d086af736a60e9eeb907d3b93b6e0e5",
    "execution": {
     "iopub.execute_input": "2023-01-17T12:53:45.094685Z",
     "iopub.status.busy": "2023-01-17T12:53:45.094009Z",
     "iopub.status.idle": "2023-01-17T12:53:45.109683Z",
     "shell.execute_reply": "2023-01-17T12:53:45.108326Z"
    },
    "papermill": {
     "duration": 0.028668,
     "end_time": "2023-01-17T12:53:45.113033",
     "exception": false,
     "start_time": "2023-01-17T12:53:45.084365",
     "status": "completed"
    },
    "tags": []
   },
   "outputs": [],
   "source": [
    "# This Python 3 environment comes with many helpful analytics libraries installed\n",
    "# It is defined by the kaggle/python Docker image: https://github.com/kaggle/docker-python\n",
    "# For example, here's several helpful packages to load\n",
    "\n",
    "import numpy as np # linear algebra\n",
    "import pandas as pd # data processing, CSV file I/O (e.g. pd.read_csv)\n",
    "\n",
    "# Input data files are available in the read-only \"../input/\" directory\n",
    "# For example, running this (by clicking run or pressing Shift+Enter) will list all files under the input directory\n",
    "\n",
    "import os\n",
    "for dirname, _, filenames in os.walk('/kaggle/input/twitter-sentiment-analysis-on-masculinity-saturday'):\n",
    "    for filename in filenames:\n",
    "        print(os.path.join(dirname, filename))\n",
    "\n",
    "# You can write up to 20GB to the current directory (/kaggle/working/) that gets preserved as output when you create a version using \"Save & Run All\" \n",
    "# You can also write temporary files to /kaggle/temp/, but they won't be saved outside of the current session"
   ]
  },
  {
   "cell_type": "code",
   "execution_count": 2,
   "id": "a5bf1d10",
   "metadata": {
    "execution": {
     "iopub.execute_input": "2023-01-17T12:53:45.128029Z",
     "iopub.status.busy": "2023-01-17T12:53:45.127201Z",
     "iopub.status.idle": "2023-01-17T12:53:45.133410Z",
     "shell.execute_reply": "2023-01-17T12:53:45.131768Z"
    },
    "papermill": {
     "duration": 0.016985,
     "end_time": "2023-01-17T12:53:45.136059",
     "exception": false,
     "start_time": "2023-01-17T12:53:45.119074",
     "status": "completed"
    },
    "tags": []
   },
   "outputs": [],
   "source": [
    "import pandas as pd"
   ]
  },
  {
   "cell_type": "code",
   "execution_count": 3,
   "id": "552270de",
   "metadata": {
    "execution": {
     "iopub.execute_input": "2023-01-17T12:53:45.152245Z",
     "iopub.status.busy": "2023-01-17T12:53:45.151540Z",
     "iopub.status.idle": "2023-01-17T12:53:48.505093Z",
     "shell.execute_reply": "2023-01-17T12:53:48.503947Z"
    },
    "papermill": {
     "duration": 3.365187,
     "end_time": "2023-01-17T12:53:48.507924",
     "exception": false,
     "start_time": "2023-01-17T12:53:45.142737",
     "status": "completed"
    },
    "tags": []
   },
   "outputs": [],
   "source": [
    "df = pd.read_csv('/kaggle/input/twitter-sentiment-analysis-on-masculinity-Saturday/sentiment_analysis_amerix.csv', low_memory=False)"
   ]
  },
  {
   "cell_type": "code",
   "execution_count": 4,
   "id": "fb4ad81c",
   "metadata": {
    "execution": {
     "iopub.execute_input": "2023-01-17T12:53:48.522667Z",
     "iopub.status.busy": "2023-01-17T12:53:48.522110Z",
     "iopub.status.idle": "2023-01-17T12:53:48.551312Z",
     "shell.execute_reply": "2023-01-17T12:53:48.549913Z"
    },
    "papermill": {
     "duration": 0.039923,
     "end_time": "2023-01-17T12:53:48.553911",
     "exception": false,
     "start_time": "2023-01-17T12:53:48.513988",
     "status": "completed"
    },
    "tags": []
   },
   "outputs": [
    {
     "data": {
      "text/html": [
       "<div>\n",
       "<style scoped>\n",
       "    .dataframe tbody tr th:only-of-type {\n",
       "        vertical-align: middle;\n",
       "    }\n",
       "\n",
       "    .dataframe tbody tr th {\n",
       "        vertical-align: top;\n",
       "    }\n",
       "\n",
       "    .dataframe thead th {\n",
       "        text-align: right;\n",
       "    }\n",
       "</style>\n",
       "<table border=\"1\" class=\"dataframe\">\n",
       "  <thead>\n",
       "    <tr style=\"text-align: right;\">\n",
       "      <th></th>\n",
       "      <th>Unnamed: 0</th>\n",
       "      <th>tweet_created_at</th>\n",
       "      <th>text</th>\n",
       "    </tr>\n",
       "  </thead>\n",
       "  <tbody>\n",
       "    <tr>\n",
       "      <th>0</th>\n",
       "      <td>0</td>\n",
       "      <td>2022-12-30 22:37:46+00:00</td>\n",
       "      <td>Men who have refused to listen to/attend @amer...</td>\n",
       "    </tr>\n",
       "    <tr>\n",
       "      <th>1</th>\n",
       "      <td>1</td>\n",
       "      <td>2022-12-30 22:30:58+00:00</td>\n",
       "      <td>@OvOBrezzzy Take amerix next</td>\n",
       "    </tr>\n",
       "    <tr>\n",
       "      <th>2</th>\n",
       "      <td>2</td>\n",
       "      <td>2022-12-30 22:18:00+00:00</td>\n",
       "      <td>@AyodeleYo11 @amerix Nah I’m good my masculini...</td>\n",
       "    </tr>\n",
       "    <tr>\n",
       "      <th>3</th>\n",
       "      <td>3</td>\n",
       "      <td>2022-12-30 20:42:54+00:00</td>\n",
       "      <td>@Amerix_DontSimp There is no need for dating i...</td>\n",
       "    </tr>\n",
       "    <tr>\n",
       "      <th>4</th>\n",
       "      <td>4</td>\n",
       "      <td>2022-12-30 20:32:23+00:00</td>\n",
       "      <td>@DyeAnna7 @amerix @kibe From what cos nothing ...</td>\n",
       "    </tr>\n",
       "  </tbody>\n",
       "</table>\n",
       "</div>"
      ],
      "text/plain": [
       "  Unnamed: 0           tweet_created_at  \\\n",
       "0          0  2022-12-30 22:37:46+00:00   \n",
       "1          1  2022-12-30 22:30:58+00:00   \n",
       "2          2  2022-12-30 22:18:00+00:00   \n",
       "3          3  2022-12-30 20:42:54+00:00   \n",
       "4          4  2022-12-30 20:32:23+00:00   \n",
       "\n",
       "                                                text  \n",
       "0  Men who have refused to listen to/attend @amer...  \n",
       "1                       @OvOBrezzzy Take amerix next  \n",
       "2  @AyodeleYo11 @amerix Nah I’m good my masculini...  \n",
       "3  @Amerix_DontSimp There is no need for dating i...  \n",
       "4  @DyeAnna7 @amerix @kibe From what cos nothing ...  "
      ]
     },
     "execution_count": 4,
     "metadata": {},
     "output_type": "execute_result"
    }
   ],
   "source": [
    "df.head()"
   ]
  },
  {
   "cell_type": "code",
   "execution_count": 5,
   "id": "4a64f48e",
   "metadata": {
    "execution": {
     "iopub.execute_input": "2023-01-17T12:53:48.568114Z",
     "iopub.status.busy": "2023-01-17T12:53:48.567684Z",
     "iopub.status.idle": "2023-01-17T12:53:48.574819Z",
     "shell.execute_reply": "2023-01-17T12:53:48.573687Z"
    },
    "papermill": {
     "duration": 0.0173,
     "end_time": "2023-01-17T12:53:48.577425",
     "exception": false,
     "start_time": "2023-01-17T12:53:48.560125",
     "status": "completed"
    },
    "tags": []
   },
   "outputs": [
    {
     "data": {
      "text/plain": [
       "Index(['Unnamed: 0', 'tweet_created_at', 'text'], dtype='object')"
      ]
     },
     "execution_count": 5,
     "metadata": {},
     "output_type": "execute_result"
    }
   ],
   "source": [
    "df.columns"
   ]
  },
  {
   "cell_type": "code",
   "execution_count": 6,
   "id": "00d5baef",
   "metadata": {
    "execution": {
     "iopub.execute_input": "2023-01-17T12:53:48.592427Z",
     "iopub.status.busy": "2023-01-17T12:53:48.591203Z",
     "iopub.status.idle": "2023-01-17T12:53:48.599195Z",
     "shell.execute_reply": "2023-01-17T12:53:48.597916Z"
    },
    "papermill": {
     "duration": 0.017579,
     "end_time": "2023-01-17T12:53:48.601442",
     "exception": false,
     "start_time": "2023-01-17T12:53:48.583863",
     "status": "completed"
    },
    "tags": []
   },
   "outputs": [
    {
     "data": {
      "text/plain": [
       "(408738, 3)"
      ]
     },
     "execution_count": 6,
     "metadata": {},
     "output_type": "execute_result"
    }
   ],
   "source": [
    "df.shape"
   ]
  },
  {
   "cell_type": "code",
   "execution_count": 7,
   "id": "16cfb644",
   "metadata": {
    "execution": {
     "iopub.execute_input": "2023-01-17T12:53:48.616883Z",
     "iopub.status.busy": "2023-01-17T12:53:48.616439Z",
     "iopub.status.idle": "2023-01-17T12:53:49.997795Z",
     "shell.execute_reply": "2023-01-17T12:53:49.996682Z"
    },
    "papermill": {
     "duration": 1.392345,
     "end_time": "2023-01-17T12:53:50.000420",
     "exception": false,
     "start_time": "2023-01-17T12:53:48.608075",
     "status": "completed"
    },
    "tags": []
   },
   "outputs": [
    {
     "data": {
      "text/html": [
       "<div>\n",
       "<style scoped>\n",
       "    .dataframe tbody tr th:only-of-type {\n",
       "        vertical-align: middle;\n",
       "    }\n",
       "\n",
       "    .dataframe tbody tr th {\n",
       "        vertical-align: top;\n",
       "    }\n",
       "\n",
       "    .dataframe thead th {\n",
       "        text-align: right;\n",
       "    }\n",
       "</style>\n",
       "<table border=\"1\" class=\"dataframe\">\n",
       "  <thead>\n",
       "    <tr style=\"text-align: right;\">\n",
       "      <th></th>\n",
       "      <th>count</th>\n",
       "      <th>unique</th>\n",
       "      <th>top</th>\n",
       "      <th>freq</th>\n",
       "    </tr>\n",
       "  </thead>\n",
       "  <tbody>\n",
       "    <tr>\n",
       "      <th>Unnamed: 0</th>\n",
       "      <td>408738</td>\n",
       "      <td>408738</td>\n",
       "      <td>0</td>\n",
       "      <td>1</td>\n",
       "    </tr>\n",
       "    <tr>\n",
       "      <th>tweet_created_at</th>\n",
       "      <td>408737</td>\n",
       "      <td>347928</td>\n",
       "      <td>2022-12-30 21:00:01+00:00</td>\n",
       "      <td>14</td>\n",
       "    </tr>\n",
       "    <tr>\n",
       "      <th>text</th>\n",
       "      <td>408737</td>\n",
       "      <td>387053</td>\n",
       "      <td>@amerix @pikaso_me screenshot this</td>\n",
       "      <td>550</td>\n",
       "    </tr>\n",
       "  </tbody>\n",
       "</table>\n",
       "</div>"
      ],
      "text/plain": [
       "                   count  unique                                 top freq\n",
       "Unnamed: 0        408738  408738                                   0    1\n",
       "tweet_created_at  408737  347928           2022-12-30 21:00:01+00:00   14\n",
       "text              408737  387053  @amerix @pikaso_me screenshot this  550"
      ]
     },
     "execution_count": 7,
     "metadata": {},
     "output_type": "execute_result"
    }
   ],
   "source": [
    "df.describe().T"
   ]
  },
  {
   "cell_type": "code",
   "execution_count": 8,
   "id": "4f9636ad",
   "metadata": {
    "execution": {
     "iopub.execute_input": "2023-01-17T12:53:50.018786Z",
     "iopub.status.busy": "2023-01-17T12:53:50.018227Z",
     "iopub.status.idle": "2023-01-17T12:53:52.069425Z",
     "shell.execute_reply": "2023-01-17T12:53:52.068045Z"
    },
    "papermill": {
     "duration": 2.064727,
     "end_time": "2023-01-17T12:53:52.072810",
     "exception": false,
     "start_time": "2023-01-17T12:53:50.008083",
     "status": "completed"
    },
    "tags": []
   },
   "outputs": [],
   "source": [
    "import nltk\n",
    "from nltk.sentiment.vader import SentimentIntensityAnalyzer"
   ]
  },
  {
   "cell_type": "code",
   "execution_count": 9,
   "id": "cc0942b1",
   "metadata": {
    "execution": {
     "iopub.execute_input": "2023-01-17T12:53:52.088420Z",
     "iopub.status.busy": "2023-01-17T12:53:52.087178Z",
     "iopub.status.idle": "2023-01-17T12:53:52.232019Z",
     "shell.execute_reply": "2023-01-17T12:53:52.230736Z"
    },
    "papermill": {
     "duration": 0.155103,
     "end_time": "2023-01-17T12:53:52.234470",
     "exception": false,
     "start_time": "2023-01-17T12:53:52.079367",
     "status": "completed"
    },
    "tags": []
   },
   "outputs": [
    {
     "name": "stderr",
     "output_type": "stream",
     "text": [
      "[nltk_data] Downloading package vader_lexicon to\n",
      "[nltk_data]     /usr/share/nltk_data...\n",
      "[nltk_data]   Package vader_lexicon is already up-to-date!\n"
     ]
    },
    {
     "data": {
      "text/plain": [
       "True"
      ]
     },
     "execution_count": 9,
     "metadata": {},
     "output_type": "execute_result"
    }
   ],
   "source": [
    "nltk.download('vader_lexicon')"
   ]
  },
  {
   "cell_type": "code",
   "execution_count": 10,
   "id": "65c5df35",
   "metadata": {
    "execution": {
     "iopub.execute_input": "2023-01-17T12:53:52.251533Z",
     "iopub.status.busy": "2023-01-17T12:53:52.251098Z",
     "iopub.status.idle": "2023-01-17T12:53:52.387171Z",
     "shell.execute_reply": "2023-01-17T12:53:52.385559Z"
    },
    "papermill": {
     "duration": 0.146867,
     "end_time": "2023-01-17T12:53:52.389875",
     "exception": false,
     "start_time": "2023-01-17T12:53:52.243008",
     "status": "completed"
    },
    "tags": []
   },
   "outputs": [],
   "source": [
    "df = df.dropna()"
   ]
  },
  {
   "cell_type": "code",
   "execution_count": 11,
   "id": "779b1b3f",
   "metadata": {
    "execution": {
     "iopub.execute_input": "2023-01-17T12:53:52.405866Z",
     "iopub.status.busy": "2023-01-17T12:53:52.405269Z",
     "iopub.status.idle": "2023-01-17T12:53:52.415331Z",
     "shell.execute_reply": "2023-01-17T12:53:52.413904Z"
    },
    "papermill": {
     "duration": 0.022271,
     "end_time": "2023-01-17T12:53:52.418713",
     "exception": false,
     "start_time": "2023-01-17T12:53:52.396442",
     "status": "completed"
    },
    "tags": []
   },
   "outputs": [
    {
     "name": "stdout",
     "output_type": "stream",
     "text": [
      "  Unnamed: 0           tweet_created_at  \\\n",
      "0          0  2022-12-30 22:37:46+00:00   \n",
      "1          1  2022-12-30 22:30:58+00:00   \n",
      "2          2  2022-12-30 22:18:00+00:00   \n",
      "3          3  2022-12-30 20:42:54+00:00   \n",
      "4          4  2022-12-30 20:32:23+00:00   \n",
      "\n",
      "                                                text  \n",
      "0  Men who have refused to listen to/attend @amer...  \n",
      "1                       @OvOBrezzzy Take amerix next  \n",
      "2  @AyodeleYo11 @amerix Nah I’m good my masculini...  \n",
      "3  @Amerix_DontSimp There is no need for dating i...  \n",
      "4  @DyeAnna7 @amerix @kibe From what cos nothing ...  \n"
     ]
    }
   ],
   "source": [
    "print(df.head())"
   ]
  },
  {
   "cell_type": "code",
   "execution_count": 12,
   "id": "fefde03a",
   "metadata": {
    "execution": {
     "iopub.execute_input": "2023-01-17T12:53:52.437505Z",
     "iopub.status.busy": "2023-01-17T12:53:52.435959Z",
     "iopub.status.idle": "2023-01-17T12:53:52.446041Z",
     "shell.execute_reply": "2023-01-17T12:53:52.444504Z"
    },
    "papermill": {
     "duration": 0.022866,
     "end_time": "2023-01-17T12:53:52.448892",
     "exception": false,
     "start_time": "2023-01-17T12:53:52.426026",
     "status": "completed"
    },
    "tags": []
   },
   "outputs": [
    {
     "data": {
      "text/plain": [
       "Index(['Unnamed: 0', 'tweet_created_at', 'text'], dtype='object')"
      ]
     },
     "execution_count": 12,
     "metadata": {},
     "output_type": "execute_result"
    }
   ],
   "source": [
    "df.columns"
   ]
  },
  {
   "cell_type": "code",
   "execution_count": 13,
   "id": "fef47048",
   "metadata": {
    "execution": {
     "iopub.execute_input": "2023-01-17T12:53:52.465791Z",
     "iopub.status.busy": "2023-01-17T12:53:52.465355Z",
     "iopub.status.idle": "2023-01-17T13:04:36.986561Z",
     "shell.execute_reply": "2023-01-17T13:04:36.985329Z"
    },
    "papermill": {
     "duration": 644.532886,
     "end_time": "2023-01-17T13:04:36.989588",
     "exception": false,
     "start_time": "2023-01-17T12:53:52.456702",
     "status": "completed"
    },
    "tags": []
   },
   "outputs": [],
   "source": [
    "sentiments = SentimentIntensityAnalyzer()\n",
    "\n",
    "df[\"Positive\"] = [sentiments.polarity_scores(i)[\"pos\"] for i in df[\"text\"]]\n",
    "df[\"Negative\"] = [sentiments.polarity_scores(i)[\"neg\"] for i in df[\"text\"]]\n",
    "df[\"Neutral\"] = [sentiments.polarity_scores(i)[\"neu\"] for i in df[\"text\"]]\n",
    "df['Compound'] = [sentiments.polarity_scores(i)[\"compound\"] for i in df[\"text\"]]"
   ]
  },
  {
   "cell_type": "code",
   "execution_count": 14,
   "id": "b485a6b7",
   "metadata": {
    "execution": {
     "iopub.execute_input": "2023-01-17T13:04:37.005255Z",
     "iopub.status.busy": "2023-01-17T13:04:37.004855Z",
     "iopub.status.idle": "2023-01-17T13:04:37.017091Z",
     "shell.execute_reply": "2023-01-17T13:04:37.015570Z"
    },
    "papermill": {
     "duration": 0.023197,
     "end_time": "2023-01-17T13:04:37.019987",
     "exception": false,
     "start_time": "2023-01-17T13:04:36.996790",
     "status": "completed"
    },
    "tags": []
   },
   "outputs": [
    {
     "name": "stdout",
     "output_type": "stream",
     "text": [
      "  Unnamed: 0           tweet_created_at  \\\n",
      "0          0  2022-12-30 22:37:46+00:00   \n",
      "1          1  2022-12-30 22:30:58+00:00   \n",
      "2          2  2022-12-30 22:18:00+00:00   \n",
      "3          3  2022-12-30 20:42:54+00:00   \n",
      "4          4  2022-12-30 20:32:23+00:00   \n",
      "5          5  2022-12-30 20:25:56+00:00   \n",
      "6          6  2022-12-30 20:22:24+00:00   \n",
      "7          7  2022-12-30 20:10:49+00:00   \n",
      "8          8  2022-12-30 19:36:49+00:00   \n",
      "9          9  2022-12-30 19:30:58+00:00   \n",
      "\n",
      "                                                text  Positive  Negative  \\\n",
      "0  Men who have refused to listen to/attend @amer...     0.000     0.073   \n",
      "1                       @OvOBrezzzy Take amerix next     0.000     0.000   \n",
      "2  @AyodeleYo11 @amerix Nah I’m good my masculini...     0.493     0.068   \n",
      "3  @Amerix_DontSimp There is no need for dating i...     0.000     0.180   \n",
      "4  @DyeAnna7 @amerix @kibe From what cos nothing ...     0.110     0.000   \n",
      "5  @salim_the_don @MwendiaJnr I see you unblocked...     0.000     0.152   \n",
      "6  @german_kenyan @ML_Philosophy 🤣 yes they are a...     0.038     0.102   \n",
      "7  @PadreMusa Amerix once said the alcohol menace...     0.000     0.066   \n",
      "8  @DodoPicard You're in Eastafrica, he probably ...     0.000     0.000   \n",
      "9                   @HBK_ACTIVIST @amerix @kibe Heal     0.000     0.000   \n",
      "\n",
      "   Neutral  Compound  \n",
      "0    0.927   -0.2960  \n",
      "1    1.000    0.0000  \n",
      "2    0.439    0.8271  \n",
      "3    0.820   -0.2960  \n",
      "4    0.890    0.6908  \n",
      "5    0.848   -0.7732  \n",
      "6    0.860   -0.2824  \n",
      "7    0.934   -0.4939  \n",
      "8    1.000    0.0000  \n",
      "9    1.000    0.0000  \n"
     ]
    }
   ],
   "source": [
    "print(df.head(10))"
   ]
  },
  {
   "cell_type": "code",
   "execution_count": 15,
   "id": "6ef2eafb",
   "metadata": {
    "execution": {
     "iopub.execute_input": "2023-01-17T13:04:37.036821Z",
     "iopub.status.busy": "2023-01-17T13:04:37.036230Z",
     "iopub.status.idle": "2023-01-17T13:04:40.563974Z",
     "shell.execute_reply": "2023-01-17T13:04:40.562409Z"
    },
    "papermill": {
     "duration": 3.539152,
     "end_time": "2023-01-17T13:04:40.566794",
     "exception": false,
     "start_time": "2023-01-17T13:04:37.027642",
     "status": "completed"
    },
    "tags": []
   },
   "outputs": [],
   "source": [
    "df.to_csv('sentiment_analysis_amerix_annotated.csv')"
   ]
  },
  {
   "cell_type": "code",
   "execution_count": 16,
   "id": "c285a9a2",
   "metadata": {
    "execution": {
     "iopub.execute_input": "2023-01-17T13:04:40.585374Z",
     "iopub.status.busy": "2023-01-17T13:04:40.584248Z",
     "iopub.status.idle": "2023-01-17T13:04:40.591062Z",
     "shell.execute_reply": "2023-01-17T13:04:40.590182Z"
    },
    "papermill": {
     "duration": 0.018769,
     "end_time": "2023-01-17T13:04:40.593896",
     "exception": false,
     "start_time": "2023-01-17T13:04:40.575127",
     "status": "completed"
    },
    "tags": []
   },
   "outputs": [
    {
     "data": {
      "text/plain": [
       "Index(['Unnamed: 0', 'tweet_created_at', 'text', 'Positive', 'Negative',\n",
       "       'Neutral', 'Compound'],\n",
       "      dtype='object')"
      ]
     },
     "execution_count": 16,
     "metadata": {},
     "output_type": "execute_result"
    }
   ],
   "source": [
    "df.columns"
   ]
  },
  {
   "cell_type": "code",
   "execution_count": 17,
   "id": "df1a73a8",
   "metadata": {
    "execution": {
     "iopub.execute_input": "2023-01-17T13:04:40.611743Z",
     "iopub.status.busy": "2023-01-17T13:04:40.610200Z",
     "iopub.status.idle": "2023-01-17T13:04:40.765983Z",
     "shell.execute_reply": "2023-01-17T13:04:40.763862Z"
    },
    "papermill": {
     "duration": 0.16742,
     "end_time": "2023-01-17T13:04:40.769018",
     "exception": false,
     "start_time": "2023-01-17T13:04:40.601598",
     "status": "completed"
    },
    "tags": []
   },
   "outputs": [],
   "source": [
    "score = df[\"Compound\"].values\n",
    "sentiment = []\n",
    "for i in score:\n",
    "    if i >= 0.05 :\n",
    "        sentiment.append('Positive')\n",
    "    elif i <= -0.05 :\n",
    "        sentiment.append('Negative')\n",
    "    else:\n",
    "        sentiment.append('Neutral')\n",
    "df[\"Sentiment\"] = sentiment"
   ]
  },
  {
   "cell_type": "code",
   "execution_count": 18,
   "id": "a6a6d1b9",
   "metadata": {
    "execution": {
     "iopub.execute_input": "2023-01-17T13:04:40.785001Z",
     "iopub.status.busy": "2023-01-17T13:04:40.784558Z",
     "iopub.status.idle": "2023-01-17T13:04:40.795039Z",
     "shell.execute_reply": "2023-01-17T13:04:40.793984Z"
    },
    "papermill": {
     "duration": 0.022465,
     "end_time": "2023-01-17T13:04:40.798542",
     "exception": false,
     "start_time": "2023-01-17T13:04:40.776077",
     "status": "completed"
    },
    "tags": []
   },
   "outputs": [
    {
     "name": "stdout",
     "output_type": "stream",
     "text": [
      "  Unnamed: 0           tweet_created_at  \\\n",
      "0          0  2022-12-30 22:37:46+00:00   \n",
      "1          1  2022-12-30 22:30:58+00:00   \n",
      "2          2  2022-12-30 22:18:00+00:00   \n",
      "3          3  2022-12-30 20:42:54+00:00   \n",
      "4          4  2022-12-30 20:32:23+00:00   \n",
      "\n",
      "                                                text  Positive  Negative  \\\n",
      "0  Men who have refused to listen to/attend @amer...     0.000     0.073   \n",
      "1                       @OvOBrezzzy Take amerix next     0.000     0.000   \n",
      "2  @AyodeleYo11 @amerix Nah I’m good my masculini...     0.493     0.068   \n",
      "3  @Amerix_DontSimp There is no need for dating i...     0.000     0.180   \n",
      "4  @DyeAnna7 @amerix @kibe From what cos nothing ...     0.110     0.000   \n",
      "\n",
      "   Neutral  Compound Sentiment  \n",
      "0    0.927   -0.2960  Negative  \n",
      "1    1.000    0.0000   Neutral  \n",
      "2    0.439    0.8271  Positive  \n",
      "3    0.820   -0.2960  Negative  \n",
      "4    0.890    0.6908  Positive  \n"
     ]
    }
   ],
   "source": [
    "print(df.head())"
   ]
  },
  {
   "cell_type": "code",
   "execution_count": 19,
   "id": "015539eb",
   "metadata": {
    "execution": {
     "iopub.execute_input": "2023-01-17T13:04:40.815540Z",
     "iopub.status.busy": "2023-01-17T13:04:40.814324Z",
     "iopub.status.idle": "2023-01-17T13:04:40.840140Z",
     "shell.execute_reply": "2023-01-17T13:04:40.839237Z"
    },
    "papermill": {
     "duration": 0.036859,
     "end_time": "2023-01-17T13:04:40.842734",
     "exception": false,
     "start_time": "2023-01-17T13:04:40.805875",
     "status": "completed"
    },
    "tags": []
   },
   "outputs": [
    {
     "name": "stdout",
     "output_type": "stream",
     "text": [
      "Positive    206018\n",
      "Neutral     109820\n",
      "Negative     92899\n",
      "Name: Sentiment, dtype: int64\n"
     ]
    }
   ],
   "source": [
    "print(df[\"Sentiment\"].value_counts())"
   ]
  },
  {
   "cell_type": "code",
   "execution_count": 20,
   "id": "7b119b9a",
   "metadata": {
    "execution": {
     "iopub.execute_input": "2023-01-17T13:04:40.858978Z",
     "iopub.status.busy": "2023-01-17T13:04:40.858529Z",
     "iopub.status.idle": "2023-01-17T13:04:44.504257Z",
     "shell.execute_reply": "2023-01-17T13:04:44.503063Z"
    },
    "papermill": {
     "duration": 3.657736,
     "end_time": "2023-01-17T13:04:44.507695",
     "exception": false,
     "start_time": "2023-01-17T13:04:40.849959",
     "status": "completed"
    },
    "tags": []
   },
   "outputs": [],
   "source": [
    "df.to_csv('twitter_sentiment_analysis_masculinity_saturday_annotated_data.csv')"
   ]
  },
  {
   "cell_type": "code",
   "execution_count": 21,
   "id": "3c30d433",
   "metadata": {
    "execution": {
     "iopub.execute_input": "2023-01-17T13:04:44.525343Z",
     "iopub.status.busy": "2023-01-17T13:04:44.524902Z",
     "iopub.status.idle": "2023-01-17T13:04:57.859744Z",
     "shell.execute_reply": "2023-01-17T13:04:57.857820Z"
    },
    "papermill": {
     "duration": 13.347335,
     "end_time": "2023-01-17T13:04:57.862910",
     "exception": false,
     "start_time": "2023-01-17T13:04:44.515575",
     "status": "completed"
    },
    "tags": []
   },
   "outputs": [
    {
     "name": "stdout",
     "output_type": "stream",
     "text": [
      "tar: Removing leading `/' from member names\r\n",
      "tar: /kaggle/working: file changed as we read it\r\n"
     ]
    },
    {
     "data": {
      "text/html": [
       "<a href='twitter_sentiment_analysis_amerix.tar.gz' target='_blank'>twitter_sentiment_analysis_amerix.tar.gz</a><br>"
      ],
      "text/plain": [
       "/kaggle/working/twitter_sentiment_analysis_amerix.tar.gz"
      ]
     },
     "execution_count": 21,
     "metadata": {},
     "output_type": "execute_result"
    }
   ],
   "source": [
    "import os\n",
    "from IPython.display import FileLink\n",
    "\n",
    "os.chdir(r'/kaggle/working')\n",
    "\n",
    "!tar -czf twitter_sentiment_analysis_amerix.tar.gz /kaggle/working\n",
    "\n",
    "FileLink(r'twitter_sentiment_analysis_amerix.tar.gz')"
   ]
  },
  {
   "cell_type": "code",
   "execution_count": null,
   "id": "55c0aa73",
   "metadata": {
    "papermill": {
     "duration": 0.007804,
     "end_time": "2023-01-17T13:04:57.878762",
     "exception": false,
     "start_time": "2023-01-17T13:04:57.870958",
     "status": "completed"
    },
    "tags": []
   },
   "outputs": [],
   "source": []
  }
 ],
 "metadata": {
  "kernelspec": {
   "display_name": "Python 3",
   "language": "python",
   "name": "python3"
  },
  "language_info": {
   "codemirror_mode": {
    "name": "ipython",
    "version": 3
   },
   "file_extension": ".py",
   "mimetype": "text/x-python",
   "name": "python",
   "nbconvert_exporter": "python",
   "pygments_lexer": "ipython3",
   "version": "3.7.12"
  },
  "papermill": {
   "default_parameters": {},
   "duration": 686.104577,
   "end_time": "2023-01-17T13:04:59.012636",
   "environment_variables": {},
   "exception": null,
   "input_path": "__notebook__.ipynb",
   "output_path": "__notebook__.ipynb",
   "parameters": {},
   "start_time": "2023-01-17T12:53:32.908059",
   "version": "2.3.4"
  }
 },
 "nbformat": 4,
 "nbformat_minor": 5
}
