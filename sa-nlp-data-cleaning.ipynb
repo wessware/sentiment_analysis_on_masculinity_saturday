{
 "cells": [
  {
   "cell_type": "code",
   "execution_count": 1,
   "id": "5ecd118c",
   "metadata": {
    "_cell_guid": "b1076dfc-b9ad-4769-8c92-a6c4dae69d19",
    "_uuid": "8f2839f25d086af736a60e9eeb907d3b93b6e0e5",
    "execution": {
     "iopub.execute_input": "2023-01-18T06:59:04.386210Z",
     "iopub.status.busy": "2023-01-18T06:59:04.385694Z",
     "iopub.status.idle": "2023-01-18T06:59:05.820591Z",
     "shell.execute_reply": "2023-01-18T06:59:05.819398Z"
    },
    "papermill": {
     "duration": 1.446846,
     "end_time": "2023-01-18T06:59:05.823149",
     "exception": false,
     "start_time": "2023-01-18T06:59:04.376303",
     "status": "completed"
    },
    "tags": []
   },
   "outputs": [],
   "source": [
    "import pandas as pd\n",
    "\n",
    "import re\n",
    "import string\n",
    "\n",
    "import nltk\n",
    "from nltk import pos_tag, word_tokenize\n",
    "from nltk.stem import WordNetLemmatizer \n",
    "from nltk.stem.porter import PorterStemmer\n",
    "from nltk.corpus import stopwords"
   ]
  },
  {
   "cell_type": "code",
   "execution_count": 2,
   "id": "fbafd9a9",
   "metadata": {
    "execution": {
     "iopub.execute_input": "2023-01-18T06:59:05.837299Z",
     "iopub.status.busy": "2023-01-18T06:59:05.836441Z",
     "iopub.status.idle": "2023-01-18T06:59:07.576291Z",
     "shell.execute_reply": "2023-01-18T06:59:07.575325Z"
    },
    "papermill": {
     "duration": 1.749591,
     "end_time": "2023-01-18T06:59:07.578923",
     "exception": false,
     "start_time": "2023-01-18T06:59:05.829332",
     "status": "completed"
    },
    "tags": []
   },
   "outputs": [],
   "source": [
    "df = pd.read_csv('/kaggle/input/masculinity-saturday-twitter-sentiment-analysis/twitter_sentiment_analysis_masculinity_saturday_data_annotated.csv')"
   ]
  },
  {
   "cell_type": "code",
   "execution_count": 3,
   "id": "5a53722f",
   "metadata": {
    "execution": {
     "iopub.execute_input": "2023-01-18T06:59:07.592610Z",
     "iopub.status.busy": "2023-01-18T06:59:07.592177Z",
     "iopub.status.idle": "2023-01-18T06:59:07.606854Z",
     "shell.execute_reply": "2023-01-18T06:59:07.605560Z"
    },
    "papermill": {
     "duration": 0.024278,
     "end_time": "2023-01-18T06:59:07.609403",
     "exception": false,
     "start_time": "2023-01-18T06:59:07.585125",
     "status": "completed"
    },
    "tags": []
   },
   "outputs": [
    {
     "name": "stdout",
     "output_type": "stream",
     "text": [
      "   Unnamed: 0           tweet_created_at  \\\n",
      "0           0  2022-12-30 22:37:46+00:00   \n",
      "1           1  2022-12-30 22:30:58+00:00   \n",
      "2           2  2022-12-30 22:18:00+00:00   \n",
      "3           3  2022-12-30 20:42:54+00:00   \n",
      "4           4  2022-12-30 20:32:23+00:00   \n",
      "\n",
      "                                                text  Positive  Negative  \\\n",
      "0  Men who have refused to listen to/attend @amer...     0.000     0.073   \n",
      "1                       @OvOBrezzzy Take amerix next     0.000     0.000   \n",
      "2  @AyodeleYo11 @amerix Nah I’m good my masculini...     0.493     0.068   \n",
      "3  @Amerix_DontSimp There is no need for dating i...     0.000     0.180   \n",
      "4  @DyeAnna7 @amerix @kibe From what cos nothing ...     0.110     0.000   \n",
      "\n",
      "   Neutral  Compound Sentiment  \n",
      "0    0.927   -0.2960  Negative  \n",
      "1    1.000    0.0000   Neutral  \n",
      "2    0.439    0.8271  Positive  \n",
      "3    0.820   -0.2960  Negative  \n",
      "4    0.890    0.6908  Positive  \n"
     ]
    }
   ],
   "source": [
    "print(df.head())"
   ]
  },
  {
   "cell_type": "code",
   "execution_count": 4,
   "id": "d2c7169c",
   "metadata": {
    "execution": {
     "iopub.execute_input": "2023-01-18T06:59:07.624006Z",
     "iopub.status.busy": "2023-01-18T06:59:07.623458Z",
     "iopub.status.idle": "2023-01-18T06:59:07.699254Z",
     "shell.execute_reply": "2023-01-18T06:59:07.697895Z"
    },
    "papermill": {
     "duration": 0.085564,
     "end_time": "2023-01-18T06:59:07.701488",
     "exception": false,
     "start_time": "2023-01-18T06:59:07.615924",
     "status": "completed"
    },
    "tags": []
   },
   "outputs": [
    {
     "name": "stdout",
     "output_type": "stream",
     "text": [
      "<class 'pandas.core.frame.DataFrame'>\n",
      "RangeIndex: 248738 entries, 0 to 248737\n",
      "Data columns (total 8 columns):\n",
      " #   Column            Non-Null Count   Dtype  \n",
      "---  ------            --------------   -----  \n",
      " 0   Unnamed: 0        248738 non-null  int64  \n",
      " 1   tweet_created_at  248738 non-null  object \n",
      " 2   text              248738 non-null  object \n",
      " 3   Positive          248738 non-null  float64\n",
      " 4   Negative          248738 non-null  float64\n",
      " 5   Neutral           248738 non-null  float64\n",
      " 6   Compound          248738 non-null  float64\n",
      " 7   Sentiment         248738 non-null  object \n",
      "dtypes: float64(4), int64(1), object(3)\n",
      "memory usage: 15.2+ MB\n"
     ]
    }
   ],
   "source": [
    "df.info()"
   ]
  },
  {
   "cell_type": "code",
   "execution_count": 5,
   "id": "4498ee45",
   "metadata": {
    "execution": {
     "iopub.execute_input": "2023-01-18T06:59:07.717286Z",
     "iopub.status.busy": "2023-01-18T06:59:07.716132Z",
     "iopub.status.idle": "2023-01-18T06:59:07.743202Z",
     "shell.execute_reply": "2023-01-18T06:59:07.742011Z"
    },
    "papermill": {
     "duration": 0.037335,
     "end_time": "2023-01-18T06:59:07.745721",
     "exception": false,
     "start_time": "2023-01-18T06:59:07.708386",
     "status": "completed"
    },
    "tags": []
   },
   "outputs": [],
   "source": [
    "df = df.drop(columns=['Unnamed: 0', 'Positive', 'Negative',\n",
    "       'Neutral', 'Compound'])"
   ]
  },
  {
   "cell_type": "code",
   "execution_count": 6,
   "id": "52c973ab",
   "metadata": {
    "execution": {
     "iopub.execute_input": "2023-01-18T06:59:07.760592Z",
     "iopub.status.busy": "2023-01-18T06:59:07.760123Z",
     "iopub.status.idle": "2023-01-18T06:59:07.770255Z",
     "shell.execute_reply": "2023-01-18T06:59:07.769046Z"
    },
    "papermill": {
     "duration": 0.020071,
     "end_time": "2023-01-18T06:59:07.772413",
     "exception": false,
     "start_time": "2023-01-18T06:59:07.752342",
     "status": "completed"
    },
    "tags": []
   },
   "outputs": [
    {
     "data": {
      "text/plain": [
       "Index(['tweet_created_at', 'text', 'Sentiment'], dtype='object')"
      ]
     },
     "execution_count": 6,
     "metadata": {},
     "output_type": "execute_result"
    }
   ],
   "source": [
    "df.columns"
   ]
  },
  {
   "cell_type": "code",
   "execution_count": 7,
   "id": "2225d9af",
   "metadata": {
    "execution": {
     "iopub.execute_input": "2023-01-18T06:59:07.787236Z",
     "iopub.status.busy": "2023-01-18T06:59:07.786350Z",
     "iopub.status.idle": "2023-01-18T06:59:07.939153Z",
     "shell.execute_reply": "2023-01-18T06:59:07.938155Z"
    },
    "papermill": {
     "duration": 0.163068,
     "end_time": "2023-01-18T06:59:07.941934",
     "exception": false,
     "start_time": "2023-01-18T06:59:07.778866",
     "status": "completed"
    },
    "tags": []
   },
   "outputs": [],
   "source": [
    "df['tweet_created_at'] = df['tweet_created_at'].astype('datetime64[ns]')"
   ]
  },
  {
   "cell_type": "code",
   "execution_count": 8,
   "id": "b68f8c14",
   "metadata": {
    "execution": {
     "iopub.execute_input": "2023-01-18T06:59:07.959866Z",
     "iopub.status.busy": "2023-01-18T06:59:07.958531Z",
     "iopub.status.idle": "2023-01-18T06:59:08.015426Z",
     "shell.execute_reply": "2023-01-18T06:59:08.014465Z"
    },
    "papermill": {
     "duration": 0.069163,
     "end_time": "2023-01-18T06:59:08.017937",
     "exception": false,
     "start_time": "2023-01-18T06:59:07.948774",
     "status": "completed"
    },
    "tags": []
   },
   "outputs": [
    {
     "name": "stdout",
     "output_type": "stream",
     "text": [
      "<class 'pandas.core.frame.DataFrame'>\n",
      "RangeIndex: 248738 entries, 0 to 248737\n",
      "Data columns (total 3 columns):\n",
      " #   Column            Non-Null Count   Dtype         \n",
      "---  ------            --------------   -----         \n",
      " 0   tweet_created_at  248738 non-null  datetime64[ns]\n",
      " 1   text              248738 non-null  object        \n",
      " 2   Sentiment         248738 non-null  object        \n",
      "dtypes: datetime64[ns](1), object(2)\n",
      "memory usage: 5.7+ MB\n"
     ]
    }
   ],
   "source": [
    "df.info()"
   ]
  },
  {
   "cell_type": "code",
   "execution_count": 9,
   "id": "bb8ad54b",
   "metadata": {
    "execution": {
     "iopub.execute_input": "2023-01-18T06:59:08.033015Z",
     "iopub.status.busy": "2023-01-18T06:59:08.032364Z",
     "iopub.status.idle": "2023-01-18T06:59:08.040727Z",
     "shell.execute_reply": "2023-01-18T06:59:08.039776Z"
    },
    "papermill": {
     "duration": 0.018746,
     "end_time": "2023-01-18T06:59:08.043322",
     "exception": false,
     "start_time": "2023-01-18T06:59:08.024576",
     "status": "completed"
    },
    "tags": []
   },
   "outputs": [
    {
     "name": "stdout",
     "output_type": "stream",
     "text": [
      "     tweet_created_at                                               text  \\\n",
      "0 2022-12-30 22:37:46  Men who have refused to listen to/attend @amer...   \n",
      "1 2022-12-30 22:30:58                       @OvOBrezzzy Take amerix next   \n",
      "2 2022-12-30 22:18:00  @AyodeleYo11 @amerix Nah I’m good my masculini...   \n",
      "3 2022-12-30 20:42:54  @Amerix_DontSimp There is no need for dating i...   \n",
      "4 2022-12-30 20:32:23  @DyeAnna7 @amerix @kibe From what cos nothing ...   \n",
      "\n",
      "  Sentiment  \n",
      "0  Negative  \n",
      "1   Neutral  \n",
      "2  Positive  \n",
      "3  Negative  \n",
      "4  Positive  \n"
     ]
    }
   ],
   "source": [
    "print(df.head())"
   ]
  },
  {
   "cell_type": "code",
   "execution_count": 10,
   "id": "dc5fe47a",
   "metadata": {
    "execution": {
     "iopub.execute_input": "2023-01-18T06:59:08.061129Z",
     "iopub.status.busy": "2023-01-18T06:59:08.059028Z",
     "iopub.status.idle": "2023-01-18T06:59:09.614826Z",
     "shell.execute_reply": "2023-01-18T06:59:09.613876Z"
    },
    "papermill": {
     "duration": 1.567084,
     "end_time": "2023-01-18T06:59:09.617538",
     "exception": false,
     "start_time": "2023-01-18T06:59:08.050454",
     "status": "completed"
    },
    "tags": []
   },
   "outputs": [],
   "source": [
    "STOPWORDS = set(stopwords.words('english'))\n",
    "\n",
    "def cleaning_stopwords(text):\n",
    "    return \" \".join([word for word in str(text).split() if word not in STOPWORDS])\n",
    "\n",
    "df['text'] = df['text'].apply(lambda text: cleaning_stopwords(text))"
   ]
  },
  {
   "cell_type": "code",
   "execution_count": 11,
   "id": "37cfb1e5",
   "metadata": {
    "execution": {
     "iopub.execute_input": "2023-01-18T06:59:09.632924Z",
     "iopub.status.busy": "2023-01-18T06:59:09.632505Z",
     "iopub.status.idle": "2023-01-18T06:59:09.646706Z",
     "shell.execute_reply": "2023-01-18T06:59:09.645597Z"
    },
    "papermill": {
     "duration": 0.024858,
     "end_time": "2023-01-18T06:59:09.649058",
     "exception": false,
     "start_time": "2023-01-18T06:59:09.624200",
     "status": "completed"
    },
    "tags": []
   },
   "outputs": [
    {
     "data": {
      "text/html": [
       "<div>\n",
       "<style scoped>\n",
       "    .dataframe tbody tr th:only-of-type {\n",
       "        vertical-align: middle;\n",
       "    }\n",
       "\n",
       "    .dataframe tbody tr th {\n",
       "        vertical-align: top;\n",
       "    }\n",
       "\n",
       "    .dataframe thead th {\n",
       "        text-align: right;\n",
       "    }\n",
       "</style>\n",
       "<table border=\"1\" class=\"dataframe\">\n",
       "  <thead>\n",
       "    <tr style=\"text-align: right;\">\n",
       "      <th></th>\n",
       "      <th>tweet_created_at</th>\n",
       "      <th>text</th>\n",
       "      <th>Sentiment</th>\n",
       "    </tr>\n",
       "  </thead>\n",
       "  <tbody>\n",
       "    <tr>\n",
       "      <th>0</th>\n",
       "      <td>2022-12-30 22:37:46</td>\n",
       "      <td>Men refused listen to/attend @amerix classes m...</td>\n",
       "      <td>Negative</td>\n",
       "    </tr>\n",
       "    <tr>\n",
       "      <th>1</th>\n",
       "      <td>2022-12-30 22:30:58</td>\n",
       "      <td>@OvOBrezzzy Take amerix next</td>\n",
       "      <td>Neutral</td>\n",
       "    </tr>\n",
       "    <tr>\n",
       "      <th>2</th>\n",
       "      <td>2022-12-30 22:18:00</td>\n",
       "      <td>@AyodeleYo11 @amerix Nah I’m good masculinity,...</td>\n",
       "      <td>Positive</td>\n",
       "    </tr>\n",
       "    <tr>\n",
       "      <th>3</th>\n",
       "      <td>2022-12-30 20:42:54</td>\n",
       "      <td>@Amerix_DontSimp There need dating first place</td>\n",
       "      <td>Negative</td>\n",
       "    </tr>\n",
       "    <tr>\n",
       "      <th>4</th>\n",
       "      <td>2022-12-30 20:32:23</td>\n",
       "      <td>@DyeAnna7 @amerix @kibe From cos nothing chang...</td>\n",
       "      <td>Positive</td>\n",
       "    </tr>\n",
       "  </tbody>\n",
       "</table>\n",
       "</div>"
      ],
      "text/plain": [
       "     tweet_created_at                                               text  \\\n",
       "0 2022-12-30 22:37:46  Men refused listen to/attend @amerix classes m...   \n",
       "1 2022-12-30 22:30:58                       @OvOBrezzzy Take amerix next   \n",
       "2 2022-12-30 22:18:00  @AyodeleYo11 @amerix Nah I’m good masculinity,...   \n",
       "3 2022-12-30 20:42:54     @Amerix_DontSimp There need dating first place   \n",
       "4 2022-12-30 20:32:23  @DyeAnna7 @amerix @kibe From cos nothing chang...   \n",
       "\n",
       "  Sentiment  \n",
       "0  Negative  \n",
       "1   Neutral  \n",
       "2  Positive  \n",
       "3  Negative  \n",
       "4  Positive  "
      ]
     },
     "execution_count": 11,
     "metadata": {},
     "output_type": "execute_result"
    }
   ],
   "source": [
    "df.head()"
   ]
  },
  {
   "cell_type": "code",
   "execution_count": 12,
   "id": "290646bd",
   "metadata": {
    "execution": {
     "iopub.execute_input": "2023-01-18T06:59:09.665147Z",
     "iopub.status.busy": "2023-01-18T06:59:09.664226Z",
     "iopub.status.idle": "2023-01-18T06:59:11.803587Z",
     "shell.execute_reply": "2023-01-18T06:59:11.802439Z"
    },
    "papermill": {
     "duration": 2.150384,
     "end_time": "2023-01-18T06:59:11.806504",
     "exception": false,
     "start_time": "2023-01-18T06:59:09.656120",
     "status": "completed"
    },
    "tags": []
   },
   "outputs": [],
   "source": [
    "def cleaning_URLs(data):\n",
    "    return re.sub('((www\\.[^\\s]+)|(https?://[^\\s]+))',' ',data)\n",
    "df['text']= df['text'].apply(lambda x: cleaning_URLs(x))"
   ]
  },
  {
   "cell_type": "code",
   "execution_count": 13,
   "id": "3cda5f12",
   "metadata": {
    "execution": {
     "iopub.execute_input": "2023-01-18T06:59:11.823491Z",
     "iopub.status.busy": "2023-01-18T06:59:11.822526Z",
     "iopub.status.idle": "2023-01-18T06:59:11.835911Z",
     "shell.execute_reply": "2023-01-18T06:59:11.834781Z"
    },
    "papermill": {
     "duration": 0.024816,
     "end_time": "2023-01-18T06:59:11.838219",
     "exception": false,
     "start_time": "2023-01-18T06:59:11.813403",
     "status": "completed"
    },
    "tags": []
   },
   "outputs": [
    {
     "data": {
      "text/html": [
       "<div>\n",
       "<style scoped>\n",
       "    .dataframe tbody tr th:only-of-type {\n",
       "        vertical-align: middle;\n",
       "    }\n",
       "\n",
       "    .dataframe tbody tr th {\n",
       "        vertical-align: top;\n",
       "    }\n",
       "\n",
       "    .dataframe thead th {\n",
       "        text-align: right;\n",
       "    }\n",
       "</style>\n",
       "<table border=\"1\" class=\"dataframe\">\n",
       "  <thead>\n",
       "    <tr style=\"text-align: right;\">\n",
       "      <th></th>\n",
       "      <th>tweet_created_at</th>\n",
       "      <th>text</th>\n",
       "      <th>Sentiment</th>\n",
       "    </tr>\n",
       "  </thead>\n",
       "  <tbody>\n",
       "    <tr>\n",
       "      <th>0</th>\n",
       "      <td>2022-12-30 22:37:46</td>\n",
       "      <td>Men refused listen to/attend @amerix classes m...</td>\n",
       "      <td>Negative</td>\n",
       "    </tr>\n",
       "    <tr>\n",
       "      <th>1</th>\n",
       "      <td>2022-12-30 22:30:58</td>\n",
       "      <td>@OvOBrezzzy Take amerix next</td>\n",
       "      <td>Neutral</td>\n",
       "    </tr>\n",
       "    <tr>\n",
       "      <th>2</th>\n",
       "      <td>2022-12-30 22:18:00</td>\n",
       "      <td>@AyodeleYo11 @amerix Nah I’m good masculinity,...</td>\n",
       "      <td>Positive</td>\n",
       "    </tr>\n",
       "    <tr>\n",
       "      <th>3</th>\n",
       "      <td>2022-12-30 20:42:54</td>\n",
       "      <td>@Amerix_DontSimp There need dating first place</td>\n",
       "      <td>Negative</td>\n",
       "    </tr>\n",
       "    <tr>\n",
       "      <th>4</th>\n",
       "      <td>2022-12-30 20:32:23</td>\n",
       "      <td>@DyeAnna7 @amerix @kibe From cos nothing chang...</td>\n",
       "      <td>Positive</td>\n",
       "    </tr>\n",
       "  </tbody>\n",
       "</table>\n",
       "</div>"
      ],
      "text/plain": [
       "     tweet_created_at                                               text  \\\n",
       "0 2022-12-30 22:37:46  Men refused listen to/attend @amerix classes m...   \n",
       "1 2022-12-30 22:30:58                       @OvOBrezzzy Take amerix next   \n",
       "2 2022-12-30 22:18:00  @AyodeleYo11 @amerix Nah I’m good masculinity,...   \n",
       "3 2022-12-30 20:42:54     @Amerix_DontSimp There need dating first place   \n",
       "4 2022-12-30 20:32:23  @DyeAnna7 @amerix @kibe From cos nothing chang...   \n",
       "\n",
       "  Sentiment  \n",
       "0  Negative  \n",
       "1   Neutral  \n",
       "2  Positive  \n",
       "3  Negative  \n",
       "4  Positive  "
      ]
     },
     "execution_count": 13,
     "metadata": {},
     "output_type": "execute_result"
    }
   ],
   "source": [
    "df.head()"
   ]
  },
  {
   "cell_type": "code",
   "execution_count": 14,
   "id": "2f9f347d",
   "metadata": {
    "execution": {
     "iopub.execute_input": "2023-01-18T06:59:11.854658Z",
     "iopub.status.busy": "2023-01-18T06:59:11.853945Z",
     "iopub.status.idle": "2023-01-18T06:59:14.028878Z",
     "shell.execute_reply": "2023-01-18T06:59:14.027880Z"
    },
    "papermill": {
     "duration": 2.186024,
     "end_time": "2023-01-18T06:59:14.031646",
     "exception": false,
     "start_time": "2023-01-18T06:59:11.845622",
     "status": "completed"
    },
    "tags": []
   },
   "outputs": [],
   "source": [
    "english_punctuations = string.punctuation\n",
    "punctuations_list = english_punctuations\n",
    "def cleaning_punctuations(text):\n",
    "    translator = str.maketrans('', '', punctuations_list)\n",
    "    return text.translate(translator)\n",
    "df['text']= df['text'].apply(lambda x: cleaning_punctuations(x))"
   ]
  },
  {
   "cell_type": "code",
   "execution_count": 15,
   "id": "1c3c4d65",
   "metadata": {
    "execution": {
     "iopub.execute_input": "2023-01-18T06:59:14.047540Z",
     "iopub.status.busy": "2023-01-18T06:59:14.046630Z",
     "iopub.status.idle": "2023-01-18T06:59:14.058252Z",
     "shell.execute_reply": "2023-01-18T06:59:14.057247Z"
    },
    "papermill": {
     "duration": 0.022063,
     "end_time": "2023-01-18T06:59:14.060606",
     "exception": false,
     "start_time": "2023-01-18T06:59:14.038543",
     "status": "completed"
    },
    "tags": []
   },
   "outputs": [
    {
     "data": {
      "text/html": [
       "<div>\n",
       "<style scoped>\n",
       "    .dataframe tbody tr th:only-of-type {\n",
       "        vertical-align: middle;\n",
       "    }\n",
       "\n",
       "    .dataframe tbody tr th {\n",
       "        vertical-align: top;\n",
       "    }\n",
       "\n",
       "    .dataframe thead th {\n",
       "        text-align: right;\n",
       "    }\n",
       "</style>\n",
       "<table border=\"1\" class=\"dataframe\">\n",
       "  <thead>\n",
       "    <tr style=\"text-align: right;\">\n",
       "      <th></th>\n",
       "      <th>tweet_created_at</th>\n",
       "      <th>text</th>\n",
       "      <th>Sentiment</th>\n",
       "    </tr>\n",
       "  </thead>\n",
       "  <tbody>\n",
       "    <tr>\n",
       "      <th>0</th>\n",
       "      <td>2022-12-30 22:37:46</td>\n",
       "      <td>Men refused listen toattend amerix classes men...</td>\n",
       "      <td>Negative</td>\n",
       "    </tr>\n",
       "    <tr>\n",
       "      <th>1</th>\n",
       "      <td>2022-12-30 22:30:58</td>\n",
       "      <td>OvOBrezzzy Take amerix next</td>\n",
       "      <td>Neutral</td>\n",
       "    </tr>\n",
       "    <tr>\n",
       "      <th>2</th>\n",
       "      <td>2022-12-30 22:18:00</td>\n",
       "      <td>AyodeleYo11 amerix Nah I’m good masculinity he...</td>\n",
       "      <td>Positive</td>\n",
       "    </tr>\n",
       "    <tr>\n",
       "      <th>3</th>\n",
       "      <td>2022-12-30 20:42:54</td>\n",
       "      <td>AmerixDontSimp There need dating first place</td>\n",
       "      <td>Negative</td>\n",
       "    </tr>\n",
       "    <tr>\n",
       "      <th>4</th>\n",
       "      <td>2022-12-30 20:32:23</td>\n",
       "      <td>DyeAnna7 amerix kibe From cos nothing changing...</td>\n",
       "      <td>Positive</td>\n",
       "    </tr>\n",
       "  </tbody>\n",
       "</table>\n",
       "</div>"
      ],
      "text/plain": [
       "     tweet_created_at                                               text  \\\n",
       "0 2022-12-30 22:37:46  Men refused listen toattend amerix classes men...   \n",
       "1 2022-12-30 22:30:58                        OvOBrezzzy Take amerix next   \n",
       "2 2022-12-30 22:18:00  AyodeleYo11 amerix Nah I’m good masculinity he...   \n",
       "3 2022-12-30 20:42:54       AmerixDontSimp There need dating first place   \n",
       "4 2022-12-30 20:32:23  DyeAnna7 amerix kibe From cos nothing changing...   \n",
       "\n",
       "  Sentiment  \n",
       "0  Negative  \n",
       "1   Neutral  \n",
       "2  Positive  \n",
       "3  Negative  \n",
       "4  Positive  "
      ]
     },
     "execution_count": 15,
     "metadata": {},
     "output_type": "execute_result"
    }
   ],
   "source": [
    "df.head()"
   ]
  },
  {
   "cell_type": "code",
   "execution_count": 16,
   "id": "5cf9ba02",
   "metadata": {
    "execution": {
     "iopub.execute_input": "2023-01-18T06:59:14.076617Z",
     "iopub.status.busy": "2023-01-18T06:59:14.076208Z",
     "iopub.status.idle": "2023-01-18T06:59:15.209428Z",
     "shell.execute_reply": "2023-01-18T06:59:15.208222Z"
    },
    "papermill": {
     "duration": 1.144341,
     "end_time": "2023-01-18T06:59:15.212115",
     "exception": false,
     "start_time": "2023-01-18T06:59:14.067774",
     "status": "completed"
    },
    "tags": []
   },
   "outputs": [],
   "source": [
    "def cleaning_numbers(data):\n",
    "    return re.sub('[0-9]+','', data)\n",
    "df['text']= df['text'].apply(lambda x: cleaning_numbers(x))"
   ]
  },
  {
   "cell_type": "code",
   "execution_count": 17,
   "id": "05f3d7ef",
   "metadata": {
    "execution": {
     "iopub.execute_input": "2023-01-18T06:59:15.228804Z",
     "iopub.status.busy": "2023-01-18T06:59:15.228370Z",
     "iopub.status.idle": "2023-01-18T06:59:15.240565Z",
     "shell.execute_reply": "2023-01-18T06:59:15.239502Z"
    },
    "papermill": {
     "duration": 0.023431,
     "end_time": "2023-01-18T06:59:15.242975",
     "exception": false,
     "start_time": "2023-01-18T06:59:15.219544",
     "status": "completed"
    },
    "tags": []
   },
   "outputs": [
    {
     "data": {
      "text/html": [
       "<div>\n",
       "<style scoped>\n",
       "    .dataframe tbody tr th:only-of-type {\n",
       "        vertical-align: middle;\n",
       "    }\n",
       "\n",
       "    .dataframe tbody tr th {\n",
       "        vertical-align: top;\n",
       "    }\n",
       "\n",
       "    .dataframe thead th {\n",
       "        text-align: right;\n",
       "    }\n",
       "</style>\n",
       "<table border=\"1\" class=\"dataframe\">\n",
       "  <thead>\n",
       "    <tr style=\"text-align: right;\">\n",
       "      <th></th>\n",
       "      <th>tweet_created_at</th>\n",
       "      <th>text</th>\n",
       "      <th>Sentiment</th>\n",
       "    </tr>\n",
       "  </thead>\n",
       "  <tbody>\n",
       "    <tr>\n",
       "      <th>0</th>\n",
       "      <td>2022-12-30 22:37:46</td>\n",
       "      <td>Men refused listen toattend amerix classes men...</td>\n",
       "      <td>Negative</td>\n",
       "    </tr>\n",
       "    <tr>\n",
       "      <th>1</th>\n",
       "      <td>2022-12-30 22:30:58</td>\n",
       "      <td>OvOBrezzzy Take amerix next</td>\n",
       "      <td>Neutral</td>\n",
       "    </tr>\n",
       "    <tr>\n",
       "      <th>2</th>\n",
       "      <td>2022-12-30 22:18:00</td>\n",
       "      <td>AyodeleYo amerix Nah I’m good masculinity heal...</td>\n",
       "      <td>Positive</td>\n",
       "    </tr>\n",
       "    <tr>\n",
       "      <th>3</th>\n",
       "      <td>2022-12-30 20:42:54</td>\n",
       "      <td>AmerixDontSimp There need dating first place</td>\n",
       "      <td>Negative</td>\n",
       "    </tr>\n",
       "    <tr>\n",
       "      <th>4</th>\n",
       "      <td>2022-12-30 20:32:23</td>\n",
       "      <td>DyeAnna amerix kibe From cos nothing changing ...</td>\n",
       "      <td>Positive</td>\n",
       "    </tr>\n",
       "  </tbody>\n",
       "</table>\n",
       "</div>"
      ],
      "text/plain": [
       "     tweet_created_at                                               text  \\\n",
       "0 2022-12-30 22:37:46  Men refused listen toattend amerix classes men...   \n",
       "1 2022-12-30 22:30:58                        OvOBrezzzy Take amerix next   \n",
       "2 2022-12-30 22:18:00  AyodeleYo amerix Nah I’m good masculinity heal...   \n",
       "3 2022-12-30 20:42:54       AmerixDontSimp There need dating first place   \n",
       "4 2022-12-30 20:32:23  DyeAnna amerix kibe From cos nothing changing ...   \n",
       "\n",
       "  Sentiment  \n",
       "0  Negative  \n",
       "1   Neutral  \n",
       "2  Positive  \n",
       "3  Negative  \n",
       "4  Positive  "
      ]
     },
     "execution_count": 17,
     "metadata": {},
     "output_type": "execute_result"
    }
   ],
   "source": [
    "df.head()"
   ]
  },
  {
   "cell_type": "code",
   "execution_count": 18,
   "id": "1f1d00d6",
   "metadata": {
    "execution": {
     "iopub.execute_input": "2023-01-18T06:59:15.259147Z",
     "iopub.status.busy": "2023-01-18T06:59:15.258776Z",
     "iopub.status.idle": "2023-01-18T06:59:18.315288Z",
     "shell.execute_reply": "2023-01-18T06:59:18.314251Z"
    },
    "papermill": {
     "duration": 3.068086,
     "end_time": "2023-01-18T06:59:18.318276",
     "exception": false,
     "start_time": "2023-01-18T06:59:15.250190",
     "status": "completed"
    },
    "tags": []
   },
   "outputs": [],
   "source": [
    "def alphanumeral(text):\n",
    "    # convert to lowercase, susbstitute non alphanumerical characters with whitespaces\n",
    "    text = re.sub('<[^>]*>', '', text)\n",
    "    emoticons = re.findall('(?::|;|=)(?:-)?(?:\\)|\\(|D|P)', text)\n",
    "    text = (re.sub('[\\W]+', ' ', text.lower()) +\n",
    "            ' '.join(emoticons).replace('-', ''))\n",
    "    return text\n",
    "\n",
    "df['text']= df['text'].apply(lambda x: alphanumeral(x))"
   ]
  },
  {
   "cell_type": "code",
   "execution_count": 19,
   "id": "594ac69e",
   "metadata": {
    "execution": {
     "iopub.execute_input": "2023-01-18T06:59:18.334989Z",
     "iopub.status.busy": "2023-01-18T06:59:18.334573Z",
     "iopub.status.idle": "2023-01-18T06:59:18.348307Z",
     "shell.execute_reply": "2023-01-18T06:59:18.347233Z"
    },
    "papermill": {
     "duration": 0.024993,
     "end_time": "2023-01-18T06:59:18.350627",
     "exception": false,
     "start_time": "2023-01-18T06:59:18.325634",
     "status": "completed"
    },
    "tags": []
   },
   "outputs": [
    {
     "data": {
      "text/html": [
       "<div>\n",
       "<style scoped>\n",
       "    .dataframe tbody tr th:only-of-type {\n",
       "        vertical-align: middle;\n",
       "    }\n",
       "\n",
       "    .dataframe tbody tr th {\n",
       "        vertical-align: top;\n",
       "    }\n",
       "\n",
       "    .dataframe thead th {\n",
       "        text-align: right;\n",
       "    }\n",
       "</style>\n",
       "<table border=\"1\" class=\"dataframe\">\n",
       "  <thead>\n",
       "    <tr style=\"text-align: right;\">\n",
       "      <th></th>\n",
       "      <th>tweet_created_at</th>\n",
       "      <th>text</th>\n",
       "      <th>Sentiment</th>\n",
       "    </tr>\n",
       "  </thead>\n",
       "  <tbody>\n",
       "    <tr>\n",
       "      <th>0</th>\n",
       "      <td>2022-12-30 22:37:46</td>\n",
       "      <td>men refused listen toattend amerix classes men...</td>\n",
       "      <td>Negative</td>\n",
       "    </tr>\n",
       "    <tr>\n",
       "      <th>1</th>\n",
       "      <td>2022-12-30 22:30:58</td>\n",
       "      <td>ovobrezzzy take amerix next</td>\n",
       "      <td>Neutral</td>\n",
       "    </tr>\n",
       "    <tr>\n",
       "      <th>2</th>\n",
       "      <td>2022-12-30 22:18:00</td>\n",
       "      <td>ayodeleyo amerix nah i m good masculinity heal...</td>\n",
       "      <td>Positive</td>\n",
       "    </tr>\n",
       "    <tr>\n",
       "      <th>3</th>\n",
       "      <td>2022-12-30 20:42:54</td>\n",
       "      <td>amerixdontsimp there need dating first place</td>\n",
       "      <td>Negative</td>\n",
       "    </tr>\n",
       "    <tr>\n",
       "      <th>4</th>\n",
       "      <td>2022-12-30 20:32:23</td>\n",
       "      <td>dyeanna amerix kibe from cos nothing changing ...</td>\n",
       "      <td>Positive</td>\n",
       "    </tr>\n",
       "  </tbody>\n",
       "</table>\n",
       "</div>"
      ],
      "text/plain": [
       "     tweet_created_at                                               text  \\\n",
       "0 2022-12-30 22:37:46  men refused listen toattend amerix classes men...   \n",
       "1 2022-12-30 22:30:58                        ovobrezzzy take amerix next   \n",
       "2 2022-12-30 22:18:00  ayodeleyo amerix nah i m good masculinity heal...   \n",
       "3 2022-12-30 20:42:54       amerixdontsimp there need dating first place   \n",
       "4 2022-12-30 20:32:23  dyeanna amerix kibe from cos nothing changing ...   \n",
       "\n",
       "  Sentiment  \n",
       "0  Negative  \n",
       "1   Neutral  \n",
       "2  Positive  \n",
       "3  Negative  \n",
       "4  Positive  "
      ]
     },
     "execution_count": 19,
     "metadata": {},
     "output_type": "execute_result"
    }
   ],
   "source": [
    "df.head()"
   ]
  },
  {
   "cell_type": "code",
   "execution_count": 20,
   "id": "d257229f",
   "metadata": {
    "execution": {
     "iopub.execute_input": "2023-01-18T06:59:18.368073Z",
     "iopub.status.busy": "2023-01-18T06:59:18.367606Z",
     "iopub.status.idle": "2023-01-18T06:59:18.377592Z",
     "shell.execute_reply": "2023-01-18T06:59:18.376802Z"
    },
    "papermill": {
     "duration": 0.021559,
     "end_time": "2023-01-18T06:59:18.379850",
     "exception": false,
     "start_time": "2023-01-18T06:59:18.358291",
     "status": "completed"
    },
    "tags": []
   },
   "outputs": [],
   "source": [
    "df_1 = df.copy()"
   ]
  },
  {
   "cell_type": "code",
   "execution_count": 21,
   "id": "abd623e5",
   "metadata": {
    "execution": {
     "iopub.execute_input": "2023-01-18T06:59:18.397079Z",
     "iopub.status.busy": "2023-01-18T06:59:18.396627Z",
     "iopub.status.idle": "2023-01-18T06:59:18.534294Z",
     "shell.execute_reply": "2023-01-18T06:59:18.533303Z"
    },
    "papermill": {
     "duration": 0.149576,
     "end_time": "2023-01-18T06:59:18.537000",
     "exception": false,
     "start_time": "2023-01-18T06:59:18.387424",
     "status": "completed"
    },
    "tags": []
   },
   "outputs": [],
   "source": [
    "df.Sentiment=df.Sentiment.replace('Neutral',2)\n",
    "df.Sentiment=df.Sentiment.replace('Positive',1)\n",
    "df.Sentiment=df.Sentiment.replace('Negative',0)"
   ]
  },
  {
   "cell_type": "code",
   "execution_count": 22,
   "id": "e13899c5",
   "metadata": {
    "execution": {
     "iopub.execute_input": "2023-01-18T06:59:18.554432Z",
     "iopub.status.busy": "2023-01-18T06:59:18.554026Z",
     "iopub.status.idle": "2023-01-18T06:59:18.564789Z",
     "shell.execute_reply": "2023-01-18T06:59:18.563485Z"
    },
    "papermill": {
     "duration": 0.022394,
     "end_time": "2023-01-18T06:59:18.567060",
     "exception": false,
     "start_time": "2023-01-18T06:59:18.544666",
     "status": "completed"
    },
    "tags": []
   },
   "outputs": [
    {
     "data": {
      "text/html": [
       "<div>\n",
       "<style scoped>\n",
       "    .dataframe tbody tr th:only-of-type {\n",
       "        vertical-align: middle;\n",
       "    }\n",
       "\n",
       "    .dataframe tbody tr th {\n",
       "        vertical-align: top;\n",
       "    }\n",
       "\n",
       "    .dataframe thead th {\n",
       "        text-align: right;\n",
       "    }\n",
       "</style>\n",
       "<table border=\"1\" class=\"dataframe\">\n",
       "  <thead>\n",
       "    <tr style=\"text-align: right;\">\n",
       "      <th></th>\n",
       "      <th>tweet_created_at</th>\n",
       "      <th>text</th>\n",
       "      <th>Sentiment</th>\n",
       "    </tr>\n",
       "  </thead>\n",
       "  <tbody>\n",
       "    <tr>\n",
       "      <th>0</th>\n",
       "      <td>2022-12-30 22:37:46</td>\n",
       "      <td>men refused listen toattend amerix classes men...</td>\n",
       "      <td>0</td>\n",
       "    </tr>\n",
       "    <tr>\n",
       "      <th>1</th>\n",
       "      <td>2022-12-30 22:30:58</td>\n",
       "      <td>ovobrezzzy take amerix next</td>\n",
       "      <td>2</td>\n",
       "    </tr>\n",
       "    <tr>\n",
       "      <th>2</th>\n",
       "      <td>2022-12-30 22:18:00</td>\n",
       "      <td>ayodeleyo amerix nah i m good masculinity heal...</td>\n",
       "      <td>1</td>\n",
       "    </tr>\n",
       "    <tr>\n",
       "      <th>3</th>\n",
       "      <td>2022-12-30 20:42:54</td>\n",
       "      <td>amerixdontsimp there need dating first place</td>\n",
       "      <td>0</td>\n",
       "    </tr>\n",
       "    <tr>\n",
       "      <th>4</th>\n",
       "      <td>2022-12-30 20:32:23</td>\n",
       "      <td>dyeanna amerix kibe from cos nothing changing ...</td>\n",
       "      <td>1</td>\n",
       "    </tr>\n",
       "  </tbody>\n",
       "</table>\n",
       "</div>"
      ],
      "text/plain": [
       "     tweet_created_at                                               text  \\\n",
       "0 2022-12-30 22:37:46  men refused listen toattend amerix classes men...   \n",
       "1 2022-12-30 22:30:58                        ovobrezzzy take amerix next   \n",
       "2 2022-12-30 22:18:00  ayodeleyo amerix nah i m good masculinity heal...   \n",
       "3 2022-12-30 20:42:54       amerixdontsimp there need dating first place   \n",
       "4 2022-12-30 20:32:23  dyeanna amerix kibe from cos nothing changing ...   \n",
       "\n",
       "   Sentiment  \n",
       "0          0  \n",
       "1          2  \n",
       "2          1  \n",
       "3          0  \n",
       "4          1  "
      ]
     },
     "execution_count": 22,
     "metadata": {},
     "output_type": "execute_result"
    }
   ],
   "source": [
    "df.head()"
   ]
  },
  {
   "cell_type": "code",
   "execution_count": 23,
   "id": "457a47aa",
   "metadata": {
    "execution": {
     "iopub.execute_input": "2023-01-18T06:59:18.584677Z",
     "iopub.status.busy": "2023-01-18T06:59:18.583893Z",
     "iopub.status.idle": "2023-01-18T06:59:18.623287Z",
     "shell.execute_reply": "2023-01-18T06:59:18.621780Z"
    },
    "papermill": {
     "duration": 0.051043,
     "end_time": "2023-01-18T06:59:18.625941",
     "exception": false,
     "start_time": "2023-01-18T06:59:18.574898",
     "status": "completed"
    },
    "tags": []
   },
   "outputs": [
    {
     "name": "stdout",
     "output_type": "stream",
     "text": [
      "<class 'pandas.core.frame.DataFrame'>\n",
      "RangeIndex: 248738 entries, 0 to 248737\n",
      "Data columns (total 3 columns):\n",
      " #   Column            Non-Null Count   Dtype         \n",
      "---  ------            --------------   -----         \n",
      " 0   tweet_created_at  248738 non-null  datetime64[ns]\n",
      " 1   text              248738 non-null  object        \n",
      " 2   Sentiment         248738 non-null  int64         \n",
      "dtypes: datetime64[ns](1), int64(1), object(1)\n",
      "memory usage: 5.7+ MB\n"
     ]
    }
   ],
   "source": [
    "df.info()"
   ]
  },
  {
   "cell_type": "code",
   "execution_count": null,
   "id": "b43ae534",
   "metadata": {
    "papermill": {
     "duration": 0.007378,
     "end_time": "2023-01-18T06:59:18.641184",
     "exception": false,
     "start_time": "2023-01-18T06:59:18.633806",
     "status": "completed"
    },
    "tags": []
   },
   "outputs": [],
   "source": []
  }
 ],
 "metadata": {
  "kernelspec": {
   "display_name": "Python 3",
   "language": "python",
   "name": "python3"
  },
  "language_info": {
   "codemirror_mode": {
    "name": "ipython",
    "version": 3
   },
   "file_extension": ".py",
   "mimetype": "text/x-python",
   "name": "python",
   "nbconvert_exporter": "python",
   "pygments_lexer": "ipython3",
   "version": "3.7.12"
  },
  "papermill": {
   "default_parameters": {},
   "duration": 23.22055,
   "end_time": "2023-01-18T06:59:19.471527",
   "environment_variables": {},
   "exception": null,
   "input_path": "__notebook__.ipynb",
   "output_path": "__notebook__.ipynb",
   "parameters": {},
   "start_time": "2023-01-18T06:58:56.250977",
   "version": "2.3.4"
  }
 },
 "nbformat": 4,
 "nbformat_minor": 5
}
