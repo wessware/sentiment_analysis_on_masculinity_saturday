{
 "cells": [
  {
   "cell_type": "code",
   "execution_count": 1,
   "id": "64b8c1a2",
   "metadata": {
    "_cell_guid": "b1076dfc-b9ad-4769-8c92-a6c4dae69d19",
    "_uuid": "8f2839f25d086af736a60e9eeb907d3b93b6e0e5",
    "execution": {
     "iopub.execute_input": "2023-01-18T06:53:42.873637Z",
     "iopub.status.busy": "2023-01-18T06:53:42.873140Z",
     "iopub.status.idle": "2023-01-18T06:53:44.853308Z",
     "shell.execute_reply": "2023-01-18T06:53:44.851873Z"
    },
    "papermill": {
     "duration": 1.99124,
     "end_time": "2023-01-18T06:53:44.856407",
     "exception": false,
     "start_time": "2023-01-18T06:53:42.865167",
     "status": "completed"
    },
    "tags": []
   },
   "outputs": [],
   "source": [
    "import pandas as pd\n",
    "\n",
    "import re\n",
    "import string\n",
    "\n",
    "import nltk\n",
    "from nltk import pos_tag, word_tokenize\n",
    "from nltk.stem import WordNetLemmatizer \n",
    "from nltk.stem.porter import PorterStemmer\n",
    "from nltk.corpus import stopwords"
   ]
  },
  {
   "cell_type": "code",
   "execution_count": 2,
   "id": "bc683ac3",
   "metadata": {
    "execution": {
     "iopub.execute_input": "2023-01-18T06:53:44.868795Z",
     "iopub.status.busy": "2023-01-18T06:53:44.868313Z",
     "iopub.status.idle": "2023-01-18T06:53:46.840171Z",
     "shell.execute_reply": "2023-01-18T06:53:46.838211Z"
    },
    "papermill": {
     "duration": 1.982736,
     "end_time": "2023-01-18T06:53:46.844527",
     "exception": false,
     "start_time": "2023-01-18T06:53:44.861791",
     "status": "completed"
    },
    "tags": []
   },
   "outputs": [],
   "source": [
    "df = pd.read_csv('/kaggle/input/masculinity-saturday-twitter-sentiment-analysis/twitter_sentiment_analysis_masculinity_saturday_data_annotated.csv')"
   ]
  },
  {
   "cell_type": "code",
   "execution_count": 3,
   "id": "5e74bb23",
   "metadata": {
    "execution": {
     "iopub.execute_input": "2023-01-18T06:53:46.857413Z",
     "iopub.status.busy": "2023-01-18T06:53:46.856969Z",
     "iopub.status.idle": "2023-01-18T06:53:46.874094Z",
     "shell.execute_reply": "2023-01-18T06:53:46.872774Z"
    },
    "papermill": {
     "duration": 0.027006,
     "end_time": "2023-01-18T06:53:46.877089",
     "exception": false,
     "start_time": "2023-01-18T06:53:46.850083",
     "status": "completed"
    },
    "tags": []
   },
   "outputs": [
    {
     "name": "stdout",
     "output_type": "stream",
     "text": [
      "   Unnamed: 0           tweet_created_at  \\\n",
      "0           0  2022-12-30 22:37:46+00:00   \n",
      "1           1  2022-12-30 22:30:58+00:00   \n",
      "2           2  2022-12-30 22:18:00+00:00   \n",
      "3           3  2022-12-30 20:42:54+00:00   \n",
      "4           4  2022-12-30 20:32:23+00:00   \n",
      "\n",
      "                                                text  Positive  Negative  \\\n",
      "0  Men who have refused to listen to/attend @amer...     0.000     0.073   \n",
      "1                       @OvOBrezzzy Take amerix next     0.000     0.000   \n",
      "2  @AyodeleYo11 @amerix Nah I’m good my masculini...     0.493     0.068   \n",
      "3  @Amerix_DontSimp There is no need for dating i...     0.000     0.180   \n",
      "4  @DyeAnna7 @amerix @kibe From what cos nothing ...     0.110     0.000   \n",
      "\n",
      "   Neutral  Compound Sentiment  \n",
      "0    0.927   -0.2960  Negative  \n",
      "1    1.000    0.0000   Neutral  \n",
      "2    0.439    0.8271  Positive  \n",
      "3    0.820   -0.2960  Negative  \n",
      "4    0.890    0.6908  Positive  \n"
     ]
    }
   ],
   "source": [
    "print(df.head())"
   ]
  },
  {
   "cell_type": "code",
   "execution_count": 4,
   "id": "04674b99",
   "metadata": {
    "execution": {
     "iopub.execute_input": "2023-01-18T06:53:46.890779Z",
     "iopub.status.busy": "2023-01-18T06:53:46.889629Z",
     "iopub.status.idle": "2023-01-18T06:53:46.969058Z",
     "shell.execute_reply": "2023-01-18T06:53:46.967408Z"
    },
    "papermill": {
     "duration": 0.089255,
     "end_time": "2023-01-18T06:53:46.971982",
     "exception": false,
     "start_time": "2023-01-18T06:53:46.882727",
     "status": "completed"
    },
    "tags": []
   },
   "outputs": [
    {
     "name": "stdout",
     "output_type": "stream",
     "text": [
      "<class 'pandas.core.frame.DataFrame'>\n",
      "RangeIndex: 248738 entries, 0 to 248737\n",
      "Data columns (total 8 columns):\n",
      " #   Column            Non-Null Count   Dtype  \n",
      "---  ------            --------------   -----  \n",
      " 0   Unnamed: 0        248738 non-null  int64  \n",
      " 1   tweet_created_at  248738 non-null  object \n",
      " 2   text              248738 non-null  object \n",
      " 3   Positive          248738 non-null  float64\n",
      " 4   Negative          248738 non-null  float64\n",
      " 5   Neutral           248738 non-null  float64\n",
      " 6   Compound          248738 non-null  float64\n",
      " 7   Sentiment         248738 non-null  object \n",
      "dtypes: float64(4), int64(1), object(3)\n",
      "memory usage: 15.2+ MB\n"
     ]
    }
   ],
   "source": [
    "df.info()"
   ]
  },
  {
   "cell_type": "code",
   "execution_count": 5,
   "id": "299e6e09",
   "metadata": {
    "execution": {
     "iopub.execute_input": "2023-01-18T06:53:46.985142Z",
     "iopub.status.busy": "2023-01-18T06:53:46.984665Z",
     "iopub.status.idle": "2023-01-18T06:53:47.013254Z",
     "shell.execute_reply": "2023-01-18T06:53:47.011684Z"
    },
    "papermill": {
     "duration": 0.038909,
     "end_time": "2023-01-18T06:53:47.016652",
     "exception": false,
     "start_time": "2023-01-18T06:53:46.977743",
     "status": "completed"
    },
    "tags": []
   },
   "outputs": [],
   "source": [
    "df = df.drop(columns=['Unnamed: 0', 'Positive', 'Negative',\n",
    "       'Neutral', 'Compound'])"
   ]
  },
  {
   "cell_type": "code",
   "execution_count": 6,
   "id": "56473f86",
   "metadata": {
    "execution": {
     "iopub.execute_input": "2023-01-18T06:53:47.031100Z",
     "iopub.status.busy": "2023-01-18T06:53:47.029512Z",
     "iopub.status.idle": "2023-01-18T06:53:47.040889Z",
     "shell.execute_reply": "2023-01-18T06:53:47.039507Z"
    },
    "papermill": {
     "duration": 0.021449,
     "end_time": "2023-01-18T06:53:47.043554",
     "exception": false,
     "start_time": "2023-01-18T06:53:47.022105",
     "status": "completed"
    },
    "tags": []
   },
   "outputs": [
    {
     "data": {
      "text/plain": [
       "Index(['tweet_created_at', 'text', 'Sentiment'], dtype='object')"
      ]
     },
     "execution_count": 6,
     "metadata": {},
     "output_type": "execute_result"
    }
   ],
   "source": [
    "df.columns"
   ]
  },
  {
   "cell_type": "code",
   "execution_count": 7,
   "id": "d559e222",
   "metadata": {
    "execution": {
     "iopub.execute_input": "2023-01-18T06:53:47.058240Z",
     "iopub.status.busy": "2023-01-18T06:53:47.056864Z",
     "iopub.status.idle": "2023-01-18T06:53:47.206311Z",
     "shell.execute_reply": "2023-01-18T06:53:47.204817Z"
    },
    "papermill": {
     "duration": 0.159798,
     "end_time": "2023-01-18T06:53:47.209242",
     "exception": false,
     "start_time": "2023-01-18T06:53:47.049444",
     "status": "completed"
    },
    "tags": []
   },
   "outputs": [],
   "source": [
    "df['tweet_created_at'] = df['tweet_created_at'].astype('datetime64[ns]')"
   ]
  },
  {
   "cell_type": "code",
   "execution_count": 8,
   "id": "24b90644",
   "metadata": {
    "execution": {
     "iopub.execute_input": "2023-01-18T06:53:47.222447Z",
     "iopub.status.busy": "2023-01-18T06:53:47.221816Z",
     "iopub.status.idle": "2023-01-18T06:53:47.275471Z",
     "shell.execute_reply": "2023-01-18T06:53:47.273909Z"
    },
    "papermill": {
     "duration": 0.063843,
     "end_time": "2023-01-18T06:53:47.278456",
     "exception": false,
     "start_time": "2023-01-18T06:53:47.214613",
     "status": "completed"
    },
    "tags": []
   },
   "outputs": [
    {
     "name": "stdout",
     "output_type": "stream",
     "text": [
      "<class 'pandas.core.frame.DataFrame'>\n",
      "RangeIndex: 248738 entries, 0 to 248737\n",
      "Data columns (total 3 columns):\n",
      " #   Column            Non-Null Count   Dtype         \n",
      "---  ------            --------------   -----         \n",
      " 0   tweet_created_at  248738 non-null  datetime64[ns]\n",
      " 1   text              248738 non-null  object        \n",
      " 2   Sentiment         248738 non-null  object        \n",
      "dtypes: datetime64[ns](1), object(2)\n",
      "memory usage: 5.7+ MB\n"
     ]
    }
   ],
   "source": [
    "df.info()"
   ]
  },
  {
   "cell_type": "code",
   "execution_count": 9,
   "id": "05f00f1d",
   "metadata": {
    "execution": {
     "iopub.execute_input": "2023-01-18T06:53:47.292471Z",
     "iopub.status.busy": "2023-01-18T06:53:47.292066Z",
     "iopub.status.idle": "2023-01-18T06:53:47.301540Z",
     "shell.execute_reply": "2023-01-18T06:53:47.300346Z"
    },
    "papermill": {
     "duration": 0.020302,
     "end_time": "2023-01-18T06:53:47.304646",
     "exception": false,
     "start_time": "2023-01-18T06:53:47.284344",
     "status": "completed"
    },
    "tags": []
   },
   "outputs": [
    {
     "name": "stdout",
     "output_type": "stream",
     "text": [
      "     tweet_created_at                                               text  \\\n",
      "0 2022-12-30 22:37:46  Men who have refused to listen to/attend @amer...   \n",
      "1 2022-12-30 22:30:58                       @OvOBrezzzy Take amerix next   \n",
      "2 2022-12-30 22:18:00  @AyodeleYo11 @amerix Nah I’m good my masculini...   \n",
      "3 2022-12-30 20:42:54  @Amerix_DontSimp There is no need for dating i...   \n",
      "4 2022-12-30 20:32:23  @DyeAnna7 @amerix @kibe From what cos nothing ...   \n",
      "\n",
      "  Sentiment  \n",
      "0  Negative  \n",
      "1   Neutral  \n",
      "2  Positive  \n",
      "3  Negative  \n",
      "4  Positive  \n"
     ]
    }
   ],
   "source": [
    "print(df.head())"
   ]
  },
  {
   "cell_type": "code",
   "execution_count": 10,
   "id": "f486cf47",
   "metadata": {
    "execution": {
     "iopub.execute_input": "2023-01-18T06:53:47.320582Z",
     "iopub.status.busy": "2023-01-18T06:53:47.320115Z",
     "iopub.status.idle": "2023-01-18T06:53:49.006612Z",
     "shell.execute_reply": "2023-01-18T06:53:49.005376Z"
    },
    "papermill": {
     "duration": 1.69757,
     "end_time": "2023-01-18T06:53:49.009724",
     "exception": false,
     "start_time": "2023-01-18T06:53:47.312154",
     "status": "completed"
    },
    "tags": []
   },
   "outputs": [],
   "source": [
    "STOPWORDS = set(stopwords.words('english'))\n",
    "\n",
    "def cleaning_stopwords(text):\n",
    "    return \" \".join([word for word in str(text).split() if word not in STOPWORDS])\n",
    "\n",
    "df['text'] = df['text'].apply(lambda text: cleaning_stopwords(text))"
   ]
  },
  {
   "cell_type": "code",
   "execution_count": 11,
   "id": "68b0a4d6",
   "metadata": {
    "execution": {
     "iopub.execute_input": "2023-01-18T06:53:49.022748Z",
     "iopub.status.busy": "2023-01-18T06:53:49.022291Z",
     "iopub.status.idle": "2023-01-18T06:53:49.036555Z",
     "shell.execute_reply": "2023-01-18T06:53:49.035688Z"
    },
    "papermill": {
     "duration": 0.023613,
     "end_time": "2023-01-18T06:53:49.038944",
     "exception": false,
     "start_time": "2023-01-18T06:53:49.015331",
     "status": "completed"
    },
    "tags": []
   },
   "outputs": [
    {
     "data": {
      "text/html": [
       "<div>\n",
       "<style scoped>\n",
       "    .dataframe tbody tr th:only-of-type {\n",
       "        vertical-align: middle;\n",
       "    }\n",
       "\n",
       "    .dataframe tbody tr th {\n",
       "        vertical-align: top;\n",
       "    }\n",
       "\n",
       "    .dataframe thead th {\n",
       "        text-align: right;\n",
       "    }\n",
       "</style>\n",
       "<table border=\"1\" class=\"dataframe\">\n",
       "  <thead>\n",
       "    <tr style=\"text-align: right;\">\n",
       "      <th></th>\n",
       "      <th>tweet_created_at</th>\n",
       "      <th>text</th>\n",
       "      <th>Sentiment</th>\n",
       "    </tr>\n",
       "  </thead>\n",
       "  <tbody>\n",
       "    <tr>\n",
       "      <th>0</th>\n",
       "      <td>2022-12-30 22:37:46</td>\n",
       "      <td>Men refused listen to/attend @amerix classes m...</td>\n",
       "      <td>Negative</td>\n",
       "    </tr>\n",
       "    <tr>\n",
       "      <th>1</th>\n",
       "      <td>2022-12-30 22:30:58</td>\n",
       "      <td>@OvOBrezzzy Take amerix next</td>\n",
       "      <td>Neutral</td>\n",
       "    </tr>\n",
       "    <tr>\n",
       "      <th>2</th>\n",
       "      <td>2022-12-30 22:18:00</td>\n",
       "      <td>@AyodeleYo11 @amerix Nah I’m good masculinity,...</td>\n",
       "      <td>Positive</td>\n",
       "    </tr>\n",
       "    <tr>\n",
       "      <th>3</th>\n",
       "      <td>2022-12-30 20:42:54</td>\n",
       "      <td>@Amerix_DontSimp There need dating first place</td>\n",
       "      <td>Negative</td>\n",
       "    </tr>\n",
       "    <tr>\n",
       "      <th>4</th>\n",
       "      <td>2022-12-30 20:32:23</td>\n",
       "      <td>@DyeAnna7 @amerix @kibe From cos nothing chang...</td>\n",
       "      <td>Positive</td>\n",
       "    </tr>\n",
       "  </tbody>\n",
       "</table>\n",
       "</div>"
      ],
      "text/plain": [
       "     tweet_created_at                                               text  \\\n",
       "0 2022-12-30 22:37:46  Men refused listen to/attend @amerix classes m...   \n",
       "1 2022-12-30 22:30:58                       @OvOBrezzzy Take amerix next   \n",
       "2 2022-12-30 22:18:00  @AyodeleYo11 @amerix Nah I’m good masculinity,...   \n",
       "3 2022-12-30 20:42:54     @Amerix_DontSimp There need dating first place   \n",
       "4 2022-12-30 20:32:23  @DyeAnna7 @amerix @kibe From cos nothing chang...   \n",
       "\n",
       "  Sentiment  \n",
       "0  Negative  \n",
       "1   Neutral  \n",
       "2  Positive  \n",
       "3  Negative  \n",
       "4  Positive  "
      ]
     },
     "execution_count": 11,
     "metadata": {},
     "output_type": "execute_result"
    }
   ],
   "source": [
    "df.head()"
   ]
  },
  {
   "cell_type": "code",
   "execution_count": 12,
   "id": "310223e6",
   "metadata": {
    "execution": {
     "iopub.execute_input": "2023-01-18T06:53:49.053228Z",
     "iopub.status.busy": "2023-01-18T06:53:49.051893Z",
     "iopub.status.idle": "2023-01-18T06:53:51.352676Z",
     "shell.execute_reply": "2023-01-18T06:53:51.351264Z"
    },
    "papermill": {
     "duration": 2.311372,
     "end_time": "2023-01-18T06:53:51.356302",
     "exception": false,
     "start_time": "2023-01-18T06:53:49.044930",
     "status": "completed"
    },
    "tags": []
   },
   "outputs": [],
   "source": [
    "def cleaning_URLs(data):\n",
    "    return re.sub('((www\\.[^\\s]+)|(https?://[^\\s]+))',' ',data)\n",
    "df['text']= df['text'].apply(lambda x: cleaning_URLs(x))"
   ]
  },
  {
   "cell_type": "code",
   "execution_count": 13,
   "id": "c01fa2a5",
   "metadata": {
    "execution": {
     "iopub.execute_input": "2023-01-18T06:53:51.371561Z",
     "iopub.status.busy": "2023-01-18T06:53:51.371056Z",
     "iopub.status.idle": "2023-01-18T06:53:51.384630Z",
     "shell.execute_reply": "2023-01-18T06:53:51.383304Z"
    },
    "papermill": {
     "duration": 0.024511,
     "end_time": "2023-01-18T06:53:51.387174",
     "exception": false,
     "start_time": "2023-01-18T06:53:51.362663",
     "status": "completed"
    },
    "tags": []
   },
   "outputs": [
    {
     "data": {
      "text/html": [
       "<div>\n",
       "<style scoped>\n",
       "    .dataframe tbody tr th:only-of-type {\n",
       "        vertical-align: middle;\n",
       "    }\n",
       "\n",
       "    .dataframe tbody tr th {\n",
       "        vertical-align: top;\n",
       "    }\n",
       "\n",
       "    .dataframe thead th {\n",
       "        text-align: right;\n",
       "    }\n",
       "</style>\n",
       "<table border=\"1\" class=\"dataframe\">\n",
       "  <thead>\n",
       "    <tr style=\"text-align: right;\">\n",
       "      <th></th>\n",
       "      <th>tweet_created_at</th>\n",
       "      <th>text</th>\n",
       "      <th>Sentiment</th>\n",
       "    </tr>\n",
       "  </thead>\n",
       "  <tbody>\n",
       "    <tr>\n",
       "      <th>0</th>\n",
       "      <td>2022-12-30 22:37:46</td>\n",
       "      <td>Men refused listen to/attend @amerix classes m...</td>\n",
       "      <td>Negative</td>\n",
       "    </tr>\n",
       "    <tr>\n",
       "      <th>1</th>\n",
       "      <td>2022-12-30 22:30:58</td>\n",
       "      <td>@OvOBrezzzy Take amerix next</td>\n",
       "      <td>Neutral</td>\n",
       "    </tr>\n",
       "    <tr>\n",
       "      <th>2</th>\n",
       "      <td>2022-12-30 22:18:00</td>\n",
       "      <td>@AyodeleYo11 @amerix Nah I’m good masculinity,...</td>\n",
       "      <td>Positive</td>\n",
       "    </tr>\n",
       "    <tr>\n",
       "      <th>3</th>\n",
       "      <td>2022-12-30 20:42:54</td>\n",
       "      <td>@Amerix_DontSimp There need dating first place</td>\n",
       "      <td>Negative</td>\n",
       "    </tr>\n",
       "    <tr>\n",
       "      <th>4</th>\n",
       "      <td>2022-12-30 20:32:23</td>\n",
       "      <td>@DyeAnna7 @amerix @kibe From cos nothing chang...</td>\n",
       "      <td>Positive</td>\n",
       "    </tr>\n",
       "  </tbody>\n",
       "</table>\n",
       "</div>"
      ],
      "text/plain": [
       "     tweet_created_at                                               text  \\\n",
       "0 2022-12-30 22:37:46  Men refused listen to/attend @amerix classes m...   \n",
       "1 2022-12-30 22:30:58                       @OvOBrezzzy Take amerix next   \n",
       "2 2022-12-30 22:18:00  @AyodeleYo11 @amerix Nah I’m good masculinity,...   \n",
       "3 2022-12-30 20:42:54     @Amerix_DontSimp There need dating first place   \n",
       "4 2022-12-30 20:32:23  @DyeAnna7 @amerix @kibe From cos nothing chang...   \n",
       "\n",
       "  Sentiment  \n",
       "0  Negative  \n",
       "1   Neutral  \n",
       "2  Positive  \n",
       "3  Negative  \n",
       "4  Positive  "
      ]
     },
     "execution_count": 13,
     "metadata": {},
     "output_type": "execute_result"
    }
   ],
   "source": [
    "df.head()"
   ]
  },
  {
   "cell_type": "code",
   "execution_count": 14,
   "id": "aac0a014",
   "metadata": {
    "execution": {
     "iopub.execute_input": "2023-01-18T06:53:51.403148Z",
     "iopub.status.busy": "2023-01-18T06:53:51.402405Z",
     "iopub.status.idle": "2023-01-18T06:53:53.704018Z",
     "shell.execute_reply": "2023-01-18T06:53:53.702676Z"
    },
    "papermill": {
     "duration": 2.313647,
     "end_time": "2023-01-18T06:53:53.707095",
     "exception": false,
     "start_time": "2023-01-18T06:53:51.393448",
     "status": "completed"
    },
    "tags": []
   },
   "outputs": [],
   "source": [
    "english_punctuations = string.punctuation\n",
    "punctuations_list = english_punctuations\n",
    "def cleaning_punctuations(text):\n",
    "    translator = str.maketrans('', '', punctuations_list)\n",
    "    return text.translate(translator)\n",
    "df['text']= df['text'].apply(lambda x: cleaning_punctuations(x))"
   ]
  },
  {
   "cell_type": "code",
   "execution_count": 15,
   "id": "740cf712",
   "metadata": {
    "execution": {
     "iopub.execute_input": "2023-01-18T06:53:53.720618Z",
     "iopub.status.busy": "2023-01-18T06:53:53.720199Z",
     "iopub.status.idle": "2023-01-18T06:53:53.733303Z",
     "shell.execute_reply": "2023-01-18T06:53:53.731715Z"
    },
    "papermill": {
     "duration": 0.022925,
     "end_time": "2023-01-18T06:53:53.735943",
     "exception": false,
     "start_time": "2023-01-18T06:53:53.713018",
     "status": "completed"
    },
    "tags": []
   },
   "outputs": [
    {
     "data": {
      "text/html": [
       "<div>\n",
       "<style scoped>\n",
       "    .dataframe tbody tr th:only-of-type {\n",
       "        vertical-align: middle;\n",
       "    }\n",
       "\n",
       "    .dataframe tbody tr th {\n",
       "        vertical-align: top;\n",
       "    }\n",
       "\n",
       "    .dataframe thead th {\n",
       "        text-align: right;\n",
       "    }\n",
       "</style>\n",
       "<table border=\"1\" class=\"dataframe\">\n",
       "  <thead>\n",
       "    <tr style=\"text-align: right;\">\n",
       "      <th></th>\n",
       "      <th>tweet_created_at</th>\n",
       "      <th>text</th>\n",
       "      <th>Sentiment</th>\n",
       "    </tr>\n",
       "  </thead>\n",
       "  <tbody>\n",
       "    <tr>\n",
       "      <th>0</th>\n",
       "      <td>2022-12-30 22:37:46</td>\n",
       "      <td>Men refused listen toattend amerix classes men...</td>\n",
       "      <td>Negative</td>\n",
       "    </tr>\n",
       "    <tr>\n",
       "      <th>1</th>\n",
       "      <td>2022-12-30 22:30:58</td>\n",
       "      <td>OvOBrezzzy Take amerix next</td>\n",
       "      <td>Neutral</td>\n",
       "    </tr>\n",
       "    <tr>\n",
       "      <th>2</th>\n",
       "      <td>2022-12-30 22:18:00</td>\n",
       "      <td>AyodeleYo11 amerix Nah I’m good masculinity he...</td>\n",
       "      <td>Positive</td>\n",
       "    </tr>\n",
       "    <tr>\n",
       "      <th>3</th>\n",
       "      <td>2022-12-30 20:42:54</td>\n",
       "      <td>AmerixDontSimp There need dating first place</td>\n",
       "      <td>Negative</td>\n",
       "    </tr>\n",
       "    <tr>\n",
       "      <th>4</th>\n",
       "      <td>2022-12-30 20:32:23</td>\n",
       "      <td>DyeAnna7 amerix kibe From cos nothing changing...</td>\n",
       "      <td>Positive</td>\n",
       "    </tr>\n",
       "  </tbody>\n",
       "</table>\n",
       "</div>"
      ],
      "text/plain": [
       "     tweet_created_at                                               text  \\\n",
       "0 2022-12-30 22:37:46  Men refused listen toattend amerix classes men...   \n",
       "1 2022-12-30 22:30:58                        OvOBrezzzy Take amerix next   \n",
       "2 2022-12-30 22:18:00  AyodeleYo11 amerix Nah I’m good masculinity he...   \n",
       "3 2022-12-30 20:42:54       AmerixDontSimp There need dating first place   \n",
       "4 2022-12-30 20:32:23  DyeAnna7 amerix kibe From cos nothing changing...   \n",
       "\n",
       "  Sentiment  \n",
       "0  Negative  \n",
       "1   Neutral  \n",
       "2  Positive  \n",
       "3  Negative  \n",
       "4  Positive  "
      ]
     },
     "execution_count": 15,
     "metadata": {},
     "output_type": "execute_result"
    }
   ],
   "source": [
    "df.head()"
   ]
  },
  {
   "cell_type": "code",
   "execution_count": 16,
   "id": "c138abd2",
   "metadata": {
    "execution": {
     "iopub.execute_input": "2023-01-18T06:53:53.751745Z",
     "iopub.status.busy": "2023-01-18T06:53:53.751201Z",
     "iopub.status.idle": "2023-01-18T06:53:54.933840Z",
     "shell.execute_reply": "2023-01-18T06:53:54.932689Z"
    },
    "papermill": {
     "duration": 1.193307,
     "end_time": "2023-01-18T06:53:54.936590",
     "exception": false,
     "start_time": "2023-01-18T06:53:53.743283",
     "status": "completed"
    },
    "tags": []
   },
   "outputs": [],
   "source": [
    "def cleaning_numbers(data):\n",
    "    return re.sub('[0-9]+','', data)\n",
    "df['text']= df['text'].apply(lambda x: cleaning_numbers(x))"
   ]
  },
  {
   "cell_type": "code",
   "execution_count": 17,
   "id": "f454b09f",
   "metadata": {
    "execution": {
     "iopub.execute_input": "2023-01-18T06:53:54.950918Z",
     "iopub.status.busy": "2023-01-18T06:53:54.950431Z",
     "iopub.status.idle": "2023-01-18T06:53:54.963742Z",
     "shell.execute_reply": "2023-01-18T06:53:54.962558Z"
    },
    "papermill": {
     "duration": 0.023359,
     "end_time": "2023-01-18T06:53:54.966357",
     "exception": false,
     "start_time": "2023-01-18T06:53:54.942998",
     "status": "completed"
    },
    "tags": []
   },
   "outputs": [
    {
     "data": {
      "text/html": [
       "<div>\n",
       "<style scoped>\n",
       "    .dataframe tbody tr th:only-of-type {\n",
       "        vertical-align: middle;\n",
       "    }\n",
       "\n",
       "    .dataframe tbody tr th {\n",
       "        vertical-align: top;\n",
       "    }\n",
       "\n",
       "    .dataframe thead th {\n",
       "        text-align: right;\n",
       "    }\n",
       "</style>\n",
       "<table border=\"1\" class=\"dataframe\">\n",
       "  <thead>\n",
       "    <tr style=\"text-align: right;\">\n",
       "      <th></th>\n",
       "      <th>tweet_created_at</th>\n",
       "      <th>text</th>\n",
       "      <th>Sentiment</th>\n",
       "    </tr>\n",
       "  </thead>\n",
       "  <tbody>\n",
       "    <tr>\n",
       "      <th>0</th>\n",
       "      <td>2022-12-30 22:37:46</td>\n",
       "      <td>Men refused listen toattend amerix classes men...</td>\n",
       "      <td>Negative</td>\n",
       "    </tr>\n",
       "    <tr>\n",
       "      <th>1</th>\n",
       "      <td>2022-12-30 22:30:58</td>\n",
       "      <td>OvOBrezzzy Take amerix next</td>\n",
       "      <td>Neutral</td>\n",
       "    </tr>\n",
       "    <tr>\n",
       "      <th>2</th>\n",
       "      <td>2022-12-30 22:18:00</td>\n",
       "      <td>AyodeleYo amerix Nah I’m good masculinity heal...</td>\n",
       "      <td>Positive</td>\n",
       "    </tr>\n",
       "    <tr>\n",
       "      <th>3</th>\n",
       "      <td>2022-12-30 20:42:54</td>\n",
       "      <td>AmerixDontSimp There need dating first place</td>\n",
       "      <td>Negative</td>\n",
       "    </tr>\n",
       "    <tr>\n",
       "      <th>4</th>\n",
       "      <td>2022-12-30 20:32:23</td>\n",
       "      <td>DyeAnna amerix kibe From cos nothing changing ...</td>\n",
       "      <td>Positive</td>\n",
       "    </tr>\n",
       "  </tbody>\n",
       "</table>\n",
       "</div>"
      ],
      "text/plain": [
       "     tweet_created_at                                               text  \\\n",
       "0 2022-12-30 22:37:46  Men refused listen toattend amerix classes men...   \n",
       "1 2022-12-30 22:30:58                        OvOBrezzzy Take amerix next   \n",
       "2 2022-12-30 22:18:00  AyodeleYo amerix Nah I’m good masculinity heal...   \n",
       "3 2022-12-30 20:42:54       AmerixDontSimp There need dating first place   \n",
       "4 2022-12-30 20:32:23  DyeAnna amerix kibe From cos nothing changing ...   \n",
       "\n",
       "  Sentiment  \n",
       "0  Negative  \n",
       "1   Neutral  \n",
       "2  Positive  \n",
       "3  Negative  \n",
       "4  Positive  "
      ]
     },
     "execution_count": 17,
     "metadata": {},
     "output_type": "execute_result"
    }
   ],
   "source": [
    "df.head()"
   ]
  },
  {
   "cell_type": "code",
   "execution_count": null,
   "id": "991e4838",
   "metadata": {
    "papermill": {
     "duration": 0.00593,
     "end_time": "2023-01-18T06:53:54.978629",
     "exception": false,
     "start_time": "2023-01-18T06:53:54.972699",
     "status": "completed"
    },
    "tags": []
   },
   "outputs": [],
   "source": []
  }
 ],
 "metadata": {
  "kernelspec": {
   "display_name": "Python 3",
   "language": "python",
   "name": "python3"
  },
  "language_info": {
   "codemirror_mode": {
    "name": "ipython",
    "version": 3
   },
   "file_extension": ".py",
   "mimetype": "text/x-python",
   "name": "python",
   "nbconvert_exporter": "python",
   "pygments_lexer": "ipython3",
   "version": "3.7.12"
  },
  "papermill": {
   "default_parameters": {},
   "duration": 22.726352,
   "end_time": "2023-01-18T06:53:55.909139",
   "environment_variables": {},
   "exception": null,
   "input_path": "__notebook__.ipynb",
   "output_path": "__notebook__.ipynb",
   "parameters": {},
   "start_time": "2023-01-18T06:53:33.182787",
   "version": "2.3.4"
  }
 },
 "nbformat": 4,
 "nbformat_minor": 5
}
