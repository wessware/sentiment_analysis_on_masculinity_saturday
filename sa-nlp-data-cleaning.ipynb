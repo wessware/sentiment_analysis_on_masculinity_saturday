{
 "cells": [
  {
   "cell_type": "code",
   "execution_count": 1,
   "id": "42579486",
   "metadata": {
    "_cell_guid": "b1076dfc-b9ad-4769-8c92-a6c4dae69d19",
    "_uuid": "8f2839f25d086af736a60e9eeb907d3b93b6e0e5",
    "execution": {
     "iopub.execute_input": "2023-01-18T07:07:27.694322Z",
     "iopub.status.busy": "2023-01-18T07:07:27.693439Z",
     "iopub.status.idle": "2023-01-18T07:07:29.649519Z",
     "shell.execute_reply": "2023-01-18T07:07:29.648183Z"
    },
    "papermill": {
     "duration": 1.968763,
     "end_time": "2023-01-18T07:07:29.652663",
     "exception": false,
     "start_time": "2023-01-18T07:07:27.683900",
     "status": "completed"
    },
    "tags": []
   },
   "outputs": [],
   "source": [
    "import pandas as pd\n",
    "\n",
    "import re\n",
    "import string\n",
    "\n",
    "import nltk\n",
    "from nltk import pos_tag, word_tokenize\n",
    "from nltk.stem import WordNetLemmatizer \n",
    "from nltk.stem.porter import PorterStemmer\n",
    "from nltk.corpus import stopwords"
   ]
  },
  {
   "cell_type": "code",
   "execution_count": 2,
   "id": "e5a5b5db",
   "metadata": {
    "execution": {
     "iopub.execute_input": "2023-01-18T07:07:29.669090Z",
     "iopub.status.busy": "2023-01-18T07:07:29.667799Z",
     "iopub.status.idle": "2023-01-18T07:07:31.623869Z",
     "shell.execute_reply": "2023-01-18T07:07:31.622420Z"
    },
    "papermill": {
     "duration": 1.967296,
     "end_time": "2023-01-18T07:07:31.626746",
     "exception": false,
     "start_time": "2023-01-18T07:07:29.659450",
     "status": "completed"
    },
    "tags": []
   },
   "outputs": [],
   "source": [
    "df = pd.read_csv('/kaggle/input/masculinity-saturday-twitter-sentiment-analysis/twitter_sentiment_analysis_masculinity_saturday_data_annotated.csv')"
   ]
  },
  {
   "cell_type": "code",
   "execution_count": 3,
   "id": "02a20858",
   "metadata": {
    "execution": {
     "iopub.execute_input": "2023-01-18T07:07:31.641483Z",
     "iopub.status.busy": "2023-01-18T07:07:31.641052Z",
     "iopub.status.idle": "2023-01-18T07:07:31.657601Z",
     "shell.execute_reply": "2023-01-18T07:07:31.656407Z"
    },
    "papermill": {
     "duration": 0.028189,
     "end_time": "2023-01-18T07:07:31.661305",
     "exception": false,
     "start_time": "2023-01-18T07:07:31.633116",
     "status": "completed"
    },
    "tags": []
   },
   "outputs": [
    {
     "name": "stdout",
     "output_type": "stream",
     "text": [
      "   Unnamed: 0           tweet_created_at  \\\n",
      "0           0  2022-12-30 22:37:46+00:00   \n",
      "1           1  2022-12-30 22:30:58+00:00   \n",
      "2           2  2022-12-30 22:18:00+00:00   \n",
      "3           3  2022-12-30 20:42:54+00:00   \n",
      "4           4  2022-12-30 20:32:23+00:00   \n",
      "\n",
      "                                                text  Positive  Negative  \\\n",
      "0  Men who have refused to listen to/attend @amer...     0.000     0.073   \n",
      "1                       @OvOBrezzzy Take amerix next     0.000     0.000   \n",
      "2  @AyodeleYo11 @amerix Nah I’m good my masculini...     0.493     0.068   \n",
      "3  @Amerix_DontSimp There is no need for dating i...     0.000     0.180   \n",
      "4  @DyeAnna7 @amerix @kibe From what cos nothing ...     0.110     0.000   \n",
      "\n",
      "   Neutral  Compound Sentiment  \n",
      "0    0.927   -0.2960  Negative  \n",
      "1    1.000    0.0000   Neutral  \n",
      "2    0.439    0.8271  Positive  \n",
      "3    0.820   -0.2960  Negative  \n",
      "4    0.890    0.6908  Positive  \n"
     ]
    }
   ],
   "source": [
    "print(df.head())"
   ]
  },
  {
   "cell_type": "code",
   "execution_count": 4,
   "id": "44d2fbbb",
   "metadata": {
    "execution": {
     "iopub.execute_input": "2023-01-18T07:07:31.678026Z",
     "iopub.status.busy": "2023-01-18T07:07:31.677182Z",
     "iopub.status.idle": "2023-01-18T07:07:31.756857Z",
     "shell.execute_reply": "2023-01-18T07:07:31.755998Z"
    },
    "papermill": {
     "duration": 0.090661,
     "end_time": "2023-01-18T07:07:31.759658",
     "exception": false,
     "start_time": "2023-01-18T07:07:31.668997",
     "status": "completed"
    },
    "tags": []
   },
   "outputs": [
    {
     "name": "stdout",
     "output_type": "stream",
     "text": [
      "<class 'pandas.core.frame.DataFrame'>\n",
      "RangeIndex: 248738 entries, 0 to 248737\n",
      "Data columns (total 8 columns):\n",
      " #   Column            Non-Null Count   Dtype  \n",
      "---  ------            --------------   -----  \n",
      " 0   Unnamed: 0        248738 non-null  int64  \n",
      " 1   tweet_created_at  248738 non-null  object \n",
      " 2   text              248738 non-null  object \n",
      " 3   Positive          248738 non-null  float64\n",
      " 4   Negative          248738 non-null  float64\n",
      " 5   Neutral           248738 non-null  float64\n",
      " 6   Compound          248738 non-null  float64\n",
      " 7   Sentiment         248738 non-null  object \n",
      "dtypes: float64(4), int64(1), object(3)\n",
      "memory usage: 15.2+ MB\n"
     ]
    }
   ],
   "source": [
    "df.info()"
   ]
  },
  {
   "cell_type": "code",
   "execution_count": 5,
   "id": "c9c89806",
   "metadata": {
    "execution": {
     "iopub.execute_input": "2023-01-18T07:07:31.775335Z",
     "iopub.status.busy": "2023-01-18T07:07:31.774630Z",
     "iopub.status.idle": "2023-01-18T07:07:31.802437Z",
     "shell.execute_reply": "2023-01-18T07:07:31.801458Z"
    },
    "papermill": {
     "duration": 0.038958,
     "end_time": "2023-01-18T07:07:31.805323",
     "exception": false,
     "start_time": "2023-01-18T07:07:31.766365",
     "status": "completed"
    },
    "tags": []
   },
   "outputs": [],
   "source": [
    "df = df.drop(columns=['Unnamed: 0', 'Positive', 'Negative',\n",
    "       'Neutral', 'Compound'])"
   ]
  },
  {
   "cell_type": "code",
   "execution_count": 6,
   "id": "cacf4dca",
   "metadata": {
    "execution": {
     "iopub.execute_input": "2023-01-18T07:07:31.821325Z",
     "iopub.status.busy": "2023-01-18T07:07:31.820867Z",
     "iopub.status.idle": "2023-01-18T07:07:31.830287Z",
     "shell.execute_reply": "2023-01-18T07:07:31.829165Z"
    },
    "papermill": {
     "duration": 0.020664,
     "end_time": "2023-01-18T07:07:31.832569",
     "exception": false,
     "start_time": "2023-01-18T07:07:31.811905",
     "status": "completed"
    },
    "tags": []
   },
   "outputs": [
    {
     "data": {
      "text/plain": [
       "Index(['tweet_created_at', 'text', 'Sentiment'], dtype='object')"
      ]
     },
     "execution_count": 6,
     "metadata": {},
     "output_type": "execute_result"
    }
   ],
   "source": [
    "df.columns"
   ]
  },
  {
   "cell_type": "code",
   "execution_count": 7,
   "id": "8ff43681",
   "metadata": {
    "execution": {
     "iopub.execute_input": "2023-01-18T07:07:31.848816Z",
     "iopub.status.busy": "2023-01-18T07:07:31.847498Z",
     "iopub.status.idle": "2023-01-18T07:07:31.992281Z",
     "shell.execute_reply": "2023-01-18T07:07:31.990950Z"
    },
    "papermill": {
     "duration": 0.155688,
     "end_time": "2023-01-18T07:07:31.995090",
     "exception": false,
     "start_time": "2023-01-18T07:07:31.839402",
     "status": "completed"
    },
    "tags": []
   },
   "outputs": [],
   "source": [
    "df['tweet_created_at'] = df['tweet_created_at'].astype('datetime64[ns]')"
   ]
  },
  {
   "cell_type": "code",
   "execution_count": 8,
   "id": "31a8601a",
   "metadata": {
    "execution": {
     "iopub.execute_input": "2023-01-18T07:07:32.012971Z",
     "iopub.status.busy": "2023-01-18T07:07:32.012515Z",
     "iopub.status.idle": "2023-01-18T07:07:32.064011Z",
     "shell.execute_reply": "2023-01-18T07:07:32.062595Z"
    },
    "papermill": {
     "duration": 0.064547,
     "end_time": "2023-01-18T07:07:32.067297",
     "exception": false,
     "start_time": "2023-01-18T07:07:32.002750",
     "status": "completed"
    },
    "tags": []
   },
   "outputs": [
    {
     "name": "stdout",
     "output_type": "stream",
     "text": [
      "<class 'pandas.core.frame.DataFrame'>\n",
      "RangeIndex: 248738 entries, 0 to 248737\n",
      "Data columns (total 3 columns):\n",
      " #   Column            Non-Null Count   Dtype         \n",
      "---  ------            --------------   -----         \n",
      " 0   tweet_created_at  248738 non-null  datetime64[ns]\n",
      " 1   text              248738 non-null  object        \n",
      " 2   Sentiment         248738 non-null  object        \n",
      "dtypes: datetime64[ns](1), object(2)\n",
      "memory usage: 5.7+ MB\n"
     ]
    }
   ],
   "source": [
    "df.info()"
   ]
  },
  {
   "cell_type": "code",
   "execution_count": 9,
   "id": "e371e381",
   "metadata": {
    "execution": {
     "iopub.execute_input": "2023-01-18T07:07:32.083389Z",
     "iopub.status.busy": "2023-01-18T07:07:32.082545Z",
     "iopub.status.idle": "2023-01-18T07:07:32.092647Z",
     "shell.execute_reply": "2023-01-18T07:07:32.091022Z"
    },
    "papermill": {
     "duration": 0.020704,
     "end_time": "2023-01-18T07:07:32.095156",
     "exception": false,
     "start_time": "2023-01-18T07:07:32.074452",
     "status": "completed"
    },
    "tags": []
   },
   "outputs": [
    {
     "name": "stdout",
     "output_type": "stream",
     "text": [
      "     tweet_created_at                                               text  \\\n",
      "0 2022-12-30 22:37:46  Men who have refused to listen to/attend @amer...   \n",
      "1 2022-12-30 22:30:58                       @OvOBrezzzy Take amerix next   \n",
      "2 2022-12-30 22:18:00  @AyodeleYo11 @amerix Nah I’m good my masculini...   \n",
      "3 2022-12-30 20:42:54  @Amerix_DontSimp There is no need for dating i...   \n",
      "4 2022-12-30 20:32:23  @DyeAnna7 @amerix @kibe From what cos nothing ...   \n",
      "\n",
      "  Sentiment  \n",
      "0  Negative  \n",
      "1   Neutral  \n",
      "2  Positive  \n",
      "3  Negative  \n",
      "4  Positive  \n"
     ]
    }
   ],
   "source": [
    "print(df.head())"
   ]
  },
  {
   "cell_type": "code",
   "execution_count": 10,
   "id": "512dbfa1",
   "metadata": {
    "execution": {
     "iopub.execute_input": "2023-01-18T07:07:32.111737Z",
     "iopub.status.busy": "2023-01-18T07:07:32.110464Z",
     "iopub.status.idle": "2023-01-18T07:07:33.660382Z",
     "shell.execute_reply": "2023-01-18T07:07:33.659133Z"
    },
    "papermill": {
     "duration": 1.561008,
     "end_time": "2023-01-18T07:07:33.663411",
     "exception": false,
     "start_time": "2023-01-18T07:07:32.102403",
     "status": "completed"
    },
    "tags": []
   },
   "outputs": [],
   "source": [
    "STOPWORDS = set(stopwords.words('english'))\n",
    "\n",
    "def cleaning_stopwords(text):\n",
    "    return \" \".join([word for word in str(text).split() if word not in STOPWORDS])\n",
    "\n",
    "df['text'] = df['text'].apply(lambda text: cleaning_stopwords(text))"
   ]
  },
  {
   "cell_type": "code",
   "execution_count": 11,
   "id": "0e8e7da8",
   "metadata": {
    "execution": {
     "iopub.execute_input": "2023-01-18T07:07:33.678853Z",
     "iopub.status.busy": "2023-01-18T07:07:33.678441Z",
     "iopub.status.idle": "2023-01-18T07:07:33.692649Z",
     "shell.execute_reply": "2023-01-18T07:07:33.691440Z"
    },
    "papermill": {
     "duration": 0.024814,
     "end_time": "2023-01-18T07:07:33.695204",
     "exception": false,
     "start_time": "2023-01-18T07:07:33.670390",
     "status": "completed"
    },
    "tags": []
   },
   "outputs": [
    {
     "data": {
      "text/html": [
       "<div>\n",
       "<style scoped>\n",
       "    .dataframe tbody tr th:only-of-type {\n",
       "        vertical-align: middle;\n",
       "    }\n",
       "\n",
       "    .dataframe tbody tr th {\n",
       "        vertical-align: top;\n",
       "    }\n",
       "\n",
       "    .dataframe thead th {\n",
       "        text-align: right;\n",
       "    }\n",
       "</style>\n",
       "<table border=\"1\" class=\"dataframe\">\n",
       "  <thead>\n",
       "    <tr style=\"text-align: right;\">\n",
       "      <th></th>\n",
       "      <th>tweet_created_at</th>\n",
       "      <th>text</th>\n",
       "      <th>Sentiment</th>\n",
       "    </tr>\n",
       "  </thead>\n",
       "  <tbody>\n",
       "    <tr>\n",
       "      <th>0</th>\n",
       "      <td>2022-12-30 22:37:46</td>\n",
       "      <td>Men refused listen to/attend @amerix classes m...</td>\n",
       "      <td>Negative</td>\n",
       "    </tr>\n",
       "    <tr>\n",
       "      <th>1</th>\n",
       "      <td>2022-12-30 22:30:58</td>\n",
       "      <td>@OvOBrezzzy Take amerix next</td>\n",
       "      <td>Neutral</td>\n",
       "    </tr>\n",
       "    <tr>\n",
       "      <th>2</th>\n",
       "      <td>2022-12-30 22:18:00</td>\n",
       "      <td>@AyodeleYo11 @amerix Nah I’m good masculinity,...</td>\n",
       "      <td>Positive</td>\n",
       "    </tr>\n",
       "    <tr>\n",
       "      <th>3</th>\n",
       "      <td>2022-12-30 20:42:54</td>\n",
       "      <td>@Amerix_DontSimp There need dating first place</td>\n",
       "      <td>Negative</td>\n",
       "    </tr>\n",
       "    <tr>\n",
       "      <th>4</th>\n",
       "      <td>2022-12-30 20:32:23</td>\n",
       "      <td>@DyeAnna7 @amerix @kibe From cos nothing chang...</td>\n",
       "      <td>Positive</td>\n",
       "    </tr>\n",
       "  </tbody>\n",
       "</table>\n",
       "</div>"
      ],
      "text/plain": [
       "     tweet_created_at                                               text  \\\n",
       "0 2022-12-30 22:37:46  Men refused listen to/attend @amerix classes m...   \n",
       "1 2022-12-30 22:30:58                       @OvOBrezzzy Take amerix next   \n",
       "2 2022-12-30 22:18:00  @AyodeleYo11 @amerix Nah I’m good masculinity,...   \n",
       "3 2022-12-30 20:42:54     @Amerix_DontSimp There need dating first place   \n",
       "4 2022-12-30 20:32:23  @DyeAnna7 @amerix @kibe From cos nothing chang...   \n",
       "\n",
       "  Sentiment  \n",
       "0  Negative  \n",
       "1   Neutral  \n",
       "2  Positive  \n",
       "3  Negative  \n",
       "4  Positive  "
      ]
     },
     "execution_count": 11,
     "metadata": {},
     "output_type": "execute_result"
    }
   ],
   "source": [
    "df.head()"
   ]
  },
  {
   "cell_type": "code",
   "execution_count": 12,
   "id": "f64444f5",
   "metadata": {
    "execution": {
     "iopub.execute_input": "2023-01-18T07:07:33.710846Z",
     "iopub.status.busy": "2023-01-18T07:07:33.710455Z",
     "iopub.status.idle": "2023-01-18T07:07:35.825261Z",
     "shell.execute_reply": "2023-01-18T07:07:35.824066Z"
    },
    "papermill": {
     "duration": 2.125448,
     "end_time": "2023-01-18T07:07:35.827755",
     "exception": false,
     "start_time": "2023-01-18T07:07:33.702307",
     "status": "completed"
    },
    "tags": []
   },
   "outputs": [],
   "source": [
    "def cleaning_URLs(data):\n",
    "    return re.sub('((www\\.[^\\s]+)|(https?://[^\\s]+))',' ',data)\n",
    "df['text']= df['text'].apply(lambda x: cleaning_URLs(x))"
   ]
  },
  {
   "cell_type": "code",
   "execution_count": 13,
   "id": "890cc722",
   "metadata": {
    "execution": {
     "iopub.execute_input": "2023-01-18T07:07:35.844637Z",
     "iopub.status.busy": "2023-01-18T07:07:35.843838Z",
     "iopub.status.idle": "2023-01-18T07:07:35.855149Z",
     "shell.execute_reply": "2023-01-18T07:07:35.853912Z"
    },
    "papermill": {
     "duration": 0.022881,
     "end_time": "2023-01-18T07:07:35.857637",
     "exception": false,
     "start_time": "2023-01-18T07:07:35.834756",
     "status": "completed"
    },
    "tags": []
   },
   "outputs": [
    {
     "data": {
      "text/html": [
       "<div>\n",
       "<style scoped>\n",
       "    .dataframe tbody tr th:only-of-type {\n",
       "        vertical-align: middle;\n",
       "    }\n",
       "\n",
       "    .dataframe tbody tr th {\n",
       "        vertical-align: top;\n",
       "    }\n",
       "\n",
       "    .dataframe thead th {\n",
       "        text-align: right;\n",
       "    }\n",
       "</style>\n",
       "<table border=\"1\" class=\"dataframe\">\n",
       "  <thead>\n",
       "    <tr style=\"text-align: right;\">\n",
       "      <th></th>\n",
       "      <th>tweet_created_at</th>\n",
       "      <th>text</th>\n",
       "      <th>Sentiment</th>\n",
       "    </tr>\n",
       "  </thead>\n",
       "  <tbody>\n",
       "    <tr>\n",
       "      <th>0</th>\n",
       "      <td>2022-12-30 22:37:46</td>\n",
       "      <td>Men refused listen to/attend @amerix classes m...</td>\n",
       "      <td>Negative</td>\n",
       "    </tr>\n",
       "    <tr>\n",
       "      <th>1</th>\n",
       "      <td>2022-12-30 22:30:58</td>\n",
       "      <td>@OvOBrezzzy Take amerix next</td>\n",
       "      <td>Neutral</td>\n",
       "    </tr>\n",
       "    <tr>\n",
       "      <th>2</th>\n",
       "      <td>2022-12-30 22:18:00</td>\n",
       "      <td>@AyodeleYo11 @amerix Nah I’m good masculinity,...</td>\n",
       "      <td>Positive</td>\n",
       "    </tr>\n",
       "    <tr>\n",
       "      <th>3</th>\n",
       "      <td>2022-12-30 20:42:54</td>\n",
       "      <td>@Amerix_DontSimp There need dating first place</td>\n",
       "      <td>Negative</td>\n",
       "    </tr>\n",
       "    <tr>\n",
       "      <th>4</th>\n",
       "      <td>2022-12-30 20:32:23</td>\n",
       "      <td>@DyeAnna7 @amerix @kibe From cos nothing chang...</td>\n",
       "      <td>Positive</td>\n",
       "    </tr>\n",
       "  </tbody>\n",
       "</table>\n",
       "</div>"
      ],
      "text/plain": [
       "     tweet_created_at                                               text  \\\n",
       "0 2022-12-30 22:37:46  Men refused listen to/attend @amerix classes m...   \n",
       "1 2022-12-30 22:30:58                       @OvOBrezzzy Take amerix next   \n",
       "2 2022-12-30 22:18:00  @AyodeleYo11 @amerix Nah I’m good masculinity,...   \n",
       "3 2022-12-30 20:42:54     @Amerix_DontSimp There need dating first place   \n",
       "4 2022-12-30 20:32:23  @DyeAnna7 @amerix @kibe From cos nothing chang...   \n",
       "\n",
       "  Sentiment  \n",
       "0  Negative  \n",
       "1   Neutral  \n",
       "2  Positive  \n",
       "3  Negative  \n",
       "4  Positive  "
      ]
     },
     "execution_count": 13,
     "metadata": {},
     "output_type": "execute_result"
    }
   ],
   "source": [
    "df.head()"
   ]
  },
  {
   "cell_type": "code",
   "execution_count": 14,
   "id": "5bd7ba18",
   "metadata": {
    "execution": {
     "iopub.execute_input": "2023-01-18T07:07:35.874919Z",
     "iopub.status.busy": "2023-01-18T07:07:35.873837Z",
     "iopub.status.idle": "2023-01-18T07:07:38.072238Z",
     "shell.execute_reply": "2023-01-18T07:07:38.071018Z"
    },
    "papermill": {
     "duration": 2.209831,
     "end_time": "2023-01-18T07:07:38.075027",
     "exception": false,
     "start_time": "2023-01-18T07:07:35.865196",
     "status": "completed"
    },
    "tags": []
   },
   "outputs": [],
   "source": [
    "english_punctuations = string.punctuation\n",
    "punctuations_list = english_punctuations\n",
    "def cleaning_punctuations(text):\n",
    "    translator = str.maketrans('', '', punctuations_list)\n",
    "    return text.translate(translator)\n",
    "df['text']= df['text'].apply(lambda x: cleaning_punctuations(x))"
   ]
  },
  {
   "cell_type": "code",
   "execution_count": 15,
   "id": "97a284a5",
   "metadata": {
    "execution": {
     "iopub.execute_input": "2023-01-18T07:07:38.091472Z",
     "iopub.status.busy": "2023-01-18T07:07:38.091049Z",
     "iopub.status.idle": "2023-01-18T07:07:38.103269Z",
     "shell.execute_reply": "2023-01-18T07:07:38.102098Z"
    },
    "papermill": {
     "duration": 0.023543,
     "end_time": "2023-01-18T07:07:38.105773",
     "exception": false,
     "start_time": "2023-01-18T07:07:38.082230",
     "status": "completed"
    },
    "tags": []
   },
   "outputs": [
    {
     "data": {
      "text/html": [
       "<div>\n",
       "<style scoped>\n",
       "    .dataframe tbody tr th:only-of-type {\n",
       "        vertical-align: middle;\n",
       "    }\n",
       "\n",
       "    .dataframe tbody tr th {\n",
       "        vertical-align: top;\n",
       "    }\n",
       "\n",
       "    .dataframe thead th {\n",
       "        text-align: right;\n",
       "    }\n",
       "</style>\n",
       "<table border=\"1\" class=\"dataframe\">\n",
       "  <thead>\n",
       "    <tr style=\"text-align: right;\">\n",
       "      <th></th>\n",
       "      <th>tweet_created_at</th>\n",
       "      <th>text</th>\n",
       "      <th>Sentiment</th>\n",
       "    </tr>\n",
       "  </thead>\n",
       "  <tbody>\n",
       "    <tr>\n",
       "      <th>0</th>\n",
       "      <td>2022-12-30 22:37:46</td>\n",
       "      <td>Men refused listen toattend amerix classes men...</td>\n",
       "      <td>Negative</td>\n",
       "    </tr>\n",
       "    <tr>\n",
       "      <th>1</th>\n",
       "      <td>2022-12-30 22:30:58</td>\n",
       "      <td>OvOBrezzzy Take amerix next</td>\n",
       "      <td>Neutral</td>\n",
       "    </tr>\n",
       "    <tr>\n",
       "      <th>2</th>\n",
       "      <td>2022-12-30 22:18:00</td>\n",
       "      <td>AyodeleYo11 amerix Nah I’m good masculinity he...</td>\n",
       "      <td>Positive</td>\n",
       "    </tr>\n",
       "    <tr>\n",
       "      <th>3</th>\n",
       "      <td>2022-12-30 20:42:54</td>\n",
       "      <td>AmerixDontSimp There need dating first place</td>\n",
       "      <td>Negative</td>\n",
       "    </tr>\n",
       "    <tr>\n",
       "      <th>4</th>\n",
       "      <td>2022-12-30 20:32:23</td>\n",
       "      <td>DyeAnna7 amerix kibe From cos nothing changing...</td>\n",
       "      <td>Positive</td>\n",
       "    </tr>\n",
       "  </tbody>\n",
       "</table>\n",
       "</div>"
      ],
      "text/plain": [
       "     tweet_created_at                                               text  \\\n",
       "0 2022-12-30 22:37:46  Men refused listen toattend amerix classes men...   \n",
       "1 2022-12-30 22:30:58                        OvOBrezzzy Take amerix next   \n",
       "2 2022-12-30 22:18:00  AyodeleYo11 amerix Nah I’m good masculinity he...   \n",
       "3 2022-12-30 20:42:54       AmerixDontSimp There need dating first place   \n",
       "4 2022-12-30 20:32:23  DyeAnna7 amerix kibe From cos nothing changing...   \n",
       "\n",
       "  Sentiment  \n",
       "0  Negative  \n",
       "1   Neutral  \n",
       "2  Positive  \n",
       "3  Negative  \n",
       "4  Positive  "
      ]
     },
     "execution_count": 15,
     "metadata": {},
     "output_type": "execute_result"
    }
   ],
   "source": [
    "df.head()"
   ]
  },
  {
   "cell_type": "code",
   "execution_count": 16,
   "id": "cd01b9cb",
   "metadata": {
    "execution": {
     "iopub.execute_input": "2023-01-18T07:07:38.123037Z",
     "iopub.status.busy": "2023-01-18T07:07:38.122563Z",
     "iopub.status.idle": "2023-01-18T07:07:39.259893Z",
     "shell.execute_reply": "2023-01-18T07:07:39.258699Z"
    },
    "papermill": {
     "duration": 1.149465,
     "end_time": "2023-01-18T07:07:39.262806",
     "exception": false,
     "start_time": "2023-01-18T07:07:38.113341",
     "status": "completed"
    },
    "tags": []
   },
   "outputs": [],
   "source": [
    "def cleaning_numbers(data):\n",
    "    return re.sub('[0-9]+','', data)\n",
    "df['text']= df['text'].apply(lambda x: cleaning_numbers(x))"
   ]
  },
  {
   "cell_type": "code",
   "execution_count": 17,
   "id": "38eeab5f",
   "metadata": {
    "execution": {
     "iopub.execute_input": "2023-01-18T07:07:39.281785Z",
     "iopub.status.busy": "2023-01-18T07:07:39.281341Z",
     "iopub.status.idle": "2023-01-18T07:07:39.293215Z",
     "shell.execute_reply": "2023-01-18T07:07:39.292019Z"
    },
    "papermill": {
     "duration": 0.024072,
     "end_time": "2023-01-18T07:07:39.295738",
     "exception": false,
     "start_time": "2023-01-18T07:07:39.271666",
     "status": "completed"
    },
    "tags": []
   },
   "outputs": [
    {
     "data": {
      "text/html": [
       "<div>\n",
       "<style scoped>\n",
       "    .dataframe tbody tr th:only-of-type {\n",
       "        vertical-align: middle;\n",
       "    }\n",
       "\n",
       "    .dataframe tbody tr th {\n",
       "        vertical-align: top;\n",
       "    }\n",
       "\n",
       "    .dataframe thead th {\n",
       "        text-align: right;\n",
       "    }\n",
       "</style>\n",
       "<table border=\"1\" class=\"dataframe\">\n",
       "  <thead>\n",
       "    <tr style=\"text-align: right;\">\n",
       "      <th></th>\n",
       "      <th>tweet_created_at</th>\n",
       "      <th>text</th>\n",
       "      <th>Sentiment</th>\n",
       "    </tr>\n",
       "  </thead>\n",
       "  <tbody>\n",
       "    <tr>\n",
       "      <th>0</th>\n",
       "      <td>2022-12-30 22:37:46</td>\n",
       "      <td>Men refused listen toattend amerix classes men...</td>\n",
       "      <td>Negative</td>\n",
       "    </tr>\n",
       "    <tr>\n",
       "      <th>1</th>\n",
       "      <td>2022-12-30 22:30:58</td>\n",
       "      <td>OvOBrezzzy Take amerix next</td>\n",
       "      <td>Neutral</td>\n",
       "    </tr>\n",
       "    <tr>\n",
       "      <th>2</th>\n",
       "      <td>2022-12-30 22:18:00</td>\n",
       "      <td>AyodeleYo amerix Nah I’m good masculinity heal...</td>\n",
       "      <td>Positive</td>\n",
       "    </tr>\n",
       "    <tr>\n",
       "      <th>3</th>\n",
       "      <td>2022-12-30 20:42:54</td>\n",
       "      <td>AmerixDontSimp There need dating first place</td>\n",
       "      <td>Negative</td>\n",
       "    </tr>\n",
       "    <tr>\n",
       "      <th>4</th>\n",
       "      <td>2022-12-30 20:32:23</td>\n",
       "      <td>DyeAnna amerix kibe From cos nothing changing ...</td>\n",
       "      <td>Positive</td>\n",
       "    </tr>\n",
       "  </tbody>\n",
       "</table>\n",
       "</div>"
      ],
      "text/plain": [
       "     tweet_created_at                                               text  \\\n",
       "0 2022-12-30 22:37:46  Men refused listen toattend amerix classes men...   \n",
       "1 2022-12-30 22:30:58                        OvOBrezzzy Take amerix next   \n",
       "2 2022-12-30 22:18:00  AyodeleYo amerix Nah I’m good masculinity heal...   \n",
       "3 2022-12-30 20:42:54       AmerixDontSimp There need dating first place   \n",
       "4 2022-12-30 20:32:23  DyeAnna amerix kibe From cos nothing changing ...   \n",
       "\n",
       "  Sentiment  \n",
       "0  Negative  \n",
       "1   Neutral  \n",
       "2  Positive  \n",
       "3  Negative  \n",
       "4  Positive  "
      ]
     },
     "execution_count": 17,
     "metadata": {},
     "output_type": "execute_result"
    }
   ],
   "source": [
    "df.head()"
   ]
  },
  {
   "cell_type": "code",
   "execution_count": 18,
   "id": "84030c46",
   "metadata": {
    "execution": {
     "iopub.execute_input": "2023-01-18T07:07:39.313069Z",
     "iopub.status.busy": "2023-01-18T07:07:39.312266Z",
     "iopub.status.idle": "2023-01-18T07:07:42.500596Z",
     "shell.execute_reply": "2023-01-18T07:07:42.499433Z"
    },
    "papermill": {
     "duration": 3.200055,
     "end_time": "2023-01-18T07:07:42.503490",
     "exception": false,
     "start_time": "2023-01-18T07:07:39.303435",
     "status": "completed"
    },
    "tags": []
   },
   "outputs": [],
   "source": [
    "def alphanumeral(text):\n",
    "    # convert to lowercase, susbstitute non alphanumerical characters with whitespaces\n",
    "    text = re.sub('<[^>]*>', '', text)\n",
    "    emoticons = re.findall('(?::|;|=)(?:-)?(?:\\)|\\(|D|P)', text)\n",
    "    text = (re.sub('[\\W]+', ' ', text.lower()) +\n",
    "            ' '.join(emoticons).replace('-', ''))\n",
    "    return text\n",
    "\n",
    "df['text']= df['text'].apply(lambda x: alphanumeral(x))"
   ]
  },
  {
   "cell_type": "code",
   "execution_count": 19,
   "id": "ca310d65",
   "metadata": {
    "execution": {
     "iopub.execute_input": "2023-01-18T07:07:42.520373Z",
     "iopub.status.busy": "2023-01-18T07:07:42.519981Z",
     "iopub.status.idle": "2023-01-18T07:07:42.531898Z",
     "shell.execute_reply": "2023-01-18T07:07:42.530788Z"
    },
    "papermill": {
     "duration": 0.023132,
     "end_time": "2023-01-18T07:07:42.534293",
     "exception": false,
     "start_time": "2023-01-18T07:07:42.511161",
     "status": "completed"
    },
    "tags": []
   },
   "outputs": [
    {
     "data": {
      "text/html": [
       "<div>\n",
       "<style scoped>\n",
       "    .dataframe tbody tr th:only-of-type {\n",
       "        vertical-align: middle;\n",
       "    }\n",
       "\n",
       "    .dataframe tbody tr th {\n",
       "        vertical-align: top;\n",
       "    }\n",
       "\n",
       "    .dataframe thead th {\n",
       "        text-align: right;\n",
       "    }\n",
       "</style>\n",
       "<table border=\"1\" class=\"dataframe\">\n",
       "  <thead>\n",
       "    <tr style=\"text-align: right;\">\n",
       "      <th></th>\n",
       "      <th>tweet_created_at</th>\n",
       "      <th>text</th>\n",
       "      <th>Sentiment</th>\n",
       "    </tr>\n",
       "  </thead>\n",
       "  <tbody>\n",
       "    <tr>\n",
       "      <th>0</th>\n",
       "      <td>2022-12-30 22:37:46</td>\n",
       "      <td>men refused listen toattend amerix classes men...</td>\n",
       "      <td>Negative</td>\n",
       "    </tr>\n",
       "    <tr>\n",
       "      <th>1</th>\n",
       "      <td>2022-12-30 22:30:58</td>\n",
       "      <td>ovobrezzzy take amerix next</td>\n",
       "      <td>Neutral</td>\n",
       "    </tr>\n",
       "    <tr>\n",
       "      <th>2</th>\n",
       "      <td>2022-12-30 22:18:00</td>\n",
       "      <td>ayodeleyo amerix nah i m good masculinity heal...</td>\n",
       "      <td>Positive</td>\n",
       "    </tr>\n",
       "    <tr>\n",
       "      <th>3</th>\n",
       "      <td>2022-12-30 20:42:54</td>\n",
       "      <td>amerixdontsimp there need dating first place</td>\n",
       "      <td>Negative</td>\n",
       "    </tr>\n",
       "    <tr>\n",
       "      <th>4</th>\n",
       "      <td>2022-12-30 20:32:23</td>\n",
       "      <td>dyeanna amerix kibe from cos nothing changing ...</td>\n",
       "      <td>Positive</td>\n",
       "    </tr>\n",
       "  </tbody>\n",
       "</table>\n",
       "</div>"
      ],
      "text/plain": [
       "     tweet_created_at                                               text  \\\n",
       "0 2022-12-30 22:37:46  men refused listen toattend amerix classes men...   \n",
       "1 2022-12-30 22:30:58                        ovobrezzzy take amerix next   \n",
       "2 2022-12-30 22:18:00  ayodeleyo amerix nah i m good masculinity heal...   \n",
       "3 2022-12-30 20:42:54       amerixdontsimp there need dating first place   \n",
       "4 2022-12-30 20:32:23  dyeanna amerix kibe from cos nothing changing ...   \n",
       "\n",
       "  Sentiment  \n",
       "0  Negative  \n",
       "1   Neutral  \n",
       "2  Positive  \n",
       "3  Negative  \n",
       "4  Positive  "
      ]
     },
     "execution_count": 19,
     "metadata": {},
     "output_type": "execute_result"
    }
   ],
   "source": [
    "df.head()"
   ]
  },
  {
   "cell_type": "code",
   "execution_count": 20,
   "id": "f51bcde4",
   "metadata": {
    "execution": {
     "iopub.execute_input": "2023-01-18T07:07:42.551988Z",
     "iopub.status.busy": "2023-01-18T07:07:42.551516Z",
     "iopub.status.idle": "2023-01-18T07:07:42.562673Z",
     "shell.execute_reply": "2023-01-18T07:07:42.561275Z"
    },
    "papermill": {
     "duration": 0.023424,
     "end_time": "2023-01-18T07:07:42.565685",
     "exception": false,
     "start_time": "2023-01-18T07:07:42.542261",
     "status": "completed"
    },
    "tags": []
   },
   "outputs": [],
   "source": [
    "df_1 = df.copy()"
   ]
  },
  {
   "cell_type": "code",
   "execution_count": 21,
   "id": "499c1a3e",
   "metadata": {
    "execution": {
     "iopub.execute_input": "2023-01-18T07:07:42.583202Z",
     "iopub.status.busy": "2023-01-18T07:07:42.582762Z",
     "iopub.status.idle": "2023-01-18T07:07:42.682211Z",
     "shell.execute_reply": "2023-01-18T07:07:42.680988Z"
    },
    "papermill": {
     "duration": 0.111593,
     "end_time": "2023-01-18T07:07:42.685139",
     "exception": false,
     "start_time": "2023-01-18T07:07:42.573546",
     "status": "completed"
    },
    "tags": []
   },
   "outputs": [],
   "source": [
    "df.Sentiment=df.Sentiment.replace('Neutral',2)\n",
    "df.Sentiment=df.Sentiment.replace('Positive',1)\n",
    "df.Sentiment=df.Sentiment.replace('Negative',0)"
   ]
  },
  {
   "cell_type": "code",
   "execution_count": 22,
   "id": "607fa057",
   "metadata": {
    "execution": {
     "iopub.execute_input": "2023-01-18T07:07:42.702413Z",
     "iopub.status.busy": "2023-01-18T07:07:42.701987Z",
     "iopub.status.idle": "2023-01-18T07:07:42.713704Z",
     "shell.execute_reply": "2023-01-18T07:07:42.712540Z"
    },
    "papermill": {
     "duration": 0.023223,
     "end_time": "2023-01-18T07:07:42.716265",
     "exception": false,
     "start_time": "2023-01-18T07:07:42.693042",
     "status": "completed"
    },
    "tags": []
   },
   "outputs": [
    {
     "data": {
      "text/html": [
       "<div>\n",
       "<style scoped>\n",
       "    .dataframe tbody tr th:only-of-type {\n",
       "        vertical-align: middle;\n",
       "    }\n",
       "\n",
       "    .dataframe tbody tr th {\n",
       "        vertical-align: top;\n",
       "    }\n",
       "\n",
       "    .dataframe thead th {\n",
       "        text-align: right;\n",
       "    }\n",
       "</style>\n",
       "<table border=\"1\" class=\"dataframe\">\n",
       "  <thead>\n",
       "    <tr style=\"text-align: right;\">\n",
       "      <th></th>\n",
       "      <th>tweet_created_at</th>\n",
       "      <th>text</th>\n",
       "      <th>Sentiment</th>\n",
       "    </tr>\n",
       "  </thead>\n",
       "  <tbody>\n",
       "    <tr>\n",
       "      <th>0</th>\n",
       "      <td>2022-12-30 22:37:46</td>\n",
       "      <td>men refused listen toattend amerix classes men...</td>\n",
       "      <td>0</td>\n",
       "    </tr>\n",
       "    <tr>\n",
       "      <th>1</th>\n",
       "      <td>2022-12-30 22:30:58</td>\n",
       "      <td>ovobrezzzy take amerix next</td>\n",
       "      <td>2</td>\n",
       "    </tr>\n",
       "    <tr>\n",
       "      <th>2</th>\n",
       "      <td>2022-12-30 22:18:00</td>\n",
       "      <td>ayodeleyo amerix nah i m good masculinity heal...</td>\n",
       "      <td>1</td>\n",
       "    </tr>\n",
       "    <tr>\n",
       "      <th>3</th>\n",
       "      <td>2022-12-30 20:42:54</td>\n",
       "      <td>amerixdontsimp there need dating first place</td>\n",
       "      <td>0</td>\n",
       "    </tr>\n",
       "    <tr>\n",
       "      <th>4</th>\n",
       "      <td>2022-12-30 20:32:23</td>\n",
       "      <td>dyeanna amerix kibe from cos nothing changing ...</td>\n",
       "      <td>1</td>\n",
       "    </tr>\n",
       "  </tbody>\n",
       "</table>\n",
       "</div>"
      ],
      "text/plain": [
       "     tweet_created_at                                               text  \\\n",
       "0 2022-12-30 22:37:46  men refused listen toattend amerix classes men...   \n",
       "1 2022-12-30 22:30:58                        ovobrezzzy take amerix next   \n",
       "2 2022-12-30 22:18:00  ayodeleyo amerix nah i m good masculinity heal...   \n",
       "3 2022-12-30 20:42:54       amerixdontsimp there need dating first place   \n",
       "4 2022-12-30 20:32:23  dyeanna amerix kibe from cos nothing changing ...   \n",
       "\n",
       "   Sentiment  \n",
       "0          0  \n",
       "1          2  \n",
       "2          1  \n",
       "3          0  \n",
       "4          1  "
      ]
     },
     "execution_count": 22,
     "metadata": {},
     "output_type": "execute_result"
    }
   ],
   "source": [
    "df.head()"
   ]
  },
  {
   "cell_type": "code",
   "execution_count": 23,
   "id": "15d0d2b8",
   "metadata": {
    "execution": {
     "iopub.execute_input": "2023-01-18T07:07:42.734347Z",
     "iopub.status.busy": "2023-01-18T07:07:42.733265Z",
     "iopub.status.idle": "2023-01-18T07:07:42.772278Z",
     "shell.execute_reply": "2023-01-18T07:07:42.770634Z"
    },
    "papermill": {
     "duration": 0.051017,
     "end_time": "2023-01-18T07:07:42.775139",
     "exception": false,
     "start_time": "2023-01-18T07:07:42.724122",
     "status": "completed"
    },
    "tags": []
   },
   "outputs": [
    {
     "name": "stdout",
     "output_type": "stream",
     "text": [
      "<class 'pandas.core.frame.DataFrame'>\n",
      "RangeIndex: 248738 entries, 0 to 248737\n",
      "Data columns (total 3 columns):\n",
      " #   Column            Non-Null Count   Dtype         \n",
      "---  ------            --------------   -----         \n",
      " 0   tweet_created_at  248738 non-null  datetime64[ns]\n",
      " 1   text              248738 non-null  object        \n",
      " 2   Sentiment         248738 non-null  int64         \n",
      "dtypes: datetime64[ns](1), int64(1), object(1)\n",
      "memory usage: 5.7+ MB\n"
     ]
    }
   ],
   "source": [
    "df.info()"
   ]
  },
  {
   "cell_type": "code",
   "execution_count": 24,
   "id": "03ab11d9",
   "metadata": {
    "execution": {
     "iopub.execute_input": "2023-01-18T07:07:42.793606Z",
     "iopub.status.busy": "2023-01-18T07:07:42.792494Z",
     "iopub.status.idle": "2023-01-18T07:07:44.151597Z",
     "shell.execute_reply": "2023-01-18T07:07:44.150329Z"
    },
    "papermill": {
     "duration": 1.371151,
     "end_time": "2023-01-18T07:07:44.154478",
     "exception": false,
     "start_time": "2023-01-18T07:07:42.783327",
     "status": "completed"
    },
    "tags": []
   },
   "outputs": [],
   "source": [
    "df.to_csv('amerix_sentiment_analysis_preprocessed_data.csv')"
   ]
  },
  {
   "cell_type": "code",
   "execution_count": null,
   "id": "90533ba9",
   "metadata": {
    "papermill": {
     "duration": 0.007706,
     "end_time": "2023-01-18T07:07:44.170204",
     "exception": false,
     "start_time": "2023-01-18T07:07:44.162498",
     "status": "completed"
    },
    "tags": []
   },
   "outputs": [],
   "source": []
  }
 ],
 "metadata": {
  "kernelspec": {
   "display_name": "Python 3",
   "language": "python",
   "name": "python3"
  },
  "language_info": {
   "codemirror_mode": {
    "name": "ipython",
    "version": 3
   },
   "file_extension": ".py",
   "mimetype": "text/x-python",
   "name": "python",
   "nbconvert_exporter": "python",
   "pygments_lexer": "ipython3",
   "version": "3.7.12"
  },
  "papermill": {
   "default_parameters": {},
   "duration": 26.988069,
   "end_time": "2023-01-18T07:07:45.001665",
   "environment_variables": {},
   "exception": null,
   "input_path": "__notebook__.ipynb",
   "output_path": "__notebook__.ipynb",
   "parameters": {},
   "start_time": "2023-01-18T07:07:18.013596",
   "version": "2.3.4"
  }
 },
 "nbformat": 4,
 "nbformat_minor": 5
}
