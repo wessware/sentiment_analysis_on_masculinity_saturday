{
 "cells": [
  {
   "cell_type": "code",
   "execution_count": 1,
   "id": "79deb29f",
   "metadata": {
    "_cell_guid": "b1076dfc-b9ad-4769-8c92-a6c4dae69d19",
    "_uuid": "8f2839f25d086af736a60e9eeb907d3b93b6e0e5",
    "execution": {
     "iopub.execute_input": "2023-01-18T06:42:43.461189Z",
     "iopub.status.busy": "2023-01-18T06:42:43.460573Z",
     "iopub.status.idle": "2023-01-18T06:42:43.472330Z",
     "shell.execute_reply": "2023-01-18T06:42:43.471024Z"
    },
    "papermill": {
     "duration": 0.022218,
     "end_time": "2023-01-18T06:42:43.475887",
     "exception": false,
     "start_time": "2023-01-18T06:42:43.453669",
     "status": "completed"
    },
    "tags": []
   },
   "outputs": [],
   "source": [
    "import pandas as pd"
   ]
  },
  {
   "cell_type": "code",
   "execution_count": 2,
   "id": "05239edb",
   "metadata": {
    "execution": {
     "iopub.execute_input": "2023-01-18T06:42:43.485033Z",
     "iopub.status.busy": "2023-01-18T06:42:43.484566Z",
     "iopub.status.idle": "2023-01-18T06:42:45.604017Z",
     "shell.execute_reply": "2023-01-18T06:42:45.602624Z"
    },
    "papermill": {
     "duration": 2.12785,
     "end_time": "2023-01-18T06:42:45.607385",
     "exception": false,
     "start_time": "2023-01-18T06:42:43.479535",
     "status": "completed"
    },
    "tags": []
   },
   "outputs": [],
   "source": [
    "df = pd.read_csv('/kaggle/input/masculinity-saturday-twitter-sentiment-analysis/twitter_sentiment_analysis_masculinity_saturday_data_annotated.csv')"
   ]
  },
  {
   "cell_type": "code",
   "execution_count": 3,
   "id": "18b7362e",
   "metadata": {
    "execution": {
     "iopub.execute_input": "2023-01-18T06:42:45.617038Z",
     "iopub.status.busy": "2023-01-18T06:42:45.616517Z",
     "iopub.status.idle": "2023-01-18T06:42:45.634799Z",
     "shell.execute_reply": "2023-01-18T06:42:45.633360Z"
    },
    "papermill": {
     "duration": 0.027379,
     "end_time": "2023-01-18T06:42:45.638671",
     "exception": false,
     "start_time": "2023-01-18T06:42:45.611292",
     "status": "completed"
    },
    "tags": []
   },
   "outputs": [
    {
     "name": "stdout",
     "output_type": "stream",
     "text": [
      "   Unnamed: 0           tweet_created_at  \\\n",
      "0           0  2022-12-30 22:37:46+00:00   \n",
      "1           1  2022-12-30 22:30:58+00:00   \n",
      "2           2  2022-12-30 22:18:00+00:00   \n",
      "3           3  2022-12-30 20:42:54+00:00   \n",
      "4           4  2022-12-30 20:32:23+00:00   \n",
      "\n",
      "                                                text  Positive  Negative  \\\n",
      "0  Men who have refused to listen to/attend @amer...     0.000     0.073   \n",
      "1                       @OvOBrezzzy Take amerix next     0.000     0.000   \n",
      "2  @AyodeleYo11 @amerix Nah I’m good my masculini...     0.493     0.068   \n",
      "3  @Amerix_DontSimp There is no need for dating i...     0.000     0.180   \n",
      "4  @DyeAnna7 @amerix @kibe From what cos nothing ...     0.110     0.000   \n",
      "\n",
      "   Neutral  Compound Sentiment  \n",
      "0    0.927   -0.2960  Negative  \n",
      "1    1.000    0.0000   Neutral  \n",
      "2    0.439    0.8271  Positive  \n",
      "3    0.820   -0.2960  Negative  \n",
      "4    0.890    0.6908  Positive  \n"
     ]
    }
   ],
   "source": [
    "print(df.head())"
   ]
  },
  {
   "cell_type": "code",
   "execution_count": 4,
   "id": "c67818b5",
   "metadata": {
    "execution": {
     "iopub.execute_input": "2023-01-18T06:42:45.649438Z",
     "iopub.status.busy": "2023-01-18T06:42:45.647900Z",
     "iopub.status.idle": "2023-01-18T06:42:45.740326Z",
     "shell.execute_reply": "2023-01-18T06:42:45.738673Z"
    },
    "papermill": {
     "duration": 0.101617,
     "end_time": "2023-01-18T06:42:45.744138",
     "exception": false,
     "start_time": "2023-01-18T06:42:45.642521",
     "status": "completed"
    },
    "tags": []
   },
   "outputs": [
    {
     "name": "stdout",
     "output_type": "stream",
     "text": [
      "<class 'pandas.core.frame.DataFrame'>\n",
      "RangeIndex: 248738 entries, 0 to 248737\n",
      "Data columns (total 8 columns):\n",
      " #   Column            Non-Null Count   Dtype  \n",
      "---  ------            --------------   -----  \n",
      " 0   Unnamed: 0        248738 non-null  int64  \n",
      " 1   tweet_created_at  248738 non-null  object \n",
      " 2   text              248738 non-null  object \n",
      " 3   Positive          248738 non-null  float64\n",
      " 4   Negative          248738 non-null  float64\n",
      " 5   Neutral           248738 non-null  float64\n",
      " 6   Compound          248738 non-null  float64\n",
      " 7   Sentiment         248738 non-null  object \n",
      "dtypes: float64(4), int64(1), object(3)\n",
      "memory usage: 15.2+ MB\n"
     ]
    }
   ],
   "source": [
    "df.info()"
   ]
  },
  {
   "cell_type": "code",
   "execution_count": 5,
   "id": "aef74edf",
   "metadata": {
    "execution": {
     "iopub.execute_input": "2023-01-18T06:42:45.754635Z",
     "iopub.status.busy": "2023-01-18T06:42:45.753283Z",
     "iopub.status.idle": "2023-01-18T06:42:45.788366Z",
     "shell.execute_reply": "2023-01-18T06:42:45.786796Z"
    },
    "papermill": {
     "duration": 0.043849,
     "end_time": "2023-01-18T06:42:45.791776",
     "exception": false,
     "start_time": "2023-01-18T06:42:45.747927",
     "status": "completed"
    },
    "tags": []
   },
   "outputs": [],
   "source": [
    "df = df.drop(columns=['Unnamed: 0', 'Positive', 'Negative',\n",
    "       'Neutral', 'Compound'])"
   ]
  },
  {
   "cell_type": "code",
   "execution_count": 6,
   "id": "4fbdfab9",
   "metadata": {
    "execution": {
     "iopub.execute_input": "2023-01-18T06:42:45.801522Z",
     "iopub.status.busy": "2023-01-18T06:42:45.800996Z",
     "iopub.status.idle": "2023-01-18T06:42:45.810803Z",
     "shell.execute_reply": "2023-01-18T06:42:45.809491Z"
    },
    "papermill": {
     "duration": 0.018009,
     "end_time": "2023-01-18T06:42:45.813629",
     "exception": false,
     "start_time": "2023-01-18T06:42:45.795620",
     "status": "completed"
    },
    "tags": []
   },
   "outputs": [
    {
     "data": {
      "text/plain": [
       "Index(['tweet_created_at', 'text', 'Sentiment'], dtype='object')"
      ]
     },
     "execution_count": 6,
     "metadata": {},
     "output_type": "execute_result"
    }
   ],
   "source": [
    "df.columns"
   ]
  },
  {
   "cell_type": "code",
   "execution_count": 7,
   "id": "ccd67146",
   "metadata": {
    "execution": {
     "iopub.execute_input": "2023-01-18T06:42:45.823535Z",
     "iopub.status.busy": "2023-01-18T06:42:45.822957Z",
     "iopub.status.idle": "2023-01-18T06:42:45.985489Z",
     "shell.execute_reply": "2023-01-18T06:42:45.983765Z"
    },
    "papermill": {
     "duration": 0.171577,
     "end_time": "2023-01-18T06:42:45.989054",
     "exception": false,
     "start_time": "2023-01-18T06:42:45.817477",
     "status": "completed"
    },
    "tags": []
   },
   "outputs": [],
   "source": [
    "df['tweet_created_at'] = df['tweet_created_at'].astype('datetime64[ns]')"
   ]
  },
  {
   "cell_type": "code",
   "execution_count": 8,
   "id": "6432130a",
   "metadata": {
    "execution": {
     "iopub.execute_input": "2023-01-18T06:42:45.999600Z",
     "iopub.status.busy": "2023-01-18T06:42:45.998768Z",
     "iopub.status.idle": "2023-01-18T06:42:46.060274Z",
     "shell.execute_reply": "2023-01-18T06:42:46.058946Z"
    },
    "papermill": {
     "duration": 0.070941,
     "end_time": "2023-01-18T06:42:46.063983",
     "exception": false,
     "start_time": "2023-01-18T06:42:45.993042",
     "status": "completed"
    },
    "tags": []
   },
   "outputs": [
    {
     "name": "stdout",
     "output_type": "stream",
     "text": [
      "<class 'pandas.core.frame.DataFrame'>\n",
      "RangeIndex: 248738 entries, 0 to 248737\n",
      "Data columns (total 3 columns):\n",
      " #   Column            Non-Null Count   Dtype         \n",
      "---  ------            --------------   -----         \n",
      " 0   tweet_created_at  248738 non-null  datetime64[ns]\n",
      " 1   text              248738 non-null  object        \n",
      " 2   Sentiment         248738 non-null  object        \n",
      "dtypes: datetime64[ns](1), object(2)\n",
      "memory usage: 5.7+ MB\n"
     ]
    }
   ],
   "source": [
    "df.info()"
   ]
  },
  {
   "cell_type": "code",
   "execution_count": null,
   "id": "3889e1b4",
   "metadata": {
    "papermill": {
     "duration": 0.003446,
     "end_time": "2023-01-18T06:42:46.071825",
     "exception": false,
     "start_time": "2023-01-18T06:42:46.068379",
     "status": "completed"
    },
    "tags": []
   },
   "outputs": [],
   "source": []
  }
 ],
 "metadata": {
  "kernelspec": {
   "display_name": "Python 3",
   "language": "python",
   "name": "python3"
  },
  "language_info": {
   "codemirror_mode": {
    "name": "ipython",
    "version": 3
   },
   "file_extension": ".py",
   "mimetype": "text/x-python",
   "name": "python",
   "nbconvert_exporter": "python",
   "pygments_lexer": "ipython3",
   "version": "3.7.12"
  },
  "papermill": {
   "default_parameters": {},
   "duration": 13.650485,
   "end_time": "2023-01-18T06:42:47.102858",
   "environment_variables": {},
   "exception": null,
   "input_path": "__notebook__.ipynb",
   "output_path": "__notebook__.ipynb",
   "parameters": {},
   "start_time": "2023-01-18T06:42:33.452373",
   "version": "2.3.4"
  }
 },
 "nbformat": 4,
 "nbformat_minor": 5
}
