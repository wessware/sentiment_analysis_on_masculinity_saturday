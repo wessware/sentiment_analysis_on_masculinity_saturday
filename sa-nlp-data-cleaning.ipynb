{
 "cells": [
  {
   "cell_type": "code",
   "execution_count": 1,
   "id": "095b673f",
   "metadata": {
    "_cell_guid": "b1076dfc-b9ad-4769-8c92-a6c4dae69d19",
    "_uuid": "8f2839f25d086af736a60e9eeb907d3b93b6e0e5",
    "execution": {
     "iopub.execute_input": "2023-01-18T06:48:15.636073Z",
     "iopub.status.busy": "2023-01-18T06:48:15.635601Z",
     "iopub.status.idle": "2023-01-18T06:48:17.102125Z",
     "shell.execute_reply": "2023-01-18T06:48:17.101010Z"
    },
    "papermill": {
     "duration": 1.476251,
     "end_time": "2023-01-18T06:48:17.105222",
     "exception": false,
     "start_time": "2023-01-18T06:48:15.628971",
     "status": "completed"
    },
    "tags": []
   },
   "outputs": [],
   "source": [
    "import pandas as pd\n",
    "\n",
    "import nltk\n",
    "from nltk import pos_tag, word_tokenize\n",
    "from nltk.stem import WordNetLemmatizer \n",
    "from nltk.stem.porter import PorterStemmer\n",
    "from nltk.corpus import stopwords"
   ]
  },
  {
   "cell_type": "code",
   "execution_count": 2,
   "id": "8072173b",
   "metadata": {
    "execution": {
     "iopub.execute_input": "2023-01-18T06:48:17.114899Z",
     "iopub.status.busy": "2023-01-18T06:48:17.113972Z",
     "iopub.status.idle": "2023-01-18T06:48:19.669432Z",
     "shell.execute_reply": "2023-01-18T06:48:19.668247Z"
    },
    "papermill": {
     "duration": 2.562979,
     "end_time": "2023-01-18T06:48:19.672235",
     "exception": false,
     "start_time": "2023-01-18T06:48:17.109256",
     "status": "completed"
    },
    "tags": []
   },
   "outputs": [],
   "source": [
    "df = pd.read_csv('/kaggle/input/masculinity-saturday-twitter-sentiment-analysis/twitter_sentiment_analysis_masculinity_saturday_data_annotated.csv')"
   ]
  },
  {
   "cell_type": "code",
   "execution_count": 3,
   "id": "559c6b7d",
   "metadata": {
    "execution": {
     "iopub.execute_input": "2023-01-18T06:48:19.681735Z",
     "iopub.status.busy": "2023-01-18T06:48:19.680704Z",
     "iopub.status.idle": "2023-01-18T06:48:19.697272Z",
     "shell.execute_reply": "2023-01-18T06:48:19.696001Z"
    },
    "papermill": {
     "duration": 0.025206,
     "end_time": "2023-01-18T06:48:19.701103",
     "exception": false,
     "start_time": "2023-01-18T06:48:19.675897",
     "status": "completed"
    },
    "tags": []
   },
   "outputs": [
    {
     "name": "stdout",
     "output_type": "stream",
     "text": [
      "   Unnamed: 0           tweet_created_at  \\\n",
      "0           0  2022-12-30 22:37:46+00:00   \n",
      "1           1  2022-12-30 22:30:58+00:00   \n",
      "2           2  2022-12-30 22:18:00+00:00   \n",
      "3           3  2022-12-30 20:42:54+00:00   \n",
      "4           4  2022-12-30 20:32:23+00:00   \n",
      "\n",
      "                                                text  Positive  Negative  \\\n",
      "0  Men who have refused to listen to/attend @amer...     0.000     0.073   \n",
      "1                       @OvOBrezzzy Take amerix next     0.000     0.000   \n",
      "2  @AyodeleYo11 @amerix Nah I’m good my masculini...     0.493     0.068   \n",
      "3  @Amerix_DontSimp There is no need for dating i...     0.000     0.180   \n",
      "4  @DyeAnna7 @amerix @kibe From what cos nothing ...     0.110     0.000   \n",
      "\n",
      "   Neutral  Compound Sentiment  \n",
      "0    0.927   -0.2960  Negative  \n",
      "1    1.000    0.0000   Neutral  \n",
      "2    0.439    0.8271  Positive  \n",
      "3    0.820   -0.2960  Negative  \n",
      "4    0.890    0.6908  Positive  \n"
     ]
    }
   ],
   "source": [
    "print(df.head())"
   ]
  },
  {
   "cell_type": "code",
   "execution_count": 4,
   "id": "0d8259b7",
   "metadata": {
    "execution": {
     "iopub.execute_input": "2023-01-18T06:48:19.710788Z",
     "iopub.status.busy": "2023-01-18T06:48:19.709658Z",
     "iopub.status.idle": "2023-01-18T06:48:19.781094Z",
     "shell.execute_reply": "2023-01-18T06:48:19.779824Z"
    },
    "papermill": {
     "duration": 0.078593,
     "end_time": "2023-01-18T06:48:19.783519",
     "exception": false,
     "start_time": "2023-01-18T06:48:19.704926",
     "status": "completed"
    },
    "tags": []
   },
   "outputs": [
    {
     "name": "stdout",
     "output_type": "stream",
     "text": [
      "<class 'pandas.core.frame.DataFrame'>\n",
      "RangeIndex: 248738 entries, 0 to 248737\n",
      "Data columns (total 8 columns):\n",
      " #   Column            Non-Null Count   Dtype  \n",
      "---  ------            --------------   -----  \n",
      " 0   Unnamed: 0        248738 non-null  int64  \n",
      " 1   tweet_created_at  248738 non-null  object \n",
      " 2   text              248738 non-null  object \n",
      " 3   Positive          248738 non-null  float64\n",
      " 4   Negative          248738 non-null  float64\n",
      " 5   Neutral           248738 non-null  float64\n",
      " 6   Compound          248738 non-null  float64\n",
      " 7   Sentiment         248738 non-null  object \n",
      "dtypes: float64(4), int64(1), object(3)\n",
      "memory usage: 15.2+ MB\n"
     ]
    }
   ],
   "source": [
    "df.info()"
   ]
  },
  {
   "cell_type": "code",
   "execution_count": 5,
   "id": "b944ecae",
   "metadata": {
    "execution": {
     "iopub.execute_input": "2023-01-18T06:48:19.792728Z",
     "iopub.status.busy": "2023-01-18T06:48:19.792330Z",
     "iopub.status.idle": "2023-01-18T06:48:19.816731Z",
     "shell.execute_reply": "2023-01-18T06:48:19.815809Z"
    },
    "papermill": {
     "duration": 0.031574,
     "end_time": "2023-01-18T06:48:19.819071",
     "exception": false,
     "start_time": "2023-01-18T06:48:19.787497",
     "status": "completed"
    },
    "tags": []
   },
   "outputs": [],
   "source": [
    "df = df.drop(columns=['Unnamed: 0', 'Positive', 'Negative',\n",
    "       'Neutral', 'Compound'])"
   ]
  },
  {
   "cell_type": "code",
   "execution_count": 6,
   "id": "98670d4e",
   "metadata": {
    "execution": {
     "iopub.execute_input": "2023-01-18T06:48:19.828264Z",
     "iopub.status.busy": "2023-01-18T06:48:19.827614Z",
     "iopub.status.idle": "2023-01-18T06:48:19.835842Z",
     "shell.execute_reply": "2023-01-18T06:48:19.834911Z"
    },
    "papermill": {
     "duration": 0.016434,
     "end_time": "2023-01-18T06:48:19.839397",
     "exception": false,
     "start_time": "2023-01-18T06:48:19.822963",
     "status": "completed"
    },
    "tags": []
   },
   "outputs": [
    {
     "data": {
      "text/plain": [
       "Index(['tweet_created_at', 'text', 'Sentiment'], dtype='object')"
      ]
     },
     "execution_count": 6,
     "metadata": {},
     "output_type": "execute_result"
    }
   ],
   "source": [
    "df.columns"
   ]
  },
  {
   "cell_type": "code",
   "execution_count": 7,
   "id": "220c9fb6",
   "metadata": {
    "execution": {
     "iopub.execute_input": "2023-01-18T06:48:19.848557Z",
     "iopub.status.busy": "2023-01-18T06:48:19.847876Z",
     "iopub.status.idle": "2023-01-18T06:48:20.004539Z",
     "shell.execute_reply": "2023-01-18T06:48:20.003392Z"
    },
    "papermill": {
     "duration": 0.163961,
     "end_time": "2023-01-18T06:48:20.007154",
     "exception": false,
     "start_time": "2023-01-18T06:48:19.843193",
     "status": "completed"
    },
    "tags": []
   },
   "outputs": [],
   "source": [
    "df['tweet_created_at'] = df['tweet_created_at'].astype('datetime64[ns]')"
   ]
  },
  {
   "cell_type": "code",
   "execution_count": 8,
   "id": "f560ff2d",
   "metadata": {
    "execution": {
     "iopub.execute_input": "2023-01-18T06:48:20.017451Z",
     "iopub.status.busy": "2023-01-18T06:48:20.016665Z",
     "iopub.status.idle": "2023-01-18T06:48:20.065370Z",
     "shell.execute_reply": "2023-01-18T06:48:20.064113Z"
    },
    "papermill": {
     "duration": 0.056742,
     "end_time": "2023-01-18T06:48:20.067865",
     "exception": false,
     "start_time": "2023-01-18T06:48:20.011123",
     "status": "completed"
    },
    "tags": []
   },
   "outputs": [
    {
     "name": "stdout",
     "output_type": "stream",
     "text": [
      "<class 'pandas.core.frame.DataFrame'>\n",
      "RangeIndex: 248738 entries, 0 to 248737\n",
      "Data columns (total 3 columns):\n",
      " #   Column            Non-Null Count   Dtype         \n",
      "---  ------            --------------   -----         \n",
      " 0   tweet_created_at  248738 non-null  datetime64[ns]\n",
      " 1   text              248738 non-null  object        \n",
      " 2   Sentiment         248738 non-null  object        \n",
      "dtypes: datetime64[ns](1), object(2)\n",
      "memory usage: 5.7+ MB\n"
     ]
    }
   ],
   "source": [
    "df.info()"
   ]
  },
  {
   "cell_type": "code",
   "execution_count": 9,
   "id": "817db553",
   "metadata": {
    "execution": {
     "iopub.execute_input": "2023-01-18T06:48:20.078071Z",
     "iopub.status.busy": "2023-01-18T06:48:20.076955Z",
     "iopub.status.idle": "2023-01-18T06:48:20.085979Z",
     "shell.execute_reply": "2023-01-18T06:48:20.084657Z"
    },
    "papermill": {
     "duration": 0.01639,
     "end_time": "2023-01-18T06:48:20.088315",
     "exception": false,
     "start_time": "2023-01-18T06:48:20.071925",
     "status": "completed"
    },
    "tags": []
   },
   "outputs": [
    {
     "name": "stdout",
     "output_type": "stream",
     "text": [
      "     tweet_created_at                                               text  \\\n",
      "0 2022-12-30 22:37:46  Men who have refused to listen to/attend @amer...   \n",
      "1 2022-12-30 22:30:58                       @OvOBrezzzy Take amerix next   \n",
      "2 2022-12-30 22:18:00  @AyodeleYo11 @amerix Nah I’m good my masculini...   \n",
      "3 2022-12-30 20:42:54  @Amerix_DontSimp There is no need for dating i...   \n",
      "4 2022-12-30 20:32:23  @DyeAnna7 @amerix @kibe From what cos nothing ...   \n",
      "\n",
      "  Sentiment  \n",
      "0  Negative  \n",
      "1   Neutral  \n",
      "2  Positive  \n",
      "3  Negative  \n",
      "4  Positive  \n"
     ]
    }
   ],
   "source": [
    "print(df.head())"
   ]
  },
  {
   "cell_type": "code",
   "execution_count": 10,
   "id": "4f930038",
   "metadata": {
    "execution": {
     "iopub.execute_input": "2023-01-18T06:48:20.098302Z",
     "iopub.status.busy": "2023-01-18T06:48:20.097765Z",
     "iopub.status.idle": "2023-01-18T06:48:21.702574Z",
     "shell.execute_reply": "2023-01-18T06:48:21.701591Z"
    },
    "papermill": {
     "duration": 1.612662,
     "end_time": "2023-01-18T06:48:21.705116",
     "exception": false,
     "start_time": "2023-01-18T06:48:20.092454",
     "status": "completed"
    },
    "tags": []
   },
   "outputs": [],
   "source": [
    "STOPWORDS = set(stopwords.words('english'))\n",
    "\n",
    "def cleaning_stopwords(text):\n",
    "    return \" \".join([word for word in str(text).split() if word not in STOPWORDS])\n",
    "\n",
    "df['text'] = df['text'].apply(lambda text: cleaning_stopwords(text))"
   ]
  },
  {
   "cell_type": "code",
   "execution_count": 11,
   "id": "f14e9a24",
   "metadata": {
    "execution": {
     "iopub.execute_input": "2023-01-18T06:48:21.716597Z",
     "iopub.status.busy": "2023-01-18T06:48:21.715447Z",
     "iopub.status.idle": "2023-01-18T06:48:21.730342Z",
     "shell.execute_reply": "2023-01-18T06:48:21.729255Z"
    },
    "papermill": {
     "duration": 0.023286,
     "end_time": "2023-01-18T06:48:21.733252",
     "exception": false,
     "start_time": "2023-01-18T06:48:21.709966",
     "status": "completed"
    },
    "tags": []
   },
   "outputs": [
    {
     "data": {
      "text/html": [
       "<div>\n",
       "<style scoped>\n",
       "    .dataframe tbody tr th:only-of-type {\n",
       "        vertical-align: middle;\n",
       "    }\n",
       "\n",
       "    .dataframe tbody tr th {\n",
       "        vertical-align: top;\n",
       "    }\n",
       "\n",
       "    .dataframe thead th {\n",
       "        text-align: right;\n",
       "    }\n",
       "</style>\n",
       "<table border=\"1\" class=\"dataframe\">\n",
       "  <thead>\n",
       "    <tr style=\"text-align: right;\">\n",
       "      <th></th>\n",
       "      <th>tweet_created_at</th>\n",
       "      <th>text</th>\n",
       "      <th>Sentiment</th>\n",
       "    </tr>\n",
       "  </thead>\n",
       "  <tbody>\n",
       "    <tr>\n",
       "      <th>0</th>\n",
       "      <td>2022-12-30 22:37:46</td>\n",
       "      <td>Men refused listen to/attend @amerix classes m...</td>\n",
       "      <td>Negative</td>\n",
       "    </tr>\n",
       "    <tr>\n",
       "      <th>1</th>\n",
       "      <td>2022-12-30 22:30:58</td>\n",
       "      <td>@OvOBrezzzy Take amerix next</td>\n",
       "      <td>Neutral</td>\n",
       "    </tr>\n",
       "    <tr>\n",
       "      <th>2</th>\n",
       "      <td>2022-12-30 22:18:00</td>\n",
       "      <td>@AyodeleYo11 @amerix Nah I’m good masculinity,...</td>\n",
       "      <td>Positive</td>\n",
       "    </tr>\n",
       "    <tr>\n",
       "      <th>3</th>\n",
       "      <td>2022-12-30 20:42:54</td>\n",
       "      <td>@Amerix_DontSimp There need dating first place</td>\n",
       "      <td>Negative</td>\n",
       "    </tr>\n",
       "    <tr>\n",
       "      <th>4</th>\n",
       "      <td>2022-12-30 20:32:23</td>\n",
       "      <td>@DyeAnna7 @amerix @kibe From cos nothing chang...</td>\n",
       "      <td>Positive</td>\n",
       "    </tr>\n",
       "  </tbody>\n",
       "</table>\n",
       "</div>"
      ],
      "text/plain": [
       "     tweet_created_at                                               text  \\\n",
       "0 2022-12-30 22:37:46  Men refused listen to/attend @amerix classes m...   \n",
       "1 2022-12-30 22:30:58                       @OvOBrezzzy Take amerix next   \n",
       "2 2022-12-30 22:18:00  @AyodeleYo11 @amerix Nah I’m good masculinity,...   \n",
       "3 2022-12-30 20:42:54     @Amerix_DontSimp There need dating first place   \n",
       "4 2022-12-30 20:32:23  @DyeAnna7 @amerix @kibe From cos nothing chang...   \n",
       "\n",
       "  Sentiment  \n",
       "0  Negative  \n",
       "1   Neutral  \n",
       "2  Positive  \n",
       "3  Negative  \n",
       "4  Positive  "
      ]
     },
     "execution_count": 11,
     "metadata": {},
     "output_type": "execute_result"
    }
   ],
   "source": [
    "df.head()"
   ]
  },
  {
   "cell_type": "code",
   "execution_count": null,
   "id": "33befcaa",
   "metadata": {
    "papermill": {
     "duration": 0.004382,
     "end_time": "2023-01-18T06:48:21.742020",
     "exception": false,
     "start_time": "2023-01-18T06:48:21.737638",
     "status": "completed"
    },
    "tags": []
   },
   "outputs": [],
   "source": []
  }
 ],
 "metadata": {
  "kernelspec": {
   "display_name": "Python 3",
   "language": "python",
   "name": "python3"
  },
  "language_info": {
   "codemirror_mode": {
    "name": "ipython",
    "version": 3
   },
   "file_extension": ".py",
   "mimetype": "text/x-python",
   "name": "python",
   "nbconvert_exporter": "python",
   "pygments_lexer": "ipython3",
   "version": "3.7.12"
  },
  "papermill": {
   "default_parameters": {},
   "duration": 15.082794,
   "end_time": "2023-01-18T06:48:22.568990",
   "environment_variables": {},
   "exception": null,
   "input_path": "__notebook__.ipynb",
   "output_path": "__notebook__.ipynb",
   "parameters": {},
   "start_time": "2023-01-18T06:48:07.486196",
   "version": "2.3.4"
  }
 },
 "nbformat": 4,
 "nbformat_minor": 5
}
