{
 "cells": [
  {
   "cell_type": "code",
   "execution_count": 1,
   "id": "56c89599",
   "metadata": {
    "_cell_guid": "b1076dfc-b9ad-4769-8c92-a6c4dae69d19",
    "_uuid": "8f2839f25d086af736a60e9eeb907d3b93b6e0e5",
    "execution": {
     "iopub.execute_input": "2023-01-18T06:56:17.412727Z",
     "iopub.status.busy": "2023-01-18T06:56:17.412093Z",
     "iopub.status.idle": "2023-01-18T06:56:19.061535Z",
     "shell.execute_reply": "2023-01-18T06:56:19.060513Z"
    },
    "papermill": {
     "duration": 1.661637,
     "end_time": "2023-01-18T06:56:19.064760",
     "exception": false,
     "start_time": "2023-01-18T06:56:17.403123",
     "status": "completed"
    },
    "tags": []
   },
   "outputs": [],
   "source": [
    "import pandas as pd\n",
    "\n",
    "import re\n",
    "import string\n",
    "\n",
    "import nltk\n",
    "from nltk import pos_tag, word_tokenize\n",
    "from nltk.stem import WordNetLemmatizer \n",
    "from nltk.stem.porter import PorterStemmer\n",
    "from nltk.corpus import stopwords"
   ]
  },
  {
   "cell_type": "code",
   "execution_count": 2,
   "id": "195e805e",
   "metadata": {
    "execution": {
     "iopub.execute_input": "2023-01-18T06:56:19.077420Z",
     "iopub.status.busy": "2023-01-18T06:56:19.077005Z",
     "iopub.status.idle": "2023-01-18T06:56:20.920584Z",
     "shell.execute_reply": "2023-01-18T06:56:20.919404Z"
    },
    "papermill": {
     "duration": 1.853494,
     "end_time": "2023-01-18T06:56:20.924019",
     "exception": false,
     "start_time": "2023-01-18T06:56:19.070525",
     "status": "completed"
    },
    "tags": []
   },
   "outputs": [],
   "source": [
    "df = pd.read_csv('/kaggle/input/masculinity-saturday-twitter-sentiment-analysis/twitter_sentiment_analysis_masculinity_saturday_data_annotated.csv')"
   ]
  },
  {
   "cell_type": "code",
   "execution_count": 3,
   "id": "c1d8a663",
   "metadata": {
    "execution": {
     "iopub.execute_input": "2023-01-18T06:56:20.936918Z",
     "iopub.status.busy": "2023-01-18T06:56:20.936508Z",
     "iopub.status.idle": "2023-01-18T06:56:20.950942Z",
     "shell.execute_reply": "2023-01-18T06:56:20.950132Z"
    },
    "papermill": {
     "duration": 0.026092,
     "end_time": "2023-01-18T06:56:20.956069",
     "exception": false,
     "start_time": "2023-01-18T06:56:20.929977",
     "status": "completed"
    },
    "tags": []
   },
   "outputs": [
    {
     "name": "stdout",
     "output_type": "stream",
     "text": [
      "   Unnamed: 0           tweet_created_at  \\\n",
      "0           0  2022-12-30 22:37:46+00:00   \n",
      "1           1  2022-12-30 22:30:58+00:00   \n",
      "2           2  2022-12-30 22:18:00+00:00   \n",
      "3           3  2022-12-30 20:42:54+00:00   \n",
      "4           4  2022-12-30 20:32:23+00:00   \n",
      "\n",
      "                                                text  Positive  Negative  \\\n",
      "0  Men who have refused to listen to/attend @amer...     0.000     0.073   \n",
      "1                       @OvOBrezzzy Take amerix next     0.000     0.000   \n",
      "2  @AyodeleYo11 @amerix Nah I’m good my masculini...     0.493     0.068   \n",
      "3  @Amerix_DontSimp There is no need for dating i...     0.000     0.180   \n",
      "4  @DyeAnna7 @amerix @kibe From what cos nothing ...     0.110     0.000   \n",
      "\n",
      "   Neutral  Compound Sentiment  \n",
      "0    0.927   -0.2960  Negative  \n",
      "1    1.000    0.0000   Neutral  \n",
      "2    0.439    0.8271  Positive  \n",
      "3    0.820   -0.2960  Negative  \n",
      "4    0.890    0.6908  Positive  \n"
     ]
    }
   ],
   "source": [
    "print(df.head())"
   ]
  },
  {
   "cell_type": "code",
   "execution_count": 4,
   "id": "58aada2a",
   "metadata": {
    "execution": {
     "iopub.execute_input": "2023-01-18T06:56:20.970772Z",
     "iopub.status.busy": "2023-01-18T06:56:20.970083Z",
     "iopub.status.idle": "2023-01-18T06:56:21.044136Z",
     "shell.execute_reply": "2023-01-18T06:56:21.042752Z"
    },
    "papermill": {
     "duration": 0.08415,
     "end_time": "2023-01-18T06:56:21.046995",
     "exception": false,
     "start_time": "2023-01-18T06:56:20.962845",
     "status": "completed"
    },
    "tags": []
   },
   "outputs": [
    {
     "name": "stdout",
     "output_type": "stream",
     "text": [
      "<class 'pandas.core.frame.DataFrame'>\n",
      "RangeIndex: 248738 entries, 0 to 248737\n",
      "Data columns (total 8 columns):\n",
      " #   Column            Non-Null Count   Dtype  \n",
      "---  ------            --------------   -----  \n",
      " 0   Unnamed: 0        248738 non-null  int64  \n",
      " 1   tweet_created_at  248738 non-null  object \n",
      " 2   text              248738 non-null  object \n",
      " 3   Positive          248738 non-null  float64\n",
      " 4   Negative          248738 non-null  float64\n",
      " 5   Neutral           248738 non-null  float64\n",
      " 6   Compound          248738 non-null  float64\n",
      " 7   Sentiment         248738 non-null  object \n",
      "dtypes: float64(4), int64(1), object(3)\n",
      "memory usage: 15.2+ MB\n"
     ]
    }
   ],
   "source": [
    "df.info()"
   ]
  },
  {
   "cell_type": "code",
   "execution_count": 5,
   "id": "81062692",
   "metadata": {
    "execution": {
     "iopub.execute_input": "2023-01-18T06:56:21.059767Z",
     "iopub.status.busy": "2023-01-18T06:56:21.059293Z",
     "iopub.status.idle": "2023-01-18T06:56:21.086322Z",
     "shell.execute_reply": "2023-01-18T06:56:21.084913Z"
    },
    "papermill": {
     "duration": 0.036335,
     "end_time": "2023-01-18T06:56:21.089015",
     "exception": false,
     "start_time": "2023-01-18T06:56:21.052680",
     "status": "completed"
    },
    "tags": []
   },
   "outputs": [],
   "source": [
    "df = df.drop(columns=['Unnamed: 0', 'Positive', 'Negative',\n",
    "       'Neutral', 'Compound'])"
   ]
  },
  {
   "cell_type": "code",
   "execution_count": 6,
   "id": "45f31a3f",
   "metadata": {
    "execution": {
     "iopub.execute_input": "2023-01-18T06:56:21.102337Z",
     "iopub.status.busy": "2023-01-18T06:56:21.101922Z",
     "iopub.status.idle": "2023-01-18T06:56:21.111812Z",
     "shell.execute_reply": "2023-01-18T06:56:21.110694Z"
    },
    "papermill": {
     "duration": 0.019328,
     "end_time": "2023-01-18T06:56:21.114286",
     "exception": false,
     "start_time": "2023-01-18T06:56:21.094958",
     "status": "completed"
    },
    "tags": []
   },
   "outputs": [
    {
     "data": {
      "text/plain": [
       "Index(['tweet_created_at', 'text', 'Sentiment'], dtype='object')"
      ]
     },
     "execution_count": 6,
     "metadata": {},
     "output_type": "execute_result"
    }
   ],
   "source": [
    "df.columns"
   ]
  },
  {
   "cell_type": "code",
   "execution_count": 7,
   "id": "9ce39d20",
   "metadata": {
    "execution": {
     "iopub.execute_input": "2023-01-18T06:56:21.127190Z",
     "iopub.status.busy": "2023-01-18T06:56:21.126788Z",
     "iopub.status.idle": "2023-01-18T06:56:21.277012Z",
     "shell.execute_reply": "2023-01-18T06:56:21.276037Z"
    },
    "papermill": {
     "duration": 0.159886,
     "end_time": "2023-01-18T06:56:21.279878",
     "exception": false,
     "start_time": "2023-01-18T06:56:21.119992",
     "status": "completed"
    },
    "tags": []
   },
   "outputs": [],
   "source": [
    "df['tweet_created_at'] = df['tweet_created_at'].astype('datetime64[ns]')"
   ]
  },
  {
   "cell_type": "code",
   "execution_count": 8,
   "id": "4798e54d",
   "metadata": {
    "execution": {
     "iopub.execute_input": "2023-01-18T06:56:21.294368Z",
     "iopub.status.busy": "2023-01-18T06:56:21.293133Z",
     "iopub.status.idle": "2023-01-18T06:56:21.346293Z",
     "shell.execute_reply": "2023-01-18T06:56:21.344850Z"
    },
    "papermill": {
     "duration": 0.063119,
     "end_time": "2023-01-18T06:56:21.349093",
     "exception": false,
     "start_time": "2023-01-18T06:56:21.285974",
     "status": "completed"
    },
    "tags": []
   },
   "outputs": [
    {
     "name": "stdout",
     "output_type": "stream",
     "text": [
      "<class 'pandas.core.frame.DataFrame'>\n",
      "RangeIndex: 248738 entries, 0 to 248737\n",
      "Data columns (total 3 columns):\n",
      " #   Column            Non-Null Count   Dtype         \n",
      "---  ------            --------------   -----         \n",
      " 0   tweet_created_at  248738 non-null  datetime64[ns]\n",
      " 1   text              248738 non-null  object        \n",
      " 2   Sentiment         248738 non-null  object        \n",
      "dtypes: datetime64[ns](1), object(2)\n",
      "memory usage: 5.7+ MB\n"
     ]
    }
   ],
   "source": [
    "df.info()"
   ]
  },
  {
   "cell_type": "code",
   "execution_count": 9,
   "id": "0ee7731a",
   "metadata": {
    "execution": {
     "iopub.execute_input": "2023-01-18T06:56:21.364723Z",
     "iopub.status.busy": "2023-01-18T06:56:21.363697Z",
     "iopub.status.idle": "2023-01-18T06:56:21.371828Z",
     "shell.execute_reply": "2023-01-18T06:56:21.370372Z"
    },
    "papermill": {
     "duration": 0.019205,
     "end_time": "2023-01-18T06:56:21.374310",
     "exception": false,
     "start_time": "2023-01-18T06:56:21.355105",
     "status": "completed"
    },
    "tags": []
   },
   "outputs": [
    {
     "name": "stdout",
     "output_type": "stream",
     "text": [
      "     tweet_created_at                                               text  \\\n",
      "0 2022-12-30 22:37:46  Men who have refused to listen to/attend @amer...   \n",
      "1 2022-12-30 22:30:58                       @OvOBrezzzy Take amerix next   \n",
      "2 2022-12-30 22:18:00  @AyodeleYo11 @amerix Nah I’m good my masculini...   \n",
      "3 2022-12-30 20:42:54  @Amerix_DontSimp There is no need for dating i...   \n",
      "4 2022-12-30 20:32:23  @DyeAnna7 @amerix @kibe From what cos nothing ...   \n",
      "\n",
      "  Sentiment  \n",
      "0  Negative  \n",
      "1   Neutral  \n",
      "2  Positive  \n",
      "3  Negative  \n",
      "4  Positive  \n"
     ]
    }
   ],
   "source": [
    "print(df.head())"
   ]
  },
  {
   "cell_type": "code",
   "execution_count": 10,
   "id": "e96e255c",
   "metadata": {
    "execution": {
     "iopub.execute_input": "2023-01-18T06:56:21.387758Z",
     "iopub.status.busy": "2023-01-18T06:56:21.386798Z",
     "iopub.status.idle": "2023-01-18T06:56:22.936464Z",
     "shell.execute_reply": "2023-01-18T06:56:22.935337Z"
    },
    "papermill": {
     "duration": 1.559252,
     "end_time": "2023-01-18T06:56:22.939354",
     "exception": false,
     "start_time": "2023-01-18T06:56:21.380102",
     "status": "completed"
    },
    "tags": []
   },
   "outputs": [],
   "source": [
    "STOPWORDS = set(stopwords.words('english'))\n",
    "\n",
    "def cleaning_stopwords(text):\n",
    "    return \" \".join([word for word in str(text).split() if word not in STOPWORDS])\n",
    "\n",
    "df['text'] = df['text'].apply(lambda text: cleaning_stopwords(text))"
   ]
  },
  {
   "cell_type": "code",
   "execution_count": 11,
   "id": "e1c58641",
   "metadata": {
    "execution": {
     "iopub.execute_input": "2023-01-18T06:56:22.953158Z",
     "iopub.status.busy": "2023-01-18T06:56:22.952749Z",
     "iopub.status.idle": "2023-01-18T06:56:22.966023Z",
     "shell.execute_reply": "2023-01-18T06:56:22.965021Z"
    },
    "papermill": {
     "duration": 0.022683,
     "end_time": "2023-01-18T06:56:22.968256",
     "exception": false,
     "start_time": "2023-01-18T06:56:22.945573",
     "status": "completed"
    },
    "tags": []
   },
   "outputs": [
    {
     "data": {
      "text/html": [
       "<div>\n",
       "<style scoped>\n",
       "    .dataframe tbody tr th:only-of-type {\n",
       "        vertical-align: middle;\n",
       "    }\n",
       "\n",
       "    .dataframe tbody tr th {\n",
       "        vertical-align: top;\n",
       "    }\n",
       "\n",
       "    .dataframe thead th {\n",
       "        text-align: right;\n",
       "    }\n",
       "</style>\n",
       "<table border=\"1\" class=\"dataframe\">\n",
       "  <thead>\n",
       "    <tr style=\"text-align: right;\">\n",
       "      <th></th>\n",
       "      <th>tweet_created_at</th>\n",
       "      <th>text</th>\n",
       "      <th>Sentiment</th>\n",
       "    </tr>\n",
       "  </thead>\n",
       "  <tbody>\n",
       "    <tr>\n",
       "      <th>0</th>\n",
       "      <td>2022-12-30 22:37:46</td>\n",
       "      <td>Men refused listen to/attend @amerix classes m...</td>\n",
       "      <td>Negative</td>\n",
       "    </tr>\n",
       "    <tr>\n",
       "      <th>1</th>\n",
       "      <td>2022-12-30 22:30:58</td>\n",
       "      <td>@OvOBrezzzy Take amerix next</td>\n",
       "      <td>Neutral</td>\n",
       "    </tr>\n",
       "    <tr>\n",
       "      <th>2</th>\n",
       "      <td>2022-12-30 22:18:00</td>\n",
       "      <td>@AyodeleYo11 @amerix Nah I’m good masculinity,...</td>\n",
       "      <td>Positive</td>\n",
       "    </tr>\n",
       "    <tr>\n",
       "      <th>3</th>\n",
       "      <td>2022-12-30 20:42:54</td>\n",
       "      <td>@Amerix_DontSimp There need dating first place</td>\n",
       "      <td>Negative</td>\n",
       "    </tr>\n",
       "    <tr>\n",
       "      <th>4</th>\n",
       "      <td>2022-12-30 20:32:23</td>\n",
       "      <td>@DyeAnna7 @amerix @kibe From cos nothing chang...</td>\n",
       "      <td>Positive</td>\n",
       "    </tr>\n",
       "  </tbody>\n",
       "</table>\n",
       "</div>"
      ],
      "text/plain": [
       "     tweet_created_at                                               text  \\\n",
       "0 2022-12-30 22:37:46  Men refused listen to/attend @amerix classes m...   \n",
       "1 2022-12-30 22:30:58                       @OvOBrezzzy Take amerix next   \n",
       "2 2022-12-30 22:18:00  @AyodeleYo11 @amerix Nah I’m good masculinity,...   \n",
       "3 2022-12-30 20:42:54     @Amerix_DontSimp There need dating first place   \n",
       "4 2022-12-30 20:32:23  @DyeAnna7 @amerix @kibe From cos nothing chang...   \n",
       "\n",
       "  Sentiment  \n",
       "0  Negative  \n",
       "1   Neutral  \n",
       "2  Positive  \n",
       "3  Negative  \n",
       "4  Positive  "
      ]
     },
     "execution_count": 11,
     "metadata": {},
     "output_type": "execute_result"
    }
   ],
   "source": [
    "df.head()"
   ]
  },
  {
   "cell_type": "code",
   "execution_count": 12,
   "id": "8416637d",
   "metadata": {
    "execution": {
     "iopub.execute_input": "2023-01-18T06:56:22.982670Z",
     "iopub.status.busy": "2023-01-18T06:56:22.982244Z",
     "iopub.status.idle": "2023-01-18T06:56:25.115485Z",
     "shell.execute_reply": "2023-01-18T06:56:25.114147Z"
    },
    "papermill": {
     "duration": 2.144073,
     "end_time": "2023-01-18T06:56:25.118418",
     "exception": false,
     "start_time": "2023-01-18T06:56:22.974345",
     "status": "completed"
    },
    "tags": []
   },
   "outputs": [],
   "source": [
    "def cleaning_URLs(data):\n",
    "    return re.sub('((www\\.[^\\s]+)|(https?://[^\\s]+))',' ',data)\n",
    "df['text']= df['text'].apply(lambda x: cleaning_URLs(x))"
   ]
  },
  {
   "cell_type": "code",
   "execution_count": 13,
   "id": "96af2080",
   "metadata": {
    "execution": {
     "iopub.execute_input": "2023-01-18T06:56:25.133593Z",
     "iopub.status.busy": "2023-01-18T06:56:25.133162Z",
     "iopub.status.idle": "2023-01-18T06:56:25.144095Z",
     "shell.execute_reply": "2023-01-18T06:56:25.143355Z"
    },
    "papermill": {
     "duration": 0.021195,
     "end_time": "2023-01-18T06:56:25.145976",
     "exception": false,
     "start_time": "2023-01-18T06:56:25.124781",
     "status": "completed"
    },
    "tags": []
   },
   "outputs": [
    {
     "data": {
      "text/html": [
       "<div>\n",
       "<style scoped>\n",
       "    .dataframe tbody tr th:only-of-type {\n",
       "        vertical-align: middle;\n",
       "    }\n",
       "\n",
       "    .dataframe tbody tr th {\n",
       "        vertical-align: top;\n",
       "    }\n",
       "\n",
       "    .dataframe thead th {\n",
       "        text-align: right;\n",
       "    }\n",
       "</style>\n",
       "<table border=\"1\" class=\"dataframe\">\n",
       "  <thead>\n",
       "    <tr style=\"text-align: right;\">\n",
       "      <th></th>\n",
       "      <th>tweet_created_at</th>\n",
       "      <th>text</th>\n",
       "      <th>Sentiment</th>\n",
       "    </tr>\n",
       "  </thead>\n",
       "  <tbody>\n",
       "    <tr>\n",
       "      <th>0</th>\n",
       "      <td>2022-12-30 22:37:46</td>\n",
       "      <td>Men refused listen to/attend @amerix classes m...</td>\n",
       "      <td>Negative</td>\n",
       "    </tr>\n",
       "    <tr>\n",
       "      <th>1</th>\n",
       "      <td>2022-12-30 22:30:58</td>\n",
       "      <td>@OvOBrezzzy Take amerix next</td>\n",
       "      <td>Neutral</td>\n",
       "    </tr>\n",
       "    <tr>\n",
       "      <th>2</th>\n",
       "      <td>2022-12-30 22:18:00</td>\n",
       "      <td>@AyodeleYo11 @amerix Nah I’m good masculinity,...</td>\n",
       "      <td>Positive</td>\n",
       "    </tr>\n",
       "    <tr>\n",
       "      <th>3</th>\n",
       "      <td>2022-12-30 20:42:54</td>\n",
       "      <td>@Amerix_DontSimp There need dating first place</td>\n",
       "      <td>Negative</td>\n",
       "    </tr>\n",
       "    <tr>\n",
       "      <th>4</th>\n",
       "      <td>2022-12-30 20:32:23</td>\n",
       "      <td>@DyeAnna7 @amerix @kibe From cos nothing chang...</td>\n",
       "      <td>Positive</td>\n",
       "    </tr>\n",
       "  </tbody>\n",
       "</table>\n",
       "</div>"
      ],
      "text/plain": [
       "     tweet_created_at                                               text  \\\n",
       "0 2022-12-30 22:37:46  Men refused listen to/attend @amerix classes m...   \n",
       "1 2022-12-30 22:30:58                       @OvOBrezzzy Take amerix next   \n",
       "2 2022-12-30 22:18:00  @AyodeleYo11 @amerix Nah I’m good masculinity,...   \n",
       "3 2022-12-30 20:42:54     @Amerix_DontSimp There need dating first place   \n",
       "4 2022-12-30 20:32:23  @DyeAnna7 @amerix @kibe From cos nothing chang...   \n",
       "\n",
       "  Sentiment  \n",
       "0  Negative  \n",
       "1   Neutral  \n",
       "2  Positive  \n",
       "3  Negative  \n",
       "4  Positive  "
      ]
     },
     "execution_count": 13,
     "metadata": {},
     "output_type": "execute_result"
    }
   ],
   "source": [
    "df.head()"
   ]
  },
  {
   "cell_type": "code",
   "execution_count": 14,
   "id": "aa671ab0",
   "metadata": {
    "execution": {
     "iopub.execute_input": "2023-01-18T06:56:25.160572Z",
     "iopub.status.busy": "2023-01-18T06:56:25.159602Z",
     "iopub.status.idle": "2023-01-18T06:56:27.340374Z",
     "shell.execute_reply": "2023-01-18T06:56:27.339058Z"
    },
    "papermill": {
     "duration": 2.191342,
     "end_time": "2023-01-18T06:56:27.343461",
     "exception": false,
     "start_time": "2023-01-18T06:56:25.152119",
     "status": "completed"
    },
    "tags": []
   },
   "outputs": [],
   "source": [
    "english_punctuations = string.punctuation\n",
    "punctuations_list = english_punctuations\n",
    "def cleaning_punctuations(text):\n",
    "    translator = str.maketrans('', '', punctuations_list)\n",
    "    return text.translate(translator)\n",
    "df['text']= df['text'].apply(lambda x: cleaning_punctuations(x))"
   ]
  },
  {
   "cell_type": "code",
   "execution_count": 15,
   "id": "a321c647",
   "metadata": {
    "execution": {
     "iopub.execute_input": "2023-01-18T06:56:27.358267Z",
     "iopub.status.busy": "2023-01-18T06:56:27.357855Z",
     "iopub.status.idle": "2023-01-18T06:56:27.369540Z",
     "shell.execute_reply": "2023-01-18T06:56:27.368511Z"
    },
    "papermill": {
     "duration": 0.021586,
     "end_time": "2023-01-18T06:56:27.371851",
     "exception": false,
     "start_time": "2023-01-18T06:56:27.350265",
     "status": "completed"
    },
    "tags": []
   },
   "outputs": [
    {
     "data": {
      "text/html": [
       "<div>\n",
       "<style scoped>\n",
       "    .dataframe tbody tr th:only-of-type {\n",
       "        vertical-align: middle;\n",
       "    }\n",
       "\n",
       "    .dataframe tbody tr th {\n",
       "        vertical-align: top;\n",
       "    }\n",
       "\n",
       "    .dataframe thead th {\n",
       "        text-align: right;\n",
       "    }\n",
       "</style>\n",
       "<table border=\"1\" class=\"dataframe\">\n",
       "  <thead>\n",
       "    <tr style=\"text-align: right;\">\n",
       "      <th></th>\n",
       "      <th>tweet_created_at</th>\n",
       "      <th>text</th>\n",
       "      <th>Sentiment</th>\n",
       "    </tr>\n",
       "  </thead>\n",
       "  <tbody>\n",
       "    <tr>\n",
       "      <th>0</th>\n",
       "      <td>2022-12-30 22:37:46</td>\n",
       "      <td>Men refused listen toattend amerix classes men...</td>\n",
       "      <td>Negative</td>\n",
       "    </tr>\n",
       "    <tr>\n",
       "      <th>1</th>\n",
       "      <td>2022-12-30 22:30:58</td>\n",
       "      <td>OvOBrezzzy Take amerix next</td>\n",
       "      <td>Neutral</td>\n",
       "    </tr>\n",
       "    <tr>\n",
       "      <th>2</th>\n",
       "      <td>2022-12-30 22:18:00</td>\n",
       "      <td>AyodeleYo11 amerix Nah I’m good masculinity he...</td>\n",
       "      <td>Positive</td>\n",
       "    </tr>\n",
       "    <tr>\n",
       "      <th>3</th>\n",
       "      <td>2022-12-30 20:42:54</td>\n",
       "      <td>AmerixDontSimp There need dating first place</td>\n",
       "      <td>Negative</td>\n",
       "    </tr>\n",
       "    <tr>\n",
       "      <th>4</th>\n",
       "      <td>2022-12-30 20:32:23</td>\n",
       "      <td>DyeAnna7 amerix kibe From cos nothing changing...</td>\n",
       "      <td>Positive</td>\n",
       "    </tr>\n",
       "  </tbody>\n",
       "</table>\n",
       "</div>"
      ],
      "text/plain": [
       "     tweet_created_at                                               text  \\\n",
       "0 2022-12-30 22:37:46  Men refused listen toattend amerix classes men...   \n",
       "1 2022-12-30 22:30:58                        OvOBrezzzy Take amerix next   \n",
       "2 2022-12-30 22:18:00  AyodeleYo11 amerix Nah I’m good masculinity he...   \n",
       "3 2022-12-30 20:42:54       AmerixDontSimp There need dating first place   \n",
       "4 2022-12-30 20:32:23  DyeAnna7 amerix kibe From cos nothing changing...   \n",
       "\n",
       "  Sentiment  \n",
       "0  Negative  \n",
       "1   Neutral  \n",
       "2  Positive  \n",
       "3  Negative  \n",
       "4  Positive  "
      ]
     },
     "execution_count": 15,
     "metadata": {},
     "output_type": "execute_result"
    }
   ],
   "source": [
    "df.head()"
   ]
  },
  {
   "cell_type": "code",
   "execution_count": 16,
   "id": "aea87ab3",
   "metadata": {
    "execution": {
     "iopub.execute_input": "2023-01-18T06:56:27.388745Z",
     "iopub.status.busy": "2023-01-18T06:56:27.387483Z",
     "iopub.status.idle": "2023-01-18T06:56:28.518346Z",
     "shell.execute_reply": "2023-01-18T06:56:28.515915Z"
    },
    "papermill": {
     "duration": 1.142132,
     "end_time": "2023-01-18T06:56:28.521442",
     "exception": false,
     "start_time": "2023-01-18T06:56:27.379310",
     "status": "completed"
    },
    "tags": []
   },
   "outputs": [],
   "source": [
    "def cleaning_numbers(data):\n",
    "    return re.sub('[0-9]+','', data)\n",
    "df['text']= df['text'].apply(lambda x: cleaning_numbers(x))"
   ]
  },
  {
   "cell_type": "code",
   "execution_count": 17,
   "id": "eb73d47a",
   "metadata": {
    "execution": {
     "iopub.execute_input": "2023-01-18T06:56:28.536755Z",
     "iopub.status.busy": "2023-01-18T06:56:28.535727Z",
     "iopub.status.idle": "2023-01-18T06:56:28.547896Z",
     "shell.execute_reply": "2023-01-18T06:56:28.546704Z"
    },
    "papermill": {
     "duration": 0.022422,
     "end_time": "2023-01-18T06:56:28.550463",
     "exception": false,
     "start_time": "2023-01-18T06:56:28.528041",
     "status": "completed"
    },
    "tags": []
   },
   "outputs": [
    {
     "data": {
      "text/html": [
       "<div>\n",
       "<style scoped>\n",
       "    .dataframe tbody tr th:only-of-type {\n",
       "        vertical-align: middle;\n",
       "    }\n",
       "\n",
       "    .dataframe tbody tr th {\n",
       "        vertical-align: top;\n",
       "    }\n",
       "\n",
       "    .dataframe thead th {\n",
       "        text-align: right;\n",
       "    }\n",
       "</style>\n",
       "<table border=\"1\" class=\"dataframe\">\n",
       "  <thead>\n",
       "    <tr style=\"text-align: right;\">\n",
       "      <th></th>\n",
       "      <th>tweet_created_at</th>\n",
       "      <th>text</th>\n",
       "      <th>Sentiment</th>\n",
       "    </tr>\n",
       "  </thead>\n",
       "  <tbody>\n",
       "    <tr>\n",
       "      <th>0</th>\n",
       "      <td>2022-12-30 22:37:46</td>\n",
       "      <td>Men refused listen toattend amerix classes men...</td>\n",
       "      <td>Negative</td>\n",
       "    </tr>\n",
       "    <tr>\n",
       "      <th>1</th>\n",
       "      <td>2022-12-30 22:30:58</td>\n",
       "      <td>OvOBrezzzy Take amerix next</td>\n",
       "      <td>Neutral</td>\n",
       "    </tr>\n",
       "    <tr>\n",
       "      <th>2</th>\n",
       "      <td>2022-12-30 22:18:00</td>\n",
       "      <td>AyodeleYo amerix Nah I’m good masculinity heal...</td>\n",
       "      <td>Positive</td>\n",
       "    </tr>\n",
       "    <tr>\n",
       "      <th>3</th>\n",
       "      <td>2022-12-30 20:42:54</td>\n",
       "      <td>AmerixDontSimp There need dating first place</td>\n",
       "      <td>Negative</td>\n",
       "    </tr>\n",
       "    <tr>\n",
       "      <th>4</th>\n",
       "      <td>2022-12-30 20:32:23</td>\n",
       "      <td>DyeAnna amerix kibe From cos nothing changing ...</td>\n",
       "      <td>Positive</td>\n",
       "    </tr>\n",
       "  </tbody>\n",
       "</table>\n",
       "</div>"
      ],
      "text/plain": [
       "     tweet_created_at                                               text  \\\n",
       "0 2022-12-30 22:37:46  Men refused listen toattend amerix classes men...   \n",
       "1 2022-12-30 22:30:58                        OvOBrezzzy Take amerix next   \n",
       "2 2022-12-30 22:18:00  AyodeleYo amerix Nah I’m good masculinity heal...   \n",
       "3 2022-12-30 20:42:54       AmerixDontSimp There need dating first place   \n",
       "4 2022-12-30 20:32:23  DyeAnna amerix kibe From cos nothing changing ...   \n",
       "\n",
       "  Sentiment  \n",
       "0  Negative  \n",
       "1   Neutral  \n",
       "2  Positive  \n",
       "3  Negative  \n",
       "4  Positive  "
      ]
     },
     "execution_count": 17,
     "metadata": {},
     "output_type": "execute_result"
    }
   ],
   "source": [
    "df.head()"
   ]
  },
  {
   "cell_type": "code",
   "execution_count": 18,
   "id": "ca62cde5",
   "metadata": {
    "execution": {
     "iopub.execute_input": "2023-01-18T06:56:28.565724Z",
     "iopub.status.busy": "2023-01-18T06:56:28.565309Z",
     "iopub.status.idle": "2023-01-18T06:56:31.646880Z",
     "shell.execute_reply": "2023-01-18T06:56:31.645706Z"
    },
    "papermill": {
     "duration": 3.092994,
     "end_time": "2023-01-18T06:56:31.650178",
     "exception": false,
     "start_time": "2023-01-18T06:56:28.557184",
     "status": "completed"
    },
    "tags": []
   },
   "outputs": [],
   "source": [
    "def alphanumeral(text):\n",
    "    # convert to lowercase, susbstitute non alphanumerical characters with whitespaces\n",
    "    text = re.sub('<[^>]*>', '', text)\n",
    "    emoticons = re.findall('(?::|;|=)(?:-)?(?:\\)|\\(|D|P)', text)\n",
    "    text = (re.sub('[\\W]+', ' ', text.lower()) +\n",
    "            ' '.join(emoticons).replace('-', ''))\n",
    "    return text\n",
    "\n",
    "df['text']= df['text'].apply(lambda x: alphanumeral(x))"
   ]
  },
  {
   "cell_type": "code",
   "execution_count": 19,
   "id": "4681e963",
   "metadata": {
    "execution": {
     "iopub.execute_input": "2023-01-18T06:56:31.665494Z",
     "iopub.status.busy": "2023-01-18T06:56:31.665073Z",
     "iopub.status.idle": "2023-01-18T06:56:31.676961Z",
     "shell.execute_reply": "2023-01-18T06:56:31.675879Z"
    },
    "papermill": {
     "duration": 0.02247,
     "end_time": "2023-01-18T06:56:31.679542",
     "exception": false,
     "start_time": "2023-01-18T06:56:31.657072",
     "status": "completed"
    },
    "tags": []
   },
   "outputs": [
    {
     "data": {
      "text/html": [
       "<div>\n",
       "<style scoped>\n",
       "    .dataframe tbody tr th:only-of-type {\n",
       "        vertical-align: middle;\n",
       "    }\n",
       "\n",
       "    .dataframe tbody tr th {\n",
       "        vertical-align: top;\n",
       "    }\n",
       "\n",
       "    .dataframe thead th {\n",
       "        text-align: right;\n",
       "    }\n",
       "</style>\n",
       "<table border=\"1\" class=\"dataframe\">\n",
       "  <thead>\n",
       "    <tr style=\"text-align: right;\">\n",
       "      <th></th>\n",
       "      <th>tweet_created_at</th>\n",
       "      <th>text</th>\n",
       "      <th>Sentiment</th>\n",
       "    </tr>\n",
       "  </thead>\n",
       "  <tbody>\n",
       "    <tr>\n",
       "      <th>0</th>\n",
       "      <td>2022-12-30 22:37:46</td>\n",
       "      <td>men refused listen toattend amerix classes men...</td>\n",
       "      <td>Negative</td>\n",
       "    </tr>\n",
       "    <tr>\n",
       "      <th>1</th>\n",
       "      <td>2022-12-30 22:30:58</td>\n",
       "      <td>ovobrezzzy take amerix next</td>\n",
       "      <td>Neutral</td>\n",
       "    </tr>\n",
       "    <tr>\n",
       "      <th>2</th>\n",
       "      <td>2022-12-30 22:18:00</td>\n",
       "      <td>ayodeleyo amerix nah i m good masculinity heal...</td>\n",
       "      <td>Positive</td>\n",
       "    </tr>\n",
       "    <tr>\n",
       "      <th>3</th>\n",
       "      <td>2022-12-30 20:42:54</td>\n",
       "      <td>amerixdontsimp there need dating first place</td>\n",
       "      <td>Negative</td>\n",
       "    </tr>\n",
       "    <tr>\n",
       "      <th>4</th>\n",
       "      <td>2022-12-30 20:32:23</td>\n",
       "      <td>dyeanna amerix kibe from cos nothing changing ...</td>\n",
       "      <td>Positive</td>\n",
       "    </tr>\n",
       "  </tbody>\n",
       "</table>\n",
       "</div>"
      ],
      "text/plain": [
       "     tweet_created_at                                               text  \\\n",
       "0 2022-12-30 22:37:46  men refused listen toattend amerix classes men...   \n",
       "1 2022-12-30 22:30:58                        ovobrezzzy take amerix next   \n",
       "2 2022-12-30 22:18:00  ayodeleyo amerix nah i m good masculinity heal...   \n",
       "3 2022-12-30 20:42:54       amerixdontsimp there need dating first place   \n",
       "4 2022-12-30 20:32:23  dyeanna amerix kibe from cos nothing changing ...   \n",
       "\n",
       "  Sentiment  \n",
       "0  Negative  \n",
       "1   Neutral  \n",
       "2  Positive  \n",
       "3  Negative  \n",
       "4  Positive  "
      ]
     },
     "execution_count": 19,
     "metadata": {},
     "output_type": "execute_result"
    }
   ],
   "source": [
    "df.head()"
   ]
  },
  {
   "cell_type": "code",
   "execution_count": null,
   "id": "e5030d12",
   "metadata": {
    "papermill": {
     "duration": 0.006476,
     "end_time": "2023-01-18T06:56:31.692853",
     "exception": false,
     "start_time": "2023-01-18T06:56:31.686377",
     "status": "completed"
    },
    "tags": []
   },
   "outputs": [],
   "source": []
  }
 ],
 "metadata": {
  "kernelspec": {
   "display_name": "Python 3",
   "language": "python",
   "name": "python3"
  },
  "language_info": {
   "codemirror_mode": {
    "name": "ipython",
    "version": 3
   },
   "file_extension": ".py",
   "mimetype": "text/x-python",
   "name": "python",
   "nbconvert_exporter": "python",
   "pygments_lexer": "ipython3",
   "version": "3.7.12"
  },
  "papermill": {
   "default_parameters": {},
   "duration": 23.591661,
   "end_time": "2023-01-18T06:56:32.522721",
   "environment_variables": {},
   "exception": null,
   "input_path": "__notebook__.ipynb",
   "output_path": "__notebook__.ipynb",
   "parameters": {},
   "start_time": "2023-01-18T06:56:08.931060",
   "version": "2.3.4"
  }
 },
 "nbformat": 4,
 "nbformat_minor": 5
}
