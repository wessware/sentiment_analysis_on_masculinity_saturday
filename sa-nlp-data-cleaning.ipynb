{
 "cells": [
  {
   "cell_type": "code",
   "execution_count": 1,
   "id": "41cfdda8",
   "metadata": {
    "_cell_guid": "b1076dfc-b9ad-4769-8c92-a6c4dae69d19",
    "_uuid": "8f2839f25d086af736a60e9eeb907d3b93b6e0e5",
    "execution": {
     "iopub.execute_input": "2023-01-18T06:50:38.940676Z",
     "iopub.status.busy": "2023-01-18T06:50:38.940007Z",
     "iopub.status.idle": "2023-01-18T06:50:40.647460Z",
     "shell.execute_reply": "2023-01-18T06:50:40.645080Z"
    },
    "papermill": {
     "duration": 1.722002,
     "end_time": "2023-01-18T06:50:40.653136",
     "exception": false,
     "start_time": "2023-01-18T06:50:38.931134",
     "status": "completed"
    },
    "tags": []
   },
   "outputs": [],
   "source": [
    "import pandas as pd\n",
    "\n",
    "import re\n",
    "\n",
    "import nltk\n",
    "from nltk import pos_tag, word_tokenize\n",
    "from nltk.stem import WordNetLemmatizer \n",
    "from nltk.stem.porter import PorterStemmer\n",
    "from nltk.corpus import stopwords"
   ]
  },
  {
   "cell_type": "code",
   "execution_count": 2,
   "id": "f52d5d75",
   "metadata": {
    "execution": {
     "iopub.execute_input": "2023-01-18T06:50:40.667233Z",
     "iopub.status.busy": "2023-01-18T06:50:40.665299Z",
     "iopub.status.idle": "2023-01-18T06:50:42.863463Z",
     "shell.execute_reply": "2023-01-18T06:50:42.862262Z"
    },
    "papermill": {
     "duration": 2.20843,
     "end_time": "2023-01-18T06:50:42.866903",
     "exception": false,
     "start_time": "2023-01-18T06:50:40.658473",
     "status": "completed"
    },
    "tags": []
   },
   "outputs": [],
   "source": [
    "df = pd.read_csv('/kaggle/input/masculinity-saturday-twitter-sentiment-analysis/twitter_sentiment_analysis_masculinity_saturday_data_annotated.csv')"
   ]
  },
  {
   "cell_type": "code",
   "execution_count": 3,
   "id": "87c6adf9",
   "metadata": {
    "execution": {
     "iopub.execute_input": "2023-01-18T06:50:42.877925Z",
     "iopub.status.busy": "2023-01-18T06:50:42.877458Z",
     "iopub.status.idle": "2023-01-18T06:50:42.894444Z",
     "shell.execute_reply": "2023-01-18T06:50:42.893360Z"
    },
    "papermill": {
     "duration": 0.026473,
     "end_time": "2023-01-18T06:50:42.897978",
     "exception": false,
     "start_time": "2023-01-18T06:50:42.871505",
     "status": "completed"
    },
    "tags": []
   },
   "outputs": [
    {
     "name": "stdout",
     "output_type": "stream",
     "text": [
      "   Unnamed: 0           tweet_created_at  \\\n",
      "0           0  2022-12-30 22:37:46+00:00   \n",
      "1           1  2022-12-30 22:30:58+00:00   \n",
      "2           2  2022-12-30 22:18:00+00:00   \n",
      "3           3  2022-12-30 20:42:54+00:00   \n",
      "4           4  2022-12-30 20:32:23+00:00   \n",
      "\n",
      "                                                text  Positive  Negative  \\\n",
      "0  Men who have refused to listen to/attend @amer...     0.000     0.073   \n",
      "1                       @OvOBrezzzy Take amerix next     0.000     0.000   \n",
      "2  @AyodeleYo11 @amerix Nah I’m good my masculini...     0.493     0.068   \n",
      "3  @Amerix_DontSimp There is no need for dating i...     0.000     0.180   \n",
      "4  @DyeAnna7 @amerix @kibe From what cos nothing ...     0.110     0.000   \n",
      "\n",
      "   Neutral  Compound Sentiment  \n",
      "0    0.927   -0.2960  Negative  \n",
      "1    1.000    0.0000   Neutral  \n",
      "2    0.439    0.8271  Positive  \n",
      "3    0.820   -0.2960  Negative  \n",
      "4    0.890    0.6908  Positive  \n"
     ]
    }
   ],
   "source": [
    "print(df.head())"
   ]
  },
  {
   "cell_type": "code",
   "execution_count": 4,
   "id": "0d0d15a6",
   "metadata": {
    "execution": {
     "iopub.execute_input": "2023-01-18T06:50:42.910418Z",
     "iopub.status.busy": "2023-01-18T06:50:42.909280Z",
     "iopub.status.idle": "2023-01-18T06:50:42.997649Z",
     "shell.execute_reply": "2023-01-18T06:50:42.996435Z"
    },
    "papermill": {
     "duration": 0.097432,
     "end_time": "2023-01-18T06:50:43.000657",
     "exception": false,
     "start_time": "2023-01-18T06:50:42.903225",
     "status": "completed"
    },
    "tags": []
   },
   "outputs": [
    {
     "name": "stdout",
     "output_type": "stream",
     "text": [
      "<class 'pandas.core.frame.DataFrame'>\n",
      "RangeIndex: 248738 entries, 0 to 248737\n",
      "Data columns (total 8 columns):\n",
      " #   Column            Non-Null Count   Dtype  \n",
      "---  ------            --------------   -----  \n",
      " 0   Unnamed: 0        248738 non-null  int64  \n",
      " 1   tweet_created_at  248738 non-null  object \n",
      " 2   text              248738 non-null  object \n",
      " 3   Positive          248738 non-null  float64\n",
      " 4   Negative          248738 non-null  float64\n",
      " 5   Neutral           248738 non-null  float64\n",
      " 6   Compound          248738 non-null  float64\n",
      " 7   Sentiment         248738 non-null  object \n",
      "dtypes: float64(4), int64(1), object(3)\n",
      "memory usage: 15.2+ MB\n"
     ]
    }
   ],
   "source": [
    "df.info()"
   ]
  },
  {
   "cell_type": "code",
   "execution_count": 5,
   "id": "4e0e05fc",
   "metadata": {
    "execution": {
     "iopub.execute_input": "2023-01-18T06:50:43.012145Z",
     "iopub.status.busy": "2023-01-18T06:50:43.010993Z",
     "iopub.status.idle": "2023-01-18T06:50:43.042369Z",
     "shell.execute_reply": "2023-01-18T06:50:43.041116Z"
    },
    "papermill": {
     "duration": 0.03984,
     "end_time": "2023-01-18T06:50:43.045098",
     "exception": false,
     "start_time": "2023-01-18T06:50:43.005258",
     "status": "completed"
    },
    "tags": []
   },
   "outputs": [],
   "source": [
    "df = df.drop(columns=['Unnamed: 0', 'Positive', 'Negative',\n",
    "       'Neutral', 'Compound'])"
   ]
  },
  {
   "cell_type": "code",
   "execution_count": 6,
   "id": "ccea61c5",
   "metadata": {
    "execution": {
     "iopub.execute_input": "2023-01-18T06:50:43.056329Z",
     "iopub.status.busy": "2023-01-18T06:50:43.055879Z",
     "iopub.status.idle": "2023-01-18T06:50:43.066967Z",
     "shell.execute_reply": "2023-01-18T06:50:43.065317Z"
    },
    "papermill": {
     "duration": 0.019976,
     "end_time": "2023-01-18T06:50:43.069847",
     "exception": false,
     "start_time": "2023-01-18T06:50:43.049871",
     "status": "completed"
    },
    "tags": []
   },
   "outputs": [
    {
     "data": {
      "text/plain": [
       "Index(['tweet_created_at', 'text', 'Sentiment'], dtype='object')"
      ]
     },
     "execution_count": 6,
     "metadata": {},
     "output_type": "execute_result"
    }
   ],
   "source": [
    "df.columns"
   ]
  },
  {
   "cell_type": "code",
   "execution_count": 7,
   "id": "499da91a",
   "metadata": {
    "execution": {
     "iopub.execute_input": "2023-01-18T06:50:43.081527Z",
     "iopub.status.busy": "2023-01-18T06:50:43.081040Z",
     "iopub.status.idle": "2023-01-18T06:50:43.235556Z",
     "shell.execute_reply": "2023-01-18T06:50:43.233234Z"
    },
    "papermill": {
     "duration": 0.16429,
     "end_time": "2023-01-18T06:50:43.239065",
     "exception": false,
     "start_time": "2023-01-18T06:50:43.074775",
     "status": "completed"
    },
    "tags": []
   },
   "outputs": [],
   "source": [
    "df['tweet_created_at'] = df['tweet_created_at'].astype('datetime64[ns]')"
   ]
  },
  {
   "cell_type": "code",
   "execution_count": 8,
   "id": "386834c1",
   "metadata": {
    "execution": {
     "iopub.execute_input": "2023-01-18T06:50:43.251747Z",
     "iopub.status.busy": "2023-01-18T06:50:43.250504Z",
     "iopub.status.idle": "2023-01-18T06:50:43.313951Z",
     "shell.execute_reply": "2023-01-18T06:50:43.312274Z"
    },
    "papermill": {
     "duration": 0.073213,
     "end_time": "2023-01-18T06:50:43.317237",
     "exception": false,
     "start_time": "2023-01-18T06:50:43.244024",
     "status": "completed"
    },
    "tags": []
   },
   "outputs": [
    {
     "name": "stdout",
     "output_type": "stream",
     "text": [
      "<class 'pandas.core.frame.DataFrame'>\n",
      "RangeIndex: 248738 entries, 0 to 248737\n",
      "Data columns (total 3 columns):\n",
      " #   Column            Non-Null Count   Dtype         \n",
      "---  ------            --------------   -----         \n",
      " 0   tweet_created_at  248738 non-null  datetime64[ns]\n",
      " 1   text              248738 non-null  object        \n",
      " 2   Sentiment         248738 non-null  object        \n",
      "dtypes: datetime64[ns](1), object(2)\n",
      "memory usage: 5.7+ MB\n"
     ]
    }
   ],
   "source": [
    "df.info()"
   ]
  },
  {
   "cell_type": "code",
   "execution_count": 9,
   "id": "e36119a1",
   "metadata": {
    "execution": {
     "iopub.execute_input": "2023-01-18T06:50:43.328232Z",
     "iopub.status.busy": "2023-01-18T06:50:43.327815Z",
     "iopub.status.idle": "2023-01-18T06:50:43.337291Z",
     "shell.execute_reply": "2023-01-18T06:50:43.335620Z"
    },
    "papermill": {
     "duration": 0.020618,
     "end_time": "2023-01-18T06:50:43.342613",
     "exception": false,
     "start_time": "2023-01-18T06:50:43.321995",
     "status": "completed"
    },
    "tags": []
   },
   "outputs": [
    {
     "name": "stdout",
     "output_type": "stream",
     "text": [
      "     tweet_created_at                                               text  \\\n",
      "0 2022-12-30 22:37:46  Men who have refused to listen to/attend @amer...   \n",
      "1 2022-12-30 22:30:58                       @OvOBrezzzy Take amerix next   \n",
      "2 2022-12-30 22:18:00  @AyodeleYo11 @amerix Nah I’m good my masculini...   \n",
      "3 2022-12-30 20:42:54  @Amerix_DontSimp There is no need for dating i...   \n",
      "4 2022-12-30 20:32:23  @DyeAnna7 @amerix @kibe From what cos nothing ...   \n",
      "\n",
      "  Sentiment  \n",
      "0  Negative  \n",
      "1   Neutral  \n",
      "2  Positive  \n",
      "3  Negative  \n",
      "4  Positive  \n"
     ]
    }
   ],
   "source": [
    "print(df.head())"
   ]
  },
  {
   "cell_type": "code",
   "execution_count": 10,
   "id": "a263c0b5",
   "metadata": {
    "execution": {
     "iopub.execute_input": "2023-01-18T06:50:43.357042Z",
     "iopub.status.busy": "2023-01-18T06:50:43.356513Z",
     "iopub.status.idle": "2023-01-18T06:50:44.960477Z",
     "shell.execute_reply": "2023-01-18T06:50:44.959090Z"
    },
    "papermill": {
     "duration": 1.614847,
     "end_time": "2023-01-18T06:50:44.964208",
     "exception": false,
     "start_time": "2023-01-18T06:50:43.349361",
     "status": "completed"
    },
    "tags": []
   },
   "outputs": [],
   "source": [
    "STOPWORDS = set(stopwords.words('english'))\n",
    "\n",
    "def cleaning_stopwords(text):\n",
    "    return \" \".join([word for word in str(text).split() if word not in STOPWORDS])\n",
    "\n",
    "df['text'] = df['text'].apply(lambda text: cleaning_stopwords(text))"
   ]
  },
  {
   "cell_type": "code",
   "execution_count": 11,
   "id": "2749276a",
   "metadata": {
    "execution": {
     "iopub.execute_input": "2023-01-18T06:50:44.976896Z",
     "iopub.status.busy": "2023-01-18T06:50:44.976397Z",
     "iopub.status.idle": "2023-01-18T06:50:44.993527Z",
     "shell.execute_reply": "2023-01-18T06:50:44.991783Z"
    },
    "papermill": {
     "duration": 0.027668,
     "end_time": "2023-01-18T06:50:44.997279",
     "exception": false,
     "start_time": "2023-01-18T06:50:44.969611",
     "status": "completed"
    },
    "tags": []
   },
   "outputs": [
    {
     "data": {
      "text/html": [
       "<div>\n",
       "<style scoped>\n",
       "    .dataframe tbody tr th:only-of-type {\n",
       "        vertical-align: middle;\n",
       "    }\n",
       "\n",
       "    .dataframe tbody tr th {\n",
       "        vertical-align: top;\n",
       "    }\n",
       "\n",
       "    .dataframe thead th {\n",
       "        text-align: right;\n",
       "    }\n",
       "</style>\n",
       "<table border=\"1\" class=\"dataframe\">\n",
       "  <thead>\n",
       "    <tr style=\"text-align: right;\">\n",
       "      <th></th>\n",
       "      <th>tweet_created_at</th>\n",
       "      <th>text</th>\n",
       "      <th>Sentiment</th>\n",
       "    </tr>\n",
       "  </thead>\n",
       "  <tbody>\n",
       "    <tr>\n",
       "      <th>0</th>\n",
       "      <td>2022-12-30 22:37:46</td>\n",
       "      <td>Men refused listen to/attend @amerix classes m...</td>\n",
       "      <td>Negative</td>\n",
       "    </tr>\n",
       "    <tr>\n",
       "      <th>1</th>\n",
       "      <td>2022-12-30 22:30:58</td>\n",
       "      <td>@OvOBrezzzy Take amerix next</td>\n",
       "      <td>Neutral</td>\n",
       "    </tr>\n",
       "    <tr>\n",
       "      <th>2</th>\n",
       "      <td>2022-12-30 22:18:00</td>\n",
       "      <td>@AyodeleYo11 @amerix Nah I’m good masculinity,...</td>\n",
       "      <td>Positive</td>\n",
       "    </tr>\n",
       "    <tr>\n",
       "      <th>3</th>\n",
       "      <td>2022-12-30 20:42:54</td>\n",
       "      <td>@Amerix_DontSimp There need dating first place</td>\n",
       "      <td>Negative</td>\n",
       "    </tr>\n",
       "    <tr>\n",
       "      <th>4</th>\n",
       "      <td>2022-12-30 20:32:23</td>\n",
       "      <td>@DyeAnna7 @amerix @kibe From cos nothing chang...</td>\n",
       "      <td>Positive</td>\n",
       "    </tr>\n",
       "  </tbody>\n",
       "</table>\n",
       "</div>"
      ],
      "text/plain": [
       "     tweet_created_at                                               text  \\\n",
       "0 2022-12-30 22:37:46  Men refused listen to/attend @amerix classes m...   \n",
       "1 2022-12-30 22:30:58                       @OvOBrezzzy Take amerix next   \n",
       "2 2022-12-30 22:18:00  @AyodeleYo11 @amerix Nah I’m good masculinity,...   \n",
       "3 2022-12-30 20:42:54     @Amerix_DontSimp There need dating first place   \n",
       "4 2022-12-30 20:32:23  @DyeAnna7 @amerix @kibe From cos nothing chang...   \n",
       "\n",
       "  Sentiment  \n",
       "0  Negative  \n",
       "1   Neutral  \n",
       "2  Positive  \n",
       "3  Negative  \n",
       "4  Positive  "
      ]
     },
     "execution_count": 11,
     "metadata": {},
     "output_type": "execute_result"
    }
   ],
   "source": [
    "df.head()"
   ]
  },
  {
   "cell_type": "code",
   "execution_count": 12,
   "id": "b333233f",
   "metadata": {
    "execution": {
     "iopub.execute_input": "2023-01-18T06:50:45.010112Z",
     "iopub.status.busy": "2023-01-18T06:50:45.009626Z",
     "iopub.status.idle": "2023-01-18T06:50:47.279159Z",
     "shell.execute_reply": "2023-01-18T06:50:47.277501Z"
    },
    "papermill": {
     "duration": 2.280229,
     "end_time": "2023-01-18T06:50:47.282877",
     "exception": false,
     "start_time": "2023-01-18T06:50:45.002648",
     "status": "completed"
    },
    "tags": []
   },
   "outputs": [],
   "source": [
    "def cleaning_URLs(data):\n",
    "    return re.sub('((www\\.[^\\s]+)|(https?://[^\\s]+))',' ',data)\n",
    "df['text']= df['text'].apply(lambda x: cleaning_URLs(x))"
   ]
  },
  {
   "cell_type": "code",
   "execution_count": 13,
   "id": "8b0c1a7a",
   "metadata": {
    "execution": {
     "iopub.execute_input": "2023-01-18T06:50:47.296174Z",
     "iopub.status.busy": "2023-01-18T06:50:47.295680Z",
     "iopub.status.idle": "2023-01-18T06:50:47.308533Z",
     "shell.execute_reply": "2023-01-18T06:50:47.307359Z"
    },
    "papermill": {
     "duration": 0.022923,
     "end_time": "2023-01-18T06:50:47.311173",
     "exception": false,
     "start_time": "2023-01-18T06:50:47.288250",
     "status": "completed"
    },
    "tags": []
   },
   "outputs": [
    {
     "data": {
      "text/html": [
       "<div>\n",
       "<style scoped>\n",
       "    .dataframe tbody tr th:only-of-type {\n",
       "        vertical-align: middle;\n",
       "    }\n",
       "\n",
       "    .dataframe tbody tr th {\n",
       "        vertical-align: top;\n",
       "    }\n",
       "\n",
       "    .dataframe thead th {\n",
       "        text-align: right;\n",
       "    }\n",
       "</style>\n",
       "<table border=\"1\" class=\"dataframe\">\n",
       "  <thead>\n",
       "    <tr style=\"text-align: right;\">\n",
       "      <th></th>\n",
       "      <th>tweet_created_at</th>\n",
       "      <th>text</th>\n",
       "      <th>Sentiment</th>\n",
       "    </tr>\n",
       "  </thead>\n",
       "  <tbody>\n",
       "    <tr>\n",
       "      <th>0</th>\n",
       "      <td>2022-12-30 22:37:46</td>\n",
       "      <td>Men refused listen to/attend @amerix classes m...</td>\n",
       "      <td>Negative</td>\n",
       "    </tr>\n",
       "    <tr>\n",
       "      <th>1</th>\n",
       "      <td>2022-12-30 22:30:58</td>\n",
       "      <td>@OvOBrezzzy Take amerix next</td>\n",
       "      <td>Neutral</td>\n",
       "    </tr>\n",
       "    <tr>\n",
       "      <th>2</th>\n",
       "      <td>2022-12-30 22:18:00</td>\n",
       "      <td>@AyodeleYo11 @amerix Nah I’m good masculinity,...</td>\n",
       "      <td>Positive</td>\n",
       "    </tr>\n",
       "    <tr>\n",
       "      <th>3</th>\n",
       "      <td>2022-12-30 20:42:54</td>\n",
       "      <td>@Amerix_DontSimp There need dating first place</td>\n",
       "      <td>Negative</td>\n",
       "    </tr>\n",
       "    <tr>\n",
       "      <th>4</th>\n",
       "      <td>2022-12-30 20:32:23</td>\n",
       "      <td>@DyeAnna7 @amerix @kibe From cos nothing chang...</td>\n",
       "      <td>Positive</td>\n",
       "    </tr>\n",
       "  </tbody>\n",
       "</table>\n",
       "</div>"
      ],
      "text/plain": [
       "     tweet_created_at                                               text  \\\n",
       "0 2022-12-30 22:37:46  Men refused listen to/attend @amerix classes m...   \n",
       "1 2022-12-30 22:30:58                       @OvOBrezzzy Take amerix next   \n",
       "2 2022-12-30 22:18:00  @AyodeleYo11 @amerix Nah I’m good masculinity,...   \n",
       "3 2022-12-30 20:42:54     @Amerix_DontSimp There need dating first place   \n",
       "4 2022-12-30 20:32:23  @DyeAnna7 @amerix @kibe From cos nothing chang...   \n",
       "\n",
       "  Sentiment  \n",
       "0  Negative  \n",
       "1   Neutral  \n",
       "2  Positive  \n",
       "3  Negative  \n",
       "4  Positive  "
      ]
     },
     "execution_count": 13,
     "metadata": {},
     "output_type": "execute_result"
    }
   ],
   "source": [
    "df.head()"
   ]
  },
  {
   "cell_type": "code",
   "execution_count": null,
   "id": "b2ceedfd",
   "metadata": {
    "papermill": {
     "duration": 0.004669,
     "end_time": "2023-01-18T06:50:47.321017",
     "exception": false,
     "start_time": "2023-01-18T06:50:47.316348",
     "status": "completed"
    },
    "tags": []
   },
   "outputs": [],
   "source": []
  }
 ],
 "metadata": {
  "kernelspec": {
   "display_name": "Python 3",
   "language": "python",
   "name": "python3"
  },
  "language_info": {
   "codemirror_mode": {
    "name": "ipython",
    "version": 3
   },
   "file_extension": ".py",
   "mimetype": "text/x-python",
   "name": "python",
   "nbconvert_exporter": "python",
   "pygments_lexer": "ipython3",
   "version": "3.7.12"
  },
  "papermill": {
   "default_parameters": {},
   "duration": 18.885034,
   "end_time": "2023-01-18T06:50:48.450850",
   "environment_variables": {},
   "exception": null,
   "input_path": "__notebook__.ipynb",
   "output_path": "__notebook__.ipynb",
   "parameters": {},
   "start_time": "2023-01-18T06:50:29.565816",
   "version": "2.3.4"
  }
 },
 "nbformat": 4,
 "nbformat_minor": 5
}
