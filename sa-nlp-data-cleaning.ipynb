{
 "cells": [
  {
   "cell_type": "code",
   "execution_count": 1,
   "id": "a1bbac94",
   "metadata": {
    "_cell_guid": "b1076dfc-b9ad-4769-8c92-a6c4dae69d19",
    "_uuid": "8f2839f25d086af736a60e9eeb907d3b93b6e0e5",
    "execution": {
     "iopub.execute_input": "2023-01-18T06:52:29.769416Z",
     "iopub.status.busy": "2023-01-18T06:52:29.768954Z",
     "iopub.status.idle": "2023-01-18T06:52:31.448275Z",
     "shell.execute_reply": "2023-01-18T06:52:31.447167Z"
    },
    "papermill": {
     "duration": 1.689321,
     "end_time": "2023-01-18T06:52:31.451165",
     "exception": false,
     "start_time": "2023-01-18T06:52:29.761844",
     "status": "completed"
    },
    "tags": []
   },
   "outputs": [],
   "source": [
    "import pandas as pd\n",
    "\n",
    "import re\n",
    "import string\n",
    "\n",
    "import nltk\n",
    "from nltk import pos_tag, word_tokenize\n",
    "from nltk.stem import WordNetLemmatizer \n",
    "from nltk.stem.porter import PorterStemmer\n",
    "from nltk.corpus import stopwords"
   ]
  },
  {
   "cell_type": "code",
   "execution_count": 2,
   "id": "9467add7",
   "metadata": {
    "execution": {
     "iopub.execute_input": "2023-01-18T06:52:31.462031Z",
     "iopub.status.busy": "2023-01-18T06:52:31.461659Z",
     "iopub.status.idle": "2023-01-18T06:52:33.299300Z",
     "shell.execute_reply": "2023-01-18T06:52:33.298134Z"
    },
    "papermill": {
     "duration": 1.84625,
     "end_time": "2023-01-18T06:52:33.302146",
     "exception": false,
     "start_time": "2023-01-18T06:52:31.455896",
     "status": "completed"
    },
    "tags": []
   },
   "outputs": [],
   "source": [
    "df = pd.read_csv('/kaggle/input/masculinity-saturday-twitter-sentiment-analysis/twitter_sentiment_analysis_masculinity_saturday_data_annotated.csv')"
   ]
  },
  {
   "cell_type": "code",
   "execution_count": 3,
   "id": "c680723c",
   "metadata": {
    "execution": {
     "iopub.execute_input": "2023-01-18T06:52:33.312824Z",
     "iopub.status.busy": "2023-01-18T06:52:33.312325Z",
     "iopub.status.idle": "2023-01-18T06:52:33.327780Z",
     "shell.execute_reply": "2023-01-18T06:52:33.326705Z"
    },
    "papermill": {
     "duration": 0.023766,
     "end_time": "2023-01-18T06:52:33.330582",
     "exception": false,
     "start_time": "2023-01-18T06:52:33.306816",
     "status": "completed"
    },
    "tags": []
   },
   "outputs": [
    {
     "name": "stdout",
     "output_type": "stream",
     "text": [
      "   Unnamed: 0           tweet_created_at  \\\n",
      "0           0  2022-12-30 22:37:46+00:00   \n",
      "1           1  2022-12-30 22:30:58+00:00   \n",
      "2           2  2022-12-30 22:18:00+00:00   \n",
      "3           3  2022-12-30 20:42:54+00:00   \n",
      "4           4  2022-12-30 20:32:23+00:00   \n",
      "\n",
      "                                                text  Positive  Negative  \\\n",
      "0  Men who have refused to listen to/attend @amer...     0.000     0.073   \n",
      "1                       @OvOBrezzzy Take amerix next     0.000     0.000   \n",
      "2  @AyodeleYo11 @amerix Nah I’m good my masculini...     0.493     0.068   \n",
      "3  @Amerix_DontSimp There is no need for dating i...     0.000     0.180   \n",
      "4  @DyeAnna7 @amerix @kibe From what cos nothing ...     0.110     0.000   \n",
      "\n",
      "   Neutral  Compound Sentiment  \n",
      "0    0.927   -0.2960  Negative  \n",
      "1    1.000    0.0000   Neutral  \n",
      "2    0.439    0.8271  Positive  \n",
      "3    0.820   -0.2960  Negative  \n",
      "4    0.890    0.6908  Positive  \n"
     ]
    }
   ],
   "source": [
    "print(df.head())"
   ]
  },
  {
   "cell_type": "code",
   "execution_count": 4,
   "id": "2aace915",
   "metadata": {
    "execution": {
     "iopub.execute_input": "2023-01-18T06:52:33.341643Z",
     "iopub.status.busy": "2023-01-18T06:52:33.340516Z",
     "iopub.status.idle": "2023-01-18T06:52:33.416065Z",
     "shell.execute_reply": "2023-01-18T06:52:33.414551Z"
    },
    "papermill": {
     "duration": 0.083415,
     "end_time": "2023-01-18T06:52:33.418465",
     "exception": false,
     "start_time": "2023-01-18T06:52:33.335050",
     "status": "completed"
    },
    "tags": []
   },
   "outputs": [
    {
     "name": "stdout",
     "output_type": "stream",
     "text": [
      "<class 'pandas.core.frame.DataFrame'>\n",
      "RangeIndex: 248738 entries, 0 to 248737\n",
      "Data columns (total 8 columns):\n",
      " #   Column            Non-Null Count   Dtype  \n",
      "---  ------            --------------   -----  \n",
      " 0   Unnamed: 0        248738 non-null  int64  \n",
      " 1   tweet_created_at  248738 non-null  object \n",
      " 2   text              248738 non-null  object \n",
      " 3   Positive          248738 non-null  float64\n",
      " 4   Negative          248738 non-null  float64\n",
      " 5   Neutral           248738 non-null  float64\n",
      " 6   Compound          248738 non-null  float64\n",
      " 7   Sentiment         248738 non-null  object \n",
      "dtypes: float64(4), int64(1), object(3)\n",
      "memory usage: 15.2+ MB\n"
     ]
    }
   ],
   "source": [
    "df.info()"
   ]
  },
  {
   "cell_type": "code",
   "execution_count": 5,
   "id": "fb4c9cb2",
   "metadata": {
    "execution": {
     "iopub.execute_input": "2023-01-18T06:52:33.429678Z",
     "iopub.status.busy": "2023-01-18T06:52:33.429154Z",
     "iopub.status.idle": "2023-01-18T06:52:33.456435Z",
     "shell.execute_reply": "2023-01-18T06:52:33.455296Z"
    },
    "papermill": {
     "duration": 0.036189,
     "end_time": "2023-01-18T06:52:33.459255",
     "exception": false,
     "start_time": "2023-01-18T06:52:33.423066",
     "status": "completed"
    },
    "tags": []
   },
   "outputs": [],
   "source": [
    "df = df.drop(columns=['Unnamed: 0', 'Positive', 'Negative',\n",
    "       'Neutral', 'Compound'])"
   ]
  },
  {
   "cell_type": "code",
   "execution_count": 6,
   "id": "0b025cce",
   "metadata": {
    "execution": {
     "iopub.execute_input": "2023-01-18T06:52:33.470610Z",
     "iopub.status.busy": "2023-01-18T06:52:33.470010Z",
     "iopub.status.idle": "2023-01-18T06:52:33.481249Z",
     "shell.execute_reply": "2023-01-18T06:52:33.480000Z"
    },
    "papermill": {
     "duration": 0.019723,
     "end_time": "2023-01-18T06:52:33.483889",
     "exception": false,
     "start_time": "2023-01-18T06:52:33.464166",
     "status": "completed"
    },
    "tags": []
   },
   "outputs": [
    {
     "data": {
      "text/plain": [
       "Index(['tweet_created_at', 'text', 'Sentiment'], dtype='object')"
      ]
     },
     "execution_count": 6,
     "metadata": {},
     "output_type": "execute_result"
    }
   ],
   "source": [
    "df.columns"
   ]
  },
  {
   "cell_type": "code",
   "execution_count": 7,
   "id": "95155146",
   "metadata": {
    "execution": {
     "iopub.execute_input": "2023-01-18T06:52:33.495249Z",
     "iopub.status.busy": "2023-01-18T06:52:33.494874Z",
     "iopub.status.idle": "2023-01-18T06:52:33.647576Z",
     "shell.execute_reply": "2023-01-18T06:52:33.646471Z"
    },
    "papermill": {
     "duration": 0.161196,
     "end_time": "2023-01-18T06:52:33.650282",
     "exception": false,
     "start_time": "2023-01-18T06:52:33.489086",
     "status": "completed"
    },
    "tags": []
   },
   "outputs": [],
   "source": [
    "df['tweet_created_at'] = df['tweet_created_at'].astype('datetime64[ns]')"
   ]
  },
  {
   "cell_type": "code",
   "execution_count": 8,
   "id": "76c076f7",
   "metadata": {
    "execution": {
     "iopub.execute_input": "2023-01-18T06:52:33.662114Z",
     "iopub.status.busy": "2023-01-18T06:52:33.661513Z",
     "iopub.status.idle": "2023-01-18T06:52:33.710027Z",
     "shell.execute_reply": "2023-01-18T06:52:33.708774Z"
    },
    "papermill": {
     "duration": 0.056804,
     "end_time": "2023-01-18T06:52:33.712356",
     "exception": false,
     "start_time": "2023-01-18T06:52:33.655552",
     "status": "completed"
    },
    "tags": []
   },
   "outputs": [
    {
     "name": "stdout",
     "output_type": "stream",
     "text": [
      "<class 'pandas.core.frame.DataFrame'>\n",
      "RangeIndex: 248738 entries, 0 to 248737\n",
      "Data columns (total 3 columns):\n",
      " #   Column            Non-Null Count   Dtype         \n",
      "---  ------            --------------   -----         \n",
      " 0   tweet_created_at  248738 non-null  datetime64[ns]\n",
      " 1   text              248738 non-null  object        \n",
      " 2   Sentiment         248738 non-null  object        \n",
      "dtypes: datetime64[ns](1), object(2)\n",
      "memory usage: 5.7+ MB\n"
     ]
    }
   ],
   "source": [
    "df.info()"
   ]
  },
  {
   "cell_type": "code",
   "execution_count": 9,
   "id": "a91c9220",
   "metadata": {
    "execution": {
     "iopub.execute_input": "2023-01-18T06:52:33.724009Z",
     "iopub.status.busy": "2023-01-18T06:52:33.722907Z",
     "iopub.status.idle": "2023-01-18T06:52:33.731672Z",
     "shell.execute_reply": "2023-01-18T06:52:33.730348Z"
    },
    "papermill": {
     "duration": 0.016844,
     "end_time": "2023-01-18T06:52:33.734042",
     "exception": false,
     "start_time": "2023-01-18T06:52:33.717198",
     "status": "completed"
    },
    "tags": []
   },
   "outputs": [
    {
     "name": "stdout",
     "output_type": "stream",
     "text": [
      "     tweet_created_at                                               text  \\\n",
      "0 2022-12-30 22:37:46  Men who have refused to listen to/attend @amer...   \n",
      "1 2022-12-30 22:30:58                       @OvOBrezzzy Take amerix next   \n",
      "2 2022-12-30 22:18:00  @AyodeleYo11 @amerix Nah I’m good my masculini...   \n",
      "3 2022-12-30 20:42:54  @Amerix_DontSimp There is no need for dating i...   \n",
      "4 2022-12-30 20:32:23  @DyeAnna7 @amerix @kibe From what cos nothing ...   \n",
      "\n",
      "  Sentiment  \n",
      "0  Negative  \n",
      "1   Neutral  \n",
      "2  Positive  \n",
      "3  Negative  \n",
      "4  Positive  \n"
     ]
    }
   ],
   "source": [
    "print(df.head())"
   ]
  },
  {
   "cell_type": "code",
   "execution_count": 10,
   "id": "2dcc5bf0",
   "metadata": {
    "execution": {
     "iopub.execute_input": "2023-01-18T06:52:33.746010Z",
     "iopub.status.busy": "2023-01-18T06:52:33.744878Z",
     "iopub.status.idle": "2023-01-18T06:52:35.323756Z",
     "shell.execute_reply": "2023-01-18T06:52:35.322528Z"
    },
    "papermill": {
     "duration": 1.58719,
     "end_time": "2023-01-18T06:52:35.326194",
     "exception": false,
     "start_time": "2023-01-18T06:52:33.739004",
     "status": "completed"
    },
    "tags": []
   },
   "outputs": [],
   "source": [
    "STOPWORDS = set(stopwords.words('english'))\n",
    "\n",
    "def cleaning_stopwords(text):\n",
    "    return \" \".join([word for word in str(text).split() if word not in STOPWORDS])\n",
    "\n",
    "df['text'] = df['text'].apply(lambda text: cleaning_stopwords(text))"
   ]
  },
  {
   "cell_type": "code",
   "execution_count": 11,
   "id": "243636bd",
   "metadata": {
    "execution": {
     "iopub.execute_input": "2023-01-18T06:52:35.338661Z",
     "iopub.status.busy": "2023-01-18T06:52:35.337897Z",
     "iopub.status.idle": "2023-01-18T06:52:35.351589Z",
     "shell.execute_reply": "2023-01-18T06:52:35.350247Z"
    },
    "papermill": {
     "duration": 0.022806,
     "end_time": "2023-01-18T06:52:35.354205",
     "exception": false,
     "start_time": "2023-01-18T06:52:35.331399",
     "status": "completed"
    },
    "tags": []
   },
   "outputs": [
    {
     "data": {
      "text/html": [
       "<div>\n",
       "<style scoped>\n",
       "    .dataframe tbody tr th:only-of-type {\n",
       "        vertical-align: middle;\n",
       "    }\n",
       "\n",
       "    .dataframe tbody tr th {\n",
       "        vertical-align: top;\n",
       "    }\n",
       "\n",
       "    .dataframe thead th {\n",
       "        text-align: right;\n",
       "    }\n",
       "</style>\n",
       "<table border=\"1\" class=\"dataframe\">\n",
       "  <thead>\n",
       "    <tr style=\"text-align: right;\">\n",
       "      <th></th>\n",
       "      <th>tweet_created_at</th>\n",
       "      <th>text</th>\n",
       "      <th>Sentiment</th>\n",
       "    </tr>\n",
       "  </thead>\n",
       "  <tbody>\n",
       "    <tr>\n",
       "      <th>0</th>\n",
       "      <td>2022-12-30 22:37:46</td>\n",
       "      <td>Men refused listen to/attend @amerix classes m...</td>\n",
       "      <td>Negative</td>\n",
       "    </tr>\n",
       "    <tr>\n",
       "      <th>1</th>\n",
       "      <td>2022-12-30 22:30:58</td>\n",
       "      <td>@OvOBrezzzy Take amerix next</td>\n",
       "      <td>Neutral</td>\n",
       "    </tr>\n",
       "    <tr>\n",
       "      <th>2</th>\n",
       "      <td>2022-12-30 22:18:00</td>\n",
       "      <td>@AyodeleYo11 @amerix Nah I’m good masculinity,...</td>\n",
       "      <td>Positive</td>\n",
       "    </tr>\n",
       "    <tr>\n",
       "      <th>3</th>\n",
       "      <td>2022-12-30 20:42:54</td>\n",
       "      <td>@Amerix_DontSimp There need dating first place</td>\n",
       "      <td>Negative</td>\n",
       "    </tr>\n",
       "    <tr>\n",
       "      <th>4</th>\n",
       "      <td>2022-12-30 20:32:23</td>\n",
       "      <td>@DyeAnna7 @amerix @kibe From cos nothing chang...</td>\n",
       "      <td>Positive</td>\n",
       "    </tr>\n",
       "  </tbody>\n",
       "</table>\n",
       "</div>"
      ],
      "text/plain": [
       "     tweet_created_at                                               text  \\\n",
       "0 2022-12-30 22:37:46  Men refused listen to/attend @amerix classes m...   \n",
       "1 2022-12-30 22:30:58                       @OvOBrezzzy Take amerix next   \n",
       "2 2022-12-30 22:18:00  @AyodeleYo11 @amerix Nah I’m good masculinity,...   \n",
       "3 2022-12-30 20:42:54     @Amerix_DontSimp There need dating first place   \n",
       "4 2022-12-30 20:32:23  @DyeAnna7 @amerix @kibe From cos nothing chang...   \n",
       "\n",
       "  Sentiment  \n",
       "0  Negative  \n",
       "1   Neutral  \n",
       "2  Positive  \n",
       "3  Negative  \n",
       "4  Positive  "
      ]
     },
     "execution_count": 11,
     "metadata": {},
     "output_type": "execute_result"
    }
   ],
   "source": [
    "df.head()"
   ]
  },
  {
   "cell_type": "code",
   "execution_count": 12,
   "id": "2a7a98db",
   "metadata": {
    "execution": {
     "iopub.execute_input": "2023-01-18T06:52:35.366535Z",
     "iopub.status.busy": "2023-01-18T06:52:35.365839Z",
     "iopub.status.idle": "2023-01-18T06:52:37.553301Z",
     "shell.execute_reply": "2023-01-18T06:52:37.552142Z"
    },
    "papermill": {
     "duration": 2.196817,
     "end_time": "2023-01-18T06:52:37.556171",
     "exception": false,
     "start_time": "2023-01-18T06:52:35.359354",
     "status": "completed"
    },
    "tags": []
   },
   "outputs": [],
   "source": [
    "def cleaning_URLs(data):\n",
    "    return re.sub('((www\\.[^\\s]+)|(https?://[^\\s]+))',' ',data)\n",
    "df['text']= df['text'].apply(lambda x: cleaning_URLs(x))"
   ]
  },
  {
   "cell_type": "code",
   "execution_count": 13,
   "id": "8eed4e9a",
   "metadata": {
    "execution": {
     "iopub.execute_input": "2023-01-18T06:52:37.569468Z",
     "iopub.status.busy": "2023-01-18T06:52:37.569077Z",
     "iopub.status.idle": "2023-01-18T06:52:37.579733Z",
     "shell.execute_reply": "2023-01-18T06:52:37.578718Z"
    },
    "papermill": {
     "duration": 0.020704,
     "end_time": "2023-01-18T06:52:37.582309",
     "exception": false,
     "start_time": "2023-01-18T06:52:37.561605",
     "status": "completed"
    },
    "tags": []
   },
   "outputs": [
    {
     "data": {
      "text/html": [
       "<div>\n",
       "<style scoped>\n",
       "    .dataframe tbody tr th:only-of-type {\n",
       "        vertical-align: middle;\n",
       "    }\n",
       "\n",
       "    .dataframe tbody tr th {\n",
       "        vertical-align: top;\n",
       "    }\n",
       "\n",
       "    .dataframe thead th {\n",
       "        text-align: right;\n",
       "    }\n",
       "</style>\n",
       "<table border=\"1\" class=\"dataframe\">\n",
       "  <thead>\n",
       "    <tr style=\"text-align: right;\">\n",
       "      <th></th>\n",
       "      <th>tweet_created_at</th>\n",
       "      <th>text</th>\n",
       "      <th>Sentiment</th>\n",
       "    </tr>\n",
       "  </thead>\n",
       "  <tbody>\n",
       "    <tr>\n",
       "      <th>0</th>\n",
       "      <td>2022-12-30 22:37:46</td>\n",
       "      <td>Men refused listen to/attend @amerix classes m...</td>\n",
       "      <td>Negative</td>\n",
       "    </tr>\n",
       "    <tr>\n",
       "      <th>1</th>\n",
       "      <td>2022-12-30 22:30:58</td>\n",
       "      <td>@OvOBrezzzy Take amerix next</td>\n",
       "      <td>Neutral</td>\n",
       "    </tr>\n",
       "    <tr>\n",
       "      <th>2</th>\n",
       "      <td>2022-12-30 22:18:00</td>\n",
       "      <td>@AyodeleYo11 @amerix Nah I’m good masculinity,...</td>\n",
       "      <td>Positive</td>\n",
       "    </tr>\n",
       "    <tr>\n",
       "      <th>3</th>\n",
       "      <td>2022-12-30 20:42:54</td>\n",
       "      <td>@Amerix_DontSimp There need dating first place</td>\n",
       "      <td>Negative</td>\n",
       "    </tr>\n",
       "    <tr>\n",
       "      <th>4</th>\n",
       "      <td>2022-12-30 20:32:23</td>\n",
       "      <td>@DyeAnna7 @amerix @kibe From cos nothing chang...</td>\n",
       "      <td>Positive</td>\n",
       "    </tr>\n",
       "  </tbody>\n",
       "</table>\n",
       "</div>"
      ],
      "text/plain": [
       "     tweet_created_at                                               text  \\\n",
       "0 2022-12-30 22:37:46  Men refused listen to/attend @amerix classes m...   \n",
       "1 2022-12-30 22:30:58                       @OvOBrezzzy Take amerix next   \n",
       "2 2022-12-30 22:18:00  @AyodeleYo11 @amerix Nah I’m good masculinity,...   \n",
       "3 2022-12-30 20:42:54     @Amerix_DontSimp There need dating first place   \n",
       "4 2022-12-30 20:32:23  @DyeAnna7 @amerix @kibe From cos nothing chang...   \n",
       "\n",
       "  Sentiment  \n",
       "0  Negative  \n",
       "1   Neutral  \n",
       "2  Positive  \n",
       "3  Negative  \n",
       "4  Positive  "
      ]
     },
     "execution_count": 13,
     "metadata": {},
     "output_type": "execute_result"
    }
   ],
   "source": [
    "df.head()"
   ]
  },
  {
   "cell_type": "code",
   "execution_count": 14,
   "id": "bc4831ca",
   "metadata": {
    "execution": {
     "iopub.execute_input": "2023-01-18T06:52:37.593966Z",
     "iopub.status.busy": "2023-01-18T06:52:37.593573Z",
     "iopub.status.idle": "2023-01-18T06:52:39.765357Z",
     "shell.execute_reply": "2023-01-18T06:52:39.763937Z"
    },
    "papermill": {
     "duration": 2.181423,
     "end_time": "2023-01-18T06:52:39.768834",
     "exception": false,
     "start_time": "2023-01-18T06:52:37.587411",
     "status": "completed"
    },
    "tags": []
   },
   "outputs": [],
   "source": [
    "english_punctuations = string.punctuation\n",
    "punctuations_list = english_punctuations\n",
    "def cleaning_punctuations(text):\n",
    "    translator = str.maketrans('', '', punctuations_list)\n",
    "    return text.translate(translator)\n",
    "df['text']= df['text'].apply(lambda x: cleaning_punctuations(x))"
   ]
  },
  {
   "cell_type": "code",
   "execution_count": 15,
   "id": "1657e6ee",
   "metadata": {
    "execution": {
     "iopub.execute_input": "2023-01-18T06:52:39.784522Z",
     "iopub.status.busy": "2023-01-18T06:52:39.783425Z",
     "iopub.status.idle": "2023-01-18T06:52:39.797792Z",
     "shell.execute_reply": "2023-01-18T06:52:39.796521Z"
    },
    "papermill": {
     "duration": 0.024404,
     "end_time": "2023-01-18T06:52:39.800175",
     "exception": false,
     "start_time": "2023-01-18T06:52:39.775771",
     "status": "completed"
    },
    "tags": []
   },
   "outputs": [
    {
     "data": {
      "text/html": [
       "<div>\n",
       "<style scoped>\n",
       "    .dataframe tbody tr th:only-of-type {\n",
       "        vertical-align: middle;\n",
       "    }\n",
       "\n",
       "    .dataframe tbody tr th {\n",
       "        vertical-align: top;\n",
       "    }\n",
       "\n",
       "    .dataframe thead th {\n",
       "        text-align: right;\n",
       "    }\n",
       "</style>\n",
       "<table border=\"1\" class=\"dataframe\">\n",
       "  <thead>\n",
       "    <tr style=\"text-align: right;\">\n",
       "      <th></th>\n",
       "      <th>tweet_created_at</th>\n",
       "      <th>text</th>\n",
       "      <th>Sentiment</th>\n",
       "    </tr>\n",
       "  </thead>\n",
       "  <tbody>\n",
       "    <tr>\n",
       "      <th>0</th>\n",
       "      <td>2022-12-30 22:37:46</td>\n",
       "      <td>Men refused listen toattend amerix classes men...</td>\n",
       "      <td>Negative</td>\n",
       "    </tr>\n",
       "    <tr>\n",
       "      <th>1</th>\n",
       "      <td>2022-12-30 22:30:58</td>\n",
       "      <td>OvOBrezzzy Take amerix next</td>\n",
       "      <td>Neutral</td>\n",
       "    </tr>\n",
       "    <tr>\n",
       "      <th>2</th>\n",
       "      <td>2022-12-30 22:18:00</td>\n",
       "      <td>AyodeleYo11 amerix Nah I’m good masculinity he...</td>\n",
       "      <td>Positive</td>\n",
       "    </tr>\n",
       "    <tr>\n",
       "      <th>3</th>\n",
       "      <td>2022-12-30 20:42:54</td>\n",
       "      <td>AmerixDontSimp There need dating first place</td>\n",
       "      <td>Negative</td>\n",
       "    </tr>\n",
       "    <tr>\n",
       "      <th>4</th>\n",
       "      <td>2022-12-30 20:32:23</td>\n",
       "      <td>DyeAnna7 amerix kibe From cos nothing changing...</td>\n",
       "      <td>Positive</td>\n",
       "    </tr>\n",
       "  </tbody>\n",
       "</table>\n",
       "</div>"
      ],
      "text/plain": [
       "     tweet_created_at                                               text  \\\n",
       "0 2022-12-30 22:37:46  Men refused listen toattend amerix classes men...   \n",
       "1 2022-12-30 22:30:58                        OvOBrezzzy Take amerix next   \n",
       "2 2022-12-30 22:18:00  AyodeleYo11 amerix Nah I’m good masculinity he...   \n",
       "3 2022-12-30 20:42:54       AmerixDontSimp There need dating first place   \n",
       "4 2022-12-30 20:32:23  DyeAnna7 amerix kibe From cos nothing changing...   \n",
       "\n",
       "  Sentiment  \n",
       "0  Negative  \n",
       "1   Neutral  \n",
       "2  Positive  \n",
       "3  Negative  \n",
       "4  Positive  "
      ]
     },
     "execution_count": 15,
     "metadata": {},
     "output_type": "execute_result"
    }
   ],
   "source": [
    "df.head()"
   ]
  },
  {
   "cell_type": "code",
   "execution_count": null,
   "id": "a85f4502",
   "metadata": {
    "papermill": {
     "duration": 0.005058,
     "end_time": "2023-01-18T06:52:39.810722",
     "exception": false,
     "start_time": "2023-01-18T06:52:39.805664",
     "status": "completed"
    },
    "tags": []
   },
   "outputs": [],
   "source": []
  }
 ],
 "metadata": {
  "kernelspec": {
   "display_name": "Python 3",
   "language": "python",
   "name": "python3"
  },
  "language_info": {
   "codemirror_mode": {
    "name": "ipython",
    "version": 3
   },
   "file_extension": ".py",
   "mimetype": "text/x-python",
   "name": "python",
   "nbconvert_exporter": "python",
   "pygments_lexer": "ipython3",
   "version": "3.7.12"
  },
  "papermill": {
   "default_parameters": {},
   "duration": 19.177989,
   "end_time": "2023-01-18T06:52:40.537703",
   "environment_variables": {},
   "exception": null,
   "input_path": "__notebook__.ipynb",
   "output_path": "__notebook__.ipynb",
   "parameters": {},
   "start_time": "2023-01-18T06:52:21.359714",
   "version": "2.3.4"
  }
 },
 "nbformat": 4,
 "nbformat_minor": 5
}
