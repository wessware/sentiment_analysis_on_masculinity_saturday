{
 "cells": [
  {
   "cell_type": "code",
   "execution_count": 1,
   "id": "d0b22eca",
   "metadata": {
    "_cell_guid": "b1076dfc-b9ad-4769-8c92-a6c4dae69d19",
    "_uuid": "8f2839f25d086af736a60e9eeb907d3b93b6e0e5",
    "execution": {
     "iopub.execute_input": "2023-01-26T06:32:30.419718Z",
     "iopub.status.busy": "2023-01-26T06:32:30.418733Z",
     "iopub.status.idle": "2023-01-26T06:32:32.620834Z",
     "shell.execute_reply": "2023-01-26T06:32:32.619481Z"
    },
    "papermill": {
     "duration": 2.214057,
     "end_time": "2023-01-26T06:32:32.624244",
     "exception": false,
     "start_time": "2023-01-26T06:32:30.410187",
     "status": "completed"
    },
    "tags": []
   },
   "outputs": [],
   "source": [
    "import pandas as pd \n",
    "\n",
    "import catboost as cb\n",
    "\n",
    "import numpy as np\n",
    "\n",
    "from sklearn import preprocessing\n",
    "from imblearn.over_sampling import RandomOverSampler\n",
    "from sklearn.model_selection import train_test_split\n",
    "\n",
    "from sklearn.feature_extraction.text import CountVectorizer\n",
    "from sklearn.feature_extraction.text import TfidfTransformer\n",
    "\n",
    "from sklearn.metrics import accuracy_score\n",
    "from sklearn.metrics import classification_report"
   ]
  },
  {
   "cell_type": "code",
   "execution_count": 2,
   "id": "085ded71",
   "metadata": {
    "execution": {
     "iopub.execute_input": "2023-01-26T06:32:32.636992Z",
     "iopub.status.busy": "2023-01-26T06:32:32.636494Z",
     "iopub.status.idle": "2023-01-26T06:32:34.091321Z",
     "shell.execute_reply": "2023-01-26T06:32:34.089803Z"
    },
    "papermill": {
     "duration": 1.464775,
     "end_time": "2023-01-26T06:32:34.094511",
     "exception": false,
     "start_time": "2023-01-26T06:32:32.629736",
     "status": "completed"
    },
    "tags": []
   },
   "outputs": [],
   "source": [
    "df = pd.read_csv('/kaggle/input/amerix-sa-nlp-deep-cleaned-data/sentiment_adv_preprocessed_data.csv', index_col=0)"
   ]
  },
  {
   "cell_type": "code",
   "execution_count": 3,
   "id": "bdc7f356",
   "metadata": {
    "execution": {
     "iopub.execute_input": "2023-01-26T06:32:34.106198Z",
     "iopub.status.busy": "2023-01-26T06:32:34.105168Z",
     "iopub.status.idle": "2023-01-26T06:32:34.126735Z",
     "shell.execute_reply": "2023-01-26T06:32:34.124897Z"
    },
    "papermill": {
     "duration": 0.030706,
     "end_time": "2023-01-26T06:32:34.129939",
     "exception": false,
     "start_time": "2023-01-26T06:32:34.099233",
     "status": "completed"
    },
    "tags": []
   },
   "outputs": [
    {
     "data": {
      "text/html": [
       "<div>\n",
       "<style scoped>\n",
       "    .dataframe tbody tr th:only-of-type {\n",
       "        vertical-align: middle;\n",
       "    }\n",
       "\n",
       "    .dataframe tbody tr th {\n",
       "        vertical-align: top;\n",
       "    }\n",
       "\n",
       "    .dataframe thead th {\n",
       "        text-align: right;\n",
       "    }\n",
       "</style>\n",
       "<table border=\"1\" class=\"dataframe\">\n",
       "  <thead>\n",
       "    <tr style=\"text-align: right;\">\n",
       "      <th></th>\n",
       "      <th>tweet_created_at</th>\n",
       "      <th>text_clean</th>\n",
       "      <th>Sentiment</th>\n",
       "    </tr>\n",
       "  </thead>\n",
       "  <tbody>\n",
       "    <tr>\n",
       "      <th>0</th>\n",
       "      <td>2022-05-20 16:01:49+00:00</td>\n",
       "      <td>actor amp cookbook author recently joined the ...</td>\n",
       "      <td>1</td>\n",
       "    </tr>\n",
       "    <tr>\n",
       "      <th>1</th>\n",
       "      <td>2022-08-23 15:26:31+00:00</td>\n",
       "      <td>sprinkled a little kindness to brighten someon...</td>\n",
       "      <td>1</td>\n",
       "    </tr>\n",
       "    <tr>\n",
       "      <th>2</th>\n",
       "      <td>2021-10-15 17:23:25+00:00</td>\n",
       "      <td>the body is not stupid it has an efficient hom...</td>\n",
       "      <td>1</td>\n",
       "    </tr>\n",
       "    <tr>\n",
       "      <th>3</th>\n",
       "      <td>2022-11-19 16:26:01+00:00</td>\n",
       "      <td>food for the thought masculinitysaturday</td>\n",
       "      <td>2</td>\n",
       "    </tr>\n",
       "    <tr>\n",
       "      <th>4</th>\n",
       "      <td>2022-12-12 08:59:22+00:00</td>\n",
       "      <td>why though</td>\n",
       "      <td>2</td>\n",
       "    </tr>\n",
       "  </tbody>\n",
       "</table>\n",
       "</div>"
      ],
      "text/plain": [
       "            tweet_created_at  \\\n",
       "0  2022-05-20 16:01:49+00:00   \n",
       "1  2022-08-23 15:26:31+00:00   \n",
       "2  2021-10-15 17:23:25+00:00   \n",
       "3  2022-11-19 16:26:01+00:00   \n",
       "4  2022-12-12 08:59:22+00:00   \n",
       "\n",
       "                                          text_clean  Sentiment  \n",
       "0  actor amp cookbook author recently joined the ...          1  \n",
       "1  sprinkled a little kindness to brighten someon...          1  \n",
       "2  the body is not stupid it has an efficient hom...          1  \n",
       "3           food for the thought masculinitysaturday          2  \n",
       "4                                         why though          2  "
      ]
     },
     "execution_count": 3,
     "metadata": {},
     "output_type": "execute_result"
    }
   ],
   "source": [
    "df.head()"
   ]
  },
  {
   "cell_type": "code",
   "execution_count": 4,
   "id": "f13d92e4",
   "metadata": {
    "execution": {
     "iopub.execute_input": "2023-01-26T06:32:34.143263Z",
     "iopub.status.busy": "2023-01-26T06:32:34.142766Z",
     "iopub.status.idle": "2023-01-26T06:32:34.827728Z",
     "shell.execute_reply": "2023-01-26T06:32:34.826440Z"
    },
    "papermill": {
     "duration": 0.694937,
     "end_time": "2023-01-26T06:32:34.830963",
     "exception": false,
     "start_time": "2023-01-26T06:32:34.136026",
     "status": "completed"
    },
    "tags": []
   },
   "outputs": [],
   "source": [
    "ros = RandomOverSampler()\n",
    "\n",
    "train_x, train_y = ros.fit_resample(np.array(df['text_clean']).reshape(-1, 1), np.array(df['Sentiment']).reshape(-1, 1));\n",
    "\n",
    "ros_df = pd.DataFrame(list(zip([x[0] for x in train_x], train_y)), columns = ['text_clean', 'Sentiment']);"
   ]
  },
  {
   "cell_type": "code",
   "execution_count": 5,
   "id": "5eb4088c",
   "metadata": {
    "execution": {
     "iopub.execute_input": "2023-01-26T06:32:34.843236Z",
     "iopub.status.busy": "2023-01-26T06:32:34.842438Z",
     "iopub.status.idle": "2023-01-26T06:32:34.856002Z",
     "shell.execute_reply": "2023-01-26T06:32:34.854778Z"
    },
    "papermill": {
     "duration": 0.024126,
     "end_time": "2023-01-26T06:32:34.860313",
     "exception": false,
     "start_time": "2023-01-26T06:32:34.836187",
     "status": "completed"
    },
    "tags": []
   },
   "outputs": [
    {
     "data": {
      "text/plain": [
       "1    129038\n",
       "2    129038\n",
       "0    129038\n",
       "Name: Sentiment, dtype: int64"
      ]
     },
     "execution_count": 5,
     "metadata": {},
     "output_type": "execute_result"
    }
   ],
   "source": [
    "ros_df['Sentiment'].value_counts()"
   ]
  },
  {
   "cell_type": "code",
   "execution_count": 6,
   "id": "ef14deb4",
   "metadata": {
    "execution": {
     "iopub.execute_input": "2023-01-26T06:32:34.872294Z",
     "iopub.status.busy": "2023-01-26T06:32:34.871827Z",
     "iopub.status.idle": "2023-01-26T06:32:34.877853Z",
     "shell.execute_reply": "2023-01-26T06:32:34.876487Z"
    },
    "papermill": {
     "duration": 0.015125,
     "end_time": "2023-01-26T06:32:34.880484",
     "exception": false,
     "start_time": "2023-01-26T06:32:34.865359",
     "status": "completed"
    },
    "tags": []
   },
   "outputs": [],
   "source": [
    "X = ros_df['text_clean'].values\n",
    "y = ros_df['Sentiment'].values"
   ]
  },
  {
   "cell_type": "code",
   "execution_count": 7,
   "id": "65f54468",
   "metadata": {
    "execution": {
     "iopub.execute_input": "2023-01-26T06:32:34.892336Z",
     "iopub.status.busy": "2023-01-26T06:32:34.891873Z",
     "iopub.status.idle": "2023-01-26T06:32:34.899049Z",
     "shell.execute_reply": "2023-01-26T06:32:34.897422Z"
    },
    "papermill": {
     "duration": 0.017832,
     "end_time": "2023-01-26T06:32:34.903276",
     "exception": false,
     "start_time": "2023-01-26T06:32:34.885444",
     "status": "completed"
    },
    "tags": []
   },
   "outputs": [
    {
     "name": "stdout",
     "output_type": "stream",
     "text": [
      "(387114,)\n",
      "(387114,)\n"
     ]
    }
   ],
   "source": [
    "print(X.shape)\n",
    "print(y.shape)"
   ]
  },
  {
   "cell_type": "code",
   "execution_count": 8,
   "id": "cda38226",
   "metadata": {
    "execution": {
     "iopub.execute_input": "2023-01-26T06:32:34.918153Z",
     "iopub.status.busy": "2023-01-26T06:32:34.916654Z",
     "iopub.status.idle": "2023-01-26T06:32:35.131169Z",
     "shell.execute_reply": "2023-01-26T06:32:35.129656Z"
    },
    "papermill": {
     "duration": 0.224911,
     "end_time": "2023-01-26T06:32:35.134586",
     "exception": false,
     "start_time": "2023-01-26T06:32:34.909675",
     "status": "completed"
    },
    "tags": []
   },
   "outputs": [],
   "source": [
    "x_, x_test, y_, y_test = train_test_split(X, y, test_size=0.3, stratify=y, random_state=42)"
   ]
  },
  {
   "cell_type": "code",
   "execution_count": 9,
   "id": "fb963e9e",
   "metadata": {
    "execution": {
     "iopub.execute_input": "2023-01-26T06:32:35.147307Z",
     "iopub.status.busy": "2023-01-26T06:32:35.146854Z",
     "iopub.status.idle": "2023-01-26T06:32:35.296310Z",
     "shell.execute_reply": "2023-01-26T06:32:35.295366Z"
    },
    "papermill": {
     "duration": 0.159165,
     "end_time": "2023-01-26T06:32:35.299049",
     "exception": false,
     "start_time": "2023-01-26T06:32:35.139884",
     "status": "completed"
    },
    "tags": []
   },
   "outputs": [],
   "source": [
    "x_train, x_val, y_train, y_val = train_test_split(x_, y_, test_size=0.2, stratify=y_, random_state=42)"
   ]
  },
  {
   "cell_type": "code",
   "execution_count": 10,
   "id": "8b92552d",
   "metadata": {
    "execution": {
     "iopub.execute_input": "2023-01-26T06:32:35.312188Z",
     "iopub.status.busy": "2023-01-26T06:32:35.310772Z",
     "iopub.status.idle": "2023-01-26T06:32:35.318305Z",
     "shell.execute_reply": "2023-01-26T06:32:35.317325Z"
    },
    "papermill": {
     "duration": 0.016839,
     "end_time": "2023-01-26T06:32:35.321002",
     "exception": false,
     "start_time": "2023-01-26T06:32:35.304163",
     "status": "completed"
    },
    "tags": []
   },
   "outputs": [],
   "source": [
    "y_train_c = y_train.copy()\n",
    "y_valid_c = y_val.copy()\n",
    "y_test_c = y_test.copy()"
   ]
  },
  {
   "cell_type": "code",
   "execution_count": 11,
   "id": "e94e319f",
   "metadata": {
    "execution": {
     "iopub.execute_input": "2023-01-26T06:32:35.333299Z",
     "iopub.status.busy": "2023-01-26T06:32:35.332409Z",
     "iopub.status.idle": "2023-01-26T06:32:35.393443Z",
     "shell.execute_reply": "2023-01-26T06:32:35.391671Z"
    },
    "papermill": {
     "duration": 0.070924,
     "end_time": "2023-01-26T06:32:35.396966",
     "exception": false,
     "start_time": "2023-01-26T06:32:35.326042",
     "status": "completed"
    },
    "tags": []
   },
   "outputs": [],
   "source": [
    "encoder = preprocessing.OneHotEncoder()\n",
    "\n",
    "y_train = encoder.fit_transform(np.array(y_train).reshape(-1, 1)).toarray()\n",
    "y_val = encoder.fit_transform(np.array(y_val).reshape(-1, 1)).toarray()\n",
    "y_test = encoder.fit_transform(np.array(y_test).reshape(-1, 1)).toarray()"
   ]
  },
  {
   "cell_type": "code",
   "execution_count": 12,
   "id": "2086b0eb",
   "metadata": {
    "execution": {
     "iopub.execute_input": "2023-01-26T06:32:35.409358Z",
     "iopub.status.busy": "2023-01-26T06:32:35.408898Z",
     "iopub.status.idle": "2023-01-26T06:32:35.414704Z",
     "shell.execute_reply": "2023-01-26T06:32:35.413756Z"
    },
    "papermill": {
     "duration": 0.015236,
     "end_time": "2023-01-26T06:32:35.417618",
     "exception": false,
     "start_time": "2023-01-26T06:32:35.402382",
     "status": "completed"
    },
    "tags": []
   },
   "outputs": [
    {
     "name": "stdout",
     "output_type": "stream",
     "text": [
      "Training Data: 216783\n",
      "Validation Data: 54196\n",
      "Testing Data: 116135\n"
     ]
    }
   ],
   "source": [
    "print(f\"Training Data: {x_train.shape[0]}\\nValidation Data: {x_val.shape[0]}\\nTesting Data: {x_test.shape[0]}\" )"
   ]
  },
  {
   "cell_type": "code",
   "execution_count": 13,
   "id": "f08b37fc",
   "metadata": {
    "execution": {
     "iopub.execute_input": "2023-01-26T06:32:35.431559Z",
     "iopub.status.busy": "2023-01-26T06:32:35.430780Z",
     "iopub.status.idle": "2023-01-26T06:32:43.499344Z",
     "shell.execute_reply": "2023-01-26T06:32:43.497745Z"
    },
    "papermill": {
     "duration": 8.079263,
     "end_time": "2023-01-26T06:32:43.502712",
     "exception": false,
     "start_time": "2023-01-26T06:32:35.423449",
     "status": "completed"
    },
    "tags": []
   },
   "outputs": [],
   "source": [
    "clf = CountVectorizer()\n",
    "\n",
    "X_train_cv =  clf.fit_transform(x_train)\n",
    "X_test_cv = clf.transform(x_test)"
   ]
  },
  {
   "cell_type": "code",
   "execution_count": 14,
   "id": "98c6d4ab",
   "metadata": {
    "execution": {
     "iopub.execute_input": "2023-01-26T06:32:43.515580Z",
     "iopub.status.busy": "2023-01-26T06:32:43.515131Z",
     "iopub.status.idle": "2023-01-26T06:32:44.269066Z",
     "shell.execute_reply": "2023-01-26T06:32:44.267877Z"
    },
    "papermill": {
     "duration": 0.763553,
     "end_time": "2023-01-26T06:32:44.272045",
     "exception": false,
     "start_time": "2023-01-26T06:32:43.508492",
     "status": "completed"
    },
    "tags": []
   },
   "outputs": [],
   "source": [
    "tf_transformer = TfidfTransformer(use_idf=True).fit(X_train_cv)\n",
    "\n",
    "X_train_tf = tf_transformer.transform(X_train_cv)\n",
    "X_test_tf = tf_transformer.transform(X_test_cv)"
   ]
  },
  {
   "cell_type": "code",
   "execution_count": null,
   "id": "3187dc3a",
   "metadata": {
    "papermill": {
     "duration": 0.004532,
     "end_time": "2023-01-26T06:32:44.281563",
     "exception": false,
     "start_time": "2023-01-26T06:32:44.277031",
     "status": "completed"
    },
    "tags": []
   },
   "outputs": [],
   "source": []
  }
 ],
 "metadata": {
  "kernelspec": {
   "display_name": "Python 3",
   "language": "python",
   "name": "python3"
  },
  "language_info": {
   "codemirror_mode": {
    "name": "ipython",
    "version": 3
   },
   "file_extension": ".py",
   "mimetype": "text/x-python",
   "name": "python",
   "nbconvert_exporter": "python",
   "pygments_lexer": "ipython3",
   "version": "3.7.12"
  },
  "papermill": {
   "default_parameters": {},
   "duration": 25.095048,
   "end_time": "2023-01-26T06:32:45.312268",
   "environment_variables": {},
   "exception": null,
   "input_path": "__notebook__.ipynb",
   "output_path": "__notebook__.ipynb",
   "parameters": {},
   "start_time": "2023-01-26T06:32:20.217220",
   "version": "2.3.4"
  }
 },
 "nbformat": 4,
 "nbformat_minor": 5
}
