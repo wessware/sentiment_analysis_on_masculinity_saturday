{
 "cells": [
  {
   "cell_type": "code",
   "execution_count": 1,
   "id": "09cdae72",
   "metadata": {
    "_cell_guid": "b1076dfc-b9ad-4769-8c92-a6c4dae69d19",
    "_uuid": "8f2839f25d086af736a60e9eeb907d3b93b6e0e5",
    "execution": {
     "iopub.execute_input": "2023-02-16T12:40:35.231123Z",
     "iopub.status.busy": "2023-02-16T12:40:35.230095Z",
     "iopub.status.idle": "2023-02-16T12:40:38.034327Z",
     "shell.execute_reply": "2023-02-16T12:40:38.032841Z"
    },
    "papermill": {
     "duration": 2.825854,
     "end_time": "2023-02-16T12:40:38.037448",
     "exception": false,
     "start_time": "2023-02-16T12:40:35.211594",
     "status": "completed"
    },
    "tags": []
   },
   "outputs": [],
   "source": [
    "import pandas as pd\n",
    "import numpy as np \n",
    "\n",
    "from transformers import AutoTokenizer\n",
    "from transformers import BertTokenizerFast\n",
    "from transformers import BertTokenizer\n",
    "from transformers import RobertaTokenizerFast\n",
    "\n",
    "#from transformers import ROBERTAtokenizer\n",
    "#from transformers import XLNETtokenizer\n",
    "\n",
    "from mlxtend.text import tokenizer_emoticons\n",
    "from nltk.tokenize.casual import TweetTokenizer\n",
    "\n",
    "import matplotlib.pyplot as plt\n",
    "import seaborn as sns\n",
    "\n",
    "import re, string\n",
    "import emoji"
   ]
  },
  {
   "cell_type": "code",
   "execution_count": 2,
   "id": "8a30ef5c",
   "metadata": {
    "execution": {
     "iopub.execute_input": "2023-02-16T12:40:38.072984Z",
     "iopub.status.busy": "2023-02-16T12:40:38.072544Z",
     "iopub.status.idle": "2023-02-16T12:40:40.135139Z",
     "shell.execute_reply": "2023-02-16T12:40:40.134120Z"
    },
    "papermill": {
     "duration": 2.083114,
     "end_time": "2023-02-16T12:40:40.137915",
     "exception": false,
     "start_time": "2023-02-16T12:40:38.054801",
     "status": "completed"
    },
    "tags": []
   },
   "outputs": [],
   "source": [
    "df = pd.read_csv('/kaggle/input/masculinity-saturday-twitter-sentiment-analysis/twitter_sentiment_analysis_masculinity_saturday_data_annotated.csv', index_col=0)"
   ]
  },
  {
   "cell_type": "code",
   "execution_count": 3,
   "id": "96923e84",
   "metadata": {
    "execution": {
     "iopub.execute_input": "2023-02-16T12:40:40.172425Z",
     "iopub.status.busy": "2023-02-16T12:40:40.171601Z",
     "iopub.status.idle": "2023-02-16T12:40:40.194864Z",
     "shell.execute_reply": "2023-02-16T12:40:40.193607Z"
    },
    "papermill": {
     "duration": 0.044253,
     "end_time": "2023-02-16T12:40:40.198364",
     "exception": false,
     "start_time": "2023-02-16T12:40:40.154111",
     "status": "completed"
    },
    "tags": []
   },
   "outputs": [
    {
     "data": {
      "text/html": [
       "<div>\n",
       "<style scoped>\n",
       "    .dataframe tbody tr th:only-of-type {\n",
       "        vertical-align: middle;\n",
       "    }\n",
       "\n",
       "    .dataframe tbody tr th {\n",
       "        vertical-align: top;\n",
       "    }\n",
       "\n",
       "    .dataframe thead th {\n",
       "        text-align: right;\n",
       "    }\n",
       "</style>\n",
       "<table border=\"1\" class=\"dataframe\">\n",
       "  <thead>\n",
       "    <tr style=\"text-align: right;\">\n",
       "      <th></th>\n",
       "      <th>tweet_created_at</th>\n",
       "      <th>text</th>\n",
       "      <th>Positive</th>\n",
       "      <th>Negative</th>\n",
       "      <th>Neutral</th>\n",
       "      <th>Compound</th>\n",
       "      <th>Sentiment</th>\n",
       "    </tr>\n",
       "  </thead>\n",
       "  <tbody>\n",
       "    <tr>\n",
       "      <th>0</th>\n",
       "      <td>2022-12-30 22:37:46+00:00</td>\n",
       "      <td>Men who have refused to listen to/attend @amer...</td>\n",
       "      <td>0.000</td>\n",
       "      <td>0.073</td>\n",
       "      <td>0.927</td>\n",
       "      <td>-0.2960</td>\n",
       "      <td>Negative</td>\n",
       "    </tr>\n",
       "    <tr>\n",
       "      <th>1</th>\n",
       "      <td>2022-12-30 22:30:58+00:00</td>\n",
       "      <td>@OvOBrezzzy Take amerix next</td>\n",
       "      <td>0.000</td>\n",
       "      <td>0.000</td>\n",
       "      <td>1.000</td>\n",
       "      <td>0.0000</td>\n",
       "      <td>Neutral</td>\n",
       "    </tr>\n",
       "    <tr>\n",
       "      <th>2</th>\n",
       "      <td>2022-12-30 22:18:00+00:00</td>\n",
       "      <td>@AyodeleYo11 @amerix Nah I’m good my masculini...</td>\n",
       "      <td>0.493</td>\n",
       "      <td>0.068</td>\n",
       "      <td>0.439</td>\n",
       "      <td>0.8271</td>\n",
       "      <td>Positive</td>\n",
       "    </tr>\n",
       "    <tr>\n",
       "      <th>3</th>\n",
       "      <td>2022-12-30 20:42:54+00:00</td>\n",
       "      <td>@Amerix_DontSimp There is no need for dating i...</td>\n",
       "      <td>0.000</td>\n",
       "      <td>0.180</td>\n",
       "      <td>0.820</td>\n",
       "      <td>-0.2960</td>\n",
       "      <td>Negative</td>\n",
       "    </tr>\n",
       "    <tr>\n",
       "      <th>4</th>\n",
       "      <td>2022-12-30 20:32:23+00:00</td>\n",
       "      <td>@DyeAnna7 @amerix @kibe From what cos nothing ...</td>\n",
       "      <td>0.110</td>\n",
       "      <td>0.000</td>\n",
       "      <td>0.890</td>\n",
       "      <td>0.6908</td>\n",
       "      <td>Positive</td>\n",
       "    </tr>\n",
       "  </tbody>\n",
       "</table>\n",
       "</div>"
      ],
      "text/plain": [
       "            tweet_created_at  \\\n",
       "0  2022-12-30 22:37:46+00:00   \n",
       "1  2022-12-30 22:30:58+00:00   \n",
       "2  2022-12-30 22:18:00+00:00   \n",
       "3  2022-12-30 20:42:54+00:00   \n",
       "4  2022-12-30 20:32:23+00:00   \n",
       "\n",
       "                                                text  Positive  Negative  \\\n",
       "0  Men who have refused to listen to/attend @amer...     0.000     0.073   \n",
       "1                       @OvOBrezzzy Take amerix next     0.000     0.000   \n",
       "2  @AyodeleYo11 @amerix Nah I’m good my masculini...     0.493     0.068   \n",
       "3  @Amerix_DontSimp There is no need for dating i...     0.000     0.180   \n",
       "4  @DyeAnna7 @amerix @kibe From what cos nothing ...     0.110     0.000   \n",
       "\n",
       "   Neutral  Compound Sentiment  \n",
       "0    0.927   -0.2960  Negative  \n",
       "1    1.000    0.0000   Neutral  \n",
       "2    0.439    0.8271  Positive  \n",
       "3    0.820   -0.2960  Negative  \n",
       "4    0.890    0.6908  Positive  "
      ]
     },
     "execution_count": 3,
     "metadata": {},
     "output_type": "execute_result"
    }
   ],
   "source": [
    "df.head()"
   ]
  },
  {
   "cell_type": "code",
   "execution_count": 4,
   "id": "40c90faa",
   "metadata": {
    "execution": {
     "iopub.execute_input": "2023-02-16T12:40:40.234419Z",
     "iopub.status.busy": "2023-02-16T12:40:40.233540Z",
     "iopub.status.idle": "2023-02-16T12:40:40.375918Z",
     "shell.execute_reply": "2023-02-16T12:40:40.374696Z"
    },
    "papermill": {
     "duration": 0.163975,
     "end_time": "2023-02-16T12:40:40.379047",
     "exception": false,
     "start_time": "2023-02-16T12:40:40.215072",
     "status": "completed"
    },
    "tags": []
   },
   "outputs": [],
   "source": [
    "df['tweet_created_at'] = pd.to_datetime(df['tweet_created_at'])"
   ]
  },
  {
   "cell_type": "code",
   "execution_count": 5,
   "id": "299d79c9",
   "metadata": {
    "execution": {
     "iopub.execute_input": "2023-02-16T12:40:40.413805Z",
     "iopub.status.busy": "2023-02-16T12:40:40.412960Z",
     "iopub.status.idle": "2023-02-16T12:40:40.420519Z",
     "shell.execute_reply": "2023-02-16T12:40:40.419273Z"
    },
    "papermill": {
     "duration": 0.028061,
     "end_time": "2023-02-16T12:40:40.423385",
     "exception": false,
     "start_time": "2023-02-16T12:40:40.395324",
     "status": "completed"
    },
    "tags": []
   },
   "outputs": [
    {
     "data": {
      "text/plain": [
       "(248738, 7)"
      ]
     },
     "execution_count": 5,
     "metadata": {},
     "output_type": "execute_result"
    }
   ],
   "source": [
    "df.shape"
   ]
  },
  {
   "cell_type": "code",
   "execution_count": 6,
   "id": "c62dedd1",
   "metadata": {
    "execution": {
     "iopub.execute_input": "2023-02-16T12:40:40.456485Z",
     "iopub.status.busy": "2023-02-16T12:40:40.456041Z",
     "iopub.status.idle": "2023-02-16T12:40:40.741391Z",
     "shell.execute_reply": "2023-02-16T12:40:40.740126Z"
    },
    "papermill": {
     "duration": 0.305026,
     "end_time": "2023-02-16T12:40:40.744222",
     "exception": false,
     "start_time": "2023-02-16T12:40:40.439196",
     "status": "completed"
    },
    "tags": []
   },
   "outputs": [],
   "source": [
    "df.drop_duplicates(subset='text',inplace=True)"
   ]
  },
  {
   "cell_type": "code",
   "execution_count": 7,
   "id": "939febb3",
   "metadata": {
    "execution": {
     "iopub.execute_input": "2023-02-16T12:40:40.779254Z",
     "iopub.status.busy": "2023-02-16T12:40:40.776725Z",
     "iopub.status.idle": "2023-02-16T12:40:40.787219Z",
     "shell.execute_reply": "2023-02-16T12:40:40.786366Z"
    },
    "papermill": {
     "duration": 0.029704,
     "end_time": "2023-02-16T12:40:40.789625",
     "exception": false,
     "start_time": "2023-02-16T12:40:40.759921",
     "status": "completed"
    },
    "tags": []
   },
   "outputs": [
    {
     "data": {
      "text/plain": [
       "(236023, 7)"
      ]
     },
     "execution_count": 7,
     "metadata": {},
     "output_type": "execute_result"
    }
   ],
   "source": [
    "df.shape"
   ]
  },
  {
   "cell_type": "code",
   "execution_count": 8,
   "id": "bae89bfb",
   "metadata": {
    "execution": {
     "iopub.execute_input": "2023-02-16T12:40:40.824462Z",
     "iopub.status.busy": "2023-02-16T12:40:40.824001Z",
     "iopub.status.idle": "2023-02-16T12:40:40.882594Z",
     "shell.execute_reply": "2023-02-16T12:40:40.881345Z"
    },
    "papermill": {
     "duration": 0.080113,
     "end_time": "2023-02-16T12:40:40.885196",
     "exception": false,
     "start_time": "2023-02-16T12:40:40.805083",
     "status": "completed"
    },
    "tags": []
   },
   "outputs": [
    {
     "name": "stdout",
     "output_type": "stream",
     "text": [
      "<class 'pandas.core.frame.DataFrame'>\n",
      "Int64Index: 236023 entries, 0 to 248738\n",
      "Data columns (total 7 columns):\n",
      " #   Column            Non-Null Count   Dtype              \n",
      "---  ------            --------------   -----              \n",
      " 0   tweet_created_at  236023 non-null  datetime64[ns, UTC]\n",
      " 1   text              236023 non-null  object             \n",
      " 2   Positive          236023 non-null  float64            \n",
      " 3   Negative          236023 non-null  float64            \n",
      " 4   Neutral           236023 non-null  float64            \n",
      " 5   Compound          236023 non-null  float64            \n",
      " 6   Sentiment         236023 non-null  object             \n",
      "dtypes: datetime64[ns, UTC](1), float64(4), object(2)\n",
      "memory usage: 14.4+ MB\n"
     ]
    }
   ],
   "source": [
    "df.info()"
   ]
  },
  {
   "cell_type": "code",
   "execution_count": 9,
   "id": "f42c2686",
   "metadata": {
    "execution": {
     "iopub.execute_input": "2023-02-16T12:40:40.919978Z",
     "iopub.status.busy": "2023-02-16T12:40:40.919296Z",
     "iopub.status.idle": "2023-02-16T12:40:40.926636Z",
     "shell.execute_reply": "2023-02-16T12:40:40.925466Z"
    },
    "papermill": {
     "duration": 0.027528,
     "end_time": "2023-02-16T12:40:40.928865",
     "exception": false,
     "start_time": "2023-02-16T12:40:40.901337",
     "status": "completed"
    },
    "tags": []
   },
   "outputs": [
    {
     "data": {
      "text/plain": [
       "Index(['tweet_created_at', 'text', 'Positive', 'Negative', 'Neutral',\n",
       "       'Compound', 'Sentiment'],\n",
       "      dtype='object')"
      ]
     },
     "execution_count": 9,
     "metadata": {},
     "output_type": "execute_result"
    }
   ],
   "source": [
    "df.columns"
   ]
  },
  {
   "cell_type": "code",
   "execution_count": 10,
   "id": "9d96fe04",
   "metadata": {
    "execution": {
     "iopub.execute_input": "2023-02-16T12:40:40.963055Z",
     "iopub.status.busy": "2023-02-16T12:40:40.962082Z",
     "iopub.status.idle": "2023-02-16T12:40:40.981385Z",
     "shell.execute_reply": "2023-02-16T12:40:40.979959Z"
    },
    "papermill": {
     "duration": 0.039741,
     "end_time": "2023-02-16T12:40:40.984504",
     "exception": false,
     "start_time": "2023-02-16T12:40:40.944763",
     "status": "completed"
    },
    "tags": []
   },
   "outputs": [],
   "source": [
    "df = df[['tweet_created_at', 'text', 'Sentiment']]"
   ]
  },
  {
   "cell_type": "code",
   "execution_count": 11,
   "id": "b5294162",
   "metadata": {
    "execution": {
     "iopub.execute_input": "2023-02-16T12:40:41.018541Z",
     "iopub.status.busy": "2023-02-16T12:40:41.018049Z",
     "iopub.status.idle": "2023-02-16T12:40:41.034527Z",
     "shell.execute_reply": "2023-02-16T12:40:41.032644Z"
    },
    "papermill": {
     "duration": 0.036336,
     "end_time": "2023-02-16T12:40:41.037250",
     "exception": false,
     "start_time": "2023-02-16T12:40:41.000914",
     "status": "completed"
    },
    "tags": []
   },
   "outputs": [
    {
     "data": {
      "text/html": [
       "<div>\n",
       "<style scoped>\n",
       "    .dataframe tbody tr th:only-of-type {\n",
       "        vertical-align: middle;\n",
       "    }\n",
       "\n",
       "    .dataframe tbody tr th {\n",
       "        vertical-align: top;\n",
       "    }\n",
       "\n",
       "    .dataframe thead th {\n",
       "        text-align: right;\n",
       "    }\n",
       "</style>\n",
       "<table border=\"1\" class=\"dataframe\">\n",
       "  <thead>\n",
       "    <tr style=\"text-align: right;\">\n",
       "      <th></th>\n",
       "      <th>tweet_created_at</th>\n",
       "      <th>text</th>\n",
       "      <th>Sentiment</th>\n",
       "    </tr>\n",
       "  </thead>\n",
       "  <tbody>\n",
       "    <tr>\n",
       "      <th>0</th>\n",
       "      <td>2022-12-30 22:37:46+00:00</td>\n",
       "      <td>Men who have refused to listen to/attend @amer...</td>\n",
       "      <td>Negative</td>\n",
       "    </tr>\n",
       "    <tr>\n",
       "      <th>1</th>\n",
       "      <td>2022-12-30 22:30:58+00:00</td>\n",
       "      <td>@OvOBrezzzy Take amerix next</td>\n",
       "      <td>Neutral</td>\n",
       "    </tr>\n",
       "    <tr>\n",
       "      <th>2</th>\n",
       "      <td>2022-12-30 22:18:00+00:00</td>\n",
       "      <td>@AyodeleYo11 @amerix Nah I’m good my masculini...</td>\n",
       "      <td>Positive</td>\n",
       "    </tr>\n",
       "    <tr>\n",
       "      <th>3</th>\n",
       "      <td>2022-12-30 20:42:54+00:00</td>\n",
       "      <td>@Amerix_DontSimp There is no need for dating i...</td>\n",
       "      <td>Negative</td>\n",
       "    </tr>\n",
       "    <tr>\n",
       "      <th>4</th>\n",
       "      <td>2022-12-30 20:32:23+00:00</td>\n",
       "      <td>@DyeAnna7 @amerix @kibe From what cos nothing ...</td>\n",
       "      <td>Positive</td>\n",
       "    </tr>\n",
       "  </tbody>\n",
       "</table>\n",
       "</div>"
      ],
      "text/plain": [
       "           tweet_created_at  \\\n",
       "0 2022-12-30 22:37:46+00:00   \n",
       "1 2022-12-30 22:30:58+00:00   \n",
       "2 2022-12-30 22:18:00+00:00   \n",
       "3 2022-12-30 20:42:54+00:00   \n",
       "4 2022-12-30 20:32:23+00:00   \n",
       "\n",
       "                                                text Sentiment  \n",
       "0  Men who have refused to listen to/attend @amer...  Negative  \n",
       "1                       @OvOBrezzzy Take amerix next   Neutral  \n",
       "2  @AyodeleYo11 @amerix Nah I’m good my masculini...  Positive  \n",
       "3  @Amerix_DontSimp There is no need for dating i...  Negative  \n",
       "4  @DyeAnna7 @amerix @kibe From what cos nothing ...  Positive  "
      ]
     },
     "execution_count": 11,
     "metadata": {},
     "output_type": "execute_result"
    }
   ],
   "source": [
    "df.head()"
   ]
  },
  {
   "cell_type": "code",
   "execution_count": 12,
   "id": "697d499a",
   "metadata": {
    "execution": {
     "iopub.execute_input": "2023-02-16T12:40:41.073512Z",
     "iopub.status.busy": "2023-02-16T12:40:41.073086Z",
     "iopub.status.idle": "2023-02-16T12:40:41.081815Z",
     "shell.execute_reply": "2023-02-16T12:40:41.080805Z"
    },
    "papermill": {
     "duration": 0.030143,
     "end_time": "2023-02-16T12:40:41.084852",
     "exception": false,
     "start_time": "2023-02-16T12:40:41.054709",
     "status": "completed"
    },
    "tags": []
   },
   "outputs": [
    {
     "data": {
      "text/plain": [
       "0     Men who have refused to listen to/attend @amer...\n",
       "1                          @OvOBrezzzy Take amerix next\n",
       "2     @AyodeleYo11 @amerix Nah I’m good my masculini...\n",
       "3     @Amerix_DontSimp There is no need for dating i...\n",
       "4     @DyeAnna7 @amerix @kibe From what cos nothing ...\n",
       "5     @salim_the_don @MwendiaJnr I see you unblocked...\n",
       "6     @german_kenyan @ML_Philosophy 🤣 yes they are a...\n",
       "7     @PadreMusa Amerix once said the alcohol menace...\n",
       "8     @DodoPicard You're in Eastafrica, he probably ...\n",
       "9                      @HBK_ACTIVIST @amerix @kibe Heal\n",
       "10                           Amerix student of the year\n",
       "11    @sholla_saddam These are notes from @amerix's ...\n",
       "12    @amerix I appreciate the intent of this, but I...\n",
       "13    @Mynames_Jefff @Biancawamu2 @amerix Wouldn't b...\n",
       "14    @sharbabababa @Biancawamu2 could be @amerix wife🤷\n",
       "15    @DyeAnna7 @amerix @kibe Was raised by toxic co...\n",
       "16    @butdarkacademia @purevibeezz good thing is An...\n",
       "17    @amerix The system needs you sick and depresse...\n",
       "18    As we end the year 2022, kindly pass my messag...\n",
       "19                       @Ha_thighness @yvng_joh Amerix\n",
       "Name: text, dtype: object"
      ]
     },
     "execution_count": 12,
     "metadata": {},
     "output_type": "execute_result"
    }
   ],
   "source": [
    "df['text'].head(20)"
   ]
  },
  {
   "cell_type": "code",
   "execution_count": 13,
   "id": "9efd68f2",
   "metadata": {
    "execution": {
     "iopub.execute_input": "2023-02-16T12:40:41.121235Z",
     "iopub.status.busy": "2023-02-16T12:40:41.119919Z",
     "iopub.status.idle": "2023-02-16T12:40:41.135419Z",
     "shell.execute_reply": "2023-02-16T12:40:41.134132Z"
    },
    "papermill": {
     "duration": 0.036509,
     "end_time": "2023-02-16T12:40:41.137859",
     "exception": false,
     "start_time": "2023-02-16T12:40:41.101350",
     "status": "completed"
    },
    "tags": []
   },
   "outputs": [
    {
     "data": {
      "text/html": [
       "<div>\n",
       "<style scoped>\n",
       "    .dataframe tbody tr th:only-of-type {\n",
       "        vertical-align: middle;\n",
       "    }\n",
       "\n",
       "    .dataframe tbody tr th {\n",
       "        vertical-align: top;\n",
       "    }\n",
       "\n",
       "    .dataframe thead th {\n",
       "        text-align: right;\n",
       "    }\n",
       "</style>\n",
       "<table border=\"1\" class=\"dataframe\">\n",
       "  <thead>\n",
       "    <tr style=\"text-align: right;\">\n",
       "      <th></th>\n",
       "      <th>tweet_created_at</th>\n",
       "      <th>text</th>\n",
       "      <th>Sentiment</th>\n",
       "    </tr>\n",
       "  </thead>\n",
       "  <tbody>\n",
       "    <tr>\n",
       "      <th>248719</th>\n",
       "      <td>2020-01-03 16:00:23+00:00</td>\n",
       "      <td>#FoodFriday means tasty snacks throughout the ...</td>\n",
       "      <td>Neutral</td>\n",
       "    </tr>\n",
       "    <tr>\n",
       "      <th>248720</th>\n",
       "      <td>2020-01-03 15:32:14+00:00</td>\n",
       "      <td>F U E L E D F R I D A Y\\nLooking for a fun, co...</td>\n",
       "      <td>Positive</td>\n",
       "    </tr>\n",
       "    <tr>\n",
       "      <th>248721</th>\n",
       "      <td>2020-01-03 15:15:13+00:00</td>\n",
       "      <td>Kummer reminds you to stay hydrated #foodfrida...</td>\n",
       "      <td>Neutral</td>\n",
       "    </tr>\n",
       "    <tr>\n",
       "      <th>248722</th>\n",
       "      <td>2020-01-03 15:14:57+00:00</td>\n",
       "      <td>Commercial #Kitchens need attention at a great...</td>\n",
       "      <td>Positive</td>\n",
       "    </tr>\n",
       "    <tr>\n",
       "      <th>248723</th>\n",
       "      <td>2020-01-03 15:11:01+00:00</td>\n",
       "      <td>Mary's Meals is changing lives in Zimbabwe htt...</td>\n",
       "      <td>Neutral</td>\n",
       "    </tr>\n",
       "    <tr>\n",
       "      <th>248724</th>\n",
       "      <td>2020-01-03 15:00:48+00:00</td>\n",
       "      <td>Will meat alternatives continue gaining popula...</td>\n",
       "      <td>Positive</td>\n",
       "    </tr>\n",
       "    <tr>\n",
       "      <th>248725</th>\n",
       "      <td>2020-01-03 14:29:10+00:00</td>\n",
       "      <td>These are our top five healthy recipes that yo...</td>\n",
       "      <td>Positive</td>\n",
       "    </tr>\n",
       "    <tr>\n",
       "      <th>248726</th>\n",
       "      <td>2020-01-03 14:01:57+00:00</td>\n",
       "      <td>Burned out on cooking after the holidays? Here...</td>\n",
       "      <td>Positive</td>\n",
       "    </tr>\n",
       "    <tr>\n",
       "      <th>248727</th>\n",
       "      <td>2020-01-03 14:00:38+00:00</td>\n",
       "      <td>Will you eat lettuce that is not grown in soil...</td>\n",
       "      <td>Neutral</td>\n",
       "    </tr>\n",
       "    <tr>\n",
       "      <th>248728</th>\n",
       "      <td>2020-01-03 13:49:24+00:00</td>\n",
       "      <td>#FoodFriday: Is it possible to treat things li...</td>\n",
       "      <td>Negative</td>\n",
       "    </tr>\n",
       "    <tr>\n",
       "      <th>248729</th>\n",
       "      <td>2020-01-03 13:33:59+00:00</td>\n",
       "      <td>Foodies, this particular country is one of our...</td>\n",
       "      <td>Positive</td>\n",
       "    </tr>\n",
       "    <tr>\n",
       "      <th>248730</th>\n",
       "      <td>2020-01-03 13:15:42+00:00</td>\n",
       "      <td>Today is usually #FoodFriday on this timeline....</td>\n",
       "      <td>Negative</td>\n",
       "    </tr>\n",
       "    <tr>\n",
       "      <th>248731</th>\n",
       "      <td>2020-01-03 13:06:15+00:00</td>\n",
       "      <td>#FoodFriday\\n\\nWhat are you cookin' up today o...</td>\n",
       "      <td>Positive</td>\n",
       "    </tr>\n",
       "    <tr>\n",
       "      <th>248732</th>\n",
       "      <td>2020-01-03 12:30:12+00:00</td>\n",
       "      <td>This weeks #FoodFriday is from @WoodsideBay 🍕\\...</td>\n",
       "      <td>Positive</td>\n",
       "    </tr>\n",
       "    <tr>\n",
       "      <th>248733</th>\n",
       "      <td>2020-01-03 12:05:03+00:00</td>\n",
       "      <td>Ring in the New Year with healthy eating. Chec...</td>\n",
       "      <td>Positive</td>\n",
       "    </tr>\n",
       "    <tr>\n",
       "      <th>248734</th>\n",
       "      <td>2020-01-03 11:15:48+00:00</td>\n",
       "      <td>'The old fool forgot the lessons of Blodeuwedd...</td>\n",
       "      <td>Negative</td>\n",
       "    </tr>\n",
       "    <tr>\n",
       "      <th>248735</th>\n",
       "      <td>2020-01-03 10:08:33+00:00</td>\n",
       "      <td>African star Apple (Udara).\\nRich source of vi...</td>\n",
       "      <td>Positive</td>\n",
       "    </tr>\n",
       "    <tr>\n",
       "      <th>248736</th>\n",
       "      <td>2020-01-03 06:44:33+00:00</td>\n",
       "      <td>#FOODFRIDAY 🇮🇹🍫\\nIf you love chocolate, then b...</td>\n",
       "      <td>Positive</td>\n",
       "    </tr>\n",
       "    <tr>\n",
       "      <th>248737</th>\n",
       "      <td>2020-01-03 06:31:10+00:00</td>\n",
       "      <td>#foodfriday @baghdadcafeCT hey offer a variety...</td>\n",
       "      <td>Positive</td>\n",
       "    </tr>\n",
       "    <tr>\n",
       "      <th>248738</th>\n",
       "      <td>2020-01-03 04:30:00+00:00</td>\n",
       "      <td>This Mangalorean special chicken curry can be ...</td>\n",
       "      <td>Positive</td>\n",
       "    </tr>\n",
       "  </tbody>\n",
       "</table>\n",
       "</div>"
      ],
      "text/plain": [
       "                tweet_created_at  \\\n",
       "248719 2020-01-03 16:00:23+00:00   \n",
       "248720 2020-01-03 15:32:14+00:00   \n",
       "248721 2020-01-03 15:15:13+00:00   \n",
       "248722 2020-01-03 15:14:57+00:00   \n",
       "248723 2020-01-03 15:11:01+00:00   \n",
       "248724 2020-01-03 15:00:48+00:00   \n",
       "248725 2020-01-03 14:29:10+00:00   \n",
       "248726 2020-01-03 14:01:57+00:00   \n",
       "248727 2020-01-03 14:00:38+00:00   \n",
       "248728 2020-01-03 13:49:24+00:00   \n",
       "248729 2020-01-03 13:33:59+00:00   \n",
       "248730 2020-01-03 13:15:42+00:00   \n",
       "248731 2020-01-03 13:06:15+00:00   \n",
       "248732 2020-01-03 12:30:12+00:00   \n",
       "248733 2020-01-03 12:05:03+00:00   \n",
       "248734 2020-01-03 11:15:48+00:00   \n",
       "248735 2020-01-03 10:08:33+00:00   \n",
       "248736 2020-01-03 06:44:33+00:00   \n",
       "248737 2020-01-03 06:31:10+00:00   \n",
       "248738 2020-01-03 04:30:00+00:00   \n",
       "\n",
       "                                                     text Sentiment  \n",
       "248719  #FoodFriday means tasty snacks throughout the ...   Neutral  \n",
       "248720  F U E L E D F R I D A Y\\nLooking for a fun, co...  Positive  \n",
       "248721  Kummer reminds you to stay hydrated #foodfrida...   Neutral  \n",
       "248722  Commercial #Kitchens need attention at a great...  Positive  \n",
       "248723  Mary's Meals is changing lives in Zimbabwe htt...   Neutral  \n",
       "248724  Will meat alternatives continue gaining popula...  Positive  \n",
       "248725  These are our top five healthy recipes that yo...  Positive  \n",
       "248726  Burned out on cooking after the holidays? Here...  Positive  \n",
       "248727  Will you eat lettuce that is not grown in soil...   Neutral  \n",
       "248728  #FoodFriday: Is it possible to treat things li...  Negative  \n",
       "248729  Foodies, this particular country is one of our...  Positive  \n",
       "248730  Today is usually #FoodFriday on this timeline....  Negative  \n",
       "248731  #FoodFriday\\n\\nWhat are you cookin' up today o...  Positive  \n",
       "248732  This weeks #FoodFriday is from @WoodsideBay 🍕\\...  Positive  \n",
       "248733  Ring in the New Year with healthy eating. Chec...  Positive  \n",
       "248734  'The old fool forgot the lessons of Blodeuwedd...  Negative  \n",
       "248735  African star Apple (Udara).\\nRich source of vi...  Positive  \n",
       "248736  #FOODFRIDAY 🇮🇹🍫\\nIf you love chocolate, then b...  Positive  \n",
       "248737  #foodfriday @baghdadcafeCT hey offer a variety...  Positive  \n",
       "248738  This Mangalorean special chicken curry can be ...  Positive  "
      ]
     },
     "execution_count": 13,
     "metadata": {},
     "output_type": "execute_result"
    }
   ],
   "source": [
    "df.tail(20)"
   ]
  },
  {
   "cell_type": "code",
   "execution_count": 14,
   "id": "bf3746bf",
   "metadata": {
    "execution": {
     "iopub.execute_input": "2023-02-16T12:40:41.174066Z",
     "iopub.status.busy": "2023-02-16T12:40:41.172863Z",
     "iopub.status.idle": "2023-02-16T12:40:47.317724Z",
     "shell.execute_reply": "2023-02-16T12:40:47.316211Z"
    },
    "papermill": {
     "duration": 6.165766,
     "end_time": "2023-02-16T12:40:47.320676",
     "exception": false,
     "start_time": "2023-02-16T12:40:41.154910",
     "status": "completed"
    },
    "tags": []
   },
   "outputs": [
    {
     "data": {
      "application/vnd.jupyter.widget-view+json": {
       "model_id": "ba8898349be14721a7948d522af01de7",
       "version_major": 2,
       "version_minor": 0
      },
      "text/plain": [
       "Downloading:   0%|          | 0.00/28.0 [00:00<?, ?B/s]"
      ]
     },
     "metadata": {},
     "output_type": "display_data"
    },
    {
     "data": {
      "application/vnd.jupyter.widget-view+json": {
       "model_id": "1b2e50128e5f401396787b9e910bc4cf",
       "version_major": 2,
       "version_minor": 0
      },
      "text/plain": [
       "Downloading:   0%|          | 0.00/226k [00:00<?, ?B/s]"
      ]
     },
     "metadata": {},
     "output_type": "display_data"
    },
    {
     "data": {
      "application/vnd.jupyter.widget-view+json": {
       "model_id": "2323af16cc5945f0a40598c2922bf74c",
       "version_major": 2,
       "version_minor": 0
      },
      "text/plain": [
       "Downloading:   0%|          | 0.00/455k [00:00<?, ?B/s]"
      ]
     },
     "metadata": {},
     "output_type": "display_data"
    },
    {
     "data": {
      "application/vnd.jupyter.widget-view+json": {
       "model_id": "6b6ea6c45d1642c684cbecdcf9c5b6e9",
       "version_major": 2,
       "version_minor": 0
      },
      "text/plain": [
       "Downloading:   0%|          | 0.00/570 [00:00<?, ?B/s]"
      ]
     },
     "metadata": {},
     "output_type": "display_data"
    }
   ],
   "source": [
    "tokenizer = BertTokenizerFast.from_pretrained('bert-base-uncased')"
   ]
  },
  {
   "cell_type": "code",
   "execution_count": 15,
   "id": "f7ddee5f",
   "metadata": {
    "execution": {
     "iopub.execute_input": "2023-02-16T12:40:47.357560Z",
     "iopub.status.busy": "2023-02-16T12:40:47.357096Z",
     "iopub.status.idle": "2023-02-16T12:40:51.639574Z",
     "shell.execute_reply": "2023-02-16T12:40:51.638495Z"
    },
    "papermill": {
     "duration": 4.304357,
     "end_time": "2023-02-16T12:40:51.642320",
     "exception": false,
     "start_time": "2023-02-16T12:40:47.337963",
     "status": "completed"
    },
    "tags": []
   },
   "outputs": [],
   "source": [
    "tokenizer_1 = AutoTokenizer.from_pretrained('bert-base-uncased')"
   ]
  },
  {
   "cell_type": "code",
   "execution_count": 16,
   "id": "36e0f7b9",
   "metadata": {
    "execution": {
     "iopub.execute_input": "2023-02-16T12:40:51.679382Z",
     "iopub.status.busy": "2023-02-16T12:40:51.678909Z",
     "iopub.status.idle": "2023-02-16T12:41:02.534375Z",
     "shell.execute_reply": "2023-02-16T12:41:02.532746Z"
    },
    "papermill": {
     "duration": 10.876804,
     "end_time": "2023-02-16T12:41:02.537002",
     "exception": false,
     "start_time": "2023-02-16T12:40:51.660198",
     "status": "completed"
    },
    "tags": []
   },
   "outputs": [
    {
     "name": "stdout",
     "output_type": "stream",
     "text": [
      "99.80984576378619% of the emojis are not identified by this tokenizer.\n"
     ]
    }
   ],
   "source": [
    "emoji_list = list(emoji.EMOJI_DATA.keys())\n",
    "\n",
    "cnt = 0\n",
    "\n",
    "for e in emoji_list:\n",
    "    tokenized = tokenizer.decode(tokenizer.encode(e)).strip(\"</s>\").strip()\n",
    "    if e not in tokenized:\n",
    "        cnt += 1\n",
    "print(f\"{cnt/len(emoji_list)*100}% of the emojis are not identified by this tokenizer.\")"
   ]
  },
  {
   "cell_type": "code",
   "execution_count": 17,
   "id": "4d664ec8",
   "metadata": {
    "execution": {
     "iopub.execute_input": "2023-02-16T12:41:02.574076Z",
     "iopub.status.busy": "2023-02-16T12:41:02.573298Z",
     "iopub.status.idle": "2023-02-16T12:41:02.976730Z",
     "shell.execute_reply": "2023-02-16T12:41:02.975004Z"
    },
    "papermill": {
     "duration": 0.425846,
     "end_time": "2023-02-16T12:41:02.980413",
     "exception": false,
     "start_time": "2023-02-16T12:41:02.554567",
     "status": "completed"
    },
    "tags": []
   },
   "outputs": [
    {
     "name": "stdout",
     "output_type": "stream",
     "text": [
      "99.80984576378619% of the emojis are not identified by this tokenizer.\n"
     ]
    }
   ],
   "source": [
    "emoji_list = list(emoji.EMOJI_DATA.keys())\n",
    "\n",
    "cnt = 0\n",
    "\n",
    "for e in emoji_list:\n",
    "    tokenized = tokenizer_1.decode(tokenizer_1.encode(e)).strip(\"</s>\").strip()\n",
    "    if e not in tokenized:\n",
    "        cnt += 1\n",
    "print(f\"{cnt/len(emoji_list)*100}% of the emojis are not identified by this tokenizer.\")"
   ]
  },
  {
   "cell_type": "code",
   "execution_count": 18,
   "id": "aa037e29",
   "metadata": {
    "execution": {
     "iopub.execute_input": "2023-02-16T12:41:03.017303Z",
     "iopub.status.busy": "2023-02-16T12:41:03.016838Z",
     "iopub.status.idle": "2023-02-16T12:41:05.372951Z",
     "shell.execute_reply": "2023-02-16T12:41:05.371599Z"
    },
    "papermill": {
     "duration": 2.377689,
     "end_time": "2023-02-16T12:41:05.375928",
     "exception": false,
     "start_time": "2023-02-16T12:41:02.998239",
     "status": "completed"
    },
    "tags": []
   },
   "outputs": [],
   "source": [
    "tokenizer_3 = BertTokenizer.from_pretrained('bert-base-uncased')"
   ]
  },
  {
   "cell_type": "code",
   "execution_count": 19,
   "id": "50b8f54a",
   "metadata": {
    "execution": {
     "iopub.execute_input": "2023-02-16T12:41:05.413314Z",
     "iopub.status.busy": "2023-02-16T12:41:05.412889Z",
     "iopub.status.idle": "2023-02-16T12:41:06.302390Z",
     "shell.execute_reply": "2023-02-16T12:41:06.301036Z"
    },
    "papermill": {
     "duration": 0.911535,
     "end_time": "2023-02-16T12:41:06.305167",
     "exception": false,
     "start_time": "2023-02-16T12:41:05.393632",
     "status": "completed"
    },
    "tags": []
   },
   "outputs": [
    {
     "name": "stdout",
     "output_type": "stream",
     "text": [
      "99.80984576378619% of the emojis are not identified by this tokenizer.\n"
     ]
    }
   ],
   "source": [
    "emoji_list = list(emoji.EMOJI_DATA.keys())\n",
    "\n",
    "cnt = 0\n",
    "\n",
    "for e in emoji_list:\n",
    "    tokenized = tokenizer_3.decode(tokenizer_3.encode(e)).strip(\"</s>\").strip()\n",
    "    if e not in tokenized:\n",
    "        cnt += 1\n",
    "print(f\"{cnt/len(emoji_list)*100}% of the emojis are not identified by this tokenizer.\")"
   ]
  },
  {
   "cell_type": "code",
   "execution_count": 20,
   "id": "9125eef8",
   "metadata": {
    "execution": {
     "iopub.execute_input": "2023-02-16T12:41:06.341750Z",
     "iopub.status.busy": "2023-02-16T12:41:06.341337Z",
     "iopub.status.idle": "2023-02-16T12:41:14.519005Z",
     "shell.execute_reply": "2023-02-16T12:41:14.517784Z"
    },
    "papermill": {
     "duration": 8.199431,
     "end_time": "2023-02-16T12:41:14.522047",
     "exception": false,
     "start_time": "2023-02-16T12:41:06.322616",
     "status": "completed"
    },
    "tags": []
   },
   "outputs": [
    {
     "data": {
      "application/vnd.jupyter.widget-view+json": {
       "model_id": "f96eee7723e847978b069f91fce1c6ad",
       "version_major": 2,
       "version_minor": 0
      },
      "text/plain": [
       "Downloading:   0%|          | 0.00/656 [00:00<?, ?B/s]"
      ]
     },
     "metadata": {},
     "output_type": "display_data"
    },
    {
     "data": {
      "application/vnd.jupyter.widget-view+json": {
       "model_id": "7af3c673c4bb4a13a5855adecd02dc2e",
       "version_major": 2,
       "version_minor": 0
      },
      "text/plain": [
       "Downloading:   0%|          | 0.00/797k [00:00<?, ?B/s]"
      ]
     },
     "metadata": {},
     "output_type": "display_data"
    },
    {
     "data": {
      "application/vnd.jupyter.widget-view+json": {
       "model_id": "04d1d651d9d34b68a46816fcb3fac00e",
       "version_major": 2,
       "version_minor": 0
      },
      "text/plain": [
       "Downloading:   0%|          | 0.00/448k [00:00<?, ?B/s]"
      ]
     },
     "metadata": {},
     "output_type": "display_data"
    },
    {
     "data": {
      "application/vnd.jupyter.widget-view+json": {
       "model_id": "b5ed7c0eed134509957bdc7421677dd5",
       "version_major": 2,
       "version_minor": 0
      },
      "text/plain": [
       "Downloading:   0%|          | 0.00/1.21M [00:00<?, ?B/s]"
      ]
     },
     "metadata": {},
     "output_type": "display_data"
    }
   ],
   "source": [
    "tokenizer_4 = AutoTokenizer.from_pretrained(\"openai-gpt\")"
   ]
  },
  {
   "cell_type": "code",
   "execution_count": 21,
   "id": "f81f357b",
   "metadata": {
    "execution": {
     "iopub.execute_input": "2023-02-16T12:41:14.560638Z",
     "iopub.status.busy": "2023-02-16T12:41:14.560196Z",
     "iopub.status.idle": "2023-02-16T12:41:14.922444Z",
     "shell.execute_reply": "2023-02-16T12:41:14.920953Z"
    },
    "papermill": {
     "duration": 0.384479,
     "end_time": "2023-02-16T12:41:14.925218",
     "exception": false,
     "start_time": "2023-02-16T12:41:14.540739",
     "status": "completed"
    },
    "tags": []
   },
   "outputs": [
    {
     "name": "stdout",
     "output_type": "stream",
     "text": [
      "99.80984576378619% of the emojis are not identified by this tokenizer.\n"
     ]
    }
   ],
   "source": [
    "emoji_list = list(emoji.EMOJI_DATA.keys())\n",
    "\n",
    "cnt = 0\n",
    "\n",
    "for e in emoji_list:\n",
    "    tokenized = tokenizer_4.decode(tokenizer_4.encode(e)).strip(\"</s>\").strip()\n",
    "    if e not in tokenized:\n",
    "        cnt += 1\n",
    "print(f\"{cnt/len(emoji_list)*100}% of the emojis are not identified by this tokenizer.\")"
   ]
  },
  {
   "cell_type": "code",
   "execution_count": 22,
   "id": "cb1c9f0a",
   "metadata": {
    "execution": {
     "iopub.execute_input": "2023-02-16T12:41:14.963061Z",
     "iopub.status.busy": "2023-02-16T12:41:14.962647Z",
     "iopub.status.idle": "2023-02-16T12:41:14.968544Z",
     "shell.execute_reply": "2023-02-16T12:41:14.967240Z"
    },
    "papermill": {
     "duration": 0.027871,
     "end_time": "2023-02-16T12:41:14.970976",
     "exception": false,
     "start_time": "2023-02-16T12:41:14.943105",
     "status": "completed"
    },
    "tags": []
   },
   "outputs": [],
   "source": [
    "def emoji2description(text):\n",
    "\n",
    "    return emoji.replace_emoji(text, replace=lambda chars, data_dict: ' '.join(data_dict['en'].split('_')).strip(':'))"
   ]
  },
  {
   "cell_type": "code",
   "execution_count": 23,
   "id": "35c5553f",
   "metadata": {
    "execution": {
     "iopub.execute_input": "2023-02-16T12:41:15.010111Z",
     "iopub.status.busy": "2023-02-16T12:41:15.009573Z",
     "iopub.status.idle": "2023-02-16T12:41:15.016213Z",
     "shell.execute_reply": "2023-02-16T12:41:15.014921Z"
    },
    "papermill": {
     "duration": 0.029454,
     "end_time": "2023-02-16T12:41:15.018939",
     "exception": false,
     "start_time": "2023-02-16T12:41:14.989485",
     "status": "completed"
    },
    "tags": []
   },
   "outputs": [],
   "source": [
    "def emoji2concat_emoji(text):\n",
    "    emoji_list = emoji.emoji_list(text)\n",
    "    ret = emoji.replace_emoji(text, replace='').strip()\n",
    "    for json in emoji_list:\n",
    "        this_emoji = json['emoji']\n",
    "        ret += ' ' + this_emoji\n",
    "    return ret"
   ]
  },
  {
   "cell_type": "code",
   "execution_count": 24,
   "id": "980d52e5",
   "metadata": {
    "execution": {
     "iopub.execute_input": "2023-02-16T12:41:15.057779Z",
     "iopub.status.busy": "2023-02-16T12:41:15.057388Z",
     "iopub.status.idle": "2023-02-16T12:41:15.063921Z",
     "shell.execute_reply": "2023-02-16T12:41:15.062594Z"
    },
    "papermill": {
     "duration": 0.028645,
     "end_time": "2023-02-16T12:41:15.066338",
     "exception": false,
     "start_time": "2023-02-16T12:41:15.037693",
     "status": "completed"
    },
    "tags": []
   },
   "outputs": [],
   "source": [
    "def emoji2concat_description(text):\n",
    "    emoji_list = emoji.emoji_list(text)\n",
    "    ret = emoji.replace_emoji(text, replace='').strip()\n",
    "    for json in emoji_list:\n",
    "        this_desc = ' '.join(emoji.EMOJI_DATA[json['emoji']]['en'].split('_')).strip(':')\n",
    "        ret += ' ' + this_desc\n",
    "    return ret"
   ]
  },
  {
   "cell_type": "code",
   "execution_count": 25,
   "id": "f01a558c",
   "metadata": {
    "execution": {
     "iopub.execute_input": "2023-02-16T12:41:15.105320Z",
     "iopub.status.busy": "2023-02-16T12:41:15.104875Z",
     "iopub.status.idle": "2023-02-16T12:42:22.343088Z",
     "shell.execute_reply": "2023-02-16T12:42:22.341615Z"
    },
    "papermill": {
     "duration": 67.260545,
     "end_time": "2023-02-16T12:42:22.346110",
     "exception": false,
     "start_time": "2023-02-16T12:41:15.085565",
     "status": "completed"
    },
    "tags": []
   },
   "outputs": [],
   "source": [
    "texts_new = []\n",
    "\n",
    "for t in df.text:\n",
    "    texts_new.append(\n",
    "        emoji2description(emoji2concat_emoji(emoji2concat_description((t))))\n",
    "    )"
   ]
  },
  {
   "cell_type": "code",
   "execution_count": 26,
   "id": "5facefba",
   "metadata": {
    "execution": {
     "iopub.execute_input": "2023-02-16T12:42:22.385012Z",
     "iopub.status.busy": "2023-02-16T12:42:22.384083Z",
     "iopub.status.idle": "2023-02-16T12:42:22.427182Z",
     "shell.execute_reply": "2023-02-16T12:42:22.426204Z"
    },
    "papermill": {
     "duration": 0.06502,
     "end_time": "2023-02-16T12:42:22.429800",
     "exception": false,
     "start_time": "2023-02-16T12:42:22.364780",
     "status": "completed"
    },
    "tags": []
   },
   "outputs": [],
   "source": [
    "df['text_clean'] = texts_new"
   ]
  },
  {
   "cell_type": "code",
   "execution_count": 27,
   "id": "cb14bdb3",
   "metadata": {
    "execution": {
     "iopub.execute_input": "2023-02-16T12:42:22.468809Z",
     "iopub.status.busy": "2023-02-16T12:42:22.468109Z",
     "iopub.status.idle": "2023-02-16T12:42:22.475867Z",
     "shell.execute_reply": "2023-02-16T12:42:22.474528Z"
    },
    "papermill": {
     "duration": 0.029622,
     "end_time": "2023-02-16T12:42:22.478216",
     "exception": false,
     "start_time": "2023-02-16T12:42:22.448594",
     "status": "completed"
    },
    "tags": []
   },
   "outputs": [
    {
     "data": {
      "text/plain": [
       "array(['#FoodFriday means tasty snacks throughout the day!\\n😋💙🥄🍫\\n📷 : @flexible_nati\\n#haveaplant https://t.co/pNSAHV2hDh',\n",
       "       'F U E L E D F R I D A Y\\nLooking for a fun, colorful and healthy recipe to kick off the new year? Well, check out this delicious and beautiful dish!\\n・・・\\nEggs baked in Veggie Nests. Head over to our insta for the recipe. 🤤\\n\\n#fueledfriday #foodfriday #runinrabbit #borntorunfree https://t.co/2Fwez5uYb2',\n",
       "       'Kummer reminds you to stay hydrated #foodfriday https://t.co/rkZmatd97f',\n",
       "       'Commercial #Kitchens need attention at a great price! 🦏 Rhino Shine has a solid plan unlike #JasonGarrett future 🤷🏻\\u200d♂️. #Dallas #winning #coupons #restaurant #hood #cleaning #foodfriday #trucks https://t.co/U0V5BO33uo',\n",
       "       \"Mary's Meals is changing lives in Zimbabwe https://t.co/bioEZAt47N #feelgoodfriday #FoodFriday\",\n",
       "       'Will meat alternatives continue gaining popularity in 2020? https://t.co/wzvi1XOBmj via @YourMorning ht  @LetsTalkScience 🥬🍔🤑 #food #health #diet #nutrition #meatless #plantbased #Vegan #vegetarian #HealthyLiving #HealthyEating #BusinessGrowth #business #FoodFriday',\n",
       "       'These are our top five healthy recipes that you can throw together in the morning and enjoy in the evening (as well as take leftovers for lunch the next day).\\n#FoodFriday #EatHealthy #NewYearNewYou #PersonalTraining #FitnessTogether                       https://t.co/TiKGdeqr1p',\n",
       "       \"Burned out on cooking after the holidays? Here's a selection of quick and easy meals to get you inspired #FoodFriday\\nhttps://t.co/uLYOPeQHQc https://t.co/nyWopWqh79\",\n",
       "       'Will you eat lettuce that is not grown in soil? Large scale #Hydroponics can produce hyper local food in a small space, even shipping containers or in your own home. https://t.co/Ogy8UgHMUt #FoodFriday',\n",
       "       '#FoodFriday: Is it possible to treat things like anxiety and depression with food? https://t.co/93Ez7VwziK\\n#KinderInTheKeys #MentalHealth #Anxiety #PTSD #Depression #Trauma #Recovery #Healing #Treatment #Food #Wellness',\n",
       "       \"Foodies, this particular country is one of our FAV when it comes to FOOD!! 🥘🍲🥗🍜\\n\\nLet's see if you can guess it!! 🤓\\n\\n#FoodFriday #GuessGame #Guess #Fun #FridayThoughts #foodie https://t.co/gK3x3uMArb\",\n",
       "       'Today is usually #FoodFriday on this timeline.\\n\\nI tweet about food. \\n\\nIf you can postpone your instant gratification from bad foods, you can postpone bad habits in your life.\\n\\nHow you approach food is evidently how you approach your other aspects of life.\\n\\n#FoodFriday',\n",
       "       \"#FoodFriday\\n\\nWhat are you cookin' up today or this weekend? What's your favorite recipe? Looking for some new ideas! https://t.co/3VRQTRCxd3\",\n",
       "       'This weeks #FoodFriday is from @WoodsideBay 🍕\\n\\nWould you be interested in a #Chef position with us?\\nThen why not visit the Darwin Escapes website, locate the Careers tab and search for our Chef vacancies 😀\\n\\n#Jobs https://t.co/FWNknvURhn',\n",
       "       'Ring in the New Year with healthy eating. Checkout #ClickNCook #healthrecipe Fruity Homemade Oatmeal. https://t.co/7XR3tw6XsH\\n#FoodFriday',\n",
       "       \"'The old fool forgot the lessons of Blodeuwedd and Frankenstein: never create anything smarter, or more ruthless, than yourself.'\\n.\\n#FoodFriday featuring cheesecake (that I'd been craving since Tuesday but been too lazy to…\\n\\n📸 https://t.co/U6yxC4h3sz via https://t.co/Z51VYxAyBJ https://t.co/8f5Lqkp8hm\",\n",
       "       'African star Apple (Udara).\\nRich source of vita.C is one of the wonderful fruits offered by nature with important health benefits.\\nRanging from tackling toothache, mouth gum disease, soar throat, helps in weight loss and good for expecting mothers \\n\\n#FoodFriday\\n#CoalCityConnect https://t.co/ODyfnS8VVm',\n",
       "       '#FOODFRIDAY 🇮🇹🍫\\nIf you love chocolate, then board the first flight to California. The Nutella Pop Up Hotel is about to open. Discover more in this video. Do you know? Nutella is an Italian product...of course!\\n#italy #food #nutella #language #school… https://t.co/bgG5haT6mQ https://t.co/gw0JhCqZHE',\n",
       "       '#foodfriday @baghdadcafeCT hey offer a variety of delicious foods, from pizza to tacos and sticky wings! For your convenience they also avail on @ubereats_za https://t.co/P8sdNvfMcg',\n",
       "       'This Mangalorean special chicken curry can be paired best with neer dosa or steamed rice. What’s your pick?\\nRecipe Link: https://t.co/iyYCpcuoeA\\n#FoodFriday https://t.co/Bke1o79Zio'],\n",
       "      dtype=object)"
      ]
     },
     "execution_count": 27,
     "metadata": {},
     "output_type": "execute_result"
    }
   ],
   "source": [
    "df['text'].tail(20).values"
   ]
  },
  {
   "cell_type": "code",
   "execution_count": 28,
   "id": "95a5cf0b",
   "metadata": {
    "execution": {
     "iopub.execute_input": "2023-02-16T12:42:22.517751Z",
     "iopub.status.busy": "2023-02-16T12:42:22.517321Z",
     "iopub.status.idle": "2023-02-16T12:42:22.525089Z",
     "shell.execute_reply": "2023-02-16T12:42:22.524259Z"
    },
    "papermill": {
     "duration": 0.030208,
     "end_time": "2023-02-16T12:42:22.527289",
     "exception": false,
     "start_time": "2023-02-16T12:42:22.497081",
     "status": "completed"
    },
    "tags": []
   },
   "outputs": [
    {
     "data": {
      "text/plain": [
       "array(['#FoodFriday means tasty snacks throughout the day!\\n\\n : @flexible_nati\\n#haveaplant https://t.co/pNSAHV2hDh face savoring food blue heart spoon chocolate bar camera',\n",
       "       'F U E L E D F R I D A Y\\nLooking for a fun, colorful and healthy recipe to kick off the new year? Well, check out this delicious and beautiful dish!\\n・・・\\nEggs baked in Veggie Nests. Head over to our insta for the recipe. \\n\\n#fueledfriday #foodfriday #runinrabbit #borntorunfree https://t.co/2Fwez5uYb2 drooling face',\n",
       "       'Kummer reminds you to stay hydrated #foodfriday https://t.co/rkZmatd97f',\n",
       "       'Commercial #Kitchens need attention at a great price!  Rhino Shine has a solid plan unlike #JasonGarrett future . #Dallas #winning #coupons #restaurant #hood #cleaning #foodfriday #trucks https://t.co/U0V5BO33uo rhinoceros man shrugging light skin tone',\n",
       "       \"Mary's Meals is changing lives in Zimbabwe https://t.co/bioEZAt47N #feelgoodfriday #FoodFriday\",\n",
       "       'Will meat alternatives continue gaining popularity in 2020? https://t.co/wzvi1XOBmj via @YourMorning ht  @LetsTalkScience  #food #health #diet #nutrition #meatless #plantbased #Vegan #vegetarian #HealthyLiving #HealthyEating #BusinessGrowth #business #FoodFriday leafy green hamburger money-mouth face',\n",
       "       'These are our top five healthy recipes that you can throw together in the morning and enjoy in the evening (as well as take leftovers for lunch the next day).\\n#FoodFriday #EatHealthy #NewYearNewYou #PersonalTraining #FitnessTogether                       https://t.co/TiKGdeqr1p',\n",
       "       \"Burned out on cooking after the holidays? Here's a selection of quick and easy meals to get you inspired #FoodFriday\\nhttps://t.co/uLYOPeQHQc https://t.co/nyWopWqh79\",\n",
       "       'Will you eat lettuce that is not grown in soil? Large scale #Hydroponics can produce hyper local food in a small space, even shipping containers or in your own home. https://t.co/Ogy8UgHMUt #FoodFriday',\n",
       "       '#FoodFriday: Is it possible to treat things like anxiety and depression with food? https://t.co/93Ez7VwziK\\n#KinderInTheKeys #MentalHealth #Anxiety #PTSD #Depression #Trauma #Recovery #Healing #Treatment #Food #Wellness',\n",
       "       \"Foodies, this particular country is one of our FAV when it comes to FOOD!! \\n\\nLet's see if you can guess it!! \\n\\n#FoodFriday #GuessGame #Guess #Fun #FridayThoughts #foodie https://t.co/gK3x3uMArb shallow pan of food pot of food green salad steaming bowl nerd face\",\n",
       "       'Today is usually #FoodFriday on this timeline.\\n\\nI tweet about food. \\n\\nIf you can postpone your instant gratification from bad foods, you can postpone bad habits in your life.\\n\\nHow you approach food is evidently how you approach your other aspects of life.\\n\\n#FoodFriday',\n",
       "       \"#FoodFriday\\n\\nWhat are you cookin' up today or this weekend? What's your favorite recipe? Looking for some new ideas! https://t.co/3VRQTRCxd3\",\n",
       "       'This weeks #FoodFriday is from @WoodsideBay \\n\\nWould you be interested in a #Chef position with us?\\nThen why not visit the Darwin Escapes website, locate the Careers tab and search for our Chef vacancies \\n\\n#Jobs https://t.co/FWNknvURhn pizza grinning face',\n",
       "       'Ring in the New Year with healthy eating. Checkout #ClickNCook #healthrecipe Fruity Homemade Oatmeal. https://t.co/7XR3tw6XsH\\n#FoodFriday',\n",
       "       \"'The old fool forgot the lessons of Blodeuwedd and Frankenstein: never create anything smarter, or more ruthless, than yourself.'\\n.\\n#FoodFriday featuring cheesecake (that I'd been craving since Tuesday but been too lazy to…\\n\\n https://t.co/U6yxC4h3sz via https://t.co/Z51VYxAyBJ https://t.co/8f5Lqkp8hm camera with flash\",\n",
       "       'African star Apple (Udara).\\nRich source of vita.C is one of the wonderful fruits offered by nature with important health benefits.\\nRanging from tackling toothache, mouth gum disease, soar throat, helps in weight loss and good for expecting mothers \\n\\n#FoodFriday\\n#CoalCityConnect https://t.co/ODyfnS8VVm',\n",
       "       '#FOODFRIDAY \\nIf you love chocolate, then board the first flight to California. The Nutella Pop Up Hotel is about to open. Discover more in this video. Do you know? Nutella is an Italian product...of course!\\n#italy #food #nutella #language #school… https://t.co/bgG5haT6mQ https://t.co/gw0JhCqZHE Italy chocolate bar',\n",
       "       '#foodfriday @baghdadcafeCT hey offer a variety of delicious foods, from pizza to tacos and sticky wings! For your convenience they also avail on @ubereats_za https://t.co/P8sdNvfMcg',\n",
       "       'This Mangalorean special chicken curry can be paired best with neer dosa or steamed rice. What’s your pick?\\nRecipe Link: https://t.co/iyYCpcuoeA\\n#FoodFriday https://t.co/Bke1o79Zio'],\n",
       "      dtype=object)"
      ]
     },
     "execution_count": 28,
     "metadata": {},
     "output_type": "execute_result"
    }
   ],
   "source": [
    "df['text_clean'].tail(20).values"
   ]
  },
  {
   "cell_type": "code",
   "execution_count": 29,
   "id": "34c351ec",
   "metadata": {
    "execution": {
     "iopub.execute_input": "2023-02-16T12:42:22.569239Z",
     "iopub.status.busy": "2023-02-16T12:42:22.567976Z",
     "iopub.status.idle": "2023-02-16T12:42:22.573624Z",
     "shell.execute_reply": "2023-02-16T12:42:22.572536Z"
    },
    "papermill": {
     "duration": 0.028353,
     "end_time": "2023-02-16T12:42:22.576065",
     "exception": false,
     "start_time": "2023-02-16T12:42:22.547712",
     "status": "completed"
    },
    "tags": []
   },
   "outputs": [],
   "source": [
    "# remove multiple spaces\n",
    "\n",
    "def remove_mult_spaces(text): \n",
    "    return re.sub(\"\\s\\s+\" , \" \", text)"
   ]
  },
  {
   "cell_type": "code",
   "execution_count": 30,
   "id": "43cf4384",
   "metadata": {
    "execution": {
     "iopub.execute_input": "2023-02-16T12:42:22.615619Z",
     "iopub.status.busy": "2023-02-16T12:42:22.614975Z",
     "iopub.status.idle": "2023-02-16T12:42:22.621989Z",
     "shell.execute_reply": "2023-02-16T12:42:22.621174Z"
    },
    "papermill": {
     "duration": 0.030263,
     "end_time": "2023-02-16T12:42:22.624995",
     "exception": false,
     "start_time": "2023-02-16T12:42:22.594732",
     "status": "completed"
    },
    "tags": []
   },
   "outputs": [],
   "source": [
    "#Remove punctuations, links, mentions and \\r\\n new line characters\n",
    "\n",
    "def strip_all_entities(text): \n",
    "    text = text.replace('\\r', '').replace('\\n', ' ').replace('\\n', ' ').lower() #remove \\n and \\r and lowercase\n",
    "    text = re.sub(r\"(?:\\@|https?\\://)\\S+\", \"\", text) #remove links and mentions\n",
    "    text = re.sub(r'[^\\x00-\\x7f]',r'', text) #remove non utf8/ascii characters such as '\\x9a\\x91\\x97\\x9a\\x97'\n",
    "    banned_list= string.punctuation + 'Ã'+'±'+'ã'+'¼'+'â'+'»'+'§'\n",
    "    table = str.maketrans('', '', banned_list)\n",
    "    text = text.translate(table)\n",
    "    return text"
   ]
  },
  {
   "cell_type": "code",
   "execution_count": 31,
   "id": "9258ef57",
   "metadata": {
    "execution": {
     "iopub.execute_input": "2023-02-16T12:42:22.665732Z",
     "iopub.status.busy": "2023-02-16T12:42:22.664683Z",
     "iopub.status.idle": "2023-02-16T12:42:22.671342Z",
     "shell.execute_reply": "2023-02-16T12:42:22.670505Z"
    },
    "papermill": {
     "duration": 0.029027,
     "end_time": "2023-02-16T12:42:22.673737",
     "exception": false,
     "start_time": "2023-02-16T12:42:22.644710",
     "status": "completed"
    },
    "tags": []
   },
   "outputs": [],
   "source": [
    "#clean hashtags at the end of the sentence, and keep those in the middle of the sentence by removing just the # symbol\n",
    "\n",
    "def clean_hashtags(tweet):\n",
    "    new_tweet = \" \".join(word.strip() for word in re.split('#(?!(?:hashtag)\\b)[\\w-]+(?=(?:\\s+#[\\w-]+)*\\s*$)', tweet)) #remove last hashtags\n",
    "    new_tweet2 = \" \".join(word.strip() for word in re.split('#|_', new_tweet)) #remove hashtags symbol from words in the middle of the sentence\n",
    "    return new_tweet2"
   ]
  },
  {
   "cell_type": "code",
   "execution_count": 32,
   "id": "04f0390a",
   "metadata": {
    "execution": {
     "iopub.execute_input": "2023-02-16T12:42:22.712261Z",
     "iopub.status.busy": "2023-02-16T12:42:22.711793Z",
     "iopub.status.idle": "2023-02-16T12:42:22.718493Z",
     "shell.execute_reply": "2023-02-16T12:42:22.717225Z"
    },
    "papermill": {
     "duration": 0.028916,
     "end_time": "2023-02-16T12:42:22.720815",
     "exception": false,
     "start_time": "2023-02-16T12:42:22.691899",
     "status": "completed"
    },
    "tags": []
   },
   "outputs": [],
   "source": [
    "#Filter special characters such as & and $ present in some words\n",
    "\n",
    "def filter_chars(a):\n",
    "    sent = []\n",
    "    for word in a.split(' '):\n",
    "        if ('$' in word) | ('&' in word):\n",
    "            sent.append('')\n",
    "        else:\n",
    "            sent.append(word)\n",
    "    return ' '.join(sent)"
   ]
  },
  {
   "cell_type": "code",
   "execution_count": 33,
   "id": "c6a5c673",
   "metadata": {
    "execution": {
     "iopub.execute_input": "2023-02-16T12:42:22.760853Z",
     "iopub.status.busy": "2023-02-16T12:42:22.760026Z",
     "iopub.status.idle": "2023-02-16T12:42:29.630890Z",
     "shell.execute_reply": "2023-02-16T12:42:29.629817Z"
    },
    "papermill": {
     "duration": 6.893941,
     "end_time": "2023-02-16T12:42:29.633532",
     "exception": false,
     "start_time": "2023-02-16T12:42:22.739591",
     "status": "completed"
    },
    "tags": []
   },
   "outputs": [],
   "source": [
    "deeper_clean = []\n",
    "\n",
    "for t in df.text_clean:\n",
    "    deeper_clean.append(\n",
    "        remove_mult_spaces(\n",
    "            filter_chars(\n",
    "                clean_hashtags(\n",
    "                    strip_all_entities(\n",
    "                        (t)\n",
    "                    ))))\n",
    "    )"
   ]
  },
  {
   "cell_type": "code",
   "execution_count": 34,
   "id": "1e0a8db9",
   "metadata": {
    "execution": {
     "iopub.execute_input": "2023-02-16T12:42:29.673984Z",
     "iopub.status.busy": "2023-02-16T12:42:29.673251Z",
     "iopub.status.idle": "2023-02-16T12:42:29.714005Z",
     "shell.execute_reply": "2023-02-16T12:42:29.712610Z"
    },
    "papermill": {
     "duration": 0.064435,
     "end_time": "2023-02-16T12:42:29.716741",
     "exception": false,
     "start_time": "2023-02-16T12:42:29.652306",
     "status": "completed"
    },
    "tags": []
   },
   "outputs": [],
   "source": [
    "df['text_clean_deeper'] = deeper_clean"
   ]
  },
  {
   "cell_type": "code",
   "execution_count": 35,
   "id": "3d671eed",
   "metadata": {
    "execution": {
     "iopub.execute_input": "2023-02-16T12:42:29.757955Z",
     "iopub.status.busy": "2023-02-16T12:42:29.756822Z",
     "iopub.status.idle": "2023-02-16T12:42:29.765177Z",
     "shell.execute_reply": "2023-02-16T12:42:29.764163Z"
    },
    "papermill": {
     "duration": 0.032065,
     "end_time": "2023-02-16T12:42:29.767778",
     "exception": false,
     "start_time": "2023-02-16T12:42:29.735713",
     "status": "completed"
    },
    "tags": []
   },
   "outputs": [
    {
     "data": {
      "text/plain": [
       "Index(['tweet_created_at', 'text', 'Sentiment', 'text_clean',\n",
       "       'text_clean_deeper'],\n",
       "      dtype='object')"
      ]
     },
     "execution_count": 35,
     "metadata": {},
     "output_type": "execute_result"
    }
   ],
   "source": [
    "df.columns"
   ]
  },
  {
   "cell_type": "code",
   "execution_count": 36,
   "id": "5aaddb2c",
   "metadata": {
    "execution": {
     "iopub.execute_input": "2023-02-16T12:42:29.807363Z",
     "iopub.status.busy": "2023-02-16T12:42:29.806926Z",
     "iopub.status.idle": "2023-02-16T12:42:29.815327Z",
     "shell.execute_reply": "2023-02-16T12:42:29.814118Z"
    },
    "papermill": {
     "duration": 0.03122,
     "end_time": "2023-02-16T12:42:29.817804",
     "exception": false,
     "start_time": "2023-02-16T12:42:29.786584",
     "status": "completed"
    },
    "tags": []
   },
   "outputs": [
    {
     "data": {
      "text/plain": [
       "array(['#FoodFriday means tasty snacks throughout the day!\\n😋💙🥄🍫\\n📷 : @flexible_nati\\n#haveaplant https://t.co/pNSAHV2hDh',\n",
       "       'F U E L E D F R I D A Y\\nLooking for a fun, colorful and healthy recipe to kick off the new year? Well, check out this delicious and beautiful dish!\\n・・・\\nEggs baked in Veggie Nests. Head over to our insta for the recipe. 🤤\\n\\n#fueledfriday #foodfriday #runinrabbit #borntorunfree https://t.co/2Fwez5uYb2',\n",
       "       'Kummer reminds you to stay hydrated #foodfriday https://t.co/rkZmatd97f',\n",
       "       'Commercial #Kitchens need attention at a great price! 🦏 Rhino Shine has a solid plan unlike #JasonGarrett future 🤷🏻\\u200d♂️. #Dallas #winning #coupons #restaurant #hood #cleaning #foodfriday #trucks https://t.co/U0V5BO33uo',\n",
       "       \"Mary's Meals is changing lives in Zimbabwe https://t.co/bioEZAt47N #feelgoodfriday #FoodFriday\",\n",
       "       'Will meat alternatives continue gaining popularity in 2020? https://t.co/wzvi1XOBmj via @YourMorning ht  @LetsTalkScience 🥬🍔🤑 #food #health #diet #nutrition #meatless #plantbased #Vegan #vegetarian #HealthyLiving #HealthyEating #BusinessGrowth #business #FoodFriday',\n",
       "       'These are our top five healthy recipes that you can throw together in the morning and enjoy in the evening (as well as take leftovers for lunch the next day).\\n#FoodFriday #EatHealthy #NewYearNewYou #PersonalTraining #FitnessTogether                       https://t.co/TiKGdeqr1p',\n",
       "       \"Burned out on cooking after the holidays? Here's a selection of quick and easy meals to get you inspired #FoodFriday\\nhttps://t.co/uLYOPeQHQc https://t.co/nyWopWqh79\",\n",
       "       'Will you eat lettuce that is not grown in soil? Large scale #Hydroponics can produce hyper local food in a small space, even shipping containers or in your own home. https://t.co/Ogy8UgHMUt #FoodFriday',\n",
       "       '#FoodFriday: Is it possible to treat things like anxiety and depression with food? https://t.co/93Ez7VwziK\\n#KinderInTheKeys #MentalHealth #Anxiety #PTSD #Depression #Trauma #Recovery #Healing #Treatment #Food #Wellness',\n",
       "       \"Foodies, this particular country is one of our FAV when it comes to FOOD!! 🥘🍲🥗🍜\\n\\nLet's see if you can guess it!! 🤓\\n\\n#FoodFriday #GuessGame #Guess #Fun #FridayThoughts #foodie https://t.co/gK3x3uMArb\",\n",
       "       'Today is usually #FoodFriday on this timeline.\\n\\nI tweet about food. \\n\\nIf you can postpone your instant gratification from bad foods, you can postpone bad habits in your life.\\n\\nHow you approach food is evidently how you approach your other aspects of life.\\n\\n#FoodFriday',\n",
       "       \"#FoodFriday\\n\\nWhat are you cookin' up today or this weekend? What's your favorite recipe? Looking for some new ideas! https://t.co/3VRQTRCxd3\",\n",
       "       'This weeks #FoodFriday is from @WoodsideBay 🍕\\n\\nWould you be interested in a #Chef position with us?\\nThen why not visit the Darwin Escapes website, locate the Careers tab and search for our Chef vacancies 😀\\n\\n#Jobs https://t.co/FWNknvURhn',\n",
       "       'Ring in the New Year with healthy eating. Checkout #ClickNCook #healthrecipe Fruity Homemade Oatmeal. https://t.co/7XR3tw6XsH\\n#FoodFriday',\n",
       "       \"'The old fool forgot the lessons of Blodeuwedd and Frankenstein: never create anything smarter, or more ruthless, than yourself.'\\n.\\n#FoodFriday featuring cheesecake (that I'd been craving since Tuesday but been too lazy to…\\n\\n📸 https://t.co/U6yxC4h3sz via https://t.co/Z51VYxAyBJ https://t.co/8f5Lqkp8hm\",\n",
       "       'African star Apple (Udara).\\nRich source of vita.C is one of the wonderful fruits offered by nature with important health benefits.\\nRanging from tackling toothache, mouth gum disease, soar throat, helps in weight loss and good for expecting mothers \\n\\n#FoodFriday\\n#CoalCityConnect https://t.co/ODyfnS8VVm',\n",
       "       '#FOODFRIDAY 🇮🇹🍫\\nIf you love chocolate, then board the first flight to California. The Nutella Pop Up Hotel is about to open. Discover more in this video. Do you know? Nutella is an Italian product...of course!\\n#italy #food #nutella #language #school… https://t.co/bgG5haT6mQ https://t.co/gw0JhCqZHE',\n",
       "       '#foodfriday @baghdadcafeCT hey offer a variety of delicious foods, from pizza to tacos and sticky wings! For your convenience they also avail on @ubereats_za https://t.co/P8sdNvfMcg',\n",
       "       'This Mangalorean special chicken curry can be paired best with neer dosa or steamed rice. What’s your pick?\\nRecipe Link: https://t.co/iyYCpcuoeA\\n#FoodFriday https://t.co/Bke1o79Zio'],\n",
       "      dtype=object)"
      ]
     },
     "execution_count": 36,
     "metadata": {},
     "output_type": "execute_result"
    }
   ],
   "source": [
    "df['text'].tail(20).values"
   ]
  },
  {
   "cell_type": "code",
   "execution_count": 37,
   "id": "78f6b234",
   "metadata": {
    "execution": {
     "iopub.execute_input": "2023-02-16T12:42:29.857660Z",
     "iopub.status.busy": "2023-02-16T12:42:29.857231Z",
     "iopub.status.idle": "2023-02-16T12:42:29.865003Z",
     "shell.execute_reply": "2023-02-16T12:42:29.864159Z"
    },
    "papermill": {
     "duration": 0.030653,
     "end_time": "2023-02-16T12:42:29.867295",
     "exception": false,
     "start_time": "2023-02-16T12:42:29.836642",
     "status": "completed"
    },
    "tags": []
   },
   "outputs": [
    {
     "data": {
      "text/plain": [
       "array(['#FoodFriday means tasty snacks throughout the day!\\n\\n : @flexible_nati\\n#haveaplant https://t.co/pNSAHV2hDh face savoring food blue heart spoon chocolate bar camera',\n",
       "       'F U E L E D F R I D A Y\\nLooking for a fun, colorful and healthy recipe to kick off the new year? Well, check out this delicious and beautiful dish!\\n・・・\\nEggs baked in Veggie Nests. Head over to our insta for the recipe. \\n\\n#fueledfriday #foodfriday #runinrabbit #borntorunfree https://t.co/2Fwez5uYb2 drooling face',\n",
       "       'Kummer reminds you to stay hydrated #foodfriday https://t.co/rkZmatd97f',\n",
       "       'Commercial #Kitchens need attention at a great price!  Rhino Shine has a solid plan unlike #JasonGarrett future . #Dallas #winning #coupons #restaurant #hood #cleaning #foodfriday #trucks https://t.co/U0V5BO33uo rhinoceros man shrugging light skin tone',\n",
       "       \"Mary's Meals is changing lives in Zimbabwe https://t.co/bioEZAt47N #feelgoodfriday #FoodFriday\",\n",
       "       'Will meat alternatives continue gaining popularity in 2020? https://t.co/wzvi1XOBmj via @YourMorning ht  @LetsTalkScience  #food #health #diet #nutrition #meatless #plantbased #Vegan #vegetarian #HealthyLiving #HealthyEating #BusinessGrowth #business #FoodFriday leafy green hamburger money-mouth face',\n",
       "       'These are our top five healthy recipes that you can throw together in the morning and enjoy in the evening (as well as take leftovers for lunch the next day).\\n#FoodFriday #EatHealthy #NewYearNewYou #PersonalTraining #FitnessTogether                       https://t.co/TiKGdeqr1p',\n",
       "       \"Burned out on cooking after the holidays? Here's a selection of quick and easy meals to get you inspired #FoodFriday\\nhttps://t.co/uLYOPeQHQc https://t.co/nyWopWqh79\",\n",
       "       'Will you eat lettuce that is not grown in soil? Large scale #Hydroponics can produce hyper local food in a small space, even shipping containers or in your own home. https://t.co/Ogy8UgHMUt #FoodFriday',\n",
       "       '#FoodFriday: Is it possible to treat things like anxiety and depression with food? https://t.co/93Ez7VwziK\\n#KinderInTheKeys #MentalHealth #Anxiety #PTSD #Depression #Trauma #Recovery #Healing #Treatment #Food #Wellness',\n",
       "       \"Foodies, this particular country is one of our FAV when it comes to FOOD!! \\n\\nLet's see if you can guess it!! \\n\\n#FoodFriday #GuessGame #Guess #Fun #FridayThoughts #foodie https://t.co/gK3x3uMArb shallow pan of food pot of food green salad steaming bowl nerd face\",\n",
       "       'Today is usually #FoodFriday on this timeline.\\n\\nI tweet about food. \\n\\nIf you can postpone your instant gratification from bad foods, you can postpone bad habits in your life.\\n\\nHow you approach food is evidently how you approach your other aspects of life.\\n\\n#FoodFriday',\n",
       "       \"#FoodFriday\\n\\nWhat are you cookin' up today or this weekend? What's your favorite recipe? Looking for some new ideas! https://t.co/3VRQTRCxd3\",\n",
       "       'This weeks #FoodFriday is from @WoodsideBay \\n\\nWould you be interested in a #Chef position with us?\\nThen why not visit the Darwin Escapes website, locate the Careers tab and search for our Chef vacancies \\n\\n#Jobs https://t.co/FWNknvURhn pizza grinning face',\n",
       "       'Ring in the New Year with healthy eating. Checkout #ClickNCook #healthrecipe Fruity Homemade Oatmeal. https://t.co/7XR3tw6XsH\\n#FoodFriday',\n",
       "       \"'The old fool forgot the lessons of Blodeuwedd and Frankenstein: never create anything smarter, or more ruthless, than yourself.'\\n.\\n#FoodFriday featuring cheesecake (that I'd been craving since Tuesday but been too lazy to…\\n\\n https://t.co/U6yxC4h3sz via https://t.co/Z51VYxAyBJ https://t.co/8f5Lqkp8hm camera with flash\",\n",
       "       'African star Apple (Udara).\\nRich source of vita.C is one of the wonderful fruits offered by nature with important health benefits.\\nRanging from tackling toothache, mouth gum disease, soar throat, helps in weight loss and good for expecting mothers \\n\\n#FoodFriday\\n#CoalCityConnect https://t.co/ODyfnS8VVm',\n",
       "       '#FOODFRIDAY \\nIf you love chocolate, then board the first flight to California. The Nutella Pop Up Hotel is about to open. Discover more in this video. Do you know? Nutella is an Italian product...of course!\\n#italy #food #nutella #language #school… https://t.co/bgG5haT6mQ https://t.co/gw0JhCqZHE Italy chocolate bar',\n",
       "       '#foodfriday @baghdadcafeCT hey offer a variety of delicious foods, from pizza to tacos and sticky wings! For your convenience they also avail on @ubereats_za https://t.co/P8sdNvfMcg',\n",
       "       'This Mangalorean special chicken curry can be paired best with neer dosa or steamed rice. What’s your pick?\\nRecipe Link: https://t.co/iyYCpcuoeA\\n#FoodFriday https://t.co/Bke1o79Zio'],\n",
       "      dtype=object)"
      ]
     },
     "execution_count": 37,
     "metadata": {},
     "output_type": "execute_result"
    }
   ],
   "source": [
    "df['text_clean'].tail(20).values"
   ]
  },
  {
   "cell_type": "code",
   "execution_count": 38,
   "id": "131e160e",
   "metadata": {
    "execution": {
     "iopub.execute_input": "2023-02-16T12:42:29.920455Z",
     "iopub.status.busy": "2023-02-16T12:42:29.919949Z",
     "iopub.status.idle": "2023-02-16T12:42:29.929211Z",
     "shell.execute_reply": "2023-02-16T12:42:29.927973Z"
    },
    "papermill": {
     "duration": 0.038637,
     "end_time": "2023-02-16T12:42:29.931882",
     "exception": false,
     "start_time": "2023-02-16T12:42:29.893245",
     "status": "completed"
    },
    "tags": []
   },
   "outputs": [
    {
     "data": {
      "text/plain": [
       "array(['foodfriday means tasty snacks throughout the day haveaplant face savoring food blue heart spoon chocolate bar camera',\n",
       "       'f u e l e d f r i d a y looking for a fun colorful and healthy recipe to kick off the new year well check out this delicious and beautiful dish eggs baked in veggie nests head over to our insta for the recipe fueledfriday foodfriday runinrabbit borntorunfree drooling face',\n",
       "       'kummer reminds you to stay hydrated foodfriday',\n",
       "       'commercial kitchens need attention at a great price rhino shine has a solid plan unlike jasongarrett future dallas winning coupons restaurant hood cleaning foodfriday trucks rhinoceros man shrugging light skin tone',\n",
       "       'marys meals is changing lives in zimbabwe feelgoodfriday foodfriday',\n",
       "       'will meat alternatives continue gaining popularity in 2020 via ht food health diet nutrition meatless plantbased vegan vegetarian healthyliving healthyeating businessgrowth business foodfriday leafy green hamburger moneymouth face',\n",
       "       'these are our top five healthy recipes that you can throw together in the morning and enjoy in the evening as well as take leftovers for lunch the next day foodfriday eathealthy newyearnewyou personaltraining fitnesstogether',\n",
       "       'burned out on cooking after the holidays heres a selection of quick and easy meals to get you inspired foodfriday',\n",
       "       'will you eat lettuce that is not grown in soil large scale hydroponics can produce hyper local food in a small space even shipping containers or in your own home foodfriday',\n",
       "       'foodfriday is it possible to treat things like anxiety and depression with food kinderinthekeys mentalhealth anxiety ptsd depression trauma recovery healing treatment food wellness',\n",
       "       'foodies this particular country is one of our fav when it comes to food lets see if you can guess it foodfriday guessgame guess fun fridaythoughts foodie shallow pan of food pot of food green salad steaming bowl nerd face',\n",
       "       'today is usually foodfriday on this timeline i tweet about food if you can postpone your instant gratification from bad foods you can postpone bad habits in your life how you approach food is evidently how you approach your other aspects of life foodfriday',\n",
       "       'foodfriday what are you cookin up today or this weekend whats your favorite recipe looking for some new ideas',\n",
       "       'this weeks foodfriday is from would you be interested in a chef position with us then why not visit the darwin escapes website locate the careers tab and search for our chef vacancies jobs pizza grinning face',\n",
       "       'ring in the new year with healthy eating checkout clickncook healthrecipe fruity homemade oatmeal foodfriday',\n",
       "       'the old fool forgot the lessons of blodeuwedd and frankenstein never create anything smarter or more ruthless than yourself foodfriday featuring cheesecake that id been craving since tuesday but been too lazy to via camera with flash',\n",
       "       'african star apple udara rich source of vitac is one of the wonderful fruits offered by nature with important health benefits ranging from tackling toothache mouth gum disease soar throat helps in weight loss and good for expecting mothers foodfriday coalcityconnect',\n",
       "       'foodfriday if you love chocolate then board the first flight to california the nutella pop up hotel is about to open discover more in this video do you know nutella is an italian productof course italy food nutella language school italy chocolate bar',\n",
       "       'foodfriday hey offer a variety of delicious foods from pizza to tacos and sticky wings for your convenience they also avail on',\n",
       "       'this mangalorean special chicken curry can be paired best with neer dosa or steamed rice whats your pick recipe link foodfriday'],\n",
       "      dtype=object)"
      ]
     },
     "execution_count": 38,
     "metadata": {},
     "output_type": "execute_result"
    }
   ],
   "source": [
    "df['text_clean_deeper'].tail(20).values"
   ]
  },
  {
   "cell_type": "code",
   "execution_count": 39,
   "id": "e540cb2c",
   "metadata": {
    "execution": {
     "iopub.execute_input": "2023-02-16T12:42:29.974024Z",
     "iopub.status.busy": "2023-02-16T12:42:29.973512Z",
     "iopub.status.idle": "2023-02-16T12:42:30.381231Z",
     "shell.execute_reply": "2023-02-16T12:42:30.379623Z"
    },
    "papermill": {
     "duration": 0.432242,
     "end_time": "2023-02-16T12:42:30.384255",
     "exception": false,
     "start_time": "2023-02-16T12:42:29.952013",
     "status": "completed"
    },
    "tags": []
   },
   "outputs": [],
   "source": [
    "text_len = []\n",
    "\n",
    "for text in df.text_clean_deeper:\n",
    "    tweet_len = len(text.split())\n",
    "    \n",
    "    text_len.append(tweet_len)"
   ]
  },
  {
   "cell_type": "code",
   "execution_count": 40,
   "id": "642b99dd",
   "metadata": {
    "execution": {
     "iopub.execute_input": "2023-02-16T12:42:30.424921Z",
     "iopub.status.busy": "2023-02-16T12:42:30.424524Z",
     "iopub.status.idle": "2023-02-16T12:42:30.501403Z",
     "shell.execute_reply": "2023-02-16T12:42:30.500183Z"
    },
    "papermill": {
     "duration": 0.100629,
     "end_time": "2023-02-16T12:42:30.504498",
     "exception": false,
     "start_time": "2023-02-16T12:42:30.403869",
     "status": "completed"
    },
    "tags": []
   },
   "outputs": [],
   "source": [
    "df['text_len'] = text_len"
   ]
  },
  {
   "cell_type": "code",
   "execution_count": 41,
   "id": "13abba3c",
   "metadata": {
    "execution": {
     "iopub.execute_input": "2023-02-16T12:42:30.546603Z",
     "iopub.status.busy": "2023-02-16T12:42:30.545482Z",
     "iopub.status.idle": "2023-02-16T12:42:30.575591Z",
     "shell.execute_reply": "2023-02-16T12:42:30.574407Z"
    },
    "papermill": {
     "duration": 0.054503,
     "end_time": "2023-02-16T12:42:30.578040",
     "exception": false,
     "start_time": "2023-02-16T12:42:30.523537",
     "status": "completed"
    },
    "tags": []
   },
   "outputs": [
    {
     "data": {
      "text/html": [
       "<div>\n",
       "<style scoped>\n",
       "    .dataframe tbody tr th:only-of-type {\n",
       "        vertical-align: middle;\n",
       "    }\n",
       "\n",
       "    .dataframe tbody tr th {\n",
       "        vertical-align: top;\n",
       "    }\n",
       "\n",
       "    .dataframe thead th {\n",
       "        text-align: right;\n",
       "    }\n",
       "</style>\n",
       "<table border=\"1\" class=\"dataframe\">\n",
       "  <thead>\n",
       "    <tr style=\"text-align: right;\">\n",
       "      <th></th>\n",
       "      <th>tweet_created_at</th>\n",
       "      <th>text</th>\n",
       "      <th>Sentiment</th>\n",
       "      <th>text_clean</th>\n",
       "      <th>text_clean_deeper</th>\n",
       "      <th>text_len</th>\n",
       "    </tr>\n",
       "  </thead>\n",
       "  <tbody>\n",
       "    <tr>\n",
       "      <th>0</th>\n",
       "      <td>2022-12-30 22:37:46+00:00</td>\n",
       "      <td>Men who have refused to listen to/attend @amer...</td>\n",
       "      <td>Negative</td>\n",
       "      <td>Men who have refused to listen to/attend @amer...</td>\n",
       "      <td>men who have refused to listen toattend classe...</td>\n",
       "      <td>36</td>\n",
       "    </tr>\n",
       "    <tr>\n",
       "      <th>1</th>\n",
       "      <td>2022-12-30 22:30:58+00:00</td>\n",
       "      <td>@OvOBrezzzy Take amerix next</td>\n",
       "      <td>Neutral</td>\n",
       "      <td>@OvOBrezzzy Take amerix next</td>\n",
       "      <td>take amerix next</td>\n",
       "      <td>3</td>\n",
       "    </tr>\n",
       "    <tr>\n",
       "      <th>2</th>\n",
       "      <td>2022-12-30 22:18:00+00:00</td>\n",
       "      <td>@AyodeleYo11 @amerix Nah I’m good my masculini...</td>\n",
       "      <td>Positive</td>\n",
       "      <td>@AyodeleYo11 @amerix Nah I’m good my masculini...</td>\n",
       "      <td>nah im good my masculinity health and wellness...</td>\n",
       "      <td>12</td>\n",
       "    </tr>\n",
       "    <tr>\n",
       "      <th>3</th>\n",
       "      <td>2022-12-30 20:42:54+00:00</td>\n",
       "      <td>@Amerix_DontSimp There is no need for dating i...</td>\n",
       "      <td>Negative</td>\n",
       "      <td>@Amerix_DontSimp There is no need for dating i...</td>\n",
       "      <td>there is no need for dating in the first place</td>\n",
       "      <td>10</td>\n",
       "    </tr>\n",
       "    <tr>\n",
       "      <th>4</th>\n",
       "      <td>2022-12-30 20:32:23+00:00</td>\n",
       "      <td>@DyeAnna7 @amerix @kibe From what cos nothing ...</td>\n",
       "      <td>Positive</td>\n",
       "      <td>@DyeAnna7 @amerix @kibe From what cos nothing ...</td>\n",
       "      <td>from what cos nothing is changing and if we go...</td>\n",
       "      <td>45</td>\n",
       "    </tr>\n",
       "  </tbody>\n",
       "</table>\n",
       "</div>"
      ],
      "text/plain": [
       "           tweet_created_at  \\\n",
       "0 2022-12-30 22:37:46+00:00   \n",
       "1 2022-12-30 22:30:58+00:00   \n",
       "2 2022-12-30 22:18:00+00:00   \n",
       "3 2022-12-30 20:42:54+00:00   \n",
       "4 2022-12-30 20:32:23+00:00   \n",
       "\n",
       "                                                text Sentiment  \\\n",
       "0  Men who have refused to listen to/attend @amer...  Negative   \n",
       "1                       @OvOBrezzzy Take amerix next   Neutral   \n",
       "2  @AyodeleYo11 @amerix Nah I’m good my masculini...  Positive   \n",
       "3  @Amerix_DontSimp There is no need for dating i...  Negative   \n",
       "4  @DyeAnna7 @amerix @kibe From what cos nothing ...  Positive   \n",
       "\n",
       "                                          text_clean  \\\n",
       "0  Men who have refused to listen to/attend @amer...   \n",
       "1                       @OvOBrezzzy Take amerix next   \n",
       "2  @AyodeleYo11 @amerix Nah I’m good my masculini...   \n",
       "3  @Amerix_DontSimp There is no need for dating i...   \n",
       "4  @DyeAnna7 @amerix @kibe From what cos nothing ...   \n",
       "\n",
       "                                   text_clean_deeper  text_len  \n",
       "0  men who have refused to listen toattend classe...        36  \n",
       "1                                   take amerix next         3  \n",
       "2  nah im good my masculinity health and wellness...        12  \n",
       "3     there is no need for dating in the first place        10  \n",
       "4  from what cos nothing is changing and if we go...        45  "
      ]
     },
     "execution_count": 41,
     "metadata": {},
     "output_type": "execute_result"
    }
   ],
   "source": [
    "df.head(5)"
   ]
  },
  {
   "cell_type": "code",
   "execution_count": 42,
   "id": "f699e0ed",
   "metadata": {
    "execution": {
     "iopub.execute_input": "2023-02-16T12:42:30.620726Z",
     "iopub.status.busy": "2023-02-16T12:42:30.619597Z",
     "iopub.status.idle": "2023-02-16T12:42:30.691963Z",
     "shell.execute_reply": "2023-02-16T12:42:30.691089Z"
    },
    "papermill": {
     "duration": 0.096235,
     "end_time": "2023-02-16T12:42:30.694484",
     "exception": false,
     "start_time": "2023-02-16T12:42:30.598249",
     "status": "completed"
    },
    "tags": []
   },
   "outputs": [],
   "source": [
    "df = df[['tweet_created_at', 'text', 'text_clean_deeper', 'Sentiment', 'text_len']]"
   ]
  },
  {
   "cell_type": "code",
   "execution_count": 43,
   "id": "9acea058",
   "metadata": {
    "execution": {
     "iopub.execute_input": "2023-02-16T12:42:30.737135Z",
     "iopub.status.busy": "2023-02-16T12:42:30.736014Z",
     "iopub.status.idle": "2023-02-16T12:42:30.749405Z",
     "shell.execute_reply": "2023-02-16T12:42:30.748243Z"
    },
    "papermill": {
     "duration": 0.037079,
     "end_time": "2023-02-16T12:42:30.751726",
     "exception": false,
     "start_time": "2023-02-16T12:42:30.714647",
     "status": "completed"
    },
    "tags": []
   },
   "outputs": [
    {
     "data": {
      "text/html": [
       "<div>\n",
       "<style scoped>\n",
       "    .dataframe tbody tr th:only-of-type {\n",
       "        vertical-align: middle;\n",
       "    }\n",
       "\n",
       "    .dataframe tbody tr th {\n",
       "        vertical-align: top;\n",
       "    }\n",
       "\n",
       "    .dataframe thead th {\n",
       "        text-align: right;\n",
       "    }\n",
       "</style>\n",
       "<table border=\"1\" class=\"dataframe\">\n",
       "  <thead>\n",
       "    <tr style=\"text-align: right;\">\n",
       "      <th></th>\n",
       "      <th>tweet_created_at</th>\n",
       "      <th>text</th>\n",
       "      <th>text_clean_deeper</th>\n",
       "      <th>Sentiment</th>\n",
       "      <th>text_len</th>\n",
       "    </tr>\n",
       "  </thead>\n",
       "  <tbody>\n",
       "    <tr>\n",
       "      <th>0</th>\n",
       "      <td>2022-12-30 22:37:46+00:00</td>\n",
       "      <td>Men who have refused to listen to/attend @amer...</td>\n",
       "      <td>men who have refused to listen toattend classe...</td>\n",
       "      <td>Negative</td>\n",
       "      <td>36</td>\n",
       "    </tr>\n",
       "    <tr>\n",
       "      <th>1</th>\n",
       "      <td>2022-12-30 22:30:58+00:00</td>\n",
       "      <td>@OvOBrezzzy Take amerix next</td>\n",
       "      <td>take amerix next</td>\n",
       "      <td>Neutral</td>\n",
       "      <td>3</td>\n",
       "    </tr>\n",
       "    <tr>\n",
       "      <th>2</th>\n",
       "      <td>2022-12-30 22:18:00+00:00</td>\n",
       "      <td>@AyodeleYo11 @amerix Nah I’m good my masculini...</td>\n",
       "      <td>nah im good my masculinity health and wellness...</td>\n",
       "      <td>Positive</td>\n",
       "      <td>12</td>\n",
       "    </tr>\n",
       "    <tr>\n",
       "      <th>3</th>\n",
       "      <td>2022-12-30 20:42:54+00:00</td>\n",
       "      <td>@Amerix_DontSimp There is no need for dating i...</td>\n",
       "      <td>there is no need for dating in the first place</td>\n",
       "      <td>Negative</td>\n",
       "      <td>10</td>\n",
       "    </tr>\n",
       "    <tr>\n",
       "      <th>4</th>\n",
       "      <td>2022-12-30 20:32:23+00:00</td>\n",
       "      <td>@DyeAnna7 @amerix @kibe From what cos nothing ...</td>\n",
       "      <td>from what cos nothing is changing and if we go...</td>\n",
       "      <td>Positive</td>\n",
       "      <td>45</td>\n",
       "    </tr>\n",
       "  </tbody>\n",
       "</table>\n",
       "</div>"
      ],
      "text/plain": [
       "           tweet_created_at  \\\n",
       "0 2022-12-30 22:37:46+00:00   \n",
       "1 2022-12-30 22:30:58+00:00   \n",
       "2 2022-12-30 22:18:00+00:00   \n",
       "3 2022-12-30 20:42:54+00:00   \n",
       "4 2022-12-30 20:32:23+00:00   \n",
       "\n",
       "                                                text  \\\n",
       "0  Men who have refused to listen to/attend @amer...   \n",
       "1                       @OvOBrezzzy Take amerix next   \n",
       "2  @AyodeleYo11 @amerix Nah I’m good my masculini...   \n",
       "3  @Amerix_DontSimp There is no need for dating i...   \n",
       "4  @DyeAnna7 @amerix @kibe From what cos nothing ...   \n",
       "\n",
       "                                   text_clean_deeper Sentiment  text_len  \n",
       "0  men who have refused to listen toattend classe...  Negative        36  \n",
       "1                                   take amerix next   Neutral         3  \n",
       "2  nah im good my masculinity health and wellness...  Positive        12  \n",
       "3     there is no need for dating in the first place  Negative        10  \n",
       "4  from what cos nothing is changing and if we go...  Positive        45  "
      ]
     },
     "execution_count": 43,
     "metadata": {},
     "output_type": "execute_result"
    }
   ],
   "source": [
    "df.head(5)"
   ]
  },
  {
   "cell_type": "code",
   "execution_count": 44,
   "id": "6468e468",
   "metadata": {
    "execution": {
     "iopub.execute_input": "2023-02-16T12:42:30.794069Z",
     "iopub.status.busy": "2023-02-16T12:42:30.793012Z",
     "iopub.status.idle": "2023-02-16T12:42:31.116881Z",
     "shell.execute_reply": "2023-02-16T12:42:31.115849Z"
    },
    "papermill": {
     "duration": 0.347754,
     "end_time": "2023-02-16T12:42:31.119854",
     "exception": false,
     "start_time": "2023-02-16T12:42:30.772100",
     "status": "completed"
    },
    "tags": []
   },
   "outputs": [
    {
     "data": {
      "image/png": "[encoded data removed]",
      "text/plain": [
       "<Figure size 700x500 with 1 Axes>"
      ]
     },
     "metadata": {},
     "output_type": "display_data"
    }
   ],
   "source": [
    "plt.figure(figsize=(7,5))\n",
    "\n",
    "ax = sns.countplot(x='text_len', data=df[df['text_len']<10], palette='Greens')\n",
    "\n",
    "plt.title('Tweets with less than 10 words')\n",
    "plt.yticks([])\n",
    "ax.bar_label(ax.containers[0])\n",
    "\n",
    "plt.ylabel('count')\n",
    "plt.xlabel('')\n",
    "plt.show()"
   ]
  },
  {
   "cell_type": "code",
   "execution_count": 45,
   "id": "74cde1de",
   "metadata": {
    "execution": {
     "iopub.execute_input": "2023-02-16T12:42:31.162163Z",
     "iopub.status.busy": "2023-02-16T12:42:31.161387Z",
     "iopub.status.idle": "2023-02-16T12:42:31.167761Z",
     "shell.execute_reply": "2023-02-16T12:42:31.166421Z"
    },
    "papermill": {
     "duration": 0.030317,
     "end_time": "2023-02-16T12:42:31.170212",
     "exception": false,
     "start_time": "2023-02-16T12:42:31.139895",
     "status": "completed"
    },
    "tags": []
   },
   "outputs": [
    {
     "data": {
      "text/plain": [
       "(236023, 5)"
      ]
     },
     "execution_count": 45,
     "metadata": {},
     "output_type": "execute_result"
    }
   ],
   "source": [
    "df.shape"
   ]
  },
  {
   "cell_type": "code",
   "execution_count": 46,
   "id": "c55715a2",
   "metadata": {
    "execution": {
     "iopub.execute_input": "2023-02-16T12:42:31.213777Z",
     "iopub.status.busy": "2023-02-16T12:42:31.213048Z",
     "iopub.status.idle": "2023-02-16T12:42:31.219364Z",
     "shell.execute_reply": "2023-02-16T12:42:31.218613Z"
    },
    "papermill": {
     "duration": 0.031031,
     "end_time": "2023-02-16T12:42:31.221559",
     "exception": false,
     "start_time": "2023-02-16T12:42:31.190528",
     "status": "completed"
    },
    "tags": []
   },
   "outputs": [
    {
     "data": {
      "text/plain": [
       "Index(['tweet_created_at', 'text', 'text_clean_deeper', 'Sentiment',\n",
       "       'text_len'],\n",
       "      dtype='object')"
      ]
     },
     "execution_count": 46,
     "metadata": {},
     "output_type": "execute_result"
    }
   ],
   "source": [
    "df.columns"
   ]
  },
  {
   "cell_type": "code",
   "execution_count": 47,
   "id": "d426ac85",
   "metadata": {
    "execution": {
     "iopub.execute_input": "2023-02-16T12:42:31.264332Z",
     "iopub.status.busy": "2023-02-16T12:42:31.263610Z",
     "iopub.status.idle": "2023-02-16T12:42:31.292995Z",
     "shell.execute_reply": "2023-02-16T12:42:31.291712Z"
    },
    "papermill": {
     "duration": 0.053914,
     "end_time": "2023-02-16T12:42:31.295703",
     "exception": false,
     "start_time": "2023-02-16T12:42:31.241789",
     "status": "completed"
    },
    "tags": []
   },
   "outputs": [],
   "source": [
    "df = df[df['text_len'] > 1]"
   ]
  },
  {
   "cell_type": "code",
   "execution_count": 48,
   "id": "2045c3b3",
   "metadata": {
    "execution": {
     "iopub.execute_input": "2023-02-16T12:42:31.337844Z",
     "iopub.status.busy": "2023-02-16T12:42:31.337400Z",
     "iopub.status.idle": "2023-02-16T12:42:31.344406Z",
     "shell.execute_reply": "2023-02-16T12:42:31.343210Z"
    },
    "papermill": {
     "duration": 0.031138,
     "end_time": "2023-02-16T12:42:31.346920",
     "exception": false,
     "start_time": "2023-02-16T12:42:31.315782",
     "status": "completed"
    },
    "tags": []
   },
   "outputs": [
    {
     "data": {
      "text/plain": [
       "(233699, 5)"
      ]
     },
     "execution_count": 48,
     "metadata": {},
     "output_type": "execute_result"
    }
   ],
   "source": [
    "df.shape"
   ]
  },
  {
   "cell_type": "code",
   "execution_count": 49,
   "id": "38cb47fa",
   "metadata": {
    "execution": {
     "iopub.execute_input": "2023-02-16T12:42:31.389487Z",
     "iopub.status.busy": "2023-02-16T12:42:31.389021Z",
     "iopub.status.idle": "2023-02-16T12:42:31.618101Z",
     "shell.execute_reply": "2023-02-16T12:42:31.616467Z"
    },
    "papermill": {
     "duration": 0.255002,
     "end_time": "2023-02-16T12:42:31.622544",
     "exception": false,
     "start_time": "2023-02-16T12:42:31.367542",
     "status": "completed"
    },
    "tags": []
   },
   "outputs": [
    {
     "data": {
      "image/png": "[encoded data removed]",
      "text/plain": [
       "<Figure size 700x500 with 1 Axes>"
      ]
     },
     "metadata": {},
     "output_type": "display_data"
    }
   ],
   "source": [
    "plt.figure(figsize=(7,5))\n",
    "\n",
    "ax = sns.countplot(x='text_len', data=df[df['text_len']<10], palette='Blues')\n",
    "\n",
    "plt.title('Tweets with less than 10 words')\n",
    "plt.yticks([])\n",
    "ax.bar_label(ax.containers[0])\n",
    "\n",
    "plt.ylabel('count')\n",
    "plt.xlabel('')\n",
    "plt.show()"
   ]
  },
  {
   "cell_type": "code",
   "execution_count": 50,
   "id": "77f87cea",
   "metadata": {
    "execution": {
     "iopub.execute_input": "2023-02-16T12:42:31.672330Z",
     "iopub.status.busy": "2023-02-16T12:42:31.671638Z",
     "iopub.status.idle": "2023-02-16T12:43:14.226955Z",
     "shell.execute_reply": "2023-02-16T12:43:14.225585Z"
    },
    "papermill": {
     "duration": 42.58082,
     "end_time": "2023-02-16T12:43:14.229765",
     "exception": false,
     "start_time": "2023-02-16T12:42:31.648945",
     "status": "completed"
    },
    "tags": []
   },
   "outputs": [],
   "source": [
    "token_lens = []\n",
    "\n",
    "for txt in df['text_clean_deeper'].values:\n",
    "    tokens = tokenizer_4.encode(txt, max_length=512, truncation=True)\n",
    "    token_lens.append(len(tokens))\n",
    "    \n",
    "max_len=np.max(token_lens)"
   ]
  },
  {
   "cell_type": "code",
   "execution_count": 51,
   "id": "85f90ac5",
   "metadata": {
    "execution": {
     "iopub.execute_input": "2023-02-16T12:43:14.273657Z",
     "iopub.status.busy": "2023-02-16T12:43:14.273234Z",
     "iopub.status.idle": "2023-02-16T12:43:14.280367Z",
     "shell.execute_reply": "2023-02-16T12:43:14.278384Z"
    },
    "papermill": {
     "duration": 0.033099,
     "end_time": "2023-02-16T12:43:14.283884",
     "exception": false,
     "start_time": "2023-02-16T12:43:14.250785",
     "status": "completed"
    },
    "tags": []
   },
   "outputs": [
    {
     "name": "stdout",
     "output_type": "stream",
     "text": [
      "Longest tokenized sentence: 483\n"
     ]
    }
   ],
   "source": [
    "print(f\"Longest tokenized sentence: {max_len}\")"
   ]
  },
  {
   "cell_type": "code",
   "execution_count": 52,
   "id": "5a459455",
   "metadata": {
    "execution": {
     "iopub.execute_input": "2023-02-16T12:43:14.329574Z",
     "iopub.status.busy": "2023-02-16T12:43:14.328826Z",
     "iopub.status.idle": "2023-02-16T12:43:57.105027Z",
     "shell.execute_reply": "2023-02-16T12:43:57.103906Z"
    },
    "papermill": {
     "duration": 42.801735,
     "end_time": "2023-02-16T12:43:57.108012",
     "exception": false,
     "start_time": "2023-02-16T12:43:14.306277",
     "status": "completed"
    },
    "tags": []
   },
   "outputs": [
    {
     "name": "stdout",
     "output_type": "stream",
     "text": [
      "INDEX: 3079, TEXT: stream ndi ndi by vicmass luodollar available on spotify youtube boomplay apple music audiomack mdundo deezer itunes youtube music etc click link below kcpe duale riggy g amerix kipkorir amerix david maraga maasai shoe size dubai chart increasing play or pause button play or pause button play or pause button play or pause button play or pause button play or pause button play or pause button play or pause button play or pause button\n",
      "INDEX: 4737, TEXT: amerixtoday i am going to harvest sweet potatoes from the farm next to my sons school womenheheheeand u are advising men not to be attached 2 their children and here u are mentioning ua son mentake charge of your sons beaming face with smiling eyes grinning squinting face grinning squinting face squinting face with tongue squinting face with tongue starstruck starstruck loudly crying face loudly crying face beaming face with smiling eyes grinning squinting face grinning squinting face speaknoevil monkey face with hand over mouth face with hand over mouth beaming face with smiling eyes beaming face with smiling eyes squinting face with tongue grinning squinting face grinning squinting face face with rolling eyes face with rolling eyes face with rolling eyes face with tears of joy face with tears of joy face with tears of joy\n",
      "INDEX: 5142, TEXT: use your block button if my 5 emojis ruined your day face with tears of joy face with tears of joy face with tears of joy face with tears of joy face with tears of joy face with tears of joy face with tears of joy face with tears of joy face with tears of joy face with tears of joy face with tears of joy face with tears of joy face with tears of joy face with tears of joy face with tears of joy face with tears of joy face with tears of joy face with tears of joy face with tears of joy face with tears of joy face with tears of joy face with tears of joy face with tears of joy face with tears of joy face with tears of joy face with tears of joy face with tears of joy face with tears of joy face with tears of joy face with tears of joy face with tears of joy face with tears of joy face with tears of joy face with tears of joy face with tears of joy face with tears of joy face with tears of joy face with tears of joy face with tears of joy face with tears of joy face with tears of joy face with tears of joy face with tears of joy face with tears of joy face with tears of joy face with tears of joy face with tears of joy face with tears of joy face with tears of joy face with tears of joy face with tears of joy face with tears of joy face with tears of joy face with tears of joy face with tears of joy face with tears of joy face with tears of joy face with tears of joy\n",
      "INDEX: 6498, TEXT: nbr of flags in 5011 usernames who liked 279 31 11 9 7 5 5 4 4 4 4 3 3 3 2 2 2 2 2 2 1 1 1 1 1 1 1 1 1 1 1 1 1 1 1 1 1 1 1 kenya uganda tanzania argentina south africa south sudan ghana france brazil russia jamaica united states united kingdom australia kuwait malawi somalia canada liberia nigeria zambia india kosovo isle of man iceland czechia portugal faroe islands namibia turkey spain israel ethiopia guinea heard mcdonald islands niger rwanda china zimbabwe\n",
      "INDEX: 6652, TEXT: lenovo thinkpad ultraslim t480s touchscreen 8th generation processor intel core i5 speed upto 38ghz turbo boost 8gb hd graphics storage 8gb ram256gb ssd with type c charger price ksh 36000 c 0717040531 duale clout matatus amerix range rover wewe kcpe small blue diamond small blue diamond small blue diamond small blue diamond small blue diamond small blue diamond small blue diamond small blue diamond kenya small blue diamond\n",
      "INDEX: 7233, TEXT: hp elitebook 820 gen 5 processor intel core i5 storage 8gb ram500gb hdd base speed 23ghz size 125inches with windows 10 pro and basic softwares warranty available price ksh 23000 contact 0717040531 nairobians nyeri ruto sakaja amerix kcpe riggy g small blue diamond small blue diamond small blue diamond small blue diamond small blue diamond small blue diamond small blue diamond small blue diamond telephone receiver\n",
      "INDEX: 7235, TEXT: hp elitebook 820 gen 5 processor intel core i5 storage 8gb ram500gb hdd base speed 23ghz size 125inches with windows 10 pro and basic softwares warranty available price ksh 23000 contact 0717040531 nairobians nyeri ruto sakaja amerix kcpe riggy g small blue diamond small blue diamond small blue diamond small blue diamond small blue diamond small blue diamond small blue diamond small blue diamond telephone receiver\n",
      "INDEX: 7239, TEXT: hp probook 430 series 8th generation processor intel core i5 turbo boost speed upto 38ghz storage 8gb ram upgradable256gb ssd super fast has hdmitype cusb ports intel hd graphics price ksh 36500 0717040531 ruto sakaja amerix kcpe riggy g small blue diamond collision small blue diamond check mark button small blue diamond small blue diamond small blue diamond small blue diamond small blue diamond small blue diamond\n",
      "INDEX: 7709, TEXT: yesterday fixed games won successfully as expected labancliffonserio whatafinal chairperson babysagini amerix kenya green heart green heart green heart green heart green heart green heart green heart green heart green heart green heart green heart green heart green heart green heart green heart green heart green heart green heart green heart green heart green heart green heart green heart ok hand thumbs up thumbs up thumbs up thumbs up beaming face with smiling eyes beaming face with smiling eyes beaming face with smiling eyes beaming face with smiling eyes check mark button check mark button check mark button check mark button check mark button green heart green heart green heart green heart green heart green heart green heart green heart green heart green heart green heart green heart green heart green heart green heart green heart green heart green heart green heart green heart green heart green heart green heart\n",
      "INDEX: 8525, TEXT: nbr of flags in 5050 usernames who liked 234 14 13 11 8 7 6 6 5 5 4 3 3 3 3 3 2 2 2 2 2 2 2 2 1 1 1 1 1 1 1 1 1 1 1 1 1 1 kenya uganda argentina united states nigeria russia tanzania south africa zimbabwe canada south sudan jamaica spain somalia united kingdom ghana liberia malawi chad france palestinian territories iran australia brazil rwanda cameroon cuba heard mcdonald islands portugal denmark india guinea niger brunei sudan qatar south korea namibia fiji\n",
      "INDEX: 9700, TEXT: lenovo yoga 12 x360 touchscreen processor intel core i5 storage 8gb ram256gb ssd very fast clock speed 25ghz excellent batt ery life comes with stylus pen priceksh 31000 contact 254717040531 swahili kisumu nairobi drake kplc uhuru amerix baby sagini small blue diamond small blue diamond small blue diamond small blue diamond small blue diamond small blue diamond small blue diamond small blue diamond small blue diamond\n",
      "INDEX: 10585, TEXT: nbr of flags in 5062 usernames who liked 244 16 14 9 8 8 8 6 5 5 4 3 3 3 3 2 2 2 2 2 2 1 1 1 1 1 1 1 1 1 1 1 1 1 1 1 1 1 1 kenya uganda argentina united states nigeria tanzania south africa canada zimbabwe russia south sudan jamaica spain somalia france united kingdom liberia malawi ghana chad palestinian territories isle of man iceland brazil rwanda cameroon iran cuba portugal denmark australia india guinea niger brunei sudan qatar south korea namibia\n",
      "INDEX: 11138, TEXT: nbr of flags in 5066 usernames who liked 250 21 13 9 8 8 8 7 6 5 4 3 3 3 2 2 2 2 2 2 2 1 1 1 1 1 1 1 1 1 1 1 1 1 1 1 1 1 1 kenya uganda argentina united states nigeria tanzania south africa canada zimbabwe russia south sudan jamaica spain somalia rwanda united kingdom liberia malawi ghana chad france isle of man iceland brazil cameroon iran palestinian territories cuba portugal denmark australia india guinea niger brunei sudan qatar south korea namibia\n",
      "INDEX: 12140, TEXT: nbr of flags in 5088 usernames who liked 257 22 14 9 9 8 8 7 7 4 4 3 3 3 2 2 2 2 2 2 2 2 1 1 1 1 1 1 1 1 1 1 1 1 1 1 1 1 1 kenya uganda argentina tanzania south africa nigeria united states zimbabwe canada russia south sudan jamaica spain somalia rwanda united kingdom liberia portugal malawi ghana chad france germany isle of man iceland brazil cameroon iran palestinian territories cuba denmark australia india guinea niger brunei sudan qatar south korea\n",
      "INDEX: 13509, TEXT: man i love a good satire account calling selfish psychotic independence masculine face with tears of joy face with tears of joy face with tears of joy face with tears of joy face with tears of joy face with tears of joy face with tears of joy face with tears of joy face with tears of joy face with tears of joy face with tears of joy face with tears of joy face with tears of joy face with tears of joy face with tears of joy face with tears of joy face with tears of joy face with tears of joy face with tears of joy face with tears of joy face with tears of joy face with tears of joy face with tears of joy face with tears of joy face with tears of joy face with tears of joy face with tears of joy face with tears of joy face with tears of joy face with tears of joy face with tears of joy face with tears of joy face with tears of joy face with tears of joy face with tears of joy face with tears of joy face with tears of joy face with tears of joy face with tears of joy face with tears of joy face with tears of joy face with tears of joy face with tears of joy face with tears of joy face with tears of joy face with tears of joy face with tears of joy face with tears of joy face with tears of joy face with tears of joy face with tears of joy face with tears of joy face with tears of joy face with tears of joy face with tears of joy face with tears of joy face with tears of joy face with tears of joy face with tears of joy face with tears of joy face with tears of joy face with tears of joy face with tears of joy face with tears of joy face with tears of joy face with tears of joy face with tears of joy face with tears of joy face with tears of joy face with tears of joy face with tears of joy face with tears of joy face with tears of joy face with tears of joy face with tears of joy face with tears of joy face with tears of joy face with tears of joy face with tears of joy face with tears of joy face with tears of joy face with tears of joy face with tears of joy face with tears of joy face with tears of joy face with tears of joy face with tears of joy face with tears of joy face with tears of joy face with tears of joy face with tears of joy face with tears of joy face with tears of joy face with tears of joy\n",
      "INDEX: 27290, TEXT: unfat unfat old man my friendunfat unfat sir unfat ask your colleagues to unfat rolling on the floor laughing rolling on the floor laughing rolling on the floor laughing rolling on the floor laughing rolling on the floor laughing rolling on the floor laughing rolling on the floor laughing rolling on the floor laughing face with tears of joy face with tears of joy face with tears of joy face with tears of joy face with tears of joy face with tears of joy face with tears of joy face with tears of joy face with tears of joy face with tears of joy face with tears of joy face with tears of joy face with tears of joy face with tears of joy face with tears of joy face with tears of joy face with tears of joy face with tears of joy face with tears of joy face with tears of joy\n",
      "INDEX: 29517, TEXT: lenovo thinkpad ultraslim t480s touchscreen 8th generation processor intel core i5 speed upto 38ghz turbo boost 8gb hd graphics storage 8gb ram512gb ssd with type c charger price ksh 39000 mpesa kisii ruto japan amerix onyango machakos university saf small blue diamond small blue diamond small blue diamond small blue diamond small blue diamond small blue diamond small blue diamond small blue diamond small blue diamond kenya\n",
      "INDEX: 32722, TEXT: amerix amewacorrupt akili kabisa theres no way utafanya everything 100 perfect buana i have nieces who watch while eating mpaka kuoga na the first words they uttered were english words kama hio si progress then wtf do you want face with tears of joy face with tears of joy face with tears of joy face with tears of joy face with tears of joy face with tears of joy face with tears of joy face with tears of joy face with tears of joy face with tears of joy face with tears of joy\n",
      "INDEX: 34629, TEXT: hp elitebook 820 gen 7 intel core i7 storage 12gb ram256gb ssd or 1tb hdd clock speed 28ghz screen resolution 1080p with 4gb intel graphics with backlite keyboard size 125 inches price 35000 0717040531hp uganda kagame mzee kisumu amerix thika road check mark button check mark button check mark button check mark button check mark button check mark button check mark button check mark button check mark button telephone receiver\n",
      "INDEX: 37682, TEXT: what prescription is this for diabetes whether type 1 or 2 it will eventually fluctuate sugar levels and this 34year old man will die of diabetes face with open eyes and hand over mouth face with open eyes and hand over mouth face with open eyes and hand over mouth face with open eyes and hand over mouth face with open eyes and hand over mouth face with open eyes and hand over mouth face with open eyes and hand over mouth face with open mouth face with open mouth face with open mouth face with open mouth face with open mouth face with open mouth face with open mouth face with open mouth face with open mouth face with open mouth face with open mouth man shrugging\n",
      "INDEX: 56260, TEXT: thats all i hadthankyou grinning face with sweat grinning face with sweat grinning face with sweat grinning face with sweat grinning face with sweat grinning face with sweat grinning face with sweat grinning face with sweat grinning face with sweat grinning face with sweat face with tears of joy face with tears of joy face with tears of joy face with tears of joy face with tears of joy face with tears of joy face with tears of joy face with tears of joy face with tears of joy face with tears of joy face with tears of joy face with tears of joy\n",
      "INDEX: 60903, TEXT: power in your hands hp elitebook 820 g4 intel core i77200u 7th gen 28 ghz 2cores 8gb ram 256gb ssd intel hd graphics 620 125 fhd touch disp 34k 0741265207 retweet widely alfred mutua marriage luos amerix bahati manyora kinoti raised hand laptop black square button registered trade mark black square button black square button black square button black square button black square button black square button victory hand\n",
      "INDEX: 67196, TEXT: lemme retweet share screenshot and tag this fellow drayk like 100 times face with tears of joy face with tears of joy face with tears of joy face with tears of joy face with tears of joy face with tears of joy loudly crying face loudly crying face loudly crying face face with tears of joy face with tears of joy face with tears of joy face with tears of joy face with tears of joy face with tears of joy face with tears of joy face with tears of joy face with tears of joy face with tears of joy face with tears of joy face with tears of joy face with tears of joy face with tears of joy face with tears of joy face with tears of joy face with tears of joy\n",
      "INDEX: 69769, TEXT: pay on delivery countrywide hp elitebook x360 1030 g3 133 touchscreen lcd 2 in 1 laptop intel core i5 8th gen i58650u 8gb lpddr3 ram 256gb pcie nvme m2 ssd 133 windows 11 ksh48000 254 713 441634 riggyg amerix tate odinga eldoret obina nairobi club suit club suit club suit club suit club suit club suit\n",
      "INDEX: 69777, TEXT: amerix murife thierry henry andrew tate kisumu eldoret riggy g salim mvurya homabay winnie odinga bungoma get ps5 standard 1padfifa 21 75k ps5 standard2pads fifa 22 85k ps5 standard2pads fifa 22 90k ps5 standard 2pads 80k call or text 0743970341 black small square black small square black small square black small square\n",
      "INDEX: 72811, TEXT: you wish i was fat in your dreams rolling on the floor laughing face with tears of joy rolling on the floor laughing face with tears of joy rolling on the floor laughing face with tears of joy rolling on the floor laughing face with tears of joy rolling on the floor laughing face with tears of joy rolling on the floor laughing face with tears of joy rolling on the floor laughing face with tears of joy rolling on the floor laughing face with tears of joy rolling on the floor laughing face with tears of joy rolling on the floor laughing face with tears of joy rolling on the floor laughing face with tears of joy rolling on the floor laughing face with tears of joy\n",
      "INDEX: 73856, TEXT: 2 days left get 25 off hp elitebook 840 g3 core i5 8gb 256gb ssd callwhatsapp 0716000565 mudavadi machakoscountyexposed ichaweri chebukati eldoret nakuru riggy g mombasa nairobi river grade 6 ronaldo round of 16 somali spaceyamagari alai manday apple kibra fire check mark button check mark button check mark button selfie\n",
      "INDEX: 73857, TEXT: 2 days left get 21 off hp elitebook850 g5 i7 32gb 512gb 156 fhd callwhatsapp 0716000565 mudavadi machakoscountyexposed ichaweri chebukati eldoret nakuru riggy g mombasa nairobi river grade 6 ronaldo round of 16 somali spaceyamagari alai manday apple fire check mark button check mark button check mark button check mark button selfie\n",
      "INDEX: 73858, TEXT: 2 days left get 35 off hp 1030 g2 x360 core i7 16gb 512gb 133touch callwhatsapp 0716000565 mudavadi machakoscountyexposed ichaweri chebukati eldoret nakuru riggy g mombasa nairobi river grade 6 ronaldo round of 16 somali spaceyamagari alai manday apple fire check mark button check mark button check mark button check mark button selfie\n",
      "INDEX: 75328, TEXT: manday please please make today my special day i need to buy bits to my son who is going to army foundation college in september and i am struggling with being able to buy it all folded hands medium skin tone folded hands medium skin tone folded hands medium skin tone folded hands medium skin tone folded hands medium skin tone folded hands medium skin tone folded hands medium skin tone folded hands medium skin tone folded hands medium skin tone folded hands medium skin tone folded hands medium skin tone folded hands medium skin tone folded hands medium skin tone folded hands medium skin tone folded hands medium skin tone folded hands medium skin tone\n",
      "INDEX: 79237, TEXT: horseracingtips fully updated like both value bets mybigbets1 mybigbets mybigbetsboom horseracing pakistancricket smalldickenergy capetown lkp2023 caperacing lormarins durban bettertogether bettingtwitter soccer betway studio microphone horse racing dark skin tone studio microphone horse racing dark skin tone police car light studio microphone police car light money bag money bag money bag man dancing man dancing man dancing smiling face with sunglasses smiling face with sunglasses smiling face with sunglasses horse racing dark skin tone horse racing dark skin tone horse racing dark skin tone\n",
      "INDEX: 80720, TEXT: bipot boom ticket quntaum podcast boom mybigbets1 mybigbets horseracing horseracingtips fifaworldcup tipsters tipster bettingtips bettingsports bettertogether bettingexpert bettingpeople bettingpicks worldcupfinal check mark button horse racing dark skin tone money bag glowing star check mark button check mark button check mark button money bag money bag money bag horse racing dark skin tone horse racing dark skin tone horse racing dark skin tone collision collision collision money bag money bag money bag\n",
      "INDEX: 80769, TEXT: happy punter boom ticket mybigbets mybigbets1 yourfriendlytipster horseracingtips horseracingtipster tipster tipsters horseracing mybigbetsboom mybigbetspodcast fifaworldcup souuthafrica bettingtwitter bettertogether cyril green apple man dancing green apple green apple man dancing green apple money bag money bag money bag horse racing dark skin tone horse racing dark skin tone horse racing dark skin tone money bag money bag money bag horse racing dark skin tone horse racing dark skin tone horse racing dark skin tone\n",
      "INDEX: 82894, TEXT: god must not like us this slip was 50 bands for me i even made this bitch shorter 89 im sorry yall we gotta make this bitch higher again i know we can ride this one if it was all higher bettertogether bettingtwitter bettertogether rolling on the floor laughing rolling on the floor laughing rolling on the floor laughing rolling on the floor laughing rolling on the floor laughing rolling on the floor laughing man facepalming mediumdark skin tone man facepalming mediumdark skin tone man facepalming mediumdark skin tone fire fire fire\n",
      "INDEX: 84024, TEXT: today was a good day if youre reading this i hope yours was too bettertogether thebekindimpact clearthelist teachertwitter party popper party popper snowman snowman snowman snowman snowman snowman snowman snowman snowman snowman snowman snowman snowman snowman snowman snowman snowman snowman snowman snowman snowman snowman snowman snowman snowman snowman snowman snowman snowman snowman snowman snowman snowman snowman snowman snowman snowman snowman snowman snowman snowman snowman snowman snowman snowman snowman snowman snowman snowman snowman snowman snowman snowman snowman snowman snowman snowman snowman snowman snowman snowman snowman snowman snowman snowman snowman snowman snowman snowman snowman snowman snowman\n",
      "INDEX: 86150, TEXT: thank you kindly for including me on this ride with all these fantastic patriots youre simple the best rt amp fbap follow my friend gt lt bluehand bettertogether rightfacing fist mediumlight skin tone collision leftfacing fist mediumlight skin tone blue heart blue heart blue heart oncoming fist mediumlight skin tone oncoming fist mediumlight skin tone oncoming fist mediumlight skin tone oncoming fist mediumlight skin tone oncoming fist mediumlight skin tone oncoming fist mediumlight skin tone shield shield fire fire shield shield collision collision\n",
      "INDEX: 89755, TEXT: taylor swift tickets week coming up am i going to fight this battle for tickets yes yes i am so stay out of the way trying to pull it off bettertogether swifties thebekindimpact smiling face with sunglasses smiling face with sunglasses smiling face with sunglasses seenoevil monkey seenoevil monkey seenoevil monkey seenoevil monkey seenoevil monkey seenoevil monkey seenoevil monkey seenoevil monkey seenoevil monkey seenoevil monkey seenoevil monkey seenoevil monkey seenoevil monkey seenoevil monkey\n",
      "INDEX: 91077, TEXT: all humans are bettertogether voteblue resist voteblue mandelabarnes tonyevers wisconsin lgbtqia blm indigenouspeoples jewish asian disabilityrights marginalized women daughters sisters moms sweat droplets waving hand mediumlight skin tone raised fist dark skin tone victory hand mediumdark skin tone rightfacing fist light skin tone leftfacing fist medium skin tone thumbs up mediumlight skin tone folded hands dark skin tone oncoming fist medium skin tone palms up together mediumdark skin tone victory hand medium skin tone rightfacing fist mediumlight skin tone leftfacing fist dark skin tone raised fist medium skin tone clapping hands mediumdark skin tone\n",
      "INDEX: 91482, TEXT: this is my only points slip this was 80k this nigga nigga ingram fumble it was going be my 8th win i have a new strategy to win constantly hmu bettertogether bettingpicks bettingpicks bettingpicks fanduel nbaparlay rolling on the floor laughing rolling on the floor laughing rolling on the floor laughing rolling on the floor laughing rolling on the floor laughing rolling on the floor laughing rolling on the floor laughing rolling on the floor laughing rolling on the floor laughing face exhaling face exhaling face exhaling face exhaling dollar banknote check mark button check mark button check mark button mobile phone with arrow mobile phone with arrow mobile phone with arrow mobile phone with arrow\n",
      "INDEX: 92050, TEXT: didnt even wanna bet today trash ass matchups but this was 30k ticket 1417 tomorrow im winning big great games tomorrow im shooting for 100k im going to get it bettingexpert bettertogether moneytips nba fanduel face exhaling dollar banknote dollar banknote dollar banknote dollar banknote face exhaling check mark button check mark button check mark button check mark button check mark button check mark button check mark button check mark button rolling on the floor laughing rolling on the floor laughing rolling on the floor laughing rolling on the floor laughing rolling on the floor laughing fire fire fire fire raising hands mediumdark skin tone\n",
      "INDEX: 101137, TEXT: k i can do that i have extra ones to share bettertogether grinning face grinning face grinning face grinning face grinning face grinning face grinning face grinning face grinning face grinning face grinning face grinning face grinning face grinning face grinning face grinning face grinning face grinning face grinning face grinning face grinning face grinning face grinning face grinning face grinning face grinning face grinning face grinning face grinning face grinning face grinning face grinning face grinning face grinning face grinning face grinning face grinning face grinning face grinning face grinning face grinning face grinning face grinning face grinning face grinning face grinning face grinning face grinning face grinning face grinning face grinning face grinning face grinning face grinning face grinning face grinning face grinning face grinning face grinning face grinning face grinning face grinning face grinning face grinning face grinning face grinning face grinning face grinning face grinning face grinning face grinning face grinning face grinning face grinning face grinning face grinning face grinning face grinning face grinning face grinning face grinning face grinning face grinning face grinning face grinning face grinning face grinning face grinning face grinning face grinning face grinning face grinning face grinning face grinning face grinning face grinning face grinning face grinning face grinning face grinning face grinning face grinning face grinning face grinning face grinning face grinning face grinning face\n",
      "INDEX: 110568, TEXT: today we made welcome cards to give to our new year 1 friends all 19 of them who start school tomorrow we cant wait to meet you and show you our big smiles firstday bettertogether kindergarten envelope zany face smiling face with hearts grinning face with big eyes woman and man holding hands medium skin tone mediumlight skin tone women holding hands woman and man holding hands medium skin tone mediumlight skin tone man standing mediumlight skin tone woman and man holding hands medium skin tone mediumlight skin tone\n",
      "INDEX: 111382, TEXT: realized i did not practice getting up early for school today which means i will be tired tomorrow morning anyone else practice getting up early or going to bed early teachertwitter bettertogether thebekindimpact clearthelist party popper party popper party popper party popper party popper party popper party popper party popper party popper party popper party popper party popper party popper party popper party popper party popper party popper party popper party popper party popper party popper party popper\n",
      "INDEX: 111553, TEXT: wednesday i start with studentsum what where is summer scaries teachertwitter bettertogether thebekindimpact clearthelist police car light police car light police car light police car light police car light police car light police car light police car light police car light police car light police car light police car light police car light police car light police car light police car light police car light police car light police car light police car light police car light police car light police car light police car light police car light\n",
      "INDEX: 111734, TEXT: books books books everybody lets retweet and see what we can do to get this list out to the world if you have the energy id appreciate the retweet thanks for your time bettertogether teachertwitter thebekindimpact clearthelist police car light police car light police car light police car light police car light sun sun police car light police car light police car light police car light police car light police car light police car light police car light police car light police car light police car light police car light police car light police car light\n",
      "INDEX: 113765, TEXT: lets clearthelist teachertwitter only 5 containers of wipes left and thats it retweet if you have the strength i appreciate it lets do this bettertogether thebekindimpact vibes positivity police car light police car light police car light police car light police car light police car light police car light police car light police car light police car light police car light police car light police car light police car light police car light police car light police car light police car light police car light police car light police car light police car light police car light police car light sun\n",
      "INDEX: 113780, TEXT: hey teachertwitter any help with this list even a rt would be forever amazing rts do wonders just to get the word out i appreciate all of you bettertogether thebekindimpact clearthelist police car light police car light police car light police car light police car light police car light police car light police car light police car light police car light police car light police car light police car light police car light police car light police car light police car light police car light police car light\n",
      "INDEX: 113912, TEXT: oh my would love a class set of these and they are 25 off today would be so thankful for a rt or any support clearthelist bettertogether adoptateacher teachertwitter johnclearmylist b2swithalane grinning face with big eyes grinning face with big eyes grinning face with big eyes flushed face flushed face flushed face grinning face with big eyes clapping hands light skin tone clapping hands light skin tone clapping hands light skin tone crossed fingers light skin tone crossed fingers light skin tone crossed fingers light skin tone\n",
      "INDEX: 115058, TEXT: congratulations bettingtips bettertogether sportybet betwaysquad betwinnernews check mark button check mark button check mark button check mark button check mark button check mark button check mark button check mark button check mark button check mark button check mark button check mark button bottle with popping cork bottle with popping cork bottle with popping cork bottle with popping cork bottle with popping cork bottle with popping cork bottle with popping cork bottle with popping cork money bag money bag money bag money bag rocket rocket rocket rocket rocket rocket rocket collision collision collision collision collision\n",
      "INDEX: 116604, TEXT: just a 7th grade history teacher looking to revamp and reload any help even rt would be forever amazing bettertogether teachertwitter thebekindimpact clearthelist b2swithalane police car light police car light police car light police car light police car light police car light police car light police car light police car light police car light police car light police car light police car light police car light police car light police car light police car light police car light police car light police car light police car light\n",
      "INDEX: 116916, TEXT: keep pushing multiple aeds are so important for a school especially a large one any help even a retweet would be forever amazing bettertogether thebekindimpact teachertwitter clearthelist project police car light police car light police car light police car light police car light police car light police car light police car light police car light police car light police car light police car light police car light police car light police car light police car light police car light police car light police car light police car light police car light police car light police car light police car light police car light police car light police car light police car light police car light police car light police car light\n",
      "INDEX: 116944, TEXT: its the final countdown so so close a retweet would mean the world lets try to blow this project up and get it launched teachertwitter gameofthrones houseofthedragon bettertogether clearthelist thebekindimpact police car light police car light police car light police car light police car light police car light police car light police car light police car light police car light police car light police car light police car light police car light police car light police car light police car light police car light police car light police car light police car light police car light\n",
      "INDEX: 117080, TEXT: every little bit helps as a coach i know that having multiple aeds is so so important if you have the ability please retweet teachertwitter bettertogether thebekindimpact clearthelist police car light police car light police car light police car light police car light police car light police car light police car light police car light police car light police car light police car light police car light police car light police car light police car light police car light police car light police car light police car light police car light\n",
      "INDEX: 119426, TEXT: what is one thing you forgot to put on your wishlist and why is it a beach house with a jetski teachertwitter bettertogether thebekindimpact smiling face with sunglasses smiling face with sunglasses smiling face with sunglasses smiling face with sunglasses smiling face with sunglasses smiling face with sunglasses smiling face with sunglasses smiling face with sunglasses smiling face with sunglasses smiling face with sunglasses smiling face with sunglasses smiling face with sunglasses smiling face with sunglasses smiling face with sunglasses smiling face with sunglasses smiling face with sunglasses smiling face with sunglasses\n",
      "INDEX: 120008, TEXT: cherish the little moments take time to make memories they are the rock you need to hold onto when times get tough bettertogether weekendthoughts teachertwitter globe showing asiaaustralia globe showing asiaaustralia globe showing asiaaustralia globe showing asiaaustralia globe showing asiaaustralia globe showing asiaaustralia globe showing asiaaustralia globe showing asiaaustralia globe showing asiaaustralia globe showing asiaaustralia globe showing asiaaustralia globe showing asiaaustralia\n",
      "INDEX: 122260, TEXT: teachertwitter the match almost ends soon any help even a rt would be forever appreciated this is a project that would change an entire school population clearthelist thebekindimpact bettertogether united states united states united states united states united states united states united states united states united states united states united states united states united states united states united states united states united states united states united states united states united states united states united states united states united states united states united states united states united states united states united states united states united states united states united states united states united states\n",
      "INDEX: 123905, TEXT: heat wave wishlist dropheating up in nj again 7th grade history teacher here gearing up 4 another yr drop and retweet if you feel up to it bettertogether clearthelists teachertwitter thebekindimpact police car light police car light police car light police car light police car light police car light police car light police car light police car light police car light police car light police car light police car light police car light police car light police car light police car light police car light police car light police car light police car light police car light police car light police car light\n",
      "INDEX: 124759, TEXT: if youre seeing this i hope you rock this friday and glide into an awesome weekend hope its filled with fun and positivity remember to take time for you teachertwitter bettertogether thebekindimpact police car light police car light police car light police car light police car light police car light police car light police car light police car light police car light police car light police car light police car light police car light police car light police car light police car light police car light police car light police car light police car light police car light police car light police car light\n",
      "INDEX: 125434, TEXT: if youre a fan of survivor or naked and afraid you need to watch alone on netflix this is a real survival show teachertwitter bettertogether police car light police car light police car light police car light police car light police car light police car light police car light police car light police car light police car light police car light police car light police car light police car light police car light police car light police car light police car light police car light police car light police car light police car light police car light police car light\n",
      "INDEX: 129715, TEXT: if youre seeing this i want you to have the best rest of this week keep smiling and i hope positivity finds its way into your life even in the smallest way be kind to each other bettertogether teachertwitter police car light police car light police car light police car light police car light police car light police car light police car light police car light police car light police car light police car light police car light police car light police car light police car light police car light police car light folded hands light skin tone folded hands light skin tone folded hands light skin tone folded hands light skin tone folded hands light skin tone folded hands light skin tone folded hands light skin tone\n",
      "INDEX: 130519, TEXT: if i didnt retweet your list in my wishlist drop i just did now i apologize for the delay my notifications have been blowing up so sometimes things get overlooked i apologize bettertogether teachertwitter thebekindimpact clearthelist police car light police car light police car light police car light police car light police car light police car light police car light police car light police car light police car light police car light police car light police car light police car light police car light police car light police car light\n",
      "INDEX: 133924, TEXT: price drop storage containers on my list found much cheaper 27 for 2 to store books costumes and keep them fresh for years teachertwitter clearthelist bettertogether thebekindimpact backhand index pointing down backhand index pointing down backhand index pointing down backhand index pointing down backhand index pointing down backhand index pointing down backhand index pointing down backhand index pointing down backhand index pointing down backhand index pointing down backhand index pointing down backhand index pointing down backhand index pointing down backhand index pointing down backhand index pointing down backhand index pointing down backhand index pointing down\n",
      "INDEX: 134276, TEXT: thank you for your support always 7th grade history teacher looking to make history come alive for his students any help even retweet would b 4ever amazing bettertogether teachertwitter clearthelist police car light police car light police car light police car light police car light police car light police car light police car light police car light police car light police car light police car light police car light police car light police car light police car light police car light police car light police car light police car light police car light police car light police car light police car light police car light\n",
      "INDEX: 134827, TEXT: ok now i can reveal the weekend wishlist drop retweet if you feel up to it we are going to clear some lists this weekend bettertogether thebekindimpact teachertwitter clearthelists police car light police car light police car light police car light police car light police car light police car light police car light police car light united states united states united states united states police car light police car light police car light police car light police car light police car light police car light police car light police car light police car light police car light police car light police car light police car light police car light police car light police car light police car light\n",
      "INDEX: 134970, TEXT: is it too early to say i have a new wishlist drop as my pinned tweet i feel like because its not friday its too early retweet if youd like again if its not too early teachertwitter bettertogether thebekindimpact clearthelist police car light police car light police car light police car light police car light police car light police car light police car light police car light police car light police car light police car light police car light police car light police car light police car light police car light police car light police car light police car light police car light\n",
      "INDEX: 136805, TEXT: hey twitter its me again just reminding you to have an amazing weekend and hope everyone finds a reason to smile bekind bettertogether thebekindimpact teachertwitter united states united states united states united states united states united states united states united states united states united states united states united states united states united states united states united states united states united states united states united states united states united states united states united states united states united states united states united states united states united states united states united states united states united states united states united states united states united states united states united states united states united states united states\n",
      "INDEX: 137167, TEXT: be kind to each other be positive these little things mean the world one step at a time enjoy the friday friyay bettertogether united states united states united states united states united states united states united states united states united states united states united states united states united states united states united states united states united states united states united states united states united states united states united states united states red heart united states united states united states united states united states united states united states united states united states united states united states united states united states united states united states united states united states united states united states united states united states united states united states united states united states united states united states\n",
      "INDEX: 137314, TEXT: 38 items and counting truly cant believe how close i am to clearing my list my students are going to be so psyched when i meet a new group of them this september clearthelists thebekindimpact bettertogether bekind face with open mouth face with open mouth face with open mouth face with open mouth face with open mouth face with open mouth face with open mouth face with open mouth face with open mouth face with open mouth face with open mouth face with open mouth face with open mouth face with open mouth face with open mouth face with open mouth face with open mouth face with open mouth face with open mouth face with open mouth face with open mouth face with open mouth face with open mouth face with open mouth face with open mouth face with open mouth face with open mouth face with open mouth face with open mouth\n",
      "INDEX: 139626, TEXT: a retweet means the world to teachertwitter clearthelist you never know who may see any help would be appreciated greatly thebekindimpact bettertogether keep rocking the week police car light police car light police car light police car light police car light police car light police car light police car light police car light police car light police car light police car light police car light police car light police car light police car light police car light police car light police car light police car light police car light police car light police car light police car light police car light police car light police car light police car light police car light police car light police car light police car light police car light police car light police car light police car light united states\n",
      "INDEX: 139976, TEXT: any help would be forever appreciated even a retweet would mean the world i appreciate all of you and your friendship bettertogether teachertwitter thebekindimpact clearthelists police car light police car light police car light police car light police car light police car light police car light police car light police car light police car light police car light police car light police car light police car light police car light police car light police car light police car light police car light police car light police car light police car light police car light police car light police car light police car light police car light police car light police car light police car light police car light\n",
      "INDEX: 143978, TEXT: bettertogether oh undenzani kodwa queen elizabeth what a 4play on my sons birthday oluthando sparkstime was exactly 1023 when i held u in my arms 11 years ago and our love will go on red heart red heart red heart red heart red heart red heart red heart red heart red heart red heart red heart red heart red heart red heart red heart red heart red heart red heart red heart red heart red heart red heart red heart red heart red heart red heart red heart red heart red heart\n",
      "INDEX: 145596, TEXT: trying to lose weight while having friedreichsataxia is like spongebob trying to live on land nonexistent disabilitytwitter disabled bettertogether amtrying weightloss rolling on the floor laughing rolling on the floor laughing rolling on the floor laughing rolling on the floor laughing rolling on the floor laughing rolling on the floor laughing rolling on the floor laughing rolling on the floor laughing rolling on the floor laughing rolling on the floor laughing rolling on the floor laughing rolling on the floor laughing rolling on the floor laughing rolling on the floor laughing\n",
      "INDEX: 145985, TEXT: wishing the team the best today the team has invested so much to make this a great experience for students teachers and leaders bettertogether speaking head hundred points smiling face with hearteyes smiling face with hearts starstruck camping clapping hands mediumlight skin tone clapping hands mediumlight skin tone clapping hands mediumlight skin tone clapping hands mediumlight skin tone clapping hands mediumlight skin tone clapping hands mediumlight skin tone clapping hands mediumlight skin tone clapping hands mediumlight skin tone clapping hands mediumlight skin tone clapping hands mediumlight skin tone clapping hands mediumlight skin tone clapping hands mediumlight skin tone clapping hands mediumlight skin tone clapping hands mediumlight skin tone smiling face with hearts\n",
      "INDEX: 146641, TEXT: new day for you jam is truly a hip shaking jam hadnt heard it in a while bettertogether radio2000 man dancing dark skin tone woman dancing mediumdark skin tone man dancing dark skin tone woman dancing mediumdark skin tone man dancing dark skin tone woman dancing mediumdark skin tone man dancing dark skin tone woman dancing mediumdark skin tone man dancing dark skin tone woman dancing mediumdark skin tone woman dancing mediumdark skin tone man dancing dark skin tone woman dancing mediumdark skin tone man dancing dark skin tone\n",
      "INDEX: 147090, TEXT: i hope everyone has an amazing day any help would be forever appreciated bettertogether thebekindimpact teachertwitter clearthelist twitterphilanthropy goodmorningtwitterworld thankyoutwice appreciation almostsummer four leaf clover four leaf clover four leaf clover four leaf clover four leaf clover four leaf clover four leaf clover four leaf clover four leaf clover four leaf clover four leaf clover four leaf clover four leaf clover four leaf clover four leaf clover four leaf clover four leaf clover four leaf clover four leaf clover four leaf clover four leaf clover four leaf clover four leaf clover four leaf clover party popper party popper\n",
      "INDEX: 149175, TEXT: premium playerprops mlb christian greene under 75 ks atobttr mlbpicks bettingtwitter bettertogether retweet amp like martial arts uniform baseball fire moneymouth face check mark button check mark button check mark button check mark button check mark button check mark button check mark button check mark button check mark button moneymouth face fire firecracker firecracker fire moneymouth face check mark button check mark button check mark button check mark button check mark button check mark button check mark button check mark button check mark button moneymouth face fire fire japanese bargain button moneymouth face moneymouth face japanese bargain button fire\n",
      "INDEX: 150303, TEXT: if you are seeing this it is going to be an awesome week think positive things all day everyday there is always something to smile about mindsetmatters perspective mentalhealthmatters teachertwitter bettertogether bekind star star star star star star star star smiling face with smiling eyes smiling face with smiling eyes smiling face with smiling eyes smiling face with smiling eyes smiling face with smiling eyes smiling face with smiling eyes smiling face with smiling eyes smiling face with smiling eyes smiling face with smiling eyes smiling face with smiling eyes smiling face with smiling eyes smiling face with smiling eyes smiling face with smiling eyes smiling face with smiling eyes smiling face with smiling eyes\n",
      "INDEX: 150866, TEXT: if you are seeing this i hope you have the happiest of fridays and the amazingest of weekends you deserve it we made it bettertogether teachertwitter thebekindimpact four leaf clover four leaf clover four leaf clover four leaf clover four leaf clover four leaf clover four leaf clover four leaf clover four leaf clover four leaf clover four leaf clover four leaf clover four leaf clover four leaf clover four leaf clover four leaf clover four leaf clover four leaf clover four leaf clover four leaf clover four leaf clover four leaf clover four leaf clover four leaf clover four leaf clover four leaf clover four leaf clover four leaf clover four leaf clover\n",
      "INDEX: 151568, TEXT: cool cats bettertogether winking face upsidedown face thumbs up smiling face with smiling eyes face with rolling eyes hibiscus rose tulip folded hands grinning face grinning face grinning face grinning face grinning face grinning face grinning face grinning face grinning face grinning face grinning face grinning face grinning face grinning face grinning face grinning face grinning face grinning face winking face winking face winking face winking face winking face winking face winking face winking face winking face winking face sparkling heart sparkling heart sparkling heart sparkling heart face with rolling eyes smiling face with smiling eyes butterfly butterfly face with tears of joy rolling on the floor laughing smiling face with sunglasses\n",
      "INDEX: 154693, TEXT: when a momma duck accidentally looses her ducklings shes not leaving until all of them are rescued happymothersday love cute mothersday2022 mothersday sundayvibes bekindalways bettertogether got7 dsds crypto thorloveandthunder duck frontfacing baby chick frontfacing baby chick frontfacing baby chick frontfacing baby chick frontfacing baby chick frontfacing baby chick two hearts frontfacing baby chick two hearts frontfacing baby chick two hearts frontfacing baby chick two hearts frontfacing baby chick two hearts\n",
      "INDEX: 156016, TEXT: thank you for this 7th grade ss teacher trying to revamp supplies for the end of this year and to start next year like comment or retweet would be amazing bettertogether thebekindimpact teachertwitter four leaf clover four leaf clover four leaf clover four leaf clover four leaf clover four leaf clover four leaf clover four leaf clover four leaf clover four leaf clover four leaf clover four leaf clover four leaf clover four leaf clover four leaf clover four leaf clover four leaf clover four leaf clover four leaf clover police car light police car light police car light police car light police car light police car light police car light police car light police car light police car light police car light police car light police car light police car light police car light police car light police car light\n",
      "INDEX: 156828, TEXT: day 2teacherappreciationweek teachertwitter thebekindimpact bettertogether any help would be forever appreciated police car light police car light police car light police car light police car light police car light herb herb herb herb droplet droplet droplet droplet droplet droplet droplet dove dove dove dove winking face with tongue four leaf clover four leaf clover four leaf clover four leaf clover four leaf clover four leaf clover four leaf clover four leaf clover four leaf clover four leaf clover four leaf clover dove four leaf clover four leaf clover dove four leaf clover four leaf clover four leaf clover four leaf clover four leaf clover four leaf clover four leaf clover four leaf clover four leaf clover four leaf clover four leaf clover four leaf clover four leaf clover four leaf clover\n",
      "INDEX: 157756, TEXT: when bae has you in your feelings like masculinitysaturday happyholidays smiling face with hearteyes smiling face with hearteyes beaming face with smiling eyes face blowing a kiss face blowing a kiss woman and man holding hands kiss red heart grimacing face anxious face with sweat anxious face with sweat anxious face with sweat confused face confused face smirking face money with wings two hearts weary face face blowing a kiss face with tears of joy crying face crying face crying face hundred points raising hands person frowning person bowing family kiss mark kiss couple with heart heart with arrow heart with arrow confounded face confounded face heart with arrow raised fist raised fist woman and man holding hands tongue tongue loudly crying face loudly crying face sweat droplets sweat droplets fire raising hands raising hands weary face raised fist raising hands smiling face with hearteyes smirking face smirking face smirking face kiss mark broken heart broken heart broken heart broken heart broken heart broken heart broken heart person walking person walking red heart red heart two hearts broken heart confused face broken heart kiss mark anxious face with sweat anxious face with sweat beaming face with smiling eyes loudly crying face kiss woman and man holding hands woman and man holding hands smiling face with hearteyes face blowing a kiss confounded face weary face crying face broken heart broken heart broken heart\n",
      "INDEX: 160615, TEXT: hp probook 430 7th generation processor intel core i5 storage 8gb ram500gb hdd clock speed 271ghz webcam wireless wifi connectivity with hdmiusb port price ksh29999 warranty 6months 0717040531 baba mumias kericho bungoma masculinitysaturday president check mark button check mark button check mark button check mark button check mark button check mark button check mark button check mark button check mark button telephone receiver kenya\n",
      "INDEX: 161810, TEXT: hp elitebook 840 g3 intel core i5 8gb ram ddr4 256gb ssd touch screen backlight keyboard very slim and portable gt8th generation ksh 34000 call 254 704 471591 sammyboykenya disbandneanow masculinitysaturday sauti sol gachagua secret service eala kumbe nakuru glowing star check mark button check mark button check mark button check mark button check mark button check mark button\n",
      "INDEX: 163637, TEXT: hp elitebook x360 1030 8th generation 2in1 touchscreen fhd 1920x1080 resolution size 13314 inches very slim processor intel core i78350u storage 16gb ram 512gb ssd backlit keyboard price ksh 70000 contact 0717040531 masculinitysaturday kasarani small blue diamond small blue diamond small blue diamond small blue diamond small blue diamond small blue diamond small blue diamond small blue diamond small blue diamond\n",
      "INDEX: 165603, TEXT: men i dont like kids wont explain masculinitysaturday triangular flag triangular flag triangular flag triangular flag triangular flag triangular flag triangular flag triangular flag triangular flag triangular flag triangular flag triangular flag triangular flag triangular flag triangular flag triangular flag triangular flag triangular flag triangular flag triangular flag triangular flag triangular flag triangular flag triangular flag triangular flag triangular flag triangular flag triangular flag triangular flag triangular flag triangular flag triangular flag triangular flag triangular flag triangular flag triangular flag triangular flag triangular flag triangular flag triangular flag triangular flag triangular flag triangular flag triangular flag triangular flag triangular flag triangular flag\n",
      "INDEX: 165809, TEXT: dell optiplex 7010 coi3 3rd generation 4gb memory ram 500gb harddrive available at 13500ksh we are located along tom mboya stcitiko building opp koja roundaboutcall masculinitysaturday devfest2022 devfestnairobi usiu thika bankwithdtb circus tent circus tent keycap 0 keycap 7 keycap 1 keycap 7 keycap 0 keycap 1 keycap 7 keycap 0 keycap 8 keycap 8\n",
      "INDEX: 167808, TEXT: lenovo thinkpad yoga x360 intel core i5 speed upto 30ghz 125inch touchscreen storage 8gb ram 256gb ssd windows 10 pro and basic softwares installed six months warranty price ksh 35000 call whatsapp 2547 01 846 097 kbcweekender masculinitysaturday elon check box with check check box with check check box with check check box with check check box with check check mark check mark\n",
      "INDEX: 168175, TEXT: hello guys hp spectre 14 x360 intel core i51165g7 11th gen 28 ghz 4 cores 16gb ram 512 gb ssd intel iris x graphics 135 fhd ips touch 130k 0741265207 rt widely kenya kajiado senator munoko winnie odinga masculinitysaturday riggy g selfie laptop black square button registered trade mark black square button black square button black square button black square button black square button registered registered black square button victory hand\n",
      "INDEX: 168176, TEXT: hello guys hp spectre 14 x360 intel core i51165g7 11th gen 28 ghz 4 cores 16gb ram 512 gb ssd intel iris x graphics 135 fhd ips touch 130k 0741265207 rt widely kenya kajiado senator munoko winnie odinga masculinitysaturday riggy g selfie laptop black square button registered trade mark black square button black square button black square button black square button black square button registered registered black square button victory hand\n",
      "INDEX: 169524, TEXT: hp elitebook 840 g4 7th generation size 14 inches processor intel core i5 storage8gb ram256gb ssd speed 27ghz upto 38ghz has backlite keyboard 6months warranty price 33500 contact 0714974772 masculinitysaturday eliud owalo kamba president uhuru kenyatta pushpin pushpin pushpin pushpin pushpin pushpin pushpin pushpin pushpin telephone receiver\n",
      "INDEX: 169650, TEXT: lenovo thinkpad yoga x360 intel core i5 speed upto 30ghz 125inch touchscreen storage 8gb ram 256gb ssd windows 10 pro amp basic softwares installed 6 months warranty price 35000 call whatsapp 0701846097 joe ageyo ababu namwamba lg100club masculinitysaturday check box with check check box with check check box with check check box with check diamond suit telephone\n",
      "INDEX: 170270, TEXT: let us plant trees masculinitysaturday palm tree evergreen tree evergreen tree evergreen tree palm tree palm tree palm tree evergreen tree evergreen tree evergreen tree evergreen tree palm tree palm tree palm tree palm tree palm tree palm tree evergreen tree evergreen tree evergreen tree evergreen tree evergreen tree palm tree palm tree palm tree palm tree palm tree palm tree evergreen tree evergreen tree evergreen tree evergreen tree evergreen tree palm tree palm tree palm tree palm tree palm tree palm tree evergreen tree evergreen tree evergreen tree evergreen tree evergreen tree evergreen tree evergreen tree palm tree palm tree palm tree palm tree palm tree palm tree evergreen tree evergreen tree evergreen tree evergreen tree evergreen tree evergreen tree evergreen tree evergreen tree palm tree palm tree palm tree palm tree palm tree palm tree palm tree palm tree evergreen tree evergreen tree evergreen tree evergreen tree evergreen tree palm tree palm tree palm tree evergreen tree evergreen tree evergreen tree evergreen tree evergreen tree evergreen tree evergreen tree evergreen tree evergreen tree evergreen tree evergreen tree evergreen tree evergreen tree evergreen tree palm tree palm tree palm tree palm tree palm tree palm tree palm tree palm tree palm tree palm tree palm tree palm tree palm tree palm tree palm tree palm tree palm tree palm tree evergreen tree evergreen tree evergreen tree evergreen tree evergreen tree evergreen tree evergreen tree evergreen tree evergreen tree evergreen tree\n",
      "INDEX: 170785, TEXT: refurbished hp elitebook g3 1030 ultrabook core i5 8g512gb ssd at ksh58500 only the first class refurbished laptop intel core i7 8g512g ssd intel hd graphics 630 1 year waranty 0742037820 masculinitysaturday george mwangi luo nyanza ksh 1 gikomba laptop laptop dollar banknote dollar banknote check mark button check mark button check mark button check mark button check mark button raised fist raised fist right arrow\n",
      "INDEX: 170846, TEXT: hp elitebook x360 1030 g3 8th generation 2in1 touchscreen fhd 1920x1080 resolution size 133 inches very slim processor intel core i78350u storage8gb ram 512gb ssd backlit keyboard price ksh 61000 contact 0717040531 ksh 1 masculinitysaturday dci small blue diamond small blue diamond small blue diamond small blue diamond small blue diamond small blue diamond small blue diamond small blue diamond small blue diamond\n",
      "INDEX: 171923, TEXT: hp elitebook 840 size 14 inch intel core i5 6th gen storage 8gb ram256gb ssd speed 25ghz with hdmi usb port price ksh 33500 call whatsapp 254701846097 masculinitysaturday william chepkut tuskernexters happy sabbath verasidika hbrfanzone check mark button check mark button check mark button check mark button check mark button check mark button hollow red circle telephone\n",
      "INDEX: 173958, TEXT: hp elitebook 810 revolve touchscreen softwares preinstalled 1year warranty processor intel core i5 storage8gb ram 256gb ssd backlit keyboard price ksh 23500 contact 0714974772 governor sakaja riggyg masculinitysaturday fifa23 derby nairobi ruto dp small blue diamond small blue diamond small blue diamond small blue diamond small blue diamond small blue diamond small blue diamond small blue diamond small blue diamond\n",
      "INDEX: 174577, TEXT: hp elitebook x360 1030 g3 8th generation 2in1 touchscreen fhd 1920x1080 resolution size 133 very slim processor intel core i58350u storage8gb ram256gb ssd backlit keyboard price ksh 50000 0717040531 masculinitysaturday kenyans orengo kinoti small blue diamond small blue diamond small blue diamond small blue diamond small blue diamond small blue diamond small blue diamond small blue diamond small blue diamond telephone receiver\n",
      "INDEX: 176087, TEXT: hp elitebook slim intel core i5 storage 8gb ram500gb hdd speed clock 23ghz battery life 4hrs with windows 10 pro and office very clean with warranty price ksh25000 contact 0717040531 lgbtq nairobi ngong marabou dp rigathi gachagua masculinitysaturday luos pushpin pushpin pushpin pushpin pushpin pushpin pushpin pushpin pushpin\n",
      "INDEX: 180700, TEXT: corey taylor snuff acoustic via hey andrew tate check this video out for what masculinity is you c guzzling q masculinity misogyny men masculinitysaturday backhand index pointing up backhand index pointing up backhand index pointing up backhand index pointing up backhand index pointing up backhand index pointing up backhand index pointing up grinning face with sweat face with tears of joy nauseated face rolling on the floor laughing grinning face with sweat nauseated face face with tears of joy rolling on the floor laughing nauseated face face with tears of joy beaming face with smiling eyes grimacing face face vomiting\n",
      "INDEX: 184953, TEXT: samsung highend phones s7 edge 17500 note 8 27999 s8 21500 s8 26500 s9 27500 s9 29998 note 9 32000 s10 35000 s10 plus 42000 0712630098 masculinitysaturday ruto arsenal kenyakwanzamegarally chebukati nakuru israel kasarani collision kenya glowing star glowing star glowing star glowing star glowing star glowing star glowing star glowing star glowing star mobile phone with arrow\n",
      "INDEX: 185150, TEXT: mnemba island snorkeling and dolphin tour zanzibar 6th11th sep bag packedl bikini sun sand sea good vibes enzamytours kenya7s junet ruto gachagua bukhungu mama ngina langata masculinitysaturday westlands kikuyu wajakoya diving mask diving mask diving mask person swimming dolphin dolphin bikini bikini sun behind cloud sun with face beach with umbrella umbrella on ground water wave water wave man swimming woman swimming milky way cityscape\n",
      "INDEX: 186997, TEXT: hp 1030 g3 x360 intel core i7 8th gen 8gb ram 512gb ssd 133inch touch screen 2 in 1 laptop 65000 0724404935 visit us at old nation house 1st floor shop a12 masculinitysaturday iebc chebukati bungoma jkia msando venezuela kugraduation ruto raila uhuru collision check mark button check mark button check mark button check mark button check mark button collision telephone round pushpin\n",
      "INDEX: 187208, TEXT: hp probook 430 g4 laptop core i5 7th generation 8gb 500gb hdd windows 10 price 37000 locationnairobi cbd calltext or whatsapp 0113586158 follow masculinitysaturday thankyouk24tv iebc chebukati sleeveup azimiondiojibu small orange diamond small orange diamond small orange diamond small orange diamond small orange diamond small orange diamond small orange diamond small orange diamond\n",
      "INDEX: 195834, TEXT: hp elitebook x360 1030 g2 133 touchscreen core i5 7th gen 8gb ddr4 ram 256gb ssd backlit keyboard 360convertible ksh52000 hp window10 budgetlaptops hplaptops hpprobook nairobi eldoret probook windows11 breaking news masculinitysaturday elitebook laptop check box with check check box with check check box with check check box with check check box with check check box with check money bag\n",
      "INDEX: 200934, TEXT: samsung highend phones note edge 13000 s7 edge 17500 note 8 27999 s8 21500 s8 26500 s9 27500 s9 29998 note 9 32000 s10 35000 s10 plus 42000 0712630098 masculinitysaturday itwikataveta mombasa sonko mothersday kenya dizzy kenya glowing star glowing star glowing star glowing star glowing star glowing star glowing star glowing star glowing star glowing star mobile phone with arrow\n",
      "INDEX: 217402, TEXT: incredible noodle in 5 minutes foodneedsafarmer foodfriday foodphotography food noodle noodles chicken trending trendingnow twitterexposed twitterversary red exclamation mark backhand index pointing down backhand index pointing down backhand index pointing down backhand index pointing down backhand index pointing down backhand index pointing down backhand index pointing down backhand index pointing down backhand index pointing down backhand index pointing down backhand index pointing down backhand index pointing down backhand index pointing up backhand index pointing up backhand index pointing up backhand index pointing up backhand index pointing up backhand index pointing up backhand index pointing up backhand index pointing up backhand index pointing up backhand index pointing up backhand index pointing up backhand index pointing up\n",
      "INDEX: 227731, TEXT: whos up for a brunch date foodie foodfriday wednesdaythought cookingmaster artwork artistontwitter foodies foodlovers breadweek toast india delhi foodblogger indianfood love spreadlove delicious brunch drooling face sandwich starstruck sandwich starstruck sandwich smiling face with hearteyes sandwich starstruck sandwich smiling face with hearteyes sandwich starstruck sandwich drooling face sandwich bread drooling face smiling face with hearteyes starstruck sandwich drooling face sandwich smiling face with hearteyes smiling face with hearteyes bread drooling face sandwich\n",
      "INDEX: 229214, TEXT: and i think jaha aloo waha mein shot on tagmention a friend wholl love it follow if you are a foodie too walkwithtaste abhinavshukla 4yearsofdearzindagi foodie foodcoma foodfriday tastebuds face with tears of joy face with tears of joy smiling face with hearteyes smiling face with hearteyes starstruck starstruck speaknoevil monkey seenoevil monkey hearnoevil monkey right arrow right arrow right arrow drooling face drooling face drooling face\n"
     ]
    }
   ],
   "source": [
    "token_lens = []\n",
    "\n",
    "for i,txt in enumerate(df['text_clean_deeper'].values):\n",
    "    tokens = tokenizer_4.encode(txt, max_length=512, truncation=True)\n",
    "    \n",
    "    token_lens.append(len(tokens))\n",
    "    \n",
    "    if len(tokens)>100:\n",
    "        \n",
    "        print(f\"INDEX: {i}, TEXT: {txt}\")  "
   ]
  },
  {
   "cell_type": "code",
   "execution_count": 53,
   "id": "a2df1d48",
   "metadata": {
    "execution": {
     "iopub.execute_input": "2023-02-16T12:43:57.163002Z",
     "iopub.status.busy": "2023-02-16T12:43:57.162325Z",
     "iopub.status.idle": "2023-02-16T12:43:57.233503Z",
     "shell.execute_reply": "2023-02-16T12:43:57.232319Z"
    },
    "papermill": {
     "duration": 0.101497,
     "end_time": "2023-02-16T12:43:57.236287",
     "exception": false,
     "start_time": "2023-02-16T12:43:57.134790",
     "status": "completed"
    },
    "tags": []
   },
   "outputs": [],
   "source": [
    "df['token_lens'] = token_lens"
   ]
  },
  {
   "cell_type": "code",
   "execution_count": 54,
   "id": "1df153ad",
   "metadata": {
    "execution": {
     "iopub.execute_input": "2023-02-16T12:43:57.292079Z",
     "iopub.status.busy": "2023-02-16T12:43:57.291652Z",
     "iopub.status.idle": "2023-02-16T12:43:57.310376Z",
     "shell.execute_reply": "2023-02-16T12:43:57.309127Z"
    },
    "papermill": {
     "duration": 0.049355,
     "end_time": "2023-02-16T12:43:57.312774",
     "exception": false,
     "start_time": "2023-02-16T12:43:57.263419",
     "status": "completed"
    },
    "tags": []
   },
   "outputs": [
    {
     "data": {
      "text/html": [
       "<div>\n",
       "<style scoped>\n",
       "    .dataframe tbody tr th:only-of-type {\n",
       "        vertical-align: middle;\n",
       "    }\n",
       "\n",
       "    .dataframe tbody tr th {\n",
       "        vertical-align: top;\n",
       "    }\n",
       "\n",
       "    .dataframe thead th {\n",
       "        text-align: right;\n",
       "    }\n",
       "</style>\n",
       "<table border=\"1\" class=\"dataframe\">\n",
       "  <thead>\n",
       "    <tr style=\"text-align: right;\">\n",
       "      <th></th>\n",
       "      <th>tweet_created_at</th>\n",
       "      <th>text</th>\n",
       "      <th>text_clean_deeper</th>\n",
       "      <th>Sentiment</th>\n",
       "      <th>text_len</th>\n",
       "      <th>token_lens</th>\n",
       "    </tr>\n",
       "  </thead>\n",
       "  <tbody>\n",
       "    <tr>\n",
       "      <th>0</th>\n",
       "      <td>2022-12-30 22:37:46+00:00</td>\n",
       "      <td>Men who have refused to listen to/attend @amer...</td>\n",
       "      <td>men who have refused to listen toattend classe...</td>\n",
       "      <td>Negative</td>\n",
       "      <td>36</td>\n",
       "      <td>43</td>\n",
       "    </tr>\n",
       "    <tr>\n",
       "      <th>1</th>\n",
       "      <td>2022-12-30 22:30:58+00:00</td>\n",
       "      <td>@OvOBrezzzy Take amerix next</td>\n",
       "      <td>take amerix next</td>\n",
       "      <td>Neutral</td>\n",
       "      <td>3</td>\n",
       "      <td>4</td>\n",
       "    </tr>\n",
       "    <tr>\n",
       "      <th>2</th>\n",
       "      <td>2022-12-30 22:18:00+00:00</td>\n",
       "      <td>@AyodeleYo11 @amerix Nah I’m good my masculini...</td>\n",
       "      <td>nah im good my masculinity health and wellness...</td>\n",
       "      <td>Positive</td>\n",
       "      <td>12</td>\n",
       "      <td>13</td>\n",
       "    </tr>\n",
       "    <tr>\n",
       "      <th>3</th>\n",
       "      <td>2022-12-30 20:42:54+00:00</td>\n",
       "      <td>@Amerix_DontSimp There is no need for dating i...</td>\n",
       "      <td>there is no need for dating in the first place</td>\n",
       "      <td>Negative</td>\n",
       "      <td>10</td>\n",
       "      <td>10</td>\n",
       "    </tr>\n",
       "    <tr>\n",
       "      <th>4</th>\n",
       "      <td>2022-12-30 20:32:23+00:00</td>\n",
       "      <td>@DyeAnna7 @amerix @kibe From what cos nothing ...</td>\n",
       "      <td>from what cos nothing is changing and if we go...</td>\n",
       "      <td>Positive</td>\n",
       "      <td>45</td>\n",
       "      <td>46</td>\n",
       "    </tr>\n",
       "    <tr>\n",
       "      <th>5</th>\n",
       "      <td>2022-12-30 20:25:56+00:00</td>\n",
       "      <td>@salim_the_don @MwendiaJnr I see you unblocked...</td>\n",
       "      <td>i see you unblocked me one minute uko kwa amer...</td>\n",
       "      <td>Negative</td>\n",
       "      <td>66</td>\n",
       "      <td>84</td>\n",
       "    </tr>\n",
       "    <tr>\n",
       "      <th>6</th>\n",
       "      <td>2022-12-30 20:22:24+00:00</td>\n",
       "      <td>@german_kenyan @ML_Philosophy 🤣 yes they are a...</td>\n",
       "      <td>yes they are also those who can cook i would r...</td>\n",
       "      <td>Negative</td>\n",
       "      <td>52</td>\n",
       "      <td>59</td>\n",
       "    </tr>\n",
       "    <tr>\n",
       "      <th>7</th>\n",
       "      <td>2022-12-30 20:10:49+00:00</td>\n",
       "      <td>@PadreMusa Amerix once said the alcohol menace...</td>\n",
       "      <td>amerix once said the alcohol menace is wreckin...</td>\n",
       "      <td>Negative</td>\n",
       "      <td>46</td>\n",
       "      <td>50</td>\n",
       "    </tr>\n",
       "    <tr>\n",
       "      <th>8</th>\n",
       "      <td>2022-12-30 19:36:49+00:00</td>\n",
       "      <td>@DodoPicard You're in Eastafrica, he probably ...</td>\n",
       "      <td>youre in eastafrica he probably knows amerix</td>\n",
       "      <td>Neutral</td>\n",
       "      <td>7</td>\n",
       "      <td>11</td>\n",
       "    </tr>\n",
       "    <tr>\n",
       "      <th>10</th>\n",
       "      <td>2022-12-30 19:24:08+00:00</td>\n",
       "      <td>Amerix student of the year</td>\n",
       "      <td>amerix student of the year</td>\n",
       "      <td>Neutral</td>\n",
       "      <td>5</td>\n",
       "      <td>6</td>\n",
       "    </tr>\n",
       "    <tr>\n",
       "      <th>11</th>\n",
       "      <td>2022-12-30 19:19:13+00:00</td>\n",
       "      <td>@sholla_saddam These are notes from @amerix's ...</td>\n",
       "      <td>these are notes from masculinitysaturday classes</td>\n",
       "      <td>Neutral</td>\n",
       "      <td>6</td>\n",
       "      <td>10</td>\n",
       "    </tr>\n",
       "    <tr>\n",
       "      <th>12</th>\n",
       "      <td>2022-12-30 19:14:42+00:00</td>\n",
       "      <td>@amerix I appreciate the intent of this, but I...</td>\n",
       "      <td>i appreciate the intent of this but i couldnt ...</td>\n",
       "      <td>Positive</td>\n",
       "      <td>49</td>\n",
       "      <td>51</td>\n",
       "    </tr>\n",
       "    <tr>\n",
       "      <th>13</th>\n",
       "      <td>2022-12-30 19:08:24+00:00</td>\n",
       "      <td>@Mynames_Jefff @Biancawamu2 @amerix Wouldn't b...</td>\n",
       "      <td>wouldnt be surprised</td>\n",
       "      <td>Negative</td>\n",
       "      <td>3</td>\n",
       "      <td>4</td>\n",
       "    </tr>\n",
       "    <tr>\n",
       "      <th>14</th>\n",
       "      <td>2022-12-30 19:02:43+00:00</td>\n",
       "      <td>@sharbabababa @Biancawamu2 could be @amerix wife🤷</td>\n",
       "      <td>could be wife person shrugging</td>\n",
       "      <td>Neutral</td>\n",
       "      <td>5</td>\n",
       "      <td>5</td>\n",
       "    </tr>\n",
       "    <tr>\n",
       "      <th>15</th>\n",
       "      <td>2022-12-30 18:57:05+00:00</td>\n",
       "      <td>@DyeAnna7 @amerix @kibe Was raised by toxic co...</td>\n",
       "      <td>was raised by toxic community and careless soc...</td>\n",
       "      <td>Negative</td>\n",
       "      <td>35</td>\n",
       "      <td>35</td>\n",
       "    </tr>\n",
       "    <tr>\n",
       "      <th>16</th>\n",
       "      <td>2022-12-30 18:56:07+00:00</td>\n",
       "      <td>@butdarkacademia @purevibeezz good thing is An...</td>\n",
       "      <td>good thing is andrew kibe and amerix are still...</td>\n",
       "      <td>Positive</td>\n",
       "      <td>15</td>\n",
       "      <td>17</td>\n",
       "    </tr>\n",
       "    <tr>\n",
       "      <th>17</th>\n",
       "      <td>2022-12-30 18:34:39+00:00</td>\n",
       "      <td>@amerix The system needs you sick and depresse...</td>\n",
       "      <td>the system needs you sick and depressed they m...</td>\n",
       "      <td>Negative</td>\n",
       "      <td>11</td>\n",
       "      <td>11</td>\n",
       "    </tr>\n",
       "    <tr>\n",
       "      <th>18</th>\n",
       "      <td>2022-12-30 18:32:47+00:00</td>\n",
       "      <td>As we end the year 2022, kindly pass my messag...</td>\n",
       "      <td>as we end the year 2022 kindly pass my message...</td>\n",
       "      <td>Positive</td>\n",
       "      <td>25</td>\n",
       "      <td>28</td>\n",
       "    </tr>\n",
       "    <tr>\n",
       "      <th>20</th>\n",
       "      <td>2022-12-30 18:13:04+00:00</td>\n",
       "      <td>@amerix thanks for the encouragement, God has ...</td>\n",
       "      <td>thanks for the encouragement god has been fait...</td>\n",
       "      <td>Positive</td>\n",
       "      <td>11</td>\n",
       "      <td>15</td>\n",
       "    </tr>\n",
       "    <tr>\n",
       "      <th>21</th>\n",
       "      <td>2022-12-30 17:59:25+00:00</td>\n",
       "      <td>What if they one Day arrest Amerix for \"incite...</td>\n",
       "      <td>what if they one day arrest amerix for incitem...</td>\n",
       "      <td>Negative</td>\n",
       "      <td>24</td>\n",
       "      <td>29</td>\n",
       "    </tr>\n",
       "  </tbody>\n",
       "</table>\n",
       "</div>"
      ],
      "text/plain": [
       "            tweet_created_at  \\\n",
       "0  2022-12-30 22:37:46+00:00   \n",
       "1  2022-12-30 22:30:58+00:00   \n",
       "2  2022-12-30 22:18:00+00:00   \n",
       "3  2022-12-30 20:42:54+00:00   \n",
       "4  2022-12-30 20:32:23+00:00   \n",
       "5  2022-12-30 20:25:56+00:00   \n",
       "6  2022-12-30 20:22:24+00:00   \n",
       "7  2022-12-30 20:10:49+00:00   \n",
       "8  2022-12-30 19:36:49+00:00   \n",
       "10 2022-12-30 19:24:08+00:00   \n",
       "11 2022-12-30 19:19:13+00:00   \n",
       "12 2022-12-30 19:14:42+00:00   \n",
       "13 2022-12-30 19:08:24+00:00   \n",
       "14 2022-12-30 19:02:43+00:00   \n",
       "15 2022-12-30 18:57:05+00:00   \n",
       "16 2022-12-30 18:56:07+00:00   \n",
       "17 2022-12-30 18:34:39+00:00   \n",
       "18 2022-12-30 18:32:47+00:00   \n",
       "20 2022-12-30 18:13:04+00:00   \n",
       "21 2022-12-30 17:59:25+00:00   \n",
       "\n",
       "                                                 text  \\\n",
       "0   Men who have refused to listen to/attend @amer...   \n",
       "1                        @OvOBrezzzy Take amerix next   \n",
       "2   @AyodeleYo11 @amerix Nah I’m good my masculini...   \n",
       "3   @Amerix_DontSimp There is no need for dating i...   \n",
       "4   @DyeAnna7 @amerix @kibe From what cos nothing ...   \n",
       "5   @salim_the_don @MwendiaJnr I see you unblocked...   \n",
       "6   @german_kenyan @ML_Philosophy 🤣 yes they are a...   \n",
       "7   @PadreMusa Amerix once said the alcohol menace...   \n",
       "8   @DodoPicard You're in Eastafrica, he probably ...   \n",
       "10                         Amerix student of the year   \n",
       "11  @sholla_saddam These are notes from @amerix's ...   \n",
       "12  @amerix I appreciate the intent of this, but I...   \n",
       "13  @Mynames_Jefff @Biancawamu2 @amerix Wouldn't b...   \n",
       "14  @sharbabababa @Biancawamu2 could be @amerix wife🤷   \n",
       "15  @DyeAnna7 @amerix @kibe Was raised by toxic co...   \n",
       "16  @butdarkacademia @purevibeezz good thing is An...   \n",
       "17  @amerix The system needs you sick and depresse...   \n",
       "18  As we end the year 2022, kindly pass my messag...   \n",
       "20  @amerix thanks for the encouragement, God has ...   \n",
       "21  What if they one Day arrest Amerix for \"incite...   \n",
       "\n",
       "                                    text_clean_deeper Sentiment  text_len  \\\n",
       "0   men who have refused to listen toattend classe...  Negative        36   \n",
       "1                                    take amerix next   Neutral         3   \n",
       "2   nah im good my masculinity health and wellness...  Positive        12   \n",
       "3      there is no need for dating in the first place  Negative        10   \n",
       "4   from what cos nothing is changing and if we go...  Positive        45   \n",
       "5   i see you unblocked me one minute uko kwa amer...  Negative        66   \n",
       "6   yes they are also those who can cook i would r...  Negative        52   \n",
       "7   amerix once said the alcohol menace is wreckin...  Negative        46   \n",
       "8        youre in eastafrica he probably knows amerix   Neutral         7   \n",
       "10                         amerix student of the year   Neutral         5   \n",
       "11   these are notes from masculinitysaturday classes   Neutral         6   \n",
       "12  i appreciate the intent of this but i couldnt ...  Positive        49   \n",
       "13                               wouldnt be surprised  Negative         3   \n",
       "14                     could be wife person shrugging   Neutral         5   \n",
       "15  was raised by toxic community and careless soc...  Negative        35   \n",
       "16  good thing is andrew kibe and amerix are still...  Positive        15   \n",
       "17  the system needs you sick and depressed they m...  Negative        11   \n",
       "18  as we end the year 2022 kindly pass my message...  Positive        25   \n",
       "20  thanks for the encouragement god has been fait...  Positive        11   \n",
       "21  what if they one day arrest amerix for incitem...  Negative        24   \n",
       "\n",
       "    token_lens  \n",
       "0           43  \n",
       "1            4  \n",
       "2           13  \n",
       "3           10  \n",
       "4           46  \n",
       "5           84  \n",
       "6           59  \n",
       "7           50  \n",
       "8           11  \n",
       "10           6  \n",
       "11          10  \n",
       "12          51  \n",
       "13           4  \n",
       "14           5  \n",
       "15          35  \n",
       "16          17  \n",
       "17          11  \n",
       "18          28  \n",
       "20          15  \n",
       "21          29  "
      ]
     },
     "execution_count": 54,
     "metadata": {},
     "output_type": "execute_result"
    }
   ],
   "source": [
    "df.head(20)"
   ]
  },
  {
   "cell_type": "code",
   "execution_count": 55,
   "id": "1f6d1842",
   "metadata": {
    "execution": {
     "iopub.execute_input": "2023-02-16T12:43:57.368714Z",
     "iopub.status.busy": "2023-02-16T12:43:57.368295Z",
     "iopub.status.idle": "2023-02-16T12:43:57.437822Z",
     "shell.execute_reply": "2023-02-16T12:43:57.436677Z"
    },
    "papermill": {
     "duration": 0.100101,
     "end_time": "2023-02-16T12:43:57.440721",
     "exception": false,
     "start_time": "2023-02-16T12:43:57.340620",
     "status": "completed"
    },
    "tags": []
   },
   "outputs": [],
   "source": [
    "df = df.sort_values(by='token_lens', ascending=False)"
   ]
  },
  {
   "cell_type": "code",
   "execution_count": 56,
   "id": "afd0fa99",
   "metadata": {
    "execution": {
     "iopub.execute_input": "2023-02-16T12:43:57.495424Z",
     "iopub.status.busy": "2023-02-16T12:43:57.494785Z",
     "iopub.status.idle": "2023-02-16T12:43:57.511743Z",
     "shell.execute_reply": "2023-02-16T12:43:57.510635Z"
    },
    "papermill": {
     "duration": 0.047272,
     "end_time": "2023-02-16T12:43:57.514065",
     "exception": false,
     "start_time": "2023-02-16T12:43:57.466793",
     "status": "completed"
    },
    "tags": []
   },
   "outputs": [
    {
     "data": {
      "text/html": [
       "<div>\n",
       "<style scoped>\n",
       "    .dataframe tbody tr th:only-of-type {\n",
       "        vertical-align: middle;\n",
       "    }\n",
       "\n",
       "    .dataframe tbody tr th {\n",
       "        vertical-align: top;\n",
       "    }\n",
       "\n",
       "    .dataframe thead th {\n",
       "        text-align: right;\n",
       "    }\n",
       "</style>\n",
       "<table border=\"1\" class=\"dataframe\">\n",
       "  <thead>\n",
       "    <tr style=\"text-align: right;\">\n",
       "      <th></th>\n",
       "      <th>tweet_created_at</th>\n",
       "      <th>text</th>\n",
       "      <th>text_clean_deeper</th>\n",
       "      <th>Sentiment</th>\n",
       "      <th>text_len</th>\n",
       "      <th>token_lens</th>\n",
       "    </tr>\n",
       "  </thead>\n",
       "  <tbody>\n",
       "    <tr>\n",
       "      <th>14286</th>\n",
       "      <td>2022-12-18 17:03:59+00:00</td>\n",
       "      <td>@amerix 😂😂😂😂😂😂😂😂😂😂😂😂😂😂😂😂😂😂😂😂😂😂😂😂😂😂😂😂😂😂😂😂😂😂😂😂😂😂...</td>\n",
       "      <td>man i love a good satire account calling selfi...</td>\n",
       "      <td>Positive</td>\n",
       "      <td>482</td>\n",
       "      <td>483</td>\n",
       "    </tr>\n",
       "    <tr>\n",
       "      <th>5505</th>\n",
       "      <td>2022-12-21 15:32:00+00:00</td>\n",
       "      <td>@filip_254 @syrus_tama @amerix Use your block ...</td>\n",
       "      <td>use your block button if my 5 emojis ruined yo...</td>\n",
       "      <td>Negative</td>\n",
       "      <td>301</td>\n",
       "      <td>303</td>\n",
       "    </tr>\n",
       "    <tr>\n",
       "      <th>181177</th>\n",
       "      <td>2022-10-15 15:06:17+00:00</td>\n",
       "      <td>Let us plant Trees     🌴🌲🌲🌲🌴🌴🌴🌲🌲🌲🌲🌴🌴🌴🌴🌴🌴🌲🌲🌲🌲🌲🌴...</td>\n",
       "      <td>let us plant trees masculinitysaturday palm tr...</td>\n",
       "      <td>Neutral</td>\n",
       "      <td>241</td>\n",
       "      <td>245</td>\n",
       "    </tr>\n",
       "    <tr>\n",
       "      <th>166347</th>\n",
       "      <td>2022-12-24 18:27:40+00:00</td>\n",
       "      <td>When Bae has you in your feelings like 😍😍😁😘😘👫💏...</td>\n",
       "      <td>when bae has you in your feelings like masculi...</td>\n",
       "      <td>Positive</td>\n",
       "      <td>232</td>\n",
       "      <td>243</td>\n",
       "    </tr>\n",
       "    <tr>\n",
       "      <th>108948</th>\n",
       "      <td>2022-10-05 23:55:55+00:00</td>\n",
       "      <td>@DTNEtiquette K I can do that....😀😀😀😀😀😀😀😀😀😀😀😀😀...</td>\n",
       "      <td>k i can do that i have extra ones to share bet...</td>\n",
       "      <td>Positive</td>\n",
       "      <td>226</td>\n",
       "      <td>227</td>\n",
       "    </tr>\n",
       "    <tr>\n",
       "      <th>145636</th>\n",
       "      <td>2022-07-07 22:07:24+00:00</td>\n",
       "      <td>38 items and counting. Truly can’t believe how...</td>\n",
       "      <td>38 items and counting truly cant believe how c...</td>\n",
       "      <td>Positive</td>\n",
       "      <td>153</td>\n",
       "      <td>165</td>\n",
       "    </tr>\n",
       "    <tr>\n",
       "      <th>8167</th>\n",
       "      <td>2022-12-20 08:21:46+00:00</td>\n",
       "      <td>💚💚💚💚💚💚💚💚💚💚💚💚💚💚💚💚💚💚 💚💚💚💚💚YESTERDAY FIXED GAMES ...</td>\n",
       "      <td>yesterday fixed games won successfully as expe...</td>\n",
       "      <td>Positive</td>\n",
       "      <td>150</td>\n",
       "      <td>162</td>\n",
       "    </tr>\n",
       "    <tr>\n",
       "      <th>29232</th>\n",
       "      <td>2022-12-07 07:31:58+00:00</td>\n",
       "      <td>@amerix @RailaOdinga unfat\\n@AtwoliDza unfat o...</td>\n",
       "      <td>unfat unfat old man my friendunfat unfat sir u...</td>\n",
       "      <td>Neutral</td>\n",
       "      <td>154</td>\n",
       "      <td>161</td>\n",
       "    </tr>\n",
       "    <tr>\n",
       "      <th>164578</th>\n",
       "      <td>2022-05-03 02:48:27+00:00</td>\n",
       "      <td>@ThingsSwimming @LadyAndromeda @swimhardy @Row...</td>\n",
       "      <td>thank you for this 7th grade ss teacher trying...</td>\n",
       "      <td>Positive</td>\n",
       "      <td>141</td>\n",
       "      <td>152</td>\n",
       "    </tr>\n",
       "    <tr>\n",
       "      <th>5033</th>\n",
       "      <td>2022-12-21 19:39:14+00:00</td>\n",
       "      <td>@ValOnchari @amerix Amerix:Today I am going to...</td>\n",
       "      <td>amerixtoday i am going to harvest sweet potato...</td>\n",
       "      <td>Positive</td>\n",
       "      <td>137</td>\n",
       "      <td>149</td>\n",
       "    </tr>\n",
       "    <tr>\n",
       "      <th>147984</th>\n",
       "      <td>2022-06-30 04:02:04+00:00</td>\n",
       "      <td>A retweet means the world to #teachertwitter #...</td>\n",
       "      <td>a retweet means the world to teachertwitter cl...</td>\n",
       "      <td>Positive</td>\n",
       "      <td>136</td>\n",
       "      <td>149</td>\n",
       "    </tr>\n",
       "    <tr>\n",
       "      <th>165396</th>\n",
       "      <td>2022-04-29 21:13:08+00:00</td>\n",
       "      <td>Day 2!!!#TeacherAppreciationWeek #teachertwitt...</td>\n",
       "      <td>day 2teacherappreciationweek teachertwitter th...</td>\n",
       "      <td>Positive</td>\n",
       "      <td>131</td>\n",
       "      <td>144</td>\n",
       "    </tr>\n",
       "    <tr>\n",
       "      <th>154462</th>\n",
       "      <td>2022-06-08 11:44:34+00:00</td>\n",
       "      <td>🗣Wishing the @CobbSchools @CobbInTech team the...</td>\n",
       "      <td>wishing the team the best today the team has i...</td>\n",
       "      <td>Positive</td>\n",
       "      <td>112</td>\n",
       "      <td>143</td>\n",
       "    </tr>\n",
       "    <tr>\n",
       "      <th>98658</th>\n",
       "      <td>2022-11-07 22:49:01+00:00</td>\n",
       "      <td>💦 ALL HUMANS are #BetterTogether\\n👋🏼✊🏿✌🏾🤜🏻🤛🏽👍🏼...</td>\n",
       "      <td>all humans are bettertogether voteblue resist ...</td>\n",
       "      <td>Neutral</td>\n",
       "      <td>94</td>\n",
       "      <td>141</td>\n",
       "    </tr>\n",
       "    <tr>\n",
       "      <th>73057</th>\n",
       "      <td>2022-10-29 05:34:53+00:00</td>\n",
       "      <td>@Jordn_mu @amerix @Drayk___ Lemme retweet, sha...</td>\n",
       "      <td>lemme retweet share screenshot and tag this fe...</td>\n",
       "      <td>Positive</td>\n",
       "      <td>136</td>\n",
       "      <td>140</td>\n",
       "    </tr>\n",
       "    <tr>\n",
       "      <th>124877</th>\n",
       "      <td>2022-08-21 23:58:59+00:00</td>\n",
       "      <td>Keep PUSHING. Multiple AEDs are so important f...</td>\n",
       "      <td>keep pushing multiple aeds are so important fo...</td>\n",
       "      <td>Positive</td>\n",
       "      <td>121</td>\n",
       "      <td>135</td>\n",
       "    </tr>\n",
       "    <tr>\n",
       "      <th>99068</th>\n",
       "      <td>2022-11-06 02:45:54+00:00</td>\n",
       "      <td>🤣🤣🤣🤣🤣🤣🤣🤣🤣 this is my only points slip this was...</td>\n",
       "      <td>this is my only points slip this was 80k this ...</td>\n",
       "      <td>Positive</td>\n",
       "      <td>116</td>\n",
       "      <td>134</td>\n",
       "    </tr>\n",
       "    <tr>\n",
       "      <th>137921</th>\n",
       "      <td>2022-07-27 03:07:14+00:00</td>\n",
       "      <td>If you’re seeing this, I want you to have the ...</td>\n",
       "      <td>if youre seeing this i want you to have the be...</td>\n",
       "      <td>Positive</td>\n",
       "      <td>128</td>\n",
       "      <td>133</td>\n",
       "    </tr>\n",
       "    <tr>\n",
       "      <th>40390</th>\n",
       "      <td>2022-11-29 17:24:36+00:00</td>\n",
       "      <td>@amerix \\n🫢🫢🫢🫢🫢🫢🫢😮😮😮😮😮😮😮😮😮😮😮 what prescription...</td>\n",
       "      <td>what prescription is this for diabetes whether...</td>\n",
       "      <td>Negative</td>\n",
       "      <td>128</td>\n",
       "      <td>133</td>\n",
       "    </tr>\n",
       "    <tr>\n",
       "      <th>143110</th>\n",
       "      <td>2022-07-15 11:44:42+00:00</td>\n",
       "      <td>Ok now I can reveal the weekend wishlist drop....</td>\n",
       "      <td>ok now i can reveal the weekend wishlist drop ...</td>\n",
       "      <td>Positive</td>\n",
       "      <td>118</td>\n",
       "      <td>132</td>\n",
       "    </tr>\n",
       "  </tbody>\n",
       "</table>\n",
       "</div>"
      ],
      "text/plain": [
       "                tweet_created_at  \\\n",
       "14286  2022-12-18 17:03:59+00:00   \n",
       "5505   2022-12-21 15:32:00+00:00   \n",
       "181177 2022-10-15 15:06:17+00:00   \n",
       "166347 2022-12-24 18:27:40+00:00   \n",
       "108948 2022-10-05 23:55:55+00:00   \n",
       "145636 2022-07-07 22:07:24+00:00   \n",
       "8167   2022-12-20 08:21:46+00:00   \n",
       "29232  2022-12-07 07:31:58+00:00   \n",
       "164578 2022-05-03 02:48:27+00:00   \n",
       "5033   2022-12-21 19:39:14+00:00   \n",
       "147984 2022-06-30 04:02:04+00:00   \n",
       "165396 2022-04-29 21:13:08+00:00   \n",
       "154462 2022-06-08 11:44:34+00:00   \n",
       "98658  2022-11-07 22:49:01+00:00   \n",
       "73057  2022-10-29 05:34:53+00:00   \n",
       "124877 2022-08-21 23:58:59+00:00   \n",
       "99068  2022-11-06 02:45:54+00:00   \n",
       "137921 2022-07-27 03:07:14+00:00   \n",
       "40390  2022-11-29 17:24:36+00:00   \n",
       "143110 2022-07-15 11:44:42+00:00   \n",
       "\n",
       "                                                     text  \\\n",
       "14286   @amerix 😂😂😂😂😂😂😂😂😂😂😂😂😂😂😂😂😂😂😂😂😂😂😂😂😂😂😂😂😂😂😂😂😂😂😂😂😂😂...   \n",
       "5505    @filip_254 @syrus_tama @amerix Use your block ...   \n",
       "181177  Let us plant Trees     🌴🌲🌲🌲🌴🌴🌴🌲🌲🌲🌲🌴🌴🌴🌴🌴🌴🌲🌲🌲🌲🌲🌴...   \n",
       "166347  When Bae has you in your feelings like 😍😍😁😘😘👫💏...   \n",
       "108948  @DTNEtiquette K I can do that....😀😀😀😀😀😀😀😀😀😀😀😀😀...   \n",
       "145636  38 items and counting. Truly can’t believe how...   \n",
       "8167    💚💚💚💚💚💚💚💚💚💚💚💚💚💚💚💚💚💚 💚💚💚💚💚YESTERDAY FIXED GAMES ...   \n",
       "29232   @amerix @RailaOdinga unfat\\n@AtwoliDza unfat o...   \n",
       "164578  @ThingsSwimming @LadyAndromeda @swimhardy @Row...   \n",
       "5033    @ValOnchari @amerix Amerix:Today I am going to...   \n",
       "147984  A retweet means the world to #teachertwitter #...   \n",
       "165396  Day 2!!!#TeacherAppreciationWeek #teachertwitt...   \n",
       "154462  🗣Wishing the @CobbSchools @CobbInTech team the...   \n",
       "98658   💦 ALL HUMANS are #BetterTogether\\n👋🏼✊🏿✌🏾🤜🏻🤛🏽👍🏼...   \n",
       "73057   @Jordn_mu @amerix @Drayk___ Lemme retweet, sha...   \n",
       "124877  Keep PUSHING. Multiple AEDs are so important f...   \n",
       "99068   🤣🤣🤣🤣🤣🤣🤣🤣🤣 this is my only points slip this was...   \n",
       "137921  If you’re seeing this, I want you to have the ...   \n",
       "40390   @amerix \\n🫢🫢🫢🫢🫢🫢🫢😮😮😮😮😮😮😮😮😮😮😮 what prescription...   \n",
       "143110  Ok now I can reveal the weekend wishlist drop....   \n",
       "\n",
       "                                        text_clean_deeper Sentiment  text_len  \\\n",
       "14286   man i love a good satire account calling selfi...  Positive       482   \n",
       "5505    use your block button if my 5 emojis ruined yo...  Negative       301   \n",
       "181177  let us plant trees masculinitysaturday palm tr...   Neutral       241   \n",
       "166347  when bae has you in your feelings like masculi...  Positive       232   \n",
       "108948  k i can do that i have extra ones to share bet...  Positive       226   \n",
       "145636  38 items and counting truly cant believe how c...  Positive       153   \n",
       "8167    yesterday fixed games won successfully as expe...  Positive       150   \n",
       "29232   unfat unfat old man my friendunfat unfat sir u...   Neutral       154   \n",
       "164578  thank you for this 7th grade ss teacher trying...  Positive       141   \n",
       "5033    amerixtoday i am going to harvest sweet potato...  Positive       137   \n",
       "147984  a retweet means the world to teachertwitter cl...  Positive       136   \n",
       "165396  day 2teacherappreciationweek teachertwitter th...  Positive       131   \n",
       "154462  wishing the team the best today the team has i...  Positive       112   \n",
       "98658   all humans are bettertogether voteblue resist ...   Neutral        94   \n",
       "73057   lemme retweet share screenshot and tag this fe...  Positive       136   \n",
       "124877  keep pushing multiple aeds are so important fo...  Positive       121   \n",
       "99068   this is my only points slip this was 80k this ...  Positive       116   \n",
       "137921  if youre seeing this i want you to have the be...  Positive       128   \n",
       "40390   what prescription is this for diabetes whether...  Negative       128   \n",
       "143110  ok now i can reveal the weekend wishlist drop ...  Positive       118   \n",
       "\n",
       "        token_lens  \n",
       "14286          483  \n",
       "5505           303  \n",
       "181177         245  \n",
       "166347         243  \n",
       "108948         227  \n",
       "145636         165  \n",
       "8167           162  \n",
       "29232          161  \n",
       "164578         152  \n",
       "5033           149  \n",
       "147984         149  \n",
       "165396         144  \n",
       "154462         143  \n",
       "98658          141  \n",
       "73057          140  \n",
       "124877         135  \n",
       "99068          134  \n",
       "137921         133  \n",
       "40390          133  \n",
       "143110         132  "
      ]
     },
     "execution_count": 56,
     "metadata": {},
     "output_type": "execute_result"
    }
   ],
   "source": [
    "df.head(20)"
   ]
  },
  {
   "cell_type": "code",
   "execution_count": 57,
   "id": "7d21d892",
   "metadata": {
    "execution": {
     "iopub.execute_input": "2023-02-16T12:43:57.569947Z",
     "iopub.status.busy": "2023-02-16T12:43:57.569322Z",
     "iopub.status.idle": "2023-02-16T12:43:57.575021Z",
     "shell.execute_reply": "2023-02-16T12:43:57.574226Z"
    },
    "papermill": {
     "duration": 0.036141,
     "end_time": "2023-02-16T12:43:57.577263",
     "exception": false,
     "start_time": "2023-02-16T12:43:57.541122",
     "status": "completed"
    },
    "tags": []
   },
   "outputs": [],
   "source": [
    "df = df.iloc[12:]"
   ]
  },
  {
   "cell_type": "code",
   "execution_count": 58,
   "id": "75554dff",
   "metadata": {
    "execution": {
     "iopub.execute_input": "2023-02-16T12:43:57.633220Z",
     "iopub.status.busy": "2023-02-16T12:43:57.632584Z",
     "iopub.status.idle": "2023-02-16T12:43:57.649004Z",
     "shell.execute_reply": "2023-02-16T12:43:57.647507Z"
    },
    "papermill": {
     "duration": 0.047495,
     "end_time": "2023-02-16T12:43:57.651699",
     "exception": false,
     "start_time": "2023-02-16T12:43:57.604204",
     "status": "completed"
    },
    "tags": []
   },
   "outputs": [
    {
     "data": {
      "text/html": [
       "<div>\n",
       "<style scoped>\n",
       "    .dataframe tbody tr th:only-of-type {\n",
       "        vertical-align: middle;\n",
       "    }\n",
       "\n",
       "    .dataframe tbody tr th {\n",
       "        vertical-align: top;\n",
       "    }\n",
       "\n",
       "    .dataframe thead th {\n",
       "        text-align: right;\n",
       "    }\n",
       "</style>\n",
       "<table border=\"1\" class=\"dataframe\">\n",
       "  <thead>\n",
       "    <tr style=\"text-align: right;\">\n",
       "      <th></th>\n",
       "      <th>tweet_created_at</th>\n",
       "      <th>text</th>\n",
       "      <th>text_clean_deeper</th>\n",
       "      <th>Sentiment</th>\n",
       "      <th>text_len</th>\n",
       "      <th>token_lens</th>\n",
       "    </tr>\n",
       "  </thead>\n",
       "  <tbody>\n",
       "    <tr>\n",
       "      <th>154462</th>\n",
       "      <td>2022-06-08 11:44:34+00:00</td>\n",
       "      <td>🗣Wishing the @CobbSchools @CobbInTech team the...</td>\n",
       "      <td>wishing the team the best today the team has i...</td>\n",
       "      <td>Positive</td>\n",
       "      <td>112</td>\n",
       "      <td>143</td>\n",
       "    </tr>\n",
       "    <tr>\n",
       "      <th>98658</th>\n",
       "      <td>2022-11-07 22:49:01+00:00</td>\n",
       "      <td>💦 ALL HUMANS are #BetterTogether\\n👋🏼✊🏿✌🏾🤜🏻🤛🏽👍🏼...</td>\n",
       "      <td>all humans are bettertogether voteblue resist ...</td>\n",
       "      <td>Neutral</td>\n",
       "      <td>94</td>\n",
       "      <td>141</td>\n",
       "    </tr>\n",
       "    <tr>\n",
       "      <th>73057</th>\n",
       "      <td>2022-10-29 05:34:53+00:00</td>\n",
       "      <td>@Jordn_mu @amerix @Drayk___ Lemme retweet, sha...</td>\n",
       "      <td>lemme retweet share screenshot and tag this fe...</td>\n",
       "      <td>Positive</td>\n",
       "      <td>136</td>\n",
       "      <td>140</td>\n",
       "    </tr>\n",
       "    <tr>\n",
       "      <th>124877</th>\n",
       "      <td>2022-08-21 23:58:59+00:00</td>\n",
       "      <td>Keep PUSHING. Multiple AEDs are so important f...</td>\n",
       "      <td>keep pushing multiple aeds are so important fo...</td>\n",
       "      <td>Positive</td>\n",
       "      <td>121</td>\n",
       "      <td>135</td>\n",
       "    </tr>\n",
       "    <tr>\n",
       "      <th>99068</th>\n",
       "      <td>2022-11-06 02:45:54+00:00</td>\n",
       "      <td>🤣🤣🤣🤣🤣🤣🤣🤣🤣 this is my only points slip this was...</td>\n",
       "      <td>this is my only points slip this was 80k this ...</td>\n",
       "      <td>Positive</td>\n",
       "      <td>116</td>\n",
       "      <td>134</td>\n",
       "    </tr>\n",
       "    <tr>\n",
       "      <th>137921</th>\n",
       "      <td>2022-07-27 03:07:14+00:00</td>\n",
       "      <td>If you’re seeing this, I want you to have the ...</td>\n",
       "      <td>if youre seeing this i want you to have the be...</td>\n",
       "      <td>Positive</td>\n",
       "      <td>128</td>\n",
       "      <td>133</td>\n",
       "    </tr>\n",
       "    <tr>\n",
       "      <th>40390</th>\n",
       "      <td>2022-11-29 17:24:36+00:00</td>\n",
       "      <td>@amerix \\n🫢🫢🫢🫢🫢🫢🫢😮😮😮😮😮😮😮😮😮😮😮 what prescription...</td>\n",
       "      <td>what prescription is this for diabetes whether...</td>\n",
       "      <td>Negative</td>\n",
       "      <td>128</td>\n",
       "      <td>133</td>\n",
       "    </tr>\n",
       "    <tr>\n",
       "      <th>143110</th>\n",
       "      <td>2022-07-15 11:44:42+00:00</td>\n",
       "      <td>Ok now I can reveal the weekend wishlist drop....</td>\n",
       "      <td>ok now i can reveal the weekend wishlist drop ...</td>\n",
       "      <td>Positive</td>\n",
       "      <td>118</td>\n",
       "      <td>132</td>\n",
       "    </tr>\n",
       "    <tr>\n",
       "      <th>6918</th>\n",
       "      <td>2022-12-20 17:08:20+00:00</td>\n",
       "      <td>@oldagepoopman35 @amerix Nbr of flags in 5011 ...</td>\n",
       "      <td>nbr of flags in 5011 usernames who liked 279 3...</td>\n",
       "      <td>Positive</td>\n",
       "      <td>95</td>\n",
       "      <td>131</td>\n",
       "    </tr>\n",
       "    <tr>\n",
       "      <th>148347</th>\n",
       "      <td>2022-06-29 01:29:41+00:00</td>\n",
       "      <td>Any help would be forever appreciated. Even a ...</td>\n",
       "      <td>any help would be forever appreciated even a r...</td>\n",
       "      <td>Positive</td>\n",
       "      <td>118</td>\n",
       "      <td>131</td>\n",
       "    </tr>\n",
       "    <tr>\n",
       "      <th>145489</th>\n",
       "      <td>2022-07-08 13:09:11+00:00</td>\n",
       "      <td>Be kind to each other. Be positive. These litt...</td>\n",
       "      <td>be kind to each other be positive these little...</td>\n",
       "      <td>Positive</td>\n",
       "      <td>127</td>\n",
       "      <td>129</td>\n",
       "    </tr>\n",
       "    <tr>\n",
       "      <th>79125</th>\n",
       "      <td>2022-10-19 16:47:42+00:00</td>\n",
       "      <td>@ThoughtsNation2 @amerix You wish I was fat? 🤣...</td>\n",
       "      <td>you wish i was fat in your dreams rolling on t...</td>\n",
       "      <td>Positive</td>\n",
       "      <td>128</td>\n",
       "      <td>128</td>\n",
       "    </tr>\n",
       "    <tr>\n",
       "      <th>99648</th>\n",
       "      <td>2022-11-04 02:32:07+00:00</td>\n",
       "      <td>😮‍💨💵💵💵💵😮‍💨 didnt even wanna bet today trash as...</td>\n",
       "      <td>didnt even wanna bet today trash ass matchups ...</td>\n",
       "      <td>Positive</td>\n",
       "      <td>105</td>\n",
       "      <td>128</td>\n",
       "    </tr>\n",
       "    <tr>\n",
       "      <th>11175</th>\n",
       "      <td>2022-12-19 11:39:56+00:00</td>\n",
       "      <td>@Bhela48 @amerix Nbr of flags in 5062 username...</td>\n",
       "      <td>nbr of flags in 5062 usernames who liked 244 1...</td>\n",
       "      <td>Positive</td>\n",
       "      <td>94</td>\n",
       "      <td>126</td>\n",
       "    </tr>\n",
       "    <tr>\n",
       "      <th>9019</th>\n",
       "      <td>2022-12-19 22:16:29+00:00</td>\n",
       "      <td>@Stychinsky @amerix Nbr of flags in 5050 usern...</td>\n",
       "      <td>nbr of flags in 5050 usernames who liked 234 1...</td>\n",
       "      <td>Positive</td>\n",
       "      <td>93</td>\n",
       "      <td>125</td>\n",
       "    </tr>\n",
       "    <tr>\n",
       "      <th>158823</th>\n",
       "      <td>2022-05-22 18:12:55+00:00</td>\n",
       "      <td>If you are seeing this, it is going to be an a...</td>\n",
       "      <td>if you are seeing this it is going to be an aw...</td>\n",
       "      <td>Positive</td>\n",
       "      <td>115</td>\n",
       "      <td>125</td>\n",
       "    </tr>\n",
       "    <tr>\n",
       "      <th>232108</th>\n",
       "      <td>2022-11-02 15:57:53+00:00</td>\n",
       "      <td>Incredible Noodle in 5 minutes❗️\\n👇👇👇👇👇👇👇👇👇👇👇👇...</td>\n",
       "      <td>incredible noodle in 5 minutes foodneedsafarme...</td>\n",
       "      <td>Neutral</td>\n",
       "      <td>115</td>\n",
       "      <td>125</td>\n",
       "    </tr>\n",
       "    <tr>\n",
       "      <th>11778</th>\n",
       "      <td>2022-12-19 06:34:05+00:00</td>\n",
       "      <td>@p23570 @amerix Nbr of flags in 5066 usernames...</td>\n",
       "      <td>nbr of flags in 5066 usernames who liked 250 2...</td>\n",
       "      <td>Positive</td>\n",
       "      <td>94</td>\n",
       "      <td>125</td>\n",
       "    </tr>\n",
       "    <tr>\n",
       "      <th>159392</th>\n",
       "      <td>2022-05-20 09:40:34+00:00</td>\n",
       "      <td>If you are seeing this, I hope you have the ha...</td>\n",
       "      <td>if you are seeing this i hope you have the hap...</td>\n",
       "      <td>Positive</td>\n",
       "      <td>114</td>\n",
       "      <td>124</td>\n",
       "    </tr>\n",
       "    <tr>\n",
       "      <th>12841</th>\n",
       "      <td>2022-12-19 00:23:42+00:00</td>\n",
       "      <td>@DmitriyUngern @amerix Nbr of flags in 5088 us...</td>\n",
       "      <td>nbr of flags in 5088 usernames who liked 257 2...</td>\n",
       "      <td>Positive</td>\n",
       "      <td>94</td>\n",
       "      <td>124</td>\n",
       "    </tr>\n",
       "  </tbody>\n",
       "</table>\n",
       "</div>"
      ],
      "text/plain": [
       "                tweet_created_at  \\\n",
       "154462 2022-06-08 11:44:34+00:00   \n",
       "98658  2022-11-07 22:49:01+00:00   \n",
       "73057  2022-10-29 05:34:53+00:00   \n",
       "124877 2022-08-21 23:58:59+00:00   \n",
       "99068  2022-11-06 02:45:54+00:00   \n",
       "137921 2022-07-27 03:07:14+00:00   \n",
       "40390  2022-11-29 17:24:36+00:00   \n",
       "143110 2022-07-15 11:44:42+00:00   \n",
       "6918   2022-12-20 17:08:20+00:00   \n",
       "148347 2022-06-29 01:29:41+00:00   \n",
       "145489 2022-07-08 13:09:11+00:00   \n",
       "79125  2022-10-19 16:47:42+00:00   \n",
       "99648  2022-11-04 02:32:07+00:00   \n",
       "11175  2022-12-19 11:39:56+00:00   \n",
       "9019   2022-12-19 22:16:29+00:00   \n",
       "158823 2022-05-22 18:12:55+00:00   \n",
       "232108 2022-11-02 15:57:53+00:00   \n",
       "11778  2022-12-19 06:34:05+00:00   \n",
       "159392 2022-05-20 09:40:34+00:00   \n",
       "12841  2022-12-19 00:23:42+00:00   \n",
       "\n",
       "                                                     text  \\\n",
       "154462  🗣Wishing the @CobbSchools @CobbInTech team the...   \n",
       "98658   💦 ALL HUMANS are #BetterTogether\\n👋🏼✊🏿✌🏾🤜🏻🤛🏽👍🏼...   \n",
       "73057   @Jordn_mu @amerix @Drayk___ Lemme retweet, sha...   \n",
       "124877  Keep PUSHING. Multiple AEDs are so important f...   \n",
       "99068   🤣🤣🤣🤣🤣🤣🤣🤣🤣 this is my only points slip this was...   \n",
       "137921  If you’re seeing this, I want you to have the ...   \n",
       "40390   @amerix \\n🫢🫢🫢🫢🫢🫢🫢😮😮😮😮😮😮😮😮😮😮😮 what prescription...   \n",
       "143110  Ok now I can reveal the weekend wishlist drop....   \n",
       "6918    @oldagepoopman35 @amerix Nbr of flags in 5011 ...   \n",
       "148347  Any help would be forever appreciated. Even a ...   \n",
       "145489  Be kind to each other. Be positive. These litt...   \n",
       "79125   @ThoughtsNation2 @amerix You wish I was fat? 🤣...   \n",
       "99648   😮‍💨💵💵💵💵😮‍💨 didnt even wanna bet today trash as...   \n",
       "11175   @Bhela48 @amerix Nbr of flags in 5062 username...   \n",
       "9019    @Stychinsky @amerix Nbr of flags in 5050 usern...   \n",
       "158823  If you are seeing this, it is going to be an a...   \n",
       "232108  Incredible Noodle in 5 minutes❗️\\n👇👇👇👇👇👇👇👇👇👇👇👇...   \n",
       "11778   @p23570 @amerix Nbr of flags in 5066 usernames...   \n",
       "159392  If you are seeing this, I hope you have the ha...   \n",
       "12841   @DmitriyUngern @amerix Nbr of flags in 5088 us...   \n",
       "\n",
       "                                        text_clean_deeper Sentiment  text_len  \\\n",
       "154462  wishing the team the best today the team has i...  Positive       112   \n",
       "98658   all humans are bettertogether voteblue resist ...   Neutral        94   \n",
       "73057   lemme retweet share screenshot and tag this fe...  Positive       136   \n",
       "124877  keep pushing multiple aeds are so important fo...  Positive       121   \n",
       "99068   this is my only points slip this was 80k this ...  Positive       116   \n",
       "137921  if youre seeing this i want you to have the be...  Positive       128   \n",
       "40390   what prescription is this for diabetes whether...  Negative       128   \n",
       "143110  ok now i can reveal the weekend wishlist drop ...  Positive       118   \n",
       "6918    nbr of flags in 5011 usernames who liked 279 3...  Positive        95   \n",
       "148347  any help would be forever appreciated even a r...  Positive       118   \n",
       "145489  be kind to each other be positive these little...  Positive       127   \n",
       "79125   you wish i was fat in your dreams rolling on t...  Positive       128   \n",
       "99648   didnt even wanna bet today trash ass matchups ...  Positive       105   \n",
       "11175   nbr of flags in 5062 usernames who liked 244 1...  Positive        94   \n",
       "9019    nbr of flags in 5050 usernames who liked 234 1...  Positive        93   \n",
       "158823  if you are seeing this it is going to be an aw...  Positive       115   \n",
       "232108  incredible noodle in 5 minutes foodneedsafarme...   Neutral       115   \n",
       "11778   nbr of flags in 5066 usernames who liked 250 2...  Positive        94   \n",
       "159392  if you are seeing this i hope you have the hap...  Positive       114   \n",
       "12841   nbr of flags in 5088 usernames who liked 257 2...  Positive        94   \n",
       "\n",
       "        token_lens  \n",
       "154462         143  \n",
       "98658          141  \n",
       "73057          140  \n",
       "124877         135  \n",
       "99068          134  \n",
       "137921         133  \n",
       "40390          133  \n",
       "143110         132  \n",
       "6918           131  \n",
       "148347         131  \n",
       "145489         129  \n",
       "79125          128  \n",
       "99648          128  \n",
       "11175          126  \n",
       "9019           125  \n",
       "158823         125  \n",
       "232108         125  \n",
       "11778          125  \n",
       "159392         124  \n",
       "12841          124  "
      ]
     },
     "execution_count": 58,
     "metadata": {},
     "output_type": "execute_result"
    }
   ],
   "source": [
    "df.head(20)"
   ]
  },
  {
   "cell_type": "code",
   "execution_count": 59,
   "id": "93bd4e4a",
   "metadata": {
    "execution": {
     "iopub.execute_input": "2023-02-16T12:43:57.710610Z",
     "iopub.status.busy": "2023-02-16T12:43:57.709857Z",
     "iopub.status.idle": "2023-02-16T12:43:57.733242Z",
     "shell.execute_reply": "2023-02-16T12:43:57.732111Z"
    },
    "papermill": {
     "duration": 0.055318,
     "end_time": "2023-02-16T12:43:57.735768",
     "exception": false,
     "start_time": "2023-02-16T12:43:57.680450",
     "status": "completed"
    },
    "tags": []
   },
   "outputs": [
    {
     "data": {
      "text/plain": [
       "Positive    129190\n",
       "Neutral      63091\n",
       "Negative     41406\n",
       "Name: Sentiment, dtype: int64"
      ]
     },
     "execution_count": 59,
     "metadata": {},
     "output_type": "execute_result"
    }
   ],
   "source": [
    "df['Sentiment'].value_counts()"
   ]
  },
  {
   "cell_type": "code",
   "execution_count": 60,
   "id": "8443cc22",
   "metadata": {
    "execution": {
     "iopub.execute_input": "2023-02-16T12:43:57.794063Z",
     "iopub.status.busy": "2023-02-16T12:43:57.793330Z",
     "iopub.status.idle": "2023-02-16T12:43:57.832926Z",
     "shell.execute_reply": "2023-02-16T12:43:57.831580Z"
    },
    "papermill": {
     "duration": 0.071955,
     "end_time": "2023-02-16T12:43:57.835619",
     "exception": false,
     "start_time": "2023-02-16T12:43:57.763664",
     "status": "completed"
    },
    "tags": []
   },
   "outputs": [],
   "source": [
    "df['Sentiment'] = df['Sentiment'].map({'Negative':0,'Positive':1,'Neutral':2})"
   ]
  },
  {
   "cell_type": "code",
   "execution_count": 61,
   "id": "22fc958d",
   "metadata": {
    "execution": {
     "iopub.execute_input": "2023-02-16T12:43:57.894060Z",
     "iopub.status.busy": "2023-02-16T12:43:57.893616Z",
     "iopub.status.idle": "2023-02-16T12:43:57.907720Z",
     "shell.execute_reply": "2023-02-16T12:43:57.906551Z"
    },
    "papermill": {
     "duration": 0.046277,
     "end_time": "2023-02-16T12:43:57.910180",
     "exception": false,
     "start_time": "2023-02-16T12:43:57.863903",
     "status": "completed"
    },
    "tags": []
   },
   "outputs": [
    {
     "data": {
      "text/html": [
       "<div>\n",
       "<style scoped>\n",
       "    .dataframe tbody tr th:only-of-type {\n",
       "        vertical-align: middle;\n",
       "    }\n",
       "\n",
       "    .dataframe tbody tr th {\n",
       "        vertical-align: top;\n",
       "    }\n",
       "\n",
       "    .dataframe thead th {\n",
       "        text-align: right;\n",
       "    }\n",
       "</style>\n",
       "<table border=\"1\" class=\"dataframe\">\n",
       "  <thead>\n",
       "    <tr style=\"text-align: right;\">\n",
       "      <th></th>\n",
       "      <th>tweet_created_at</th>\n",
       "      <th>text</th>\n",
       "      <th>text_clean_deeper</th>\n",
       "      <th>Sentiment</th>\n",
       "      <th>text_len</th>\n",
       "      <th>token_lens</th>\n",
       "    </tr>\n",
       "  </thead>\n",
       "  <tbody>\n",
       "    <tr>\n",
       "      <th>154462</th>\n",
       "      <td>2022-06-08 11:44:34+00:00</td>\n",
       "      <td>🗣Wishing the @CobbSchools @CobbInTech team the...</td>\n",
       "      <td>wishing the team the best today the team has i...</td>\n",
       "      <td>1</td>\n",
       "      <td>112</td>\n",
       "      <td>143</td>\n",
       "    </tr>\n",
       "    <tr>\n",
       "      <th>98658</th>\n",
       "      <td>2022-11-07 22:49:01+00:00</td>\n",
       "      <td>💦 ALL HUMANS are #BetterTogether\\n👋🏼✊🏿✌🏾🤜🏻🤛🏽👍🏼...</td>\n",
       "      <td>all humans are bettertogether voteblue resist ...</td>\n",
       "      <td>2</td>\n",
       "      <td>94</td>\n",
       "      <td>141</td>\n",
       "    </tr>\n",
       "    <tr>\n",
       "      <th>73057</th>\n",
       "      <td>2022-10-29 05:34:53+00:00</td>\n",
       "      <td>@Jordn_mu @amerix @Drayk___ Lemme retweet, sha...</td>\n",
       "      <td>lemme retweet share screenshot and tag this fe...</td>\n",
       "      <td>1</td>\n",
       "      <td>136</td>\n",
       "      <td>140</td>\n",
       "    </tr>\n",
       "    <tr>\n",
       "      <th>124877</th>\n",
       "      <td>2022-08-21 23:58:59+00:00</td>\n",
       "      <td>Keep PUSHING. Multiple AEDs are so important f...</td>\n",
       "      <td>keep pushing multiple aeds are so important fo...</td>\n",
       "      <td>1</td>\n",
       "      <td>121</td>\n",
       "      <td>135</td>\n",
       "    </tr>\n",
       "    <tr>\n",
       "      <th>99068</th>\n",
       "      <td>2022-11-06 02:45:54+00:00</td>\n",
       "      <td>🤣🤣🤣🤣🤣🤣🤣🤣🤣 this is my only points slip this was...</td>\n",
       "      <td>this is my only points slip this was 80k this ...</td>\n",
       "      <td>1</td>\n",
       "      <td>116</td>\n",
       "      <td>134</td>\n",
       "    </tr>\n",
       "  </tbody>\n",
       "</table>\n",
       "</div>"
      ],
      "text/plain": [
       "                tweet_created_at  \\\n",
       "154462 2022-06-08 11:44:34+00:00   \n",
       "98658  2022-11-07 22:49:01+00:00   \n",
       "73057  2022-10-29 05:34:53+00:00   \n",
       "124877 2022-08-21 23:58:59+00:00   \n",
       "99068  2022-11-06 02:45:54+00:00   \n",
       "\n",
       "                                                     text  \\\n",
       "154462  🗣Wishing the @CobbSchools @CobbInTech team the...   \n",
       "98658   💦 ALL HUMANS are #BetterTogether\\n👋🏼✊🏿✌🏾🤜🏻🤛🏽👍🏼...   \n",
       "73057   @Jordn_mu @amerix @Drayk___ Lemme retweet, sha...   \n",
       "124877  Keep PUSHING. Multiple AEDs are so important f...   \n",
       "99068   🤣🤣🤣🤣🤣🤣🤣🤣🤣 this is my only points slip this was...   \n",
       "\n",
       "                                        text_clean_deeper  Sentiment  \\\n",
       "154462  wishing the team the best today the team has i...          1   \n",
       "98658   all humans are bettertogether voteblue resist ...          2   \n",
       "73057   lemme retweet share screenshot and tag this fe...          1   \n",
       "124877  keep pushing multiple aeds are so important fo...          1   \n",
       "99068   this is my only points slip this was 80k this ...          1   \n",
       "\n",
       "        text_len  token_lens  \n",
       "154462       112         143  \n",
       "98658         94         141  \n",
       "73057        136         140  \n",
       "124877       121         135  \n",
       "99068        116         134  "
      ]
     },
     "execution_count": 61,
     "metadata": {},
     "output_type": "execute_result"
    }
   ],
   "source": [
    "df.head()"
   ]
  },
  {
   "cell_type": "code",
   "execution_count": 62,
   "id": "6e53091f",
   "metadata": {
    "execution": {
     "iopub.execute_input": "2023-02-16T12:43:57.968766Z",
     "iopub.status.busy": "2023-02-16T12:43:57.967857Z",
     "iopub.status.idle": "2023-02-16T12:43:57.974715Z",
     "shell.execute_reply": "2023-02-16T12:43:57.973690Z"
    },
    "papermill": {
     "duration": 0.038933,
     "end_time": "2023-02-16T12:43:57.977180",
     "exception": false,
     "start_time": "2023-02-16T12:43:57.938247",
     "status": "completed"
    },
    "tags": []
   },
   "outputs": [
    {
     "data": {
      "text/plain": [
       "Index(['tweet_created_at', 'text', 'text_clean_deeper', 'Sentiment',\n",
       "       'text_len', 'token_lens'],\n",
       "      dtype='object')"
      ]
     },
     "execution_count": 62,
     "metadata": {},
     "output_type": "execute_result"
    }
   ],
   "source": [
    "df.columns"
   ]
  },
  {
   "cell_type": "code",
   "execution_count": 63,
   "id": "5f00c1ca",
   "metadata": {
    "execution": {
     "iopub.execute_input": "2023-02-16T12:43:58.036402Z",
     "iopub.status.busy": "2023-02-16T12:43:58.035665Z",
     "iopub.status.idle": "2023-02-16T12:43:58.058479Z",
     "shell.execute_reply": "2023-02-16T12:43:58.057204Z"
    },
    "papermill": {
     "duration": 0.055726,
     "end_time": "2023-02-16T12:43:58.061168",
     "exception": false,
     "start_time": "2023-02-16T12:43:58.005442",
     "status": "completed"
    },
    "tags": []
   },
   "outputs": [],
   "source": [
    "df = df[['tweet_created_at', 'text_clean_deeper', 'Sentiment']]"
   ]
  },
  {
   "cell_type": "code",
   "execution_count": 64,
   "id": "c5cb5be4",
   "metadata": {
    "execution": {
     "iopub.execute_input": "2023-02-16T12:43:58.122734Z",
     "iopub.status.busy": "2023-02-16T12:43:58.122308Z",
     "iopub.status.idle": "2023-02-16T12:43:58.129803Z",
     "shell.execute_reply": "2023-02-16T12:43:58.128910Z"
    },
    "papermill": {
     "duration": 0.042183,
     "end_time": "2023-02-16T12:43:58.132562",
     "exception": false,
     "start_time": "2023-02-16T12:43:58.090379",
     "status": "completed"
    },
    "tags": []
   },
   "outputs": [
    {
     "data": {
      "text/plain": [
       "Index(['tweet_created_at', 'text_clean_deeper', 'Sentiment'], dtype='object')"
      ]
     },
     "execution_count": 64,
     "metadata": {},
     "output_type": "execute_result"
    }
   ],
   "source": [
    "df.columns"
   ]
  },
  {
   "cell_type": "code",
   "execution_count": 65,
   "id": "a3a3ec50",
   "metadata": {
    "execution": {
     "iopub.execute_input": "2023-02-16T12:43:58.193679Z",
     "iopub.status.busy": "2023-02-16T12:43:58.192921Z",
     "iopub.status.idle": "2023-02-16T12:43:58.242126Z",
     "shell.execute_reply": "2023-02-16T12:43:58.240751Z"
    },
    "papermill": {
     "duration": 0.082706,
     "end_time": "2023-02-16T12:43:58.245020",
     "exception": false,
     "start_time": "2023-02-16T12:43:58.162314",
     "status": "completed"
    },
    "tags": []
   },
   "outputs": [
    {
     "name": "stdout",
     "output_type": "stream",
     "text": [
      "<class 'pandas.core.frame.DataFrame'>\n",
      "Int64Index: 233687 entries, 154462 to 17279\n",
      "Data columns (total 3 columns):\n",
      " #   Column             Non-Null Count   Dtype              \n",
      "---  ------             --------------   -----              \n",
      " 0   tweet_created_at   233687 non-null  datetime64[ns, UTC]\n",
      " 1   text_clean_deeper  233687 non-null  object             \n",
      " 2   Sentiment          233687 non-null  int64              \n",
      "dtypes: datetime64[ns, UTC](1), int64(1), object(1)\n",
      "memory usage: 7.1+ MB\n"
     ]
    }
   ],
   "source": [
    "df.info()"
   ]
  },
  {
   "cell_type": "code",
   "execution_count": 66,
   "id": "9fc4c759",
   "metadata": {
    "execution": {
     "iopub.execute_input": "2023-02-16T12:43:58.304540Z",
     "iopub.status.busy": "2023-02-16T12:43:58.304107Z",
     "iopub.status.idle": "2023-02-16T12:44:00.705497Z",
     "shell.execute_reply": "2023-02-16T12:44:00.704363Z"
    },
    "papermill": {
     "duration": 2.434295,
     "end_time": "2023-02-16T12:44:00.708275",
     "exception": false,
     "start_time": "2023-02-16T12:43:58.273980",
     "status": "completed"
    },
    "tags": []
   },
   "outputs": [],
   "source": [
    "df.to_csv('amerix_smsa_adv_emoji_ecoded_data.csv')"
   ]
  },
  {
   "cell_type": "code",
   "execution_count": null,
   "id": "128aaa39",
   "metadata": {
    "papermill": {
     "duration": 0.027453,
     "end_time": "2023-02-16T12:44:00.763918",
     "exception": false,
     "start_time": "2023-02-16T12:44:00.736465",
     "status": "completed"
    },
    "tags": []
   },
   "outputs": [],
   "source": []
  }
 ],
 "metadata": {
  "kernelspec": {
   "display_name": "Python 3",
   "language": "python",
   "name": "python3"
  },
  "language_info": {
   "codemirror_mode": {
    "name": "ipython",
    "version": 3
   },
   "file_extension": ".py",
   "mimetype": "text/x-python",
   "name": "python",
   "nbconvert_exporter": "python",
   "pygments_lexer": "ipython3",
   "version": "3.7.12"
  },
  "papermill": {
   "default_parameters": {},
   "duration": 217.374165,
   "end_time": "2023-02-16T12:44:03.495179",
   "environment_variables": {},
   "exception": null,
   "input_path": "__notebook__.ipynb",
   "output_path": "__notebook__.ipynb",
   "parameters": {},
   "start_time": "2023-02-16T12:40:26.121014",
   "version": "2.3.4"
  },
  "widgets": {
   "application/vnd.jupyter.widget-state+json": {
    "state": {
     "04d1d651d9d34b68a46816fcb3fac00e": {
      "model_module": "@jupyter-widgets/controls",
      "model_module_version": "1.5.0",
      "model_name": "HBoxModel",
      "state": {
       "_dom_classes": [],
       "_model_module": "@jupyter-widgets/controls",
       "_model_module_version": "1.5.0",
       "_model_name": "HBoxModel",
       "_view_count": null,
       "_view_module": "@jupyter-widgets/controls",
       "_view_module_version": "1.5.0",
       "_view_name": "HBoxView",
       "box_style": "",
       "children": [
        "IPY_MODEL_eff13a7bcccc472797519fb9709efa7a",
        "IPY_MODEL_51a7104336f745b28d0af5396dc6d34b",
        "IPY_MODEL_9924e18476df48459205cea2b51d9afb"
       ],
       "layout": "IPY_MODEL_1ff0010c2035428daa1068db381e7fe8"
      }
     },
     "0b60a45889bf48438a5879dbc60040b4": {
      "model_module": "@jupyter-widgets/controls",
      "model_module_version": "1.5.0",
      "model_name": "HTMLModel",
      "state": {
       "_dom_classes": [],
       "_model_module": "@jupyter-widgets/controls",
       "_model_module_version": "1.5.0",
       "_model_name": "HTMLModel",
       "_view_count": null,
       "_view_module": "@jupyter-widgets/controls",
       "_view_module_version": "1.5.0",
       "_view_name": "HTMLView",
       "description": "",
       "description_tooltip": null,
       "layout": "IPY_MODEL_ead804a882334fb880a4cee0bb307cab",
       "placeholder": "​",
       "style": "IPY_MODEL_681a23b6c92d4f0681c9057531cd6f9f",
       "value": "Downloading: 100%"
      }
     },
     "10dd45b4aa754865b02314a4784216c1": {
      "model_module": "@jupyter-widgets/controls",
      "model_module_version": "1.5.0",
      "model_name": "HTMLModel",
      "state": {
       "_dom_classes": [],
       "_model_module": "@jupyter-widgets/controls",
       "_model_module_version": "1.5.0",
       "_model_name": "HTMLModel",
       "_view_count": null,
       "_view_module": "@jupyter-widgets/controls",
       "_view_module_version": "1.5.0",
       "_view_name": "HTMLView",
       "description": "",
       "description_tooltip": null,
       "layout": "IPY_MODEL_ea6121a427704530ba157f0583df2d0a",
       "placeholder": "​",
       "style": "IPY_MODEL_7eeb6cd37a0e40eb8497c95bb4ccdfd5",
       "value": "Downloading: 100%"
      }
     },
     "13102c6459c84167bd1b219ba7c682c5": {
      "model_module": "@jupyter-widgets/base",
      "model_module_version": "1.2.0",
      "model_name": "LayoutModel",
      "state": {
       "_model_module": "@jupyter-widgets/base",
       "_model_module_version": "1.2.0",
       "_model_name": "LayoutModel",
       "_view_count": null,
       "_view_module": "@jupyter-widgets/base",
       "_view_module_version": "1.2.0",
       "_view_name": "LayoutView",
       "align_content": null,
       "align_items": null,
       "align_self": null,
       "border": null,
       "bottom": null,
       "display": null,
       "flex": null,
       "flex_flow": null,
       "grid_area": null,
       "grid_auto_columns": null,
       "grid_auto_flow": null,
       "grid_auto_rows": null,
       "grid_column": null,
       "grid_gap": null,
       "grid_row": null,
       "grid_template_areas": null,
       "grid_template_columns": null,
       "grid_template_rows": null,
       "height": null,
       "justify_content": null,
       "justify_items": null,
       "left": null,
       "margin": null,
       "max_height": null,
       "max_width": null,
       "min_height": null,
       "min_width": null,
       "object_fit": null,
       "object_position": null,
       "order": null,
       "overflow": null,
       "overflow_x": null,
       "overflow_y": null,
       "padding": null,
       "right": null,
       "top": null,
       "visibility": null,
       "width": null
      }
     },
     "13b79a65fae94dde9288872a62996e46": {
      "model_module": "@jupyter-widgets/controls",
      "model_module_version": "1.5.0",
      "model_name": "HTMLModel",
      "state": {
       "_dom_classes": [],
       "_model_module": "@jupyter-widgets/controls",
       "_model_module_version": "1.5.0",
       "_model_name": "HTMLModel",
       "_view_count": null,
       "_view_module": "@jupyter-widgets/controls",
       "_view_module_version": "1.5.0",
       "_view_name": "HTMLView",
       "description": "",
       "description_tooltip": null,
       "layout": "IPY_MODEL_33ecd894597149539fb07944d363978a",
       "placeholder": "​",
       "style": "IPY_MODEL_f2f4a8a67767442f940726a07f607efd",
       "value": " 455k/455k [00:00&lt;00:00, 1.11MB/s]"
      }
     },
     "1b2e50128e5f401396787b9e910bc4cf": {
      "model_module": "@jupyter-widgets/controls",
      "model_module_version": "1.5.0",
      "model_name": "HBoxModel",
      "state": {
       "_dom_classes": [],
       "_model_module": "@jupyter-widgets/controls",
       "_model_module_version": "1.5.0",
       "_model_name": "HBoxModel",
       "_view_count": null,
       "_view_module": "@jupyter-widgets/controls",
       "_view_module_version": "1.5.0",
       "_view_name": "HBoxView",
       "box_style": "",
       "children": [
        "IPY_MODEL_b3ae60c72f8d4dccaa4925d6f8e6fb41",
        "IPY_MODEL_4bc25e10542f478eac02e1fc8f06ea39",
        "IPY_MODEL_e37ed01e12814c7baf68ca2bee616c13"
       ],
       "layout": "IPY_MODEL_211a052fe7294d1daaeca67cf3fb49aa"
      }
     },
     "1c03075ea90446fc8de47522fa5c769d": {
      "model_module": "@jupyter-widgets/base",
      "model_module_version": "1.2.0",
      "model_name": "LayoutModel",
      "state": {
       "_model_module": "@jupyter-widgets/base",
       "_model_module_version": "1.2.0",
       "_model_name": "LayoutModel",
       "_view_count": null,
       "_view_module": "@jupyter-widgets/base",
       "_view_module_version": "1.2.0",
       "_view_name": "LayoutView",
       "align_content": null,
       "align_items": null,
       "align_self": null,
       "border": null,
       "bottom": null,
       "display": null,
       "flex": null,
       "flex_flow": null,
       "grid_area": null,
       "grid_auto_columns": null,
       "grid_auto_flow": null,
       "grid_auto_rows": null,
       "grid_column": null,
       "grid_gap": null,
       "grid_row": null,
       "grid_template_areas": null,
       "grid_template_columns": null,
       "grid_template_rows": null,
       "height": null,
       "justify_content": null,
       "justify_items": null,
       "left": null,
       "margin": null,
       "max_height": null,
       "max_width": null,
       "min_height": null,
       "min_width": null,
       "object_fit": null,
       "object_position": null,
       "order": null,
       "overflow": null,
       "overflow_x": null,
       "overflow_y": null,
       "padding": null,
       "right": null,
       "top": null,
       "visibility": null,
       "width": null
      }
     },
     "1e2d55aabce348ccaa9216d391075946": {
      "model_module": "@jupyter-widgets/controls",
      "model_module_version": "1.5.0",
      "model_name": "HTMLModel",
      "state": {
       "_dom_classes": [],
       "_model_module": "@jupyter-widgets/controls",
       "_model_module_version": "1.5.0",
       "_model_name": "HTMLModel",
       "_view_count": null,
       "_view_module": "@jupyter-widgets/controls",
       "_view_module_version": "1.5.0",
       "_view_name": "HTMLView",
       "description": "",
       "description_tooltip": null,
       "layout": "IPY_MODEL_3af9decc4efb4db284fc7231927f6eaa",
       "placeholder": "​",
       "style": "IPY_MODEL_9f55eeaf6d9d4a22a10f205d37aedce4",
       "value": " 1.21M/1.21M [00:00&lt;00:00, 1.64MB/s]"
      }
     },
     "1e3324f750dc458d9f6bbba0ab6e2973": {
      "model_module": "@jupyter-widgets/controls",
      "model_module_version": "1.5.0",
      "model_name": "FloatProgressModel",
      "state": {
       "_dom_classes": [],
       "_model_module": "@jupyter-widgets/controls",
       "_model_module_version": "1.5.0",
       "_model_name": "FloatProgressModel",
       "_view_count": null,
       "_view_module": "@jupyter-widgets/controls",
       "_view_module_version": "1.5.0",
       "_view_name": "ProgressView",
       "bar_style": "success",
       "description": "",
       "description_tooltip": null,
       "layout": "IPY_MODEL_32388cd34971438ab37986815cda1b17",
       "max": 466062.0,
       "min": 0.0,
       "orientation": "horizontal",
       "style": "IPY_MODEL_a224d55c94354e3781d19c0584812594",
       "value": 466062.0
      }
     },
     "1ff0010c2035428daa1068db381e7fe8": {
      "model_module": "@jupyter-widgets/base",
      "model_module_version": "1.2.0",
      "model_name": "LayoutModel",
      "state": {
       "_model_module": "@jupyter-widgets/base",
       "_model_module_version": "1.2.0",
       "_model_name": "LayoutModel",
       "_view_count": null,
       "_view_module": "@jupyter-widgets/base",
       "_view_module_version": "1.2.0",
       "_view_name": "LayoutView",
       "align_content": null,
       "align_items": null,
       "align_self": null,
       "border": null,
       "bottom": null,
       "display": null,
       "flex": null,
       "flex_flow": null,
       "grid_area": null,
       "grid_auto_columns": null,
       "grid_auto_flow": null,
       "grid_auto_rows": null,
       "grid_column": null,
       "grid_gap": null,
       "grid_row": null,
       "grid_template_areas": null,
       "grid_template_columns": null,
       "grid_template_rows": null,
       "height": null,
       "justify_content": null,
       "justify_items": null,
       "left": null,
       "margin": null,
       "max_height": null,
       "max_width": null,
       "min_height": null,
       "min_width": null,
       "object_fit": null,
       "object_position": null,
       "order": null,
       "overflow": null,
       "overflow_x": null,
       "overflow_y": null,
       "padding": null,
       "right": null,
       "top": null,
       "visibility": null,
       "width": null
      }
     },
     "211a052fe7294d1daaeca67cf3fb49aa": {
      "model_module": "@jupyter-widgets/base",
      "model_module_version": "1.2.0",
      "model_name": "LayoutModel",
      "state": {
       "_model_module": "@jupyter-widgets/base",
       "_model_module_version": "1.2.0",
       "_model_name": "LayoutModel",
       "_view_count": null,
       "_view_module": "@jupyter-widgets/base",
       "_view_module_version": "1.2.0",
       "_view_name": "LayoutView",
       "align_content": null,
       "align_items": null,
       "align_self": null,
       "border": null,
       "bottom": null,
       "display": null,
       "flex": null,
       "flex_flow": null,
       "grid_area": null,
       "grid_auto_columns": null,
       "grid_auto_flow": null,
       "grid_auto_rows": null,
       "grid_column": null,
       "grid_gap": null,
       "grid_row": null,
       "grid_template_areas": null,
       "grid_template_columns": null,
       "grid_template_rows": null,
       "height": null,
       "justify_content": null,
       "justify_items": null,
       "left": null,
       "margin": null,
       "max_height": null,
       "max_width": null,
       "min_height": null,
       "min_width": null,
       "object_fit": null,
       "object_position": null,
       "order": null,
       "overflow": null,
       "overflow_x": null,
       "overflow_y": null,
       "padding": null,
       "right": null,
       "top": null,
       "visibility": null,
       "width": null
      }
     },
     "230b683949bc4e93a25454f81ce6da02": {
      "model_module": "@jupyter-widgets/base",
      "model_module_version": "1.2.0",
      "model_name": "LayoutModel",
      "state": {
       "_model_module": "@jupyter-widgets/base",
       "_model_module_version": "1.2.0",
       "_model_name": "LayoutModel",
       "_view_count": null,
       "_view_module": "@jupyter-widgets/base",
       "_view_module_version": "1.2.0",
       "_view_name": "LayoutView",
       "align_content": null,
       "align_items": null,
       "align_self": null,
       "border": null,
       "bottom": null,
       "display": null,
       "flex": null,
       "flex_flow": null,
       "grid_area": null,
       "grid_auto_columns": null,
       "grid_auto_flow": null,
       "grid_auto_rows": null,
       "grid_column": null,
       "grid_gap": null,
       "grid_row": null,
       "grid_template_areas": null,
       "grid_template_columns": null,
       "grid_template_rows": null,
       "height": null,
       "justify_content": null,
       "justify_items": null,
       "left": null,
       "margin": null,
       "max_height": null,
       "max_width": null,
       "min_height": null,
       "min_width": null,
       "object_fit": null,
       "object_position": null,
       "order": null,
       "overflow": null,
       "overflow_x": null,
       "overflow_y": null,
       "padding": null,
       "right": null,
       "top": null,
       "visibility": null,
       "width": null
      }
     },
     "2323af16cc5945f0a40598c2922bf74c": {
      "model_module": "@jupyter-widgets/controls",
      "model_module_version": "1.5.0",
      "model_name": "HBoxModel",
      "state": {
       "_dom_classes": [],
       "_model_module": "@jupyter-widgets/controls",
       "_model_module_version": "1.5.0",
       "_model_name": "HBoxModel",
       "_view_count": null,
       "_view_module": "@jupyter-widgets/controls",
       "_view_module_version": "1.5.0",
       "_view_name": "HBoxView",
       "box_style": "",
       "children": [
        "IPY_MODEL_0b60a45889bf48438a5879dbc60040b4",
        "IPY_MODEL_1e3324f750dc458d9f6bbba0ab6e2973",
        "IPY_MODEL_13b79a65fae94dde9288872a62996e46"
       ],
       "layout": "IPY_MODEL_5f9a2bf308d54e76835572740ac2ea63"
      }
     },
     "2584b4dc6e4a4665ac3bd102ee295cfd": {
      "model_module": "@jupyter-widgets/controls",
      "model_module_version": "1.5.0",
      "model_name": "HTMLModel",
      "state": {
       "_dom_classes": [],
       "_model_module": "@jupyter-widgets/controls",
       "_model_module_version": "1.5.0",
       "_model_name": "HTMLModel",
       "_view_count": null,
       "_view_module": "@jupyter-widgets/controls",
       "_view_module_version": "1.5.0",
       "_view_name": "HTMLView",
       "description": "",
       "description_tooltip": null,
       "layout": "IPY_MODEL_689211e55f724101a965d09499e07043",
       "placeholder": "​",
       "style": "IPY_MODEL_9c60fb6d2bac42a5b7575bdbd5c051fc",
       "value": "Downloading: 100%"
      }
     },
     "266f34ee18f6403883c2551e980d81f9": {
      "model_module": "@jupyter-widgets/base",
      "model_module_version": "1.2.0",
      "model_name": "LayoutModel",
      "state": {
       "_model_module": "@jupyter-widgets/base",
       "_model_module_version": "1.2.0",
       "_model_name": "LayoutModel",
       "_view_count": null,
       "_view_module": "@jupyter-widgets/base",
       "_view_module_version": "1.2.0",
       "_view_name": "LayoutView",
       "align_content": null,
       "align_items": null,
       "align_self": null,
       "border": null,
       "bottom": null,
       "display": null,
       "flex": null,
       "flex_flow": null,
       "grid_area": null,
       "grid_auto_columns": null,
       "grid_auto_flow": null,
       "grid_auto_rows": null,
       "grid_column": null,
       "grid_gap": null,
       "grid_row": null,
       "grid_template_areas": null,
       "grid_template_columns": null,
       "grid_template_rows": null,
       "height": null,
       "justify_content": null,
       "justify_items": null,
       "left": null,
       "margin": null,
       "max_height": null,
       "max_width": null,
       "min_height": null,
       "min_width": null,
       "object_fit": null,
       "object_position": null,
       "order": null,
       "overflow": null,
       "overflow_x": null,
       "overflow_y": null,
       "padding": null,
       "right": null,
       "top": null,
       "visibility": null,
       "width": null
      }
     },
     "32388cd34971438ab37986815cda1b17": {
      "model_module": "@jupyter-widgets/base",
      "model_module_version": "1.2.0",
      "model_name": "LayoutModel",
      "state": {
       "_model_module": "@jupyter-widgets/base",
       "_model_module_version": "1.2.0",
       "_model_name": "LayoutModel",
       "_view_count": null,
       "_view_module": "@jupyter-widgets/base",
       "_view_module_version": "1.2.0",
       "_view_name": "LayoutView",
       "align_content": null,
       "align_items": null,
       "align_self": null,
       "border": null,
       "bottom": null,
       "display": null,
       "flex": null,
       "flex_flow": null,
       "grid_area": null,
       "grid_auto_columns": null,
       "grid_auto_flow": null,
       "grid_auto_rows": null,
       "grid_column": null,
       "grid_gap": null,
       "grid_row": null,
       "grid_template_areas": null,
       "grid_template_columns": null,
       "grid_template_rows": null,
       "height": null,
       "justify_content": null,
       "justify_items": null,
       "left": null,
       "margin": null,
       "max_height": null,
       "max_width": null,
       "min_height": null,
       "min_width": null,
       "object_fit": null,
       "object_position": null,
       "order": null,
       "overflow": null,
       "overflow_x": null,
       "overflow_y": null,
       "padding": null,
       "right": null,
       "top": null,
       "visibility": null,
       "width": null
      }
     },
     "32f1bd9eb2d24f58b8f7a7689ee1f356": {
      "model_module": "@jupyter-widgets/controls",
      "model_module_version": "1.5.0",
      "model_name": "HTMLModel",
      "state": {
       "_dom_classes": [],
       "_model_module": "@jupyter-widgets/controls",
       "_model_module_version": "1.5.0",
       "_model_name": "HTMLModel",
       "_view_count": null,
       "_view_module": "@jupyter-widgets/controls",
       "_view_module_version": "1.5.0",
       "_view_name": "HTMLView",
       "description": "",
       "description_tooltip": null,
       "layout": "IPY_MODEL_520b6d6fb4bf4e16babac07125a514dd",
       "placeholder": "​",
       "style": "IPY_MODEL_a7f380fce8c84fdfa038067fae135749",
       "value": " 570/570 [00:00&lt;00:00, 18.1kB/s]"
      }
     },
     "33ecd894597149539fb07944d363978a": {
      "model_module": "@jupyter-widgets/base",
      "model_module_version": "1.2.0",
      "model_name": "LayoutModel",
      "state": {
       "_model_module": "@jupyter-widgets/base",
       "_model_module_version": "1.2.0",
       "_model_name": "LayoutModel",
       "_view_count": null,
       "_view_module": "@jupyter-widgets/base",
       "_view_module_version": "1.2.0",
       "_view_name": "LayoutView",
       "align_content": null,
       "align_items": null,
       "align_self": null,
       "border": null,
       "bottom": null,
       "display": null,
       "flex": null,
       "flex_flow": null,
       "grid_area": null,
       "grid_auto_columns": null,
       "grid_auto_flow": null,
       "grid_auto_rows": null,
       "grid_column": null,
       "grid_gap": null,
       "grid_row": null,
       "grid_template_areas": null,
       "grid_template_columns": null,
       "grid_template_rows": null,
       "height": null,
       "justify_content": null,
       "justify_items": null,
       "left": null,
       "margin": null,
       "max_height": null,
       "max_width": null,
       "min_height": null,
       "min_width": null,
       "object_fit": null,
       "object_position": null,
       "order": null,
       "overflow": null,
       "overflow_x": null,
       "overflow_y": null,
       "padding": null,
       "right": null,
       "top": null,
       "visibility": null,
       "width": null
      }
     },
     "38bb6408446d46da9ea1ee6434a53804": {
      "model_module": "@jupyter-widgets/controls",
      "model_module_version": "1.5.0",
      "model_name": "FloatProgressModel",
      "state": {
       "_dom_classes": [],
       "_model_module": "@jupyter-widgets/controls",
       "_model_module_version": "1.5.0",
       "_model_name": "FloatProgressModel",
       "_view_count": null,
       "_view_module": "@jupyter-widgets/controls",
       "_view_module_version": "1.5.0",
       "_view_name": "ProgressView",
       "bar_style": "success",
       "description": "",
       "description_tooltip": null,
       "layout": "IPY_MODEL_7eea26cc4ef042139aca573e44135b3a",
       "max": 570.0,
       "min": 0.0,
       "orientation": "horizontal",
       "style": "IPY_MODEL_ae4378e10c844b0c8049b913e5d202e9",
       "value": 570.0
      }
     },
     "3aa925d44ca349e1854075e196488ed1": {
      "model_module": "@jupyter-widgets/controls",
      "model_module_version": "1.5.0",
      "model_name": "HTMLModel",
      "state": {
       "_dom_classes": [],
       "_model_module": "@jupyter-widgets/controls",
       "_model_module_version": "1.5.0",
       "_model_name": "HTMLModel",
       "_view_count": null,
       "_view_module": "@jupyter-widgets/controls",
       "_view_module_version": "1.5.0",
       "_view_name": "HTMLView",
       "description": "",
       "description_tooltip": null,
       "layout": "IPY_MODEL_266f34ee18f6403883c2551e980d81f9",
       "placeholder": "​",
       "style": "IPY_MODEL_a3da1e472a714ce39127ba0acfc9a1f3",
       "value": " 797k/797k [00:00&lt;00:00, 910kB/s]"
      }
     },
     "3af9decc4efb4db284fc7231927f6eaa": {
      "model_module": "@jupyter-widgets/base",
      "model_module_version": "1.2.0",
      "model_name": "LayoutModel",
      "state": {
       "_model_module": "@jupyter-widgets/base",
       "_model_module_version": "1.2.0",
       "_model_name": "LayoutModel",
       "_view_count": null,
       "_view_module": "@jupyter-widgets/base",
       "_view_module_version": "1.2.0",
       "_view_name": "LayoutView",
       "align_content": null,
       "align_items": null,
       "align_self": null,
       "border": null,
       "bottom": null,
       "display": null,
       "flex": null,
       "flex_flow": null,
       "grid_area": null,
       "grid_auto_columns": null,
       "grid_auto_flow": null,
       "grid_auto_rows": null,
       "grid_column": null,
       "grid_gap": null,
       "grid_row": null,
       "grid_template_areas": null,
       "grid_template_columns": null,
       "grid_template_rows": null,
       "height": null,
       "justify_content": null,
       "justify_items": null,
       "left": null,
       "margin": null,
       "max_height": null,
       "max_width": null,
       "min_height": null,
       "min_width": null,
       "object_fit": null,
       "object_position": null,
       "order": null,
       "overflow": null,
       "overflow_x": null,
       "overflow_y": null,
       "padding": null,
       "right": null,
       "top": null,
       "visibility": null,
       "width": null
      }
     },
     "407637755ef44c34926cc3578b666e02": {
      "model_module": "@jupyter-widgets/controls",
      "model_module_version": "1.5.0",
      "model_name": "HTMLModel",
      "state": {
       "_dom_classes": [],
       "_model_module": "@jupyter-widgets/controls",
       "_model_module_version": "1.5.0",
       "_model_name": "HTMLModel",
       "_view_count": null,
       "_view_module": "@jupyter-widgets/controls",
       "_view_module_version": "1.5.0",
       "_view_name": "HTMLView",
       "description": "",
       "description_tooltip": null,
       "layout": "IPY_MODEL_69c1585c9cdc4b10854f9bc331acb66b",
       "placeholder": "​",
       "style": "IPY_MODEL_feaba4fc42a544e494453b305a8165f5",
       "value": "Downloading: 100%"
      }
     },
     "43d067d798044ea1ba4ccf554786ff0e": {
      "model_module": "@jupyter-widgets/controls",
      "model_module_version": "1.5.0",
      "model_name": "ProgressStyleModel",
      "state": {
       "_model_module": "@jupyter-widgets/controls",
       "_model_module_version": "1.5.0",
       "_model_name": "ProgressStyleModel",
       "_view_count": null,
       "_view_module": "@jupyter-widgets/base",
       "_view_module_version": "1.2.0",
       "_view_name": "StyleView",
       "bar_color": null,
       "description_width": ""
      }
     },
     "46c22bff4e194e13a306976dfed1d6c9": {
      "model_module": "@jupyter-widgets/base",
      "model_module_version": "1.2.0",
      "model_name": "LayoutModel",
      "state": {
       "_model_module": "@jupyter-widgets/base",
       "_model_module_version": "1.2.0",
       "_model_name": "LayoutModel",
       "_view_count": null,
       "_view_module": "@jupyter-widgets/base",
       "_view_module_version": "1.2.0",
       "_view_name": "LayoutView",
       "align_content": null,
       "align_items": null,
       "align_self": null,
       "border": null,
       "bottom": null,
       "display": null,
       "flex": null,
       "flex_flow": null,
       "grid_area": null,
       "grid_auto_columns": null,
       "grid_auto_flow": null,
       "grid_auto_rows": null,
       "grid_column": null,
       "grid_gap": null,
       "grid_row": null,
       "grid_template_areas": null,
       "grid_template_columns": null,
       "grid_template_rows": null,
       "height": null,
       "justify_content": null,
       "justify_items": null,
       "left": null,
       "margin": null,
       "max_height": null,
       "max_width": null,
       "min_height": null,
       "min_width": null,
       "object_fit": null,
       "object_position": null,
       "order": null,
       "overflow": null,
       "overflow_x": null,
       "overflow_y": null,
       "padding": null,
       "right": null,
       "top": null,
       "visibility": null,
       "width": null
      }
     },
     "4bc25e10542f478eac02e1fc8f06ea39": {
      "model_module": "@jupyter-widgets/controls",
      "model_module_version": "1.5.0",
      "model_name": "FloatProgressModel",
      "state": {
       "_dom_classes": [],
       "_model_module": "@jupyter-widgets/controls",
       "_model_module_version": "1.5.0",
       "_model_name": "FloatProgressModel",
       "_view_count": null,
       "_view_module": "@jupyter-widgets/controls",
       "_view_module_version": "1.5.0",
       "_view_name": "ProgressView",
       "bar_style": "success",
       "description": "",
       "description_tooltip": null,
       "layout": "IPY_MODEL_692f21a7f9d947d9ab01edfd30fb7cc9",
       "max": 231508.0,
       "min": 0.0,
       "orientation": "horizontal",
       "style": "IPY_MODEL_a1327b4f454641cf932c0788a08b2a21",
       "value": 231508.0
      }
     },
     "51a7104336f745b28d0af5396dc6d34b": {
      "model_module": "@jupyter-widgets/controls",
      "model_module_version": "1.5.0",
      "model_name": "FloatProgressModel",
      "state": {
       "_dom_classes": [],
       "_model_module": "@jupyter-widgets/controls",
       "_model_module_version": "1.5.0",
       "_model_name": "FloatProgressModel",
       "_view_count": null,
       "_view_module": "@jupyter-widgets/controls",
       "_view_module_version": "1.5.0",
       "_view_name": "ProgressView",
       "bar_style": "success",
       "description": "",
       "description_tooltip": null,
       "layout": "IPY_MODEL_55c19265b18449418d0a26f228e0aefa",
       "max": 458495.0,
       "min": 0.0,
       "orientation": "horizontal",
       "style": "IPY_MODEL_43d067d798044ea1ba4ccf554786ff0e",
       "value": 458495.0
      }
     },
     "520b6d6fb4bf4e16babac07125a514dd": {
      "model_module": "@jupyter-widgets/base",
      "model_module_version": "1.2.0",
      "model_name": "LayoutModel",
      "state": {
       "_model_module": "@jupyter-widgets/base",
       "_model_module_version": "1.2.0",
       "_model_name": "LayoutModel",
       "_view_count": null,
       "_view_module": "@jupyter-widgets/base",
       "_view_module_version": "1.2.0",
       "_view_name": "LayoutView",
       "align_content": null,
       "align_items": null,
       "align_self": null,
       "border": null,
       "bottom": null,
       "display": null,
       "flex": null,
       "flex_flow": null,
       "grid_area": null,
       "grid_auto_columns": null,
       "grid_auto_flow": null,
       "grid_auto_rows": null,
       "grid_column": null,
       "grid_gap": null,
       "grid_row": null,
       "grid_template_areas": null,
       "grid_template_columns": null,
       "grid_template_rows": null,
       "height": null,
       "justify_content": null,
       "justify_items": null,
       "left": null,
       "margin": null,
       "max_height": null,
       "max_width": null,
       "min_height": null,
       "min_width": null,
       "object_fit": null,
       "object_position": null,
       "order": null,
       "overflow": null,
       "overflow_x": null,
       "overflow_y": null,
       "padding": null,
       "right": null,
       "top": null,
       "visibility": null,
       "width": null
      }
     },
     "55c19265b18449418d0a26f228e0aefa": {
      "model_module": "@jupyter-widgets/base",
      "model_module_version": "1.2.0",
      "model_name": "LayoutModel",
      "state": {
       "_model_module": "@jupyter-widgets/base",
       "_model_module_version": "1.2.0",
       "_model_name": "LayoutModel",
       "_view_count": null,
       "_view_module": "@jupyter-widgets/base",
       "_view_module_version": "1.2.0",
       "_view_name": "LayoutView",
       "align_content": null,
       "align_items": null,
       "align_self": null,
       "border": null,
       "bottom": null,
       "display": null,
       "flex": null,
       "flex_flow": null,
       "grid_area": null,
       "grid_auto_columns": null,
       "grid_auto_flow": null,
       "grid_auto_rows": null,
       "grid_column": null,
       "grid_gap": null,
       "grid_row": null,
       "grid_template_areas": null,
       "grid_template_columns": null,
       "grid_template_rows": null,
       "height": null,
       "justify_content": null,
       "justify_items": null,
       "left": null,
       "margin": null,
       "max_height": null,
       "max_width": null,
       "min_height": null,
       "min_width": null,
       "object_fit": null,
       "object_position": null,
       "order": null,
       "overflow": null,
       "overflow_x": null,
       "overflow_y": null,
       "padding": null,
       "right": null,
       "top": null,
       "visibility": null,
       "width": null
      }
     },
     "5648be03386a4aeaa16d4f43561cdbc5": {
      "model_module": "@jupyter-widgets/controls",
      "model_module_version": "1.5.0",
      "model_name": "FloatProgressModel",
      "state": {
       "_dom_classes": [],
       "_model_module": "@jupyter-widgets/controls",
       "_model_module_version": "1.5.0",
       "_model_name": "FloatProgressModel",
       "_view_count": null,
       "_view_module": "@jupyter-widgets/controls",
       "_view_module_version": "1.5.0",
       "_view_name": "ProgressView",
       "bar_style": "success",
       "description": "",
       "description_tooltip": null,
       "layout": "IPY_MODEL_7a9c1cb9afd847909225c96b1d1b7054",
       "max": 815973.0,
       "min": 0.0,
       "orientation": "horizontal",
       "style": "IPY_MODEL_8e7a665b38b54d65aea7ad61b8542839",
       "value": 815973.0
      }
     },
     "58d0d5460e174fa09198a7f10675b393": {
      "model_module": "@jupyter-widgets/controls",
      "model_module_version": "1.5.0",
      "model_name": "DescriptionStyleModel",
      "state": {
       "_model_module": "@jupyter-widgets/controls",
       "_model_module_version": "1.5.0",
       "_model_name": "DescriptionStyleModel",
       "_view_count": null,
       "_view_module": "@jupyter-widgets/base",
       "_view_module_version": "1.2.0",
       "_view_name": "StyleView",
       "description_width": ""
      }
     },
     "5f9a2bf308d54e76835572740ac2ea63": {
      "model_module": "@jupyter-widgets/base",
      "model_module_version": "1.2.0",
      "model_name": "LayoutModel",
      "state": {
       "_model_module": "@jupyter-widgets/base",
       "_model_module_version": "1.2.0",
       "_model_name": "LayoutModel",
       "_view_count": null,
       "_view_module": "@jupyter-widgets/base",
       "_view_module_version": "1.2.0",
       "_view_name": "LayoutView",
       "align_content": null,
       "align_items": null,
       "align_self": null,
       "border": null,
       "bottom": null,
       "display": null,
       "flex": null,
       "flex_flow": null,
       "grid_area": null,
       "grid_auto_columns": null,
       "grid_auto_flow": null,
       "grid_auto_rows": null,
       "grid_column": null,
       "grid_gap": null,
       "grid_row": null,
       "grid_template_areas": null,
       "grid_template_columns": null,
       "grid_template_rows": null,
       "height": null,
       "justify_content": null,
       "justify_items": null,
       "left": null,
       "margin": null,
       "max_height": null,
       "max_width": null,
       "min_height": null,
       "min_width": null,
       "object_fit": null,
       "object_position": null,
       "order": null,
       "overflow": null,
       "overflow_x": null,
       "overflow_y": null,
       "padding": null,
       "right": null,
       "top": null,
       "visibility": null,
       "width": null
      }
     },
     "6205c97b03a64c259cc1cb4a811ef663": {
      "model_module": "@jupyter-widgets/base",
      "model_module_version": "1.2.0",
      "model_name": "LayoutModel",
      "state": {
       "_model_module": "@jupyter-widgets/base",
       "_model_module_version": "1.2.0",
       "_model_name": "LayoutModel",
       "_view_count": null,
       "_view_module": "@jupyter-widgets/base",
       "_view_module_version": "1.2.0",
       "_view_name": "LayoutView",
       "align_content": null,
       "align_items": null,
       "align_self": null,
       "border": null,
       "bottom": null,
       "display": null,
       "flex": null,
       "flex_flow": null,
       "grid_area": null,
       "grid_auto_columns": null,
       "grid_auto_flow": null,
       "grid_auto_rows": null,
       "grid_column": null,
       "grid_gap": null,
       "grid_row": null,
       "grid_template_areas": null,
       "grid_template_columns": null,
       "grid_template_rows": null,
       "height": null,
       "justify_content": null,
       "justify_items": null,
       "left": null,
       "margin": null,
       "max_height": null,
       "max_width": null,
       "min_height": null,
       "min_width": null,
       "object_fit": null,
       "object_position": null,
       "order": null,
       "overflow": null,
       "overflow_x": null,
       "overflow_y": null,
       "padding": null,
       "right": null,
       "top": null,
       "visibility": null,
       "width": null
      }
     },
     "681a23b6c92d4f0681c9057531cd6f9f": {
      "model_module": "@jupyter-widgets/controls",
      "model_module_version": "1.5.0",
      "model_name": "DescriptionStyleModel",
      "state": {
       "_model_module": "@jupyter-widgets/controls",
       "_model_module_version": "1.5.0",
       "_model_name": "DescriptionStyleModel",
       "_view_count": null,
       "_view_module": "@jupyter-widgets/base",
       "_view_module_version": "1.2.0",
       "_view_name": "StyleView",
       "description_width": ""
      }
     },
     "689211e55f724101a965d09499e07043": {
      "model_module": "@jupyter-widgets/base",
      "model_module_version": "1.2.0",
      "model_name": "LayoutModel",
      "state": {
       "_model_module": "@jupyter-widgets/base",
       "_model_module_version": "1.2.0",
       "_model_name": "LayoutModel",
       "_view_count": null,
       "_view_module": "@jupyter-widgets/base",
       "_view_module_version": "1.2.0",
       "_view_name": "LayoutView",
       "align_content": null,
       "align_items": null,
       "align_self": null,
       "border": null,
       "bottom": null,
       "display": null,
       "flex": null,
       "flex_flow": null,
       "grid_area": null,
       "grid_auto_columns": null,
       "grid_auto_flow": null,
       "grid_auto_rows": null,
       "grid_column": null,
       "grid_gap": null,
       "grid_row": null,
       "grid_template_areas": null,
       "grid_template_columns": null,
       "grid_template_rows": null,
       "height": null,
       "justify_content": null,
       "justify_items": null,
       "left": null,
       "margin": null,
       "max_height": null,
       "max_width": null,
       "min_height": null,
       "min_width": null,
       "object_fit": null,
       "object_position": null,
       "order": null,
       "overflow": null,
       "overflow_x": null,
       "overflow_y": null,
       "padding": null,
       "right": null,
       "top": null,
       "visibility": null,
       "width": null
      }
     },
     "692f21a7f9d947d9ab01edfd30fb7cc9": {
      "model_module": "@jupyter-widgets/base",
      "model_module_version": "1.2.0",
      "model_name": "LayoutModel",
      "state": {
       "_model_module": "@jupyter-widgets/base",
       "_model_module_version": "1.2.0",
       "_model_name": "LayoutModel",
       "_view_count": null,
       "_view_module": "@jupyter-widgets/base",
       "_view_module_version": "1.2.0",
       "_view_name": "LayoutView",
       "align_content": null,
       "align_items": null,
       "align_self": null,
       "border": null,
       "bottom": null,
       "display": null,
       "flex": null,
       "flex_flow": null,
       "grid_area": null,
       "grid_auto_columns": null,
       "grid_auto_flow": null,
       "grid_auto_rows": null,
       "grid_column": null,
       "grid_gap": null,
       "grid_row": null,
       "grid_template_areas": null,
       "grid_template_columns": null,
       "grid_template_rows": null,
       "height": null,
       "justify_content": null,
       "justify_items": null,
       "left": null,
       "margin": null,
       "max_height": null,
       "max_width": null,
       "min_height": null,
       "min_width": null,
       "object_fit": null,
       "object_position": null,
       "order": null,
       "overflow": null,
       "overflow_x": null,
       "overflow_y": null,
       "padding": null,
       "right": null,
       "top": null,
       "visibility": null,
       "width": null
      }
     },
     "69c1585c9cdc4b10854f9bc331acb66b": {
      "model_module": "@jupyter-widgets/base",
      "model_module_version": "1.2.0",
      "model_name": "LayoutModel",
      "state": {
       "_model_module": "@jupyter-widgets/base",
       "_model_module_version": "1.2.0",
       "_model_name": "LayoutModel",
       "_view_count": null,
       "_view_module": "@jupyter-widgets/base",
       "_view_module_version": "1.2.0",
       "_view_name": "LayoutView",
       "align_content": null,
       "align_items": null,
       "align_self": null,
       "border": null,
       "bottom": null,
       "display": null,
       "flex": null,
       "flex_flow": null,
       "grid_area": null,
       "grid_auto_columns": null,
       "grid_auto_flow": null,
       "grid_auto_rows": null,
       "grid_column": null,
       "grid_gap": null,
       "grid_row": null,
       "grid_template_areas": null,
       "grid_template_columns": null,
       "grid_template_rows": null,
       "height": null,
       "justify_content": null,
       "justify_items": null,
       "left": null,
       "margin": null,
       "max_height": null,
       "max_width": null,
       "min_height": null,
       "min_width": null,
       "object_fit": null,
       "object_position": null,
       "order": null,
       "overflow": null,
       "overflow_x": null,
       "overflow_y": null,
       "padding": null,
       "right": null,
       "top": null,
       "visibility": null,
       "width": null
      }
     },
     "6b6ea6c45d1642c684cbecdcf9c5b6e9": {
      "model_module": "@jupyter-widgets/controls",
      "model_module_version": "1.5.0",
      "model_name": "HBoxModel",
      "state": {
       "_dom_classes": [],
       "_model_module": "@jupyter-widgets/controls",
       "_model_module_version": "1.5.0",
       "_model_name": "HBoxModel",
       "_view_count": null,
       "_view_module": "@jupyter-widgets/controls",
       "_view_module_version": "1.5.0",
       "_view_name": "HBoxView",
       "box_style": "",
       "children": [
        "IPY_MODEL_407637755ef44c34926cc3578b666e02",
        "IPY_MODEL_38bb6408446d46da9ea1ee6434a53804",
        "IPY_MODEL_32f1bd9eb2d24f58b8f7a7689ee1f356"
       ],
       "layout": "IPY_MODEL_b4c3a734812e4e69978afc98cf140af3"
      }
     },
     "71df073d1cf446d7a30ec08fcd1405ad": {
      "model_module": "@jupyter-widgets/controls",
      "model_module_version": "1.5.0",
      "model_name": "ProgressStyleModel",
      "state": {
       "_model_module": "@jupyter-widgets/controls",
       "_model_module_version": "1.5.0",
       "_model_name": "ProgressStyleModel",
       "_view_count": null,
       "_view_module": "@jupyter-widgets/base",
       "_view_module_version": "1.2.0",
       "_view_name": "StyleView",
       "bar_color": null,
       "description_width": ""
      }
     },
     "748e9c1aaf3241cfab87ba1129ee6cbb": {
      "model_module": "@jupyter-widgets/base",
      "model_module_version": "1.2.0",
      "model_name": "LayoutModel",
      "state": {
       "_model_module": "@jupyter-widgets/base",
       "_model_module_version": "1.2.0",
       "_model_name": "LayoutModel",
       "_view_count": null,
       "_view_module": "@jupyter-widgets/base",
       "_view_module_version": "1.2.0",
       "_view_name": "LayoutView",
       "align_content": null,
       "align_items": null,
       "align_self": null,
       "border": null,
       "bottom": null,
       "display": null,
       "flex": null,
       "flex_flow": null,
       "grid_area": null,
       "grid_auto_columns": null,
       "grid_auto_flow": null,
       "grid_auto_rows": null,
       "grid_column": null,
       "grid_gap": null,
       "grid_row": null,
       "grid_template_areas": null,
       "grid_template_columns": null,
       "grid_template_rows": null,
       "height": null,
       "justify_content": null,
       "justify_items": null,
       "left": null,
       "margin": null,
       "max_height": null,
       "max_width": null,
       "min_height": null,
       "min_width": null,
       "object_fit": null,
       "object_position": null,
       "order": null,
       "overflow": null,
       "overflow_x": null,
       "overflow_y": null,
       "padding": null,
       "right": null,
       "top": null,
       "visibility": null,
       "width": null
      }
     },
     "78640912c6ce442fa7b4345d6f84c0a4": {
      "model_module": "@jupyter-widgets/base",
      "model_module_version": "1.2.0",
      "model_name": "LayoutModel",
      "state": {
       "_model_module": "@jupyter-widgets/base",
       "_model_module_version": "1.2.0",
       "_model_name": "LayoutModel",
       "_view_count": null,
       "_view_module": "@jupyter-widgets/base",
       "_view_module_version": "1.2.0",
       "_view_name": "LayoutView",
       "align_content": null,
       "align_items": null,
       "align_self": null,
       "border": null,
       "bottom": null,
       "display": null,
       "flex": null,
       "flex_flow": null,
       "grid_area": null,
       "grid_auto_columns": null,
       "grid_auto_flow": null,
       "grid_auto_rows": null,
       "grid_column": null,
       "grid_gap": null,
       "grid_row": null,
       "grid_template_areas": null,
       "grid_template_columns": null,
       "grid_template_rows": null,
       "height": null,
       "justify_content": null,
       "justify_items": null,
       "left": null,
       "margin": null,
       "max_height": null,
       "max_width": null,
       "min_height": null,
       "min_width": null,
       "object_fit": null,
       "object_position": null,
       "order": null,
       "overflow": null,
       "overflow_x": null,
       "overflow_y": null,
       "padding": null,
       "right": null,
       "top": null,
       "visibility": null,
       "width": null
      }
     },
     "7a9c1cb9afd847909225c96b1d1b7054": {
      "model_module": "@jupyter-widgets/base",
      "model_module_version": "1.2.0",
      "model_name": "LayoutModel",
      "state": {
       "_model_module": "@jupyter-widgets/base",
       "_model_module_version": "1.2.0",
       "_model_name": "LayoutModel",
       "_view_count": null,
       "_view_module": "@jupyter-widgets/base",
       "_view_module_version": "1.2.0",
       "_view_name": "LayoutView",
       "align_content": null,
       "align_items": null,
       "align_self": null,
       "border": null,
       "bottom": null,
       "display": null,
       "flex": null,
       "flex_flow": null,
       "grid_area": null,
       "grid_auto_columns": null,
       "grid_auto_flow": null,
       "grid_auto_rows": null,
       "grid_column": null,
       "grid_gap": null,
       "grid_row": null,
       "grid_template_areas": null,
       "grid_template_columns": null,
       "grid_template_rows": null,
       "height": null,
       "justify_content": null,
       "justify_items": null,
       "left": null,
       "margin": null,
       "max_height": null,
       "max_width": null,
       "min_height": null,
       "min_width": null,
       "object_fit": null,
       "object_position": null,
       "order": null,
       "overflow": null,
       "overflow_x": null,
       "overflow_y": null,
       "padding": null,
       "right": null,
       "top": null,
       "visibility": null,
       "width": null
      }
     },
     "7af3c673c4bb4a13a5855adecd02dc2e": {
      "model_module": "@jupyter-widgets/controls",
      "model_module_version": "1.5.0",
      "model_name": "HBoxModel",
      "state": {
       "_dom_classes": [],
       "_model_module": "@jupyter-widgets/controls",
       "_model_module_version": "1.5.0",
       "_model_name": "HBoxModel",
       "_view_count": null,
       "_view_module": "@jupyter-widgets/controls",
       "_view_module_version": "1.5.0",
       "_view_name": "HBoxView",
       "box_style": "",
       "children": [
        "IPY_MODEL_2584b4dc6e4a4665ac3bd102ee295cfd",
        "IPY_MODEL_5648be03386a4aeaa16d4f43561cdbc5",
        "IPY_MODEL_3aa925d44ca349e1854075e196488ed1"
       ],
       "layout": "IPY_MODEL_6205c97b03a64c259cc1cb4a811ef663"
      }
     },
     "7cdf141f595c490ead4e66407234f095": {
      "model_module": "@jupyter-widgets/controls",
      "model_module_version": "1.5.0",
      "model_name": "HTMLModel",
      "state": {
       "_dom_classes": [],
       "_model_module": "@jupyter-widgets/controls",
       "_model_module_version": "1.5.0",
       "_model_name": "HTMLModel",
       "_view_count": null,
       "_view_module": "@jupyter-widgets/controls",
       "_view_module_version": "1.5.0",
       "_view_name": "HTMLView",
       "description": "",
       "description_tooltip": null,
       "layout": "IPY_MODEL_78640912c6ce442fa7b4345d6f84c0a4",
       "placeholder": "​",
       "style": "IPY_MODEL_98f8f542bba14c1f8598cf57506389bb",
       "value": "Downloading: 100%"
      }
     },
     "7d4730d3ec8b406a852d18ee603b1746": {
      "model_module": "@jupyter-widgets/controls",
      "model_module_version": "1.5.0",
      "model_name": "DescriptionStyleModel",
      "state": {
       "_model_module": "@jupyter-widgets/controls",
       "_model_module_version": "1.5.0",
       "_model_name": "DescriptionStyleModel",
       "_view_count": null,
       "_view_module": "@jupyter-widgets/base",
       "_view_module_version": "1.2.0",
       "_view_name": "StyleView",
       "description_width": ""
      }
     },
     "7d8e14d03a094c129278480f8a271cf7": {
      "model_module": "@jupyter-widgets/controls",
      "model_module_version": "1.5.0",
      "model_name": "HTMLModel",
      "state": {
       "_dom_classes": [],
       "_model_module": "@jupyter-widgets/controls",
       "_model_module_version": "1.5.0",
       "_model_name": "HTMLModel",
       "_view_count": null,
       "_view_module": "@jupyter-widgets/controls",
       "_view_module_version": "1.5.0",
       "_view_name": "HTMLView",
       "description": "",
       "description_tooltip": null,
       "layout": "IPY_MODEL_46c22bff4e194e13a306976dfed1d6c9",
       "placeholder": "​",
       "style": "IPY_MODEL_c4c5d6794b844997abf8d4ba8b11c1a0",
       "value": " 28.0/28.0 [00:00&lt;00:00, 810B/s]"
      }
     },
     "7eea26cc4ef042139aca573e44135b3a": {
      "model_module": "@jupyter-widgets/base",
      "model_module_version": "1.2.0",
      "model_name": "LayoutModel",
      "state": {
       "_model_module": "@jupyter-widgets/base",
       "_model_module_version": "1.2.0",
       "_model_name": "LayoutModel",
       "_view_count": null,
       "_view_module": "@jupyter-widgets/base",
       "_view_module_version": "1.2.0",
       "_view_name": "LayoutView",
       "align_content": null,
       "align_items": null,
       "align_self": null,
       "border": null,
       "bottom": null,
       "display": null,
       "flex": null,
       "flex_flow": null,
       "grid_area": null,
       "grid_auto_columns": null,
       "grid_auto_flow": null,
       "grid_auto_rows": null,
       "grid_column": null,
       "grid_gap": null,
       "grid_row": null,
       "grid_template_areas": null,
       "grid_template_columns": null,
       "grid_template_rows": null,
       "height": null,
       "justify_content": null,
       "justify_items": null,
       "left": null,
       "margin": null,
       "max_height": null,
       "max_width": null,
       "min_height": null,
       "min_width": null,
       "object_fit": null,
       "object_position": null,
       "order": null,
       "overflow": null,
       "overflow_x": null,
       "overflow_y": null,
       "padding": null,
       "right": null,
       "top": null,
       "visibility": null,
       "width": null
      }
     },
     "7eeb6cd37a0e40eb8497c95bb4ccdfd5": {
      "model_module": "@jupyter-widgets/controls",
      "model_module_version": "1.5.0",
      "model_name": "DescriptionStyleModel",
      "state": {
       "_model_module": "@jupyter-widgets/controls",
       "_model_module_version": "1.5.0",
       "_model_name": "DescriptionStyleModel",
       "_view_count": null,
       "_view_module": "@jupyter-widgets/base",
       "_view_module_version": "1.2.0",
       "_view_name": "StyleView",
       "description_width": ""
      }
     },
     "87cb6fd3104c47e3b223a43fa86f801b": {
      "model_module": "@jupyter-widgets/base",
      "model_module_version": "1.2.0",
      "model_name": "LayoutModel",
      "state": {
       "_model_module": "@jupyter-widgets/base",
       "_model_module_version": "1.2.0",
       "_model_name": "LayoutModel",
       "_view_count": null,
       "_view_module": "@jupyter-widgets/base",
       "_view_module_version": "1.2.0",
       "_view_name": "LayoutView",
       "align_content": null,
       "align_items": null,
       "align_self": null,
       "border": null,
       "bottom": null,
       "display": null,
       "flex": null,
       "flex_flow": null,
       "grid_area": null,
       "grid_auto_columns": null,
       "grid_auto_flow": null,
       "grid_auto_rows": null,
       "grid_column": null,
       "grid_gap": null,
       "grid_row": null,
       "grid_template_areas": null,
       "grid_template_columns": null,
       "grid_template_rows": null,
       "height": null,
       "justify_content": null,
       "justify_items": null,
       "left": null,
       "margin": null,
       "max_height": null,
       "max_width": null,
       "min_height": null,
       "min_width": null,
       "object_fit": null,
       "object_position": null,
       "order": null,
       "overflow": null,
       "overflow_x": null,
       "overflow_y": null,
       "padding": null,
       "right": null,
       "top": null,
       "visibility": null,
       "width": null
      }
     },
     "892cd2735c2347e69c70099f8701d874": {
      "model_module": "@jupyter-widgets/controls",
      "model_module_version": "1.5.0",
      "model_name": "DescriptionStyleModel",
      "state": {
       "_model_module": "@jupyter-widgets/controls",
       "_model_module_version": "1.5.0",
       "_model_name": "DescriptionStyleModel",
       "_view_count": null,
       "_view_module": "@jupyter-widgets/base",
       "_view_module_version": "1.2.0",
       "_view_name": "StyleView",
       "description_width": ""
      }
     },
     "8e7a665b38b54d65aea7ad61b8542839": {
      "model_module": "@jupyter-widgets/controls",
      "model_module_version": "1.5.0",
      "model_name": "ProgressStyleModel",
      "state": {
       "_model_module": "@jupyter-widgets/controls",
       "_model_module_version": "1.5.0",
       "_model_name": "ProgressStyleModel",
       "_view_count": null,
       "_view_module": "@jupyter-widgets/base",
       "_view_module_version": "1.2.0",
       "_view_name": "StyleView",
       "bar_color": null,
       "description_width": ""
      }
     },
     "8fe15153930b4d2581e5887c60a49676": {
      "model_module": "@jupyter-widgets/controls",
      "model_module_version": "1.5.0",
      "model_name": "DescriptionStyleModel",
      "state": {
       "_model_module": "@jupyter-widgets/controls",
       "_model_module_version": "1.5.0",
       "_model_name": "DescriptionStyleModel",
       "_view_count": null,
       "_view_module": "@jupyter-widgets/base",
       "_view_module_version": "1.2.0",
       "_view_name": "StyleView",
       "description_width": ""
      }
     },
     "957eb342c6314aeb82f1c8aa9a641fbd": {
      "model_module": "@jupyter-widgets/base",
      "model_module_version": "1.2.0",
      "model_name": "LayoutModel",
      "state": {
       "_model_module": "@jupyter-widgets/base",
       "_model_module_version": "1.2.0",
       "_model_name": "LayoutModel",
       "_view_count": null,
       "_view_module": "@jupyter-widgets/base",
       "_view_module_version": "1.2.0",
       "_view_name": "LayoutView",
       "align_content": null,
       "align_items": null,
       "align_self": null,
       "border": null,
       "bottom": null,
       "display": null,
       "flex": null,
       "flex_flow": null,
       "grid_area": null,
       "grid_auto_columns": null,
       "grid_auto_flow": null,
       "grid_auto_rows": null,
       "grid_column": null,
       "grid_gap": null,
       "grid_row": null,
       "grid_template_areas": null,
       "grid_template_columns": null,
       "grid_template_rows": null,
       "height": null,
       "justify_content": null,
       "justify_items": null,
       "left": null,
       "margin": null,
       "max_height": null,
       "max_width": null,
       "min_height": null,
       "min_width": null,
       "object_fit": null,
       "object_position": null,
       "order": null,
       "overflow": null,
       "overflow_x": null,
       "overflow_y": null,
       "padding": null,
       "right": null,
       "top": null,
       "visibility": null,
       "width": null
      }
     },
     "9806d96b640e4c2c94306492fad22912": {
      "model_module": "@jupyter-widgets/controls",
      "model_module_version": "1.5.0",
      "model_name": "FloatProgressModel",
      "state": {
       "_dom_classes": [],
       "_model_module": "@jupyter-widgets/controls",
       "_model_module_version": "1.5.0",
       "_model_name": "FloatProgressModel",
       "_view_count": null,
       "_view_module": "@jupyter-widgets/controls",
       "_view_module_version": "1.5.0",
       "_view_name": "ProgressView",
       "bar_style": "success",
       "description": "",
       "description_tooltip": null,
       "layout": "IPY_MODEL_a1c6a767fba24d19a21d57bdeab694b2",
       "max": 656.0,
       "min": 0.0,
       "orientation": "horizontal",
       "style": "IPY_MODEL_c73cba6624644624a3a2d6317eee5bbb",
       "value": 656.0
      }
     },
     "98f8f542bba14c1f8598cf57506389bb": {
      "model_module": "@jupyter-widgets/controls",
      "model_module_version": "1.5.0",
      "model_name": "DescriptionStyleModel",
      "state": {
       "_model_module": "@jupyter-widgets/controls",
       "_model_module_version": "1.5.0",
       "_model_name": "DescriptionStyleModel",
       "_view_count": null,
       "_view_module": "@jupyter-widgets/base",
       "_view_module_version": "1.2.0",
       "_view_name": "StyleView",
       "description_width": ""
      }
     },
     "9924e18476df48459205cea2b51d9afb": {
      "model_module": "@jupyter-widgets/controls",
      "model_module_version": "1.5.0",
      "model_name": "HTMLModel",
      "state": {
       "_dom_classes": [],
       "_model_module": "@jupyter-widgets/controls",
       "_model_module_version": "1.5.0",
       "_model_name": "HTMLModel",
       "_view_count": null,
       "_view_module": "@jupyter-widgets/controls",
       "_view_module_version": "1.5.0",
       "_view_name": "HTMLView",
       "description": "",
       "description_tooltip": null,
       "layout": "IPY_MODEL_230b683949bc4e93a25454f81ce6da02",
       "placeholder": "​",
       "style": "IPY_MODEL_a0176fc9caf94b509509ccd7af8e1caa",
       "value": " 448k/448k [00:00&lt;00:00, 606kB/s]"
      }
     },
     "99ea258c55b04ae8a176318655e1a88b": {
      "model_module": "@jupyter-widgets/base",
      "model_module_version": "1.2.0",
      "model_name": "LayoutModel",
      "state": {
       "_model_module": "@jupyter-widgets/base",
       "_model_module_version": "1.2.0",
       "_model_name": "LayoutModel",
       "_view_count": null,
       "_view_module": "@jupyter-widgets/base",
       "_view_module_version": "1.2.0",
       "_view_name": "LayoutView",
       "align_content": null,
       "align_items": null,
       "align_self": null,
       "border": null,
       "bottom": null,
       "display": null,
       "flex": null,
       "flex_flow": null,
       "grid_area": null,
       "grid_auto_columns": null,
       "grid_auto_flow": null,
       "grid_auto_rows": null,
       "grid_column": null,
       "grid_gap": null,
       "grid_row": null,
       "grid_template_areas": null,
       "grid_template_columns": null,
       "grid_template_rows": null,
       "height": null,
       "justify_content": null,
       "justify_items": null,
       "left": null,
       "margin": null,
       "max_height": null,
       "max_width": null,
       "min_height": null,
       "min_width": null,
       "object_fit": null,
       "object_position": null,
       "order": null,
       "overflow": null,
       "overflow_x": null,
       "overflow_y": null,
       "padding": null,
       "right": null,
       "top": null,
       "visibility": null,
       "width": null
      }
     },
     "9be1ec30803e4f5aaf27a82c10abf786": {
      "model_module": "@jupyter-widgets/controls",
      "model_module_version": "1.5.0",
      "model_name": "FloatProgressModel",
      "state": {
       "_dom_classes": [],
       "_model_module": "@jupyter-widgets/controls",
       "_model_module_version": "1.5.0",
       "_model_name": "FloatProgressModel",
       "_view_count": null,
       "_view_module": "@jupyter-widgets/controls",
       "_view_module_version": "1.5.0",
       "_view_name": "ProgressView",
       "bar_style": "success",
       "description": "",
       "description_tooltip": null,
       "layout": "IPY_MODEL_1c03075ea90446fc8de47522fa5c769d",
       "max": 28.0,
       "min": 0.0,
       "orientation": "horizontal",
       "style": "IPY_MODEL_cfffaad24d7448f9a554b22be0d41aae",
       "value": 28.0
      }
     },
     "9c60fb6d2bac42a5b7575bdbd5c051fc": {
      "model_module": "@jupyter-widgets/controls",
      "model_module_version": "1.5.0",
      "model_name": "DescriptionStyleModel",
      "state": {
       "_model_module": "@jupyter-widgets/controls",
       "_model_module_version": "1.5.0",
       "_model_name": "DescriptionStyleModel",
       "_view_count": null,
       "_view_module": "@jupyter-widgets/base",
       "_view_module_version": "1.2.0",
       "_view_name": "StyleView",
       "description_width": ""
      }
     },
     "9f55eeaf6d9d4a22a10f205d37aedce4": {
      "model_module": "@jupyter-widgets/controls",
      "model_module_version": "1.5.0",
      "model_name": "DescriptionStyleModel",
      "state": {
       "_model_module": "@jupyter-widgets/controls",
       "_model_module_version": "1.5.0",
       "_model_name": "DescriptionStyleModel",
       "_view_count": null,
       "_view_module": "@jupyter-widgets/base",
       "_view_module_version": "1.2.0",
       "_view_name": "StyleView",
       "description_width": ""
      }
     },
     "a0176fc9caf94b509509ccd7af8e1caa": {
      "model_module": "@jupyter-widgets/controls",
      "model_module_version": "1.5.0",
      "model_name": "DescriptionStyleModel",
      "state": {
       "_model_module": "@jupyter-widgets/controls",
       "_model_module_version": "1.5.0",
       "_model_name": "DescriptionStyleModel",
       "_view_count": null,
       "_view_module": "@jupyter-widgets/base",
       "_view_module_version": "1.2.0",
       "_view_name": "StyleView",
       "description_width": ""
      }
     },
     "a1327b4f454641cf932c0788a08b2a21": {
      "model_module": "@jupyter-widgets/controls",
      "model_module_version": "1.5.0",
      "model_name": "ProgressStyleModel",
      "state": {
       "_model_module": "@jupyter-widgets/controls",
       "_model_module_version": "1.5.0",
       "_model_name": "ProgressStyleModel",
       "_view_count": null,
       "_view_module": "@jupyter-widgets/base",
       "_view_module_version": "1.2.0",
       "_view_name": "StyleView",
       "bar_color": null,
       "description_width": ""
      }
     },
     "a1c6a767fba24d19a21d57bdeab694b2": {
      "model_module": "@jupyter-widgets/base",
      "model_module_version": "1.2.0",
      "model_name": "LayoutModel",
      "state": {
       "_model_module": "@jupyter-widgets/base",
       "_model_module_version": "1.2.0",
       "_model_name": "LayoutModel",
       "_view_count": null,
       "_view_module": "@jupyter-widgets/base",
       "_view_module_version": "1.2.0",
       "_view_name": "LayoutView",
       "align_content": null,
       "align_items": null,
       "align_self": null,
       "border": null,
       "bottom": null,
       "display": null,
       "flex": null,
       "flex_flow": null,
       "grid_area": null,
       "grid_auto_columns": null,
       "grid_auto_flow": null,
       "grid_auto_rows": null,
       "grid_column": null,
       "grid_gap": null,
       "grid_row": null,
       "grid_template_areas": null,
       "grid_template_columns": null,
       "grid_template_rows": null,
       "height": null,
       "justify_content": null,
       "justify_items": null,
       "left": null,
       "margin": null,
       "max_height": null,
       "max_width": null,
       "min_height": null,
       "min_width": null,
       "object_fit": null,
       "object_position": null,
       "order": null,
       "overflow": null,
       "overflow_x": null,
       "overflow_y": null,
       "padding": null,
       "right": null,
       "top": null,
       "visibility": null,
       "width": null
      }
     },
     "a224d55c94354e3781d19c0584812594": {
      "model_module": "@jupyter-widgets/controls",
      "model_module_version": "1.5.0",
      "model_name": "ProgressStyleModel",
      "state": {
       "_model_module": "@jupyter-widgets/controls",
       "_model_module_version": "1.5.0",
       "_model_name": "ProgressStyleModel",
       "_view_count": null,
       "_view_module": "@jupyter-widgets/base",
       "_view_module_version": "1.2.0",
       "_view_name": "StyleView",
       "bar_color": null,
       "description_width": ""
      }
     },
     "a3da1e472a714ce39127ba0acfc9a1f3": {
      "model_module": "@jupyter-widgets/controls",
      "model_module_version": "1.5.0",
      "model_name": "DescriptionStyleModel",
      "state": {
       "_model_module": "@jupyter-widgets/controls",
       "_model_module_version": "1.5.0",
       "_model_name": "DescriptionStyleModel",
       "_view_count": null,
       "_view_module": "@jupyter-widgets/base",
       "_view_module_version": "1.2.0",
       "_view_name": "StyleView",
       "description_width": ""
      }
     },
     "a503310d1b41432d8388213dc17cb303": {
      "model_module": "@jupyter-widgets/base",
      "model_module_version": "1.2.0",
      "model_name": "LayoutModel",
      "state": {
       "_model_module": "@jupyter-widgets/base",
       "_model_module_version": "1.2.0",
       "_model_name": "LayoutModel",
       "_view_count": null,
       "_view_module": "@jupyter-widgets/base",
       "_view_module_version": "1.2.0",
       "_view_name": "LayoutView",
       "align_content": null,
       "align_items": null,
       "align_self": null,
       "border": null,
       "bottom": null,
       "display": null,
       "flex": null,
       "flex_flow": null,
       "grid_area": null,
       "grid_auto_columns": null,
       "grid_auto_flow": null,
       "grid_auto_rows": null,
       "grid_column": null,
       "grid_gap": null,
       "grid_row": null,
       "grid_template_areas": null,
       "grid_template_columns": null,
       "grid_template_rows": null,
       "height": null,
       "justify_content": null,
       "justify_items": null,
       "left": null,
       "margin": null,
       "max_height": null,
       "max_width": null,
       "min_height": null,
       "min_width": null,
       "object_fit": null,
       "object_position": null,
       "order": null,
       "overflow": null,
       "overflow_x": null,
       "overflow_y": null,
       "padding": null,
       "right": null,
       "top": null,
       "visibility": null,
       "width": null
      }
     },
     "a7f380fce8c84fdfa038067fae135749": {
      "model_module": "@jupyter-widgets/controls",
      "model_module_version": "1.5.0",
      "model_name": "DescriptionStyleModel",
      "state": {
       "_model_module": "@jupyter-widgets/controls",
       "_model_module_version": "1.5.0",
       "_model_name": "DescriptionStyleModel",
       "_view_count": null,
       "_view_module": "@jupyter-widgets/base",
       "_view_module_version": "1.2.0",
       "_view_name": "StyleView",
       "description_width": ""
      }
     },
     "add7668218dd49e590991126e1a93de5": {
      "model_module": "@jupyter-widgets/controls",
      "model_module_version": "1.5.0",
      "model_name": "HTMLModel",
      "state": {
       "_dom_classes": [],
       "_model_module": "@jupyter-widgets/controls",
       "_model_module_version": "1.5.0",
       "_model_name": "HTMLModel",
       "_view_count": null,
       "_view_module": "@jupyter-widgets/controls",
       "_view_module_version": "1.5.0",
       "_view_name": "HTMLView",
       "description": "",
       "description_tooltip": null,
       "layout": "IPY_MODEL_13102c6459c84167bd1b219ba7c682c5",
       "placeholder": "​",
       "style": "IPY_MODEL_e0d69cd7cee84f44b24ccbef582b6edd",
       "value": " 656/656 [00:00&lt;00:00, 20.2kB/s]"
      }
     },
     "ae4378e10c844b0c8049b913e5d202e9": {
      "model_module": "@jupyter-widgets/controls",
      "model_module_version": "1.5.0",
      "model_name": "ProgressStyleModel",
      "state": {
       "_model_module": "@jupyter-widgets/controls",
       "_model_module_version": "1.5.0",
       "_model_name": "ProgressStyleModel",
       "_view_count": null,
       "_view_module": "@jupyter-widgets/base",
       "_view_module_version": "1.2.0",
       "_view_name": "StyleView",
       "bar_color": null,
       "description_width": ""
      }
     },
     "b3ae60c72f8d4dccaa4925d6f8e6fb41": {
      "model_module": "@jupyter-widgets/controls",
      "model_module_version": "1.5.0",
      "model_name": "HTMLModel",
      "state": {
       "_dom_classes": [],
       "_model_module": "@jupyter-widgets/controls",
       "_model_module_version": "1.5.0",
       "_model_name": "HTMLModel",
       "_view_count": null,
       "_view_module": "@jupyter-widgets/controls",
       "_view_module_version": "1.5.0",
       "_view_name": "HTMLView",
       "description": "",
       "description_tooltip": null,
       "layout": "IPY_MODEL_748e9c1aaf3241cfab87ba1129ee6cbb",
       "placeholder": "​",
       "style": "IPY_MODEL_8fe15153930b4d2581e5887c60a49676",
       "value": "Downloading: 100%"
      }
     },
     "b4c3a734812e4e69978afc98cf140af3": {
      "model_module": "@jupyter-widgets/base",
      "model_module_version": "1.2.0",
      "model_name": "LayoutModel",
      "state": {
       "_model_module": "@jupyter-widgets/base",
       "_model_module_version": "1.2.0",
       "_model_name": "LayoutModel",
       "_view_count": null,
       "_view_module": "@jupyter-widgets/base",
       "_view_module_version": "1.2.0",
       "_view_name": "LayoutView",
       "align_content": null,
       "align_items": null,
       "align_self": null,
       "border": null,
       "bottom": null,
       "display": null,
       "flex": null,
       "flex_flow": null,
       "grid_area": null,
       "grid_auto_columns": null,
       "grid_auto_flow": null,
       "grid_auto_rows": null,
       "grid_column": null,
       "grid_gap": null,
       "grid_row": null,
       "grid_template_areas": null,
       "grid_template_columns": null,
       "grid_template_rows": null,
       "height": null,
       "justify_content": null,
       "justify_items": null,
       "left": null,
       "margin": null,
       "max_height": null,
       "max_width": null,
       "min_height": null,
       "min_width": null,
       "object_fit": null,
       "object_position": null,
       "order": null,
       "overflow": null,
       "overflow_x": null,
       "overflow_y": null,
       "padding": null,
       "right": null,
       "top": null,
       "visibility": null,
       "width": null
      }
     },
     "b5ed7c0eed134509957bdc7421677dd5": {
      "model_module": "@jupyter-widgets/controls",
      "model_module_version": "1.5.0",
      "model_name": "HBoxModel",
      "state": {
       "_dom_classes": [],
       "_model_module": "@jupyter-widgets/controls",
       "_model_module_version": "1.5.0",
       "_model_name": "HBoxModel",
       "_view_count": null,
       "_view_module": "@jupyter-widgets/controls",
       "_view_module_version": "1.5.0",
       "_view_name": "HBoxView",
       "box_style": "",
       "children": [
        "IPY_MODEL_7cdf141f595c490ead4e66407234f095",
        "IPY_MODEL_ec02b1d862d24e73a0044da2512bfc5b",
        "IPY_MODEL_1e2d55aabce348ccaa9216d391075946"
       ],
       "layout": "IPY_MODEL_beb0e8594dbb41ef8433501110b68182"
      }
     },
     "ba8898349be14721a7948d522af01de7": {
      "model_module": "@jupyter-widgets/controls",
      "model_module_version": "1.5.0",
      "model_name": "HBoxModel",
      "state": {
       "_dom_classes": [],
       "_model_module": "@jupyter-widgets/controls",
       "_model_module_version": "1.5.0",
       "_model_name": "HBoxModel",
       "_view_count": null,
       "_view_module": "@jupyter-widgets/controls",
       "_view_module_version": "1.5.0",
       "_view_name": "HBoxView",
       "box_style": "",
       "children": [
        "IPY_MODEL_eda09bc9a9b84945828b870c9c82774b",
        "IPY_MODEL_9be1ec30803e4f5aaf27a82c10abf786",
        "IPY_MODEL_7d8e14d03a094c129278480f8a271cf7"
       ],
       "layout": "IPY_MODEL_a503310d1b41432d8388213dc17cb303"
      }
     },
     "beb0e8594dbb41ef8433501110b68182": {
      "model_module": "@jupyter-widgets/base",
      "model_module_version": "1.2.0",
      "model_name": "LayoutModel",
      "state": {
       "_model_module": "@jupyter-widgets/base",
       "_model_module_version": "1.2.0",
       "_model_name": "LayoutModel",
       "_view_count": null,
       "_view_module": "@jupyter-widgets/base",
       "_view_module_version": "1.2.0",
       "_view_name": "LayoutView",
       "align_content": null,
       "align_items": null,
       "align_self": null,
       "border": null,
       "bottom": null,
       "display": null,
       "flex": null,
       "flex_flow": null,
       "grid_area": null,
       "grid_auto_columns": null,
       "grid_auto_flow": null,
       "grid_auto_rows": null,
       "grid_column": null,
       "grid_gap": null,
       "grid_row": null,
       "grid_template_areas": null,
       "grid_template_columns": null,
       "grid_template_rows": null,
       "height": null,
       "justify_content": null,
       "justify_items": null,
       "left": null,
       "margin": null,
       "max_height": null,
       "max_width": null,
       "min_height": null,
       "min_width": null,
       "object_fit": null,
       "object_position": null,
       "order": null,
       "overflow": null,
       "overflow_x": null,
       "overflow_y": null,
       "padding": null,
       "right": null,
       "top": null,
       "visibility": null,
       "width": null
      }
     },
     "c4c5d6794b844997abf8d4ba8b11c1a0": {
      "model_module": "@jupyter-widgets/controls",
      "model_module_version": "1.5.0",
      "model_name": "DescriptionStyleModel",
      "state": {
       "_model_module": "@jupyter-widgets/controls",
       "_model_module_version": "1.5.0",
       "_model_name": "DescriptionStyleModel",
       "_view_count": null,
       "_view_module": "@jupyter-widgets/base",
       "_view_module_version": "1.2.0",
       "_view_name": "StyleView",
       "description_width": ""
      }
     },
     "c73cba6624644624a3a2d6317eee5bbb": {
      "model_module": "@jupyter-widgets/controls",
      "model_module_version": "1.5.0",
      "model_name": "ProgressStyleModel",
      "state": {
       "_model_module": "@jupyter-widgets/controls",
       "_model_module_version": "1.5.0",
       "_model_name": "ProgressStyleModel",
       "_view_count": null,
       "_view_module": "@jupyter-widgets/base",
       "_view_module_version": "1.2.0",
       "_view_name": "StyleView",
       "bar_color": null,
       "description_width": ""
      }
     },
     "cfffaad24d7448f9a554b22be0d41aae": {
      "model_module": "@jupyter-widgets/controls",
      "model_module_version": "1.5.0",
      "model_name": "ProgressStyleModel",
      "state": {
       "_model_module": "@jupyter-widgets/controls",
       "_model_module_version": "1.5.0",
       "_model_name": "ProgressStyleModel",
       "_view_count": null,
       "_view_module": "@jupyter-widgets/base",
       "_view_module_version": "1.2.0",
       "_view_name": "StyleView",
       "bar_color": null,
       "description_width": ""
      }
     },
     "e0d69cd7cee84f44b24ccbef582b6edd": {
      "model_module": "@jupyter-widgets/controls",
      "model_module_version": "1.5.0",
      "model_name": "DescriptionStyleModel",
      "state": {
       "_model_module": "@jupyter-widgets/controls",
       "_model_module_version": "1.5.0",
       "_model_name": "DescriptionStyleModel",
       "_view_count": null,
       "_view_module": "@jupyter-widgets/base",
       "_view_module_version": "1.2.0",
       "_view_name": "StyleView",
       "description_width": ""
      }
     },
     "e37ed01e12814c7baf68ca2bee616c13": {
      "model_module": "@jupyter-widgets/controls",
      "model_module_version": "1.5.0",
      "model_name": "HTMLModel",
      "state": {
       "_dom_classes": [],
       "_model_module": "@jupyter-widgets/controls",
       "_model_module_version": "1.5.0",
       "_model_name": "HTMLModel",
       "_view_count": null,
       "_view_module": "@jupyter-widgets/controls",
       "_view_module_version": "1.5.0",
       "_view_name": "HTMLView",
       "description": "",
       "description_tooltip": null,
       "layout": "IPY_MODEL_957eb342c6314aeb82f1c8aa9a641fbd",
       "placeholder": "​",
       "style": "IPY_MODEL_7d4730d3ec8b406a852d18ee603b1746",
       "value": " 226k/226k [00:00&lt;00:00, 642kB/s]"
      }
     },
     "ea6121a427704530ba157f0583df2d0a": {
      "model_module": "@jupyter-widgets/base",
      "model_module_version": "1.2.0",
      "model_name": "LayoutModel",
      "state": {
       "_model_module": "@jupyter-widgets/base",
       "_model_module_version": "1.2.0",
       "_model_name": "LayoutModel",
       "_view_count": null,
       "_view_module": "@jupyter-widgets/base",
       "_view_module_version": "1.2.0",
       "_view_name": "LayoutView",
       "align_content": null,
       "align_items": null,
       "align_self": null,
       "border": null,
       "bottom": null,
       "display": null,
       "flex": null,
       "flex_flow": null,
       "grid_area": null,
       "grid_auto_columns": null,
       "grid_auto_flow": null,
       "grid_auto_rows": null,
       "grid_column": null,
       "grid_gap": null,
       "grid_row": null,
       "grid_template_areas": null,
       "grid_template_columns": null,
       "grid_template_rows": null,
       "height": null,
       "justify_content": null,
       "justify_items": null,
       "left": null,
       "margin": null,
       "max_height": null,
       "max_width": null,
       "min_height": null,
       "min_width": null,
       "object_fit": null,
       "object_position": null,
       "order": null,
       "overflow": null,
       "overflow_x": null,
       "overflow_y": null,
       "padding": null,
       "right": null,
       "top": null,
       "visibility": null,
       "width": null
      }
     },
     "ead804a882334fb880a4cee0bb307cab": {
      "model_module": "@jupyter-widgets/base",
      "model_module_version": "1.2.0",
      "model_name": "LayoutModel",
      "state": {
       "_model_module": "@jupyter-widgets/base",
       "_model_module_version": "1.2.0",
       "_model_name": "LayoutModel",
       "_view_count": null,
       "_view_module": "@jupyter-widgets/base",
       "_view_module_version": "1.2.0",
       "_view_name": "LayoutView",
       "align_content": null,
       "align_items": null,
       "align_self": null,
       "border": null,
       "bottom": null,
       "display": null,
       "flex": null,
       "flex_flow": null,
       "grid_area": null,
       "grid_auto_columns": null,
       "grid_auto_flow": null,
       "grid_auto_rows": null,
       "grid_column": null,
       "grid_gap": null,
       "grid_row": null,
       "grid_template_areas": null,
       "grid_template_columns": null,
       "grid_template_rows": null,
       "height": null,
       "justify_content": null,
       "justify_items": null,
       "left": null,
       "margin": null,
       "max_height": null,
       "max_width": null,
       "min_height": null,
       "min_width": null,
       "object_fit": null,
       "object_position": null,
       "order": null,
       "overflow": null,
       "overflow_x": null,
       "overflow_y": null,
       "padding": null,
       "right": null,
       "top": null,
       "visibility": null,
       "width": null
      }
     },
     "ec02b1d862d24e73a0044da2512bfc5b": {
      "model_module": "@jupyter-widgets/controls",
      "model_module_version": "1.5.0",
      "model_name": "FloatProgressModel",
      "state": {
       "_dom_classes": [],
       "_model_module": "@jupyter-widgets/controls",
       "_model_module_version": "1.5.0",
       "_model_name": "FloatProgressModel",
       "_view_count": null,
       "_view_module": "@jupyter-widgets/controls",
       "_view_module_version": "1.5.0",
       "_view_name": "ProgressView",
       "bar_style": "success",
       "description": "",
       "description_tooltip": null,
       "layout": "IPY_MODEL_f3e0657d09e24817bda1a85b15cdc5cb",
       "max": 1272610.0,
       "min": 0.0,
       "orientation": "horizontal",
       "style": "IPY_MODEL_71df073d1cf446d7a30ec08fcd1405ad",
       "value": 1272610.0
      }
     },
     "eda09bc9a9b84945828b870c9c82774b": {
      "model_module": "@jupyter-widgets/controls",
      "model_module_version": "1.5.0",
      "model_name": "HTMLModel",
      "state": {
       "_dom_classes": [],
       "_model_module": "@jupyter-widgets/controls",
       "_model_module_version": "1.5.0",
       "_model_name": "HTMLModel",
       "_view_count": null,
       "_view_module": "@jupyter-widgets/controls",
       "_view_module_version": "1.5.0",
       "_view_name": "HTMLView",
       "description": "",
       "description_tooltip": null,
       "layout": "IPY_MODEL_87cb6fd3104c47e3b223a43fa86f801b",
       "placeholder": "​",
       "style": "IPY_MODEL_892cd2735c2347e69c70099f8701d874",
       "value": "Downloading: 100%"
      }
     },
     "eff13a7bcccc472797519fb9709efa7a": {
      "model_module": "@jupyter-widgets/controls",
      "model_module_version": "1.5.0",
      "model_name": "HTMLModel",
      "state": {
       "_dom_classes": [],
       "_model_module": "@jupyter-widgets/controls",
       "_model_module_version": "1.5.0",
       "_model_name": "HTMLModel",
       "_view_count": null,
       "_view_module": "@jupyter-widgets/controls",
       "_view_module_version": "1.5.0",
       "_view_name": "HTMLView",
       "description": "",
       "description_tooltip": null,
       "layout": "IPY_MODEL_99ea258c55b04ae8a176318655e1a88b",
       "placeholder": "​",
       "style": "IPY_MODEL_58d0d5460e174fa09198a7f10675b393",
       "value": "Downloading: 100%"
      }
     },
     "f2f4a8a67767442f940726a07f607efd": {
      "model_module": "@jupyter-widgets/controls",
      "model_module_version": "1.5.0",
      "model_name": "DescriptionStyleModel",
      "state": {
       "_model_module": "@jupyter-widgets/controls",
       "_model_module_version": "1.5.0",
       "_model_name": "DescriptionStyleModel",
       "_view_count": null,
       "_view_module": "@jupyter-widgets/base",
       "_view_module_version": "1.2.0",
       "_view_name": "StyleView",
       "description_width": ""
      }
     },
     "f3e0657d09e24817bda1a85b15cdc5cb": {
      "model_module": "@jupyter-widgets/base",
      "model_module_version": "1.2.0",
      "model_name": "LayoutModel",
      "state": {
       "_model_module": "@jupyter-widgets/base",
       "_model_module_version": "1.2.0",
       "_model_name": "LayoutModel",
       "_view_count": null,
       "_view_module": "@jupyter-widgets/base",
       "_view_module_version": "1.2.0",
       "_view_name": "LayoutView",
       "align_content": null,
       "align_items": null,
       "align_self": null,
       "border": null,
       "bottom": null,
       "display": null,
       "flex": null,
       "flex_flow": null,
       "grid_area": null,
       "grid_auto_columns": null,
       "grid_auto_flow": null,
       "grid_auto_rows": null,
       "grid_column": null,
       "grid_gap": null,
       "grid_row": null,
       "grid_template_areas": null,
       "grid_template_columns": null,
       "grid_template_rows": null,
       "height": null,
       "justify_content": null,
       "justify_items": null,
       "left": null,
       "margin": null,
       "max_height": null,
       "max_width": null,
       "min_height": null,
       "min_width": null,
       "object_fit": null,
       "object_position": null,
       "order": null,
       "overflow": null,
       "overflow_x": null,
       "overflow_y": null,
       "padding": null,
       "right": null,
       "top": null,
       "visibility": null,
       "width": null
      }
     },
     "f96eee7723e847978b069f91fce1c6ad": {
      "model_module": "@jupyter-widgets/controls",
      "model_module_version": "1.5.0",
      "model_name": "HBoxModel",
      "state": {
       "_dom_classes": [],
       "_model_module": "@jupyter-widgets/controls",
       "_model_module_version": "1.5.0",
       "_model_name": "HBoxModel",
       "_view_count": null,
       "_view_module": "@jupyter-widgets/controls",
       "_view_module_version": "1.5.0",
       "_view_name": "HBoxView",
       "box_style": "",
       "children": [
        "IPY_MODEL_10dd45b4aa754865b02314a4784216c1",
        "IPY_MODEL_9806d96b640e4c2c94306492fad22912",
        "IPY_MODEL_add7668218dd49e590991126e1a93de5"
       ],
       "layout": "IPY_MODEL_fd44059d16b24a6e975e509161dce19d"
      }
     },
     "fd44059d16b24a6e975e509161dce19d": {
      "model_module": "@jupyter-widgets/base",
      "model_module_version": "1.2.0",
      "model_name": "LayoutModel",
      "state": {
       "_model_module": "@jupyter-widgets/base",
       "_model_module_version": "1.2.0",
       "_model_name": "LayoutModel",
       "_view_count": null,
       "_view_module": "@jupyter-widgets/base",
       "_view_module_version": "1.2.0",
       "_view_name": "LayoutView",
       "align_content": null,
       "align_items": null,
       "align_self": null,
       "border": null,
       "bottom": null,
       "display": null,
       "flex": null,
       "flex_flow": null,
       "grid_area": null,
       "grid_auto_columns": null,
       "grid_auto_flow": null,
       "grid_auto_rows": null,
       "grid_column": null,
       "grid_gap": null,
       "grid_row": null,
       "grid_template_areas": null,
       "grid_template_columns": null,
       "grid_template_rows": null,
       "height": null,
       "justify_content": null,
       "justify_items": null,
       "left": null,
       "margin": null,
       "max_height": null,
       "max_width": null,
       "min_height": null,
       "min_width": null,
       "object_fit": null,
       "object_position": null,
       "order": null,
       "overflow": null,
       "overflow_x": null,
       "overflow_y": null,
       "padding": null,
       "right": null,
       "top": null,
       "visibility": null,
       "width": null
      }
     },
     "feaba4fc42a544e494453b305a8165f5": {
      "model_module": "@jupyter-widgets/controls",
      "model_module_version": "1.5.0",
      "model_name": "DescriptionStyleModel",
      "state": {
       "_model_module": "@jupyter-widgets/controls",
       "_model_module_version": "1.5.0",
       "_model_name": "DescriptionStyleModel",
       "_view_count": null,
       "_view_module": "@jupyter-widgets/base",
       "_view_module_version": "1.2.0",
       "_view_name": "StyleView",
       "description_width": ""
      }
     }
    },
    "version_major": 2,
    "version_minor": 0
   }
  }
 },
 "nbformat": 4,
 "nbformat_minor": 5
}
