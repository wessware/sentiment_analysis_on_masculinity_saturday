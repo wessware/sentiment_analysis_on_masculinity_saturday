{
 "cells": [
  {
   "cell_type": "code",
   "execution_count": 1,
   "id": "fac04bc8",
   "metadata": {
    "_cell_guid": "b1076dfc-b9ad-4769-8c92-a6c4dae69d19",
    "_uuid": "8f2839f25d086af736a60e9eeb907d3b93b6e0e5",
    "execution": {
     "iopub.execute_input": "2023-02-16T11:37:02.637733Z",
     "iopub.status.busy": "2023-02-16T11:37:02.637245Z",
     "iopub.status.idle": "2023-02-16T11:37:04.944725Z",
     "shell.execute_reply": "2023-02-16T11:37:04.943646Z"
    },
    "papermill": {
     "duration": 2.322677,
     "end_time": "2023-02-16T11:37:04.947628",
     "exception": false,
     "start_time": "2023-02-16T11:37:02.624951",
     "status": "completed"
    },
    "tags": []
   },
   "outputs": [],
   "source": [
    "import pandas as pd\n",
    "\n",
    "from transformers import AutoTokenizer\n",
    "from transformers import BertTokenizerFast\n",
    "from transformers import BertTokenizer\n",
    "from transformers import RobertaTokenizerFast\n",
    "#from transformers import ROBERTAtokenizer\n",
    "#from transformers import XLNETtokenizer\n",
    "from mlxtend.text import tokenizer_emoticons\n",
    "from nltk.tokenize.casual import TweetTokenizer\n",
    "\n",
    "import re, string\n",
    "import emoji"
   ]
  },
  {
   "cell_type": "code",
   "execution_count": 2,
   "id": "cb6046b8",
   "metadata": {
    "execution": {
     "iopub.execute_input": "2023-02-16T11:37:04.967000Z",
     "iopub.status.busy": "2023-02-16T11:37:04.966612Z",
     "iopub.status.idle": "2023-02-16T11:37:07.131998Z",
     "shell.execute_reply": "2023-02-16T11:37:07.130943Z"
    },
    "papermill": {
     "duration": 2.178407,
     "end_time": "2023-02-16T11:37:07.135041",
     "exception": false,
     "start_time": "2023-02-16T11:37:04.956634",
     "status": "completed"
    },
    "tags": []
   },
   "outputs": [],
   "source": [
    "df = pd.read_csv('/kaggle/input/masculinity-saturday-twitter-sentiment-analysis/twitter_sentiment_analysis_masculinity_saturday_data_annotated.csv', index_col=0)"
   ]
  },
  {
   "cell_type": "code",
   "execution_count": 3,
   "id": "f6652c5d",
   "metadata": {
    "execution": {
     "iopub.execute_input": "2023-02-16T11:37:07.155174Z",
     "iopub.status.busy": "2023-02-16T11:37:07.154047Z",
     "iopub.status.idle": "2023-02-16T11:37:07.177176Z",
     "shell.execute_reply": "2023-02-16T11:37:07.175673Z"
    },
    "papermill": {
     "duration": 0.037036,
     "end_time": "2023-02-16T11:37:07.181048",
     "exception": false,
     "start_time": "2023-02-16T11:37:07.144012",
     "status": "completed"
    },
    "tags": []
   },
   "outputs": [
    {
     "data": {
      "text/html": [
       "<div>\n",
       "<style scoped>\n",
       "    .dataframe tbody tr th:only-of-type {\n",
       "        vertical-align: middle;\n",
       "    }\n",
       "\n",
       "    .dataframe tbody tr th {\n",
       "        vertical-align: top;\n",
       "    }\n",
       "\n",
       "    .dataframe thead th {\n",
       "        text-align: right;\n",
       "    }\n",
       "</style>\n",
       "<table border=\"1\" class=\"dataframe\">\n",
       "  <thead>\n",
       "    <tr style=\"text-align: right;\">\n",
       "      <th></th>\n",
       "      <th>tweet_created_at</th>\n",
       "      <th>text</th>\n",
       "      <th>Positive</th>\n",
       "      <th>Negative</th>\n",
       "      <th>Neutral</th>\n",
       "      <th>Compound</th>\n",
       "      <th>Sentiment</th>\n",
       "    </tr>\n",
       "  </thead>\n",
       "  <tbody>\n",
       "    <tr>\n",
       "      <th>0</th>\n",
       "      <td>2022-12-30 22:37:46+00:00</td>\n",
       "      <td>Men who have refused to listen to/attend @amer...</td>\n",
       "      <td>0.000</td>\n",
       "      <td>0.073</td>\n",
       "      <td>0.927</td>\n",
       "      <td>-0.2960</td>\n",
       "      <td>Negative</td>\n",
       "    </tr>\n",
       "    <tr>\n",
       "      <th>1</th>\n",
       "      <td>2022-12-30 22:30:58+00:00</td>\n",
       "      <td>@OvOBrezzzy Take amerix next</td>\n",
       "      <td>0.000</td>\n",
       "      <td>0.000</td>\n",
       "      <td>1.000</td>\n",
       "      <td>0.0000</td>\n",
       "      <td>Neutral</td>\n",
       "    </tr>\n",
       "    <tr>\n",
       "      <th>2</th>\n",
       "      <td>2022-12-30 22:18:00+00:00</td>\n",
       "      <td>@AyodeleYo11 @amerix Nah I’m good my masculini...</td>\n",
       "      <td>0.493</td>\n",
       "      <td>0.068</td>\n",
       "      <td>0.439</td>\n",
       "      <td>0.8271</td>\n",
       "      <td>Positive</td>\n",
       "    </tr>\n",
       "    <tr>\n",
       "      <th>3</th>\n",
       "      <td>2022-12-30 20:42:54+00:00</td>\n",
       "      <td>@Amerix_DontSimp There is no need for dating i...</td>\n",
       "      <td>0.000</td>\n",
       "      <td>0.180</td>\n",
       "      <td>0.820</td>\n",
       "      <td>-0.2960</td>\n",
       "      <td>Negative</td>\n",
       "    </tr>\n",
       "    <tr>\n",
       "      <th>4</th>\n",
       "      <td>2022-12-30 20:32:23+00:00</td>\n",
       "      <td>@DyeAnna7 @amerix @kibe From what cos nothing ...</td>\n",
       "      <td>0.110</td>\n",
       "      <td>0.000</td>\n",
       "      <td>0.890</td>\n",
       "      <td>0.6908</td>\n",
       "      <td>Positive</td>\n",
       "    </tr>\n",
       "  </tbody>\n",
       "</table>\n",
       "</div>"
      ],
      "text/plain": [
       "            tweet_created_at  \\\n",
       "0  2022-12-30 22:37:46+00:00   \n",
       "1  2022-12-30 22:30:58+00:00   \n",
       "2  2022-12-30 22:18:00+00:00   \n",
       "3  2022-12-30 20:42:54+00:00   \n",
       "4  2022-12-30 20:32:23+00:00   \n",
       "\n",
       "                                                text  Positive  Negative  \\\n",
       "0  Men who have refused to listen to/attend @amer...     0.000     0.073   \n",
       "1                       @OvOBrezzzy Take amerix next     0.000     0.000   \n",
       "2  @AyodeleYo11 @amerix Nah I’m good my masculini...     0.493     0.068   \n",
       "3  @Amerix_DontSimp There is no need for dating i...     0.000     0.180   \n",
       "4  @DyeAnna7 @amerix @kibe From what cos nothing ...     0.110     0.000   \n",
       "\n",
       "   Neutral  Compound Sentiment  \n",
       "0    0.927   -0.2960  Negative  \n",
       "1    1.000    0.0000   Neutral  \n",
       "2    0.439    0.8271  Positive  \n",
       "3    0.820   -0.2960  Negative  \n",
       "4    0.890    0.6908  Positive  "
      ]
     },
     "execution_count": 3,
     "metadata": {},
     "output_type": "execute_result"
    }
   ],
   "source": [
    "df.head()"
   ]
  },
  {
   "cell_type": "code",
   "execution_count": 4,
   "id": "ea7eeeca",
   "metadata": {
    "execution": {
     "iopub.execute_input": "2023-02-16T11:37:07.201812Z",
     "iopub.status.busy": "2023-02-16T11:37:07.201384Z",
     "iopub.status.idle": "2023-02-16T11:37:07.273914Z",
     "shell.execute_reply": "2023-02-16T11:37:07.272184Z"
    },
    "papermill": {
     "duration": 0.08698,
     "end_time": "2023-02-16T11:37:07.277769",
     "exception": false,
     "start_time": "2023-02-16T11:37:07.190789",
     "status": "completed"
    },
    "tags": []
   },
   "outputs": [
    {
     "name": "stdout",
     "output_type": "stream",
     "text": [
      "<class 'pandas.core.frame.DataFrame'>\n",
      "Int64Index: 248738 entries, 0 to 248738\n",
      "Data columns (total 7 columns):\n",
      " #   Column            Non-Null Count   Dtype  \n",
      "---  ------            --------------   -----  \n",
      " 0   tweet_created_at  248738 non-null  object \n",
      " 1   text              248738 non-null  object \n",
      " 2   Positive          248738 non-null  float64\n",
      " 3   Negative          248738 non-null  float64\n",
      " 4   Neutral           248738 non-null  float64\n",
      " 5   Compound          248738 non-null  float64\n",
      " 6   Sentiment         248738 non-null  object \n",
      "dtypes: float64(4), object(3)\n",
      "memory usage: 15.2+ MB\n"
     ]
    }
   ],
   "source": [
    "df.info()"
   ]
  },
  {
   "cell_type": "code",
   "execution_count": 5,
   "id": "3ea1d806",
   "metadata": {
    "execution": {
     "iopub.execute_input": "2023-02-16T11:37:07.300026Z",
     "iopub.status.busy": "2023-02-16T11:37:07.299583Z",
     "iopub.status.idle": "2023-02-16T11:37:07.309816Z",
     "shell.execute_reply": "2023-02-16T11:37:07.308507Z"
    },
    "papermill": {
     "duration": 0.024235,
     "end_time": "2023-02-16T11:37:07.312245",
     "exception": false,
     "start_time": "2023-02-16T11:37:07.288010",
     "status": "completed"
    },
    "tags": []
   },
   "outputs": [
    {
     "data": {
      "text/plain": [
       "Index(['tweet_created_at', 'text', 'Positive', 'Negative', 'Neutral',\n",
       "       'Compound', 'Sentiment'],\n",
       "      dtype='object')"
      ]
     },
     "execution_count": 5,
     "metadata": {},
     "output_type": "execute_result"
    }
   ],
   "source": [
    "df.columns"
   ]
  },
  {
   "cell_type": "code",
   "execution_count": 6,
   "id": "ca4909c2",
   "metadata": {
    "execution": {
     "iopub.execute_input": "2023-02-16T11:37:07.333952Z",
     "iopub.status.busy": "2023-02-16T11:37:07.333143Z",
     "iopub.status.idle": "2023-02-16T11:37:07.354104Z",
     "shell.execute_reply": "2023-02-16T11:37:07.353036Z"
    },
    "papermill": {
     "duration": 0.034492,
     "end_time": "2023-02-16T11:37:07.356707",
     "exception": false,
     "start_time": "2023-02-16T11:37:07.322215",
     "status": "completed"
    },
    "tags": []
   },
   "outputs": [],
   "source": [
    "df = df[['tweet_created_at', 'text', 'Sentiment']]"
   ]
  },
  {
   "cell_type": "code",
   "execution_count": 7,
   "id": "b9ec2e1c",
   "metadata": {
    "execution": {
     "iopub.execute_input": "2023-02-16T11:37:07.378037Z",
     "iopub.status.busy": "2023-02-16T11:37:07.376788Z",
     "iopub.status.idle": "2023-02-16T11:37:07.389082Z",
     "shell.execute_reply": "2023-02-16T11:37:07.388193Z"
    },
    "papermill": {
     "duration": 0.025102,
     "end_time": "2023-02-16T11:37:07.391237",
     "exception": false,
     "start_time": "2023-02-16T11:37:07.366135",
     "status": "completed"
    },
    "tags": []
   },
   "outputs": [
    {
     "data": {
      "text/html": [
       "<div>\n",
       "<style scoped>\n",
       "    .dataframe tbody tr th:only-of-type {\n",
       "        vertical-align: middle;\n",
       "    }\n",
       "\n",
       "    .dataframe tbody tr th {\n",
       "        vertical-align: top;\n",
       "    }\n",
       "\n",
       "    .dataframe thead th {\n",
       "        text-align: right;\n",
       "    }\n",
       "</style>\n",
       "<table border=\"1\" class=\"dataframe\">\n",
       "  <thead>\n",
       "    <tr style=\"text-align: right;\">\n",
       "      <th></th>\n",
       "      <th>tweet_created_at</th>\n",
       "      <th>text</th>\n",
       "      <th>Sentiment</th>\n",
       "    </tr>\n",
       "  </thead>\n",
       "  <tbody>\n",
       "    <tr>\n",
       "      <th>0</th>\n",
       "      <td>2022-12-30 22:37:46+00:00</td>\n",
       "      <td>Men who have refused to listen to/attend @amer...</td>\n",
       "      <td>Negative</td>\n",
       "    </tr>\n",
       "    <tr>\n",
       "      <th>1</th>\n",
       "      <td>2022-12-30 22:30:58+00:00</td>\n",
       "      <td>@OvOBrezzzy Take amerix next</td>\n",
       "      <td>Neutral</td>\n",
       "    </tr>\n",
       "    <tr>\n",
       "      <th>2</th>\n",
       "      <td>2022-12-30 22:18:00+00:00</td>\n",
       "      <td>@AyodeleYo11 @amerix Nah I’m good my masculini...</td>\n",
       "      <td>Positive</td>\n",
       "    </tr>\n",
       "    <tr>\n",
       "      <th>3</th>\n",
       "      <td>2022-12-30 20:42:54+00:00</td>\n",
       "      <td>@Amerix_DontSimp There is no need for dating i...</td>\n",
       "      <td>Negative</td>\n",
       "    </tr>\n",
       "    <tr>\n",
       "      <th>4</th>\n",
       "      <td>2022-12-30 20:32:23+00:00</td>\n",
       "      <td>@DyeAnna7 @amerix @kibe From what cos nothing ...</td>\n",
       "      <td>Positive</td>\n",
       "    </tr>\n",
       "  </tbody>\n",
       "</table>\n",
       "</div>"
      ],
      "text/plain": [
       "            tweet_created_at  \\\n",
       "0  2022-12-30 22:37:46+00:00   \n",
       "1  2022-12-30 22:30:58+00:00   \n",
       "2  2022-12-30 22:18:00+00:00   \n",
       "3  2022-12-30 20:42:54+00:00   \n",
       "4  2022-12-30 20:32:23+00:00   \n",
       "\n",
       "                                                text Sentiment  \n",
       "0  Men who have refused to listen to/attend @amer...  Negative  \n",
       "1                       @OvOBrezzzy Take amerix next   Neutral  \n",
       "2  @AyodeleYo11 @amerix Nah I’m good my masculini...  Positive  \n",
       "3  @Amerix_DontSimp There is no need for dating i...  Negative  \n",
       "4  @DyeAnna7 @amerix @kibe From what cos nothing ...  Positive  "
      ]
     },
     "execution_count": 7,
     "metadata": {},
     "output_type": "execute_result"
    }
   ],
   "source": [
    "df.head()"
   ]
  },
  {
   "cell_type": "code",
   "execution_count": 8,
   "id": "1589db58",
   "metadata": {
    "execution": {
     "iopub.execute_input": "2023-02-16T11:37:07.411857Z",
     "iopub.status.busy": "2023-02-16T11:37:07.411417Z",
     "iopub.status.idle": "2023-02-16T11:37:07.420956Z",
     "shell.execute_reply": "2023-02-16T11:37:07.419723Z"
    },
    "papermill": {
     "duration": 0.022677,
     "end_time": "2023-02-16T11:37:07.423406",
     "exception": false,
     "start_time": "2023-02-16T11:37:07.400729",
     "status": "completed"
    },
    "tags": []
   },
   "outputs": [
    {
     "data": {
      "text/plain": [
       "0     Men who have refused to listen to/attend @amer...\n",
       "1                          @OvOBrezzzy Take amerix next\n",
       "2     @AyodeleYo11 @amerix Nah I’m good my masculini...\n",
       "3     @Amerix_DontSimp There is no need for dating i...\n",
       "4     @DyeAnna7 @amerix @kibe From what cos nothing ...\n",
       "5     @salim_the_don @MwendiaJnr I see you unblocked...\n",
       "6     @german_kenyan @ML_Philosophy 🤣 yes they are a...\n",
       "7     @PadreMusa Amerix once said the alcohol menace...\n",
       "8     @DodoPicard You're in Eastafrica, he probably ...\n",
       "9                      @HBK_ACTIVIST @amerix @kibe Heal\n",
       "10                           Amerix student of the year\n",
       "11    @sholla_saddam These are notes from @amerix's ...\n",
       "12    @amerix I appreciate the intent of this, but I...\n",
       "13    @Mynames_Jefff @Biancawamu2 @amerix Wouldn't b...\n",
       "14    @sharbabababa @Biancawamu2 could be @amerix wife🤷\n",
       "15    @DyeAnna7 @amerix @kibe Was raised by toxic co...\n",
       "16    @butdarkacademia @purevibeezz good thing is An...\n",
       "17    @amerix The system needs you sick and depresse...\n",
       "18    As we end the year 2022, kindly pass my messag...\n",
       "19                       @Ha_thighness @yvng_joh Amerix\n",
       "Name: text, dtype: object"
      ]
     },
     "execution_count": 8,
     "metadata": {},
     "output_type": "execute_result"
    }
   ],
   "source": [
    "df['text'].head(20)"
   ]
  },
  {
   "cell_type": "code",
   "execution_count": 9,
   "id": "e67f6767",
   "metadata": {
    "execution": {
     "iopub.execute_input": "2023-02-16T11:37:07.444444Z",
     "iopub.status.busy": "2023-02-16T11:37:07.444020Z",
     "iopub.status.idle": "2023-02-16T11:37:07.458123Z",
     "shell.execute_reply": "2023-02-16T11:37:07.456922Z"
    },
    "papermill": {
     "duration": 0.02748,
     "end_time": "2023-02-16T11:37:07.460568",
     "exception": false,
     "start_time": "2023-02-16T11:37:07.433088",
     "status": "completed"
    },
    "tags": []
   },
   "outputs": [
    {
     "data": {
      "text/html": [
       "<div>\n",
       "<style scoped>\n",
       "    .dataframe tbody tr th:only-of-type {\n",
       "        vertical-align: middle;\n",
       "    }\n",
       "\n",
       "    .dataframe tbody tr th {\n",
       "        vertical-align: top;\n",
       "    }\n",
       "\n",
       "    .dataframe thead th {\n",
       "        text-align: right;\n",
       "    }\n",
       "</style>\n",
       "<table border=\"1\" class=\"dataframe\">\n",
       "  <thead>\n",
       "    <tr style=\"text-align: right;\">\n",
       "      <th></th>\n",
       "      <th>tweet_created_at</th>\n",
       "      <th>text</th>\n",
       "      <th>Sentiment</th>\n",
       "    </tr>\n",
       "  </thead>\n",
       "  <tbody>\n",
       "    <tr>\n",
       "      <th>248719</th>\n",
       "      <td>2020-01-03 16:00:23+00:00</td>\n",
       "      <td>#FoodFriday means tasty snacks throughout the ...</td>\n",
       "      <td>Neutral</td>\n",
       "    </tr>\n",
       "    <tr>\n",
       "      <th>248720</th>\n",
       "      <td>2020-01-03 15:32:14+00:00</td>\n",
       "      <td>F U E L E D F R I D A Y\\nLooking for a fun, co...</td>\n",
       "      <td>Positive</td>\n",
       "    </tr>\n",
       "    <tr>\n",
       "      <th>248721</th>\n",
       "      <td>2020-01-03 15:15:13+00:00</td>\n",
       "      <td>Kummer reminds you to stay hydrated #foodfrida...</td>\n",
       "      <td>Neutral</td>\n",
       "    </tr>\n",
       "    <tr>\n",
       "      <th>248722</th>\n",
       "      <td>2020-01-03 15:14:57+00:00</td>\n",
       "      <td>Commercial #Kitchens need attention at a great...</td>\n",
       "      <td>Positive</td>\n",
       "    </tr>\n",
       "    <tr>\n",
       "      <th>248723</th>\n",
       "      <td>2020-01-03 15:11:01+00:00</td>\n",
       "      <td>Mary's Meals is changing lives in Zimbabwe htt...</td>\n",
       "      <td>Neutral</td>\n",
       "    </tr>\n",
       "    <tr>\n",
       "      <th>248724</th>\n",
       "      <td>2020-01-03 15:00:48+00:00</td>\n",
       "      <td>Will meat alternatives continue gaining popula...</td>\n",
       "      <td>Positive</td>\n",
       "    </tr>\n",
       "    <tr>\n",
       "      <th>248725</th>\n",
       "      <td>2020-01-03 14:29:10+00:00</td>\n",
       "      <td>These are our top five healthy recipes that yo...</td>\n",
       "      <td>Positive</td>\n",
       "    </tr>\n",
       "    <tr>\n",
       "      <th>248726</th>\n",
       "      <td>2020-01-03 14:01:57+00:00</td>\n",
       "      <td>Burned out on cooking after the holidays? Here...</td>\n",
       "      <td>Positive</td>\n",
       "    </tr>\n",
       "    <tr>\n",
       "      <th>248727</th>\n",
       "      <td>2020-01-03 14:00:38+00:00</td>\n",
       "      <td>Will you eat lettuce that is not grown in soil...</td>\n",
       "      <td>Neutral</td>\n",
       "    </tr>\n",
       "    <tr>\n",
       "      <th>248728</th>\n",
       "      <td>2020-01-03 13:49:24+00:00</td>\n",
       "      <td>#FoodFriday: Is it possible to treat things li...</td>\n",
       "      <td>Negative</td>\n",
       "    </tr>\n",
       "    <tr>\n",
       "      <th>248729</th>\n",
       "      <td>2020-01-03 13:33:59+00:00</td>\n",
       "      <td>Foodies, this particular country is one of our...</td>\n",
       "      <td>Positive</td>\n",
       "    </tr>\n",
       "    <tr>\n",
       "      <th>248730</th>\n",
       "      <td>2020-01-03 13:15:42+00:00</td>\n",
       "      <td>Today is usually #FoodFriday on this timeline....</td>\n",
       "      <td>Negative</td>\n",
       "    </tr>\n",
       "    <tr>\n",
       "      <th>248731</th>\n",
       "      <td>2020-01-03 13:06:15+00:00</td>\n",
       "      <td>#FoodFriday\\n\\nWhat are you cookin' up today o...</td>\n",
       "      <td>Positive</td>\n",
       "    </tr>\n",
       "    <tr>\n",
       "      <th>248732</th>\n",
       "      <td>2020-01-03 12:30:12+00:00</td>\n",
       "      <td>This weeks #FoodFriday is from @WoodsideBay 🍕\\...</td>\n",
       "      <td>Positive</td>\n",
       "    </tr>\n",
       "    <tr>\n",
       "      <th>248733</th>\n",
       "      <td>2020-01-03 12:05:03+00:00</td>\n",
       "      <td>Ring in the New Year with healthy eating. Chec...</td>\n",
       "      <td>Positive</td>\n",
       "    </tr>\n",
       "    <tr>\n",
       "      <th>248734</th>\n",
       "      <td>2020-01-03 11:15:48+00:00</td>\n",
       "      <td>'The old fool forgot the lessons of Blodeuwedd...</td>\n",
       "      <td>Negative</td>\n",
       "    </tr>\n",
       "    <tr>\n",
       "      <th>248735</th>\n",
       "      <td>2020-01-03 10:08:33+00:00</td>\n",
       "      <td>African star Apple (Udara).\\nRich source of vi...</td>\n",
       "      <td>Positive</td>\n",
       "    </tr>\n",
       "    <tr>\n",
       "      <th>248736</th>\n",
       "      <td>2020-01-03 06:44:33+00:00</td>\n",
       "      <td>#FOODFRIDAY 🇮🇹🍫\\nIf you love chocolate, then b...</td>\n",
       "      <td>Positive</td>\n",
       "    </tr>\n",
       "    <tr>\n",
       "      <th>248737</th>\n",
       "      <td>2020-01-03 06:31:10+00:00</td>\n",
       "      <td>#foodfriday @baghdadcafeCT hey offer a variety...</td>\n",
       "      <td>Positive</td>\n",
       "    </tr>\n",
       "    <tr>\n",
       "      <th>248738</th>\n",
       "      <td>2020-01-03 04:30:00+00:00</td>\n",
       "      <td>This Mangalorean special chicken curry can be ...</td>\n",
       "      <td>Positive</td>\n",
       "    </tr>\n",
       "  </tbody>\n",
       "</table>\n",
       "</div>"
      ],
      "text/plain": [
       "                 tweet_created_at  \\\n",
       "248719  2020-01-03 16:00:23+00:00   \n",
       "248720  2020-01-03 15:32:14+00:00   \n",
       "248721  2020-01-03 15:15:13+00:00   \n",
       "248722  2020-01-03 15:14:57+00:00   \n",
       "248723  2020-01-03 15:11:01+00:00   \n",
       "248724  2020-01-03 15:00:48+00:00   \n",
       "248725  2020-01-03 14:29:10+00:00   \n",
       "248726  2020-01-03 14:01:57+00:00   \n",
       "248727  2020-01-03 14:00:38+00:00   \n",
       "248728  2020-01-03 13:49:24+00:00   \n",
       "248729  2020-01-03 13:33:59+00:00   \n",
       "248730  2020-01-03 13:15:42+00:00   \n",
       "248731  2020-01-03 13:06:15+00:00   \n",
       "248732  2020-01-03 12:30:12+00:00   \n",
       "248733  2020-01-03 12:05:03+00:00   \n",
       "248734  2020-01-03 11:15:48+00:00   \n",
       "248735  2020-01-03 10:08:33+00:00   \n",
       "248736  2020-01-03 06:44:33+00:00   \n",
       "248737  2020-01-03 06:31:10+00:00   \n",
       "248738  2020-01-03 04:30:00+00:00   \n",
       "\n",
       "                                                     text Sentiment  \n",
       "248719  #FoodFriday means tasty snacks throughout the ...   Neutral  \n",
       "248720  F U E L E D F R I D A Y\\nLooking for a fun, co...  Positive  \n",
       "248721  Kummer reminds you to stay hydrated #foodfrida...   Neutral  \n",
       "248722  Commercial #Kitchens need attention at a great...  Positive  \n",
       "248723  Mary's Meals is changing lives in Zimbabwe htt...   Neutral  \n",
       "248724  Will meat alternatives continue gaining popula...  Positive  \n",
       "248725  These are our top five healthy recipes that yo...  Positive  \n",
       "248726  Burned out on cooking after the holidays? Here...  Positive  \n",
       "248727  Will you eat lettuce that is not grown in soil...   Neutral  \n",
       "248728  #FoodFriday: Is it possible to treat things li...  Negative  \n",
       "248729  Foodies, this particular country is one of our...  Positive  \n",
       "248730  Today is usually #FoodFriday on this timeline....  Negative  \n",
       "248731  #FoodFriday\\n\\nWhat are you cookin' up today o...  Positive  \n",
       "248732  This weeks #FoodFriday is from @WoodsideBay 🍕\\...  Positive  \n",
       "248733  Ring in the New Year with healthy eating. Chec...  Positive  \n",
       "248734  'The old fool forgot the lessons of Blodeuwedd...  Negative  \n",
       "248735  African star Apple (Udara).\\nRich source of vi...  Positive  \n",
       "248736  #FOODFRIDAY 🇮🇹🍫\\nIf you love chocolate, then b...  Positive  \n",
       "248737  #foodfriday @baghdadcafeCT hey offer a variety...  Positive  \n",
       "248738  This Mangalorean special chicken curry can be ...  Positive  "
      ]
     },
     "execution_count": 9,
     "metadata": {},
     "output_type": "execute_result"
    }
   ],
   "source": [
    "df.tail(20)"
   ]
  },
  {
   "cell_type": "code",
   "execution_count": 10,
   "id": "ab5347a3",
   "metadata": {
    "execution": {
     "iopub.execute_input": "2023-02-16T11:37:07.483043Z",
     "iopub.status.busy": "2023-02-16T11:37:07.482070Z",
     "iopub.status.idle": "2023-02-16T11:37:19.927774Z",
     "shell.execute_reply": "2023-02-16T11:37:19.926801Z"
    },
    "papermill": {
     "duration": 12.459548,
     "end_time": "2023-02-16T11:37:19.930305",
     "exception": false,
     "start_time": "2023-02-16T11:37:07.470757",
     "status": "completed"
    },
    "tags": []
   },
   "outputs": [
    {
     "data": {
      "application/vnd.jupyter.widget-view+json": {
       "model_id": "2d769f8c38fb465caf6d781e1941007e",
       "version_major": 2,
       "version_minor": 0
      },
      "text/plain": [
       "Downloading:   0%|          | 0.00/28.0 [00:00<?, ?B/s]"
      ]
     },
     "metadata": {},
     "output_type": "display_data"
    },
    {
     "data": {
      "application/vnd.jupyter.widget-view+json": {
       "model_id": "33f79675d23c44f5ab346ea2ea105fe7",
       "version_major": 2,
       "version_minor": 0
      },
      "text/plain": [
       "Downloading:   0%|          | 0.00/226k [00:00<?, ?B/s]"
      ]
     },
     "metadata": {},
     "output_type": "display_data"
    },
    {
     "data": {
      "application/vnd.jupyter.widget-view+json": {
       "model_id": "59027e25b1bc456993d0d24212f35bb3",
       "version_major": 2,
       "version_minor": 0
      },
      "text/plain": [
       "Downloading:   0%|          | 0.00/455k [00:00<?, ?B/s]"
      ]
     },
     "metadata": {},
     "output_type": "display_data"
    },
    {
     "data": {
      "application/vnd.jupyter.widget-view+json": {
       "model_id": "e0c264fe43ab4ec1812c5df083f7b681",
       "version_major": 2,
       "version_minor": 0
      },
      "text/plain": [
       "Downloading:   0%|          | 0.00/570 [00:00<?, ?B/s]"
      ]
     },
     "metadata": {},
     "output_type": "display_data"
    }
   ],
   "source": [
    "tokenizer = BertTokenizerFast.from_pretrained('bert-base-uncased')"
   ]
  },
  {
   "cell_type": "code",
   "execution_count": 11,
   "id": "e8b76d5b",
   "metadata": {
    "execution": {
     "iopub.execute_input": "2023-02-16T11:37:19.954615Z",
     "iopub.status.busy": "2023-02-16T11:37:19.953714Z",
     "iopub.status.idle": "2023-02-16T11:37:28.546693Z",
     "shell.execute_reply": "2023-02-16T11:37:28.545624Z"
    },
    "papermill": {
     "duration": 8.607723,
     "end_time": "2023-02-16T11:37:28.549537",
     "exception": false,
     "start_time": "2023-02-16T11:37:19.941814",
     "status": "completed"
    },
    "tags": []
   },
   "outputs": [],
   "source": [
    "tokenizer_1 = AutoTokenizer.from_pretrained('bert-base-uncased')"
   ]
  },
  {
   "cell_type": "code",
   "execution_count": 12,
   "id": "b058e645",
   "metadata": {
    "execution": {
     "iopub.execute_input": "2023-02-16T11:37:28.572237Z",
     "iopub.status.busy": "2023-02-16T11:37:28.571822Z",
     "iopub.status.idle": "2023-02-16T11:37:38.596648Z",
     "shell.execute_reply": "2023-02-16T11:37:38.595259Z"
    },
    "papermill": {
     "duration": 10.039308,
     "end_time": "2023-02-16T11:37:38.599401",
     "exception": false,
     "start_time": "2023-02-16T11:37:28.560093",
     "status": "completed"
    },
    "tags": []
   },
   "outputs": [
    {
     "name": "stdout",
     "output_type": "stream",
     "text": [
      "99.80984576378619% of the emojis are not identified by this tokenizer.\n"
     ]
    }
   ],
   "source": [
    "emoji_list = list(emoji.EMOJI_DATA.keys())\n",
    "\n",
    "cnt = 0\n",
    "\n",
    "for e in emoji_list:\n",
    "    tokenized = tokenizer.decode(tokenizer.encode(e)).strip(\"</s>\").strip()\n",
    "    if e not in tokenized:\n",
    "        cnt += 1\n",
    "print(f\"{cnt/len(emoji_list)*100}% of the emojis are not identified by this tokenizer.\")"
   ]
  },
  {
   "cell_type": "code",
   "execution_count": 13,
   "id": "0332f1f5",
   "metadata": {
    "execution": {
     "iopub.execute_input": "2023-02-16T11:37:38.622995Z",
     "iopub.status.busy": "2023-02-16T11:37:38.622209Z",
     "iopub.status.idle": "2023-02-16T11:37:39.019630Z",
     "shell.execute_reply": "2023-02-16T11:37:39.018370Z"
    },
    "papermill": {
     "duration": 0.412566,
     "end_time": "2023-02-16T11:37:39.022811",
     "exception": false,
     "start_time": "2023-02-16T11:37:38.610245",
     "status": "completed"
    },
    "tags": []
   },
   "outputs": [
    {
     "name": "stdout",
     "output_type": "stream",
     "text": [
      "99.80984576378619% of the emojis are not identified by this tokenizer.\n"
     ]
    }
   ],
   "source": [
    "emoji_list = list(emoji.EMOJI_DATA.keys())\n",
    "\n",
    "cnt = 0\n",
    "\n",
    "for e in emoji_list:\n",
    "    tokenized = tokenizer_1.decode(tokenizer_1.encode(e)).strip(\"</s>\").strip()\n",
    "    if e not in tokenized:\n",
    "        cnt += 1\n",
    "print(f\"{cnt/len(emoji_list)*100}% of the emojis are not identified by this tokenizer.\")"
   ]
  },
  {
   "cell_type": "code",
   "execution_count": 14,
   "id": "a55c92be",
   "metadata": {
    "execution": {
     "iopub.execute_input": "2023-02-16T11:37:39.046273Z",
     "iopub.status.busy": "2023-02-16T11:37:39.045371Z",
     "iopub.status.idle": "2023-02-16T11:37:43.868094Z",
     "shell.execute_reply": "2023-02-16T11:37:43.866732Z"
    },
    "papermill": {
     "duration": 4.837464,
     "end_time": "2023-02-16T11:37:43.870970",
     "exception": false,
     "start_time": "2023-02-16T11:37:39.033506",
     "status": "completed"
    },
    "tags": []
   },
   "outputs": [],
   "source": [
    "tokenizer_3 = BertTokenizer.from_pretrained('bert-base-uncased')"
   ]
  },
  {
   "cell_type": "code",
   "execution_count": 15,
   "id": "b4872f03",
   "metadata": {
    "execution": {
     "iopub.execute_input": "2023-02-16T11:37:43.895339Z",
     "iopub.status.busy": "2023-02-16T11:37:43.894902Z",
     "iopub.status.idle": "2023-02-16T11:37:44.783936Z",
     "shell.execute_reply": "2023-02-16T11:37:44.782823Z"
    },
    "papermill": {
     "duration": 0.904502,
     "end_time": "2023-02-16T11:37:44.786676",
     "exception": false,
     "start_time": "2023-02-16T11:37:43.882174",
     "status": "completed"
    },
    "tags": []
   },
   "outputs": [
    {
     "name": "stdout",
     "output_type": "stream",
     "text": [
      "99.80984576378619% of the emojis are not identified by this tokenizer.\n"
     ]
    }
   ],
   "source": [
    "emoji_list = list(emoji.EMOJI_DATA.keys())\n",
    "\n",
    "cnt = 0\n",
    "\n",
    "for e in emoji_list:\n",
    "    tokenized = tokenizer_3.decode(tokenizer_3.encode(e)).strip(\"</s>\").strip()\n",
    "    if e not in tokenized:\n",
    "        cnt += 1\n",
    "print(f\"{cnt/len(emoji_list)*100}% of the emojis are not identified by this tokenizer.\")"
   ]
  },
  {
   "cell_type": "code",
   "execution_count": 16,
   "id": "280605f0",
   "metadata": {
    "execution": {
     "iopub.execute_input": "2023-02-16T11:37:44.809795Z",
     "iopub.status.busy": "2023-02-16T11:37:44.809378Z",
     "iopub.status.idle": "2023-02-16T11:38:01.649594Z",
     "shell.execute_reply": "2023-02-16T11:38:01.648419Z"
    },
    "papermill": {
     "duration": 16.85503,
     "end_time": "2023-02-16T11:38:01.652437",
     "exception": false,
     "start_time": "2023-02-16T11:37:44.797407",
     "status": "completed"
    },
    "tags": []
   },
   "outputs": [
    {
     "data": {
      "application/vnd.jupyter.widget-view+json": {
       "model_id": "1eadb530626e448ca64cc2a2f688bb69",
       "version_major": 2,
       "version_minor": 0
      },
      "text/plain": [
       "Downloading:   0%|          | 0.00/656 [00:00<?, ?B/s]"
      ]
     },
     "metadata": {},
     "output_type": "display_data"
    },
    {
     "data": {
      "application/vnd.jupyter.widget-view+json": {
       "model_id": "b8b17bdbe1234c09bf0fbe0c6649f63b",
       "version_major": 2,
       "version_minor": 0
      },
      "text/plain": [
       "Downloading:   0%|          | 0.00/797k [00:00<?, ?B/s]"
      ]
     },
     "metadata": {},
     "output_type": "display_data"
    },
    {
     "data": {
      "application/vnd.jupyter.widget-view+json": {
       "model_id": "9847aedd93524184b9d3e715ccb0e5d1",
       "version_major": 2,
       "version_minor": 0
      },
      "text/plain": [
       "Downloading:   0%|          | 0.00/448k [00:00<?, ?B/s]"
      ]
     },
     "metadata": {},
     "output_type": "display_data"
    },
    {
     "data": {
      "application/vnd.jupyter.widget-view+json": {
       "model_id": "13e4cf7492644518a770641d71672f78",
       "version_major": 2,
       "version_minor": 0
      },
      "text/plain": [
       "Downloading:   0%|          | 0.00/1.21M [00:00<?, ?B/s]"
      ]
     },
     "metadata": {},
     "output_type": "display_data"
    }
   ],
   "source": [
    "tokenizer_4 = AutoTokenizer.from_pretrained(\"openai-gpt\")"
   ]
  },
  {
   "cell_type": "code",
   "execution_count": 17,
   "id": "7fd68b07",
   "metadata": {
    "execution": {
     "iopub.execute_input": "2023-02-16T11:38:01.677418Z",
     "iopub.status.busy": "2023-02-16T11:38:01.676981Z",
     "iopub.status.idle": "2023-02-16T11:38:02.034929Z",
     "shell.execute_reply": "2023-02-16T11:38:02.033148Z"
    },
    "papermill": {
     "duration": 0.373263,
     "end_time": "2023-02-16T11:38:02.037414",
     "exception": false,
     "start_time": "2023-02-16T11:38:01.664151",
     "status": "completed"
    },
    "tags": []
   },
   "outputs": [
    {
     "name": "stdout",
     "output_type": "stream",
     "text": [
      "99.80984576378619% of the emojis are not identified by this tokenizer.\n"
     ]
    }
   ],
   "source": [
    "emoji_list = list(emoji.EMOJI_DATA.keys())\n",
    "\n",
    "cnt = 0\n",
    "\n",
    "for e in emoji_list:\n",
    "    tokenized = tokenizer_4.decode(tokenizer_4.encode(e)).strip(\"</s>\").strip()\n",
    "    if e not in tokenized:\n",
    "        cnt += 1\n",
    "print(f\"{cnt/len(emoji_list)*100}% of the emojis are not identified by this tokenizer.\")"
   ]
  },
  {
   "cell_type": "code",
   "execution_count": 18,
   "id": "f45377f3",
   "metadata": {
    "execution": {
     "iopub.execute_input": "2023-02-16T11:38:02.062253Z",
     "iopub.status.busy": "2023-02-16T11:38:02.061845Z",
     "iopub.status.idle": "2023-02-16T11:38:02.067904Z",
     "shell.execute_reply": "2023-02-16T11:38:02.066606Z"
    },
    "papermill": {
     "duration": 0.021683,
     "end_time": "2023-02-16T11:38:02.070755",
     "exception": false,
     "start_time": "2023-02-16T11:38:02.049072",
     "status": "completed"
    },
    "tags": []
   },
   "outputs": [],
   "source": [
    "def emoji2description(text):\n",
    "\n",
    "    return emoji.replace_emoji(text, replace=lambda chars, data_dict: ' '.join(data_dict['en'].split('_')).strip(':'))"
   ]
  },
  {
   "cell_type": "code",
   "execution_count": 19,
   "id": "bcaeac44",
   "metadata": {
    "execution": {
     "iopub.execute_input": "2023-02-16T11:38:02.096436Z",
     "iopub.status.busy": "2023-02-16T11:38:02.096006Z",
     "iopub.status.idle": "2023-02-16T11:38:02.102540Z",
     "shell.execute_reply": "2023-02-16T11:38:02.101193Z"
    },
    "papermill": {
     "duration": 0.022252,
     "end_time": "2023-02-16T11:38:02.105421",
     "exception": false,
     "start_time": "2023-02-16T11:38:02.083169",
     "status": "completed"
    },
    "tags": []
   },
   "outputs": [],
   "source": [
    "def emoji2concat_emoji(text):\n",
    "    emoji_list = emoji.emoji_list(text)\n",
    "    ret = emoji.replace_emoji(text, replace='').strip()\n",
    "    for json in emoji_list:\n",
    "        this_emoji = json['emoji']\n",
    "        ret += ' ' + this_emoji\n",
    "    return ret"
   ]
  },
  {
   "cell_type": "code",
   "execution_count": 20,
   "id": "9d046927",
   "metadata": {
    "execution": {
     "iopub.execute_input": "2023-02-16T11:38:02.131514Z",
     "iopub.status.busy": "2023-02-16T11:38:02.130226Z",
     "iopub.status.idle": "2023-02-16T11:38:02.137769Z",
     "shell.execute_reply": "2023-02-16T11:38:02.136404Z"
    },
    "papermill": {
     "duration": 0.023409,
     "end_time": "2023-02-16T11:38:02.140427",
     "exception": false,
     "start_time": "2023-02-16T11:38:02.117018",
     "status": "completed"
    },
    "tags": []
   },
   "outputs": [],
   "source": [
    "def emoji2concat_description(text):\n",
    "    emoji_list = emoji.emoji_list(text)\n",
    "    ret = emoji.replace_emoji(text, replace='').strip()\n",
    "    for json in emoji_list:\n",
    "        this_desc = ' '.join(emoji.EMOJI_DATA[json['emoji']]['en'].split('_')).strip(':')\n",
    "        ret += ' ' + this_desc\n",
    "    return ret"
   ]
  },
  {
   "cell_type": "code",
   "execution_count": 21,
   "id": "0d5994c1",
   "metadata": {
    "execution": {
     "iopub.execute_input": "2023-02-16T11:38:02.165853Z",
     "iopub.status.busy": "2023-02-16T11:38:02.165445Z",
     "iopub.status.idle": "2023-02-16T11:39:09.529190Z",
     "shell.execute_reply": "2023-02-16T11:39:09.527809Z"
    },
    "papermill": {
     "duration": 67.380525,
     "end_time": "2023-02-16T11:39:09.532610",
     "exception": false,
     "start_time": "2023-02-16T11:38:02.152085",
     "status": "completed"
    },
    "tags": []
   },
   "outputs": [],
   "source": [
    "texts_new = []\n",
    "\n",
    "for t in df.text:\n",
    "    texts_new.append(\n",
    "        emoji2description(emoji2concat_emoji(emoji2concat_description((t))))\n",
    "    )"
   ]
  },
  {
   "cell_type": "code",
   "execution_count": 22,
   "id": "502bfcb4",
   "metadata": {
    "execution": {
     "iopub.execute_input": "2023-02-16T11:39:09.557912Z",
     "iopub.status.busy": "2023-02-16T11:39:09.557498Z",
     "iopub.status.idle": "2023-02-16T11:39:09.601055Z",
     "shell.execute_reply": "2023-02-16T11:39:09.600100Z"
    },
    "papermill": {
     "duration": 0.059078,
     "end_time": "2023-02-16T11:39:09.603812",
     "exception": false,
     "start_time": "2023-02-16T11:39:09.544734",
     "status": "completed"
    },
    "tags": []
   },
   "outputs": [],
   "source": [
    "df['text_clean'] = texts_new"
   ]
  },
  {
   "cell_type": "code",
   "execution_count": 23,
   "id": "31f91c12",
   "metadata": {
    "execution": {
     "iopub.execute_input": "2023-02-16T11:39:09.628835Z",
     "iopub.status.busy": "2023-02-16T11:39:09.628443Z",
     "iopub.status.idle": "2023-02-16T11:39:09.635537Z",
     "shell.execute_reply": "2023-02-16T11:39:09.634402Z"
    },
    "papermill": {
     "duration": 0.022912,
     "end_time": "2023-02-16T11:39:09.638359",
     "exception": false,
     "start_time": "2023-02-16T11:39:09.615447",
     "status": "completed"
    },
    "tags": []
   },
   "outputs": [
    {
     "data": {
      "text/plain": [
       "array(['#FoodFriday means tasty snacks throughout the day!\\n😋💙🥄🍫\\n📷 : @flexible_nati\\n#haveaplant https://t.co/pNSAHV2hDh',\n",
       "       'F U E L E D F R I D A Y\\nLooking for a fun, colorful and healthy recipe to kick off the new year? Well, check out this delicious and beautiful dish!\\n・・・\\nEggs baked in Veggie Nests. Head over to our insta for the recipe. 🤤\\n\\n#fueledfriday #foodfriday #runinrabbit #borntorunfree https://t.co/2Fwez5uYb2',\n",
       "       'Kummer reminds you to stay hydrated #foodfriday https://t.co/rkZmatd97f',\n",
       "       'Commercial #Kitchens need attention at a great price! 🦏 Rhino Shine has a solid plan unlike #JasonGarrett future 🤷🏻\\u200d♂️. #Dallas #winning #coupons #restaurant #hood #cleaning #foodfriday #trucks https://t.co/U0V5BO33uo',\n",
       "       \"Mary's Meals is changing lives in Zimbabwe https://t.co/bioEZAt47N #feelgoodfriday #FoodFriday\",\n",
       "       'Will meat alternatives continue gaining popularity in 2020? https://t.co/wzvi1XOBmj via @YourMorning ht  @LetsTalkScience 🥬🍔🤑 #food #health #diet #nutrition #meatless #plantbased #Vegan #vegetarian #HealthyLiving #HealthyEating #BusinessGrowth #business #FoodFriday',\n",
       "       'These are our top five healthy recipes that you can throw together in the morning and enjoy in the evening (as well as take leftovers for lunch the next day).\\n#FoodFriday #EatHealthy #NewYearNewYou #PersonalTraining #FitnessTogether                       https://t.co/TiKGdeqr1p',\n",
       "       \"Burned out on cooking after the holidays? Here's a selection of quick and easy meals to get you inspired #FoodFriday\\nhttps://t.co/uLYOPeQHQc https://t.co/nyWopWqh79\",\n",
       "       'Will you eat lettuce that is not grown in soil? Large scale #Hydroponics can produce hyper local food in a small space, even shipping containers or in your own home. https://t.co/Ogy8UgHMUt #FoodFriday',\n",
       "       '#FoodFriday: Is it possible to treat things like anxiety and depression with food? https://t.co/93Ez7VwziK\\n#KinderInTheKeys #MentalHealth #Anxiety #PTSD #Depression #Trauma #Recovery #Healing #Treatment #Food #Wellness',\n",
       "       \"Foodies, this particular country is one of our FAV when it comes to FOOD!! 🥘🍲🥗🍜\\n\\nLet's see if you can guess it!! 🤓\\n\\n#FoodFriday #GuessGame #Guess #Fun #FridayThoughts #foodie https://t.co/gK3x3uMArb\",\n",
       "       'Today is usually #FoodFriday on this timeline.\\n\\nI tweet about food. \\n\\nIf you can postpone your instant gratification from bad foods, you can postpone bad habits in your life.\\n\\nHow you approach food is evidently how you approach your other aspects of life.\\n\\n#FoodFriday',\n",
       "       \"#FoodFriday\\n\\nWhat are you cookin' up today or this weekend? What's your favorite recipe? Looking for some new ideas! https://t.co/3VRQTRCxd3\",\n",
       "       'This weeks #FoodFriday is from @WoodsideBay 🍕\\n\\nWould you be interested in a #Chef position with us?\\nThen why not visit the Darwin Escapes website, locate the Careers tab and search for our Chef vacancies 😀\\n\\n#Jobs https://t.co/FWNknvURhn',\n",
       "       'Ring in the New Year with healthy eating. Checkout #ClickNCook #healthrecipe Fruity Homemade Oatmeal. https://t.co/7XR3tw6XsH\\n#FoodFriday',\n",
       "       \"'The old fool forgot the lessons of Blodeuwedd and Frankenstein: never create anything smarter, or more ruthless, than yourself.'\\n.\\n#FoodFriday featuring cheesecake (that I'd been craving since Tuesday but been too lazy to…\\n\\n📸 https://t.co/U6yxC4h3sz via https://t.co/Z51VYxAyBJ https://t.co/8f5Lqkp8hm\",\n",
       "       'African star Apple (Udara).\\nRich source of vita.C is one of the wonderful fruits offered by nature with important health benefits.\\nRanging from tackling toothache, mouth gum disease, soar throat, helps in weight loss and good for expecting mothers \\n\\n#FoodFriday\\n#CoalCityConnect https://t.co/ODyfnS8VVm',\n",
       "       '#FOODFRIDAY 🇮🇹🍫\\nIf you love chocolate, then board the first flight to California. The Nutella Pop Up Hotel is about to open. Discover more in this video. Do you know? Nutella is an Italian product...of course!\\n#italy #food #nutella #language #school… https://t.co/bgG5haT6mQ https://t.co/gw0JhCqZHE',\n",
       "       '#foodfriday @baghdadcafeCT hey offer a variety of delicious foods, from pizza to tacos and sticky wings! For your convenience they also avail on @ubereats_za https://t.co/P8sdNvfMcg',\n",
       "       'This Mangalorean special chicken curry can be paired best with neer dosa or steamed rice. What’s your pick?\\nRecipe Link: https://t.co/iyYCpcuoeA\\n#FoodFriday https://t.co/Bke1o79Zio'],\n",
       "      dtype=object)"
      ]
     },
     "execution_count": 23,
     "metadata": {},
     "output_type": "execute_result"
    }
   ],
   "source": [
    "df['text'].tail(20).values"
   ]
  },
  {
   "cell_type": "code",
   "execution_count": 24,
   "id": "464a2c6a",
   "metadata": {
    "execution": {
     "iopub.execute_input": "2023-02-16T11:39:09.663860Z",
     "iopub.status.busy": "2023-02-16T11:39:09.663480Z",
     "iopub.status.idle": "2023-02-16T11:39:09.670884Z",
     "shell.execute_reply": "2023-02-16T11:39:09.669841Z"
    },
    "papermill": {
     "duration": 0.022962,
     "end_time": "2023-02-16T11:39:09.673266",
     "exception": false,
     "start_time": "2023-02-16T11:39:09.650304",
     "status": "completed"
    },
    "tags": []
   },
   "outputs": [
    {
     "data": {
      "text/plain": [
       "array(['#FoodFriday means tasty snacks throughout the day!\\n\\n : @flexible_nati\\n#haveaplant https://t.co/pNSAHV2hDh face savoring food blue heart spoon chocolate bar camera',\n",
       "       'F U E L E D F R I D A Y\\nLooking for a fun, colorful and healthy recipe to kick off the new year? Well, check out this delicious and beautiful dish!\\n・・・\\nEggs baked in Veggie Nests. Head over to our insta for the recipe. \\n\\n#fueledfriday #foodfriday #runinrabbit #borntorunfree https://t.co/2Fwez5uYb2 drooling face',\n",
       "       'Kummer reminds you to stay hydrated #foodfriday https://t.co/rkZmatd97f',\n",
       "       'Commercial #Kitchens need attention at a great price!  Rhino Shine has a solid plan unlike #JasonGarrett future . #Dallas #winning #coupons #restaurant #hood #cleaning #foodfriday #trucks https://t.co/U0V5BO33uo rhinoceros man shrugging light skin tone',\n",
       "       \"Mary's Meals is changing lives in Zimbabwe https://t.co/bioEZAt47N #feelgoodfriday #FoodFriday\",\n",
       "       'Will meat alternatives continue gaining popularity in 2020? https://t.co/wzvi1XOBmj via @YourMorning ht  @LetsTalkScience  #food #health #diet #nutrition #meatless #plantbased #Vegan #vegetarian #HealthyLiving #HealthyEating #BusinessGrowth #business #FoodFriday leafy green hamburger money-mouth face',\n",
       "       'These are our top five healthy recipes that you can throw together in the morning and enjoy in the evening (as well as take leftovers for lunch the next day).\\n#FoodFriday #EatHealthy #NewYearNewYou #PersonalTraining #FitnessTogether                       https://t.co/TiKGdeqr1p',\n",
       "       \"Burned out on cooking after the holidays? Here's a selection of quick and easy meals to get you inspired #FoodFriday\\nhttps://t.co/uLYOPeQHQc https://t.co/nyWopWqh79\",\n",
       "       'Will you eat lettuce that is not grown in soil? Large scale #Hydroponics can produce hyper local food in a small space, even shipping containers or in your own home. https://t.co/Ogy8UgHMUt #FoodFriday',\n",
       "       '#FoodFriday: Is it possible to treat things like anxiety and depression with food? https://t.co/93Ez7VwziK\\n#KinderInTheKeys #MentalHealth #Anxiety #PTSD #Depression #Trauma #Recovery #Healing #Treatment #Food #Wellness',\n",
       "       \"Foodies, this particular country is one of our FAV when it comes to FOOD!! \\n\\nLet's see if you can guess it!! \\n\\n#FoodFriday #GuessGame #Guess #Fun #FridayThoughts #foodie https://t.co/gK3x3uMArb shallow pan of food pot of food green salad steaming bowl nerd face\",\n",
       "       'Today is usually #FoodFriday on this timeline.\\n\\nI tweet about food. \\n\\nIf you can postpone your instant gratification from bad foods, you can postpone bad habits in your life.\\n\\nHow you approach food is evidently how you approach your other aspects of life.\\n\\n#FoodFriday',\n",
       "       \"#FoodFriday\\n\\nWhat are you cookin' up today or this weekend? What's your favorite recipe? Looking for some new ideas! https://t.co/3VRQTRCxd3\",\n",
       "       'This weeks #FoodFriday is from @WoodsideBay \\n\\nWould you be interested in a #Chef position with us?\\nThen why not visit the Darwin Escapes website, locate the Careers tab and search for our Chef vacancies \\n\\n#Jobs https://t.co/FWNknvURhn pizza grinning face',\n",
       "       'Ring in the New Year with healthy eating. Checkout #ClickNCook #healthrecipe Fruity Homemade Oatmeal. https://t.co/7XR3tw6XsH\\n#FoodFriday',\n",
       "       \"'The old fool forgot the lessons of Blodeuwedd and Frankenstein: never create anything smarter, or more ruthless, than yourself.'\\n.\\n#FoodFriday featuring cheesecake (that I'd been craving since Tuesday but been too lazy to…\\n\\n https://t.co/U6yxC4h3sz via https://t.co/Z51VYxAyBJ https://t.co/8f5Lqkp8hm camera with flash\",\n",
       "       'African star Apple (Udara).\\nRich source of vita.C is one of the wonderful fruits offered by nature with important health benefits.\\nRanging from tackling toothache, mouth gum disease, soar throat, helps in weight loss and good for expecting mothers \\n\\n#FoodFriday\\n#CoalCityConnect https://t.co/ODyfnS8VVm',\n",
       "       '#FOODFRIDAY \\nIf you love chocolate, then board the first flight to California. The Nutella Pop Up Hotel is about to open. Discover more in this video. Do you know? Nutella is an Italian product...of course!\\n#italy #food #nutella #language #school… https://t.co/bgG5haT6mQ https://t.co/gw0JhCqZHE Italy chocolate bar',\n",
       "       '#foodfriday @baghdadcafeCT hey offer a variety of delicious foods, from pizza to tacos and sticky wings! For your convenience they also avail on @ubereats_za https://t.co/P8sdNvfMcg',\n",
       "       'This Mangalorean special chicken curry can be paired best with neer dosa or steamed rice. What’s your pick?\\nRecipe Link: https://t.co/iyYCpcuoeA\\n#FoodFriday https://t.co/Bke1o79Zio'],\n",
       "      dtype=object)"
      ]
     },
     "execution_count": 24,
     "metadata": {},
     "output_type": "execute_result"
    }
   ],
   "source": [
    "df['text_clean'].tail(20).values"
   ]
  },
  {
   "cell_type": "code",
   "execution_count": 25,
   "id": "c7cbab6c",
   "metadata": {
    "execution": {
     "iopub.execute_input": "2023-02-16T11:39:09.698894Z",
     "iopub.status.busy": "2023-02-16T11:39:09.698510Z",
     "iopub.status.idle": "2023-02-16T11:39:09.703309Z",
     "shell.execute_reply": "2023-02-16T11:39:09.702237Z"
    },
    "papermill": {
     "duration": 0.020555,
     "end_time": "2023-02-16T11:39:09.705803",
     "exception": false,
     "start_time": "2023-02-16T11:39:09.685248",
     "status": "completed"
    },
    "tags": []
   },
   "outputs": [],
   "source": [
    "# remove multiple spaces\n",
    "\n",
    "def remove_mult_spaces(text): \n",
    "    return re.sub(\"\\s\\s+\" , \" \", text)"
   ]
  },
  {
   "cell_type": "code",
   "execution_count": 26,
   "id": "74ad707b",
   "metadata": {
    "execution": {
     "iopub.execute_input": "2023-02-16T11:39:09.732372Z",
     "iopub.status.busy": "2023-02-16T11:39:09.731908Z",
     "iopub.status.idle": "2023-02-16T11:39:09.738649Z",
     "shell.execute_reply": "2023-02-16T11:39:09.737573Z"
    },
    "papermill": {
     "duration": 0.02258,
     "end_time": "2023-02-16T11:39:09.740826",
     "exception": false,
     "start_time": "2023-02-16T11:39:09.718246",
     "status": "completed"
    },
    "tags": []
   },
   "outputs": [],
   "source": [
    "#Remove punctuations, links, mentions and \\r\\n new line characters\n",
    "\n",
    "def strip_all_entities(text): \n",
    "    text = text.replace('\\r', '').replace('\\n', ' ').replace('\\n', ' ').lower() #remove \\n and \\r and lowercase\n",
    "    text = re.sub(r\"(?:\\@|https?\\://)\\S+\", \"\", text) #remove links and mentions\n",
    "    text = re.sub(r'[^\\x00-\\x7f]',r'', text) #remove non utf8/ascii characters such as '\\x9a\\x91\\x97\\x9a\\x97'\n",
    "    banned_list= string.punctuation + 'Ã'+'±'+'ã'+'¼'+'â'+'»'+'§'\n",
    "    table = str.maketrans('', '', banned_list)\n",
    "    text = text.translate(table)\n",
    "    return text"
   ]
  },
  {
   "cell_type": "code",
   "execution_count": 27,
   "id": "400b09bf",
   "metadata": {
    "execution": {
     "iopub.execute_input": "2023-02-16T11:39:09.766204Z",
     "iopub.status.busy": "2023-02-16T11:39:09.765773Z",
     "iopub.status.idle": "2023-02-16T11:39:09.771639Z",
     "shell.execute_reply": "2023-02-16T11:39:09.770669Z"
    },
    "papermill": {
     "duration": 0.021278,
     "end_time": "2023-02-16T11:39:09.773780",
     "exception": false,
     "start_time": "2023-02-16T11:39:09.752502",
     "status": "completed"
    },
    "tags": []
   },
   "outputs": [],
   "source": [
    "#clean hashtags at the end of the sentence, and keep those in the middle of the sentence by removing just the # symbol\n",
    "\n",
    "def clean_hashtags(tweet):\n",
    "    new_tweet = \" \".join(word.strip() for word in re.split('#(?!(?:hashtag)\\b)[\\w-]+(?=(?:\\s+#[\\w-]+)*\\s*$)', tweet)) #remove last hashtags\n",
    "    new_tweet2 = \" \".join(word.strip() for word in re.split('#|_', new_tweet)) #remove hashtags symbol from words in the middle of the sentence\n",
    "    return new_tweet2"
   ]
  },
  {
   "cell_type": "code",
   "execution_count": 28,
   "id": "96d274b5",
   "metadata": {
    "execution": {
     "iopub.execute_input": "2023-02-16T11:39:09.799168Z",
     "iopub.status.busy": "2023-02-16T11:39:09.798767Z",
     "iopub.status.idle": "2023-02-16T11:39:09.804833Z",
     "shell.execute_reply": "2023-02-16T11:39:09.803537Z"
    },
    "papermill": {
     "duration": 0.021766,
     "end_time": "2023-02-16T11:39:09.807359",
     "exception": false,
     "start_time": "2023-02-16T11:39:09.785593",
     "status": "completed"
    },
    "tags": []
   },
   "outputs": [],
   "source": [
    "#Filter special characters such as & and $ present in some words\n",
    "\n",
    "def filter_chars(a):\n",
    "    sent = []\n",
    "    for word in a.split(' '):\n",
    "        if ('$' in word) | ('&' in word):\n",
    "            sent.append('')\n",
    "        else:\n",
    "            sent.append(word)\n",
    "    return ' '.join(sent)"
   ]
  },
  {
   "cell_type": "code",
   "execution_count": 29,
   "id": "f4401e54",
   "metadata": {
    "execution": {
     "iopub.execute_input": "2023-02-16T11:39:09.832283Z",
     "iopub.status.busy": "2023-02-16T11:39:09.831907Z",
     "iopub.status.idle": "2023-02-16T11:39:16.840594Z",
     "shell.execute_reply": "2023-02-16T11:39:16.839272Z"
    },
    "papermill": {
     "duration": 7.024467,
     "end_time": "2023-02-16T11:39:16.843385",
     "exception": false,
     "start_time": "2023-02-16T11:39:09.818918",
     "status": "completed"
    },
    "tags": []
   },
   "outputs": [],
   "source": [
    "deeper_clean = []\n",
    "\n",
    "for t in df.text_clean:\n",
    "    deeper_clean.append(\n",
    "        remove_mult_spaces(\n",
    "            filter_chars(\n",
    "                clean_hashtags(\n",
    "                    strip_all_entities(\n",
    "                        (t)\n",
    "                    ))))\n",
    "    )"
   ]
  },
  {
   "cell_type": "code",
   "execution_count": 30,
   "id": "061b5d48",
   "metadata": {
    "execution": {
     "iopub.execute_input": "2023-02-16T11:39:16.869154Z",
     "iopub.status.busy": "2023-02-16T11:39:16.868283Z",
     "iopub.status.idle": "2023-02-16T11:39:16.907998Z",
     "shell.execute_reply": "2023-02-16T11:39:16.906652Z"
    },
    "papermill": {
     "duration": 0.055597,
     "end_time": "2023-02-16T11:39:16.910854",
     "exception": false,
     "start_time": "2023-02-16T11:39:16.855257",
     "status": "completed"
    },
    "tags": []
   },
   "outputs": [],
   "source": [
    "df['text_clean_deeper'] = deeper_clean"
   ]
  },
  {
   "cell_type": "code",
   "execution_count": 31,
   "id": "7fd42fb9",
   "metadata": {
    "execution": {
     "iopub.execute_input": "2023-02-16T11:39:16.936797Z",
     "iopub.status.busy": "2023-02-16T11:39:16.936410Z",
     "iopub.status.idle": "2023-02-16T11:39:16.943852Z",
     "shell.execute_reply": "2023-02-16T11:39:16.942585Z"
    },
    "papermill": {
     "duration": 0.023241,
     "end_time": "2023-02-16T11:39:16.946357",
     "exception": false,
     "start_time": "2023-02-16T11:39:16.923116",
     "status": "completed"
    },
    "tags": []
   },
   "outputs": [
    {
     "data": {
      "text/plain": [
       "Index(['tweet_created_at', 'text', 'Sentiment', 'text_clean',\n",
       "       'text_clean_deeper'],\n",
       "      dtype='object')"
      ]
     },
     "execution_count": 31,
     "metadata": {},
     "output_type": "execute_result"
    }
   ],
   "source": [
    "df.columns"
   ]
  },
  {
   "cell_type": "code",
   "execution_count": 32,
   "id": "91cc0a81",
   "metadata": {
    "execution": {
     "iopub.execute_input": "2023-02-16T11:39:16.972853Z",
     "iopub.status.busy": "2023-02-16T11:39:16.972456Z",
     "iopub.status.idle": "2023-02-16T11:39:16.980504Z",
     "shell.execute_reply": "2023-02-16T11:39:16.979415Z"
    },
    "papermill": {
     "duration": 0.02447,
     "end_time": "2023-02-16T11:39:16.982828",
     "exception": false,
     "start_time": "2023-02-16T11:39:16.958358",
     "status": "completed"
    },
    "tags": []
   },
   "outputs": [
    {
     "data": {
      "text/plain": [
       "array(['#FoodFriday means tasty snacks throughout the day!\\n😋💙🥄🍫\\n📷 : @flexible_nati\\n#haveaplant https://t.co/pNSAHV2hDh',\n",
       "       'F U E L E D F R I D A Y\\nLooking for a fun, colorful and healthy recipe to kick off the new year? Well, check out this delicious and beautiful dish!\\n・・・\\nEggs baked in Veggie Nests. Head over to our insta for the recipe. 🤤\\n\\n#fueledfriday #foodfriday #runinrabbit #borntorunfree https://t.co/2Fwez5uYb2',\n",
       "       'Kummer reminds you to stay hydrated #foodfriday https://t.co/rkZmatd97f',\n",
       "       'Commercial #Kitchens need attention at a great price! 🦏 Rhino Shine has a solid plan unlike #JasonGarrett future 🤷🏻\\u200d♂️. #Dallas #winning #coupons #restaurant #hood #cleaning #foodfriday #trucks https://t.co/U0V5BO33uo',\n",
       "       \"Mary's Meals is changing lives in Zimbabwe https://t.co/bioEZAt47N #feelgoodfriday #FoodFriday\",\n",
       "       'Will meat alternatives continue gaining popularity in 2020? https://t.co/wzvi1XOBmj via @YourMorning ht  @LetsTalkScience 🥬🍔🤑 #food #health #diet #nutrition #meatless #plantbased #Vegan #vegetarian #HealthyLiving #HealthyEating #BusinessGrowth #business #FoodFriday',\n",
       "       'These are our top five healthy recipes that you can throw together in the morning and enjoy in the evening (as well as take leftovers for lunch the next day).\\n#FoodFriday #EatHealthy #NewYearNewYou #PersonalTraining #FitnessTogether                       https://t.co/TiKGdeqr1p',\n",
       "       \"Burned out on cooking after the holidays? Here's a selection of quick and easy meals to get you inspired #FoodFriday\\nhttps://t.co/uLYOPeQHQc https://t.co/nyWopWqh79\",\n",
       "       'Will you eat lettuce that is not grown in soil? Large scale #Hydroponics can produce hyper local food in a small space, even shipping containers or in your own home. https://t.co/Ogy8UgHMUt #FoodFriday',\n",
       "       '#FoodFriday: Is it possible to treat things like anxiety and depression with food? https://t.co/93Ez7VwziK\\n#KinderInTheKeys #MentalHealth #Anxiety #PTSD #Depression #Trauma #Recovery #Healing #Treatment #Food #Wellness',\n",
       "       \"Foodies, this particular country is one of our FAV when it comes to FOOD!! 🥘🍲🥗🍜\\n\\nLet's see if you can guess it!! 🤓\\n\\n#FoodFriday #GuessGame #Guess #Fun #FridayThoughts #foodie https://t.co/gK3x3uMArb\",\n",
       "       'Today is usually #FoodFriday on this timeline.\\n\\nI tweet about food. \\n\\nIf you can postpone your instant gratification from bad foods, you can postpone bad habits in your life.\\n\\nHow you approach food is evidently how you approach your other aspects of life.\\n\\n#FoodFriday',\n",
       "       \"#FoodFriday\\n\\nWhat are you cookin' up today or this weekend? What's your favorite recipe? Looking for some new ideas! https://t.co/3VRQTRCxd3\",\n",
       "       'This weeks #FoodFriday is from @WoodsideBay 🍕\\n\\nWould you be interested in a #Chef position with us?\\nThen why not visit the Darwin Escapes website, locate the Careers tab and search for our Chef vacancies 😀\\n\\n#Jobs https://t.co/FWNknvURhn',\n",
       "       'Ring in the New Year with healthy eating. Checkout #ClickNCook #healthrecipe Fruity Homemade Oatmeal. https://t.co/7XR3tw6XsH\\n#FoodFriday',\n",
       "       \"'The old fool forgot the lessons of Blodeuwedd and Frankenstein: never create anything smarter, or more ruthless, than yourself.'\\n.\\n#FoodFriday featuring cheesecake (that I'd been craving since Tuesday but been too lazy to…\\n\\n📸 https://t.co/U6yxC4h3sz via https://t.co/Z51VYxAyBJ https://t.co/8f5Lqkp8hm\",\n",
       "       'African star Apple (Udara).\\nRich source of vita.C is one of the wonderful fruits offered by nature with important health benefits.\\nRanging from tackling toothache, mouth gum disease, soar throat, helps in weight loss and good for expecting mothers \\n\\n#FoodFriday\\n#CoalCityConnect https://t.co/ODyfnS8VVm',\n",
       "       '#FOODFRIDAY 🇮🇹🍫\\nIf you love chocolate, then board the first flight to California. The Nutella Pop Up Hotel is about to open. Discover more in this video. Do you know? Nutella is an Italian product...of course!\\n#italy #food #nutella #language #school… https://t.co/bgG5haT6mQ https://t.co/gw0JhCqZHE',\n",
       "       '#foodfriday @baghdadcafeCT hey offer a variety of delicious foods, from pizza to tacos and sticky wings! For your convenience they also avail on @ubereats_za https://t.co/P8sdNvfMcg',\n",
       "       'This Mangalorean special chicken curry can be paired best with neer dosa or steamed rice. What’s your pick?\\nRecipe Link: https://t.co/iyYCpcuoeA\\n#FoodFriday https://t.co/Bke1o79Zio'],\n",
       "      dtype=object)"
      ]
     },
     "execution_count": 32,
     "metadata": {},
     "output_type": "execute_result"
    }
   ],
   "source": [
    "df['text'].tail(20).values"
   ]
  },
  {
   "cell_type": "code",
   "execution_count": 33,
   "id": "ba857c97",
   "metadata": {
    "execution": {
     "iopub.execute_input": "2023-02-16T11:39:17.008934Z",
     "iopub.status.busy": "2023-02-16T11:39:17.008492Z",
     "iopub.status.idle": "2023-02-16T11:39:17.016868Z",
     "shell.execute_reply": "2023-02-16T11:39:17.015805Z"
    },
    "papermill": {
     "duration": 0.024109,
     "end_time": "2023-02-16T11:39:17.019122",
     "exception": false,
     "start_time": "2023-02-16T11:39:16.995013",
     "status": "completed"
    },
    "tags": []
   },
   "outputs": [
    {
     "data": {
      "text/plain": [
       "array(['#FoodFriday means tasty snacks throughout the day!\\n\\n : @flexible_nati\\n#haveaplant https://t.co/pNSAHV2hDh face savoring food blue heart spoon chocolate bar camera',\n",
       "       'F U E L E D F R I D A Y\\nLooking for a fun, colorful and healthy recipe to kick off the new year? Well, check out this delicious and beautiful dish!\\n・・・\\nEggs baked in Veggie Nests. Head over to our insta for the recipe. \\n\\n#fueledfriday #foodfriday #runinrabbit #borntorunfree https://t.co/2Fwez5uYb2 drooling face',\n",
       "       'Kummer reminds you to stay hydrated #foodfriday https://t.co/rkZmatd97f',\n",
       "       'Commercial #Kitchens need attention at a great price!  Rhino Shine has a solid plan unlike #JasonGarrett future . #Dallas #winning #coupons #restaurant #hood #cleaning #foodfriday #trucks https://t.co/U0V5BO33uo rhinoceros man shrugging light skin tone',\n",
       "       \"Mary's Meals is changing lives in Zimbabwe https://t.co/bioEZAt47N #feelgoodfriday #FoodFriday\",\n",
       "       'Will meat alternatives continue gaining popularity in 2020? https://t.co/wzvi1XOBmj via @YourMorning ht  @LetsTalkScience  #food #health #diet #nutrition #meatless #plantbased #Vegan #vegetarian #HealthyLiving #HealthyEating #BusinessGrowth #business #FoodFriday leafy green hamburger money-mouth face',\n",
       "       'These are our top five healthy recipes that you can throw together in the morning and enjoy in the evening (as well as take leftovers for lunch the next day).\\n#FoodFriday #EatHealthy #NewYearNewYou #PersonalTraining #FitnessTogether                       https://t.co/TiKGdeqr1p',\n",
       "       \"Burned out on cooking after the holidays? Here's a selection of quick and easy meals to get you inspired #FoodFriday\\nhttps://t.co/uLYOPeQHQc https://t.co/nyWopWqh79\",\n",
       "       'Will you eat lettuce that is not grown in soil? Large scale #Hydroponics can produce hyper local food in a small space, even shipping containers or in your own home. https://t.co/Ogy8UgHMUt #FoodFriday',\n",
       "       '#FoodFriday: Is it possible to treat things like anxiety and depression with food? https://t.co/93Ez7VwziK\\n#KinderInTheKeys #MentalHealth #Anxiety #PTSD #Depression #Trauma #Recovery #Healing #Treatment #Food #Wellness',\n",
       "       \"Foodies, this particular country is one of our FAV when it comes to FOOD!! \\n\\nLet's see if you can guess it!! \\n\\n#FoodFriday #GuessGame #Guess #Fun #FridayThoughts #foodie https://t.co/gK3x3uMArb shallow pan of food pot of food green salad steaming bowl nerd face\",\n",
       "       'Today is usually #FoodFriday on this timeline.\\n\\nI tweet about food. \\n\\nIf you can postpone your instant gratification from bad foods, you can postpone bad habits in your life.\\n\\nHow you approach food is evidently how you approach your other aspects of life.\\n\\n#FoodFriday',\n",
       "       \"#FoodFriday\\n\\nWhat are you cookin' up today or this weekend? What's your favorite recipe? Looking for some new ideas! https://t.co/3VRQTRCxd3\",\n",
       "       'This weeks #FoodFriday is from @WoodsideBay \\n\\nWould you be interested in a #Chef position with us?\\nThen why not visit the Darwin Escapes website, locate the Careers tab and search for our Chef vacancies \\n\\n#Jobs https://t.co/FWNknvURhn pizza grinning face',\n",
       "       'Ring in the New Year with healthy eating. Checkout #ClickNCook #healthrecipe Fruity Homemade Oatmeal. https://t.co/7XR3tw6XsH\\n#FoodFriday',\n",
       "       \"'The old fool forgot the lessons of Blodeuwedd and Frankenstein: never create anything smarter, or more ruthless, than yourself.'\\n.\\n#FoodFriday featuring cheesecake (that I'd been craving since Tuesday but been too lazy to…\\n\\n https://t.co/U6yxC4h3sz via https://t.co/Z51VYxAyBJ https://t.co/8f5Lqkp8hm camera with flash\",\n",
       "       'African star Apple (Udara).\\nRich source of vita.C is one of the wonderful fruits offered by nature with important health benefits.\\nRanging from tackling toothache, mouth gum disease, soar throat, helps in weight loss and good for expecting mothers \\n\\n#FoodFriday\\n#CoalCityConnect https://t.co/ODyfnS8VVm',\n",
       "       '#FOODFRIDAY \\nIf you love chocolate, then board the first flight to California. The Nutella Pop Up Hotel is about to open. Discover more in this video. Do you know? Nutella is an Italian product...of course!\\n#italy #food #nutella #language #school… https://t.co/bgG5haT6mQ https://t.co/gw0JhCqZHE Italy chocolate bar',\n",
       "       '#foodfriday @baghdadcafeCT hey offer a variety of delicious foods, from pizza to tacos and sticky wings! For your convenience they also avail on @ubereats_za https://t.co/P8sdNvfMcg',\n",
       "       'This Mangalorean special chicken curry can be paired best with neer dosa or steamed rice. What’s your pick?\\nRecipe Link: https://t.co/iyYCpcuoeA\\n#FoodFriday https://t.co/Bke1o79Zio'],\n",
       "      dtype=object)"
      ]
     },
     "execution_count": 33,
     "metadata": {},
     "output_type": "execute_result"
    }
   ],
   "source": [
    "df['text_clean'].tail(20).values"
   ]
  },
  {
   "cell_type": "code",
   "execution_count": 34,
   "id": "3bba507d",
   "metadata": {
    "execution": {
     "iopub.execute_input": "2023-02-16T11:39:17.045452Z",
     "iopub.status.busy": "2023-02-16T11:39:17.044997Z",
     "iopub.status.idle": "2023-02-16T11:39:17.053616Z",
     "shell.execute_reply": "2023-02-16T11:39:17.052238Z"
    },
    "papermill": {
     "duration": 0.024451,
     "end_time": "2023-02-16T11:39:17.055980",
     "exception": false,
     "start_time": "2023-02-16T11:39:17.031529",
     "status": "completed"
    },
    "tags": []
   },
   "outputs": [
    {
     "data": {
      "text/plain": [
       "array(['foodfriday means tasty snacks throughout the day haveaplant face savoring food blue heart spoon chocolate bar camera',\n",
       "       'f u e l e d f r i d a y looking for a fun colorful and healthy recipe to kick off the new year well check out this delicious and beautiful dish eggs baked in veggie nests head over to our insta for the recipe fueledfriday foodfriday runinrabbit borntorunfree drooling face',\n",
       "       'kummer reminds you to stay hydrated foodfriday',\n",
       "       'commercial kitchens need attention at a great price rhino shine has a solid plan unlike jasongarrett future dallas winning coupons restaurant hood cleaning foodfriday trucks rhinoceros man shrugging light skin tone',\n",
       "       'marys meals is changing lives in zimbabwe feelgoodfriday foodfriday',\n",
       "       'will meat alternatives continue gaining popularity in 2020 via ht food health diet nutrition meatless plantbased vegan vegetarian healthyliving healthyeating businessgrowth business foodfriday leafy green hamburger moneymouth face',\n",
       "       'these are our top five healthy recipes that you can throw together in the morning and enjoy in the evening as well as take leftovers for lunch the next day foodfriday eathealthy newyearnewyou personaltraining fitnesstogether',\n",
       "       'burned out on cooking after the holidays heres a selection of quick and easy meals to get you inspired foodfriday',\n",
       "       'will you eat lettuce that is not grown in soil large scale hydroponics can produce hyper local food in a small space even shipping containers or in your own home foodfriday',\n",
       "       'foodfriday is it possible to treat things like anxiety and depression with food kinderinthekeys mentalhealth anxiety ptsd depression trauma recovery healing treatment food wellness',\n",
       "       'foodies this particular country is one of our fav when it comes to food lets see if you can guess it foodfriday guessgame guess fun fridaythoughts foodie shallow pan of food pot of food green salad steaming bowl nerd face',\n",
       "       'today is usually foodfriday on this timeline i tweet about food if you can postpone your instant gratification from bad foods you can postpone bad habits in your life how you approach food is evidently how you approach your other aspects of life foodfriday',\n",
       "       'foodfriday what are you cookin up today or this weekend whats your favorite recipe looking for some new ideas',\n",
       "       'this weeks foodfriday is from would you be interested in a chef position with us then why not visit the darwin escapes website locate the careers tab and search for our chef vacancies jobs pizza grinning face',\n",
       "       'ring in the new year with healthy eating checkout clickncook healthrecipe fruity homemade oatmeal foodfriday',\n",
       "       'the old fool forgot the lessons of blodeuwedd and frankenstein never create anything smarter or more ruthless than yourself foodfriday featuring cheesecake that id been craving since tuesday but been too lazy to via camera with flash',\n",
       "       'african star apple udara rich source of vitac is one of the wonderful fruits offered by nature with important health benefits ranging from tackling toothache mouth gum disease soar throat helps in weight loss and good for expecting mothers foodfriday coalcityconnect',\n",
       "       'foodfriday if you love chocolate then board the first flight to california the nutella pop up hotel is about to open discover more in this video do you know nutella is an italian productof course italy food nutella language school italy chocolate bar',\n",
       "       'foodfriday hey offer a variety of delicious foods from pizza to tacos and sticky wings for your convenience they also avail on',\n",
       "       'this mangalorean special chicken curry can be paired best with neer dosa or steamed rice whats your pick recipe link foodfriday'],\n",
       "      dtype=object)"
      ]
     },
     "execution_count": 34,
     "metadata": {},
     "output_type": "execute_result"
    }
   ],
   "source": [
    "df['text_clean_deeper'].tail(20).values"
   ]
  },
  {
   "cell_type": "code",
   "execution_count": 35,
   "id": "22f8568f",
   "metadata": {
    "execution": {
     "iopub.execute_input": "2023-02-16T11:39:17.083172Z",
     "iopub.status.busy": "2023-02-16T11:39:17.082694Z",
     "iopub.status.idle": "2023-02-16T11:39:17.501633Z",
     "shell.execute_reply": "2023-02-16T11:39:17.500407Z"
    },
    "papermill": {
     "duration": 0.435755,
     "end_time": "2023-02-16T11:39:17.504485",
     "exception": false,
     "start_time": "2023-02-16T11:39:17.068730",
     "status": "completed"
    },
    "tags": []
   },
   "outputs": [],
   "source": [
    "text_len = []\n",
    "\n",
    "for text in df.text_clean_deeper:\n",
    "    tweet_len = len(text.split())\n",
    "    \n",
    "    text_len.append(tweet_len)"
   ]
  },
  {
   "cell_type": "code",
   "execution_count": null,
   "id": "15a33f75",
   "metadata": {
    "papermill": {
     "duration": 0.011916,
     "end_time": "2023-02-16T11:39:17.528846",
     "exception": false,
     "start_time": "2023-02-16T11:39:17.516930",
     "status": "completed"
    },
    "tags": []
   },
   "outputs": [],
   "source": []
  }
 ],
 "metadata": {
  "kernelspec": {
   "display_name": "Python 3",
   "language": "python",
   "name": "python3"
  },
  "language_info": {
   "codemirror_mode": {
    "name": "ipython",
    "version": 3
   },
   "file_extension": ".py",
   "mimetype": "text/x-python",
   "name": "python",
   "nbconvert_exporter": "python",
   "pygments_lexer": "ipython3",
   "version": "3.7.12"
  },
  "papermill": {
   "default_parameters": {},
   "duration": 146.24119,
   "end_time": "2023-02-16T11:39:20.326502",
   "environment_variables": {},
   "exception": null,
   "input_path": "__notebook__.ipynb",
   "output_path": "__notebook__.ipynb",
   "parameters": {},
   "start_time": "2023-02-16T11:36:54.085312",
   "version": "2.3.4"
  },
  "widgets": {
   "application/vnd.jupyter.widget-state+json": {
    "state": {
     "00b59e8c3aae44e693cc0023c6d0186f": {
      "model_module": "@jupyter-widgets/base",
      "model_module_version": "1.2.0",
      "model_name": "LayoutModel",
      "state": {
       "_model_module": "@jupyter-widgets/base",
       "_model_module_version": "1.2.0",
       "_model_name": "LayoutModel",
       "_view_count": null,
       "_view_module": "@jupyter-widgets/base",
       "_view_module_version": "1.2.0",
       "_view_name": "LayoutView",
       "align_content": null,
       "align_items": null,
       "align_self": null,
       "border": null,
       "bottom": null,
       "display": null,
       "flex": null,
       "flex_flow": null,
       "grid_area": null,
       "grid_auto_columns": null,
       "grid_auto_flow": null,
       "grid_auto_rows": null,
       "grid_column": null,
       "grid_gap": null,
       "grid_row": null,
       "grid_template_areas": null,
       "grid_template_columns": null,
       "grid_template_rows": null,
       "height": null,
       "justify_content": null,
       "justify_items": null,
       "left": null,
       "margin": null,
       "max_height": null,
       "max_width": null,
       "min_height": null,
       "min_width": null,
       "object_fit": null,
       "object_position": null,
       "order": null,
       "overflow": null,
       "overflow_x": null,
       "overflow_y": null,
       "padding": null,
       "right": null,
       "top": null,
       "visibility": null,
       "width": null
      }
     },
     "02bc161ea48a48f1a5d53a67f57c4bca": {
      "model_module": "@jupyter-widgets/base",
      "model_module_version": "1.2.0",
      "model_name": "LayoutModel",
      "state": {
       "_model_module": "@jupyter-widgets/base",
       "_model_module_version": "1.2.0",
       "_model_name": "LayoutModel",
       "_view_count": null,
       "_view_module": "@jupyter-widgets/base",
       "_view_module_version": "1.2.0",
       "_view_name": "LayoutView",
       "align_content": null,
       "align_items": null,
       "align_self": null,
       "border": null,
       "bottom": null,
       "display": null,
       "flex": null,
       "flex_flow": null,
       "grid_area": null,
       "grid_auto_columns": null,
       "grid_auto_flow": null,
       "grid_auto_rows": null,
       "grid_column": null,
       "grid_gap": null,
       "grid_row": null,
       "grid_template_areas": null,
       "grid_template_columns": null,
       "grid_template_rows": null,
       "height": null,
       "justify_content": null,
       "justify_items": null,
       "left": null,
       "margin": null,
       "max_height": null,
       "max_width": null,
       "min_height": null,
       "min_width": null,
       "object_fit": null,
       "object_position": null,
       "order": null,
       "overflow": null,
       "overflow_x": null,
       "overflow_y": null,
       "padding": null,
       "right": null,
       "top": null,
       "visibility": null,
       "width": null
      }
     },
     "03c81d5b3a404a169dd6131c7b5dbf96": {
      "model_module": "@jupyter-widgets/base",
      "model_module_version": "1.2.0",
      "model_name": "LayoutModel",
      "state": {
       "_model_module": "@jupyter-widgets/base",
       "_model_module_version": "1.2.0",
       "_model_name": "LayoutModel",
       "_view_count": null,
       "_view_module": "@jupyter-widgets/base",
       "_view_module_version": "1.2.0",
       "_view_name": "LayoutView",
       "align_content": null,
       "align_items": null,
       "align_self": null,
       "border": null,
       "bottom": null,
       "display": null,
       "flex": null,
       "flex_flow": null,
       "grid_area": null,
       "grid_auto_columns": null,
       "grid_auto_flow": null,
       "grid_auto_rows": null,
       "grid_column": null,
       "grid_gap": null,
       "grid_row": null,
       "grid_template_areas": null,
       "grid_template_columns": null,
       "grid_template_rows": null,
       "height": null,
       "justify_content": null,
       "justify_items": null,
       "left": null,
       "margin": null,
       "max_height": null,
       "max_width": null,
       "min_height": null,
       "min_width": null,
       "object_fit": null,
       "object_position": null,
       "order": null,
       "overflow": null,
       "overflow_x": null,
       "overflow_y": null,
       "padding": null,
       "right": null,
       "top": null,
       "visibility": null,
       "width": null
      }
     },
     "0b11d576bbb046828ebc08d1062fb44a": {
      "model_module": "@jupyter-widgets/controls",
      "model_module_version": "1.5.0",
      "model_name": "HTMLModel",
      "state": {
       "_dom_classes": [],
       "_model_module": "@jupyter-widgets/controls",
       "_model_module_version": "1.5.0",
       "_model_name": "HTMLModel",
       "_view_count": null,
       "_view_module": "@jupyter-widgets/controls",
       "_view_module_version": "1.5.0",
       "_view_name": "HTMLView",
       "description": "",
       "description_tooltip": null,
       "layout": "IPY_MODEL_e5b8d70e0e4544c484a17226a611fc7f",
       "placeholder": "​",
       "style": "IPY_MODEL_eda24a9729f44d7b8c24a6516887a37d",
       "value": " 448k/448k [00:00&lt;00:00, 680kB/s]"
      }
     },
     "13e4cf7492644518a770641d71672f78": {
      "model_module": "@jupyter-widgets/controls",
      "model_module_version": "1.5.0",
      "model_name": "HBoxModel",
      "state": {
       "_dom_classes": [],
       "_model_module": "@jupyter-widgets/controls",
       "_model_module_version": "1.5.0",
       "_model_name": "HBoxModel",
       "_view_count": null,
       "_view_module": "@jupyter-widgets/controls",
       "_view_module_version": "1.5.0",
       "_view_name": "HBoxView",
       "box_style": "",
       "children": [
        "IPY_MODEL_87b8e84e3a0b44a99a63e5559c1748b6",
        "IPY_MODEL_c77d465650454402b2d93b34b7324998",
        "IPY_MODEL_64f3536adde9400fbd96c1482039d700"
       ],
       "layout": "IPY_MODEL_89c1deb2cc1041a98b4d49eaf766c2a7"
      }
     },
     "16566b2e3f5446c9af1911cd8edb0668": {
      "model_module": "@jupyter-widgets/base",
      "model_module_version": "1.2.0",
      "model_name": "LayoutModel",
      "state": {
       "_model_module": "@jupyter-widgets/base",
       "_model_module_version": "1.2.0",
       "_model_name": "LayoutModel",
       "_view_count": null,
       "_view_module": "@jupyter-widgets/base",
       "_view_module_version": "1.2.0",
       "_view_name": "LayoutView",
       "align_content": null,
       "align_items": null,
       "align_self": null,
       "border": null,
       "bottom": null,
       "display": null,
       "flex": null,
       "flex_flow": null,
       "grid_area": null,
       "grid_auto_columns": null,
       "grid_auto_flow": null,
       "grid_auto_rows": null,
       "grid_column": null,
       "grid_gap": null,
       "grid_row": null,
       "grid_template_areas": null,
       "grid_template_columns": null,
       "grid_template_rows": null,
       "height": null,
       "justify_content": null,
       "justify_items": null,
       "left": null,
       "margin": null,
       "max_height": null,
       "max_width": null,
       "min_height": null,
       "min_width": null,
       "object_fit": null,
       "object_position": null,
       "order": null,
       "overflow": null,
       "overflow_x": null,
       "overflow_y": null,
       "padding": null,
       "right": null,
       "top": null,
       "visibility": null,
       "width": null
      }
     },
     "178ebaa0fc1e481b9e4968098e2a7fa6": {
      "model_module": "@jupyter-widgets/controls",
      "model_module_version": "1.5.0",
      "model_name": "DescriptionStyleModel",
      "state": {
       "_model_module": "@jupyter-widgets/controls",
       "_model_module_version": "1.5.0",
       "_model_name": "DescriptionStyleModel",
       "_view_count": null,
       "_view_module": "@jupyter-widgets/base",
       "_view_module_version": "1.2.0",
       "_view_name": "StyleView",
       "description_width": ""
      }
     },
     "1c76329c37a74ac4bcc7467a9b8299d9": {
      "model_module": "@jupyter-widgets/base",
      "model_module_version": "1.2.0",
      "model_name": "LayoutModel",
      "state": {
       "_model_module": "@jupyter-widgets/base",
       "_model_module_version": "1.2.0",
       "_model_name": "LayoutModel",
       "_view_count": null,
       "_view_module": "@jupyter-widgets/base",
       "_view_module_version": "1.2.0",
       "_view_name": "LayoutView",
       "align_content": null,
       "align_items": null,
       "align_self": null,
       "border": null,
       "bottom": null,
       "display": null,
       "flex": null,
       "flex_flow": null,
       "grid_area": null,
       "grid_auto_columns": null,
       "grid_auto_flow": null,
       "grid_auto_rows": null,
       "grid_column": null,
       "grid_gap": null,
       "grid_row": null,
       "grid_template_areas": null,
       "grid_template_columns": null,
       "grid_template_rows": null,
       "height": null,
       "justify_content": null,
       "justify_items": null,
       "left": null,
       "margin": null,
       "max_height": null,
       "max_width": null,
       "min_height": null,
       "min_width": null,
       "object_fit": null,
       "object_position": null,
       "order": null,
       "overflow": null,
       "overflow_x": null,
       "overflow_y": null,
       "padding": null,
       "right": null,
       "top": null,
       "visibility": null,
       "width": null
      }
     },
     "1e38376614664e8f864dd6125d74b3a8": {
      "model_module": "@jupyter-widgets/controls",
      "model_module_version": "1.5.0",
      "model_name": "ProgressStyleModel",
      "state": {
       "_model_module": "@jupyter-widgets/controls",
       "_model_module_version": "1.5.0",
       "_model_name": "ProgressStyleModel",
       "_view_count": null,
       "_view_module": "@jupyter-widgets/base",
       "_view_module_version": "1.2.0",
       "_view_name": "StyleView",
       "bar_color": null,
       "description_width": ""
      }
     },
     "1eadb530626e448ca64cc2a2f688bb69": {
      "model_module": "@jupyter-widgets/controls",
      "model_module_version": "1.5.0",
      "model_name": "HBoxModel",
      "state": {
       "_dom_classes": [],
       "_model_module": "@jupyter-widgets/controls",
       "_model_module_version": "1.5.0",
       "_model_name": "HBoxModel",
       "_view_count": null,
       "_view_module": "@jupyter-widgets/controls",
       "_view_module_version": "1.5.0",
       "_view_name": "HBoxView",
       "box_style": "",
       "children": [
        "IPY_MODEL_513b3f047a75433daa5a832c52ca6530",
        "IPY_MODEL_7a8f2d09cc334bb2b52df2aa6621a29f",
        "IPY_MODEL_f08881c6d3fa486db22cc49bc590e46b"
       ],
       "layout": "IPY_MODEL_a5892d10908c4036b08e7ef16d8459e6"
      }
     },
     "22eba37da7d94d12b9cd3a7153f96343": {
      "model_module": "@jupyter-widgets/controls",
      "model_module_version": "1.5.0",
      "model_name": "HTMLModel",
      "state": {
       "_dom_classes": [],
       "_model_module": "@jupyter-widgets/controls",
       "_model_module_version": "1.5.0",
       "_model_name": "HTMLModel",
       "_view_count": null,
       "_view_module": "@jupyter-widgets/controls",
       "_view_module_version": "1.5.0",
       "_view_name": "HTMLView",
       "description": "",
       "description_tooltip": null,
       "layout": "IPY_MODEL_350f90974c074dafbc76bf41830e973c",
       "placeholder": "​",
       "style": "IPY_MODEL_4737c1e510854affa3ce5e55510fdae0",
       "value": "Downloading: 100%"
      }
     },
     "286886019151456baae213ab08d26b22": {
      "model_module": "@jupyter-widgets/base",
      "model_module_version": "1.2.0",
      "model_name": "LayoutModel",
      "state": {
       "_model_module": "@jupyter-widgets/base",
       "_model_module_version": "1.2.0",
       "_model_name": "LayoutModel",
       "_view_count": null,
       "_view_module": "@jupyter-widgets/base",
       "_view_module_version": "1.2.0",
       "_view_name": "LayoutView",
       "align_content": null,
       "align_items": null,
       "align_self": null,
       "border": null,
       "bottom": null,
       "display": null,
       "flex": null,
       "flex_flow": null,
       "grid_area": null,
       "grid_auto_columns": null,
       "grid_auto_flow": null,
       "grid_auto_rows": null,
       "grid_column": null,
       "grid_gap": null,
       "grid_row": null,
       "grid_template_areas": null,
       "grid_template_columns": null,
       "grid_template_rows": null,
       "height": null,
       "justify_content": null,
       "justify_items": null,
       "left": null,
       "margin": null,
       "max_height": null,
       "max_width": null,
       "min_height": null,
       "min_width": null,
       "object_fit": null,
       "object_position": null,
       "order": null,
       "overflow": null,
       "overflow_x": null,
       "overflow_y": null,
       "padding": null,
       "right": null,
       "top": null,
       "visibility": null,
       "width": null
      }
     },
     "2d769f8c38fb465caf6d781e1941007e": {
      "model_module": "@jupyter-widgets/controls",
      "model_module_version": "1.5.0",
      "model_name": "HBoxModel",
      "state": {
       "_dom_classes": [],
       "_model_module": "@jupyter-widgets/controls",
       "_model_module_version": "1.5.0",
       "_model_name": "HBoxModel",
       "_view_count": null,
       "_view_module": "@jupyter-widgets/controls",
       "_view_module_version": "1.5.0",
       "_view_name": "HBoxView",
       "box_style": "",
       "children": [
        "IPY_MODEL_35b2b02b3a36480992fd68e954ad9c77",
        "IPY_MODEL_7d9807fb6ef544cbbc95e2bf31392dab",
        "IPY_MODEL_c2dcb0427b38462a8a624cb3328a9064"
       ],
       "layout": "IPY_MODEL_286886019151456baae213ab08d26b22"
      }
     },
     "3146a9fdfe9d46c5bb45795d060a9a1c": {
      "model_module": "@jupyter-widgets/base",
      "model_module_version": "1.2.0",
      "model_name": "LayoutModel",
      "state": {
       "_model_module": "@jupyter-widgets/base",
       "_model_module_version": "1.2.0",
       "_model_name": "LayoutModel",
       "_view_count": null,
       "_view_module": "@jupyter-widgets/base",
       "_view_module_version": "1.2.0",
       "_view_name": "LayoutView",
       "align_content": null,
       "align_items": null,
       "align_self": null,
       "border": null,
       "bottom": null,
       "display": null,
       "flex": null,
       "flex_flow": null,
       "grid_area": null,
       "grid_auto_columns": null,
       "grid_auto_flow": null,
       "grid_auto_rows": null,
       "grid_column": null,
       "grid_gap": null,
       "grid_row": null,
       "grid_template_areas": null,
       "grid_template_columns": null,
       "grid_template_rows": null,
       "height": null,
       "justify_content": null,
       "justify_items": null,
       "left": null,
       "margin": null,
       "max_height": null,
       "max_width": null,
       "min_height": null,
       "min_width": null,
       "object_fit": null,
       "object_position": null,
       "order": null,
       "overflow": null,
       "overflow_x": null,
       "overflow_y": null,
       "padding": null,
       "right": null,
       "top": null,
       "visibility": null,
       "width": null
      }
     },
     "33f79675d23c44f5ab346ea2ea105fe7": {
      "model_module": "@jupyter-widgets/controls",
      "model_module_version": "1.5.0",
      "model_name": "HBoxModel",
      "state": {
       "_dom_classes": [],
       "_model_module": "@jupyter-widgets/controls",
       "_model_module_version": "1.5.0",
       "_model_name": "HBoxModel",
       "_view_count": null,
       "_view_module": "@jupyter-widgets/controls",
       "_view_module_version": "1.5.0",
       "_view_name": "HBoxView",
       "box_style": "",
       "children": [
        "IPY_MODEL_22eba37da7d94d12b9cd3a7153f96343",
        "IPY_MODEL_ea6e20a6d4094ca08a255c7f30b67858",
        "IPY_MODEL_f7e6c008d74040bda4b2e02d1cfca426"
       ],
       "layout": "IPY_MODEL_6357e82fdb8b483bb921b8cffaa59161"
      }
     },
     "350f90974c074dafbc76bf41830e973c": {
      "model_module": "@jupyter-widgets/base",
      "model_module_version": "1.2.0",
      "model_name": "LayoutModel",
      "state": {
       "_model_module": "@jupyter-widgets/base",
       "_model_module_version": "1.2.0",
       "_model_name": "LayoutModel",
       "_view_count": null,
       "_view_module": "@jupyter-widgets/base",
       "_view_module_version": "1.2.0",
       "_view_name": "LayoutView",
       "align_content": null,
       "align_items": null,
       "align_self": null,
       "border": null,
       "bottom": null,
       "display": null,
       "flex": null,
       "flex_flow": null,
       "grid_area": null,
       "grid_auto_columns": null,
       "grid_auto_flow": null,
       "grid_auto_rows": null,
       "grid_column": null,
       "grid_gap": null,
       "grid_row": null,
       "grid_template_areas": null,
       "grid_template_columns": null,
       "grid_template_rows": null,
       "height": null,
       "justify_content": null,
       "justify_items": null,
       "left": null,
       "margin": null,
       "max_height": null,
       "max_width": null,
       "min_height": null,
       "min_width": null,
       "object_fit": null,
       "object_position": null,
       "order": null,
       "overflow": null,
       "overflow_x": null,
       "overflow_y": null,
       "padding": null,
       "right": null,
       "top": null,
       "visibility": null,
       "width": null
      }
     },
     "35b2b02b3a36480992fd68e954ad9c77": {
      "model_module": "@jupyter-widgets/controls",
      "model_module_version": "1.5.0",
      "model_name": "HTMLModel",
      "state": {
       "_dom_classes": [],
       "_model_module": "@jupyter-widgets/controls",
       "_model_module_version": "1.5.0",
       "_model_name": "HTMLModel",
       "_view_count": null,
       "_view_module": "@jupyter-widgets/controls",
       "_view_module_version": "1.5.0",
       "_view_name": "HTMLView",
       "description": "",
       "description_tooltip": null,
       "layout": "IPY_MODEL_3146a9fdfe9d46c5bb45795d060a9a1c",
       "placeholder": "​",
       "style": "IPY_MODEL_ebc22b47802a4b83808f9386e0896c88",
       "value": "Downloading: 100%"
      }
     },
     "40568a73790e44e9bc98794ad2f29b91": {
      "model_module": "@jupyter-widgets/controls",
      "model_module_version": "1.5.0",
      "model_name": "HTMLModel",
      "state": {
       "_dom_classes": [],
       "_model_module": "@jupyter-widgets/controls",
       "_model_module_version": "1.5.0",
       "_model_name": "HTMLModel",
       "_view_count": null,
       "_view_module": "@jupyter-widgets/controls",
       "_view_module_version": "1.5.0",
       "_view_name": "HTMLView",
       "description": "",
       "description_tooltip": null,
       "layout": "IPY_MODEL_b8ff46f064ef4b1ca8143f85e9df3faf",
       "placeholder": "​",
       "style": "IPY_MODEL_178ebaa0fc1e481b9e4968098e2a7fa6",
       "value": "Downloading: 100%"
      }
     },
     "41276a29e9f44d23ba9d4702e78446d5": {
      "model_module": "@jupyter-widgets/controls",
      "model_module_version": "1.5.0",
      "model_name": "ProgressStyleModel",
      "state": {
       "_model_module": "@jupyter-widgets/controls",
       "_model_module_version": "1.5.0",
       "_model_name": "ProgressStyleModel",
       "_view_count": null,
       "_view_module": "@jupyter-widgets/base",
       "_view_module_version": "1.2.0",
       "_view_name": "StyleView",
       "bar_color": null,
       "description_width": ""
      }
     },
     "458c007ad41941ccb56073cbf010fadd": {
      "model_module": "@jupyter-widgets/base",
      "model_module_version": "1.2.0",
      "model_name": "LayoutModel",
      "state": {
       "_model_module": "@jupyter-widgets/base",
       "_model_module_version": "1.2.0",
       "_model_name": "LayoutModel",
       "_view_count": null,
       "_view_module": "@jupyter-widgets/base",
       "_view_module_version": "1.2.0",
       "_view_name": "LayoutView",
       "align_content": null,
       "align_items": null,
       "align_self": null,
       "border": null,
       "bottom": null,
       "display": null,
       "flex": null,
       "flex_flow": null,
       "grid_area": null,
       "grid_auto_columns": null,
       "grid_auto_flow": null,
       "grid_auto_rows": null,
       "grid_column": null,
       "grid_gap": null,
       "grid_row": null,
       "grid_template_areas": null,
       "grid_template_columns": null,
       "grid_template_rows": null,
       "height": null,
       "justify_content": null,
       "justify_items": null,
       "left": null,
       "margin": null,
       "max_height": null,
       "max_width": null,
       "min_height": null,
       "min_width": null,
       "object_fit": null,
       "object_position": null,
       "order": null,
       "overflow": null,
       "overflow_x": null,
       "overflow_y": null,
       "padding": null,
       "right": null,
       "top": null,
       "visibility": null,
       "width": null
      }
     },
     "45de1ea358904c1bb0ccc04d357129f9": {
      "model_module": "@jupyter-widgets/base",
      "model_module_version": "1.2.0",
      "model_name": "LayoutModel",
      "state": {
       "_model_module": "@jupyter-widgets/base",
       "_model_module_version": "1.2.0",
       "_model_name": "LayoutModel",
       "_view_count": null,
       "_view_module": "@jupyter-widgets/base",
       "_view_module_version": "1.2.0",
       "_view_name": "LayoutView",
       "align_content": null,
       "align_items": null,
       "align_self": null,
       "border": null,
       "bottom": null,
       "display": null,
       "flex": null,
       "flex_flow": null,
       "grid_area": null,
       "grid_auto_columns": null,
       "grid_auto_flow": null,
       "grid_auto_rows": null,
       "grid_column": null,
       "grid_gap": null,
       "grid_row": null,
       "grid_template_areas": null,
       "grid_template_columns": null,
       "grid_template_rows": null,
       "height": null,
       "justify_content": null,
       "justify_items": null,
       "left": null,
       "margin": null,
       "max_height": null,
       "max_width": null,
       "min_height": null,
       "min_width": null,
       "object_fit": null,
       "object_position": null,
       "order": null,
       "overflow": null,
       "overflow_x": null,
       "overflow_y": null,
       "padding": null,
       "right": null,
       "top": null,
       "visibility": null,
       "width": null
      }
     },
     "4737c1e510854affa3ce5e55510fdae0": {
      "model_module": "@jupyter-widgets/controls",
      "model_module_version": "1.5.0",
      "model_name": "DescriptionStyleModel",
      "state": {
       "_model_module": "@jupyter-widgets/controls",
       "_model_module_version": "1.5.0",
       "_model_name": "DescriptionStyleModel",
       "_view_count": null,
       "_view_module": "@jupyter-widgets/base",
       "_view_module_version": "1.2.0",
       "_view_name": "StyleView",
       "description_width": ""
      }
     },
     "49bb04ad8adb479ca6ed7b787f1b1010": {
      "model_module": "@jupyter-widgets/controls",
      "model_module_version": "1.5.0",
      "model_name": "ProgressStyleModel",
      "state": {
       "_model_module": "@jupyter-widgets/controls",
       "_model_module_version": "1.5.0",
       "_model_name": "ProgressStyleModel",
       "_view_count": null,
       "_view_module": "@jupyter-widgets/base",
       "_view_module_version": "1.2.0",
       "_view_name": "StyleView",
       "bar_color": null,
       "description_width": ""
      }
     },
     "4b2d51331c034cf5b4928350fccda8df": {
      "model_module": "@jupyter-widgets/base",
      "model_module_version": "1.2.0",
      "model_name": "LayoutModel",
      "state": {
       "_model_module": "@jupyter-widgets/base",
       "_model_module_version": "1.2.0",
       "_model_name": "LayoutModel",
       "_view_count": null,
       "_view_module": "@jupyter-widgets/base",
       "_view_module_version": "1.2.0",
       "_view_name": "LayoutView",
       "align_content": null,
       "align_items": null,
       "align_self": null,
       "border": null,
       "bottom": null,
       "display": null,
       "flex": null,
       "flex_flow": null,
       "grid_area": null,
       "grid_auto_columns": null,
       "grid_auto_flow": null,
       "grid_auto_rows": null,
       "grid_column": null,
       "grid_gap": null,
       "grid_row": null,
       "grid_template_areas": null,
       "grid_template_columns": null,
       "grid_template_rows": null,
       "height": null,
       "justify_content": null,
       "justify_items": null,
       "left": null,
       "margin": null,
       "max_height": null,
       "max_width": null,
       "min_height": null,
       "min_width": null,
       "object_fit": null,
       "object_position": null,
       "order": null,
       "overflow": null,
       "overflow_x": null,
       "overflow_y": null,
       "padding": null,
       "right": null,
       "top": null,
       "visibility": null,
       "width": null
      }
     },
     "4bdbbb38b0dc4129ae8cc27c4d0a3bc5": {
      "model_module": "@jupyter-widgets/controls",
      "model_module_version": "1.5.0",
      "model_name": "HTMLModel",
      "state": {
       "_dom_classes": [],
       "_model_module": "@jupyter-widgets/controls",
       "_model_module_version": "1.5.0",
       "_model_name": "HTMLModel",
       "_view_count": null,
       "_view_module": "@jupyter-widgets/controls",
       "_view_module_version": "1.5.0",
       "_view_name": "HTMLView",
       "description": "",
       "description_tooltip": null,
       "layout": "IPY_MODEL_1c76329c37a74ac4bcc7467a9b8299d9",
       "placeholder": "​",
       "style": "IPY_MODEL_98c17a89b2db42b39b9bb614f69f7f92",
       "value": " 797k/797k [00:01&lt;00:00, 1.12MB/s]"
      }
     },
     "4d27a9a6d14e4165b09a1aa6fcc5f980": {
      "model_module": "@jupyter-widgets/base",
      "model_module_version": "1.2.0",
      "model_name": "LayoutModel",
      "state": {
       "_model_module": "@jupyter-widgets/base",
       "_model_module_version": "1.2.0",
       "_model_name": "LayoutModel",
       "_view_count": null,
       "_view_module": "@jupyter-widgets/base",
       "_view_module_version": "1.2.0",
       "_view_name": "LayoutView",
       "align_content": null,
       "align_items": null,
       "align_self": null,
       "border": null,
       "bottom": null,
       "display": null,
       "flex": null,
       "flex_flow": null,
       "grid_area": null,
       "grid_auto_columns": null,
       "grid_auto_flow": null,
       "grid_auto_rows": null,
       "grid_column": null,
       "grid_gap": null,
       "grid_row": null,
       "grid_template_areas": null,
       "grid_template_columns": null,
       "grid_template_rows": null,
       "height": null,
       "justify_content": null,
       "justify_items": null,
       "left": null,
       "margin": null,
       "max_height": null,
       "max_width": null,
       "min_height": null,
       "min_width": null,
       "object_fit": null,
       "object_position": null,
       "order": null,
       "overflow": null,
       "overflow_x": null,
       "overflow_y": null,
       "padding": null,
       "right": null,
       "top": null,
       "visibility": null,
       "width": null
      }
     },
     "4f45acd5d43545428b34fed6df064e0a": {
      "model_module": "@jupyter-widgets/controls",
      "model_module_version": "1.5.0",
      "model_name": "HTMLModel",
      "state": {
       "_dom_classes": [],
       "_model_module": "@jupyter-widgets/controls",
       "_model_module_version": "1.5.0",
       "_model_name": "HTMLModel",
       "_view_count": null,
       "_view_module": "@jupyter-widgets/controls",
       "_view_module_version": "1.5.0",
       "_view_name": "HTMLView",
       "description": "",
       "description_tooltip": null,
       "layout": "IPY_MODEL_796e61d85eed475784e2067ddef959f7",
       "placeholder": "​",
       "style": "IPY_MODEL_fc5f71f595944d609f2ed48f52cdd60a",
       "value": " 455k/455k [00:00&lt;00:00, 639kB/s]"
      }
     },
     "513b3f047a75433daa5a832c52ca6530": {
      "model_module": "@jupyter-widgets/controls",
      "model_module_version": "1.5.0",
      "model_name": "HTMLModel",
      "state": {
       "_dom_classes": [],
       "_model_module": "@jupyter-widgets/controls",
       "_model_module_version": "1.5.0",
       "_model_name": "HTMLModel",
       "_view_count": null,
       "_view_module": "@jupyter-widgets/controls",
       "_view_module_version": "1.5.0",
       "_view_name": "HTMLView",
       "description": "",
       "description_tooltip": null,
       "layout": "IPY_MODEL_b10a0a5f0e8949d7b60761edf6d2b59b",
       "placeholder": "​",
       "style": "IPY_MODEL_63a2b25b9b6d495ca11b4ce80886577d",
       "value": "Downloading: 100%"
      }
     },
     "545dd52dffb14fe39a97fff9bac2a904": {
      "model_module": "@jupyter-widgets/controls",
      "model_module_version": "1.5.0",
      "model_name": "FloatProgressModel",
      "state": {
       "_dom_classes": [],
       "_model_module": "@jupyter-widgets/controls",
       "_model_module_version": "1.5.0",
       "_model_name": "FloatProgressModel",
       "_view_count": null,
       "_view_module": "@jupyter-widgets/controls",
       "_view_module_version": "1.5.0",
       "_view_name": "ProgressView",
       "bar_style": "success",
       "description": "",
       "description_tooltip": null,
       "layout": "IPY_MODEL_4d27a9a6d14e4165b09a1aa6fcc5f980",
       "max": 815973.0,
       "min": 0.0,
       "orientation": "horizontal",
       "style": "IPY_MODEL_58371bf0661e4136957f04d82e86d683",
       "value": 815973.0
      }
     },
     "58371bf0661e4136957f04d82e86d683": {
      "model_module": "@jupyter-widgets/controls",
      "model_module_version": "1.5.0",
      "model_name": "ProgressStyleModel",
      "state": {
       "_model_module": "@jupyter-widgets/controls",
       "_model_module_version": "1.5.0",
       "_model_name": "ProgressStyleModel",
       "_view_count": null,
       "_view_module": "@jupyter-widgets/base",
       "_view_module_version": "1.2.0",
       "_view_name": "StyleView",
       "bar_color": null,
       "description_width": ""
      }
     },
     "59027e25b1bc456993d0d24212f35bb3": {
      "model_module": "@jupyter-widgets/controls",
      "model_module_version": "1.5.0",
      "model_name": "HBoxModel",
      "state": {
       "_dom_classes": [],
       "_model_module": "@jupyter-widgets/controls",
       "_model_module_version": "1.5.0",
       "_model_name": "HBoxModel",
       "_view_count": null,
       "_view_module": "@jupyter-widgets/controls",
       "_view_module_version": "1.5.0",
       "_view_name": "HBoxView",
       "box_style": "",
       "children": [
        "IPY_MODEL_40568a73790e44e9bc98794ad2f29b91",
        "IPY_MODEL_c2a6e63dd4284b59bf9cc6967e017cdd",
        "IPY_MODEL_4f45acd5d43545428b34fed6df064e0a"
       ],
       "layout": "IPY_MODEL_c7d69139908a4b56a5befcc6b90a755c"
      }
     },
     "5a7323d3155842bcbc2b8f7dd3f61ec3": {
      "model_module": "@jupyter-widgets/base",
      "model_module_version": "1.2.0",
      "model_name": "LayoutModel",
      "state": {
       "_model_module": "@jupyter-widgets/base",
       "_model_module_version": "1.2.0",
       "_model_name": "LayoutModel",
       "_view_count": null,
       "_view_module": "@jupyter-widgets/base",
       "_view_module_version": "1.2.0",
       "_view_name": "LayoutView",
       "align_content": null,
       "align_items": null,
       "align_self": null,
       "border": null,
       "bottom": null,
       "display": null,
       "flex": null,
       "flex_flow": null,
       "grid_area": null,
       "grid_auto_columns": null,
       "grid_auto_flow": null,
       "grid_auto_rows": null,
       "grid_column": null,
       "grid_gap": null,
       "grid_row": null,
       "grid_template_areas": null,
       "grid_template_columns": null,
       "grid_template_rows": null,
       "height": null,
       "justify_content": null,
       "justify_items": null,
       "left": null,
       "margin": null,
       "max_height": null,
       "max_width": null,
       "min_height": null,
       "min_width": null,
       "object_fit": null,
       "object_position": null,
       "order": null,
       "overflow": null,
       "overflow_x": null,
       "overflow_y": null,
       "padding": null,
       "right": null,
       "top": null,
       "visibility": null,
       "width": null
      }
     },
     "5c3c45f543804526a9111371dbc1fa3e": {
      "model_module": "@jupyter-widgets/controls",
      "model_module_version": "1.5.0",
      "model_name": "FloatProgressModel",
      "state": {
       "_dom_classes": [],
       "_model_module": "@jupyter-widgets/controls",
       "_model_module_version": "1.5.0",
       "_model_name": "FloatProgressModel",
       "_view_count": null,
       "_view_module": "@jupyter-widgets/controls",
       "_view_module_version": "1.5.0",
       "_view_name": "ProgressView",
       "bar_style": "success",
       "description": "",
       "description_tooltip": null,
       "layout": "IPY_MODEL_c47307a8114e48f6990a70a323c59035",
       "max": 570.0,
       "min": 0.0,
       "orientation": "horizontal",
       "style": "IPY_MODEL_a82487910f324d6a8ec03b6c9af3543d",
       "value": 570.0
      }
     },
     "5fb6b26fd29d40f38c827d8969542ad1": {
      "model_module": "@jupyter-widgets/controls",
      "model_module_version": "1.5.0",
      "model_name": "DescriptionStyleModel",
      "state": {
       "_model_module": "@jupyter-widgets/controls",
       "_model_module_version": "1.5.0",
       "_model_name": "DescriptionStyleModel",
       "_view_count": null,
       "_view_module": "@jupyter-widgets/base",
       "_view_module_version": "1.2.0",
       "_view_name": "StyleView",
       "description_width": ""
      }
     },
     "6053e4353a6f431d9b660b115959446c": {
      "model_module": "@jupyter-widgets/controls",
      "model_module_version": "1.5.0",
      "model_name": "ProgressStyleModel",
      "state": {
       "_model_module": "@jupyter-widgets/controls",
       "_model_module_version": "1.5.0",
       "_model_name": "ProgressStyleModel",
       "_view_count": null,
       "_view_module": "@jupyter-widgets/base",
       "_view_module_version": "1.2.0",
       "_view_name": "StyleView",
       "bar_color": null,
       "description_width": ""
      }
     },
     "6357e82fdb8b483bb921b8cffaa59161": {
      "model_module": "@jupyter-widgets/base",
      "model_module_version": "1.2.0",
      "model_name": "LayoutModel",
      "state": {
       "_model_module": "@jupyter-widgets/base",
       "_model_module_version": "1.2.0",
       "_model_name": "LayoutModel",
       "_view_count": null,
       "_view_module": "@jupyter-widgets/base",
       "_view_module_version": "1.2.0",
       "_view_name": "LayoutView",
       "align_content": null,
       "align_items": null,
       "align_self": null,
       "border": null,
       "bottom": null,
       "display": null,
       "flex": null,
       "flex_flow": null,
       "grid_area": null,
       "grid_auto_columns": null,
       "grid_auto_flow": null,
       "grid_auto_rows": null,
       "grid_column": null,
       "grid_gap": null,
       "grid_row": null,
       "grid_template_areas": null,
       "grid_template_columns": null,
       "grid_template_rows": null,
       "height": null,
       "justify_content": null,
       "justify_items": null,
       "left": null,
       "margin": null,
       "max_height": null,
       "max_width": null,
       "min_height": null,
       "min_width": null,
       "object_fit": null,
       "object_position": null,
       "order": null,
       "overflow": null,
       "overflow_x": null,
       "overflow_y": null,
       "padding": null,
       "right": null,
       "top": null,
       "visibility": null,
       "width": null
      }
     },
     "63a2b25b9b6d495ca11b4ce80886577d": {
      "model_module": "@jupyter-widgets/controls",
      "model_module_version": "1.5.0",
      "model_name": "DescriptionStyleModel",
      "state": {
       "_model_module": "@jupyter-widgets/controls",
       "_model_module_version": "1.5.0",
       "_model_name": "DescriptionStyleModel",
       "_view_count": null,
       "_view_module": "@jupyter-widgets/base",
       "_view_module_version": "1.2.0",
       "_view_name": "StyleView",
       "description_width": ""
      }
     },
     "64f3536adde9400fbd96c1482039d700": {
      "model_module": "@jupyter-widgets/controls",
      "model_module_version": "1.5.0",
      "model_name": "HTMLModel",
      "state": {
       "_dom_classes": [],
       "_model_module": "@jupyter-widgets/controls",
       "_model_module_version": "1.5.0",
       "_model_name": "HTMLModel",
       "_view_count": null,
       "_view_module": "@jupyter-widgets/controls",
       "_view_module_version": "1.5.0",
       "_view_name": "HTMLView",
       "description": "",
       "description_tooltip": null,
       "layout": "IPY_MODEL_45de1ea358904c1bb0ccc04d357129f9",
       "placeholder": "​",
       "style": "IPY_MODEL_7bea4478559b40a98e6194f8ee32fdc5",
       "value": " 1.21M/1.21M [00:01&lt;00:00, 1.07MB/s]"
      }
     },
     "69c20a0542814fd2aa700c05ba9b00c2": {
      "model_module": "@jupyter-widgets/controls",
      "model_module_version": "1.5.0",
      "model_name": "DescriptionStyleModel",
      "state": {
       "_model_module": "@jupyter-widgets/controls",
       "_model_module_version": "1.5.0",
       "_model_name": "DescriptionStyleModel",
       "_view_count": null,
       "_view_module": "@jupyter-widgets/base",
       "_view_module_version": "1.2.0",
       "_view_name": "StyleView",
       "description_width": ""
      }
     },
     "6d83b40ec0b645f491ea3a13060b546b": {
      "model_module": "@jupyter-widgets/base",
      "model_module_version": "1.2.0",
      "model_name": "LayoutModel",
      "state": {
       "_model_module": "@jupyter-widgets/base",
       "_model_module_version": "1.2.0",
       "_model_name": "LayoutModel",
       "_view_count": null,
       "_view_module": "@jupyter-widgets/base",
       "_view_module_version": "1.2.0",
       "_view_name": "LayoutView",
       "align_content": null,
       "align_items": null,
       "align_self": null,
       "border": null,
       "bottom": null,
       "display": null,
       "flex": null,
       "flex_flow": null,
       "grid_area": null,
       "grid_auto_columns": null,
       "grid_auto_flow": null,
       "grid_auto_rows": null,
       "grid_column": null,
       "grid_gap": null,
       "grid_row": null,
       "grid_template_areas": null,
       "grid_template_columns": null,
       "grid_template_rows": null,
       "height": null,
       "justify_content": null,
       "justify_items": null,
       "left": null,
       "margin": null,
       "max_height": null,
       "max_width": null,
       "min_height": null,
       "min_width": null,
       "object_fit": null,
       "object_position": null,
       "order": null,
       "overflow": null,
       "overflow_x": null,
       "overflow_y": null,
       "padding": null,
       "right": null,
       "top": null,
       "visibility": null,
       "width": null
      }
     },
     "73d5a4d0389c4fa9af7759b2b832689b": {
      "model_module": "@jupyter-widgets/base",
      "model_module_version": "1.2.0",
      "model_name": "LayoutModel",
      "state": {
       "_model_module": "@jupyter-widgets/base",
       "_model_module_version": "1.2.0",
       "_model_name": "LayoutModel",
       "_view_count": null,
       "_view_module": "@jupyter-widgets/base",
       "_view_module_version": "1.2.0",
       "_view_name": "LayoutView",
       "align_content": null,
       "align_items": null,
       "align_self": null,
       "border": null,
       "bottom": null,
       "display": null,
       "flex": null,
       "flex_flow": null,
       "grid_area": null,
       "grid_auto_columns": null,
       "grid_auto_flow": null,
       "grid_auto_rows": null,
       "grid_column": null,
       "grid_gap": null,
       "grid_row": null,
       "grid_template_areas": null,
       "grid_template_columns": null,
       "grid_template_rows": null,
       "height": null,
       "justify_content": null,
       "justify_items": null,
       "left": null,
       "margin": null,
       "max_height": null,
       "max_width": null,
       "min_height": null,
       "min_width": null,
       "object_fit": null,
       "object_position": null,
       "order": null,
       "overflow": null,
       "overflow_x": null,
       "overflow_y": null,
       "padding": null,
       "right": null,
       "top": null,
       "visibility": null,
       "width": null
      }
     },
     "7951c3dc281f4de0b99737ec23190487": {
      "model_module": "@jupyter-widgets/base",
      "model_module_version": "1.2.0",
      "model_name": "LayoutModel",
      "state": {
       "_model_module": "@jupyter-widgets/base",
       "_model_module_version": "1.2.0",
       "_model_name": "LayoutModel",
       "_view_count": null,
       "_view_module": "@jupyter-widgets/base",
       "_view_module_version": "1.2.0",
       "_view_name": "LayoutView",
       "align_content": null,
       "align_items": null,
       "align_self": null,
       "border": null,
       "bottom": null,
       "display": null,
       "flex": null,
       "flex_flow": null,
       "grid_area": null,
       "grid_auto_columns": null,
       "grid_auto_flow": null,
       "grid_auto_rows": null,
       "grid_column": null,
       "grid_gap": null,
       "grid_row": null,
       "grid_template_areas": null,
       "grid_template_columns": null,
       "grid_template_rows": null,
       "height": null,
       "justify_content": null,
       "justify_items": null,
       "left": null,
       "margin": null,
       "max_height": null,
       "max_width": null,
       "min_height": null,
       "min_width": null,
       "object_fit": null,
       "object_position": null,
       "order": null,
       "overflow": null,
       "overflow_x": null,
       "overflow_y": null,
       "padding": null,
       "right": null,
       "top": null,
       "visibility": null,
       "width": null
      }
     },
     "796e61d85eed475784e2067ddef959f7": {
      "model_module": "@jupyter-widgets/base",
      "model_module_version": "1.2.0",
      "model_name": "LayoutModel",
      "state": {
       "_model_module": "@jupyter-widgets/base",
       "_model_module_version": "1.2.0",
       "_model_name": "LayoutModel",
       "_view_count": null,
       "_view_module": "@jupyter-widgets/base",
       "_view_module_version": "1.2.0",
       "_view_name": "LayoutView",
       "align_content": null,
       "align_items": null,
       "align_self": null,
       "border": null,
       "bottom": null,
       "display": null,
       "flex": null,
       "flex_flow": null,
       "grid_area": null,
       "grid_auto_columns": null,
       "grid_auto_flow": null,
       "grid_auto_rows": null,
       "grid_column": null,
       "grid_gap": null,
       "grid_row": null,
       "grid_template_areas": null,
       "grid_template_columns": null,
       "grid_template_rows": null,
       "height": null,
       "justify_content": null,
       "justify_items": null,
       "left": null,
       "margin": null,
       "max_height": null,
       "max_width": null,
       "min_height": null,
       "min_width": null,
       "object_fit": null,
       "object_position": null,
       "order": null,
       "overflow": null,
       "overflow_x": null,
       "overflow_y": null,
       "padding": null,
       "right": null,
       "top": null,
       "visibility": null,
       "width": null
      }
     },
     "7a8f2d09cc334bb2b52df2aa6621a29f": {
      "model_module": "@jupyter-widgets/controls",
      "model_module_version": "1.5.0",
      "model_name": "FloatProgressModel",
      "state": {
       "_dom_classes": [],
       "_model_module": "@jupyter-widgets/controls",
       "_model_module_version": "1.5.0",
       "_model_name": "FloatProgressModel",
       "_view_count": null,
       "_view_module": "@jupyter-widgets/controls",
       "_view_module_version": "1.5.0",
       "_view_name": "ProgressView",
       "bar_style": "success",
       "description": "",
       "description_tooltip": null,
       "layout": "IPY_MODEL_c40bb26d06fa42e48880454767721202",
       "max": 656.0,
       "min": 0.0,
       "orientation": "horizontal",
       "style": "IPY_MODEL_b9d0daf971424867b80470310838e7c6",
       "value": 656.0
      }
     },
     "7b3510510aa24dd0af3675461dad3197": {
      "model_module": "@jupyter-widgets/controls",
      "model_module_version": "1.5.0",
      "model_name": "DescriptionStyleModel",
      "state": {
       "_model_module": "@jupyter-widgets/controls",
       "_model_module_version": "1.5.0",
       "_model_name": "DescriptionStyleModel",
       "_view_count": null,
       "_view_module": "@jupyter-widgets/base",
       "_view_module_version": "1.2.0",
       "_view_name": "StyleView",
       "description_width": ""
      }
     },
     "7bea4478559b40a98e6194f8ee32fdc5": {
      "model_module": "@jupyter-widgets/controls",
      "model_module_version": "1.5.0",
      "model_name": "DescriptionStyleModel",
      "state": {
       "_model_module": "@jupyter-widgets/controls",
       "_model_module_version": "1.5.0",
       "_model_name": "DescriptionStyleModel",
       "_view_count": null,
       "_view_module": "@jupyter-widgets/base",
       "_view_module_version": "1.2.0",
       "_view_name": "StyleView",
       "description_width": ""
      }
     },
     "7d8313657af74740a973853bdf10d494": {
      "model_module": "@jupyter-widgets/base",
      "model_module_version": "1.2.0",
      "model_name": "LayoutModel",
      "state": {
       "_model_module": "@jupyter-widgets/base",
       "_model_module_version": "1.2.0",
       "_model_name": "LayoutModel",
       "_view_count": null,
       "_view_module": "@jupyter-widgets/base",
       "_view_module_version": "1.2.0",
       "_view_name": "LayoutView",
       "align_content": null,
       "align_items": null,
       "align_self": null,
       "border": null,
       "bottom": null,
       "display": null,
       "flex": null,
       "flex_flow": null,
       "grid_area": null,
       "grid_auto_columns": null,
       "grid_auto_flow": null,
       "grid_auto_rows": null,
       "grid_column": null,
       "grid_gap": null,
       "grid_row": null,
       "grid_template_areas": null,
       "grid_template_columns": null,
       "grid_template_rows": null,
       "height": null,
       "justify_content": null,
       "justify_items": null,
       "left": null,
       "margin": null,
       "max_height": null,
       "max_width": null,
       "min_height": null,
       "min_width": null,
       "object_fit": null,
       "object_position": null,
       "order": null,
       "overflow": null,
       "overflow_x": null,
       "overflow_y": null,
       "padding": null,
       "right": null,
       "top": null,
       "visibility": null,
       "width": null
      }
     },
     "7d9807fb6ef544cbbc95e2bf31392dab": {
      "model_module": "@jupyter-widgets/controls",
      "model_module_version": "1.5.0",
      "model_name": "FloatProgressModel",
      "state": {
       "_dom_classes": [],
       "_model_module": "@jupyter-widgets/controls",
       "_model_module_version": "1.5.0",
       "_model_name": "FloatProgressModel",
       "_view_count": null,
       "_view_module": "@jupyter-widgets/controls",
       "_view_module_version": "1.5.0",
       "_view_name": "ProgressView",
       "bar_style": "success",
       "description": "",
       "description_tooltip": null,
       "layout": "IPY_MODEL_73d5a4d0389c4fa9af7759b2b832689b",
       "max": 28.0,
       "min": 0.0,
       "orientation": "horizontal",
       "style": "IPY_MODEL_6053e4353a6f431d9b660b115959446c",
       "value": 28.0
      }
     },
     "87b8e84e3a0b44a99a63e5559c1748b6": {
      "model_module": "@jupyter-widgets/controls",
      "model_module_version": "1.5.0",
      "model_name": "HTMLModel",
      "state": {
       "_dom_classes": [],
       "_model_module": "@jupyter-widgets/controls",
       "_model_module_version": "1.5.0",
       "_model_name": "HTMLModel",
       "_view_count": null,
       "_view_module": "@jupyter-widgets/controls",
       "_view_module_version": "1.5.0",
       "_view_name": "HTMLView",
       "description": "",
       "description_tooltip": null,
       "layout": "IPY_MODEL_00b59e8c3aae44e693cc0023c6d0186f",
       "placeholder": "​",
       "style": "IPY_MODEL_69c20a0542814fd2aa700c05ba9b00c2",
       "value": "Downloading: 100%"
      }
     },
     "89c1deb2cc1041a98b4d49eaf766c2a7": {
      "model_module": "@jupyter-widgets/base",
      "model_module_version": "1.2.0",
      "model_name": "LayoutModel",
      "state": {
       "_model_module": "@jupyter-widgets/base",
       "_model_module_version": "1.2.0",
       "_model_name": "LayoutModel",
       "_view_count": null,
       "_view_module": "@jupyter-widgets/base",
       "_view_module_version": "1.2.0",
       "_view_name": "LayoutView",
       "align_content": null,
       "align_items": null,
       "align_self": null,
       "border": null,
       "bottom": null,
       "display": null,
       "flex": null,
       "flex_flow": null,
       "grid_area": null,
       "grid_auto_columns": null,
       "grid_auto_flow": null,
       "grid_auto_rows": null,
       "grid_column": null,
       "grid_gap": null,
       "grid_row": null,
       "grid_template_areas": null,
       "grid_template_columns": null,
       "grid_template_rows": null,
       "height": null,
       "justify_content": null,
       "justify_items": null,
       "left": null,
       "margin": null,
       "max_height": null,
       "max_width": null,
       "min_height": null,
       "min_width": null,
       "object_fit": null,
       "object_position": null,
       "order": null,
       "overflow": null,
       "overflow_x": null,
       "overflow_y": null,
       "padding": null,
       "right": null,
       "top": null,
       "visibility": null,
       "width": null
      }
     },
     "929ee0119e1242a6b014328ed1a7ce8d": {
      "model_module": "@jupyter-widgets/controls",
      "model_module_version": "1.5.0",
      "model_name": "DescriptionStyleModel",
      "state": {
       "_model_module": "@jupyter-widgets/controls",
       "_model_module_version": "1.5.0",
       "_model_name": "DescriptionStyleModel",
       "_view_count": null,
       "_view_module": "@jupyter-widgets/base",
       "_view_module_version": "1.2.0",
       "_view_name": "StyleView",
       "description_width": ""
      }
     },
     "97085e9ec64141a5a340cfd7574840c8": {
      "model_module": "@jupyter-widgets/controls",
      "model_module_version": "1.5.0",
      "model_name": "HTMLModel",
      "state": {
       "_dom_classes": [],
       "_model_module": "@jupyter-widgets/controls",
       "_model_module_version": "1.5.0",
       "_model_name": "HTMLModel",
       "_view_count": null,
       "_view_module": "@jupyter-widgets/controls",
       "_view_module_version": "1.5.0",
       "_view_name": "HTMLView",
       "description": "",
       "description_tooltip": null,
       "layout": "IPY_MODEL_16566b2e3f5446c9af1911cd8edb0668",
       "placeholder": "​",
       "style": "IPY_MODEL_eb4737258a564582b54b79a803bbfe31",
       "value": "Downloading: 100%"
      }
     },
     "9847aedd93524184b9d3e715ccb0e5d1": {
      "model_module": "@jupyter-widgets/controls",
      "model_module_version": "1.5.0",
      "model_name": "HBoxModel",
      "state": {
       "_dom_classes": [],
       "_model_module": "@jupyter-widgets/controls",
       "_model_module_version": "1.5.0",
       "_model_name": "HBoxModel",
       "_view_count": null,
       "_view_module": "@jupyter-widgets/controls",
       "_view_module_version": "1.5.0",
       "_view_name": "HBoxView",
       "box_style": "",
       "children": [
        "IPY_MODEL_c8df2a6411944602821af76e57be89ed",
        "IPY_MODEL_beb5c6a0f34f497bb3f69b34c2d0ad5c",
        "IPY_MODEL_0b11d576bbb046828ebc08d1062fb44a"
       ],
       "layout": "IPY_MODEL_02bc161ea48a48f1a5d53a67f57c4bca"
      }
     },
     "98c17a89b2db42b39b9bb614f69f7f92": {
      "model_module": "@jupyter-widgets/controls",
      "model_module_version": "1.5.0",
      "model_name": "DescriptionStyleModel",
      "state": {
       "_model_module": "@jupyter-widgets/controls",
       "_model_module_version": "1.5.0",
       "_model_name": "DescriptionStyleModel",
       "_view_count": null,
       "_view_module": "@jupyter-widgets/base",
       "_view_module_version": "1.2.0",
       "_view_name": "StyleView",
       "description_width": ""
      }
     },
     "9d5a4094f6c8423eb3d1ca7481b8643c": {
      "model_module": "@jupyter-widgets/base",
      "model_module_version": "1.2.0",
      "model_name": "LayoutModel",
      "state": {
       "_model_module": "@jupyter-widgets/base",
       "_model_module_version": "1.2.0",
       "_model_name": "LayoutModel",
       "_view_count": null,
       "_view_module": "@jupyter-widgets/base",
       "_view_module_version": "1.2.0",
       "_view_name": "LayoutView",
       "align_content": null,
       "align_items": null,
       "align_self": null,
       "border": null,
       "bottom": null,
       "display": null,
       "flex": null,
       "flex_flow": null,
       "grid_area": null,
       "grid_auto_columns": null,
       "grid_auto_flow": null,
       "grid_auto_rows": null,
       "grid_column": null,
       "grid_gap": null,
       "grid_row": null,
       "grid_template_areas": null,
       "grid_template_columns": null,
       "grid_template_rows": null,
       "height": null,
       "justify_content": null,
       "justify_items": null,
       "left": null,
       "margin": null,
       "max_height": null,
       "max_width": null,
       "min_height": null,
       "min_width": null,
       "object_fit": null,
       "object_position": null,
       "order": null,
       "overflow": null,
       "overflow_x": null,
       "overflow_y": null,
       "padding": null,
       "right": null,
       "top": null,
       "visibility": null,
       "width": null
      }
     },
     "a5892d10908c4036b08e7ef16d8459e6": {
      "model_module": "@jupyter-widgets/base",
      "model_module_version": "1.2.0",
      "model_name": "LayoutModel",
      "state": {
       "_model_module": "@jupyter-widgets/base",
       "_model_module_version": "1.2.0",
       "_model_name": "LayoutModel",
       "_view_count": null,
       "_view_module": "@jupyter-widgets/base",
       "_view_module_version": "1.2.0",
       "_view_name": "LayoutView",
       "align_content": null,
       "align_items": null,
       "align_self": null,
       "border": null,
       "bottom": null,
       "display": null,
       "flex": null,
       "flex_flow": null,
       "grid_area": null,
       "grid_auto_columns": null,
       "grid_auto_flow": null,
       "grid_auto_rows": null,
       "grid_column": null,
       "grid_gap": null,
       "grid_row": null,
       "grid_template_areas": null,
       "grid_template_columns": null,
       "grid_template_rows": null,
       "height": null,
       "justify_content": null,
       "justify_items": null,
       "left": null,
       "margin": null,
       "max_height": null,
       "max_width": null,
       "min_height": null,
       "min_width": null,
       "object_fit": null,
       "object_position": null,
       "order": null,
       "overflow": null,
       "overflow_x": null,
       "overflow_y": null,
       "padding": null,
       "right": null,
       "top": null,
       "visibility": null,
       "width": null
      }
     },
     "a82487910f324d6a8ec03b6c9af3543d": {
      "model_module": "@jupyter-widgets/controls",
      "model_module_version": "1.5.0",
      "model_name": "ProgressStyleModel",
      "state": {
       "_model_module": "@jupyter-widgets/controls",
       "_model_module_version": "1.5.0",
       "_model_name": "ProgressStyleModel",
       "_view_count": null,
       "_view_module": "@jupyter-widgets/base",
       "_view_module_version": "1.2.0",
       "_view_name": "StyleView",
       "bar_color": null,
       "description_width": ""
      }
     },
     "ae7f0cf27d6c4d779f25b981f69b7faf": {
      "model_module": "@jupyter-widgets/controls",
      "model_module_version": "1.5.0",
      "model_name": "DescriptionStyleModel",
      "state": {
       "_model_module": "@jupyter-widgets/controls",
       "_model_module_version": "1.5.0",
       "_model_name": "DescriptionStyleModel",
       "_view_count": null,
       "_view_module": "@jupyter-widgets/base",
       "_view_module_version": "1.2.0",
       "_view_name": "StyleView",
       "description_width": ""
      }
     },
     "b10a0a5f0e8949d7b60761edf6d2b59b": {
      "model_module": "@jupyter-widgets/base",
      "model_module_version": "1.2.0",
      "model_name": "LayoutModel",
      "state": {
       "_model_module": "@jupyter-widgets/base",
       "_model_module_version": "1.2.0",
       "_model_name": "LayoutModel",
       "_view_count": null,
       "_view_module": "@jupyter-widgets/base",
       "_view_module_version": "1.2.0",
       "_view_name": "LayoutView",
       "align_content": null,
       "align_items": null,
       "align_self": null,
       "border": null,
       "bottom": null,
       "display": null,
       "flex": null,
       "flex_flow": null,
       "grid_area": null,
       "grid_auto_columns": null,
       "grid_auto_flow": null,
       "grid_auto_rows": null,
       "grid_column": null,
       "grid_gap": null,
       "grid_row": null,
       "grid_template_areas": null,
       "grid_template_columns": null,
       "grid_template_rows": null,
       "height": null,
       "justify_content": null,
       "justify_items": null,
       "left": null,
       "margin": null,
       "max_height": null,
       "max_width": null,
       "min_height": null,
       "min_width": null,
       "object_fit": null,
       "object_position": null,
       "order": null,
       "overflow": null,
       "overflow_x": null,
       "overflow_y": null,
       "padding": null,
       "right": null,
       "top": null,
       "visibility": null,
       "width": null
      }
     },
     "b81b135eeeac49ad8d1a140f98789a59": {
      "model_module": "@jupyter-widgets/controls",
      "model_module_version": "1.5.0",
      "model_name": "ProgressStyleModel",
      "state": {
       "_model_module": "@jupyter-widgets/controls",
       "_model_module_version": "1.5.0",
       "_model_name": "ProgressStyleModel",
       "_view_count": null,
       "_view_module": "@jupyter-widgets/base",
       "_view_module_version": "1.2.0",
       "_view_name": "StyleView",
       "bar_color": null,
       "description_width": ""
      }
     },
     "b8b17bdbe1234c09bf0fbe0c6649f63b": {
      "model_module": "@jupyter-widgets/controls",
      "model_module_version": "1.5.0",
      "model_name": "HBoxModel",
      "state": {
       "_dom_classes": [],
       "_model_module": "@jupyter-widgets/controls",
       "_model_module_version": "1.5.0",
       "_model_name": "HBoxModel",
       "_view_count": null,
       "_view_module": "@jupyter-widgets/controls",
       "_view_module_version": "1.5.0",
       "_view_name": "HBoxView",
       "box_style": "",
       "children": [
        "IPY_MODEL_cd6e7929328046cb88f8c9dfd1e84d95",
        "IPY_MODEL_545dd52dffb14fe39a97fff9bac2a904",
        "IPY_MODEL_4bdbbb38b0dc4129ae8cc27c4d0a3bc5"
       ],
       "layout": "IPY_MODEL_6d83b40ec0b645f491ea3a13060b546b"
      }
     },
     "b8ff46f064ef4b1ca8143f85e9df3faf": {
      "model_module": "@jupyter-widgets/base",
      "model_module_version": "1.2.0",
      "model_name": "LayoutModel",
      "state": {
       "_model_module": "@jupyter-widgets/base",
       "_model_module_version": "1.2.0",
       "_model_name": "LayoutModel",
       "_view_count": null,
       "_view_module": "@jupyter-widgets/base",
       "_view_module_version": "1.2.0",
       "_view_name": "LayoutView",
       "align_content": null,
       "align_items": null,
       "align_self": null,
       "border": null,
       "bottom": null,
       "display": null,
       "flex": null,
       "flex_flow": null,
       "grid_area": null,
       "grid_auto_columns": null,
       "grid_auto_flow": null,
       "grid_auto_rows": null,
       "grid_column": null,
       "grid_gap": null,
       "grid_row": null,
       "grid_template_areas": null,
       "grid_template_columns": null,
       "grid_template_rows": null,
       "height": null,
       "justify_content": null,
       "justify_items": null,
       "left": null,
       "margin": null,
       "max_height": null,
       "max_width": null,
       "min_height": null,
       "min_width": null,
       "object_fit": null,
       "object_position": null,
       "order": null,
       "overflow": null,
       "overflow_x": null,
       "overflow_y": null,
       "padding": null,
       "right": null,
       "top": null,
       "visibility": null,
       "width": null
      }
     },
     "b9d0daf971424867b80470310838e7c6": {
      "model_module": "@jupyter-widgets/controls",
      "model_module_version": "1.5.0",
      "model_name": "ProgressStyleModel",
      "state": {
       "_model_module": "@jupyter-widgets/controls",
       "_model_module_version": "1.5.0",
       "_model_name": "ProgressStyleModel",
       "_view_count": null,
       "_view_module": "@jupyter-widgets/base",
       "_view_module_version": "1.2.0",
       "_view_name": "StyleView",
       "bar_color": null,
       "description_width": ""
      }
     },
     "beb5c6a0f34f497bb3f69b34c2d0ad5c": {
      "model_module": "@jupyter-widgets/controls",
      "model_module_version": "1.5.0",
      "model_name": "FloatProgressModel",
      "state": {
       "_dom_classes": [],
       "_model_module": "@jupyter-widgets/controls",
       "_model_module_version": "1.5.0",
       "_model_name": "FloatProgressModel",
       "_view_count": null,
       "_view_module": "@jupyter-widgets/controls",
       "_view_module_version": "1.5.0",
       "_view_name": "ProgressView",
       "bar_style": "success",
       "description": "",
       "description_tooltip": null,
       "layout": "IPY_MODEL_458c007ad41941ccb56073cbf010fadd",
       "max": 458495.0,
       "min": 0.0,
       "orientation": "horizontal",
       "style": "IPY_MODEL_1e38376614664e8f864dd6125d74b3a8",
       "value": 458495.0
      }
     },
     "c2a6e63dd4284b59bf9cc6967e017cdd": {
      "model_module": "@jupyter-widgets/controls",
      "model_module_version": "1.5.0",
      "model_name": "FloatProgressModel",
      "state": {
       "_dom_classes": [],
       "_model_module": "@jupyter-widgets/controls",
       "_model_module_version": "1.5.0",
       "_model_name": "FloatProgressModel",
       "_view_count": null,
       "_view_module": "@jupyter-widgets/controls",
       "_view_module_version": "1.5.0",
       "_view_name": "ProgressView",
       "bar_style": "success",
       "description": "",
       "description_tooltip": null,
       "layout": "IPY_MODEL_7d8313657af74740a973853bdf10d494",
       "max": 466062.0,
       "min": 0.0,
       "orientation": "horizontal",
       "style": "IPY_MODEL_49bb04ad8adb479ca6ed7b787f1b1010",
       "value": 466062.0
      }
     },
     "c2dcb0427b38462a8a624cb3328a9064": {
      "model_module": "@jupyter-widgets/controls",
      "model_module_version": "1.5.0",
      "model_name": "HTMLModel",
      "state": {
       "_dom_classes": [],
       "_model_module": "@jupyter-widgets/controls",
       "_model_module_version": "1.5.0",
       "_model_name": "HTMLModel",
       "_view_count": null,
       "_view_module": "@jupyter-widgets/controls",
       "_view_module_version": "1.5.0",
       "_view_name": "HTMLView",
       "description": "",
       "description_tooltip": null,
       "layout": "IPY_MODEL_9d5a4094f6c8423eb3d1ca7481b8643c",
       "placeholder": "​",
       "style": "IPY_MODEL_ccff8ba255e24d61a8d980f3376ddefb",
       "value": " 28.0/28.0 [00:00&lt;00:00, 750B/s]"
      }
     },
     "c40bb26d06fa42e48880454767721202": {
      "model_module": "@jupyter-widgets/base",
      "model_module_version": "1.2.0",
      "model_name": "LayoutModel",
      "state": {
       "_model_module": "@jupyter-widgets/base",
       "_model_module_version": "1.2.0",
       "_model_name": "LayoutModel",
       "_view_count": null,
       "_view_module": "@jupyter-widgets/base",
       "_view_module_version": "1.2.0",
       "_view_name": "LayoutView",
       "align_content": null,
       "align_items": null,
       "align_self": null,
       "border": null,
       "bottom": null,
       "display": null,
       "flex": null,
       "flex_flow": null,
       "grid_area": null,
       "grid_auto_columns": null,
       "grid_auto_flow": null,
       "grid_auto_rows": null,
       "grid_column": null,
       "grid_gap": null,
       "grid_row": null,
       "grid_template_areas": null,
       "grid_template_columns": null,
       "grid_template_rows": null,
       "height": null,
       "justify_content": null,
       "justify_items": null,
       "left": null,
       "margin": null,
       "max_height": null,
       "max_width": null,
       "min_height": null,
       "min_width": null,
       "object_fit": null,
       "object_position": null,
       "order": null,
       "overflow": null,
       "overflow_x": null,
       "overflow_y": null,
       "padding": null,
       "right": null,
       "top": null,
       "visibility": null,
       "width": null
      }
     },
     "c47307a8114e48f6990a70a323c59035": {
      "model_module": "@jupyter-widgets/base",
      "model_module_version": "1.2.0",
      "model_name": "LayoutModel",
      "state": {
       "_model_module": "@jupyter-widgets/base",
       "_model_module_version": "1.2.0",
       "_model_name": "LayoutModel",
       "_view_count": null,
       "_view_module": "@jupyter-widgets/base",
       "_view_module_version": "1.2.0",
       "_view_name": "LayoutView",
       "align_content": null,
       "align_items": null,
       "align_self": null,
       "border": null,
       "bottom": null,
       "display": null,
       "flex": null,
       "flex_flow": null,
       "grid_area": null,
       "grid_auto_columns": null,
       "grid_auto_flow": null,
       "grid_auto_rows": null,
       "grid_column": null,
       "grid_gap": null,
       "grid_row": null,
       "grid_template_areas": null,
       "grid_template_columns": null,
       "grid_template_rows": null,
       "height": null,
       "justify_content": null,
       "justify_items": null,
       "left": null,
       "margin": null,
       "max_height": null,
       "max_width": null,
       "min_height": null,
       "min_width": null,
       "object_fit": null,
       "object_position": null,
       "order": null,
       "overflow": null,
       "overflow_x": null,
       "overflow_y": null,
       "padding": null,
       "right": null,
       "top": null,
       "visibility": null,
       "width": null
      }
     },
     "c77d465650454402b2d93b34b7324998": {
      "model_module": "@jupyter-widgets/controls",
      "model_module_version": "1.5.0",
      "model_name": "FloatProgressModel",
      "state": {
       "_dom_classes": [],
       "_model_module": "@jupyter-widgets/controls",
       "_model_module_version": "1.5.0",
       "_model_name": "FloatProgressModel",
       "_view_count": null,
       "_view_module": "@jupyter-widgets/controls",
       "_view_module_version": "1.5.0",
       "_view_name": "ProgressView",
       "bar_style": "success",
       "description": "",
       "description_tooltip": null,
       "layout": "IPY_MODEL_7951c3dc281f4de0b99737ec23190487",
       "max": 1272610.0,
       "min": 0.0,
       "orientation": "horizontal",
       "style": "IPY_MODEL_41276a29e9f44d23ba9d4702e78446d5",
       "value": 1272610.0
      }
     },
     "c7d69139908a4b56a5befcc6b90a755c": {
      "model_module": "@jupyter-widgets/base",
      "model_module_version": "1.2.0",
      "model_name": "LayoutModel",
      "state": {
       "_model_module": "@jupyter-widgets/base",
       "_model_module_version": "1.2.0",
       "_model_name": "LayoutModel",
       "_view_count": null,
       "_view_module": "@jupyter-widgets/base",
       "_view_module_version": "1.2.0",
       "_view_name": "LayoutView",
       "align_content": null,
       "align_items": null,
       "align_self": null,
       "border": null,
       "bottom": null,
       "display": null,
       "flex": null,
       "flex_flow": null,
       "grid_area": null,
       "grid_auto_columns": null,
       "grid_auto_flow": null,
       "grid_auto_rows": null,
       "grid_column": null,
       "grid_gap": null,
       "grid_row": null,
       "grid_template_areas": null,
       "grid_template_columns": null,
       "grid_template_rows": null,
       "height": null,
       "justify_content": null,
       "justify_items": null,
       "left": null,
       "margin": null,
       "max_height": null,
       "max_width": null,
       "min_height": null,
       "min_width": null,
       "object_fit": null,
       "object_position": null,
       "order": null,
       "overflow": null,
       "overflow_x": null,
       "overflow_y": null,
       "padding": null,
       "right": null,
       "top": null,
       "visibility": null,
       "width": null
      }
     },
     "c81da4da72e248d791ab10e8d1f3fef9": {
      "model_module": "@jupyter-widgets/controls",
      "model_module_version": "1.5.0",
      "model_name": "HTMLModel",
      "state": {
       "_dom_classes": [],
       "_model_module": "@jupyter-widgets/controls",
       "_model_module_version": "1.5.0",
       "_model_name": "HTMLModel",
       "_view_count": null,
       "_view_module": "@jupyter-widgets/controls",
       "_view_module_version": "1.5.0",
       "_view_name": "HTMLView",
       "description": "",
       "description_tooltip": null,
       "layout": "IPY_MODEL_5a7323d3155842bcbc2b8f7dd3f61ec3",
       "placeholder": "​",
       "style": "IPY_MODEL_929ee0119e1242a6b014328ed1a7ce8d",
       "value": " 570/570 [00:00&lt;00:00, 17.8kB/s]"
      }
     },
     "c8df2a6411944602821af76e57be89ed": {
      "model_module": "@jupyter-widgets/controls",
      "model_module_version": "1.5.0",
      "model_name": "HTMLModel",
      "state": {
       "_dom_classes": [],
       "_model_module": "@jupyter-widgets/controls",
       "_model_module_version": "1.5.0",
       "_model_name": "HTMLModel",
       "_view_count": null,
       "_view_module": "@jupyter-widgets/controls",
       "_view_module_version": "1.5.0",
       "_view_name": "HTMLView",
       "description": "",
       "description_tooltip": null,
       "layout": "IPY_MODEL_ccd396bc3eec45b2a76f940c2f39ce96",
       "placeholder": "​",
       "style": "IPY_MODEL_5fb6b26fd29d40f38c827d8969542ad1",
       "value": "Downloading: 100%"
      }
     },
     "ccd396bc3eec45b2a76f940c2f39ce96": {
      "model_module": "@jupyter-widgets/base",
      "model_module_version": "1.2.0",
      "model_name": "LayoutModel",
      "state": {
       "_model_module": "@jupyter-widgets/base",
       "_model_module_version": "1.2.0",
       "_model_name": "LayoutModel",
       "_view_count": null,
       "_view_module": "@jupyter-widgets/base",
       "_view_module_version": "1.2.0",
       "_view_name": "LayoutView",
       "align_content": null,
       "align_items": null,
       "align_self": null,
       "border": null,
       "bottom": null,
       "display": null,
       "flex": null,
       "flex_flow": null,
       "grid_area": null,
       "grid_auto_columns": null,
       "grid_auto_flow": null,
       "grid_auto_rows": null,
       "grid_column": null,
       "grid_gap": null,
       "grid_row": null,
       "grid_template_areas": null,
       "grid_template_columns": null,
       "grid_template_rows": null,
       "height": null,
       "justify_content": null,
       "justify_items": null,
       "left": null,
       "margin": null,
       "max_height": null,
       "max_width": null,
       "min_height": null,
       "min_width": null,
       "object_fit": null,
       "object_position": null,
       "order": null,
       "overflow": null,
       "overflow_x": null,
       "overflow_y": null,
       "padding": null,
       "right": null,
       "top": null,
       "visibility": null,
       "width": null
      }
     },
     "ccff8ba255e24d61a8d980f3376ddefb": {
      "model_module": "@jupyter-widgets/controls",
      "model_module_version": "1.5.0",
      "model_name": "DescriptionStyleModel",
      "state": {
       "_model_module": "@jupyter-widgets/controls",
       "_model_module_version": "1.5.0",
       "_model_name": "DescriptionStyleModel",
       "_view_count": null,
       "_view_module": "@jupyter-widgets/base",
       "_view_module_version": "1.2.0",
       "_view_name": "StyleView",
       "description_width": ""
      }
     },
     "cd6e7929328046cb88f8c9dfd1e84d95": {
      "model_module": "@jupyter-widgets/controls",
      "model_module_version": "1.5.0",
      "model_name": "HTMLModel",
      "state": {
       "_dom_classes": [],
       "_model_module": "@jupyter-widgets/controls",
       "_model_module_version": "1.5.0",
       "_model_name": "HTMLModel",
       "_view_count": null,
       "_view_module": "@jupyter-widgets/controls",
       "_view_module_version": "1.5.0",
       "_view_name": "HTMLView",
       "description": "",
       "description_tooltip": null,
       "layout": "IPY_MODEL_f92906a69d5b4f48b2942e978993a6a0",
       "placeholder": "​",
       "style": "IPY_MODEL_7b3510510aa24dd0af3675461dad3197",
       "value": "Downloading: 100%"
      }
     },
     "d50a3a755c904cb5ac42b77d0611754a": {
      "model_module": "@jupyter-widgets/base",
      "model_module_version": "1.2.0",
      "model_name": "LayoutModel",
      "state": {
       "_model_module": "@jupyter-widgets/base",
       "_model_module_version": "1.2.0",
       "_model_name": "LayoutModel",
       "_view_count": null,
       "_view_module": "@jupyter-widgets/base",
       "_view_module_version": "1.2.0",
       "_view_name": "LayoutView",
       "align_content": null,
       "align_items": null,
       "align_self": null,
       "border": null,
       "bottom": null,
       "display": null,
       "flex": null,
       "flex_flow": null,
       "grid_area": null,
       "grid_auto_columns": null,
       "grid_auto_flow": null,
       "grid_auto_rows": null,
       "grid_column": null,
       "grid_gap": null,
       "grid_row": null,
       "grid_template_areas": null,
       "grid_template_columns": null,
       "grid_template_rows": null,
       "height": null,
       "justify_content": null,
       "justify_items": null,
       "left": null,
       "margin": null,
       "max_height": null,
       "max_width": null,
       "min_height": null,
       "min_width": null,
       "object_fit": null,
       "object_position": null,
       "order": null,
       "overflow": null,
       "overflow_x": null,
       "overflow_y": null,
       "padding": null,
       "right": null,
       "top": null,
       "visibility": null,
       "width": null
      }
     },
     "dba0707cac15490da7e87b8304cd690f": {
      "model_module": "@jupyter-widgets/base",
      "model_module_version": "1.2.0",
      "model_name": "LayoutModel",
      "state": {
       "_model_module": "@jupyter-widgets/base",
       "_model_module_version": "1.2.0",
       "_model_name": "LayoutModel",
       "_view_count": null,
       "_view_module": "@jupyter-widgets/base",
       "_view_module_version": "1.2.0",
       "_view_name": "LayoutView",
       "align_content": null,
       "align_items": null,
       "align_self": null,
       "border": null,
       "bottom": null,
       "display": null,
       "flex": null,
       "flex_flow": null,
       "grid_area": null,
       "grid_auto_columns": null,
       "grid_auto_flow": null,
       "grid_auto_rows": null,
       "grid_column": null,
       "grid_gap": null,
       "grid_row": null,
       "grid_template_areas": null,
       "grid_template_columns": null,
       "grid_template_rows": null,
       "height": null,
       "justify_content": null,
       "justify_items": null,
       "left": null,
       "margin": null,
       "max_height": null,
       "max_width": null,
       "min_height": null,
       "min_width": null,
       "object_fit": null,
       "object_position": null,
       "order": null,
       "overflow": null,
       "overflow_x": null,
       "overflow_y": null,
       "padding": null,
       "right": null,
       "top": null,
       "visibility": null,
       "width": null
      }
     },
     "e0c264fe43ab4ec1812c5df083f7b681": {
      "model_module": "@jupyter-widgets/controls",
      "model_module_version": "1.5.0",
      "model_name": "HBoxModel",
      "state": {
       "_dom_classes": [],
       "_model_module": "@jupyter-widgets/controls",
       "_model_module_version": "1.5.0",
       "_model_name": "HBoxModel",
       "_view_count": null,
       "_view_module": "@jupyter-widgets/controls",
       "_view_module_version": "1.5.0",
       "_view_name": "HBoxView",
       "box_style": "",
       "children": [
        "IPY_MODEL_97085e9ec64141a5a340cfd7574840c8",
        "IPY_MODEL_5c3c45f543804526a9111371dbc1fa3e",
        "IPY_MODEL_c81da4da72e248d791ab10e8d1f3fef9"
       ],
       "layout": "IPY_MODEL_d50a3a755c904cb5ac42b77d0611754a"
      }
     },
     "e5b8d70e0e4544c484a17226a611fc7f": {
      "model_module": "@jupyter-widgets/base",
      "model_module_version": "1.2.0",
      "model_name": "LayoutModel",
      "state": {
       "_model_module": "@jupyter-widgets/base",
       "_model_module_version": "1.2.0",
       "_model_name": "LayoutModel",
       "_view_count": null,
       "_view_module": "@jupyter-widgets/base",
       "_view_module_version": "1.2.0",
       "_view_name": "LayoutView",
       "align_content": null,
       "align_items": null,
       "align_self": null,
       "border": null,
       "bottom": null,
       "display": null,
       "flex": null,
       "flex_flow": null,
       "grid_area": null,
       "grid_auto_columns": null,
       "grid_auto_flow": null,
       "grid_auto_rows": null,
       "grid_column": null,
       "grid_gap": null,
       "grid_row": null,
       "grid_template_areas": null,
       "grid_template_columns": null,
       "grid_template_rows": null,
       "height": null,
       "justify_content": null,
       "justify_items": null,
       "left": null,
       "margin": null,
       "max_height": null,
       "max_width": null,
       "min_height": null,
       "min_width": null,
       "object_fit": null,
       "object_position": null,
       "order": null,
       "overflow": null,
       "overflow_x": null,
       "overflow_y": null,
       "padding": null,
       "right": null,
       "top": null,
       "visibility": null,
       "width": null
      }
     },
     "ea6e20a6d4094ca08a255c7f30b67858": {
      "model_module": "@jupyter-widgets/controls",
      "model_module_version": "1.5.0",
      "model_name": "FloatProgressModel",
      "state": {
       "_dom_classes": [],
       "_model_module": "@jupyter-widgets/controls",
       "_model_module_version": "1.5.0",
       "_model_name": "FloatProgressModel",
       "_view_count": null,
       "_view_module": "@jupyter-widgets/controls",
       "_view_module_version": "1.5.0",
       "_view_name": "ProgressView",
       "bar_style": "success",
       "description": "",
       "description_tooltip": null,
       "layout": "IPY_MODEL_dba0707cac15490da7e87b8304cd690f",
       "max": 231508.0,
       "min": 0.0,
       "orientation": "horizontal",
       "style": "IPY_MODEL_b81b135eeeac49ad8d1a140f98789a59",
       "value": 231508.0
      }
     },
     "eb4737258a564582b54b79a803bbfe31": {
      "model_module": "@jupyter-widgets/controls",
      "model_module_version": "1.5.0",
      "model_name": "DescriptionStyleModel",
      "state": {
       "_model_module": "@jupyter-widgets/controls",
       "_model_module_version": "1.5.0",
       "_model_name": "DescriptionStyleModel",
       "_view_count": null,
       "_view_module": "@jupyter-widgets/base",
       "_view_module_version": "1.2.0",
       "_view_name": "StyleView",
       "description_width": ""
      }
     },
     "ebc22b47802a4b83808f9386e0896c88": {
      "model_module": "@jupyter-widgets/controls",
      "model_module_version": "1.5.0",
      "model_name": "DescriptionStyleModel",
      "state": {
       "_model_module": "@jupyter-widgets/controls",
       "_model_module_version": "1.5.0",
       "_model_name": "DescriptionStyleModel",
       "_view_count": null,
       "_view_module": "@jupyter-widgets/base",
       "_view_module_version": "1.2.0",
       "_view_name": "StyleView",
       "description_width": ""
      }
     },
     "eda24a9729f44d7b8c24a6516887a37d": {
      "model_module": "@jupyter-widgets/controls",
      "model_module_version": "1.5.0",
      "model_name": "DescriptionStyleModel",
      "state": {
       "_model_module": "@jupyter-widgets/controls",
       "_model_module_version": "1.5.0",
       "_model_name": "DescriptionStyleModel",
       "_view_count": null,
       "_view_module": "@jupyter-widgets/base",
       "_view_module_version": "1.2.0",
       "_view_name": "StyleView",
       "description_width": ""
      }
     },
     "f08881c6d3fa486db22cc49bc590e46b": {
      "model_module": "@jupyter-widgets/controls",
      "model_module_version": "1.5.0",
      "model_name": "HTMLModel",
      "state": {
       "_dom_classes": [],
       "_model_module": "@jupyter-widgets/controls",
       "_model_module_version": "1.5.0",
       "_model_name": "HTMLModel",
       "_view_count": null,
       "_view_module": "@jupyter-widgets/controls",
       "_view_module_version": "1.5.0",
       "_view_name": "HTMLView",
       "description": "",
       "description_tooltip": null,
       "layout": "IPY_MODEL_4b2d51331c034cf5b4928350fccda8df",
       "placeholder": "​",
       "style": "IPY_MODEL_ae7f0cf27d6c4d779f25b981f69b7faf",
       "value": " 656/656 [00:00&lt;00:00, 21.6kB/s]"
      }
     },
     "f66b078ee690436ab42f0c4820c5077a": {
      "model_module": "@jupyter-widgets/controls",
      "model_module_version": "1.5.0",
      "model_name": "DescriptionStyleModel",
      "state": {
       "_model_module": "@jupyter-widgets/controls",
       "_model_module_version": "1.5.0",
       "_model_name": "DescriptionStyleModel",
       "_view_count": null,
       "_view_module": "@jupyter-widgets/base",
       "_view_module_version": "1.2.0",
       "_view_name": "StyleView",
       "description_width": ""
      }
     },
     "f7e6c008d74040bda4b2e02d1cfca426": {
      "model_module": "@jupyter-widgets/controls",
      "model_module_version": "1.5.0",
      "model_name": "HTMLModel",
      "state": {
       "_dom_classes": [],
       "_model_module": "@jupyter-widgets/controls",
       "_model_module_version": "1.5.0",
       "_model_name": "HTMLModel",
       "_view_count": null,
       "_view_module": "@jupyter-widgets/controls",
       "_view_module_version": "1.5.0",
       "_view_name": "HTMLView",
       "description": "",
       "description_tooltip": null,
       "layout": "IPY_MODEL_03c81d5b3a404a169dd6131c7b5dbf96",
       "placeholder": "​",
       "style": "IPY_MODEL_f66b078ee690436ab42f0c4820c5077a",
       "value": " 226k/226k [00:00&lt;00:00, 373kB/s]"
      }
     },
     "f92906a69d5b4f48b2942e978993a6a0": {
      "model_module": "@jupyter-widgets/base",
      "model_module_version": "1.2.0",
      "model_name": "LayoutModel",
      "state": {
       "_model_module": "@jupyter-widgets/base",
       "_model_module_version": "1.2.0",
       "_model_name": "LayoutModel",
       "_view_count": null,
       "_view_module": "@jupyter-widgets/base",
       "_view_module_version": "1.2.0",
       "_view_name": "LayoutView",
       "align_content": null,
       "align_items": null,
       "align_self": null,
       "border": null,
       "bottom": null,
       "display": null,
       "flex": null,
       "flex_flow": null,
       "grid_area": null,
       "grid_auto_columns": null,
       "grid_auto_flow": null,
       "grid_auto_rows": null,
       "grid_column": null,
       "grid_gap": null,
       "grid_row": null,
       "grid_template_areas": null,
       "grid_template_columns": null,
       "grid_template_rows": null,
       "height": null,
       "justify_content": null,
       "justify_items": null,
       "left": null,
       "margin": null,
       "max_height": null,
       "max_width": null,
       "min_height": null,
       "min_width": null,
       "object_fit": null,
       "object_position": null,
       "order": null,
       "overflow": null,
       "overflow_x": null,
       "overflow_y": null,
       "padding": null,
       "right": null,
       "top": null,
       "visibility": null,
       "width": null
      }
     },
     "fc5f71f595944d609f2ed48f52cdd60a": {
      "model_module": "@jupyter-widgets/controls",
      "model_module_version": "1.5.0",
      "model_name": "DescriptionStyleModel",
      "state": {
       "_model_module": "@jupyter-widgets/controls",
       "_model_module_version": "1.5.0",
       "_model_name": "DescriptionStyleModel",
       "_view_count": null,
       "_view_module": "@jupyter-widgets/base",
       "_view_module_version": "1.2.0",
       "_view_name": "StyleView",
       "description_width": ""
      }
     }
    },
    "version_major": 2,
    "version_minor": 0
   }
  }
 },
 "nbformat": 4,
 "nbformat_minor": 5
}
