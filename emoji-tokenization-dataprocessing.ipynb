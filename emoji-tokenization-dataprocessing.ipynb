{
 "cells": [
  {
   "cell_type": "code",
   "execution_count": 1,
   "id": "47cf2f22",
   "metadata": {
    "_cell_guid": "b1076dfc-b9ad-4769-8c92-a6c4dae69d19",
    "_uuid": "8f2839f25d086af736a60e9eeb907d3b93b6e0e5",
    "execution": {
     "iopub.execute_input": "2023-02-16T11:53:40.027171Z",
     "iopub.status.busy": "2023-02-16T11:53:40.026420Z",
     "iopub.status.idle": "2023-02-16T11:53:42.777388Z",
     "shell.execute_reply": "2023-02-16T11:53:42.776109Z"
    },
    "papermill": {
     "duration": 2.76902,
     "end_time": "2023-02-16T11:53:42.780532",
     "exception": false,
     "start_time": "2023-02-16T11:53:40.011512",
     "status": "completed"
    },
    "tags": []
   },
   "outputs": [],
   "source": [
    "import pandas as pd\n",
    "\n",
    "from transformers import AutoTokenizer\n",
    "from transformers import BertTokenizerFast\n",
    "from transformers import BertTokenizer\n",
    "from transformers import RobertaTokenizerFast\n",
    "\n",
    "#from transformers import ROBERTAtokenizer\n",
    "#from transformers import XLNETtokenizer\n",
    "\n",
    "from mlxtend.text import tokenizer_emoticons\n",
    "from nltk.tokenize.casual import TweetTokenizer\n",
    "\n",
    "import matplotlib.pyplot as plt\n",
    "import seaborn as sns\n",
    "\n",
    "import re, string\n",
    "import emoji"
   ]
  },
  {
   "cell_type": "code",
   "execution_count": 2,
   "id": "3239e6da",
   "metadata": {
    "execution": {
     "iopub.execute_input": "2023-02-16T11:53:42.804521Z",
     "iopub.status.busy": "2023-02-16T11:53:42.804060Z",
     "iopub.status.idle": "2023-02-16T11:53:44.941271Z",
     "shell.execute_reply": "2023-02-16T11:53:44.940114Z"
    },
    "papermill": {
     "duration": 2.15346,
     "end_time": "2023-02-16T11:53:44.944742",
     "exception": false,
     "start_time": "2023-02-16T11:53:42.791282",
     "status": "completed"
    },
    "tags": []
   },
   "outputs": [],
   "source": [
    "df = pd.read_csv('/kaggle/input/masculinity-saturday-twitter-sentiment-analysis/twitter_sentiment_analysis_masculinity_saturday_data_annotated.csv', index_col=0)"
   ]
  },
  {
   "cell_type": "code",
   "execution_count": 3,
   "id": "9c0c2607",
   "metadata": {
    "execution": {
     "iopub.execute_input": "2023-02-16T11:53:44.967648Z",
     "iopub.status.busy": "2023-02-16T11:53:44.967182Z",
     "iopub.status.idle": "2023-02-16T11:53:44.990949Z",
     "shell.execute_reply": "2023-02-16T11:53:44.989731Z"
    },
    "papermill": {
     "duration": 0.038898,
     "end_time": "2023-02-16T11:53:44.994288",
     "exception": false,
     "start_time": "2023-02-16T11:53:44.955390",
     "status": "completed"
    },
    "tags": []
   },
   "outputs": [
    {
     "data": {
      "text/html": [
       "<div>\n",
       "<style scoped>\n",
       "    .dataframe tbody tr th:only-of-type {\n",
       "        vertical-align: middle;\n",
       "    }\n",
       "\n",
       "    .dataframe tbody tr th {\n",
       "        vertical-align: top;\n",
       "    }\n",
       "\n",
       "    .dataframe thead th {\n",
       "        text-align: right;\n",
       "    }\n",
       "</style>\n",
       "<table border=\"1\" class=\"dataframe\">\n",
       "  <thead>\n",
       "    <tr style=\"text-align: right;\">\n",
       "      <th></th>\n",
       "      <th>tweet_created_at</th>\n",
       "      <th>text</th>\n",
       "      <th>Positive</th>\n",
       "      <th>Negative</th>\n",
       "      <th>Neutral</th>\n",
       "      <th>Compound</th>\n",
       "      <th>Sentiment</th>\n",
       "    </tr>\n",
       "  </thead>\n",
       "  <tbody>\n",
       "    <tr>\n",
       "      <th>0</th>\n",
       "      <td>2022-12-30 22:37:46+00:00</td>\n",
       "      <td>Men who have refused to listen to/attend @amer...</td>\n",
       "      <td>0.000</td>\n",
       "      <td>0.073</td>\n",
       "      <td>0.927</td>\n",
       "      <td>-0.2960</td>\n",
       "      <td>Negative</td>\n",
       "    </tr>\n",
       "    <tr>\n",
       "      <th>1</th>\n",
       "      <td>2022-12-30 22:30:58+00:00</td>\n",
       "      <td>@OvOBrezzzy Take amerix next</td>\n",
       "      <td>0.000</td>\n",
       "      <td>0.000</td>\n",
       "      <td>1.000</td>\n",
       "      <td>0.0000</td>\n",
       "      <td>Neutral</td>\n",
       "    </tr>\n",
       "    <tr>\n",
       "      <th>2</th>\n",
       "      <td>2022-12-30 22:18:00+00:00</td>\n",
       "      <td>@AyodeleYo11 @amerix Nah I’m good my masculini...</td>\n",
       "      <td>0.493</td>\n",
       "      <td>0.068</td>\n",
       "      <td>0.439</td>\n",
       "      <td>0.8271</td>\n",
       "      <td>Positive</td>\n",
       "    </tr>\n",
       "    <tr>\n",
       "      <th>3</th>\n",
       "      <td>2022-12-30 20:42:54+00:00</td>\n",
       "      <td>@Amerix_DontSimp There is no need for dating i...</td>\n",
       "      <td>0.000</td>\n",
       "      <td>0.180</td>\n",
       "      <td>0.820</td>\n",
       "      <td>-0.2960</td>\n",
       "      <td>Negative</td>\n",
       "    </tr>\n",
       "    <tr>\n",
       "      <th>4</th>\n",
       "      <td>2022-12-30 20:32:23+00:00</td>\n",
       "      <td>@DyeAnna7 @amerix @kibe From what cos nothing ...</td>\n",
       "      <td>0.110</td>\n",
       "      <td>0.000</td>\n",
       "      <td>0.890</td>\n",
       "      <td>0.6908</td>\n",
       "      <td>Positive</td>\n",
       "    </tr>\n",
       "  </tbody>\n",
       "</table>\n",
       "</div>"
      ],
      "text/plain": [
       "            tweet_created_at  \\\n",
       "0  2022-12-30 22:37:46+00:00   \n",
       "1  2022-12-30 22:30:58+00:00   \n",
       "2  2022-12-30 22:18:00+00:00   \n",
       "3  2022-12-30 20:42:54+00:00   \n",
       "4  2022-12-30 20:32:23+00:00   \n",
       "\n",
       "                                                text  Positive  Negative  \\\n",
       "0  Men who have refused to listen to/attend @amer...     0.000     0.073   \n",
       "1                       @OvOBrezzzy Take amerix next     0.000     0.000   \n",
       "2  @AyodeleYo11 @amerix Nah I’m good my masculini...     0.493     0.068   \n",
       "3  @Amerix_DontSimp There is no need for dating i...     0.000     0.180   \n",
       "4  @DyeAnna7 @amerix @kibe From what cos nothing ...     0.110     0.000   \n",
       "\n",
       "   Neutral  Compound Sentiment  \n",
       "0    0.927   -0.2960  Negative  \n",
       "1    1.000    0.0000   Neutral  \n",
       "2    0.439    0.8271  Positive  \n",
       "3    0.820   -0.2960  Negative  \n",
       "4    0.890    0.6908  Positive  "
      ]
     },
     "execution_count": 3,
     "metadata": {},
     "output_type": "execute_result"
    }
   ],
   "source": [
    "df.head()"
   ]
  },
  {
   "cell_type": "code",
   "execution_count": 4,
   "id": "17fe842b",
   "metadata": {
    "execution": {
     "iopub.execute_input": "2023-02-16T11:53:45.018652Z",
     "iopub.status.busy": "2023-02-16T11:53:45.018228Z",
     "iopub.status.idle": "2023-02-16T11:53:45.160541Z",
     "shell.execute_reply": "2023-02-16T11:53:45.159303Z"
    },
    "papermill": {
     "duration": 0.157383,
     "end_time": "2023-02-16T11:53:45.163286",
     "exception": false,
     "start_time": "2023-02-16T11:53:45.005903",
     "status": "completed"
    },
    "tags": []
   },
   "outputs": [],
   "source": [
    "df['tweet_created_at'] = pd.to_datetime(df['tweet_created_at'])"
   ]
  },
  {
   "cell_type": "code",
   "execution_count": 5,
   "id": "17a4cc86",
   "metadata": {
    "execution": {
     "iopub.execute_input": "2023-02-16T11:53:45.187325Z",
     "iopub.status.busy": "2023-02-16T11:53:45.186269Z",
     "iopub.status.idle": "2023-02-16T11:53:45.464317Z",
     "shell.execute_reply": "2023-02-16T11:53:45.463223Z"
    },
    "papermill": {
     "duration": 0.292624,
     "end_time": "2023-02-16T11:53:45.466943",
     "exception": false,
     "start_time": "2023-02-16T11:53:45.174319",
     "status": "completed"
    },
    "tags": []
   },
   "outputs": [],
   "source": [
    "df.drop_duplicates(subset='text',inplace=True)"
   ]
  },
  {
   "cell_type": "code",
   "execution_count": 6,
   "id": "84b68da2",
   "metadata": {
    "execution": {
     "iopub.execute_input": "2023-02-16T11:53:45.490473Z",
     "iopub.status.busy": "2023-02-16T11:53:45.490068Z",
     "iopub.status.idle": "2023-02-16T11:53:45.547009Z",
     "shell.execute_reply": "2023-02-16T11:53:45.545728Z"
    },
    "papermill": {
     "duration": 0.071878,
     "end_time": "2023-02-16T11:53:45.549553",
     "exception": false,
     "start_time": "2023-02-16T11:53:45.477675",
     "status": "completed"
    },
    "tags": []
   },
   "outputs": [
    {
     "name": "stdout",
     "output_type": "stream",
     "text": [
      "<class 'pandas.core.frame.DataFrame'>\n",
      "Int64Index: 236023 entries, 0 to 248738\n",
      "Data columns (total 7 columns):\n",
      " #   Column            Non-Null Count   Dtype              \n",
      "---  ------            --------------   -----              \n",
      " 0   tweet_created_at  236023 non-null  datetime64[ns, UTC]\n",
      " 1   text              236023 non-null  object             \n",
      " 2   Positive          236023 non-null  float64            \n",
      " 3   Negative          236023 non-null  float64            \n",
      " 4   Neutral           236023 non-null  float64            \n",
      " 5   Compound          236023 non-null  float64            \n",
      " 6   Sentiment         236023 non-null  object             \n",
      "dtypes: datetime64[ns, UTC](1), float64(4), object(2)\n",
      "memory usage: 14.4+ MB\n"
     ]
    }
   ],
   "source": [
    "df.info()"
   ]
  },
  {
   "cell_type": "code",
   "execution_count": 7,
   "id": "e8ac1b56",
   "metadata": {
    "execution": {
     "iopub.execute_input": "2023-02-16T11:53:45.572243Z",
     "iopub.status.busy": "2023-02-16T11:53:45.571837Z",
     "iopub.status.idle": "2023-02-16T11:53:45.579448Z",
     "shell.execute_reply": "2023-02-16T11:53:45.578167Z"
    },
    "papermill": {
     "duration": 0.021968,
     "end_time": "2023-02-16T11:53:45.582019",
     "exception": false,
     "start_time": "2023-02-16T11:53:45.560051",
     "status": "completed"
    },
    "tags": []
   },
   "outputs": [
    {
     "data": {
      "text/plain": [
       "Index(['tweet_created_at', 'text', 'Positive', 'Negative', 'Neutral',\n",
       "       'Compound', 'Sentiment'],\n",
       "      dtype='object')"
      ]
     },
     "execution_count": 7,
     "metadata": {},
     "output_type": "execute_result"
    }
   ],
   "source": [
    "df.columns"
   ]
  },
  {
   "cell_type": "code",
   "execution_count": 8,
   "id": "8b666fb0",
   "metadata": {
    "execution": {
     "iopub.execute_input": "2023-02-16T11:53:45.605256Z",
     "iopub.status.busy": "2023-02-16T11:53:45.604841Z",
     "iopub.status.idle": "2023-02-16T11:53:45.626363Z",
     "shell.execute_reply": "2023-02-16T11:53:45.625023Z"
    },
    "papermill": {
     "duration": 0.036445,
     "end_time": "2023-02-16T11:53:45.629193",
     "exception": false,
     "start_time": "2023-02-16T11:53:45.592748",
     "status": "completed"
    },
    "tags": []
   },
   "outputs": [],
   "source": [
    "df = df[['tweet_created_at', 'text', 'Sentiment']]"
   ]
  },
  {
   "cell_type": "code",
   "execution_count": 9,
   "id": "0764c1a6",
   "metadata": {
    "execution": {
     "iopub.execute_input": "2023-02-16T11:53:45.652311Z",
     "iopub.status.busy": "2023-02-16T11:53:45.651918Z",
     "iopub.status.idle": "2023-02-16T11:53:45.665902Z",
     "shell.execute_reply": "2023-02-16T11:53:45.664745Z"
    },
    "papermill": {
     "duration": 0.028337,
     "end_time": "2023-02-16T11:53:45.668281",
     "exception": false,
     "start_time": "2023-02-16T11:53:45.639944",
     "status": "completed"
    },
    "tags": []
   },
   "outputs": [
    {
     "data": {
      "text/html": [
       "<div>\n",
       "<style scoped>\n",
       "    .dataframe tbody tr th:only-of-type {\n",
       "        vertical-align: middle;\n",
       "    }\n",
       "\n",
       "    .dataframe tbody tr th {\n",
       "        vertical-align: top;\n",
       "    }\n",
       "\n",
       "    .dataframe thead th {\n",
       "        text-align: right;\n",
       "    }\n",
       "</style>\n",
       "<table border=\"1\" class=\"dataframe\">\n",
       "  <thead>\n",
       "    <tr style=\"text-align: right;\">\n",
       "      <th></th>\n",
       "      <th>tweet_created_at</th>\n",
       "      <th>text</th>\n",
       "      <th>Sentiment</th>\n",
       "    </tr>\n",
       "  </thead>\n",
       "  <tbody>\n",
       "    <tr>\n",
       "      <th>0</th>\n",
       "      <td>2022-12-30 22:37:46+00:00</td>\n",
       "      <td>Men who have refused to listen to/attend @amer...</td>\n",
       "      <td>Negative</td>\n",
       "    </tr>\n",
       "    <tr>\n",
       "      <th>1</th>\n",
       "      <td>2022-12-30 22:30:58+00:00</td>\n",
       "      <td>@OvOBrezzzy Take amerix next</td>\n",
       "      <td>Neutral</td>\n",
       "    </tr>\n",
       "    <tr>\n",
       "      <th>2</th>\n",
       "      <td>2022-12-30 22:18:00+00:00</td>\n",
       "      <td>@AyodeleYo11 @amerix Nah I’m good my masculini...</td>\n",
       "      <td>Positive</td>\n",
       "    </tr>\n",
       "    <tr>\n",
       "      <th>3</th>\n",
       "      <td>2022-12-30 20:42:54+00:00</td>\n",
       "      <td>@Amerix_DontSimp There is no need for dating i...</td>\n",
       "      <td>Negative</td>\n",
       "    </tr>\n",
       "    <tr>\n",
       "      <th>4</th>\n",
       "      <td>2022-12-30 20:32:23+00:00</td>\n",
       "      <td>@DyeAnna7 @amerix @kibe From what cos nothing ...</td>\n",
       "      <td>Positive</td>\n",
       "    </tr>\n",
       "  </tbody>\n",
       "</table>\n",
       "</div>"
      ],
      "text/plain": [
       "           tweet_created_at  \\\n",
       "0 2022-12-30 22:37:46+00:00   \n",
       "1 2022-12-30 22:30:58+00:00   \n",
       "2 2022-12-30 22:18:00+00:00   \n",
       "3 2022-12-30 20:42:54+00:00   \n",
       "4 2022-12-30 20:32:23+00:00   \n",
       "\n",
       "                                                text Sentiment  \n",
       "0  Men who have refused to listen to/attend @amer...  Negative  \n",
       "1                       @OvOBrezzzy Take amerix next   Neutral  \n",
       "2  @AyodeleYo11 @amerix Nah I’m good my masculini...  Positive  \n",
       "3  @Amerix_DontSimp There is no need for dating i...  Negative  \n",
       "4  @DyeAnna7 @amerix @kibe From what cos nothing ...  Positive  "
      ]
     },
     "execution_count": 9,
     "metadata": {},
     "output_type": "execute_result"
    }
   ],
   "source": [
    "df.head()"
   ]
  },
  {
   "cell_type": "code",
   "execution_count": 10,
   "id": "a7101c16",
   "metadata": {
    "execution": {
     "iopub.execute_input": "2023-02-16T11:53:45.691447Z",
     "iopub.status.busy": "2023-02-16T11:53:45.690990Z",
     "iopub.status.idle": "2023-02-16T11:53:45.700725Z",
     "shell.execute_reply": "2023-02-16T11:53:45.699491Z"
    },
    "papermill": {
     "duration": 0.024039,
     "end_time": "2023-02-16T11:53:45.703058",
     "exception": false,
     "start_time": "2023-02-16T11:53:45.679019",
     "status": "completed"
    },
    "tags": []
   },
   "outputs": [
    {
     "data": {
      "text/plain": [
       "0     Men who have refused to listen to/attend @amer...\n",
       "1                          @OvOBrezzzy Take amerix next\n",
       "2     @AyodeleYo11 @amerix Nah I’m good my masculini...\n",
       "3     @Amerix_DontSimp There is no need for dating i...\n",
       "4     @DyeAnna7 @amerix @kibe From what cos nothing ...\n",
       "5     @salim_the_don @MwendiaJnr I see you unblocked...\n",
       "6     @german_kenyan @ML_Philosophy 🤣 yes they are a...\n",
       "7     @PadreMusa Amerix once said the alcohol menace...\n",
       "8     @DodoPicard You're in Eastafrica, he probably ...\n",
       "9                      @HBK_ACTIVIST @amerix @kibe Heal\n",
       "10                           Amerix student of the year\n",
       "11    @sholla_saddam These are notes from @amerix's ...\n",
       "12    @amerix I appreciate the intent of this, but I...\n",
       "13    @Mynames_Jefff @Biancawamu2 @amerix Wouldn't b...\n",
       "14    @sharbabababa @Biancawamu2 could be @amerix wife🤷\n",
       "15    @DyeAnna7 @amerix @kibe Was raised by toxic co...\n",
       "16    @butdarkacademia @purevibeezz good thing is An...\n",
       "17    @amerix The system needs you sick and depresse...\n",
       "18    As we end the year 2022, kindly pass my messag...\n",
       "19                       @Ha_thighness @yvng_joh Amerix\n",
       "Name: text, dtype: object"
      ]
     },
     "execution_count": 10,
     "metadata": {},
     "output_type": "execute_result"
    }
   ],
   "source": [
    "df['text'].head(20)"
   ]
  },
  {
   "cell_type": "code",
   "execution_count": 11,
   "id": "9727dc50",
   "metadata": {
    "execution": {
     "iopub.execute_input": "2023-02-16T11:53:45.727317Z",
     "iopub.status.busy": "2023-02-16T11:53:45.726854Z",
     "iopub.status.idle": "2023-02-16T11:53:45.741958Z",
     "shell.execute_reply": "2023-02-16T11:53:45.740639Z"
    },
    "papermill": {
     "duration": 0.030042,
     "end_time": "2023-02-16T11:53:45.744509",
     "exception": false,
     "start_time": "2023-02-16T11:53:45.714467",
     "status": "completed"
    },
    "tags": []
   },
   "outputs": [
    {
     "data": {
      "text/html": [
       "<div>\n",
       "<style scoped>\n",
       "    .dataframe tbody tr th:only-of-type {\n",
       "        vertical-align: middle;\n",
       "    }\n",
       "\n",
       "    .dataframe tbody tr th {\n",
       "        vertical-align: top;\n",
       "    }\n",
       "\n",
       "    .dataframe thead th {\n",
       "        text-align: right;\n",
       "    }\n",
       "</style>\n",
       "<table border=\"1\" class=\"dataframe\">\n",
       "  <thead>\n",
       "    <tr style=\"text-align: right;\">\n",
       "      <th></th>\n",
       "      <th>tweet_created_at</th>\n",
       "      <th>text</th>\n",
       "      <th>Sentiment</th>\n",
       "    </tr>\n",
       "  </thead>\n",
       "  <tbody>\n",
       "    <tr>\n",
       "      <th>248719</th>\n",
       "      <td>2020-01-03 16:00:23+00:00</td>\n",
       "      <td>#FoodFriday means tasty snacks throughout the ...</td>\n",
       "      <td>Neutral</td>\n",
       "    </tr>\n",
       "    <tr>\n",
       "      <th>248720</th>\n",
       "      <td>2020-01-03 15:32:14+00:00</td>\n",
       "      <td>F U E L E D F R I D A Y\\nLooking for a fun, co...</td>\n",
       "      <td>Positive</td>\n",
       "    </tr>\n",
       "    <tr>\n",
       "      <th>248721</th>\n",
       "      <td>2020-01-03 15:15:13+00:00</td>\n",
       "      <td>Kummer reminds you to stay hydrated #foodfrida...</td>\n",
       "      <td>Neutral</td>\n",
       "    </tr>\n",
       "    <tr>\n",
       "      <th>248722</th>\n",
       "      <td>2020-01-03 15:14:57+00:00</td>\n",
       "      <td>Commercial #Kitchens need attention at a great...</td>\n",
       "      <td>Positive</td>\n",
       "    </tr>\n",
       "    <tr>\n",
       "      <th>248723</th>\n",
       "      <td>2020-01-03 15:11:01+00:00</td>\n",
       "      <td>Mary's Meals is changing lives in Zimbabwe htt...</td>\n",
       "      <td>Neutral</td>\n",
       "    </tr>\n",
       "    <tr>\n",
       "      <th>248724</th>\n",
       "      <td>2020-01-03 15:00:48+00:00</td>\n",
       "      <td>Will meat alternatives continue gaining popula...</td>\n",
       "      <td>Positive</td>\n",
       "    </tr>\n",
       "    <tr>\n",
       "      <th>248725</th>\n",
       "      <td>2020-01-03 14:29:10+00:00</td>\n",
       "      <td>These are our top five healthy recipes that yo...</td>\n",
       "      <td>Positive</td>\n",
       "    </tr>\n",
       "    <tr>\n",
       "      <th>248726</th>\n",
       "      <td>2020-01-03 14:01:57+00:00</td>\n",
       "      <td>Burned out on cooking after the holidays? Here...</td>\n",
       "      <td>Positive</td>\n",
       "    </tr>\n",
       "    <tr>\n",
       "      <th>248727</th>\n",
       "      <td>2020-01-03 14:00:38+00:00</td>\n",
       "      <td>Will you eat lettuce that is not grown in soil...</td>\n",
       "      <td>Neutral</td>\n",
       "    </tr>\n",
       "    <tr>\n",
       "      <th>248728</th>\n",
       "      <td>2020-01-03 13:49:24+00:00</td>\n",
       "      <td>#FoodFriday: Is it possible to treat things li...</td>\n",
       "      <td>Negative</td>\n",
       "    </tr>\n",
       "    <tr>\n",
       "      <th>248729</th>\n",
       "      <td>2020-01-03 13:33:59+00:00</td>\n",
       "      <td>Foodies, this particular country is one of our...</td>\n",
       "      <td>Positive</td>\n",
       "    </tr>\n",
       "    <tr>\n",
       "      <th>248730</th>\n",
       "      <td>2020-01-03 13:15:42+00:00</td>\n",
       "      <td>Today is usually #FoodFriday on this timeline....</td>\n",
       "      <td>Negative</td>\n",
       "    </tr>\n",
       "    <tr>\n",
       "      <th>248731</th>\n",
       "      <td>2020-01-03 13:06:15+00:00</td>\n",
       "      <td>#FoodFriday\\n\\nWhat are you cookin' up today o...</td>\n",
       "      <td>Positive</td>\n",
       "    </tr>\n",
       "    <tr>\n",
       "      <th>248732</th>\n",
       "      <td>2020-01-03 12:30:12+00:00</td>\n",
       "      <td>This weeks #FoodFriday is from @WoodsideBay 🍕\\...</td>\n",
       "      <td>Positive</td>\n",
       "    </tr>\n",
       "    <tr>\n",
       "      <th>248733</th>\n",
       "      <td>2020-01-03 12:05:03+00:00</td>\n",
       "      <td>Ring in the New Year with healthy eating. Chec...</td>\n",
       "      <td>Positive</td>\n",
       "    </tr>\n",
       "    <tr>\n",
       "      <th>248734</th>\n",
       "      <td>2020-01-03 11:15:48+00:00</td>\n",
       "      <td>'The old fool forgot the lessons of Blodeuwedd...</td>\n",
       "      <td>Negative</td>\n",
       "    </tr>\n",
       "    <tr>\n",
       "      <th>248735</th>\n",
       "      <td>2020-01-03 10:08:33+00:00</td>\n",
       "      <td>African star Apple (Udara).\\nRich source of vi...</td>\n",
       "      <td>Positive</td>\n",
       "    </tr>\n",
       "    <tr>\n",
       "      <th>248736</th>\n",
       "      <td>2020-01-03 06:44:33+00:00</td>\n",
       "      <td>#FOODFRIDAY 🇮🇹🍫\\nIf you love chocolate, then b...</td>\n",
       "      <td>Positive</td>\n",
       "    </tr>\n",
       "    <tr>\n",
       "      <th>248737</th>\n",
       "      <td>2020-01-03 06:31:10+00:00</td>\n",
       "      <td>#foodfriday @baghdadcafeCT hey offer a variety...</td>\n",
       "      <td>Positive</td>\n",
       "    </tr>\n",
       "    <tr>\n",
       "      <th>248738</th>\n",
       "      <td>2020-01-03 04:30:00+00:00</td>\n",
       "      <td>This Mangalorean special chicken curry can be ...</td>\n",
       "      <td>Positive</td>\n",
       "    </tr>\n",
       "  </tbody>\n",
       "</table>\n",
       "</div>"
      ],
      "text/plain": [
       "                tweet_created_at  \\\n",
       "248719 2020-01-03 16:00:23+00:00   \n",
       "248720 2020-01-03 15:32:14+00:00   \n",
       "248721 2020-01-03 15:15:13+00:00   \n",
       "248722 2020-01-03 15:14:57+00:00   \n",
       "248723 2020-01-03 15:11:01+00:00   \n",
       "248724 2020-01-03 15:00:48+00:00   \n",
       "248725 2020-01-03 14:29:10+00:00   \n",
       "248726 2020-01-03 14:01:57+00:00   \n",
       "248727 2020-01-03 14:00:38+00:00   \n",
       "248728 2020-01-03 13:49:24+00:00   \n",
       "248729 2020-01-03 13:33:59+00:00   \n",
       "248730 2020-01-03 13:15:42+00:00   \n",
       "248731 2020-01-03 13:06:15+00:00   \n",
       "248732 2020-01-03 12:30:12+00:00   \n",
       "248733 2020-01-03 12:05:03+00:00   \n",
       "248734 2020-01-03 11:15:48+00:00   \n",
       "248735 2020-01-03 10:08:33+00:00   \n",
       "248736 2020-01-03 06:44:33+00:00   \n",
       "248737 2020-01-03 06:31:10+00:00   \n",
       "248738 2020-01-03 04:30:00+00:00   \n",
       "\n",
       "                                                     text Sentiment  \n",
       "248719  #FoodFriday means tasty snacks throughout the ...   Neutral  \n",
       "248720  F U E L E D F R I D A Y\\nLooking for a fun, co...  Positive  \n",
       "248721  Kummer reminds you to stay hydrated #foodfrida...   Neutral  \n",
       "248722  Commercial #Kitchens need attention at a great...  Positive  \n",
       "248723  Mary's Meals is changing lives in Zimbabwe htt...   Neutral  \n",
       "248724  Will meat alternatives continue gaining popula...  Positive  \n",
       "248725  These are our top five healthy recipes that yo...  Positive  \n",
       "248726  Burned out on cooking after the holidays? Here...  Positive  \n",
       "248727  Will you eat lettuce that is not grown in soil...   Neutral  \n",
       "248728  #FoodFriday: Is it possible to treat things li...  Negative  \n",
       "248729  Foodies, this particular country is one of our...  Positive  \n",
       "248730  Today is usually #FoodFriday on this timeline....  Negative  \n",
       "248731  #FoodFriday\\n\\nWhat are you cookin' up today o...  Positive  \n",
       "248732  This weeks #FoodFriday is from @WoodsideBay 🍕\\...  Positive  \n",
       "248733  Ring in the New Year with healthy eating. Chec...  Positive  \n",
       "248734  'The old fool forgot the lessons of Blodeuwedd...  Negative  \n",
       "248735  African star Apple (Udara).\\nRich source of vi...  Positive  \n",
       "248736  #FOODFRIDAY 🇮🇹🍫\\nIf you love chocolate, then b...  Positive  \n",
       "248737  #foodfriday @baghdadcafeCT hey offer a variety...  Positive  \n",
       "248738  This Mangalorean special chicken curry can be ...  Positive  "
      ]
     },
     "execution_count": 11,
     "metadata": {},
     "output_type": "execute_result"
    }
   ],
   "source": [
    "df.tail(20)"
   ]
  },
  {
   "cell_type": "code",
   "execution_count": 12,
   "id": "aa068784",
   "metadata": {
    "execution": {
     "iopub.execute_input": "2023-02-16T11:53:45.769358Z",
     "iopub.status.busy": "2023-02-16T11:53:45.768908Z",
     "iopub.status.idle": "2023-02-16T11:53:50.321510Z",
     "shell.execute_reply": "2023-02-16T11:53:50.320077Z"
    },
    "papermill": {
     "duration": 4.568473,
     "end_time": "2023-02-16T11:53:50.324623",
     "exception": false,
     "start_time": "2023-02-16T11:53:45.756150",
     "status": "completed"
    },
    "tags": []
   },
   "outputs": [
    {
     "data": {
      "application/vnd.jupyter.widget-view+json": {
       "model_id": "73c37dc5cf0b47f38e5a2f5bacc6ef3f",
       "version_major": 2,
       "version_minor": 0
      },
      "text/plain": [
       "Downloading:   0%|          | 0.00/28.0 [00:00<?, ?B/s]"
      ]
     },
     "metadata": {},
     "output_type": "display_data"
    },
    {
     "data": {
      "application/vnd.jupyter.widget-view+json": {
       "model_id": "3ac0403995074c97af74cf17815a4c37",
       "version_major": 2,
       "version_minor": 0
      },
      "text/plain": [
       "Downloading:   0%|          | 0.00/226k [00:00<?, ?B/s]"
      ]
     },
     "metadata": {},
     "output_type": "display_data"
    },
    {
     "data": {
      "application/vnd.jupyter.widget-view+json": {
       "model_id": "284b176563954b318c3b25318353c1c0",
       "version_major": 2,
       "version_minor": 0
      },
      "text/plain": [
       "Downloading:   0%|          | 0.00/455k [00:00<?, ?B/s]"
      ]
     },
     "metadata": {},
     "output_type": "display_data"
    },
    {
     "data": {
      "application/vnd.jupyter.widget-view+json": {
       "model_id": "e5b4de5b63c840308076b27b117cd166",
       "version_major": 2,
       "version_minor": 0
      },
      "text/plain": [
       "Downloading:   0%|          | 0.00/570 [00:00<?, ?B/s]"
      ]
     },
     "metadata": {},
     "output_type": "display_data"
    }
   ],
   "source": [
    "tokenizer = BertTokenizerFast.from_pretrained('bert-base-uncased')"
   ]
  },
  {
   "cell_type": "code",
   "execution_count": 13,
   "id": "dcd612c1",
   "metadata": {
    "execution": {
     "iopub.execute_input": "2023-02-16T11:53:50.352502Z",
     "iopub.status.busy": "2023-02-16T11:53:50.351508Z",
     "iopub.status.idle": "2023-02-16T11:53:53.403454Z",
     "shell.execute_reply": "2023-02-16T11:53:53.402128Z"
    },
    "papermill": {
     "duration": 3.069154,
     "end_time": "2023-02-16T11:53:53.406324",
     "exception": false,
     "start_time": "2023-02-16T11:53:50.337170",
     "status": "completed"
    },
    "tags": []
   },
   "outputs": [],
   "source": [
    "tokenizer_1 = AutoTokenizer.from_pretrained('bert-base-uncased')"
   ]
  },
  {
   "cell_type": "code",
   "execution_count": 14,
   "id": "f6ab474c",
   "metadata": {
    "execution": {
     "iopub.execute_input": "2023-02-16T11:53:53.432502Z",
     "iopub.status.busy": "2023-02-16T11:53:53.432074Z",
     "iopub.status.idle": "2023-02-16T11:54:04.114291Z",
     "shell.execute_reply": "2023-02-16T11:54:04.112448Z"
    },
    "papermill": {
     "duration": 10.698633,
     "end_time": "2023-02-16T11:54:04.117068",
     "exception": false,
     "start_time": "2023-02-16T11:53:53.418435",
     "status": "completed"
    },
    "tags": []
   },
   "outputs": [
    {
     "name": "stdout",
     "output_type": "stream",
     "text": [
      "99.80984576378619% of the emojis are not identified by this tokenizer.\n"
     ]
    }
   ],
   "source": [
    "emoji_list = list(emoji.EMOJI_DATA.keys())\n",
    "\n",
    "cnt = 0\n",
    "\n",
    "for e in emoji_list:\n",
    "    tokenized = tokenizer.decode(tokenizer.encode(e)).strip(\"</s>\").strip()\n",
    "    if e not in tokenized:\n",
    "        cnt += 1\n",
    "print(f\"{cnt/len(emoji_list)*100}% of the emojis are not identified by this tokenizer.\")"
   ]
  },
  {
   "cell_type": "code",
   "execution_count": 15,
   "id": "a7016d0e",
   "metadata": {
    "execution": {
     "iopub.execute_input": "2023-02-16T11:54:04.143437Z",
     "iopub.status.busy": "2023-02-16T11:54:04.142646Z",
     "iopub.status.idle": "2023-02-16T11:54:04.540536Z",
     "shell.execute_reply": "2023-02-16T11:54:04.539198Z"
    },
    "papermill": {
     "duration": 0.414043,
     "end_time": "2023-02-16T11:54:04.543238",
     "exception": false,
     "start_time": "2023-02-16T11:54:04.129195",
     "status": "completed"
    },
    "tags": []
   },
   "outputs": [
    {
     "name": "stdout",
     "output_type": "stream",
     "text": [
      "99.80984576378619% of the emojis are not identified by this tokenizer.\n"
     ]
    }
   ],
   "source": [
    "emoji_list = list(emoji.EMOJI_DATA.keys())\n",
    "\n",
    "cnt = 0\n",
    "\n",
    "for e in emoji_list:\n",
    "    tokenized = tokenizer_1.decode(tokenizer_1.encode(e)).strip(\"</s>\").strip()\n",
    "    if e not in tokenized:\n",
    "        cnt += 1\n",
    "print(f\"{cnt/len(emoji_list)*100}% of the emojis are not identified by this tokenizer.\")"
   ]
  },
  {
   "cell_type": "code",
   "execution_count": 16,
   "id": "ae97c62d",
   "metadata": {
    "execution": {
     "iopub.execute_input": "2023-02-16T11:54:04.569284Z",
     "iopub.status.busy": "2023-02-16T11:54:04.568850Z",
     "iopub.status.idle": "2023-02-16T11:54:06.296856Z",
     "shell.execute_reply": "2023-02-16T11:54:06.295663Z"
    },
    "papermill": {
     "duration": 1.744389,
     "end_time": "2023-02-16T11:54:06.299752",
     "exception": false,
     "start_time": "2023-02-16T11:54:04.555363",
     "status": "completed"
    },
    "tags": []
   },
   "outputs": [],
   "source": [
    "tokenizer_3 = BertTokenizer.from_pretrained('bert-base-uncased')"
   ]
  },
  {
   "cell_type": "code",
   "execution_count": 17,
   "id": "d2bfdb1f",
   "metadata": {
    "execution": {
     "iopub.execute_input": "2023-02-16T11:54:06.325956Z",
     "iopub.status.busy": "2023-02-16T11:54:06.325502Z",
     "iopub.status.idle": "2023-02-16T11:54:07.225849Z",
     "shell.execute_reply": "2023-02-16T11:54:07.224343Z"
    },
    "papermill": {
     "duration": 0.916808,
     "end_time": "2023-02-16T11:54:07.228771",
     "exception": false,
     "start_time": "2023-02-16T11:54:06.311963",
     "status": "completed"
    },
    "tags": []
   },
   "outputs": [
    {
     "name": "stdout",
     "output_type": "stream",
     "text": [
      "99.80984576378619% of the emojis are not identified by this tokenizer.\n"
     ]
    }
   ],
   "source": [
    "emoji_list = list(emoji.EMOJI_DATA.keys())\n",
    "\n",
    "cnt = 0\n",
    "\n",
    "for e in emoji_list:\n",
    "    tokenized = tokenizer_3.decode(tokenizer_3.encode(e)).strip(\"</s>\").strip()\n",
    "    if e not in tokenized:\n",
    "        cnt += 1\n",
    "print(f\"{cnt/len(emoji_list)*100}% of the emojis are not identified by this tokenizer.\")"
   ]
  },
  {
   "cell_type": "code",
   "execution_count": 18,
   "id": "d209d485",
   "metadata": {
    "execution": {
     "iopub.execute_input": "2023-02-16T11:54:07.255804Z",
     "iopub.status.busy": "2023-02-16T11:54:07.255349Z",
     "iopub.status.idle": "2023-02-16T11:54:13.210910Z",
     "shell.execute_reply": "2023-02-16T11:54:13.209605Z"
    },
    "papermill": {
     "duration": 5.972234,
     "end_time": "2023-02-16T11:54:13.213962",
     "exception": false,
     "start_time": "2023-02-16T11:54:07.241728",
     "status": "completed"
    },
    "tags": []
   },
   "outputs": [
    {
     "data": {
      "application/vnd.jupyter.widget-view+json": {
       "model_id": "19466cf781064ddc950cb0f80e172c77",
       "version_major": 2,
       "version_minor": 0
      },
      "text/plain": [
       "Downloading:   0%|          | 0.00/656 [00:00<?, ?B/s]"
      ]
     },
     "metadata": {},
     "output_type": "display_data"
    },
    {
     "data": {
      "application/vnd.jupyter.widget-view+json": {
       "model_id": "bafeeb13700d4765a6c50bd3b0c5f15f",
       "version_major": 2,
       "version_minor": 0
      },
      "text/plain": [
       "Downloading:   0%|          | 0.00/797k [00:00<?, ?B/s]"
      ]
     },
     "metadata": {},
     "output_type": "display_data"
    },
    {
     "data": {
      "application/vnd.jupyter.widget-view+json": {
       "model_id": "d6459d6b46964dee9b63a09e1516b074",
       "version_major": 2,
       "version_minor": 0
      },
      "text/plain": [
       "Downloading:   0%|          | 0.00/448k [00:00<?, ?B/s]"
      ]
     },
     "metadata": {},
     "output_type": "display_data"
    },
    {
     "data": {
      "application/vnd.jupyter.widget-view+json": {
       "model_id": "d200a731a0f7405bae44b672ac9941eb",
       "version_major": 2,
       "version_minor": 0
      },
      "text/plain": [
       "Downloading:   0%|          | 0.00/1.21M [00:00<?, ?B/s]"
      ]
     },
     "metadata": {},
     "output_type": "display_data"
    }
   ],
   "source": [
    "tokenizer_4 = AutoTokenizer.from_pretrained(\"openai-gpt\")"
   ]
  },
  {
   "cell_type": "code",
   "execution_count": 19,
   "id": "8c72704a",
   "metadata": {
    "execution": {
     "iopub.execute_input": "2023-02-16T11:54:13.241380Z",
     "iopub.status.busy": "2023-02-16T11:54:13.240931Z",
     "iopub.status.idle": "2023-02-16T11:54:13.609061Z",
     "shell.execute_reply": "2023-02-16T11:54:13.607743Z"
    },
    "papermill": {
     "duration": 0.385141,
     "end_time": "2023-02-16T11:54:13.611987",
     "exception": false,
     "start_time": "2023-02-16T11:54:13.226846",
     "status": "completed"
    },
    "tags": []
   },
   "outputs": [
    {
     "name": "stdout",
     "output_type": "stream",
     "text": [
      "99.80984576378619% of the emojis are not identified by this tokenizer.\n"
     ]
    }
   ],
   "source": [
    "emoji_list = list(emoji.EMOJI_DATA.keys())\n",
    "\n",
    "cnt = 0\n",
    "\n",
    "for e in emoji_list:\n",
    "    tokenized = tokenizer_4.decode(tokenizer_4.encode(e)).strip(\"</s>\").strip()\n",
    "    if e not in tokenized:\n",
    "        cnt += 1\n",
    "print(f\"{cnt/len(emoji_list)*100}% of the emojis are not identified by this tokenizer.\")"
   ]
  },
  {
   "cell_type": "code",
   "execution_count": 20,
   "id": "f728f38f",
   "metadata": {
    "execution": {
     "iopub.execute_input": "2023-02-16T11:54:13.639852Z",
     "iopub.status.busy": "2023-02-16T11:54:13.638902Z",
     "iopub.status.idle": "2023-02-16T11:54:13.644642Z",
     "shell.execute_reply": "2023-02-16T11:54:13.643587Z"
    },
    "papermill": {
     "duration": 0.022887,
     "end_time": "2023-02-16T11:54:13.647693",
     "exception": false,
     "start_time": "2023-02-16T11:54:13.624806",
     "status": "completed"
    },
    "tags": []
   },
   "outputs": [],
   "source": [
    "def emoji2description(text):\n",
    "\n",
    "    return emoji.replace_emoji(text, replace=lambda chars, data_dict: ' '.join(data_dict['en'].split('_')).strip(':'))"
   ]
  },
  {
   "cell_type": "code",
   "execution_count": 21,
   "id": "bf1898ec",
   "metadata": {
    "execution": {
     "iopub.execute_input": "2023-02-16T11:54:13.675932Z",
     "iopub.status.busy": "2023-02-16T11:54:13.675046Z",
     "iopub.status.idle": "2023-02-16T11:54:13.680935Z",
     "shell.execute_reply": "2023-02-16T11:54:13.679960Z"
    },
    "papermill": {
     "duration": 0.022744,
     "end_time": "2023-02-16T11:54:13.683236",
     "exception": false,
     "start_time": "2023-02-16T11:54:13.660492",
     "status": "completed"
    },
    "tags": []
   },
   "outputs": [],
   "source": [
    "def emoji2concat_emoji(text):\n",
    "    emoji_list = emoji.emoji_list(text)\n",
    "    ret = emoji.replace_emoji(text, replace='').strip()\n",
    "    for json in emoji_list:\n",
    "        this_emoji = json['emoji']\n",
    "        ret += ' ' + this_emoji\n",
    "    return ret"
   ]
  },
  {
   "cell_type": "code",
   "execution_count": 22,
   "id": "10fb1594",
   "metadata": {
    "execution": {
     "iopub.execute_input": "2023-02-16T11:54:13.710897Z",
     "iopub.status.busy": "2023-02-16T11:54:13.710445Z",
     "iopub.status.idle": "2023-02-16T11:54:13.717333Z",
     "shell.execute_reply": "2023-02-16T11:54:13.716015Z"
    },
    "papermill": {
     "duration": 0.023993,
     "end_time": "2023-02-16T11:54:13.719935",
     "exception": false,
     "start_time": "2023-02-16T11:54:13.695942",
     "status": "completed"
    },
    "tags": []
   },
   "outputs": [],
   "source": [
    "def emoji2concat_description(text):\n",
    "    emoji_list = emoji.emoji_list(text)\n",
    "    ret = emoji.replace_emoji(text, replace='').strip()\n",
    "    for json in emoji_list:\n",
    "        this_desc = ' '.join(emoji.EMOJI_DATA[json['emoji']]['en'].split('_')).strip(':')\n",
    "        ret += ' ' + this_desc\n",
    "    return ret"
   ]
  },
  {
   "cell_type": "code",
   "execution_count": 23,
   "id": "1f9cba87",
   "metadata": {
    "execution": {
     "iopub.execute_input": "2023-02-16T11:54:13.747883Z",
     "iopub.status.busy": "2023-02-16T11:54:13.747078Z",
     "iopub.status.idle": "2023-02-16T11:55:19.337650Z",
     "shell.execute_reply": "2023-02-16T11:55:19.336485Z"
    },
    "papermill": {
     "duration": 65.607803,
     "end_time": "2023-02-16T11:55:19.340533",
     "exception": false,
     "start_time": "2023-02-16T11:54:13.732730",
     "status": "completed"
    },
    "tags": []
   },
   "outputs": [],
   "source": [
    "texts_new = []\n",
    "\n",
    "for t in df.text:\n",
    "    texts_new.append(\n",
    "        emoji2description(emoji2concat_emoji(emoji2concat_description((t))))\n",
    "    )"
   ]
  },
  {
   "cell_type": "code",
   "execution_count": 24,
   "id": "ec0da6d8",
   "metadata": {
    "execution": {
     "iopub.execute_input": "2023-02-16T11:55:19.370102Z",
     "iopub.status.busy": "2023-02-16T11:55:19.369611Z",
     "iopub.status.idle": "2023-02-16T11:55:19.412024Z",
     "shell.execute_reply": "2023-02-16T11:55:19.410275Z"
    },
    "papermill": {
     "duration": 0.060976,
     "end_time": "2023-02-16T11:55:19.415192",
     "exception": false,
     "start_time": "2023-02-16T11:55:19.354216",
     "status": "completed"
    },
    "tags": []
   },
   "outputs": [],
   "source": [
    "df['text_clean'] = texts_new"
   ]
  },
  {
   "cell_type": "code",
   "execution_count": 25,
   "id": "4cd33b15",
   "metadata": {
    "execution": {
     "iopub.execute_input": "2023-02-16T11:55:19.443527Z",
     "iopub.status.busy": "2023-02-16T11:55:19.443037Z",
     "iopub.status.idle": "2023-02-16T11:55:19.451754Z",
     "shell.execute_reply": "2023-02-16T11:55:19.450558Z"
    },
    "papermill": {
     "duration": 0.025775,
     "end_time": "2023-02-16T11:55:19.454077",
     "exception": false,
     "start_time": "2023-02-16T11:55:19.428302",
     "status": "completed"
    },
    "tags": []
   },
   "outputs": [
    {
     "data": {
      "text/plain": [
       "array(['#FoodFriday means tasty snacks throughout the day!\\n😋💙🥄🍫\\n📷 : @flexible_nati\\n#haveaplant https://t.co/pNSAHV2hDh',\n",
       "       'F U E L E D F R I D A Y\\nLooking for a fun, colorful and healthy recipe to kick off the new year? Well, check out this delicious and beautiful dish!\\n・・・\\nEggs baked in Veggie Nests. Head over to our insta for the recipe. 🤤\\n\\n#fueledfriday #foodfriday #runinrabbit #borntorunfree https://t.co/2Fwez5uYb2',\n",
       "       'Kummer reminds you to stay hydrated #foodfriday https://t.co/rkZmatd97f',\n",
       "       'Commercial #Kitchens need attention at a great price! 🦏 Rhino Shine has a solid plan unlike #JasonGarrett future 🤷🏻\\u200d♂️. #Dallas #winning #coupons #restaurant #hood #cleaning #foodfriday #trucks https://t.co/U0V5BO33uo',\n",
       "       \"Mary's Meals is changing lives in Zimbabwe https://t.co/bioEZAt47N #feelgoodfriday #FoodFriday\",\n",
       "       'Will meat alternatives continue gaining popularity in 2020? https://t.co/wzvi1XOBmj via @YourMorning ht  @LetsTalkScience 🥬🍔🤑 #food #health #diet #nutrition #meatless #plantbased #Vegan #vegetarian #HealthyLiving #HealthyEating #BusinessGrowth #business #FoodFriday',\n",
       "       'These are our top five healthy recipes that you can throw together in the morning and enjoy in the evening (as well as take leftovers for lunch the next day).\\n#FoodFriday #EatHealthy #NewYearNewYou #PersonalTraining #FitnessTogether                       https://t.co/TiKGdeqr1p',\n",
       "       \"Burned out on cooking after the holidays? Here's a selection of quick and easy meals to get you inspired #FoodFriday\\nhttps://t.co/uLYOPeQHQc https://t.co/nyWopWqh79\",\n",
       "       'Will you eat lettuce that is not grown in soil? Large scale #Hydroponics can produce hyper local food in a small space, even shipping containers or in your own home. https://t.co/Ogy8UgHMUt #FoodFriday',\n",
       "       '#FoodFriday: Is it possible to treat things like anxiety and depression with food? https://t.co/93Ez7VwziK\\n#KinderInTheKeys #MentalHealth #Anxiety #PTSD #Depression #Trauma #Recovery #Healing #Treatment #Food #Wellness',\n",
       "       \"Foodies, this particular country is one of our FAV when it comes to FOOD!! 🥘🍲🥗🍜\\n\\nLet's see if you can guess it!! 🤓\\n\\n#FoodFriday #GuessGame #Guess #Fun #FridayThoughts #foodie https://t.co/gK3x3uMArb\",\n",
       "       'Today is usually #FoodFriday on this timeline.\\n\\nI tweet about food. \\n\\nIf you can postpone your instant gratification from bad foods, you can postpone bad habits in your life.\\n\\nHow you approach food is evidently how you approach your other aspects of life.\\n\\n#FoodFriday',\n",
       "       \"#FoodFriday\\n\\nWhat are you cookin' up today or this weekend? What's your favorite recipe? Looking for some new ideas! https://t.co/3VRQTRCxd3\",\n",
       "       'This weeks #FoodFriday is from @WoodsideBay 🍕\\n\\nWould you be interested in a #Chef position with us?\\nThen why not visit the Darwin Escapes website, locate the Careers tab and search for our Chef vacancies 😀\\n\\n#Jobs https://t.co/FWNknvURhn',\n",
       "       'Ring in the New Year with healthy eating. Checkout #ClickNCook #healthrecipe Fruity Homemade Oatmeal. https://t.co/7XR3tw6XsH\\n#FoodFriday',\n",
       "       \"'The old fool forgot the lessons of Blodeuwedd and Frankenstein: never create anything smarter, or more ruthless, than yourself.'\\n.\\n#FoodFriday featuring cheesecake (that I'd been craving since Tuesday but been too lazy to…\\n\\n📸 https://t.co/U6yxC4h3sz via https://t.co/Z51VYxAyBJ https://t.co/8f5Lqkp8hm\",\n",
       "       'African star Apple (Udara).\\nRich source of vita.C is one of the wonderful fruits offered by nature with important health benefits.\\nRanging from tackling toothache, mouth gum disease, soar throat, helps in weight loss and good for expecting mothers \\n\\n#FoodFriday\\n#CoalCityConnect https://t.co/ODyfnS8VVm',\n",
       "       '#FOODFRIDAY 🇮🇹🍫\\nIf you love chocolate, then board the first flight to California. The Nutella Pop Up Hotel is about to open. Discover more in this video. Do you know? Nutella is an Italian product...of course!\\n#italy #food #nutella #language #school… https://t.co/bgG5haT6mQ https://t.co/gw0JhCqZHE',\n",
       "       '#foodfriday @baghdadcafeCT hey offer a variety of delicious foods, from pizza to tacos and sticky wings! For your convenience they also avail on @ubereats_za https://t.co/P8sdNvfMcg',\n",
       "       'This Mangalorean special chicken curry can be paired best with neer dosa or steamed rice. What’s your pick?\\nRecipe Link: https://t.co/iyYCpcuoeA\\n#FoodFriday https://t.co/Bke1o79Zio'],\n",
       "      dtype=object)"
      ]
     },
     "execution_count": 25,
     "metadata": {},
     "output_type": "execute_result"
    }
   ],
   "source": [
    "df['text'].tail(20).values"
   ]
  },
  {
   "cell_type": "code",
   "execution_count": 26,
   "id": "8af405cd",
   "metadata": {
    "execution": {
     "iopub.execute_input": "2023-02-16T11:55:19.483608Z",
     "iopub.status.busy": "2023-02-16T11:55:19.482493Z",
     "iopub.status.idle": "2023-02-16T11:55:19.490513Z",
     "shell.execute_reply": "2023-02-16T11:55:19.489402Z"
    },
    "papermill": {
     "duration": 0.025636,
     "end_time": "2023-02-16T11:55:19.492972",
     "exception": false,
     "start_time": "2023-02-16T11:55:19.467336",
     "status": "completed"
    },
    "tags": []
   },
   "outputs": [
    {
     "data": {
      "text/plain": [
       "array(['#FoodFriday means tasty snacks throughout the day!\\n\\n : @flexible_nati\\n#haveaplant https://t.co/pNSAHV2hDh face savoring food blue heart spoon chocolate bar camera',\n",
       "       'F U E L E D F R I D A Y\\nLooking for a fun, colorful and healthy recipe to kick off the new year? Well, check out this delicious and beautiful dish!\\n・・・\\nEggs baked in Veggie Nests. Head over to our insta for the recipe. \\n\\n#fueledfriday #foodfriday #runinrabbit #borntorunfree https://t.co/2Fwez5uYb2 drooling face',\n",
       "       'Kummer reminds you to stay hydrated #foodfriday https://t.co/rkZmatd97f',\n",
       "       'Commercial #Kitchens need attention at a great price!  Rhino Shine has a solid plan unlike #JasonGarrett future . #Dallas #winning #coupons #restaurant #hood #cleaning #foodfriday #trucks https://t.co/U0V5BO33uo rhinoceros man shrugging light skin tone',\n",
       "       \"Mary's Meals is changing lives in Zimbabwe https://t.co/bioEZAt47N #feelgoodfriday #FoodFriday\",\n",
       "       'Will meat alternatives continue gaining popularity in 2020? https://t.co/wzvi1XOBmj via @YourMorning ht  @LetsTalkScience  #food #health #diet #nutrition #meatless #plantbased #Vegan #vegetarian #HealthyLiving #HealthyEating #BusinessGrowth #business #FoodFriday leafy green hamburger money-mouth face',\n",
       "       'These are our top five healthy recipes that you can throw together in the morning and enjoy in the evening (as well as take leftovers for lunch the next day).\\n#FoodFriday #EatHealthy #NewYearNewYou #PersonalTraining #FitnessTogether                       https://t.co/TiKGdeqr1p',\n",
       "       \"Burned out on cooking after the holidays? Here's a selection of quick and easy meals to get you inspired #FoodFriday\\nhttps://t.co/uLYOPeQHQc https://t.co/nyWopWqh79\",\n",
       "       'Will you eat lettuce that is not grown in soil? Large scale #Hydroponics can produce hyper local food in a small space, even shipping containers or in your own home. https://t.co/Ogy8UgHMUt #FoodFriday',\n",
       "       '#FoodFriday: Is it possible to treat things like anxiety and depression with food? https://t.co/93Ez7VwziK\\n#KinderInTheKeys #MentalHealth #Anxiety #PTSD #Depression #Trauma #Recovery #Healing #Treatment #Food #Wellness',\n",
       "       \"Foodies, this particular country is one of our FAV when it comes to FOOD!! \\n\\nLet's see if you can guess it!! \\n\\n#FoodFriday #GuessGame #Guess #Fun #FridayThoughts #foodie https://t.co/gK3x3uMArb shallow pan of food pot of food green salad steaming bowl nerd face\",\n",
       "       'Today is usually #FoodFriday on this timeline.\\n\\nI tweet about food. \\n\\nIf you can postpone your instant gratification from bad foods, you can postpone bad habits in your life.\\n\\nHow you approach food is evidently how you approach your other aspects of life.\\n\\n#FoodFriday',\n",
       "       \"#FoodFriday\\n\\nWhat are you cookin' up today or this weekend? What's your favorite recipe? Looking for some new ideas! https://t.co/3VRQTRCxd3\",\n",
       "       'This weeks #FoodFriday is from @WoodsideBay \\n\\nWould you be interested in a #Chef position with us?\\nThen why not visit the Darwin Escapes website, locate the Careers tab and search for our Chef vacancies \\n\\n#Jobs https://t.co/FWNknvURhn pizza grinning face',\n",
       "       'Ring in the New Year with healthy eating. Checkout #ClickNCook #healthrecipe Fruity Homemade Oatmeal. https://t.co/7XR3tw6XsH\\n#FoodFriday',\n",
       "       \"'The old fool forgot the lessons of Blodeuwedd and Frankenstein: never create anything smarter, or more ruthless, than yourself.'\\n.\\n#FoodFriday featuring cheesecake (that I'd been craving since Tuesday but been too lazy to…\\n\\n https://t.co/U6yxC4h3sz via https://t.co/Z51VYxAyBJ https://t.co/8f5Lqkp8hm camera with flash\",\n",
       "       'African star Apple (Udara).\\nRich source of vita.C is one of the wonderful fruits offered by nature with important health benefits.\\nRanging from tackling toothache, mouth gum disease, soar throat, helps in weight loss and good for expecting mothers \\n\\n#FoodFriday\\n#CoalCityConnect https://t.co/ODyfnS8VVm',\n",
       "       '#FOODFRIDAY \\nIf you love chocolate, then board the first flight to California. The Nutella Pop Up Hotel is about to open. Discover more in this video. Do you know? Nutella is an Italian product...of course!\\n#italy #food #nutella #language #school… https://t.co/bgG5haT6mQ https://t.co/gw0JhCqZHE Italy chocolate bar',\n",
       "       '#foodfriday @baghdadcafeCT hey offer a variety of delicious foods, from pizza to tacos and sticky wings! For your convenience they also avail on @ubereats_za https://t.co/P8sdNvfMcg',\n",
       "       'This Mangalorean special chicken curry can be paired best with neer dosa or steamed rice. What’s your pick?\\nRecipe Link: https://t.co/iyYCpcuoeA\\n#FoodFriday https://t.co/Bke1o79Zio'],\n",
       "      dtype=object)"
      ]
     },
     "execution_count": 26,
     "metadata": {},
     "output_type": "execute_result"
    }
   ],
   "source": [
    "df['text_clean'].tail(20).values"
   ]
  },
  {
   "cell_type": "code",
   "execution_count": 27,
   "id": "a709a323",
   "metadata": {
    "execution": {
     "iopub.execute_input": "2023-02-16T11:55:19.521976Z",
     "iopub.status.busy": "2023-02-16T11:55:19.521476Z",
     "iopub.status.idle": "2023-02-16T11:55:19.527253Z",
     "shell.execute_reply": "2023-02-16T11:55:19.525986Z"
    },
    "papermill": {
     "duration": 0.02356,
     "end_time": "2023-02-16T11:55:19.529953",
     "exception": false,
     "start_time": "2023-02-16T11:55:19.506393",
     "status": "completed"
    },
    "tags": []
   },
   "outputs": [],
   "source": [
    "# remove multiple spaces\n",
    "\n",
    "def remove_mult_spaces(text): \n",
    "    return re.sub(\"\\s\\s+\" , \" \", text)"
   ]
  },
  {
   "cell_type": "code",
   "execution_count": 28,
   "id": "91165f26",
   "metadata": {
    "execution": {
     "iopub.execute_input": "2023-02-16T11:55:19.559114Z",
     "iopub.status.busy": "2023-02-16T11:55:19.558621Z",
     "iopub.status.idle": "2023-02-16T11:55:19.566280Z",
     "shell.execute_reply": "2023-02-16T11:55:19.564993Z"
    },
    "papermill": {
     "duration": 0.025559,
     "end_time": "2023-02-16T11:55:19.568899",
     "exception": false,
     "start_time": "2023-02-16T11:55:19.543340",
     "status": "completed"
    },
    "tags": []
   },
   "outputs": [],
   "source": [
    "#Remove punctuations, links, mentions and \\r\\n new line characters\n",
    "\n",
    "def strip_all_entities(text): \n",
    "    text = text.replace('\\r', '').replace('\\n', ' ').replace('\\n', ' ').lower() #remove \\n and \\r and lowercase\n",
    "    text = re.sub(r\"(?:\\@|https?\\://)\\S+\", \"\", text) #remove links and mentions\n",
    "    text = re.sub(r'[^\\x00-\\x7f]',r'', text) #remove non utf8/ascii characters such as '\\x9a\\x91\\x97\\x9a\\x97'\n",
    "    banned_list= string.punctuation + 'Ã'+'±'+'ã'+'¼'+'â'+'»'+'§'\n",
    "    table = str.maketrans('', '', banned_list)\n",
    "    text = text.translate(table)\n",
    "    return text"
   ]
  },
  {
   "cell_type": "code",
   "execution_count": 29,
   "id": "f82c6b33",
   "metadata": {
    "execution": {
     "iopub.execute_input": "2023-02-16T11:55:19.601757Z",
     "iopub.status.busy": "2023-02-16T11:55:19.601257Z",
     "iopub.status.idle": "2023-02-16T11:55:19.610264Z",
     "shell.execute_reply": "2023-02-16T11:55:19.608896Z"
    },
    "papermill": {
     "duration": 0.031597,
     "end_time": "2023-02-16T11:55:19.613940",
     "exception": false,
     "start_time": "2023-02-16T11:55:19.582343",
     "status": "completed"
    },
    "tags": []
   },
   "outputs": [],
   "source": [
    "#clean hashtags at the end of the sentence, and keep those in the middle of the sentence by removing just the # symbol\n",
    "\n",
    "def clean_hashtags(tweet):\n",
    "    new_tweet = \" \".join(word.strip() for word in re.split('#(?!(?:hashtag)\\b)[\\w-]+(?=(?:\\s+#[\\w-]+)*\\s*$)', tweet)) #remove last hashtags\n",
    "    new_tweet2 = \" \".join(word.strip() for word in re.split('#|_', new_tweet)) #remove hashtags symbol from words in the middle of the sentence\n",
    "    return new_tweet2"
   ]
  },
  {
   "cell_type": "code",
   "execution_count": 30,
   "id": "9b7e4f6b",
   "metadata": {
    "execution": {
     "iopub.execute_input": "2023-02-16T11:55:19.645392Z",
     "iopub.status.busy": "2023-02-16T11:55:19.644968Z",
     "iopub.status.idle": "2023-02-16T11:55:19.651597Z",
     "shell.execute_reply": "2023-02-16T11:55:19.650406Z"
    },
    "papermill": {
     "duration": 0.024119,
     "end_time": "2023-02-16T11:55:19.653931",
     "exception": false,
     "start_time": "2023-02-16T11:55:19.629812",
     "status": "completed"
    },
    "tags": []
   },
   "outputs": [],
   "source": [
    "#Filter special characters such as & and $ present in some words\n",
    "\n",
    "def filter_chars(a):\n",
    "    sent = []\n",
    "    for word in a.split(' '):\n",
    "        if ('$' in word) | ('&' in word):\n",
    "            sent.append('')\n",
    "        else:\n",
    "            sent.append(word)\n",
    "    return ' '.join(sent)"
   ]
  },
  {
   "cell_type": "code",
   "execution_count": 31,
   "id": "d5c86520",
   "metadata": {
    "execution": {
     "iopub.execute_input": "2023-02-16T11:55:19.683094Z",
     "iopub.status.busy": "2023-02-16T11:55:19.682034Z",
     "iopub.status.idle": "2023-02-16T11:55:26.465878Z",
     "shell.execute_reply": "2023-02-16T11:55:26.464609Z"
    },
    "papermill": {
     "duration": 6.801305,
     "end_time": "2023-02-16T11:55:26.468969",
     "exception": false,
     "start_time": "2023-02-16T11:55:19.667664",
     "status": "completed"
    },
    "tags": []
   },
   "outputs": [],
   "source": [
    "deeper_clean = []\n",
    "\n",
    "for t in df.text_clean:\n",
    "    deeper_clean.append(\n",
    "        remove_mult_spaces(\n",
    "            filter_chars(\n",
    "                clean_hashtags(\n",
    "                    strip_all_entities(\n",
    "                        (t)\n",
    "                    ))))\n",
    "    )"
   ]
  },
  {
   "cell_type": "code",
   "execution_count": 32,
   "id": "644f030f",
   "metadata": {
    "execution": {
     "iopub.execute_input": "2023-02-16T11:55:26.497579Z",
     "iopub.status.busy": "2023-02-16T11:55:26.497169Z",
     "iopub.status.idle": "2023-02-16T11:55:26.537633Z",
     "shell.execute_reply": "2023-02-16T11:55:26.535989Z"
    },
    "papermill": {
     "duration": 0.058126,
     "end_time": "2023-02-16T11:55:26.540541",
     "exception": false,
     "start_time": "2023-02-16T11:55:26.482415",
     "status": "completed"
    },
    "tags": []
   },
   "outputs": [],
   "source": [
    "df['text_clean_deeper'] = deeper_clean"
   ]
  },
  {
   "cell_type": "code",
   "execution_count": 33,
   "id": "4b0657f9",
   "metadata": {
    "execution": {
     "iopub.execute_input": "2023-02-16T11:55:26.569709Z",
     "iopub.status.busy": "2023-02-16T11:55:26.569256Z",
     "iopub.status.idle": "2023-02-16T11:55:26.576996Z",
     "shell.execute_reply": "2023-02-16T11:55:26.575607Z"
    },
    "papermill": {
     "duration": 0.025292,
     "end_time": "2023-02-16T11:55:26.579292",
     "exception": false,
     "start_time": "2023-02-16T11:55:26.554000",
     "status": "completed"
    },
    "tags": []
   },
   "outputs": [
    {
     "data": {
      "text/plain": [
       "Index(['tweet_created_at', 'text', 'Sentiment', 'text_clean',\n",
       "       'text_clean_deeper'],\n",
       "      dtype='object')"
      ]
     },
     "execution_count": 33,
     "metadata": {},
     "output_type": "execute_result"
    }
   ],
   "source": [
    "df.columns"
   ]
  },
  {
   "cell_type": "code",
   "execution_count": 34,
   "id": "6f4e147b",
   "metadata": {
    "execution": {
     "iopub.execute_input": "2023-02-16T11:55:26.608590Z",
     "iopub.status.busy": "2023-02-16T11:55:26.608194Z",
     "iopub.status.idle": "2023-02-16T11:55:26.617402Z",
     "shell.execute_reply": "2023-02-16T11:55:26.615794Z"
    },
    "papermill": {
     "duration": 0.026897,
     "end_time": "2023-02-16T11:55:26.619976",
     "exception": false,
     "start_time": "2023-02-16T11:55:26.593079",
     "status": "completed"
    },
    "tags": []
   },
   "outputs": [
    {
     "data": {
      "text/plain": [
       "array(['#FoodFriday means tasty snacks throughout the day!\\n😋💙🥄🍫\\n📷 : @flexible_nati\\n#haveaplant https://t.co/pNSAHV2hDh',\n",
       "       'F U E L E D F R I D A Y\\nLooking for a fun, colorful and healthy recipe to kick off the new year? Well, check out this delicious and beautiful dish!\\n・・・\\nEggs baked in Veggie Nests. Head over to our insta for the recipe. 🤤\\n\\n#fueledfriday #foodfriday #runinrabbit #borntorunfree https://t.co/2Fwez5uYb2',\n",
       "       'Kummer reminds you to stay hydrated #foodfriday https://t.co/rkZmatd97f',\n",
       "       'Commercial #Kitchens need attention at a great price! 🦏 Rhino Shine has a solid plan unlike #JasonGarrett future 🤷🏻\\u200d♂️. #Dallas #winning #coupons #restaurant #hood #cleaning #foodfriday #trucks https://t.co/U0V5BO33uo',\n",
       "       \"Mary's Meals is changing lives in Zimbabwe https://t.co/bioEZAt47N #feelgoodfriday #FoodFriday\",\n",
       "       'Will meat alternatives continue gaining popularity in 2020? https://t.co/wzvi1XOBmj via @YourMorning ht  @LetsTalkScience 🥬🍔🤑 #food #health #diet #nutrition #meatless #plantbased #Vegan #vegetarian #HealthyLiving #HealthyEating #BusinessGrowth #business #FoodFriday',\n",
       "       'These are our top five healthy recipes that you can throw together in the morning and enjoy in the evening (as well as take leftovers for lunch the next day).\\n#FoodFriday #EatHealthy #NewYearNewYou #PersonalTraining #FitnessTogether                       https://t.co/TiKGdeqr1p',\n",
       "       \"Burned out on cooking after the holidays? Here's a selection of quick and easy meals to get you inspired #FoodFriday\\nhttps://t.co/uLYOPeQHQc https://t.co/nyWopWqh79\",\n",
       "       'Will you eat lettuce that is not grown in soil? Large scale #Hydroponics can produce hyper local food in a small space, even shipping containers or in your own home. https://t.co/Ogy8UgHMUt #FoodFriday',\n",
       "       '#FoodFriday: Is it possible to treat things like anxiety and depression with food? https://t.co/93Ez7VwziK\\n#KinderInTheKeys #MentalHealth #Anxiety #PTSD #Depression #Trauma #Recovery #Healing #Treatment #Food #Wellness',\n",
       "       \"Foodies, this particular country is one of our FAV when it comes to FOOD!! 🥘🍲🥗🍜\\n\\nLet's see if you can guess it!! 🤓\\n\\n#FoodFriday #GuessGame #Guess #Fun #FridayThoughts #foodie https://t.co/gK3x3uMArb\",\n",
       "       'Today is usually #FoodFriday on this timeline.\\n\\nI tweet about food. \\n\\nIf you can postpone your instant gratification from bad foods, you can postpone bad habits in your life.\\n\\nHow you approach food is evidently how you approach your other aspects of life.\\n\\n#FoodFriday',\n",
       "       \"#FoodFriday\\n\\nWhat are you cookin' up today or this weekend? What's your favorite recipe? Looking for some new ideas! https://t.co/3VRQTRCxd3\",\n",
       "       'This weeks #FoodFriday is from @WoodsideBay 🍕\\n\\nWould you be interested in a #Chef position with us?\\nThen why not visit the Darwin Escapes website, locate the Careers tab and search for our Chef vacancies 😀\\n\\n#Jobs https://t.co/FWNknvURhn',\n",
       "       'Ring in the New Year with healthy eating. Checkout #ClickNCook #healthrecipe Fruity Homemade Oatmeal. https://t.co/7XR3tw6XsH\\n#FoodFriday',\n",
       "       \"'The old fool forgot the lessons of Blodeuwedd and Frankenstein: never create anything smarter, or more ruthless, than yourself.'\\n.\\n#FoodFriday featuring cheesecake (that I'd been craving since Tuesday but been too lazy to…\\n\\n📸 https://t.co/U6yxC4h3sz via https://t.co/Z51VYxAyBJ https://t.co/8f5Lqkp8hm\",\n",
       "       'African star Apple (Udara).\\nRich source of vita.C is one of the wonderful fruits offered by nature with important health benefits.\\nRanging from tackling toothache, mouth gum disease, soar throat, helps in weight loss and good for expecting mothers \\n\\n#FoodFriday\\n#CoalCityConnect https://t.co/ODyfnS8VVm',\n",
       "       '#FOODFRIDAY 🇮🇹🍫\\nIf you love chocolate, then board the first flight to California. The Nutella Pop Up Hotel is about to open. Discover more in this video. Do you know? Nutella is an Italian product...of course!\\n#italy #food #nutella #language #school… https://t.co/bgG5haT6mQ https://t.co/gw0JhCqZHE',\n",
       "       '#foodfriday @baghdadcafeCT hey offer a variety of delicious foods, from pizza to tacos and sticky wings! For your convenience they also avail on @ubereats_za https://t.co/P8sdNvfMcg',\n",
       "       'This Mangalorean special chicken curry can be paired best with neer dosa or steamed rice. What’s your pick?\\nRecipe Link: https://t.co/iyYCpcuoeA\\n#FoodFriday https://t.co/Bke1o79Zio'],\n",
       "      dtype=object)"
      ]
     },
     "execution_count": 34,
     "metadata": {},
     "output_type": "execute_result"
    }
   ],
   "source": [
    "df['text'].tail(20).values"
   ]
  },
  {
   "cell_type": "code",
   "execution_count": 35,
   "id": "30356b49",
   "metadata": {
    "execution": {
     "iopub.execute_input": "2023-02-16T11:55:26.649412Z",
     "iopub.status.busy": "2023-02-16T11:55:26.648922Z",
     "iopub.status.idle": "2023-02-16T11:55:26.657812Z",
     "shell.execute_reply": "2023-02-16T11:55:26.656558Z"
    },
    "papermill": {
     "duration": 0.026636,
     "end_time": "2023-02-16T11:55:26.660312",
     "exception": false,
     "start_time": "2023-02-16T11:55:26.633676",
     "status": "completed"
    },
    "tags": []
   },
   "outputs": [
    {
     "data": {
      "text/plain": [
       "array(['#FoodFriday means tasty snacks throughout the day!\\n\\n : @flexible_nati\\n#haveaplant https://t.co/pNSAHV2hDh face savoring food blue heart spoon chocolate bar camera',\n",
       "       'F U E L E D F R I D A Y\\nLooking for a fun, colorful and healthy recipe to kick off the new year? Well, check out this delicious and beautiful dish!\\n・・・\\nEggs baked in Veggie Nests. Head over to our insta for the recipe. \\n\\n#fueledfriday #foodfriday #runinrabbit #borntorunfree https://t.co/2Fwez5uYb2 drooling face',\n",
       "       'Kummer reminds you to stay hydrated #foodfriday https://t.co/rkZmatd97f',\n",
       "       'Commercial #Kitchens need attention at a great price!  Rhino Shine has a solid plan unlike #JasonGarrett future . #Dallas #winning #coupons #restaurant #hood #cleaning #foodfriday #trucks https://t.co/U0V5BO33uo rhinoceros man shrugging light skin tone',\n",
       "       \"Mary's Meals is changing lives in Zimbabwe https://t.co/bioEZAt47N #feelgoodfriday #FoodFriday\",\n",
       "       'Will meat alternatives continue gaining popularity in 2020? https://t.co/wzvi1XOBmj via @YourMorning ht  @LetsTalkScience  #food #health #diet #nutrition #meatless #plantbased #Vegan #vegetarian #HealthyLiving #HealthyEating #BusinessGrowth #business #FoodFriday leafy green hamburger money-mouth face',\n",
       "       'These are our top five healthy recipes that you can throw together in the morning and enjoy in the evening (as well as take leftovers for lunch the next day).\\n#FoodFriday #EatHealthy #NewYearNewYou #PersonalTraining #FitnessTogether                       https://t.co/TiKGdeqr1p',\n",
       "       \"Burned out on cooking after the holidays? Here's a selection of quick and easy meals to get you inspired #FoodFriday\\nhttps://t.co/uLYOPeQHQc https://t.co/nyWopWqh79\",\n",
       "       'Will you eat lettuce that is not grown in soil? Large scale #Hydroponics can produce hyper local food in a small space, even shipping containers or in your own home. https://t.co/Ogy8UgHMUt #FoodFriday',\n",
       "       '#FoodFriday: Is it possible to treat things like anxiety and depression with food? https://t.co/93Ez7VwziK\\n#KinderInTheKeys #MentalHealth #Anxiety #PTSD #Depression #Trauma #Recovery #Healing #Treatment #Food #Wellness',\n",
       "       \"Foodies, this particular country is one of our FAV when it comes to FOOD!! \\n\\nLet's see if you can guess it!! \\n\\n#FoodFriday #GuessGame #Guess #Fun #FridayThoughts #foodie https://t.co/gK3x3uMArb shallow pan of food pot of food green salad steaming bowl nerd face\",\n",
       "       'Today is usually #FoodFriday on this timeline.\\n\\nI tweet about food. \\n\\nIf you can postpone your instant gratification from bad foods, you can postpone bad habits in your life.\\n\\nHow you approach food is evidently how you approach your other aspects of life.\\n\\n#FoodFriday',\n",
       "       \"#FoodFriday\\n\\nWhat are you cookin' up today or this weekend? What's your favorite recipe? Looking for some new ideas! https://t.co/3VRQTRCxd3\",\n",
       "       'This weeks #FoodFriday is from @WoodsideBay \\n\\nWould you be interested in a #Chef position with us?\\nThen why not visit the Darwin Escapes website, locate the Careers tab and search for our Chef vacancies \\n\\n#Jobs https://t.co/FWNknvURhn pizza grinning face',\n",
       "       'Ring in the New Year with healthy eating. Checkout #ClickNCook #healthrecipe Fruity Homemade Oatmeal. https://t.co/7XR3tw6XsH\\n#FoodFriday',\n",
       "       \"'The old fool forgot the lessons of Blodeuwedd and Frankenstein: never create anything smarter, or more ruthless, than yourself.'\\n.\\n#FoodFriday featuring cheesecake (that I'd been craving since Tuesday but been too lazy to…\\n\\n https://t.co/U6yxC4h3sz via https://t.co/Z51VYxAyBJ https://t.co/8f5Lqkp8hm camera with flash\",\n",
       "       'African star Apple (Udara).\\nRich source of vita.C is one of the wonderful fruits offered by nature with important health benefits.\\nRanging from tackling toothache, mouth gum disease, soar throat, helps in weight loss and good for expecting mothers \\n\\n#FoodFriday\\n#CoalCityConnect https://t.co/ODyfnS8VVm',\n",
       "       '#FOODFRIDAY \\nIf you love chocolate, then board the first flight to California. The Nutella Pop Up Hotel is about to open. Discover more in this video. Do you know? Nutella is an Italian product...of course!\\n#italy #food #nutella #language #school… https://t.co/bgG5haT6mQ https://t.co/gw0JhCqZHE Italy chocolate bar',\n",
       "       '#foodfriday @baghdadcafeCT hey offer a variety of delicious foods, from pizza to tacos and sticky wings! For your convenience they also avail on @ubereats_za https://t.co/P8sdNvfMcg',\n",
       "       'This Mangalorean special chicken curry can be paired best with neer dosa or steamed rice. What’s your pick?\\nRecipe Link: https://t.co/iyYCpcuoeA\\n#FoodFriday https://t.co/Bke1o79Zio'],\n",
       "      dtype=object)"
      ]
     },
     "execution_count": 35,
     "metadata": {},
     "output_type": "execute_result"
    }
   ],
   "source": [
    "df['text_clean'].tail(20).values"
   ]
  },
  {
   "cell_type": "code",
   "execution_count": 36,
   "id": "b004c8f8",
   "metadata": {
    "execution": {
     "iopub.execute_input": "2023-02-16T11:55:26.692049Z",
     "iopub.status.busy": "2023-02-16T11:55:26.691493Z",
     "iopub.status.idle": "2023-02-16T11:55:26.700603Z",
     "shell.execute_reply": "2023-02-16T11:55:26.699305Z"
    },
    "papermill": {
     "duration": 0.028417,
     "end_time": "2023-02-16T11:55:26.703340",
     "exception": false,
     "start_time": "2023-02-16T11:55:26.674923",
     "status": "completed"
    },
    "tags": []
   },
   "outputs": [
    {
     "data": {
      "text/plain": [
       "array(['foodfriday means tasty snacks throughout the day haveaplant face savoring food blue heart spoon chocolate bar camera',\n",
       "       'f u e l e d f r i d a y looking for a fun colorful and healthy recipe to kick off the new year well check out this delicious and beautiful dish eggs baked in veggie nests head over to our insta for the recipe fueledfriday foodfriday runinrabbit borntorunfree drooling face',\n",
       "       'kummer reminds you to stay hydrated foodfriday',\n",
       "       'commercial kitchens need attention at a great price rhino shine has a solid plan unlike jasongarrett future dallas winning coupons restaurant hood cleaning foodfriday trucks rhinoceros man shrugging light skin tone',\n",
       "       'marys meals is changing lives in zimbabwe feelgoodfriday foodfriday',\n",
       "       'will meat alternatives continue gaining popularity in 2020 via ht food health diet nutrition meatless plantbased vegan vegetarian healthyliving healthyeating businessgrowth business foodfriday leafy green hamburger moneymouth face',\n",
       "       'these are our top five healthy recipes that you can throw together in the morning and enjoy in the evening as well as take leftovers for lunch the next day foodfriday eathealthy newyearnewyou personaltraining fitnesstogether',\n",
       "       'burned out on cooking after the holidays heres a selection of quick and easy meals to get you inspired foodfriday',\n",
       "       'will you eat lettuce that is not grown in soil large scale hydroponics can produce hyper local food in a small space even shipping containers or in your own home foodfriday',\n",
       "       'foodfriday is it possible to treat things like anxiety and depression with food kinderinthekeys mentalhealth anxiety ptsd depression trauma recovery healing treatment food wellness',\n",
       "       'foodies this particular country is one of our fav when it comes to food lets see if you can guess it foodfriday guessgame guess fun fridaythoughts foodie shallow pan of food pot of food green salad steaming bowl nerd face',\n",
       "       'today is usually foodfriday on this timeline i tweet about food if you can postpone your instant gratification from bad foods you can postpone bad habits in your life how you approach food is evidently how you approach your other aspects of life foodfriday',\n",
       "       'foodfriday what are you cookin up today or this weekend whats your favorite recipe looking for some new ideas',\n",
       "       'this weeks foodfriday is from would you be interested in a chef position with us then why not visit the darwin escapes website locate the careers tab and search for our chef vacancies jobs pizza grinning face',\n",
       "       'ring in the new year with healthy eating checkout clickncook healthrecipe fruity homemade oatmeal foodfriday',\n",
       "       'the old fool forgot the lessons of blodeuwedd and frankenstein never create anything smarter or more ruthless than yourself foodfriday featuring cheesecake that id been craving since tuesday but been too lazy to via camera with flash',\n",
       "       'african star apple udara rich source of vitac is one of the wonderful fruits offered by nature with important health benefits ranging from tackling toothache mouth gum disease soar throat helps in weight loss and good for expecting mothers foodfriday coalcityconnect',\n",
       "       'foodfriday if you love chocolate then board the first flight to california the nutella pop up hotel is about to open discover more in this video do you know nutella is an italian productof course italy food nutella language school italy chocolate bar',\n",
       "       'foodfriday hey offer a variety of delicious foods from pizza to tacos and sticky wings for your convenience they also avail on',\n",
       "       'this mangalorean special chicken curry can be paired best with neer dosa or steamed rice whats your pick recipe link foodfriday'],\n",
       "      dtype=object)"
      ]
     },
     "execution_count": 36,
     "metadata": {},
     "output_type": "execute_result"
    }
   ],
   "source": [
    "df['text_clean_deeper'].tail(20).values"
   ]
  },
  {
   "cell_type": "code",
   "execution_count": 37,
   "id": "a6a789c7",
   "metadata": {
    "execution": {
     "iopub.execute_input": "2023-02-16T11:55:26.733305Z",
     "iopub.status.busy": "2023-02-16T11:55:26.732888Z",
     "iopub.status.idle": "2023-02-16T11:55:27.119618Z",
     "shell.execute_reply": "2023-02-16T11:55:27.118123Z"
    },
    "papermill": {
     "duration": 0.405044,
     "end_time": "2023-02-16T11:55:27.122467",
     "exception": false,
     "start_time": "2023-02-16T11:55:26.717423",
     "status": "completed"
    },
    "tags": []
   },
   "outputs": [],
   "source": [
    "text_len = []\n",
    "\n",
    "for text in df.text_clean_deeper:\n",
    "    tweet_len = len(text.split())\n",
    "    \n",
    "    text_len.append(tweet_len)"
   ]
  },
  {
   "cell_type": "code",
   "execution_count": 38,
   "id": "aa777344",
   "metadata": {
    "execution": {
     "iopub.execute_input": "2023-02-16T11:55:27.152386Z",
     "iopub.status.busy": "2023-02-16T11:55:27.151962Z",
     "iopub.status.idle": "2023-02-16T11:55:27.225896Z",
     "shell.execute_reply": "2023-02-16T11:55:27.224534Z"
    },
    "papermill": {
     "duration": 0.092005,
     "end_time": "2023-02-16T11:55:27.228534",
     "exception": false,
     "start_time": "2023-02-16T11:55:27.136529",
     "status": "completed"
    },
    "tags": []
   },
   "outputs": [],
   "source": [
    "df['text_len'] = text_len"
   ]
  },
  {
   "cell_type": "code",
   "execution_count": 39,
   "id": "c27efba2",
   "metadata": {
    "execution": {
     "iopub.execute_input": "2023-02-16T11:55:27.258572Z",
     "iopub.status.busy": "2023-02-16T11:55:27.257853Z",
     "iopub.status.idle": "2023-02-16T11:55:27.282959Z",
     "shell.execute_reply": "2023-02-16T11:55:27.281731Z"
    },
    "papermill": {
     "duration": 0.043144,
     "end_time": "2023-02-16T11:55:27.285671",
     "exception": false,
     "start_time": "2023-02-16T11:55:27.242527",
     "status": "completed"
    },
    "tags": []
   },
   "outputs": [
    {
     "data": {
      "text/html": [
       "<div>\n",
       "<style scoped>\n",
       "    .dataframe tbody tr th:only-of-type {\n",
       "        vertical-align: middle;\n",
       "    }\n",
       "\n",
       "    .dataframe tbody tr th {\n",
       "        vertical-align: top;\n",
       "    }\n",
       "\n",
       "    .dataframe thead th {\n",
       "        text-align: right;\n",
       "    }\n",
       "</style>\n",
       "<table border=\"1\" class=\"dataframe\">\n",
       "  <thead>\n",
       "    <tr style=\"text-align: right;\">\n",
       "      <th></th>\n",
       "      <th>tweet_created_at</th>\n",
       "      <th>text</th>\n",
       "      <th>Sentiment</th>\n",
       "      <th>text_clean</th>\n",
       "      <th>text_clean_deeper</th>\n",
       "      <th>text_len</th>\n",
       "    </tr>\n",
       "  </thead>\n",
       "  <tbody>\n",
       "    <tr>\n",
       "      <th>0</th>\n",
       "      <td>2022-12-30 22:37:46+00:00</td>\n",
       "      <td>Men who have refused to listen to/attend @amer...</td>\n",
       "      <td>Negative</td>\n",
       "      <td>Men who have refused to listen to/attend @amer...</td>\n",
       "      <td>men who have refused to listen toattend classe...</td>\n",
       "      <td>36</td>\n",
       "    </tr>\n",
       "    <tr>\n",
       "      <th>1</th>\n",
       "      <td>2022-12-30 22:30:58+00:00</td>\n",
       "      <td>@OvOBrezzzy Take amerix next</td>\n",
       "      <td>Neutral</td>\n",
       "      <td>@OvOBrezzzy Take amerix next</td>\n",
       "      <td>take amerix next</td>\n",
       "      <td>3</td>\n",
       "    </tr>\n",
       "    <tr>\n",
       "      <th>2</th>\n",
       "      <td>2022-12-30 22:18:00+00:00</td>\n",
       "      <td>@AyodeleYo11 @amerix Nah I’m good my masculini...</td>\n",
       "      <td>Positive</td>\n",
       "      <td>@AyodeleYo11 @amerix Nah I’m good my masculini...</td>\n",
       "      <td>nah im good my masculinity health and wellness...</td>\n",
       "      <td>12</td>\n",
       "    </tr>\n",
       "    <tr>\n",
       "      <th>3</th>\n",
       "      <td>2022-12-30 20:42:54+00:00</td>\n",
       "      <td>@Amerix_DontSimp There is no need for dating i...</td>\n",
       "      <td>Negative</td>\n",
       "      <td>@Amerix_DontSimp There is no need for dating i...</td>\n",
       "      <td>there is no need for dating in the first place</td>\n",
       "      <td>10</td>\n",
       "    </tr>\n",
       "    <tr>\n",
       "      <th>4</th>\n",
       "      <td>2022-12-30 20:32:23+00:00</td>\n",
       "      <td>@DyeAnna7 @amerix @kibe From what cos nothing ...</td>\n",
       "      <td>Positive</td>\n",
       "      <td>@DyeAnna7 @amerix @kibe From what cos nothing ...</td>\n",
       "      <td>from what cos nothing is changing and if we go...</td>\n",
       "      <td>45</td>\n",
       "    </tr>\n",
       "  </tbody>\n",
       "</table>\n",
       "</div>"
      ],
      "text/plain": [
       "           tweet_created_at  \\\n",
       "0 2022-12-30 22:37:46+00:00   \n",
       "1 2022-12-30 22:30:58+00:00   \n",
       "2 2022-12-30 22:18:00+00:00   \n",
       "3 2022-12-30 20:42:54+00:00   \n",
       "4 2022-12-30 20:32:23+00:00   \n",
       "\n",
       "                                                text Sentiment  \\\n",
       "0  Men who have refused to listen to/attend @amer...  Negative   \n",
       "1                       @OvOBrezzzy Take amerix next   Neutral   \n",
       "2  @AyodeleYo11 @amerix Nah I’m good my masculini...  Positive   \n",
       "3  @Amerix_DontSimp There is no need for dating i...  Negative   \n",
       "4  @DyeAnna7 @amerix @kibe From what cos nothing ...  Positive   \n",
       "\n",
       "                                          text_clean  \\\n",
       "0  Men who have refused to listen to/attend @amer...   \n",
       "1                       @OvOBrezzzy Take amerix next   \n",
       "2  @AyodeleYo11 @amerix Nah I’m good my masculini...   \n",
       "3  @Amerix_DontSimp There is no need for dating i...   \n",
       "4  @DyeAnna7 @amerix @kibe From what cos nothing ...   \n",
       "\n",
       "                                   text_clean_deeper  text_len  \n",
       "0  men who have refused to listen toattend classe...        36  \n",
       "1                                   take amerix next         3  \n",
       "2  nah im good my masculinity health and wellness...        12  \n",
       "3     there is no need for dating in the first place        10  \n",
       "4  from what cos nothing is changing and if we go...        45  "
      ]
     },
     "execution_count": 39,
     "metadata": {},
     "output_type": "execute_result"
    }
   ],
   "source": [
    "df.head(5)"
   ]
  },
  {
   "cell_type": "code",
   "execution_count": 40,
   "id": "59f794ee",
   "metadata": {
    "execution": {
     "iopub.execute_input": "2023-02-16T11:55:27.316295Z",
     "iopub.status.busy": "2023-02-16T11:55:27.315861Z",
     "iopub.status.idle": "2023-02-16T11:55:27.385177Z",
     "shell.execute_reply": "2023-02-16T11:55:27.384009Z"
    },
    "papermill": {
     "duration": 0.087859,
     "end_time": "2023-02-16T11:55:27.388079",
     "exception": false,
     "start_time": "2023-02-16T11:55:27.300220",
     "status": "completed"
    },
    "tags": []
   },
   "outputs": [],
   "source": [
    "df = df[['tweet_created_at', 'text', 'text_clean_deeper', 'Sentiment', 'text_len']]"
   ]
  },
  {
   "cell_type": "code",
   "execution_count": 41,
   "id": "eabbe334",
   "metadata": {
    "execution": {
     "iopub.execute_input": "2023-02-16T11:55:27.418207Z",
     "iopub.status.busy": "2023-02-16T11:55:27.417748Z",
     "iopub.status.idle": "2023-02-16T11:55:27.431323Z",
     "shell.execute_reply": "2023-02-16T11:55:27.430150Z"
    },
    "papermill": {
     "duration": 0.031451,
     "end_time": "2023-02-16T11:55:27.433736",
     "exception": false,
     "start_time": "2023-02-16T11:55:27.402285",
     "status": "completed"
    },
    "tags": []
   },
   "outputs": [
    {
     "data": {
      "text/html": [
       "<div>\n",
       "<style scoped>\n",
       "    .dataframe tbody tr th:only-of-type {\n",
       "        vertical-align: middle;\n",
       "    }\n",
       "\n",
       "    .dataframe tbody tr th {\n",
       "        vertical-align: top;\n",
       "    }\n",
       "\n",
       "    .dataframe thead th {\n",
       "        text-align: right;\n",
       "    }\n",
       "</style>\n",
       "<table border=\"1\" class=\"dataframe\">\n",
       "  <thead>\n",
       "    <tr style=\"text-align: right;\">\n",
       "      <th></th>\n",
       "      <th>tweet_created_at</th>\n",
       "      <th>text</th>\n",
       "      <th>text_clean_deeper</th>\n",
       "      <th>Sentiment</th>\n",
       "      <th>text_len</th>\n",
       "    </tr>\n",
       "  </thead>\n",
       "  <tbody>\n",
       "    <tr>\n",
       "      <th>0</th>\n",
       "      <td>2022-12-30 22:37:46+00:00</td>\n",
       "      <td>Men who have refused to listen to/attend @amer...</td>\n",
       "      <td>men who have refused to listen toattend classe...</td>\n",
       "      <td>Negative</td>\n",
       "      <td>36</td>\n",
       "    </tr>\n",
       "    <tr>\n",
       "      <th>1</th>\n",
       "      <td>2022-12-30 22:30:58+00:00</td>\n",
       "      <td>@OvOBrezzzy Take amerix next</td>\n",
       "      <td>take amerix next</td>\n",
       "      <td>Neutral</td>\n",
       "      <td>3</td>\n",
       "    </tr>\n",
       "    <tr>\n",
       "      <th>2</th>\n",
       "      <td>2022-12-30 22:18:00+00:00</td>\n",
       "      <td>@AyodeleYo11 @amerix Nah I’m good my masculini...</td>\n",
       "      <td>nah im good my masculinity health and wellness...</td>\n",
       "      <td>Positive</td>\n",
       "      <td>12</td>\n",
       "    </tr>\n",
       "    <tr>\n",
       "      <th>3</th>\n",
       "      <td>2022-12-30 20:42:54+00:00</td>\n",
       "      <td>@Amerix_DontSimp There is no need for dating i...</td>\n",
       "      <td>there is no need for dating in the first place</td>\n",
       "      <td>Negative</td>\n",
       "      <td>10</td>\n",
       "    </tr>\n",
       "    <tr>\n",
       "      <th>4</th>\n",
       "      <td>2022-12-30 20:32:23+00:00</td>\n",
       "      <td>@DyeAnna7 @amerix @kibe From what cos nothing ...</td>\n",
       "      <td>from what cos nothing is changing and if we go...</td>\n",
       "      <td>Positive</td>\n",
       "      <td>45</td>\n",
       "    </tr>\n",
       "  </tbody>\n",
       "</table>\n",
       "</div>"
      ],
      "text/plain": [
       "           tweet_created_at  \\\n",
       "0 2022-12-30 22:37:46+00:00   \n",
       "1 2022-12-30 22:30:58+00:00   \n",
       "2 2022-12-30 22:18:00+00:00   \n",
       "3 2022-12-30 20:42:54+00:00   \n",
       "4 2022-12-30 20:32:23+00:00   \n",
       "\n",
       "                                                text  \\\n",
       "0  Men who have refused to listen to/attend @amer...   \n",
       "1                       @OvOBrezzzy Take amerix next   \n",
       "2  @AyodeleYo11 @amerix Nah I’m good my masculini...   \n",
       "3  @Amerix_DontSimp There is no need for dating i...   \n",
       "4  @DyeAnna7 @amerix @kibe From what cos nothing ...   \n",
       "\n",
       "                                   text_clean_deeper Sentiment  text_len  \n",
       "0  men who have refused to listen toattend classe...  Negative        36  \n",
       "1                                   take amerix next   Neutral         3  \n",
       "2  nah im good my masculinity health and wellness...  Positive        12  \n",
       "3     there is no need for dating in the first place  Negative        10  \n",
       "4  from what cos nothing is changing and if we go...  Positive        45  "
      ]
     },
     "execution_count": 41,
     "metadata": {},
     "output_type": "execute_result"
    }
   ],
   "source": [
    "df.head(5)"
   ]
  },
  {
   "cell_type": "code",
   "execution_count": 42,
   "id": "2ed2e370",
   "metadata": {
    "execution": {
     "iopub.execute_input": "2023-02-16T11:55:27.464730Z",
     "iopub.status.busy": "2023-02-16T11:55:27.464331Z",
     "iopub.status.idle": "2023-02-16T11:55:27.792665Z",
     "shell.execute_reply": "2023-02-16T11:55:27.791049Z"
    },
    "papermill": {
     "duration": 0.347315,
     "end_time": "2023-02-16T11:55:27.795699",
     "exception": false,
     "start_time": "2023-02-16T11:55:27.448384",
     "status": "completed"
    },
    "tags": []
   },
   "outputs": [
    {
     "data": {
      "image/png": "[encoded data removed]",
      "text/plain": [
       "<Figure size 700x500 with 1 Axes>"
      ]
     },
     "metadata": {},
     "output_type": "display_data"
    }
   ],
   "source": [
    "plt.figure(figsize=(7,5))\n",
    "\n",
    "ax = sns.countplot(x='text_len', data=df[df['text_len']<10], palette='Greens')\n",
    "\n",
    "plt.title('Tweets with less than 10 words')\n",
    "plt.yticks([])\n",
    "ax.bar_label(ax.containers[0])\n",
    "\n",
    "plt.ylabel('count')\n",
    "plt.xlabel('')\n",
    "plt.show()"
   ]
  },
  {
   "cell_type": "code",
   "execution_count": null,
   "id": "e5fce4c5",
   "metadata": {
    "papermill": {
     "duration": 0.014948,
     "end_time": "2023-02-16T11:55:27.826075",
     "exception": false,
     "start_time": "2023-02-16T11:55:27.811127",
     "status": "completed"
    },
    "tags": []
   },
   "outputs": [],
   "source": []
  }
 ],
 "metadata": {
  "kernelspec": {
   "display_name": "Python 3",
   "language": "python",
   "name": "python3"
  },
  "language_info": {
   "codemirror_mode": {
    "name": "ipython",
    "version": 3
   },
   "file_extension": ".py",
   "mimetype": "text/x-python",
   "name": "python",
   "nbconvert_exporter": "python",
   "pygments_lexer": "ipython3",
   "version": "3.7.12"
  },
  "papermill": {
   "default_parameters": {},
   "duration": 120.293217,
   "end_time": "2023-02-16T11:55:31.014335",
   "environment_variables": {},
   "exception": null,
   "input_path": "__notebook__.ipynb",
   "output_path": "__notebook__.ipynb",
   "parameters": {},
   "start_time": "2023-02-16T11:53:30.721118",
   "version": "2.3.4"
  },
  "widgets": {
   "application/vnd.jupyter.widget-state+json": {
    "state": {
     "005ac29fc0544dea8335bfbc5d779fec": {
      "model_module": "@jupyter-widgets/controls",
      "model_module_version": "1.5.0",
      "model_name": "DescriptionStyleModel",
      "state": {
       "_model_module": "@jupyter-widgets/controls",
       "_model_module_version": "1.5.0",
       "_model_name": "DescriptionStyleModel",
       "_view_count": null,
       "_view_module": "@jupyter-widgets/base",
       "_view_module_version": "1.2.0",
       "_view_name": "StyleView",
       "description_width": ""
      }
     },
     "0258cd6eab264bd1a22a6958f4f87be3": {
      "model_module": "@jupyter-widgets/controls",
      "model_module_version": "1.5.0",
      "model_name": "FloatProgressModel",
      "state": {
       "_dom_classes": [],
       "_model_module": "@jupyter-widgets/controls",
       "_model_module_version": "1.5.0",
       "_model_name": "FloatProgressModel",
       "_view_count": null,
       "_view_module": "@jupyter-widgets/controls",
       "_view_module_version": "1.5.0",
       "_view_name": "ProgressView",
       "bar_style": "success",
       "description": "",
       "description_tooltip": null,
       "layout": "IPY_MODEL_95d9471689b84981a232b609bbbc9a83",
       "max": 28.0,
       "min": 0.0,
       "orientation": "horizontal",
       "style": "IPY_MODEL_6953232b6c194f49ad09808deb7c4959",
       "value": 28.0
      }
     },
     "057ce0a8da41407e9456c50ff73978a8": {
      "model_module": "@jupyter-widgets/controls",
      "model_module_version": "1.5.0",
      "model_name": "HTMLModel",
      "state": {
       "_dom_classes": [],
       "_model_module": "@jupyter-widgets/controls",
       "_model_module_version": "1.5.0",
       "_model_name": "HTMLModel",
       "_view_count": null,
       "_view_module": "@jupyter-widgets/controls",
       "_view_module_version": "1.5.0",
       "_view_name": "HTMLView",
       "description": "",
       "description_tooltip": null,
       "layout": "IPY_MODEL_ad68a417ecc945be8076f2df600710d2",
       "placeholder": "​",
       "style": "IPY_MODEL_179c5dde60d141a1bdf11a2d48fd562b",
       "value": "Downloading: 100%"
      }
     },
     "0a005760f7104b66a59deefb0a322b5b": {
      "model_module": "@jupyter-widgets/base",
      "model_module_version": "1.2.0",
      "model_name": "LayoutModel",
      "state": {
       "_model_module": "@jupyter-widgets/base",
       "_model_module_version": "1.2.0",
       "_model_name": "LayoutModel",
       "_view_count": null,
       "_view_module": "@jupyter-widgets/base",
       "_view_module_version": "1.2.0",
       "_view_name": "LayoutView",
       "align_content": null,
       "align_items": null,
       "align_self": null,
       "border": null,
       "bottom": null,
       "display": null,
       "flex": null,
       "flex_flow": null,
       "grid_area": null,
       "grid_auto_columns": null,
       "grid_auto_flow": null,
       "grid_auto_rows": null,
       "grid_column": null,
       "grid_gap": null,
       "grid_row": null,
       "grid_template_areas": null,
       "grid_template_columns": null,
       "grid_template_rows": null,
       "height": null,
       "justify_content": null,
       "justify_items": null,
       "left": null,
       "margin": null,
       "max_height": null,
       "max_width": null,
       "min_height": null,
       "min_width": null,
       "object_fit": null,
       "object_position": null,
       "order": null,
       "overflow": null,
       "overflow_x": null,
       "overflow_y": null,
       "padding": null,
       "right": null,
       "top": null,
       "visibility": null,
       "width": null
      }
     },
     "0b2e4efde5814ec481a1da3272c06d4e": {
      "model_module": "@jupyter-widgets/base",
      "model_module_version": "1.2.0",
      "model_name": "LayoutModel",
      "state": {
       "_model_module": "@jupyter-widgets/base",
       "_model_module_version": "1.2.0",
       "_model_name": "LayoutModel",
       "_view_count": null,
       "_view_module": "@jupyter-widgets/base",
       "_view_module_version": "1.2.0",
       "_view_name": "LayoutView",
       "align_content": null,
       "align_items": null,
       "align_self": null,
       "border": null,
       "bottom": null,
       "display": null,
       "flex": null,
       "flex_flow": null,
       "grid_area": null,
       "grid_auto_columns": null,
       "grid_auto_flow": null,
       "grid_auto_rows": null,
       "grid_column": null,
       "grid_gap": null,
       "grid_row": null,
       "grid_template_areas": null,
       "grid_template_columns": null,
       "grid_template_rows": null,
       "height": null,
       "justify_content": null,
       "justify_items": null,
       "left": null,
       "margin": null,
       "max_height": null,
       "max_width": null,
       "min_height": null,
       "min_width": null,
       "object_fit": null,
       "object_position": null,
       "order": null,
       "overflow": null,
       "overflow_x": null,
       "overflow_y": null,
       "padding": null,
       "right": null,
       "top": null,
       "visibility": null,
       "width": null
      }
     },
     "0d2e40a858134afcb4d0efd43202b59c": {
      "model_module": "@jupyter-widgets/base",
      "model_module_version": "1.2.0",
      "model_name": "LayoutModel",
      "state": {
       "_model_module": "@jupyter-widgets/base",
       "_model_module_version": "1.2.0",
       "_model_name": "LayoutModel",
       "_view_count": null,
       "_view_module": "@jupyter-widgets/base",
       "_view_module_version": "1.2.0",
       "_view_name": "LayoutView",
       "align_content": null,
       "align_items": null,
       "align_self": null,
       "border": null,
       "bottom": null,
       "display": null,
       "flex": null,
       "flex_flow": null,
       "grid_area": null,
       "grid_auto_columns": null,
       "grid_auto_flow": null,
       "grid_auto_rows": null,
       "grid_column": null,
       "grid_gap": null,
       "grid_row": null,
       "grid_template_areas": null,
       "grid_template_columns": null,
       "grid_template_rows": null,
       "height": null,
       "justify_content": null,
       "justify_items": null,
       "left": null,
       "margin": null,
       "max_height": null,
       "max_width": null,
       "min_height": null,
       "min_width": null,
       "object_fit": null,
       "object_position": null,
       "order": null,
       "overflow": null,
       "overflow_x": null,
       "overflow_y": null,
       "padding": null,
       "right": null,
       "top": null,
       "visibility": null,
       "width": null
      }
     },
     "0da6b7ddf541489c9088addfd4de9e8d": {
      "model_module": "@jupyter-widgets/controls",
      "model_module_version": "1.5.0",
      "model_name": "HTMLModel",
      "state": {
       "_dom_classes": [],
       "_model_module": "@jupyter-widgets/controls",
       "_model_module_version": "1.5.0",
       "_model_name": "HTMLModel",
       "_view_count": null,
       "_view_module": "@jupyter-widgets/controls",
       "_view_module_version": "1.5.0",
       "_view_name": "HTMLView",
       "description": "",
       "description_tooltip": null,
       "layout": "IPY_MODEL_710d7580d8a44e4da9ddc46b40a86df2",
       "placeholder": "​",
       "style": "IPY_MODEL_79c4bbf901bb497b9aae6bb5817fb40d",
       "value": "Downloading: 100%"
      }
     },
     "0ff2158ba22c4eb9a3062b388fb16fbc": {
      "model_module": "@jupyter-widgets/base",
      "model_module_version": "1.2.0",
      "model_name": "LayoutModel",
      "state": {
       "_model_module": "@jupyter-widgets/base",
       "_model_module_version": "1.2.0",
       "_model_name": "LayoutModel",
       "_view_count": null,
       "_view_module": "@jupyter-widgets/base",
       "_view_module_version": "1.2.0",
       "_view_name": "LayoutView",
       "align_content": null,
       "align_items": null,
       "align_self": null,
       "border": null,
       "bottom": null,
       "display": null,
       "flex": null,
       "flex_flow": null,
       "grid_area": null,
       "grid_auto_columns": null,
       "grid_auto_flow": null,
       "grid_auto_rows": null,
       "grid_column": null,
       "grid_gap": null,
       "grid_row": null,
       "grid_template_areas": null,
       "grid_template_columns": null,
       "grid_template_rows": null,
       "height": null,
       "justify_content": null,
       "justify_items": null,
       "left": null,
       "margin": null,
       "max_height": null,
       "max_width": null,
       "min_height": null,
       "min_width": null,
       "object_fit": null,
       "object_position": null,
       "order": null,
       "overflow": null,
       "overflow_x": null,
       "overflow_y": null,
       "padding": null,
       "right": null,
       "top": null,
       "visibility": null,
       "width": null
      }
     },
     "113e9c7c40794d98ab734c8bce4eda2b": {
      "model_module": "@jupyter-widgets/controls",
      "model_module_version": "1.5.0",
      "model_name": "HTMLModel",
      "state": {
       "_dom_classes": [],
       "_model_module": "@jupyter-widgets/controls",
       "_model_module_version": "1.5.0",
       "_model_name": "HTMLModel",
       "_view_count": null,
       "_view_module": "@jupyter-widgets/controls",
       "_view_module_version": "1.5.0",
       "_view_name": "HTMLView",
       "description": "",
       "description_tooltip": null,
       "layout": "IPY_MODEL_42ca87204ad649159799725c16d3437f",
       "placeholder": "​",
       "style": "IPY_MODEL_50ed774cca674ce79c2ae5390725cb5b",
       "value": " 455k/455k [00:00&lt;00:00, 779kB/s]"
      }
     },
     "13b81d34d7454ec9a9c9537fb26ccdf7": {
      "model_module": "@jupyter-widgets/controls",
      "model_module_version": "1.5.0",
      "model_name": "DescriptionStyleModel",
      "state": {
       "_model_module": "@jupyter-widgets/controls",
       "_model_module_version": "1.5.0",
       "_model_name": "DescriptionStyleModel",
       "_view_count": null,
       "_view_module": "@jupyter-widgets/base",
       "_view_module_version": "1.2.0",
       "_view_name": "StyleView",
       "description_width": ""
      }
     },
     "14f5cafe0ced4c08a65810b90a4fa36f": {
      "model_module": "@jupyter-widgets/base",
      "model_module_version": "1.2.0",
      "model_name": "LayoutModel",
      "state": {
       "_model_module": "@jupyter-widgets/base",
       "_model_module_version": "1.2.0",
       "_model_name": "LayoutModel",
       "_view_count": null,
       "_view_module": "@jupyter-widgets/base",
       "_view_module_version": "1.2.0",
       "_view_name": "LayoutView",
       "align_content": null,
       "align_items": null,
       "align_self": null,
       "border": null,
       "bottom": null,
       "display": null,
       "flex": null,
       "flex_flow": null,
       "grid_area": null,
       "grid_auto_columns": null,
       "grid_auto_flow": null,
       "grid_auto_rows": null,
       "grid_column": null,
       "grid_gap": null,
       "grid_row": null,
       "grid_template_areas": null,
       "grid_template_columns": null,
       "grid_template_rows": null,
       "height": null,
       "justify_content": null,
       "justify_items": null,
       "left": null,
       "margin": null,
       "max_height": null,
       "max_width": null,
       "min_height": null,
       "min_width": null,
       "object_fit": null,
       "object_position": null,
       "order": null,
       "overflow": null,
       "overflow_x": null,
       "overflow_y": null,
       "padding": null,
       "right": null,
       "top": null,
       "visibility": null,
       "width": null
      }
     },
     "1554a92f69f3471ba43f6ba858d8b607": {
      "model_module": "@jupyter-widgets/controls",
      "model_module_version": "1.5.0",
      "model_name": "HTMLModel",
      "state": {
       "_dom_classes": [],
       "_model_module": "@jupyter-widgets/controls",
       "_model_module_version": "1.5.0",
       "_model_name": "HTMLModel",
       "_view_count": null,
       "_view_module": "@jupyter-widgets/controls",
       "_view_module_version": "1.5.0",
       "_view_name": "HTMLView",
       "description": "",
       "description_tooltip": null,
       "layout": "IPY_MODEL_a46a15dca3104ef184891ef404622581",
       "placeholder": "​",
       "style": "IPY_MODEL_13b81d34d7454ec9a9c9537fb26ccdf7",
       "value": " 656/656 [00:00&lt;00:00, 23.6kB/s]"
      }
     },
     "16a381cff7b84d11ade0c189eae7bd04": {
      "model_module": "@jupyter-widgets/controls",
      "model_module_version": "1.5.0",
      "model_name": "FloatProgressModel",
      "state": {
       "_dom_classes": [],
       "_model_module": "@jupyter-widgets/controls",
       "_model_module_version": "1.5.0",
       "_model_name": "FloatProgressModel",
       "_view_count": null,
       "_view_module": "@jupyter-widgets/controls",
       "_view_module_version": "1.5.0",
       "_view_name": "ProgressView",
       "bar_style": "success",
       "description": "",
       "description_tooltip": null,
       "layout": "IPY_MODEL_80ad2b611d1a49b3b49571e5163c9e64",
       "max": 570.0,
       "min": 0.0,
       "orientation": "horizontal",
       "style": "IPY_MODEL_adfccf545fa84bc88db650bc491f5813",
       "value": 570.0
      }
     },
     "179c5dde60d141a1bdf11a2d48fd562b": {
      "model_module": "@jupyter-widgets/controls",
      "model_module_version": "1.5.0",
      "model_name": "DescriptionStyleModel",
      "state": {
       "_model_module": "@jupyter-widgets/controls",
       "_model_module_version": "1.5.0",
       "_model_name": "DescriptionStyleModel",
       "_view_count": null,
       "_view_module": "@jupyter-widgets/base",
       "_view_module_version": "1.2.0",
       "_view_name": "StyleView",
       "description_width": ""
      }
     },
     "18ac0d8d88114bff9c4ca610a7a25961": {
      "model_module": "@jupyter-widgets/base",
      "model_module_version": "1.2.0",
      "model_name": "LayoutModel",
      "state": {
       "_model_module": "@jupyter-widgets/base",
       "_model_module_version": "1.2.0",
       "_model_name": "LayoutModel",
       "_view_count": null,
       "_view_module": "@jupyter-widgets/base",
       "_view_module_version": "1.2.0",
       "_view_name": "LayoutView",
       "align_content": null,
       "align_items": null,
       "align_self": null,
       "border": null,
       "bottom": null,
       "display": null,
       "flex": null,
       "flex_flow": null,
       "grid_area": null,
       "grid_auto_columns": null,
       "grid_auto_flow": null,
       "grid_auto_rows": null,
       "grid_column": null,
       "grid_gap": null,
       "grid_row": null,
       "grid_template_areas": null,
       "grid_template_columns": null,
       "grid_template_rows": null,
       "height": null,
       "justify_content": null,
       "justify_items": null,
       "left": null,
       "margin": null,
       "max_height": null,
       "max_width": null,
       "min_height": null,
       "min_width": null,
       "object_fit": null,
       "object_position": null,
       "order": null,
       "overflow": null,
       "overflow_x": null,
       "overflow_y": null,
       "padding": null,
       "right": null,
       "top": null,
       "visibility": null,
       "width": null
      }
     },
     "19466cf781064ddc950cb0f80e172c77": {
      "model_module": "@jupyter-widgets/controls",
      "model_module_version": "1.5.0",
      "model_name": "HBoxModel",
      "state": {
       "_dom_classes": [],
       "_model_module": "@jupyter-widgets/controls",
       "_model_module_version": "1.5.0",
       "_model_name": "HBoxModel",
       "_view_count": null,
       "_view_module": "@jupyter-widgets/controls",
       "_view_module_version": "1.5.0",
       "_view_name": "HBoxView",
       "box_style": "",
       "children": [
        "IPY_MODEL_057ce0a8da41407e9456c50ff73978a8",
        "IPY_MODEL_5093edd23b674e4784f85b6068b2319f",
        "IPY_MODEL_1554a92f69f3471ba43f6ba858d8b607"
       ],
       "layout": "IPY_MODEL_eb9e0444163d47d491af3f81869ec772"
      }
     },
     "1d2951642ab34570bd4c7307cace7058": {
      "model_module": "@jupyter-widgets/base",
      "model_module_version": "1.2.0",
      "model_name": "LayoutModel",
      "state": {
       "_model_module": "@jupyter-widgets/base",
       "_model_module_version": "1.2.0",
       "_model_name": "LayoutModel",
       "_view_count": null,
       "_view_module": "@jupyter-widgets/base",
       "_view_module_version": "1.2.0",
       "_view_name": "LayoutView",
       "align_content": null,
       "align_items": null,
       "align_self": null,
       "border": null,
       "bottom": null,
       "display": null,
       "flex": null,
       "flex_flow": null,
       "grid_area": null,
       "grid_auto_columns": null,
       "grid_auto_flow": null,
       "grid_auto_rows": null,
       "grid_column": null,
       "grid_gap": null,
       "grid_row": null,
       "grid_template_areas": null,
       "grid_template_columns": null,
       "grid_template_rows": null,
       "height": null,
       "justify_content": null,
       "justify_items": null,
       "left": null,
       "margin": null,
       "max_height": null,
       "max_width": null,
       "min_height": null,
       "min_width": null,
       "object_fit": null,
       "object_position": null,
       "order": null,
       "overflow": null,
       "overflow_x": null,
       "overflow_y": null,
       "padding": null,
       "right": null,
       "top": null,
       "visibility": null,
       "width": null
      }
     },
     "1fbca14c89b844268874e6932847f30e": {
      "model_module": "@jupyter-widgets/controls",
      "model_module_version": "1.5.0",
      "model_name": "HTMLModel",
      "state": {
       "_dom_classes": [],
       "_model_module": "@jupyter-widgets/controls",
       "_model_module_version": "1.5.0",
       "_model_name": "HTMLModel",
       "_view_count": null,
       "_view_module": "@jupyter-widgets/controls",
       "_view_module_version": "1.5.0",
       "_view_name": "HTMLView",
       "description": "",
       "description_tooltip": null,
       "layout": "IPY_MODEL_0a005760f7104b66a59deefb0a322b5b",
       "placeholder": "​",
       "style": "IPY_MODEL_4532463d0e644e039b4caabc012f41f9",
       "value": " 28.0/28.0 [00:00&lt;00:00, 870B/s]"
      }
     },
     "22cc4b48781d4c228adac401eecc0d97": {
      "model_module": "@jupyter-widgets/controls",
      "model_module_version": "1.5.0",
      "model_name": "HTMLModel",
      "state": {
       "_dom_classes": [],
       "_model_module": "@jupyter-widgets/controls",
       "_model_module_version": "1.5.0",
       "_model_name": "HTMLModel",
       "_view_count": null,
       "_view_module": "@jupyter-widgets/controls",
       "_view_module_version": "1.5.0",
       "_view_name": "HTMLView",
       "description": "",
       "description_tooltip": null,
       "layout": "IPY_MODEL_0ff2158ba22c4eb9a3062b388fb16fbc",
       "placeholder": "​",
       "style": "IPY_MODEL_005ac29fc0544dea8335bfbc5d779fec",
       "value": "Downloading: 100%"
      }
     },
     "246088b287774a06a3bf730fa21163e4": {
      "model_module": "@jupyter-widgets/controls",
      "model_module_version": "1.5.0",
      "model_name": "ProgressStyleModel",
      "state": {
       "_model_module": "@jupyter-widgets/controls",
       "_model_module_version": "1.5.0",
       "_model_name": "ProgressStyleModel",
       "_view_count": null,
       "_view_module": "@jupyter-widgets/base",
       "_view_module_version": "1.2.0",
       "_view_name": "StyleView",
       "bar_color": null,
       "description_width": ""
      }
     },
     "284b176563954b318c3b25318353c1c0": {
      "model_module": "@jupyter-widgets/controls",
      "model_module_version": "1.5.0",
      "model_name": "HBoxModel",
      "state": {
       "_dom_classes": [],
       "_model_module": "@jupyter-widgets/controls",
       "_model_module_version": "1.5.0",
       "_model_name": "HBoxModel",
       "_view_count": null,
       "_view_module": "@jupyter-widgets/controls",
       "_view_module_version": "1.5.0",
       "_view_name": "HBoxView",
       "box_style": "",
       "children": [
        "IPY_MODEL_4bd77afdf78b463da21dd4d9b839a29c",
        "IPY_MODEL_acf8daf407134f6caa76567304c605ca",
        "IPY_MODEL_113e9c7c40794d98ab734c8bce4eda2b"
       ],
       "layout": "IPY_MODEL_6327be1959e54f15a6365c78e19f2332"
      }
     },
     "2993cf2e7b404d97882de5d7ff16b61c": {
      "model_module": "@jupyter-widgets/controls",
      "model_module_version": "1.5.0",
      "model_name": "DescriptionStyleModel",
      "state": {
       "_model_module": "@jupyter-widgets/controls",
       "_model_module_version": "1.5.0",
       "_model_name": "DescriptionStyleModel",
       "_view_count": null,
       "_view_module": "@jupyter-widgets/base",
       "_view_module_version": "1.2.0",
       "_view_name": "StyleView",
       "description_width": ""
      }
     },
     "2ea3204b091f404c92241ac33e618f6b": {
      "model_module": "@jupyter-widgets/controls",
      "model_module_version": "1.5.0",
      "model_name": "ProgressStyleModel",
      "state": {
       "_model_module": "@jupyter-widgets/controls",
       "_model_module_version": "1.5.0",
       "_model_name": "ProgressStyleModel",
       "_view_count": null,
       "_view_module": "@jupyter-widgets/base",
       "_view_module_version": "1.2.0",
       "_view_name": "StyleView",
       "bar_color": null,
       "description_width": ""
      }
     },
     "2ee86bfebeb54a159461e3a7ccf6793c": {
      "model_module": "@jupyter-widgets/controls",
      "model_module_version": "1.5.0",
      "model_name": "ProgressStyleModel",
      "state": {
       "_model_module": "@jupyter-widgets/controls",
       "_model_module_version": "1.5.0",
       "_model_name": "ProgressStyleModel",
       "_view_count": null,
       "_view_module": "@jupyter-widgets/base",
       "_view_module_version": "1.2.0",
       "_view_name": "StyleView",
       "bar_color": null,
       "description_width": ""
      }
     },
     "32501a5829e340ad821cace2dc8f2c77": {
      "model_module": "@jupyter-widgets/controls",
      "model_module_version": "1.5.0",
      "model_name": "FloatProgressModel",
      "state": {
       "_dom_classes": [],
       "_model_module": "@jupyter-widgets/controls",
       "_model_module_version": "1.5.0",
       "_model_name": "FloatProgressModel",
       "_view_count": null,
       "_view_module": "@jupyter-widgets/controls",
       "_view_module_version": "1.5.0",
       "_view_name": "ProgressView",
       "bar_style": "success",
       "description": "",
       "description_tooltip": null,
       "layout": "IPY_MODEL_fa70d485b0d14904a4d648f691e6e5a5",
       "max": 1272610.0,
       "min": 0.0,
       "orientation": "horizontal",
       "style": "IPY_MODEL_2ee86bfebeb54a159461e3a7ccf6793c",
       "value": 1272610.0
      }
     },
     "3336ca7f9018414dad90be226156aed9": {
      "model_module": "@jupyter-widgets/controls",
      "model_module_version": "1.5.0",
      "model_name": "FloatProgressModel",
      "state": {
       "_dom_classes": [],
       "_model_module": "@jupyter-widgets/controls",
       "_model_module_version": "1.5.0",
       "_model_name": "FloatProgressModel",
       "_view_count": null,
       "_view_module": "@jupyter-widgets/controls",
       "_view_module_version": "1.5.0",
       "_view_name": "ProgressView",
       "bar_style": "success",
       "description": "",
       "description_tooltip": null,
       "layout": "IPY_MODEL_75fc9f775f464b929be36c8ba07af299",
       "max": 815973.0,
       "min": 0.0,
       "orientation": "horizontal",
       "style": "IPY_MODEL_2ea3204b091f404c92241ac33e618f6b",
       "value": 815973.0
      }
     },
     "3ac0403995074c97af74cf17815a4c37": {
      "model_module": "@jupyter-widgets/controls",
      "model_module_version": "1.5.0",
      "model_name": "HBoxModel",
      "state": {
       "_dom_classes": [],
       "_model_module": "@jupyter-widgets/controls",
       "_model_module_version": "1.5.0",
       "_model_name": "HBoxModel",
       "_view_count": null,
       "_view_module": "@jupyter-widgets/controls",
       "_view_module_version": "1.5.0",
       "_view_name": "HBoxView",
       "box_style": "",
       "children": [
        "IPY_MODEL_4674416dc4634f519346b49a1e421b53",
        "IPY_MODEL_44816c01925b4cc0bc4da40c1f76b6dc",
        "IPY_MODEL_9145612f84b844e0a16f40f077432522"
       ],
       "layout": "IPY_MODEL_7461402efa69458f9e3ee6da8d5d2df0"
      }
     },
     "42ca87204ad649159799725c16d3437f": {
      "model_module": "@jupyter-widgets/base",
      "model_module_version": "1.2.0",
      "model_name": "LayoutModel",
      "state": {
       "_model_module": "@jupyter-widgets/base",
       "_model_module_version": "1.2.0",
       "_model_name": "LayoutModel",
       "_view_count": null,
       "_view_module": "@jupyter-widgets/base",
       "_view_module_version": "1.2.0",
       "_view_name": "LayoutView",
       "align_content": null,
       "align_items": null,
       "align_self": null,
       "border": null,
       "bottom": null,
       "display": null,
       "flex": null,
       "flex_flow": null,
       "grid_area": null,
       "grid_auto_columns": null,
       "grid_auto_flow": null,
       "grid_auto_rows": null,
       "grid_column": null,
       "grid_gap": null,
       "grid_row": null,
       "grid_template_areas": null,
       "grid_template_columns": null,
       "grid_template_rows": null,
       "height": null,
       "justify_content": null,
       "justify_items": null,
       "left": null,
       "margin": null,
       "max_height": null,
       "max_width": null,
       "min_height": null,
       "min_width": null,
       "object_fit": null,
       "object_position": null,
       "order": null,
       "overflow": null,
       "overflow_x": null,
       "overflow_y": null,
       "padding": null,
       "right": null,
       "top": null,
       "visibility": null,
       "width": null
      }
     },
     "44816c01925b4cc0bc4da40c1f76b6dc": {
      "model_module": "@jupyter-widgets/controls",
      "model_module_version": "1.5.0",
      "model_name": "FloatProgressModel",
      "state": {
       "_dom_classes": [],
       "_model_module": "@jupyter-widgets/controls",
       "_model_module_version": "1.5.0",
       "_model_name": "FloatProgressModel",
       "_view_count": null,
       "_view_module": "@jupyter-widgets/controls",
       "_view_module_version": "1.5.0",
       "_view_name": "ProgressView",
       "bar_style": "success",
       "description": "",
       "description_tooltip": null,
       "layout": "IPY_MODEL_760589021b6b4dfdb8a1b688c18e4358",
       "max": 231508.0,
       "min": 0.0,
       "orientation": "horizontal",
       "style": "IPY_MODEL_7c2851af8b544a0ab6fda4a83f54167e",
       "value": 231508.0
      }
     },
     "4532463d0e644e039b4caabc012f41f9": {
      "model_module": "@jupyter-widgets/controls",
      "model_module_version": "1.5.0",
      "model_name": "DescriptionStyleModel",
      "state": {
       "_model_module": "@jupyter-widgets/controls",
       "_model_module_version": "1.5.0",
       "_model_name": "DescriptionStyleModel",
       "_view_count": null,
       "_view_module": "@jupyter-widgets/base",
       "_view_module_version": "1.2.0",
       "_view_name": "StyleView",
       "description_width": ""
      }
     },
     "4674416dc4634f519346b49a1e421b53": {
      "model_module": "@jupyter-widgets/controls",
      "model_module_version": "1.5.0",
      "model_name": "HTMLModel",
      "state": {
       "_dom_classes": [],
       "_model_module": "@jupyter-widgets/controls",
       "_model_module_version": "1.5.0",
       "_model_name": "HTMLModel",
       "_view_count": null,
       "_view_module": "@jupyter-widgets/controls",
       "_view_module_version": "1.5.0",
       "_view_name": "HTMLView",
       "description": "",
       "description_tooltip": null,
       "layout": "IPY_MODEL_0b2e4efde5814ec481a1da3272c06d4e",
       "placeholder": "​",
       "style": "IPY_MODEL_2993cf2e7b404d97882de5d7ff16b61c",
       "value": "Downloading: 100%"
      }
     },
     "4a9f349e5f1f41ef8d74c4ff4c2c9ce7": {
      "model_module": "@jupyter-widgets/controls",
      "model_module_version": "1.5.0",
      "model_name": "HTMLModel",
      "state": {
       "_dom_classes": [],
       "_model_module": "@jupyter-widgets/controls",
       "_model_module_version": "1.5.0",
       "_model_name": "HTMLModel",
       "_view_count": null,
       "_view_module": "@jupyter-widgets/controls",
       "_view_module_version": "1.5.0",
       "_view_name": "HTMLView",
       "description": "",
       "description_tooltip": null,
       "layout": "IPY_MODEL_fa79c7ac374b4e8ab34d2bba08a2fd74",
       "placeholder": "​",
       "style": "IPY_MODEL_8288260b318c49bdbc90688d047493ad",
       "value": "Downloading: 100%"
      }
     },
     "4af8d37a7e914d3e8bbff1abf523e74e": {
      "model_module": "@jupyter-widgets/base",
      "model_module_version": "1.2.0",
      "model_name": "LayoutModel",
      "state": {
       "_model_module": "@jupyter-widgets/base",
       "_model_module_version": "1.2.0",
       "_model_name": "LayoutModel",
       "_view_count": null,
       "_view_module": "@jupyter-widgets/base",
       "_view_module_version": "1.2.0",
       "_view_name": "LayoutView",
       "align_content": null,
       "align_items": null,
       "align_self": null,
       "border": null,
       "bottom": null,
       "display": null,
       "flex": null,
       "flex_flow": null,
       "grid_area": null,
       "grid_auto_columns": null,
       "grid_auto_flow": null,
       "grid_auto_rows": null,
       "grid_column": null,
       "grid_gap": null,
       "grid_row": null,
       "grid_template_areas": null,
       "grid_template_columns": null,
       "grid_template_rows": null,
       "height": null,
       "justify_content": null,
       "justify_items": null,
       "left": null,
       "margin": null,
       "max_height": null,
       "max_width": null,
       "min_height": null,
       "min_width": null,
       "object_fit": null,
       "object_position": null,
       "order": null,
       "overflow": null,
       "overflow_x": null,
       "overflow_y": null,
       "padding": null,
       "right": null,
       "top": null,
       "visibility": null,
       "width": null
      }
     },
     "4bd77afdf78b463da21dd4d9b839a29c": {
      "model_module": "@jupyter-widgets/controls",
      "model_module_version": "1.5.0",
      "model_name": "HTMLModel",
      "state": {
       "_dom_classes": [],
       "_model_module": "@jupyter-widgets/controls",
       "_model_module_version": "1.5.0",
       "_model_name": "HTMLModel",
       "_view_count": null,
       "_view_module": "@jupyter-widgets/controls",
       "_view_module_version": "1.5.0",
       "_view_name": "HTMLView",
       "description": "",
       "description_tooltip": null,
       "layout": "IPY_MODEL_daec20d58d504939bc03632a35c17d91",
       "placeholder": "​",
       "style": "IPY_MODEL_ffe5010796f44264b901f2e5b4d86b7a",
       "value": "Downloading: 100%"
      }
     },
     "4cdc17bc97764d9f8682a94e02cd13ae": {
      "model_module": "@jupyter-widgets/base",
      "model_module_version": "1.2.0",
      "model_name": "LayoutModel",
      "state": {
       "_model_module": "@jupyter-widgets/base",
       "_model_module_version": "1.2.0",
       "_model_name": "LayoutModel",
       "_view_count": null,
       "_view_module": "@jupyter-widgets/base",
       "_view_module_version": "1.2.0",
       "_view_name": "LayoutView",
       "align_content": null,
       "align_items": null,
       "align_self": null,
       "border": null,
       "bottom": null,
       "display": null,
       "flex": null,
       "flex_flow": null,
       "grid_area": null,
       "grid_auto_columns": null,
       "grid_auto_flow": null,
       "grid_auto_rows": null,
       "grid_column": null,
       "grid_gap": null,
       "grid_row": null,
       "grid_template_areas": null,
       "grid_template_columns": null,
       "grid_template_rows": null,
       "height": null,
       "justify_content": null,
       "justify_items": null,
       "left": null,
       "margin": null,
       "max_height": null,
       "max_width": null,
       "min_height": null,
       "min_width": null,
       "object_fit": null,
       "object_position": null,
       "order": null,
       "overflow": null,
       "overflow_x": null,
       "overflow_y": null,
       "padding": null,
       "right": null,
       "top": null,
       "visibility": null,
       "width": null
      }
     },
     "5093edd23b674e4784f85b6068b2319f": {
      "model_module": "@jupyter-widgets/controls",
      "model_module_version": "1.5.0",
      "model_name": "FloatProgressModel",
      "state": {
       "_dom_classes": [],
       "_model_module": "@jupyter-widgets/controls",
       "_model_module_version": "1.5.0",
       "_model_name": "FloatProgressModel",
       "_view_count": null,
       "_view_module": "@jupyter-widgets/controls",
       "_view_module_version": "1.5.0",
       "_view_name": "ProgressView",
       "bar_style": "success",
       "description": "",
       "description_tooltip": null,
       "layout": "IPY_MODEL_4cdc17bc97764d9f8682a94e02cd13ae",
       "max": 656.0,
       "min": 0.0,
       "orientation": "horizontal",
       "style": "IPY_MODEL_bc21896b76ae493a8f923a35904ff520",
       "value": 656.0
      }
     },
     "50ed774cca674ce79c2ae5390725cb5b": {
      "model_module": "@jupyter-widgets/controls",
      "model_module_version": "1.5.0",
      "model_name": "DescriptionStyleModel",
      "state": {
       "_model_module": "@jupyter-widgets/controls",
       "_model_module_version": "1.5.0",
       "_model_name": "DescriptionStyleModel",
       "_view_count": null,
       "_view_module": "@jupyter-widgets/base",
       "_view_module_version": "1.2.0",
       "_view_name": "StyleView",
       "description_width": ""
      }
     },
     "53e97c40c434471db0e8cad8c040912d": {
      "model_module": "@jupyter-widgets/controls",
      "model_module_version": "1.5.0",
      "model_name": "DescriptionStyleModel",
      "state": {
       "_model_module": "@jupyter-widgets/controls",
       "_model_module_version": "1.5.0",
       "_model_name": "DescriptionStyleModel",
       "_view_count": null,
       "_view_module": "@jupyter-widgets/base",
       "_view_module_version": "1.2.0",
       "_view_name": "StyleView",
       "description_width": ""
      }
     },
     "5fb2f27376964aca8a9c295136f127cd": {
      "model_module": "@jupyter-widgets/controls",
      "model_module_version": "1.5.0",
      "model_name": "DescriptionStyleModel",
      "state": {
       "_model_module": "@jupyter-widgets/controls",
       "_model_module_version": "1.5.0",
       "_model_name": "DescriptionStyleModel",
       "_view_count": null,
       "_view_module": "@jupyter-widgets/base",
       "_view_module_version": "1.2.0",
       "_view_name": "StyleView",
       "description_width": ""
      }
     },
     "618fd41e67e2479ba7101860b7e37972": {
      "model_module": "@jupyter-widgets/base",
      "model_module_version": "1.2.0",
      "model_name": "LayoutModel",
      "state": {
       "_model_module": "@jupyter-widgets/base",
       "_model_module_version": "1.2.0",
       "_model_name": "LayoutModel",
       "_view_count": null,
       "_view_module": "@jupyter-widgets/base",
       "_view_module_version": "1.2.0",
       "_view_name": "LayoutView",
       "align_content": null,
       "align_items": null,
       "align_self": null,
       "border": null,
       "bottom": null,
       "display": null,
       "flex": null,
       "flex_flow": null,
       "grid_area": null,
       "grid_auto_columns": null,
       "grid_auto_flow": null,
       "grid_auto_rows": null,
       "grid_column": null,
       "grid_gap": null,
       "grid_row": null,
       "grid_template_areas": null,
       "grid_template_columns": null,
       "grid_template_rows": null,
       "height": null,
       "justify_content": null,
       "justify_items": null,
       "left": null,
       "margin": null,
       "max_height": null,
       "max_width": null,
       "min_height": null,
       "min_width": null,
       "object_fit": null,
       "object_position": null,
       "order": null,
       "overflow": null,
       "overflow_x": null,
       "overflow_y": null,
       "padding": null,
       "right": null,
       "top": null,
       "visibility": null,
       "width": null
      }
     },
     "6327be1959e54f15a6365c78e19f2332": {
      "model_module": "@jupyter-widgets/base",
      "model_module_version": "1.2.0",
      "model_name": "LayoutModel",
      "state": {
       "_model_module": "@jupyter-widgets/base",
       "_model_module_version": "1.2.0",
       "_model_name": "LayoutModel",
       "_view_count": null,
       "_view_module": "@jupyter-widgets/base",
       "_view_module_version": "1.2.0",
       "_view_name": "LayoutView",
       "align_content": null,
       "align_items": null,
       "align_self": null,
       "border": null,
       "bottom": null,
       "display": null,
       "flex": null,
       "flex_flow": null,
       "grid_area": null,
       "grid_auto_columns": null,
       "grid_auto_flow": null,
       "grid_auto_rows": null,
       "grid_column": null,
       "grid_gap": null,
       "grid_row": null,
       "grid_template_areas": null,
       "grid_template_columns": null,
       "grid_template_rows": null,
       "height": null,
       "justify_content": null,
       "justify_items": null,
       "left": null,
       "margin": null,
       "max_height": null,
       "max_width": null,
       "min_height": null,
       "min_width": null,
       "object_fit": null,
       "object_position": null,
       "order": null,
       "overflow": null,
       "overflow_x": null,
       "overflow_y": null,
       "padding": null,
       "right": null,
       "top": null,
       "visibility": null,
       "width": null
      }
     },
     "63322ae53cb146c696b8a66e9956cc4f": {
      "model_module": "@jupyter-widgets/base",
      "model_module_version": "1.2.0",
      "model_name": "LayoutModel",
      "state": {
       "_model_module": "@jupyter-widgets/base",
       "_model_module_version": "1.2.0",
       "_model_name": "LayoutModel",
       "_view_count": null,
       "_view_module": "@jupyter-widgets/base",
       "_view_module_version": "1.2.0",
       "_view_name": "LayoutView",
       "align_content": null,
       "align_items": null,
       "align_self": null,
       "border": null,
       "bottom": null,
       "display": null,
       "flex": null,
       "flex_flow": null,
       "grid_area": null,
       "grid_auto_columns": null,
       "grid_auto_flow": null,
       "grid_auto_rows": null,
       "grid_column": null,
       "grid_gap": null,
       "grid_row": null,
       "grid_template_areas": null,
       "grid_template_columns": null,
       "grid_template_rows": null,
       "height": null,
       "justify_content": null,
       "justify_items": null,
       "left": null,
       "margin": null,
       "max_height": null,
       "max_width": null,
       "min_height": null,
       "min_width": null,
       "object_fit": null,
       "object_position": null,
       "order": null,
       "overflow": null,
       "overflow_x": null,
       "overflow_y": null,
       "padding": null,
       "right": null,
       "top": null,
       "visibility": null,
       "width": null
      }
     },
     "6953232b6c194f49ad09808deb7c4959": {
      "model_module": "@jupyter-widgets/controls",
      "model_module_version": "1.5.0",
      "model_name": "ProgressStyleModel",
      "state": {
       "_model_module": "@jupyter-widgets/controls",
       "_model_module_version": "1.5.0",
       "_model_name": "ProgressStyleModel",
       "_view_count": null,
       "_view_module": "@jupyter-widgets/base",
       "_view_module_version": "1.2.0",
       "_view_name": "StyleView",
       "bar_color": null,
       "description_width": ""
      }
     },
     "6cdd0cc2eca74cc5b216bbbeda17a629": {
      "model_module": "@jupyter-widgets/base",
      "model_module_version": "1.2.0",
      "model_name": "LayoutModel",
      "state": {
       "_model_module": "@jupyter-widgets/base",
       "_model_module_version": "1.2.0",
       "_model_name": "LayoutModel",
       "_view_count": null,
       "_view_module": "@jupyter-widgets/base",
       "_view_module_version": "1.2.0",
       "_view_name": "LayoutView",
       "align_content": null,
       "align_items": null,
       "align_self": null,
       "border": null,
       "bottom": null,
       "display": null,
       "flex": null,
       "flex_flow": null,
       "grid_area": null,
       "grid_auto_columns": null,
       "grid_auto_flow": null,
       "grid_auto_rows": null,
       "grid_column": null,
       "grid_gap": null,
       "grid_row": null,
       "grid_template_areas": null,
       "grid_template_columns": null,
       "grid_template_rows": null,
       "height": null,
       "justify_content": null,
       "justify_items": null,
       "left": null,
       "margin": null,
       "max_height": null,
       "max_width": null,
       "min_height": null,
       "min_width": null,
       "object_fit": null,
       "object_position": null,
       "order": null,
       "overflow": null,
       "overflow_x": null,
       "overflow_y": null,
       "padding": null,
       "right": null,
       "top": null,
       "visibility": null,
       "width": null
      }
     },
     "710d7580d8a44e4da9ddc46b40a86df2": {
      "model_module": "@jupyter-widgets/base",
      "model_module_version": "1.2.0",
      "model_name": "LayoutModel",
      "state": {
       "_model_module": "@jupyter-widgets/base",
       "_model_module_version": "1.2.0",
       "_model_name": "LayoutModel",
       "_view_count": null,
       "_view_module": "@jupyter-widgets/base",
       "_view_module_version": "1.2.0",
       "_view_name": "LayoutView",
       "align_content": null,
       "align_items": null,
       "align_self": null,
       "border": null,
       "bottom": null,
       "display": null,
       "flex": null,
       "flex_flow": null,
       "grid_area": null,
       "grid_auto_columns": null,
       "grid_auto_flow": null,
       "grid_auto_rows": null,
       "grid_column": null,
       "grid_gap": null,
       "grid_row": null,
       "grid_template_areas": null,
       "grid_template_columns": null,
       "grid_template_rows": null,
       "height": null,
       "justify_content": null,
       "justify_items": null,
       "left": null,
       "margin": null,
       "max_height": null,
       "max_width": null,
       "min_height": null,
       "min_width": null,
       "object_fit": null,
       "object_position": null,
       "order": null,
       "overflow": null,
       "overflow_x": null,
       "overflow_y": null,
       "padding": null,
       "right": null,
       "top": null,
       "visibility": null,
       "width": null
      }
     },
     "730145ba5b3d4a568294d2b941ff6e31": {
      "model_module": "@jupyter-widgets/controls",
      "model_module_version": "1.5.0",
      "model_name": "ProgressStyleModel",
      "state": {
       "_model_module": "@jupyter-widgets/controls",
       "_model_module_version": "1.5.0",
       "_model_name": "ProgressStyleModel",
       "_view_count": null,
       "_view_module": "@jupyter-widgets/base",
       "_view_module_version": "1.2.0",
       "_view_name": "StyleView",
       "bar_color": null,
       "description_width": ""
      }
     },
     "73c37dc5cf0b47f38e5a2f5bacc6ef3f": {
      "model_module": "@jupyter-widgets/controls",
      "model_module_version": "1.5.0",
      "model_name": "HBoxModel",
      "state": {
       "_dom_classes": [],
       "_model_module": "@jupyter-widgets/controls",
       "_model_module_version": "1.5.0",
       "_model_name": "HBoxModel",
       "_view_count": null,
       "_view_module": "@jupyter-widgets/controls",
       "_view_module_version": "1.5.0",
       "_view_name": "HBoxView",
       "box_style": "",
       "children": [
        "IPY_MODEL_a409e909146c4a57a0058227fd70205f",
        "IPY_MODEL_0258cd6eab264bd1a22a6958f4f87be3",
        "IPY_MODEL_1fbca14c89b844268874e6932847f30e"
       ],
       "layout": "IPY_MODEL_1d2951642ab34570bd4c7307cace7058"
      }
     },
     "7461402efa69458f9e3ee6da8d5d2df0": {
      "model_module": "@jupyter-widgets/base",
      "model_module_version": "1.2.0",
      "model_name": "LayoutModel",
      "state": {
       "_model_module": "@jupyter-widgets/base",
       "_model_module_version": "1.2.0",
       "_model_name": "LayoutModel",
       "_view_count": null,
       "_view_module": "@jupyter-widgets/base",
       "_view_module_version": "1.2.0",
       "_view_name": "LayoutView",
       "align_content": null,
       "align_items": null,
       "align_self": null,
       "border": null,
       "bottom": null,
       "display": null,
       "flex": null,
       "flex_flow": null,
       "grid_area": null,
       "grid_auto_columns": null,
       "grid_auto_flow": null,
       "grid_auto_rows": null,
       "grid_column": null,
       "grid_gap": null,
       "grid_row": null,
       "grid_template_areas": null,
       "grid_template_columns": null,
       "grid_template_rows": null,
       "height": null,
       "justify_content": null,
       "justify_items": null,
       "left": null,
       "margin": null,
       "max_height": null,
       "max_width": null,
       "min_height": null,
       "min_width": null,
       "object_fit": null,
       "object_position": null,
       "order": null,
       "overflow": null,
       "overflow_x": null,
       "overflow_y": null,
       "padding": null,
       "right": null,
       "top": null,
       "visibility": null,
       "width": null
      }
     },
     "75fc9f775f464b929be36c8ba07af299": {
      "model_module": "@jupyter-widgets/base",
      "model_module_version": "1.2.0",
      "model_name": "LayoutModel",
      "state": {
       "_model_module": "@jupyter-widgets/base",
       "_model_module_version": "1.2.0",
       "_model_name": "LayoutModel",
       "_view_count": null,
       "_view_module": "@jupyter-widgets/base",
       "_view_module_version": "1.2.0",
       "_view_name": "LayoutView",
       "align_content": null,
       "align_items": null,
       "align_self": null,
       "border": null,
       "bottom": null,
       "display": null,
       "flex": null,
       "flex_flow": null,
       "grid_area": null,
       "grid_auto_columns": null,
       "grid_auto_flow": null,
       "grid_auto_rows": null,
       "grid_column": null,
       "grid_gap": null,
       "grid_row": null,
       "grid_template_areas": null,
       "grid_template_columns": null,
       "grid_template_rows": null,
       "height": null,
       "justify_content": null,
       "justify_items": null,
       "left": null,
       "margin": null,
       "max_height": null,
       "max_width": null,
       "min_height": null,
       "min_width": null,
       "object_fit": null,
       "object_position": null,
       "order": null,
       "overflow": null,
       "overflow_x": null,
       "overflow_y": null,
       "padding": null,
       "right": null,
       "top": null,
       "visibility": null,
       "width": null
      }
     },
     "760589021b6b4dfdb8a1b688c18e4358": {
      "model_module": "@jupyter-widgets/base",
      "model_module_version": "1.2.0",
      "model_name": "LayoutModel",
      "state": {
       "_model_module": "@jupyter-widgets/base",
       "_model_module_version": "1.2.0",
       "_model_name": "LayoutModel",
       "_view_count": null,
       "_view_module": "@jupyter-widgets/base",
       "_view_module_version": "1.2.0",
       "_view_name": "LayoutView",
       "align_content": null,
       "align_items": null,
       "align_self": null,
       "border": null,
       "bottom": null,
       "display": null,
       "flex": null,
       "flex_flow": null,
       "grid_area": null,
       "grid_auto_columns": null,
       "grid_auto_flow": null,
       "grid_auto_rows": null,
       "grid_column": null,
       "grid_gap": null,
       "grid_row": null,
       "grid_template_areas": null,
       "grid_template_columns": null,
       "grid_template_rows": null,
       "height": null,
       "justify_content": null,
       "justify_items": null,
       "left": null,
       "margin": null,
       "max_height": null,
       "max_width": null,
       "min_height": null,
       "min_width": null,
       "object_fit": null,
       "object_position": null,
       "order": null,
       "overflow": null,
       "overflow_x": null,
       "overflow_y": null,
       "padding": null,
       "right": null,
       "top": null,
       "visibility": null,
       "width": null
      }
     },
     "79c4bbf901bb497b9aae6bb5817fb40d": {
      "model_module": "@jupyter-widgets/controls",
      "model_module_version": "1.5.0",
      "model_name": "DescriptionStyleModel",
      "state": {
       "_model_module": "@jupyter-widgets/controls",
       "_model_module_version": "1.5.0",
       "_model_name": "DescriptionStyleModel",
       "_view_count": null,
       "_view_module": "@jupyter-widgets/base",
       "_view_module_version": "1.2.0",
       "_view_name": "StyleView",
       "description_width": ""
      }
     },
     "7c2851af8b544a0ab6fda4a83f54167e": {
      "model_module": "@jupyter-widgets/controls",
      "model_module_version": "1.5.0",
      "model_name": "ProgressStyleModel",
      "state": {
       "_model_module": "@jupyter-widgets/controls",
       "_model_module_version": "1.5.0",
       "_model_name": "ProgressStyleModel",
       "_view_count": null,
       "_view_module": "@jupyter-widgets/base",
       "_view_module_version": "1.2.0",
       "_view_name": "StyleView",
       "bar_color": null,
       "description_width": ""
      }
     },
     "7f6935fb7a2e410f909cbcca64687ef2": {
      "model_module": "@jupyter-widgets/controls",
      "model_module_version": "1.5.0",
      "model_name": "DescriptionStyleModel",
      "state": {
       "_model_module": "@jupyter-widgets/controls",
       "_model_module_version": "1.5.0",
       "_model_name": "DescriptionStyleModel",
       "_view_count": null,
       "_view_module": "@jupyter-widgets/base",
       "_view_module_version": "1.2.0",
       "_view_name": "StyleView",
       "description_width": ""
      }
     },
     "80ad2b611d1a49b3b49571e5163c9e64": {
      "model_module": "@jupyter-widgets/base",
      "model_module_version": "1.2.0",
      "model_name": "LayoutModel",
      "state": {
       "_model_module": "@jupyter-widgets/base",
       "_model_module_version": "1.2.0",
       "_model_name": "LayoutModel",
       "_view_count": null,
       "_view_module": "@jupyter-widgets/base",
       "_view_module_version": "1.2.0",
       "_view_name": "LayoutView",
       "align_content": null,
       "align_items": null,
       "align_self": null,
       "border": null,
       "bottom": null,
       "display": null,
       "flex": null,
       "flex_flow": null,
       "grid_area": null,
       "grid_auto_columns": null,
       "grid_auto_flow": null,
       "grid_auto_rows": null,
       "grid_column": null,
       "grid_gap": null,
       "grid_row": null,
       "grid_template_areas": null,
       "grid_template_columns": null,
       "grid_template_rows": null,
       "height": null,
       "justify_content": null,
       "justify_items": null,
       "left": null,
       "margin": null,
       "max_height": null,
       "max_width": null,
       "min_height": null,
       "min_width": null,
       "object_fit": null,
       "object_position": null,
       "order": null,
       "overflow": null,
       "overflow_x": null,
       "overflow_y": null,
       "padding": null,
       "right": null,
       "top": null,
       "visibility": null,
       "width": null
      }
     },
     "8288260b318c49bdbc90688d047493ad": {
      "model_module": "@jupyter-widgets/controls",
      "model_module_version": "1.5.0",
      "model_name": "DescriptionStyleModel",
      "state": {
       "_model_module": "@jupyter-widgets/controls",
       "_model_module_version": "1.5.0",
       "_model_name": "DescriptionStyleModel",
       "_view_count": null,
       "_view_module": "@jupyter-widgets/base",
       "_view_module_version": "1.2.0",
       "_view_name": "StyleView",
       "description_width": ""
      }
     },
     "897b82e2acd44d26bf5e1e2b70c28b7b": {
      "model_module": "@jupyter-widgets/controls",
      "model_module_version": "1.5.0",
      "model_name": "DescriptionStyleModel",
      "state": {
       "_model_module": "@jupyter-widgets/controls",
       "_model_module_version": "1.5.0",
       "_model_name": "DescriptionStyleModel",
       "_view_count": null,
       "_view_module": "@jupyter-widgets/base",
       "_view_module_version": "1.2.0",
       "_view_name": "StyleView",
       "description_width": ""
      }
     },
     "9145612f84b844e0a16f40f077432522": {
      "model_module": "@jupyter-widgets/controls",
      "model_module_version": "1.5.0",
      "model_name": "HTMLModel",
      "state": {
       "_dom_classes": [],
       "_model_module": "@jupyter-widgets/controls",
       "_model_module_version": "1.5.0",
       "_model_name": "HTMLModel",
       "_view_count": null,
       "_view_module": "@jupyter-widgets/controls",
       "_view_module_version": "1.5.0",
       "_view_name": "HTMLView",
       "description": "",
       "description_tooltip": null,
       "layout": "IPY_MODEL_e44e57cf69784b1bb67aba6940048fcc",
       "placeholder": "​",
       "style": "IPY_MODEL_d50ffdca235746ecbb2e69abfdfdbc7c",
       "value": " 226k/226k [00:00&lt;00:00, 960kB/s]"
      }
     },
     "95d9471689b84981a232b609bbbc9a83": {
      "model_module": "@jupyter-widgets/base",
      "model_module_version": "1.2.0",
      "model_name": "LayoutModel",
      "state": {
       "_model_module": "@jupyter-widgets/base",
       "_model_module_version": "1.2.0",
       "_model_name": "LayoutModel",
       "_view_count": null,
       "_view_module": "@jupyter-widgets/base",
       "_view_module_version": "1.2.0",
       "_view_name": "LayoutView",
       "align_content": null,
       "align_items": null,
       "align_self": null,
       "border": null,
       "bottom": null,
       "display": null,
       "flex": null,
       "flex_flow": null,
       "grid_area": null,
       "grid_auto_columns": null,
       "grid_auto_flow": null,
       "grid_auto_rows": null,
       "grid_column": null,
       "grid_gap": null,
       "grid_row": null,
       "grid_template_areas": null,
       "grid_template_columns": null,
       "grid_template_rows": null,
       "height": null,
       "justify_content": null,
       "justify_items": null,
       "left": null,
       "margin": null,
       "max_height": null,
       "max_width": null,
       "min_height": null,
       "min_width": null,
       "object_fit": null,
       "object_position": null,
       "order": null,
       "overflow": null,
       "overflow_x": null,
       "overflow_y": null,
       "padding": null,
       "right": null,
       "top": null,
       "visibility": null,
       "width": null
      }
     },
     "9ed14c900a524392b5f41867aeef52ce": {
      "model_module": "@jupyter-widgets/controls",
      "model_module_version": "1.5.0",
      "model_name": "HTMLModel",
      "state": {
       "_dom_classes": [],
       "_model_module": "@jupyter-widgets/controls",
       "_model_module_version": "1.5.0",
       "_model_name": "HTMLModel",
       "_view_count": null,
       "_view_module": "@jupyter-widgets/controls",
       "_view_module_version": "1.5.0",
       "_view_name": "HTMLView",
       "description": "",
       "description_tooltip": null,
       "layout": "IPY_MODEL_6cdd0cc2eca74cc5b216bbbeda17a629",
       "placeholder": "​",
       "style": "IPY_MODEL_897b82e2acd44d26bf5e1e2b70c28b7b",
       "value": " 570/570 [00:00&lt;00:00, 18.4kB/s]"
      }
     },
     "a409e909146c4a57a0058227fd70205f": {
      "model_module": "@jupyter-widgets/controls",
      "model_module_version": "1.5.0",
      "model_name": "HTMLModel",
      "state": {
       "_dom_classes": [],
       "_model_module": "@jupyter-widgets/controls",
       "_model_module_version": "1.5.0",
       "_model_name": "HTMLModel",
       "_view_count": null,
       "_view_module": "@jupyter-widgets/controls",
       "_view_module_version": "1.5.0",
       "_view_name": "HTMLView",
       "description": "",
       "description_tooltip": null,
       "layout": "IPY_MODEL_618fd41e67e2479ba7101860b7e37972",
       "placeholder": "​",
       "style": "IPY_MODEL_ac1f673e1ce04926815ec929c16ce269",
       "value": "Downloading: 100%"
      }
     },
     "a42fe6e152d24579a8c21b10d93a182c": {
      "model_module": "@jupyter-widgets/base",
      "model_module_version": "1.2.0",
      "model_name": "LayoutModel",
      "state": {
       "_model_module": "@jupyter-widgets/base",
       "_model_module_version": "1.2.0",
       "_model_name": "LayoutModel",
       "_view_count": null,
       "_view_module": "@jupyter-widgets/base",
       "_view_module_version": "1.2.0",
       "_view_name": "LayoutView",
       "align_content": null,
       "align_items": null,
       "align_self": null,
       "border": null,
       "bottom": null,
       "display": null,
       "flex": null,
       "flex_flow": null,
       "grid_area": null,
       "grid_auto_columns": null,
       "grid_auto_flow": null,
       "grid_auto_rows": null,
       "grid_column": null,
       "grid_gap": null,
       "grid_row": null,
       "grid_template_areas": null,
       "grid_template_columns": null,
       "grid_template_rows": null,
       "height": null,
       "justify_content": null,
       "justify_items": null,
       "left": null,
       "margin": null,
       "max_height": null,
       "max_width": null,
       "min_height": null,
       "min_width": null,
       "object_fit": null,
       "object_position": null,
       "order": null,
       "overflow": null,
       "overflow_x": null,
       "overflow_y": null,
       "padding": null,
       "right": null,
       "top": null,
       "visibility": null,
       "width": null
      }
     },
     "a46a15dca3104ef184891ef404622581": {
      "model_module": "@jupyter-widgets/base",
      "model_module_version": "1.2.0",
      "model_name": "LayoutModel",
      "state": {
       "_model_module": "@jupyter-widgets/base",
       "_model_module_version": "1.2.0",
       "_model_name": "LayoutModel",
       "_view_count": null,
       "_view_module": "@jupyter-widgets/base",
       "_view_module_version": "1.2.0",
       "_view_name": "LayoutView",
       "align_content": null,
       "align_items": null,
       "align_self": null,
       "border": null,
       "bottom": null,
       "display": null,
       "flex": null,
       "flex_flow": null,
       "grid_area": null,
       "grid_auto_columns": null,
       "grid_auto_flow": null,
       "grid_auto_rows": null,
       "grid_column": null,
       "grid_gap": null,
       "grid_row": null,
       "grid_template_areas": null,
       "grid_template_columns": null,
       "grid_template_rows": null,
       "height": null,
       "justify_content": null,
       "justify_items": null,
       "left": null,
       "margin": null,
       "max_height": null,
       "max_width": null,
       "min_height": null,
       "min_width": null,
       "object_fit": null,
       "object_position": null,
       "order": null,
       "overflow": null,
       "overflow_x": null,
       "overflow_y": null,
       "padding": null,
       "right": null,
       "top": null,
       "visibility": null,
       "width": null
      }
     },
     "a69da1e93fed4ca58ff793c44dd224a9": {
      "model_module": "@jupyter-widgets/base",
      "model_module_version": "1.2.0",
      "model_name": "LayoutModel",
      "state": {
       "_model_module": "@jupyter-widgets/base",
       "_model_module_version": "1.2.0",
       "_model_name": "LayoutModel",
       "_view_count": null,
       "_view_module": "@jupyter-widgets/base",
       "_view_module_version": "1.2.0",
       "_view_name": "LayoutView",
       "align_content": null,
       "align_items": null,
       "align_self": null,
       "border": null,
       "bottom": null,
       "display": null,
       "flex": null,
       "flex_flow": null,
       "grid_area": null,
       "grid_auto_columns": null,
       "grid_auto_flow": null,
       "grid_auto_rows": null,
       "grid_column": null,
       "grid_gap": null,
       "grid_row": null,
       "grid_template_areas": null,
       "grid_template_columns": null,
       "grid_template_rows": null,
       "height": null,
       "justify_content": null,
       "justify_items": null,
       "left": null,
       "margin": null,
       "max_height": null,
       "max_width": null,
       "min_height": null,
       "min_width": null,
       "object_fit": null,
       "object_position": null,
       "order": null,
       "overflow": null,
       "overflow_x": null,
       "overflow_y": null,
       "padding": null,
       "right": null,
       "top": null,
       "visibility": null,
       "width": null
      }
     },
     "ac1f673e1ce04926815ec929c16ce269": {
      "model_module": "@jupyter-widgets/controls",
      "model_module_version": "1.5.0",
      "model_name": "DescriptionStyleModel",
      "state": {
       "_model_module": "@jupyter-widgets/controls",
       "_model_module_version": "1.5.0",
       "_model_name": "DescriptionStyleModel",
       "_view_count": null,
       "_view_module": "@jupyter-widgets/base",
       "_view_module_version": "1.2.0",
       "_view_name": "StyleView",
       "description_width": ""
      }
     },
     "acf8daf407134f6caa76567304c605ca": {
      "model_module": "@jupyter-widgets/controls",
      "model_module_version": "1.5.0",
      "model_name": "FloatProgressModel",
      "state": {
       "_dom_classes": [],
       "_model_module": "@jupyter-widgets/controls",
       "_model_module_version": "1.5.0",
       "_model_name": "FloatProgressModel",
       "_view_count": null,
       "_view_module": "@jupyter-widgets/controls",
       "_view_module_version": "1.5.0",
       "_view_name": "ProgressView",
       "bar_style": "success",
       "description": "",
       "description_tooltip": null,
       "layout": "IPY_MODEL_14f5cafe0ced4c08a65810b90a4fa36f",
       "max": 466062.0,
       "min": 0.0,
       "orientation": "horizontal",
       "style": "IPY_MODEL_246088b287774a06a3bf730fa21163e4",
       "value": 466062.0
      }
     },
     "ad68a417ecc945be8076f2df600710d2": {
      "model_module": "@jupyter-widgets/base",
      "model_module_version": "1.2.0",
      "model_name": "LayoutModel",
      "state": {
       "_model_module": "@jupyter-widgets/base",
       "_model_module_version": "1.2.0",
       "_model_name": "LayoutModel",
       "_view_count": null,
       "_view_module": "@jupyter-widgets/base",
       "_view_module_version": "1.2.0",
       "_view_name": "LayoutView",
       "align_content": null,
       "align_items": null,
       "align_self": null,
       "border": null,
       "bottom": null,
       "display": null,
       "flex": null,
       "flex_flow": null,
       "grid_area": null,
       "grid_auto_columns": null,
       "grid_auto_flow": null,
       "grid_auto_rows": null,
       "grid_column": null,
       "grid_gap": null,
       "grid_row": null,
       "grid_template_areas": null,
       "grid_template_columns": null,
       "grid_template_rows": null,
       "height": null,
       "justify_content": null,
       "justify_items": null,
       "left": null,
       "margin": null,
       "max_height": null,
       "max_width": null,
       "min_height": null,
       "min_width": null,
       "object_fit": null,
       "object_position": null,
       "order": null,
       "overflow": null,
       "overflow_x": null,
       "overflow_y": null,
       "padding": null,
       "right": null,
       "top": null,
       "visibility": null,
       "width": null
      }
     },
     "adfccf545fa84bc88db650bc491f5813": {
      "model_module": "@jupyter-widgets/controls",
      "model_module_version": "1.5.0",
      "model_name": "ProgressStyleModel",
      "state": {
       "_model_module": "@jupyter-widgets/controls",
       "_model_module_version": "1.5.0",
       "_model_name": "ProgressStyleModel",
       "_view_count": null,
       "_view_module": "@jupyter-widgets/base",
       "_view_module_version": "1.2.0",
       "_view_name": "StyleView",
       "bar_color": null,
       "description_width": ""
      }
     },
     "af45030012bc4940af37dc549f3a0cf5": {
      "model_module": "@jupyter-widgets/base",
      "model_module_version": "1.2.0",
      "model_name": "LayoutModel",
      "state": {
       "_model_module": "@jupyter-widgets/base",
       "_model_module_version": "1.2.0",
       "_model_name": "LayoutModel",
       "_view_count": null,
       "_view_module": "@jupyter-widgets/base",
       "_view_module_version": "1.2.0",
       "_view_name": "LayoutView",
       "align_content": null,
       "align_items": null,
       "align_self": null,
       "border": null,
       "bottom": null,
       "display": null,
       "flex": null,
       "flex_flow": null,
       "grid_area": null,
       "grid_auto_columns": null,
       "grid_auto_flow": null,
       "grid_auto_rows": null,
       "grid_column": null,
       "grid_gap": null,
       "grid_row": null,
       "grid_template_areas": null,
       "grid_template_columns": null,
       "grid_template_rows": null,
       "height": null,
       "justify_content": null,
       "justify_items": null,
       "left": null,
       "margin": null,
       "max_height": null,
       "max_width": null,
       "min_height": null,
       "min_width": null,
       "object_fit": null,
       "object_position": null,
       "order": null,
       "overflow": null,
       "overflow_x": null,
       "overflow_y": null,
       "padding": null,
       "right": null,
       "top": null,
       "visibility": null,
       "width": null
      }
     },
     "bafeeb13700d4765a6c50bd3b0c5f15f": {
      "model_module": "@jupyter-widgets/controls",
      "model_module_version": "1.5.0",
      "model_name": "HBoxModel",
      "state": {
       "_dom_classes": [],
       "_model_module": "@jupyter-widgets/controls",
       "_model_module_version": "1.5.0",
       "_model_name": "HBoxModel",
       "_view_count": null,
       "_view_module": "@jupyter-widgets/controls",
       "_view_module_version": "1.5.0",
       "_view_name": "HBoxView",
       "box_style": "",
       "children": [
        "IPY_MODEL_0da6b7ddf541489c9088addfd4de9e8d",
        "IPY_MODEL_3336ca7f9018414dad90be226156aed9",
        "IPY_MODEL_c63535cef06e4ead9bc15c7274caf2f7"
       ],
       "layout": "IPY_MODEL_be6e224fc4984d16a9e02275bba3260a"
      }
     },
     "bc21896b76ae493a8f923a35904ff520": {
      "model_module": "@jupyter-widgets/controls",
      "model_module_version": "1.5.0",
      "model_name": "ProgressStyleModel",
      "state": {
       "_model_module": "@jupyter-widgets/controls",
       "_model_module_version": "1.5.0",
       "_model_name": "ProgressStyleModel",
       "_view_count": null,
       "_view_module": "@jupyter-widgets/base",
       "_view_module_version": "1.2.0",
       "_view_name": "StyleView",
       "bar_color": null,
       "description_width": ""
      }
     },
     "be6e224fc4984d16a9e02275bba3260a": {
      "model_module": "@jupyter-widgets/base",
      "model_module_version": "1.2.0",
      "model_name": "LayoutModel",
      "state": {
       "_model_module": "@jupyter-widgets/base",
       "_model_module_version": "1.2.0",
       "_model_name": "LayoutModel",
       "_view_count": null,
       "_view_module": "@jupyter-widgets/base",
       "_view_module_version": "1.2.0",
       "_view_name": "LayoutView",
       "align_content": null,
       "align_items": null,
       "align_self": null,
       "border": null,
       "bottom": null,
       "display": null,
       "flex": null,
       "flex_flow": null,
       "grid_area": null,
       "grid_auto_columns": null,
       "grid_auto_flow": null,
       "grid_auto_rows": null,
       "grid_column": null,
       "grid_gap": null,
       "grid_row": null,
       "grid_template_areas": null,
       "grid_template_columns": null,
       "grid_template_rows": null,
       "height": null,
       "justify_content": null,
       "justify_items": null,
       "left": null,
       "margin": null,
       "max_height": null,
       "max_width": null,
       "min_height": null,
       "min_width": null,
       "object_fit": null,
       "object_position": null,
       "order": null,
       "overflow": null,
       "overflow_x": null,
       "overflow_y": null,
       "padding": null,
       "right": null,
       "top": null,
       "visibility": null,
       "width": null
      }
     },
     "c63535cef06e4ead9bc15c7274caf2f7": {
      "model_module": "@jupyter-widgets/controls",
      "model_module_version": "1.5.0",
      "model_name": "HTMLModel",
      "state": {
       "_dom_classes": [],
       "_model_module": "@jupyter-widgets/controls",
       "_model_module_version": "1.5.0",
       "_model_name": "HTMLModel",
       "_view_count": null,
       "_view_module": "@jupyter-widgets/controls",
       "_view_module_version": "1.5.0",
       "_view_name": "HTMLView",
       "description": "",
       "description_tooltip": null,
       "layout": "IPY_MODEL_e50a3a4a30e544f59b71116c02b83da1",
       "placeholder": "​",
       "style": "IPY_MODEL_d4c5cc26d5aa4c6ba952b29dbc6808f0",
       "value": " 797k/797k [00:00&lt;00:00, 900kB/s]"
      }
     },
     "d200a731a0f7405bae44b672ac9941eb": {
      "model_module": "@jupyter-widgets/controls",
      "model_module_version": "1.5.0",
      "model_name": "HBoxModel",
      "state": {
       "_dom_classes": [],
       "_model_module": "@jupyter-widgets/controls",
       "_model_module_version": "1.5.0",
       "_model_name": "HBoxModel",
       "_view_count": null,
       "_view_module": "@jupyter-widgets/controls",
       "_view_module_version": "1.5.0",
       "_view_name": "HBoxView",
       "box_style": "",
       "children": [
        "IPY_MODEL_4a9f349e5f1f41ef8d74c4ff4c2c9ce7",
        "IPY_MODEL_32501a5829e340ad821cace2dc8f2c77",
        "IPY_MODEL_f733821c1e4f40f980e5d573e835cad1"
       ],
       "layout": "IPY_MODEL_0d2e40a858134afcb4d0efd43202b59c"
      }
     },
     "d4c5cc26d5aa4c6ba952b29dbc6808f0": {
      "model_module": "@jupyter-widgets/controls",
      "model_module_version": "1.5.0",
      "model_name": "DescriptionStyleModel",
      "state": {
       "_model_module": "@jupyter-widgets/controls",
       "_model_module_version": "1.5.0",
       "_model_name": "DescriptionStyleModel",
       "_view_count": null,
       "_view_module": "@jupyter-widgets/base",
       "_view_module_version": "1.2.0",
       "_view_name": "StyleView",
       "description_width": ""
      }
     },
     "d50ffdca235746ecbb2e69abfdfdbc7c": {
      "model_module": "@jupyter-widgets/controls",
      "model_module_version": "1.5.0",
      "model_name": "DescriptionStyleModel",
      "state": {
       "_model_module": "@jupyter-widgets/controls",
       "_model_module_version": "1.5.0",
       "_model_name": "DescriptionStyleModel",
       "_view_count": null,
       "_view_module": "@jupyter-widgets/base",
       "_view_module_version": "1.2.0",
       "_view_name": "StyleView",
       "description_width": ""
      }
     },
     "d6459d6b46964dee9b63a09e1516b074": {
      "model_module": "@jupyter-widgets/controls",
      "model_module_version": "1.5.0",
      "model_name": "HBoxModel",
      "state": {
       "_dom_classes": [],
       "_model_module": "@jupyter-widgets/controls",
       "_model_module_version": "1.5.0",
       "_model_name": "HBoxModel",
       "_view_count": null,
       "_view_module": "@jupyter-widgets/controls",
       "_view_module_version": "1.5.0",
       "_view_name": "HBoxView",
       "box_style": "",
       "children": [
        "IPY_MODEL_e775669c6230412daf6c55a8182ef8b0",
        "IPY_MODEL_e24664fc7edb40c7a495f97f633b4c79",
        "IPY_MODEL_e5e79c7c6e0a4a8fb6da47838c049957"
       ],
       "layout": "IPY_MODEL_af45030012bc4940af37dc549f3a0cf5"
      }
     },
     "daec20d58d504939bc03632a35c17d91": {
      "model_module": "@jupyter-widgets/base",
      "model_module_version": "1.2.0",
      "model_name": "LayoutModel",
      "state": {
       "_model_module": "@jupyter-widgets/base",
       "_model_module_version": "1.2.0",
       "_model_name": "LayoutModel",
       "_view_count": null,
       "_view_module": "@jupyter-widgets/base",
       "_view_module_version": "1.2.0",
       "_view_name": "LayoutView",
       "align_content": null,
       "align_items": null,
       "align_self": null,
       "border": null,
       "bottom": null,
       "display": null,
       "flex": null,
       "flex_flow": null,
       "grid_area": null,
       "grid_auto_columns": null,
       "grid_auto_flow": null,
       "grid_auto_rows": null,
       "grid_column": null,
       "grid_gap": null,
       "grid_row": null,
       "grid_template_areas": null,
       "grid_template_columns": null,
       "grid_template_rows": null,
       "height": null,
       "justify_content": null,
       "justify_items": null,
       "left": null,
       "margin": null,
       "max_height": null,
       "max_width": null,
       "min_height": null,
       "min_width": null,
       "object_fit": null,
       "object_position": null,
       "order": null,
       "overflow": null,
       "overflow_x": null,
       "overflow_y": null,
       "padding": null,
       "right": null,
       "top": null,
       "visibility": null,
       "width": null
      }
     },
     "e24664fc7edb40c7a495f97f633b4c79": {
      "model_module": "@jupyter-widgets/controls",
      "model_module_version": "1.5.0",
      "model_name": "FloatProgressModel",
      "state": {
       "_dom_classes": [],
       "_model_module": "@jupyter-widgets/controls",
       "_model_module_version": "1.5.0",
       "_model_name": "FloatProgressModel",
       "_view_count": null,
       "_view_module": "@jupyter-widgets/controls",
       "_view_module_version": "1.5.0",
       "_view_name": "ProgressView",
       "bar_style": "success",
       "description": "",
       "description_tooltip": null,
       "layout": "IPY_MODEL_4af8d37a7e914d3e8bbff1abf523e74e",
       "max": 458495.0,
       "min": 0.0,
       "orientation": "horizontal",
       "style": "IPY_MODEL_730145ba5b3d4a568294d2b941ff6e31",
       "value": 458495.0
      }
     },
     "e44e57cf69784b1bb67aba6940048fcc": {
      "model_module": "@jupyter-widgets/base",
      "model_module_version": "1.2.0",
      "model_name": "LayoutModel",
      "state": {
       "_model_module": "@jupyter-widgets/base",
       "_model_module_version": "1.2.0",
       "_model_name": "LayoutModel",
       "_view_count": null,
       "_view_module": "@jupyter-widgets/base",
       "_view_module_version": "1.2.0",
       "_view_name": "LayoutView",
       "align_content": null,
       "align_items": null,
       "align_self": null,
       "border": null,
       "bottom": null,
       "display": null,
       "flex": null,
       "flex_flow": null,
       "grid_area": null,
       "grid_auto_columns": null,
       "grid_auto_flow": null,
       "grid_auto_rows": null,
       "grid_column": null,
       "grid_gap": null,
       "grid_row": null,
       "grid_template_areas": null,
       "grid_template_columns": null,
       "grid_template_rows": null,
       "height": null,
       "justify_content": null,
       "justify_items": null,
       "left": null,
       "margin": null,
       "max_height": null,
       "max_width": null,
       "min_height": null,
       "min_width": null,
       "object_fit": null,
       "object_position": null,
       "order": null,
       "overflow": null,
       "overflow_x": null,
       "overflow_y": null,
       "padding": null,
       "right": null,
       "top": null,
       "visibility": null,
       "width": null
      }
     },
     "e50a3a4a30e544f59b71116c02b83da1": {
      "model_module": "@jupyter-widgets/base",
      "model_module_version": "1.2.0",
      "model_name": "LayoutModel",
      "state": {
       "_model_module": "@jupyter-widgets/base",
       "_model_module_version": "1.2.0",
       "_model_name": "LayoutModel",
       "_view_count": null,
       "_view_module": "@jupyter-widgets/base",
       "_view_module_version": "1.2.0",
       "_view_name": "LayoutView",
       "align_content": null,
       "align_items": null,
       "align_self": null,
       "border": null,
       "bottom": null,
       "display": null,
       "flex": null,
       "flex_flow": null,
       "grid_area": null,
       "grid_auto_columns": null,
       "grid_auto_flow": null,
       "grid_auto_rows": null,
       "grid_column": null,
       "grid_gap": null,
       "grid_row": null,
       "grid_template_areas": null,
       "grid_template_columns": null,
       "grid_template_rows": null,
       "height": null,
       "justify_content": null,
       "justify_items": null,
       "left": null,
       "margin": null,
       "max_height": null,
       "max_width": null,
       "min_height": null,
       "min_width": null,
       "object_fit": null,
       "object_position": null,
       "order": null,
       "overflow": null,
       "overflow_x": null,
       "overflow_y": null,
       "padding": null,
       "right": null,
       "top": null,
       "visibility": null,
       "width": null
      }
     },
     "e5b4de5b63c840308076b27b117cd166": {
      "model_module": "@jupyter-widgets/controls",
      "model_module_version": "1.5.0",
      "model_name": "HBoxModel",
      "state": {
       "_dom_classes": [],
       "_model_module": "@jupyter-widgets/controls",
       "_model_module_version": "1.5.0",
       "_model_name": "HBoxModel",
       "_view_count": null,
       "_view_module": "@jupyter-widgets/controls",
       "_view_module_version": "1.5.0",
       "_view_name": "HBoxView",
       "box_style": "",
       "children": [
        "IPY_MODEL_22cc4b48781d4c228adac401eecc0d97",
        "IPY_MODEL_16a381cff7b84d11ade0c189eae7bd04",
        "IPY_MODEL_9ed14c900a524392b5f41867aeef52ce"
       ],
       "layout": "IPY_MODEL_a69da1e93fed4ca58ff793c44dd224a9"
      }
     },
     "e5e79c7c6e0a4a8fb6da47838c049957": {
      "model_module": "@jupyter-widgets/controls",
      "model_module_version": "1.5.0",
      "model_name": "HTMLModel",
      "state": {
       "_dom_classes": [],
       "_model_module": "@jupyter-widgets/controls",
       "_model_module_version": "1.5.0",
       "_model_name": "HTMLModel",
       "_view_count": null,
       "_view_module": "@jupyter-widgets/controls",
       "_view_module_version": "1.5.0",
       "_view_name": "HTMLView",
       "description": "",
       "description_tooltip": null,
       "layout": "IPY_MODEL_18ac0d8d88114bff9c4ca610a7a25961",
       "placeholder": "​",
       "style": "IPY_MODEL_53e97c40c434471db0e8cad8c040912d",
       "value": " 448k/448k [00:00&lt;00:00, 868kB/s]"
      }
     },
     "e775669c6230412daf6c55a8182ef8b0": {
      "model_module": "@jupyter-widgets/controls",
      "model_module_version": "1.5.0",
      "model_name": "HTMLModel",
      "state": {
       "_dom_classes": [],
       "_model_module": "@jupyter-widgets/controls",
       "_model_module_version": "1.5.0",
       "_model_name": "HTMLModel",
       "_view_count": null,
       "_view_module": "@jupyter-widgets/controls",
       "_view_module_version": "1.5.0",
       "_view_name": "HTMLView",
       "description": "",
       "description_tooltip": null,
       "layout": "IPY_MODEL_a42fe6e152d24579a8c21b10d93a182c",
       "placeholder": "​",
       "style": "IPY_MODEL_7f6935fb7a2e410f909cbcca64687ef2",
       "value": "Downloading: 100%"
      }
     },
     "eb9e0444163d47d491af3f81869ec772": {
      "model_module": "@jupyter-widgets/base",
      "model_module_version": "1.2.0",
      "model_name": "LayoutModel",
      "state": {
       "_model_module": "@jupyter-widgets/base",
       "_model_module_version": "1.2.0",
       "_model_name": "LayoutModel",
       "_view_count": null,
       "_view_module": "@jupyter-widgets/base",
       "_view_module_version": "1.2.0",
       "_view_name": "LayoutView",
       "align_content": null,
       "align_items": null,
       "align_self": null,
       "border": null,
       "bottom": null,
       "display": null,
       "flex": null,
       "flex_flow": null,
       "grid_area": null,
       "grid_auto_columns": null,
       "grid_auto_flow": null,
       "grid_auto_rows": null,
       "grid_column": null,
       "grid_gap": null,
       "grid_row": null,
       "grid_template_areas": null,
       "grid_template_columns": null,
       "grid_template_rows": null,
       "height": null,
       "justify_content": null,
       "justify_items": null,
       "left": null,
       "margin": null,
       "max_height": null,
       "max_width": null,
       "min_height": null,
       "min_width": null,
       "object_fit": null,
       "object_position": null,
       "order": null,
       "overflow": null,
       "overflow_x": null,
       "overflow_y": null,
       "padding": null,
       "right": null,
       "top": null,
       "visibility": null,
       "width": null
      }
     },
     "f733821c1e4f40f980e5d573e835cad1": {
      "model_module": "@jupyter-widgets/controls",
      "model_module_version": "1.5.0",
      "model_name": "HTMLModel",
      "state": {
       "_dom_classes": [],
       "_model_module": "@jupyter-widgets/controls",
       "_model_module_version": "1.5.0",
       "_model_name": "HTMLModel",
       "_view_count": null,
       "_view_module": "@jupyter-widgets/controls",
       "_view_module_version": "1.5.0",
       "_view_name": "HTMLView",
       "description": "",
       "description_tooltip": null,
       "layout": "IPY_MODEL_63322ae53cb146c696b8a66e9956cc4f",
       "placeholder": "​",
       "style": "IPY_MODEL_5fb2f27376964aca8a9c295136f127cd",
       "value": " 1.21M/1.21M [00:00&lt;00:00, 1.92MB/s]"
      }
     },
     "fa70d485b0d14904a4d648f691e6e5a5": {
      "model_module": "@jupyter-widgets/base",
      "model_module_version": "1.2.0",
      "model_name": "LayoutModel",
      "state": {
       "_model_module": "@jupyter-widgets/base",
       "_model_module_version": "1.2.0",
       "_model_name": "LayoutModel",
       "_view_count": null,
       "_view_module": "@jupyter-widgets/base",
       "_view_module_version": "1.2.0",
       "_view_name": "LayoutView",
       "align_content": null,
       "align_items": null,
       "align_self": null,
       "border": null,
       "bottom": null,
       "display": null,
       "flex": null,
       "flex_flow": null,
       "grid_area": null,
       "grid_auto_columns": null,
       "grid_auto_flow": null,
       "grid_auto_rows": null,
       "grid_column": null,
       "grid_gap": null,
       "grid_row": null,
       "grid_template_areas": null,
       "grid_template_columns": null,
       "grid_template_rows": null,
       "height": null,
       "justify_content": null,
       "justify_items": null,
       "left": null,
       "margin": null,
       "max_height": null,
       "max_width": null,
       "min_height": null,
       "min_width": null,
       "object_fit": null,
       "object_position": null,
       "order": null,
       "overflow": null,
       "overflow_x": null,
       "overflow_y": null,
       "padding": null,
       "right": null,
       "top": null,
       "visibility": null,
       "width": null
      }
     },
     "fa79c7ac374b4e8ab34d2bba08a2fd74": {
      "model_module": "@jupyter-widgets/base",
      "model_module_version": "1.2.0",
      "model_name": "LayoutModel",
      "state": {
       "_model_module": "@jupyter-widgets/base",
       "_model_module_version": "1.2.0",
       "_model_name": "LayoutModel",
       "_view_count": null,
       "_view_module": "@jupyter-widgets/base",
       "_view_module_version": "1.2.0",
       "_view_name": "LayoutView",
       "align_content": null,
       "align_items": null,
       "align_self": null,
       "border": null,
       "bottom": null,
       "display": null,
       "flex": null,
       "flex_flow": null,
       "grid_area": null,
       "grid_auto_columns": null,
       "grid_auto_flow": null,
       "grid_auto_rows": null,
       "grid_column": null,
       "grid_gap": null,
       "grid_row": null,
       "grid_template_areas": null,
       "grid_template_columns": null,
       "grid_template_rows": null,
       "height": null,
       "justify_content": null,
       "justify_items": null,
       "left": null,
       "margin": null,
       "max_height": null,
       "max_width": null,
       "min_height": null,
       "min_width": null,
       "object_fit": null,
       "object_position": null,
       "order": null,
       "overflow": null,
       "overflow_x": null,
       "overflow_y": null,
       "padding": null,
       "right": null,
       "top": null,
       "visibility": null,
       "width": null
      }
     },
     "ffe5010796f44264b901f2e5b4d86b7a": {
      "model_module": "@jupyter-widgets/controls",
      "model_module_version": "1.5.0",
      "model_name": "DescriptionStyleModel",
      "state": {
       "_model_module": "@jupyter-widgets/controls",
       "_model_module_version": "1.5.0",
       "_model_name": "DescriptionStyleModel",
       "_view_count": null,
       "_view_module": "@jupyter-widgets/base",
       "_view_module_version": "1.2.0",
       "_view_name": "StyleView",
       "description_width": ""
      }
     }
    },
    "version_major": 2,
    "version_minor": 0
   }
  }
 },
 "nbformat": 4,
 "nbformat_minor": 5
}
