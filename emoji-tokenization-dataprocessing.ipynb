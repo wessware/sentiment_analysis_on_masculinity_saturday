{
 "cells": [
  {
   "cell_type": "code",
   "execution_count": 1,
   "id": "e1a51861",
   "metadata": {
    "_cell_guid": "b1076dfc-b9ad-4769-8c92-a6c4dae69d19",
    "_uuid": "8f2839f25d086af736a60e9eeb907d3b93b6e0e5",
    "execution": {
     "iopub.execute_input": "2023-02-16T12:37:48.125656Z",
     "iopub.status.busy": "2023-02-16T12:37:48.125160Z",
     "iopub.status.idle": "2023-02-16T12:37:50.343328Z",
     "shell.execute_reply": "2023-02-16T12:37:50.342286Z"
    },
    "papermill": {
     "duration": 2.240052,
     "end_time": "2023-02-16T12:37:50.346279",
     "exception": false,
     "start_time": "2023-02-16T12:37:48.106227",
     "status": "completed"
    },
    "tags": []
   },
   "outputs": [],
   "source": [
    "import pandas as pd\n",
    "import numpy as np \n",
    "\n",
    "from transformers import AutoTokenizer\n",
    "from transformers import BertTokenizerFast\n",
    "from transformers import BertTokenizer\n",
    "from transformers import RobertaTokenizerFast\n",
    "\n",
    "#from transformers import ROBERTAtokenizer\n",
    "#from transformers import XLNETtokenizer\n",
    "\n",
    "from mlxtend.text import tokenizer_emoticons\n",
    "from nltk.tokenize.casual import TweetTokenizer\n",
    "\n",
    "import matplotlib.pyplot as plt\n",
    "import seaborn as sns\n",
    "\n",
    "import re, string\n",
    "import emoji"
   ]
  },
  {
   "cell_type": "code",
   "execution_count": 2,
   "id": "e9fce4c8",
   "metadata": {
    "execution": {
     "iopub.execute_input": "2023-02-16T12:37:50.377780Z",
     "iopub.status.busy": "2023-02-16T12:37:50.377378Z",
     "iopub.status.idle": "2023-02-16T12:37:52.579045Z",
     "shell.execute_reply": "2023-02-16T12:37:52.577736Z"
    },
    "papermill": {
     "duration": 2.220159,
     "end_time": "2023-02-16T12:37:52.581626",
     "exception": false,
     "start_time": "2023-02-16T12:37:50.361467",
     "status": "completed"
    },
    "tags": []
   },
   "outputs": [],
   "source": [
    "df = pd.read_csv('/kaggle/input/masculinity-saturday-twitter-sentiment-analysis/twitter_sentiment_analysis_masculinity_saturday_data_annotated.csv', index_col=0)"
   ]
  },
  {
   "cell_type": "code",
   "execution_count": 3,
   "id": "493f129a",
   "metadata": {
    "execution": {
     "iopub.execute_input": "2023-02-16T12:37:52.613235Z",
     "iopub.status.busy": "2023-02-16T12:37:52.612765Z",
     "iopub.status.idle": "2023-02-16T12:37:52.637446Z",
     "shell.execute_reply": "2023-02-16T12:37:52.636542Z"
    },
    "papermill": {
     "duration": 0.042973,
     "end_time": "2023-02-16T12:37:52.639755",
     "exception": false,
     "start_time": "2023-02-16T12:37:52.596782",
     "status": "completed"
    },
    "tags": []
   },
   "outputs": [
    {
     "data": {
      "text/html": [
       "<div>\n",
       "<style scoped>\n",
       "    .dataframe tbody tr th:only-of-type {\n",
       "        vertical-align: middle;\n",
       "    }\n",
       "\n",
       "    .dataframe tbody tr th {\n",
       "        vertical-align: top;\n",
       "    }\n",
       "\n",
       "    .dataframe thead th {\n",
       "        text-align: right;\n",
       "    }\n",
       "</style>\n",
       "<table border=\"1\" class=\"dataframe\">\n",
       "  <thead>\n",
       "    <tr style=\"text-align: right;\">\n",
       "      <th></th>\n",
       "      <th>tweet_created_at</th>\n",
       "      <th>text</th>\n",
       "      <th>Positive</th>\n",
       "      <th>Negative</th>\n",
       "      <th>Neutral</th>\n",
       "      <th>Compound</th>\n",
       "      <th>Sentiment</th>\n",
       "    </tr>\n",
       "  </thead>\n",
       "  <tbody>\n",
       "    <tr>\n",
       "      <th>0</th>\n",
       "      <td>2022-12-30 22:37:46+00:00</td>\n",
       "      <td>Men who have refused to listen to/attend @amer...</td>\n",
       "      <td>0.000</td>\n",
       "      <td>0.073</td>\n",
       "      <td>0.927</td>\n",
       "      <td>-0.2960</td>\n",
       "      <td>Negative</td>\n",
       "    </tr>\n",
       "    <tr>\n",
       "      <th>1</th>\n",
       "      <td>2022-12-30 22:30:58+00:00</td>\n",
       "      <td>@OvOBrezzzy Take amerix next</td>\n",
       "      <td>0.000</td>\n",
       "      <td>0.000</td>\n",
       "      <td>1.000</td>\n",
       "      <td>0.0000</td>\n",
       "      <td>Neutral</td>\n",
       "    </tr>\n",
       "    <tr>\n",
       "      <th>2</th>\n",
       "      <td>2022-12-30 22:18:00+00:00</td>\n",
       "      <td>@AyodeleYo11 @amerix Nah I’m good my masculini...</td>\n",
       "      <td>0.493</td>\n",
       "      <td>0.068</td>\n",
       "      <td>0.439</td>\n",
       "      <td>0.8271</td>\n",
       "      <td>Positive</td>\n",
       "    </tr>\n",
       "    <tr>\n",
       "      <th>3</th>\n",
       "      <td>2022-12-30 20:42:54+00:00</td>\n",
       "      <td>@Amerix_DontSimp There is no need for dating i...</td>\n",
       "      <td>0.000</td>\n",
       "      <td>0.180</td>\n",
       "      <td>0.820</td>\n",
       "      <td>-0.2960</td>\n",
       "      <td>Negative</td>\n",
       "    </tr>\n",
       "    <tr>\n",
       "      <th>4</th>\n",
       "      <td>2022-12-30 20:32:23+00:00</td>\n",
       "      <td>@DyeAnna7 @amerix @kibe From what cos nothing ...</td>\n",
       "      <td>0.110</td>\n",
       "      <td>0.000</td>\n",
       "      <td>0.890</td>\n",
       "      <td>0.6908</td>\n",
       "      <td>Positive</td>\n",
       "    </tr>\n",
       "  </tbody>\n",
       "</table>\n",
       "</div>"
      ],
      "text/plain": [
       "            tweet_created_at  \\\n",
       "0  2022-12-30 22:37:46+00:00   \n",
       "1  2022-12-30 22:30:58+00:00   \n",
       "2  2022-12-30 22:18:00+00:00   \n",
       "3  2022-12-30 20:42:54+00:00   \n",
       "4  2022-12-30 20:32:23+00:00   \n",
       "\n",
       "                                                text  Positive  Negative  \\\n",
       "0  Men who have refused to listen to/attend @amer...     0.000     0.073   \n",
       "1                       @OvOBrezzzy Take amerix next     0.000     0.000   \n",
       "2  @AyodeleYo11 @amerix Nah I’m good my masculini...     0.493     0.068   \n",
       "3  @Amerix_DontSimp There is no need for dating i...     0.000     0.180   \n",
       "4  @DyeAnna7 @amerix @kibe From what cos nothing ...     0.110     0.000   \n",
       "\n",
       "   Neutral  Compound Sentiment  \n",
       "0    0.927   -0.2960  Negative  \n",
       "1    1.000    0.0000   Neutral  \n",
       "2    0.439    0.8271  Positive  \n",
       "3    0.820   -0.2960  Negative  \n",
       "4    0.890    0.6908  Positive  "
      ]
     },
     "execution_count": 3,
     "metadata": {},
     "output_type": "execute_result"
    }
   ],
   "source": [
    "df.head()"
   ]
  },
  {
   "cell_type": "code",
   "execution_count": 4,
   "id": "7cd66587",
   "metadata": {
    "execution": {
     "iopub.execute_input": "2023-02-16T12:37:52.672130Z",
     "iopub.status.busy": "2023-02-16T12:37:52.671378Z",
     "iopub.status.idle": "2023-02-16T12:37:52.803241Z",
     "shell.execute_reply": "2023-02-16T12:37:52.802203Z"
    },
    "papermill": {
     "duration": 0.151632,
     "end_time": "2023-02-16T12:37:52.806590",
     "exception": false,
     "start_time": "2023-02-16T12:37:52.654958",
     "status": "completed"
    },
    "tags": []
   },
   "outputs": [],
   "source": [
    "df['tweet_created_at'] = pd.to_datetime(df['tweet_created_at'])"
   ]
  },
  {
   "cell_type": "code",
   "execution_count": 5,
   "id": "5b67cb84",
   "metadata": {
    "execution": {
     "iopub.execute_input": "2023-02-16T12:37:52.839943Z",
     "iopub.status.busy": "2023-02-16T12:37:52.838955Z",
     "iopub.status.idle": "2023-02-16T12:37:52.846274Z",
     "shell.execute_reply": "2023-02-16T12:37:52.845174Z"
    },
    "papermill": {
     "duration": 0.02655,
     "end_time": "2023-02-16T12:37:52.848853",
     "exception": false,
     "start_time": "2023-02-16T12:37:52.822303",
     "status": "completed"
    },
    "tags": []
   },
   "outputs": [
    {
     "data": {
      "text/plain": [
       "(248738, 7)"
      ]
     },
     "execution_count": 5,
     "metadata": {},
     "output_type": "execute_result"
    }
   ],
   "source": [
    "df.shape"
   ]
  },
  {
   "cell_type": "code",
   "execution_count": 6,
   "id": "8a58f813",
   "metadata": {
    "execution": {
     "iopub.execute_input": "2023-02-16T12:37:52.881501Z",
     "iopub.status.busy": "2023-02-16T12:37:52.880711Z",
     "iopub.status.idle": "2023-02-16T12:37:53.164616Z",
     "shell.execute_reply": "2023-02-16T12:37:53.163394Z"
    },
    "papermill": {
     "duration": 0.303195,
     "end_time": "2023-02-16T12:37:53.167486",
     "exception": false,
     "start_time": "2023-02-16T12:37:52.864291",
     "status": "completed"
    },
    "tags": []
   },
   "outputs": [],
   "source": [
    "df.drop_duplicates(subset='text',inplace=True)"
   ]
  },
  {
   "cell_type": "code",
   "execution_count": 7,
   "id": "e16a1b4d",
   "metadata": {
    "execution": {
     "iopub.execute_input": "2023-02-16T12:37:53.201410Z",
     "iopub.status.busy": "2023-02-16T12:37:53.200641Z",
     "iopub.status.idle": "2023-02-16T12:37:53.207900Z",
     "shell.execute_reply": "2023-02-16T12:37:53.206634Z"
    },
    "papermill": {
     "duration": 0.027524,
     "end_time": "2023-02-16T12:37:53.210482",
     "exception": false,
     "start_time": "2023-02-16T12:37:53.182958",
     "status": "completed"
    },
    "tags": []
   },
   "outputs": [
    {
     "data": {
      "text/plain": [
       "(236023, 7)"
      ]
     },
     "execution_count": 7,
     "metadata": {},
     "output_type": "execute_result"
    }
   ],
   "source": [
    "df.shape"
   ]
  },
  {
   "cell_type": "code",
   "execution_count": 8,
   "id": "dc9b9b9c",
   "metadata": {
    "execution": {
     "iopub.execute_input": "2023-02-16T12:37:53.244183Z",
     "iopub.status.busy": "2023-02-16T12:37:53.243340Z",
     "iopub.status.idle": "2023-02-16T12:37:53.300389Z",
     "shell.execute_reply": "2023-02-16T12:37:53.299140Z"
    },
    "papermill": {
     "duration": 0.077119,
     "end_time": "2023-02-16T12:37:53.303527",
     "exception": false,
     "start_time": "2023-02-16T12:37:53.226408",
     "status": "completed"
    },
    "tags": []
   },
   "outputs": [
    {
     "name": "stdout",
     "output_type": "stream",
     "text": [
      "<class 'pandas.core.frame.DataFrame'>\n",
      "Int64Index: 236023 entries, 0 to 248738\n",
      "Data columns (total 7 columns):\n",
      " #   Column            Non-Null Count   Dtype              \n",
      "---  ------            --------------   -----              \n",
      " 0   tweet_created_at  236023 non-null  datetime64[ns, UTC]\n",
      " 1   text              236023 non-null  object             \n",
      " 2   Positive          236023 non-null  float64            \n",
      " 3   Negative          236023 non-null  float64            \n",
      " 4   Neutral           236023 non-null  float64            \n",
      " 5   Compound          236023 non-null  float64            \n",
      " 6   Sentiment         236023 non-null  object             \n",
      "dtypes: datetime64[ns, UTC](1), float64(4), object(2)\n",
      "memory usage: 14.4+ MB\n"
     ]
    }
   ],
   "source": [
    "df.info()"
   ]
  },
  {
   "cell_type": "code",
   "execution_count": 9,
   "id": "e035b431",
   "metadata": {
    "execution": {
     "iopub.execute_input": "2023-02-16T12:37:53.337511Z",
     "iopub.status.busy": "2023-02-16T12:37:53.337098Z",
     "iopub.status.idle": "2023-02-16T12:37:53.344454Z",
     "shell.execute_reply": "2023-02-16T12:37:53.343129Z"
    },
    "papermill": {
     "duration": 0.027798,
     "end_time": "2023-02-16T12:37:53.346715",
     "exception": false,
     "start_time": "2023-02-16T12:37:53.318917",
     "status": "completed"
    },
    "tags": []
   },
   "outputs": [
    {
     "data": {
      "text/plain": [
       "Index(['tweet_created_at', 'text', 'Positive', 'Negative', 'Neutral',\n",
       "       'Compound', 'Sentiment'],\n",
       "      dtype='object')"
      ]
     },
     "execution_count": 9,
     "metadata": {},
     "output_type": "execute_result"
    }
   ],
   "source": [
    "df.columns"
   ]
  },
  {
   "cell_type": "code",
   "execution_count": 10,
   "id": "1c2684db",
   "metadata": {
    "execution": {
     "iopub.execute_input": "2023-02-16T12:37:53.380423Z",
     "iopub.status.busy": "2023-02-16T12:37:53.379653Z",
     "iopub.status.idle": "2023-02-16T12:37:53.400638Z",
     "shell.execute_reply": "2023-02-16T12:37:53.399440Z"
    },
    "papermill": {
     "duration": 0.040912,
     "end_time": "2023-02-16T12:37:53.403500",
     "exception": false,
     "start_time": "2023-02-16T12:37:53.362588",
     "status": "completed"
    },
    "tags": []
   },
   "outputs": [],
   "source": [
    "df = df[['tweet_created_at', 'text', 'Sentiment']]"
   ]
  },
  {
   "cell_type": "code",
   "execution_count": 11,
   "id": "b40b256d",
   "metadata": {
    "execution": {
     "iopub.execute_input": "2023-02-16T12:37:53.436609Z",
     "iopub.status.busy": "2023-02-16T12:37:53.436145Z",
     "iopub.status.idle": "2023-02-16T12:37:53.451227Z",
     "shell.execute_reply": "2023-02-16T12:37:53.450001Z"
    },
    "papermill": {
     "duration": 0.034393,
     "end_time": "2023-02-16T12:37:53.453638",
     "exception": false,
     "start_time": "2023-02-16T12:37:53.419245",
     "status": "completed"
    },
    "tags": []
   },
   "outputs": [
    {
     "data": {
      "text/html": [
       "<div>\n",
       "<style scoped>\n",
       "    .dataframe tbody tr th:only-of-type {\n",
       "        vertical-align: middle;\n",
       "    }\n",
       "\n",
       "    .dataframe tbody tr th {\n",
       "        vertical-align: top;\n",
       "    }\n",
       "\n",
       "    .dataframe thead th {\n",
       "        text-align: right;\n",
       "    }\n",
       "</style>\n",
       "<table border=\"1\" class=\"dataframe\">\n",
       "  <thead>\n",
       "    <tr style=\"text-align: right;\">\n",
       "      <th></th>\n",
       "      <th>tweet_created_at</th>\n",
       "      <th>text</th>\n",
       "      <th>Sentiment</th>\n",
       "    </tr>\n",
       "  </thead>\n",
       "  <tbody>\n",
       "    <tr>\n",
       "      <th>0</th>\n",
       "      <td>2022-12-30 22:37:46+00:00</td>\n",
       "      <td>Men who have refused to listen to/attend @amer...</td>\n",
       "      <td>Negative</td>\n",
       "    </tr>\n",
       "    <tr>\n",
       "      <th>1</th>\n",
       "      <td>2022-12-30 22:30:58+00:00</td>\n",
       "      <td>@OvOBrezzzy Take amerix next</td>\n",
       "      <td>Neutral</td>\n",
       "    </tr>\n",
       "    <tr>\n",
       "      <th>2</th>\n",
       "      <td>2022-12-30 22:18:00+00:00</td>\n",
       "      <td>@AyodeleYo11 @amerix Nah I’m good my masculini...</td>\n",
       "      <td>Positive</td>\n",
       "    </tr>\n",
       "    <tr>\n",
       "      <th>3</th>\n",
       "      <td>2022-12-30 20:42:54+00:00</td>\n",
       "      <td>@Amerix_DontSimp There is no need for dating i...</td>\n",
       "      <td>Negative</td>\n",
       "    </tr>\n",
       "    <tr>\n",
       "      <th>4</th>\n",
       "      <td>2022-12-30 20:32:23+00:00</td>\n",
       "      <td>@DyeAnna7 @amerix @kibe From what cos nothing ...</td>\n",
       "      <td>Positive</td>\n",
       "    </tr>\n",
       "  </tbody>\n",
       "</table>\n",
       "</div>"
      ],
      "text/plain": [
       "           tweet_created_at  \\\n",
       "0 2022-12-30 22:37:46+00:00   \n",
       "1 2022-12-30 22:30:58+00:00   \n",
       "2 2022-12-30 22:18:00+00:00   \n",
       "3 2022-12-30 20:42:54+00:00   \n",
       "4 2022-12-30 20:32:23+00:00   \n",
       "\n",
       "                                                text Sentiment  \n",
       "0  Men who have refused to listen to/attend @amer...  Negative  \n",
       "1                       @OvOBrezzzy Take amerix next   Neutral  \n",
       "2  @AyodeleYo11 @amerix Nah I’m good my masculini...  Positive  \n",
       "3  @Amerix_DontSimp There is no need for dating i...  Negative  \n",
       "4  @DyeAnna7 @amerix @kibe From what cos nothing ...  Positive  "
      ]
     },
     "execution_count": 11,
     "metadata": {},
     "output_type": "execute_result"
    }
   ],
   "source": [
    "df.head()"
   ]
  },
  {
   "cell_type": "code",
   "execution_count": 12,
   "id": "43fb850e",
   "metadata": {
    "execution": {
     "iopub.execute_input": "2023-02-16T12:37:53.486403Z",
     "iopub.status.busy": "2023-02-16T12:37:53.485941Z",
     "iopub.status.idle": "2023-02-16T12:37:53.495564Z",
     "shell.execute_reply": "2023-02-16T12:37:53.494213Z"
    },
    "papermill": {
     "duration": 0.028686,
     "end_time": "2023-02-16T12:37:53.497883",
     "exception": false,
     "start_time": "2023-02-16T12:37:53.469197",
     "status": "completed"
    },
    "tags": []
   },
   "outputs": [
    {
     "data": {
      "text/plain": [
       "0     Men who have refused to listen to/attend @amer...\n",
       "1                          @OvOBrezzzy Take amerix next\n",
       "2     @AyodeleYo11 @amerix Nah I’m good my masculini...\n",
       "3     @Amerix_DontSimp There is no need for dating i...\n",
       "4     @DyeAnna7 @amerix @kibe From what cos nothing ...\n",
       "5     @salim_the_don @MwendiaJnr I see you unblocked...\n",
       "6     @german_kenyan @ML_Philosophy 🤣 yes they are a...\n",
       "7     @PadreMusa Amerix once said the alcohol menace...\n",
       "8     @DodoPicard You're in Eastafrica, he probably ...\n",
       "9                      @HBK_ACTIVIST @amerix @kibe Heal\n",
       "10                           Amerix student of the year\n",
       "11    @sholla_saddam These are notes from @amerix's ...\n",
       "12    @amerix I appreciate the intent of this, but I...\n",
       "13    @Mynames_Jefff @Biancawamu2 @amerix Wouldn't b...\n",
       "14    @sharbabababa @Biancawamu2 could be @amerix wife🤷\n",
       "15    @DyeAnna7 @amerix @kibe Was raised by toxic co...\n",
       "16    @butdarkacademia @purevibeezz good thing is An...\n",
       "17    @amerix The system needs you sick and depresse...\n",
       "18    As we end the year 2022, kindly pass my messag...\n",
       "19                       @Ha_thighness @yvng_joh Amerix\n",
       "Name: text, dtype: object"
      ]
     },
     "execution_count": 12,
     "metadata": {},
     "output_type": "execute_result"
    }
   ],
   "source": [
    "df['text'].head(20)"
   ]
  },
  {
   "cell_type": "code",
   "execution_count": 13,
   "id": "723d9134",
   "metadata": {
    "execution": {
     "iopub.execute_input": "2023-02-16T12:37:53.531559Z",
     "iopub.status.busy": "2023-02-16T12:37:53.531172Z",
     "iopub.status.idle": "2023-02-16T12:37:53.545377Z",
     "shell.execute_reply": "2023-02-16T12:37:53.544238Z"
    },
    "papermill": {
     "duration": 0.033747,
     "end_time": "2023-02-16T12:37:53.547792",
     "exception": false,
     "start_time": "2023-02-16T12:37:53.514045",
     "status": "completed"
    },
    "tags": []
   },
   "outputs": [
    {
     "data": {
      "text/html": [
       "<div>\n",
       "<style scoped>\n",
       "    .dataframe tbody tr th:only-of-type {\n",
       "        vertical-align: middle;\n",
       "    }\n",
       "\n",
       "    .dataframe tbody tr th {\n",
       "        vertical-align: top;\n",
       "    }\n",
       "\n",
       "    .dataframe thead th {\n",
       "        text-align: right;\n",
       "    }\n",
       "</style>\n",
       "<table border=\"1\" class=\"dataframe\">\n",
       "  <thead>\n",
       "    <tr style=\"text-align: right;\">\n",
       "      <th></th>\n",
       "      <th>tweet_created_at</th>\n",
       "      <th>text</th>\n",
       "      <th>Sentiment</th>\n",
       "    </tr>\n",
       "  </thead>\n",
       "  <tbody>\n",
       "    <tr>\n",
       "      <th>248719</th>\n",
       "      <td>2020-01-03 16:00:23+00:00</td>\n",
       "      <td>#FoodFriday means tasty snacks throughout the ...</td>\n",
       "      <td>Neutral</td>\n",
       "    </tr>\n",
       "    <tr>\n",
       "      <th>248720</th>\n",
       "      <td>2020-01-03 15:32:14+00:00</td>\n",
       "      <td>F U E L E D F R I D A Y\\nLooking for a fun, co...</td>\n",
       "      <td>Positive</td>\n",
       "    </tr>\n",
       "    <tr>\n",
       "      <th>248721</th>\n",
       "      <td>2020-01-03 15:15:13+00:00</td>\n",
       "      <td>Kummer reminds you to stay hydrated #foodfrida...</td>\n",
       "      <td>Neutral</td>\n",
       "    </tr>\n",
       "    <tr>\n",
       "      <th>248722</th>\n",
       "      <td>2020-01-03 15:14:57+00:00</td>\n",
       "      <td>Commercial #Kitchens need attention at a great...</td>\n",
       "      <td>Positive</td>\n",
       "    </tr>\n",
       "    <tr>\n",
       "      <th>248723</th>\n",
       "      <td>2020-01-03 15:11:01+00:00</td>\n",
       "      <td>Mary's Meals is changing lives in Zimbabwe htt...</td>\n",
       "      <td>Neutral</td>\n",
       "    </tr>\n",
       "    <tr>\n",
       "      <th>248724</th>\n",
       "      <td>2020-01-03 15:00:48+00:00</td>\n",
       "      <td>Will meat alternatives continue gaining popula...</td>\n",
       "      <td>Positive</td>\n",
       "    </tr>\n",
       "    <tr>\n",
       "      <th>248725</th>\n",
       "      <td>2020-01-03 14:29:10+00:00</td>\n",
       "      <td>These are our top five healthy recipes that yo...</td>\n",
       "      <td>Positive</td>\n",
       "    </tr>\n",
       "    <tr>\n",
       "      <th>248726</th>\n",
       "      <td>2020-01-03 14:01:57+00:00</td>\n",
       "      <td>Burned out on cooking after the holidays? Here...</td>\n",
       "      <td>Positive</td>\n",
       "    </tr>\n",
       "    <tr>\n",
       "      <th>248727</th>\n",
       "      <td>2020-01-03 14:00:38+00:00</td>\n",
       "      <td>Will you eat lettuce that is not grown in soil...</td>\n",
       "      <td>Neutral</td>\n",
       "    </tr>\n",
       "    <tr>\n",
       "      <th>248728</th>\n",
       "      <td>2020-01-03 13:49:24+00:00</td>\n",
       "      <td>#FoodFriday: Is it possible to treat things li...</td>\n",
       "      <td>Negative</td>\n",
       "    </tr>\n",
       "    <tr>\n",
       "      <th>248729</th>\n",
       "      <td>2020-01-03 13:33:59+00:00</td>\n",
       "      <td>Foodies, this particular country is one of our...</td>\n",
       "      <td>Positive</td>\n",
       "    </tr>\n",
       "    <tr>\n",
       "      <th>248730</th>\n",
       "      <td>2020-01-03 13:15:42+00:00</td>\n",
       "      <td>Today is usually #FoodFriday on this timeline....</td>\n",
       "      <td>Negative</td>\n",
       "    </tr>\n",
       "    <tr>\n",
       "      <th>248731</th>\n",
       "      <td>2020-01-03 13:06:15+00:00</td>\n",
       "      <td>#FoodFriday\\n\\nWhat are you cookin' up today o...</td>\n",
       "      <td>Positive</td>\n",
       "    </tr>\n",
       "    <tr>\n",
       "      <th>248732</th>\n",
       "      <td>2020-01-03 12:30:12+00:00</td>\n",
       "      <td>This weeks #FoodFriday is from @WoodsideBay 🍕\\...</td>\n",
       "      <td>Positive</td>\n",
       "    </tr>\n",
       "    <tr>\n",
       "      <th>248733</th>\n",
       "      <td>2020-01-03 12:05:03+00:00</td>\n",
       "      <td>Ring in the New Year with healthy eating. Chec...</td>\n",
       "      <td>Positive</td>\n",
       "    </tr>\n",
       "    <tr>\n",
       "      <th>248734</th>\n",
       "      <td>2020-01-03 11:15:48+00:00</td>\n",
       "      <td>'The old fool forgot the lessons of Blodeuwedd...</td>\n",
       "      <td>Negative</td>\n",
       "    </tr>\n",
       "    <tr>\n",
       "      <th>248735</th>\n",
       "      <td>2020-01-03 10:08:33+00:00</td>\n",
       "      <td>African star Apple (Udara).\\nRich source of vi...</td>\n",
       "      <td>Positive</td>\n",
       "    </tr>\n",
       "    <tr>\n",
       "      <th>248736</th>\n",
       "      <td>2020-01-03 06:44:33+00:00</td>\n",
       "      <td>#FOODFRIDAY 🇮🇹🍫\\nIf you love chocolate, then b...</td>\n",
       "      <td>Positive</td>\n",
       "    </tr>\n",
       "    <tr>\n",
       "      <th>248737</th>\n",
       "      <td>2020-01-03 06:31:10+00:00</td>\n",
       "      <td>#foodfriday @baghdadcafeCT hey offer a variety...</td>\n",
       "      <td>Positive</td>\n",
       "    </tr>\n",
       "    <tr>\n",
       "      <th>248738</th>\n",
       "      <td>2020-01-03 04:30:00+00:00</td>\n",
       "      <td>This Mangalorean special chicken curry can be ...</td>\n",
       "      <td>Positive</td>\n",
       "    </tr>\n",
       "  </tbody>\n",
       "</table>\n",
       "</div>"
      ],
      "text/plain": [
       "                tweet_created_at  \\\n",
       "248719 2020-01-03 16:00:23+00:00   \n",
       "248720 2020-01-03 15:32:14+00:00   \n",
       "248721 2020-01-03 15:15:13+00:00   \n",
       "248722 2020-01-03 15:14:57+00:00   \n",
       "248723 2020-01-03 15:11:01+00:00   \n",
       "248724 2020-01-03 15:00:48+00:00   \n",
       "248725 2020-01-03 14:29:10+00:00   \n",
       "248726 2020-01-03 14:01:57+00:00   \n",
       "248727 2020-01-03 14:00:38+00:00   \n",
       "248728 2020-01-03 13:49:24+00:00   \n",
       "248729 2020-01-03 13:33:59+00:00   \n",
       "248730 2020-01-03 13:15:42+00:00   \n",
       "248731 2020-01-03 13:06:15+00:00   \n",
       "248732 2020-01-03 12:30:12+00:00   \n",
       "248733 2020-01-03 12:05:03+00:00   \n",
       "248734 2020-01-03 11:15:48+00:00   \n",
       "248735 2020-01-03 10:08:33+00:00   \n",
       "248736 2020-01-03 06:44:33+00:00   \n",
       "248737 2020-01-03 06:31:10+00:00   \n",
       "248738 2020-01-03 04:30:00+00:00   \n",
       "\n",
       "                                                     text Sentiment  \n",
       "248719  #FoodFriday means tasty snacks throughout the ...   Neutral  \n",
       "248720  F U E L E D F R I D A Y\\nLooking for a fun, co...  Positive  \n",
       "248721  Kummer reminds you to stay hydrated #foodfrida...   Neutral  \n",
       "248722  Commercial #Kitchens need attention at a great...  Positive  \n",
       "248723  Mary's Meals is changing lives in Zimbabwe htt...   Neutral  \n",
       "248724  Will meat alternatives continue gaining popula...  Positive  \n",
       "248725  These are our top five healthy recipes that yo...  Positive  \n",
       "248726  Burned out on cooking after the holidays? Here...  Positive  \n",
       "248727  Will you eat lettuce that is not grown in soil...   Neutral  \n",
       "248728  #FoodFriday: Is it possible to treat things li...  Negative  \n",
       "248729  Foodies, this particular country is one of our...  Positive  \n",
       "248730  Today is usually #FoodFriday on this timeline....  Negative  \n",
       "248731  #FoodFriday\\n\\nWhat are you cookin' up today o...  Positive  \n",
       "248732  This weeks #FoodFriday is from @WoodsideBay 🍕\\...  Positive  \n",
       "248733  Ring in the New Year with healthy eating. Chec...  Positive  \n",
       "248734  'The old fool forgot the lessons of Blodeuwedd...  Negative  \n",
       "248735  African star Apple (Udara).\\nRich source of vi...  Positive  \n",
       "248736  #FOODFRIDAY 🇮🇹🍫\\nIf you love chocolate, then b...  Positive  \n",
       "248737  #foodfriday @baghdadcafeCT hey offer a variety...  Positive  \n",
       "248738  This Mangalorean special chicken curry can be ...  Positive  "
      ]
     },
     "execution_count": 13,
     "metadata": {},
     "output_type": "execute_result"
    }
   ],
   "source": [
    "df.tail(20)"
   ]
  },
  {
   "cell_type": "code",
   "execution_count": 14,
   "id": "f085260c",
   "metadata": {
    "execution": {
     "iopub.execute_input": "2023-02-16T12:37:53.582318Z",
     "iopub.status.busy": "2023-02-16T12:37:53.581899Z",
     "iopub.status.idle": "2023-02-16T12:38:06.008856Z",
     "shell.execute_reply": "2023-02-16T12:38:06.007635Z"
    },
    "papermill": {
     "duration": 12.447516,
     "end_time": "2023-02-16T12:38:06.011752",
     "exception": false,
     "start_time": "2023-02-16T12:37:53.564236",
     "status": "completed"
    },
    "tags": []
   },
   "outputs": [
    {
     "data": {
      "application/vnd.jupyter.widget-view+json": {
       "model_id": "05c4d347926f4943b515e797dd8e61cb",
       "version_major": 2,
       "version_minor": 0
      },
      "text/plain": [
       "Downloading:   0%|          | 0.00/28.0 [00:00<?, ?B/s]"
      ]
     },
     "metadata": {},
     "output_type": "display_data"
    },
    {
     "data": {
      "application/vnd.jupyter.widget-view+json": {
       "model_id": "1cb27510964c4502889d8f1bef4b3d00",
       "version_major": 2,
       "version_minor": 0
      },
      "text/plain": [
       "Downloading:   0%|          | 0.00/226k [00:00<?, ?B/s]"
      ]
     },
     "metadata": {},
     "output_type": "display_data"
    },
    {
     "data": {
      "application/vnd.jupyter.widget-view+json": {
       "model_id": "9eeba33864224e2f9e2230c145930dbd",
       "version_major": 2,
       "version_minor": 0
      },
      "text/plain": [
       "Downloading:   0%|          | 0.00/455k [00:00<?, ?B/s]"
      ]
     },
     "metadata": {},
     "output_type": "display_data"
    },
    {
     "data": {
      "application/vnd.jupyter.widget-view+json": {
       "model_id": "f6438e08ed7a4452bf405f15b7f372cd",
       "version_major": 2,
       "version_minor": 0
      },
      "text/plain": [
       "Downloading:   0%|          | 0.00/570 [00:00<?, ?B/s]"
      ]
     },
     "metadata": {},
     "output_type": "display_data"
    }
   ],
   "source": [
    "tokenizer = BertTokenizerFast.from_pretrained('bert-base-uncased')"
   ]
  },
  {
   "cell_type": "code",
   "execution_count": 15,
   "id": "a42f5fde",
   "metadata": {
    "execution": {
     "iopub.execute_input": "2023-02-16T12:38:06.047787Z",
     "iopub.status.busy": "2023-02-16T12:38:06.047389Z",
     "iopub.status.idle": "2023-02-16T12:38:14.683081Z",
     "shell.execute_reply": "2023-02-16T12:38:14.681812Z"
    },
    "papermill": {
     "duration": 8.657565,
     "end_time": "2023-02-16T12:38:14.686338",
     "exception": false,
     "start_time": "2023-02-16T12:38:06.028773",
     "status": "completed"
    },
    "tags": []
   },
   "outputs": [],
   "source": [
    "tokenizer_1 = AutoTokenizer.from_pretrained('bert-base-uncased')"
   ]
  },
  {
   "cell_type": "code",
   "execution_count": 16,
   "id": "4ac7d3a3",
   "metadata": {
    "execution": {
     "iopub.execute_input": "2023-02-16T12:38:14.721757Z",
     "iopub.status.busy": "2023-02-16T12:38:14.721345Z",
     "iopub.status.idle": "2023-02-16T12:38:24.135495Z",
     "shell.execute_reply": "2023-02-16T12:38:24.134150Z"
    },
    "papermill": {
     "duration": 9.435268,
     "end_time": "2023-02-16T12:38:24.138325",
     "exception": false,
     "start_time": "2023-02-16T12:38:14.703057",
     "status": "completed"
    },
    "tags": []
   },
   "outputs": [
    {
     "name": "stdout",
     "output_type": "stream",
     "text": [
      "99.80984576378619% of the emojis are not identified by this tokenizer.\n"
     ]
    }
   ],
   "source": [
    "emoji_list = list(emoji.EMOJI_DATA.keys())\n",
    "\n",
    "cnt = 0\n",
    "\n",
    "for e in emoji_list:\n",
    "    tokenized = tokenizer.decode(tokenizer.encode(e)).strip(\"</s>\").strip()\n",
    "    if e not in tokenized:\n",
    "        cnt += 1\n",
    "print(f\"{cnt/len(emoji_list)*100}% of the emojis are not identified by this tokenizer.\")"
   ]
  },
  {
   "cell_type": "code",
   "execution_count": 17,
   "id": "16e39d84",
   "metadata": {
    "execution": {
     "iopub.execute_input": "2023-02-16T12:38:24.175374Z",
     "iopub.status.busy": "2023-02-16T12:38:24.173498Z",
     "iopub.status.idle": "2023-02-16T12:38:24.562769Z",
     "shell.execute_reply": "2023-02-16T12:38:24.561627Z"
    },
    "papermill": {
     "duration": 0.40951,
     "end_time": "2023-02-16T12:38:24.564978",
     "exception": false,
     "start_time": "2023-02-16T12:38:24.155468",
     "status": "completed"
    },
    "tags": []
   },
   "outputs": [
    {
     "name": "stdout",
     "output_type": "stream",
     "text": [
      "99.80984576378619% of the emojis are not identified by this tokenizer.\n"
     ]
    }
   ],
   "source": [
    "emoji_list = list(emoji.EMOJI_DATA.keys())\n",
    "\n",
    "cnt = 0\n",
    "\n",
    "for e in emoji_list:\n",
    "    tokenized = tokenizer_1.decode(tokenizer_1.encode(e)).strip(\"</s>\").strip()\n",
    "    if e not in tokenized:\n",
    "        cnt += 1\n",
    "print(f\"{cnt/len(emoji_list)*100}% of the emojis are not identified by this tokenizer.\")"
   ]
  },
  {
   "cell_type": "code",
   "execution_count": 18,
   "id": "ad7fc602",
   "metadata": {
    "execution": {
     "iopub.execute_input": "2023-02-16T12:38:24.601173Z",
     "iopub.status.busy": "2023-02-16T12:38:24.600227Z",
     "iopub.status.idle": "2023-02-16T12:38:29.432694Z",
     "shell.execute_reply": "2023-02-16T12:38:29.431656Z"
    },
    "papermill": {
     "duration": 4.853936,
     "end_time": "2023-02-16T12:38:29.435642",
     "exception": false,
     "start_time": "2023-02-16T12:38:24.581706",
     "status": "completed"
    },
    "tags": []
   },
   "outputs": [],
   "source": [
    "tokenizer_3 = BertTokenizer.from_pretrained('bert-base-uncased')"
   ]
  },
  {
   "cell_type": "code",
   "execution_count": 19,
   "id": "a45a06e2",
   "metadata": {
    "execution": {
     "iopub.execute_input": "2023-02-16T12:38:29.472986Z",
     "iopub.status.busy": "2023-02-16T12:38:29.471784Z",
     "iopub.status.idle": "2023-02-16T12:38:30.335246Z",
     "shell.execute_reply": "2023-02-16T12:38:30.334209Z"
    },
    "papermill": {
     "duration": 0.88554,
     "end_time": "2023-02-16T12:38:30.338187",
     "exception": false,
     "start_time": "2023-02-16T12:38:29.452647",
     "status": "completed"
    },
    "tags": []
   },
   "outputs": [
    {
     "name": "stdout",
     "output_type": "stream",
     "text": [
      "99.80984576378619% of the emojis are not identified by this tokenizer.\n"
     ]
    }
   ],
   "source": [
    "emoji_list = list(emoji.EMOJI_DATA.keys())\n",
    "\n",
    "cnt = 0\n",
    "\n",
    "for e in emoji_list:\n",
    "    tokenized = tokenizer_3.decode(tokenizer_3.encode(e)).strip(\"</s>\").strip()\n",
    "    if e not in tokenized:\n",
    "        cnt += 1\n",
    "print(f\"{cnt/len(emoji_list)*100}% of the emojis are not identified by this tokenizer.\")"
   ]
  },
  {
   "cell_type": "code",
   "execution_count": 20,
   "id": "a6abaaaf",
   "metadata": {
    "execution": {
     "iopub.execute_input": "2023-02-16T12:38:30.374425Z",
     "iopub.status.busy": "2023-02-16T12:38:30.374006Z",
     "iopub.status.idle": "2023-02-16T12:38:47.050618Z",
     "shell.execute_reply": "2023-02-16T12:38:47.049396Z"
    },
    "papermill": {
     "duration": 16.697781,
     "end_time": "2023-02-16T12:38:47.053520",
     "exception": false,
     "start_time": "2023-02-16T12:38:30.355739",
     "status": "completed"
    },
    "tags": []
   },
   "outputs": [
    {
     "data": {
      "application/vnd.jupyter.widget-view+json": {
       "model_id": "38f2a05fb5434c67a0bccd57e6226ac1",
       "version_major": 2,
       "version_minor": 0
      },
      "text/plain": [
       "Downloading:   0%|          | 0.00/656 [00:00<?, ?B/s]"
      ]
     },
     "metadata": {},
     "output_type": "display_data"
    },
    {
     "data": {
      "application/vnd.jupyter.widget-view+json": {
       "model_id": "53d91c4ea163449ba755405449a3557c",
       "version_major": 2,
       "version_minor": 0
      },
      "text/plain": [
       "Downloading:   0%|          | 0.00/797k [00:00<?, ?B/s]"
      ]
     },
     "metadata": {},
     "output_type": "display_data"
    },
    {
     "data": {
      "application/vnd.jupyter.widget-view+json": {
       "model_id": "7827ef394f564c52ba11e24347380ad1",
       "version_major": 2,
       "version_minor": 0
      },
      "text/plain": [
       "Downloading:   0%|          | 0.00/448k [00:00<?, ?B/s]"
      ]
     },
     "metadata": {},
     "output_type": "display_data"
    },
    {
     "data": {
      "application/vnd.jupyter.widget-view+json": {
       "model_id": "474e2271c73a44c69c08987adb62d1c3",
       "version_major": 2,
       "version_minor": 0
      },
      "text/plain": [
       "Downloading:   0%|          | 0.00/1.21M [00:00<?, ?B/s]"
      ]
     },
     "metadata": {},
     "output_type": "display_data"
    }
   ],
   "source": [
    "tokenizer_4 = AutoTokenizer.from_pretrained(\"openai-gpt\")"
   ]
  },
  {
   "cell_type": "code",
   "execution_count": 21,
   "id": "2cc1166e",
   "metadata": {
    "execution": {
     "iopub.execute_input": "2023-02-16T12:38:47.090438Z",
     "iopub.status.busy": "2023-02-16T12:38:47.090033Z",
     "iopub.status.idle": "2023-02-16T12:38:47.438749Z",
     "shell.execute_reply": "2023-02-16T12:38:47.437281Z"
    },
    "papermill": {
     "duration": 0.370031,
     "end_time": "2023-02-16T12:38:47.441209",
     "exception": false,
     "start_time": "2023-02-16T12:38:47.071178",
     "status": "completed"
    },
    "tags": []
   },
   "outputs": [
    {
     "name": "stdout",
     "output_type": "stream",
     "text": [
      "99.80984576378619% of the emojis are not identified by this tokenizer.\n"
     ]
    }
   ],
   "source": [
    "emoji_list = list(emoji.EMOJI_DATA.keys())\n",
    "\n",
    "cnt = 0\n",
    "\n",
    "for e in emoji_list:\n",
    "    tokenized = tokenizer_4.decode(tokenizer_4.encode(e)).strip(\"</s>\").strip()\n",
    "    if e not in tokenized:\n",
    "        cnt += 1\n",
    "print(f\"{cnt/len(emoji_list)*100}% of the emojis are not identified by this tokenizer.\")"
   ]
  },
  {
   "cell_type": "code",
   "execution_count": 22,
   "id": "eafa42ea",
   "metadata": {
    "execution": {
     "iopub.execute_input": "2023-02-16T12:38:47.478874Z",
     "iopub.status.busy": "2023-02-16T12:38:47.478456Z",
     "iopub.status.idle": "2023-02-16T12:38:47.484272Z",
     "shell.execute_reply": "2023-02-16T12:38:47.483179Z"
    },
    "papermill": {
     "duration": 0.027635,
     "end_time": "2023-02-16T12:38:47.486519",
     "exception": false,
     "start_time": "2023-02-16T12:38:47.458884",
     "status": "completed"
    },
    "tags": []
   },
   "outputs": [],
   "source": [
    "def emoji2description(text):\n",
    "\n",
    "    return emoji.replace_emoji(text, replace=lambda chars, data_dict: ' '.join(data_dict['en'].split('_')).strip(':'))"
   ]
  },
  {
   "cell_type": "code",
   "execution_count": 23,
   "id": "3002d0e2",
   "metadata": {
    "execution": {
     "iopub.execute_input": "2023-02-16T12:38:47.524135Z",
     "iopub.status.busy": "2023-02-16T12:38:47.523339Z",
     "iopub.status.idle": "2023-02-16T12:38:47.529217Z",
     "shell.execute_reply": "2023-02-16T12:38:47.528308Z"
    },
    "papermill": {
     "duration": 0.027331,
     "end_time": "2023-02-16T12:38:47.531478",
     "exception": false,
     "start_time": "2023-02-16T12:38:47.504147",
     "status": "completed"
    },
    "tags": []
   },
   "outputs": [],
   "source": [
    "def emoji2concat_emoji(text):\n",
    "    emoji_list = emoji.emoji_list(text)\n",
    "    ret = emoji.replace_emoji(text, replace='').strip()\n",
    "    for json in emoji_list:\n",
    "        this_emoji = json['emoji']\n",
    "        ret += ' ' + this_emoji\n",
    "    return ret"
   ]
  },
  {
   "cell_type": "code",
   "execution_count": 24,
   "id": "0690b2ca",
   "metadata": {
    "execution": {
     "iopub.execute_input": "2023-02-16T12:38:47.569212Z",
     "iopub.status.busy": "2023-02-16T12:38:47.568381Z",
     "iopub.status.idle": "2023-02-16T12:38:47.574972Z",
     "shell.execute_reply": "2023-02-16T12:38:47.574082Z"
    },
    "papermill": {
     "duration": 0.028357,
     "end_time": "2023-02-16T12:38:47.577469",
     "exception": false,
     "start_time": "2023-02-16T12:38:47.549112",
     "status": "completed"
    },
    "tags": []
   },
   "outputs": [],
   "source": [
    "def emoji2concat_description(text):\n",
    "    emoji_list = emoji.emoji_list(text)\n",
    "    ret = emoji.replace_emoji(text, replace='').strip()\n",
    "    for json in emoji_list:\n",
    "        this_desc = ' '.join(emoji.EMOJI_DATA[json['emoji']]['en'].split('_')).strip(':')\n",
    "        ret += ' ' + this_desc\n",
    "    return ret"
   ]
  },
  {
   "cell_type": "code",
   "execution_count": 25,
   "id": "62e627d9",
   "metadata": {
    "execution": {
     "iopub.execute_input": "2023-02-16T12:38:47.614875Z",
     "iopub.status.busy": "2023-02-16T12:38:47.614135Z",
     "iopub.status.idle": "2023-02-16T12:39:51.983375Z",
     "shell.execute_reply": "2023-02-16T12:39:51.982186Z"
    },
    "papermill": {
     "duration": 64.391275,
     "end_time": "2023-02-16T12:39:51.986329",
     "exception": false,
     "start_time": "2023-02-16T12:38:47.595054",
     "status": "completed"
    },
    "tags": []
   },
   "outputs": [],
   "source": [
    "texts_new = []\n",
    "\n",
    "for t in df.text:\n",
    "    texts_new.append(\n",
    "        emoji2description(emoji2concat_emoji(emoji2concat_description((t))))\n",
    "    )"
   ]
  },
  {
   "cell_type": "code",
   "execution_count": 26,
   "id": "b4ca6c7b",
   "metadata": {
    "execution": {
     "iopub.execute_input": "2023-02-16T12:39:52.024385Z",
     "iopub.status.busy": "2023-02-16T12:39:52.023936Z",
     "iopub.status.idle": "2023-02-16T12:39:52.065837Z",
     "shell.execute_reply": "2023-02-16T12:39:52.064655Z"
    },
    "papermill": {
     "duration": 0.064137,
     "end_time": "2023-02-16T12:39:52.068703",
     "exception": false,
     "start_time": "2023-02-16T12:39:52.004566",
     "status": "completed"
    },
    "tags": []
   },
   "outputs": [],
   "source": [
    "df['text_clean'] = texts_new"
   ]
  },
  {
   "cell_type": "code",
   "execution_count": 27,
   "id": "c393ff23",
   "metadata": {
    "execution": {
     "iopub.execute_input": "2023-02-16T12:39:52.107197Z",
     "iopub.status.busy": "2023-02-16T12:39:52.105892Z",
     "iopub.status.idle": "2023-02-16T12:39:52.113584Z",
     "shell.execute_reply": "2023-02-16T12:39:52.112802Z"
    },
    "papermill": {
     "duration": 0.029062,
     "end_time": "2023-02-16T12:39:52.115647",
     "exception": false,
     "start_time": "2023-02-16T12:39:52.086585",
     "status": "completed"
    },
    "tags": []
   },
   "outputs": [
    {
     "data": {
      "text/plain": [
       "array(['#FoodFriday means tasty snacks throughout the day!\\n😋💙🥄🍫\\n📷 : @flexible_nati\\n#haveaplant https://t.co/pNSAHV2hDh',\n",
       "       'F U E L E D F R I D A Y\\nLooking for a fun, colorful and healthy recipe to kick off the new year? Well, check out this delicious and beautiful dish!\\n・・・\\nEggs baked in Veggie Nests. Head over to our insta for the recipe. 🤤\\n\\n#fueledfriday #foodfriday #runinrabbit #borntorunfree https://t.co/2Fwez5uYb2',\n",
       "       'Kummer reminds you to stay hydrated #foodfriday https://t.co/rkZmatd97f',\n",
       "       'Commercial #Kitchens need attention at a great price! 🦏 Rhino Shine has a solid plan unlike #JasonGarrett future 🤷🏻\\u200d♂️. #Dallas #winning #coupons #restaurant #hood #cleaning #foodfriday #trucks https://t.co/U0V5BO33uo',\n",
       "       \"Mary's Meals is changing lives in Zimbabwe https://t.co/bioEZAt47N #feelgoodfriday #FoodFriday\",\n",
       "       'Will meat alternatives continue gaining popularity in 2020? https://t.co/wzvi1XOBmj via @YourMorning ht  @LetsTalkScience 🥬🍔🤑 #food #health #diet #nutrition #meatless #plantbased #Vegan #vegetarian #HealthyLiving #HealthyEating #BusinessGrowth #business #FoodFriday',\n",
       "       'These are our top five healthy recipes that you can throw together in the morning and enjoy in the evening (as well as take leftovers for lunch the next day).\\n#FoodFriday #EatHealthy #NewYearNewYou #PersonalTraining #FitnessTogether                       https://t.co/TiKGdeqr1p',\n",
       "       \"Burned out on cooking after the holidays? Here's a selection of quick and easy meals to get you inspired #FoodFriday\\nhttps://t.co/uLYOPeQHQc https://t.co/nyWopWqh79\",\n",
       "       'Will you eat lettuce that is not grown in soil? Large scale #Hydroponics can produce hyper local food in a small space, even shipping containers or in your own home. https://t.co/Ogy8UgHMUt #FoodFriday',\n",
       "       '#FoodFriday: Is it possible to treat things like anxiety and depression with food? https://t.co/93Ez7VwziK\\n#KinderInTheKeys #MentalHealth #Anxiety #PTSD #Depression #Trauma #Recovery #Healing #Treatment #Food #Wellness',\n",
       "       \"Foodies, this particular country is one of our FAV when it comes to FOOD!! 🥘🍲🥗🍜\\n\\nLet's see if you can guess it!! 🤓\\n\\n#FoodFriday #GuessGame #Guess #Fun #FridayThoughts #foodie https://t.co/gK3x3uMArb\",\n",
       "       'Today is usually #FoodFriday on this timeline.\\n\\nI tweet about food. \\n\\nIf you can postpone your instant gratification from bad foods, you can postpone bad habits in your life.\\n\\nHow you approach food is evidently how you approach your other aspects of life.\\n\\n#FoodFriday',\n",
       "       \"#FoodFriday\\n\\nWhat are you cookin' up today or this weekend? What's your favorite recipe? Looking for some new ideas! https://t.co/3VRQTRCxd3\",\n",
       "       'This weeks #FoodFriday is from @WoodsideBay 🍕\\n\\nWould you be interested in a #Chef position with us?\\nThen why not visit the Darwin Escapes website, locate the Careers tab and search for our Chef vacancies 😀\\n\\n#Jobs https://t.co/FWNknvURhn',\n",
       "       'Ring in the New Year with healthy eating. Checkout #ClickNCook #healthrecipe Fruity Homemade Oatmeal. https://t.co/7XR3tw6XsH\\n#FoodFriday',\n",
       "       \"'The old fool forgot the lessons of Blodeuwedd and Frankenstein: never create anything smarter, or more ruthless, than yourself.'\\n.\\n#FoodFriday featuring cheesecake (that I'd been craving since Tuesday but been too lazy to…\\n\\n📸 https://t.co/U6yxC4h3sz via https://t.co/Z51VYxAyBJ https://t.co/8f5Lqkp8hm\",\n",
       "       'African star Apple (Udara).\\nRich source of vita.C is one of the wonderful fruits offered by nature with important health benefits.\\nRanging from tackling toothache, mouth gum disease, soar throat, helps in weight loss and good for expecting mothers \\n\\n#FoodFriday\\n#CoalCityConnect https://t.co/ODyfnS8VVm',\n",
       "       '#FOODFRIDAY 🇮🇹🍫\\nIf you love chocolate, then board the first flight to California. The Nutella Pop Up Hotel is about to open. Discover more in this video. Do you know? Nutella is an Italian product...of course!\\n#italy #food #nutella #language #school… https://t.co/bgG5haT6mQ https://t.co/gw0JhCqZHE',\n",
       "       '#foodfriday @baghdadcafeCT hey offer a variety of delicious foods, from pizza to tacos and sticky wings! For your convenience they also avail on @ubereats_za https://t.co/P8sdNvfMcg',\n",
       "       'This Mangalorean special chicken curry can be paired best with neer dosa or steamed rice. What’s your pick?\\nRecipe Link: https://t.co/iyYCpcuoeA\\n#FoodFriday https://t.co/Bke1o79Zio'],\n",
       "      dtype=object)"
      ]
     },
     "execution_count": 27,
     "metadata": {},
     "output_type": "execute_result"
    }
   ],
   "source": [
    "df['text'].tail(20).values"
   ]
  },
  {
   "cell_type": "code",
   "execution_count": 28,
   "id": "8f946cf3",
   "metadata": {
    "execution": {
     "iopub.execute_input": "2023-02-16T12:39:52.154057Z",
     "iopub.status.busy": "2023-02-16T12:39:52.152904Z",
     "iopub.status.idle": "2023-02-16T12:39:52.160566Z",
     "shell.execute_reply": "2023-02-16T12:39:52.159321Z"
    },
    "papermill": {
     "duration": 0.029504,
     "end_time": "2023-02-16T12:39:52.163156",
     "exception": false,
     "start_time": "2023-02-16T12:39:52.133652",
     "status": "completed"
    },
    "tags": []
   },
   "outputs": [
    {
     "data": {
      "text/plain": [
       "array(['#FoodFriday means tasty snacks throughout the day!\\n\\n : @flexible_nati\\n#haveaplant https://t.co/pNSAHV2hDh face savoring food blue heart spoon chocolate bar camera',\n",
       "       'F U E L E D F R I D A Y\\nLooking for a fun, colorful and healthy recipe to kick off the new year? Well, check out this delicious and beautiful dish!\\n・・・\\nEggs baked in Veggie Nests. Head over to our insta for the recipe. \\n\\n#fueledfriday #foodfriday #runinrabbit #borntorunfree https://t.co/2Fwez5uYb2 drooling face',\n",
       "       'Kummer reminds you to stay hydrated #foodfriday https://t.co/rkZmatd97f',\n",
       "       'Commercial #Kitchens need attention at a great price!  Rhino Shine has a solid plan unlike #JasonGarrett future . #Dallas #winning #coupons #restaurant #hood #cleaning #foodfriday #trucks https://t.co/U0V5BO33uo rhinoceros man shrugging light skin tone',\n",
       "       \"Mary's Meals is changing lives in Zimbabwe https://t.co/bioEZAt47N #feelgoodfriday #FoodFriday\",\n",
       "       'Will meat alternatives continue gaining popularity in 2020? https://t.co/wzvi1XOBmj via @YourMorning ht  @LetsTalkScience  #food #health #diet #nutrition #meatless #plantbased #Vegan #vegetarian #HealthyLiving #HealthyEating #BusinessGrowth #business #FoodFriday leafy green hamburger money-mouth face',\n",
       "       'These are our top five healthy recipes that you can throw together in the morning and enjoy in the evening (as well as take leftovers for lunch the next day).\\n#FoodFriday #EatHealthy #NewYearNewYou #PersonalTraining #FitnessTogether                       https://t.co/TiKGdeqr1p',\n",
       "       \"Burned out on cooking after the holidays? Here's a selection of quick and easy meals to get you inspired #FoodFriday\\nhttps://t.co/uLYOPeQHQc https://t.co/nyWopWqh79\",\n",
       "       'Will you eat lettuce that is not grown in soil? Large scale #Hydroponics can produce hyper local food in a small space, even shipping containers or in your own home. https://t.co/Ogy8UgHMUt #FoodFriday',\n",
       "       '#FoodFriday: Is it possible to treat things like anxiety and depression with food? https://t.co/93Ez7VwziK\\n#KinderInTheKeys #MentalHealth #Anxiety #PTSD #Depression #Trauma #Recovery #Healing #Treatment #Food #Wellness',\n",
       "       \"Foodies, this particular country is one of our FAV when it comes to FOOD!! \\n\\nLet's see if you can guess it!! \\n\\n#FoodFriday #GuessGame #Guess #Fun #FridayThoughts #foodie https://t.co/gK3x3uMArb shallow pan of food pot of food green salad steaming bowl nerd face\",\n",
       "       'Today is usually #FoodFriday on this timeline.\\n\\nI tweet about food. \\n\\nIf you can postpone your instant gratification from bad foods, you can postpone bad habits in your life.\\n\\nHow you approach food is evidently how you approach your other aspects of life.\\n\\n#FoodFriday',\n",
       "       \"#FoodFriday\\n\\nWhat are you cookin' up today or this weekend? What's your favorite recipe? Looking for some new ideas! https://t.co/3VRQTRCxd3\",\n",
       "       'This weeks #FoodFriday is from @WoodsideBay \\n\\nWould you be interested in a #Chef position with us?\\nThen why not visit the Darwin Escapes website, locate the Careers tab and search for our Chef vacancies \\n\\n#Jobs https://t.co/FWNknvURhn pizza grinning face',\n",
       "       'Ring in the New Year with healthy eating. Checkout #ClickNCook #healthrecipe Fruity Homemade Oatmeal. https://t.co/7XR3tw6XsH\\n#FoodFriday',\n",
       "       \"'The old fool forgot the lessons of Blodeuwedd and Frankenstein: never create anything smarter, or more ruthless, than yourself.'\\n.\\n#FoodFriday featuring cheesecake (that I'd been craving since Tuesday but been too lazy to…\\n\\n https://t.co/U6yxC4h3sz via https://t.co/Z51VYxAyBJ https://t.co/8f5Lqkp8hm camera with flash\",\n",
       "       'African star Apple (Udara).\\nRich source of vita.C is one of the wonderful fruits offered by nature with important health benefits.\\nRanging from tackling toothache, mouth gum disease, soar throat, helps in weight loss and good for expecting mothers \\n\\n#FoodFriday\\n#CoalCityConnect https://t.co/ODyfnS8VVm',\n",
       "       '#FOODFRIDAY \\nIf you love chocolate, then board the first flight to California. The Nutella Pop Up Hotel is about to open. Discover more in this video. Do you know? Nutella is an Italian product...of course!\\n#italy #food #nutella #language #school… https://t.co/bgG5haT6mQ https://t.co/gw0JhCqZHE Italy chocolate bar',\n",
       "       '#foodfriday @baghdadcafeCT hey offer a variety of delicious foods, from pizza to tacos and sticky wings! For your convenience they also avail on @ubereats_za https://t.co/P8sdNvfMcg',\n",
       "       'This Mangalorean special chicken curry can be paired best with neer dosa or steamed rice. What’s your pick?\\nRecipe Link: https://t.co/iyYCpcuoeA\\n#FoodFriday https://t.co/Bke1o79Zio'],\n",
       "      dtype=object)"
      ]
     },
     "execution_count": 28,
     "metadata": {},
     "output_type": "execute_result"
    }
   ],
   "source": [
    "df['text_clean'].tail(20).values"
   ]
  },
  {
   "cell_type": "code",
   "execution_count": 29,
   "id": "367ea33c",
   "metadata": {
    "execution": {
     "iopub.execute_input": "2023-02-16T12:39:52.201805Z",
     "iopub.status.busy": "2023-02-16T12:39:52.200694Z",
     "iopub.status.idle": "2023-02-16T12:39:52.206720Z",
     "shell.execute_reply": "2023-02-16T12:39:52.205868Z"
    },
    "papermill": {
     "duration": 0.027662,
     "end_time": "2023-02-16T12:39:52.208969",
     "exception": false,
     "start_time": "2023-02-16T12:39:52.181307",
     "status": "completed"
    },
    "tags": []
   },
   "outputs": [],
   "source": [
    "# remove multiple spaces\n",
    "\n",
    "def remove_mult_spaces(text): \n",
    "    return re.sub(\"\\s\\s+\" , \" \", text)"
   ]
  },
  {
   "cell_type": "code",
   "execution_count": 30,
   "id": "ccbce6c6",
   "metadata": {
    "execution": {
     "iopub.execute_input": "2023-02-16T12:39:52.247379Z",
     "iopub.status.busy": "2023-02-16T12:39:52.246231Z",
     "iopub.status.idle": "2023-02-16T12:39:52.253702Z",
     "shell.execute_reply": "2023-02-16T12:39:52.252893Z"
    },
    "papermill": {
     "duration": 0.029029,
     "end_time": "2023-02-16T12:39:52.256016",
     "exception": false,
     "start_time": "2023-02-16T12:39:52.226987",
     "status": "completed"
    },
    "tags": []
   },
   "outputs": [],
   "source": [
    "#Remove punctuations, links, mentions and \\r\\n new line characters\n",
    "\n",
    "def strip_all_entities(text): \n",
    "    text = text.replace('\\r', '').replace('\\n', ' ').replace('\\n', ' ').lower() #remove \\n and \\r and lowercase\n",
    "    text = re.sub(r\"(?:\\@|https?\\://)\\S+\", \"\", text) #remove links and mentions\n",
    "    text = re.sub(r'[^\\x00-\\x7f]',r'', text) #remove non utf8/ascii characters such as '\\x9a\\x91\\x97\\x9a\\x97'\n",
    "    banned_list= string.punctuation + 'Ã'+'±'+'ã'+'¼'+'â'+'»'+'§'\n",
    "    table = str.maketrans('', '', banned_list)\n",
    "    text = text.translate(table)\n",
    "    return text"
   ]
  },
  {
   "cell_type": "code",
   "execution_count": 31,
   "id": "af52eb85",
   "metadata": {
    "execution": {
     "iopub.execute_input": "2023-02-16T12:39:52.294611Z",
     "iopub.status.busy": "2023-02-16T12:39:52.293755Z",
     "iopub.status.idle": "2023-02-16T12:39:52.300391Z",
     "shell.execute_reply": "2023-02-16T12:39:52.299260Z"
    },
    "papermill": {
     "duration": 0.028906,
     "end_time": "2023-02-16T12:39:52.303035",
     "exception": false,
     "start_time": "2023-02-16T12:39:52.274129",
     "status": "completed"
    },
    "tags": []
   },
   "outputs": [],
   "source": [
    "#clean hashtags at the end of the sentence, and keep those in the middle of the sentence by removing just the # symbol\n",
    "\n",
    "def clean_hashtags(tweet):\n",
    "    new_tweet = \" \".join(word.strip() for word in re.split('#(?!(?:hashtag)\\b)[\\w-]+(?=(?:\\s+#[\\w-]+)*\\s*$)', tweet)) #remove last hashtags\n",
    "    new_tweet2 = \" \".join(word.strip() for word in re.split('#|_', new_tweet)) #remove hashtags symbol from words in the middle of the sentence\n",
    "    return new_tweet2"
   ]
  },
  {
   "cell_type": "code",
   "execution_count": 32,
   "id": "e1051ca0",
   "metadata": {
    "execution": {
     "iopub.execute_input": "2023-02-16T12:39:52.340915Z",
     "iopub.status.busy": "2023-02-16T12:39:52.340463Z",
     "iopub.status.idle": "2023-02-16T12:39:52.347407Z",
     "shell.execute_reply": "2023-02-16T12:39:52.346197Z"
    },
    "papermill": {
     "duration": 0.028291,
     "end_time": "2023-02-16T12:39:52.349544",
     "exception": false,
     "start_time": "2023-02-16T12:39:52.321253",
     "status": "completed"
    },
    "tags": []
   },
   "outputs": [],
   "source": [
    "#Filter special characters such as & and $ present in some words\n",
    "\n",
    "def filter_chars(a):\n",
    "    sent = []\n",
    "    for word in a.split(' '):\n",
    "        if ('$' in word) | ('&' in word):\n",
    "            sent.append('')\n",
    "        else:\n",
    "            sent.append(word)\n",
    "    return ' '.join(sent)"
   ]
  },
  {
   "cell_type": "code",
   "execution_count": 33,
   "id": "58dd0dd2",
   "metadata": {
    "execution": {
     "iopub.execute_input": "2023-02-16T12:39:52.388714Z",
     "iopub.status.busy": "2023-02-16T12:39:52.387519Z",
     "iopub.status.idle": "2023-02-16T12:39:59.029665Z",
     "shell.execute_reply": "2023-02-16T12:39:59.028628Z"
    },
    "papermill": {
     "duration": 6.663796,
     "end_time": "2023-02-16T12:39:59.032171",
     "exception": false,
     "start_time": "2023-02-16T12:39:52.368375",
     "status": "completed"
    },
    "tags": []
   },
   "outputs": [],
   "source": [
    "deeper_clean = []\n",
    "\n",
    "for t in df.text_clean:\n",
    "    deeper_clean.append(\n",
    "        remove_mult_spaces(\n",
    "            filter_chars(\n",
    "                clean_hashtags(\n",
    "                    strip_all_entities(\n",
    "                        (t)\n",
    "                    ))))\n",
    "    )"
   ]
  },
  {
   "cell_type": "code",
   "execution_count": 34,
   "id": "e40537b3",
   "metadata": {
    "execution": {
     "iopub.execute_input": "2023-02-16T12:39:59.071518Z",
     "iopub.status.busy": "2023-02-16T12:39:59.070587Z",
     "iopub.status.idle": "2023-02-16T12:39:59.107880Z",
     "shell.execute_reply": "2023-02-16T12:39:59.106734Z"
    },
    "papermill": {
     "duration": 0.059347,
     "end_time": "2023-02-16T12:39:59.110573",
     "exception": false,
     "start_time": "2023-02-16T12:39:59.051226",
     "status": "completed"
    },
    "tags": []
   },
   "outputs": [],
   "source": [
    "df['text_clean_deeper'] = deeper_clean"
   ]
  },
  {
   "cell_type": "code",
   "execution_count": 35,
   "id": "d1f33233",
   "metadata": {
    "execution": {
     "iopub.execute_input": "2023-02-16T12:39:59.148515Z",
     "iopub.status.busy": "2023-02-16T12:39:59.148074Z",
     "iopub.status.idle": "2023-02-16T12:39:59.155956Z",
     "shell.execute_reply": "2023-02-16T12:39:59.154758Z"
    },
    "papermill": {
     "duration": 0.029395,
     "end_time": "2023-02-16T12:39:59.158063",
     "exception": false,
     "start_time": "2023-02-16T12:39:59.128668",
     "status": "completed"
    },
    "tags": []
   },
   "outputs": [
    {
     "data": {
      "text/plain": [
       "Index(['tweet_created_at', 'text', 'Sentiment', 'text_clean',\n",
       "       'text_clean_deeper'],\n",
       "      dtype='object')"
      ]
     },
     "execution_count": 35,
     "metadata": {},
     "output_type": "execute_result"
    }
   ],
   "source": [
    "df.columns"
   ]
  },
  {
   "cell_type": "code",
   "execution_count": 36,
   "id": "20271ff4",
   "metadata": {
    "execution": {
     "iopub.execute_input": "2023-02-16T12:39:59.196456Z",
     "iopub.status.busy": "2023-02-16T12:39:59.195676Z",
     "iopub.status.idle": "2023-02-16T12:39:59.202754Z",
     "shell.execute_reply": "2023-02-16T12:39:59.201706Z"
    },
    "papermill": {
     "duration": 0.028689,
     "end_time": "2023-02-16T12:39:59.204999",
     "exception": false,
     "start_time": "2023-02-16T12:39:59.176310",
     "status": "completed"
    },
    "tags": []
   },
   "outputs": [
    {
     "data": {
      "text/plain": [
       "array(['#FoodFriday means tasty snacks throughout the day!\\n😋💙🥄🍫\\n📷 : @flexible_nati\\n#haveaplant https://t.co/pNSAHV2hDh',\n",
       "       'F U E L E D F R I D A Y\\nLooking for a fun, colorful and healthy recipe to kick off the new year? Well, check out this delicious and beautiful dish!\\n・・・\\nEggs baked in Veggie Nests. Head over to our insta for the recipe. 🤤\\n\\n#fueledfriday #foodfriday #runinrabbit #borntorunfree https://t.co/2Fwez5uYb2',\n",
       "       'Kummer reminds you to stay hydrated #foodfriday https://t.co/rkZmatd97f',\n",
       "       'Commercial #Kitchens need attention at a great price! 🦏 Rhino Shine has a solid plan unlike #JasonGarrett future 🤷🏻\\u200d♂️. #Dallas #winning #coupons #restaurant #hood #cleaning #foodfriday #trucks https://t.co/U0V5BO33uo',\n",
       "       \"Mary's Meals is changing lives in Zimbabwe https://t.co/bioEZAt47N #feelgoodfriday #FoodFriday\",\n",
       "       'Will meat alternatives continue gaining popularity in 2020? https://t.co/wzvi1XOBmj via @YourMorning ht  @LetsTalkScience 🥬🍔🤑 #food #health #diet #nutrition #meatless #plantbased #Vegan #vegetarian #HealthyLiving #HealthyEating #BusinessGrowth #business #FoodFriday',\n",
       "       'These are our top five healthy recipes that you can throw together in the morning and enjoy in the evening (as well as take leftovers for lunch the next day).\\n#FoodFriday #EatHealthy #NewYearNewYou #PersonalTraining #FitnessTogether                       https://t.co/TiKGdeqr1p',\n",
       "       \"Burned out on cooking after the holidays? Here's a selection of quick and easy meals to get you inspired #FoodFriday\\nhttps://t.co/uLYOPeQHQc https://t.co/nyWopWqh79\",\n",
       "       'Will you eat lettuce that is not grown in soil? Large scale #Hydroponics can produce hyper local food in a small space, even shipping containers or in your own home. https://t.co/Ogy8UgHMUt #FoodFriday',\n",
       "       '#FoodFriday: Is it possible to treat things like anxiety and depression with food? https://t.co/93Ez7VwziK\\n#KinderInTheKeys #MentalHealth #Anxiety #PTSD #Depression #Trauma #Recovery #Healing #Treatment #Food #Wellness',\n",
       "       \"Foodies, this particular country is one of our FAV when it comes to FOOD!! 🥘🍲🥗🍜\\n\\nLet's see if you can guess it!! 🤓\\n\\n#FoodFriday #GuessGame #Guess #Fun #FridayThoughts #foodie https://t.co/gK3x3uMArb\",\n",
       "       'Today is usually #FoodFriday on this timeline.\\n\\nI tweet about food. \\n\\nIf you can postpone your instant gratification from bad foods, you can postpone bad habits in your life.\\n\\nHow you approach food is evidently how you approach your other aspects of life.\\n\\n#FoodFriday',\n",
       "       \"#FoodFriday\\n\\nWhat are you cookin' up today or this weekend? What's your favorite recipe? Looking for some new ideas! https://t.co/3VRQTRCxd3\",\n",
       "       'This weeks #FoodFriday is from @WoodsideBay 🍕\\n\\nWould you be interested in a #Chef position with us?\\nThen why not visit the Darwin Escapes website, locate the Careers tab and search for our Chef vacancies 😀\\n\\n#Jobs https://t.co/FWNknvURhn',\n",
       "       'Ring in the New Year with healthy eating. Checkout #ClickNCook #healthrecipe Fruity Homemade Oatmeal. https://t.co/7XR3tw6XsH\\n#FoodFriday',\n",
       "       \"'The old fool forgot the lessons of Blodeuwedd and Frankenstein: never create anything smarter, or more ruthless, than yourself.'\\n.\\n#FoodFriday featuring cheesecake (that I'd been craving since Tuesday but been too lazy to…\\n\\n📸 https://t.co/U6yxC4h3sz via https://t.co/Z51VYxAyBJ https://t.co/8f5Lqkp8hm\",\n",
       "       'African star Apple (Udara).\\nRich source of vita.C is one of the wonderful fruits offered by nature with important health benefits.\\nRanging from tackling toothache, mouth gum disease, soar throat, helps in weight loss and good for expecting mothers \\n\\n#FoodFriday\\n#CoalCityConnect https://t.co/ODyfnS8VVm',\n",
       "       '#FOODFRIDAY 🇮🇹🍫\\nIf you love chocolate, then board the first flight to California. The Nutella Pop Up Hotel is about to open. Discover more in this video. Do you know? Nutella is an Italian product...of course!\\n#italy #food #nutella #language #school… https://t.co/bgG5haT6mQ https://t.co/gw0JhCqZHE',\n",
       "       '#foodfriday @baghdadcafeCT hey offer a variety of delicious foods, from pizza to tacos and sticky wings! For your convenience they also avail on @ubereats_za https://t.co/P8sdNvfMcg',\n",
       "       'This Mangalorean special chicken curry can be paired best with neer dosa or steamed rice. What’s your pick?\\nRecipe Link: https://t.co/iyYCpcuoeA\\n#FoodFriday https://t.co/Bke1o79Zio'],\n",
       "      dtype=object)"
      ]
     },
     "execution_count": 36,
     "metadata": {},
     "output_type": "execute_result"
    }
   ],
   "source": [
    "df['text'].tail(20).values"
   ]
  },
  {
   "cell_type": "code",
   "execution_count": 37,
   "id": "f5fc3eb1",
   "metadata": {
    "execution": {
     "iopub.execute_input": "2023-02-16T12:39:59.244026Z",
     "iopub.status.busy": "2023-02-16T12:39:59.243583Z",
     "iopub.status.idle": "2023-02-16T12:39:59.250510Z",
     "shell.execute_reply": "2023-02-16T12:39:59.249661Z"
    },
    "papermill": {
     "duration": 0.028855,
     "end_time": "2023-02-16T12:39:59.252652",
     "exception": false,
     "start_time": "2023-02-16T12:39:59.223797",
     "status": "completed"
    },
    "tags": []
   },
   "outputs": [
    {
     "data": {
      "text/plain": [
       "array(['#FoodFriday means tasty snacks throughout the day!\\n\\n : @flexible_nati\\n#haveaplant https://t.co/pNSAHV2hDh face savoring food blue heart spoon chocolate bar camera',\n",
       "       'F U E L E D F R I D A Y\\nLooking for a fun, colorful and healthy recipe to kick off the new year? Well, check out this delicious and beautiful dish!\\n・・・\\nEggs baked in Veggie Nests. Head over to our insta for the recipe. \\n\\n#fueledfriday #foodfriday #runinrabbit #borntorunfree https://t.co/2Fwez5uYb2 drooling face',\n",
       "       'Kummer reminds you to stay hydrated #foodfriday https://t.co/rkZmatd97f',\n",
       "       'Commercial #Kitchens need attention at a great price!  Rhino Shine has a solid plan unlike #JasonGarrett future . #Dallas #winning #coupons #restaurant #hood #cleaning #foodfriday #trucks https://t.co/U0V5BO33uo rhinoceros man shrugging light skin tone',\n",
       "       \"Mary's Meals is changing lives in Zimbabwe https://t.co/bioEZAt47N #feelgoodfriday #FoodFriday\",\n",
       "       'Will meat alternatives continue gaining popularity in 2020? https://t.co/wzvi1XOBmj via @YourMorning ht  @LetsTalkScience  #food #health #diet #nutrition #meatless #plantbased #Vegan #vegetarian #HealthyLiving #HealthyEating #BusinessGrowth #business #FoodFriday leafy green hamburger money-mouth face',\n",
       "       'These are our top five healthy recipes that you can throw together in the morning and enjoy in the evening (as well as take leftovers for lunch the next day).\\n#FoodFriday #EatHealthy #NewYearNewYou #PersonalTraining #FitnessTogether                       https://t.co/TiKGdeqr1p',\n",
       "       \"Burned out on cooking after the holidays? Here's a selection of quick and easy meals to get you inspired #FoodFriday\\nhttps://t.co/uLYOPeQHQc https://t.co/nyWopWqh79\",\n",
       "       'Will you eat lettuce that is not grown in soil? Large scale #Hydroponics can produce hyper local food in a small space, even shipping containers or in your own home. https://t.co/Ogy8UgHMUt #FoodFriday',\n",
       "       '#FoodFriday: Is it possible to treat things like anxiety and depression with food? https://t.co/93Ez7VwziK\\n#KinderInTheKeys #MentalHealth #Anxiety #PTSD #Depression #Trauma #Recovery #Healing #Treatment #Food #Wellness',\n",
       "       \"Foodies, this particular country is one of our FAV when it comes to FOOD!! \\n\\nLet's see if you can guess it!! \\n\\n#FoodFriday #GuessGame #Guess #Fun #FridayThoughts #foodie https://t.co/gK3x3uMArb shallow pan of food pot of food green salad steaming bowl nerd face\",\n",
       "       'Today is usually #FoodFriday on this timeline.\\n\\nI tweet about food. \\n\\nIf you can postpone your instant gratification from bad foods, you can postpone bad habits in your life.\\n\\nHow you approach food is evidently how you approach your other aspects of life.\\n\\n#FoodFriday',\n",
       "       \"#FoodFriday\\n\\nWhat are you cookin' up today or this weekend? What's your favorite recipe? Looking for some new ideas! https://t.co/3VRQTRCxd3\",\n",
       "       'This weeks #FoodFriday is from @WoodsideBay \\n\\nWould you be interested in a #Chef position with us?\\nThen why not visit the Darwin Escapes website, locate the Careers tab and search for our Chef vacancies \\n\\n#Jobs https://t.co/FWNknvURhn pizza grinning face',\n",
       "       'Ring in the New Year with healthy eating. Checkout #ClickNCook #healthrecipe Fruity Homemade Oatmeal. https://t.co/7XR3tw6XsH\\n#FoodFriday',\n",
       "       \"'The old fool forgot the lessons of Blodeuwedd and Frankenstein: never create anything smarter, or more ruthless, than yourself.'\\n.\\n#FoodFriday featuring cheesecake (that I'd been craving since Tuesday but been too lazy to…\\n\\n https://t.co/U6yxC4h3sz via https://t.co/Z51VYxAyBJ https://t.co/8f5Lqkp8hm camera with flash\",\n",
       "       'African star Apple (Udara).\\nRich source of vita.C is one of the wonderful fruits offered by nature with important health benefits.\\nRanging from tackling toothache, mouth gum disease, soar throat, helps in weight loss and good for expecting mothers \\n\\n#FoodFriday\\n#CoalCityConnect https://t.co/ODyfnS8VVm',\n",
       "       '#FOODFRIDAY \\nIf you love chocolate, then board the first flight to California. The Nutella Pop Up Hotel is about to open. Discover more in this video. Do you know? Nutella is an Italian product...of course!\\n#italy #food #nutella #language #school… https://t.co/bgG5haT6mQ https://t.co/gw0JhCqZHE Italy chocolate bar',\n",
       "       '#foodfriday @baghdadcafeCT hey offer a variety of delicious foods, from pizza to tacos and sticky wings! For your convenience they also avail on @ubereats_za https://t.co/P8sdNvfMcg',\n",
       "       'This Mangalorean special chicken curry can be paired best with neer dosa or steamed rice. What’s your pick?\\nRecipe Link: https://t.co/iyYCpcuoeA\\n#FoodFriday https://t.co/Bke1o79Zio'],\n",
       "      dtype=object)"
      ]
     },
     "execution_count": 37,
     "metadata": {},
     "output_type": "execute_result"
    }
   ],
   "source": [
    "df['text_clean'].tail(20).values"
   ]
  },
  {
   "cell_type": "code",
   "execution_count": 38,
   "id": "5df59a31",
   "metadata": {
    "execution": {
     "iopub.execute_input": "2023-02-16T12:39:59.292139Z",
     "iopub.status.busy": "2023-02-16T12:39:59.291403Z",
     "iopub.status.idle": "2023-02-16T12:39:59.298110Z",
     "shell.execute_reply": "2023-02-16T12:39:59.297346Z"
    },
    "papermill": {
     "duration": 0.028855,
     "end_time": "2023-02-16T12:39:59.300190",
     "exception": false,
     "start_time": "2023-02-16T12:39:59.271335",
     "status": "completed"
    },
    "tags": []
   },
   "outputs": [
    {
     "data": {
      "text/plain": [
       "array(['foodfriday means tasty snacks throughout the day haveaplant face savoring food blue heart spoon chocolate bar camera',\n",
       "       'f u e l e d f r i d a y looking for a fun colorful and healthy recipe to kick off the new year well check out this delicious and beautiful dish eggs baked in veggie nests head over to our insta for the recipe fueledfriday foodfriday runinrabbit borntorunfree drooling face',\n",
       "       'kummer reminds you to stay hydrated foodfriday',\n",
       "       'commercial kitchens need attention at a great price rhino shine has a solid plan unlike jasongarrett future dallas winning coupons restaurant hood cleaning foodfriday trucks rhinoceros man shrugging light skin tone',\n",
       "       'marys meals is changing lives in zimbabwe feelgoodfriday foodfriday',\n",
       "       'will meat alternatives continue gaining popularity in 2020 via ht food health diet nutrition meatless plantbased vegan vegetarian healthyliving healthyeating businessgrowth business foodfriday leafy green hamburger moneymouth face',\n",
       "       'these are our top five healthy recipes that you can throw together in the morning and enjoy in the evening as well as take leftovers for lunch the next day foodfriday eathealthy newyearnewyou personaltraining fitnesstogether',\n",
       "       'burned out on cooking after the holidays heres a selection of quick and easy meals to get you inspired foodfriday',\n",
       "       'will you eat lettuce that is not grown in soil large scale hydroponics can produce hyper local food in a small space even shipping containers or in your own home foodfriday',\n",
       "       'foodfriday is it possible to treat things like anxiety and depression with food kinderinthekeys mentalhealth anxiety ptsd depression trauma recovery healing treatment food wellness',\n",
       "       'foodies this particular country is one of our fav when it comes to food lets see if you can guess it foodfriday guessgame guess fun fridaythoughts foodie shallow pan of food pot of food green salad steaming bowl nerd face',\n",
       "       'today is usually foodfriday on this timeline i tweet about food if you can postpone your instant gratification from bad foods you can postpone bad habits in your life how you approach food is evidently how you approach your other aspects of life foodfriday',\n",
       "       'foodfriday what are you cookin up today or this weekend whats your favorite recipe looking for some new ideas',\n",
       "       'this weeks foodfriday is from would you be interested in a chef position with us then why not visit the darwin escapes website locate the careers tab and search for our chef vacancies jobs pizza grinning face',\n",
       "       'ring in the new year with healthy eating checkout clickncook healthrecipe fruity homemade oatmeal foodfriday',\n",
       "       'the old fool forgot the lessons of blodeuwedd and frankenstein never create anything smarter or more ruthless than yourself foodfriday featuring cheesecake that id been craving since tuesday but been too lazy to via camera with flash',\n",
       "       'african star apple udara rich source of vitac is one of the wonderful fruits offered by nature with important health benefits ranging from tackling toothache mouth gum disease soar throat helps in weight loss and good for expecting mothers foodfriday coalcityconnect',\n",
       "       'foodfriday if you love chocolate then board the first flight to california the nutella pop up hotel is about to open discover more in this video do you know nutella is an italian productof course italy food nutella language school italy chocolate bar',\n",
       "       'foodfriday hey offer a variety of delicious foods from pizza to tacos and sticky wings for your convenience they also avail on',\n",
       "       'this mangalorean special chicken curry can be paired best with neer dosa or steamed rice whats your pick recipe link foodfriday'],\n",
       "      dtype=object)"
      ]
     },
     "execution_count": 38,
     "metadata": {},
     "output_type": "execute_result"
    }
   ],
   "source": [
    "df['text_clean_deeper'].tail(20).values"
   ]
  },
  {
   "cell_type": "code",
   "execution_count": 39,
   "id": "b94857d2",
   "metadata": {
    "execution": {
     "iopub.execute_input": "2023-02-16T12:39:59.339958Z",
     "iopub.status.busy": "2023-02-16T12:39:59.339195Z",
     "iopub.status.idle": "2023-02-16T12:39:59.720620Z",
     "shell.execute_reply": "2023-02-16T12:39:59.719374Z"
    },
    "papermill": {
     "duration": 0.404806,
     "end_time": "2023-02-16T12:39:59.723727",
     "exception": false,
     "start_time": "2023-02-16T12:39:59.318921",
     "status": "completed"
    },
    "tags": []
   },
   "outputs": [],
   "source": [
    "text_len = []\n",
    "\n",
    "for text in df.text_clean_deeper:\n",
    "    tweet_len = len(text.split())\n",
    "    \n",
    "    text_len.append(tweet_len)"
   ]
  },
  {
   "cell_type": "code",
   "execution_count": 40,
   "id": "3c40c6de",
   "metadata": {
    "execution": {
     "iopub.execute_input": "2023-02-16T12:39:59.763525Z",
     "iopub.status.busy": "2023-02-16T12:39:59.763108Z",
     "iopub.status.idle": "2023-02-16T12:39:59.835276Z",
     "shell.execute_reply": "2023-02-16T12:39:59.834170Z"
    },
    "papermill": {
     "duration": 0.094912,
     "end_time": "2023-02-16T12:39:59.837792",
     "exception": false,
     "start_time": "2023-02-16T12:39:59.742880",
     "status": "completed"
    },
    "tags": []
   },
   "outputs": [],
   "source": [
    "df['text_len'] = text_len"
   ]
  },
  {
   "cell_type": "code",
   "execution_count": 41,
   "id": "853321eb",
   "metadata": {
    "execution": {
     "iopub.execute_input": "2023-02-16T12:39:59.877935Z",
     "iopub.status.busy": "2023-02-16T12:39:59.877281Z",
     "iopub.status.idle": "2023-02-16T12:39:59.891769Z",
     "shell.execute_reply": "2023-02-16T12:39:59.890597Z"
    },
    "papermill": {
     "duration": 0.037432,
     "end_time": "2023-02-16T12:39:59.894101",
     "exception": false,
     "start_time": "2023-02-16T12:39:59.856669",
     "status": "completed"
    },
    "tags": []
   },
   "outputs": [
    {
     "data": {
      "text/html": [
       "<div>\n",
       "<style scoped>\n",
       "    .dataframe tbody tr th:only-of-type {\n",
       "        vertical-align: middle;\n",
       "    }\n",
       "\n",
       "    .dataframe tbody tr th {\n",
       "        vertical-align: top;\n",
       "    }\n",
       "\n",
       "    .dataframe thead th {\n",
       "        text-align: right;\n",
       "    }\n",
       "</style>\n",
       "<table border=\"1\" class=\"dataframe\">\n",
       "  <thead>\n",
       "    <tr style=\"text-align: right;\">\n",
       "      <th></th>\n",
       "      <th>tweet_created_at</th>\n",
       "      <th>text</th>\n",
       "      <th>Sentiment</th>\n",
       "      <th>text_clean</th>\n",
       "      <th>text_clean_deeper</th>\n",
       "      <th>text_len</th>\n",
       "    </tr>\n",
       "  </thead>\n",
       "  <tbody>\n",
       "    <tr>\n",
       "      <th>0</th>\n",
       "      <td>2022-12-30 22:37:46+00:00</td>\n",
       "      <td>Men who have refused to listen to/attend @amer...</td>\n",
       "      <td>Negative</td>\n",
       "      <td>Men who have refused to listen to/attend @amer...</td>\n",
       "      <td>men who have refused to listen toattend classe...</td>\n",
       "      <td>36</td>\n",
       "    </tr>\n",
       "    <tr>\n",
       "      <th>1</th>\n",
       "      <td>2022-12-30 22:30:58+00:00</td>\n",
       "      <td>@OvOBrezzzy Take amerix next</td>\n",
       "      <td>Neutral</td>\n",
       "      <td>@OvOBrezzzy Take amerix next</td>\n",
       "      <td>take amerix next</td>\n",
       "      <td>3</td>\n",
       "    </tr>\n",
       "    <tr>\n",
       "      <th>2</th>\n",
       "      <td>2022-12-30 22:18:00+00:00</td>\n",
       "      <td>@AyodeleYo11 @amerix Nah I’m good my masculini...</td>\n",
       "      <td>Positive</td>\n",
       "      <td>@AyodeleYo11 @amerix Nah I’m good my masculini...</td>\n",
       "      <td>nah im good my masculinity health and wellness...</td>\n",
       "      <td>12</td>\n",
       "    </tr>\n",
       "    <tr>\n",
       "      <th>3</th>\n",
       "      <td>2022-12-30 20:42:54+00:00</td>\n",
       "      <td>@Amerix_DontSimp There is no need for dating i...</td>\n",
       "      <td>Negative</td>\n",
       "      <td>@Amerix_DontSimp There is no need for dating i...</td>\n",
       "      <td>there is no need for dating in the first place</td>\n",
       "      <td>10</td>\n",
       "    </tr>\n",
       "    <tr>\n",
       "      <th>4</th>\n",
       "      <td>2022-12-30 20:32:23+00:00</td>\n",
       "      <td>@DyeAnna7 @amerix @kibe From what cos nothing ...</td>\n",
       "      <td>Positive</td>\n",
       "      <td>@DyeAnna7 @amerix @kibe From what cos nothing ...</td>\n",
       "      <td>from what cos nothing is changing and if we go...</td>\n",
       "      <td>45</td>\n",
       "    </tr>\n",
       "  </tbody>\n",
       "</table>\n",
       "</div>"
      ],
      "text/plain": [
       "           tweet_created_at  \\\n",
       "0 2022-12-30 22:37:46+00:00   \n",
       "1 2022-12-30 22:30:58+00:00   \n",
       "2 2022-12-30 22:18:00+00:00   \n",
       "3 2022-12-30 20:42:54+00:00   \n",
       "4 2022-12-30 20:32:23+00:00   \n",
       "\n",
       "                                                text Sentiment  \\\n",
       "0  Men who have refused to listen to/attend @amer...  Negative   \n",
       "1                       @OvOBrezzzy Take amerix next   Neutral   \n",
       "2  @AyodeleYo11 @amerix Nah I’m good my masculini...  Positive   \n",
       "3  @Amerix_DontSimp There is no need for dating i...  Negative   \n",
       "4  @DyeAnna7 @amerix @kibe From what cos nothing ...  Positive   \n",
       "\n",
       "                                          text_clean  \\\n",
       "0  Men who have refused to listen to/attend @amer...   \n",
       "1                       @OvOBrezzzy Take amerix next   \n",
       "2  @AyodeleYo11 @amerix Nah I’m good my masculini...   \n",
       "3  @Amerix_DontSimp There is no need for dating i...   \n",
       "4  @DyeAnna7 @amerix @kibe From what cos nothing ...   \n",
       "\n",
       "                                   text_clean_deeper  text_len  \n",
       "0  men who have refused to listen toattend classe...        36  \n",
       "1                                   take amerix next         3  \n",
       "2  nah im good my masculinity health and wellness...        12  \n",
       "3     there is no need for dating in the first place        10  \n",
       "4  from what cos nothing is changing and if we go...        45  "
      ]
     },
     "execution_count": 41,
     "metadata": {},
     "output_type": "execute_result"
    }
   ],
   "source": [
    "df.head(5)"
   ]
  },
  {
   "cell_type": "code",
   "execution_count": 42,
   "id": "b069c445",
   "metadata": {
    "execution": {
     "iopub.execute_input": "2023-02-16T12:39:59.934459Z",
     "iopub.status.busy": "2023-02-16T12:39:59.934057Z",
     "iopub.status.idle": "2023-02-16T12:40:00.013977Z",
     "shell.execute_reply": "2023-02-16T12:40:00.012726Z"
    },
    "papermill": {
     "duration": 0.103842,
     "end_time": "2023-02-16T12:40:00.017061",
     "exception": false,
     "start_time": "2023-02-16T12:39:59.913219",
     "status": "completed"
    },
    "tags": []
   },
   "outputs": [],
   "source": [
    "df = df[['tweet_created_at', 'text', 'text_clean_deeper', 'Sentiment', 'text_len']]"
   ]
  },
  {
   "cell_type": "code",
   "execution_count": 43,
   "id": "faa875a4",
   "metadata": {
    "execution": {
     "iopub.execute_input": "2023-02-16T12:40:00.057203Z",
     "iopub.status.busy": "2023-02-16T12:40:00.056760Z",
     "iopub.status.idle": "2023-02-16T12:40:00.070801Z",
     "shell.execute_reply": "2023-02-16T12:40:00.069924Z"
    },
    "papermill": {
     "duration": 0.036666,
     "end_time": "2023-02-16T12:40:00.073061",
     "exception": false,
     "start_time": "2023-02-16T12:40:00.036395",
     "status": "completed"
    },
    "tags": []
   },
   "outputs": [
    {
     "data": {
      "text/html": [
       "<div>\n",
       "<style scoped>\n",
       "    .dataframe tbody tr th:only-of-type {\n",
       "        vertical-align: middle;\n",
       "    }\n",
       "\n",
       "    .dataframe tbody tr th {\n",
       "        vertical-align: top;\n",
       "    }\n",
       "\n",
       "    .dataframe thead th {\n",
       "        text-align: right;\n",
       "    }\n",
       "</style>\n",
       "<table border=\"1\" class=\"dataframe\">\n",
       "  <thead>\n",
       "    <tr style=\"text-align: right;\">\n",
       "      <th></th>\n",
       "      <th>tweet_created_at</th>\n",
       "      <th>text</th>\n",
       "      <th>text_clean_deeper</th>\n",
       "      <th>Sentiment</th>\n",
       "      <th>text_len</th>\n",
       "    </tr>\n",
       "  </thead>\n",
       "  <tbody>\n",
       "    <tr>\n",
       "      <th>0</th>\n",
       "      <td>2022-12-30 22:37:46+00:00</td>\n",
       "      <td>Men who have refused to listen to/attend @amer...</td>\n",
       "      <td>men who have refused to listen toattend classe...</td>\n",
       "      <td>Negative</td>\n",
       "      <td>36</td>\n",
       "    </tr>\n",
       "    <tr>\n",
       "      <th>1</th>\n",
       "      <td>2022-12-30 22:30:58+00:00</td>\n",
       "      <td>@OvOBrezzzy Take amerix next</td>\n",
       "      <td>take amerix next</td>\n",
       "      <td>Neutral</td>\n",
       "      <td>3</td>\n",
       "    </tr>\n",
       "    <tr>\n",
       "      <th>2</th>\n",
       "      <td>2022-12-30 22:18:00+00:00</td>\n",
       "      <td>@AyodeleYo11 @amerix Nah I’m good my masculini...</td>\n",
       "      <td>nah im good my masculinity health and wellness...</td>\n",
       "      <td>Positive</td>\n",
       "      <td>12</td>\n",
       "    </tr>\n",
       "    <tr>\n",
       "      <th>3</th>\n",
       "      <td>2022-12-30 20:42:54+00:00</td>\n",
       "      <td>@Amerix_DontSimp There is no need for dating i...</td>\n",
       "      <td>there is no need for dating in the first place</td>\n",
       "      <td>Negative</td>\n",
       "      <td>10</td>\n",
       "    </tr>\n",
       "    <tr>\n",
       "      <th>4</th>\n",
       "      <td>2022-12-30 20:32:23+00:00</td>\n",
       "      <td>@DyeAnna7 @amerix @kibe From what cos nothing ...</td>\n",
       "      <td>from what cos nothing is changing and if we go...</td>\n",
       "      <td>Positive</td>\n",
       "      <td>45</td>\n",
       "    </tr>\n",
       "  </tbody>\n",
       "</table>\n",
       "</div>"
      ],
      "text/plain": [
       "           tweet_created_at  \\\n",
       "0 2022-12-30 22:37:46+00:00   \n",
       "1 2022-12-30 22:30:58+00:00   \n",
       "2 2022-12-30 22:18:00+00:00   \n",
       "3 2022-12-30 20:42:54+00:00   \n",
       "4 2022-12-30 20:32:23+00:00   \n",
       "\n",
       "                                                text  \\\n",
       "0  Men who have refused to listen to/attend @amer...   \n",
       "1                       @OvOBrezzzy Take amerix next   \n",
       "2  @AyodeleYo11 @amerix Nah I’m good my masculini...   \n",
       "3  @Amerix_DontSimp There is no need for dating i...   \n",
       "4  @DyeAnna7 @amerix @kibe From what cos nothing ...   \n",
       "\n",
       "                                   text_clean_deeper Sentiment  text_len  \n",
       "0  men who have refused to listen toattend classe...  Negative        36  \n",
       "1                                   take amerix next   Neutral         3  \n",
       "2  nah im good my masculinity health and wellness...  Positive        12  \n",
       "3     there is no need for dating in the first place  Negative        10  \n",
       "4  from what cos nothing is changing and if we go...  Positive        45  "
      ]
     },
     "execution_count": 43,
     "metadata": {},
     "output_type": "execute_result"
    }
   ],
   "source": [
    "df.head(5)"
   ]
  },
  {
   "cell_type": "code",
   "execution_count": 44,
   "id": "efaa603b",
   "metadata": {
    "execution": {
     "iopub.execute_input": "2023-02-16T12:40:00.114259Z",
     "iopub.status.busy": "2023-02-16T12:40:00.113178Z",
     "iopub.status.idle": "2023-02-16T12:40:00.440189Z",
     "shell.execute_reply": "2023-02-16T12:40:00.438939Z"
    },
    "papermill": {
     "duration": 0.350581,
     "end_time": "2023-02-16T12:40:00.442814",
     "exception": false,
     "start_time": "2023-02-16T12:40:00.092233",
     "status": "completed"
    },
    "tags": []
   },
   "outputs": [
    {
     "data": {
      "image/png": "[encoded data removed]",
      "text/plain": [
       "<Figure size 700x500 with 1 Axes>"
      ]
     },
     "metadata": {},
     "output_type": "display_data"
    }
   ],
   "source": [
    "plt.figure(figsize=(7,5))\n",
    "\n",
    "ax = sns.countplot(x='text_len', data=df[df['text_len']<10], palette='Greens')\n",
    "\n",
    "plt.title('Tweets with less than 10 words')\n",
    "plt.yticks([])\n",
    "ax.bar_label(ax.containers[0])\n",
    "\n",
    "plt.ylabel('count')\n",
    "plt.xlabel('')\n",
    "plt.show()"
   ]
  },
  {
   "cell_type": "code",
   "execution_count": 45,
   "id": "e4056a79",
   "metadata": {
    "execution": {
     "iopub.execute_input": "2023-02-16T12:40:00.485917Z",
     "iopub.status.busy": "2023-02-16T12:40:00.484460Z",
     "iopub.status.idle": "2023-02-16T12:40:00.493055Z",
     "shell.execute_reply": "2023-02-16T12:40:00.491737Z"
    },
    "papermill": {
     "duration": 0.032161,
     "end_time": "2023-02-16T12:40:00.495328",
     "exception": false,
     "start_time": "2023-02-16T12:40:00.463167",
     "status": "completed"
    },
    "tags": []
   },
   "outputs": [
    {
     "data": {
      "text/plain": [
       "(236023, 5)"
      ]
     },
     "execution_count": 45,
     "metadata": {},
     "output_type": "execute_result"
    }
   ],
   "source": [
    "df.shape"
   ]
  },
  {
   "cell_type": "code",
   "execution_count": 46,
   "id": "381ef1f4",
   "metadata": {
    "execution": {
     "iopub.execute_input": "2023-02-16T12:40:00.537141Z",
     "iopub.status.busy": "2023-02-16T12:40:00.536450Z",
     "iopub.status.idle": "2023-02-16T12:40:00.544073Z",
     "shell.execute_reply": "2023-02-16T12:40:00.542767Z"
    },
    "papermill": {
     "duration": 0.031276,
     "end_time": "2023-02-16T12:40:00.546630",
     "exception": false,
     "start_time": "2023-02-16T12:40:00.515354",
     "status": "completed"
    },
    "tags": []
   },
   "outputs": [
    {
     "data": {
      "text/plain": [
       "Index(['tweet_created_at', 'text', 'text_clean_deeper', 'Sentiment',\n",
       "       'text_len'],\n",
       "      dtype='object')"
      ]
     },
     "execution_count": 46,
     "metadata": {},
     "output_type": "execute_result"
    }
   ],
   "source": [
    "df.columns"
   ]
  },
  {
   "cell_type": "code",
   "execution_count": 47,
   "id": "fcd9d916",
   "metadata": {
    "execution": {
     "iopub.execute_input": "2023-02-16T12:40:00.589017Z",
     "iopub.status.busy": "2023-02-16T12:40:00.588573Z",
     "iopub.status.idle": "2023-02-16T12:40:00.618413Z",
     "shell.execute_reply": "2023-02-16T12:40:00.617358Z"
    },
    "papermill": {
     "duration": 0.054483,
     "end_time": "2023-02-16T12:40:00.621064",
     "exception": false,
     "start_time": "2023-02-16T12:40:00.566581",
     "status": "completed"
    },
    "tags": []
   },
   "outputs": [],
   "source": [
    "df = df[df['text_len'] > 1]"
   ]
  },
  {
   "cell_type": "code",
   "execution_count": 48,
   "id": "aa2d7429",
   "metadata": {
    "execution": {
     "iopub.execute_input": "2023-02-16T12:40:00.662212Z",
     "iopub.status.busy": "2023-02-16T12:40:00.661745Z",
     "iopub.status.idle": "2023-02-16T12:40:00.668778Z",
     "shell.execute_reply": "2023-02-16T12:40:00.667666Z"
    },
    "papermill": {
     "duration": 0.030312,
     "end_time": "2023-02-16T12:40:00.671063",
     "exception": false,
     "start_time": "2023-02-16T12:40:00.640751",
     "status": "completed"
    },
    "tags": []
   },
   "outputs": [
    {
     "data": {
      "text/plain": [
       "(233699, 5)"
      ]
     },
     "execution_count": 48,
     "metadata": {},
     "output_type": "execute_result"
    }
   ],
   "source": [
    "df.shape"
   ]
  },
  {
   "cell_type": "code",
   "execution_count": 49,
   "id": "9031d59f",
   "metadata": {
    "execution": {
     "iopub.execute_input": "2023-02-16T12:40:00.713449Z",
     "iopub.status.busy": "2023-02-16T12:40:00.713026Z",
     "iopub.status.idle": "2023-02-16T12:40:00.916856Z",
     "shell.execute_reply": "2023-02-16T12:40:00.915575Z"
    },
    "papermill": {
     "duration": 0.23095,
     "end_time": "2023-02-16T12:40:00.922121",
     "exception": false,
     "start_time": "2023-02-16T12:40:00.691171",
     "status": "completed"
    },
    "tags": []
   },
   "outputs": [
    {
     "data": {
      "image/png": "[encoded data removed]",
      "text/plain": [
       "<Figure size 700x500 with 1 Axes>"
      ]
     },
     "metadata": {},
     "output_type": "display_data"
    }
   ],
   "source": [
    "plt.figure(figsize=(7,5))\n",
    "\n",
    "ax = sns.countplot(x='text_len', data=df[df['text_len']<10], palette='Blues')\n",
    "\n",
    "plt.title('Tweets with less than 10 words')\n",
    "plt.yticks([])\n",
    "ax.bar_label(ax.containers[0])\n",
    "\n",
    "plt.ylabel('count')\n",
    "plt.xlabel('')\n",
    "plt.show()"
   ]
  },
  {
   "cell_type": "code",
   "execution_count": 50,
   "id": "093b24de",
   "metadata": {
    "execution": {
     "iopub.execute_input": "2023-02-16T12:40:00.985148Z",
     "iopub.status.busy": "2023-02-16T12:40:00.984150Z",
     "iopub.status.idle": "2023-02-16T12:40:42.229818Z",
     "shell.execute_reply": "2023-02-16T12:40:42.228429Z"
    },
    "papermill": {
     "duration": 41.27036,
     "end_time": "2023-02-16T12:40:42.232916",
     "exception": false,
     "start_time": "2023-02-16T12:40:00.962556",
     "status": "completed"
    },
    "tags": []
   },
   "outputs": [],
   "source": [
    "token_lens = []\n",
    "\n",
    "for txt in df['text_clean_deeper'].values:\n",
    "    tokens = tokenizer_4.encode(txt, max_length=512, truncation=True)\n",
    "    token_lens.append(len(tokens))\n",
    "    \n",
    "max_len=np.max(token_lens)"
   ]
  },
  {
   "cell_type": "code",
   "execution_count": 51,
   "id": "f99429ce",
   "metadata": {
    "execution": {
     "iopub.execute_input": "2023-02-16T12:40:42.276249Z",
     "iopub.status.busy": "2023-02-16T12:40:42.275538Z",
     "iopub.status.idle": "2023-02-16T12:40:42.281970Z",
     "shell.execute_reply": "2023-02-16T12:40:42.280543Z"
    },
    "papermill": {
     "duration": 0.03106,
     "end_time": "2023-02-16T12:40:42.284551",
     "exception": false,
     "start_time": "2023-02-16T12:40:42.253491",
     "status": "completed"
    },
    "tags": []
   },
   "outputs": [
    {
     "name": "stdout",
     "output_type": "stream",
     "text": [
      "Longest tokenized sentence: 483\n"
     ]
    }
   ],
   "source": [
    "print(f\"Longest tokenized sentence: {max_len}\")"
   ]
  },
  {
   "cell_type": "code",
   "execution_count": 52,
   "id": "64a2d4e1",
   "metadata": {
    "execution": {
     "iopub.execute_input": "2023-02-16T12:40:42.328123Z",
     "iopub.status.busy": "2023-02-16T12:40:42.326938Z",
     "iopub.status.idle": "2023-02-16T12:41:23.952031Z",
     "shell.execute_reply": "2023-02-16T12:41:23.950522Z"
    },
    "papermill": {
     "duration": 41.649884,
     "end_time": "2023-02-16T12:41:23.954976",
     "exception": false,
     "start_time": "2023-02-16T12:40:42.305092",
     "status": "completed"
    },
    "tags": []
   },
   "outputs": [
    {
     "name": "stdout",
     "output_type": "stream",
     "text": [
      "INDEX: 3079, TEXT: stream ndi ndi by vicmass luodollar available on spotify youtube boomplay apple music audiomack mdundo deezer itunes youtube music etc click link below kcpe duale riggy g amerix kipkorir amerix david maraga maasai shoe size dubai chart increasing play or pause button play or pause button play or pause button play or pause button play or pause button play or pause button play or pause button play or pause button play or pause button\n",
      "INDEX: 4737, TEXT: amerixtoday i am going to harvest sweet potatoes from the farm next to my sons school womenheheheeand u are advising men not to be attached 2 their children and here u are mentioning ua son mentake charge of your sons beaming face with smiling eyes grinning squinting face grinning squinting face squinting face with tongue squinting face with tongue starstruck starstruck loudly crying face loudly crying face beaming face with smiling eyes grinning squinting face grinning squinting face speaknoevil monkey face with hand over mouth face with hand over mouth beaming face with smiling eyes beaming face with smiling eyes squinting face with tongue grinning squinting face grinning squinting face face with rolling eyes face with rolling eyes face with rolling eyes face with tears of joy face with tears of joy face with tears of joy\n",
      "INDEX: 5142, TEXT: use your block button if my 5 emojis ruined your day face with tears of joy face with tears of joy face with tears of joy face with tears of joy face with tears of joy face with tears of joy face with tears of joy face with tears of joy face with tears of joy face with tears of joy face with tears of joy face with tears of joy face with tears of joy face with tears of joy face with tears of joy face with tears of joy face with tears of joy face with tears of joy face with tears of joy face with tears of joy face with tears of joy face with tears of joy face with tears of joy face with tears of joy face with tears of joy face with tears of joy face with tears of joy face with tears of joy face with tears of joy face with tears of joy face with tears of joy face with tears of joy face with tears of joy face with tears of joy face with tears of joy face with tears of joy face with tears of joy face with tears of joy face with tears of joy face with tears of joy face with tears of joy face with tears of joy face with tears of joy face with tears of joy face with tears of joy face with tears of joy face with tears of joy face with tears of joy face with tears of joy face with tears of joy face with tears of joy face with tears of joy face with tears of joy face with tears of joy face with tears of joy face with tears of joy face with tears of joy face with tears of joy\n",
      "INDEX: 6498, TEXT: nbr of flags in 5011 usernames who liked 279 31 11 9 7 5 5 4 4 4 4 3 3 3 2 2 2 2 2 2 1 1 1 1 1 1 1 1 1 1 1 1 1 1 1 1 1 1 1 kenya uganda tanzania argentina south africa south sudan ghana france brazil russia jamaica united states united kingdom australia kuwait malawi somalia canada liberia nigeria zambia india kosovo isle of man iceland czechia portugal faroe islands namibia turkey spain israel ethiopia guinea heard mcdonald islands niger rwanda china zimbabwe\n",
      "INDEX: 6652, TEXT: lenovo thinkpad ultraslim t480s touchscreen 8th generation processor intel core i5 speed upto 38ghz turbo boost 8gb hd graphics storage 8gb ram256gb ssd with type c charger price ksh 36000 c 0717040531 duale clout matatus amerix range rover wewe kcpe small blue diamond small blue diamond small blue diamond small blue diamond small blue diamond small blue diamond small blue diamond small blue diamond kenya small blue diamond\n",
      "INDEX: 7233, TEXT: hp elitebook 820 gen 5 processor intel core i5 storage 8gb ram500gb hdd base speed 23ghz size 125inches with windows 10 pro and basic softwares warranty available price ksh 23000 contact 0717040531 nairobians nyeri ruto sakaja amerix kcpe riggy g small blue diamond small blue diamond small blue diamond small blue diamond small blue diamond small blue diamond small blue diamond small blue diamond telephone receiver\n",
      "INDEX: 7235, TEXT: hp elitebook 820 gen 5 processor intel core i5 storage 8gb ram500gb hdd base speed 23ghz size 125inches with windows 10 pro and basic softwares warranty available price ksh 23000 contact 0717040531 nairobians nyeri ruto sakaja amerix kcpe riggy g small blue diamond small blue diamond small blue diamond small blue diamond small blue diamond small blue diamond small blue diamond small blue diamond telephone receiver\n",
      "INDEX: 7239, TEXT: hp probook 430 series 8th generation processor intel core i5 turbo boost speed upto 38ghz storage 8gb ram upgradable256gb ssd super fast has hdmitype cusb ports intel hd graphics price ksh 36500 0717040531 ruto sakaja amerix kcpe riggy g small blue diamond collision small blue diamond check mark button small blue diamond small blue diamond small blue diamond small blue diamond small blue diamond small blue diamond\n",
      "INDEX: 7709, TEXT: yesterday fixed games won successfully as expected labancliffonserio whatafinal chairperson babysagini amerix kenya green heart green heart green heart green heart green heart green heart green heart green heart green heart green heart green heart green heart green heart green heart green heart green heart green heart green heart green heart green heart green heart green heart green heart ok hand thumbs up thumbs up thumbs up thumbs up beaming face with smiling eyes beaming face with smiling eyes beaming face with smiling eyes beaming face with smiling eyes check mark button check mark button check mark button check mark button check mark button green heart green heart green heart green heart green heart green heart green heart green heart green heart green heart green heart green heart green heart green heart green heart green heart green heart green heart green heart green heart green heart green heart green heart\n",
      "INDEX: 8525, TEXT: nbr of flags in 5050 usernames who liked 234 14 13 11 8 7 6 6 5 5 4 3 3 3 3 3 2 2 2 2 2 2 2 2 1 1 1 1 1 1 1 1 1 1 1 1 1 1 kenya uganda argentina united states nigeria russia tanzania south africa zimbabwe canada south sudan jamaica spain somalia united kingdom ghana liberia malawi chad france palestinian territories iran australia brazil rwanda cameroon cuba heard mcdonald islands portugal denmark india guinea niger brunei sudan qatar south korea namibia fiji\n",
      "INDEX: 9700, TEXT: lenovo yoga 12 x360 touchscreen processor intel core i5 storage 8gb ram256gb ssd very fast clock speed 25ghz excellent batt ery life comes with stylus pen priceksh 31000 contact 254717040531 swahili kisumu nairobi drake kplc uhuru amerix baby sagini small blue diamond small blue diamond small blue diamond small blue diamond small blue diamond small blue diamond small blue diamond small blue diamond small blue diamond\n",
      "INDEX: 10585, TEXT: nbr of flags in 5062 usernames who liked 244 16 14 9 8 8 8 6 5 5 4 3 3 3 3 2 2 2 2 2 2 1 1 1 1 1 1 1 1 1 1 1 1 1 1 1 1 1 1 kenya uganda argentina united states nigeria tanzania south africa canada zimbabwe russia south sudan jamaica spain somalia france united kingdom liberia malawi ghana chad palestinian territories isle of man iceland brazil rwanda cameroon iran cuba portugal denmark australia india guinea niger brunei sudan qatar south korea namibia\n",
      "INDEX: 11138, TEXT: nbr of flags in 5066 usernames who liked 250 21 13 9 8 8 8 7 6 5 4 3 3 3 2 2 2 2 2 2 2 1 1 1 1 1 1 1 1 1 1 1 1 1 1 1 1 1 1 kenya uganda argentina united states nigeria tanzania south africa canada zimbabwe russia south sudan jamaica spain somalia rwanda united kingdom liberia malawi ghana chad france isle of man iceland brazil cameroon iran palestinian territories cuba portugal denmark australia india guinea niger brunei sudan qatar south korea namibia\n",
      "INDEX: 12140, TEXT: nbr of flags in 5088 usernames who liked 257 22 14 9 9 8 8 7 7 4 4 3 3 3 2 2 2 2 2 2 2 2 1 1 1 1 1 1 1 1 1 1 1 1 1 1 1 1 1 kenya uganda argentina tanzania south africa nigeria united states zimbabwe canada russia south sudan jamaica spain somalia rwanda united kingdom liberia portugal malawi ghana chad france germany isle of man iceland brazil cameroon iran palestinian territories cuba denmark australia india guinea niger brunei sudan qatar south korea\n",
      "INDEX: 13509, TEXT: man i love a good satire account calling selfish psychotic independence masculine face with tears of joy face with tears of joy face with tears of joy face with tears of joy face with tears of joy face with tears of joy face with tears of joy face with tears of joy face with tears of joy face with tears of joy face with tears of joy face with tears of joy face with tears of joy face with tears of joy face with tears of joy face with tears of joy face with tears of joy face with tears of joy face with tears of joy face with tears of joy face with tears of joy face with tears of joy face with tears of joy face with tears of joy face with tears of joy face with tears of joy face with tears of joy face with tears of joy face with tears of joy face with tears of joy face with tears of joy face with tears of joy face with tears of joy face with tears of joy face with tears of joy face with tears of joy face with tears of joy face with tears of joy face with tears of joy face with tears of joy face with tears of joy face with tears of joy face with tears of joy face with tears of joy face with tears of joy face with tears of joy face with tears of joy face with tears of joy face with tears of joy face with tears of joy face with tears of joy face with tears of joy face with tears of joy face with tears of joy face with tears of joy face with tears of joy face with tears of joy face with tears of joy face with tears of joy face with tears of joy face with tears of joy face with tears of joy face with tears of joy face with tears of joy face with tears of joy face with tears of joy face with tears of joy face with tears of joy face with tears of joy face with tears of joy face with tears of joy face with tears of joy face with tears of joy face with tears of joy face with tears of joy face with tears of joy face with tears of joy face with tears of joy face with tears of joy face with tears of joy face with tears of joy face with tears of joy face with tears of joy face with tears of joy face with tears of joy face with tears of joy face with tears of joy face with tears of joy face with tears of joy face with tears of joy face with tears of joy face with tears of joy face with tears of joy face with tears of joy\n",
      "INDEX: 27290, TEXT: unfat unfat old man my friendunfat unfat sir unfat ask your colleagues to unfat rolling on the floor laughing rolling on the floor laughing rolling on the floor laughing rolling on the floor laughing rolling on the floor laughing rolling on the floor laughing rolling on the floor laughing rolling on the floor laughing face with tears of joy face with tears of joy face with tears of joy face with tears of joy face with tears of joy face with tears of joy face with tears of joy face with tears of joy face with tears of joy face with tears of joy face with tears of joy face with tears of joy face with tears of joy face with tears of joy face with tears of joy face with tears of joy face with tears of joy face with tears of joy face with tears of joy face with tears of joy\n",
      "INDEX: 29517, TEXT: lenovo thinkpad ultraslim t480s touchscreen 8th generation processor intel core i5 speed upto 38ghz turbo boost 8gb hd graphics storage 8gb ram512gb ssd with type c charger price ksh 39000 mpesa kisii ruto japan amerix onyango machakos university saf small blue diamond small blue diamond small blue diamond small blue diamond small blue diamond small blue diamond small blue diamond small blue diamond small blue diamond kenya\n",
      "INDEX: 32722, TEXT: amerix amewacorrupt akili kabisa theres no way utafanya everything 100 perfect buana i have nieces who watch while eating mpaka kuoga na the first words they uttered were english words kama hio si progress then wtf do you want face with tears of joy face with tears of joy face with tears of joy face with tears of joy face with tears of joy face with tears of joy face with tears of joy face with tears of joy face with tears of joy face with tears of joy face with tears of joy\n",
      "INDEX: 34629, TEXT: hp elitebook 820 gen 7 intel core i7 storage 12gb ram256gb ssd or 1tb hdd clock speed 28ghz screen resolution 1080p with 4gb intel graphics with backlite keyboard size 125 inches price 35000 0717040531hp uganda kagame mzee kisumu amerix thika road check mark button check mark button check mark button check mark button check mark button check mark button check mark button check mark button check mark button telephone receiver\n",
      "INDEX: 37682, TEXT: what prescription is this for diabetes whether type 1 or 2 it will eventually fluctuate sugar levels and this 34year old man will die of diabetes face with open eyes and hand over mouth face with open eyes and hand over mouth face with open eyes and hand over mouth face with open eyes and hand over mouth face with open eyes and hand over mouth face with open eyes and hand over mouth face with open eyes and hand over mouth face with open mouth face with open mouth face with open mouth face with open mouth face with open mouth face with open mouth face with open mouth face with open mouth face with open mouth face with open mouth face with open mouth man shrugging\n",
      "INDEX: 56260, TEXT: thats all i hadthankyou grinning face with sweat grinning face with sweat grinning face with sweat grinning face with sweat grinning face with sweat grinning face with sweat grinning face with sweat grinning face with sweat grinning face with sweat grinning face with sweat face with tears of joy face with tears of joy face with tears of joy face with tears of joy face with tears of joy face with tears of joy face with tears of joy face with tears of joy face with tears of joy face with tears of joy face with tears of joy face with tears of joy\n",
      "INDEX: 60903, TEXT: power in your hands hp elitebook 820 g4 intel core i77200u 7th gen 28 ghz 2cores 8gb ram 256gb ssd intel hd graphics 620 125 fhd touch disp 34k 0741265207 retweet widely alfred mutua marriage luos amerix bahati manyora kinoti raised hand laptop black square button registered trade mark black square button black square button black square button black square button black square button black square button victory hand\n",
      "INDEX: 67196, TEXT: lemme retweet share screenshot and tag this fellow drayk like 100 times face with tears of joy face with tears of joy face with tears of joy face with tears of joy face with tears of joy face with tears of joy loudly crying face loudly crying face loudly crying face face with tears of joy face with tears of joy face with tears of joy face with tears of joy face with tears of joy face with tears of joy face with tears of joy face with tears of joy face with tears of joy face with tears of joy face with tears of joy face with tears of joy face with tears of joy face with tears of joy face with tears of joy face with tears of joy face with tears of joy\n",
      "INDEX: 69769, TEXT: pay on delivery countrywide hp elitebook x360 1030 g3 133 touchscreen lcd 2 in 1 laptop intel core i5 8th gen i58650u 8gb lpddr3 ram 256gb pcie nvme m2 ssd 133 windows 11 ksh48000 254 713 441634 riggyg amerix tate odinga eldoret obina nairobi club suit club suit club suit club suit club suit club suit\n",
      "INDEX: 69777, TEXT: amerix murife thierry henry andrew tate kisumu eldoret riggy g salim mvurya homabay winnie odinga bungoma get ps5 standard 1padfifa 21 75k ps5 standard2pads fifa 22 85k ps5 standard2pads fifa 22 90k ps5 standard 2pads 80k call or text 0743970341 black small square black small square black small square black small square\n",
      "INDEX: 72811, TEXT: you wish i was fat in your dreams rolling on the floor laughing face with tears of joy rolling on the floor laughing face with tears of joy rolling on the floor laughing face with tears of joy rolling on the floor laughing face with tears of joy rolling on the floor laughing face with tears of joy rolling on the floor laughing face with tears of joy rolling on the floor laughing face with tears of joy rolling on the floor laughing face with tears of joy rolling on the floor laughing face with tears of joy rolling on the floor laughing face with tears of joy rolling on the floor laughing face with tears of joy rolling on the floor laughing face with tears of joy\n",
      "INDEX: 73856, TEXT: 2 days left get 25 off hp elitebook 840 g3 core i5 8gb 256gb ssd callwhatsapp 0716000565 mudavadi machakoscountyexposed ichaweri chebukati eldoret nakuru riggy g mombasa nairobi river grade 6 ronaldo round of 16 somali spaceyamagari alai manday apple kibra fire check mark button check mark button check mark button selfie\n",
      "INDEX: 73857, TEXT: 2 days left get 21 off hp elitebook850 g5 i7 32gb 512gb 156 fhd callwhatsapp 0716000565 mudavadi machakoscountyexposed ichaweri chebukati eldoret nakuru riggy g mombasa nairobi river grade 6 ronaldo round of 16 somali spaceyamagari alai manday apple fire check mark button check mark button check mark button check mark button selfie\n",
      "INDEX: 73858, TEXT: 2 days left get 35 off hp 1030 g2 x360 core i7 16gb 512gb 133touch callwhatsapp 0716000565 mudavadi machakoscountyexposed ichaweri chebukati eldoret nakuru riggy g mombasa nairobi river grade 6 ronaldo round of 16 somali spaceyamagari alai manday apple fire check mark button check mark button check mark button check mark button selfie\n",
      "INDEX: 75328, TEXT: manday please please make today my special day i need to buy bits to my son who is going to army foundation college in september and i am struggling with being able to buy it all folded hands medium skin tone folded hands medium skin tone folded hands medium skin tone folded hands medium skin tone folded hands medium skin tone folded hands medium skin tone folded hands medium skin tone folded hands medium skin tone folded hands medium skin tone folded hands medium skin tone folded hands medium skin tone folded hands medium skin tone folded hands medium skin tone folded hands medium skin tone folded hands medium skin tone folded hands medium skin tone\n",
      "INDEX: 79237, TEXT: horseracingtips fully updated like both value bets mybigbets1 mybigbets mybigbetsboom horseracing pakistancricket smalldickenergy capetown lkp2023 caperacing lormarins durban bettertogether bettingtwitter soccer betway studio microphone horse racing dark skin tone studio microphone horse racing dark skin tone police car light studio microphone police car light money bag money bag money bag man dancing man dancing man dancing smiling face with sunglasses smiling face with sunglasses smiling face with sunglasses horse racing dark skin tone horse racing dark skin tone horse racing dark skin tone\n",
      "INDEX: 80720, TEXT: bipot boom ticket quntaum podcast boom mybigbets1 mybigbets horseracing horseracingtips fifaworldcup tipsters tipster bettingtips bettingsports bettertogether bettingexpert bettingpeople bettingpicks worldcupfinal check mark button horse racing dark skin tone money bag glowing star check mark button check mark button check mark button money bag money bag money bag horse racing dark skin tone horse racing dark skin tone horse racing dark skin tone collision collision collision money bag money bag money bag\n",
      "INDEX: 80769, TEXT: happy punter boom ticket mybigbets mybigbets1 yourfriendlytipster horseracingtips horseracingtipster tipster tipsters horseracing mybigbetsboom mybigbetspodcast fifaworldcup souuthafrica bettingtwitter bettertogether cyril green apple man dancing green apple green apple man dancing green apple money bag money bag money bag horse racing dark skin tone horse racing dark skin tone horse racing dark skin tone money bag money bag money bag horse racing dark skin tone horse racing dark skin tone horse racing dark skin tone\n",
      "INDEX: 82894, TEXT: god must not like us this slip was 50 bands for me i even made this bitch shorter 89 im sorry yall we gotta make this bitch higher again i know we can ride this one if it was all higher bettertogether bettingtwitter bettertogether rolling on the floor laughing rolling on the floor laughing rolling on the floor laughing rolling on the floor laughing rolling on the floor laughing rolling on the floor laughing man facepalming mediumdark skin tone man facepalming mediumdark skin tone man facepalming mediumdark skin tone fire fire fire\n",
      "INDEX: 84024, TEXT: today was a good day if youre reading this i hope yours was too bettertogether thebekindimpact clearthelist teachertwitter party popper party popper snowman snowman snowman snowman snowman snowman snowman snowman snowman snowman snowman snowman snowman snowman snowman snowman snowman snowman snowman snowman snowman snowman snowman snowman snowman snowman snowman snowman snowman snowman snowman snowman snowman snowman snowman snowman snowman snowman snowman snowman snowman snowman snowman snowman snowman snowman snowman snowman snowman snowman snowman snowman snowman snowman snowman snowman snowman snowman snowman snowman snowman snowman snowman snowman snowman snowman snowman snowman snowman snowman snowman snowman\n",
      "INDEX: 86150, TEXT: thank you kindly for including me on this ride with all these fantastic patriots youre simple the best rt amp fbap follow my friend gt lt bluehand bettertogether rightfacing fist mediumlight skin tone collision leftfacing fist mediumlight skin tone blue heart blue heart blue heart oncoming fist mediumlight skin tone oncoming fist mediumlight skin tone oncoming fist mediumlight skin tone oncoming fist mediumlight skin tone oncoming fist mediumlight skin tone oncoming fist mediumlight skin tone shield shield fire fire shield shield collision collision\n",
      "INDEX: 89755, TEXT: taylor swift tickets week coming up am i going to fight this battle for tickets yes yes i am so stay out of the way trying to pull it off bettertogether swifties thebekindimpact smiling face with sunglasses smiling face with sunglasses smiling face with sunglasses seenoevil monkey seenoevil monkey seenoevil monkey seenoevil monkey seenoevil monkey seenoevil monkey seenoevil monkey seenoevil monkey seenoevil monkey seenoevil monkey seenoevil monkey seenoevil monkey seenoevil monkey seenoevil monkey\n",
      "INDEX: 91077, TEXT: all humans are bettertogether voteblue resist voteblue mandelabarnes tonyevers wisconsin lgbtqia blm indigenouspeoples jewish asian disabilityrights marginalized women daughters sisters moms sweat droplets waving hand mediumlight skin tone raised fist dark skin tone victory hand mediumdark skin tone rightfacing fist light skin tone leftfacing fist medium skin tone thumbs up mediumlight skin tone folded hands dark skin tone oncoming fist medium skin tone palms up together mediumdark skin tone victory hand medium skin tone rightfacing fist mediumlight skin tone leftfacing fist dark skin tone raised fist medium skin tone clapping hands mediumdark skin tone\n",
      "INDEX: 91482, TEXT: this is my only points slip this was 80k this nigga nigga ingram fumble it was going be my 8th win i have a new strategy to win constantly hmu bettertogether bettingpicks bettingpicks bettingpicks fanduel nbaparlay rolling on the floor laughing rolling on the floor laughing rolling on the floor laughing rolling on the floor laughing rolling on the floor laughing rolling on the floor laughing rolling on the floor laughing rolling on the floor laughing rolling on the floor laughing face exhaling face exhaling face exhaling face exhaling dollar banknote check mark button check mark button check mark button mobile phone with arrow mobile phone with arrow mobile phone with arrow mobile phone with arrow\n",
      "INDEX: 92050, TEXT: didnt even wanna bet today trash ass matchups but this was 30k ticket 1417 tomorrow im winning big great games tomorrow im shooting for 100k im going to get it bettingexpert bettertogether moneytips nba fanduel face exhaling dollar banknote dollar banknote dollar banknote dollar banknote face exhaling check mark button check mark button check mark button check mark button check mark button check mark button check mark button check mark button rolling on the floor laughing rolling on the floor laughing rolling on the floor laughing rolling on the floor laughing rolling on the floor laughing fire fire fire fire raising hands mediumdark skin tone\n",
      "INDEX: 101137, TEXT: k i can do that i have extra ones to share bettertogether grinning face grinning face grinning face grinning face grinning face grinning face grinning face grinning face grinning face grinning face grinning face grinning face grinning face grinning face grinning face grinning face grinning face grinning face grinning face grinning face grinning face grinning face grinning face grinning face grinning face grinning face grinning face grinning face grinning face grinning face grinning face grinning face grinning face grinning face grinning face grinning face grinning face grinning face grinning face grinning face grinning face grinning face grinning face grinning face grinning face grinning face grinning face grinning face grinning face grinning face grinning face grinning face grinning face grinning face grinning face grinning face grinning face grinning face grinning face grinning face grinning face grinning face grinning face grinning face grinning face grinning face grinning face grinning face grinning face grinning face grinning face grinning face grinning face grinning face grinning face grinning face grinning face grinning face grinning face grinning face grinning face grinning face grinning face grinning face grinning face grinning face grinning face grinning face grinning face grinning face grinning face grinning face grinning face grinning face grinning face grinning face grinning face grinning face grinning face grinning face grinning face grinning face grinning face grinning face grinning face grinning face grinning face\n",
      "INDEX: 110568, TEXT: today we made welcome cards to give to our new year 1 friends all 19 of them who start school tomorrow we cant wait to meet you and show you our big smiles firstday bettertogether kindergarten envelope zany face smiling face with hearts grinning face with big eyes woman and man holding hands medium skin tone mediumlight skin tone women holding hands woman and man holding hands medium skin tone mediumlight skin tone man standing mediumlight skin tone woman and man holding hands medium skin tone mediumlight skin tone\n",
      "INDEX: 111382, TEXT: realized i did not practice getting up early for school today which means i will be tired tomorrow morning anyone else practice getting up early or going to bed early teachertwitter bettertogether thebekindimpact clearthelist party popper party popper party popper party popper party popper party popper party popper party popper party popper party popper party popper party popper party popper party popper party popper party popper party popper party popper party popper party popper party popper party popper\n",
      "INDEX: 111553, TEXT: wednesday i start with studentsum what where is summer scaries teachertwitter bettertogether thebekindimpact clearthelist police car light police car light police car light police car light police car light police car light police car light police car light police car light police car light police car light police car light police car light police car light police car light police car light police car light police car light police car light police car light police car light police car light police car light police car light police car light\n",
      "INDEX: 111734, TEXT: books books books everybody lets retweet and see what we can do to get this list out to the world if you have the energy id appreciate the retweet thanks for your time bettertogether teachertwitter thebekindimpact clearthelist police car light police car light police car light police car light police car light sun sun police car light police car light police car light police car light police car light police car light police car light police car light police car light police car light police car light police car light police car light police car light\n",
      "INDEX: 113765, TEXT: lets clearthelist teachertwitter only 5 containers of wipes left and thats it retweet if you have the strength i appreciate it lets do this bettertogether thebekindimpact vibes positivity police car light police car light police car light police car light police car light police car light police car light police car light police car light police car light police car light police car light police car light police car light police car light police car light police car light police car light police car light police car light police car light police car light police car light police car light sun\n",
      "INDEX: 113780, TEXT: hey teachertwitter any help with this list even a rt would be forever amazing rts do wonders just to get the word out i appreciate all of you bettertogether thebekindimpact clearthelist police car light police car light police car light police car light police car light police car light police car light police car light police car light police car light police car light police car light police car light police car light police car light police car light police car light police car light police car light\n",
      "INDEX: 113912, TEXT: oh my would love a class set of these and they are 25 off today would be so thankful for a rt or any support clearthelist bettertogether adoptateacher teachertwitter johnclearmylist b2swithalane grinning face with big eyes grinning face with big eyes grinning face with big eyes flushed face flushed face flushed face grinning face with big eyes clapping hands light skin tone clapping hands light skin tone clapping hands light skin tone crossed fingers light skin tone crossed fingers light skin tone crossed fingers light skin tone\n",
      "INDEX: 115058, TEXT: congratulations bettingtips bettertogether sportybet betwaysquad betwinnernews check mark button check mark button check mark button check mark button check mark button check mark button check mark button check mark button check mark button check mark button check mark button check mark button bottle with popping cork bottle with popping cork bottle with popping cork bottle with popping cork bottle with popping cork bottle with popping cork bottle with popping cork bottle with popping cork money bag money bag money bag money bag rocket rocket rocket rocket rocket rocket rocket collision collision collision collision collision\n",
      "INDEX: 116604, TEXT: just a 7th grade history teacher looking to revamp and reload any help even rt would be forever amazing bettertogether teachertwitter thebekindimpact clearthelist b2swithalane police car light police car light police car light police car light police car light police car light police car light police car light police car light police car light police car light police car light police car light police car light police car light police car light police car light police car light police car light police car light police car light\n",
      "INDEX: 116916, TEXT: keep pushing multiple aeds are so important for a school especially a large one any help even a retweet would be forever amazing bettertogether thebekindimpact teachertwitter clearthelist project police car light police car light police car light police car light police car light police car light police car light police car light police car light police car light police car light police car light police car light police car light police car light police car light police car light police car light police car light police car light police car light police car light police car light police car light police car light police car light police car light police car light police car light police car light police car light\n",
      "INDEX: 116944, TEXT: its the final countdown so so close a retweet would mean the world lets try to blow this project up and get it launched teachertwitter gameofthrones houseofthedragon bettertogether clearthelist thebekindimpact police car light police car light police car light police car light police car light police car light police car light police car light police car light police car light police car light police car light police car light police car light police car light police car light police car light police car light police car light police car light police car light police car light\n",
      "INDEX: 117080, TEXT: every little bit helps as a coach i know that having multiple aeds is so so important if you have the ability please retweet teachertwitter bettertogether thebekindimpact clearthelist police car light police car light police car light police car light police car light police car light police car light police car light police car light police car light police car light police car light police car light police car light police car light police car light police car light police car light police car light police car light police car light\n",
      "INDEX: 119426, TEXT: what is one thing you forgot to put on your wishlist and why is it a beach house with a jetski teachertwitter bettertogether thebekindimpact smiling face with sunglasses smiling face with sunglasses smiling face with sunglasses smiling face with sunglasses smiling face with sunglasses smiling face with sunglasses smiling face with sunglasses smiling face with sunglasses smiling face with sunglasses smiling face with sunglasses smiling face with sunglasses smiling face with sunglasses smiling face with sunglasses smiling face with sunglasses smiling face with sunglasses smiling face with sunglasses smiling face with sunglasses\n",
      "INDEX: 120008, TEXT: cherish the little moments take time to make memories they are the rock you need to hold onto when times get tough bettertogether weekendthoughts teachertwitter globe showing asiaaustralia globe showing asiaaustralia globe showing asiaaustralia globe showing asiaaustralia globe showing asiaaustralia globe showing asiaaustralia globe showing asiaaustralia globe showing asiaaustralia globe showing asiaaustralia globe showing asiaaustralia globe showing asiaaustralia globe showing asiaaustralia\n",
      "INDEX: 122260, TEXT: teachertwitter the match almost ends soon any help even a rt would be forever appreciated this is a project that would change an entire school population clearthelist thebekindimpact bettertogether united states united states united states united states united states united states united states united states united states united states united states united states united states united states united states united states united states united states united states united states united states united states united states united states united states united states united states united states united states united states united states united states united states united states united states united states united states\n",
      "INDEX: 123905, TEXT: heat wave wishlist dropheating up in nj again 7th grade history teacher here gearing up 4 another yr drop and retweet if you feel up to it bettertogether clearthelists teachertwitter thebekindimpact police car light police car light police car light police car light police car light police car light police car light police car light police car light police car light police car light police car light police car light police car light police car light police car light police car light police car light police car light police car light police car light police car light police car light police car light\n",
      "INDEX: 124759, TEXT: if youre seeing this i hope you rock this friday and glide into an awesome weekend hope its filled with fun and positivity remember to take time for you teachertwitter bettertogether thebekindimpact police car light police car light police car light police car light police car light police car light police car light police car light police car light police car light police car light police car light police car light police car light police car light police car light police car light police car light police car light police car light police car light police car light police car light police car light\n",
      "INDEX: 125434, TEXT: if youre a fan of survivor or naked and afraid you need to watch alone on netflix this is a real survival show teachertwitter bettertogether police car light police car light police car light police car light police car light police car light police car light police car light police car light police car light police car light police car light police car light police car light police car light police car light police car light police car light police car light police car light police car light police car light police car light police car light police car light\n",
      "INDEX: 129715, TEXT: if youre seeing this i want you to have the best rest of this week keep smiling and i hope positivity finds its way into your life even in the smallest way be kind to each other bettertogether teachertwitter police car light police car light police car light police car light police car light police car light police car light police car light police car light police car light police car light police car light police car light police car light police car light police car light police car light police car light folded hands light skin tone folded hands light skin tone folded hands light skin tone folded hands light skin tone folded hands light skin tone folded hands light skin tone folded hands light skin tone\n",
      "INDEX: 130519, TEXT: if i didnt retweet your list in my wishlist drop i just did now i apologize for the delay my notifications have been blowing up so sometimes things get overlooked i apologize bettertogether teachertwitter thebekindimpact clearthelist police car light police car light police car light police car light police car light police car light police car light police car light police car light police car light police car light police car light police car light police car light police car light police car light police car light police car light\n",
      "INDEX: 133924, TEXT: price drop storage containers on my list found much cheaper 27 for 2 to store books costumes and keep them fresh for years teachertwitter clearthelist bettertogether thebekindimpact backhand index pointing down backhand index pointing down backhand index pointing down backhand index pointing down backhand index pointing down backhand index pointing down backhand index pointing down backhand index pointing down backhand index pointing down backhand index pointing down backhand index pointing down backhand index pointing down backhand index pointing down backhand index pointing down backhand index pointing down backhand index pointing down backhand index pointing down\n",
      "INDEX: 134276, TEXT: thank you for your support always 7th grade history teacher looking to make history come alive for his students any help even retweet would b 4ever amazing bettertogether teachertwitter clearthelist police car light police car light police car light police car light police car light police car light police car light police car light police car light police car light police car light police car light police car light police car light police car light police car light police car light police car light police car light police car light police car light police car light police car light police car light police car light\n",
      "INDEX: 134827, TEXT: ok now i can reveal the weekend wishlist drop retweet if you feel up to it we are going to clear some lists this weekend bettertogether thebekindimpact teachertwitter clearthelists police car light police car light police car light police car light police car light police car light police car light police car light police car light united states united states united states united states police car light police car light police car light police car light police car light police car light police car light police car light police car light police car light police car light police car light police car light police car light police car light police car light police car light police car light\n",
      "INDEX: 134970, TEXT: is it too early to say i have a new wishlist drop as my pinned tweet i feel like because its not friday its too early retweet if youd like again if its not too early teachertwitter bettertogether thebekindimpact clearthelist police car light police car light police car light police car light police car light police car light police car light police car light police car light police car light police car light police car light police car light police car light police car light police car light police car light police car light police car light police car light police car light\n",
      "INDEX: 136805, TEXT: hey twitter its me again just reminding you to have an amazing weekend and hope everyone finds a reason to smile bekind bettertogether thebekindimpact teachertwitter united states united states united states united states united states united states united states united states united states united states united states united states united states united states united states united states united states united states united states united states united states united states united states united states united states united states united states united states united states united states united states united states united states united states united states united states united states united states united states united states united states united states united states\n",
      "INDEX: 137167, TEXT: be kind to each other be positive these little things mean the world one step at a time enjoy the friday friyay bettertogether united states united states united states united states united states united states united states united states united states united states united states united states united states united states united states united states united states united states united states united states united states united states united states united states red heart united states united states united states united states united states united states united states united states united states united states united states united states united states united states united states united states united states united states united states united states united states united states united states united states united states united states united states\n",
      "INDEX: 137314, TEXT: 38 items and counting truly cant believe how close i am to clearing my list my students are going to be so psyched when i meet a new group of them this september clearthelists thebekindimpact bettertogether bekind face with open mouth face with open mouth face with open mouth face with open mouth face with open mouth face with open mouth face with open mouth face with open mouth face with open mouth face with open mouth face with open mouth face with open mouth face with open mouth face with open mouth face with open mouth face with open mouth face with open mouth face with open mouth face with open mouth face with open mouth face with open mouth face with open mouth face with open mouth face with open mouth face with open mouth face with open mouth face with open mouth face with open mouth face with open mouth\n",
      "INDEX: 139626, TEXT: a retweet means the world to teachertwitter clearthelist you never know who may see any help would be appreciated greatly thebekindimpact bettertogether keep rocking the week police car light police car light police car light police car light police car light police car light police car light police car light police car light police car light police car light police car light police car light police car light police car light police car light police car light police car light police car light police car light police car light police car light police car light police car light police car light police car light police car light police car light police car light police car light police car light police car light police car light police car light police car light police car light united states\n",
      "INDEX: 139976, TEXT: any help would be forever appreciated even a retweet would mean the world i appreciate all of you and your friendship bettertogether teachertwitter thebekindimpact clearthelists police car light police car light police car light police car light police car light police car light police car light police car light police car light police car light police car light police car light police car light police car light police car light police car light police car light police car light police car light police car light police car light police car light police car light police car light police car light police car light police car light police car light police car light police car light police car light\n",
      "INDEX: 143978, TEXT: bettertogether oh undenzani kodwa queen elizabeth what a 4play on my sons birthday oluthando sparkstime was exactly 1023 when i held u in my arms 11 years ago and our love will go on red heart red heart red heart red heart red heart red heart red heart red heart red heart red heart red heart red heart red heart red heart red heart red heart red heart red heart red heart red heart red heart red heart red heart red heart red heart red heart red heart red heart red heart\n",
      "INDEX: 145596, TEXT: trying to lose weight while having friedreichsataxia is like spongebob trying to live on land nonexistent disabilitytwitter disabled bettertogether amtrying weightloss rolling on the floor laughing rolling on the floor laughing rolling on the floor laughing rolling on the floor laughing rolling on the floor laughing rolling on the floor laughing rolling on the floor laughing rolling on the floor laughing rolling on the floor laughing rolling on the floor laughing rolling on the floor laughing rolling on the floor laughing rolling on the floor laughing rolling on the floor laughing\n",
      "INDEX: 145985, TEXT: wishing the team the best today the team has invested so much to make this a great experience for students teachers and leaders bettertogether speaking head hundred points smiling face with hearteyes smiling face with hearts starstruck camping clapping hands mediumlight skin tone clapping hands mediumlight skin tone clapping hands mediumlight skin tone clapping hands mediumlight skin tone clapping hands mediumlight skin tone clapping hands mediumlight skin tone clapping hands mediumlight skin tone clapping hands mediumlight skin tone clapping hands mediumlight skin tone clapping hands mediumlight skin tone clapping hands mediumlight skin tone clapping hands mediumlight skin tone clapping hands mediumlight skin tone clapping hands mediumlight skin tone smiling face with hearts\n",
      "INDEX: 146641, TEXT: new day for you jam is truly a hip shaking jam hadnt heard it in a while bettertogether radio2000 man dancing dark skin tone woman dancing mediumdark skin tone man dancing dark skin tone woman dancing mediumdark skin tone man dancing dark skin tone woman dancing mediumdark skin tone man dancing dark skin tone woman dancing mediumdark skin tone man dancing dark skin tone woman dancing mediumdark skin tone woman dancing mediumdark skin tone man dancing dark skin tone woman dancing mediumdark skin tone man dancing dark skin tone\n",
      "INDEX: 147090, TEXT: i hope everyone has an amazing day any help would be forever appreciated bettertogether thebekindimpact teachertwitter clearthelist twitterphilanthropy goodmorningtwitterworld thankyoutwice appreciation almostsummer four leaf clover four leaf clover four leaf clover four leaf clover four leaf clover four leaf clover four leaf clover four leaf clover four leaf clover four leaf clover four leaf clover four leaf clover four leaf clover four leaf clover four leaf clover four leaf clover four leaf clover four leaf clover four leaf clover four leaf clover four leaf clover four leaf clover four leaf clover four leaf clover party popper party popper\n",
      "INDEX: 149175, TEXT: premium playerprops mlb christian greene under 75 ks atobttr mlbpicks bettingtwitter bettertogether retweet amp like martial arts uniform baseball fire moneymouth face check mark button check mark button check mark button check mark button check mark button check mark button check mark button check mark button check mark button moneymouth face fire firecracker firecracker fire moneymouth face check mark button check mark button check mark button check mark button check mark button check mark button check mark button check mark button check mark button moneymouth face fire fire japanese bargain button moneymouth face moneymouth face japanese bargain button fire\n",
      "INDEX: 150303, TEXT: if you are seeing this it is going to be an awesome week think positive things all day everyday there is always something to smile about mindsetmatters perspective mentalhealthmatters teachertwitter bettertogether bekind star star star star star star star star smiling face with smiling eyes smiling face with smiling eyes smiling face with smiling eyes smiling face with smiling eyes smiling face with smiling eyes smiling face with smiling eyes smiling face with smiling eyes smiling face with smiling eyes smiling face with smiling eyes smiling face with smiling eyes smiling face with smiling eyes smiling face with smiling eyes smiling face with smiling eyes smiling face with smiling eyes smiling face with smiling eyes\n",
      "INDEX: 150866, TEXT: if you are seeing this i hope you have the happiest of fridays and the amazingest of weekends you deserve it we made it bettertogether teachertwitter thebekindimpact four leaf clover four leaf clover four leaf clover four leaf clover four leaf clover four leaf clover four leaf clover four leaf clover four leaf clover four leaf clover four leaf clover four leaf clover four leaf clover four leaf clover four leaf clover four leaf clover four leaf clover four leaf clover four leaf clover four leaf clover four leaf clover four leaf clover four leaf clover four leaf clover four leaf clover four leaf clover four leaf clover four leaf clover four leaf clover\n",
      "INDEX: 151568, TEXT: cool cats bettertogether winking face upsidedown face thumbs up smiling face with smiling eyes face with rolling eyes hibiscus rose tulip folded hands grinning face grinning face grinning face grinning face grinning face grinning face grinning face grinning face grinning face grinning face grinning face grinning face grinning face grinning face grinning face grinning face grinning face grinning face winking face winking face winking face winking face winking face winking face winking face winking face winking face winking face sparkling heart sparkling heart sparkling heart sparkling heart face with rolling eyes smiling face with smiling eyes butterfly butterfly face with tears of joy rolling on the floor laughing smiling face with sunglasses\n",
      "INDEX: 154693, TEXT: when a momma duck accidentally looses her ducklings shes not leaving until all of them are rescued happymothersday love cute mothersday2022 mothersday sundayvibes bekindalways bettertogether got7 dsds crypto thorloveandthunder duck frontfacing baby chick frontfacing baby chick frontfacing baby chick frontfacing baby chick frontfacing baby chick frontfacing baby chick two hearts frontfacing baby chick two hearts frontfacing baby chick two hearts frontfacing baby chick two hearts frontfacing baby chick two hearts\n",
      "INDEX: 156016, TEXT: thank you for this 7th grade ss teacher trying to revamp supplies for the end of this year and to start next year like comment or retweet would be amazing bettertogether thebekindimpact teachertwitter four leaf clover four leaf clover four leaf clover four leaf clover four leaf clover four leaf clover four leaf clover four leaf clover four leaf clover four leaf clover four leaf clover four leaf clover four leaf clover four leaf clover four leaf clover four leaf clover four leaf clover four leaf clover four leaf clover police car light police car light police car light police car light police car light police car light police car light police car light police car light police car light police car light police car light police car light police car light police car light police car light police car light\n",
      "INDEX: 156828, TEXT: day 2teacherappreciationweek teachertwitter thebekindimpact bettertogether any help would be forever appreciated police car light police car light police car light police car light police car light police car light herb herb herb herb droplet droplet droplet droplet droplet droplet droplet dove dove dove dove winking face with tongue four leaf clover four leaf clover four leaf clover four leaf clover four leaf clover four leaf clover four leaf clover four leaf clover four leaf clover four leaf clover four leaf clover dove four leaf clover four leaf clover dove four leaf clover four leaf clover four leaf clover four leaf clover four leaf clover four leaf clover four leaf clover four leaf clover four leaf clover four leaf clover four leaf clover four leaf clover four leaf clover four leaf clover\n",
      "INDEX: 157756, TEXT: when bae has you in your feelings like masculinitysaturday happyholidays smiling face with hearteyes smiling face with hearteyes beaming face with smiling eyes face blowing a kiss face blowing a kiss woman and man holding hands kiss red heart grimacing face anxious face with sweat anxious face with sweat anxious face with sweat confused face confused face smirking face money with wings two hearts weary face face blowing a kiss face with tears of joy crying face crying face crying face hundred points raising hands person frowning person bowing family kiss mark kiss couple with heart heart with arrow heart with arrow confounded face confounded face heart with arrow raised fist raised fist woman and man holding hands tongue tongue loudly crying face loudly crying face sweat droplets sweat droplets fire raising hands raising hands weary face raised fist raising hands smiling face with hearteyes smirking face smirking face smirking face kiss mark broken heart broken heart broken heart broken heart broken heart broken heart broken heart person walking person walking red heart red heart two hearts broken heart confused face broken heart kiss mark anxious face with sweat anxious face with sweat beaming face with smiling eyes loudly crying face kiss woman and man holding hands woman and man holding hands smiling face with hearteyes face blowing a kiss confounded face weary face crying face broken heart broken heart broken heart\n",
      "INDEX: 160615, TEXT: hp probook 430 7th generation processor intel core i5 storage 8gb ram500gb hdd clock speed 271ghz webcam wireless wifi connectivity with hdmiusb port price ksh29999 warranty 6months 0717040531 baba mumias kericho bungoma masculinitysaturday president check mark button check mark button check mark button check mark button check mark button check mark button check mark button check mark button check mark button telephone receiver kenya\n",
      "INDEX: 161810, TEXT: hp elitebook 840 g3 intel core i5 8gb ram ddr4 256gb ssd touch screen backlight keyboard very slim and portable gt8th generation ksh 34000 call 254 704 471591 sammyboykenya disbandneanow masculinitysaturday sauti sol gachagua secret service eala kumbe nakuru glowing star check mark button check mark button check mark button check mark button check mark button check mark button\n",
      "INDEX: 163637, TEXT: hp elitebook x360 1030 8th generation 2in1 touchscreen fhd 1920x1080 resolution size 13314 inches very slim processor intel core i78350u storage 16gb ram 512gb ssd backlit keyboard price ksh 70000 contact 0717040531 masculinitysaturday kasarani small blue diamond small blue diamond small blue diamond small blue diamond small blue diamond small blue diamond small blue diamond small blue diamond small blue diamond\n",
      "INDEX: 165603, TEXT: men i dont like kids wont explain masculinitysaturday triangular flag triangular flag triangular flag triangular flag triangular flag triangular flag triangular flag triangular flag triangular flag triangular flag triangular flag triangular flag triangular flag triangular flag triangular flag triangular flag triangular flag triangular flag triangular flag triangular flag triangular flag triangular flag triangular flag triangular flag triangular flag triangular flag triangular flag triangular flag triangular flag triangular flag triangular flag triangular flag triangular flag triangular flag triangular flag triangular flag triangular flag triangular flag triangular flag triangular flag triangular flag triangular flag triangular flag triangular flag triangular flag triangular flag triangular flag\n",
      "INDEX: 165809, TEXT: dell optiplex 7010 coi3 3rd generation 4gb memory ram 500gb harddrive available at 13500ksh we are located along tom mboya stcitiko building opp koja roundaboutcall masculinitysaturday devfest2022 devfestnairobi usiu thika bankwithdtb circus tent circus tent keycap 0 keycap 7 keycap 1 keycap 7 keycap 0 keycap 1 keycap 7 keycap 0 keycap 8 keycap 8\n",
      "INDEX: 167808, TEXT: lenovo thinkpad yoga x360 intel core i5 speed upto 30ghz 125inch touchscreen storage 8gb ram 256gb ssd windows 10 pro and basic softwares installed six months warranty price ksh 35000 call whatsapp 2547 01 846 097 kbcweekender masculinitysaturday elon check box with check check box with check check box with check check box with check check box with check check mark check mark\n",
      "INDEX: 168175, TEXT: hello guys hp spectre 14 x360 intel core i51165g7 11th gen 28 ghz 4 cores 16gb ram 512 gb ssd intel iris x graphics 135 fhd ips touch 130k 0741265207 rt widely kenya kajiado senator munoko winnie odinga masculinitysaturday riggy g selfie laptop black square button registered trade mark black square button black square button black square button black square button black square button registered registered black square button victory hand\n",
      "INDEX: 168176, TEXT: hello guys hp spectre 14 x360 intel core i51165g7 11th gen 28 ghz 4 cores 16gb ram 512 gb ssd intel iris x graphics 135 fhd ips touch 130k 0741265207 rt widely kenya kajiado senator munoko winnie odinga masculinitysaturday riggy g selfie laptop black square button registered trade mark black square button black square button black square button black square button black square button registered registered black square button victory hand\n",
      "INDEX: 169524, TEXT: hp elitebook 840 g4 7th generation size 14 inches processor intel core i5 storage8gb ram256gb ssd speed 27ghz upto 38ghz has backlite keyboard 6months warranty price 33500 contact 0714974772 masculinitysaturday eliud owalo kamba president uhuru kenyatta pushpin pushpin pushpin pushpin pushpin pushpin pushpin pushpin pushpin telephone receiver\n",
      "INDEX: 169650, TEXT: lenovo thinkpad yoga x360 intel core i5 speed upto 30ghz 125inch touchscreen storage 8gb ram 256gb ssd windows 10 pro amp basic softwares installed 6 months warranty price 35000 call whatsapp 0701846097 joe ageyo ababu namwamba lg100club masculinitysaturday check box with check check box with check check box with check check box with check diamond suit telephone\n",
      "INDEX: 170270, TEXT: let us plant trees masculinitysaturday palm tree evergreen tree evergreen tree evergreen tree palm tree palm tree palm tree evergreen tree evergreen tree evergreen tree evergreen tree palm tree palm tree palm tree palm tree palm tree palm tree evergreen tree evergreen tree evergreen tree evergreen tree evergreen tree palm tree palm tree palm tree palm tree palm tree palm tree evergreen tree evergreen tree evergreen tree evergreen tree evergreen tree palm tree palm tree palm tree palm tree palm tree palm tree evergreen tree evergreen tree evergreen tree evergreen tree evergreen tree evergreen tree evergreen tree palm tree palm tree palm tree palm tree palm tree palm tree evergreen tree evergreen tree evergreen tree evergreen tree evergreen tree evergreen tree evergreen tree evergreen tree palm tree palm tree palm tree palm tree palm tree palm tree palm tree palm tree evergreen tree evergreen tree evergreen tree evergreen tree evergreen tree palm tree palm tree palm tree evergreen tree evergreen tree evergreen tree evergreen tree evergreen tree evergreen tree evergreen tree evergreen tree evergreen tree evergreen tree evergreen tree evergreen tree evergreen tree evergreen tree palm tree palm tree palm tree palm tree palm tree palm tree palm tree palm tree palm tree palm tree palm tree palm tree palm tree palm tree palm tree palm tree palm tree palm tree evergreen tree evergreen tree evergreen tree evergreen tree evergreen tree evergreen tree evergreen tree evergreen tree evergreen tree evergreen tree\n",
      "INDEX: 170785, TEXT: refurbished hp elitebook g3 1030 ultrabook core i5 8g512gb ssd at ksh58500 only the first class refurbished laptop intel core i7 8g512g ssd intel hd graphics 630 1 year waranty 0742037820 masculinitysaturday george mwangi luo nyanza ksh 1 gikomba laptop laptop dollar banknote dollar banknote check mark button check mark button check mark button check mark button check mark button raised fist raised fist right arrow\n",
      "INDEX: 170846, TEXT: hp elitebook x360 1030 g3 8th generation 2in1 touchscreen fhd 1920x1080 resolution size 133 inches very slim processor intel core i78350u storage8gb ram 512gb ssd backlit keyboard price ksh 61000 contact 0717040531 ksh 1 masculinitysaturday dci small blue diamond small blue diamond small blue diamond small blue diamond small blue diamond small blue diamond small blue diamond small blue diamond small blue diamond\n",
      "INDEX: 171923, TEXT: hp elitebook 840 size 14 inch intel core i5 6th gen storage 8gb ram256gb ssd speed 25ghz with hdmi usb port price ksh 33500 call whatsapp 254701846097 masculinitysaturday william chepkut tuskernexters happy sabbath verasidika hbrfanzone check mark button check mark button check mark button check mark button check mark button check mark button hollow red circle telephone\n",
      "INDEX: 173958, TEXT: hp elitebook 810 revolve touchscreen softwares preinstalled 1year warranty processor intel core i5 storage8gb ram 256gb ssd backlit keyboard price ksh 23500 contact 0714974772 governor sakaja riggyg masculinitysaturday fifa23 derby nairobi ruto dp small blue diamond small blue diamond small blue diamond small blue diamond small blue diamond small blue diamond small blue diamond small blue diamond small blue diamond\n",
      "INDEX: 174577, TEXT: hp elitebook x360 1030 g3 8th generation 2in1 touchscreen fhd 1920x1080 resolution size 133 very slim processor intel core i58350u storage8gb ram256gb ssd backlit keyboard price ksh 50000 0717040531 masculinitysaturday kenyans orengo kinoti small blue diamond small blue diamond small blue diamond small blue diamond small blue diamond small blue diamond small blue diamond small blue diamond small blue diamond telephone receiver\n",
      "INDEX: 176087, TEXT: hp elitebook slim intel core i5 storage 8gb ram500gb hdd speed clock 23ghz battery life 4hrs with windows 10 pro and office very clean with warranty price ksh25000 contact 0717040531 lgbtq nairobi ngong marabou dp rigathi gachagua masculinitysaturday luos pushpin pushpin pushpin pushpin pushpin pushpin pushpin pushpin pushpin\n",
      "INDEX: 180700, TEXT: corey taylor snuff acoustic via hey andrew tate check this video out for what masculinity is you c guzzling q masculinity misogyny men masculinitysaturday backhand index pointing up backhand index pointing up backhand index pointing up backhand index pointing up backhand index pointing up backhand index pointing up backhand index pointing up grinning face with sweat face with tears of joy nauseated face rolling on the floor laughing grinning face with sweat nauseated face face with tears of joy rolling on the floor laughing nauseated face face with tears of joy beaming face with smiling eyes grimacing face face vomiting\n",
      "INDEX: 184953, TEXT: samsung highend phones s7 edge 17500 note 8 27999 s8 21500 s8 26500 s9 27500 s9 29998 note 9 32000 s10 35000 s10 plus 42000 0712630098 masculinitysaturday ruto arsenal kenyakwanzamegarally chebukati nakuru israel kasarani collision kenya glowing star glowing star glowing star glowing star glowing star glowing star glowing star glowing star glowing star mobile phone with arrow\n",
      "INDEX: 185150, TEXT: mnemba island snorkeling and dolphin tour zanzibar 6th11th sep bag packedl bikini sun sand sea good vibes enzamytours kenya7s junet ruto gachagua bukhungu mama ngina langata masculinitysaturday westlands kikuyu wajakoya diving mask diving mask diving mask person swimming dolphin dolphin bikini bikini sun behind cloud sun with face beach with umbrella umbrella on ground water wave water wave man swimming woman swimming milky way cityscape\n",
      "INDEX: 186997, TEXT: hp 1030 g3 x360 intel core i7 8th gen 8gb ram 512gb ssd 133inch touch screen 2 in 1 laptop 65000 0724404935 visit us at old nation house 1st floor shop a12 masculinitysaturday iebc chebukati bungoma jkia msando venezuela kugraduation ruto raila uhuru collision check mark button check mark button check mark button check mark button check mark button collision telephone round pushpin\n",
      "INDEX: 187208, TEXT: hp probook 430 g4 laptop core i5 7th generation 8gb 500gb hdd windows 10 price 37000 locationnairobi cbd calltext or whatsapp 0113586158 follow masculinitysaturday thankyouk24tv iebc chebukati sleeveup azimiondiojibu small orange diamond small orange diamond small orange diamond small orange diamond small orange diamond small orange diamond small orange diamond small orange diamond\n",
      "INDEX: 195834, TEXT: hp elitebook x360 1030 g2 133 touchscreen core i5 7th gen 8gb ddr4 ram 256gb ssd backlit keyboard 360convertible ksh52000 hp window10 budgetlaptops hplaptops hpprobook nairobi eldoret probook windows11 breaking news masculinitysaturday elitebook laptop check box with check check box with check check box with check check box with check check box with check check box with check money bag\n",
      "INDEX: 200934, TEXT: samsung highend phones note edge 13000 s7 edge 17500 note 8 27999 s8 21500 s8 26500 s9 27500 s9 29998 note 9 32000 s10 35000 s10 plus 42000 0712630098 masculinitysaturday itwikataveta mombasa sonko mothersday kenya dizzy kenya glowing star glowing star glowing star glowing star glowing star glowing star glowing star glowing star glowing star glowing star mobile phone with arrow\n",
      "INDEX: 217402, TEXT: incredible noodle in 5 minutes foodneedsafarmer foodfriday foodphotography food noodle noodles chicken trending trendingnow twitterexposed twitterversary red exclamation mark backhand index pointing down backhand index pointing down backhand index pointing down backhand index pointing down backhand index pointing down backhand index pointing down backhand index pointing down backhand index pointing down backhand index pointing down backhand index pointing down backhand index pointing down backhand index pointing down backhand index pointing up backhand index pointing up backhand index pointing up backhand index pointing up backhand index pointing up backhand index pointing up backhand index pointing up backhand index pointing up backhand index pointing up backhand index pointing up backhand index pointing up backhand index pointing up\n",
      "INDEX: 227731, TEXT: whos up for a brunch date foodie foodfriday wednesdaythought cookingmaster artwork artistontwitter foodies foodlovers breadweek toast india delhi foodblogger indianfood love spreadlove delicious brunch drooling face sandwich starstruck sandwich starstruck sandwich smiling face with hearteyes sandwich starstruck sandwich smiling face with hearteyes sandwich starstruck sandwich drooling face sandwich bread drooling face smiling face with hearteyes starstruck sandwich drooling face sandwich smiling face with hearteyes smiling face with hearteyes bread drooling face sandwich\n",
      "INDEX: 229214, TEXT: and i think jaha aloo waha mein shot on tagmention a friend wholl love it follow if you are a foodie too walkwithtaste abhinavshukla 4yearsofdearzindagi foodie foodcoma foodfriday tastebuds face with tears of joy face with tears of joy smiling face with hearteyes smiling face with hearteyes starstruck starstruck speaknoevil monkey seenoevil monkey hearnoevil monkey right arrow right arrow right arrow drooling face drooling face drooling face\n"
     ]
    }
   ],
   "source": [
    "token_lens = []\n",
    "\n",
    "for i,txt in enumerate(df['text_clean_deeper'].values):\n",
    "    tokens = tokenizer_4.encode(txt, max_length=512, truncation=True)\n",
    "    \n",
    "    token_lens.append(len(tokens))\n",
    "    \n",
    "    if len(tokens)>100:\n",
    "        \n",
    "        print(f\"INDEX: {i}, TEXT: {txt}\")  "
   ]
  },
  {
   "cell_type": "code",
   "execution_count": 53,
   "id": "356cba05",
   "metadata": {
    "execution": {
     "iopub.execute_input": "2023-02-16T12:41:24.009226Z",
     "iopub.status.busy": "2023-02-16T12:41:24.008327Z",
     "iopub.status.idle": "2023-02-16T12:41:24.078276Z",
     "shell.execute_reply": "2023-02-16T12:41:24.077048Z"
    },
    "papermill": {
     "duration": 0.09971,
     "end_time": "2023-02-16T12:41:24.080604",
     "exception": false,
     "start_time": "2023-02-16T12:41:23.980894",
     "status": "completed"
    },
    "tags": []
   },
   "outputs": [],
   "source": [
    "df['token_lens'] = token_lens"
   ]
  },
  {
   "cell_type": "code",
   "execution_count": 54,
   "id": "268992d2",
   "metadata": {
    "execution": {
     "iopub.execute_input": "2023-02-16T12:41:24.137286Z",
     "iopub.status.busy": "2023-02-16T12:41:24.136815Z",
     "iopub.status.idle": "2023-02-16T12:41:24.154988Z",
     "shell.execute_reply": "2023-02-16T12:41:24.153766Z"
    },
    "papermill": {
     "duration": 0.049797,
     "end_time": "2023-02-16T12:41:24.157565",
     "exception": false,
     "start_time": "2023-02-16T12:41:24.107768",
     "status": "completed"
    },
    "tags": []
   },
   "outputs": [
    {
     "data": {
      "text/html": [
       "<div>\n",
       "<style scoped>\n",
       "    .dataframe tbody tr th:only-of-type {\n",
       "        vertical-align: middle;\n",
       "    }\n",
       "\n",
       "    .dataframe tbody tr th {\n",
       "        vertical-align: top;\n",
       "    }\n",
       "\n",
       "    .dataframe thead th {\n",
       "        text-align: right;\n",
       "    }\n",
       "</style>\n",
       "<table border=\"1\" class=\"dataframe\">\n",
       "  <thead>\n",
       "    <tr style=\"text-align: right;\">\n",
       "      <th></th>\n",
       "      <th>tweet_created_at</th>\n",
       "      <th>text</th>\n",
       "      <th>text_clean_deeper</th>\n",
       "      <th>Sentiment</th>\n",
       "      <th>text_len</th>\n",
       "      <th>token_lens</th>\n",
       "    </tr>\n",
       "  </thead>\n",
       "  <tbody>\n",
       "    <tr>\n",
       "      <th>0</th>\n",
       "      <td>2022-12-30 22:37:46+00:00</td>\n",
       "      <td>Men who have refused to listen to/attend @amer...</td>\n",
       "      <td>men who have refused to listen toattend classe...</td>\n",
       "      <td>Negative</td>\n",
       "      <td>36</td>\n",
       "      <td>43</td>\n",
       "    </tr>\n",
       "    <tr>\n",
       "      <th>1</th>\n",
       "      <td>2022-12-30 22:30:58+00:00</td>\n",
       "      <td>@OvOBrezzzy Take amerix next</td>\n",
       "      <td>take amerix next</td>\n",
       "      <td>Neutral</td>\n",
       "      <td>3</td>\n",
       "      <td>4</td>\n",
       "    </tr>\n",
       "    <tr>\n",
       "      <th>2</th>\n",
       "      <td>2022-12-30 22:18:00+00:00</td>\n",
       "      <td>@AyodeleYo11 @amerix Nah I’m good my masculini...</td>\n",
       "      <td>nah im good my masculinity health and wellness...</td>\n",
       "      <td>Positive</td>\n",
       "      <td>12</td>\n",
       "      <td>13</td>\n",
       "    </tr>\n",
       "    <tr>\n",
       "      <th>3</th>\n",
       "      <td>2022-12-30 20:42:54+00:00</td>\n",
       "      <td>@Amerix_DontSimp There is no need for dating i...</td>\n",
       "      <td>there is no need for dating in the first place</td>\n",
       "      <td>Negative</td>\n",
       "      <td>10</td>\n",
       "      <td>10</td>\n",
       "    </tr>\n",
       "    <tr>\n",
       "      <th>4</th>\n",
       "      <td>2022-12-30 20:32:23+00:00</td>\n",
       "      <td>@DyeAnna7 @amerix @kibe From what cos nothing ...</td>\n",
       "      <td>from what cos nothing is changing and if we go...</td>\n",
       "      <td>Positive</td>\n",
       "      <td>45</td>\n",
       "      <td>46</td>\n",
       "    </tr>\n",
       "    <tr>\n",
       "      <th>5</th>\n",
       "      <td>2022-12-30 20:25:56+00:00</td>\n",
       "      <td>@salim_the_don @MwendiaJnr I see you unblocked...</td>\n",
       "      <td>i see you unblocked me one minute uko kwa amer...</td>\n",
       "      <td>Negative</td>\n",
       "      <td>66</td>\n",
       "      <td>84</td>\n",
       "    </tr>\n",
       "    <tr>\n",
       "      <th>6</th>\n",
       "      <td>2022-12-30 20:22:24+00:00</td>\n",
       "      <td>@german_kenyan @ML_Philosophy 🤣 yes they are a...</td>\n",
       "      <td>yes they are also those who can cook i would r...</td>\n",
       "      <td>Negative</td>\n",
       "      <td>52</td>\n",
       "      <td>59</td>\n",
       "    </tr>\n",
       "    <tr>\n",
       "      <th>7</th>\n",
       "      <td>2022-12-30 20:10:49+00:00</td>\n",
       "      <td>@PadreMusa Amerix once said the alcohol menace...</td>\n",
       "      <td>amerix once said the alcohol menace is wreckin...</td>\n",
       "      <td>Negative</td>\n",
       "      <td>46</td>\n",
       "      <td>50</td>\n",
       "    </tr>\n",
       "    <tr>\n",
       "      <th>8</th>\n",
       "      <td>2022-12-30 19:36:49+00:00</td>\n",
       "      <td>@DodoPicard You're in Eastafrica, he probably ...</td>\n",
       "      <td>youre in eastafrica he probably knows amerix</td>\n",
       "      <td>Neutral</td>\n",
       "      <td>7</td>\n",
       "      <td>11</td>\n",
       "    </tr>\n",
       "    <tr>\n",
       "      <th>10</th>\n",
       "      <td>2022-12-30 19:24:08+00:00</td>\n",
       "      <td>Amerix student of the year</td>\n",
       "      <td>amerix student of the year</td>\n",
       "      <td>Neutral</td>\n",
       "      <td>5</td>\n",
       "      <td>6</td>\n",
       "    </tr>\n",
       "    <tr>\n",
       "      <th>11</th>\n",
       "      <td>2022-12-30 19:19:13+00:00</td>\n",
       "      <td>@sholla_saddam These are notes from @amerix's ...</td>\n",
       "      <td>these are notes from masculinitysaturday classes</td>\n",
       "      <td>Neutral</td>\n",
       "      <td>6</td>\n",
       "      <td>10</td>\n",
       "    </tr>\n",
       "    <tr>\n",
       "      <th>12</th>\n",
       "      <td>2022-12-30 19:14:42+00:00</td>\n",
       "      <td>@amerix I appreciate the intent of this, but I...</td>\n",
       "      <td>i appreciate the intent of this but i couldnt ...</td>\n",
       "      <td>Positive</td>\n",
       "      <td>49</td>\n",
       "      <td>51</td>\n",
       "    </tr>\n",
       "    <tr>\n",
       "      <th>13</th>\n",
       "      <td>2022-12-30 19:08:24+00:00</td>\n",
       "      <td>@Mynames_Jefff @Biancawamu2 @amerix Wouldn't b...</td>\n",
       "      <td>wouldnt be surprised</td>\n",
       "      <td>Negative</td>\n",
       "      <td>3</td>\n",
       "      <td>4</td>\n",
       "    </tr>\n",
       "    <tr>\n",
       "      <th>14</th>\n",
       "      <td>2022-12-30 19:02:43+00:00</td>\n",
       "      <td>@sharbabababa @Biancawamu2 could be @amerix wife🤷</td>\n",
       "      <td>could be wife person shrugging</td>\n",
       "      <td>Neutral</td>\n",
       "      <td>5</td>\n",
       "      <td>5</td>\n",
       "    </tr>\n",
       "    <tr>\n",
       "      <th>15</th>\n",
       "      <td>2022-12-30 18:57:05+00:00</td>\n",
       "      <td>@DyeAnna7 @amerix @kibe Was raised by toxic co...</td>\n",
       "      <td>was raised by toxic community and careless soc...</td>\n",
       "      <td>Negative</td>\n",
       "      <td>35</td>\n",
       "      <td>35</td>\n",
       "    </tr>\n",
       "    <tr>\n",
       "      <th>16</th>\n",
       "      <td>2022-12-30 18:56:07+00:00</td>\n",
       "      <td>@butdarkacademia @purevibeezz good thing is An...</td>\n",
       "      <td>good thing is andrew kibe and amerix are still...</td>\n",
       "      <td>Positive</td>\n",
       "      <td>15</td>\n",
       "      <td>17</td>\n",
       "    </tr>\n",
       "    <tr>\n",
       "      <th>17</th>\n",
       "      <td>2022-12-30 18:34:39+00:00</td>\n",
       "      <td>@amerix The system needs you sick and depresse...</td>\n",
       "      <td>the system needs you sick and depressed they m...</td>\n",
       "      <td>Negative</td>\n",
       "      <td>11</td>\n",
       "      <td>11</td>\n",
       "    </tr>\n",
       "    <tr>\n",
       "      <th>18</th>\n",
       "      <td>2022-12-30 18:32:47+00:00</td>\n",
       "      <td>As we end the year 2022, kindly pass my messag...</td>\n",
       "      <td>as we end the year 2022 kindly pass my message...</td>\n",
       "      <td>Positive</td>\n",
       "      <td>25</td>\n",
       "      <td>28</td>\n",
       "    </tr>\n",
       "    <tr>\n",
       "      <th>20</th>\n",
       "      <td>2022-12-30 18:13:04+00:00</td>\n",
       "      <td>@amerix thanks for the encouragement, God has ...</td>\n",
       "      <td>thanks for the encouragement god has been fait...</td>\n",
       "      <td>Positive</td>\n",
       "      <td>11</td>\n",
       "      <td>15</td>\n",
       "    </tr>\n",
       "    <tr>\n",
       "      <th>21</th>\n",
       "      <td>2022-12-30 17:59:25+00:00</td>\n",
       "      <td>What if they one Day arrest Amerix for \"incite...</td>\n",
       "      <td>what if they one day arrest amerix for incitem...</td>\n",
       "      <td>Negative</td>\n",
       "      <td>24</td>\n",
       "      <td>29</td>\n",
       "    </tr>\n",
       "  </tbody>\n",
       "</table>\n",
       "</div>"
      ],
      "text/plain": [
       "            tweet_created_at  \\\n",
       "0  2022-12-30 22:37:46+00:00   \n",
       "1  2022-12-30 22:30:58+00:00   \n",
       "2  2022-12-30 22:18:00+00:00   \n",
       "3  2022-12-30 20:42:54+00:00   \n",
       "4  2022-12-30 20:32:23+00:00   \n",
       "5  2022-12-30 20:25:56+00:00   \n",
       "6  2022-12-30 20:22:24+00:00   \n",
       "7  2022-12-30 20:10:49+00:00   \n",
       "8  2022-12-30 19:36:49+00:00   \n",
       "10 2022-12-30 19:24:08+00:00   \n",
       "11 2022-12-30 19:19:13+00:00   \n",
       "12 2022-12-30 19:14:42+00:00   \n",
       "13 2022-12-30 19:08:24+00:00   \n",
       "14 2022-12-30 19:02:43+00:00   \n",
       "15 2022-12-30 18:57:05+00:00   \n",
       "16 2022-12-30 18:56:07+00:00   \n",
       "17 2022-12-30 18:34:39+00:00   \n",
       "18 2022-12-30 18:32:47+00:00   \n",
       "20 2022-12-30 18:13:04+00:00   \n",
       "21 2022-12-30 17:59:25+00:00   \n",
       "\n",
       "                                                 text  \\\n",
       "0   Men who have refused to listen to/attend @amer...   \n",
       "1                        @OvOBrezzzy Take amerix next   \n",
       "2   @AyodeleYo11 @amerix Nah I’m good my masculini...   \n",
       "3   @Amerix_DontSimp There is no need for dating i...   \n",
       "4   @DyeAnna7 @amerix @kibe From what cos nothing ...   \n",
       "5   @salim_the_don @MwendiaJnr I see you unblocked...   \n",
       "6   @german_kenyan @ML_Philosophy 🤣 yes they are a...   \n",
       "7   @PadreMusa Amerix once said the alcohol menace...   \n",
       "8   @DodoPicard You're in Eastafrica, he probably ...   \n",
       "10                         Amerix student of the year   \n",
       "11  @sholla_saddam These are notes from @amerix's ...   \n",
       "12  @amerix I appreciate the intent of this, but I...   \n",
       "13  @Mynames_Jefff @Biancawamu2 @amerix Wouldn't b...   \n",
       "14  @sharbabababa @Biancawamu2 could be @amerix wife🤷   \n",
       "15  @DyeAnna7 @amerix @kibe Was raised by toxic co...   \n",
       "16  @butdarkacademia @purevibeezz good thing is An...   \n",
       "17  @amerix The system needs you sick and depresse...   \n",
       "18  As we end the year 2022, kindly pass my messag...   \n",
       "20  @amerix thanks for the encouragement, God has ...   \n",
       "21  What if they one Day arrest Amerix for \"incite...   \n",
       "\n",
       "                                    text_clean_deeper Sentiment  text_len  \\\n",
       "0   men who have refused to listen toattend classe...  Negative        36   \n",
       "1                                    take amerix next   Neutral         3   \n",
       "2   nah im good my masculinity health and wellness...  Positive        12   \n",
       "3      there is no need for dating in the first place  Negative        10   \n",
       "4   from what cos nothing is changing and if we go...  Positive        45   \n",
       "5   i see you unblocked me one minute uko kwa amer...  Negative        66   \n",
       "6   yes they are also those who can cook i would r...  Negative        52   \n",
       "7   amerix once said the alcohol menace is wreckin...  Negative        46   \n",
       "8        youre in eastafrica he probably knows amerix   Neutral         7   \n",
       "10                         amerix student of the year   Neutral         5   \n",
       "11   these are notes from masculinitysaturday classes   Neutral         6   \n",
       "12  i appreciate the intent of this but i couldnt ...  Positive        49   \n",
       "13                               wouldnt be surprised  Negative         3   \n",
       "14                     could be wife person shrugging   Neutral         5   \n",
       "15  was raised by toxic community and careless soc...  Negative        35   \n",
       "16  good thing is andrew kibe and amerix are still...  Positive        15   \n",
       "17  the system needs you sick and depressed they m...  Negative        11   \n",
       "18  as we end the year 2022 kindly pass my message...  Positive        25   \n",
       "20  thanks for the encouragement god has been fait...  Positive        11   \n",
       "21  what if they one day arrest amerix for incitem...  Negative        24   \n",
       "\n",
       "    token_lens  \n",
       "0           43  \n",
       "1            4  \n",
       "2           13  \n",
       "3           10  \n",
       "4           46  \n",
       "5           84  \n",
       "6           59  \n",
       "7           50  \n",
       "8           11  \n",
       "10           6  \n",
       "11          10  \n",
       "12          51  \n",
       "13           4  \n",
       "14           5  \n",
       "15          35  \n",
       "16          17  \n",
       "17          11  \n",
       "18          28  \n",
       "20          15  \n",
       "21          29  "
      ]
     },
     "execution_count": 54,
     "metadata": {},
     "output_type": "execute_result"
    }
   ],
   "source": [
    "df.head(20)"
   ]
  },
  {
   "cell_type": "code",
   "execution_count": 55,
   "id": "d2613b57",
   "metadata": {
    "execution": {
     "iopub.execute_input": "2023-02-16T12:41:24.213587Z",
     "iopub.status.busy": "2023-02-16T12:41:24.213163Z",
     "iopub.status.idle": "2023-02-16T12:41:24.288271Z",
     "shell.execute_reply": "2023-02-16T12:41:24.287013Z"
    },
    "papermill": {
     "duration": 0.10675,
     "end_time": "2023-02-16T12:41:24.291560",
     "exception": false,
     "start_time": "2023-02-16T12:41:24.184810",
     "status": "completed"
    },
    "tags": []
   },
   "outputs": [],
   "source": [
    "df = df.sort_values(by='token_lens', ascending=False)"
   ]
  },
  {
   "cell_type": "code",
   "execution_count": 56,
   "id": "f8294d1e",
   "metadata": {
    "execution": {
     "iopub.execute_input": "2023-02-16T12:41:24.348087Z",
     "iopub.status.busy": "2023-02-16T12:41:24.346888Z",
     "iopub.status.idle": "2023-02-16T12:41:24.364169Z",
     "shell.execute_reply": "2023-02-16T12:41:24.362894Z"
    },
    "papermill": {
     "duration": 0.048521,
     "end_time": "2023-02-16T12:41:24.366805",
     "exception": false,
     "start_time": "2023-02-16T12:41:24.318284",
     "status": "completed"
    },
    "tags": []
   },
   "outputs": [
    {
     "data": {
      "text/html": [
       "<div>\n",
       "<style scoped>\n",
       "    .dataframe tbody tr th:only-of-type {\n",
       "        vertical-align: middle;\n",
       "    }\n",
       "\n",
       "    .dataframe tbody tr th {\n",
       "        vertical-align: top;\n",
       "    }\n",
       "\n",
       "    .dataframe thead th {\n",
       "        text-align: right;\n",
       "    }\n",
       "</style>\n",
       "<table border=\"1\" class=\"dataframe\">\n",
       "  <thead>\n",
       "    <tr style=\"text-align: right;\">\n",
       "      <th></th>\n",
       "      <th>tweet_created_at</th>\n",
       "      <th>text</th>\n",
       "      <th>text_clean_deeper</th>\n",
       "      <th>Sentiment</th>\n",
       "      <th>text_len</th>\n",
       "      <th>token_lens</th>\n",
       "    </tr>\n",
       "  </thead>\n",
       "  <tbody>\n",
       "    <tr>\n",
       "      <th>14286</th>\n",
       "      <td>2022-12-18 17:03:59+00:00</td>\n",
       "      <td>@amerix 😂😂😂😂😂😂😂😂😂😂😂😂😂😂😂😂😂😂😂😂😂😂😂😂😂😂😂😂😂😂😂😂😂😂😂😂😂😂...</td>\n",
       "      <td>man i love a good satire account calling selfi...</td>\n",
       "      <td>Positive</td>\n",
       "      <td>482</td>\n",
       "      <td>483</td>\n",
       "    </tr>\n",
       "    <tr>\n",
       "      <th>5505</th>\n",
       "      <td>2022-12-21 15:32:00+00:00</td>\n",
       "      <td>@filip_254 @syrus_tama @amerix Use your block ...</td>\n",
       "      <td>use your block button if my 5 emojis ruined yo...</td>\n",
       "      <td>Negative</td>\n",
       "      <td>301</td>\n",
       "      <td>303</td>\n",
       "    </tr>\n",
       "    <tr>\n",
       "      <th>181177</th>\n",
       "      <td>2022-10-15 15:06:17+00:00</td>\n",
       "      <td>Let us plant Trees     🌴🌲🌲🌲🌴🌴🌴🌲🌲🌲🌲🌴🌴🌴🌴🌴🌴🌲🌲🌲🌲🌲🌴...</td>\n",
       "      <td>let us plant trees masculinitysaturday palm tr...</td>\n",
       "      <td>Neutral</td>\n",
       "      <td>241</td>\n",
       "      <td>245</td>\n",
       "    </tr>\n",
       "    <tr>\n",
       "      <th>166347</th>\n",
       "      <td>2022-12-24 18:27:40+00:00</td>\n",
       "      <td>When Bae has you in your feelings like 😍😍😁😘😘👫💏...</td>\n",
       "      <td>when bae has you in your feelings like masculi...</td>\n",
       "      <td>Positive</td>\n",
       "      <td>232</td>\n",
       "      <td>243</td>\n",
       "    </tr>\n",
       "    <tr>\n",
       "      <th>108948</th>\n",
       "      <td>2022-10-05 23:55:55+00:00</td>\n",
       "      <td>@DTNEtiquette K I can do that....😀😀😀😀😀😀😀😀😀😀😀😀😀...</td>\n",
       "      <td>k i can do that i have extra ones to share bet...</td>\n",
       "      <td>Positive</td>\n",
       "      <td>226</td>\n",
       "      <td>227</td>\n",
       "    </tr>\n",
       "    <tr>\n",
       "      <th>145636</th>\n",
       "      <td>2022-07-07 22:07:24+00:00</td>\n",
       "      <td>38 items and counting. Truly can’t believe how...</td>\n",
       "      <td>38 items and counting truly cant believe how c...</td>\n",
       "      <td>Positive</td>\n",
       "      <td>153</td>\n",
       "      <td>165</td>\n",
       "    </tr>\n",
       "    <tr>\n",
       "      <th>8167</th>\n",
       "      <td>2022-12-20 08:21:46+00:00</td>\n",
       "      <td>💚💚💚💚💚💚💚💚💚💚💚💚💚💚💚💚💚💚 💚💚💚💚💚YESTERDAY FIXED GAMES ...</td>\n",
       "      <td>yesterday fixed games won successfully as expe...</td>\n",
       "      <td>Positive</td>\n",
       "      <td>150</td>\n",
       "      <td>162</td>\n",
       "    </tr>\n",
       "    <tr>\n",
       "      <th>29232</th>\n",
       "      <td>2022-12-07 07:31:58+00:00</td>\n",
       "      <td>@amerix @RailaOdinga unfat\\n@AtwoliDza unfat o...</td>\n",
       "      <td>unfat unfat old man my friendunfat unfat sir u...</td>\n",
       "      <td>Neutral</td>\n",
       "      <td>154</td>\n",
       "      <td>161</td>\n",
       "    </tr>\n",
       "    <tr>\n",
       "      <th>164578</th>\n",
       "      <td>2022-05-03 02:48:27+00:00</td>\n",
       "      <td>@ThingsSwimming @LadyAndromeda @swimhardy @Row...</td>\n",
       "      <td>thank you for this 7th grade ss teacher trying...</td>\n",
       "      <td>Positive</td>\n",
       "      <td>141</td>\n",
       "      <td>152</td>\n",
       "    </tr>\n",
       "    <tr>\n",
       "      <th>5033</th>\n",
       "      <td>2022-12-21 19:39:14+00:00</td>\n",
       "      <td>@ValOnchari @amerix Amerix:Today I am going to...</td>\n",
       "      <td>amerixtoday i am going to harvest sweet potato...</td>\n",
       "      <td>Positive</td>\n",
       "      <td>137</td>\n",
       "      <td>149</td>\n",
       "    </tr>\n",
       "    <tr>\n",
       "      <th>147984</th>\n",
       "      <td>2022-06-30 04:02:04+00:00</td>\n",
       "      <td>A retweet means the world to #teachertwitter #...</td>\n",
       "      <td>a retweet means the world to teachertwitter cl...</td>\n",
       "      <td>Positive</td>\n",
       "      <td>136</td>\n",
       "      <td>149</td>\n",
       "    </tr>\n",
       "    <tr>\n",
       "      <th>165396</th>\n",
       "      <td>2022-04-29 21:13:08+00:00</td>\n",
       "      <td>Day 2!!!#TeacherAppreciationWeek #teachertwitt...</td>\n",
       "      <td>day 2teacherappreciationweek teachertwitter th...</td>\n",
       "      <td>Positive</td>\n",
       "      <td>131</td>\n",
       "      <td>144</td>\n",
       "    </tr>\n",
       "    <tr>\n",
       "      <th>154462</th>\n",
       "      <td>2022-06-08 11:44:34+00:00</td>\n",
       "      <td>🗣Wishing the @CobbSchools @CobbInTech team the...</td>\n",
       "      <td>wishing the team the best today the team has i...</td>\n",
       "      <td>Positive</td>\n",
       "      <td>112</td>\n",
       "      <td>143</td>\n",
       "    </tr>\n",
       "    <tr>\n",
       "      <th>98658</th>\n",
       "      <td>2022-11-07 22:49:01+00:00</td>\n",
       "      <td>💦 ALL HUMANS are #BetterTogether\\n👋🏼✊🏿✌🏾🤜🏻🤛🏽👍🏼...</td>\n",
       "      <td>all humans are bettertogether voteblue resist ...</td>\n",
       "      <td>Neutral</td>\n",
       "      <td>94</td>\n",
       "      <td>141</td>\n",
       "    </tr>\n",
       "    <tr>\n",
       "      <th>73057</th>\n",
       "      <td>2022-10-29 05:34:53+00:00</td>\n",
       "      <td>@Jordn_mu @amerix @Drayk___ Lemme retweet, sha...</td>\n",
       "      <td>lemme retweet share screenshot and tag this fe...</td>\n",
       "      <td>Positive</td>\n",
       "      <td>136</td>\n",
       "      <td>140</td>\n",
       "    </tr>\n",
       "    <tr>\n",
       "      <th>124877</th>\n",
       "      <td>2022-08-21 23:58:59+00:00</td>\n",
       "      <td>Keep PUSHING. Multiple AEDs are so important f...</td>\n",
       "      <td>keep pushing multiple aeds are so important fo...</td>\n",
       "      <td>Positive</td>\n",
       "      <td>121</td>\n",
       "      <td>135</td>\n",
       "    </tr>\n",
       "    <tr>\n",
       "      <th>99068</th>\n",
       "      <td>2022-11-06 02:45:54+00:00</td>\n",
       "      <td>🤣🤣🤣🤣🤣🤣🤣🤣🤣 this is my only points slip this was...</td>\n",
       "      <td>this is my only points slip this was 80k this ...</td>\n",
       "      <td>Positive</td>\n",
       "      <td>116</td>\n",
       "      <td>134</td>\n",
       "    </tr>\n",
       "    <tr>\n",
       "      <th>137921</th>\n",
       "      <td>2022-07-27 03:07:14+00:00</td>\n",
       "      <td>If you’re seeing this, I want you to have the ...</td>\n",
       "      <td>if youre seeing this i want you to have the be...</td>\n",
       "      <td>Positive</td>\n",
       "      <td>128</td>\n",
       "      <td>133</td>\n",
       "    </tr>\n",
       "    <tr>\n",
       "      <th>40390</th>\n",
       "      <td>2022-11-29 17:24:36+00:00</td>\n",
       "      <td>@amerix \\n🫢🫢🫢🫢🫢🫢🫢😮😮😮😮😮😮😮😮😮😮😮 what prescription...</td>\n",
       "      <td>what prescription is this for diabetes whether...</td>\n",
       "      <td>Negative</td>\n",
       "      <td>128</td>\n",
       "      <td>133</td>\n",
       "    </tr>\n",
       "    <tr>\n",
       "      <th>143110</th>\n",
       "      <td>2022-07-15 11:44:42+00:00</td>\n",
       "      <td>Ok now I can reveal the weekend wishlist drop....</td>\n",
       "      <td>ok now i can reveal the weekend wishlist drop ...</td>\n",
       "      <td>Positive</td>\n",
       "      <td>118</td>\n",
       "      <td>132</td>\n",
       "    </tr>\n",
       "  </tbody>\n",
       "</table>\n",
       "</div>"
      ],
      "text/plain": [
       "                tweet_created_at  \\\n",
       "14286  2022-12-18 17:03:59+00:00   \n",
       "5505   2022-12-21 15:32:00+00:00   \n",
       "181177 2022-10-15 15:06:17+00:00   \n",
       "166347 2022-12-24 18:27:40+00:00   \n",
       "108948 2022-10-05 23:55:55+00:00   \n",
       "145636 2022-07-07 22:07:24+00:00   \n",
       "8167   2022-12-20 08:21:46+00:00   \n",
       "29232  2022-12-07 07:31:58+00:00   \n",
       "164578 2022-05-03 02:48:27+00:00   \n",
       "5033   2022-12-21 19:39:14+00:00   \n",
       "147984 2022-06-30 04:02:04+00:00   \n",
       "165396 2022-04-29 21:13:08+00:00   \n",
       "154462 2022-06-08 11:44:34+00:00   \n",
       "98658  2022-11-07 22:49:01+00:00   \n",
       "73057  2022-10-29 05:34:53+00:00   \n",
       "124877 2022-08-21 23:58:59+00:00   \n",
       "99068  2022-11-06 02:45:54+00:00   \n",
       "137921 2022-07-27 03:07:14+00:00   \n",
       "40390  2022-11-29 17:24:36+00:00   \n",
       "143110 2022-07-15 11:44:42+00:00   \n",
       "\n",
       "                                                     text  \\\n",
       "14286   @amerix 😂😂😂😂😂😂😂😂😂😂😂😂😂😂😂😂😂😂😂😂😂😂😂😂😂😂😂😂😂😂😂😂😂😂😂😂😂😂...   \n",
       "5505    @filip_254 @syrus_tama @amerix Use your block ...   \n",
       "181177  Let us plant Trees     🌴🌲🌲🌲🌴🌴🌴🌲🌲🌲🌲🌴🌴🌴🌴🌴🌴🌲🌲🌲🌲🌲🌴...   \n",
       "166347  When Bae has you in your feelings like 😍😍😁😘😘👫💏...   \n",
       "108948  @DTNEtiquette K I can do that....😀😀😀😀😀😀😀😀😀😀😀😀😀...   \n",
       "145636  38 items and counting. Truly can’t believe how...   \n",
       "8167    💚💚💚💚💚💚💚💚💚💚💚💚💚💚💚💚💚💚 💚💚💚💚💚YESTERDAY FIXED GAMES ...   \n",
       "29232   @amerix @RailaOdinga unfat\\n@AtwoliDza unfat o...   \n",
       "164578  @ThingsSwimming @LadyAndromeda @swimhardy @Row...   \n",
       "5033    @ValOnchari @amerix Amerix:Today I am going to...   \n",
       "147984  A retweet means the world to #teachertwitter #...   \n",
       "165396  Day 2!!!#TeacherAppreciationWeek #teachertwitt...   \n",
       "154462  🗣Wishing the @CobbSchools @CobbInTech team the...   \n",
       "98658   💦 ALL HUMANS are #BetterTogether\\n👋🏼✊🏿✌🏾🤜🏻🤛🏽👍🏼...   \n",
       "73057   @Jordn_mu @amerix @Drayk___ Lemme retweet, sha...   \n",
       "124877  Keep PUSHING. Multiple AEDs are so important f...   \n",
       "99068   🤣🤣🤣🤣🤣🤣🤣🤣🤣 this is my only points slip this was...   \n",
       "137921  If you’re seeing this, I want you to have the ...   \n",
       "40390   @amerix \\n🫢🫢🫢🫢🫢🫢🫢😮😮😮😮😮😮😮😮😮😮😮 what prescription...   \n",
       "143110  Ok now I can reveal the weekend wishlist drop....   \n",
       "\n",
       "                                        text_clean_deeper Sentiment  text_len  \\\n",
       "14286   man i love a good satire account calling selfi...  Positive       482   \n",
       "5505    use your block button if my 5 emojis ruined yo...  Negative       301   \n",
       "181177  let us plant trees masculinitysaturday palm tr...   Neutral       241   \n",
       "166347  when bae has you in your feelings like masculi...  Positive       232   \n",
       "108948  k i can do that i have extra ones to share bet...  Positive       226   \n",
       "145636  38 items and counting truly cant believe how c...  Positive       153   \n",
       "8167    yesterday fixed games won successfully as expe...  Positive       150   \n",
       "29232   unfat unfat old man my friendunfat unfat sir u...   Neutral       154   \n",
       "164578  thank you for this 7th grade ss teacher trying...  Positive       141   \n",
       "5033    amerixtoday i am going to harvest sweet potato...  Positive       137   \n",
       "147984  a retweet means the world to teachertwitter cl...  Positive       136   \n",
       "165396  day 2teacherappreciationweek teachertwitter th...  Positive       131   \n",
       "154462  wishing the team the best today the team has i...  Positive       112   \n",
       "98658   all humans are bettertogether voteblue resist ...   Neutral        94   \n",
       "73057   lemme retweet share screenshot and tag this fe...  Positive       136   \n",
       "124877  keep pushing multiple aeds are so important fo...  Positive       121   \n",
       "99068   this is my only points slip this was 80k this ...  Positive       116   \n",
       "137921  if youre seeing this i want you to have the be...  Positive       128   \n",
       "40390   what prescription is this for diabetes whether...  Negative       128   \n",
       "143110  ok now i can reveal the weekend wishlist drop ...  Positive       118   \n",
       "\n",
       "        token_lens  \n",
       "14286          483  \n",
       "5505           303  \n",
       "181177         245  \n",
       "166347         243  \n",
       "108948         227  \n",
       "145636         165  \n",
       "8167           162  \n",
       "29232          161  \n",
       "164578         152  \n",
       "5033           149  \n",
       "147984         149  \n",
       "165396         144  \n",
       "154462         143  \n",
       "98658          141  \n",
       "73057          140  \n",
       "124877         135  \n",
       "99068          134  \n",
       "137921         133  \n",
       "40390          133  \n",
       "143110         132  "
      ]
     },
     "execution_count": 56,
     "metadata": {},
     "output_type": "execute_result"
    }
   ],
   "source": [
    "df.head(20)"
   ]
  },
  {
   "cell_type": "code",
   "execution_count": 57,
   "id": "a769ad01",
   "metadata": {
    "execution": {
     "iopub.execute_input": "2023-02-16T12:41:24.422253Z",
     "iopub.status.busy": "2023-02-16T12:41:24.421796Z",
     "iopub.status.idle": "2023-02-16T12:41:24.427335Z",
     "shell.execute_reply": "2023-02-16T12:41:24.425777Z"
    },
    "papermill": {
     "duration": 0.03629,
     "end_time": "2023-02-16T12:41:24.429961",
     "exception": false,
     "start_time": "2023-02-16T12:41:24.393671",
     "status": "completed"
    },
    "tags": []
   },
   "outputs": [],
   "source": [
    "df = df.iloc[12:]"
   ]
  },
  {
   "cell_type": "code",
   "execution_count": 58,
   "id": "9f674ff0",
   "metadata": {
    "execution": {
     "iopub.execute_input": "2023-02-16T12:41:24.485927Z",
     "iopub.status.busy": "2023-02-16T12:41:24.485484Z",
     "iopub.status.idle": "2023-02-16T12:41:24.502712Z",
     "shell.execute_reply": "2023-02-16T12:41:24.501502Z"
    },
    "papermill": {
     "duration": 0.047867,
     "end_time": "2023-02-16T12:41:24.505299",
     "exception": false,
     "start_time": "2023-02-16T12:41:24.457432",
     "status": "completed"
    },
    "tags": []
   },
   "outputs": [
    {
     "data": {
      "text/html": [
       "<div>\n",
       "<style scoped>\n",
       "    .dataframe tbody tr th:only-of-type {\n",
       "        vertical-align: middle;\n",
       "    }\n",
       "\n",
       "    .dataframe tbody tr th {\n",
       "        vertical-align: top;\n",
       "    }\n",
       "\n",
       "    .dataframe thead th {\n",
       "        text-align: right;\n",
       "    }\n",
       "</style>\n",
       "<table border=\"1\" class=\"dataframe\">\n",
       "  <thead>\n",
       "    <tr style=\"text-align: right;\">\n",
       "      <th></th>\n",
       "      <th>tweet_created_at</th>\n",
       "      <th>text</th>\n",
       "      <th>text_clean_deeper</th>\n",
       "      <th>Sentiment</th>\n",
       "      <th>text_len</th>\n",
       "      <th>token_lens</th>\n",
       "    </tr>\n",
       "  </thead>\n",
       "  <tbody>\n",
       "    <tr>\n",
       "      <th>154462</th>\n",
       "      <td>2022-06-08 11:44:34+00:00</td>\n",
       "      <td>🗣Wishing the @CobbSchools @CobbInTech team the...</td>\n",
       "      <td>wishing the team the best today the team has i...</td>\n",
       "      <td>Positive</td>\n",
       "      <td>112</td>\n",
       "      <td>143</td>\n",
       "    </tr>\n",
       "    <tr>\n",
       "      <th>98658</th>\n",
       "      <td>2022-11-07 22:49:01+00:00</td>\n",
       "      <td>💦 ALL HUMANS are #BetterTogether\\n👋🏼✊🏿✌🏾🤜🏻🤛🏽👍🏼...</td>\n",
       "      <td>all humans are bettertogether voteblue resist ...</td>\n",
       "      <td>Neutral</td>\n",
       "      <td>94</td>\n",
       "      <td>141</td>\n",
       "    </tr>\n",
       "    <tr>\n",
       "      <th>73057</th>\n",
       "      <td>2022-10-29 05:34:53+00:00</td>\n",
       "      <td>@Jordn_mu @amerix @Drayk___ Lemme retweet, sha...</td>\n",
       "      <td>lemme retweet share screenshot and tag this fe...</td>\n",
       "      <td>Positive</td>\n",
       "      <td>136</td>\n",
       "      <td>140</td>\n",
       "    </tr>\n",
       "    <tr>\n",
       "      <th>124877</th>\n",
       "      <td>2022-08-21 23:58:59+00:00</td>\n",
       "      <td>Keep PUSHING. Multiple AEDs are so important f...</td>\n",
       "      <td>keep pushing multiple aeds are so important fo...</td>\n",
       "      <td>Positive</td>\n",
       "      <td>121</td>\n",
       "      <td>135</td>\n",
       "    </tr>\n",
       "    <tr>\n",
       "      <th>99068</th>\n",
       "      <td>2022-11-06 02:45:54+00:00</td>\n",
       "      <td>🤣🤣🤣🤣🤣🤣🤣🤣🤣 this is my only points slip this was...</td>\n",
       "      <td>this is my only points slip this was 80k this ...</td>\n",
       "      <td>Positive</td>\n",
       "      <td>116</td>\n",
       "      <td>134</td>\n",
       "    </tr>\n",
       "    <tr>\n",
       "      <th>137921</th>\n",
       "      <td>2022-07-27 03:07:14+00:00</td>\n",
       "      <td>If you’re seeing this, I want you to have the ...</td>\n",
       "      <td>if youre seeing this i want you to have the be...</td>\n",
       "      <td>Positive</td>\n",
       "      <td>128</td>\n",
       "      <td>133</td>\n",
       "    </tr>\n",
       "    <tr>\n",
       "      <th>40390</th>\n",
       "      <td>2022-11-29 17:24:36+00:00</td>\n",
       "      <td>@amerix \\n🫢🫢🫢🫢🫢🫢🫢😮😮😮😮😮😮😮😮😮😮😮 what prescription...</td>\n",
       "      <td>what prescription is this for diabetes whether...</td>\n",
       "      <td>Negative</td>\n",
       "      <td>128</td>\n",
       "      <td>133</td>\n",
       "    </tr>\n",
       "    <tr>\n",
       "      <th>143110</th>\n",
       "      <td>2022-07-15 11:44:42+00:00</td>\n",
       "      <td>Ok now I can reveal the weekend wishlist drop....</td>\n",
       "      <td>ok now i can reveal the weekend wishlist drop ...</td>\n",
       "      <td>Positive</td>\n",
       "      <td>118</td>\n",
       "      <td>132</td>\n",
       "    </tr>\n",
       "    <tr>\n",
       "      <th>6918</th>\n",
       "      <td>2022-12-20 17:08:20+00:00</td>\n",
       "      <td>@oldagepoopman35 @amerix Nbr of flags in 5011 ...</td>\n",
       "      <td>nbr of flags in 5011 usernames who liked 279 3...</td>\n",
       "      <td>Positive</td>\n",
       "      <td>95</td>\n",
       "      <td>131</td>\n",
       "    </tr>\n",
       "    <tr>\n",
       "      <th>148347</th>\n",
       "      <td>2022-06-29 01:29:41+00:00</td>\n",
       "      <td>Any help would be forever appreciated. Even a ...</td>\n",
       "      <td>any help would be forever appreciated even a r...</td>\n",
       "      <td>Positive</td>\n",
       "      <td>118</td>\n",
       "      <td>131</td>\n",
       "    </tr>\n",
       "    <tr>\n",
       "      <th>145489</th>\n",
       "      <td>2022-07-08 13:09:11+00:00</td>\n",
       "      <td>Be kind to each other. Be positive. These litt...</td>\n",
       "      <td>be kind to each other be positive these little...</td>\n",
       "      <td>Positive</td>\n",
       "      <td>127</td>\n",
       "      <td>129</td>\n",
       "    </tr>\n",
       "    <tr>\n",
       "      <th>79125</th>\n",
       "      <td>2022-10-19 16:47:42+00:00</td>\n",
       "      <td>@ThoughtsNation2 @amerix You wish I was fat? 🤣...</td>\n",
       "      <td>you wish i was fat in your dreams rolling on t...</td>\n",
       "      <td>Positive</td>\n",
       "      <td>128</td>\n",
       "      <td>128</td>\n",
       "    </tr>\n",
       "    <tr>\n",
       "      <th>99648</th>\n",
       "      <td>2022-11-04 02:32:07+00:00</td>\n",
       "      <td>😮‍💨💵💵💵💵😮‍💨 didnt even wanna bet today trash as...</td>\n",
       "      <td>didnt even wanna bet today trash ass matchups ...</td>\n",
       "      <td>Positive</td>\n",
       "      <td>105</td>\n",
       "      <td>128</td>\n",
       "    </tr>\n",
       "    <tr>\n",
       "      <th>11175</th>\n",
       "      <td>2022-12-19 11:39:56+00:00</td>\n",
       "      <td>@Bhela48 @amerix Nbr of flags in 5062 username...</td>\n",
       "      <td>nbr of flags in 5062 usernames who liked 244 1...</td>\n",
       "      <td>Positive</td>\n",
       "      <td>94</td>\n",
       "      <td>126</td>\n",
       "    </tr>\n",
       "    <tr>\n",
       "      <th>9019</th>\n",
       "      <td>2022-12-19 22:16:29+00:00</td>\n",
       "      <td>@Stychinsky @amerix Nbr of flags in 5050 usern...</td>\n",
       "      <td>nbr of flags in 5050 usernames who liked 234 1...</td>\n",
       "      <td>Positive</td>\n",
       "      <td>93</td>\n",
       "      <td>125</td>\n",
       "    </tr>\n",
       "    <tr>\n",
       "      <th>158823</th>\n",
       "      <td>2022-05-22 18:12:55+00:00</td>\n",
       "      <td>If you are seeing this, it is going to be an a...</td>\n",
       "      <td>if you are seeing this it is going to be an aw...</td>\n",
       "      <td>Positive</td>\n",
       "      <td>115</td>\n",
       "      <td>125</td>\n",
       "    </tr>\n",
       "    <tr>\n",
       "      <th>232108</th>\n",
       "      <td>2022-11-02 15:57:53+00:00</td>\n",
       "      <td>Incredible Noodle in 5 minutes❗️\\n👇👇👇👇👇👇👇👇👇👇👇👇...</td>\n",
       "      <td>incredible noodle in 5 minutes foodneedsafarme...</td>\n",
       "      <td>Neutral</td>\n",
       "      <td>115</td>\n",
       "      <td>125</td>\n",
       "    </tr>\n",
       "    <tr>\n",
       "      <th>11778</th>\n",
       "      <td>2022-12-19 06:34:05+00:00</td>\n",
       "      <td>@p23570 @amerix Nbr of flags in 5066 usernames...</td>\n",
       "      <td>nbr of flags in 5066 usernames who liked 250 2...</td>\n",
       "      <td>Positive</td>\n",
       "      <td>94</td>\n",
       "      <td>125</td>\n",
       "    </tr>\n",
       "    <tr>\n",
       "      <th>159392</th>\n",
       "      <td>2022-05-20 09:40:34+00:00</td>\n",
       "      <td>If you are seeing this, I hope you have the ha...</td>\n",
       "      <td>if you are seeing this i hope you have the hap...</td>\n",
       "      <td>Positive</td>\n",
       "      <td>114</td>\n",
       "      <td>124</td>\n",
       "    </tr>\n",
       "    <tr>\n",
       "      <th>12841</th>\n",
       "      <td>2022-12-19 00:23:42+00:00</td>\n",
       "      <td>@DmitriyUngern @amerix Nbr of flags in 5088 us...</td>\n",
       "      <td>nbr of flags in 5088 usernames who liked 257 2...</td>\n",
       "      <td>Positive</td>\n",
       "      <td>94</td>\n",
       "      <td>124</td>\n",
       "    </tr>\n",
       "  </tbody>\n",
       "</table>\n",
       "</div>"
      ],
      "text/plain": [
       "                tweet_created_at  \\\n",
       "154462 2022-06-08 11:44:34+00:00   \n",
       "98658  2022-11-07 22:49:01+00:00   \n",
       "73057  2022-10-29 05:34:53+00:00   \n",
       "124877 2022-08-21 23:58:59+00:00   \n",
       "99068  2022-11-06 02:45:54+00:00   \n",
       "137921 2022-07-27 03:07:14+00:00   \n",
       "40390  2022-11-29 17:24:36+00:00   \n",
       "143110 2022-07-15 11:44:42+00:00   \n",
       "6918   2022-12-20 17:08:20+00:00   \n",
       "148347 2022-06-29 01:29:41+00:00   \n",
       "145489 2022-07-08 13:09:11+00:00   \n",
       "79125  2022-10-19 16:47:42+00:00   \n",
       "99648  2022-11-04 02:32:07+00:00   \n",
       "11175  2022-12-19 11:39:56+00:00   \n",
       "9019   2022-12-19 22:16:29+00:00   \n",
       "158823 2022-05-22 18:12:55+00:00   \n",
       "232108 2022-11-02 15:57:53+00:00   \n",
       "11778  2022-12-19 06:34:05+00:00   \n",
       "159392 2022-05-20 09:40:34+00:00   \n",
       "12841  2022-12-19 00:23:42+00:00   \n",
       "\n",
       "                                                     text  \\\n",
       "154462  🗣Wishing the @CobbSchools @CobbInTech team the...   \n",
       "98658   💦 ALL HUMANS are #BetterTogether\\n👋🏼✊🏿✌🏾🤜🏻🤛🏽👍🏼...   \n",
       "73057   @Jordn_mu @amerix @Drayk___ Lemme retweet, sha...   \n",
       "124877  Keep PUSHING. Multiple AEDs are so important f...   \n",
       "99068   🤣🤣🤣🤣🤣🤣🤣🤣🤣 this is my only points slip this was...   \n",
       "137921  If you’re seeing this, I want you to have the ...   \n",
       "40390   @amerix \\n🫢🫢🫢🫢🫢🫢🫢😮😮😮😮😮😮😮😮😮😮😮 what prescription...   \n",
       "143110  Ok now I can reveal the weekend wishlist drop....   \n",
       "6918    @oldagepoopman35 @amerix Nbr of flags in 5011 ...   \n",
       "148347  Any help would be forever appreciated. Even a ...   \n",
       "145489  Be kind to each other. Be positive. These litt...   \n",
       "79125   @ThoughtsNation2 @amerix You wish I was fat? 🤣...   \n",
       "99648   😮‍💨💵💵💵💵😮‍💨 didnt even wanna bet today trash as...   \n",
       "11175   @Bhela48 @amerix Nbr of flags in 5062 username...   \n",
       "9019    @Stychinsky @amerix Nbr of flags in 5050 usern...   \n",
       "158823  If you are seeing this, it is going to be an a...   \n",
       "232108  Incredible Noodle in 5 minutes❗️\\n👇👇👇👇👇👇👇👇👇👇👇👇...   \n",
       "11778   @p23570 @amerix Nbr of flags in 5066 usernames...   \n",
       "159392  If you are seeing this, I hope you have the ha...   \n",
       "12841   @DmitriyUngern @amerix Nbr of flags in 5088 us...   \n",
       "\n",
       "                                        text_clean_deeper Sentiment  text_len  \\\n",
       "154462  wishing the team the best today the team has i...  Positive       112   \n",
       "98658   all humans are bettertogether voteblue resist ...   Neutral        94   \n",
       "73057   lemme retweet share screenshot and tag this fe...  Positive       136   \n",
       "124877  keep pushing multiple aeds are so important fo...  Positive       121   \n",
       "99068   this is my only points slip this was 80k this ...  Positive       116   \n",
       "137921  if youre seeing this i want you to have the be...  Positive       128   \n",
       "40390   what prescription is this for diabetes whether...  Negative       128   \n",
       "143110  ok now i can reveal the weekend wishlist drop ...  Positive       118   \n",
       "6918    nbr of flags in 5011 usernames who liked 279 3...  Positive        95   \n",
       "148347  any help would be forever appreciated even a r...  Positive       118   \n",
       "145489  be kind to each other be positive these little...  Positive       127   \n",
       "79125   you wish i was fat in your dreams rolling on t...  Positive       128   \n",
       "99648   didnt even wanna bet today trash ass matchups ...  Positive       105   \n",
       "11175   nbr of flags in 5062 usernames who liked 244 1...  Positive        94   \n",
       "9019    nbr of flags in 5050 usernames who liked 234 1...  Positive        93   \n",
       "158823  if you are seeing this it is going to be an aw...  Positive       115   \n",
       "232108  incredible noodle in 5 minutes foodneedsafarme...   Neutral       115   \n",
       "11778   nbr of flags in 5066 usernames who liked 250 2...  Positive        94   \n",
       "159392  if you are seeing this i hope you have the hap...  Positive       114   \n",
       "12841   nbr of flags in 5088 usernames who liked 257 2...  Positive        94   \n",
       "\n",
       "        token_lens  \n",
       "154462         143  \n",
       "98658          141  \n",
       "73057          140  \n",
       "124877         135  \n",
       "99068          134  \n",
       "137921         133  \n",
       "40390          133  \n",
       "143110         132  \n",
       "6918           131  \n",
       "148347         131  \n",
       "145489         129  \n",
       "79125          128  \n",
       "99648          128  \n",
       "11175          126  \n",
       "9019           125  \n",
       "158823         125  \n",
       "232108         125  \n",
       "11778          125  \n",
       "159392         124  \n",
       "12841          124  "
      ]
     },
     "execution_count": 58,
     "metadata": {},
     "output_type": "execute_result"
    }
   ],
   "source": [
    "df.head(20)"
   ]
  },
  {
   "cell_type": "code",
   "execution_count": 59,
   "id": "62a66ac4",
   "metadata": {
    "execution": {
     "iopub.execute_input": "2023-02-16T12:41:24.561562Z",
     "iopub.status.busy": "2023-02-16T12:41:24.561134Z",
     "iopub.status.idle": "2023-02-16T12:41:24.586063Z",
     "shell.execute_reply": "2023-02-16T12:41:24.584761Z"
    },
    "papermill": {
     "duration": 0.055905,
     "end_time": "2023-02-16T12:41:24.588449",
     "exception": false,
     "start_time": "2023-02-16T12:41:24.532544",
     "status": "completed"
    },
    "tags": []
   },
   "outputs": [
    {
     "data": {
      "text/plain": [
       "Positive    129190\n",
       "Neutral      63091\n",
       "Negative     41406\n",
       "Name: Sentiment, dtype: int64"
      ]
     },
     "execution_count": 59,
     "metadata": {},
     "output_type": "execute_result"
    }
   ],
   "source": [
    "df['Sentiment'].value_counts()"
   ]
  },
  {
   "cell_type": "code",
   "execution_count": 60,
   "id": "bd71a873",
   "metadata": {
    "execution": {
     "iopub.execute_input": "2023-02-16T12:41:24.646666Z",
     "iopub.status.busy": "2023-02-16T12:41:24.646041Z",
     "iopub.status.idle": "2023-02-16T12:41:24.684273Z",
     "shell.execute_reply": "2023-02-16T12:41:24.683056Z"
    },
    "papermill": {
     "duration": 0.070745,
     "end_time": "2023-02-16T12:41:24.687209",
     "exception": false,
     "start_time": "2023-02-16T12:41:24.616464",
     "status": "completed"
    },
    "tags": []
   },
   "outputs": [],
   "source": [
    "df['Sentiment'] = df['Sentiment'].map({'Negative':0,'Positive':1,'Neutral':2})"
   ]
  },
  {
   "cell_type": "code",
   "execution_count": 61,
   "id": "f1e6b113",
   "metadata": {
    "execution": {
     "iopub.execute_input": "2023-02-16T12:41:24.744360Z",
     "iopub.status.busy": "2023-02-16T12:41:24.743951Z",
     "iopub.status.idle": "2023-02-16T12:41:24.757143Z",
     "shell.execute_reply": "2023-02-16T12:41:24.756053Z"
    },
    "papermill": {
     "duration": 0.04459,
     "end_time": "2023-02-16T12:41:24.759629",
     "exception": false,
     "start_time": "2023-02-16T12:41:24.715039",
     "status": "completed"
    },
    "tags": []
   },
   "outputs": [
    {
     "data": {
      "text/html": [
       "<div>\n",
       "<style scoped>\n",
       "    .dataframe tbody tr th:only-of-type {\n",
       "        vertical-align: middle;\n",
       "    }\n",
       "\n",
       "    .dataframe tbody tr th {\n",
       "        vertical-align: top;\n",
       "    }\n",
       "\n",
       "    .dataframe thead th {\n",
       "        text-align: right;\n",
       "    }\n",
       "</style>\n",
       "<table border=\"1\" class=\"dataframe\">\n",
       "  <thead>\n",
       "    <tr style=\"text-align: right;\">\n",
       "      <th></th>\n",
       "      <th>tweet_created_at</th>\n",
       "      <th>text</th>\n",
       "      <th>text_clean_deeper</th>\n",
       "      <th>Sentiment</th>\n",
       "      <th>text_len</th>\n",
       "      <th>token_lens</th>\n",
       "    </tr>\n",
       "  </thead>\n",
       "  <tbody>\n",
       "    <tr>\n",
       "      <th>154462</th>\n",
       "      <td>2022-06-08 11:44:34+00:00</td>\n",
       "      <td>🗣Wishing the @CobbSchools @CobbInTech team the...</td>\n",
       "      <td>wishing the team the best today the team has i...</td>\n",
       "      <td>1</td>\n",
       "      <td>112</td>\n",
       "      <td>143</td>\n",
       "    </tr>\n",
       "    <tr>\n",
       "      <th>98658</th>\n",
       "      <td>2022-11-07 22:49:01+00:00</td>\n",
       "      <td>💦 ALL HUMANS are #BetterTogether\\n👋🏼✊🏿✌🏾🤜🏻🤛🏽👍🏼...</td>\n",
       "      <td>all humans are bettertogether voteblue resist ...</td>\n",
       "      <td>2</td>\n",
       "      <td>94</td>\n",
       "      <td>141</td>\n",
       "    </tr>\n",
       "    <tr>\n",
       "      <th>73057</th>\n",
       "      <td>2022-10-29 05:34:53+00:00</td>\n",
       "      <td>@Jordn_mu @amerix @Drayk___ Lemme retweet, sha...</td>\n",
       "      <td>lemme retweet share screenshot and tag this fe...</td>\n",
       "      <td>1</td>\n",
       "      <td>136</td>\n",
       "      <td>140</td>\n",
       "    </tr>\n",
       "    <tr>\n",
       "      <th>124877</th>\n",
       "      <td>2022-08-21 23:58:59+00:00</td>\n",
       "      <td>Keep PUSHING. Multiple AEDs are so important f...</td>\n",
       "      <td>keep pushing multiple aeds are so important fo...</td>\n",
       "      <td>1</td>\n",
       "      <td>121</td>\n",
       "      <td>135</td>\n",
       "    </tr>\n",
       "    <tr>\n",
       "      <th>99068</th>\n",
       "      <td>2022-11-06 02:45:54+00:00</td>\n",
       "      <td>🤣🤣🤣🤣🤣🤣🤣🤣🤣 this is my only points slip this was...</td>\n",
       "      <td>this is my only points slip this was 80k this ...</td>\n",
       "      <td>1</td>\n",
       "      <td>116</td>\n",
       "      <td>134</td>\n",
       "    </tr>\n",
       "  </tbody>\n",
       "</table>\n",
       "</div>"
      ],
      "text/plain": [
       "                tweet_created_at  \\\n",
       "154462 2022-06-08 11:44:34+00:00   \n",
       "98658  2022-11-07 22:49:01+00:00   \n",
       "73057  2022-10-29 05:34:53+00:00   \n",
       "124877 2022-08-21 23:58:59+00:00   \n",
       "99068  2022-11-06 02:45:54+00:00   \n",
       "\n",
       "                                                     text  \\\n",
       "154462  🗣Wishing the @CobbSchools @CobbInTech team the...   \n",
       "98658   💦 ALL HUMANS are #BetterTogether\\n👋🏼✊🏿✌🏾🤜🏻🤛🏽👍🏼...   \n",
       "73057   @Jordn_mu @amerix @Drayk___ Lemme retweet, sha...   \n",
       "124877  Keep PUSHING. Multiple AEDs are so important f...   \n",
       "99068   🤣🤣🤣🤣🤣🤣🤣🤣🤣 this is my only points slip this was...   \n",
       "\n",
       "                                        text_clean_deeper  Sentiment  \\\n",
       "154462  wishing the team the best today the team has i...          1   \n",
       "98658   all humans are bettertogether voteblue resist ...          2   \n",
       "73057   lemme retweet share screenshot and tag this fe...          1   \n",
       "124877  keep pushing multiple aeds are so important fo...          1   \n",
       "99068   this is my only points slip this was 80k this ...          1   \n",
       "\n",
       "        text_len  token_lens  \n",
       "154462       112         143  \n",
       "98658         94         141  \n",
       "73057        136         140  \n",
       "124877       121         135  \n",
       "99068        116         134  "
      ]
     },
     "execution_count": 61,
     "metadata": {},
     "output_type": "execute_result"
    }
   ],
   "source": [
    "df.head()"
   ]
  },
  {
   "cell_type": "code",
   "execution_count": 62,
   "id": "f3ac54c5",
   "metadata": {
    "execution": {
     "iopub.execute_input": "2023-02-16T12:41:24.817471Z",
     "iopub.status.busy": "2023-02-16T12:41:24.816624Z",
     "iopub.status.idle": "2023-02-16T12:41:24.824080Z",
     "shell.execute_reply": "2023-02-16T12:41:24.822980Z"
    },
    "papermill": {
     "duration": 0.038845,
     "end_time": "2023-02-16T12:41:24.826406",
     "exception": false,
     "start_time": "2023-02-16T12:41:24.787561",
     "status": "completed"
    },
    "tags": []
   },
   "outputs": [
    {
     "data": {
      "text/plain": [
       "Index(['tweet_created_at', 'text', 'text_clean_deeper', 'Sentiment',\n",
       "       'text_len', 'token_lens'],\n",
       "      dtype='object')"
      ]
     },
     "execution_count": 62,
     "metadata": {},
     "output_type": "execute_result"
    }
   ],
   "source": [
    "df.columns"
   ]
  },
  {
   "cell_type": "code",
   "execution_count": 63,
   "id": "0a64e561",
   "metadata": {
    "execution": {
     "iopub.execute_input": "2023-02-16T12:41:24.885245Z",
     "iopub.status.busy": "2023-02-16T12:41:24.884112Z",
     "iopub.status.idle": "2023-02-16T12:41:24.905350Z",
     "shell.execute_reply": "2023-02-16T12:41:24.904328Z"
    },
    "papermill": {
     "duration": 0.053527,
     "end_time": "2023-02-16T12:41:24.907905",
     "exception": false,
     "start_time": "2023-02-16T12:41:24.854378",
     "status": "completed"
    },
    "tags": []
   },
   "outputs": [],
   "source": [
    "df = df[['tweet_created_at', 'text_clean_deeper', 'Sentiment']]"
   ]
  },
  {
   "cell_type": "code",
   "execution_count": 64,
   "id": "9d7647a2",
   "metadata": {
    "execution": {
     "iopub.execute_input": "2023-02-16T12:41:24.966599Z",
     "iopub.status.busy": "2023-02-16T12:41:24.965885Z",
     "iopub.status.idle": "2023-02-16T12:41:24.974151Z",
     "shell.execute_reply": "2023-02-16T12:41:24.972991Z"
    },
    "papermill": {
     "duration": 0.040984,
     "end_time": "2023-02-16T12:41:24.976708",
     "exception": false,
     "start_time": "2023-02-16T12:41:24.935724",
     "status": "completed"
    },
    "tags": []
   },
   "outputs": [
    {
     "data": {
      "text/plain": [
       "Index(['tweet_created_at', 'text_clean_deeper', 'Sentiment'], dtype='object')"
      ]
     },
     "execution_count": 64,
     "metadata": {},
     "output_type": "execute_result"
    }
   ],
   "source": [
    "df.columns"
   ]
  },
  {
   "cell_type": "code",
   "execution_count": 65,
   "id": "fcb1cf97",
   "metadata": {
    "execution": {
     "iopub.execute_input": "2023-02-16T12:41:25.035501Z",
     "iopub.status.busy": "2023-02-16T12:41:25.035091Z",
     "iopub.status.idle": "2023-02-16T12:41:25.085272Z",
     "shell.execute_reply": "2023-02-16T12:41:25.084058Z"
    },
    "papermill": {
     "duration": 0.082363,
     "end_time": "2023-02-16T12:41:25.088043",
     "exception": false,
     "start_time": "2023-02-16T12:41:25.005680",
     "status": "completed"
    },
    "tags": []
   },
   "outputs": [
    {
     "name": "stdout",
     "output_type": "stream",
     "text": [
      "<class 'pandas.core.frame.DataFrame'>\n",
      "Int64Index: 233687 entries, 154462 to 17279\n",
      "Data columns (total 3 columns):\n",
      " #   Column             Non-Null Count   Dtype              \n",
      "---  ------             --------------   -----              \n",
      " 0   tweet_created_at   233687 non-null  datetime64[ns, UTC]\n",
      " 1   text_clean_deeper  233687 non-null  object             \n",
      " 2   Sentiment          233687 non-null  int64              \n",
      "dtypes: datetime64[ns, UTC](1), int64(1), object(1)\n",
      "memory usage: 7.1+ MB\n"
     ]
    }
   ],
   "source": [
    "df.info()"
   ]
  },
  {
   "cell_type": "code",
   "execution_count": null,
   "id": "a9d5a19b",
   "metadata": {
    "papermill": {
     "duration": 0.027876,
     "end_time": "2023-02-16T12:41:25.144428",
     "exception": false,
     "start_time": "2023-02-16T12:41:25.116552",
     "status": "completed"
    },
    "tags": []
   },
   "outputs": [],
   "source": []
  }
 ],
 "metadata": {
  "kernelspec": {
   "display_name": "Python 3",
   "language": "python",
   "name": "python3"
  },
  "language_info": {
   "codemirror_mode": {
    "name": "ipython",
    "version": 3
   },
   "file_extension": ".py",
   "mimetype": "text/x-python",
   "name": "python",
   "nbconvert_exporter": "python",
   "pygments_lexer": "ipython3",
   "version": "3.7.12"
  },
  "papermill": {
   "default_parameters": {},
   "duration": 230.06545,
   "end_time": "2023-02-16T12:41:28.458002",
   "environment_variables": {},
   "exception": null,
   "input_path": "__notebook__.ipynb",
   "output_path": "__notebook__.ipynb",
   "parameters": {},
   "start_time": "2023-02-16T12:37:38.392552",
   "version": "2.3.4"
  },
  "widgets": {
   "application/vnd.jupyter.widget-state+json": {
    "state": {
     "01e3546a9f23403ab416a509a83945d3": {
      "model_module": "@jupyter-widgets/base",
      "model_module_version": "1.2.0",
      "model_name": "LayoutModel",
      "state": {
       "_model_module": "@jupyter-widgets/base",
       "_model_module_version": "1.2.0",
       "_model_name": "LayoutModel",
       "_view_count": null,
       "_view_module": "@jupyter-widgets/base",
       "_view_module_version": "1.2.0",
       "_view_name": "LayoutView",
       "align_content": null,
       "align_items": null,
       "align_self": null,
       "border": null,
       "bottom": null,
       "display": null,
       "flex": null,
       "flex_flow": null,
       "grid_area": null,
       "grid_auto_columns": null,
       "grid_auto_flow": null,
       "grid_auto_rows": null,
       "grid_column": null,
       "grid_gap": null,
       "grid_row": null,
       "grid_template_areas": null,
       "grid_template_columns": null,
       "grid_template_rows": null,
       "height": null,
       "justify_content": null,
       "justify_items": null,
       "left": null,
       "margin": null,
       "max_height": null,
       "max_width": null,
       "min_height": null,
       "min_width": null,
       "object_fit": null,
       "object_position": null,
       "order": null,
       "overflow": null,
       "overflow_x": null,
       "overflow_y": null,
       "padding": null,
       "right": null,
       "top": null,
       "visibility": null,
       "width": null
      }
     },
     "05c4d347926f4943b515e797dd8e61cb": {
      "model_module": "@jupyter-widgets/controls",
      "model_module_version": "1.5.0",
      "model_name": "HBoxModel",
      "state": {
       "_dom_classes": [],
       "_model_module": "@jupyter-widgets/controls",
       "_model_module_version": "1.5.0",
       "_model_name": "HBoxModel",
       "_view_count": null,
       "_view_module": "@jupyter-widgets/controls",
       "_view_module_version": "1.5.0",
       "_view_name": "HBoxView",
       "box_style": "",
       "children": [
        "IPY_MODEL_4fd130b00ca94d638d64799457e81285",
        "IPY_MODEL_ef8d019aab604ae4a3f5ea1edf366fd8",
        "IPY_MODEL_84151ff88c6348c19d7bbf582126903e"
       ],
       "layout": "IPY_MODEL_62da2c03a31d49149a95346c2cdfc41e"
      }
     },
     "0767cfd01dbb4cf0b3234080a025f9b8": {
      "model_module": "@jupyter-widgets/base",
      "model_module_version": "1.2.0",
      "model_name": "LayoutModel",
      "state": {
       "_model_module": "@jupyter-widgets/base",
       "_model_module_version": "1.2.0",
       "_model_name": "LayoutModel",
       "_view_count": null,
       "_view_module": "@jupyter-widgets/base",
       "_view_module_version": "1.2.0",
       "_view_name": "LayoutView",
       "align_content": null,
       "align_items": null,
       "align_self": null,
       "border": null,
       "bottom": null,
       "display": null,
       "flex": null,
       "flex_flow": null,
       "grid_area": null,
       "grid_auto_columns": null,
       "grid_auto_flow": null,
       "grid_auto_rows": null,
       "grid_column": null,
       "grid_gap": null,
       "grid_row": null,
       "grid_template_areas": null,
       "grid_template_columns": null,
       "grid_template_rows": null,
       "height": null,
       "justify_content": null,
       "justify_items": null,
       "left": null,
       "margin": null,
       "max_height": null,
       "max_width": null,
       "min_height": null,
       "min_width": null,
       "object_fit": null,
       "object_position": null,
       "order": null,
       "overflow": null,
       "overflow_x": null,
       "overflow_y": null,
       "padding": null,
       "right": null,
       "top": null,
       "visibility": null,
       "width": null
      }
     },
     "084ffe1d16514576846b4c4a0f14b595": {
      "model_module": "@jupyter-widgets/base",
      "model_module_version": "1.2.0",
      "model_name": "LayoutModel",
      "state": {
       "_model_module": "@jupyter-widgets/base",
       "_model_module_version": "1.2.0",
       "_model_name": "LayoutModel",
       "_view_count": null,
       "_view_module": "@jupyter-widgets/base",
       "_view_module_version": "1.2.0",
       "_view_name": "LayoutView",
       "align_content": null,
       "align_items": null,
       "align_self": null,
       "border": null,
       "bottom": null,
       "display": null,
       "flex": null,
       "flex_flow": null,
       "grid_area": null,
       "grid_auto_columns": null,
       "grid_auto_flow": null,
       "grid_auto_rows": null,
       "grid_column": null,
       "grid_gap": null,
       "grid_row": null,
       "grid_template_areas": null,
       "grid_template_columns": null,
       "grid_template_rows": null,
       "height": null,
       "justify_content": null,
       "justify_items": null,
       "left": null,
       "margin": null,
       "max_height": null,
       "max_width": null,
       "min_height": null,
       "min_width": null,
       "object_fit": null,
       "object_position": null,
       "order": null,
       "overflow": null,
       "overflow_x": null,
       "overflow_y": null,
       "padding": null,
       "right": null,
       "top": null,
       "visibility": null,
       "width": null
      }
     },
     "0cb5837f6f7e4967a1e3e073395ae160": {
      "model_module": "@jupyter-widgets/controls",
      "model_module_version": "1.5.0",
      "model_name": "DescriptionStyleModel",
      "state": {
       "_model_module": "@jupyter-widgets/controls",
       "_model_module_version": "1.5.0",
       "_model_name": "DescriptionStyleModel",
       "_view_count": null,
       "_view_module": "@jupyter-widgets/base",
       "_view_module_version": "1.2.0",
       "_view_name": "StyleView",
       "description_width": ""
      }
     },
     "110d8a0b866a4b8db2336d84d62779b6": {
      "model_module": "@jupyter-widgets/base",
      "model_module_version": "1.2.0",
      "model_name": "LayoutModel",
      "state": {
       "_model_module": "@jupyter-widgets/base",
       "_model_module_version": "1.2.0",
       "_model_name": "LayoutModel",
       "_view_count": null,
       "_view_module": "@jupyter-widgets/base",
       "_view_module_version": "1.2.0",
       "_view_name": "LayoutView",
       "align_content": null,
       "align_items": null,
       "align_self": null,
       "border": null,
       "bottom": null,
       "display": null,
       "flex": null,
       "flex_flow": null,
       "grid_area": null,
       "grid_auto_columns": null,
       "grid_auto_flow": null,
       "grid_auto_rows": null,
       "grid_column": null,
       "grid_gap": null,
       "grid_row": null,
       "grid_template_areas": null,
       "grid_template_columns": null,
       "grid_template_rows": null,
       "height": null,
       "justify_content": null,
       "justify_items": null,
       "left": null,
       "margin": null,
       "max_height": null,
       "max_width": null,
       "min_height": null,
       "min_width": null,
       "object_fit": null,
       "object_position": null,
       "order": null,
       "overflow": null,
       "overflow_x": null,
       "overflow_y": null,
       "padding": null,
       "right": null,
       "top": null,
       "visibility": null,
       "width": null
      }
     },
     "125f10e0819d4441ae3f91ffddfd5ba6": {
      "model_module": "@jupyter-widgets/controls",
      "model_module_version": "1.5.0",
      "model_name": "HTMLModel",
      "state": {
       "_dom_classes": [],
       "_model_module": "@jupyter-widgets/controls",
       "_model_module_version": "1.5.0",
       "_model_name": "HTMLModel",
       "_view_count": null,
       "_view_module": "@jupyter-widgets/controls",
       "_view_module_version": "1.5.0",
       "_view_name": "HTMLView",
       "description": "",
       "description_tooltip": null,
       "layout": "IPY_MODEL_737f3e75e3564277b9b440ac087d77cf",
       "placeholder": "​",
       "style": "IPY_MODEL_7adf003adf3d44ed854302471ecbb007",
       "value": "Downloading: 100%"
      }
     },
     "12976185c6f44ac4a7025fc753d7160a": {
      "model_module": "@jupyter-widgets/controls",
      "model_module_version": "1.5.0",
      "model_name": "HTMLModel",
      "state": {
       "_dom_classes": [],
       "_model_module": "@jupyter-widgets/controls",
       "_model_module_version": "1.5.0",
       "_model_name": "HTMLModel",
       "_view_count": null,
       "_view_module": "@jupyter-widgets/controls",
       "_view_module_version": "1.5.0",
       "_view_name": "HTMLView",
       "description": "",
       "description_tooltip": null,
       "layout": "IPY_MODEL_8098e923b3d44b3b809013b9506f06d6",
       "placeholder": "​",
       "style": "IPY_MODEL_80a83d42cb9e4c23a55774d13553a281",
       "value": "Downloading: 100%"
      }
     },
     "133e1e54758d41a7951de4ddfe320f53": {
      "model_module": "@jupyter-widgets/base",
      "model_module_version": "1.2.0",
      "model_name": "LayoutModel",
      "state": {
       "_model_module": "@jupyter-widgets/base",
       "_model_module_version": "1.2.0",
       "_model_name": "LayoutModel",
       "_view_count": null,
       "_view_module": "@jupyter-widgets/base",
       "_view_module_version": "1.2.0",
       "_view_name": "LayoutView",
       "align_content": null,
       "align_items": null,
       "align_self": null,
       "border": null,
       "bottom": null,
       "display": null,
       "flex": null,
       "flex_flow": null,
       "grid_area": null,
       "grid_auto_columns": null,
       "grid_auto_flow": null,
       "grid_auto_rows": null,
       "grid_column": null,
       "grid_gap": null,
       "grid_row": null,
       "grid_template_areas": null,
       "grid_template_columns": null,
       "grid_template_rows": null,
       "height": null,
       "justify_content": null,
       "justify_items": null,
       "left": null,
       "margin": null,
       "max_height": null,
       "max_width": null,
       "min_height": null,
       "min_width": null,
       "object_fit": null,
       "object_position": null,
       "order": null,
       "overflow": null,
       "overflow_x": null,
       "overflow_y": null,
       "padding": null,
       "right": null,
       "top": null,
       "visibility": null,
       "width": null
      }
     },
     "140f30a4795a4872b0985725b4983fa1": {
      "model_module": "@jupyter-widgets/controls",
      "model_module_version": "1.5.0",
      "model_name": "DescriptionStyleModel",
      "state": {
       "_model_module": "@jupyter-widgets/controls",
       "_model_module_version": "1.5.0",
       "_model_name": "DescriptionStyleModel",
       "_view_count": null,
       "_view_module": "@jupyter-widgets/base",
       "_view_module_version": "1.2.0",
       "_view_name": "StyleView",
       "description_width": ""
      }
     },
     "187c07af099845a8b6ca9c0868c4fef0": {
      "model_module": "@jupyter-widgets/controls",
      "model_module_version": "1.5.0",
      "model_name": "DescriptionStyleModel",
      "state": {
       "_model_module": "@jupyter-widgets/controls",
       "_model_module_version": "1.5.0",
       "_model_name": "DescriptionStyleModel",
       "_view_count": null,
       "_view_module": "@jupyter-widgets/base",
       "_view_module_version": "1.2.0",
       "_view_name": "StyleView",
       "description_width": ""
      }
     },
     "196018ab2aec41308db84029644c046a": {
      "model_module": "@jupyter-widgets/base",
      "model_module_version": "1.2.0",
      "model_name": "LayoutModel",
      "state": {
       "_model_module": "@jupyter-widgets/base",
       "_model_module_version": "1.2.0",
       "_model_name": "LayoutModel",
       "_view_count": null,
       "_view_module": "@jupyter-widgets/base",
       "_view_module_version": "1.2.0",
       "_view_name": "LayoutView",
       "align_content": null,
       "align_items": null,
       "align_self": null,
       "border": null,
       "bottom": null,
       "display": null,
       "flex": null,
       "flex_flow": null,
       "grid_area": null,
       "grid_auto_columns": null,
       "grid_auto_flow": null,
       "grid_auto_rows": null,
       "grid_column": null,
       "grid_gap": null,
       "grid_row": null,
       "grid_template_areas": null,
       "grid_template_columns": null,
       "grid_template_rows": null,
       "height": null,
       "justify_content": null,
       "justify_items": null,
       "left": null,
       "margin": null,
       "max_height": null,
       "max_width": null,
       "min_height": null,
       "min_width": null,
       "object_fit": null,
       "object_position": null,
       "order": null,
       "overflow": null,
       "overflow_x": null,
       "overflow_y": null,
       "padding": null,
       "right": null,
       "top": null,
       "visibility": null,
       "width": null
      }
     },
     "198e4cf7d56940f087c68ed0f402accc": {
      "model_module": "@jupyter-widgets/controls",
      "model_module_version": "1.5.0",
      "model_name": "ProgressStyleModel",
      "state": {
       "_model_module": "@jupyter-widgets/controls",
       "_model_module_version": "1.5.0",
       "_model_name": "ProgressStyleModel",
       "_view_count": null,
       "_view_module": "@jupyter-widgets/base",
       "_view_module_version": "1.2.0",
       "_view_name": "StyleView",
       "bar_color": null,
       "description_width": ""
      }
     },
     "1b09cb2bd16a4db1bb5366f53577686e": {
      "model_module": "@jupyter-widgets/base",
      "model_module_version": "1.2.0",
      "model_name": "LayoutModel",
      "state": {
       "_model_module": "@jupyter-widgets/base",
       "_model_module_version": "1.2.0",
       "_model_name": "LayoutModel",
       "_view_count": null,
       "_view_module": "@jupyter-widgets/base",
       "_view_module_version": "1.2.0",
       "_view_name": "LayoutView",
       "align_content": null,
       "align_items": null,
       "align_self": null,
       "border": null,
       "bottom": null,
       "display": null,
       "flex": null,
       "flex_flow": null,
       "grid_area": null,
       "grid_auto_columns": null,
       "grid_auto_flow": null,
       "grid_auto_rows": null,
       "grid_column": null,
       "grid_gap": null,
       "grid_row": null,
       "grid_template_areas": null,
       "grid_template_columns": null,
       "grid_template_rows": null,
       "height": null,
       "justify_content": null,
       "justify_items": null,
       "left": null,
       "margin": null,
       "max_height": null,
       "max_width": null,
       "min_height": null,
       "min_width": null,
       "object_fit": null,
       "object_position": null,
       "order": null,
       "overflow": null,
       "overflow_x": null,
       "overflow_y": null,
       "padding": null,
       "right": null,
       "top": null,
       "visibility": null,
       "width": null
      }
     },
     "1bf50d26ae074f73a8deb2b737aea03f": {
      "model_module": "@jupyter-widgets/controls",
      "model_module_version": "1.5.0",
      "model_name": "FloatProgressModel",
      "state": {
       "_dom_classes": [],
       "_model_module": "@jupyter-widgets/controls",
       "_model_module_version": "1.5.0",
       "_model_name": "FloatProgressModel",
       "_view_count": null,
       "_view_module": "@jupyter-widgets/controls",
       "_view_module_version": "1.5.0",
       "_view_name": "ProgressView",
       "bar_style": "success",
       "description": "",
       "description_tooltip": null,
       "layout": "IPY_MODEL_ef6009aba94c430ab25eca0cbe54b3e6",
       "max": 458495.0,
       "min": 0.0,
       "orientation": "horizontal",
       "style": "IPY_MODEL_3c5d9f0cc5334692adb2a9e8557cbd74",
       "value": 458495.0
      }
     },
     "1c4e9e429cf94b5f906a3c47ec3cf7a7": {
      "model_module": "@jupyter-widgets/base",
      "model_module_version": "1.2.0",
      "model_name": "LayoutModel",
      "state": {
       "_model_module": "@jupyter-widgets/base",
       "_model_module_version": "1.2.0",
       "_model_name": "LayoutModel",
       "_view_count": null,
       "_view_module": "@jupyter-widgets/base",
       "_view_module_version": "1.2.0",
       "_view_name": "LayoutView",
       "align_content": null,
       "align_items": null,
       "align_self": null,
       "border": null,
       "bottom": null,
       "display": null,
       "flex": null,
       "flex_flow": null,
       "grid_area": null,
       "grid_auto_columns": null,
       "grid_auto_flow": null,
       "grid_auto_rows": null,
       "grid_column": null,
       "grid_gap": null,
       "grid_row": null,
       "grid_template_areas": null,
       "grid_template_columns": null,
       "grid_template_rows": null,
       "height": null,
       "justify_content": null,
       "justify_items": null,
       "left": null,
       "margin": null,
       "max_height": null,
       "max_width": null,
       "min_height": null,
       "min_width": null,
       "object_fit": null,
       "object_position": null,
       "order": null,
       "overflow": null,
       "overflow_x": null,
       "overflow_y": null,
       "padding": null,
       "right": null,
       "top": null,
       "visibility": null,
       "width": null
      }
     },
     "1cb27510964c4502889d8f1bef4b3d00": {
      "model_module": "@jupyter-widgets/controls",
      "model_module_version": "1.5.0",
      "model_name": "HBoxModel",
      "state": {
       "_dom_classes": [],
       "_model_module": "@jupyter-widgets/controls",
       "_model_module_version": "1.5.0",
       "_model_name": "HBoxModel",
       "_view_count": null,
       "_view_module": "@jupyter-widgets/controls",
       "_view_module_version": "1.5.0",
       "_view_name": "HBoxView",
       "box_style": "",
       "children": [
        "IPY_MODEL_5ff2a31a61cf464f91a6894ba5ec2955",
        "IPY_MODEL_467969e7e92d4a689dff047a84263ee0",
        "IPY_MODEL_6915ef07c89447bbbc23e2b9559d16f4"
       ],
       "layout": "IPY_MODEL_5e3880ad06184e6ba1fe2e3e0cd7e837"
      }
     },
     "1fb721df71ad49f380f8f04f3176a277": {
      "model_module": "@jupyter-widgets/controls",
      "model_module_version": "1.5.0",
      "model_name": "ProgressStyleModel",
      "state": {
       "_model_module": "@jupyter-widgets/controls",
       "_model_module_version": "1.5.0",
       "_model_name": "ProgressStyleModel",
       "_view_count": null,
       "_view_module": "@jupyter-widgets/base",
       "_view_module_version": "1.2.0",
       "_view_name": "StyleView",
       "bar_color": null,
       "description_width": ""
      }
     },
     "21d06f14f41a47379ab35c5720f1080e": {
      "model_module": "@jupyter-widgets/controls",
      "model_module_version": "1.5.0",
      "model_name": "ProgressStyleModel",
      "state": {
       "_model_module": "@jupyter-widgets/controls",
       "_model_module_version": "1.5.0",
       "_model_name": "ProgressStyleModel",
       "_view_count": null,
       "_view_module": "@jupyter-widgets/base",
       "_view_module_version": "1.2.0",
       "_view_name": "StyleView",
       "bar_color": null,
       "description_width": ""
      }
     },
     "2ab4ab2a30e3418f9dd05eedf70313b9": {
      "model_module": "@jupyter-widgets/controls",
      "model_module_version": "1.5.0",
      "model_name": "FloatProgressModel",
      "state": {
       "_dom_classes": [],
       "_model_module": "@jupyter-widgets/controls",
       "_model_module_version": "1.5.0",
       "_model_name": "FloatProgressModel",
       "_view_count": null,
       "_view_module": "@jupyter-widgets/controls",
       "_view_module_version": "1.5.0",
       "_view_name": "ProgressView",
       "bar_style": "success",
       "description": "",
       "description_tooltip": null,
       "layout": "IPY_MODEL_084ffe1d16514576846b4c4a0f14b595",
       "max": 570.0,
       "min": 0.0,
       "orientation": "horizontal",
       "style": "IPY_MODEL_1fb721df71ad49f380f8f04f3176a277",
       "value": 570.0
      }
     },
     "2be09ddd786644739e92b2ba21104b2b": {
      "model_module": "@jupyter-widgets/controls",
      "model_module_version": "1.5.0",
      "model_name": "FloatProgressModel",
      "state": {
       "_dom_classes": [],
       "_model_module": "@jupyter-widgets/controls",
       "_model_module_version": "1.5.0",
       "_model_name": "FloatProgressModel",
       "_view_count": null,
       "_view_module": "@jupyter-widgets/controls",
       "_view_module_version": "1.5.0",
       "_view_name": "ProgressView",
       "bar_style": "success",
       "description": "",
       "description_tooltip": null,
       "layout": "IPY_MODEL_623bfd237016497b9dd33ee80a0a3468",
       "max": 466062.0,
       "min": 0.0,
       "orientation": "horizontal",
       "style": "IPY_MODEL_719b14058a4e4ec3be297a09207d48d5",
       "value": 466062.0
      }
     },
     "2e31a2e7ccfb4cd2affc63b13c7d91ed": {
      "model_module": "@jupyter-widgets/controls",
      "model_module_version": "1.5.0",
      "model_name": "HTMLModel",
      "state": {
       "_dom_classes": [],
       "_model_module": "@jupyter-widgets/controls",
       "_model_module_version": "1.5.0",
       "_model_name": "HTMLModel",
       "_view_count": null,
       "_view_module": "@jupyter-widgets/controls",
       "_view_module_version": "1.5.0",
       "_view_name": "HTMLView",
       "description": "",
       "description_tooltip": null,
       "layout": "IPY_MODEL_01e3546a9f23403ab416a509a83945d3",
       "placeholder": "​",
       "style": "IPY_MODEL_d8e82a1250a144d4ad8fbd68576e4445",
       "value": "Downloading: 100%"
      }
     },
     "34e8bc234348485c84a44c6bd9345a30": {
      "model_module": "@jupyter-widgets/controls",
      "model_module_version": "1.5.0",
      "model_name": "DescriptionStyleModel",
      "state": {
       "_model_module": "@jupyter-widgets/controls",
       "_model_module_version": "1.5.0",
       "_model_name": "DescriptionStyleModel",
       "_view_count": null,
       "_view_module": "@jupyter-widgets/base",
       "_view_module_version": "1.2.0",
       "_view_name": "StyleView",
       "description_width": ""
      }
     },
     "35485c8c0893449ba86f47c8de631f70": {
      "model_module": "@jupyter-widgets/controls",
      "model_module_version": "1.5.0",
      "model_name": "DescriptionStyleModel",
      "state": {
       "_model_module": "@jupyter-widgets/controls",
       "_model_module_version": "1.5.0",
       "_model_name": "DescriptionStyleModel",
       "_view_count": null,
       "_view_module": "@jupyter-widgets/base",
       "_view_module_version": "1.2.0",
       "_view_name": "StyleView",
       "description_width": ""
      }
     },
     "38f2a05fb5434c67a0bccd57e6226ac1": {
      "model_module": "@jupyter-widgets/controls",
      "model_module_version": "1.5.0",
      "model_name": "HBoxModel",
      "state": {
       "_dom_classes": [],
       "_model_module": "@jupyter-widgets/controls",
       "_model_module_version": "1.5.0",
       "_model_name": "HBoxModel",
       "_view_count": null,
       "_view_module": "@jupyter-widgets/controls",
       "_view_module_version": "1.5.0",
       "_view_name": "HBoxView",
       "box_style": "",
       "children": [
        "IPY_MODEL_43da93aab1b2401dbd6833250f760b70",
        "IPY_MODEL_bd20b122c5bb44b29c6d214e88cb22a5",
        "IPY_MODEL_e51eb41639c347f9879e86040317504c"
       ],
       "layout": "IPY_MODEL_aee002f87c144a87a4cf5f468a776d30"
      }
     },
     "3c5d9f0cc5334692adb2a9e8557cbd74": {
      "model_module": "@jupyter-widgets/controls",
      "model_module_version": "1.5.0",
      "model_name": "ProgressStyleModel",
      "state": {
       "_model_module": "@jupyter-widgets/controls",
       "_model_module_version": "1.5.0",
       "_model_name": "ProgressStyleModel",
       "_view_count": null,
       "_view_module": "@jupyter-widgets/base",
       "_view_module_version": "1.2.0",
       "_view_name": "StyleView",
       "bar_color": null,
       "description_width": ""
      }
     },
     "3c8fd6f6a85044bb8c4c88ced293f36f": {
      "model_module": "@jupyter-widgets/base",
      "model_module_version": "1.2.0",
      "model_name": "LayoutModel",
      "state": {
       "_model_module": "@jupyter-widgets/base",
       "_model_module_version": "1.2.0",
       "_model_name": "LayoutModel",
       "_view_count": null,
       "_view_module": "@jupyter-widgets/base",
       "_view_module_version": "1.2.0",
       "_view_name": "LayoutView",
       "align_content": null,
       "align_items": null,
       "align_self": null,
       "border": null,
       "bottom": null,
       "display": null,
       "flex": null,
       "flex_flow": null,
       "grid_area": null,
       "grid_auto_columns": null,
       "grid_auto_flow": null,
       "grid_auto_rows": null,
       "grid_column": null,
       "grid_gap": null,
       "grid_row": null,
       "grid_template_areas": null,
       "grid_template_columns": null,
       "grid_template_rows": null,
       "height": null,
       "justify_content": null,
       "justify_items": null,
       "left": null,
       "margin": null,
       "max_height": null,
       "max_width": null,
       "min_height": null,
       "min_width": null,
       "object_fit": null,
       "object_position": null,
       "order": null,
       "overflow": null,
       "overflow_x": null,
       "overflow_y": null,
       "padding": null,
       "right": null,
       "top": null,
       "visibility": null,
       "width": null
      }
     },
     "4268c3d503844b5586457c1823337245": {
      "model_module": "@jupyter-widgets/controls",
      "model_module_version": "1.5.0",
      "model_name": "HTMLModel",
      "state": {
       "_dom_classes": [],
       "_model_module": "@jupyter-widgets/controls",
       "_model_module_version": "1.5.0",
       "_model_name": "HTMLModel",
       "_view_count": null,
       "_view_module": "@jupyter-widgets/controls",
       "_view_module_version": "1.5.0",
       "_view_name": "HTMLView",
       "description": "",
       "description_tooltip": null,
       "layout": "IPY_MODEL_3c8fd6f6a85044bb8c4c88ced293f36f",
       "placeholder": "​",
       "style": "IPY_MODEL_9ebe213051414a26a18725ed8c50b724",
       "value": " 570/570 [00:00&lt;00:00, 18.5kB/s]"
      }
     },
     "4313a39711774762b2e460321aae9654": {
      "model_module": "@jupyter-widgets/controls",
      "model_module_version": "1.5.0",
      "model_name": "FloatProgressModel",
      "state": {
       "_dom_classes": [],
       "_model_module": "@jupyter-widgets/controls",
       "_model_module_version": "1.5.0",
       "_model_name": "FloatProgressModel",
       "_view_count": null,
       "_view_module": "@jupyter-widgets/controls",
       "_view_module_version": "1.5.0",
       "_view_name": "ProgressView",
       "bar_style": "success",
       "description": "",
       "description_tooltip": null,
       "layout": "IPY_MODEL_81352f4851b0408a86c839b5901b366d",
       "max": 815973.0,
       "min": 0.0,
       "orientation": "horizontal",
       "style": "IPY_MODEL_e722d0f94a404750bed7f6ec50cc6944",
       "value": 815973.0
      }
     },
     "43da93aab1b2401dbd6833250f760b70": {
      "model_module": "@jupyter-widgets/controls",
      "model_module_version": "1.5.0",
      "model_name": "HTMLModel",
      "state": {
       "_dom_classes": [],
       "_model_module": "@jupyter-widgets/controls",
       "_model_module_version": "1.5.0",
       "_model_name": "HTMLModel",
       "_view_count": null,
       "_view_module": "@jupyter-widgets/controls",
       "_view_module_version": "1.5.0",
       "_view_name": "HTMLView",
       "description": "",
       "description_tooltip": null,
       "layout": "IPY_MODEL_c1772d92bbe64983b9a0fcac807dcb3b",
       "placeholder": "​",
       "style": "IPY_MODEL_35485c8c0893449ba86f47c8de631f70",
       "value": "Downloading: 100%"
      }
     },
     "467969e7e92d4a689dff047a84263ee0": {
      "model_module": "@jupyter-widgets/controls",
      "model_module_version": "1.5.0",
      "model_name": "FloatProgressModel",
      "state": {
       "_dom_classes": [],
       "_model_module": "@jupyter-widgets/controls",
       "_model_module_version": "1.5.0",
       "_model_name": "FloatProgressModel",
       "_view_count": null,
       "_view_module": "@jupyter-widgets/controls",
       "_view_module_version": "1.5.0",
       "_view_name": "ProgressView",
       "bar_style": "success",
       "description": "",
       "description_tooltip": null,
       "layout": "IPY_MODEL_c28a80622f524f89a578fe56f12f473b",
       "max": 231508.0,
       "min": 0.0,
       "orientation": "horizontal",
       "style": "IPY_MODEL_21d06f14f41a47379ab35c5720f1080e",
       "value": 231508.0
      }
     },
     "474e2271c73a44c69c08987adb62d1c3": {
      "model_module": "@jupyter-widgets/controls",
      "model_module_version": "1.5.0",
      "model_name": "HBoxModel",
      "state": {
       "_dom_classes": [],
       "_model_module": "@jupyter-widgets/controls",
       "_model_module_version": "1.5.0",
       "_model_name": "HBoxModel",
       "_view_count": null,
       "_view_module": "@jupyter-widgets/controls",
       "_view_module_version": "1.5.0",
       "_view_name": "HBoxView",
       "box_style": "",
       "children": [
        "IPY_MODEL_125f10e0819d4441ae3f91ffddfd5ba6",
        "IPY_MODEL_f78b14aca4dc4bb89666300e0f6fb3ca",
        "IPY_MODEL_7b39bb73683e4534a457ee4ba263c630"
       ],
       "layout": "IPY_MODEL_5cd2a59ec16444ad98d8f99e7c98825e"
      }
     },
     "4fd130b00ca94d638d64799457e81285": {
      "model_module": "@jupyter-widgets/controls",
      "model_module_version": "1.5.0",
      "model_name": "HTMLModel",
      "state": {
       "_dom_classes": [],
       "_model_module": "@jupyter-widgets/controls",
       "_model_module_version": "1.5.0",
       "_model_name": "HTMLModel",
       "_view_count": null,
       "_view_module": "@jupyter-widgets/controls",
       "_view_module_version": "1.5.0",
       "_view_name": "HTMLView",
       "description": "",
       "description_tooltip": null,
       "layout": "IPY_MODEL_c8c10557b52c420d9e31757551e9b97a",
       "placeholder": "​",
       "style": "IPY_MODEL_0cb5837f6f7e4967a1e3e073395ae160",
       "value": "Downloading: 100%"
      }
     },
     "53d91c4ea163449ba755405449a3557c": {
      "model_module": "@jupyter-widgets/controls",
      "model_module_version": "1.5.0",
      "model_name": "HBoxModel",
      "state": {
       "_dom_classes": [],
       "_model_module": "@jupyter-widgets/controls",
       "_model_module_version": "1.5.0",
       "_model_name": "HBoxModel",
       "_view_count": null,
       "_view_module": "@jupyter-widgets/controls",
       "_view_module_version": "1.5.0",
       "_view_name": "HBoxView",
       "box_style": "",
       "children": [
        "IPY_MODEL_2e31a2e7ccfb4cd2affc63b13c7d91ed",
        "IPY_MODEL_4313a39711774762b2e460321aae9654",
        "IPY_MODEL_998b5e7c91644be4bed0a4e7e4b3fe22"
       ],
       "layout": "IPY_MODEL_e6943c7692b5493b9f7ed041f82fa7fb"
      }
     },
     "5a225b1c00194650a6e20f1a9b775427": {
      "model_module": "@jupyter-widgets/base",
      "model_module_version": "1.2.0",
      "model_name": "LayoutModel",
      "state": {
       "_model_module": "@jupyter-widgets/base",
       "_model_module_version": "1.2.0",
       "_model_name": "LayoutModel",
       "_view_count": null,
       "_view_module": "@jupyter-widgets/base",
       "_view_module_version": "1.2.0",
       "_view_name": "LayoutView",
       "align_content": null,
       "align_items": null,
       "align_self": null,
       "border": null,
       "bottom": null,
       "display": null,
       "flex": null,
       "flex_flow": null,
       "grid_area": null,
       "grid_auto_columns": null,
       "grid_auto_flow": null,
       "grid_auto_rows": null,
       "grid_column": null,
       "grid_gap": null,
       "grid_row": null,
       "grid_template_areas": null,
       "grid_template_columns": null,
       "grid_template_rows": null,
       "height": null,
       "justify_content": null,
       "justify_items": null,
       "left": null,
       "margin": null,
       "max_height": null,
       "max_width": null,
       "min_height": null,
       "min_width": null,
       "object_fit": null,
       "object_position": null,
       "order": null,
       "overflow": null,
       "overflow_x": null,
       "overflow_y": null,
       "padding": null,
       "right": null,
       "top": null,
       "visibility": null,
       "width": null
      }
     },
     "5cd2a59ec16444ad98d8f99e7c98825e": {
      "model_module": "@jupyter-widgets/base",
      "model_module_version": "1.2.0",
      "model_name": "LayoutModel",
      "state": {
       "_model_module": "@jupyter-widgets/base",
       "_model_module_version": "1.2.0",
       "_model_name": "LayoutModel",
       "_view_count": null,
       "_view_module": "@jupyter-widgets/base",
       "_view_module_version": "1.2.0",
       "_view_name": "LayoutView",
       "align_content": null,
       "align_items": null,
       "align_self": null,
       "border": null,
       "bottom": null,
       "display": null,
       "flex": null,
       "flex_flow": null,
       "grid_area": null,
       "grid_auto_columns": null,
       "grid_auto_flow": null,
       "grid_auto_rows": null,
       "grid_column": null,
       "grid_gap": null,
       "grid_row": null,
       "grid_template_areas": null,
       "grid_template_columns": null,
       "grid_template_rows": null,
       "height": null,
       "justify_content": null,
       "justify_items": null,
       "left": null,
       "margin": null,
       "max_height": null,
       "max_width": null,
       "min_height": null,
       "min_width": null,
       "object_fit": null,
       "object_position": null,
       "order": null,
       "overflow": null,
       "overflow_x": null,
       "overflow_y": null,
       "padding": null,
       "right": null,
       "top": null,
       "visibility": null,
       "width": null
      }
     },
     "5e3880ad06184e6ba1fe2e3e0cd7e837": {
      "model_module": "@jupyter-widgets/base",
      "model_module_version": "1.2.0",
      "model_name": "LayoutModel",
      "state": {
       "_model_module": "@jupyter-widgets/base",
       "_model_module_version": "1.2.0",
       "_model_name": "LayoutModel",
       "_view_count": null,
       "_view_module": "@jupyter-widgets/base",
       "_view_module_version": "1.2.0",
       "_view_name": "LayoutView",
       "align_content": null,
       "align_items": null,
       "align_self": null,
       "border": null,
       "bottom": null,
       "display": null,
       "flex": null,
       "flex_flow": null,
       "grid_area": null,
       "grid_auto_columns": null,
       "grid_auto_flow": null,
       "grid_auto_rows": null,
       "grid_column": null,
       "grid_gap": null,
       "grid_row": null,
       "grid_template_areas": null,
       "grid_template_columns": null,
       "grid_template_rows": null,
       "height": null,
       "justify_content": null,
       "justify_items": null,
       "left": null,
       "margin": null,
       "max_height": null,
       "max_width": null,
       "min_height": null,
       "min_width": null,
       "object_fit": null,
       "object_position": null,
       "order": null,
       "overflow": null,
       "overflow_x": null,
       "overflow_y": null,
       "padding": null,
       "right": null,
       "top": null,
       "visibility": null,
       "width": null
      }
     },
     "5ff2a31a61cf464f91a6894ba5ec2955": {
      "model_module": "@jupyter-widgets/controls",
      "model_module_version": "1.5.0",
      "model_name": "HTMLModel",
      "state": {
       "_dom_classes": [],
       "_model_module": "@jupyter-widgets/controls",
       "_model_module_version": "1.5.0",
       "_model_name": "HTMLModel",
       "_view_count": null,
       "_view_module": "@jupyter-widgets/controls",
       "_view_module_version": "1.5.0",
       "_view_name": "HTMLView",
       "description": "",
       "description_tooltip": null,
       "layout": "IPY_MODEL_cf62ef7abf0c411fbff60b68d16dd8b4",
       "placeholder": "​",
       "style": "IPY_MODEL_623238fd874a4bf4ae6426f3cb3674b7",
       "value": "Downloading: 100%"
      }
     },
     "623238fd874a4bf4ae6426f3cb3674b7": {
      "model_module": "@jupyter-widgets/controls",
      "model_module_version": "1.5.0",
      "model_name": "DescriptionStyleModel",
      "state": {
       "_model_module": "@jupyter-widgets/controls",
       "_model_module_version": "1.5.0",
       "_model_name": "DescriptionStyleModel",
       "_view_count": null,
       "_view_module": "@jupyter-widgets/base",
       "_view_module_version": "1.2.0",
       "_view_name": "StyleView",
       "description_width": ""
      }
     },
     "623bfd237016497b9dd33ee80a0a3468": {
      "model_module": "@jupyter-widgets/base",
      "model_module_version": "1.2.0",
      "model_name": "LayoutModel",
      "state": {
       "_model_module": "@jupyter-widgets/base",
       "_model_module_version": "1.2.0",
       "_model_name": "LayoutModel",
       "_view_count": null,
       "_view_module": "@jupyter-widgets/base",
       "_view_module_version": "1.2.0",
       "_view_name": "LayoutView",
       "align_content": null,
       "align_items": null,
       "align_self": null,
       "border": null,
       "bottom": null,
       "display": null,
       "flex": null,
       "flex_flow": null,
       "grid_area": null,
       "grid_auto_columns": null,
       "grid_auto_flow": null,
       "grid_auto_rows": null,
       "grid_column": null,
       "grid_gap": null,
       "grid_row": null,
       "grid_template_areas": null,
       "grid_template_columns": null,
       "grid_template_rows": null,
       "height": null,
       "justify_content": null,
       "justify_items": null,
       "left": null,
       "margin": null,
       "max_height": null,
       "max_width": null,
       "min_height": null,
       "min_width": null,
       "object_fit": null,
       "object_position": null,
       "order": null,
       "overflow": null,
       "overflow_x": null,
       "overflow_y": null,
       "padding": null,
       "right": null,
       "top": null,
       "visibility": null,
       "width": null
      }
     },
     "62da2c03a31d49149a95346c2cdfc41e": {
      "model_module": "@jupyter-widgets/base",
      "model_module_version": "1.2.0",
      "model_name": "LayoutModel",
      "state": {
       "_model_module": "@jupyter-widgets/base",
       "_model_module_version": "1.2.0",
       "_model_name": "LayoutModel",
       "_view_count": null,
       "_view_module": "@jupyter-widgets/base",
       "_view_module_version": "1.2.0",
       "_view_name": "LayoutView",
       "align_content": null,
       "align_items": null,
       "align_self": null,
       "border": null,
       "bottom": null,
       "display": null,
       "flex": null,
       "flex_flow": null,
       "grid_area": null,
       "grid_auto_columns": null,
       "grid_auto_flow": null,
       "grid_auto_rows": null,
       "grid_column": null,
       "grid_gap": null,
       "grid_row": null,
       "grid_template_areas": null,
       "grid_template_columns": null,
       "grid_template_rows": null,
       "height": null,
       "justify_content": null,
       "justify_items": null,
       "left": null,
       "margin": null,
       "max_height": null,
       "max_width": null,
       "min_height": null,
       "min_width": null,
       "object_fit": null,
       "object_position": null,
       "order": null,
       "overflow": null,
       "overflow_x": null,
       "overflow_y": null,
       "padding": null,
       "right": null,
       "top": null,
       "visibility": null,
       "width": null
      }
     },
     "6915ef07c89447bbbc23e2b9559d16f4": {
      "model_module": "@jupyter-widgets/controls",
      "model_module_version": "1.5.0",
      "model_name": "HTMLModel",
      "state": {
       "_dom_classes": [],
       "_model_module": "@jupyter-widgets/controls",
       "_model_module_version": "1.5.0",
       "_model_name": "HTMLModel",
       "_view_count": null,
       "_view_module": "@jupyter-widgets/controls",
       "_view_module_version": "1.5.0",
       "_view_name": "HTMLView",
       "description": "",
       "description_tooltip": null,
       "layout": "IPY_MODEL_7089431c79f1435d8c17584d2c701d4f",
       "placeholder": "​",
       "style": "IPY_MODEL_187c07af099845a8b6ca9c0868c4fef0",
       "value": " 226k/226k [00:00&lt;00:00, 334kB/s]"
      }
     },
     "7089431c79f1435d8c17584d2c701d4f": {
      "model_module": "@jupyter-widgets/base",
      "model_module_version": "1.2.0",
      "model_name": "LayoutModel",
      "state": {
       "_model_module": "@jupyter-widgets/base",
       "_model_module_version": "1.2.0",
       "_model_name": "LayoutModel",
       "_view_count": null,
       "_view_module": "@jupyter-widgets/base",
       "_view_module_version": "1.2.0",
       "_view_name": "LayoutView",
       "align_content": null,
       "align_items": null,
       "align_self": null,
       "border": null,
       "bottom": null,
       "display": null,
       "flex": null,
       "flex_flow": null,
       "grid_area": null,
       "grid_auto_columns": null,
       "grid_auto_flow": null,
       "grid_auto_rows": null,
       "grid_column": null,
       "grid_gap": null,
       "grid_row": null,
       "grid_template_areas": null,
       "grid_template_columns": null,
       "grid_template_rows": null,
       "height": null,
       "justify_content": null,
       "justify_items": null,
       "left": null,
       "margin": null,
       "max_height": null,
       "max_width": null,
       "min_height": null,
       "min_width": null,
       "object_fit": null,
       "object_position": null,
       "order": null,
       "overflow": null,
       "overflow_x": null,
       "overflow_y": null,
       "padding": null,
       "right": null,
       "top": null,
       "visibility": null,
       "width": null
      }
     },
     "719b14058a4e4ec3be297a09207d48d5": {
      "model_module": "@jupyter-widgets/controls",
      "model_module_version": "1.5.0",
      "model_name": "ProgressStyleModel",
      "state": {
       "_model_module": "@jupyter-widgets/controls",
       "_model_module_version": "1.5.0",
       "_model_name": "ProgressStyleModel",
       "_view_count": null,
       "_view_module": "@jupyter-widgets/base",
       "_view_module_version": "1.2.0",
       "_view_name": "StyleView",
       "bar_color": null,
       "description_width": ""
      }
     },
     "737f3e75e3564277b9b440ac087d77cf": {
      "model_module": "@jupyter-widgets/base",
      "model_module_version": "1.2.0",
      "model_name": "LayoutModel",
      "state": {
       "_model_module": "@jupyter-widgets/base",
       "_model_module_version": "1.2.0",
       "_model_name": "LayoutModel",
       "_view_count": null,
       "_view_module": "@jupyter-widgets/base",
       "_view_module_version": "1.2.0",
       "_view_name": "LayoutView",
       "align_content": null,
       "align_items": null,
       "align_self": null,
       "border": null,
       "bottom": null,
       "display": null,
       "flex": null,
       "flex_flow": null,
       "grid_area": null,
       "grid_auto_columns": null,
       "grid_auto_flow": null,
       "grid_auto_rows": null,
       "grid_column": null,
       "grid_gap": null,
       "grid_row": null,
       "grid_template_areas": null,
       "grid_template_columns": null,
       "grid_template_rows": null,
       "height": null,
       "justify_content": null,
       "justify_items": null,
       "left": null,
       "margin": null,
       "max_height": null,
       "max_width": null,
       "min_height": null,
       "min_width": null,
       "object_fit": null,
       "object_position": null,
       "order": null,
       "overflow": null,
       "overflow_x": null,
       "overflow_y": null,
       "padding": null,
       "right": null,
       "top": null,
       "visibility": null,
       "width": null
      }
     },
     "7827ef394f564c52ba11e24347380ad1": {
      "model_module": "@jupyter-widgets/controls",
      "model_module_version": "1.5.0",
      "model_name": "HBoxModel",
      "state": {
       "_dom_classes": [],
       "_model_module": "@jupyter-widgets/controls",
       "_model_module_version": "1.5.0",
       "_model_name": "HBoxModel",
       "_view_count": null,
       "_view_module": "@jupyter-widgets/controls",
       "_view_module_version": "1.5.0",
       "_view_name": "HBoxView",
       "box_style": "",
       "children": [
        "IPY_MODEL_12976185c6f44ac4a7025fc753d7160a",
        "IPY_MODEL_1bf50d26ae074f73a8deb2b737aea03f",
        "IPY_MODEL_c5e9635dc0ff452693e22c23f4653fb5"
       ],
       "layout": "IPY_MODEL_bad7082edacf4356ad483a9033ec3c0c"
      }
     },
     "7adf003adf3d44ed854302471ecbb007": {
      "model_module": "@jupyter-widgets/controls",
      "model_module_version": "1.5.0",
      "model_name": "DescriptionStyleModel",
      "state": {
       "_model_module": "@jupyter-widgets/controls",
       "_model_module_version": "1.5.0",
       "_model_name": "DescriptionStyleModel",
       "_view_count": null,
       "_view_module": "@jupyter-widgets/base",
       "_view_module_version": "1.2.0",
       "_view_name": "StyleView",
       "description_width": ""
      }
     },
     "7b39bb73683e4534a457ee4ba263c630": {
      "model_module": "@jupyter-widgets/controls",
      "model_module_version": "1.5.0",
      "model_name": "HTMLModel",
      "state": {
       "_dom_classes": [],
       "_model_module": "@jupyter-widgets/controls",
       "_model_module_version": "1.5.0",
       "_model_name": "HTMLModel",
       "_view_count": null,
       "_view_module": "@jupyter-widgets/controls",
       "_view_module_version": "1.5.0",
       "_view_name": "HTMLView",
       "description": "",
       "description_tooltip": null,
       "layout": "IPY_MODEL_9d986857a09f4c7f87d6523439af39c5",
       "placeholder": "​",
       "style": "IPY_MODEL_fd27023149b54de2a9267ec882d142c4",
       "value": " 1.21M/1.21M [00:01&lt;00:00, 1.19MB/s]"
      }
     },
     "7ffe2cc720f64a1982cfbde45babd5fa": {
      "model_module": "@jupyter-widgets/base",
      "model_module_version": "1.2.0",
      "model_name": "LayoutModel",
      "state": {
       "_model_module": "@jupyter-widgets/base",
       "_model_module_version": "1.2.0",
       "_model_name": "LayoutModel",
       "_view_count": null,
       "_view_module": "@jupyter-widgets/base",
       "_view_module_version": "1.2.0",
       "_view_name": "LayoutView",
       "align_content": null,
       "align_items": null,
       "align_self": null,
       "border": null,
       "bottom": null,
       "display": null,
       "flex": null,
       "flex_flow": null,
       "grid_area": null,
       "grid_auto_columns": null,
       "grid_auto_flow": null,
       "grid_auto_rows": null,
       "grid_column": null,
       "grid_gap": null,
       "grid_row": null,
       "grid_template_areas": null,
       "grid_template_columns": null,
       "grid_template_rows": null,
       "height": null,
       "justify_content": null,
       "justify_items": null,
       "left": null,
       "margin": null,
       "max_height": null,
       "max_width": null,
       "min_height": null,
       "min_width": null,
       "object_fit": null,
       "object_position": null,
       "order": null,
       "overflow": null,
       "overflow_x": null,
       "overflow_y": null,
       "padding": null,
       "right": null,
       "top": null,
       "visibility": null,
       "width": null
      }
     },
     "8098e923b3d44b3b809013b9506f06d6": {
      "model_module": "@jupyter-widgets/base",
      "model_module_version": "1.2.0",
      "model_name": "LayoutModel",
      "state": {
       "_model_module": "@jupyter-widgets/base",
       "_model_module_version": "1.2.0",
       "_model_name": "LayoutModel",
       "_view_count": null,
       "_view_module": "@jupyter-widgets/base",
       "_view_module_version": "1.2.0",
       "_view_name": "LayoutView",
       "align_content": null,
       "align_items": null,
       "align_self": null,
       "border": null,
       "bottom": null,
       "display": null,
       "flex": null,
       "flex_flow": null,
       "grid_area": null,
       "grid_auto_columns": null,
       "grid_auto_flow": null,
       "grid_auto_rows": null,
       "grid_column": null,
       "grid_gap": null,
       "grid_row": null,
       "grid_template_areas": null,
       "grid_template_columns": null,
       "grid_template_rows": null,
       "height": null,
       "justify_content": null,
       "justify_items": null,
       "left": null,
       "margin": null,
       "max_height": null,
       "max_width": null,
       "min_height": null,
       "min_width": null,
       "object_fit": null,
       "object_position": null,
       "order": null,
       "overflow": null,
       "overflow_x": null,
       "overflow_y": null,
       "padding": null,
       "right": null,
       "top": null,
       "visibility": null,
       "width": null
      }
     },
     "80a83d42cb9e4c23a55774d13553a281": {
      "model_module": "@jupyter-widgets/controls",
      "model_module_version": "1.5.0",
      "model_name": "DescriptionStyleModel",
      "state": {
       "_model_module": "@jupyter-widgets/controls",
       "_model_module_version": "1.5.0",
       "_model_name": "DescriptionStyleModel",
       "_view_count": null,
       "_view_module": "@jupyter-widgets/base",
       "_view_module_version": "1.2.0",
       "_view_name": "StyleView",
       "description_width": ""
      }
     },
     "81352f4851b0408a86c839b5901b366d": {
      "model_module": "@jupyter-widgets/base",
      "model_module_version": "1.2.0",
      "model_name": "LayoutModel",
      "state": {
       "_model_module": "@jupyter-widgets/base",
       "_model_module_version": "1.2.0",
       "_model_name": "LayoutModel",
       "_view_count": null,
       "_view_module": "@jupyter-widgets/base",
       "_view_module_version": "1.2.0",
       "_view_name": "LayoutView",
       "align_content": null,
       "align_items": null,
       "align_self": null,
       "border": null,
       "bottom": null,
       "display": null,
       "flex": null,
       "flex_flow": null,
       "grid_area": null,
       "grid_auto_columns": null,
       "grid_auto_flow": null,
       "grid_auto_rows": null,
       "grid_column": null,
       "grid_gap": null,
       "grid_row": null,
       "grid_template_areas": null,
       "grid_template_columns": null,
       "grid_template_rows": null,
       "height": null,
       "justify_content": null,
       "justify_items": null,
       "left": null,
       "margin": null,
       "max_height": null,
       "max_width": null,
       "min_height": null,
       "min_width": null,
       "object_fit": null,
       "object_position": null,
       "order": null,
       "overflow": null,
       "overflow_x": null,
       "overflow_y": null,
       "padding": null,
       "right": null,
       "top": null,
       "visibility": null,
       "width": null
      }
     },
     "84151ff88c6348c19d7bbf582126903e": {
      "model_module": "@jupyter-widgets/controls",
      "model_module_version": "1.5.0",
      "model_name": "HTMLModel",
      "state": {
       "_dom_classes": [],
       "_model_module": "@jupyter-widgets/controls",
       "_model_module_version": "1.5.0",
       "_model_name": "HTMLModel",
       "_view_count": null,
       "_view_module": "@jupyter-widgets/controls",
       "_view_module_version": "1.5.0",
       "_view_name": "HTMLView",
       "description": "",
       "description_tooltip": null,
       "layout": "IPY_MODEL_1c4e9e429cf94b5f906a3c47ec3cf7a7",
       "placeholder": "​",
       "style": "IPY_MODEL_a2e808a3e0fc40d882ed4c1cc59f53be",
       "value": " 28.0/28.0 [00:00&lt;00:00, 893B/s]"
      }
     },
     "95f8b08e60ce4b90a395300187691217": {
      "model_module": "@jupyter-widgets/controls",
      "model_module_version": "1.5.0",
      "model_name": "ProgressStyleModel",
      "state": {
       "_model_module": "@jupyter-widgets/controls",
       "_model_module_version": "1.5.0",
       "_model_name": "ProgressStyleModel",
       "_view_count": null,
       "_view_module": "@jupyter-widgets/base",
       "_view_module_version": "1.2.0",
       "_view_name": "StyleView",
       "bar_color": null,
       "description_width": ""
      }
     },
     "9624a6dfb89544fea2797482dd393fa0": {
      "model_module": "@jupyter-widgets/controls",
      "model_module_version": "1.5.0",
      "model_name": "ProgressStyleModel",
      "state": {
       "_model_module": "@jupyter-widgets/controls",
       "_model_module_version": "1.5.0",
       "_model_name": "ProgressStyleModel",
       "_view_count": null,
       "_view_module": "@jupyter-widgets/base",
       "_view_module_version": "1.2.0",
       "_view_name": "StyleView",
       "bar_color": null,
       "description_width": ""
      }
     },
     "998b5e7c91644be4bed0a4e7e4b3fe22": {
      "model_module": "@jupyter-widgets/controls",
      "model_module_version": "1.5.0",
      "model_name": "HTMLModel",
      "state": {
       "_dom_classes": [],
       "_model_module": "@jupyter-widgets/controls",
       "_model_module_version": "1.5.0",
       "_model_name": "HTMLModel",
       "_view_count": null,
       "_view_module": "@jupyter-widgets/controls",
       "_view_module_version": "1.5.0",
       "_view_name": "HTMLView",
       "description": "",
       "description_tooltip": null,
       "layout": "IPY_MODEL_e054420990e44fd9bbd5afbd19449038",
       "placeholder": "​",
       "style": "IPY_MODEL_140f30a4795a4872b0985725b4983fa1",
       "value": " 797k/797k [00:00&lt;00:00, 673kB/s]"
      }
     },
     "9d986857a09f4c7f87d6523439af39c5": {
      "model_module": "@jupyter-widgets/base",
      "model_module_version": "1.2.0",
      "model_name": "LayoutModel",
      "state": {
       "_model_module": "@jupyter-widgets/base",
       "_model_module_version": "1.2.0",
       "_model_name": "LayoutModel",
       "_view_count": null,
       "_view_module": "@jupyter-widgets/base",
       "_view_module_version": "1.2.0",
       "_view_name": "LayoutView",
       "align_content": null,
       "align_items": null,
       "align_self": null,
       "border": null,
       "bottom": null,
       "display": null,
       "flex": null,
       "flex_flow": null,
       "grid_area": null,
       "grid_auto_columns": null,
       "grid_auto_flow": null,
       "grid_auto_rows": null,
       "grid_column": null,
       "grid_gap": null,
       "grid_row": null,
       "grid_template_areas": null,
       "grid_template_columns": null,
       "grid_template_rows": null,
       "height": null,
       "justify_content": null,
       "justify_items": null,
       "left": null,
       "margin": null,
       "max_height": null,
       "max_width": null,
       "min_height": null,
       "min_width": null,
       "object_fit": null,
       "object_position": null,
       "order": null,
       "overflow": null,
       "overflow_x": null,
       "overflow_y": null,
       "padding": null,
       "right": null,
       "top": null,
       "visibility": null,
       "width": null
      }
     },
     "9ebe213051414a26a18725ed8c50b724": {
      "model_module": "@jupyter-widgets/controls",
      "model_module_version": "1.5.0",
      "model_name": "DescriptionStyleModel",
      "state": {
       "_model_module": "@jupyter-widgets/controls",
       "_model_module_version": "1.5.0",
       "_model_name": "DescriptionStyleModel",
       "_view_count": null,
       "_view_module": "@jupyter-widgets/base",
       "_view_module_version": "1.2.0",
       "_view_name": "StyleView",
       "description_width": ""
      }
     },
     "9eeba33864224e2f9e2230c145930dbd": {
      "model_module": "@jupyter-widgets/controls",
      "model_module_version": "1.5.0",
      "model_name": "HBoxModel",
      "state": {
       "_dom_classes": [],
       "_model_module": "@jupyter-widgets/controls",
       "_model_module_version": "1.5.0",
       "_model_name": "HBoxModel",
       "_view_count": null,
       "_view_module": "@jupyter-widgets/controls",
       "_view_module_version": "1.5.0",
       "_view_name": "HBoxView",
       "box_style": "",
       "children": [
        "IPY_MODEL_a8bd91c88ea94d16a6dbdb10ee68793d",
        "IPY_MODEL_2be09ddd786644739e92b2ba21104b2b",
        "IPY_MODEL_a4bd3dce840e4025a57c707e972367d2"
       ],
       "layout": "IPY_MODEL_7ffe2cc720f64a1982cfbde45babd5fa"
      }
     },
     "9f8e9c195fba49fe9f50709381856362": {
      "model_module": "@jupyter-widgets/controls",
      "model_module_version": "1.5.0",
      "model_name": "HTMLModel",
      "state": {
       "_dom_classes": [],
       "_model_module": "@jupyter-widgets/controls",
       "_model_module_version": "1.5.0",
       "_model_name": "HTMLModel",
       "_view_count": null,
       "_view_module": "@jupyter-widgets/controls",
       "_view_module_version": "1.5.0",
       "_view_name": "HTMLView",
       "description": "",
       "description_tooltip": null,
       "layout": "IPY_MODEL_1b09cb2bd16a4db1bb5366f53577686e",
       "placeholder": "​",
       "style": "IPY_MODEL_a4389a3512854f6db32be90eff27e502",
       "value": "Downloading: 100%"
      }
     },
     "a2e808a3e0fc40d882ed4c1cc59f53be": {
      "model_module": "@jupyter-widgets/controls",
      "model_module_version": "1.5.0",
      "model_name": "DescriptionStyleModel",
      "state": {
       "_model_module": "@jupyter-widgets/controls",
       "_model_module_version": "1.5.0",
       "_model_name": "DescriptionStyleModel",
       "_view_count": null,
       "_view_module": "@jupyter-widgets/base",
       "_view_module_version": "1.2.0",
       "_view_name": "StyleView",
       "description_width": ""
      }
     },
     "a4389a3512854f6db32be90eff27e502": {
      "model_module": "@jupyter-widgets/controls",
      "model_module_version": "1.5.0",
      "model_name": "DescriptionStyleModel",
      "state": {
       "_model_module": "@jupyter-widgets/controls",
       "_model_module_version": "1.5.0",
       "_model_name": "DescriptionStyleModel",
       "_view_count": null,
       "_view_module": "@jupyter-widgets/base",
       "_view_module_version": "1.2.0",
       "_view_name": "StyleView",
       "description_width": ""
      }
     },
     "a4bd3dce840e4025a57c707e972367d2": {
      "model_module": "@jupyter-widgets/controls",
      "model_module_version": "1.5.0",
      "model_name": "HTMLModel",
      "state": {
       "_dom_classes": [],
       "_model_module": "@jupyter-widgets/controls",
       "_model_module_version": "1.5.0",
       "_model_name": "HTMLModel",
       "_view_count": null,
       "_view_module": "@jupyter-widgets/controls",
       "_view_module_version": "1.5.0",
       "_view_name": "HTMLView",
       "description": "",
       "description_tooltip": null,
       "layout": "IPY_MODEL_110d8a0b866a4b8db2336d84d62779b6",
       "placeholder": "​",
       "style": "IPY_MODEL_ff4147515e184993821ba1b4e547304a",
       "value": " 455k/455k [00:00&lt;00:00, 629kB/s]"
      }
     },
     "a8bd91c88ea94d16a6dbdb10ee68793d": {
      "model_module": "@jupyter-widgets/controls",
      "model_module_version": "1.5.0",
      "model_name": "HTMLModel",
      "state": {
       "_dom_classes": [],
       "_model_module": "@jupyter-widgets/controls",
       "_model_module_version": "1.5.0",
       "_model_name": "HTMLModel",
       "_view_count": null,
       "_view_module": "@jupyter-widgets/controls",
       "_view_module_version": "1.5.0",
       "_view_name": "HTMLView",
       "description": "",
       "description_tooltip": null,
       "layout": "IPY_MODEL_196018ab2aec41308db84029644c046a",
       "placeholder": "​",
       "style": "IPY_MODEL_f2c21ccd51fb44d39bc1a757184858ff",
       "value": "Downloading: 100%"
      }
     },
     "aee002f87c144a87a4cf5f468a776d30": {
      "model_module": "@jupyter-widgets/base",
      "model_module_version": "1.2.0",
      "model_name": "LayoutModel",
      "state": {
       "_model_module": "@jupyter-widgets/base",
       "_model_module_version": "1.2.0",
       "_model_name": "LayoutModel",
       "_view_count": null,
       "_view_module": "@jupyter-widgets/base",
       "_view_module_version": "1.2.0",
       "_view_name": "LayoutView",
       "align_content": null,
       "align_items": null,
       "align_self": null,
       "border": null,
       "bottom": null,
       "display": null,
       "flex": null,
       "flex_flow": null,
       "grid_area": null,
       "grid_auto_columns": null,
       "grid_auto_flow": null,
       "grid_auto_rows": null,
       "grid_column": null,
       "grid_gap": null,
       "grid_row": null,
       "grid_template_areas": null,
       "grid_template_columns": null,
       "grid_template_rows": null,
       "height": null,
       "justify_content": null,
       "justify_items": null,
       "left": null,
       "margin": null,
       "max_height": null,
       "max_width": null,
       "min_height": null,
       "min_width": null,
       "object_fit": null,
       "object_position": null,
       "order": null,
       "overflow": null,
       "overflow_x": null,
       "overflow_y": null,
       "padding": null,
       "right": null,
       "top": null,
       "visibility": null,
       "width": null
      }
     },
     "b27db619a5914adca5a8d4de79b9a5e7": {
      "model_module": "@jupyter-widgets/base",
      "model_module_version": "1.2.0",
      "model_name": "LayoutModel",
      "state": {
       "_model_module": "@jupyter-widgets/base",
       "_model_module_version": "1.2.0",
       "_model_name": "LayoutModel",
       "_view_count": null,
       "_view_module": "@jupyter-widgets/base",
       "_view_module_version": "1.2.0",
       "_view_name": "LayoutView",
       "align_content": null,
       "align_items": null,
       "align_self": null,
       "border": null,
       "bottom": null,
       "display": null,
       "flex": null,
       "flex_flow": null,
       "grid_area": null,
       "grid_auto_columns": null,
       "grid_auto_flow": null,
       "grid_auto_rows": null,
       "grid_column": null,
       "grid_gap": null,
       "grid_row": null,
       "grid_template_areas": null,
       "grid_template_columns": null,
       "grid_template_rows": null,
       "height": null,
       "justify_content": null,
       "justify_items": null,
       "left": null,
       "margin": null,
       "max_height": null,
       "max_width": null,
       "min_height": null,
       "min_width": null,
       "object_fit": null,
       "object_position": null,
       "order": null,
       "overflow": null,
       "overflow_x": null,
       "overflow_y": null,
       "padding": null,
       "right": null,
       "top": null,
       "visibility": null,
       "width": null
      }
     },
     "bad7082edacf4356ad483a9033ec3c0c": {
      "model_module": "@jupyter-widgets/base",
      "model_module_version": "1.2.0",
      "model_name": "LayoutModel",
      "state": {
       "_model_module": "@jupyter-widgets/base",
       "_model_module_version": "1.2.0",
       "_model_name": "LayoutModel",
       "_view_count": null,
       "_view_module": "@jupyter-widgets/base",
       "_view_module_version": "1.2.0",
       "_view_name": "LayoutView",
       "align_content": null,
       "align_items": null,
       "align_self": null,
       "border": null,
       "bottom": null,
       "display": null,
       "flex": null,
       "flex_flow": null,
       "grid_area": null,
       "grid_auto_columns": null,
       "grid_auto_flow": null,
       "grid_auto_rows": null,
       "grid_column": null,
       "grid_gap": null,
       "grid_row": null,
       "grid_template_areas": null,
       "grid_template_columns": null,
       "grid_template_rows": null,
       "height": null,
       "justify_content": null,
       "justify_items": null,
       "left": null,
       "margin": null,
       "max_height": null,
       "max_width": null,
       "min_height": null,
       "min_width": null,
       "object_fit": null,
       "object_position": null,
       "order": null,
       "overflow": null,
       "overflow_x": null,
       "overflow_y": null,
       "padding": null,
       "right": null,
       "top": null,
       "visibility": null,
       "width": null
      }
     },
     "bd20b122c5bb44b29c6d214e88cb22a5": {
      "model_module": "@jupyter-widgets/controls",
      "model_module_version": "1.5.0",
      "model_name": "FloatProgressModel",
      "state": {
       "_dom_classes": [],
       "_model_module": "@jupyter-widgets/controls",
       "_model_module_version": "1.5.0",
       "_model_name": "FloatProgressModel",
       "_view_count": null,
       "_view_module": "@jupyter-widgets/controls",
       "_view_module_version": "1.5.0",
       "_view_name": "ProgressView",
       "bar_style": "success",
       "description": "",
       "description_tooltip": null,
       "layout": "IPY_MODEL_def85ab952da4ec0b2d6b5c4482a3d3c",
       "max": 656.0,
       "min": 0.0,
       "orientation": "horizontal",
       "style": "IPY_MODEL_198e4cf7d56940f087c68ed0f402accc",
       "value": 656.0
      }
     },
     "c001633b543f4d5c8a177d6477a71d20": {
      "model_module": "@jupyter-widgets/base",
      "model_module_version": "1.2.0",
      "model_name": "LayoutModel",
      "state": {
       "_model_module": "@jupyter-widgets/base",
       "_model_module_version": "1.2.0",
       "_model_name": "LayoutModel",
       "_view_count": null,
       "_view_module": "@jupyter-widgets/base",
       "_view_module_version": "1.2.0",
       "_view_name": "LayoutView",
       "align_content": null,
       "align_items": null,
       "align_self": null,
       "border": null,
       "bottom": null,
       "display": null,
       "flex": null,
       "flex_flow": null,
       "grid_area": null,
       "grid_auto_columns": null,
       "grid_auto_flow": null,
       "grid_auto_rows": null,
       "grid_column": null,
       "grid_gap": null,
       "grid_row": null,
       "grid_template_areas": null,
       "grid_template_columns": null,
       "grid_template_rows": null,
       "height": null,
       "justify_content": null,
       "justify_items": null,
       "left": null,
       "margin": null,
       "max_height": null,
       "max_width": null,
       "min_height": null,
       "min_width": null,
       "object_fit": null,
       "object_position": null,
       "order": null,
       "overflow": null,
       "overflow_x": null,
       "overflow_y": null,
       "padding": null,
       "right": null,
       "top": null,
       "visibility": null,
       "width": null
      }
     },
     "c1772d92bbe64983b9a0fcac807dcb3b": {
      "model_module": "@jupyter-widgets/base",
      "model_module_version": "1.2.0",
      "model_name": "LayoutModel",
      "state": {
       "_model_module": "@jupyter-widgets/base",
       "_model_module_version": "1.2.0",
       "_model_name": "LayoutModel",
       "_view_count": null,
       "_view_module": "@jupyter-widgets/base",
       "_view_module_version": "1.2.0",
       "_view_name": "LayoutView",
       "align_content": null,
       "align_items": null,
       "align_self": null,
       "border": null,
       "bottom": null,
       "display": null,
       "flex": null,
       "flex_flow": null,
       "grid_area": null,
       "grid_auto_columns": null,
       "grid_auto_flow": null,
       "grid_auto_rows": null,
       "grid_column": null,
       "grid_gap": null,
       "grid_row": null,
       "grid_template_areas": null,
       "grid_template_columns": null,
       "grid_template_rows": null,
       "height": null,
       "justify_content": null,
       "justify_items": null,
       "left": null,
       "margin": null,
       "max_height": null,
       "max_width": null,
       "min_height": null,
       "min_width": null,
       "object_fit": null,
       "object_position": null,
       "order": null,
       "overflow": null,
       "overflow_x": null,
       "overflow_y": null,
       "padding": null,
       "right": null,
       "top": null,
       "visibility": null,
       "width": null
      }
     },
     "c28a80622f524f89a578fe56f12f473b": {
      "model_module": "@jupyter-widgets/base",
      "model_module_version": "1.2.0",
      "model_name": "LayoutModel",
      "state": {
       "_model_module": "@jupyter-widgets/base",
       "_model_module_version": "1.2.0",
       "_model_name": "LayoutModel",
       "_view_count": null,
       "_view_module": "@jupyter-widgets/base",
       "_view_module_version": "1.2.0",
       "_view_name": "LayoutView",
       "align_content": null,
       "align_items": null,
       "align_self": null,
       "border": null,
       "bottom": null,
       "display": null,
       "flex": null,
       "flex_flow": null,
       "grid_area": null,
       "grid_auto_columns": null,
       "grid_auto_flow": null,
       "grid_auto_rows": null,
       "grid_column": null,
       "grid_gap": null,
       "grid_row": null,
       "grid_template_areas": null,
       "grid_template_columns": null,
       "grid_template_rows": null,
       "height": null,
       "justify_content": null,
       "justify_items": null,
       "left": null,
       "margin": null,
       "max_height": null,
       "max_width": null,
       "min_height": null,
       "min_width": null,
       "object_fit": null,
       "object_position": null,
       "order": null,
       "overflow": null,
       "overflow_x": null,
       "overflow_y": null,
       "padding": null,
       "right": null,
       "top": null,
       "visibility": null,
       "width": null
      }
     },
     "c5e9635dc0ff452693e22c23f4653fb5": {
      "model_module": "@jupyter-widgets/controls",
      "model_module_version": "1.5.0",
      "model_name": "HTMLModel",
      "state": {
       "_dom_classes": [],
       "_model_module": "@jupyter-widgets/controls",
       "_model_module_version": "1.5.0",
       "_model_name": "HTMLModel",
       "_view_count": null,
       "_view_module": "@jupyter-widgets/controls",
       "_view_module_version": "1.5.0",
       "_view_name": "HTMLView",
       "description": "",
       "description_tooltip": null,
       "layout": "IPY_MODEL_133e1e54758d41a7951de4ddfe320f53",
       "placeholder": "​",
       "style": "IPY_MODEL_d2453d39def348f4be05cc4c00ac54f9",
       "value": " 448k/448k [00:00&lt;00:00, 602kB/s]"
      }
     },
     "c8c10557b52c420d9e31757551e9b97a": {
      "model_module": "@jupyter-widgets/base",
      "model_module_version": "1.2.0",
      "model_name": "LayoutModel",
      "state": {
       "_model_module": "@jupyter-widgets/base",
       "_model_module_version": "1.2.0",
       "_model_name": "LayoutModel",
       "_view_count": null,
       "_view_module": "@jupyter-widgets/base",
       "_view_module_version": "1.2.0",
       "_view_name": "LayoutView",
       "align_content": null,
       "align_items": null,
       "align_self": null,
       "border": null,
       "bottom": null,
       "display": null,
       "flex": null,
       "flex_flow": null,
       "grid_area": null,
       "grid_auto_columns": null,
       "grid_auto_flow": null,
       "grid_auto_rows": null,
       "grid_column": null,
       "grid_gap": null,
       "grid_row": null,
       "grid_template_areas": null,
       "grid_template_columns": null,
       "grid_template_rows": null,
       "height": null,
       "justify_content": null,
       "justify_items": null,
       "left": null,
       "margin": null,
       "max_height": null,
       "max_width": null,
       "min_height": null,
       "min_width": null,
       "object_fit": null,
       "object_position": null,
       "order": null,
       "overflow": null,
       "overflow_x": null,
       "overflow_y": null,
       "padding": null,
       "right": null,
       "top": null,
       "visibility": null,
       "width": null
      }
     },
     "cf62ef7abf0c411fbff60b68d16dd8b4": {
      "model_module": "@jupyter-widgets/base",
      "model_module_version": "1.2.0",
      "model_name": "LayoutModel",
      "state": {
       "_model_module": "@jupyter-widgets/base",
       "_model_module_version": "1.2.0",
       "_model_name": "LayoutModel",
       "_view_count": null,
       "_view_module": "@jupyter-widgets/base",
       "_view_module_version": "1.2.0",
       "_view_name": "LayoutView",
       "align_content": null,
       "align_items": null,
       "align_self": null,
       "border": null,
       "bottom": null,
       "display": null,
       "flex": null,
       "flex_flow": null,
       "grid_area": null,
       "grid_auto_columns": null,
       "grid_auto_flow": null,
       "grid_auto_rows": null,
       "grid_column": null,
       "grid_gap": null,
       "grid_row": null,
       "grid_template_areas": null,
       "grid_template_columns": null,
       "grid_template_rows": null,
       "height": null,
       "justify_content": null,
       "justify_items": null,
       "left": null,
       "margin": null,
       "max_height": null,
       "max_width": null,
       "min_height": null,
       "min_width": null,
       "object_fit": null,
       "object_position": null,
       "order": null,
       "overflow": null,
       "overflow_x": null,
       "overflow_y": null,
       "padding": null,
       "right": null,
       "top": null,
       "visibility": null,
       "width": null
      }
     },
     "d2453d39def348f4be05cc4c00ac54f9": {
      "model_module": "@jupyter-widgets/controls",
      "model_module_version": "1.5.0",
      "model_name": "DescriptionStyleModel",
      "state": {
       "_model_module": "@jupyter-widgets/controls",
       "_model_module_version": "1.5.0",
       "_model_name": "DescriptionStyleModel",
       "_view_count": null,
       "_view_module": "@jupyter-widgets/base",
       "_view_module_version": "1.2.0",
       "_view_name": "StyleView",
       "description_width": ""
      }
     },
     "d8e82a1250a144d4ad8fbd68576e4445": {
      "model_module": "@jupyter-widgets/controls",
      "model_module_version": "1.5.0",
      "model_name": "DescriptionStyleModel",
      "state": {
       "_model_module": "@jupyter-widgets/controls",
       "_model_module_version": "1.5.0",
       "_model_name": "DescriptionStyleModel",
       "_view_count": null,
       "_view_module": "@jupyter-widgets/base",
       "_view_module_version": "1.2.0",
       "_view_name": "StyleView",
       "description_width": ""
      }
     },
     "def85ab952da4ec0b2d6b5c4482a3d3c": {
      "model_module": "@jupyter-widgets/base",
      "model_module_version": "1.2.0",
      "model_name": "LayoutModel",
      "state": {
       "_model_module": "@jupyter-widgets/base",
       "_model_module_version": "1.2.0",
       "_model_name": "LayoutModel",
       "_view_count": null,
       "_view_module": "@jupyter-widgets/base",
       "_view_module_version": "1.2.0",
       "_view_name": "LayoutView",
       "align_content": null,
       "align_items": null,
       "align_self": null,
       "border": null,
       "bottom": null,
       "display": null,
       "flex": null,
       "flex_flow": null,
       "grid_area": null,
       "grid_auto_columns": null,
       "grid_auto_flow": null,
       "grid_auto_rows": null,
       "grid_column": null,
       "grid_gap": null,
       "grid_row": null,
       "grid_template_areas": null,
       "grid_template_columns": null,
       "grid_template_rows": null,
       "height": null,
       "justify_content": null,
       "justify_items": null,
       "left": null,
       "margin": null,
       "max_height": null,
       "max_width": null,
       "min_height": null,
       "min_width": null,
       "object_fit": null,
       "object_position": null,
       "order": null,
       "overflow": null,
       "overflow_x": null,
       "overflow_y": null,
       "padding": null,
       "right": null,
       "top": null,
       "visibility": null,
       "width": null
      }
     },
     "e054420990e44fd9bbd5afbd19449038": {
      "model_module": "@jupyter-widgets/base",
      "model_module_version": "1.2.0",
      "model_name": "LayoutModel",
      "state": {
       "_model_module": "@jupyter-widgets/base",
       "_model_module_version": "1.2.0",
       "_model_name": "LayoutModel",
       "_view_count": null,
       "_view_module": "@jupyter-widgets/base",
       "_view_module_version": "1.2.0",
       "_view_name": "LayoutView",
       "align_content": null,
       "align_items": null,
       "align_self": null,
       "border": null,
       "bottom": null,
       "display": null,
       "flex": null,
       "flex_flow": null,
       "grid_area": null,
       "grid_auto_columns": null,
       "grid_auto_flow": null,
       "grid_auto_rows": null,
       "grid_column": null,
       "grid_gap": null,
       "grid_row": null,
       "grid_template_areas": null,
       "grid_template_columns": null,
       "grid_template_rows": null,
       "height": null,
       "justify_content": null,
       "justify_items": null,
       "left": null,
       "margin": null,
       "max_height": null,
       "max_width": null,
       "min_height": null,
       "min_width": null,
       "object_fit": null,
       "object_position": null,
       "order": null,
       "overflow": null,
       "overflow_x": null,
       "overflow_y": null,
       "padding": null,
       "right": null,
       "top": null,
       "visibility": null,
       "width": null
      }
     },
     "e51eb41639c347f9879e86040317504c": {
      "model_module": "@jupyter-widgets/controls",
      "model_module_version": "1.5.0",
      "model_name": "HTMLModel",
      "state": {
       "_dom_classes": [],
       "_model_module": "@jupyter-widgets/controls",
       "_model_module_version": "1.5.0",
       "_model_name": "HTMLModel",
       "_view_count": null,
       "_view_module": "@jupyter-widgets/controls",
       "_view_module_version": "1.5.0",
       "_view_name": "HTMLView",
       "description": "",
       "description_tooltip": null,
       "layout": "IPY_MODEL_b27db619a5914adca5a8d4de79b9a5e7",
       "placeholder": "​",
       "style": "IPY_MODEL_34e8bc234348485c84a44c6bd9345a30",
       "value": " 656/656 [00:00&lt;00:00, 13.6kB/s]"
      }
     },
     "e6943c7692b5493b9f7ed041f82fa7fb": {
      "model_module": "@jupyter-widgets/base",
      "model_module_version": "1.2.0",
      "model_name": "LayoutModel",
      "state": {
       "_model_module": "@jupyter-widgets/base",
       "_model_module_version": "1.2.0",
       "_model_name": "LayoutModel",
       "_view_count": null,
       "_view_module": "@jupyter-widgets/base",
       "_view_module_version": "1.2.0",
       "_view_name": "LayoutView",
       "align_content": null,
       "align_items": null,
       "align_self": null,
       "border": null,
       "bottom": null,
       "display": null,
       "flex": null,
       "flex_flow": null,
       "grid_area": null,
       "grid_auto_columns": null,
       "grid_auto_flow": null,
       "grid_auto_rows": null,
       "grid_column": null,
       "grid_gap": null,
       "grid_row": null,
       "grid_template_areas": null,
       "grid_template_columns": null,
       "grid_template_rows": null,
       "height": null,
       "justify_content": null,
       "justify_items": null,
       "left": null,
       "margin": null,
       "max_height": null,
       "max_width": null,
       "min_height": null,
       "min_width": null,
       "object_fit": null,
       "object_position": null,
       "order": null,
       "overflow": null,
       "overflow_x": null,
       "overflow_y": null,
       "padding": null,
       "right": null,
       "top": null,
       "visibility": null,
       "width": null
      }
     },
     "e722d0f94a404750bed7f6ec50cc6944": {
      "model_module": "@jupyter-widgets/controls",
      "model_module_version": "1.5.0",
      "model_name": "ProgressStyleModel",
      "state": {
       "_model_module": "@jupyter-widgets/controls",
       "_model_module_version": "1.5.0",
       "_model_name": "ProgressStyleModel",
       "_view_count": null,
       "_view_module": "@jupyter-widgets/base",
       "_view_module_version": "1.2.0",
       "_view_name": "StyleView",
       "bar_color": null,
       "description_width": ""
      }
     },
     "ef6009aba94c430ab25eca0cbe54b3e6": {
      "model_module": "@jupyter-widgets/base",
      "model_module_version": "1.2.0",
      "model_name": "LayoutModel",
      "state": {
       "_model_module": "@jupyter-widgets/base",
       "_model_module_version": "1.2.0",
       "_model_name": "LayoutModel",
       "_view_count": null,
       "_view_module": "@jupyter-widgets/base",
       "_view_module_version": "1.2.0",
       "_view_name": "LayoutView",
       "align_content": null,
       "align_items": null,
       "align_self": null,
       "border": null,
       "bottom": null,
       "display": null,
       "flex": null,
       "flex_flow": null,
       "grid_area": null,
       "grid_auto_columns": null,
       "grid_auto_flow": null,
       "grid_auto_rows": null,
       "grid_column": null,
       "grid_gap": null,
       "grid_row": null,
       "grid_template_areas": null,
       "grid_template_columns": null,
       "grid_template_rows": null,
       "height": null,
       "justify_content": null,
       "justify_items": null,
       "left": null,
       "margin": null,
       "max_height": null,
       "max_width": null,
       "min_height": null,
       "min_width": null,
       "object_fit": null,
       "object_position": null,
       "order": null,
       "overflow": null,
       "overflow_x": null,
       "overflow_y": null,
       "padding": null,
       "right": null,
       "top": null,
       "visibility": null,
       "width": null
      }
     },
     "ef8d019aab604ae4a3f5ea1edf366fd8": {
      "model_module": "@jupyter-widgets/controls",
      "model_module_version": "1.5.0",
      "model_name": "FloatProgressModel",
      "state": {
       "_dom_classes": [],
       "_model_module": "@jupyter-widgets/controls",
       "_model_module_version": "1.5.0",
       "_model_name": "FloatProgressModel",
       "_view_count": null,
       "_view_module": "@jupyter-widgets/controls",
       "_view_module_version": "1.5.0",
       "_view_name": "ProgressView",
       "bar_style": "success",
       "description": "",
       "description_tooltip": null,
       "layout": "IPY_MODEL_c001633b543f4d5c8a177d6477a71d20",
       "max": 28.0,
       "min": 0.0,
       "orientation": "horizontal",
       "style": "IPY_MODEL_95f8b08e60ce4b90a395300187691217",
       "value": 28.0
      }
     },
     "f2c21ccd51fb44d39bc1a757184858ff": {
      "model_module": "@jupyter-widgets/controls",
      "model_module_version": "1.5.0",
      "model_name": "DescriptionStyleModel",
      "state": {
       "_model_module": "@jupyter-widgets/controls",
       "_model_module_version": "1.5.0",
       "_model_name": "DescriptionStyleModel",
       "_view_count": null,
       "_view_module": "@jupyter-widgets/base",
       "_view_module_version": "1.2.0",
       "_view_name": "StyleView",
       "description_width": ""
      }
     },
     "f6438e08ed7a4452bf405f15b7f372cd": {
      "model_module": "@jupyter-widgets/controls",
      "model_module_version": "1.5.0",
      "model_name": "HBoxModel",
      "state": {
       "_dom_classes": [],
       "_model_module": "@jupyter-widgets/controls",
       "_model_module_version": "1.5.0",
       "_model_name": "HBoxModel",
       "_view_count": null,
       "_view_module": "@jupyter-widgets/controls",
       "_view_module_version": "1.5.0",
       "_view_name": "HBoxView",
       "box_style": "",
       "children": [
        "IPY_MODEL_9f8e9c195fba49fe9f50709381856362",
        "IPY_MODEL_2ab4ab2a30e3418f9dd05eedf70313b9",
        "IPY_MODEL_4268c3d503844b5586457c1823337245"
       ],
       "layout": "IPY_MODEL_0767cfd01dbb4cf0b3234080a025f9b8"
      }
     },
     "f78b14aca4dc4bb89666300e0f6fb3ca": {
      "model_module": "@jupyter-widgets/controls",
      "model_module_version": "1.5.0",
      "model_name": "FloatProgressModel",
      "state": {
       "_dom_classes": [],
       "_model_module": "@jupyter-widgets/controls",
       "_model_module_version": "1.5.0",
       "_model_name": "FloatProgressModel",
       "_view_count": null,
       "_view_module": "@jupyter-widgets/controls",
       "_view_module_version": "1.5.0",
       "_view_name": "ProgressView",
       "bar_style": "success",
       "description": "",
       "description_tooltip": null,
       "layout": "IPY_MODEL_5a225b1c00194650a6e20f1a9b775427",
       "max": 1272610.0,
       "min": 0.0,
       "orientation": "horizontal",
       "style": "IPY_MODEL_9624a6dfb89544fea2797482dd393fa0",
       "value": 1272610.0
      }
     },
     "fd27023149b54de2a9267ec882d142c4": {
      "model_module": "@jupyter-widgets/controls",
      "model_module_version": "1.5.0",
      "model_name": "DescriptionStyleModel",
      "state": {
       "_model_module": "@jupyter-widgets/controls",
       "_model_module_version": "1.5.0",
       "_model_name": "DescriptionStyleModel",
       "_view_count": null,
       "_view_module": "@jupyter-widgets/base",
       "_view_module_version": "1.2.0",
       "_view_name": "StyleView",
       "description_width": ""
      }
     },
     "ff4147515e184993821ba1b4e547304a": {
      "model_module": "@jupyter-widgets/controls",
      "model_module_version": "1.5.0",
      "model_name": "DescriptionStyleModel",
      "state": {
       "_model_module": "@jupyter-widgets/controls",
       "_model_module_version": "1.5.0",
       "_model_name": "DescriptionStyleModel",
       "_view_count": null,
       "_view_module": "@jupyter-widgets/base",
       "_view_module_version": "1.2.0",
       "_view_name": "StyleView",
       "description_width": ""
      }
     }
    },
    "version_major": 2,
    "version_minor": 0
   }
  }
 },
 "nbformat": 4,
 "nbformat_minor": 5
}
