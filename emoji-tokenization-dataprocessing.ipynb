{
 "cells": [
  {
   "cell_type": "code",
   "execution_count": 1,
   "id": "3c96219c",
   "metadata": {
    "_cell_guid": "b1076dfc-b9ad-4769-8c92-a6c4dae69d19",
    "_uuid": "8f2839f25d086af736a60e9eeb907d3b93b6e0e5",
    "execution": {
     "iopub.execute_input": "2023-02-16T11:19:47.740800Z",
     "iopub.status.busy": "2023-02-16T11:19:47.740335Z",
     "iopub.status.idle": "2023-02-16T11:19:50.034406Z",
     "shell.execute_reply": "2023-02-16T11:19:50.032990Z"
    },
    "papermill": {
     "duration": 2.310787,
     "end_time": "2023-02-16T11:19:50.037167",
     "exception": false,
     "start_time": "2023-02-16T11:19:47.726380",
     "status": "completed"
    },
    "tags": []
   },
   "outputs": [],
   "source": [
    "import pandas as pd\n",
    "\n",
    "from transformers import AutoTokenizer\n",
    "from transformers import BertTokenizerFast\n",
    "from transformers import BertTokenizer\n",
    "from transformers import RobertaTokenizerFast\n",
    "#from transformers import ROBERTAtokenizer\n",
    "#from transformers import XLNETtokenizer\n",
    "from mlxtend.text import tokenizer_emoticons\n",
    "from nltk.tokenize.casual import TweetTokenizer\n",
    "\n",
    "import re, string\n",
    "import emoji"
   ]
  },
  {
   "cell_type": "code",
   "execution_count": 2,
   "id": "0e8195ee",
   "metadata": {
    "execution": {
     "iopub.execute_input": "2023-02-16T11:19:50.057142Z",
     "iopub.status.busy": "2023-02-16T11:19:50.055943Z",
     "iopub.status.idle": "2023-02-16T11:19:52.088305Z",
     "shell.execute_reply": "2023-02-16T11:19:52.087041Z"
    },
    "papermill": {
     "duration": 2.044774,
     "end_time": "2023-02-16T11:19:52.090956",
     "exception": false,
     "start_time": "2023-02-16T11:19:50.046182",
     "status": "completed"
    },
    "tags": []
   },
   "outputs": [],
   "source": [
    "df = pd.read_csv('/kaggle/input/masculinity-saturday-twitter-sentiment-analysis/twitter_sentiment_analysis_masculinity_saturday_data_annotated.csv', index_col=0)"
   ]
  },
  {
   "cell_type": "code",
   "execution_count": 3,
   "id": "3d205cfd",
   "metadata": {
    "execution": {
     "iopub.execute_input": "2023-02-16T11:19:52.109458Z",
     "iopub.status.busy": "2023-02-16T11:19:52.109027Z",
     "iopub.status.idle": "2023-02-16T11:19:52.132862Z",
     "shell.execute_reply": "2023-02-16T11:19:52.131667Z"
    },
    "papermill": {
     "duration": 0.036189,
     "end_time": "2023-02-16T11:19:52.135691",
     "exception": false,
     "start_time": "2023-02-16T11:19:52.099502",
     "status": "completed"
    },
    "tags": []
   },
   "outputs": [
    {
     "data": {
      "text/html": [
       "<div>\n",
       "<style scoped>\n",
       "    .dataframe tbody tr th:only-of-type {\n",
       "        vertical-align: middle;\n",
       "    }\n",
       "\n",
       "    .dataframe tbody tr th {\n",
       "        vertical-align: top;\n",
       "    }\n",
       "\n",
       "    .dataframe thead th {\n",
       "        text-align: right;\n",
       "    }\n",
       "</style>\n",
       "<table border=\"1\" class=\"dataframe\">\n",
       "  <thead>\n",
       "    <tr style=\"text-align: right;\">\n",
       "      <th></th>\n",
       "      <th>tweet_created_at</th>\n",
       "      <th>text</th>\n",
       "      <th>Positive</th>\n",
       "      <th>Negative</th>\n",
       "      <th>Neutral</th>\n",
       "      <th>Compound</th>\n",
       "      <th>Sentiment</th>\n",
       "    </tr>\n",
       "  </thead>\n",
       "  <tbody>\n",
       "    <tr>\n",
       "      <th>0</th>\n",
       "      <td>2022-12-30 22:37:46+00:00</td>\n",
       "      <td>Men who have refused to listen to/attend @amer...</td>\n",
       "      <td>0.000</td>\n",
       "      <td>0.073</td>\n",
       "      <td>0.927</td>\n",
       "      <td>-0.2960</td>\n",
       "      <td>Negative</td>\n",
       "    </tr>\n",
       "    <tr>\n",
       "      <th>1</th>\n",
       "      <td>2022-12-30 22:30:58+00:00</td>\n",
       "      <td>@OvOBrezzzy Take amerix next</td>\n",
       "      <td>0.000</td>\n",
       "      <td>0.000</td>\n",
       "      <td>1.000</td>\n",
       "      <td>0.0000</td>\n",
       "      <td>Neutral</td>\n",
       "    </tr>\n",
       "    <tr>\n",
       "      <th>2</th>\n",
       "      <td>2022-12-30 22:18:00+00:00</td>\n",
       "      <td>@AyodeleYo11 @amerix Nah I’m good my masculini...</td>\n",
       "      <td>0.493</td>\n",
       "      <td>0.068</td>\n",
       "      <td>0.439</td>\n",
       "      <td>0.8271</td>\n",
       "      <td>Positive</td>\n",
       "    </tr>\n",
       "    <tr>\n",
       "      <th>3</th>\n",
       "      <td>2022-12-30 20:42:54+00:00</td>\n",
       "      <td>@Amerix_DontSimp There is no need for dating i...</td>\n",
       "      <td>0.000</td>\n",
       "      <td>0.180</td>\n",
       "      <td>0.820</td>\n",
       "      <td>-0.2960</td>\n",
       "      <td>Negative</td>\n",
       "    </tr>\n",
       "    <tr>\n",
       "      <th>4</th>\n",
       "      <td>2022-12-30 20:32:23+00:00</td>\n",
       "      <td>@DyeAnna7 @amerix @kibe From what cos nothing ...</td>\n",
       "      <td>0.110</td>\n",
       "      <td>0.000</td>\n",
       "      <td>0.890</td>\n",
       "      <td>0.6908</td>\n",
       "      <td>Positive</td>\n",
       "    </tr>\n",
       "  </tbody>\n",
       "</table>\n",
       "</div>"
      ],
      "text/plain": [
       "            tweet_created_at  \\\n",
       "0  2022-12-30 22:37:46+00:00   \n",
       "1  2022-12-30 22:30:58+00:00   \n",
       "2  2022-12-30 22:18:00+00:00   \n",
       "3  2022-12-30 20:42:54+00:00   \n",
       "4  2022-12-30 20:32:23+00:00   \n",
       "\n",
       "                                                text  Positive  Negative  \\\n",
       "0  Men who have refused to listen to/attend @amer...     0.000     0.073   \n",
       "1                       @OvOBrezzzy Take amerix next     0.000     0.000   \n",
       "2  @AyodeleYo11 @amerix Nah I’m good my masculini...     0.493     0.068   \n",
       "3  @Amerix_DontSimp There is no need for dating i...     0.000     0.180   \n",
       "4  @DyeAnna7 @amerix @kibe From what cos nothing ...     0.110     0.000   \n",
       "\n",
       "   Neutral  Compound Sentiment  \n",
       "0    0.927   -0.2960  Negative  \n",
       "1    1.000    0.0000   Neutral  \n",
       "2    0.439    0.8271  Positive  \n",
       "3    0.820   -0.2960  Negative  \n",
       "4    0.890    0.6908  Positive  "
      ]
     },
     "execution_count": 3,
     "metadata": {},
     "output_type": "execute_result"
    }
   ],
   "source": [
    "df.head()"
   ]
  },
  {
   "cell_type": "code",
   "execution_count": 4,
   "id": "febef15a",
   "metadata": {
    "execution": {
     "iopub.execute_input": "2023-02-16T11:19:52.156507Z",
     "iopub.status.busy": "2023-02-16T11:19:52.155782Z",
     "iopub.status.idle": "2023-02-16T11:19:52.226174Z",
     "shell.execute_reply": "2023-02-16T11:19:52.224934Z"
    },
    "papermill": {
     "duration": 0.083778,
     "end_time": "2023-02-16T11:19:52.229270",
     "exception": false,
     "start_time": "2023-02-16T11:19:52.145492",
     "status": "completed"
    },
    "tags": []
   },
   "outputs": [
    {
     "name": "stdout",
     "output_type": "stream",
     "text": [
      "<class 'pandas.core.frame.DataFrame'>\n",
      "Int64Index: 248738 entries, 0 to 248738\n",
      "Data columns (total 7 columns):\n",
      " #   Column            Non-Null Count   Dtype  \n",
      "---  ------            --------------   -----  \n",
      " 0   tweet_created_at  248738 non-null  object \n",
      " 1   text              248738 non-null  object \n",
      " 2   Positive          248738 non-null  float64\n",
      " 3   Negative          248738 non-null  float64\n",
      " 4   Neutral           248738 non-null  float64\n",
      " 5   Compound          248738 non-null  float64\n",
      " 6   Sentiment         248738 non-null  object \n",
      "dtypes: float64(4), object(3)\n",
      "memory usage: 15.2+ MB\n"
     ]
    }
   ],
   "source": [
    "df.info()"
   ]
  },
  {
   "cell_type": "code",
   "execution_count": 5,
   "id": "632b812d",
   "metadata": {
    "execution": {
     "iopub.execute_input": "2023-02-16T11:19:52.249477Z",
     "iopub.status.busy": "2023-02-16T11:19:52.249064Z",
     "iopub.status.idle": "2023-02-16T11:19:52.256572Z",
     "shell.execute_reply": "2023-02-16T11:19:52.255440Z"
    },
    "papermill": {
     "duration": 0.019834,
     "end_time": "2023-02-16T11:19:52.258782",
     "exception": false,
     "start_time": "2023-02-16T11:19:52.238948",
     "status": "completed"
    },
    "tags": []
   },
   "outputs": [
    {
     "data": {
      "text/plain": [
       "Index(['tweet_created_at', 'text', 'Positive', 'Negative', 'Neutral',\n",
       "       'Compound', 'Sentiment'],\n",
       "      dtype='object')"
      ]
     },
     "execution_count": 5,
     "metadata": {},
     "output_type": "execute_result"
    }
   ],
   "source": [
    "df.columns"
   ]
  },
  {
   "cell_type": "code",
   "execution_count": 6,
   "id": "4c4ae8aa",
   "metadata": {
    "execution": {
     "iopub.execute_input": "2023-02-16T11:19:52.278331Z",
     "iopub.status.busy": "2023-02-16T11:19:52.277861Z",
     "iopub.status.idle": "2023-02-16T11:19:52.296896Z",
     "shell.execute_reply": "2023-02-16T11:19:52.295888Z"
    },
    "papermill": {
     "duration": 0.031748,
     "end_time": "2023-02-16T11:19:52.299380",
     "exception": false,
     "start_time": "2023-02-16T11:19:52.267632",
     "status": "completed"
    },
    "tags": []
   },
   "outputs": [],
   "source": [
    "df = df[['tweet_created_at', 'text', 'Sentiment']]"
   ]
  },
  {
   "cell_type": "code",
   "execution_count": 7,
   "id": "ff4db962",
   "metadata": {
    "execution": {
     "iopub.execute_input": "2023-02-16T11:19:52.319838Z",
     "iopub.status.busy": "2023-02-16T11:19:52.318662Z",
     "iopub.status.idle": "2023-02-16T11:19:52.329925Z",
     "shell.execute_reply": "2023-02-16T11:19:52.328725Z"
    },
    "papermill": {
     "duration": 0.023717,
     "end_time": "2023-02-16T11:19:52.332237",
     "exception": false,
     "start_time": "2023-02-16T11:19:52.308520",
     "status": "completed"
    },
    "tags": []
   },
   "outputs": [
    {
     "data": {
      "text/html": [
       "<div>\n",
       "<style scoped>\n",
       "    .dataframe tbody tr th:only-of-type {\n",
       "        vertical-align: middle;\n",
       "    }\n",
       "\n",
       "    .dataframe tbody tr th {\n",
       "        vertical-align: top;\n",
       "    }\n",
       "\n",
       "    .dataframe thead th {\n",
       "        text-align: right;\n",
       "    }\n",
       "</style>\n",
       "<table border=\"1\" class=\"dataframe\">\n",
       "  <thead>\n",
       "    <tr style=\"text-align: right;\">\n",
       "      <th></th>\n",
       "      <th>tweet_created_at</th>\n",
       "      <th>text</th>\n",
       "      <th>Sentiment</th>\n",
       "    </tr>\n",
       "  </thead>\n",
       "  <tbody>\n",
       "    <tr>\n",
       "      <th>0</th>\n",
       "      <td>2022-12-30 22:37:46+00:00</td>\n",
       "      <td>Men who have refused to listen to/attend @amer...</td>\n",
       "      <td>Negative</td>\n",
       "    </tr>\n",
       "    <tr>\n",
       "      <th>1</th>\n",
       "      <td>2022-12-30 22:30:58+00:00</td>\n",
       "      <td>@OvOBrezzzy Take amerix next</td>\n",
       "      <td>Neutral</td>\n",
       "    </tr>\n",
       "    <tr>\n",
       "      <th>2</th>\n",
       "      <td>2022-12-30 22:18:00+00:00</td>\n",
       "      <td>@AyodeleYo11 @amerix Nah I’m good my masculini...</td>\n",
       "      <td>Positive</td>\n",
       "    </tr>\n",
       "    <tr>\n",
       "      <th>3</th>\n",
       "      <td>2022-12-30 20:42:54+00:00</td>\n",
       "      <td>@Amerix_DontSimp There is no need for dating i...</td>\n",
       "      <td>Negative</td>\n",
       "    </tr>\n",
       "    <tr>\n",
       "      <th>4</th>\n",
       "      <td>2022-12-30 20:32:23+00:00</td>\n",
       "      <td>@DyeAnna7 @amerix @kibe From what cos nothing ...</td>\n",
       "      <td>Positive</td>\n",
       "    </tr>\n",
       "  </tbody>\n",
       "</table>\n",
       "</div>"
      ],
      "text/plain": [
       "            tweet_created_at  \\\n",
       "0  2022-12-30 22:37:46+00:00   \n",
       "1  2022-12-30 22:30:58+00:00   \n",
       "2  2022-12-30 22:18:00+00:00   \n",
       "3  2022-12-30 20:42:54+00:00   \n",
       "4  2022-12-30 20:32:23+00:00   \n",
       "\n",
       "                                                text Sentiment  \n",
       "0  Men who have refused to listen to/attend @amer...  Negative  \n",
       "1                       @OvOBrezzzy Take amerix next   Neutral  \n",
       "2  @AyodeleYo11 @amerix Nah I’m good my masculini...  Positive  \n",
       "3  @Amerix_DontSimp There is no need for dating i...  Negative  \n",
       "4  @DyeAnna7 @amerix @kibe From what cos nothing ...  Positive  "
      ]
     },
     "execution_count": 7,
     "metadata": {},
     "output_type": "execute_result"
    }
   ],
   "source": [
    "df.head()"
   ]
  },
  {
   "cell_type": "code",
   "execution_count": 8,
   "id": "d0193df3",
   "metadata": {
    "execution": {
     "iopub.execute_input": "2023-02-16T11:19:52.352642Z",
     "iopub.status.busy": "2023-02-16T11:19:52.351951Z",
     "iopub.status.idle": "2023-02-16T11:19:52.361800Z",
     "shell.execute_reply": "2023-02-16T11:19:52.360600Z"
    },
    "papermill": {
     "duration": 0.022758,
     "end_time": "2023-02-16T11:19:52.364233",
     "exception": false,
     "start_time": "2023-02-16T11:19:52.341475",
     "status": "completed"
    },
    "tags": []
   },
   "outputs": [
    {
     "data": {
      "text/plain": [
       "0     Men who have refused to listen to/attend @amer...\n",
       "1                          @OvOBrezzzy Take amerix next\n",
       "2     @AyodeleYo11 @amerix Nah I’m good my masculini...\n",
       "3     @Amerix_DontSimp There is no need for dating i...\n",
       "4     @DyeAnna7 @amerix @kibe From what cos nothing ...\n",
       "5     @salim_the_don @MwendiaJnr I see you unblocked...\n",
       "6     @german_kenyan @ML_Philosophy 🤣 yes they are a...\n",
       "7     @PadreMusa Amerix once said the alcohol menace...\n",
       "8     @DodoPicard You're in Eastafrica, he probably ...\n",
       "9                      @HBK_ACTIVIST @amerix @kibe Heal\n",
       "10                           Amerix student of the year\n",
       "11    @sholla_saddam These are notes from @amerix's ...\n",
       "12    @amerix I appreciate the intent of this, but I...\n",
       "13    @Mynames_Jefff @Biancawamu2 @amerix Wouldn't b...\n",
       "14    @sharbabababa @Biancawamu2 could be @amerix wife🤷\n",
       "15    @DyeAnna7 @amerix @kibe Was raised by toxic co...\n",
       "16    @butdarkacademia @purevibeezz good thing is An...\n",
       "17    @amerix The system needs you sick and depresse...\n",
       "18    As we end the year 2022, kindly pass my messag...\n",
       "19                       @Ha_thighness @yvng_joh Amerix\n",
       "Name: text, dtype: object"
      ]
     },
     "execution_count": 8,
     "metadata": {},
     "output_type": "execute_result"
    }
   ],
   "source": [
    "df['text'].head(20)"
   ]
  },
  {
   "cell_type": "code",
   "execution_count": 9,
   "id": "db1411ff",
   "metadata": {
    "execution": {
     "iopub.execute_input": "2023-02-16T11:19:52.384437Z",
     "iopub.status.busy": "2023-02-16T11:19:52.384008Z",
     "iopub.status.idle": "2023-02-16T11:19:52.398099Z",
     "shell.execute_reply": "2023-02-16T11:19:52.396803Z"
    },
    "papermill": {
     "duration": 0.02688,
     "end_time": "2023-02-16T11:19:52.400377",
     "exception": false,
     "start_time": "2023-02-16T11:19:52.373497",
     "status": "completed"
    },
    "tags": []
   },
   "outputs": [
    {
     "data": {
      "text/html": [
       "<div>\n",
       "<style scoped>\n",
       "    .dataframe tbody tr th:only-of-type {\n",
       "        vertical-align: middle;\n",
       "    }\n",
       "\n",
       "    .dataframe tbody tr th {\n",
       "        vertical-align: top;\n",
       "    }\n",
       "\n",
       "    .dataframe thead th {\n",
       "        text-align: right;\n",
       "    }\n",
       "</style>\n",
       "<table border=\"1\" class=\"dataframe\">\n",
       "  <thead>\n",
       "    <tr style=\"text-align: right;\">\n",
       "      <th></th>\n",
       "      <th>tweet_created_at</th>\n",
       "      <th>text</th>\n",
       "      <th>Sentiment</th>\n",
       "    </tr>\n",
       "  </thead>\n",
       "  <tbody>\n",
       "    <tr>\n",
       "      <th>248719</th>\n",
       "      <td>2020-01-03 16:00:23+00:00</td>\n",
       "      <td>#FoodFriday means tasty snacks throughout the ...</td>\n",
       "      <td>Neutral</td>\n",
       "    </tr>\n",
       "    <tr>\n",
       "      <th>248720</th>\n",
       "      <td>2020-01-03 15:32:14+00:00</td>\n",
       "      <td>F U E L E D F R I D A Y\\nLooking for a fun, co...</td>\n",
       "      <td>Positive</td>\n",
       "    </tr>\n",
       "    <tr>\n",
       "      <th>248721</th>\n",
       "      <td>2020-01-03 15:15:13+00:00</td>\n",
       "      <td>Kummer reminds you to stay hydrated #foodfrida...</td>\n",
       "      <td>Neutral</td>\n",
       "    </tr>\n",
       "    <tr>\n",
       "      <th>248722</th>\n",
       "      <td>2020-01-03 15:14:57+00:00</td>\n",
       "      <td>Commercial #Kitchens need attention at a great...</td>\n",
       "      <td>Positive</td>\n",
       "    </tr>\n",
       "    <tr>\n",
       "      <th>248723</th>\n",
       "      <td>2020-01-03 15:11:01+00:00</td>\n",
       "      <td>Mary's Meals is changing lives in Zimbabwe htt...</td>\n",
       "      <td>Neutral</td>\n",
       "    </tr>\n",
       "    <tr>\n",
       "      <th>248724</th>\n",
       "      <td>2020-01-03 15:00:48+00:00</td>\n",
       "      <td>Will meat alternatives continue gaining popula...</td>\n",
       "      <td>Positive</td>\n",
       "    </tr>\n",
       "    <tr>\n",
       "      <th>248725</th>\n",
       "      <td>2020-01-03 14:29:10+00:00</td>\n",
       "      <td>These are our top five healthy recipes that yo...</td>\n",
       "      <td>Positive</td>\n",
       "    </tr>\n",
       "    <tr>\n",
       "      <th>248726</th>\n",
       "      <td>2020-01-03 14:01:57+00:00</td>\n",
       "      <td>Burned out on cooking after the holidays? Here...</td>\n",
       "      <td>Positive</td>\n",
       "    </tr>\n",
       "    <tr>\n",
       "      <th>248727</th>\n",
       "      <td>2020-01-03 14:00:38+00:00</td>\n",
       "      <td>Will you eat lettuce that is not grown in soil...</td>\n",
       "      <td>Neutral</td>\n",
       "    </tr>\n",
       "    <tr>\n",
       "      <th>248728</th>\n",
       "      <td>2020-01-03 13:49:24+00:00</td>\n",
       "      <td>#FoodFriday: Is it possible to treat things li...</td>\n",
       "      <td>Negative</td>\n",
       "    </tr>\n",
       "    <tr>\n",
       "      <th>248729</th>\n",
       "      <td>2020-01-03 13:33:59+00:00</td>\n",
       "      <td>Foodies, this particular country is one of our...</td>\n",
       "      <td>Positive</td>\n",
       "    </tr>\n",
       "    <tr>\n",
       "      <th>248730</th>\n",
       "      <td>2020-01-03 13:15:42+00:00</td>\n",
       "      <td>Today is usually #FoodFriday on this timeline....</td>\n",
       "      <td>Negative</td>\n",
       "    </tr>\n",
       "    <tr>\n",
       "      <th>248731</th>\n",
       "      <td>2020-01-03 13:06:15+00:00</td>\n",
       "      <td>#FoodFriday\\n\\nWhat are you cookin' up today o...</td>\n",
       "      <td>Positive</td>\n",
       "    </tr>\n",
       "    <tr>\n",
       "      <th>248732</th>\n",
       "      <td>2020-01-03 12:30:12+00:00</td>\n",
       "      <td>This weeks #FoodFriday is from @WoodsideBay 🍕\\...</td>\n",
       "      <td>Positive</td>\n",
       "    </tr>\n",
       "    <tr>\n",
       "      <th>248733</th>\n",
       "      <td>2020-01-03 12:05:03+00:00</td>\n",
       "      <td>Ring in the New Year with healthy eating. Chec...</td>\n",
       "      <td>Positive</td>\n",
       "    </tr>\n",
       "    <tr>\n",
       "      <th>248734</th>\n",
       "      <td>2020-01-03 11:15:48+00:00</td>\n",
       "      <td>'The old fool forgot the lessons of Blodeuwedd...</td>\n",
       "      <td>Negative</td>\n",
       "    </tr>\n",
       "    <tr>\n",
       "      <th>248735</th>\n",
       "      <td>2020-01-03 10:08:33+00:00</td>\n",
       "      <td>African star Apple (Udara).\\nRich source of vi...</td>\n",
       "      <td>Positive</td>\n",
       "    </tr>\n",
       "    <tr>\n",
       "      <th>248736</th>\n",
       "      <td>2020-01-03 06:44:33+00:00</td>\n",
       "      <td>#FOODFRIDAY 🇮🇹🍫\\nIf you love chocolate, then b...</td>\n",
       "      <td>Positive</td>\n",
       "    </tr>\n",
       "    <tr>\n",
       "      <th>248737</th>\n",
       "      <td>2020-01-03 06:31:10+00:00</td>\n",
       "      <td>#foodfriday @baghdadcafeCT hey offer a variety...</td>\n",
       "      <td>Positive</td>\n",
       "    </tr>\n",
       "    <tr>\n",
       "      <th>248738</th>\n",
       "      <td>2020-01-03 04:30:00+00:00</td>\n",
       "      <td>This Mangalorean special chicken curry can be ...</td>\n",
       "      <td>Positive</td>\n",
       "    </tr>\n",
       "  </tbody>\n",
       "</table>\n",
       "</div>"
      ],
      "text/plain": [
       "                 tweet_created_at  \\\n",
       "248719  2020-01-03 16:00:23+00:00   \n",
       "248720  2020-01-03 15:32:14+00:00   \n",
       "248721  2020-01-03 15:15:13+00:00   \n",
       "248722  2020-01-03 15:14:57+00:00   \n",
       "248723  2020-01-03 15:11:01+00:00   \n",
       "248724  2020-01-03 15:00:48+00:00   \n",
       "248725  2020-01-03 14:29:10+00:00   \n",
       "248726  2020-01-03 14:01:57+00:00   \n",
       "248727  2020-01-03 14:00:38+00:00   \n",
       "248728  2020-01-03 13:49:24+00:00   \n",
       "248729  2020-01-03 13:33:59+00:00   \n",
       "248730  2020-01-03 13:15:42+00:00   \n",
       "248731  2020-01-03 13:06:15+00:00   \n",
       "248732  2020-01-03 12:30:12+00:00   \n",
       "248733  2020-01-03 12:05:03+00:00   \n",
       "248734  2020-01-03 11:15:48+00:00   \n",
       "248735  2020-01-03 10:08:33+00:00   \n",
       "248736  2020-01-03 06:44:33+00:00   \n",
       "248737  2020-01-03 06:31:10+00:00   \n",
       "248738  2020-01-03 04:30:00+00:00   \n",
       "\n",
       "                                                     text Sentiment  \n",
       "248719  #FoodFriday means tasty snacks throughout the ...   Neutral  \n",
       "248720  F U E L E D F R I D A Y\\nLooking for a fun, co...  Positive  \n",
       "248721  Kummer reminds you to stay hydrated #foodfrida...   Neutral  \n",
       "248722  Commercial #Kitchens need attention at a great...  Positive  \n",
       "248723  Mary's Meals is changing lives in Zimbabwe htt...   Neutral  \n",
       "248724  Will meat alternatives continue gaining popula...  Positive  \n",
       "248725  These are our top five healthy recipes that yo...  Positive  \n",
       "248726  Burned out on cooking after the holidays? Here...  Positive  \n",
       "248727  Will you eat lettuce that is not grown in soil...   Neutral  \n",
       "248728  #FoodFriday: Is it possible to treat things li...  Negative  \n",
       "248729  Foodies, this particular country is one of our...  Positive  \n",
       "248730  Today is usually #FoodFriday on this timeline....  Negative  \n",
       "248731  #FoodFriday\\n\\nWhat are you cookin' up today o...  Positive  \n",
       "248732  This weeks #FoodFriday is from @WoodsideBay 🍕\\...  Positive  \n",
       "248733  Ring in the New Year with healthy eating. Chec...  Positive  \n",
       "248734  'The old fool forgot the lessons of Blodeuwedd...  Negative  \n",
       "248735  African star Apple (Udara).\\nRich source of vi...  Positive  \n",
       "248736  #FOODFRIDAY 🇮🇹🍫\\nIf you love chocolate, then b...  Positive  \n",
       "248737  #foodfriday @baghdadcafeCT hey offer a variety...  Positive  \n",
       "248738  This Mangalorean special chicken curry can be ...  Positive  "
      ]
     },
     "execution_count": 9,
     "metadata": {},
     "output_type": "execute_result"
    }
   ],
   "source": [
    "df.tail(20)"
   ]
  },
  {
   "cell_type": "code",
   "execution_count": 10,
   "id": "de9df5e3",
   "metadata": {
    "execution": {
     "iopub.execute_input": "2023-02-16T11:19:52.421668Z",
     "iopub.status.busy": "2023-02-16T11:19:52.421247Z",
     "iopub.status.idle": "2023-02-16T11:20:04.875706Z",
     "shell.execute_reply": "2023-02-16T11:20:04.874352Z"
    },
    "papermill": {
     "duration": 12.468454,
     "end_time": "2023-02-16T11:20:04.878536",
     "exception": false,
     "start_time": "2023-02-16T11:19:52.410082",
     "status": "completed"
    },
    "tags": []
   },
   "outputs": [
    {
     "data": {
      "application/vnd.jupyter.widget-view+json": {
       "model_id": "4658502b7eaf48a39cb7a2cced82590a",
       "version_major": 2,
       "version_minor": 0
      },
      "text/plain": [
       "Downloading:   0%|          | 0.00/28.0 [00:00<?, ?B/s]"
      ]
     },
     "metadata": {},
     "output_type": "display_data"
    },
    {
     "data": {
      "application/vnd.jupyter.widget-view+json": {
       "model_id": "c2db45897afc4ff0ad0a9183abd04f69",
       "version_major": 2,
       "version_minor": 0
      },
      "text/plain": [
       "Downloading:   0%|          | 0.00/226k [00:00<?, ?B/s]"
      ]
     },
     "metadata": {},
     "output_type": "display_data"
    },
    {
     "data": {
      "application/vnd.jupyter.widget-view+json": {
       "model_id": "824043254af9462f981d316a0e484d98",
       "version_major": 2,
       "version_minor": 0
      },
      "text/plain": [
       "Downloading:   0%|          | 0.00/455k [00:00<?, ?B/s]"
      ]
     },
     "metadata": {},
     "output_type": "display_data"
    },
    {
     "data": {
      "application/vnd.jupyter.widget-view+json": {
       "model_id": "5819adc14aa44aa4a9ea99bf83edbb38",
       "version_major": 2,
       "version_minor": 0
      },
      "text/plain": [
       "Downloading:   0%|          | 0.00/570 [00:00<?, ?B/s]"
      ]
     },
     "metadata": {},
     "output_type": "display_data"
    }
   ],
   "source": [
    "tokenizer = BertTokenizerFast.from_pretrained('bert-base-uncased')"
   ]
  },
  {
   "cell_type": "code",
   "execution_count": 11,
   "id": "c1c2ed8d",
   "metadata": {
    "execution": {
     "iopub.execute_input": "2023-02-16T11:20:04.901315Z",
     "iopub.status.busy": "2023-02-16T11:20:04.900821Z",
     "iopub.status.idle": "2023-02-16T11:20:13.523568Z",
     "shell.execute_reply": "2023-02-16T11:20:13.522205Z"
    },
    "papermill": {
     "duration": 8.636916,
     "end_time": "2023-02-16T11:20:13.526129",
     "exception": false,
     "start_time": "2023-02-16T11:20:04.889213",
     "status": "completed"
    },
    "tags": []
   },
   "outputs": [],
   "source": [
    "tokenizer_1 = AutoTokenizer.from_pretrained('bert-base-uncased')"
   ]
  },
  {
   "cell_type": "code",
   "execution_count": 12,
   "id": "176a2b43",
   "metadata": {
    "execution": {
     "iopub.execute_input": "2023-02-16T11:20:13.549492Z",
     "iopub.status.busy": "2023-02-16T11:20:13.548794Z",
     "iopub.status.idle": "2023-02-16T11:20:24.257406Z",
     "shell.execute_reply": "2023-02-16T11:20:24.255504Z"
    },
    "papermill": {
     "duration": 10.723176,
     "end_time": "2023-02-16T11:20:24.260307",
     "exception": false,
     "start_time": "2023-02-16T11:20:13.537131",
     "status": "completed"
    },
    "tags": []
   },
   "outputs": [
    {
     "name": "stdout",
     "output_type": "stream",
     "text": [
      "99.80984576378619% of the emojis are not identified by this tokenizer.\n"
     ]
    }
   ],
   "source": [
    "emoji_list = list(emoji.EMOJI_DATA.keys())\n",
    "\n",
    "cnt = 0\n",
    "\n",
    "for e in emoji_list:\n",
    "    tokenized = tokenizer.decode(tokenizer.encode(e)).strip(\"</s>\").strip()\n",
    "    if e not in tokenized:\n",
    "        cnt += 1\n",
    "print(f\"{cnt/len(emoji_list)*100}% of the emojis are not identified by this tokenizer.\")"
   ]
  },
  {
   "cell_type": "code",
   "execution_count": 13,
   "id": "4bc496ba",
   "metadata": {
    "execution": {
     "iopub.execute_input": "2023-02-16T11:20:24.283640Z",
     "iopub.status.busy": "2023-02-16T11:20:24.282880Z",
     "iopub.status.idle": "2023-02-16T11:20:24.675314Z",
     "shell.execute_reply": "2023-02-16T11:20:24.673887Z"
    },
    "papermill": {
     "duration": 0.40686,
     "end_time": "2023-02-16T11:20:24.677843",
     "exception": false,
     "start_time": "2023-02-16T11:20:24.270983",
     "status": "completed"
    },
    "tags": []
   },
   "outputs": [
    {
     "name": "stdout",
     "output_type": "stream",
     "text": [
      "99.80984576378619% of the emojis are not identified by this tokenizer.\n"
     ]
    }
   ],
   "source": [
    "emoji_list = list(emoji.EMOJI_DATA.keys())\n",
    "\n",
    "cnt = 0\n",
    "\n",
    "for e in emoji_list:\n",
    "    tokenized = tokenizer_1.decode(tokenizer_1.encode(e)).strip(\"</s>\").strip()\n",
    "    if e not in tokenized:\n",
    "        cnt += 1\n",
    "print(f\"{cnt/len(emoji_list)*100}% of the emojis are not identified by this tokenizer.\")"
   ]
  },
  {
   "cell_type": "code",
   "execution_count": 14,
   "id": "00151938",
   "metadata": {
    "execution": {
     "iopub.execute_input": "2023-02-16T11:20:24.701587Z",
     "iopub.status.busy": "2023-02-16T11:20:24.700606Z",
     "iopub.status.idle": "2023-02-16T11:20:29.509356Z",
     "shell.execute_reply": "2023-02-16T11:20:29.507995Z"
    },
    "papermill": {
     "duration": 4.823907,
     "end_time": "2023-02-16T11:20:29.512328",
     "exception": false,
     "start_time": "2023-02-16T11:20:24.688421",
     "status": "completed"
    },
    "tags": []
   },
   "outputs": [],
   "source": [
    "tokenizer_3 = BertTokenizer.from_pretrained('bert-base-uncased')"
   ]
  },
  {
   "cell_type": "code",
   "execution_count": 15,
   "id": "5693b51c",
   "metadata": {
    "execution": {
     "iopub.execute_input": "2023-02-16T11:20:29.536794Z",
     "iopub.status.busy": "2023-02-16T11:20:29.536394Z",
     "iopub.status.idle": "2023-02-16T11:20:30.469316Z",
     "shell.execute_reply": "2023-02-16T11:20:30.467878Z"
    },
    "papermill": {
     "duration": 0.948033,
     "end_time": "2023-02-16T11:20:30.471762",
     "exception": false,
     "start_time": "2023-02-16T11:20:29.523729",
     "status": "completed"
    },
    "tags": []
   },
   "outputs": [
    {
     "name": "stdout",
     "output_type": "stream",
     "text": [
      "99.80984576378619% of the emojis are not identified by this tokenizer.\n"
     ]
    }
   ],
   "source": [
    "emoji_list = list(emoji.EMOJI_DATA.keys())\n",
    "\n",
    "cnt = 0\n",
    "\n",
    "for e in emoji_list:\n",
    "    tokenized = tokenizer_3.decode(tokenizer_3.encode(e)).strip(\"</s>\").strip()\n",
    "    if e not in tokenized:\n",
    "        cnt += 1\n",
    "print(f\"{cnt/len(emoji_list)*100}% of the emojis are not identified by this tokenizer.\")"
   ]
  },
  {
   "cell_type": "code",
   "execution_count": 16,
   "id": "ee94fb6e",
   "metadata": {
    "execution": {
     "iopub.execute_input": "2023-02-16T11:20:30.495514Z",
     "iopub.status.busy": "2023-02-16T11:20:30.495105Z",
     "iopub.status.idle": "2023-02-16T11:20:47.091284Z",
     "shell.execute_reply": "2023-02-16T11:20:47.090180Z"
    },
    "papermill": {
     "duration": 16.611309,
     "end_time": "2023-02-16T11:20:47.094147",
     "exception": false,
     "start_time": "2023-02-16T11:20:30.482838",
     "status": "completed"
    },
    "tags": []
   },
   "outputs": [
    {
     "data": {
      "application/vnd.jupyter.widget-view+json": {
       "model_id": "727023d5803248ffb90308e3d278bffa",
       "version_major": 2,
       "version_minor": 0
      },
      "text/plain": [
       "Downloading:   0%|          | 0.00/656 [00:00<?, ?B/s]"
      ]
     },
     "metadata": {},
     "output_type": "display_data"
    },
    {
     "data": {
      "application/vnd.jupyter.widget-view+json": {
       "model_id": "99fc9c10f11b4398b57652968701f07c",
       "version_major": 2,
       "version_minor": 0
      },
      "text/plain": [
       "Downloading:   0%|          | 0.00/797k [00:00<?, ?B/s]"
      ]
     },
     "metadata": {},
     "output_type": "display_data"
    },
    {
     "data": {
      "application/vnd.jupyter.widget-view+json": {
       "model_id": "ab0d2617ce964538ba169e778894da9f",
       "version_major": 2,
       "version_minor": 0
      },
      "text/plain": [
       "Downloading:   0%|          | 0.00/448k [00:00<?, ?B/s]"
      ]
     },
     "metadata": {},
     "output_type": "display_data"
    },
    {
     "data": {
      "application/vnd.jupyter.widget-view+json": {
       "model_id": "b4c34c7331f2466389015650f0d7560d",
       "version_major": 2,
       "version_minor": 0
      },
      "text/plain": [
       "Downloading:   0%|          | 0.00/1.21M [00:00<?, ?B/s]"
      ]
     },
     "metadata": {},
     "output_type": "display_data"
    }
   ],
   "source": [
    "tokenizer_4 = AutoTokenizer.from_pretrained(\"openai-gpt\")"
   ]
  },
  {
   "cell_type": "code",
   "execution_count": 17,
   "id": "66c46ebe",
   "metadata": {
    "execution": {
     "iopub.execute_input": "2023-02-16T11:20:47.118778Z",
     "iopub.status.busy": "2023-02-16T11:20:47.118386Z",
     "iopub.status.idle": "2023-02-16T11:20:47.474762Z",
     "shell.execute_reply": "2023-02-16T11:20:47.473359Z"
    },
    "papermill": {
     "duration": 0.372147,
     "end_time": "2023-02-16T11:20:47.477647",
     "exception": false,
     "start_time": "2023-02-16T11:20:47.105500",
     "status": "completed"
    },
    "tags": []
   },
   "outputs": [
    {
     "name": "stdout",
     "output_type": "stream",
     "text": [
      "99.80984576378619% of the emojis are not identified by this tokenizer.\n"
     ]
    }
   ],
   "source": [
    "emoji_list = list(emoji.EMOJI_DATA.keys())\n",
    "\n",
    "cnt = 0\n",
    "\n",
    "for e in emoji_list:\n",
    "    tokenized = tokenizer_4.decode(tokenizer_4.encode(e)).strip(\"</s>\").strip()\n",
    "    if e not in tokenized:\n",
    "        cnt += 1\n",
    "print(f\"{cnt/len(emoji_list)*100}% of the emojis are not identified by this tokenizer.\")"
   ]
  },
  {
   "cell_type": "code",
   "execution_count": 18,
   "id": "82e9f514",
   "metadata": {
    "execution": {
     "iopub.execute_input": "2023-02-16T11:20:47.501745Z",
     "iopub.status.busy": "2023-02-16T11:20:47.501311Z",
     "iopub.status.idle": "2023-02-16T11:20:47.506839Z",
     "shell.execute_reply": "2023-02-16T11:20:47.505853Z"
    },
    "papermill": {
     "duration": 0.020163,
     "end_time": "2023-02-16T11:20:47.509042",
     "exception": false,
     "start_time": "2023-02-16T11:20:47.488879",
     "status": "completed"
    },
    "tags": []
   },
   "outputs": [],
   "source": [
    "def emoji2description(text):\n",
    "\n",
    "    return emoji.replace_emoji(text, replace=lambda chars, data_dict: ' '.join(data_dict['en'].split('_')).strip(':'))"
   ]
  },
  {
   "cell_type": "code",
   "execution_count": 19,
   "id": "d0e2d33b",
   "metadata": {
    "execution": {
     "iopub.execute_input": "2023-02-16T11:20:47.533260Z",
     "iopub.status.busy": "2023-02-16T11:20:47.532800Z",
     "iopub.status.idle": "2023-02-16T11:20:47.538793Z",
     "shell.execute_reply": "2023-02-16T11:20:47.537818Z"
    },
    "papermill": {
     "duration": 0.020644,
     "end_time": "2023-02-16T11:20:47.541103",
     "exception": false,
     "start_time": "2023-02-16T11:20:47.520459",
     "status": "completed"
    },
    "tags": []
   },
   "outputs": [],
   "source": [
    "def emoji2concat_emoji(text):\n",
    "    emoji_list = emoji.emoji_list(text)\n",
    "    ret = emoji.replace_emoji(text, replace='').strip()\n",
    "    for json in emoji_list:\n",
    "        this_emoji = json['emoji']\n",
    "        ret += ' ' + this_emoji\n",
    "    return ret"
   ]
  },
  {
   "cell_type": "code",
   "execution_count": 20,
   "id": "68d945f1",
   "metadata": {
    "execution": {
     "iopub.execute_input": "2023-02-16T11:20:47.565570Z",
     "iopub.status.busy": "2023-02-16T11:20:47.565178Z",
     "iopub.status.idle": "2023-02-16T11:20:47.570888Z",
     "shell.execute_reply": "2023-02-16T11:20:47.569865Z"
    },
    "papermill": {
     "duration": 0.020708,
     "end_time": "2023-02-16T11:20:47.573136",
     "exception": false,
     "start_time": "2023-02-16T11:20:47.552428",
     "status": "completed"
    },
    "tags": []
   },
   "outputs": [],
   "source": [
    "def emoji2concat_description(text):\n",
    "    emoji_list = emoji.emoji_list(text)\n",
    "    ret = emoji.replace_emoji(text, replace='').strip()\n",
    "    for json in emoji_list:\n",
    "        this_desc = ' '.join(emoji.EMOJI_DATA[json['emoji']]['en'].split('_')).strip(':')\n",
    "        ret += ' ' + this_desc\n",
    "    return ret"
   ]
  },
  {
   "cell_type": "code",
   "execution_count": 21,
   "id": "15b91768",
   "metadata": {
    "execution": {
     "iopub.execute_input": "2023-02-16T11:20:47.597382Z",
     "iopub.status.busy": "2023-02-16T11:20:47.596695Z",
     "iopub.status.idle": "2023-02-16T11:21:55.382993Z",
     "shell.execute_reply": "2023-02-16T11:21:55.381397Z"
    },
    "papermill": {
     "duration": 67.801506,
     "end_time": "2023-02-16T11:21:55.385873",
     "exception": false,
     "start_time": "2023-02-16T11:20:47.584367",
     "status": "completed"
    },
    "tags": []
   },
   "outputs": [],
   "source": [
    "texts_new = []\n",
    "\n",
    "for t in df.text:\n",
    "    texts_new.append(\n",
    "        emoji2description(emoji2concat_emoji(emoji2concat_description((t))))\n",
    "    )"
   ]
  },
  {
   "cell_type": "code",
   "execution_count": 22,
   "id": "d75d0f10",
   "metadata": {
    "execution": {
     "iopub.execute_input": "2023-02-16T11:21:55.410826Z",
     "iopub.status.busy": "2023-02-16T11:21:55.409848Z",
     "iopub.status.idle": "2023-02-16T11:21:55.451211Z",
     "shell.execute_reply": "2023-02-16T11:21:55.449901Z"
    },
    "papermill": {
     "duration": 0.056358,
     "end_time": "2023-02-16T11:21:55.453795",
     "exception": false,
     "start_time": "2023-02-16T11:21:55.397437",
     "status": "completed"
    },
    "tags": []
   },
   "outputs": [],
   "source": [
    "df['text_clean'] = texts_new"
   ]
  },
  {
   "cell_type": "code",
   "execution_count": 23,
   "id": "03423f10",
   "metadata": {
    "execution": {
     "iopub.execute_input": "2023-02-16T11:21:55.477876Z",
     "iopub.status.busy": "2023-02-16T11:21:55.477411Z",
     "iopub.status.idle": "2023-02-16T11:21:55.485628Z",
     "shell.execute_reply": "2023-02-16T11:21:55.484488Z"
    },
    "papermill": {
     "duration": 0.02299,
     "end_time": "2023-02-16T11:21:55.488091",
     "exception": false,
     "start_time": "2023-02-16T11:21:55.465101",
     "status": "completed"
    },
    "tags": []
   },
   "outputs": [
    {
     "data": {
      "text/plain": [
       "array(['#FoodFriday means tasty snacks throughout the day!\\n😋💙🥄🍫\\n📷 : @flexible_nati\\n#haveaplant https://t.co/pNSAHV2hDh',\n",
       "       'F U E L E D F R I D A Y\\nLooking for a fun, colorful and healthy recipe to kick off the new year? Well, check out this delicious and beautiful dish!\\n・・・\\nEggs baked in Veggie Nests. Head over to our insta for the recipe. 🤤\\n\\n#fueledfriday #foodfriday #runinrabbit #borntorunfree https://t.co/2Fwez5uYb2',\n",
       "       'Kummer reminds you to stay hydrated #foodfriday https://t.co/rkZmatd97f',\n",
       "       'Commercial #Kitchens need attention at a great price! 🦏 Rhino Shine has a solid plan unlike #JasonGarrett future 🤷🏻\\u200d♂️. #Dallas #winning #coupons #restaurant #hood #cleaning #foodfriday #trucks https://t.co/U0V5BO33uo',\n",
       "       \"Mary's Meals is changing lives in Zimbabwe https://t.co/bioEZAt47N #feelgoodfriday #FoodFriday\",\n",
       "       'Will meat alternatives continue gaining popularity in 2020? https://t.co/wzvi1XOBmj via @YourMorning ht  @LetsTalkScience 🥬🍔🤑 #food #health #diet #nutrition #meatless #plantbased #Vegan #vegetarian #HealthyLiving #HealthyEating #BusinessGrowth #business #FoodFriday',\n",
       "       'These are our top five healthy recipes that you can throw together in the morning and enjoy in the evening (as well as take leftovers for lunch the next day).\\n#FoodFriday #EatHealthy #NewYearNewYou #PersonalTraining #FitnessTogether                       https://t.co/TiKGdeqr1p',\n",
       "       \"Burned out on cooking after the holidays? Here's a selection of quick and easy meals to get you inspired #FoodFriday\\nhttps://t.co/uLYOPeQHQc https://t.co/nyWopWqh79\",\n",
       "       'Will you eat lettuce that is not grown in soil? Large scale #Hydroponics can produce hyper local food in a small space, even shipping containers or in your own home. https://t.co/Ogy8UgHMUt #FoodFriday',\n",
       "       '#FoodFriday: Is it possible to treat things like anxiety and depression with food? https://t.co/93Ez7VwziK\\n#KinderInTheKeys #MentalHealth #Anxiety #PTSD #Depression #Trauma #Recovery #Healing #Treatment #Food #Wellness',\n",
       "       \"Foodies, this particular country is one of our FAV when it comes to FOOD!! 🥘🍲🥗🍜\\n\\nLet's see if you can guess it!! 🤓\\n\\n#FoodFriday #GuessGame #Guess #Fun #FridayThoughts #foodie https://t.co/gK3x3uMArb\",\n",
       "       'Today is usually #FoodFriday on this timeline.\\n\\nI tweet about food. \\n\\nIf you can postpone your instant gratification from bad foods, you can postpone bad habits in your life.\\n\\nHow you approach food is evidently how you approach your other aspects of life.\\n\\n#FoodFriday',\n",
       "       \"#FoodFriday\\n\\nWhat are you cookin' up today or this weekend? What's your favorite recipe? Looking for some new ideas! https://t.co/3VRQTRCxd3\",\n",
       "       'This weeks #FoodFriday is from @WoodsideBay 🍕\\n\\nWould you be interested in a #Chef position with us?\\nThen why not visit the Darwin Escapes website, locate the Careers tab and search for our Chef vacancies 😀\\n\\n#Jobs https://t.co/FWNknvURhn',\n",
       "       'Ring in the New Year with healthy eating. Checkout #ClickNCook #healthrecipe Fruity Homemade Oatmeal. https://t.co/7XR3tw6XsH\\n#FoodFriday',\n",
       "       \"'The old fool forgot the lessons of Blodeuwedd and Frankenstein: never create anything smarter, or more ruthless, than yourself.'\\n.\\n#FoodFriday featuring cheesecake (that I'd been craving since Tuesday but been too lazy to…\\n\\n📸 https://t.co/U6yxC4h3sz via https://t.co/Z51VYxAyBJ https://t.co/8f5Lqkp8hm\",\n",
       "       'African star Apple (Udara).\\nRich source of vita.C is one of the wonderful fruits offered by nature with important health benefits.\\nRanging from tackling toothache, mouth gum disease, soar throat, helps in weight loss and good for expecting mothers \\n\\n#FoodFriday\\n#CoalCityConnect https://t.co/ODyfnS8VVm',\n",
       "       '#FOODFRIDAY 🇮🇹🍫\\nIf you love chocolate, then board the first flight to California. The Nutella Pop Up Hotel is about to open. Discover more in this video. Do you know? Nutella is an Italian product...of course!\\n#italy #food #nutella #language #school… https://t.co/bgG5haT6mQ https://t.co/gw0JhCqZHE',\n",
       "       '#foodfriday @baghdadcafeCT hey offer a variety of delicious foods, from pizza to tacos and sticky wings! For your convenience they also avail on @ubereats_za https://t.co/P8sdNvfMcg',\n",
       "       'This Mangalorean special chicken curry can be paired best with neer dosa or steamed rice. What’s your pick?\\nRecipe Link: https://t.co/iyYCpcuoeA\\n#FoodFriday https://t.co/Bke1o79Zio'],\n",
       "      dtype=object)"
      ]
     },
     "execution_count": 23,
     "metadata": {},
     "output_type": "execute_result"
    }
   ],
   "source": [
    "df['text'].tail(20).values"
   ]
  },
  {
   "cell_type": "code",
   "execution_count": 24,
   "id": "48de3947",
   "metadata": {
    "execution": {
     "iopub.execute_input": "2023-02-16T11:21:55.512440Z",
     "iopub.status.busy": "2023-02-16T11:21:55.512037Z",
     "iopub.status.idle": "2023-02-16T11:21:55.520452Z",
     "shell.execute_reply": "2023-02-16T11:21:55.519217Z"
    },
    "papermill": {
     "duration": 0.023413,
     "end_time": "2023-02-16T11:21:55.522959",
     "exception": false,
     "start_time": "2023-02-16T11:21:55.499546",
     "status": "completed"
    },
    "tags": []
   },
   "outputs": [
    {
     "data": {
      "text/plain": [
       "array(['#FoodFriday means tasty snacks throughout the day!\\n\\n : @flexible_nati\\n#haveaplant https://t.co/pNSAHV2hDh face savoring food blue heart spoon chocolate bar camera',\n",
       "       'F U E L E D F R I D A Y\\nLooking for a fun, colorful and healthy recipe to kick off the new year? Well, check out this delicious and beautiful dish!\\n・・・\\nEggs baked in Veggie Nests. Head over to our insta for the recipe. \\n\\n#fueledfriday #foodfriday #runinrabbit #borntorunfree https://t.co/2Fwez5uYb2 drooling face',\n",
       "       'Kummer reminds you to stay hydrated #foodfriday https://t.co/rkZmatd97f',\n",
       "       'Commercial #Kitchens need attention at a great price!  Rhino Shine has a solid plan unlike #JasonGarrett future . #Dallas #winning #coupons #restaurant #hood #cleaning #foodfriday #trucks https://t.co/U0V5BO33uo rhinoceros man shrugging light skin tone',\n",
       "       \"Mary's Meals is changing lives in Zimbabwe https://t.co/bioEZAt47N #feelgoodfriday #FoodFriday\",\n",
       "       'Will meat alternatives continue gaining popularity in 2020? https://t.co/wzvi1XOBmj via @YourMorning ht  @LetsTalkScience  #food #health #diet #nutrition #meatless #plantbased #Vegan #vegetarian #HealthyLiving #HealthyEating #BusinessGrowth #business #FoodFriday leafy green hamburger money-mouth face',\n",
       "       'These are our top five healthy recipes that you can throw together in the morning and enjoy in the evening (as well as take leftovers for lunch the next day).\\n#FoodFriday #EatHealthy #NewYearNewYou #PersonalTraining #FitnessTogether                       https://t.co/TiKGdeqr1p',\n",
       "       \"Burned out on cooking after the holidays? Here's a selection of quick and easy meals to get you inspired #FoodFriday\\nhttps://t.co/uLYOPeQHQc https://t.co/nyWopWqh79\",\n",
       "       'Will you eat lettuce that is not grown in soil? Large scale #Hydroponics can produce hyper local food in a small space, even shipping containers or in your own home. https://t.co/Ogy8UgHMUt #FoodFriday',\n",
       "       '#FoodFriday: Is it possible to treat things like anxiety and depression with food? https://t.co/93Ez7VwziK\\n#KinderInTheKeys #MentalHealth #Anxiety #PTSD #Depression #Trauma #Recovery #Healing #Treatment #Food #Wellness',\n",
       "       \"Foodies, this particular country is one of our FAV when it comes to FOOD!! \\n\\nLet's see if you can guess it!! \\n\\n#FoodFriday #GuessGame #Guess #Fun #FridayThoughts #foodie https://t.co/gK3x3uMArb shallow pan of food pot of food green salad steaming bowl nerd face\",\n",
       "       'Today is usually #FoodFriday on this timeline.\\n\\nI tweet about food. \\n\\nIf you can postpone your instant gratification from bad foods, you can postpone bad habits in your life.\\n\\nHow you approach food is evidently how you approach your other aspects of life.\\n\\n#FoodFriday',\n",
       "       \"#FoodFriday\\n\\nWhat are you cookin' up today or this weekend? What's your favorite recipe? Looking for some new ideas! https://t.co/3VRQTRCxd3\",\n",
       "       'This weeks #FoodFriday is from @WoodsideBay \\n\\nWould you be interested in a #Chef position with us?\\nThen why not visit the Darwin Escapes website, locate the Careers tab and search for our Chef vacancies \\n\\n#Jobs https://t.co/FWNknvURhn pizza grinning face',\n",
       "       'Ring in the New Year with healthy eating. Checkout #ClickNCook #healthrecipe Fruity Homemade Oatmeal. https://t.co/7XR3tw6XsH\\n#FoodFriday',\n",
       "       \"'The old fool forgot the lessons of Blodeuwedd and Frankenstein: never create anything smarter, or more ruthless, than yourself.'\\n.\\n#FoodFriday featuring cheesecake (that I'd been craving since Tuesday but been too lazy to…\\n\\n https://t.co/U6yxC4h3sz via https://t.co/Z51VYxAyBJ https://t.co/8f5Lqkp8hm camera with flash\",\n",
       "       'African star Apple (Udara).\\nRich source of vita.C is one of the wonderful fruits offered by nature with important health benefits.\\nRanging from tackling toothache, mouth gum disease, soar throat, helps in weight loss and good for expecting mothers \\n\\n#FoodFriday\\n#CoalCityConnect https://t.co/ODyfnS8VVm',\n",
       "       '#FOODFRIDAY \\nIf you love chocolate, then board the first flight to California. The Nutella Pop Up Hotel is about to open. Discover more in this video. Do you know? Nutella is an Italian product...of course!\\n#italy #food #nutella #language #school… https://t.co/bgG5haT6mQ https://t.co/gw0JhCqZHE Italy chocolate bar',\n",
       "       '#foodfriday @baghdadcafeCT hey offer a variety of delicious foods, from pizza to tacos and sticky wings! For your convenience they also avail on @ubereats_za https://t.co/P8sdNvfMcg',\n",
       "       'This Mangalorean special chicken curry can be paired best with neer dosa or steamed rice. What’s your pick?\\nRecipe Link: https://t.co/iyYCpcuoeA\\n#FoodFriday https://t.co/Bke1o79Zio'],\n",
       "      dtype=object)"
      ]
     },
     "execution_count": 24,
     "metadata": {},
     "output_type": "execute_result"
    }
   ],
   "source": [
    "df['text_clean'].tail(20).values"
   ]
  },
  {
   "cell_type": "code",
   "execution_count": 25,
   "id": "f6866517",
   "metadata": {
    "execution": {
     "iopub.execute_input": "2023-02-16T11:21:55.547979Z",
     "iopub.status.busy": "2023-02-16T11:21:55.547519Z",
     "iopub.status.idle": "2023-02-16T11:21:55.553101Z",
     "shell.execute_reply": "2023-02-16T11:21:55.551992Z"
    },
    "papermill": {
     "duration": 0.021217,
     "end_time": "2023-02-16T11:21:55.555787",
     "exception": false,
     "start_time": "2023-02-16T11:21:55.534570",
     "status": "completed"
    },
    "tags": []
   },
   "outputs": [],
   "source": [
    "# remove multiple spaces\n",
    "\n",
    "def remove_mult_spaces(text): \n",
    "    return re.sub(\"\\s\\s+\" , \" \", text)"
   ]
  },
  {
   "cell_type": "code",
   "execution_count": 26,
   "id": "94ff8438",
   "metadata": {
    "execution": {
     "iopub.execute_input": "2023-02-16T11:21:55.581687Z",
     "iopub.status.busy": "2023-02-16T11:21:55.581277Z",
     "iopub.status.idle": "2023-02-16T11:21:55.588636Z",
     "shell.execute_reply": "2023-02-16T11:21:55.587480Z"
    },
    "papermill": {
     "duration": 0.02323,
     "end_time": "2023-02-16T11:21:55.591045",
     "exception": false,
     "start_time": "2023-02-16T11:21:55.567815",
     "status": "completed"
    },
    "tags": []
   },
   "outputs": [],
   "source": [
    "#Remove punctuations, links, mentions and \\r\\n new line characters\n",
    "\n",
    "def strip_all_entities(text): \n",
    "    text = text.replace('\\r', '').replace('\\n', ' ').replace('\\n', ' ').lower() #remove \\n and \\r and lowercase\n",
    "    text = re.sub(r\"(?:\\@|https?\\://)\\S+\", \"\", text) #remove links and mentions\n",
    "    text = re.sub(r'[^\\x00-\\x7f]',r'', text) #remove non utf8/ascii characters such as '\\x9a\\x91\\x97\\x9a\\x97'\n",
    "    banned_list= string.punctuation + 'Ã'+'±'+'ã'+'¼'+'â'+'»'+'§'\n",
    "    table = str.maketrans('', '', banned_list)\n",
    "    text = text.translate(table)\n",
    "    return text"
   ]
  },
  {
   "cell_type": "code",
   "execution_count": 27,
   "id": "e18ac4fa",
   "metadata": {
    "execution": {
     "iopub.execute_input": "2023-02-16T11:21:55.616602Z",
     "iopub.status.busy": "2023-02-16T11:21:55.616186Z",
     "iopub.status.idle": "2023-02-16T11:21:55.623100Z",
     "shell.execute_reply": "2023-02-16T11:21:55.621783Z"
    },
    "papermill": {
     "duration": 0.022811,
     "end_time": "2023-02-16T11:21:55.625524",
     "exception": false,
     "start_time": "2023-02-16T11:21:55.602713",
     "status": "completed"
    },
    "tags": []
   },
   "outputs": [],
   "source": [
    "#clean hashtags at the end of the sentence, and keep those in the middle of the sentence by removing just the # symbol\n",
    "\n",
    "def clean_hashtags(tweet):\n",
    "    new_tweet = \" \".join(word.strip() for word in re.split('#(?!(?:hashtag)\\b)[\\w-]+(?=(?:\\s+#[\\w-]+)*\\s*$)', tweet)) #remove last hashtags\n",
    "    new_tweet2 = \" \".join(word.strip() for word in re.split('#|_', new_tweet)) #remove hashtags symbol from words in the middle of the sentence\n",
    "    return new_tweet2"
   ]
  },
  {
   "cell_type": "code",
   "execution_count": 28,
   "id": "40083bb3",
   "metadata": {
    "execution": {
     "iopub.execute_input": "2023-02-16T11:21:55.651314Z",
     "iopub.status.busy": "2023-02-16T11:21:55.650922Z",
     "iopub.status.idle": "2023-02-16T11:21:55.657438Z",
     "shell.execute_reply": "2023-02-16T11:21:55.656147Z"
    },
    "papermill": {
     "duration": 0.022345,
     "end_time": "2023-02-16T11:21:55.659833",
     "exception": false,
     "start_time": "2023-02-16T11:21:55.637488",
     "status": "completed"
    },
    "tags": []
   },
   "outputs": [],
   "source": [
    "#Filter special characters such as & and $ present in some words\n",
    "\n",
    "def filter_chars(a):\n",
    "    sent = []\n",
    "    for word in a.split(' '):\n",
    "        if ('$' in word) | ('&' in word):\n",
    "            sent.append('')\n",
    "        else:\n",
    "            sent.append(word)\n",
    "    return ' '.join(sent)"
   ]
  },
  {
   "cell_type": "code",
   "execution_count": 29,
   "id": "8447555e",
   "metadata": {
    "execution": {
     "iopub.execute_input": "2023-02-16T11:21:55.685312Z",
     "iopub.status.busy": "2023-02-16T11:21:55.684892Z",
     "iopub.status.idle": "2023-02-16T11:22:02.775370Z",
     "shell.execute_reply": "2023-02-16T11:22:02.774033Z"
    },
    "papermill": {
     "duration": 7.106559,
     "end_time": "2023-02-16T11:22:02.778502",
     "exception": false,
     "start_time": "2023-02-16T11:21:55.671943",
     "status": "completed"
    },
    "tags": []
   },
   "outputs": [],
   "source": [
    "deeper_clean = []\n",
    "\n",
    "for t in df.text_clean:\n",
    "    deeper_clean.append(\n",
    "        remove_mult_spaces(\n",
    "            filter_chars(\n",
    "                clean_hashtags(\n",
    "                    strip_all_entities(\n",
    "                        (t)\n",
    "                    ))))\n",
    "    )"
   ]
  },
  {
   "cell_type": "code",
   "execution_count": 30,
   "id": "d00603e5",
   "metadata": {
    "execution": {
     "iopub.execute_input": "2023-02-16T11:22:02.804575Z",
     "iopub.status.busy": "2023-02-16T11:22:02.804181Z",
     "iopub.status.idle": "2023-02-16T11:22:02.845878Z",
     "shell.execute_reply": "2023-02-16T11:22:02.844456Z"
    },
    "papermill": {
     "duration": 0.05781,
     "end_time": "2023-02-16T11:22:02.848688",
     "exception": false,
     "start_time": "2023-02-16T11:22:02.790878",
     "status": "completed"
    },
    "tags": []
   },
   "outputs": [],
   "source": [
    "df['text_clean_deeper'] = deeper_clean"
   ]
  },
  {
   "cell_type": "code",
   "execution_count": 31,
   "id": "bae32063",
   "metadata": {
    "execution": {
     "iopub.execute_input": "2023-02-16T11:22:02.873982Z",
     "iopub.status.busy": "2023-02-16T11:22:02.873548Z",
     "iopub.status.idle": "2023-02-16T11:22:02.880961Z",
     "shell.execute_reply": "2023-02-16T11:22:02.879800Z"
    },
    "papermill": {
     "duration": 0.022929,
     "end_time": "2023-02-16T11:22:02.883459",
     "exception": false,
     "start_time": "2023-02-16T11:22:02.860530",
     "status": "completed"
    },
    "tags": []
   },
   "outputs": [
    {
     "data": {
      "text/plain": [
       "Index(['tweet_created_at', 'text', 'Sentiment', 'text_clean',\n",
       "       'text_clean_deeper'],\n",
       "      dtype='object')"
      ]
     },
     "execution_count": 31,
     "metadata": {},
     "output_type": "execute_result"
    }
   ],
   "source": [
    "df.columns"
   ]
  },
  {
   "cell_type": "code",
   "execution_count": 32,
   "id": "40f2dc7e",
   "metadata": {
    "execution": {
     "iopub.execute_input": "2023-02-16T11:22:02.908775Z",
     "iopub.status.busy": "2023-02-16T11:22:02.908330Z",
     "iopub.status.idle": "2023-02-16T11:22:02.916857Z",
     "shell.execute_reply": "2023-02-16T11:22:02.915621Z"
    },
    "papermill": {
     "duration": 0.023883,
     "end_time": "2023-02-16T11:22:02.919252",
     "exception": false,
     "start_time": "2023-02-16T11:22:02.895369",
     "status": "completed"
    },
    "tags": []
   },
   "outputs": [
    {
     "data": {
      "text/plain": [
       "array(['#FoodFriday means tasty snacks throughout the day!\\n😋💙🥄🍫\\n📷 : @flexible_nati\\n#haveaplant https://t.co/pNSAHV2hDh',\n",
       "       'F U E L E D F R I D A Y\\nLooking for a fun, colorful and healthy recipe to kick off the new year? Well, check out this delicious and beautiful dish!\\n・・・\\nEggs baked in Veggie Nests. Head over to our insta for the recipe. 🤤\\n\\n#fueledfriday #foodfriday #runinrabbit #borntorunfree https://t.co/2Fwez5uYb2',\n",
       "       'Kummer reminds you to stay hydrated #foodfriday https://t.co/rkZmatd97f',\n",
       "       'Commercial #Kitchens need attention at a great price! 🦏 Rhino Shine has a solid plan unlike #JasonGarrett future 🤷🏻\\u200d♂️. #Dallas #winning #coupons #restaurant #hood #cleaning #foodfriday #trucks https://t.co/U0V5BO33uo',\n",
       "       \"Mary's Meals is changing lives in Zimbabwe https://t.co/bioEZAt47N #feelgoodfriday #FoodFriday\",\n",
       "       'Will meat alternatives continue gaining popularity in 2020? https://t.co/wzvi1XOBmj via @YourMorning ht  @LetsTalkScience 🥬🍔🤑 #food #health #diet #nutrition #meatless #plantbased #Vegan #vegetarian #HealthyLiving #HealthyEating #BusinessGrowth #business #FoodFriday',\n",
       "       'These are our top five healthy recipes that you can throw together in the morning and enjoy in the evening (as well as take leftovers for lunch the next day).\\n#FoodFriday #EatHealthy #NewYearNewYou #PersonalTraining #FitnessTogether                       https://t.co/TiKGdeqr1p',\n",
       "       \"Burned out on cooking after the holidays? Here's a selection of quick and easy meals to get you inspired #FoodFriday\\nhttps://t.co/uLYOPeQHQc https://t.co/nyWopWqh79\",\n",
       "       'Will you eat lettuce that is not grown in soil? Large scale #Hydroponics can produce hyper local food in a small space, even shipping containers or in your own home. https://t.co/Ogy8UgHMUt #FoodFriday',\n",
       "       '#FoodFriday: Is it possible to treat things like anxiety and depression with food? https://t.co/93Ez7VwziK\\n#KinderInTheKeys #MentalHealth #Anxiety #PTSD #Depression #Trauma #Recovery #Healing #Treatment #Food #Wellness',\n",
       "       \"Foodies, this particular country is one of our FAV when it comes to FOOD!! 🥘🍲🥗🍜\\n\\nLet's see if you can guess it!! 🤓\\n\\n#FoodFriday #GuessGame #Guess #Fun #FridayThoughts #foodie https://t.co/gK3x3uMArb\",\n",
       "       'Today is usually #FoodFriday on this timeline.\\n\\nI tweet about food. \\n\\nIf you can postpone your instant gratification from bad foods, you can postpone bad habits in your life.\\n\\nHow you approach food is evidently how you approach your other aspects of life.\\n\\n#FoodFriday',\n",
       "       \"#FoodFriday\\n\\nWhat are you cookin' up today or this weekend? What's your favorite recipe? Looking for some new ideas! https://t.co/3VRQTRCxd3\",\n",
       "       'This weeks #FoodFriday is from @WoodsideBay 🍕\\n\\nWould you be interested in a #Chef position with us?\\nThen why not visit the Darwin Escapes website, locate the Careers tab and search for our Chef vacancies 😀\\n\\n#Jobs https://t.co/FWNknvURhn',\n",
       "       'Ring in the New Year with healthy eating. Checkout #ClickNCook #healthrecipe Fruity Homemade Oatmeal. https://t.co/7XR3tw6XsH\\n#FoodFriday',\n",
       "       \"'The old fool forgot the lessons of Blodeuwedd and Frankenstein: never create anything smarter, or more ruthless, than yourself.'\\n.\\n#FoodFriday featuring cheesecake (that I'd been craving since Tuesday but been too lazy to…\\n\\n📸 https://t.co/U6yxC4h3sz via https://t.co/Z51VYxAyBJ https://t.co/8f5Lqkp8hm\",\n",
       "       'African star Apple (Udara).\\nRich source of vita.C is one of the wonderful fruits offered by nature with important health benefits.\\nRanging from tackling toothache, mouth gum disease, soar throat, helps in weight loss and good for expecting mothers \\n\\n#FoodFriday\\n#CoalCityConnect https://t.co/ODyfnS8VVm',\n",
       "       '#FOODFRIDAY 🇮🇹🍫\\nIf you love chocolate, then board the first flight to California. The Nutella Pop Up Hotel is about to open. Discover more in this video. Do you know? Nutella is an Italian product...of course!\\n#italy #food #nutella #language #school… https://t.co/bgG5haT6mQ https://t.co/gw0JhCqZHE',\n",
       "       '#foodfriday @baghdadcafeCT hey offer a variety of delicious foods, from pizza to tacos and sticky wings! For your convenience they also avail on @ubereats_za https://t.co/P8sdNvfMcg',\n",
       "       'This Mangalorean special chicken curry can be paired best with neer dosa or steamed rice. What’s your pick?\\nRecipe Link: https://t.co/iyYCpcuoeA\\n#FoodFriday https://t.co/Bke1o79Zio'],\n",
       "      dtype=object)"
      ]
     },
     "execution_count": 32,
     "metadata": {},
     "output_type": "execute_result"
    }
   ],
   "source": [
    "df['text'].tail(20).values"
   ]
  },
  {
   "cell_type": "code",
   "execution_count": 33,
   "id": "14253343",
   "metadata": {
    "execution": {
     "iopub.execute_input": "2023-02-16T11:22:02.945481Z",
     "iopub.status.busy": "2023-02-16T11:22:02.945043Z",
     "iopub.status.idle": "2023-02-16T11:22:02.953270Z",
     "shell.execute_reply": "2023-02-16T11:22:02.951945Z"
    },
    "papermill": {
     "duration": 0.024364,
     "end_time": "2023-02-16T11:22:02.955691",
     "exception": false,
     "start_time": "2023-02-16T11:22:02.931327",
     "status": "completed"
    },
    "tags": []
   },
   "outputs": [
    {
     "data": {
      "text/plain": [
       "array(['#FoodFriday means tasty snacks throughout the day!\\n\\n : @flexible_nati\\n#haveaplant https://t.co/pNSAHV2hDh face savoring food blue heart spoon chocolate bar camera',\n",
       "       'F U E L E D F R I D A Y\\nLooking for a fun, colorful and healthy recipe to kick off the new year? Well, check out this delicious and beautiful dish!\\n・・・\\nEggs baked in Veggie Nests. Head over to our insta for the recipe. \\n\\n#fueledfriday #foodfriday #runinrabbit #borntorunfree https://t.co/2Fwez5uYb2 drooling face',\n",
       "       'Kummer reminds you to stay hydrated #foodfriday https://t.co/rkZmatd97f',\n",
       "       'Commercial #Kitchens need attention at a great price!  Rhino Shine has a solid plan unlike #JasonGarrett future . #Dallas #winning #coupons #restaurant #hood #cleaning #foodfriday #trucks https://t.co/U0V5BO33uo rhinoceros man shrugging light skin tone',\n",
       "       \"Mary's Meals is changing lives in Zimbabwe https://t.co/bioEZAt47N #feelgoodfriday #FoodFriday\",\n",
       "       'Will meat alternatives continue gaining popularity in 2020? https://t.co/wzvi1XOBmj via @YourMorning ht  @LetsTalkScience  #food #health #diet #nutrition #meatless #plantbased #Vegan #vegetarian #HealthyLiving #HealthyEating #BusinessGrowth #business #FoodFriday leafy green hamburger money-mouth face',\n",
       "       'These are our top five healthy recipes that you can throw together in the morning and enjoy in the evening (as well as take leftovers for lunch the next day).\\n#FoodFriday #EatHealthy #NewYearNewYou #PersonalTraining #FitnessTogether                       https://t.co/TiKGdeqr1p',\n",
       "       \"Burned out on cooking after the holidays? Here's a selection of quick and easy meals to get you inspired #FoodFriday\\nhttps://t.co/uLYOPeQHQc https://t.co/nyWopWqh79\",\n",
       "       'Will you eat lettuce that is not grown in soil? Large scale #Hydroponics can produce hyper local food in a small space, even shipping containers or in your own home. https://t.co/Ogy8UgHMUt #FoodFriday',\n",
       "       '#FoodFriday: Is it possible to treat things like anxiety and depression with food? https://t.co/93Ez7VwziK\\n#KinderInTheKeys #MentalHealth #Anxiety #PTSD #Depression #Trauma #Recovery #Healing #Treatment #Food #Wellness',\n",
       "       \"Foodies, this particular country is one of our FAV when it comes to FOOD!! \\n\\nLet's see if you can guess it!! \\n\\n#FoodFriday #GuessGame #Guess #Fun #FridayThoughts #foodie https://t.co/gK3x3uMArb shallow pan of food pot of food green salad steaming bowl nerd face\",\n",
       "       'Today is usually #FoodFriday on this timeline.\\n\\nI tweet about food. \\n\\nIf you can postpone your instant gratification from bad foods, you can postpone bad habits in your life.\\n\\nHow you approach food is evidently how you approach your other aspects of life.\\n\\n#FoodFriday',\n",
       "       \"#FoodFriday\\n\\nWhat are you cookin' up today or this weekend? What's your favorite recipe? Looking for some new ideas! https://t.co/3VRQTRCxd3\",\n",
       "       'This weeks #FoodFriday is from @WoodsideBay \\n\\nWould you be interested in a #Chef position with us?\\nThen why not visit the Darwin Escapes website, locate the Careers tab and search for our Chef vacancies \\n\\n#Jobs https://t.co/FWNknvURhn pizza grinning face',\n",
       "       'Ring in the New Year with healthy eating. Checkout #ClickNCook #healthrecipe Fruity Homemade Oatmeal. https://t.co/7XR3tw6XsH\\n#FoodFriday',\n",
       "       \"'The old fool forgot the lessons of Blodeuwedd and Frankenstein: never create anything smarter, or more ruthless, than yourself.'\\n.\\n#FoodFriday featuring cheesecake (that I'd been craving since Tuesday but been too lazy to…\\n\\n https://t.co/U6yxC4h3sz via https://t.co/Z51VYxAyBJ https://t.co/8f5Lqkp8hm camera with flash\",\n",
       "       'African star Apple (Udara).\\nRich source of vita.C is one of the wonderful fruits offered by nature with important health benefits.\\nRanging from tackling toothache, mouth gum disease, soar throat, helps in weight loss and good for expecting mothers \\n\\n#FoodFriday\\n#CoalCityConnect https://t.co/ODyfnS8VVm',\n",
       "       '#FOODFRIDAY \\nIf you love chocolate, then board the first flight to California. The Nutella Pop Up Hotel is about to open. Discover more in this video. Do you know? Nutella is an Italian product...of course!\\n#italy #food #nutella #language #school… https://t.co/bgG5haT6mQ https://t.co/gw0JhCqZHE Italy chocolate bar',\n",
       "       '#foodfriday @baghdadcafeCT hey offer a variety of delicious foods, from pizza to tacos and sticky wings! For your convenience they also avail on @ubereats_za https://t.co/P8sdNvfMcg',\n",
       "       'This Mangalorean special chicken curry can be paired best with neer dosa or steamed rice. What’s your pick?\\nRecipe Link: https://t.co/iyYCpcuoeA\\n#FoodFriday https://t.co/Bke1o79Zio'],\n",
       "      dtype=object)"
      ]
     },
     "execution_count": 33,
     "metadata": {},
     "output_type": "execute_result"
    }
   ],
   "source": [
    "df['text_clean'].tail(20).values"
   ]
  },
  {
   "cell_type": "code",
   "execution_count": 34,
   "id": "ceb42788",
   "metadata": {
    "execution": {
     "iopub.execute_input": "2023-02-16T11:22:02.982704Z",
     "iopub.status.busy": "2023-02-16T11:22:02.982255Z",
     "iopub.status.idle": "2023-02-16T11:22:02.989891Z",
     "shell.execute_reply": "2023-02-16T11:22:02.988969Z"
    },
    "papermill": {
     "duration": 0.024284,
     "end_time": "2023-02-16T11:22:02.992312",
     "exception": false,
     "start_time": "2023-02-16T11:22:02.968028",
     "status": "completed"
    },
    "tags": []
   },
   "outputs": [
    {
     "data": {
      "text/plain": [
       "array(['foodfriday means tasty snacks throughout the day haveaplant face savoring food blue heart spoon chocolate bar camera',\n",
       "       'f u e l e d f r i d a y looking for a fun colorful and healthy recipe to kick off the new year well check out this delicious and beautiful dish eggs baked in veggie nests head over to our insta for the recipe fueledfriday foodfriday runinrabbit borntorunfree drooling face',\n",
       "       'kummer reminds you to stay hydrated foodfriday',\n",
       "       'commercial kitchens need attention at a great price rhino shine has a solid plan unlike jasongarrett future dallas winning coupons restaurant hood cleaning foodfriday trucks rhinoceros man shrugging light skin tone',\n",
       "       'marys meals is changing lives in zimbabwe feelgoodfriday foodfriday',\n",
       "       'will meat alternatives continue gaining popularity in 2020 via ht food health diet nutrition meatless plantbased vegan vegetarian healthyliving healthyeating businessgrowth business foodfriday leafy green hamburger moneymouth face',\n",
       "       'these are our top five healthy recipes that you can throw together in the morning and enjoy in the evening as well as take leftovers for lunch the next day foodfriday eathealthy newyearnewyou personaltraining fitnesstogether',\n",
       "       'burned out on cooking after the holidays heres a selection of quick and easy meals to get you inspired foodfriday',\n",
       "       'will you eat lettuce that is not grown in soil large scale hydroponics can produce hyper local food in a small space even shipping containers or in your own home foodfriday',\n",
       "       'foodfriday is it possible to treat things like anxiety and depression with food kinderinthekeys mentalhealth anxiety ptsd depression trauma recovery healing treatment food wellness',\n",
       "       'foodies this particular country is one of our fav when it comes to food lets see if you can guess it foodfriday guessgame guess fun fridaythoughts foodie shallow pan of food pot of food green salad steaming bowl nerd face',\n",
       "       'today is usually foodfriday on this timeline i tweet about food if you can postpone your instant gratification from bad foods you can postpone bad habits in your life how you approach food is evidently how you approach your other aspects of life foodfriday',\n",
       "       'foodfriday what are you cookin up today or this weekend whats your favorite recipe looking for some new ideas',\n",
       "       'this weeks foodfriday is from would you be interested in a chef position with us then why not visit the darwin escapes website locate the careers tab and search for our chef vacancies jobs pizza grinning face',\n",
       "       'ring in the new year with healthy eating checkout clickncook healthrecipe fruity homemade oatmeal foodfriday',\n",
       "       'the old fool forgot the lessons of blodeuwedd and frankenstein never create anything smarter or more ruthless than yourself foodfriday featuring cheesecake that id been craving since tuesday but been too lazy to via camera with flash',\n",
       "       'african star apple udara rich source of vitac is one of the wonderful fruits offered by nature with important health benefits ranging from tackling toothache mouth gum disease soar throat helps in weight loss and good for expecting mothers foodfriday coalcityconnect',\n",
       "       'foodfriday if you love chocolate then board the first flight to california the nutella pop up hotel is about to open discover more in this video do you know nutella is an italian productof course italy food nutella language school italy chocolate bar',\n",
       "       'foodfriday hey offer a variety of delicious foods from pizza to tacos and sticky wings for your convenience they also avail on',\n",
       "       'this mangalorean special chicken curry can be paired best with neer dosa or steamed rice whats your pick recipe link foodfriday'],\n",
       "      dtype=object)"
      ]
     },
     "execution_count": 34,
     "metadata": {},
     "output_type": "execute_result"
    }
   ],
   "source": [
    "df['text_clean_deeper'].tail(20).values"
   ]
  },
  {
   "cell_type": "code",
   "execution_count": null,
   "id": "023da0be",
   "metadata": {
    "papermill": {
     "duration": 0.011774,
     "end_time": "2023-02-16T11:22:03.016452",
     "exception": false,
     "start_time": "2023-02-16T11:22:03.004678",
     "status": "completed"
    },
    "tags": []
   },
   "outputs": [],
   "source": []
  }
 ],
 "metadata": {
  "kernelspec": {
   "display_name": "Python 3",
   "language": "python",
   "name": "python3"
  },
  "language_info": {
   "codemirror_mode": {
    "name": "ipython",
    "version": 3
   },
   "file_extension": ".py",
   "mimetype": "text/x-python",
   "name": "python",
   "nbconvert_exporter": "python",
   "pygments_lexer": "ipython3",
   "version": "3.7.12"
  },
  "papermill": {
   "default_parameters": {},
   "duration": 147.212832,
   "end_time": "2023-02-16T11:22:06.234995",
   "environment_variables": {},
   "exception": null,
   "input_path": "__notebook__.ipynb",
   "output_path": "__notebook__.ipynb",
   "parameters": {},
   "start_time": "2023-02-16T11:19:39.022163",
   "version": "2.3.4"
  },
  "widgets": {
   "application/vnd.jupyter.widget-state+json": {
    "state": {
     "030e76df28244f09b797b9cdc43979d4": {
      "model_module": "@jupyter-widgets/base",
      "model_module_version": "1.2.0",
      "model_name": "LayoutModel",
      "state": {
       "_model_module": "@jupyter-widgets/base",
       "_model_module_version": "1.2.0",
       "_model_name": "LayoutModel",
       "_view_count": null,
       "_view_module": "@jupyter-widgets/base",
       "_view_module_version": "1.2.0",
       "_view_name": "LayoutView",
       "align_content": null,
       "align_items": null,
       "align_self": null,
       "border": null,
       "bottom": null,
       "display": null,
       "flex": null,
       "flex_flow": null,
       "grid_area": null,
       "grid_auto_columns": null,
       "grid_auto_flow": null,
       "grid_auto_rows": null,
       "grid_column": null,
       "grid_gap": null,
       "grid_row": null,
       "grid_template_areas": null,
       "grid_template_columns": null,
       "grid_template_rows": null,
       "height": null,
       "justify_content": null,
       "justify_items": null,
       "left": null,
       "margin": null,
       "max_height": null,
       "max_width": null,
       "min_height": null,
       "min_width": null,
       "object_fit": null,
       "object_position": null,
       "order": null,
       "overflow": null,
       "overflow_x": null,
       "overflow_y": null,
       "padding": null,
       "right": null,
       "top": null,
       "visibility": null,
       "width": null
      }
     },
     "0a6183532630410dbb0172e5b06c2c86": {
      "model_module": "@jupyter-widgets/controls",
      "model_module_version": "1.5.0",
      "model_name": "HTMLModel",
      "state": {
       "_dom_classes": [],
       "_model_module": "@jupyter-widgets/controls",
       "_model_module_version": "1.5.0",
       "_model_name": "HTMLModel",
       "_view_count": null,
       "_view_module": "@jupyter-widgets/controls",
       "_view_module_version": "1.5.0",
       "_view_name": "HTMLView",
       "description": "",
       "description_tooltip": null,
       "layout": "IPY_MODEL_2cbc5f587890487597a173d5c1e72eb2",
       "placeholder": "​",
       "style": "IPY_MODEL_0eb3a5f68fdf471cb6e9648b06b2e85f",
       "value": "Downloading: 100%"
      }
     },
     "0e12736198324f3b8188fa20feda78aa": {
      "model_module": "@jupyter-widgets/controls",
      "model_module_version": "1.5.0",
      "model_name": "FloatProgressModel",
      "state": {
       "_dom_classes": [],
       "_model_module": "@jupyter-widgets/controls",
       "_model_module_version": "1.5.0",
       "_model_name": "FloatProgressModel",
       "_view_count": null,
       "_view_module": "@jupyter-widgets/controls",
       "_view_module_version": "1.5.0",
       "_view_name": "ProgressView",
       "bar_style": "success",
       "description": "",
       "description_tooltip": null,
       "layout": "IPY_MODEL_6ee5730fd1c946c296909d8f8ef4cffc",
       "max": 458495.0,
       "min": 0.0,
       "orientation": "horizontal",
       "style": "IPY_MODEL_c7077563456b4910b45a9b184a8145a7",
       "value": 458495.0
      }
     },
     "0e571a812d464b21991e8d791ecb7d1e": {
      "model_module": "@jupyter-widgets/controls",
      "model_module_version": "1.5.0",
      "model_name": "HTMLModel",
      "state": {
       "_dom_classes": [],
       "_model_module": "@jupyter-widgets/controls",
       "_model_module_version": "1.5.0",
       "_model_name": "HTMLModel",
       "_view_count": null,
       "_view_module": "@jupyter-widgets/controls",
       "_view_module_version": "1.5.0",
       "_view_name": "HTMLView",
       "description": "",
       "description_tooltip": null,
       "layout": "IPY_MODEL_c80c1f3b07b54a3cb3504d90c789165f",
       "placeholder": "​",
       "style": "IPY_MODEL_7aeeea0bf1604ec790945d8309408d3a",
       "value": " 1.21M/1.21M [00:00&lt;00:00, 1.29MB/s]"
      }
     },
     "0eb3a5f68fdf471cb6e9648b06b2e85f": {
      "model_module": "@jupyter-widgets/controls",
      "model_module_version": "1.5.0",
      "model_name": "DescriptionStyleModel",
      "state": {
       "_model_module": "@jupyter-widgets/controls",
       "_model_module_version": "1.5.0",
       "_model_name": "DescriptionStyleModel",
       "_view_count": null,
       "_view_module": "@jupyter-widgets/base",
       "_view_module_version": "1.2.0",
       "_view_name": "StyleView",
       "description_width": ""
      }
     },
     "111f427ebc464ba982e492e017775f44": {
      "model_module": "@jupyter-widgets/controls",
      "model_module_version": "1.5.0",
      "model_name": "HTMLModel",
      "state": {
       "_dom_classes": [],
       "_model_module": "@jupyter-widgets/controls",
       "_model_module_version": "1.5.0",
       "_model_name": "HTMLModel",
       "_view_count": null,
       "_view_module": "@jupyter-widgets/controls",
       "_view_module_version": "1.5.0",
       "_view_name": "HTMLView",
       "description": "",
       "description_tooltip": null,
       "layout": "IPY_MODEL_6afc1d805b074004ade0000c5429157d",
       "placeholder": "​",
       "style": "IPY_MODEL_2a25e90a96d64a65a39a7b8bb09c7645",
       "value": "Downloading: 100%"
      }
     },
     "131adf3523d3476da7ec296ced7ef21e": {
      "model_module": "@jupyter-widgets/base",
      "model_module_version": "1.2.0",
      "model_name": "LayoutModel",
      "state": {
       "_model_module": "@jupyter-widgets/base",
       "_model_module_version": "1.2.0",
       "_model_name": "LayoutModel",
       "_view_count": null,
       "_view_module": "@jupyter-widgets/base",
       "_view_module_version": "1.2.0",
       "_view_name": "LayoutView",
       "align_content": null,
       "align_items": null,
       "align_self": null,
       "border": null,
       "bottom": null,
       "display": null,
       "flex": null,
       "flex_flow": null,
       "grid_area": null,
       "grid_auto_columns": null,
       "grid_auto_flow": null,
       "grid_auto_rows": null,
       "grid_column": null,
       "grid_gap": null,
       "grid_row": null,
       "grid_template_areas": null,
       "grid_template_columns": null,
       "grid_template_rows": null,
       "height": null,
       "justify_content": null,
       "justify_items": null,
       "left": null,
       "margin": null,
       "max_height": null,
       "max_width": null,
       "min_height": null,
       "min_width": null,
       "object_fit": null,
       "object_position": null,
       "order": null,
       "overflow": null,
       "overflow_x": null,
       "overflow_y": null,
       "padding": null,
       "right": null,
       "top": null,
       "visibility": null,
       "width": null
      }
     },
     "17ab568bbb744d85a54ab5afe5ad6a35": {
      "model_module": "@jupyter-widgets/controls",
      "model_module_version": "1.5.0",
      "model_name": "FloatProgressModel",
      "state": {
       "_dom_classes": [],
       "_model_module": "@jupyter-widgets/controls",
       "_model_module_version": "1.5.0",
       "_model_name": "FloatProgressModel",
       "_view_count": null,
       "_view_module": "@jupyter-widgets/controls",
       "_view_module_version": "1.5.0",
       "_view_name": "ProgressView",
       "bar_style": "success",
       "description": "",
       "description_tooltip": null,
       "layout": "IPY_MODEL_5aa2948157bd4828ae5df1ab7191fe38",
       "max": 656.0,
       "min": 0.0,
       "orientation": "horizontal",
       "style": "IPY_MODEL_467a341dd851434e845e282221ef3d26",
       "value": 656.0
      }
     },
     "1f006e8298154652990a88f127600a4d": {
      "model_module": "@jupyter-widgets/controls",
      "model_module_version": "1.5.0",
      "model_name": "FloatProgressModel",
      "state": {
       "_dom_classes": [],
       "_model_module": "@jupyter-widgets/controls",
       "_model_module_version": "1.5.0",
       "_model_name": "FloatProgressModel",
       "_view_count": null,
       "_view_module": "@jupyter-widgets/controls",
       "_view_module_version": "1.5.0",
       "_view_name": "ProgressView",
       "bar_style": "success",
       "description": "",
       "description_tooltip": null,
       "layout": "IPY_MODEL_af0e0fd412ec4b03bcd8eb99ab604e02",
       "max": 570.0,
       "min": 0.0,
       "orientation": "horizontal",
       "style": "IPY_MODEL_acd87fc622f24122a361da7921176c24",
       "value": 570.0
      }
     },
     "21733a7b2ecc4b26b07889f8849a1b5c": {
      "model_module": "@jupyter-widgets/controls",
      "model_module_version": "1.5.0",
      "model_name": "DescriptionStyleModel",
      "state": {
       "_model_module": "@jupyter-widgets/controls",
       "_model_module_version": "1.5.0",
       "_model_name": "DescriptionStyleModel",
       "_view_count": null,
       "_view_module": "@jupyter-widgets/base",
       "_view_module_version": "1.2.0",
       "_view_name": "StyleView",
       "description_width": ""
      }
     },
     "25305581cd29483da1c532d920afdc19": {
      "model_module": "@jupyter-widgets/base",
      "model_module_version": "1.2.0",
      "model_name": "LayoutModel",
      "state": {
       "_model_module": "@jupyter-widgets/base",
       "_model_module_version": "1.2.0",
       "_model_name": "LayoutModel",
       "_view_count": null,
       "_view_module": "@jupyter-widgets/base",
       "_view_module_version": "1.2.0",
       "_view_name": "LayoutView",
       "align_content": null,
       "align_items": null,
       "align_self": null,
       "border": null,
       "bottom": null,
       "display": null,
       "flex": null,
       "flex_flow": null,
       "grid_area": null,
       "grid_auto_columns": null,
       "grid_auto_flow": null,
       "grid_auto_rows": null,
       "grid_column": null,
       "grid_gap": null,
       "grid_row": null,
       "grid_template_areas": null,
       "grid_template_columns": null,
       "grid_template_rows": null,
       "height": null,
       "justify_content": null,
       "justify_items": null,
       "left": null,
       "margin": null,
       "max_height": null,
       "max_width": null,
       "min_height": null,
       "min_width": null,
       "object_fit": null,
       "object_position": null,
       "order": null,
       "overflow": null,
       "overflow_x": null,
       "overflow_y": null,
       "padding": null,
       "right": null,
       "top": null,
       "visibility": null,
       "width": null
      }
     },
     "260248dfb1164d2ea83da429ba4caf59": {
      "model_module": "@jupyter-widgets/base",
      "model_module_version": "1.2.0",
      "model_name": "LayoutModel",
      "state": {
       "_model_module": "@jupyter-widgets/base",
       "_model_module_version": "1.2.0",
       "_model_name": "LayoutModel",
       "_view_count": null,
       "_view_module": "@jupyter-widgets/base",
       "_view_module_version": "1.2.0",
       "_view_name": "LayoutView",
       "align_content": null,
       "align_items": null,
       "align_self": null,
       "border": null,
       "bottom": null,
       "display": null,
       "flex": null,
       "flex_flow": null,
       "grid_area": null,
       "grid_auto_columns": null,
       "grid_auto_flow": null,
       "grid_auto_rows": null,
       "grid_column": null,
       "grid_gap": null,
       "grid_row": null,
       "grid_template_areas": null,
       "grid_template_columns": null,
       "grid_template_rows": null,
       "height": null,
       "justify_content": null,
       "justify_items": null,
       "left": null,
       "margin": null,
       "max_height": null,
       "max_width": null,
       "min_height": null,
       "min_width": null,
       "object_fit": null,
       "object_position": null,
       "order": null,
       "overflow": null,
       "overflow_x": null,
       "overflow_y": null,
       "padding": null,
       "right": null,
       "top": null,
       "visibility": null,
       "width": null
      }
     },
     "27a35dba4e2e4ab89440307b4e2733a3": {
      "model_module": "@jupyter-widgets/base",
      "model_module_version": "1.2.0",
      "model_name": "LayoutModel",
      "state": {
       "_model_module": "@jupyter-widgets/base",
       "_model_module_version": "1.2.0",
       "_model_name": "LayoutModel",
       "_view_count": null,
       "_view_module": "@jupyter-widgets/base",
       "_view_module_version": "1.2.0",
       "_view_name": "LayoutView",
       "align_content": null,
       "align_items": null,
       "align_self": null,
       "border": null,
       "bottom": null,
       "display": null,
       "flex": null,
       "flex_flow": null,
       "grid_area": null,
       "grid_auto_columns": null,
       "grid_auto_flow": null,
       "grid_auto_rows": null,
       "grid_column": null,
       "grid_gap": null,
       "grid_row": null,
       "grid_template_areas": null,
       "grid_template_columns": null,
       "grid_template_rows": null,
       "height": null,
       "justify_content": null,
       "justify_items": null,
       "left": null,
       "margin": null,
       "max_height": null,
       "max_width": null,
       "min_height": null,
       "min_width": null,
       "object_fit": null,
       "object_position": null,
       "order": null,
       "overflow": null,
       "overflow_x": null,
       "overflow_y": null,
       "padding": null,
       "right": null,
       "top": null,
       "visibility": null,
       "width": null
      }
     },
     "2a25e90a96d64a65a39a7b8bb09c7645": {
      "model_module": "@jupyter-widgets/controls",
      "model_module_version": "1.5.0",
      "model_name": "DescriptionStyleModel",
      "state": {
       "_model_module": "@jupyter-widgets/controls",
       "_model_module_version": "1.5.0",
       "_model_name": "DescriptionStyleModel",
       "_view_count": null,
       "_view_module": "@jupyter-widgets/base",
       "_view_module_version": "1.2.0",
       "_view_name": "StyleView",
       "description_width": ""
      }
     },
     "2a7b033cfd41464299af6fa32a978c49": {
      "model_module": "@jupyter-widgets/base",
      "model_module_version": "1.2.0",
      "model_name": "LayoutModel",
      "state": {
       "_model_module": "@jupyter-widgets/base",
       "_model_module_version": "1.2.0",
       "_model_name": "LayoutModel",
       "_view_count": null,
       "_view_module": "@jupyter-widgets/base",
       "_view_module_version": "1.2.0",
       "_view_name": "LayoutView",
       "align_content": null,
       "align_items": null,
       "align_self": null,
       "border": null,
       "bottom": null,
       "display": null,
       "flex": null,
       "flex_flow": null,
       "grid_area": null,
       "grid_auto_columns": null,
       "grid_auto_flow": null,
       "grid_auto_rows": null,
       "grid_column": null,
       "grid_gap": null,
       "grid_row": null,
       "grid_template_areas": null,
       "grid_template_columns": null,
       "grid_template_rows": null,
       "height": null,
       "justify_content": null,
       "justify_items": null,
       "left": null,
       "margin": null,
       "max_height": null,
       "max_width": null,
       "min_height": null,
       "min_width": null,
       "object_fit": null,
       "object_position": null,
       "order": null,
       "overflow": null,
       "overflow_x": null,
       "overflow_y": null,
       "padding": null,
       "right": null,
       "top": null,
       "visibility": null,
       "width": null
      }
     },
     "2cbc5f587890487597a173d5c1e72eb2": {
      "model_module": "@jupyter-widgets/base",
      "model_module_version": "1.2.0",
      "model_name": "LayoutModel",
      "state": {
       "_model_module": "@jupyter-widgets/base",
       "_model_module_version": "1.2.0",
       "_model_name": "LayoutModel",
       "_view_count": null,
       "_view_module": "@jupyter-widgets/base",
       "_view_module_version": "1.2.0",
       "_view_name": "LayoutView",
       "align_content": null,
       "align_items": null,
       "align_self": null,
       "border": null,
       "bottom": null,
       "display": null,
       "flex": null,
       "flex_flow": null,
       "grid_area": null,
       "grid_auto_columns": null,
       "grid_auto_flow": null,
       "grid_auto_rows": null,
       "grid_column": null,
       "grid_gap": null,
       "grid_row": null,
       "grid_template_areas": null,
       "grid_template_columns": null,
       "grid_template_rows": null,
       "height": null,
       "justify_content": null,
       "justify_items": null,
       "left": null,
       "margin": null,
       "max_height": null,
       "max_width": null,
       "min_height": null,
       "min_width": null,
       "object_fit": null,
       "object_position": null,
       "order": null,
       "overflow": null,
       "overflow_x": null,
       "overflow_y": null,
       "padding": null,
       "right": null,
       "top": null,
       "visibility": null,
       "width": null
      }
     },
     "2e638fa94512403eaee958952be44acc": {
      "model_module": "@jupyter-widgets/base",
      "model_module_version": "1.2.0",
      "model_name": "LayoutModel",
      "state": {
       "_model_module": "@jupyter-widgets/base",
       "_model_module_version": "1.2.0",
       "_model_name": "LayoutModel",
       "_view_count": null,
       "_view_module": "@jupyter-widgets/base",
       "_view_module_version": "1.2.0",
       "_view_name": "LayoutView",
       "align_content": null,
       "align_items": null,
       "align_self": null,
       "border": null,
       "bottom": null,
       "display": null,
       "flex": null,
       "flex_flow": null,
       "grid_area": null,
       "grid_auto_columns": null,
       "grid_auto_flow": null,
       "grid_auto_rows": null,
       "grid_column": null,
       "grid_gap": null,
       "grid_row": null,
       "grid_template_areas": null,
       "grid_template_columns": null,
       "grid_template_rows": null,
       "height": null,
       "justify_content": null,
       "justify_items": null,
       "left": null,
       "margin": null,
       "max_height": null,
       "max_width": null,
       "min_height": null,
       "min_width": null,
       "object_fit": null,
       "object_position": null,
       "order": null,
       "overflow": null,
       "overflow_x": null,
       "overflow_y": null,
       "padding": null,
       "right": null,
       "top": null,
       "visibility": null,
       "width": null
      }
     },
     "2f586e1685ea4148879545bc9e9652ca": {
      "model_module": "@jupyter-widgets/controls",
      "model_module_version": "1.5.0",
      "model_name": "HTMLModel",
      "state": {
       "_dom_classes": [],
       "_model_module": "@jupyter-widgets/controls",
       "_model_module_version": "1.5.0",
       "_model_name": "HTMLModel",
       "_view_count": null,
       "_view_module": "@jupyter-widgets/controls",
       "_view_module_version": "1.5.0",
       "_view_name": "HTMLView",
       "description": "",
       "description_tooltip": null,
       "layout": "IPY_MODEL_4560a114f6424469bb29768b10ccc588",
       "placeholder": "​",
       "style": "IPY_MODEL_4c6172e565434178bf3e850e6194fda7",
       "value": "Downloading: 100%"
      }
     },
     "3d30b918abd348069fecc4b4530ec94c": {
      "model_module": "@jupyter-widgets/controls",
      "model_module_version": "1.5.0",
      "model_name": "FloatProgressModel",
      "state": {
       "_dom_classes": [],
       "_model_module": "@jupyter-widgets/controls",
       "_model_module_version": "1.5.0",
       "_model_name": "FloatProgressModel",
       "_view_count": null,
       "_view_module": "@jupyter-widgets/controls",
       "_view_module_version": "1.5.0",
       "_view_name": "ProgressView",
       "bar_style": "success",
       "description": "",
       "description_tooltip": null,
       "layout": "IPY_MODEL_de707ea1a3fe4dd0bd81555d7b4b7184",
       "max": 231508.0,
       "min": 0.0,
       "orientation": "horizontal",
       "style": "IPY_MODEL_f0f10d012b874505a288705b4841d41b",
       "value": 231508.0
      }
     },
     "3f596b3534564d48b2424d1349be2ede": {
      "model_module": "@jupyter-widgets/controls",
      "model_module_version": "1.5.0",
      "model_name": "HTMLModel",
      "state": {
       "_dom_classes": [],
       "_model_module": "@jupyter-widgets/controls",
       "_model_module_version": "1.5.0",
       "_model_name": "HTMLModel",
       "_view_count": null,
       "_view_module": "@jupyter-widgets/controls",
       "_view_module_version": "1.5.0",
       "_view_name": "HTMLView",
       "description": "",
       "description_tooltip": null,
       "layout": "IPY_MODEL_131adf3523d3476da7ec296ced7ef21e",
       "placeholder": "​",
       "style": "IPY_MODEL_cd8761cccf0345049dad7187de990d2b",
       "value": "Downloading: 100%"
      }
     },
     "4560a114f6424469bb29768b10ccc588": {
      "model_module": "@jupyter-widgets/base",
      "model_module_version": "1.2.0",
      "model_name": "LayoutModel",
      "state": {
       "_model_module": "@jupyter-widgets/base",
       "_model_module_version": "1.2.0",
       "_model_name": "LayoutModel",
       "_view_count": null,
       "_view_module": "@jupyter-widgets/base",
       "_view_module_version": "1.2.0",
       "_view_name": "LayoutView",
       "align_content": null,
       "align_items": null,
       "align_self": null,
       "border": null,
       "bottom": null,
       "display": null,
       "flex": null,
       "flex_flow": null,
       "grid_area": null,
       "grid_auto_columns": null,
       "grid_auto_flow": null,
       "grid_auto_rows": null,
       "grid_column": null,
       "grid_gap": null,
       "grid_row": null,
       "grid_template_areas": null,
       "grid_template_columns": null,
       "grid_template_rows": null,
       "height": null,
       "justify_content": null,
       "justify_items": null,
       "left": null,
       "margin": null,
       "max_height": null,
       "max_width": null,
       "min_height": null,
       "min_width": null,
       "object_fit": null,
       "object_position": null,
       "order": null,
       "overflow": null,
       "overflow_x": null,
       "overflow_y": null,
       "padding": null,
       "right": null,
       "top": null,
       "visibility": null,
       "width": null
      }
     },
     "4658502b7eaf48a39cb7a2cced82590a": {
      "model_module": "@jupyter-widgets/controls",
      "model_module_version": "1.5.0",
      "model_name": "HBoxModel",
      "state": {
       "_dom_classes": [],
       "_model_module": "@jupyter-widgets/controls",
       "_model_module_version": "1.5.0",
       "_model_name": "HBoxModel",
       "_view_count": null,
       "_view_module": "@jupyter-widgets/controls",
       "_view_module_version": "1.5.0",
       "_view_name": "HBoxView",
       "box_style": "",
       "children": [
        "IPY_MODEL_7bf8ad631e294c88ae8a972c1c31e026",
        "IPY_MODEL_746f16ca93ea4d9596a17a0f3aa166cd",
        "IPY_MODEL_8c36e0eac8c546eb95bb8d5b0a079dc3"
       ],
       "layout": "IPY_MODEL_b4087909fb154efcb3ce628877fcfc6f"
      }
     },
     "467a341dd851434e845e282221ef3d26": {
      "model_module": "@jupyter-widgets/controls",
      "model_module_version": "1.5.0",
      "model_name": "ProgressStyleModel",
      "state": {
       "_model_module": "@jupyter-widgets/controls",
       "_model_module_version": "1.5.0",
       "_model_name": "ProgressStyleModel",
       "_view_count": null,
       "_view_module": "@jupyter-widgets/base",
       "_view_module_version": "1.2.0",
       "_view_name": "StyleView",
       "bar_color": null,
       "description_width": ""
      }
     },
     "48cd0b8372d943f0849dcea09206c387": {
      "model_module": "@jupyter-widgets/controls",
      "model_module_version": "1.5.0",
      "model_name": "DescriptionStyleModel",
      "state": {
       "_model_module": "@jupyter-widgets/controls",
       "_model_module_version": "1.5.0",
       "_model_name": "DescriptionStyleModel",
       "_view_count": null,
       "_view_module": "@jupyter-widgets/base",
       "_view_module_version": "1.2.0",
       "_view_name": "StyleView",
       "description_width": ""
      }
     },
     "4a8c7873cf694a40b181cccad9332a11": {
      "model_module": "@jupyter-widgets/controls",
      "model_module_version": "1.5.0",
      "model_name": "DescriptionStyleModel",
      "state": {
       "_model_module": "@jupyter-widgets/controls",
       "_model_module_version": "1.5.0",
       "_model_name": "DescriptionStyleModel",
       "_view_count": null,
       "_view_module": "@jupyter-widgets/base",
       "_view_module_version": "1.2.0",
       "_view_name": "StyleView",
       "description_width": ""
      }
     },
     "4c49aba8883f48b7880ce5bb2f77bff3": {
      "model_module": "@jupyter-widgets/base",
      "model_module_version": "1.2.0",
      "model_name": "LayoutModel",
      "state": {
       "_model_module": "@jupyter-widgets/base",
       "_model_module_version": "1.2.0",
       "_model_name": "LayoutModel",
       "_view_count": null,
       "_view_module": "@jupyter-widgets/base",
       "_view_module_version": "1.2.0",
       "_view_name": "LayoutView",
       "align_content": null,
       "align_items": null,
       "align_self": null,
       "border": null,
       "bottom": null,
       "display": null,
       "flex": null,
       "flex_flow": null,
       "grid_area": null,
       "grid_auto_columns": null,
       "grid_auto_flow": null,
       "grid_auto_rows": null,
       "grid_column": null,
       "grid_gap": null,
       "grid_row": null,
       "grid_template_areas": null,
       "grid_template_columns": null,
       "grid_template_rows": null,
       "height": null,
       "justify_content": null,
       "justify_items": null,
       "left": null,
       "margin": null,
       "max_height": null,
       "max_width": null,
       "min_height": null,
       "min_width": null,
       "object_fit": null,
       "object_position": null,
       "order": null,
       "overflow": null,
       "overflow_x": null,
       "overflow_y": null,
       "padding": null,
       "right": null,
       "top": null,
       "visibility": null,
       "width": null
      }
     },
     "4c6172e565434178bf3e850e6194fda7": {
      "model_module": "@jupyter-widgets/controls",
      "model_module_version": "1.5.0",
      "model_name": "DescriptionStyleModel",
      "state": {
       "_model_module": "@jupyter-widgets/controls",
       "_model_module_version": "1.5.0",
       "_model_name": "DescriptionStyleModel",
       "_view_count": null,
       "_view_module": "@jupyter-widgets/base",
       "_view_module_version": "1.2.0",
       "_view_name": "StyleView",
       "description_width": ""
      }
     },
     "4ce3b58d364944b79759524c79d0524d": {
      "model_module": "@jupyter-widgets/controls",
      "model_module_version": "1.5.0",
      "model_name": "HTMLModel",
      "state": {
       "_dom_classes": [],
       "_model_module": "@jupyter-widgets/controls",
       "_model_module_version": "1.5.0",
       "_model_name": "HTMLModel",
       "_view_count": null,
       "_view_module": "@jupyter-widgets/controls",
       "_view_module_version": "1.5.0",
       "_view_name": "HTMLView",
       "description": "",
       "description_tooltip": null,
       "layout": "IPY_MODEL_51393cc85a964d0dacb625f2a68ca8f0",
       "placeholder": "​",
       "style": "IPY_MODEL_73607fb52cd348108b775893b3af7eb7",
       "value": " 448k/448k [00:00&lt;00:00, 684kB/s]"
      }
     },
     "51393cc85a964d0dacb625f2a68ca8f0": {
      "model_module": "@jupyter-widgets/base",
      "model_module_version": "1.2.0",
      "model_name": "LayoutModel",
      "state": {
       "_model_module": "@jupyter-widgets/base",
       "_model_module_version": "1.2.0",
       "_model_name": "LayoutModel",
       "_view_count": null,
       "_view_module": "@jupyter-widgets/base",
       "_view_module_version": "1.2.0",
       "_view_name": "LayoutView",
       "align_content": null,
       "align_items": null,
       "align_self": null,
       "border": null,
       "bottom": null,
       "display": null,
       "flex": null,
       "flex_flow": null,
       "grid_area": null,
       "grid_auto_columns": null,
       "grid_auto_flow": null,
       "grid_auto_rows": null,
       "grid_column": null,
       "grid_gap": null,
       "grid_row": null,
       "grid_template_areas": null,
       "grid_template_columns": null,
       "grid_template_rows": null,
       "height": null,
       "justify_content": null,
       "justify_items": null,
       "left": null,
       "margin": null,
       "max_height": null,
       "max_width": null,
       "min_height": null,
       "min_width": null,
       "object_fit": null,
       "object_position": null,
       "order": null,
       "overflow": null,
       "overflow_x": null,
       "overflow_y": null,
       "padding": null,
       "right": null,
       "top": null,
       "visibility": null,
       "width": null
      }
     },
     "5365b47c2aaf40ab9007cb65086b98e5": {
      "model_module": "@jupyter-widgets/controls",
      "model_module_version": "1.5.0",
      "model_name": "FloatProgressModel",
      "state": {
       "_dom_classes": [],
       "_model_module": "@jupyter-widgets/controls",
       "_model_module_version": "1.5.0",
       "_model_name": "FloatProgressModel",
       "_view_count": null,
       "_view_module": "@jupyter-widgets/controls",
       "_view_module_version": "1.5.0",
       "_view_name": "ProgressView",
       "bar_style": "success",
       "description": "",
       "description_tooltip": null,
       "layout": "IPY_MODEL_25305581cd29483da1c532d920afdc19",
       "max": 815973.0,
       "min": 0.0,
       "orientation": "horizontal",
       "style": "IPY_MODEL_f6341bdc25b94e3398b8a626294105c6",
       "value": 815973.0
      }
     },
     "54e28161bbbb462aa9f401546c3ddb4b": {
      "model_module": "@jupyter-widgets/controls",
      "model_module_version": "1.5.0",
      "model_name": "HTMLModel",
      "state": {
       "_dom_classes": [],
       "_model_module": "@jupyter-widgets/controls",
       "_model_module_version": "1.5.0",
       "_model_name": "HTMLModel",
       "_view_count": null,
       "_view_module": "@jupyter-widgets/controls",
       "_view_module_version": "1.5.0",
       "_view_name": "HTMLView",
       "description": "",
       "description_tooltip": null,
       "layout": "IPY_MODEL_2e638fa94512403eaee958952be44acc",
       "placeholder": "​",
       "style": "IPY_MODEL_8a2d8f269e9a411586509cb0a85985a0",
       "value": "Downloading: 100%"
      }
     },
     "5819adc14aa44aa4a9ea99bf83edbb38": {
      "model_module": "@jupyter-widgets/controls",
      "model_module_version": "1.5.0",
      "model_name": "HBoxModel",
      "state": {
       "_dom_classes": [],
       "_model_module": "@jupyter-widgets/controls",
       "_model_module_version": "1.5.0",
       "_model_name": "HBoxModel",
       "_view_count": null,
       "_view_module": "@jupyter-widgets/controls",
       "_view_module_version": "1.5.0",
       "_view_name": "HBoxView",
       "box_style": "",
       "children": [
        "IPY_MODEL_111f427ebc464ba982e492e017775f44",
        "IPY_MODEL_1f006e8298154652990a88f127600a4d",
        "IPY_MODEL_6cb8af716fba42f989d9361543f56306"
       ],
       "layout": "IPY_MODEL_f43cd59f98b149da887c027eada92bdd"
      }
     },
     "595ea6d1e5044713ab0280ef14466616": {
      "model_module": "@jupyter-widgets/controls",
      "model_module_version": "1.5.0",
      "model_name": "FloatProgressModel",
      "state": {
       "_dom_classes": [],
       "_model_module": "@jupyter-widgets/controls",
       "_model_module_version": "1.5.0",
       "_model_name": "FloatProgressModel",
       "_view_count": null,
       "_view_module": "@jupyter-widgets/controls",
       "_view_module_version": "1.5.0",
       "_view_name": "ProgressView",
       "bar_style": "success",
       "description": "",
       "description_tooltip": null,
       "layout": "IPY_MODEL_ab7167b0fcc84513b79765c068066e01",
       "max": 466062.0,
       "min": 0.0,
       "orientation": "horizontal",
       "style": "IPY_MODEL_de1148cfd3794d24ac562559f623f282",
       "value": 466062.0
      }
     },
     "5aa2948157bd4828ae5df1ab7191fe38": {
      "model_module": "@jupyter-widgets/base",
      "model_module_version": "1.2.0",
      "model_name": "LayoutModel",
      "state": {
       "_model_module": "@jupyter-widgets/base",
       "_model_module_version": "1.2.0",
       "_model_name": "LayoutModel",
       "_view_count": null,
       "_view_module": "@jupyter-widgets/base",
       "_view_module_version": "1.2.0",
       "_view_name": "LayoutView",
       "align_content": null,
       "align_items": null,
       "align_self": null,
       "border": null,
       "bottom": null,
       "display": null,
       "flex": null,
       "flex_flow": null,
       "grid_area": null,
       "grid_auto_columns": null,
       "grid_auto_flow": null,
       "grid_auto_rows": null,
       "grid_column": null,
       "grid_gap": null,
       "grid_row": null,
       "grid_template_areas": null,
       "grid_template_columns": null,
       "grid_template_rows": null,
       "height": null,
       "justify_content": null,
       "justify_items": null,
       "left": null,
       "margin": null,
       "max_height": null,
       "max_width": null,
       "min_height": null,
       "min_width": null,
       "object_fit": null,
       "object_position": null,
       "order": null,
       "overflow": null,
       "overflow_x": null,
       "overflow_y": null,
       "padding": null,
       "right": null,
       "top": null,
       "visibility": null,
       "width": null
      }
     },
     "6127ee495c7c48c383482eda43d3c20d": {
      "model_module": "@jupyter-widgets/base",
      "model_module_version": "1.2.0",
      "model_name": "LayoutModel",
      "state": {
       "_model_module": "@jupyter-widgets/base",
       "_model_module_version": "1.2.0",
       "_model_name": "LayoutModel",
       "_view_count": null,
       "_view_module": "@jupyter-widgets/base",
       "_view_module_version": "1.2.0",
       "_view_name": "LayoutView",
       "align_content": null,
       "align_items": null,
       "align_self": null,
       "border": null,
       "bottom": null,
       "display": null,
       "flex": null,
       "flex_flow": null,
       "grid_area": null,
       "grid_auto_columns": null,
       "grid_auto_flow": null,
       "grid_auto_rows": null,
       "grid_column": null,
       "grid_gap": null,
       "grid_row": null,
       "grid_template_areas": null,
       "grid_template_columns": null,
       "grid_template_rows": null,
       "height": null,
       "justify_content": null,
       "justify_items": null,
       "left": null,
       "margin": null,
       "max_height": null,
       "max_width": null,
       "min_height": null,
       "min_width": null,
       "object_fit": null,
       "object_position": null,
       "order": null,
       "overflow": null,
       "overflow_x": null,
       "overflow_y": null,
       "padding": null,
       "right": null,
       "top": null,
       "visibility": null,
       "width": null
      }
     },
     "61fc07d309bd43a4a0190139c76e7b4b": {
      "model_module": "@jupyter-widgets/controls",
      "model_module_version": "1.5.0",
      "model_name": "HTMLModel",
      "state": {
       "_dom_classes": [],
       "_model_module": "@jupyter-widgets/controls",
       "_model_module_version": "1.5.0",
       "_model_name": "HTMLModel",
       "_view_count": null,
       "_view_module": "@jupyter-widgets/controls",
       "_view_module_version": "1.5.0",
       "_view_name": "HTMLView",
       "description": "",
       "description_tooltip": null,
       "layout": "IPY_MODEL_6127ee495c7c48c383482eda43d3c20d",
       "placeholder": "​",
       "style": "IPY_MODEL_7fe6337168a343cf99b0d75a98cf2c1f",
       "value": " 656/656 [00:00&lt;00:00, 22.3kB/s]"
      }
     },
     "62523795801244c4b1e48173c5fc5a60": {
      "model_module": "@jupyter-widgets/base",
      "model_module_version": "1.2.0",
      "model_name": "LayoutModel",
      "state": {
       "_model_module": "@jupyter-widgets/base",
       "_model_module_version": "1.2.0",
       "_model_name": "LayoutModel",
       "_view_count": null,
       "_view_module": "@jupyter-widgets/base",
       "_view_module_version": "1.2.0",
       "_view_name": "LayoutView",
       "align_content": null,
       "align_items": null,
       "align_self": null,
       "border": null,
       "bottom": null,
       "display": null,
       "flex": null,
       "flex_flow": null,
       "grid_area": null,
       "grid_auto_columns": null,
       "grid_auto_flow": null,
       "grid_auto_rows": null,
       "grid_column": null,
       "grid_gap": null,
       "grid_row": null,
       "grid_template_areas": null,
       "grid_template_columns": null,
       "grid_template_rows": null,
       "height": null,
       "justify_content": null,
       "justify_items": null,
       "left": null,
       "margin": null,
       "max_height": null,
       "max_width": null,
       "min_height": null,
       "min_width": null,
       "object_fit": null,
       "object_position": null,
       "order": null,
       "overflow": null,
       "overflow_x": null,
       "overflow_y": null,
       "padding": null,
       "right": null,
       "top": null,
       "visibility": null,
       "width": null
      }
     },
     "6afc1d805b074004ade0000c5429157d": {
      "model_module": "@jupyter-widgets/base",
      "model_module_version": "1.2.0",
      "model_name": "LayoutModel",
      "state": {
       "_model_module": "@jupyter-widgets/base",
       "_model_module_version": "1.2.0",
       "_model_name": "LayoutModel",
       "_view_count": null,
       "_view_module": "@jupyter-widgets/base",
       "_view_module_version": "1.2.0",
       "_view_name": "LayoutView",
       "align_content": null,
       "align_items": null,
       "align_self": null,
       "border": null,
       "bottom": null,
       "display": null,
       "flex": null,
       "flex_flow": null,
       "grid_area": null,
       "grid_auto_columns": null,
       "grid_auto_flow": null,
       "grid_auto_rows": null,
       "grid_column": null,
       "grid_gap": null,
       "grid_row": null,
       "grid_template_areas": null,
       "grid_template_columns": null,
       "grid_template_rows": null,
       "height": null,
       "justify_content": null,
       "justify_items": null,
       "left": null,
       "margin": null,
       "max_height": null,
       "max_width": null,
       "min_height": null,
       "min_width": null,
       "object_fit": null,
       "object_position": null,
       "order": null,
       "overflow": null,
       "overflow_x": null,
       "overflow_y": null,
       "padding": null,
       "right": null,
       "top": null,
       "visibility": null,
       "width": null
      }
     },
     "6cb8af716fba42f989d9361543f56306": {
      "model_module": "@jupyter-widgets/controls",
      "model_module_version": "1.5.0",
      "model_name": "HTMLModel",
      "state": {
       "_dom_classes": [],
       "_model_module": "@jupyter-widgets/controls",
       "_model_module_version": "1.5.0",
       "_model_name": "HTMLModel",
       "_view_count": null,
       "_view_module": "@jupyter-widgets/controls",
       "_view_module_version": "1.5.0",
       "_view_name": "HTMLView",
       "description": "",
       "description_tooltip": null,
       "layout": "IPY_MODEL_4c49aba8883f48b7880ce5bb2f77bff3",
       "placeholder": "​",
       "style": "IPY_MODEL_21733a7b2ecc4b26b07889f8849a1b5c",
       "value": " 570/570 [00:00&lt;00:00, 18.4kB/s]"
      }
     },
     "6ee5730fd1c946c296909d8f8ef4cffc": {
      "model_module": "@jupyter-widgets/base",
      "model_module_version": "1.2.0",
      "model_name": "LayoutModel",
      "state": {
       "_model_module": "@jupyter-widgets/base",
       "_model_module_version": "1.2.0",
       "_model_name": "LayoutModel",
       "_view_count": null,
       "_view_module": "@jupyter-widgets/base",
       "_view_module_version": "1.2.0",
       "_view_name": "LayoutView",
       "align_content": null,
       "align_items": null,
       "align_self": null,
       "border": null,
       "bottom": null,
       "display": null,
       "flex": null,
       "flex_flow": null,
       "grid_area": null,
       "grid_auto_columns": null,
       "grid_auto_flow": null,
       "grid_auto_rows": null,
       "grid_column": null,
       "grid_gap": null,
       "grid_row": null,
       "grid_template_areas": null,
       "grid_template_columns": null,
       "grid_template_rows": null,
       "height": null,
       "justify_content": null,
       "justify_items": null,
       "left": null,
       "margin": null,
       "max_height": null,
       "max_width": null,
       "min_height": null,
       "min_width": null,
       "object_fit": null,
       "object_position": null,
       "order": null,
       "overflow": null,
       "overflow_x": null,
       "overflow_y": null,
       "padding": null,
       "right": null,
       "top": null,
       "visibility": null,
       "width": null
      }
     },
     "727023d5803248ffb90308e3d278bffa": {
      "model_module": "@jupyter-widgets/controls",
      "model_module_version": "1.5.0",
      "model_name": "HBoxModel",
      "state": {
       "_dom_classes": [],
       "_model_module": "@jupyter-widgets/controls",
       "_model_module_version": "1.5.0",
       "_model_name": "HBoxModel",
       "_view_count": null,
       "_view_module": "@jupyter-widgets/controls",
       "_view_module_version": "1.5.0",
       "_view_name": "HBoxView",
       "box_style": "",
       "children": [
        "IPY_MODEL_d3bde3daf2a44378a9f23a9b8fbcd60a",
        "IPY_MODEL_17ab568bbb744d85a54ab5afe5ad6a35",
        "IPY_MODEL_61fc07d309bd43a4a0190139c76e7b4b"
       ],
       "layout": "IPY_MODEL_fd5704f3af6d486f8dbbdd40aecc06cb"
      }
     },
     "73607fb52cd348108b775893b3af7eb7": {
      "model_module": "@jupyter-widgets/controls",
      "model_module_version": "1.5.0",
      "model_name": "DescriptionStyleModel",
      "state": {
       "_model_module": "@jupyter-widgets/controls",
       "_model_module_version": "1.5.0",
       "_model_name": "DescriptionStyleModel",
       "_view_count": null,
       "_view_module": "@jupyter-widgets/base",
       "_view_module_version": "1.2.0",
       "_view_name": "StyleView",
       "description_width": ""
      }
     },
     "737ac7230ba3416fabbb3751350a86a2": {
      "model_module": "@jupyter-widgets/base",
      "model_module_version": "1.2.0",
      "model_name": "LayoutModel",
      "state": {
       "_model_module": "@jupyter-widgets/base",
       "_model_module_version": "1.2.0",
       "_model_name": "LayoutModel",
       "_view_count": null,
       "_view_module": "@jupyter-widgets/base",
       "_view_module_version": "1.2.0",
       "_view_name": "LayoutView",
       "align_content": null,
       "align_items": null,
       "align_self": null,
       "border": null,
       "bottom": null,
       "display": null,
       "flex": null,
       "flex_flow": null,
       "grid_area": null,
       "grid_auto_columns": null,
       "grid_auto_flow": null,
       "grid_auto_rows": null,
       "grid_column": null,
       "grid_gap": null,
       "grid_row": null,
       "grid_template_areas": null,
       "grid_template_columns": null,
       "grid_template_rows": null,
       "height": null,
       "justify_content": null,
       "justify_items": null,
       "left": null,
       "margin": null,
       "max_height": null,
       "max_width": null,
       "min_height": null,
       "min_width": null,
       "object_fit": null,
       "object_position": null,
       "order": null,
       "overflow": null,
       "overflow_x": null,
       "overflow_y": null,
       "padding": null,
       "right": null,
       "top": null,
       "visibility": null,
       "width": null
      }
     },
     "73d5d84c9d7e4232b6cfae13d457f82a": {
      "model_module": "@jupyter-widgets/controls",
      "model_module_version": "1.5.0",
      "model_name": "DescriptionStyleModel",
      "state": {
       "_model_module": "@jupyter-widgets/controls",
       "_model_module_version": "1.5.0",
       "_model_name": "DescriptionStyleModel",
       "_view_count": null,
       "_view_module": "@jupyter-widgets/base",
       "_view_module_version": "1.2.0",
       "_view_name": "StyleView",
       "description_width": ""
      }
     },
     "746f16ca93ea4d9596a17a0f3aa166cd": {
      "model_module": "@jupyter-widgets/controls",
      "model_module_version": "1.5.0",
      "model_name": "FloatProgressModel",
      "state": {
       "_dom_classes": [],
       "_model_module": "@jupyter-widgets/controls",
       "_model_module_version": "1.5.0",
       "_model_name": "FloatProgressModel",
       "_view_count": null,
       "_view_module": "@jupyter-widgets/controls",
       "_view_module_version": "1.5.0",
       "_view_name": "ProgressView",
       "bar_style": "success",
       "description": "",
       "description_tooltip": null,
       "layout": "IPY_MODEL_27a35dba4e2e4ab89440307b4e2733a3",
       "max": 28.0,
       "min": 0.0,
       "orientation": "horizontal",
       "style": "IPY_MODEL_dbd38814ea7c40aeb0c2f95acc42c11f",
       "value": 28.0
      }
     },
     "77d44784702a43de9bda44248f8e44f8": {
      "model_module": "@jupyter-widgets/base",
      "model_module_version": "1.2.0",
      "model_name": "LayoutModel",
      "state": {
       "_model_module": "@jupyter-widgets/base",
       "_model_module_version": "1.2.0",
       "_model_name": "LayoutModel",
       "_view_count": null,
       "_view_module": "@jupyter-widgets/base",
       "_view_module_version": "1.2.0",
       "_view_name": "LayoutView",
       "align_content": null,
       "align_items": null,
       "align_self": null,
       "border": null,
       "bottom": null,
       "display": null,
       "flex": null,
       "flex_flow": null,
       "grid_area": null,
       "grid_auto_columns": null,
       "grid_auto_flow": null,
       "grid_auto_rows": null,
       "grid_column": null,
       "grid_gap": null,
       "grid_row": null,
       "grid_template_areas": null,
       "grid_template_columns": null,
       "grid_template_rows": null,
       "height": null,
       "justify_content": null,
       "justify_items": null,
       "left": null,
       "margin": null,
       "max_height": null,
       "max_width": null,
       "min_height": null,
       "min_width": null,
       "object_fit": null,
       "object_position": null,
       "order": null,
       "overflow": null,
       "overflow_x": null,
       "overflow_y": null,
       "padding": null,
       "right": null,
       "top": null,
       "visibility": null,
       "width": null
      }
     },
     "7aeeea0bf1604ec790945d8309408d3a": {
      "model_module": "@jupyter-widgets/controls",
      "model_module_version": "1.5.0",
      "model_name": "DescriptionStyleModel",
      "state": {
       "_model_module": "@jupyter-widgets/controls",
       "_model_module_version": "1.5.0",
       "_model_name": "DescriptionStyleModel",
       "_view_count": null,
       "_view_module": "@jupyter-widgets/base",
       "_view_module_version": "1.2.0",
       "_view_name": "StyleView",
       "description_width": ""
      }
     },
     "7bec8c7eb7e84004ac905f34e2fb3b12": {
      "model_module": "@jupyter-widgets/base",
      "model_module_version": "1.2.0",
      "model_name": "LayoutModel",
      "state": {
       "_model_module": "@jupyter-widgets/base",
       "_model_module_version": "1.2.0",
       "_model_name": "LayoutModel",
       "_view_count": null,
       "_view_module": "@jupyter-widgets/base",
       "_view_module_version": "1.2.0",
       "_view_name": "LayoutView",
       "align_content": null,
       "align_items": null,
       "align_self": null,
       "border": null,
       "bottom": null,
       "display": null,
       "flex": null,
       "flex_flow": null,
       "grid_area": null,
       "grid_auto_columns": null,
       "grid_auto_flow": null,
       "grid_auto_rows": null,
       "grid_column": null,
       "grid_gap": null,
       "grid_row": null,
       "grid_template_areas": null,
       "grid_template_columns": null,
       "grid_template_rows": null,
       "height": null,
       "justify_content": null,
       "justify_items": null,
       "left": null,
       "margin": null,
       "max_height": null,
       "max_width": null,
       "min_height": null,
       "min_width": null,
       "object_fit": null,
       "object_position": null,
       "order": null,
       "overflow": null,
       "overflow_x": null,
       "overflow_y": null,
       "padding": null,
       "right": null,
       "top": null,
       "visibility": null,
       "width": null
      }
     },
     "7bf8ad631e294c88ae8a972c1c31e026": {
      "model_module": "@jupyter-widgets/controls",
      "model_module_version": "1.5.0",
      "model_name": "HTMLModel",
      "state": {
       "_dom_classes": [],
       "_model_module": "@jupyter-widgets/controls",
       "_model_module_version": "1.5.0",
       "_model_name": "HTMLModel",
       "_view_count": null,
       "_view_module": "@jupyter-widgets/controls",
       "_view_module_version": "1.5.0",
       "_view_name": "HTMLView",
       "description": "",
       "description_tooltip": null,
       "layout": "IPY_MODEL_7bec8c7eb7e84004ac905f34e2fb3b12",
       "placeholder": "​",
       "style": "IPY_MODEL_4a8c7873cf694a40b181cccad9332a11",
       "value": "Downloading: 100%"
      }
     },
     "7ce32720ef034302ad660cba9a6a5eb8": {
      "model_module": "@jupyter-widgets/controls",
      "model_module_version": "1.5.0",
      "model_name": "HTMLModel",
      "state": {
       "_dom_classes": [],
       "_model_module": "@jupyter-widgets/controls",
       "_model_module_version": "1.5.0",
       "_model_name": "HTMLModel",
       "_view_count": null,
       "_view_module": "@jupyter-widgets/controls",
       "_view_module_version": "1.5.0",
       "_view_name": "HTMLView",
       "description": "",
       "description_tooltip": null,
       "layout": "IPY_MODEL_62523795801244c4b1e48173c5fc5a60",
       "placeholder": "​",
       "style": "IPY_MODEL_e39f403d17e544738532a59780200954",
       "value": " 797k/797k [00:00&lt;00:00, 634kB/s]"
      }
     },
     "7fe6337168a343cf99b0d75a98cf2c1f": {
      "model_module": "@jupyter-widgets/controls",
      "model_module_version": "1.5.0",
      "model_name": "DescriptionStyleModel",
      "state": {
       "_model_module": "@jupyter-widgets/controls",
       "_model_module_version": "1.5.0",
       "_model_name": "DescriptionStyleModel",
       "_view_count": null,
       "_view_module": "@jupyter-widgets/base",
       "_view_module_version": "1.2.0",
       "_view_name": "StyleView",
       "description_width": ""
      }
     },
     "824043254af9462f981d316a0e484d98": {
      "model_module": "@jupyter-widgets/controls",
      "model_module_version": "1.5.0",
      "model_name": "HBoxModel",
      "state": {
       "_dom_classes": [],
       "_model_module": "@jupyter-widgets/controls",
       "_model_module_version": "1.5.0",
       "_model_name": "HBoxModel",
       "_view_count": null,
       "_view_module": "@jupyter-widgets/controls",
       "_view_module_version": "1.5.0",
       "_view_name": "HBoxView",
       "box_style": "",
       "children": [
        "IPY_MODEL_2f586e1685ea4148879545bc9e9652ca",
        "IPY_MODEL_595ea6d1e5044713ab0280ef14466616",
        "IPY_MODEL_ba35cef3384b46c5b588ae5e08c68823"
       ],
       "layout": "IPY_MODEL_f76e880c5e23431092a6ba5e5920a806"
      }
     },
     "8a2d8f269e9a411586509cb0a85985a0": {
      "model_module": "@jupyter-widgets/controls",
      "model_module_version": "1.5.0",
      "model_name": "DescriptionStyleModel",
      "state": {
       "_model_module": "@jupyter-widgets/controls",
       "_model_module_version": "1.5.0",
       "_model_name": "DescriptionStyleModel",
       "_view_count": null,
       "_view_module": "@jupyter-widgets/base",
       "_view_module_version": "1.2.0",
       "_view_name": "StyleView",
       "description_width": ""
      }
     },
     "8c36e0eac8c546eb95bb8d5b0a079dc3": {
      "model_module": "@jupyter-widgets/controls",
      "model_module_version": "1.5.0",
      "model_name": "HTMLModel",
      "state": {
       "_dom_classes": [],
       "_model_module": "@jupyter-widgets/controls",
       "_model_module_version": "1.5.0",
       "_model_name": "HTMLModel",
       "_view_count": null,
       "_view_module": "@jupyter-widgets/controls",
       "_view_module_version": "1.5.0",
       "_view_name": "HTMLView",
       "description": "",
       "description_tooltip": null,
       "layout": "IPY_MODEL_030e76df28244f09b797b9cdc43979d4",
       "placeholder": "​",
       "style": "IPY_MODEL_bd370e8babdf43638ea7218d6ee6b0a1",
       "value": " 28.0/28.0 [00:00&lt;00:00, 894B/s]"
      }
     },
     "918d0041468a4c7599b910545b255068": {
      "model_module": "@jupyter-widgets/base",
      "model_module_version": "1.2.0",
      "model_name": "LayoutModel",
      "state": {
       "_model_module": "@jupyter-widgets/base",
       "_model_module_version": "1.2.0",
       "_model_name": "LayoutModel",
       "_view_count": null,
       "_view_module": "@jupyter-widgets/base",
       "_view_module_version": "1.2.0",
       "_view_name": "LayoutView",
       "align_content": null,
       "align_items": null,
       "align_self": null,
       "border": null,
       "bottom": null,
       "display": null,
       "flex": null,
       "flex_flow": null,
       "grid_area": null,
       "grid_auto_columns": null,
       "grid_auto_flow": null,
       "grid_auto_rows": null,
       "grid_column": null,
       "grid_gap": null,
       "grid_row": null,
       "grid_template_areas": null,
       "grid_template_columns": null,
       "grid_template_rows": null,
       "height": null,
       "justify_content": null,
       "justify_items": null,
       "left": null,
       "margin": null,
       "max_height": null,
       "max_width": null,
       "min_height": null,
       "min_width": null,
       "object_fit": null,
       "object_position": null,
       "order": null,
       "overflow": null,
       "overflow_x": null,
       "overflow_y": null,
       "padding": null,
       "right": null,
       "top": null,
       "visibility": null,
       "width": null
      }
     },
     "92e04f5af2d640f7ae4fbd91531927b2": {
      "model_module": "@jupyter-widgets/base",
      "model_module_version": "1.2.0",
      "model_name": "LayoutModel",
      "state": {
       "_model_module": "@jupyter-widgets/base",
       "_model_module_version": "1.2.0",
       "_model_name": "LayoutModel",
       "_view_count": null,
       "_view_module": "@jupyter-widgets/base",
       "_view_module_version": "1.2.0",
       "_view_name": "LayoutView",
       "align_content": null,
       "align_items": null,
       "align_self": null,
       "border": null,
       "bottom": null,
       "display": null,
       "flex": null,
       "flex_flow": null,
       "grid_area": null,
       "grid_auto_columns": null,
       "grid_auto_flow": null,
       "grid_auto_rows": null,
       "grid_column": null,
       "grid_gap": null,
       "grid_row": null,
       "grid_template_areas": null,
       "grid_template_columns": null,
       "grid_template_rows": null,
       "height": null,
       "justify_content": null,
       "justify_items": null,
       "left": null,
       "margin": null,
       "max_height": null,
       "max_width": null,
       "min_height": null,
       "min_width": null,
       "object_fit": null,
       "object_position": null,
       "order": null,
       "overflow": null,
       "overflow_x": null,
       "overflow_y": null,
       "padding": null,
       "right": null,
       "top": null,
       "visibility": null,
       "width": null
      }
     },
     "92fd4fbfd5c14da9b1ed88dedae191d1": {
      "model_module": "@jupyter-widgets/controls",
      "model_module_version": "1.5.0",
      "model_name": "HTMLModel",
      "state": {
       "_dom_classes": [],
       "_model_module": "@jupyter-widgets/controls",
       "_model_module_version": "1.5.0",
       "_model_name": "HTMLModel",
       "_view_count": null,
       "_view_module": "@jupyter-widgets/controls",
       "_view_module_version": "1.5.0",
       "_view_name": "HTMLView",
       "description": "",
       "description_tooltip": null,
       "layout": "IPY_MODEL_92e04f5af2d640f7ae4fbd91531927b2",
       "placeholder": "​",
       "style": "IPY_MODEL_bbb5e78397e84f8299cc47a96549b944",
       "value": " 226k/226k [00:00&lt;00:00, 314kB/s]"
      }
     },
     "934407e496154be2a5b9f422070acba2": {
      "model_module": "@jupyter-widgets/controls",
      "model_module_version": "1.5.0",
      "model_name": "DescriptionStyleModel",
      "state": {
       "_model_module": "@jupyter-widgets/controls",
       "_model_module_version": "1.5.0",
       "_model_name": "DescriptionStyleModel",
       "_view_count": null,
       "_view_module": "@jupyter-widgets/base",
       "_view_module_version": "1.2.0",
       "_view_name": "StyleView",
       "description_width": ""
      }
     },
     "93522b8beefc4a788d1e1207bf5c3142": {
      "model_module": "@jupyter-widgets/controls",
      "model_module_version": "1.5.0",
      "model_name": "FloatProgressModel",
      "state": {
       "_dom_classes": [],
       "_model_module": "@jupyter-widgets/controls",
       "_model_module_version": "1.5.0",
       "_model_name": "FloatProgressModel",
       "_view_count": null,
       "_view_module": "@jupyter-widgets/controls",
       "_view_module_version": "1.5.0",
       "_view_name": "ProgressView",
       "bar_style": "success",
       "description": "",
       "description_tooltip": null,
       "layout": "IPY_MODEL_737ac7230ba3416fabbb3751350a86a2",
       "max": 1272610.0,
       "min": 0.0,
       "orientation": "horizontal",
       "style": "IPY_MODEL_a17f2cad886c43f584d3688495f603f7",
       "value": 1272610.0
      }
     },
     "99fc9c10f11b4398b57652968701f07c": {
      "model_module": "@jupyter-widgets/controls",
      "model_module_version": "1.5.0",
      "model_name": "HBoxModel",
      "state": {
       "_dom_classes": [],
       "_model_module": "@jupyter-widgets/controls",
       "_model_module_version": "1.5.0",
       "_model_name": "HBoxModel",
       "_view_count": null,
       "_view_module": "@jupyter-widgets/controls",
       "_view_module_version": "1.5.0",
       "_view_name": "HBoxView",
       "box_style": "",
       "children": [
        "IPY_MODEL_54e28161bbbb462aa9f401546c3ddb4b",
        "IPY_MODEL_5365b47c2aaf40ab9007cb65086b98e5",
        "IPY_MODEL_7ce32720ef034302ad660cba9a6a5eb8"
       ],
       "layout": "IPY_MODEL_260248dfb1164d2ea83da429ba4caf59"
      }
     },
     "a17f2cad886c43f584d3688495f603f7": {
      "model_module": "@jupyter-widgets/controls",
      "model_module_version": "1.5.0",
      "model_name": "ProgressStyleModel",
      "state": {
       "_model_module": "@jupyter-widgets/controls",
       "_model_module_version": "1.5.0",
       "_model_name": "ProgressStyleModel",
       "_view_count": null,
       "_view_module": "@jupyter-widgets/base",
       "_view_module_version": "1.2.0",
       "_view_name": "StyleView",
       "bar_color": null,
       "description_width": ""
      }
     },
     "ab0d2617ce964538ba169e778894da9f": {
      "model_module": "@jupyter-widgets/controls",
      "model_module_version": "1.5.0",
      "model_name": "HBoxModel",
      "state": {
       "_dom_classes": [],
       "_model_module": "@jupyter-widgets/controls",
       "_model_module_version": "1.5.0",
       "_model_name": "HBoxModel",
       "_view_count": null,
       "_view_module": "@jupyter-widgets/controls",
       "_view_module_version": "1.5.0",
       "_view_name": "HBoxView",
       "box_style": "",
       "children": [
        "IPY_MODEL_ec1a8ecd483349a7893e9b7782a8b38f",
        "IPY_MODEL_0e12736198324f3b8188fa20feda78aa",
        "IPY_MODEL_4ce3b58d364944b79759524c79d0524d"
       ],
       "layout": "IPY_MODEL_2a7b033cfd41464299af6fa32a978c49"
      }
     },
     "ab7167b0fcc84513b79765c068066e01": {
      "model_module": "@jupyter-widgets/base",
      "model_module_version": "1.2.0",
      "model_name": "LayoutModel",
      "state": {
       "_model_module": "@jupyter-widgets/base",
       "_model_module_version": "1.2.0",
       "_model_name": "LayoutModel",
       "_view_count": null,
       "_view_module": "@jupyter-widgets/base",
       "_view_module_version": "1.2.0",
       "_view_name": "LayoutView",
       "align_content": null,
       "align_items": null,
       "align_self": null,
       "border": null,
       "bottom": null,
       "display": null,
       "flex": null,
       "flex_flow": null,
       "grid_area": null,
       "grid_auto_columns": null,
       "grid_auto_flow": null,
       "grid_auto_rows": null,
       "grid_column": null,
       "grid_gap": null,
       "grid_row": null,
       "grid_template_areas": null,
       "grid_template_columns": null,
       "grid_template_rows": null,
       "height": null,
       "justify_content": null,
       "justify_items": null,
       "left": null,
       "margin": null,
       "max_height": null,
       "max_width": null,
       "min_height": null,
       "min_width": null,
       "object_fit": null,
       "object_position": null,
       "order": null,
       "overflow": null,
       "overflow_x": null,
       "overflow_y": null,
       "padding": null,
       "right": null,
       "top": null,
       "visibility": null,
       "width": null
      }
     },
     "acd87fc622f24122a361da7921176c24": {
      "model_module": "@jupyter-widgets/controls",
      "model_module_version": "1.5.0",
      "model_name": "ProgressStyleModel",
      "state": {
       "_model_module": "@jupyter-widgets/controls",
       "_model_module_version": "1.5.0",
       "_model_name": "ProgressStyleModel",
       "_view_count": null,
       "_view_module": "@jupyter-widgets/base",
       "_view_module_version": "1.2.0",
       "_view_name": "StyleView",
       "bar_color": null,
       "description_width": ""
      }
     },
     "af0e0fd412ec4b03bcd8eb99ab604e02": {
      "model_module": "@jupyter-widgets/base",
      "model_module_version": "1.2.0",
      "model_name": "LayoutModel",
      "state": {
       "_model_module": "@jupyter-widgets/base",
       "_model_module_version": "1.2.0",
       "_model_name": "LayoutModel",
       "_view_count": null,
       "_view_module": "@jupyter-widgets/base",
       "_view_module_version": "1.2.0",
       "_view_name": "LayoutView",
       "align_content": null,
       "align_items": null,
       "align_self": null,
       "border": null,
       "bottom": null,
       "display": null,
       "flex": null,
       "flex_flow": null,
       "grid_area": null,
       "grid_auto_columns": null,
       "grid_auto_flow": null,
       "grid_auto_rows": null,
       "grid_column": null,
       "grid_gap": null,
       "grid_row": null,
       "grid_template_areas": null,
       "grid_template_columns": null,
       "grid_template_rows": null,
       "height": null,
       "justify_content": null,
       "justify_items": null,
       "left": null,
       "margin": null,
       "max_height": null,
       "max_width": null,
       "min_height": null,
       "min_width": null,
       "object_fit": null,
       "object_position": null,
       "order": null,
       "overflow": null,
       "overflow_x": null,
       "overflow_y": null,
       "padding": null,
       "right": null,
       "top": null,
       "visibility": null,
       "width": null
      }
     },
     "b4087909fb154efcb3ce628877fcfc6f": {
      "model_module": "@jupyter-widgets/base",
      "model_module_version": "1.2.0",
      "model_name": "LayoutModel",
      "state": {
       "_model_module": "@jupyter-widgets/base",
       "_model_module_version": "1.2.0",
       "_model_name": "LayoutModel",
       "_view_count": null,
       "_view_module": "@jupyter-widgets/base",
       "_view_module_version": "1.2.0",
       "_view_name": "LayoutView",
       "align_content": null,
       "align_items": null,
       "align_self": null,
       "border": null,
       "bottom": null,
       "display": null,
       "flex": null,
       "flex_flow": null,
       "grid_area": null,
       "grid_auto_columns": null,
       "grid_auto_flow": null,
       "grid_auto_rows": null,
       "grid_column": null,
       "grid_gap": null,
       "grid_row": null,
       "grid_template_areas": null,
       "grid_template_columns": null,
       "grid_template_rows": null,
       "height": null,
       "justify_content": null,
       "justify_items": null,
       "left": null,
       "margin": null,
       "max_height": null,
       "max_width": null,
       "min_height": null,
       "min_width": null,
       "object_fit": null,
       "object_position": null,
       "order": null,
       "overflow": null,
       "overflow_x": null,
       "overflow_y": null,
       "padding": null,
       "right": null,
       "top": null,
       "visibility": null,
       "width": null
      }
     },
     "b4c34c7331f2466389015650f0d7560d": {
      "model_module": "@jupyter-widgets/controls",
      "model_module_version": "1.5.0",
      "model_name": "HBoxModel",
      "state": {
       "_dom_classes": [],
       "_model_module": "@jupyter-widgets/controls",
       "_model_module_version": "1.5.0",
       "_model_name": "HBoxModel",
       "_view_count": null,
       "_view_module": "@jupyter-widgets/controls",
       "_view_module_version": "1.5.0",
       "_view_name": "HBoxView",
       "box_style": "",
       "children": [
        "IPY_MODEL_3f596b3534564d48b2424d1349be2ede",
        "IPY_MODEL_93522b8beefc4a788d1e1207bf5c3142",
        "IPY_MODEL_0e571a812d464b21991e8d791ecb7d1e"
       ],
       "layout": "IPY_MODEL_d2da131bf2ae44baa9fbccb465742ee0"
      }
     },
     "ba35cef3384b46c5b588ae5e08c68823": {
      "model_module": "@jupyter-widgets/controls",
      "model_module_version": "1.5.0",
      "model_name": "HTMLModel",
      "state": {
       "_dom_classes": [],
       "_model_module": "@jupyter-widgets/controls",
       "_model_module_version": "1.5.0",
       "_model_name": "HTMLModel",
       "_view_count": null,
       "_view_module": "@jupyter-widgets/controls",
       "_view_module_version": "1.5.0",
       "_view_name": "HTMLView",
       "description": "",
       "description_tooltip": null,
       "layout": "IPY_MODEL_77d44784702a43de9bda44248f8e44f8",
       "placeholder": "​",
       "style": "IPY_MODEL_934407e496154be2a5b9f422070acba2",
       "value": " 455k/455k [00:00&lt;00:00, 694kB/s]"
      }
     },
     "bbb5e78397e84f8299cc47a96549b944": {
      "model_module": "@jupyter-widgets/controls",
      "model_module_version": "1.5.0",
      "model_name": "DescriptionStyleModel",
      "state": {
       "_model_module": "@jupyter-widgets/controls",
       "_model_module_version": "1.5.0",
       "_model_name": "DescriptionStyleModel",
       "_view_count": null,
       "_view_module": "@jupyter-widgets/base",
       "_view_module_version": "1.2.0",
       "_view_name": "StyleView",
       "description_width": ""
      }
     },
     "bd370e8babdf43638ea7218d6ee6b0a1": {
      "model_module": "@jupyter-widgets/controls",
      "model_module_version": "1.5.0",
      "model_name": "DescriptionStyleModel",
      "state": {
       "_model_module": "@jupyter-widgets/controls",
       "_model_module_version": "1.5.0",
       "_model_name": "DescriptionStyleModel",
       "_view_count": null,
       "_view_module": "@jupyter-widgets/base",
       "_view_module_version": "1.2.0",
       "_view_name": "StyleView",
       "description_width": ""
      }
     },
     "c18056dc13db4d75b3a8dd502bb416a7": {
      "model_module": "@jupyter-widgets/base",
      "model_module_version": "1.2.0",
      "model_name": "LayoutModel",
      "state": {
       "_model_module": "@jupyter-widgets/base",
       "_model_module_version": "1.2.0",
       "_model_name": "LayoutModel",
       "_view_count": null,
       "_view_module": "@jupyter-widgets/base",
       "_view_module_version": "1.2.0",
       "_view_name": "LayoutView",
       "align_content": null,
       "align_items": null,
       "align_self": null,
       "border": null,
       "bottom": null,
       "display": null,
       "flex": null,
       "flex_flow": null,
       "grid_area": null,
       "grid_auto_columns": null,
       "grid_auto_flow": null,
       "grid_auto_rows": null,
       "grid_column": null,
       "grid_gap": null,
       "grid_row": null,
       "grid_template_areas": null,
       "grid_template_columns": null,
       "grid_template_rows": null,
       "height": null,
       "justify_content": null,
       "justify_items": null,
       "left": null,
       "margin": null,
       "max_height": null,
       "max_width": null,
       "min_height": null,
       "min_width": null,
       "object_fit": null,
       "object_position": null,
       "order": null,
       "overflow": null,
       "overflow_x": null,
       "overflow_y": null,
       "padding": null,
       "right": null,
       "top": null,
       "visibility": null,
       "width": null
      }
     },
     "c2db45897afc4ff0ad0a9183abd04f69": {
      "model_module": "@jupyter-widgets/controls",
      "model_module_version": "1.5.0",
      "model_name": "HBoxModel",
      "state": {
       "_dom_classes": [],
       "_model_module": "@jupyter-widgets/controls",
       "_model_module_version": "1.5.0",
       "_model_name": "HBoxModel",
       "_view_count": null,
       "_view_module": "@jupyter-widgets/controls",
       "_view_module_version": "1.5.0",
       "_view_name": "HBoxView",
       "box_style": "",
       "children": [
        "IPY_MODEL_0a6183532630410dbb0172e5b06c2c86",
        "IPY_MODEL_3d30b918abd348069fecc4b4530ec94c",
        "IPY_MODEL_92fd4fbfd5c14da9b1ed88dedae191d1"
       ],
       "layout": "IPY_MODEL_918d0041468a4c7599b910545b255068"
      }
     },
     "c7077563456b4910b45a9b184a8145a7": {
      "model_module": "@jupyter-widgets/controls",
      "model_module_version": "1.5.0",
      "model_name": "ProgressStyleModel",
      "state": {
       "_model_module": "@jupyter-widgets/controls",
       "_model_module_version": "1.5.0",
       "_model_name": "ProgressStyleModel",
       "_view_count": null,
       "_view_module": "@jupyter-widgets/base",
       "_view_module_version": "1.2.0",
       "_view_name": "StyleView",
       "bar_color": null,
       "description_width": ""
      }
     },
     "c80c1f3b07b54a3cb3504d90c789165f": {
      "model_module": "@jupyter-widgets/base",
      "model_module_version": "1.2.0",
      "model_name": "LayoutModel",
      "state": {
       "_model_module": "@jupyter-widgets/base",
       "_model_module_version": "1.2.0",
       "_model_name": "LayoutModel",
       "_view_count": null,
       "_view_module": "@jupyter-widgets/base",
       "_view_module_version": "1.2.0",
       "_view_name": "LayoutView",
       "align_content": null,
       "align_items": null,
       "align_self": null,
       "border": null,
       "bottom": null,
       "display": null,
       "flex": null,
       "flex_flow": null,
       "grid_area": null,
       "grid_auto_columns": null,
       "grid_auto_flow": null,
       "grid_auto_rows": null,
       "grid_column": null,
       "grid_gap": null,
       "grid_row": null,
       "grid_template_areas": null,
       "grid_template_columns": null,
       "grid_template_rows": null,
       "height": null,
       "justify_content": null,
       "justify_items": null,
       "left": null,
       "margin": null,
       "max_height": null,
       "max_width": null,
       "min_height": null,
       "min_width": null,
       "object_fit": null,
       "object_position": null,
       "order": null,
       "overflow": null,
       "overflow_x": null,
       "overflow_y": null,
       "padding": null,
       "right": null,
       "top": null,
       "visibility": null,
       "width": null
      }
     },
     "cd8761cccf0345049dad7187de990d2b": {
      "model_module": "@jupyter-widgets/controls",
      "model_module_version": "1.5.0",
      "model_name": "DescriptionStyleModel",
      "state": {
       "_model_module": "@jupyter-widgets/controls",
       "_model_module_version": "1.5.0",
       "_model_name": "DescriptionStyleModel",
       "_view_count": null,
       "_view_module": "@jupyter-widgets/base",
       "_view_module_version": "1.2.0",
       "_view_name": "StyleView",
       "description_width": ""
      }
     },
     "d2da131bf2ae44baa9fbccb465742ee0": {
      "model_module": "@jupyter-widgets/base",
      "model_module_version": "1.2.0",
      "model_name": "LayoutModel",
      "state": {
       "_model_module": "@jupyter-widgets/base",
       "_model_module_version": "1.2.0",
       "_model_name": "LayoutModel",
       "_view_count": null,
       "_view_module": "@jupyter-widgets/base",
       "_view_module_version": "1.2.0",
       "_view_name": "LayoutView",
       "align_content": null,
       "align_items": null,
       "align_self": null,
       "border": null,
       "bottom": null,
       "display": null,
       "flex": null,
       "flex_flow": null,
       "grid_area": null,
       "grid_auto_columns": null,
       "grid_auto_flow": null,
       "grid_auto_rows": null,
       "grid_column": null,
       "grid_gap": null,
       "grid_row": null,
       "grid_template_areas": null,
       "grid_template_columns": null,
       "grid_template_rows": null,
       "height": null,
       "justify_content": null,
       "justify_items": null,
       "left": null,
       "margin": null,
       "max_height": null,
       "max_width": null,
       "min_height": null,
       "min_width": null,
       "object_fit": null,
       "object_position": null,
       "order": null,
       "overflow": null,
       "overflow_x": null,
       "overflow_y": null,
       "padding": null,
       "right": null,
       "top": null,
       "visibility": null,
       "width": null
      }
     },
     "d3bde3daf2a44378a9f23a9b8fbcd60a": {
      "model_module": "@jupyter-widgets/controls",
      "model_module_version": "1.5.0",
      "model_name": "HTMLModel",
      "state": {
       "_dom_classes": [],
       "_model_module": "@jupyter-widgets/controls",
       "_model_module_version": "1.5.0",
       "_model_name": "HTMLModel",
       "_view_count": null,
       "_view_module": "@jupyter-widgets/controls",
       "_view_module_version": "1.5.0",
       "_view_name": "HTMLView",
       "description": "",
       "description_tooltip": null,
       "layout": "IPY_MODEL_c18056dc13db4d75b3a8dd502bb416a7",
       "placeholder": "​",
       "style": "IPY_MODEL_48cd0b8372d943f0849dcea09206c387",
       "value": "Downloading: 100%"
      }
     },
     "dbd38814ea7c40aeb0c2f95acc42c11f": {
      "model_module": "@jupyter-widgets/controls",
      "model_module_version": "1.5.0",
      "model_name": "ProgressStyleModel",
      "state": {
       "_model_module": "@jupyter-widgets/controls",
       "_model_module_version": "1.5.0",
       "_model_name": "ProgressStyleModel",
       "_view_count": null,
       "_view_module": "@jupyter-widgets/base",
       "_view_module_version": "1.2.0",
       "_view_name": "StyleView",
       "bar_color": null,
       "description_width": ""
      }
     },
     "de1148cfd3794d24ac562559f623f282": {
      "model_module": "@jupyter-widgets/controls",
      "model_module_version": "1.5.0",
      "model_name": "ProgressStyleModel",
      "state": {
       "_model_module": "@jupyter-widgets/controls",
       "_model_module_version": "1.5.0",
       "_model_name": "ProgressStyleModel",
       "_view_count": null,
       "_view_module": "@jupyter-widgets/base",
       "_view_module_version": "1.2.0",
       "_view_name": "StyleView",
       "bar_color": null,
       "description_width": ""
      }
     },
     "de707ea1a3fe4dd0bd81555d7b4b7184": {
      "model_module": "@jupyter-widgets/base",
      "model_module_version": "1.2.0",
      "model_name": "LayoutModel",
      "state": {
       "_model_module": "@jupyter-widgets/base",
       "_model_module_version": "1.2.0",
       "_model_name": "LayoutModel",
       "_view_count": null,
       "_view_module": "@jupyter-widgets/base",
       "_view_module_version": "1.2.0",
       "_view_name": "LayoutView",
       "align_content": null,
       "align_items": null,
       "align_self": null,
       "border": null,
       "bottom": null,
       "display": null,
       "flex": null,
       "flex_flow": null,
       "grid_area": null,
       "grid_auto_columns": null,
       "grid_auto_flow": null,
       "grid_auto_rows": null,
       "grid_column": null,
       "grid_gap": null,
       "grid_row": null,
       "grid_template_areas": null,
       "grid_template_columns": null,
       "grid_template_rows": null,
       "height": null,
       "justify_content": null,
       "justify_items": null,
       "left": null,
       "margin": null,
       "max_height": null,
       "max_width": null,
       "min_height": null,
       "min_width": null,
       "object_fit": null,
       "object_position": null,
       "order": null,
       "overflow": null,
       "overflow_x": null,
       "overflow_y": null,
       "padding": null,
       "right": null,
       "top": null,
       "visibility": null,
       "width": null
      }
     },
     "e39f403d17e544738532a59780200954": {
      "model_module": "@jupyter-widgets/controls",
      "model_module_version": "1.5.0",
      "model_name": "DescriptionStyleModel",
      "state": {
       "_model_module": "@jupyter-widgets/controls",
       "_model_module_version": "1.5.0",
       "_model_name": "DescriptionStyleModel",
       "_view_count": null,
       "_view_module": "@jupyter-widgets/base",
       "_view_module_version": "1.2.0",
       "_view_name": "StyleView",
       "description_width": ""
      }
     },
     "e3a7e23a8e0c4ea2ab27f52742432f1e": {
      "model_module": "@jupyter-widgets/base",
      "model_module_version": "1.2.0",
      "model_name": "LayoutModel",
      "state": {
       "_model_module": "@jupyter-widgets/base",
       "_model_module_version": "1.2.0",
       "_model_name": "LayoutModel",
       "_view_count": null,
       "_view_module": "@jupyter-widgets/base",
       "_view_module_version": "1.2.0",
       "_view_name": "LayoutView",
       "align_content": null,
       "align_items": null,
       "align_self": null,
       "border": null,
       "bottom": null,
       "display": null,
       "flex": null,
       "flex_flow": null,
       "grid_area": null,
       "grid_auto_columns": null,
       "grid_auto_flow": null,
       "grid_auto_rows": null,
       "grid_column": null,
       "grid_gap": null,
       "grid_row": null,
       "grid_template_areas": null,
       "grid_template_columns": null,
       "grid_template_rows": null,
       "height": null,
       "justify_content": null,
       "justify_items": null,
       "left": null,
       "margin": null,
       "max_height": null,
       "max_width": null,
       "min_height": null,
       "min_width": null,
       "object_fit": null,
       "object_position": null,
       "order": null,
       "overflow": null,
       "overflow_x": null,
       "overflow_y": null,
       "padding": null,
       "right": null,
       "top": null,
       "visibility": null,
       "width": null
      }
     },
     "ec1a8ecd483349a7893e9b7782a8b38f": {
      "model_module": "@jupyter-widgets/controls",
      "model_module_version": "1.5.0",
      "model_name": "HTMLModel",
      "state": {
       "_dom_classes": [],
       "_model_module": "@jupyter-widgets/controls",
       "_model_module_version": "1.5.0",
       "_model_name": "HTMLModel",
       "_view_count": null,
       "_view_module": "@jupyter-widgets/controls",
       "_view_module_version": "1.5.0",
       "_view_name": "HTMLView",
       "description": "",
       "description_tooltip": null,
       "layout": "IPY_MODEL_e3a7e23a8e0c4ea2ab27f52742432f1e",
       "placeholder": "​",
       "style": "IPY_MODEL_73d5d84c9d7e4232b6cfae13d457f82a",
       "value": "Downloading: 100%"
      }
     },
     "f0f10d012b874505a288705b4841d41b": {
      "model_module": "@jupyter-widgets/controls",
      "model_module_version": "1.5.0",
      "model_name": "ProgressStyleModel",
      "state": {
       "_model_module": "@jupyter-widgets/controls",
       "_model_module_version": "1.5.0",
       "_model_name": "ProgressStyleModel",
       "_view_count": null,
       "_view_module": "@jupyter-widgets/base",
       "_view_module_version": "1.2.0",
       "_view_name": "StyleView",
       "bar_color": null,
       "description_width": ""
      }
     },
     "f43cd59f98b149da887c027eada92bdd": {
      "model_module": "@jupyter-widgets/base",
      "model_module_version": "1.2.0",
      "model_name": "LayoutModel",
      "state": {
       "_model_module": "@jupyter-widgets/base",
       "_model_module_version": "1.2.0",
       "_model_name": "LayoutModel",
       "_view_count": null,
       "_view_module": "@jupyter-widgets/base",
       "_view_module_version": "1.2.0",
       "_view_name": "LayoutView",
       "align_content": null,
       "align_items": null,
       "align_self": null,
       "border": null,
       "bottom": null,
       "display": null,
       "flex": null,
       "flex_flow": null,
       "grid_area": null,
       "grid_auto_columns": null,
       "grid_auto_flow": null,
       "grid_auto_rows": null,
       "grid_column": null,
       "grid_gap": null,
       "grid_row": null,
       "grid_template_areas": null,
       "grid_template_columns": null,
       "grid_template_rows": null,
       "height": null,
       "justify_content": null,
       "justify_items": null,
       "left": null,
       "margin": null,
       "max_height": null,
       "max_width": null,
       "min_height": null,
       "min_width": null,
       "object_fit": null,
       "object_position": null,
       "order": null,
       "overflow": null,
       "overflow_x": null,
       "overflow_y": null,
       "padding": null,
       "right": null,
       "top": null,
       "visibility": null,
       "width": null
      }
     },
     "f6341bdc25b94e3398b8a626294105c6": {
      "model_module": "@jupyter-widgets/controls",
      "model_module_version": "1.5.0",
      "model_name": "ProgressStyleModel",
      "state": {
       "_model_module": "@jupyter-widgets/controls",
       "_model_module_version": "1.5.0",
       "_model_name": "ProgressStyleModel",
       "_view_count": null,
       "_view_module": "@jupyter-widgets/base",
       "_view_module_version": "1.2.0",
       "_view_name": "StyleView",
       "bar_color": null,
       "description_width": ""
      }
     },
     "f76e880c5e23431092a6ba5e5920a806": {
      "model_module": "@jupyter-widgets/base",
      "model_module_version": "1.2.0",
      "model_name": "LayoutModel",
      "state": {
       "_model_module": "@jupyter-widgets/base",
       "_model_module_version": "1.2.0",
       "_model_name": "LayoutModel",
       "_view_count": null,
       "_view_module": "@jupyter-widgets/base",
       "_view_module_version": "1.2.0",
       "_view_name": "LayoutView",
       "align_content": null,
       "align_items": null,
       "align_self": null,
       "border": null,
       "bottom": null,
       "display": null,
       "flex": null,
       "flex_flow": null,
       "grid_area": null,
       "grid_auto_columns": null,
       "grid_auto_flow": null,
       "grid_auto_rows": null,
       "grid_column": null,
       "grid_gap": null,
       "grid_row": null,
       "grid_template_areas": null,
       "grid_template_columns": null,
       "grid_template_rows": null,
       "height": null,
       "justify_content": null,
       "justify_items": null,
       "left": null,
       "margin": null,
       "max_height": null,
       "max_width": null,
       "min_height": null,
       "min_width": null,
       "object_fit": null,
       "object_position": null,
       "order": null,
       "overflow": null,
       "overflow_x": null,
       "overflow_y": null,
       "padding": null,
       "right": null,
       "top": null,
       "visibility": null,
       "width": null
      }
     },
     "fd5704f3af6d486f8dbbdd40aecc06cb": {
      "model_module": "@jupyter-widgets/base",
      "model_module_version": "1.2.0",
      "model_name": "LayoutModel",
      "state": {
       "_model_module": "@jupyter-widgets/base",
       "_model_module_version": "1.2.0",
       "_model_name": "LayoutModel",
       "_view_count": null,
       "_view_module": "@jupyter-widgets/base",
       "_view_module_version": "1.2.0",
       "_view_name": "LayoutView",
       "align_content": null,
       "align_items": null,
       "align_self": null,
       "border": null,
       "bottom": null,
       "display": null,
       "flex": null,
       "flex_flow": null,
       "grid_area": null,
       "grid_auto_columns": null,
       "grid_auto_flow": null,
       "grid_auto_rows": null,
       "grid_column": null,
       "grid_gap": null,
       "grid_row": null,
       "grid_template_areas": null,
       "grid_template_columns": null,
       "grid_template_rows": null,
       "height": null,
       "justify_content": null,
       "justify_items": null,
       "left": null,
       "margin": null,
       "max_height": null,
       "max_width": null,
       "min_height": null,
       "min_width": null,
       "object_fit": null,
       "object_position": null,
       "order": null,
       "overflow": null,
       "overflow_x": null,
       "overflow_y": null,
       "padding": null,
       "right": null,
       "top": null,
       "visibility": null,
       "width": null
      }
     }
    },
    "version_major": 2,
    "version_minor": 0
   }
  }
 },
 "nbformat": 4,
 "nbformat_minor": 5
}
