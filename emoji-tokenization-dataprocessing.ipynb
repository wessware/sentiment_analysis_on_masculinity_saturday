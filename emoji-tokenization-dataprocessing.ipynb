{
 "cells": [
  {
   "cell_type": "code",
   "execution_count": 1,
   "id": "fba7f7c1",
   "metadata": {
    "_cell_guid": "b1076dfc-b9ad-4769-8c92-a6c4dae69d19",
    "_uuid": "8f2839f25d086af736a60e9eeb907d3b93b6e0e5",
    "execution": {
     "iopub.execute_input": "2023-02-16T12:28:32.842600Z",
     "iopub.status.busy": "2023-02-16T12:28:32.842137Z",
     "iopub.status.idle": "2023-02-16T12:28:35.210434Z",
     "shell.execute_reply": "2023-02-16T12:28:35.209167Z"
    },
    "papermill": {
     "duration": 2.388178,
     "end_time": "2023-02-16T12:28:35.213944",
     "exception": false,
     "start_time": "2023-02-16T12:28:32.825766",
     "status": "completed"
    },
    "tags": []
   },
   "outputs": [],
   "source": [
    "import pandas as pd\n",
    "import numpy as np \n",
    "\n",
    "from transformers import AutoTokenizer\n",
    "from transformers import BertTokenizerFast\n",
    "from transformers import BertTokenizer\n",
    "from transformers import RobertaTokenizerFast\n",
    "\n",
    "#from transformers import ROBERTAtokenizer\n",
    "#from transformers import XLNETtokenizer\n",
    "\n",
    "from mlxtend.text import tokenizer_emoticons\n",
    "from nltk.tokenize.casual import TweetTokenizer\n",
    "\n",
    "import matplotlib.pyplot as plt\n",
    "import seaborn as sns\n",
    "\n",
    "import re, string\n",
    "import emoji"
   ]
  },
  {
   "cell_type": "code",
   "execution_count": 2,
   "id": "72122302",
   "metadata": {
    "execution": {
     "iopub.execute_input": "2023-02-16T12:28:35.240928Z",
     "iopub.status.busy": "2023-02-16T12:28:35.239954Z",
     "iopub.status.idle": "2023-02-16T12:28:37.183980Z",
     "shell.execute_reply": "2023-02-16T12:28:37.182686Z"
    },
    "papermill": {
     "duration": 1.960289,
     "end_time": "2023-02-16T12:28:37.186876",
     "exception": false,
     "start_time": "2023-02-16T12:28:35.226587",
     "status": "completed"
    },
    "tags": []
   },
   "outputs": [],
   "source": [
    "df = pd.read_csv('/kaggle/input/masculinity-saturday-twitter-sentiment-analysis/twitter_sentiment_analysis_masculinity_saturday_data_annotated.csv', index_col=0)"
   ]
  },
  {
   "cell_type": "code",
   "execution_count": 3,
   "id": "34290e6a",
   "metadata": {
    "execution": {
     "iopub.execute_input": "2023-02-16T12:28:37.214153Z",
     "iopub.status.busy": "2023-02-16T12:28:37.213007Z",
     "iopub.status.idle": "2023-02-16T12:28:37.234351Z",
     "shell.execute_reply": "2023-02-16T12:28:37.233253Z"
    },
    "papermill": {
     "duration": 0.038358,
     "end_time": "2023-02-16T12:28:37.237680",
     "exception": false,
     "start_time": "2023-02-16T12:28:37.199322",
     "status": "completed"
    },
    "tags": []
   },
   "outputs": [
    {
     "data": {
      "text/html": [
       "<div>\n",
       "<style scoped>\n",
       "    .dataframe tbody tr th:only-of-type {\n",
       "        vertical-align: middle;\n",
       "    }\n",
       "\n",
       "    .dataframe tbody tr th {\n",
       "        vertical-align: top;\n",
       "    }\n",
       "\n",
       "    .dataframe thead th {\n",
       "        text-align: right;\n",
       "    }\n",
       "</style>\n",
       "<table border=\"1\" class=\"dataframe\">\n",
       "  <thead>\n",
       "    <tr style=\"text-align: right;\">\n",
       "      <th></th>\n",
       "      <th>tweet_created_at</th>\n",
       "      <th>text</th>\n",
       "      <th>Positive</th>\n",
       "      <th>Negative</th>\n",
       "      <th>Neutral</th>\n",
       "      <th>Compound</th>\n",
       "      <th>Sentiment</th>\n",
       "    </tr>\n",
       "  </thead>\n",
       "  <tbody>\n",
       "    <tr>\n",
       "      <th>0</th>\n",
       "      <td>2022-12-30 22:37:46+00:00</td>\n",
       "      <td>Men who have refused to listen to/attend @amer...</td>\n",
       "      <td>0.000</td>\n",
       "      <td>0.073</td>\n",
       "      <td>0.927</td>\n",
       "      <td>-0.2960</td>\n",
       "      <td>Negative</td>\n",
       "    </tr>\n",
       "    <tr>\n",
       "      <th>1</th>\n",
       "      <td>2022-12-30 22:30:58+00:00</td>\n",
       "      <td>@OvOBrezzzy Take amerix next</td>\n",
       "      <td>0.000</td>\n",
       "      <td>0.000</td>\n",
       "      <td>1.000</td>\n",
       "      <td>0.0000</td>\n",
       "      <td>Neutral</td>\n",
       "    </tr>\n",
       "    <tr>\n",
       "      <th>2</th>\n",
       "      <td>2022-12-30 22:18:00+00:00</td>\n",
       "      <td>@AyodeleYo11 @amerix Nah I’m good my masculini...</td>\n",
       "      <td>0.493</td>\n",
       "      <td>0.068</td>\n",
       "      <td>0.439</td>\n",
       "      <td>0.8271</td>\n",
       "      <td>Positive</td>\n",
       "    </tr>\n",
       "    <tr>\n",
       "      <th>3</th>\n",
       "      <td>2022-12-30 20:42:54+00:00</td>\n",
       "      <td>@Amerix_DontSimp There is no need for dating i...</td>\n",
       "      <td>0.000</td>\n",
       "      <td>0.180</td>\n",
       "      <td>0.820</td>\n",
       "      <td>-0.2960</td>\n",
       "      <td>Negative</td>\n",
       "    </tr>\n",
       "    <tr>\n",
       "      <th>4</th>\n",
       "      <td>2022-12-30 20:32:23+00:00</td>\n",
       "      <td>@DyeAnna7 @amerix @kibe From what cos nothing ...</td>\n",
       "      <td>0.110</td>\n",
       "      <td>0.000</td>\n",
       "      <td>0.890</td>\n",
       "      <td>0.6908</td>\n",
       "      <td>Positive</td>\n",
       "    </tr>\n",
       "  </tbody>\n",
       "</table>\n",
       "</div>"
      ],
      "text/plain": [
       "            tweet_created_at  \\\n",
       "0  2022-12-30 22:37:46+00:00   \n",
       "1  2022-12-30 22:30:58+00:00   \n",
       "2  2022-12-30 22:18:00+00:00   \n",
       "3  2022-12-30 20:42:54+00:00   \n",
       "4  2022-12-30 20:32:23+00:00   \n",
       "\n",
       "                                                text  Positive  Negative  \\\n",
       "0  Men who have refused to listen to/attend @amer...     0.000     0.073   \n",
       "1                       @OvOBrezzzy Take amerix next     0.000     0.000   \n",
       "2  @AyodeleYo11 @amerix Nah I’m good my masculini...     0.493     0.068   \n",
       "3  @Amerix_DontSimp There is no need for dating i...     0.000     0.180   \n",
       "4  @DyeAnna7 @amerix @kibe From what cos nothing ...     0.110     0.000   \n",
       "\n",
       "   Neutral  Compound Sentiment  \n",
       "0    0.927   -0.2960  Negative  \n",
       "1    1.000    0.0000   Neutral  \n",
       "2    0.439    0.8271  Positive  \n",
       "3    0.820   -0.2960  Negative  \n",
       "4    0.890    0.6908  Positive  "
      ]
     },
     "execution_count": 3,
     "metadata": {},
     "output_type": "execute_result"
    }
   ],
   "source": [
    "df.head()"
   ]
  },
  {
   "cell_type": "code",
   "execution_count": 4,
   "id": "33f5e6f4",
   "metadata": {
    "execution": {
     "iopub.execute_input": "2023-02-16T12:28:37.264565Z",
     "iopub.status.busy": "2023-02-16T12:28:37.264175Z",
     "iopub.status.idle": "2023-02-16T12:28:37.400790Z",
     "shell.execute_reply": "2023-02-16T12:28:37.399696Z"
    },
    "papermill": {
     "duration": 0.153287,
     "end_time": "2023-02-16T12:28:37.403524",
     "exception": false,
     "start_time": "2023-02-16T12:28:37.250237",
     "status": "completed"
    },
    "tags": []
   },
   "outputs": [],
   "source": [
    "df['tweet_created_at'] = pd.to_datetime(df['tweet_created_at'])"
   ]
  },
  {
   "cell_type": "code",
   "execution_count": 5,
   "id": "39104089",
   "metadata": {
    "execution": {
     "iopub.execute_input": "2023-02-16T12:28:37.431057Z",
     "iopub.status.busy": "2023-02-16T12:28:37.430645Z",
     "iopub.status.idle": "2023-02-16T12:28:37.437622Z",
     "shell.execute_reply": "2023-02-16T12:28:37.436506Z"
    },
    "papermill": {
     "duration": 0.023777,
     "end_time": "2023-02-16T12:28:37.439883",
     "exception": false,
     "start_time": "2023-02-16T12:28:37.416106",
     "status": "completed"
    },
    "tags": []
   },
   "outputs": [
    {
     "data": {
      "text/plain": [
       "(248738, 7)"
      ]
     },
     "execution_count": 5,
     "metadata": {},
     "output_type": "execute_result"
    }
   ],
   "source": [
    "df.shape"
   ]
  },
  {
   "cell_type": "code",
   "execution_count": 6,
   "id": "cf31e171",
   "metadata": {
    "execution": {
     "iopub.execute_input": "2023-02-16T12:28:37.468109Z",
     "iopub.status.busy": "2023-02-16T12:28:37.466913Z",
     "iopub.status.idle": "2023-02-16T12:28:37.741999Z",
     "shell.execute_reply": "2023-02-16T12:28:37.740738Z"
    },
    "papermill": {
     "duration": 0.291755,
     "end_time": "2023-02-16T12:28:37.744716",
     "exception": false,
     "start_time": "2023-02-16T12:28:37.452961",
     "status": "completed"
    },
    "tags": []
   },
   "outputs": [],
   "source": [
    "df.drop_duplicates(subset='text',inplace=True)"
   ]
  },
  {
   "cell_type": "code",
   "execution_count": 7,
   "id": "23d867b5",
   "metadata": {
    "execution": {
     "iopub.execute_input": "2023-02-16T12:28:37.772540Z",
     "iopub.status.busy": "2023-02-16T12:28:37.771640Z",
     "iopub.status.idle": "2023-02-16T12:28:37.779108Z",
     "shell.execute_reply": "2023-02-16T12:28:37.777934Z"
    },
    "papermill": {
     "duration": 0.023772,
     "end_time": "2023-02-16T12:28:37.781511",
     "exception": false,
     "start_time": "2023-02-16T12:28:37.757739",
     "status": "completed"
    },
    "tags": []
   },
   "outputs": [
    {
     "data": {
      "text/plain": [
       "(236023, 7)"
      ]
     },
     "execution_count": 7,
     "metadata": {},
     "output_type": "execute_result"
    }
   ],
   "source": [
    "df.shape"
   ]
  },
  {
   "cell_type": "code",
   "execution_count": 8,
   "id": "0abbbfbc",
   "metadata": {
    "execution": {
     "iopub.execute_input": "2023-02-16T12:28:37.809546Z",
     "iopub.status.busy": "2023-02-16T12:28:37.809155Z",
     "iopub.status.idle": "2023-02-16T12:28:37.863010Z",
     "shell.execute_reply": "2023-02-16T12:28:37.861749Z"
    },
    "papermill": {
     "duration": 0.071521,
     "end_time": "2023-02-16T12:28:37.865981",
     "exception": false,
     "start_time": "2023-02-16T12:28:37.794460",
     "status": "completed"
    },
    "tags": []
   },
   "outputs": [
    {
     "name": "stdout",
     "output_type": "stream",
     "text": [
      "<class 'pandas.core.frame.DataFrame'>\n",
      "Int64Index: 236023 entries, 0 to 248738\n",
      "Data columns (total 7 columns):\n",
      " #   Column            Non-Null Count   Dtype              \n",
      "---  ------            --------------   -----              \n",
      " 0   tweet_created_at  236023 non-null  datetime64[ns, UTC]\n",
      " 1   text              236023 non-null  object             \n",
      " 2   Positive          236023 non-null  float64            \n",
      " 3   Negative          236023 non-null  float64            \n",
      " 4   Neutral           236023 non-null  float64            \n",
      " 5   Compound          236023 non-null  float64            \n",
      " 6   Sentiment         236023 non-null  object             \n",
      "dtypes: datetime64[ns, UTC](1), float64(4), object(2)\n",
      "memory usage: 14.4+ MB\n"
     ]
    }
   ],
   "source": [
    "df.info()"
   ]
  },
  {
   "cell_type": "code",
   "execution_count": 9,
   "id": "24b3d5c5",
   "metadata": {
    "execution": {
     "iopub.execute_input": "2023-02-16T12:28:37.895204Z",
     "iopub.status.busy": "2023-02-16T12:28:37.893958Z",
     "iopub.status.idle": "2023-02-16T12:28:37.901189Z",
     "shell.execute_reply": "2023-02-16T12:28:37.900003Z"
    },
    "papermill": {
     "duration": 0.024666,
     "end_time": "2023-02-16T12:28:37.903782",
     "exception": false,
     "start_time": "2023-02-16T12:28:37.879116",
     "status": "completed"
    },
    "tags": []
   },
   "outputs": [
    {
     "data": {
      "text/plain": [
       "Index(['tweet_created_at', 'text', 'Positive', 'Negative', 'Neutral',\n",
       "       'Compound', 'Sentiment'],\n",
       "      dtype='object')"
      ]
     },
     "execution_count": 9,
     "metadata": {},
     "output_type": "execute_result"
    }
   ],
   "source": [
    "df.columns"
   ]
  },
  {
   "cell_type": "code",
   "execution_count": 10,
   "id": "044dffb2",
   "metadata": {
    "execution": {
     "iopub.execute_input": "2023-02-16T12:28:37.931521Z",
     "iopub.status.busy": "2023-02-16T12:28:37.931097Z",
     "iopub.status.idle": "2023-02-16T12:28:37.951493Z",
     "shell.execute_reply": "2023-02-16T12:28:37.950393Z"
    },
    "papermill": {
     "duration": 0.037167,
     "end_time": "2023-02-16T12:28:37.954093",
     "exception": false,
     "start_time": "2023-02-16T12:28:37.916926",
     "status": "completed"
    },
    "tags": []
   },
   "outputs": [],
   "source": [
    "df = df[['tweet_created_at', 'text', 'Sentiment']]"
   ]
  },
  {
   "cell_type": "code",
   "execution_count": 11,
   "id": "86dd4aa6",
   "metadata": {
    "execution": {
     "iopub.execute_input": "2023-02-16T12:28:37.982344Z",
     "iopub.status.busy": "2023-02-16T12:28:37.981580Z",
     "iopub.status.idle": "2023-02-16T12:28:37.995814Z",
     "shell.execute_reply": "2023-02-16T12:28:37.994577Z"
    },
    "papermill": {
     "duration": 0.031064,
     "end_time": "2023-02-16T12:28:37.998204",
     "exception": false,
     "start_time": "2023-02-16T12:28:37.967140",
     "status": "completed"
    },
    "tags": []
   },
   "outputs": [
    {
     "data": {
      "text/html": [
       "<div>\n",
       "<style scoped>\n",
       "    .dataframe tbody tr th:only-of-type {\n",
       "        vertical-align: middle;\n",
       "    }\n",
       "\n",
       "    .dataframe tbody tr th {\n",
       "        vertical-align: top;\n",
       "    }\n",
       "\n",
       "    .dataframe thead th {\n",
       "        text-align: right;\n",
       "    }\n",
       "</style>\n",
       "<table border=\"1\" class=\"dataframe\">\n",
       "  <thead>\n",
       "    <tr style=\"text-align: right;\">\n",
       "      <th></th>\n",
       "      <th>tweet_created_at</th>\n",
       "      <th>text</th>\n",
       "      <th>Sentiment</th>\n",
       "    </tr>\n",
       "  </thead>\n",
       "  <tbody>\n",
       "    <tr>\n",
       "      <th>0</th>\n",
       "      <td>2022-12-30 22:37:46+00:00</td>\n",
       "      <td>Men who have refused to listen to/attend @amer...</td>\n",
       "      <td>Negative</td>\n",
       "    </tr>\n",
       "    <tr>\n",
       "      <th>1</th>\n",
       "      <td>2022-12-30 22:30:58+00:00</td>\n",
       "      <td>@OvOBrezzzy Take amerix next</td>\n",
       "      <td>Neutral</td>\n",
       "    </tr>\n",
       "    <tr>\n",
       "      <th>2</th>\n",
       "      <td>2022-12-30 22:18:00+00:00</td>\n",
       "      <td>@AyodeleYo11 @amerix Nah I’m good my masculini...</td>\n",
       "      <td>Positive</td>\n",
       "    </tr>\n",
       "    <tr>\n",
       "      <th>3</th>\n",
       "      <td>2022-12-30 20:42:54+00:00</td>\n",
       "      <td>@Amerix_DontSimp There is no need for dating i...</td>\n",
       "      <td>Negative</td>\n",
       "    </tr>\n",
       "    <tr>\n",
       "      <th>4</th>\n",
       "      <td>2022-12-30 20:32:23+00:00</td>\n",
       "      <td>@DyeAnna7 @amerix @kibe From what cos nothing ...</td>\n",
       "      <td>Positive</td>\n",
       "    </tr>\n",
       "  </tbody>\n",
       "</table>\n",
       "</div>"
      ],
      "text/plain": [
       "           tweet_created_at  \\\n",
       "0 2022-12-30 22:37:46+00:00   \n",
       "1 2022-12-30 22:30:58+00:00   \n",
       "2 2022-12-30 22:18:00+00:00   \n",
       "3 2022-12-30 20:42:54+00:00   \n",
       "4 2022-12-30 20:32:23+00:00   \n",
       "\n",
       "                                                text Sentiment  \n",
       "0  Men who have refused to listen to/attend @amer...  Negative  \n",
       "1                       @OvOBrezzzy Take amerix next   Neutral  \n",
       "2  @AyodeleYo11 @amerix Nah I’m good my masculini...  Positive  \n",
       "3  @Amerix_DontSimp There is no need for dating i...  Negative  \n",
       "4  @DyeAnna7 @amerix @kibe From what cos nothing ...  Positive  "
      ]
     },
     "execution_count": 11,
     "metadata": {},
     "output_type": "execute_result"
    }
   ],
   "source": [
    "df.head()"
   ]
  },
  {
   "cell_type": "code",
   "execution_count": 12,
   "id": "3ac87880",
   "metadata": {
    "execution": {
     "iopub.execute_input": "2023-02-16T12:28:38.026495Z",
     "iopub.status.busy": "2023-02-16T12:28:38.026053Z",
     "iopub.status.idle": "2023-02-16T12:28:38.035023Z",
     "shell.execute_reply": "2023-02-16T12:28:38.033736Z"
    },
    "papermill": {
     "duration": 0.025753,
     "end_time": "2023-02-16T12:28:38.037232",
     "exception": false,
     "start_time": "2023-02-16T12:28:38.011479",
     "status": "completed"
    },
    "tags": []
   },
   "outputs": [
    {
     "data": {
      "text/plain": [
       "0     Men who have refused to listen to/attend @amer...\n",
       "1                          @OvOBrezzzy Take amerix next\n",
       "2     @AyodeleYo11 @amerix Nah I’m good my masculini...\n",
       "3     @Amerix_DontSimp There is no need for dating i...\n",
       "4     @DyeAnna7 @amerix @kibe From what cos nothing ...\n",
       "5     @salim_the_don @MwendiaJnr I see you unblocked...\n",
       "6     @german_kenyan @ML_Philosophy 🤣 yes they are a...\n",
       "7     @PadreMusa Amerix once said the alcohol menace...\n",
       "8     @DodoPicard You're in Eastafrica, he probably ...\n",
       "9                      @HBK_ACTIVIST @amerix @kibe Heal\n",
       "10                           Amerix student of the year\n",
       "11    @sholla_saddam These are notes from @amerix's ...\n",
       "12    @amerix I appreciate the intent of this, but I...\n",
       "13    @Mynames_Jefff @Biancawamu2 @amerix Wouldn't b...\n",
       "14    @sharbabababa @Biancawamu2 could be @amerix wife🤷\n",
       "15    @DyeAnna7 @amerix @kibe Was raised by toxic co...\n",
       "16    @butdarkacademia @purevibeezz good thing is An...\n",
       "17    @amerix The system needs you sick and depresse...\n",
       "18    As we end the year 2022, kindly pass my messag...\n",
       "19                       @Ha_thighness @yvng_joh Amerix\n",
       "Name: text, dtype: object"
      ]
     },
     "execution_count": 12,
     "metadata": {},
     "output_type": "execute_result"
    }
   ],
   "source": [
    "df['text'].head(20)"
   ]
  },
  {
   "cell_type": "code",
   "execution_count": 13,
   "id": "4b2c9094",
   "metadata": {
    "execution": {
     "iopub.execute_input": "2023-02-16T12:28:38.067776Z",
     "iopub.status.busy": "2023-02-16T12:28:38.066960Z",
     "iopub.status.idle": "2023-02-16T12:28:38.080708Z",
     "shell.execute_reply": "2023-02-16T12:28:38.079539Z"
    },
    "papermill": {
     "duration": 0.031738,
     "end_time": "2023-02-16T12:28:38.083140",
     "exception": false,
     "start_time": "2023-02-16T12:28:38.051402",
     "status": "completed"
    },
    "tags": []
   },
   "outputs": [
    {
     "data": {
      "text/html": [
       "<div>\n",
       "<style scoped>\n",
       "    .dataframe tbody tr th:only-of-type {\n",
       "        vertical-align: middle;\n",
       "    }\n",
       "\n",
       "    .dataframe tbody tr th {\n",
       "        vertical-align: top;\n",
       "    }\n",
       "\n",
       "    .dataframe thead th {\n",
       "        text-align: right;\n",
       "    }\n",
       "</style>\n",
       "<table border=\"1\" class=\"dataframe\">\n",
       "  <thead>\n",
       "    <tr style=\"text-align: right;\">\n",
       "      <th></th>\n",
       "      <th>tweet_created_at</th>\n",
       "      <th>text</th>\n",
       "      <th>Sentiment</th>\n",
       "    </tr>\n",
       "  </thead>\n",
       "  <tbody>\n",
       "    <tr>\n",
       "      <th>248719</th>\n",
       "      <td>2020-01-03 16:00:23+00:00</td>\n",
       "      <td>#FoodFriday means tasty snacks throughout the ...</td>\n",
       "      <td>Neutral</td>\n",
       "    </tr>\n",
       "    <tr>\n",
       "      <th>248720</th>\n",
       "      <td>2020-01-03 15:32:14+00:00</td>\n",
       "      <td>F U E L E D F R I D A Y\\nLooking for a fun, co...</td>\n",
       "      <td>Positive</td>\n",
       "    </tr>\n",
       "    <tr>\n",
       "      <th>248721</th>\n",
       "      <td>2020-01-03 15:15:13+00:00</td>\n",
       "      <td>Kummer reminds you to stay hydrated #foodfrida...</td>\n",
       "      <td>Neutral</td>\n",
       "    </tr>\n",
       "    <tr>\n",
       "      <th>248722</th>\n",
       "      <td>2020-01-03 15:14:57+00:00</td>\n",
       "      <td>Commercial #Kitchens need attention at a great...</td>\n",
       "      <td>Positive</td>\n",
       "    </tr>\n",
       "    <tr>\n",
       "      <th>248723</th>\n",
       "      <td>2020-01-03 15:11:01+00:00</td>\n",
       "      <td>Mary's Meals is changing lives in Zimbabwe htt...</td>\n",
       "      <td>Neutral</td>\n",
       "    </tr>\n",
       "    <tr>\n",
       "      <th>248724</th>\n",
       "      <td>2020-01-03 15:00:48+00:00</td>\n",
       "      <td>Will meat alternatives continue gaining popula...</td>\n",
       "      <td>Positive</td>\n",
       "    </tr>\n",
       "    <tr>\n",
       "      <th>248725</th>\n",
       "      <td>2020-01-03 14:29:10+00:00</td>\n",
       "      <td>These are our top five healthy recipes that yo...</td>\n",
       "      <td>Positive</td>\n",
       "    </tr>\n",
       "    <tr>\n",
       "      <th>248726</th>\n",
       "      <td>2020-01-03 14:01:57+00:00</td>\n",
       "      <td>Burned out on cooking after the holidays? Here...</td>\n",
       "      <td>Positive</td>\n",
       "    </tr>\n",
       "    <tr>\n",
       "      <th>248727</th>\n",
       "      <td>2020-01-03 14:00:38+00:00</td>\n",
       "      <td>Will you eat lettuce that is not grown in soil...</td>\n",
       "      <td>Neutral</td>\n",
       "    </tr>\n",
       "    <tr>\n",
       "      <th>248728</th>\n",
       "      <td>2020-01-03 13:49:24+00:00</td>\n",
       "      <td>#FoodFriday: Is it possible to treat things li...</td>\n",
       "      <td>Negative</td>\n",
       "    </tr>\n",
       "    <tr>\n",
       "      <th>248729</th>\n",
       "      <td>2020-01-03 13:33:59+00:00</td>\n",
       "      <td>Foodies, this particular country is one of our...</td>\n",
       "      <td>Positive</td>\n",
       "    </tr>\n",
       "    <tr>\n",
       "      <th>248730</th>\n",
       "      <td>2020-01-03 13:15:42+00:00</td>\n",
       "      <td>Today is usually #FoodFriday on this timeline....</td>\n",
       "      <td>Negative</td>\n",
       "    </tr>\n",
       "    <tr>\n",
       "      <th>248731</th>\n",
       "      <td>2020-01-03 13:06:15+00:00</td>\n",
       "      <td>#FoodFriday\\n\\nWhat are you cookin' up today o...</td>\n",
       "      <td>Positive</td>\n",
       "    </tr>\n",
       "    <tr>\n",
       "      <th>248732</th>\n",
       "      <td>2020-01-03 12:30:12+00:00</td>\n",
       "      <td>This weeks #FoodFriday is from @WoodsideBay 🍕\\...</td>\n",
       "      <td>Positive</td>\n",
       "    </tr>\n",
       "    <tr>\n",
       "      <th>248733</th>\n",
       "      <td>2020-01-03 12:05:03+00:00</td>\n",
       "      <td>Ring in the New Year with healthy eating. Chec...</td>\n",
       "      <td>Positive</td>\n",
       "    </tr>\n",
       "    <tr>\n",
       "      <th>248734</th>\n",
       "      <td>2020-01-03 11:15:48+00:00</td>\n",
       "      <td>'The old fool forgot the lessons of Blodeuwedd...</td>\n",
       "      <td>Negative</td>\n",
       "    </tr>\n",
       "    <tr>\n",
       "      <th>248735</th>\n",
       "      <td>2020-01-03 10:08:33+00:00</td>\n",
       "      <td>African star Apple (Udara).\\nRich source of vi...</td>\n",
       "      <td>Positive</td>\n",
       "    </tr>\n",
       "    <tr>\n",
       "      <th>248736</th>\n",
       "      <td>2020-01-03 06:44:33+00:00</td>\n",
       "      <td>#FOODFRIDAY 🇮🇹🍫\\nIf you love chocolate, then b...</td>\n",
       "      <td>Positive</td>\n",
       "    </tr>\n",
       "    <tr>\n",
       "      <th>248737</th>\n",
       "      <td>2020-01-03 06:31:10+00:00</td>\n",
       "      <td>#foodfriday @baghdadcafeCT hey offer a variety...</td>\n",
       "      <td>Positive</td>\n",
       "    </tr>\n",
       "    <tr>\n",
       "      <th>248738</th>\n",
       "      <td>2020-01-03 04:30:00+00:00</td>\n",
       "      <td>This Mangalorean special chicken curry can be ...</td>\n",
       "      <td>Positive</td>\n",
       "    </tr>\n",
       "  </tbody>\n",
       "</table>\n",
       "</div>"
      ],
      "text/plain": [
       "                tweet_created_at  \\\n",
       "248719 2020-01-03 16:00:23+00:00   \n",
       "248720 2020-01-03 15:32:14+00:00   \n",
       "248721 2020-01-03 15:15:13+00:00   \n",
       "248722 2020-01-03 15:14:57+00:00   \n",
       "248723 2020-01-03 15:11:01+00:00   \n",
       "248724 2020-01-03 15:00:48+00:00   \n",
       "248725 2020-01-03 14:29:10+00:00   \n",
       "248726 2020-01-03 14:01:57+00:00   \n",
       "248727 2020-01-03 14:00:38+00:00   \n",
       "248728 2020-01-03 13:49:24+00:00   \n",
       "248729 2020-01-03 13:33:59+00:00   \n",
       "248730 2020-01-03 13:15:42+00:00   \n",
       "248731 2020-01-03 13:06:15+00:00   \n",
       "248732 2020-01-03 12:30:12+00:00   \n",
       "248733 2020-01-03 12:05:03+00:00   \n",
       "248734 2020-01-03 11:15:48+00:00   \n",
       "248735 2020-01-03 10:08:33+00:00   \n",
       "248736 2020-01-03 06:44:33+00:00   \n",
       "248737 2020-01-03 06:31:10+00:00   \n",
       "248738 2020-01-03 04:30:00+00:00   \n",
       "\n",
       "                                                     text Sentiment  \n",
       "248719  #FoodFriday means tasty snacks throughout the ...   Neutral  \n",
       "248720  F U E L E D F R I D A Y\\nLooking for a fun, co...  Positive  \n",
       "248721  Kummer reminds you to stay hydrated #foodfrida...   Neutral  \n",
       "248722  Commercial #Kitchens need attention at a great...  Positive  \n",
       "248723  Mary's Meals is changing lives in Zimbabwe htt...   Neutral  \n",
       "248724  Will meat alternatives continue gaining popula...  Positive  \n",
       "248725  These are our top five healthy recipes that yo...  Positive  \n",
       "248726  Burned out on cooking after the holidays? Here...  Positive  \n",
       "248727  Will you eat lettuce that is not grown in soil...   Neutral  \n",
       "248728  #FoodFriday: Is it possible to treat things li...  Negative  \n",
       "248729  Foodies, this particular country is one of our...  Positive  \n",
       "248730  Today is usually #FoodFriday on this timeline....  Negative  \n",
       "248731  #FoodFriday\\n\\nWhat are you cookin' up today o...  Positive  \n",
       "248732  This weeks #FoodFriday is from @WoodsideBay 🍕\\...  Positive  \n",
       "248733  Ring in the New Year with healthy eating. Chec...  Positive  \n",
       "248734  'The old fool forgot the lessons of Blodeuwedd...  Negative  \n",
       "248735  African star Apple (Udara).\\nRich source of vi...  Positive  \n",
       "248736  #FOODFRIDAY 🇮🇹🍫\\nIf you love chocolate, then b...  Positive  \n",
       "248737  #foodfriday @baghdadcafeCT hey offer a variety...  Positive  \n",
       "248738  This Mangalorean special chicken curry can be ...  Positive  "
      ]
     },
     "execution_count": 13,
     "metadata": {},
     "output_type": "execute_result"
    }
   ],
   "source": [
    "df.tail(20)"
   ]
  },
  {
   "cell_type": "code",
   "execution_count": 14,
   "id": "bd5d7c6a",
   "metadata": {
    "execution": {
     "iopub.execute_input": "2023-02-16T12:28:38.113614Z",
     "iopub.status.busy": "2023-02-16T12:28:38.113207Z",
     "iopub.status.idle": "2023-02-16T12:28:39.599935Z",
     "shell.execute_reply": "2023-02-16T12:28:39.598628Z"
    },
    "papermill": {
     "duration": 1.505208,
     "end_time": "2023-02-16T12:28:39.602755",
     "exception": false,
     "start_time": "2023-02-16T12:28:38.097547",
     "status": "completed"
    },
    "tags": []
   },
   "outputs": [
    {
     "data": {
      "application/vnd.jupyter.widget-view+json": {
       "model_id": "4fcf65dbba774d8cbb60bbe6cdf6cc29",
       "version_major": 2,
       "version_minor": 0
      },
      "text/plain": [
       "Downloading:   0%|          | 0.00/28.0 [00:00<?, ?B/s]"
      ]
     },
     "metadata": {},
     "output_type": "display_data"
    },
    {
     "data": {
      "application/vnd.jupyter.widget-view+json": {
       "model_id": "e30401a64e224e0381bf9cb1eb356a73",
       "version_major": 2,
       "version_minor": 0
      },
      "text/plain": [
       "Downloading:   0%|          | 0.00/226k [00:00<?, ?B/s]"
      ]
     },
     "metadata": {},
     "output_type": "display_data"
    },
    {
     "data": {
      "application/vnd.jupyter.widget-view+json": {
       "model_id": "29bfeb6815324020a79739b157e76377",
       "version_major": 2,
       "version_minor": 0
      },
      "text/plain": [
       "Downloading:   0%|          | 0.00/455k [00:00<?, ?B/s]"
      ]
     },
     "metadata": {},
     "output_type": "display_data"
    },
    {
     "data": {
      "application/vnd.jupyter.widget-view+json": {
       "model_id": "fcf03451a7034a8b8fe2b57f8a352640",
       "version_major": 2,
       "version_minor": 0
      },
      "text/plain": [
       "Downloading:   0%|          | 0.00/570 [00:00<?, ?B/s]"
      ]
     },
     "metadata": {},
     "output_type": "display_data"
    }
   ],
   "source": [
    "tokenizer = BertTokenizerFast.from_pretrained('bert-base-uncased')"
   ]
  },
  {
   "cell_type": "code",
   "execution_count": 15,
   "id": "88d56a83",
   "metadata": {
    "execution": {
     "iopub.execute_input": "2023-02-16T12:28:39.633856Z",
     "iopub.status.busy": "2023-02-16T12:28:39.633396Z",
     "iopub.status.idle": "2023-02-16T12:28:40.544859Z",
     "shell.execute_reply": "2023-02-16T12:28:40.543581Z"
    },
    "papermill": {
     "duration": 0.930408,
     "end_time": "2023-02-16T12:28:40.547956",
     "exception": false,
     "start_time": "2023-02-16T12:28:39.617548",
     "status": "completed"
    },
    "tags": []
   },
   "outputs": [],
   "source": [
    "tokenizer_1 = AutoTokenizer.from_pretrained('bert-base-uncased')"
   ]
  },
  {
   "cell_type": "code",
   "execution_count": 16,
   "id": "f59870f4",
   "metadata": {
    "execution": {
     "iopub.execute_input": "2023-02-16T12:28:40.579824Z",
     "iopub.status.busy": "2023-02-16T12:28:40.579425Z",
     "iopub.status.idle": "2023-02-16T12:28:50.914943Z",
     "shell.execute_reply": "2023-02-16T12:28:50.913290Z"
    },
    "papermill": {
     "duration": 10.354698,
     "end_time": "2023-02-16T12:28:50.917827",
     "exception": false,
     "start_time": "2023-02-16T12:28:40.563129",
     "status": "completed"
    },
    "tags": []
   },
   "outputs": [
    {
     "name": "stdout",
     "output_type": "stream",
     "text": [
      "99.80984576378619% of the emojis are not identified by this tokenizer.\n"
     ]
    }
   ],
   "source": [
    "emoji_list = list(emoji.EMOJI_DATA.keys())\n",
    "\n",
    "cnt = 0\n",
    "\n",
    "for e in emoji_list:\n",
    "    tokenized = tokenizer.decode(tokenizer.encode(e)).strip(\"</s>\").strip()\n",
    "    if e not in tokenized:\n",
    "        cnt += 1\n",
    "print(f\"{cnt/len(emoji_list)*100}% of the emojis are not identified by this tokenizer.\")"
   ]
  },
  {
   "cell_type": "code",
   "execution_count": 17,
   "id": "6263e26d",
   "metadata": {
    "execution": {
     "iopub.execute_input": "2023-02-16T12:28:50.949381Z",
     "iopub.status.busy": "2023-02-16T12:28:50.948610Z",
     "iopub.status.idle": "2023-02-16T12:28:51.347856Z",
     "shell.execute_reply": "2023-02-16T12:28:51.346301Z"
    },
    "papermill": {
     "duration": 0.417832,
     "end_time": "2023-02-16T12:28:51.350467",
     "exception": false,
     "start_time": "2023-02-16T12:28:50.932635",
     "status": "completed"
    },
    "tags": []
   },
   "outputs": [
    {
     "name": "stdout",
     "output_type": "stream",
     "text": [
      "99.80984576378619% of the emojis are not identified by this tokenizer.\n"
     ]
    }
   ],
   "source": [
    "emoji_list = list(emoji.EMOJI_DATA.keys())\n",
    "\n",
    "cnt = 0\n",
    "\n",
    "for e in emoji_list:\n",
    "    tokenized = tokenizer_1.decode(tokenizer_1.encode(e)).strip(\"</s>\").strip()\n",
    "    if e not in tokenized:\n",
    "        cnt += 1\n",
    "print(f\"{cnt/len(emoji_list)*100}% of the emojis are not identified by this tokenizer.\")"
   ]
  },
  {
   "cell_type": "code",
   "execution_count": 18,
   "id": "93f48bbb",
   "metadata": {
    "execution": {
     "iopub.execute_input": "2023-02-16T12:28:51.381605Z",
     "iopub.status.busy": "2023-02-16T12:28:51.381218Z",
     "iopub.status.idle": "2023-02-16T12:28:51.908667Z",
     "shell.execute_reply": "2023-02-16T12:28:51.907149Z"
    },
    "papermill": {
     "duration": 0.546619,
     "end_time": "2023-02-16T12:28:51.911660",
     "exception": false,
     "start_time": "2023-02-16T12:28:51.365041",
     "status": "completed"
    },
    "tags": []
   },
   "outputs": [],
   "source": [
    "tokenizer_3 = BertTokenizer.from_pretrained('bert-base-uncased')"
   ]
  },
  {
   "cell_type": "code",
   "execution_count": 19,
   "id": "418347b1",
   "metadata": {
    "execution": {
     "iopub.execute_input": "2023-02-16T12:28:51.944018Z",
     "iopub.status.busy": "2023-02-16T12:28:51.943273Z",
     "iopub.status.idle": "2023-02-16T12:28:52.836053Z",
     "shell.execute_reply": "2023-02-16T12:28:52.834563Z"
    },
    "papermill": {
     "duration": 0.91293,
     "end_time": "2023-02-16T12:28:52.839736",
     "exception": false,
     "start_time": "2023-02-16T12:28:51.926806",
     "status": "completed"
    },
    "tags": []
   },
   "outputs": [
    {
     "name": "stdout",
     "output_type": "stream",
     "text": [
      "99.80984576378619% of the emojis are not identified by this tokenizer.\n"
     ]
    }
   ],
   "source": [
    "emoji_list = list(emoji.EMOJI_DATA.keys())\n",
    "\n",
    "cnt = 0\n",
    "\n",
    "for e in emoji_list:\n",
    "    tokenized = tokenizer_3.decode(tokenizer_3.encode(e)).strip(\"</s>\").strip()\n",
    "    if e not in tokenized:\n",
    "        cnt += 1\n",
    "print(f\"{cnt/len(emoji_list)*100}% of the emojis are not identified by this tokenizer.\")"
   ]
  },
  {
   "cell_type": "code",
   "execution_count": 20,
   "id": "76cb1230",
   "metadata": {
    "execution": {
     "iopub.execute_input": "2023-02-16T12:28:52.874402Z",
     "iopub.status.busy": "2023-02-16T12:28:52.873187Z",
     "iopub.status.idle": "2023-02-16T12:28:54.989332Z",
     "shell.execute_reply": "2023-02-16T12:28:54.988127Z"
    },
    "papermill": {
     "duration": 2.135554,
     "end_time": "2023-02-16T12:28:54.992189",
     "exception": false,
     "start_time": "2023-02-16T12:28:52.856635",
     "status": "completed"
    },
    "tags": []
   },
   "outputs": [
    {
     "data": {
      "application/vnd.jupyter.widget-view+json": {
       "model_id": "1d8903a54301478a9a86f79731b6aaae",
       "version_major": 2,
       "version_minor": 0
      },
      "text/plain": [
       "Downloading:   0%|          | 0.00/656 [00:00<?, ?B/s]"
      ]
     },
     "metadata": {},
     "output_type": "display_data"
    },
    {
     "data": {
      "application/vnd.jupyter.widget-view+json": {
       "model_id": "64161a403bae487b93c54dbc40923c18",
       "version_major": 2,
       "version_minor": 0
      },
      "text/plain": [
       "Downloading:   0%|          | 0.00/797k [00:00<?, ?B/s]"
      ]
     },
     "metadata": {},
     "output_type": "display_data"
    },
    {
     "data": {
      "application/vnd.jupyter.widget-view+json": {
       "model_id": "c7ce85a6a07e4f21958e7af7933014e2",
       "version_major": 2,
       "version_minor": 0
      },
      "text/plain": [
       "Downloading:   0%|          | 0.00/448k [00:00<?, ?B/s]"
      ]
     },
     "metadata": {},
     "output_type": "display_data"
    },
    {
     "data": {
      "application/vnd.jupyter.widget-view+json": {
       "model_id": "76e64ebd497f44cb99d959b9b59088a1",
       "version_major": 2,
       "version_minor": 0
      },
      "text/plain": [
       "Downloading:   0%|          | 0.00/1.21M [00:00<?, ?B/s]"
      ]
     },
     "metadata": {},
     "output_type": "display_data"
    }
   ],
   "source": [
    "tokenizer_4 = AutoTokenizer.from_pretrained(\"openai-gpt\")"
   ]
  },
  {
   "cell_type": "code",
   "execution_count": 21,
   "id": "409e7054",
   "metadata": {
    "execution": {
     "iopub.execute_input": "2023-02-16T12:28:55.025122Z",
     "iopub.status.busy": "2023-02-16T12:28:55.024284Z",
     "iopub.status.idle": "2023-02-16T12:28:55.388084Z",
     "shell.execute_reply": "2023-02-16T12:28:55.386776Z"
    },
    "papermill": {
     "duration": 0.383025,
     "end_time": "2023-02-16T12:28:55.390727",
     "exception": false,
     "start_time": "2023-02-16T12:28:55.007702",
     "status": "completed"
    },
    "tags": []
   },
   "outputs": [
    {
     "name": "stdout",
     "output_type": "stream",
     "text": [
      "99.80984576378619% of the emojis are not identified by this tokenizer.\n"
     ]
    }
   ],
   "source": [
    "emoji_list = list(emoji.EMOJI_DATA.keys())\n",
    "\n",
    "cnt = 0\n",
    "\n",
    "for e in emoji_list:\n",
    "    tokenized = tokenizer_4.decode(tokenizer_4.encode(e)).strip(\"</s>\").strip()\n",
    "    if e not in tokenized:\n",
    "        cnt += 1\n",
    "print(f\"{cnt/len(emoji_list)*100}% of the emojis are not identified by this tokenizer.\")"
   ]
  },
  {
   "cell_type": "code",
   "execution_count": 22,
   "id": "99fad493",
   "metadata": {
    "execution": {
     "iopub.execute_input": "2023-02-16T12:28:55.423484Z",
     "iopub.status.busy": "2023-02-16T12:28:55.422312Z",
     "iopub.status.idle": "2023-02-16T12:28:55.428710Z",
     "shell.execute_reply": "2023-02-16T12:28:55.427450Z"
    },
    "papermill": {
     "duration": 0.024949,
     "end_time": "2023-02-16T12:28:55.430915",
     "exception": false,
     "start_time": "2023-02-16T12:28:55.405966",
     "status": "completed"
    },
    "tags": []
   },
   "outputs": [],
   "source": [
    "def emoji2description(text):\n",
    "\n",
    "    return emoji.replace_emoji(text, replace=lambda chars, data_dict: ' '.join(data_dict['en'].split('_')).strip(':'))"
   ]
  },
  {
   "cell_type": "code",
   "execution_count": 23,
   "id": "4e5eeac2",
   "metadata": {
    "execution": {
     "iopub.execute_input": "2023-02-16T12:28:55.463489Z",
     "iopub.status.busy": "2023-02-16T12:28:55.462801Z",
     "iopub.status.idle": "2023-02-16T12:28:55.469015Z",
     "shell.execute_reply": "2023-02-16T12:28:55.468123Z"
    },
    "papermill": {
     "duration": 0.025419,
     "end_time": "2023-02-16T12:28:55.471424",
     "exception": false,
     "start_time": "2023-02-16T12:28:55.446005",
     "status": "completed"
    },
    "tags": []
   },
   "outputs": [],
   "source": [
    "def emoji2concat_emoji(text):\n",
    "    emoji_list = emoji.emoji_list(text)\n",
    "    ret = emoji.replace_emoji(text, replace='').strip()\n",
    "    for json in emoji_list:\n",
    "        this_emoji = json['emoji']\n",
    "        ret += ' ' + this_emoji\n",
    "    return ret"
   ]
  },
  {
   "cell_type": "code",
   "execution_count": 24,
   "id": "7dbdbfe5",
   "metadata": {
    "execution": {
     "iopub.execute_input": "2023-02-16T12:28:55.504074Z",
     "iopub.status.busy": "2023-02-16T12:28:55.503414Z",
     "iopub.status.idle": "2023-02-16T12:28:55.509806Z",
     "shell.execute_reply": "2023-02-16T12:28:55.508935Z"
    },
    "papermill": {
     "duration": 0.025179,
     "end_time": "2023-02-16T12:28:55.511969",
     "exception": false,
     "start_time": "2023-02-16T12:28:55.486790",
     "status": "completed"
    },
    "tags": []
   },
   "outputs": [],
   "source": [
    "def emoji2concat_description(text):\n",
    "    emoji_list = emoji.emoji_list(text)\n",
    "    ret = emoji.replace_emoji(text, replace='').strip()\n",
    "    for json in emoji_list:\n",
    "        this_desc = ' '.join(emoji.EMOJI_DATA[json['emoji']]['en'].split('_')).strip(':')\n",
    "        ret += ' ' + this_desc\n",
    "    return ret"
   ]
  },
  {
   "cell_type": "code",
   "execution_count": 25,
   "id": "26476ba2",
   "metadata": {
    "execution": {
     "iopub.execute_input": "2023-02-16T12:28:55.545599Z",
     "iopub.status.busy": "2023-02-16T12:28:55.544884Z",
     "iopub.status.idle": "2023-02-16T12:30:00.337898Z",
     "shell.execute_reply": "2023-02-16T12:30:00.336347Z"
    },
    "papermill": {
     "duration": 64.812822,
     "end_time": "2023-02-16T12:30:00.340920",
     "exception": false,
     "start_time": "2023-02-16T12:28:55.528098",
     "status": "completed"
    },
    "tags": []
   },
   "outputs": [],
   "source": [
    "texts_new = []\n",
    "\n",
    "for t in df.text:\n",
    "    texts_new.append(\n",
    "        emoji2description(emoji2concat_emoji(emoji2concat_description((t))))\n",
    "    )"
   ]
  },
  {
   "cell_type": "code",
   "execution_count": 26,
   "id": "65ba8662",
   "metadata": {
    "execution": {
     "iopub.execute_input": "2023-02-16T12:30:00.374204Z",
     "iopub.status.busy": "2023-02-16T12:30:00.373747Z",
     "iopub.status.idle": "2023-02-16T12:30:00.412866Z",
     "shell.execute_reply": "2023-02-16T12:30:00.411623Z"
    },
    "papermill": {
     "duration": 0.059043,
     "end_time": "2023-02-16T12:30:00.415694",
     "exception": false,
     "start_time": "2023-02-16T12:30:00.356651",
     "status": "completed"
    },
    "tags": []
   },
   "outputs": [],
   "source": [
    "df['text_clean'] = texts_new"
   ]
  },
  {
   "cell_type": "code",
   "execution_count": 27,
   "id": "439b6713",
   "metadata": {
    "execution": {
     "iopub.execute_input": "2023-02-16T12:30:00.447728Z",
     "iopub.status.busy": "2023-02-16T12:30:00.447332Z",
     "iopub.status.idle": "2023-02-16T12:30:00.455709Z",
     "shell.execute_reply": "2023-02-16T12:30:00.454546Z"
    },
    "papermill": {
     "duration": 0.027266,
     "end_time": "2023-02-16T12:30:00.458205",
     "exception": false,
     "start_time": "2023-02-16T12:30:00.430939",
     "status": "completed"
    },
    "tags": []
   },
   "outputs": [
    {
     "data": {
      "text/plain": [
       "array(['#FoodFriday means tasty snacks throughout the day!\\n😋💙🥄🍫\\n📷 : @flexible_nati\\n#haveaplant https://t.co/pNSAHV2hDh',\n",
       "       'F U E L E D F R I D A Y\\nLooking for a fun, colorful and healthy recipe to kick off the new year? Well, check out this delicious and beautiful dish!\\n・・・\\nEggs baked in Veggie Nests. Head over to our insta for the recipe. 🤤\\n\\n#fueledfriday #foodfriday #runinrabbit #borntorunfree https://t.co/2Fwez5uYb2',\n",
       "       'Kummer reminds you to stay hydrated #foodfriday https://t.co/rkZmatd97f',\n",
       "       'Commercial #Kitchens need attention at a great price! 🦏 Rhino Shine has a solid plan unlike #JasonGarrett future 🤷🏻\\u200d♂️. #Dallas #winning #coupons #restaurant #hood #cleaning #foodfriday #trucks https://t.co/U0V5BO33uo',\n",
       "       \"Mary's Meals is changing lives in Zimbabwe https://t.co/bioEZAt47N #feelgoodfriday #FoodFriday\",\n",
       "       'Will meat alternatives continue gaining popularity in 2020? https://t.co/wzvi1XOBmj via @YourMorning ht  @LetsTalkScience 🥬🍔🤑 #food #health #diet #nutrition #meatless #plantbased #Vegan #vegetarian #HealthyLiving #HealthyEating #BusinessGrowth #business #FoodFriday',\n",
       "       'These are our top five healthy recipes that you can throw together in the morning and enjoy in the evening (as well as take leftovers for lunch the next day).\\n#FoodFriday #EatHealthy #NewYearNewYou #PersonalTraining #FitnessTogether                       https://t.co/TiKGdeqr1p',\n",
       "       \"Burned out on cooking after the holidays? Here's a selection of quick and easy meals to get you inspired #FoodFriday\\nhttps://t.co/uLYOPeQHQc https://t.co/nyWopWqh79\",\n",
       "       'Will you eat lettuce that is not grown in soil? Large scale #Hydroponics can produce hyper local food in a small space, even shipping containers or in your own home. https://t.co/Ogy8UgHMUt #FoodFriday',\n",
       "       '#FoodFriday: Is it possible to treat things like anxiety and depression with food? https://t.co/93Ez7VwziK\\n#KinderInTheKeys #MentalHealth #Anxiety #PTSD #Depression #Trauma #Recovery #Healing #Treatment #Food #Wellness',\n",
       "       \"Foodies, this particular country is one of our FAV when it comes to FOOD!! 🥘🍲🥗🍜\\n\\nLet's see if you can guess it!! 🤓\\n\\n#FoodFriday #GuessGame #Guess #Fun #FridayThoughts #foodie https://t.co/gK3x3uMArb\",\n",
       "       'Today is usually #FoodFriday on this timeline.\\n\\nI tweet about food. \\n\\nIf you can postpone your instant gratification from bad foods, you can postpone bad habits in your life.\\n\\nHow you approach food is evidently how you approach your other aspects of life.\\n\\n#FoodFriday',\n",
       "       \"#FoodFriday\\n\\nWhat are you cookin' up today or this weekend? What's your favorite recipe? Looking for some new ideas! https://t.co/3VRQTRCxd3\",\n",
       "       'This weeks #FoodFriday is from @WoodsideBay 🍕\\n\\nWould you be interested in a #Chef position with us?\\nThen why not visit the Darwin Escapes website, locate the Careers tab and search for our Chef vacancies 😀\\n\\n#Jobs https://t.co/FWNknvURhn',\n",
       "       'Ring in the New Year with healthy eating. Checkout #ClickNCook #healthrecipe Fruity Homemade Oatmeal. https://t.co/7XR3tw6XsH\\n#FoodFriday',\n",
       "       \"'The old fool forgot the lessons of Blodeuwedd and Frankenstein: never create anything smarter, or more ruthless, than yourself.'\\n.\\n#FoodFriday featuring cheesecake (that I'd been craving since Tuesday but been too lazy to…\\n\\n📸 https://t.co/U6yxC4h3sz via https://t.co/Z51VYxAyBJ https://t.co/8f5Lqkp8hm\",\n",
       "       'African star Apple (Udara).\\nRich source of vita.C is one of the wonderful fruits offered by nature with important health benefits.\\nRanging from tackling toothache, mouth gum disease, soar throat, helps in weight loss and good for expecting mothers \\n\\n#FoodFriday\\n#CoalCityConnect https://t.co/ODyfnS8VVm',\n",
       "       '#FOODFRIDAY 🇮🇹🍫\\nIf you love chocolate, then board the first flight to California. The Nutella Pop Up Hotel is about to open. Discover more in this video. Do you know? Nutella is an Italian product...of course!\\n#italy #food #nutella #language #school… https://t.co/bgG5haT6mQ https://t.co/gw0JhCqZHE',\n",
       "       '#foodfriday @baghdadcafeCT hey offer a variety of delicious foods, from pizza to tacos and sticky wings! For your convenience they also avail on @ubereats_za https://t.co/P8sdNvfMcg',\n",
       "       'This Mangalorean special chicken curry can be paired best with neer dosa or steamed rice. What’s your pick?\\nRecipe Link: https://t.co/iyYCpcuoeA\\n#FoodFriday https://t.co/Bke1o79Zio'],\n",
       "      dtype=object)"
      ]
     },
     "execution_count": 27,
     "metadata": {},
     "output_type": "execute_result"
    }
   ],
   "source": [
    "df['text'].tail(20).values"
   ]
  },
  {
   "cell_type": "code",
   "execution_count": 28,
   "id": "eb52e52b",
   "metadata": {
    "execution": {
     "iopub.execute_input": "2023-02-16T12:30:00.491161Z",
     "iopub.status.busy": "2023-02-16T12:30:00.490353Z",
     "iopub.status.idle": "2023-02-16T12:30:00.498362Z",
     "shell.execute_reply": "2023-02-16T12:30:00.497212Z"
    },
    "papermill": {
     "duration": 0.027156,
     "end_time": "2023-02-16T12:30:00.500855",
     "exception": false,
     "start_time": "2023-02-16T12:30:00.473699",
     "status": "completed"
    },
    "tags": []
   },
   "outputs": [
    {
     "data": {
      "text/plain": [
       "array(['#FoodFriday means tasty snacks throughout the day!\\n\\n : @flexible_nati\\n#haveaplant https://t.co/pNSAHV2hDh face savoring food blue heart spoon chocolate bar camera',\n",
       "       'F U E L E D F R I D A Y\\nLooking for a fun, colorful and healthy recipe to kick off the new year? Well, check out this delicious and beautiful dish!\\n・・・\\nEggs baked in Veggie Nests. Head over to our insta for the recipe. \\n\\n#fueledfriday #foodfriday #runinrabbit #borntorunfree https://t.co/2Fwez5uYb2 drooling face',\n",
       "       'Kummer reminds you to stay hydrated #foodfriday https://t.co/rkZmatd97f',\n",
       "       'Commercial #Kitchens need attention at a great price!  Rhino Shine has a solid plan unlike #JasonGarrett future . #Dallas #winning #coupons #restaurant #hood #cleaning #foodfriday #trucks https://t.co/U0V5BO33uo rhinoceros man shrugging light skin tone',\n",
       "       \"Mary's Meals is changing lives in Zimbabwe https://t.co/bioEZAt47N #feelgoodfriday #FoodFriday\",\n",
       "       'Will meat alternatives continue gaining popularity in 2020? https://t.co/wzvi1XOBmj via @YourMorning ht  @LetsTalkScience  #food #health #diet #nutrition #meatless #plantbased #Vegan #vegetarian #HealthyLiving #HealthyEating #BusinessGrowth #business #FoodFriday leafy green hamburger money-mouth face',\n",
       "       'These are our top five healthy recipes that you can throw together in the morning and enjoy in the evening (as well as take leftovers for lunch the next day).\\n#FoodFriday #EatHealthy #NewYearNewYou #PersonalTraining #FitnessTogether                       https://t.co/TiKGdeqr1p',\n",
       "       \"Burned out on cooking after the holidays? Here's a selection of quick and easy meals to get you inspired #FoodFriday\\nhttps://t.co/uLYOPeQHQc https://t.co/nyWopWqh79\",\n",
       "       'Will you eat lettuce that is not grown in soil? Large scale #Hydroponics can produce hyper local food in a small space, even shipping containers or in your own home. https://t.co/Ogy8UgHMUt #FoodFriday',\n",
       "       '#FoodFriday: Is it possible to treat things like anxiety and depression with food? https://t.co/93Ez7VwziK\\n#KinderInTheKeys #MentalHealth #Anxiety #PTSD #Depression #Trauma #Recovery #Healing #Treatment #Food #Wellness',\n",
       "       \"Foodies, this particular country is one of our FAV when it comes to FOOD!! \\n\\nLet's see if you can guess it!! \\n\\n#FoodFriday #GuessGame #Guess #Fun #FridayThoughts #foodie https://t.co/gK3x3uMArb shallow pan of food pot of food green salad steaming bowl nerd face\",\n",
       "       'Today is usually #FoodFriday on this timeline.\\n\\nI tweet about food. \\n\\nIf you can postpone your instant gratification from bad foods, you can postpone bad habits in your life.\\n\\nHow you approach food is evidently how you approach your other aspects of life.\\n\\n#FoodFriday',\n",
       "       \"#FoodFriday\\n\\nWhat are you cookin' up today or this weekend? What's your favorite recipe? Looking for some new ideas! https://t.co/3VRQTRCxd3\",\n",
       "       'This weeks #FoodFriday is from @WoodsideBay \\n\\nWould you be interested in a #Chef position with us?\\nThen why not visit the Darwin Escapes website, locate the Careers tab and search for our Chef vacancies \\n\\n#Jobs https://t.co/FWNknvURhn pizza grinning face',\n",
       "       'Ring in the New Year with healthy eating. Checkout #ClickNCook #healthrecipe Fruity Homemade Oatmeal. https://t.co/7XR3tw6XsH\\n#FoodFriday',\n",
       "       \"'The old fool forgot the lessons of Blodeuwedd and Frankenstein: never create anything smarter, or more ruthless, than yourself.'\\n.\\n#FoodFriday featuring cheesecake (that I'd been craving since Tuesday but been too lazy to…\\n\\n https://t.co/U6yxC4h3sz via https://t.co/Z51VYxAyBJ https://t.co/8f5Lqkp8hm camera with flash\",\n",
       "       'African star Apple (Udara).\\nRich source of vita.C is one of the wonderful fruits offered by nature with important health benefits.\\nRanging from tackling toothache, mouth gum disease, soar throat, helps in weight loss and good for expecting mothers \\n\\n#FoodFriday\\n#CoalCityConnect https://t.co/ODyfnS8VVm',\n",
       "       '#FOODFRIDAY \\nIf you love chocolate, then board the first flight to California. The Nutella Pop Up Hotel is about to open. Discover more in this video. Do you know? Nutella is an Italian product...of course!\\n#italy #food #nutella #language #school… https://t.co/bgG5haT6mQ https://t.co/gw0JhCqZHE Italy chocolate bar',\n",
       "       '#foodfriday @baghdadcafeCT hey offer a variety of delicious foods, from pizza to tacos and sticky wings! For your convenience they also avail on @ubereats_za https://t.co/P8sdNvfMcg',\n",
       "       'This Mangalorean special chicken curry can be paired best with neer dosa or steamed rice. What’s your pick?\\nRecipe Link: https://t.co/iyYCpcuoeA\\n#FoodFriday https://t.co/Bke1o79Zio'],\n",
       "      dtype=object)"
      ]
     },
     "execution_count": 28,
     "metadata": {},
     "output_type": "execute_result"
    }
   ],
   "source": [
    "df['text_clean'].tail(20).values"
   ]
  },
  {
   "cell_type": "code",
   "execution_count": 29,
   "id": "2b9b8d35",
   "metadata": {
    "execution": {
     "iopub.execute_input": "2023-02-16T12:30:00.533595Z",
     "iopub.status.busy": "2023-02-16T12:30:00.533209Z",
     "iopub.status.idle": "2023-02-16T12:30:00.538839Z",
     "shell.execute_reply": "2023-02-16T12:30:00.537669Z"
    },
    "papermill": {
     "duration": 0.02479,
     "end_time": "2023-02-16T12:30:00.541197",
     "exception": false,
     "start_time": "2023-02-16T12:30:00.516407",
     "status": "completed"
    },
    "tags": []
   },
   "outputs": [],
   "source": [
    "# remove multiple spaces\n",
    "\n",
    "def remove_mult_spaces(text): \n",
    "    return re.sub(\"\\s\\s+\" , \" \", text)"
   ]
  },
  {
   "cell_type": "code",
   "execution_count": 30,
   "id": "2f30e71c",
   "metadata": {
    "execution": {
     "iopub.execute_input": "2023-02-16T12:30:00.574047Z",
     "iopub.status.busy": "2023-02-16T12:30:00.573658Z",
     "iopub.status.idle": "2023-02-16T12:30:00.580686Z",
     "shell.execute_reply": "2023-02-16T12:30:00.579464Z"
    },
    "papermill": {
     "duration": 0.026146,
     "end_time": "2023-02-16T12:30:00.582983",
     "exception": false,
     "start_time": "2023-02-16T12:30:00.556837",
     "status": "completed"
    },
    "tags": []
   },
   "outputs": [],
   "source": [
    "#Remove punctuations, links, mentions and \\r\\n new line characters\n",
    "\n",
    "def strip_all_entities(text): \n",
    "    text = text.replace('\\r', '').replace('\\n', ' ').replace('\\n', ' ').lower() #remove \\n and \\r and lowercase\n",
    "    text = re.sub(r\"(?:\\@|https?\\://)\\S+\", \"\", text) #remove links and mentions\n",
    "    text = re.sub(r'[^\\x00-\\x7f]',r'', text) #remove non utf8/ascii characters such as '\\x9a\\x91\\x97\\x9a\\x97'\n",
    "    banned_list= string.punctuation + 'Ã'+'±'+'ã'+'¼'+'â'+'»'+'§'\n",
    "    table = str.maketrans('', '', banned_list)\n",
    "    text = text.translate(table)\n",
    "    return text"
   ]
  },
  {
   "cell_type": "code",
   "execution_count": 31,
   "id": "30e68b67",
   "metadata": {
    "execution": {
     "iopub.execute_input": "2023-02-16T12:30:00.615626Z",
     "iopub.status.busy": "2023-02-16T12:30:00.615232Z",
     "iopub.status.idle": "2023-02-16T12:30:00.621276Z",
     "shell.execute_reply": "2023-02-16T12:30:00.620142Z"
    },
    "papermill": {
     "duration": 0.025315,
     "end_time": "2023-02-16T12:30:00.623737",
     "exception": false,
     "start_time": "2023-02-16T12:30:00.598422",
     "status": "completed"
    },
    "tags": []
   },
   "outputs": [],
   "source": [
    "#clean hashtags at the end of the sentence, and keep those in the middle of the sentence by removing just the # symbol\n",
    "\n",
    "def clean_hashtags(tweet):\n",
    "    new_tweet = \" \".join(word.strip() for word in re.split('#(?!(?:hashtag)\\b)[\\w-]+(?=(?:\\s+#[\\w-]+)*\\s*$)', tweet)) #remove last hashtags\n",
    "    new_tweet2 = \" \".join(word.strip() for word in re.split('#|_', new_tweet)) #remove hashtags symbol from words in the middle of the sentence\n",
    "    return new_tweet2"
   ]
  },
  {
   "cell_type": "code",
   "execution_count": 32,
   "id": "f1b2dd29",
   "metadata": {
    "execution": {
     "iopub.execute_input": "2023-02-16T12:30:00.657160Z",
     "iopub.status.busy": "2023-02-16T12:30:00.656394Z",
     "iopub.status.idle": "2023-02-16T12:30:00.662211Z",
     "shell.execute_reply": "2023-02-16T12:30:00.661239Z"
    },
    "papermill": {
     "duration": 0.025145,
     "end_time": "2023-02-16T12:30:00.664399",
     "exception": false,
     "start_time": "2023-02-16T12:30:00.639254",
     "status": "completed"
    },
    "tags": []
   },
   "outputs": [],
   "source": [
    "#Filter special characters such as & and $ present in some words\n",
    "\n",
    "def filter_chars(a):\n",
    "    sent = []\n",
    "    for word in a.split(' '):\n",
    "        if ('$' in word) | ('&' in word):\n",
    "            sent.append('')\n",
    "        else:\n",
    "            sent.append(word)\n",
    "    return ' '.join(sent)"
   ]
  },
  {
   "cell_type": "code",
   "execution_count": 33,
   "id": "437fc3c6",
   "metadata": {
    "execution": {
     "iopub.execute_input": "2023-02-16T12:30:00.697257Z",
     "iopub.status.busy": "2023-02-16T12:30:00.696518Z",
     "iopub.status.idle": "2023-02-16T12:30:07.428868Z",
     "shell.execute_reply": "2023-02-16T12:30:07.427806Z"
    },
    "papermill": {
     "duration": 6.751793,
     "end_time": "2023-02-16T12:30:07.431531",
     "exception": false,
     "start_time": "2023-02-16T12:30:00.679738",
     "status": "completed"
    },
    "tags": []
   },
   "outputs": [],
   "source": [
    "deeper_clean = []\n",
    "\n",
    "for t in df.text_clean:\n",
    "    deeper_clean.append(\n",
    "        remove_mult_spaces(\n",
    "            filter_chars(\n",
    "                clean_hashtags(\n",
    "                    strip_all_entities(\n",
    "                        (t)\n",
    "                    ))))\n",
    "    )"
   ]
  },
  {
   "cell_type": "code",
   "execution_count": 34,
   "id": "c469646b",
   "metadata": {
    "execution": {
     "iopub.execute_input": "2023-02-16T12:30:07.465145Z",
     "iopub.status.busy": "2023-02-16T12:30:07.464492Z",
     "iopub.status.idle": "2023-02-16T12:30:07.500102Z",
     "shell.execute_reply": "2023-02-16T12:30:07.499131Z"
    },
    "papermill": {
     "duration": 0.055252,
     "end_time": "2023-02-16T12:30:07.502580",
     "exception": false,
     "start_time": "2023-02-16T12:30:07.447328",
     "status": "completed"
    },
    "tags": []
   },
   "outputs": [],
   "source": [
    "df['text_clean_deeper'] = deeper_clean"
   ]
  },
  {
   "cell_type": "code",
   "execution_count": 35,
   "id": "23ee00f2",
   "metadata": {
    "execution": {
     "iopub.execute_input": "2023-02-16T12:30:07.536377Z",
     "iopub.status.busy": "2023-02-16T12:30:07.535642Z",
     "iopub.status.idle": "2023-02-16T12:30:07.541925Z",
     "shell.execute_reply": "2023-02-16T12:30:07.541123Z"
    },
    "papermill": {
     "duration": 0.02545,
     "end_time": "2023-02-16T12:30:07.544038",
     "exception": false,
     "start_time": "2023-02-16T12:30:07.518588",
     "status": "completed"
    },
    "tags": []
   },
   "outputs": [
    {
     "data": {
      "text/plain": [
       "Index(['tweet_created_at', 'text', 'Sentiment', 'text_clean',\n",
       "       'text_clean_deeper'],\n",
       "      dtype='object')"
      ]
     },
     "execution_count": 35,
     "metadata": {},
     "output_type": "execute_result"
    }
   ],
   "source": [
    "df.columns"
   ]
  },
  {
   "cell_type": "code",
   "execution_count": 36,
   "id": "e2bba3bf",
   "metadata": {
    "execution": {
     "iopub.execute_input": "2023-02-16T12:30:07.577962Z",
     "iopub.status.busy": "2023-02-16T12:30:07.577253Z",
     "iopub.status.idle": "2023-02-16T12:30:07.584560Z",
     "shell.execute_reply": "2023-02-16T12:30:07.583749Z"
    },
    "papermill": {
     "duration": 0.026391,
     "end_time": "2023-02-16T12:30:07.586616",
     "exception": false,
     "start_time": "2023-02-16T12:30:07.560225",
     "status": "completed"
    },
    "tags": []
   },
   "outputs": [
    {
     "data": {
      "text/plain": [
       "array(['#FoodFriday means tasty snacks throughout the day!\\n😋💙🥄🍫\\n📷 : @flexible_nati\\n#haveaplant https://t.co/pNSAHV2hDh',\n",
       "       'F U E L E D F R I D A Y\\nLooking for a fun, colorful and healthy recipe to kick off the new year? Well, check out this delicious and beautiful dish!\\n・・・\\nEggs baked in Veggie Nests. Head over to our insta for the recipe. 🤤\\n\\n#fueledfriday #foodfriday #runinrabbit #borntorunfree https://t.co/2Fwez5uYb2',\n",
       "       'Kummer reminds you to stay hydrated #foodfriday https://t.co/rkZmatd97f',\n",
       "       'Commercial #Kitchens need attention at a great price! 🦏 Rhino Shine has a solid plan unlike #JasonGarrett future 🤷🏻\\u200d♂️. #Dallas #winning #coupons #restaurant #hood #cleaning #foodfriday #trucks https://t.co/U0V5BO33uo',\n",
       "       \"Mary's Meals is changing lives in Zimbabwe https://t.co/bioEZAt47N #feelgoodfriday #FoodFriday\",\n",
       "       'Will meat alternatives continue gaining popularity in 2020? https://t.co/wzvi1XOBmj via @YourMorning ht  @LetsTalkScience 🥬🍔🤑 #food #health #diet #nutrition #meatless #plantbased #Vegan #vegetarian #HealthyLiving #HealthyEating #BusinessGrowth #business #FoodFriday',\n",
       "       'These are our top five healthy recipes that you can throw together in the morning and enjoy in the evening (as well as take leftovers for lunch the next day).\\n#FoodFriday #EatHealthy #NewYearNewYou #PersonalTraining #FitnessTogether                       https://t.co/TiKGdeqr1p',\n",
       "       \"Burned out on cooking after the holidays? Here's a selection of quick and easy meals to get you inspired #FoodFriday\\nhttps://t.co/uLYOPeQHQc https://t.co/nyWopWqh79\",\n",
       "       'Will you eat lettuce that is not grown in soil? Large scale #Hydroponics can produce hyper local food in a small space, even shipping containers or in your own home. https://t.co/Ogy8UgHMUt #FoodFriday',\n",
       "       '#FoodFriday: Is it possible to treat things like anxiety and depression with food? https://t.co/93Ez7VwziK\\n#KinderInTheKeys #MentalHealth #Anxiety #PTSD #Depression #Trauma #Recovery #Healing #Treatment #Food #Wellness',\n",
       "       \"Foodies, this particular country is one of our FAV when it comes to FOOD!! 🥘🍲🥗🍜\\n\\nLet's see if you can guess it!! 🤓\\n\\n#FoodFriday #GuessGame #Guess #Fun #FridayThoughts #foodie https://t.co/gK3x3uMArb\",\n",
       "       'Today is usually #FoodFriday on this timeline.\\n\\nI tweet about food. \\n\\nIf you can postpone your instant gratification from bad foods, you can postpone bad habits in your life.\\n\\nHow you approach food is evidently how you approach your other aspects of life.\\n\\n#FoodFriday',\n",
       "       \"#FoodFriday\\n\\nWhat are you cookin' up today or this weekend? What's your favorite recipe? Looking for some new ideas! https://t.co/3VRQTRCxd3\",\n",
       "       'This weeks #FoodFriday is from @WoodsideBay 🍕\\n\\nWould you be interested in a #Chef position with us?\\nThen why not visit the Darwin Escapes website, locate the Careers tab and search for our Chef vacancies 😀\\n\\n#Jobs https://t.co/FWNknvURhn',\n",
       "       'Ring in the New Year with healthy eating. Checkout #ClickNCook #healthrecipe Fruity Homemade Oatmeal. https://t.co/7XR3tw6XsH\\n#FoodFriday',\n",
       "       \"'The old fool forgot the lessons of Blodeuwedd and Frankenstein: never create anything smarter, or more ruthless, than yourself.'\\n.\\n#FoodFriday featuring cheesecake (that I'd been craving since Tuesday but been too lazy to…\\n\\n📸 https://t.co/U6yxC4h3sz via https://t.co/Z51VYxAyBJ https://t.co/8f5Lqkp8hm\",\n",
       "       'African star Apple (Udara).\\nRich source of vita.C is one of the wonderful fruits offered by nature with important health benefits.\\nRanging from tackling toothache, mouth gum disease, soar throat, helps in weight loss and good for expecting mothers \\n\\n#FoodFriday\\n#CoalCityConnect https://t.co/ODyfnS8VVm',\n",
       "       '#FOODFRIDAY 🇮🇹🍫\\nIf you love chocolate, then board the first flight to California. The Nutella Pop Up Hotel is about to open. Discover more in this video. Do you know? Nutella is an Italian product...of course!\\n#italy #food #nutella #language #school… https://t.co/bgG5haT6mQ https://t.co/gw0JhCqZHE',\n",
       "       '#foodfriday @baghdadcafeCT hey offer a variety of delicious foods, from pizza to tacos and sticky wings! For your convenience they also avail on @ubereats_za https://t.co/P8sdNvfMcg',\n",
       "       'This Mangalorean special chicken curry can be paired best with neer dosa or steamed rice. What’s your pick?\\nRecipe Link: https://t.co/iyYCpcuoeA\\n#FoodFriday https://t.co/Bke1o79Zio'],\n",
       "      dtype=object)"
      ]
     },
     "execution_count": 36,
     "metadata": {},
     "output_type": "execute_result"
    }
   ],
   "source": [
    "df['text'].tail(20).values"
   ]
  },
  {
   "cell_type": "code",
   "execution_count": 37,
   "id": "6a0d3674",
   "metadata": {
    "execution": {
     "iopub.execute_input": "2023-02-16T12:30:07.620551Z",
     "iopub.status.busy": "2023-02-16T12:30:07.620133Z",
     "iopub.status.idle": "2023-02-16T12:30:07.628083Z",
     "shell.execute_reply": "2023-02-16T12:30:07.626944Z"
    },
    "papermill": {
     "duration": 0.027781,
     "end_time": "2023-02-16T12:30:07.630458",
     "exception": false,
     "start_time": "2023-02-16T12:30:07.602677",
     "status": "completed"
    },
    "tags": []
   },
   "outputs": [
    {
     "data": {
      "text/plain": [
       "array(['#FoodFriday means tasty snacks throughout the day!\\n\\n : @flexible_nati\\n#haveaplant https://t.co/pNSAHV2hDh face savoring food blue heart spoon chocolate bar camera',\n",
       "       'F U E L E D F R I D A Y\\nLooking for a fun, colorful and healthy recipe to kick off the new year? Well, check out this delicious and beautiful dish!\\n・・・\\nEggs baked in Veggie Nests. Head over to our insta for the recipe. \\n\\n#fueledfriday #foodfriday #runinrabbit #borntorunfree https://t.co/2Fwez5uYb2 drooling face',\n",
       "       'Kummer reminds you to stay hydrated #foodfriday https://t.co/rkZmatd97f',\n",
       "       'Commercial #Kitchens need attention at a great price!  Rhino Shine has a solid plan unlike #JasonGarrett future . #Dallas #winning #coupons #restaurant #hood #cleaning #foodfriday #trucks https://t.co/U0V5BO33uo rhinoceros man shrugging light skin tone',\n",
       "       \"Mary's Meals is changing lives in Zimbabwe https://t.co/bioEZAt47N #feelgoodfriday #FoodFriday\",\n",
       "       'Will meat alternatives continue gaining popularity in 2020? https://t.co/wzvi1XOBmj via @YourMorning ht  @LetsTalkScience  #food #health #diet #nutrition #meatless #plantbased #Vegan #vegetarian #HealthyLiving #HealthyEating #BusinessGrowth #business #FoodFriday leafy green hamburger money-mouth face',\n",
       "       'These are our top five healthy recipes that you can throw together in the morning and enjoy in the evening (as well as take leftovers for lunch the next day).\\n#FoodFriday #EatHealthy #NewYearNewYou #PersonalTraining #FitnessTogether                       https://t.co/TiKGdeqr1p',\n",
       "       \"Burned out on cooking after the holidays? Here's a selection of quick and easy meals to get you inspired #FoodFriday\\nhttps://t.co/uLYOPeQHQc https://t.co/nyWopWqh79\",\n",
       "       'Will you eat lettuce that is not grown in soil? Large scale #Hydroponics can produce hyper local food in a small space, even shipping containers or in your own home. https://t.co/Ogy8UgHMUt #FoodFriday',\n",
       "       '#FoodFriday: Is it possible to treat things like anxiety and depression with food? https://t.co/93Ez7VwziK\\n#KinderInTheKeys #MentalHealth #Anxiety #PTSD #Depression #Trauma #Recovery #Healing #Treatment #Food #Wellness',\n",
       "       \"Foodies, this particular country is one of our FAV when it comes to FOOD!! \\n\\nLet's see if you can guess it!! \\n\\n#FoodFriday #GuessGame #Guess #Fun #FridayThoughts #foodie https://t.co/gK3x3uMArb shallow pan of food pot of food green salad steaming bowl nerd face\",\n",
       "       'Today is usually #FoodFriday on this timeline.\\n\\nI tweet about food. \\n\\nIf you can postpone your instant gratification from bad foods, you can postpone bad habits in your life.\\n\\nHow you approach food is evidently how you approach your other aspects of life.\\n\\n#FoodFriday',\n",
       "       \"#FoodFriday\\n\\nWhat are you cookin' up today or this weekend? What's your favorite recipe? Looking for some new ideas! https://t.co/3VRQTRCxd3\",\n",
       "       'This weeks #FoodFriday is from @WoodsideBay \\n\\nWould you be interested in a #Chef position with us?\\nThen why not visit the Darwin Escapes website, locate the Careers tab and search for our Chef vacancies \\n\\n#Jobs https://t.co/FWNknvURhn pizza grinning face',\n",
       "       'Ring in the New Year with healthy eating. Checkout #ClickNCook #healthrecipe Fruity Homemade Oatmeal. https://t.co/7XR3tw6XsH\\n#FoodFriday',\n",
       "       \"'The old fool forgot the lessons of Blodeuwedd and Frankenstein: never create anything smarter, or more ruthless, than yourself.'\\n.\\n#FoodFriday featuring cheesecake (that I'd been craving since Tuesday but been too lazy to…\\n\\n https://t.co/U6yxC4h3sz via https://t.co/Z51VYxAyBJ https://t.co/8f5Lqkp8hm camera with flash\",\n",
       "       'African star Apple (Udara).\\nRich source of vita.C is one of the wonderful fruits offered by nature with important health benefits.\\nRanging from tackling toothache, mouth gum disease, soar throat, helps in weight loss and good for expecting mothers \\n\\n#FoodFriday\\n#CoalCityConnect https://t.co/ODyfnS8VVm',\n",
       "       '#FOODFRIDAY \\nIf you love chocolate, then board the first flight to California. The Nutella Pop Up Hotel is about to open. Discover more in this video. Do you know? Nutella is an Italian product...of course!\\n#italy #food #nutella #language #school… https://t.co/bgG5haT6mQ https://t.co/gw0JhCqZHE Italy chocolate bar',\n",
       "       '#foodfriday @baghdadcafeCT hey offer a variety of delicious foods, from pizza to tacos and sticky wings! For your convenience they also avail on @ubereats_za https://t.co/P8sdNvfMcg',\n",
       "       'This Mangalorean special chicken curry can be paired best with neer dosa or steamed rice. What’s your pick?\\nRecipe Link: https://t.co/iyYCpcuoeA\\n#FoodFriday https://t.co/Bke1o79Zio'],\n",
       "      dtype=object)"
      ]
     },
     "execution_count": 37,
     "metadata": {},
     "output_type": "execute_result"
    }
   ],
   "source": [
    "df['text_clean'].tail(20).values"
   ]
  },
  {
   "cell_type": "code",
   "execution_count": 38,
   "id": "0c5c8c77",
   "metadata": {
    "execution": {
     "iopub.execute_input": "2023-02-16T12:30:07.665169Z",
     "iopub.status.busy": "2023-02-16T12:30:07.664385Z",
     "iopub.status.idle": "2023-02-16T12:30:07.672496Z",
     "shell.execute_reply": "2023-02-16T12:30:07.671499Z"
    },
    "papermill": {
     "duration": 0.028091,
     "end_time": "2023-02-16T12:30:07.674835",
     "exception": false,
     "start_time": "2023-02-16T12:30:07.646744",
     "status": "completed"
    },
    "tags": []
   },
   "outputs": [
    {
     "data": {
      "text/plain": [
       "array(['foodfriday means tasty snacks throughout the day haveaplant face savoring food blue heart spoon chocolate bar camera',\n",
       "       'f u e l e d f r i d a y looking for a fun colorful and healthy recipe to kick off the new year well check out this delicious and beautiful dish eggs baked in veggie nests head over to our insta for the recipe fueledfriday foodfriday runinrabbit borntorunfree drooling face',\n",
       "       'kummer reminds you to stay hydrated foodfriday',\n",
       "       'commercial kitchens need attention at a great price rhino shine has a solid plan unlike jasongarrett future dallas winning coupons restaurant hood cleaning foodfriday trucks rhinoceros man shrugging light skin tone',\n",
       "       'marys meals is changing lives in zimbabwe feelgoodfriday foodfriday',\n",
       "       'will meat alternatives continue gaining popularity in 2020 via ht food health diet nutrition meatless plantbased vegan vegetarian healthyliving healthyeating businessgrowth business foodfriday leafy green hamburger moneymouth face',\n",
       "       'these are our top five healthy recipes that you can throw together in the morning and enjoy in the evening as well as take leftovers for lunch the next day foodfriday eathealthy newyearnewyou personaltraining fitnesstogether',\n",
       "       'burned out on cooking after the holidays heres a selection of quick and easy meals to get you inspired foodfriday',\n",
       "       'will you eat lettuce that is not grown in soil large scale hydroponics can produce hyper local food in a small space even shipping containers or in your own home foodfriday',\n",
       "       'foodfriday is it possible to treat things like anxiety and depression with food kinderinthekeys mentalhealth anxiety ptsd depression trauma recovery healing treatment food wellness',\n",
       "       'foodies this particular country is one of our fav when it comes to food lets see if you can guess it foodfriday guessgame guess fun fridaythoughts foodie shallow pan of food pot of food green salad steaming bowl nerd face',\n",
       "       'today is usually foodfriday on this timeline i tweet about food if you can postpone your instant gratification from bad foods you can postpone bad habits in your life how you approach food is evidently how you approach your other aspects of life foodfriday',\n",
       "       'foodfriday what are you cookin up today or this weekend whats your favorite recipe looking for some new ideas',\n",
       "       'this weeks foodfriday is from would you be interested in a chef position with us then why not visit the darwin escapes website locate the careers tab and search for our chef vacancies jobs pizza grinning face',\n",
       "       'ring in the new year with healthy eating checkout clickncook healthrecipe fruity homemade oatmeal foodfriday',\n",
       "       'the old fool forgot the lessons of blodeuwedd and frankenstein never create anything smarter or more ruthless than yourself foodfriday featuring cheesecake that id been craving since tuesday but been too lazy to via camera with flash',\n",
       "       'african star apple udara rich source of vitac is one of the wonderful fruits offered by nature with important health benefits ranging from tackling toothache mouth gum disease soar throat helps in weight loss and good for expecting mothers foodfriday coalcityconnect',\n",
       "       'foodfriday if you love chocolate then board the first flight to california the nutella pop up hotel is about to open discover more in this video do you know nutella is an italian productof course italy food nutella language school italy chocolate bar',\n",
       "       'foodfriday hey offer a variety of delicious foods from pizza to tacos and sticky wings for your convenience they also avail on',\n",
       "       'this mangalorean special chicken curry can be paired best with neer dosa or steamed rice whats your pick recipe link foodfriday'],\n",
       "      dtype=object)"
      ]
     },
     "execution_count": 38,
     "metadata": {},
     "output_type": "execute_result"
    }
   ],
   "source": [
    "df['text_clean_deeper'].tail(20).values"
   ]
  },
  {
   "cell_type": "code",
   "execution_count": 39,
   "id": "e2decbfb",
   "metadata": {
    "execution": {
     "iopub.execute_input": "2023-02-16T12:30:07.709155Z",
     "iopub.status.busy": "2023-02-16T12:30:07.708750Z",
     "iopub.status.idle": "2023-02-16T12:30:08.088601Z",
     "shell.execute_reply": "2023-02-16T12:30:08.087641Z"
    },
    "papermill": {
     "duration": 0.400062,
     "end_time": "2023-02-16T12:30:08.091275",
     "exception": false,
     "start_time": "2023-02-16T12:30:07.691213",
     "status": "completed"
    },
    "tags": []
   },
   "outputs": [],
   "source": [
    "text_len = []\n",
    "\n",
    "for text in df.text_clean_deeper:\n",
    "    tweet_len = len(text.split())\n",
    "    \n",
    "    text_len.append(tweet_len)"
   ]
  },
  {
   "cell_type": "code",
   "execution_count": 40,
   "id": "24810c03",
   "metadata": {
    "execution": {
     "iopub.execute_input": "2023-02-16T12:30:08.126406Z",
     "iopub.status.busy": "2023-02-16T12:30:08.125206Z",
     "iopub.status.idle": "2023-02-16T12:30:08.197760Z",
     "shell.execute_reply": "2023-02-16T12:30:08.196494Z"
    },
    "papermill": {
     "duration": 0.092841,
     "end_time": "2023-02-16T12:30:08.200448",
     "exception": false,
     "start_time": "2023-02-16T12:30:08.107607",
     "status": "completed"
    },
    "tags": []
   },
   "outputs": [],
   "source": [
    "df['text_len'] = text_len"
   ]
  },
  {
   "cell_type": "code",
   "execution_count": 41,
   "id": "9362a3bd",
   "metadata": {
    "execution": {
     "iopub.execute_input": "2023-02-16T12:30:08.235016Z",
     "iopub.status.busy": "2023-02-16T12:30:08.234627Z",
     "iopub.status.idle": "2023-02-16T12:30:08.248968Z",
     "shell.execute_reply": "2023-02-16T12:30:08.247856Z"
    },
    "papermill": {
     "duration": 0.034467,
     "end_time": "2023-02-16T12:30:08.251286",
     "exception": false,
     "start_time": "2023-02-16T12:30:08.216819",
     "status": "completed"
    },
    "tags": []
   },
   "outputs": [
    {
     "data": {
      "text/html": [
       "<div>\n",
       "<style scoped>\n",
       "    .dataframe tbody tr th:only-of-type {\n",
       "        vertical-align: middle;\n",
       "    }\n",
       "\n",
       "    .dataframe tbody tr th {\n",
       "        vertical-align: top;\n",
       "    }\n",
       "\n",
       "    .dataframe thead th {\n",
       "        text-align: right;\n",
       "    }\n",
       "</style>\n",
       "<table border=\"1\" class=\"dataframe\">\n",
       "  <thead>\n",
       "    <tr style=\"text-align: right;\">\n",
       "      <th></th>\n",
       "      <th>tweet_created_at</th>\n",
       "      <th>text</th>\n",
       "      <th>Sentiment</th>\n",
       "      <th>text_clean</th>\n",
       "      <th>text_clean_deeper</th>\n",
       "      <th>text_len</th>\n",
       "    </tr>\n",
       "  </thead>\n",
       "  <tbody>\n",
       "    <tr>\n",
       "      <th>0</th>\n",
       "      <td>2022-12-30 22:37:46+00:00</td>\n",
       "      <td>Men who have refused to listen to/attend @amer...</td>\n",
       "      <td>Negative</td>\n",
       "      <td>Men who have refused to listen to/attend @amer...</td>\n",
       "      <td>men who have refused to listen toattend classe...</td>\n",
       "      <td>36</td>\n",
       "    </tr>\n",
       "    <tr>\n",
       "      <th>1</th>\n",
       "      <td>2022-12-30 22:30:58+00:00</td>\n",
       "      <td>@OvOBrezzzy Take amerix next</td>\n",
       "      <td>Neutral</td>\n",
       "      <td>@OvOBrezzzy Take amerix next</td>\n",
       "      <td>take amerix next</td>\n",
       "      <td>3</td>\n",
       "    </tr>\n",
       "    <tr>\n",
       "      <th>2</th>\n",
       "      <td>2022-12-30 22:18:00+00:00</td>\n",
       "      <td>@AyodeleYo11 @amerix Nah I’m good my masculini...</td>\n",
       "      <td>Positive</td>\n",
       "      <td>@AyodeleYo11 @amerix Nah I’m good my masculini...</td>\n",
       "      <td>nah im good my masculinity health and wellness...</td>\n",
       "      <td>12</td>\n",
       "    </tr>\n",
       "    <tr>\n",
       "      <th>3</th>\n",
       "      <td>2022-12-30 20:42:54+00:00</td>\n",
       "      <td>@Amerix_DontSimp There is no need for dating i...</td>\n",
       "      <td>Negative</td>\n",
       "      <td>@Amerix_DontSimp There is no need for dating i...</td>\n",
       "      <td>there is no need for dating in the first place</td>\n",
       "      <td>10</td>\n",
       "    </tr>\n",
       "    <tr>\n",
       "      <th>4</th>\n",
       "      <td>2022-12-30 20:32:23+00:00</td>\n",
       "      <td>@DyeAnna7 @amerix @kibe From what cos nothing ...</td>\n",
       "      <td>Positive</td>\n",
       "      <td>@DyeAnna7 @amerix @kibe From what cos nothing ...</td>\n",
       "      <td>from what cos nothing is changing and if we go...</td>\n",
       "      <td>45</td>\n",
       "    </tr>\n",
       "  </tbody>\n",
       "</table>\n",
       "</div>"
      ],
      "text/plain": [
       "           tweet_created_at  \\\n",
       "0 2022-12-30 22:37:46+00:00   \n",
       "1 2022-12-30 22:30:58+00:00   \n",
       "2 2022-12-30 22:18:00+00:00   \n",
       "3 2022-12-30 20:42:54+00:00   \n",
       "4 2022-12-30 20:32:23+00:00   \n",
       "\n",
       "                                                text Sentiment  \\\n",
       "0  Men who have refused to listen to/attend @amer...  Negative   \n",
       "1                       @OvOBrezzzy Take amerix next   Neutral   \n",
       "2  @AyodeleYo11 @amerix Nah I’m good my masculini...  Positive   \n",
       "3  @Amerix_DontSimp There is no need for dating i...  Negative   \n",
       "4  @DyeAnna7 @amerix @kibe From what cos nothing ...  Positive   \n",
       "\n",
       "                                          text_clean  \\\n",
       "0  Men who have refused to listen to/attend @amer...   \n",
       "1                       @OvOBrezzzy Take amerix next   \n",
       "2  @AyodeleYo11 @amerix Nah I’m good my masculini...   \n",
       "3  @Amerix_DontSimp There is no need for dating i...   \n",
       "4  @DyeAnna7 @amerix @kibe From what cos nothing ...   \n",
       "\n",
       "                                   text_clean_deeper  text_len  \n",
       "0  men who have refused to listen toattend classe...        36  \n",
       "1                                   take amerix next         3  \n",
       "2  nah im good my masculinity health and wellness...        12  \n",
       "3     there is no need for dating in the first place        10  \n",
       "4  from what cos nothing is changing and if we go...        45  "
      ]
     },
     "execution_count": 41,
     "metadata": {},
     "output_type": "execute_result"
    }
   ],
   "source": [
    "df.head(5)"
   ]
  },
  {
   "cell_type": "code",
   "execution_count": 42,
   "id": "418a0917",
   "metadata": {
    "execution": {
     "iopub.execute_input": "2023-02-16T12:30:08.287746Z",
     "iopub.status.busy": "2023-02-16T12:30:08.287352Z",
     "iopub.status.idle": "2023-02-16T12:30:08.353638Z",
     "shell.execute_reply": "2023-02-16T12:30:08.352561Z"
    },
    "papermill": {
     "duration": 0.087786,
     "end_time": "2023-02-16T12:30:08.356566",
     "exception": false,
     "start_time": "2023-02-16T12:30:08.268780",
     "status": "completed"
    },
    "tags": []
   },
   "outputs": [],
   "source": [
    "df = df[['tweet_created_at', 'text', 'text_clean_deeper', 'Sentiment', 'text_len']]"
   ]
  },
  {
   "cell_type": "code",
   "execution_count": 43,
   "id": "40c5e5fa",
   "metadata": {
    "execution": {
     "iopub.execute_input": "2023-02-16T12:30:08.391894Z",
     "iopub.status.busy": "2023-02-16T12:30:08.391505Z",
     "iopub.status.idle": "2023-02-16T12:30:08.404964Z",
     "shell.execute_reply": "2023-02-16T12:30:08.403733Z"
    },
    "papermill": {
     "duration": 0.03376,
     "end_time": "2023-02-16T12:30:08.407187",
     "exception": false,
     "start_time": "2023-02-16T12:30:08.373427",
     "status": "completed"
    },
    "tags": []
   },
   "outputs": [
    {
     "data": {
      "text/html": [
       "<div>\n",
       "<style scoped>\n",
       "    .dataframe tbody tr th:only-of-type {\n",
       "        vertical-align: middle;\n",
       "    }\n",
       "\n",
       "    .dataframe tbody tr th {\n",
       "        vertical-align: top;\n",
       "    }\n",
       "\n",
       "    .dataframe thead th {\n",
       "        text-align: right;\n",
       "    }\n",
       "</style>\n",
       "<table border=\"1\" class=\"dataframe\">\n",
       "  <thead>\n",
       "    <tr style=\"text-align: right;\">\n",
       "      <th></th>\n",
       "      <th>tweet_created_at</th>\n",
       "      <th>text</th>\n",
       "      <th>text_clean_deeper</th>\n",
       "      <th>Sentiment</th>\n",
       "      <th>text_len</th>\n",
       "    </tr>\n",
       "  </thead>\n",
       "  <tbody>\n",
       "    <tr>\n",
       "      <th>0</th>\n",
       "      <td>2022-12-30 22:37:46+00:00</td>\n",
       "      <td>Men who have refused to listen to/attend @amer...</td>\n",
       "      <td>men who have refused to listen toattend classe...</td>\n",
       "      <td>Negative</td>\n",
       "      <td>36</td>\n",
       "    </tr>\n",
       "    <tr>\n",
       "      <th>1</th>\n",
       "      <td>2022-12-30 22:30:58+00:00</td>\n",
       "      <td>@OvOBrezzzy Take amerix next</td>\n",
       "      <td>take amerix next</td>\n",
       "      <td>Neutral</td>\n",
       "      <td>3</td>\n",
       "    </tr>\n",
       "    <tr>\n",
       "      <th>2</th>\n",
       "      <td>2022-12-30 22:18:00+00:00</td>\n",
       "      <td>@AyodeleYo11 @amerix Nah I’m good my masculini...</td>\n",
       "      <td>nah im good my masculinity health and wellness...</td>\n",
       "      <td>Positive</td>\n",
       "      <td>12</td>\n",
       "    </tr>\n",
       "    <tr>\n",
       "      <th>3</th>\n",
       "      <td>2022-12-30 20:42:54+00:00</td>\n",
       "      <td>@Amerix_DontSimp There is no need for dating i...</td>\n",
       "      <td>there is no need for dating in the first place</td>\n",
       "      <td>Negative</td>\n",
       "      <td>10</td>\n",
       "    </tr>\n",
       "    <tr>\n",
       "      <th>4</th>\n",
       "      <td>2022-12-30 20:32:23+00:00</td>\n",
       "      <td>@DyeAnna7 @amerix @kibe From what cos nothing ...</td>\n",
       "      <td>from what cos nothing is changing and if we go...</td>\n",
       "      <td>Positive</td>\n",
       "      <td>45</td>\n",
       "    </tr>\n",
       "  </tbody>\n",
       "</table>\n",
       "</div>"
      ],
      "text/plain": [
       "           tweet_created_at  \\\n",
       "0 2022-12-30 22:37:46+00:00   \n",
       "1 2022-12-30 22:30:58+00:00   \n",
       "2 2022-12-30 22:18:00+00:00   \n",
       "3 2022-12-30 20:42:54+00:00   \n",
       "4 2022-12-30 20:32:23+00:00   \n",
       "\n",
       "                                                text  \\\n",
       "0  Men who have refused to listen to/attend @amer...   \n",
       "1                       @OvOBrezzzy Take amerix next   \n",
       "2  @AyodeleYo11 @amerix Nah I’m good my masculini...   \n",
       "3  @Amerix_DontSimp There is no need for dating i...   \n",
       "4  @DyeAnna7 @amerix @kibe From what cos nothing ...   \n",
       "\n",
       "                                   text_clean_deeper Sentiment  text_len  \n",
       "0  men who have refused to listen toattend classe...  Negative        36  \n",
       "1                                   take amerix next   Neutral         3  \n",
       "2  nah im good my masculinity health and wellness...  Positive        12  \n",
       "3     there is no need for dating in the first place  Negative        10  \n",
       "4  from what cos nothing is changing and if we go...  Positive        45  "
      ]
     },
     "execution_count": 43,
     "metadata": {},
     "output_type": "execute_result"
    }
   ],
   "source": [
    "df.head(5)"
   ]
  },
  {
   "cell_type": "code",
   "execution_count": 44,
   "id": "9268985b",
   "metadata": {
    "execution": {
     "iopub.execute_input": "2023-02-16T12:30:08.443456Z",
     "iopub.status.busy": "2023-02-16T12:30:08.442963Z",
     "iopub.status.idle": "2023-02-16T12:30:08.740744Z",
     "shell.execute_reply": "2023-02-16T12:30:08.739386Z"
    },
    "papermill": {
     "duration": 0.319838,
     "end_time": "2023-02-16T12:30:08.744174",
     "exception": false,
     "start_time": "2023-02-16T12:30:08.424336",
     "status": "completed"
    },
    "tags": []
   },
   "outputs": [
    {
     "data": {
      "image/png": "[encoded data removed]",
      "text/plain": [
       "<Figure size 700x500 with 1 Axes>"
      ]
     },
     "metadata": {},
     "output_type": "display_data"
    }
   ],
   "source": [
    "plt.figure(figsize=(7,5))\n",
    "\n",
    "ax = sns.countplot(x='text_len', data=df[df['text_len']<10], palette='Greens')\n",
    "\n",
    "plt.title('Tweets with less than 10 words')\n",
    "plt.yticks([])\n",
    "ax.bar_label(ax.containers[0])\n",
    "\n",
    "plt.ylabel('count')\n",
    "plt.xlabel('')\n",
    "plt.show()"
   ]
  },
  {
   "cell_type": "code",
   "execution_count": 45,
   "id": "b178eef9",
   "metadata": {
    "execution": {
     "iopub.execute_input": "2023-02-16T12:30:08.787024Z",
     "iopub.status.busy": "2023-02-16T12:30:08.786614Z",
     "iopub.status.idle": "2023-02-16T12:30:08.793291Z",
     "shell.execute_reply": "2023-02-16T12:30:08.792056Z"
    },
    "papermill": {
     "duration": 0.028342,
     "end_time": "2023-02-16T12:30:08.795768",
     "exception": false,
     "start_time": "2023-02-16T12:30:08.767426",
     "status": "completed"
    },
    "tags": []
   },
   "outputs": [
    {
     "data": {
      "text/plain": [
       "(236023, 5)"
      ]
     },
     "execution_count": 45,
     "metadata": {},
     "output_type": "execute_result"
    }
   ],
   "source": [
    "df.shape"
   ]
  },
  {
   "cell_type": "code",
   "execution_count": 46,
   "id": "90ba7cfc",
   "metadata": {
    "execution": {
     "iopub.execute_input": "2023-02-16T12:30:08.832968Z",
     "iopub.status.busy": "2023-02-16T12:30:08.832525Z",
     "iopub.status.idle": "2023-02-16T12:30:08.839685Z",
     "shell.execute_reply": "2023-02-16T12:30:08.838525Z"
    },
    "papermill": {
     "duration": 0.028311,
     "end_time": "2023-02-16T12:30:08.842021",
     "exception": false,
     "start_time": "2023-02-16T12:30:08.813710",
     "status": "completed"
    },
    "tags": []
   },
   "outputs": [
    {
     "data": {
      "text/plain": [
       "Index(['tweet_created_at', 'text', 'text_clean_deeper', 'Sentiment',\n",
       "       'text_len'],\n",
       "      dtype='object')"
      ]
     },
     "execution_count": 46,
     "metadata": {},
     "output_type": "execute_result"
    }
   ],
   "source": [
    "df.columns"
   ]
  },
  {
   "cell_type": "code",
   "execution_count": 47,
   "id": "9f9e540f",
   "metadata": {
    "execution": {
     "iopub.execute_input": "2023-02-16T12:30:08.879416Z",
     "iopub.status.busy": "2023-02-16T12:30:08.878988Z",
     "iopub.status.idle": "2023-02-16T12:30:08.907302Z",
     "shell.execute_reply": "2023-02-16T12:30:08.906138Z"
    },
    "papermill": {
     "duration": 0.050257,
     "end_time": "2023-02-16T12:30:08.910008",
     "exception": false,
     "start_time": "2023-02-16T12:30:08.859751",
     "status": "completed"
    },
    "tags": []
   },
   "outputs": [],
   "source": [
    "df = df[df['text_len'] > 1]"
   ]
  },
  {
   "cell_type": "code",
   "execution_count": 48,
   "id": "1d46b426",
   "metadata": {
    "execution": {
     "iopub.execute_input": "2023-02-16T12:30:08.947602Z",
     "iopub.status.busy": "2023-02-16T12:30:08.947201Z",
     "iopub.status.idle": "2023-02-16T12:30:08.954127Z",
     "shell.execute_reply": "2023-02-16T12:30:08.952868Z"
    },
    "papermill": {
     "duration": 0.028704,
     "end_time": "2023-02-16T12:30:08.956564",
     "exception": false,
     "start_time": "2023-02-16T12:30:08.927860",
     "status": "completed"
    },
    "tags": []
   },
   "outputs": [
    {
     "data": {
      "text/plain": [
       "(233699, 5)"
      ]
     },
     "execution_count": 48,
     "metadata": {},
     "output_type": "execute_result"
    }
   ],
   "source": [
    "df.shape"
   ]
  },
  {
   "cell_type": "code",
   "execution_count": 49,
   "id": "5ced31f1",
   "metadata": {
    "execution": {
     "iopub.execute_input": "2023-02-16T12:30:08.994102Z",
     "iopub.status.busy": "2023-02-16T12:30:08.993678Z",
     "iopub.status.idle": "2023-02-16T12:30:09.198646Z",
     "shell.execute_reply": "2023-02-16T12:30:09.197141Z"
    },
    "papermill": {
     "duration": 0.227751,
     "end_time": "2023-02-16T12:30:09.202169",
     "exception": false,
     "start_time": "2023-02-16T12:30:08.974418",
     "status": "completed"
    },
    "tags": []
   },
   "outputs": [
    {
     "data": {
      "image/png": "[encoded data removed]",
      "text/plain": [
       "<Figure size 700x500 with 1 Axes>"
      ]
     },
     "metadata": {},
     "output_type": "display_data"
    }
   ],
   "source": [
    "plt.figure(figsize=(7,5))\n",
    "\n",
    "ax = sns.countplot(x='text_len', data=df[df['text_len']<10], palette='Blues')\n",
    "\n",
    "plt.title('Tweets with less than 10 words')\n",
    "plt.yticks([])\n",
    "ax.bar_label(ax.containers[0])\n",
    "\n",
    "plt.ylabel('count')\n",
    "plt.xlabel('')\n",
    "plt.show()"
   ]
  },
  {
   "cell_type": "code",
   "execution_count": 50,
   "id": "3288099c",
   "metadata": {
    "execution": {
     "iopub.execute_input": "2023-02-16T12:30:09.255026Z",
     "iopub.status.busy": "2023-02-16T12:30:09.253718Z",
     "iopub.status.idle": "2023-02-16T12:30:50.737772Z",
     "shell.execute_reply": "2023-02-16T12:30:50.736632Z"
    },
    "papermill": {
     "duration": 41.508557,
     "end_time": "2023-02-16T12:30:50.740758",
     "exception": false,
     "start_time": "2023-02-16T12:30:09.232201",
     "status": "completed"
    },
    "tags": []
   },
   "outputs": [],
   "source": [
    "token_lens = []\n",
    "\n",
    "for txt in df['text_clean_deeper'].values:\n",
    "    tokens = tokenizer_4.encode(txt, max_length=512, truncation=True)\n",
    "    token_lens.append(len(tokens))\n",
    "    \n",
    "max_len=np.max(token_lens)"
   ]
  },
  {
   "cell_type": "code",
   "execution_count": 51,
   "id": "61641f77",
   "metadata": {
    "execution": {
     "iopub.execute_input": "2023-02-16T12:30:50.780833Z",
     "iopub.status.busy": "2023-02-16T12:30:50.779775Z",
     "iopub.status.idle": "2023-02-16T12:30:50.786427Z",
     "shell.execute_reply": "2023-02-16T12:30:50.785145Z"
    },
    "papermill": {
     "duration": 0.02897,
     "end_time": "2023-02-16T12:30:50.788942",
     "exception": false,
     "start_time": "2023-02-16T12:30:50.759972",
     "status": "completed"
    },
    "tags": []
   },
   "outputs": [
    {
     "name": "stdout",
     "output_type": "stream",
     "text": [
      "Longest tokenized sentence: 483\n"
     ]
    }
   ],
   "source": [
    "print(f\"Longest tokenized sentence: {max_len}\")"
   ]
  },
  {
   "cell_type": "code",
   "execution_count": 52,
   "id": "8ecc4e3d",
   "metadata": {
    "execution": {
     "iopub.execute_input": "2023-02-16T12:30:50.827731Z",
     "iopub.status.busy": "2023-02-16T12:30:50.827342Z",
     "iopub.status.idle": "2023-02-16T12:31:32.669823Z",
     "shell.execute_reply": "2023-02-16T12:31:32.668676Z"
    },
    "papermill": {
     "duration": 41.865379,
     "end_time": "2023-02-16T12:31:32.672645",
     "exception": false,
     "start_time": "2023-02-16T12:30:50.807266",
     "status": "completed"
    },
    "tags": []
   },
   "outputs": [
    {
     "name": "stdout",
     "output_type": "stream",
     "text": [
      "INDEX: 3079, TEXT: stream ndi ndi by vicmass luodollar available on spotify youtube boomplay apple music audiomack mdundo deezer itunes youtube music etc click link below kcpe duale riggy g amerix kipkorir amerix david maraga maasai shoe size dubai chart increasing play or pause button play or pause button play or pause button play or pause button play or pause button play or pause button play or pause button play or pause button play or pause button\n",
      "INDEX: 4737, TEXT: amerixtoday i am going to harvest sweet potatoes from the farm next to my sons school womenheheheeand u are advising men not to be attached 2 their children and here u are mentioning ua son mentake charge of your sons beaming face with smiling eyes grinning squinting face grinning squinting face squinting face with tongue squinting face with tongue starstruck starstruck loudly crying face loudly crying face beaming face with smiling eyes grinning squinting face grinning squinting face speaknoevil monkey face with hand over mouth face with hand over mouth beaming face with smiling eyes beaming face with smiling eyes squinting face with tongue grinning squinting face grinning squinting face face with rolling eyes face with rolling eyes face with rolling eyes face with tears of joy face with tears of joy face with tears of joy\n",
      "INDEX: 5142, TEXT: use your block button if my 5 emojis ruined your day face with tears of joy face with tears of joy face with tears of joy face with tears of joy face with tears of joy face with tears of joy face with tears of joy face with tears of joy face with tears of joy face with tears of joy face with tears of joy face with tears of joy face with tears of joy face with tears of joy face with tears of joy face with tears of joy face with tears of joy face with tears of joy face with tears of joy face with tears of joy face with tears of joy face with tears of joy face with tears of joy face with tears of joy face with tears of joy face with tears of joy face with tears of joy face with tears of joy face with tears of joy face with tears of joy face with tears of joy face with tears of joy face with tears of joy face with tears of joy face with tears of joy face with tears of joy face with tears of joy face with tears of joy face with tears of joy face with tears of joy face with tears of joy face with tears of joy face with tears of joy face with tears of joy face with tears of joy face with tears of joy face with tears of joy face with tears of joy face with tears of joy face with tears of joy face with tears of joy face with tears of joy face with tears of joy face with tears of joy face with tears of joy face with tears of joy face with tears of joy face with tears of joy\n",
      "INDEX: 6498, TEXT: nbr of flags in 5011 usernames who liked 279 31 11 9 7 5 5 4 4 4 4 3 3 3 2 2 2 2 2 2 1 1 1 1 1 1 1 1 1 1 1 1 1 1 1 1 1 1 1 kenya uganda tanzania argentina south africa south sudan ghana france brazil russia jamaica united states united kingdom australia kuwait malawi somalia canada liberia nigeria zambia india kosovo isle of man iceland czechia portugal faroe islands namibia turkey spain israel ethiopia guinea heard mcdonald islands niger rwanda china zimbabwe\n",
      "INDEX: 6652, TEXT: lenovo thinkpad ultraslim t480s touchscreen 8th generation processor intel core i5 speed upto 38ghz turbo boost 8gb hd graphics storage 8gb ram256gb ssd with type c charger price ksh 36000 c 0717040531 duale clout matatus amerix range rover wewe kcpe small blue diamond small blue diamond small blue diamond small blue diamond small blue diamond small blue diamond small blue diamond small blue diamond kenya small blue diamond\n",
      "INDEX: 7233, TEXT: hp elitebook 820 gen 5 processor intel core i5 storage 8gb ram500gb hdd base speed 23ghz size 125inches with windows 10 pro and basic softwares warranty available price ksh 23000 contact 0717040531 nairobians nyeri ruto sakaja amerix kcpe riggy g small blue diamond small blue diamond small blue diamond small blue diamond small blue diamond small blue diamond small blue diamond small blue diamond telephone receiver\n",
      "INDEX: 7235, TEXT: hp elitebook 820 gen 5 processor intel core i5 storage 8gb ram500gb hdd base speed 23ghz size 125inches with windows 10 pro and basic softwares warranty available price ksh 23000 contact 0717040531 nairobians nyeri ruto sakaja amerix kcpe riggy g small blue diamond small blue diamond small blue diamond small blue diamond small blue diamond small blue diamond small blue diamond small blue diamond telephone receiver\n",
      "INDEX: 7239, TEXT: hp probook 430 series 8th generation processor intel core i5 turbo boost speed upto 38ghz storage 8gb ram upgradable256gb ssd super fast has hdmitype cusb ports intel hd graphics price ksh 36500 0717040531 ruto sakaja amerix kcpe riggy g small blue diamond collision small blue diamond check mark button small blue diamond small blue diamond small blue diamond small blue diamond small blue diamond small blue diamond\n",
      "INDEX: 7709, TEXT: yesterday fixed games won successfully as expected labancliffonserio whatafinal chairperson babysagini amerix kenya green heart green heart green heart green heart green heart green heart green heart green heart green heart green heart green heart green heart green heart green heart green heart green heart green heart green heart green heart green heart green heart green heart green heart ok hand thumbs up thumbs up thumbs up thumbs up beaming face with smiling eyes beaming face with smiling eyes beaming face with smiling eyes beaming face with smiling eyes check mark button check mark button check mark button check mark button check mark button green heart green heart green heart green heart green heart green heart green heart green heart green heart green heart green heart green heart green heart green heart green heart green heart green heart green heart green heart green heart green heart green heart green heart\n",
      "INDEX: 8525, TEXT: nbr of flags in 5050 usernames who liked 234 14 13 11 8 7 6 6 5 5 4 3 3 3 3 3 2 2 2 2 2 2 2 2 1 1 1 1 1 1 1 1 1 1 1 1 1 1 kenya uganda argentina united states nigeria russia tanzania south africa zimbabwe canada south sudan jamaica spain somalia united kingdom ghana liberia malawi chad france palestinian territories iran australia brazil rwanda cameroon cuba heard mcdonald islands portugal denmark india guinea niger brunei sudan qatar south korea namibia fiji\n",
      "INDEX: 9700, TEXT: lenovo yoga 12 x360 touchscreen processor intel core i5 storage 8gb ram256gb ssd very fast clock speed 25ghz excellent batt ery life comes with stylus pen priceksh 31000 contact 254717040531 swahili kisumu nairobi drake kplc uhuru amerix baby sagini small blue diamond small blue diamond small blue diamond small blue diamond small blue diamond small blue diamond small blue diamond small blue diamond small blue diamond\n",
      "INDEX: 10585, TEXT: nbr of flags in 5062 usernames who liked 244 16 14 9 8 8 8 6 5 5 4 3 3 3 3 2 2 2 2 2 2 1 1 1 1 1 1 1 1 1 1 1 1 1 1 1 1 1 1 kenya uganda argentina united states nigeria tanzania south africa canada zimbabwe russia south sudan jamaica spain somalia france united kingdom liberia malawi ghana chad palestinian territories isle of man iceland brazil rwanda cameroon iran cuba portugal denmark australia india guinea niger brunei sudan qatar south korea namibia\n",
      "INDEX: 11138, TEXT: nbr of flags in 5066 usernames who liked 250 21 13 9 8 8 8 7 6 5 4 3 3 3 2 2 2 2 2 2 2 1 1 1 1 1 1 1 1 1 1 1 1 1 1 1 1 1 1 kenya uganda argentina united states nigeria tanzania south africa canada zimbabwe russia south sudan jamaica spain somalia rwanda united kingdom liberia malawi ghana chad france isle of man iceland brazil cameroon iran palestinian territories cuba portugal denmark australia india guinea niger brunei sudan qatar south korea namibia\n",
      "INDEX: 12140, TEXT: nbr of flags in 5088 usernames who liked 257 22 14 9 9 8 8 7 7 4 4 3 3 3 2 2 2 2 2 2 2 2 1 1 1 1 1 1 1 1 1 1 1 1 1 1 1 1 1 kenya uganda argentina tanzania south africa nigeria united states zimbabwe canada russia south sudan jamaica spain somalia rwanda united kingdom liberia portugal malawi ghana chad france germany isle of man iceland brazil cameroon iran palestinian territories cuba denmark australia india guinea niger brunei sudan qatar south korea\n",
      "INDEX: 13509, TEXT: man i love a good satire account calling selfish psychotic independence masculine face with tears of joy face with tears of joy face with tears of joy face with tears of joy face with tears of joy face with tears of joy face with tears of joy face with tears of joy face with tears of joy face with tears of joy face with tears of joy face with tears of joy face with tears of joy face with tears of joy face with tears of joy face with tears of joy face with tears of joy face with tears of joy face with tears of joy face with tears of joy face with tears of joy face with tears of joy face with tears of joy face with tears of joy face with tears of joy face with tears of joy face with tears of joy face with tears of joy face with tears of joy face with tears of joy face with tears of joy face with tears of joy face with tears of joy face with tears of joy face with tears of joy face with tears of joy face with tears of joy face with tears of joy face with tears of joy face with tears of joy face with tears of joy face with tears of joy face with tears of joy face with tears of joy face with tears of joy face with tears of joy face with tears of joy face with tears of joy face with tears of joy face with tears of joy face with tears of joy face with tears of joy face with tears of joy face with tears of joy face with tears of joy face with tears of joy face with tears of joy face with tears of joy face with tears of joy face with tears of joy face with tears of joy face with tears of joy face with tears of joy face with tears of joy face with tears of joy face with tears of joy face with tears of joy face with tears of joy face with tears of joy face with tears of joy face with tears of joy face with tears of joy face with tears of joy face with tears of joy face with tears of joy face with tears of joy face with tears of joy face with tears of joy face with tears of joy face with tears of joy face with tears of joy face with tears of joy face with tears of joy face with tears of joy face with tears of joy face with tears of joy face with tears of joy face with tears of joy face with tears of joy face with tears of joy face with tears of joy face with tears of joy face with tears of joy face with tears of joy\n",
      "INDEX: 27290, TEXT: unfat unfat old man my friendunfat unfat sir unfat ask your colleagues to unfat rolling on the floor laughing rolling on the floor laughing rolling on the floor laughing rolling on the floor laughing rolling on the floor laughing rolling on the floor laughing rolling on the floor laughing rolling on the floor laughing face with tears of joy face with tears of joy face with tears of joy face with tears of joy face with tears of joy face with tears of joy face with tears of joy face with tears of joy face with tears of joy face with tears of joy face with tears of joy face with tears of joy face with tears of joy face with tears of joy face with tears of joy face with tears of joy face with tears of joy face with tears of joy face with tears of joy face with tears of joy\n",
      "INDEX: 29517, TEXT: lenovo thinkpad ultraslim t480s touchscreen 8th generation processor intel core i5 speed upto 38ghz turbo boost 8gb hd graphics storage 8gb ram512gb ssd with type c charger price ksh 39000 mpesa kisii ruto japan amerix onyango machakos university saf small blue diamond small blue diamond small blue diamond small blue diamond small blue diamond small blue diamond small blue diamond small blue diamond small blue diamond kenya\n",
      "INDEX: 32722, TEXT: amerix amewacorrupt akili kabisa theres no way utafanya everything 100 perfect buana i have nieces who watch while eating mpaka kuoga na the first words they uttered were english words kama hio si progress then wtf do you want face with tears of joy face with tears of joy face with tears of joy face with tears of joy face with tears of joy face with tears of joy face with tears of joy face with tears of joy face with tears of joy face with tears of joy face with tears of joy\n",
      "INDEX: 34629, TEXT: hp elitebook 820 gen 7 intel core i7 storage 12gb ram256gb ssd or 1tb hdd clock speed 28ghz screen resolution 1080p with 4gb intel graphics with backlite keyboard size 125 inches price 35000 0717040531hp uganda kagame mzee kisumu amerix thika road check mark button check mark button check mark button check mark button check mark button check mark button check mark button check mark button check mark button telephone receiver\n",
      "INDEX: 37682, TEXT: what prescription is this for diabetes whether type 1 or 2 it will eventually fluctuate sugar levels and this 34year old man will die of diabetes face with open eyes and hand over mouth face with open eyes and hand over mouth face with open eyes and hand over mouth face with open eyes and hand over mouth face with open eyes and hand over mouth face with open eyes and hand over mouth face with open eyes and hand over mouth face with open mouth face with open mouth face with open mouth face with open mouth face with open mouth face with open mouth face with open mouth face with open mouth face with open mouth face with open mouth face with open mouth man shrugging\n",
      "INDEX: 56260, TEXT: thats all i hadthankyou grinning face with sweat grinning face with sweat grinning face with sweat grinning face with sweat grinning face with sweat grinning face with sweat grinning face with sweat grinning face with sweat grinning face with sweat grinning face with sweat face with tears of joy face with tears of joy face with tears of joy face with tears of joy face with tears of joy face with tears of joy face with tears of joy face with tears of joy face with tears of joy face with tears of joy face with tears of joy face with tears of joy\n",
      "INDEX: 60903, TEXT: power in your hands hp elitebook 820 g4 intel core i77200u 7th gen 28 ghz 2cores 8gb ram 256gb ssd intel hd graphics 620 125 fhd touch disp 34k 0741265207 retweet widely alfred mutua marriage luos amerix bahati manyora kinoti raised hand laptop black square button registered trade mark black square button black square button black square button black square button black square button black square button victory hand\n",
      "INDEX: 67196, TEXT: lemme retweet share screenshot and tag this fellow drayk like 100 times face with tears of joy face with tears of joy face with tears of joy face with tears of joy face with tears of joy face with tears of joy loudly crying face loudly crying face loudly crying face face with tears of joy face with tears of joy face with tears of joy face with tears of joy face with tears of joy face with tears of joy face with tears of joy face with tears of joy face with tears of joy face with tears of joy face with tears of joy face with tears of joy face with tears of joy face with tears of joy face with tears of joy face with tears of joy face with tears of joy\n",
      "INDEX: 69769, TEXT: pay on delivery countrywide hp elitebook x360 1030 g3 133 touchscreen lcd 2 in 1 laptop intel core i5 8th gen i58650u 8gb lpddr3 ram 256gb pcie nvme m2 ssd 133 windows 11 ksh48000 254 713 441634 riggyg amerix tate odinga eldoret obina nairobi club suit club suit club suit club suit club suit club suit\n",
      "INDEX: 69777, TEXT: amerix murife thierry henry andrew tate kisumu eldoret riggy g salim mvurya homabay winnie odinga bungoma get ps5 standard 1padfifa 21 75k ps5 standard2pads fifa 22 85k ps5 standard2pads fifa 22 90k ps5 standard 2pads 80k call or text 0743970341 black small square black small square black small square black small square\n",
      "INDEX: 72811, TEXT: you wish i was fat in your dreams rolling on the floor laughing face with tears of joy rolling on the floor laughing face with tears of joy rolling on the floor laughing face with tears of joy rolling on the floor laughing face with tears of joy rolling on the floor laughing face with tears of joy rolling on the floor laughing face with tears of joy rolling on the floor laughing face with tears of joy rolling on the floor laughing face with tears of joy rolling on the floor laughing face with tears of joy rolling on the floor laughing face with tears of joy rolling on the floor laughing face with tears of joy rolling on the floor laughing face with tears of joy\n",
      "INDEX: 73856, TEXT: 2 days left get 25 off hp elitebook 840 g3 core i5 8gb 256gb ssd callwhatsapp 0716000565 mudavadi machakoscountyexposed ichaweri chebukati eldoret nakuru riggy g mombasa nairobi river grade 6 ronaldo round of 16 somali spaceyamagari alai manday apple kibra fire check mark button check mark button check mark button selfie\n",
      "INDEX: 73857, TEXT: 2 days left get 21 off hp elitebook850 g5 i7 32gb 512gb 156 fhd callwhatsapp 0716000565 mudavadi machakoscountyexposed ichaweri chebukati eldoret nakuru riggy g mombasa nairobi river grade 6 ronaldo round of 16 somali spaceyamagari alai manday apple fire check mark button check mark button check mark button check mark button selfie\n",
      "INDEX: 73858, TEXT: 2 days left get 35 off hp 1030 g2 x360 core i7 16gb 512gb 133touch callwhatsapp 0716000565 mudavadi machakoscountyexposed ichaweri chebukati eldoret nakuru riggy g mombasa nairobi river grade 6 ronaldo round of 16 somali spaceyamagari alai manday apple fire check mark button check mark button check mark button check mark button selfie\n",
      "INDEX: 75328, TEXT: manday please please make today my special day i need to buy bits to my son who is going to army foundation college in september and i am struggling with being able to buy it all folded hands medium skin tone folded hands medium skin tone folded hands medium skin tone folded hands medium skin tone folded hands medium skin tone folded hands medium skin tone folded hands medium skin tone folded hands medium skin tone folded hands medium skin tone folded hands medium skin tone folded hands medium skin tone folded hands medium skin tone folded hands medium skin tone folded hands medium skin tone folded hands medium skin tone folded hands medium skin tone\n",
      "INDEX: 79237, TEXT: horseracingtips fully updated like both value bets mybigbets1 mybigbets mybigbetsboom horseracing pakistancricket smalldickenergy capetown lkp2023 caperacing lormarins durban bettertogether bettingtwitter soccer betway studio microphone horse racing dark skin tone studio microphone horse racing dark skin tone police car light studio microphone police car light money bag money bag money bag man dancing man dancing man dancing smiling face with sunglasses smiling face with sunglasses smiling face with sunglasses horse racing dark skin tone horse racing dark skin tone horse racing dark skin tone\n",
      "INDEX: 80720, TEXT: bipot boom ticket quntaum podcast boom mybigbets1 mybigbets horseracing horseracingtips fifaworldcup tipsters tipster bettingtips bettingsports bettertogether bettingexpert bettingpeople bettingpicks worldcupfinal check mark button horse racing dark skin tone money bag glowing star check mark button check mark button check mark button money bag money bag money bag horse racing dark skin tone horse racing dark skin tone horse racing dark skin tone collision collision collision money bag money bag money bag\n",
      "INDEX: 80769, TEXT: happy punter boom ticket mybigbets mybigbets1 yourfriendlytipster horseracingtips horseracingtipster tipster tipsters horseracing mybigbetsboom mybigbetspodcast fifaworldcup souuthafrica bettingtwitter bettertogether cyril green apple man dancing green apple green apple man dancing green apple money bag money bag money bag horse racing dark skin tone horse racing dark skin tone horse racing dark skin tone money bag money bag money bag horse racing dark skin tone horse racing dark skin tone horse racing dark skin tone\n",
      "INDEX: 82894, TEXT: god must not like us this slip was 50 bands for me i even made this bitch shorter 89 im sorry yall we gotta make this bitch higher again i know we can ride this one if it was all higher bettertogether bettingtwitter bettertogether rolling on the floor laughing rolling on the floor laughing rolling on the floor laughing rolling on the floor laughing rolling on the floor laughing rolling on the floor laughing man facepalming mediumdark skin tone man facepalming mediumdark skin tone man facepalming mediumdark skin tone fire fire fire\n",
      "INDEX: 84024, TEXT: today was a good day if youre reading this i hope yours was too bettertogether thebekindimpact clearthelist teachertwitter party popper party popper snowman snowman snowman snowman snowman snowman snowman snowman snowman snowman snowman snowman snowman snowman snowman snowman snowman snowman snowman snowman snowman snowman snowman snowman snowman snowman snowman snowman snowman snowman snowman snowman snowman snowman snowman snowman snowman snowman snowman snowman snowman snowman snowman snowman snowman snowman snowman snowman snowman snowman snowman snowman snowman snowman snowman snowman snowman snowman snowman snowman snowman snowman snowman snowman snowman snowman snowman snowman snowman snowman snowman snowman\n",
      "INDEX: 86150, TEXT: thank you kindly for including me on this ride with all these fantastic patriots youre simple the best rt amp fbap follow my friend gt lt bluehand bettertogether rightfacing fist mediumlight skin tone collision leftfacing fist mediumlight skin tone blue heart blue heart blue heart oncoming fist mediumlight skin tone oncoming fist mediumlight skin tone oncoming fist mediumlight skin tone oncoming fist mediumlight skin tone oncoming fist mediumlight skin tone oncoming fist mediumlight skin tone shield shield fire fire shield shield collision collision\n",
      "INDEX: 89755, TEXT: taylor swift tickets week coming up am i going to fight this battle for tickets yes yes i am so stay out of the way trying to pull it off bettertogether swifties thebekindimpact smiling face with sunglasses smiling face with sunglasses smiling face with sunglasses seenoevil monkey seenoevil monkey seenoevil monkey seenoevil monkey seenoevil monkey seenoevil monkey seenoevil monkey seenoevil monkey seenoevil monkey seenoevil monkey seenoevil monkey seenoevil monkey seenoevil monkey seenoevil monkey\n",
      "INDEX: 91077, TEXT: all humans are bettertogether voteblue resist voteblue mandelabarnes tonyevers wisconsin lgbtqia blm indigenouspeoples jewish asian disabilityrights marginalized women daughters sisters moms sweat droplets waving hand mediumlight skin tone raised fist dark skin tone victory hand mediumdark skin tone rightfacing fist light skin tone leftfacing fist medium skin tone thumbs up mediumlight skin tone folded hands dark skin tone oncoming fist medium skin tone palms up together mediumdark skin tone victory hand medium skin tone rightfacing fist mediumlight skin tone leftfacing fist dark skin tone raised fist medium skin tone clapping hands mediumdark skin tone\n",
      "INDEX: 91482, TEXT: this is my only points slip this was 80k this nigga nigga ingram fumble it was going be my 8th win i have a new strategy to win constantly hmu bettertogether bettingpicks bettingpicks bettingpicks fanduel nbaparlay rolling on the floor laughing rolling on the floor laughing rolling on the floor laughing rolling on the floor laughing rolling on the floor laughing rolling on the floor laughing rolling on the floor laughing rolling on the floor laughing rolling on the floor laughing face exhaling face exhaling face exhaling face exhaling dollar banknote check mark button check mark button check mark button mobile phone with arrow mobile phone with arrow mobile phone with arrow mobile phone with arrow\n",
      "INDEX: 92050, TEXT: didnt even wanna bet today trash ass matchups but this was 30k ticket 1417 tomorrow im winning big great games tomorrow im shooting for 100k im going to get it bettingexpert bettertogether moneytips nba fanduel face exhaling dollar banknote dollar banknote dollar banknote dollar banknote face exhaling check mark button check mark button check mark button check mark button check mark button check mark button check mark button check mark button rolling on the floor laughing rolling on the floor laughing rolling on the floor laughing rolling on the floor laughing rolling on the floor laughing fire fire fire fire raising hands mediumdark skin tone\n",
      "INDEX: 101137, TEXT: k i can do that i have extra ones to share bettertogether grinning face grinning face grinning face grinning face grinning face grinning face grinning face grinning face grinning face grinning face grinning face grinning face grinning face grinning face grinning face grinning face grinning face grinning face grinning face grinning face grinning face grinning face grinning face grinning face grinning face grinning face grinning face grinning face grinning face grinning face grinning face grinning face grinning face grinning face grinning face grinning face grinning face grinning face grinning face grinning face grinning face grinning face grinning face grinning face grinning face grinning face grinning face grinning face grinning face grinning face grinning face grinning face grinning face grinning face grinning face grinning face grinning face grinning face grinning face grinning face grinning face grinning face grinning face grinning face grinning face grinning face grinning face grinning face grinning face grinning face grinning face grinning face grinning face grinning face grinning face grinning face grinning face grinning face grinning face grinning face grinning face grinning face grinning face grinning face grinning face grinning face grinning face grinning face grinning face grinning face grinning face grinning face grinning face grinning face grinning face grinning face grinning face grinning face grinning face grinning face grinning face grinning face grinning face grinning face grinning face grinning face grinning face\n",
      "INDEX: 110568, TEXT: today we made welcome cards to give to our new year 1 friends all 19 of them who start school tomorrow we cant wait to meet you and show you our big smiles firstday bettertogether kindergarten envelope zany face smiling face with hearts grinning face with big eyes woman and man holding hands medium skin tone mediumlight skin tone women holding hands woman and man holding hands medium skin tone mediumlight skin tone man standing mediumlight skin tone woman and man holding hands medium skin tone mediumlight skin tone\n",
      "INDEX: 111382, TEXT: realized i did not practice getting up early for school today which means i will be tired tomorrow morning anyone else practice getting up early or going to bed early teachertwitter bettertogether thebekindimpact clearthelist party popper party popper party popper party popper party popper party popper party popper party popper party popper party popper party popper party popper party popper party popper party popper party popper party popper party popper party popper party popper party popper party popper\n",
      "INDEX: 111553, TEXT: wednesday i start with studentsum what where is summer scaries teachertwitter bettertogether thebekindimpact clearthelist police car light police car light police car light police car light police car light police car light police car light police car light police car light police car light police car light police car light police car light police car light police car light police car light police car light police car light police car light police car light police car light police car light police car light police car light police car light\n",
      "INDEX: 111734, TEXT: books books books everybody lets retweet and see what we can do to get this list out to the world if you have the energy id appreciate the retweet thanks for your time bettertogether teachertwitter thebekindimpact clearthelist police car light police car light police car light police car light police car light sun sun police car light police car light police car light police car light police car light police car light police car light police car light police car light police car light police car light police car light police car light police car light\n",
      "INDEX: 113765, TEXT: lets clearthelist teachertwitter only 5 containers of wipes left and thats it retweet if you have the strength i appreciate it lets do this bettertogether thebekindimpact vibes positivity police car light police car light police car light police car light police car light police car light police car light police car light police car light police car light police car light police car light police car light police car light police car light police car light police car light police car light police car light police car light police car light police car light police car light police car light sun\n",
      "INDEX: 113780, TEXT: hey teachertwitter any help with this list even a rt would be forever amazing rts do wonders just to get the word out i appreciate all of you bettertogether thebekindimpact clearthelist police car light police car light police car light police car light police car light police car light police car light police car light police car light police car light police car light police car light police car light police car light police car light police car light police car light police car light police car light\n",
      "INDEX: 113912, TEXT: oh my would love a class set of these and they are 25 off today would be so thankful for a rt or any support clearthelist bettertogether adoptateacher teachertwitter johnclearmylist b2swithalane grinning face with big eyes grinning face with big eyes grinning face with big eyes flushed face flushed face flushed face grinning face with big eyes clapping hands light skin tone clapping hands light skin tone clapping hands light skin tone crossed fingers light skin tone crossed fingers light skin tone crossed fingers light skin tone\n",
      "INDEX: 115058, TEXT: congratulations bettingtips bettertogether sportybet betwaysquad betwinnernews check mark button check mark button check mark button check mark button check mark button check mark button check mark button check mark button check mark button check mark button check mark button check mark button bottle with popping cork bottle with popping cork bottle with popping cork bottle with popping cork bottle with popping cork bottle with popping cork bottle with popping cork bottle with popping cork money bag money bag money bag money bag rocket rocket rocket rocket rocket rocket rocket collision collision collision collision collision\n",
      "INDEX: 116604, TEXT: just a 7th grade history teacher looking to revamp and reload any help even rt would be forever amazing bettertogether teachertwitter thebekindimpact clearthelist b2swithalane police car light police car light police car light police car light police car light police car light police car light police car light police car light police car light police car light police car light police car light police car light police car light police car light police car light police car light police car light police car light police car light\n",
      "INDEX: 116916, TEXT: keep pushing multiple aeds are so important for a school especially a large one any help even a retweet would be forever amazing bettertogether thebekindimpact teachertwitter clearthelist project police car light police car light police car light police car light police car light police car light police car light police car light police car light police car light police car light police car light police car light police car light police car light police car light police car light police car light police car light police car light police car light police car light police car light police car light police car light police car light police car light police car light police car light police car light police car light\n",
      "INDEX: 116944, TEXT: its the final countdown so so close a retweet would mean the world lets try to blow this project up and get it launched teachertwitter gameofthrones houseofthedragon bettertogether clearthelist thebekindimpact police car light police car light police car light police car light police car light police car light police car light police car light police car light police car light police car light police car light police car light police car light police car light police car light police car light police car light police car light police car light police car light police car light\n",
      "INDEX: 117080, TEXT: every little bit helps as a coach i know that having multiple aeds is so so important if you have the ability please retweet teachertwitter bettertogether thebekindimpact clearthelist police car light police car light police car light police car light police car light police car light police car light police car light police car light police car light police car light police car light police car light police car light police car light police car light police car light police car light police car light police car light police car light\n",
      "INDEX: 119426, TEXT: what is one thing you forgot to put on your wishlist and why is it a beach house with a jetski teachertwitter bettertogether thebekindimpact smiling face with sunglasses smiling face with sunglasses smiling face with sunglasses smiling face with sunglasses smiling face with sunglasses smiling face with sunglasses smiling face with sunglasses smiling face with sunglasses smiling face with sunglasses smiling face with sunglasses smiling face with sunglasses smiling face with sunglasses smiling face with sunglasses smiling face with sunglasses smiling face with sunglasses smiling face with sunglasses smiling face with sunglasses\n",
      "INDEX: 120008, TEXT: cherish the little moments take time to make memories they are the rock you need to hold onto when times get tough bettertogether weekendthoughts teachertwitter globe showing asiaaustralia globe showing asiaaustralia globe showing asiaaustralia globe showing asiaaustralia globe showing asiaaustralia globe showing asiaaustralia globe showing asiaaustralia globe showing asiaaustralia globe showing asiaaustralia globe showing asiaaustralia globe showing asiaaustralia globe showing asiaaustralia\n",
      "INDEX: 122260, TEXT: teachertwitter the match almost ends soon any help even a rt would be forever appreciated this is a project that would change an entire school population clearthelist thebekindimpact bettertogether united states united states united states united states united states united states united states united states united states united states united states united states united states united states united states united states united states united states united states united states united states united states united states united states united states united states united states united states united states united states united states united states united states united states united states united states united states\n",
      "INDEX: 123905, TEXT: heat wave wishlist dropheating up in nj again 7th grade history teacher here gearing up 4 another yr drop and retweet if you feel up to it bettertogether clearthelists teachertwitter thebekindimpact police car light police car light police car light police car light police car light police car light police car light police car light police car light police car light police car light police car light police car light police car light police car light police car light police car light police car light police car light police car light police car light police car light police car light police car light\n",
      "INDEX: 124759, TEXT: if youre seeing this i hope you rock this friday and glide into an awesome weekend hope its filled with fun and positivity remember to take time for you teachertwitter bettertogether thebekindimpact police car light police car light police car light police car light police car light police car light police car light police car light police car light police car light police car light police car light police car light police car light police car light police car light police car light police car light police car light police car light police car light police car light police car light police car light\n",
      "INDEX: 125434, TEXT: if youre a fan of survivor or naked and afraid you need to watch alone on netflix this is a real survival show teachertwitter bettertogether police car light police car light police car light police car light police car light police car light police car light police car light police car light police car light police car light police car light police car light police car light police car light police car light police car light police car light police car light police car light police car light police car light police car light police car light police car light\n",
      "INDEX: 129715, TEXT: if youre seeing this i want you to have the best rest of this week keep smiling and i hope positivity finds its way into your life even in the smallest way be kind to each other bettertogether teachertwitter police car light police car light police car light police car light police car light police car light police car light police car light police car light police car light police car light police car light police car light police car light police car light police car light police car light police car light folded hands light skin tone folded hands light skin tone folded hands light skin tone folded hands light skin tone folded hands light skin tone folded hands light skin tone folded hands light skin tone\n",
      "INDEX: 130519, TEXT: if i didnt retweet your list in my wishlist drop i just did now i apologize for the delay my notifications have been blowing up so sometimes things get overlooked i apologize bettertogether teachertwitter thebekindimpact clearthelist police car light police car light police car light police car light police car light police car light police car light police car light police car light police car light police car light police car light police car light police car light police car light police car light police car light police car light\n",
      "INDEX: 133924, TEXT: price drop storage containers on my list found much cheaper 27 for 2 to store books costumes and keep them fresh for years teachertwitter clearthelist bettertogether thebekindimpact backhand index pointing down backhand index pointing down backhand index pointing down backhand index pointing down backhand index pointing down backhand index pointing down backhand index pointing down backhand index pointing down backhand index pointing down backhand index pointing down backhand index pointing down backhand index pointing down backhand index pointing down backhand index pointing down backhand index pointing down backhand index pointing down backhand index pointing down\n",
      "INDEX: 134276, TEXT: thank you for your support always 7th grade history teacher looking to make history come alive for his students any help even retweet would b 4ever amazing bettertogether teachertwitter clearthelist police car light police car light police car light police car light police car light police car light police car light police car light police car light police car light police car light police car light police car light police car light police car light police car light police car light police car light police car light police car light police car light police car light police car light police car light police car light\n",
      "INDEX: 134827, TEXT: ok now i can reveal the weekend wishlist drop retweet if you feel up to it we are going to clear some lists this weekend bettertogether thebekindimpact teachertwitter clearthelists police car light police car light police car light police car light police car light police car light police car light police car light police car light united states united states united states united states police car light police car light police car light police car light police car light police car light police car light police car light police car light police car light police car light police car light police car light police car light police car light police car light police car light police car light\n",
      "INDEX: 134970, TEXT: is it too early to say i have a new wishlist drop as my pinned tweet i feel like because its not friday its too early retweet if youd like again if its not too early teachertwitter bettertogether thebekindimpact clearthelist police car light police car light police car light police car light police car light police car light police car light police car light police car light police car light police car light police car light police car light police car light police car light police car light police car light police car light police car light police car light police car light\n",
      "INDEX: 136805, TEXT: hey twitter its me again just reminding you to have an amazing weekend and hope everyone finds a reason to smile bekind bettertogether thebekindimpact teachertwitter united states united states united states united states united states united states united states united states united states united states united states united states united states united states united states united states united states united states united states united states united states united states united states united states united states united states united states united states united states united states united states united states united states united states united states united states united states united states united states united states united states united states united states\n",
      "INDEX: 137167, TEXT: be kind to each other be positive these little things mean the world one step at a time enjoy the friday friyay bettertogether united states united states united states united states united states united states united states united states united states united states united states united states united states united states united states united states united states united states united states united states united states united states united states united states red heart united states united states united states united states united states united states united states united states united states united states united states united states united states united states united states united states united states united states united states united states united states united states united states united states united states united states united states\n",
      "INDEX: 137314, TEXT: 38 items and counting truly cant believe how close i am to clearing my list my students are going to be so psyched when i meet a new group of them this september clearthelists thebekindimpact bettertogether bekind face with open mouth face with open mouth face with open mouth face with open mouth face with open mouth face with open mouth face with open mouth face with open mouth face with open mouth face with open mouth face with open mouth face with open mouth face with open mouth face with open mouth face with open mouth face with open mouth face with open mouth face with open mouth face with open mouth face with open mouth face with open mouth face with open mouth face with open mouth face with open mouth face with open mouth face with open mouth face with open mouth face with open mouth face with open mouth\n",
      "INDEX: 139626, TEXT: a retweet means the world to teachertwitter clearthelist you never know who may see any help would be appreciated greatly thebekindimpact bettertogether keep rocking the week police car light police car light police car light police car light police car light police car light police car light police car light police car light police car light police car light police car light police car light police car light police car light police car light police car light police car light police car light police car light police car light police car light police car light police car light police car light police car light police car light police car light police car light police car light police car light police car light police car light police car light police car light police car light united states\n",
      "INDEX: 139976, TEXT: any help would be forever appreciated even a retweet would mean the world i appreciate all of you and your friendship bettertogether teachertwitter thebekindimpact clearthelists police car light police car light police car light police car light police car light police car light police car light police car light police car light police car light police car light police car light police car light police car light police car light police car light police car light police car light police car light police car light police car light police car light police car light police car light police car light police car light police car light police car light police car light police car light police car light\n",
      "INDEX: 143978, TEXT: bettertogether oh undenzani kodwa queen elizabeth what a 4play on my sons birthday oluthando sparkstime was exactly 1023 when i held u in my arms 11 years ago and our love will go on red heart red heart red heart red heart red heart red heart red heart red heart red heart red heart red heart red heart red heart red heart red heart red heart red heart red heart red heart red heart red heart red heart red heart red heart red heart red heart red heart red heart red heart\n",
      "INDEX: 145596, TEXT: trying to lose weight while having friedreichsataxia is like spongebob trying to live on land nonexistent disabilitytwitter disabled bettertogether amtrying weightloss rolling on the floor laughing rolling on the floor laughing rolling on the floor laughing rolling on the floor laughing rolling on the floor laughing rolling on the floor laughing rolling on the floor laughing rolling on the floor laughing rolling on the floor laughing rolling on the floor laughing rolling on the floor laughing rolling on the floor laughing rolling on the floor laughing rolling on the floor laughing\n",
      "INDEX: 145985, TEXT: wishing the team the best today the team has invested so much to make this a great experience for students teachers and leaders bettertogether speaking head hundred points smiling face with hearteyes smiling face with hearts starstruck camping clapping hands mediumlight skin tone clapping hands mediumlight skin tone clapping hands mediumlight skin tone clapping hands mediumlight skin tone clapping hands mediumlight skin tone clapping hands mediumlight skin tone clapping hands mediumlight skin tone clapping hands mediumlight skin tone clapping hands mediumlight skin tone clapping hands mediumlight skin tone clapping hands mediumlight skin tone clapping hands mediumlight skin tone clapping hands mediumlight skin tone clapping hands mediumlight skin tone smiling face with hearts\n",
      "INDEX: 146641, TEXT: new day for you jam is truly a hip shaking jam hadnt heard it in a while bettertogether radio2000 man dancing dark skin tone woman dancing mediumdark skin tone man dancing dark skin tone woman dancing mediumdark skin tone man dancing dark skin tone woman dancing mediumdark skin tone man dancing dark skin tone woman dancing mediumdark skin tone man dancing dark skin tone woman dancing mediumdark skin tone woman dancing mediumdark skin tone man dancing dark skin tone woman dancing mediumdark skin tone man dancing dark skin tone\n",
      "INDEX: 147090, TEXT: i hope everyone has an amazing day any help would be forever appreciated bettertogether thebekindimpact teachertwitter clearthelist twitterphilanthropy goodmorningtwitterworld thankyoutwice appreciation almostsummer four leaf clover four leaf clover four leaf clover four leaf clover four leaf clover four leaf clover four leaf clover four leaf clover four leaf clover four leaf clover four leaf clover four leaf clover four leaf clover four leaf clover four leaf clover four leaf clover four leaf clover four leaf clover four leaf clover four leaf clover four leaf clover four leaf clover four leaf clover four leaf clover party popper party popper\n",
      "INDEX: 149175, TEXT: premium playerprops mlb christian greene under 75 ks atobttr mlbpicks bettingtwitter bettertogether retweet amp like martial arts uniform baseball fire moneymouth face check mark button check mark button check mark button check mark button check mark button check mark button check mark button check mark button check mark button moneymouth face fire firecracker firecracker fire moneymouth face check mark button check mark button check mark button check mark button check mark button check mark button check mark button check mark button check mark button moneymouth face fire fire japanese bargain button moneymouth face moneymouth face japanese bargain button fire\n",
      "INDEX: 150303, TEXT: if you are seeing this it is going to be an awesome week think positive things all day everyday there is always something to smile about mindsetmatters perspective mentalhealthmatters teachertwitter bettertogether bekind star star star star star star star star smiling face with smiling eyes smiling face with smiling eyes smiling face with smiling eyes smiling face with smiling eyes smiling face with smiling eyes smiling face with smiling eyes smiling face with smiling eyes smiling face with smiling eyes smiling face with smiling eyes smiling face with smiling eyes smiling face with smiling eyes smiling face with smiling eyes smiling face with smiling eyes smiling face with smiling eyes smiling face with smiling eyes\n",
      "INDEX: 150866, TEXT: if you are seeing this i hope you have the happiest of fridays and the amazingest of weekends you deserve it we made it bettertogether teachertwitter thebekindimpact four leaf clover four leaf clover four leaf clover four leaf clover four leaf clover four leaf clover four leaf clover four leaf clover four leaf clover four leaf clover four leaf clover four leaf clover four leaf clover four leaf clover four leaf clover four leaf clover four leaf clover four leaf clover four leaf clover four leaf clover four leaf clover four leaf clover four leaf clover four leaf clover four leaf clover four leaf clover four leaf clover four leaf clover four leaf clover\n",
      "INDEX: 151568, TEXT: cool cats bettertogether winking face upsidedown face thumbs up smiling face with smiling eyes face with rolling eyes hibiscus rose tulip folded hands grinning face grinning face grinning face grinning face grinning face grinning face grinning face grinning face grinning face grinning face grinning face grinning face grinning face grinning face grinning face grinning face grinning face grinning face winking face winking face winking face winking face winking face winking face winking face winking face winking face winking face sparkling heart sparkling heart sparkling heart sparkling heart face with rolling eyes smiling face with smiling eyes butterfly butterfly face with tears of joy rolling on the floor laughing smiling face with sunglasses\n",
      "INDEX: 154693, TEXT: when a momma duck accidentally looses her ducklings shes not leaving until all of them are rescued happymothersday love cute mothersday2022 mothersday sundayvibes bekindalways bettertogether got7 dsds crypto thorloveandthunder duck frontfacing baby chick frontfacing baby chick frontfacing baby chick frontfacing baby chick frontfacing baby chick frontfacing baby chick two hearts frontfacing baby chick two hearts frontfacing baby chick two hearts frontfacing baby chick two hearts frontfacing baby chick two hearts\n",
      "INDEX: 156016, TEXT: thank you for this 7th grade ss teacher trying to revamp supplies for the end of this year and to start next year like comment or retweet would be amazing bettertogether thebekindimpact teachertwitter four leaf clover four leaf clover four leaf clover four leaf clover four leaf clover four leaf clover four leaf clover four leaf clover four leaf clover four leaf clover four leaf clover four leaf clover four leaf clover four leaf clover four leaf clover four leaf clover four leaf clover four leaf clover four leaf clover police car light police car light police car light police car light police car light police car light police car light police car light police car light police car light police car light police car light police car light police car light police car light police car light police car light\n",
      "INDEX: 156828, TEXT: day 2teacherappreciationweek teachertwitter thebekindimpact bettertogether any help would be forever appreciated police car light police car light police car light police car light police car light police car light herb herb herb herb droplet droplet droplet droplet droplet droplet droplet dove dove dove dove winking face with tongue four leaf clover four leaf clover four leaf clover four leaf clover four leaf clover four leaf clover four leaf clover four leaf clover four leaf clover four leaf clover four leaf clover dove four leaf clover four leaf clover dove four leaf clover four leaf clover four leaf clover four leaf clover four leaf clover four leaf clover four leaf clover four leaf clover four leaf clover four leaf clover four leaf clover four leaf clover four leaf clover four leaf clover\n",
      "INDEX: 157756, TEXT: when bae has you in your feelings like masculinitysaturday happyholidays smiling face with hearteyes smiling face with hearteyes beaming face with smiling eyes face blowing a kiss face blowing a kiss woman and man holding hands kiss red heart grimacing face anxious face with sweat anxious face with sweat anxious face with sweat confused face confused face smirking face money with wings two hearts weary face face blowing a kiss face with tears of joy crying face crying face crying face hundred points raising hands person frowning person bowing family kiss mark kiss couple with heart heart with arrow heart with arrow confounded face confounded face heart with arrow raised fist raised fist woman and man holding hands tongue tongue loudly crying face loudly crying face sweat droplets sweat droplets fire raising hands raising hands weary face raised fist raising hands smiling face with hearteyes smirking face smirking face smirking face kiss mark broken heart broken heart broken heart broken heart broken heart broken heart broken heart person walking person walking red heart red heart two hearts broken heart confused face broken heart kiss mark anxious face with sweat anxious face with sweat beaming face with smiling eyes loudly crying face kiss woman and man holding hands woman and man holding hands smiling face with hearteyes face blowing a kiss confounded face weary face crying face broken heart broken heart broken heart\n",
      "INDEX: 160615, TEXT: hp probook 430 7th generation processor intel core i5 storage 8gb ram500gb hdd clock speed 271ghz webcam wireless wifi connectivity with hdmiusb port price ksh29999 warranty 6months 0717040531 baba mumias kericho bungoma masculinitysaturday president check mark button check mark button check mark button check mark button check mark button check mark button check mark button check mark button check mark button telephone receiver kenya\n",
      "INDEX: 161810, TEXT: hp elitebook 840 g3 intel core i5 8gb ram ddr4 256gb ssd touch screen backlight keyboard very slim and portable gt8th generation ksh 34000 call 254 704 471591 sammyboykenya disbandneanow masculinitysaturday sauti sol gachagua secret service eala kumbe nakuru glowing star check mark button check mark button check mark button check mark button check mark button check mark button\n",
      "INDEX: 163637, TEXT: hp elitebook x360 1030 8th generation 2in1 touchscreen fhd 1920x1080 resolution size 13314 inches very slim processor intel core i78350u storage 16gb ram 512gb ssd backlit keyboard price ksh 70000 contact 0717040531 masculinitysaturday kasarani small blue diamond small blue diamond small blue diamond small blue diamond small blue diamond small blue diamond small blue diamond small blue diamond small blue diamond\n",
      "INDEX: 165603, TEXT: men i dont like kids wont explain masculinitysaturday triangular flag triangular flag triangular flag triangular flag triangular flag triangular flag triangular flag triangular flag triangular flag triangular flag triangular flag triangular flag triangular flag triangular flag triangular flag triangular flag triangular flag triangular flag triangular flag triangular flag triangular flag triangular flag triangular flag triangular flag triangular flag triangular flag triangular flag triangular flag triangular flag triangular flag triangular flag triangular flag triangular flag triangular flag triangular flag triangular flag triangular flag triangular flag triangular flag triangular flag triangular flag triangular flag triangular flag triangular flag triangular flag triangular flag triangular flag\n",
      "INDEX: 165809, TEXT: dell optiplex 7010 coi3 3rd generation 4gb memory ram 500gb harddrive available at 13500ksh we are located along tom mboya stcitiko building opp koja roundaboutcall masculinitysaturday devfest2022 devfestnairobi usiu thika bankwithdtb circus tent circus tent keycap 0 keycap 7 keycap 1 keycap 7 keycap 0 keycap 1 keycap 7 keycap 0 keycap 8 keycap 8\n",
      "INDEX: 167808, TEXT: lenovo thinkpad yoga x360 intel core i5 speed upto 30ghz 125inch touchscreen storage 8gb ram 256gb ssd windows 10 pro and basic softwares installed six months warranty price ksh 35000 call whatsapp 2547 01 846 097 kbcweekender masculinitysaturday elon check box with check check box with check check box with check check box with check check box with check check mark check mark\n",
      "INDEX: 168175, TEXT: hello guys hp spectre 14 x360 intel core i51165g7 11th gen 28 ghz 4 cores 16gb ram 512 gb ssd intel iris x graphics 135 fhd ips touch 130k 0741265207 rt widely kenya kajiado senator munoko winnie odinga masculinitysaturday riggy g selfie laptop black square button registered trade mark black square button black square button black square button black square button black square button registered registered black square button victory hand\n",
      "INDEX: 168176, TEXT: hello guys hp spectre 14 x360 intel core i51165g7 11th gen 28 ghz 4 cores 16gb ram 512 gb ssd intel iris x graphics 135 fhd ips touch 130k 0741265207 rt widely kenya kajiado senator munoko winnie odinga masculinitysaturday riggy g selfie laptop black square button registered trade mark black square button black square button black square button black square button black square button registered registered black square button victory hand\n",
      "INDEX: 169524, TEXT: hp elitebook 840 g4 7th generation size 14 inches processor intel core i5 storage8gb ram256gb ssd speed 27ghz upto 38ghz has backlite keyboard 6months warranty price 33500 contact 0714974772 masculinitysaturday eliud owalo kamba president uhuru kenyatta pushpin pushpin pushpin pushpin pushpin pushpin pushpin pushpin pushpin telephone receiver\n",
      "INDEX: 169650, TEXT: lenovo thinkpad yoga x360 intel core i5 speed upto 30ghz 125inch touchscreen storage 8gb ram 256gb ssd windows 10 pro amp basic softwares installed 6 months warranty price 35000 call whatsapp 0701846097 joe ageyo ababu namwamba lg100club masculinitysaturday check box with check check box with check check box with check check box with check diamond suit telephone\n",
      "INDEX: 170270, TEXT: let us plant trees masculinitysaturday palm tree evergreen tree evergreen tree evergreen tree palm tree palm tree palm tree evergreen tree evergreen tree evergreen tree evergreen tree palm tree palm tree palm tree palm tree palm tree palm tree evergreen tree evergreen tree evergreen tree evergreen tree evergreen tree palm tree palm tree palm tree palm tree palm tree palm tree evergreen tree evergreen tree evergreen tree evergreen tree evergreen tree palm tree palm tree palm tree palm tree palm tree palm tree evergreen tree evergreen tree evergreen tree evergreen tree evergreen tree evergreen tree evergreen tree palm tree palm tree palm tree palm tree palm tree palm tree evergreen tree evergreen tree evergreen tree evergreen tree evergreen tree evergreen tree evergreen tree evergreen tree palm tree palm tree palm tree palm tree palm tree palm tree palm tree palm tree evergreen tree evergreen tree evergreen tree evergreen tree evergreen tree palm tree palm tree palm tree evergreen tree evergreen tree evergreen tree evergreen tree evergreen tree evergreen tree evergreen tree evergreen tree evergreen tree evergreen tree evergreen tree evergreen tree evergreen tree evergreen tree palm tree palm tree palm tree palm tree palm tree palm tree palm tree palm tree palm tree palm tree palm tree palm tree palm tree palm tree palm tree palm tree palm tree palm tree evergreen tree evergreen tree evergreen tree evergreen tree evergreen tree evergreen tree evergreen tree evergreen tree evergreen tree evergreen tree\n",
      "INDEX: 170785, TEXT: refurbished hp elitebook g3 1030 ultrabook core i5 8g512gb ssd at ksh58500 only the first class refurbished laptop intel core i7 8g512g ssd intel hd graphics 630 1 year waranty 0742037820 masculinitysaturday george mwangi luo nyanza ksh 1 gikomba laptop laptop dollar banknote dollar banknote check mark button check mark button check mark button check mark button check mark button raised fist raised fist right arrow\n",
      "INDEX: 170846, TEXT: hp elitebook x360 1030 g3 8th generation 2in1 touchscreen fhd 1920x1080 resolution size 133 inches very slim processor intel core i78350u storage8gb ram 512gb ssd backlit keyboard price ksh 61000 contact 0717040531 ksh 1 masculinitysaturday dci small blue diamond small blue diamond small blue diamond small blue diamond small blue diamond small blue diamond small blue diamond small blue diamond small blue diamond\n",
      "INDEX: 171923, TEXT: hp elitebook 840 size 14 inch intel core i5 6th gen storage 8gb ram256gb ssd speed 25ghz with hdmi usb port price ksh 33500 call whatsapp 254701846097 masculinitysaturday william chepkut tuskernexters happy sabbath verasidika hbrfanzone check mark button check mark button check mark button check mark button check mark button check mark button hollow red circle telephone\n",
      "INDEX: 173958, TEXT: hp elitebook 810 revolve touchscreen softwares preinstalled 1year warranty processor intel core i5 storage8gb ram 256gb ssd backlit keyboard price ksh 23500 contact 0714974772 governor sakaja riggyg masculinitysaturday fifa23 derby nairobi ruto dp small blue diamond small blue diamond small blue diamond small blue diamond small blue diamond small blue diamond small blue diamond small blue diamond small blue diamond\n",
      "INDEX: 174577, TEXT: hp elitebook x360 1030 g3 8th generation 2in1 touchscreen fhd 1920x1080 resolution size 133 very slim processor intel core i58350u storage8gb ram256gb ssd backlit keyboard price ksh 50000 0717040531 masculinitysaturday kenyans orengo kinoti small blue diamond small blue diamond small blue diamond small blue diamond small blue diamond small blue diamond small blue diamond small blue diamond small blue diamond telephone receiver\n",
      "INDEX: 176087, TEXT: hp elitebook slim intel core i5 storage 8gb ram500gb hdd speed clock 23ghz battery life 4hrs with windows 10 pro and office very clean with warranty price ksh25000 contact 0717040531 lgbtq nairobi ngong marabou dp rigathi gachagua masculinitysaturday luos pushpin pushpin pushpin pushpin pushpin pushpin pushpin pushpin pushpin\n",
      "INDEX: 180700, TEXT: corey taylor snuff acoustic via hey andrew tate check this video out for what masculinity is you c guzzling q masculinity misogyny men masculinitysaturday backhand index pointing up backhand index pointing up backhand index pointing up backhand index pointing up backhand index pointing up backhand index pointing up backhand index pointing up grinning face with sweat face with tears of joy nauseated face rolling on the floor laughing grinning face with sweat nauseated face face with tears of joy rolling on the floor laughing nauseated face face with tears of joy beaming face with smiling eyes grimacing face face vomiting\n",
      "INDEX: 184953, TEXT: samsung highend phones s7 edge 17500 note 8 27999 s8 21500 s8 26500 s9 27500 s9 29998 note 9 32000 s10 35000 s10 plus 42000 0712630098 masculinitysaturday ruto arsenal kenyakwanzamegarally chebukati nakuru israel kasarani collision kenya glowing star glowing star glowing star glowing star glowing star glowing star glowing star glowing star glowing star mobile phone with arrow\n",
      "INDEX: 185150, TEXT: mnemba island snorkeling and dolphin tour zanzibar 6th11th sep bag packedl bikini sun sand sea good vibes enzamytours kenya7s junet ruto gachagua bukhungu mama ngina langata masculinitysaturday westlands kikuyu wajakoya diving mask diving mask diving mask person swimming dolphin dolphin bikini bikini sun behind cloud sun with face beach with umbrella umbrella on ground water wave water wave man swimming woman swimming milky way cityscape\n",
      "INDEX: 186997, TEXT: hp 1030 g3 x360 intel core i7 8th gen 8gb ram 512gb ssd 133inch touch screen 2 in 1 laptop 65000 0724404935 visit us at old nation house 1st floor shop a12 masculinitysaturday iebc chebukati bungoma jkia msando venezuela kugraduation ruto raila uhuru collision check mark button check mark button check mark button check mark button check mark button collision telephone round pushpin\n",
      "INDEX: 187208, TEXT: hp probook 430 g4 laptop core i5 7th generation 8gb 500gb hdd windows 10 price 37000 locationnairobi cbd calltext or whatsapp 0113586158 follow masculinitysaturday thankyouk24tv iebc chebukati sleeveup azimiondiojibu small orange diamond small orange diamond small orange diamond small orange diamond small orange diamond small orange diamond small orange diamond small orange diamond\n",
      "INDEX: 195834, TEXT: hp elitebook x360 1030 g2 133 touchscreen core i5 7th gen 8gb ddr4 ram 256gb ssd backlit keyboard 360convertible ksh52000 hp window10 budgetlaptops hplaptops hpprobook nairobi eldoret probook windows11 breaking news masculinitysaturday elitebook laptop check box with check check box with check check box with check check box with check check box with check check box with check money bag\n",
      "INDEX: 200934, TEXT: samsung highend phones note edge 13000 s7 edge 17500 note 8 27999 s8 21500 s8 26500 s9 27500 s9 29998 note 9 32000 s10 35000 s10 plus 42000 0712630098 masculinitysaturday itwikataveta mombasa sonko mothersday kenya dizzy kenya glowing star glowing star glowing star glowing star glowing star glowing star glowing star glowing star glowing star glowing star mobile phone with arrow\n",
      "INDEX: 217402, TEXT: incredible noodle in 5 minutes foodneedsafarmer foodfriday foodphotography food noodle noodles chicken trending trendingnow twitterexposed twitterversary red exclamation mark backhand index pointing down backhand index pointing down backhand index pointing down backhand index pointing down backhand index pointing down backhand index pointing down backhand index pointing down backhand index pointing down backhand index pointing down backhand index pointing down backhand index pointing down backhand index pointing down backhand index pointing up backhand index pointing up backhand index pointing up backhand index pointing up backhand index pointing up backhand index pointing up backhand index pointing up backhand index pointing up backhand index pointing up backhand index pointing up backhand index pointing up backhand index pointing up\n",
      "INDEX: 227731, TEXT: whos up for a brunch date foodie foodfriday wednesdaythought cookingmaster artwork artistontwitter foodies foodlovers breadweek toast india delhi foodblogger indianfood love spreadlove delicious brunch drooling face sandwich starstruck sandwich starstruck sandwich smiling face with hearteyes sandwich starstruck sandwich smiling face with hearteyes sandwich starstruck sandwich drooling face sandwich bread drooling face smiling face with hearteyes starstruck sandwich drooling face sandwich smiling face with hearteyes smiling face with hearteyes bread drooling face sandwich\n",
      "INDEX: 229214, TEXT: and i think jaha aloo waha mein shot on tagmention a friend wholl love it follow if you are a foodie too walkwithtaste abhinavshukla 4yearsofdearzindagi foodie foodcoma foodfriday tastebuds face with tears of joy face with tears of joy smiling face with hearteyes smiling face with hearteyes starstruck starstruck speaknoevil monkey seenoevil monkey hearnoevil monkey right arrow right arrow right arrow drooling face drooling face drooling face\n"
     ]
    }
   ],
   "source": [
    "token_lens = []\n",
    "\n",
    "for i,txt in enumerate(df['text_clean_deeper'].values):\n",
    "    tokens = tokenizer_4.encode(txt, max_length=512, truncation=True)\n",
    "    \n",
    "    token_lens.append(len(tokens))\n",
    "    \n",
    "    if len(tokens)>100:\n",
    "        \n",
    "        print(f\"INDEX: {i}, TEXT: {txt}\")  "
   ]
  },
  {
   "cell_type": "code",
   "execution_count": null,
   "id": "6c984b51",
   "metadata": {
    "papermill": {
     "duration": 0.023667,
     "end_time": "2023-02-16T12:31:32.719889",
     "exception": false,
     "start_time": "2023-02-16T12:31:32.696222",
     "status": "completed"
    },
    "tags": []
   },
   "outputs": [],
   "source": []
  }
 ],
 "metadata": {
  "kernelspec": {
   "display_name": "Python 3",
   "language": "python",
   "name": "python3"
  },
  "language_info": {
   "codemirror_mode": {
    "name": "ipython",
    "version": 3
   },
   "file_extension": ".py",
   "mimetype": "text/x-python",
   "name": "python",
   "nbconvert_exporter": "python",
   "pygments_lexer": "ipython3",
   "version": "3.7.12"
  },
  "papermill": {
   "default_parameters": {},
   "duration": 191.298716,
   "end_time": "2023-02-16T12:31:35.541307",
   "environment_variables": {},
   "exception": null,
   "input_path": "__notebook__.ipynb",
   "output_path": "__notebook__.ipynb",
   "parameters": {},
   "start_time": "2023-02-16T12:28:24.242591",
   "version": "2.3.4"
  },
  "widgets": {
   "application/vnd.jupyter.widget-state+json": {
    "state": {
     "013db42608bb4ffbb211cadd28b0e6ac": {
      "model_module": "@jupyter-widgets/base",
      "model_module_version": "1.2.0",
      "model_name": "LayoutModel",
      "state": {
       "_model_module": "@jupyter-widgets/base",
       "_model_module_version": "1.2.0",
       "_model_name": "LayoutModel",
       "_view_count": null,
       "_view_module": "@jupyter-widgets/base",
       "_view_module_version": "1.2.0",
       "_view_name": "LayoutView",
       "align_content": null,
       "align_items": null,
       "align_self": null,
       "border": null,
       "bottom": null,
       "display": null,
       "flex": null,
       "flex_flow": null,
       "grid_area": null,
       "grid_auto_columns": null,
       "grid_auto_flow": null,
       "grid_auto_rows": null,
       "grid_column": null,
       "grid_gap": null,
       "grid_row": null,
       "grid_template_areas": null,
       "grid_template_columns": null,
       "grid_template_rows": null,
       "height": null,
       "justify_content": null,
       "justify_items": null,
       "left": null,
       "margin": null,
       "max_height": null,
       "max_width": null,
       "min_height": null,
       "min_width": null,
       "object_fit": null,
       "object_position": null,
       "order": null,
       "overflow": null,
       "overflow_x": null,
       "overflow_y": null,
       "padding": null,
       "right": null,
       "top": null,
       "visibility": null,
       "width": null
      }
     },
     "0429959b45524c46a78b7061fbd463e2": {
      "model_module": "@jupyter-widgets/base",
      "model_module_version": "1.2.0",
      "model_name": "LayoutModel",
      "state": {
       "_model_module": "@jupyter-widgets/base",
       "_model_module_version": "1.2.0",
       "_model_name": "LayoutModel",
       "_view_count": null,
       "_view_module": "@jupyter-widgets/base",
       "_view_module_version": "1.2.0",
       "_view_name": "LayoutView",
       "align_content": null,
       "align_items": null,
       "align_self": null,
       "border": null,
       "bottom": null,
       "display": null,
       "flex": null,
       "flex_flow": null,
       "grid_area": null,
       "grid_auto_columns": null,
       "grid_auto_flow": null,
       "grid_auto_rows": null,
       "grid_column": null,
       "grid_gap": null,
       "grid_row": null,
       "grid_template_areas": null,
       "grid_template_columns": null,
       "grid_template_rows": null,
       "height": null,
       "justify_content": null,
       "justify_items": null,
       "left": null,
       "margin": null,
       "max_height": null,
       "max_width": null,
       "min_height": null,
       "min_width": null,
       "object_fit": null,
       "object_position": null,
       "order": null,
       "overflow": null,
       "overflow_x": null,
       "overflow_y": null,
       "padding": null,
       "right": null,
       "top": null,
       "visibility": null,
       "width": null
      }
     },
     "084c1b3d36d54842b202882d71625180": {
      "model_module": "@jupyter-widgets/base",
      "model_module_version": "1.2.0",
      "model_name": "LayoutModel",
      "state": {
       "_model_module": "@jupyter-widgets/base",
       "_model_module_version": "1.2.0",
       "_model_name": "LayoutModel",
       "_view_count": null,
       "_view_module": "@jupyter-widgets/base",
       "_view_module_version": "1.2.0",
       "_view_name": "LayoutView",
       "align_content": null,
       "align_items": null,
       "align_self": null,
       "border": null,
       "bottom": null,
       "display": null,
       "flex": null,
       "flex_flow": null,
       "grid_area": null,
       "grid_auto_columns": null,
       "grid_auto_flow": null,
       "grid_auto_rows": null,
       "grid_column": null,
       "grid_gap": null,
       "grid_row": null,
       "grid_template_areas": null,
       "grid_template_columns": null,
       "grid_template_rows": null,
       "height": null,
       "justify_content": null,
       "justify_items": null,
       "left": null,
       "margin": null,
       "max_height": null,
       "max_width": null,
       "min_height": null,
       "min_width": null,
       "object_fit": null,
       "object_position": null,
       "order": null,
       "overflow": null,
       "overflow_x": null,
       "overflow_y": null,
       "padding": null,
       "right": null,
       "top": null,
       "visibility": null,
       "width": null
      }
     },
     "15623514631d4ea887e48841f51efdd9": {
      "model_module": "@jupyter-widgets/base",
      "model_module_version": "1.2.0",
      "model_name": "LayoutModel",
      "state": {
       "_model_module": "@jupyter-widgets/base",
       "_model_module_version": "1.2.0",
       "_model_name": "LayoutModel",
       "_view_count": null,
       "_view_module": "@jupyter-widgets/base",
       "_view_module_version": "1.2.0",
       "_view_name": "LayoutView",
       "align_content": null,
       "align_items": null,
       "align_self": null,
       "border": null,
       "bottom": null,
       "display": null,
       "flex": null,
       "flex_flow": null,
       "grid_area": null,
       "grid_auto_columns": null,
       "grid_auto_flow": null,
       "grid_auto_rows": null,
       "grid_column": null,
       "grid_gap": null,
       "grid_row": null,
       "grid_template_areas": null,
       "grid_template_columns": null,
       "grid_template_rows": null,
       "height": null,
       "justify_content": null,
       "justify_items": null,
       "left": null,
       "margin": null,
       "max_height": null,
       "max_width": null,
       "min_height": null,
       "min_width": null,
       "object_fit": null,
       "object_position": null,
       "order": null,
       "overflow": null,
       "overflow_x": null,
       "overflow_y": null,
       "padding": null,
       "right": null,
       "top": null,
       "visibility": null,
       "width": null
      }
     },
     "18000a728b9d43c999c2dbf47eb94985": {
      "model_module": "@jupyter-widgets/controls",
      "model_module_version": "1.5.0",
      "model_name": "DescriptionStyleModel",
      "state": {
       "_model_module": "@jupyter-widgets/controls",
       "_model_module_version": "1.5.0",
       "_model_name": "DescriptionStyleModel",
       "_view_count": null,
       "_view_module": "@jupyter-widgets/base",
       "_view_module_version": "1.2.0",
       "_view_name": "StyleView",
       "description_width": ""
      }
     },
     "18bcbe8d03bd4a958cf8f9f6c0bc606d": {
      "model_module": "@jupyter-widgets/controls",
      "model_module_version": "1.5.0",
      "model_name": "DescriptionStyleModel",
      "state": {
       "_model_module": "@jupyter-widgets/controls",
       "_model_module_version": "1.5.0",
       "_model_name": "DescriptionStyleModel",
       "_view_count": null,
       "_view_module": "@jupyter-widgets/base",
       "_view_module_version": "1.2.0",
       "_view_name": "StyleView",
       "description_width": ""
      }
     },
     "191b87c19e974b06b3e16bc25c182314": {
      "model_module": "@jupyter-widgets/controls",
      "model_module_version": "1.5.0",
      "model_name": "DescriptionStyleModel",
      "state": {
       "_model_module": "@jupyter-widgets/controls",
       "_model_module_version": "1.5.0",
       "_model_name": "DescriptionStyleModel",
       "_view_count": null,
       "_view_module": "@jupyter-widgets/base",
       "_view_module_version": "1.2.0",
       "_view_name": "StyleView",
       "description_width": ""
      }
     },
     "1d3546204cd84c5fbe9cfafd84ee5a76": {
      "model_module": "@jupyter-widgets/controls",
      "model_module_version": "1.5.0",
      "model_name": "FloatProgressModel",
      "state": {
       "_dom_classes": [],
       "_model_module": "@jupyter-widgets/controls",
       "_model_module_version": "1.5.0",
       "_model_name": "FloatProgressModel",
       "_view_count": null,
       "_view_module": "@jupyter-widgets/controls",
       "_view_module_version": "1.5.0",
       "_view_name": "ProgressView",
       "bar_style": "success",
       "description": "",
       "description_tooltip": null,
       "layout": "IPY_MODEL_a4a68fcfa9524dd6a5101ae80f8d66c7",
       "max": 815973.0,
       "min": 0.0,
       "orientation": "horizontal",
       "style": "IPY_MODEL_b3b8ec49a7a94731840cc0f3b9406b49",
       "value": 815973.0
      }
     },
     "1d8903a54301478a9a86f79731b6aaae": {
      "model_module": "@jupyter-widgets/controls",
      "model_module_version": "1.5.0",
      "model_name": "HBoxModel",
      "state": {
       "_dom_classes": [],
       "_model_module": "@jupyter-widgets/controls",
       "_model_module_version": "1.5.0",
       "_model_name": "HBoxModel",
       "_view_count": null,
       "_view_module": "@jupyter-widgets/controls",
       "_view_module_version": "1.5.0",
       "_view_name": "HBoxView",
       "box_style": "",
       "children": [
        "IPY_MODEL_ad482ff99b21445d832f436dd3134414",
        "IPY_MODEL_9c02dd0cef284518b173650a1c898ebb",
        "IPY_MODEL_38f93dd4911f40a7b64b150801947f0e"
       ],
       "layout": "IPY_MODEL_30c43d41aab74680a943edd7c75c67f2"
      }
     },
     "1e72af1315474e22948ff48483ba3179": {
      "model_module": "@jupyter-widgets/base",
      "model_module_version": "1.2.0",
      "model_name": "LayoutModel",
      "state": {
       "_model_module": "@jupyter-widgets/base",
       "_model_module_version": "1.2.0",
       "_model_name": "LayoutModel",
       "_view_count": null,
       "_view_module": "@jupyter-widgets/base",
       "_view_module_version": "1.2.0",
       "_view_name": "LayoutView",
       "align_content": null,
       "align_items": null,
       "align_self": null,
       "border": null,
       "bottom": null,
       "display": null,
       "flex": null,
       "flex_flow": null,
       "grid_area": null,
       "grid_auto_columns": null,
       "grid_auto_flow": null,
       "grid_auto_rows": null,
       "grid_column": null,
       "grid_gap": null,
       "grid_row": null,
       "grid_template_areas": null,
       "grid_template_columns": null,
       "grid_template_rows": null,
       "height": null,
       "justify_content": null,
       "justify_items": null,
       "left": null,
       "margin": null,
       "max_height": null,
       "max_width": null,
       "min_height": null,
       "min_width": null,
       "object_fit": null,
       "object_position": null,
       "order": null,
       "overflow": null,
       "overflow_x": null,
       "overflow_y": null,
       "padding": null,
       "right": null,
       "top": null,
       "visibility": null,
       "width": null
      }
     },
     "259a396df0ec4e6da63fddb5d3e117ab": {
      "model_module": "@jupyter-widgets/controls",
      "model_module_version": "1.5.0",
      "model_name": "DescriptionStyleModel",
      "state": {
       "_model_module": "@jupyter-widgets/controls",
       "_model_module_version": "1.5.0",
       "_model_name": "DescriptionStyleModel",
       "_view_count": null,
       "_view_module": "@jupyter-widgets/base",
       "_view_module_version": "1.2.0",
       "_view_name": "StyleView",
       "description_width": ""
      }
     },
     "26015a91318c488d9f3ce5dec2daeb4c": {
      "model_module": "@jupyter-widgets/base",
      "model_module_version": "1.2.0",
      "model_name": "LayoutModel",
      "state": {
       "_model_module": "@jupyter-widgets/base",
       "_model_module_version": "1.2.0",
       "_model_name": "LayoutModel",
       "_view_count": null,
       "_view_module": "@jupyter-widgets/base",
       "_view_module_version": "1.2.0",
       "_view_name": "LayoutView",
       "align_content": null,
       "align_items": null,
       "align_self": null,
       "border": null,
       "bottom": null,
       "display": null,
       "flex": null,
       "flex_flow": null,
       "grid_area": null,
       "grid_auto_columns": null,
       "grid_auto_flow": null,
       "grid_auto_rows": null,
       "grid_column": null,
       "grid_gap": null,
       "grid_row": null,
       "grid_template_areas": null,
       "grid_template_columns": null,
       "grid_template_rows": null,
       "height": null,
       "justify_content": null,
       "justify_items": null,
       "left": null,
       "margin": null,
       "max_height": null,
       "max_width": null,
       "min_height": null,
       "min_width": null,
       "object_fit": null,
       "object_position": null,
       "order": null,
       "overflow": null,
       "overflow_x": null,
       "overflow_y": null,
       "padding": null,
       "right": null,
       "top": null,
       "visibility": null,
       "width": null
      }
     },
     "29bfeb6815324020a79739b157e76377": {
      "model_module": "@jupyter-widgets/controls",
      "model_module_version": "1.5.0",
      "model_name": "HBoxModel",
      "state": {
       "_dom_classes": [],
       "_model_module": "@jupyter-widgets/controls",
       "_model_module_version": "1.5.0",
       "_model_name": "HBoxModel",
       "_view_count": null,
       "_view_module": "@jupyter-widgets/controls",
       "_view_module_version": "1.5.0",
       "_view_name": "HBoxView",
       "box_style": "",
       "children": [
        "IPY_MODEL_eb47e1ecaf11463da7b221180628361e",
        "IPY_MODEL_66f7aa11b2b94caaaa970f551d7525cc",
        "IPY_MODEL_be567054c1a148f697f518503c213163"
       ],
       "layout": "IPY_MODEL_0429959b45524c46a78b7061fbd463e2"
      }
     },
     "2a770f722b1247a48b4eb79990dbaa37": {
      "model_module": "@jupyter-widgets/base",
      "model_module_version": "1.2.0",
      "model_name": "LayoutModel",
      "state": {
       "_model_module": "@jupyter-widgets/base",
       "_model_module_version": "1.2.0",
       "_model_name": "LayoutModel",
       "_view_count": null,
       "_view_module": "@jupyter-widgets/base",
       "_view_module_version": "1.2.0",
       "_view_name": "LayoutView",
       "align_content": null,
       "align_items": null,
       "align_self": null,
       "border": null,
       "bottom": null,
       "display": null,
       "flex": null,
       "flex_flow": null,
       "grid_area": null,
       "grid_auto_columns": null,
       "grid_auto_flow": null,
       "grid_auto_rows": null,
       "grid_column": null,
       "grid_gap": null,
       "grid_row": null,
       "grid_template_areas": null,
       "grid_template_columns": null,
       "grid_template_rows": null,
       "height": null,
       "justify_content": null,
       "justify_items": null,
       "left": null,
       "margin": null,
       "max_height": null,
       "max_width": null,
       "min_height": null,
       "min_width": null,
       "object_fit": null,
       "object_position": null,
       "order": null,
       "overflow": null,
       "overflow_x": null,
       "overflow_y": null,
       "padding": null,
       "right": null,
       "top": null,
       "visibility": null,
       "width": null
      }
     },
     "2c92ff0e6d05451a855fef904ae7e096": {
      "model_module": "@jupyter-widgets/controls",
      "model_module_version": "1.5.0",
      "model_name": "DescriptionStyleModel",
      "state": {
       "_model_module": "@jupyter-widgets/controls",
       "_model_module_version": "1.5.0",
       "_model_name": "DescriptionStyleModel",
       "_view_count": null,
       "_view_module": "@jupyter-widgets/base",
       "_view_module_version": "1.2.0",
       "_view_name": "StyleView",
       "description_width": ""
      }
     },
     "30c43d41aab74680a943edd7c75c67f2": {
      "model_module": "@jupyter-widgets/base",
      "model_module_version": "1.2.0",
      "model_name": "LayoutModel",
      "state": {
       "_model_module": "@jupyter-widgets/base",
       "_model_module_version": "1.2.0",
       "_model_name": "LayoutModel",
       "_view_count": null,
       "_view_module": "@jupyter-widgets/base",
       "_view_module_version": "1.2.0",
       "_view_name": "LayoutView",
       "align_content": null,
       "align_items": null,
       "align_self": null,
       "border": null,
       "bottom": null,
       "display": null,
       "flex": null,
       "flex_flow": null,
       "grid_area": null,
       "grid_auto_columns": null,
       "grid_auto_flow": null,
       "grid_auto_rows": null,
       "grid_column": null,
       "grid_gap": null,
       "grid_row": null,
       "grid_template_areas": null,
       "grid_template_columns": null,
       "grid_template_rows": null,
       "height": null,
       "justify_content": null,
       "justify_items": null,
       "left": null,
       "margin": null,
       "max_height": null,
       "max_width": null,
       "min_height": null,
       "min_width": null,
       "object_fit": null,
       "object_position": null,
       "order": null,
       "overflow": null,
       "overflow_x": null,
       "overflow_y": null,
       "padding": null,
       "right": null,
       "top": null,
       "visibility": null,
       "width": null
      }
     },
     "38f93dd4911f40a7b64b150801947f0e": {
      "model_module": "@jupyter-widgets/controls",
      "model_module_version": "1.5.0",
      "model_name": "HTMLModel",
      "state": {
       "_dom_classes": [],
       "_model_module": "@jupyter-widgets/controls",
       "_model_module_version": "1.5.0",
       "_model_name": "HTMLModel",
       "_view_count": null,
       "_view_module": "@jupyter-widgets/controls",
       "_view_module_version": "1.5.0",
       "_view_name": "HTMLView",
       "description": "",
       "description_tooltip": null,
       "layout": "IPY_MODEL_4ea2f48de7aa43f18e11a990f0cd48c0",
       "placeholder": "​",
       "style": "IPY_MODEL_18bcbe8d03bd4a958cf8f9f6c0bc606d",
       "value": " 656/656 [00:00&lt;00:00, 22.2kB/s]"
      }
     },
     "47589492316548048dd80eac6663ac21": {
      "model_module": "@jupyter-widgets/base",
      "model_module_version": "1.2.0",
      "model_name": "LayoutModel",
      "state": {
       "_model_module": "@jupyter-widgets/base",
       "_model_module_version": "1.2.0",
       "_model_name": "LayoutModel",
       "_view_count": null,
       "_view_module": "@jupyter-widgets/base",
       "_view_module_version": "1.2.0",
       "_view_name": "LayoutView",
       "align_content": null,
       "align_items": null,
       "align_self": null,
       "border": null,
       "bottom": null,
       "display": null,
       "flex": null,
       "flex_flow": null,
       "grid_area": null,
       "grid_auto_columns": null,
       "grid_auto_flow": null,
       "grid_auto_rows": null,
       "grid_column": null,
       "grid_gap": null,
       "grid_row": null,
       "grid_template_areas": null,
       "grid_template_columns": null,
       "grid_template_rows": null,
       "height": null,
       "justify_content": null,
       "justify_items": null,
       "left": null,
       "margin": null,
       "max_height": null,
       "max_width": null,
       "min_height": null,
       "min_width": null,
       "object_fit": null,
       "object_position": null,
       "order": null,
       "overflow": null,
       "overflow_x": null,
       "overflow_y": null,
       "padding": null,
       "right": null,
       "top": null,
       "visibility": null,
       "width": null
      }
     },
     "476d343fca134bb9872b1375fd0d6380": {
      "model_module": "@jupyter-widgets/base",
      "model_module_version": "1.2.0",
      "model_name": "LayoutModel",
      "state": {
       "_model_module": "@jupyter-widgets/base",
       "_model_module_version": "1.2.0",
       "_model_name": "LayoutModel",
       "_view_count": null,
       "_view_module": "@jupyter-widgets/base",
       "_view_module_version": "1.2.0",
       "_view_name": "LayoutView",
       "align_content": null,
       "align_items": null,
       "align_self": null,
       "border": null,
       "bottom": null,
       "display": null,
       "flex": null,
       "flex_flow": null,
       "grid_area": null,
       "grid_auto_columns": null,
       "grid_auto_flow": null,
       "grid_auto_rows": null,
       "grid_column": null,
       "grid_gap": null,
       "grid_row": null,
       "grid_template_areas": null,
       "grid_template_columns": null,
       "grid_template_rows": null,
       "height": null,
       "justify_content": null,
       "justify_items": null,
       "left": null,
       "margin": null,
       "max_height": null,
       "max_width": null,
       "min_height": null,
       "min_width": null,
       "object_fit": null,
       "object_position": null,
       "order": null,
       "overflow": null,
       "overflow_x": null,
       "overflow_y": null,
       "padding": null,
       "right": null,
       "top": null,
       "visibility": null,
       "width": null
      }
     },
     "47ae7476ba814b79a7bb83be9af43c9f": {
      "model_module": "@jupyter-widgets/controls",
      "model_module_version": "1.5.0",
      "model_name": "DescriptionStyleModel",
      "state": {
       "_model_module": "@jupyter-widgets/controls",
       "_model_module_version": "1.5.0",
       "_model_name": "DescriptionStyleModel",
       "_view_count": null,
       "_view_module": "@jupyter-widgets/base",
       "_view_module_version": "1.2.0",
       "_view_name": "StyleView",
       "description_width": ""
      }
     },
     "4aa723af8c5c4d758eb4eb986c9a1d80": {
      "model_module": "@jupyter-widgets/base",
      "model_module_version": "1.2.0",
      "model_name": "LayoutModel",
      "state": {
       "_model_module": "@jupyter-widgets/base",
       "_model_module_version": "1.2.0",
       "_model_name": "LayoutModel",
       "_view_count": null,
       "_view_module": "@jupyter-widgets/base",
       "_view_module_version": "1.2.0",
       "_view_name": "LayoutView",
       "align_content": null,
       "align_items": null,
       "align_self": null,
       "border": null,
       "bottom": null,
       "display": null,
       "flex": null,
       "flex_flow": null,
       "grid_area": null,
       "grid_auto_columns": null,
       "grid_auto_flow": null,
       "grid_auto_rows": null,
       "grid_column": null,
       "grid_gap": null,
       "grid_row": null,
       "grid_template_areas": null,
       "grid_template_columns": null,
       "grid_template_rows": null,
       "height": null,
       "justify_content": null,
       "justify_items": null,
       "left": null,
       "margin": null,
       "max_height": null,
       "max_width": null,
       "min_height": null,
       "min_width": null,
       "object_fit": null,
       "object_position": null,
       "order": null,
       "overflow": null,
       "overflow_x": null,
       "overflow_y": null,
       "padding": null,
       "right": null,
       "top": null,
       "visibility": null,
       "width": null
      }
     },
     "4ea2f48de7aa43f18e11a990f0cd48c0": {
      "model_module": "@jupyter-widgets/base",
      "model_module_version": "1.2.0",
      "model_name": "LayoutModel",
      "state": {
       "_model_module": "@jupyter-widgets/base",
       "_model_module_version": "1.2.0",
       "_model_name": "LayoutModel",
       "_view_count": null,
       "_view_module": "@jupyter-widgets/base",
       "_view_module_version": "1.2.0",
       "_view_name": "LayoutView",
       "align_content": null,
       "align_items": null,
       "align_self": null,
       "border": null,
       "bottom": null,
       "display": null,
       "flex": null,
       "flex_flow": null,
       "grid_area": null,
       "grid_auto_columns": null,
       "grid_auto_flow": null,
       "grid_auto_rows": null,
       "grid_column": null,
       "grid_gap": null,
       "grid_row": null,
       "grid_template_areas": null,
       "grid_template_columns": null,
       "grid_template_rows": null,
       "height": null,
       "justify_content": null,
       "justify_items": null,
       "left": null,
       "margin": null,
       "max_height": null,
       "max_width": null,
       "min_height": null,
       "min_width": null,
       "object_fit": null,
       "object_position": null,
       "order": null,
       "overflow": null,
       "overflow_x": null,
       "overflow_y": null,
       "padding": null,
       "right": null,
       "top": null,
       "visibility": null,
       "width": null
      }
     },
     "4fc721952ab1460f8fa6adbece4dae89": {
      "model_module": "@jupyter-widgets/controls",
      "model_module_version": "1.5.0",
      "model_name": "DescriptionStyleModel",
      "state": {
       "_model_module": "@jupyter-widgets/controls",
       "_model_module_version": "1.5.0",
       "_model_name": "DescriptionStyleModel",
       "_view_count": null,
       "_view_module": "@jupyter-widgets/base",
       "_view_module_version": "1.2.0",
       "_view_name": "StyleView",
       "description_width": ""
      }
     },
     "4fcf65dbba774d8cbb60bbe6cdf6cc29": {
      "model_module": "@jupyter-widgets/controls",
      "model_module_version": "1.5.0",
      "model_name": "HBoxModel",
      "state": {
       "_dom_classes": [],
       "_model_module": "@jupyter-widgets/controls",
       "_model_module_version": "1.5.0",
       "_model_name": "HBoxModel",
       "_view_count": null,
       "_view_module": "@jupyter-widgets/controls",
       "_view_module_version": "1.5.0",
       "_view_name": "HBoxView",
       "box_style": "",
       "children": [
        "IPY_MODEL_693a0480cc7b48b1ad02034b2db29270",
        "IPY_MODEL_d56db82d50ba4e8491ab263223fae090",
        "IPY_MODEL_b82d5a0a391848439a71c920e57807c3"
       ],
       "layout": "IPY_MODEL_15623514631d4ea887e48841f51efdd9"
      }
     },
     "530a63962dff46d6ae82a393f0fe8db8": {
      "model_module": "@jupyter-widgets/controls",
      "model_module_version": "1.5.0",
      "model_name": "HTMLModel",
      "state": {
       "_dom_classes": [],
       "_model_module": "@jupyter-widgets/controls",
       "_model_module_version": "1.5.0",
       "_model_name": "HTMLModel",
       "_view_count": null,
       "_view_module": "@jupyter-widgets/controls",
       "_view_module_version": "1.5.0",
       "_view_name": "HTMLView",
       "description": "",
       "description_tooltip": null,
       "layout": "IPY_MODEL_9db7e38ea5d14c5aa37f11b98cde3be2",
       "placeholder": "​",
       "style": "IPY_MODEL_8fe2ab9010c746bc8739c5ca8b2367dc",
       "value": " 1.21M/1.21M [00:00&lt;00:00, 4.33MB/s]"
      }
     },
     "5a0cdc6b4b034892ba7239c1cfe192a7": {
      "model_module": "@jupyter-widgets/controls",
      "model_module_version": "1.5.0",
      "model_name": "HTMLModel",
      "state": {
       "_dom_classes": [],
       "_model_module": "@jupyter-widgets/controls",
       "_model_module_version": "1.5.0",
       "_model_name": "HTMLModel",
       "_view_count": null,
       "_view_module": "@jupyter-widgets/controls",
       "_view_module_version": "1.5.0",
       "_view_name": "HTMLView",
       "description": "",
       "description_tooltip": null,
       "layout": "IPY_MODEL_d05473eb5a7b4c7bbe0646559396c65c",
       "placeholder": "​",
       "style": "IPY_MODEL_99aac85559f045b998e098b5b3f1f454",
       "value": " 570/570 [00:00&lt;00:00, 17.9kB/s]"
      }
     },
     "64161a403bae487b93c54dbc40923c18": {
      "model_module": "@jupyter-widgets/controls",
      "model_module_version": "1.5.0",
      "model_name": "HBoxModel",
      "state": {
       "_dom_classes": [],
       "_model_module": "@jupyter-widgets/controls",
       "_model_module_version": "1.5.0",
       "_model_name": "HBoxModel",
       "_view_count": null,
       "_view_module": "@jupyter-widgets/controls",
       "_view_module_version": "1.5.0",
       "_view_name": "HBoxView",
       "box_style": "",
       "children": [
        "IPY_MODEL_fd73c7b587a4445aa3e60f336022d63b",
        "IPY_MODEL_1d3546204cd84c5fbe9cfafd84ee5a76",
        "IPY_MODEL_db926ba7de0842dd950e7d5d6f9d57d2"
       ],
       "layout": "IPY_MODEL_f620202c9e9642f89d1d521c8b64e17b"
      }
     },
     "655a3af85e2349cebbf5ea4900f56219": {
      "model_module": "@jupyter-widgets/base",
      "model_module_version": "1.2.0",
      "model_name": "LayoutModel",
      "state": {
       "_model_module": "@jupyter-widgets/base",
       "_model_module_version": "1.2.0",
       "_model_name": "LayoutModel",
       "_view_count": null,
       "_view_module": "@jupyter-widgets/base",
       "_view_module_version": "1.2.0",
       "_view_name": "LayoutView",
       "align_content": null,
       "align_items": null,
       "align_self": null,
       "border": null,
       "bottom": null,
       "display": null,
       "flex": null,
       "flex_flow": null,
       "grid_area": null,
       "grid_auto_columns": null,
       "grid_auto_flow": null,
       "grid_auto_rows": null,
       "grid_column": null,
       "grid_gap": null,
       "grid_row": null,
       "grid_template_areas": null,
       "grid_template_columns": null,
       "grid_template_rows": null,
       "height": null,
       "justify_content": null,
       "justify_items": null,
       "left": null,
       "margin": null,
       "max_height": null,
       "max_width": null,
       "min_height": null,
       "min_width": null,
       "object_fit": null,
       "object_position": null,
       "order": null,
       "overflow": null,
       "overflow_x": null,
       "overflow_y": null,
       "padding": null,
       "right": null,
       "top": null,
       "visibility": null,
       "width": null
      }
     },
     "66f7aa11b2b94caaaa970f551d7525cc": {
      "model_module": "@jupyter-widgets/controls",
      "model_module_version": "1.5.0",
      "model_name": "FloatProgressModel",
      "state": {
       "_dom_classes": [],
       "_model_module": "@jupyter-widgets/controls",
       "_model_module_version": "1.5.0",
       "_model_name": "FloatProgressModel",
       "_view_count": null,
       "_view_module": "@jupyter-widgets/controls",
       "_view_module_version": "1.5.0",
       "_view_name": "ProgressView",
       "bar_style": "success",
       "description": "",
       "description_tooltip": null,
       "layout": "IPY_MODEL_476d343fca134bb9872b1375fd0d6380",
       "max": 466062.0,
       "min": 0.0,
       "orientation": "horizontal",
       "style": "IPY_MODEL_edadd573b8434b7fabf82705b408dbe0",
       "value": 466062.0
      }
     },
     "67c3e1209a2147879245c70c06f271b6": {
      "model_module": "@jupyter-widgets/base",
      "model_module_version": "1.2.0",
      "model_name": "LayoutModel",
      "state": {
       "_model_module": "@jupyter-widgets/base",
       "_model_module_version": "1.2.0",
       "_model_name": "LayoutModel",
       "_view_count": null,
       "_view_module": "@jupyter-widgets/base",
       "_view_module_version": "1.2.0",
       "_view_name": "LayoutView",
       "align_content": null,
       "align_items": null,
       "align_self": null,
       "border": null,
       "bottom": null,
       "display": null,
       "flex": null,
       "flex_flow": null,
       "grid_area": null,
       "grid_auto_columns": null,
       "grid_auto_flow": null,
       "grid_auto_rows": null,
       "grid_column": null,
       "grid_gap": null,
       "grid_row": null,
       "grid_template_areas": null,
       "grid_template_columns": null,
       "grid_template_rows": null,
       "height": null,
       "justify_content": null,
       "justify_items": null,
       "left": null,
       "margin": null,
       "max_height": null,
       "max_width": null,
       "min_height": null,
       "min_width": null,
       "object_fit": null,
       "object_position": null,
       "order": null,
       "overflow": null,
       "overflow_x": null,
       "overflow_y": null,
       "padding": null,
       "right": null,
       "top": null,
       "visibility": null,
       "width": null
      }
     },
     "693a0480cc7b48b1ad02034b2db29270": {
      "model_module": "@jupyter-widgets/controls",
      "model_module_version": "1.5.0",
      "model_name": "HTMLModel",
      "state": {
       "_dom_classes": [],
       "_model_module": "@jupyter-widgets/controls",
       "_model_module_version": "1.5.0",
       "_model_name": "HTMLModel",
       "_view_count": null,
       "_view_module": "@jupyter-widgets/controls",
       "_view_module_version": "1.5.0",
       "_view_name": "HTMLView",
       "description": "",
       "description_tooltip": null,
       "layout": "IPY_MODEL_d2d86216d669403d85e8d0d59836485c",
       "placeholder": "​",
       "style": "IPY_MODEL_c245ed7f5eda4a04bf0ce6205b3fc10e",
       "value": "Downloading: 100%"
      }
     },
     "72edba6899bb48f3ae6e2f677c323c80": {
      "model_module": "@jupyter-widgets/controls",
      "model_module_version": "1.5.0",
      "model_name": "DescriptionStyleModel",
      "state": {
       "_model_module": "@jupyter-widgets/controls",
       "_model_module_version": "1.5.0",
       "_model_name": "DescriptionStyleModel",
       "_view_count": null,
       "_view_module": "@jupyter-widgets/base",
       "_view_module_version": "1.2.0",
       "_view_name": "StyleView",
       "description_width": ""
      }
     },
     "73bb6ce6624f4a788bc2e9167230d71d": {
      "model_module": "@jupyter-widgets/controls",
      "model_module_version": "1.5.0",
      "model_name": "HTMLModel",
      "state": {
       "_dom_classes": [],
       "_model_module": "@jupyter-widgets/controls",
       "_model_module_version": "1.5.0",
       "_model_name": "HTMLModel",
       "_view_count": null,
       "_view_module": "@jupyter-widgets/controls",
       "_view_module_version": "1.5.0",
       "_view_name": "HTMLView",
       "description": "",
       "description_tooltip": null,
       "layout": "IPY_MODEL_d9406a5b0e29423e8f81a6d6917e9d9e",
       "placeholder": "​",
       "style": "IPY_MODEL_b9670949e4754a3fa73d753086393858",
       "value": " 226k/226k [00:00&lt;00:00, 2.57MB/s]"
      }
     },
     "74e22467b5a841b6ba569782b8de25a7": {
      "model_module": "@jupyter-widgets/controls",
      "model_module_version": "1.5.0",
      "model_name": "ProgressStyleModel",
      "state": {
       "_model_module": "@jupyter-widgets/controls",
       "_model_module_version": "1.5.0",
       "_model_name": "ProgressStyleModel",
       "_view_count": null,
       "_view_module": "@jupyter-widgets/base",
       "_view_module_version": "1.2.0",
       "_view_name": "StyleView",
       "bar_color": null,
       "description_width": ""
      }
     },
     "755646f5572b4fea9faacfe17f75c655": {
      "model_module": "@jupyter-widgets/controls",
      "model_module_version": "1.5.0",
      "model_name": "ProgressStyleModel",
      "state": {
       "_model_module": "@jupyter-widgets/controls",
       "_model_module_version": "1.5.0",
       "_model_name": "ProgressStyleModel",
       "_view_count": null,
       "_view_module": "@jupyter-widgets/base",
       "_view_module_version": "1.2.0",
       "_view_name": "StyleView",
       "bar_color": null,
       "description_width": ""
      }
     },
     "76e64ebd497f44cb99d959b9b59088a1": {
      "model_module": "@jupyter-widgets/controls",
      "model_module_version": "1.5.0",
      "model_name": "HBoxModel",
      "state": {
       "_dom_classes": [],
       "_model_module": "@jupyter-widgets/controls",
       "_model_module_version": "1.5.0",
       "_model_name": "HBoxModel",
       "_view_count": null,
       "_view_module": "@jupyter-widgets/controls",
       "_view_module_version": "1.5.0",
       "_view_name": "HBoxView",
       "box_style": "",
       "children": [
        "IPY_MODEL_b35db293b7b743479329bb1eba4b126e",
        "IPY_MODEL_e0387a05fc7546cb895aa251c16e9eb6",
        "IPY_MODEL_530a63962dff46d6ae82a393f0fe8db8"
       ],
       "layout": "IPY_MODEL_e89d67012ecc4733905e533a5dad3c35"
      }
     },
     "798a81a10e4144a6bda8266e2ab8300f": {
      "model_module": "@jupyter-widgets/controls",
      "model_module_version": "1.5.0",
      "model_name": "ProgressStyleModel",
      "state": {
       "_model_module": "@jupyter-widgets/controls",
       "_model_module_version": "1.5.0",
       "_model_name": "ProgressStyleModel",
       "_view_count": null,
       "_view_module": "@jupyter-widgets/base",
       "_view_module_version": "1.2.0",
       "_view_name": "StyleView",
       "bar_color": null,
       "description_width": ""
      }
     },
     "86a7c06e75904327aa9a9d8e117f91b0": {
      "model_module": "@jupyter-widgets/controls",
      "model_module_version": "1.5.0",
      "model_name": "HTMLModel",
      "state": {
       "_dom_classes": [],
       "_model_module": "@jupyter-widgets/controls",
       "_model_module_version": "1.5.0",
       "_model_name": "HTMLModel",
       "_view_count": null,
       "_view_module": "@jupyter-widgets/controls",
       "_view_module_version": "1.5.0",
       "_view_name": "HTMLView",
       "description": "",
       "description_tooltip": null,
       "layout": "IPY_MODEL_c97aed2bc8c64ca5a2691c8092956d5f",
       "placeholder": "​",
       "style": "IPY_MODEL_259a396df0ec4e6da63fddb5d3e117ab",
       "value": "Downloading: 100%"
      }
     },
     "8805872ed80c4b60bc05a6c9df88171a": {
      "model_module": "@jupyter-widgets/base",
      "model_module_version": "1.2.0",
      "model_name": "LayoutModel",
      "state": {
       "_model_module": "@jupyter-widgets/base",
       "_model_module_version": "1.2.0",
       "_model_name": "LayoutModel",
       "_view_count": null,
       "_view_module": "@jupyter-widgets/base",
       "_view_module_version": "1.2.0",
       "_view_name": "LayoutView",
       "align_content": null,
       "align_items": null,
       "align_self": null,
       "border": null,
       "bottom": null,
       "display": null,
       "flex": null,
       "flex_flow": null,
       "grid_area": null,
       "grid_auto_columns": null,
       "grid_auto_flow": null,
       "grid_auto_rows": null,
       "grid_column": null,
       "grid_gap": null,
       "grid_row": null,
       "grid_template_areas": null,
       "grid_template_columns": null,
       "grid_template_rows": null,
       "height": null,
       "justify_content": null,
       "justify_items": null,
       "left": null,
       "margin": null,
       "max_height": null,
       "max_width": null,
       "min_height": null,
       "min_width": null,
       "object_fit": null,
       "object_position": null,
       "order": null,
       "overflow": null,
       "overflow_x": null,
       "overflow_y": null,
       "padding": null,
       "right": null,
       "top": null,
       "visibility": null,
       "width": null
      }
     },
     "8fe2ab9010c746bc8739c5ca8b2367dc": {
      "model_module": "@jupyter-widgets/controls",
      "model_module_version": "1.5.0",
      "model_name": "DescriptionStyleModel",
      "state": {
       "_model_module": "@jupyter-widgets/controls",
       "_model_module_version": "1.5.0",
       "_model_name": "DescriptionStyleModel",
       "_view_count": null,
       "_view_module": "@jupyter-widgets/base",
       "_view_module_version": "1.2.0",
       "_view_name": "StyleView",
       "description_width": ""
      }
     },
     "960cf9f746444ae785d895fd4b9478f0": {
      "model_module": "@jupyter-widgets/base",
      "model_module_version": "1.2.0",
      "model_name": "LayoutModel",
      "state": {
       "_model_module": "@jupyter-widgets/base",
       "_model_module_version": "1.2.0",
       "_model_name": "LayoutModel",
       "_view_count": null,
       "_view_module": "@jupyter-widgets/base",
       "_view_module_version": "1.2.0",
       "_view_name": "LayoutView",
       "align_content": null,
       "align_items": null,
       "align_self": null,
       "border": null,
       "bottom": null,
       "display": null,
       "flex": null,
       "flex_flow": null,
       "grid_area": null,
       "grid_auto_columns": null,
       "grid_auto_flow": null,
       "grid_auto_rows": null,
       "grid_column": null,
       "grid_gap": null,
       "grid_row": null,
       "grid_template_areas": null,
       "grid_template_columns": null,
       "grid_template_rows": null,
       "height": null,
       "justify_content": null,
       "justify_items": null,
       "left": null,
       "margin": null,
       "max_height": null,
       "max_width": null,
       "min_height": null,
       "min_width": null,
       "object_fit": null,
       "object_position": null,
       "order": null,
       "overflow": null,
       "overflow_x": null,
       "overflow_y": null,
       "padding": null,
       "right": null,
       "top": null,
       "visibility": null,
       "width": null
      }
     },
     "97a843b273dc4577a1aeb1b9b7d1e846": {
      "model_module": "@jupyter-widgets/controls",
      "model_module_version": "1.5.0",
      "model_name": "FloatProgressModel",
      "state": {
       "_dom_classes": [],
       "_model_module": "@jupyter-widgets/controls",
       "_model_module_version": "1.5.0",
       "_model_name": "FloatProgressModel",
       "_view_count": null,
       "_view_module": "@jupyter-widgets/controls",
       "_view_module_version": "1.5.0",
       "_view_name": "ProgressView",
       "bar_style": "success",
       "description": "",
       "description_tooltip": null,
       "layout": "IPY_MODEL_67c3e1209a2147879245c70c06f271b6",
       "max": 458495.0,
       "min": 0.0,
       "orientation": "horizontal",
       "style": "IPY_MODEL_74e22467b5a841b6ba569782b8de25a7",
       "value": 458495.0
      }
     },
     "99aac85559f045b998e098b5b3f1f454": {
      "model_module": "@jupyter-widgets/controls",
      "model_module_version": "1.5.0",
      "model_name": "DescriptionStyleModel",
      "state": {
       "_model_module": "@jupyter-widgets/controls",
       "_model_module_version": "1.5.0",
       "_model_name": "DescriptionStyleModel",
       "_view_count": null,
       "_view_module": "@jupyter-widgets/base",
       "_view_module_version": "1.2.0",
       "_view_name": "StyleView",
       "description_width": ""
      }
     },
     "99abec4d3dcb4d48a05c8c826da0382e": {
      "model_module": "@jupyter-widgets/base",
      "model_module_version": "1.2.0",
      "model_name": "LayoutModel",
      "state": {
       "_model_module": "@jupyter-widgets/base",
       "_model_module_version": "1.2.0",
       "_model_name": "LayoutModel",
       "_view_count": null,
       "_view_module": "@jupyter-widgets/base",
       "_view_module_version": "1.2.0",
       "_view_name": "LayoutView",
       "align_content": null,
       "align_items": null,
       "align_self": null,
       "border": null,
       "bottom": null,
       "display": null,
       "flex": null,
       "flex_flow": null,
       "grid_area": null,
       "grid_auto_columns": null,
       "grid_auto_flow": null,
       "grid_auto_rows": null,
       "grid_column": null,
       "grid_gap": null,
       "grid_row": null,
       "grid_template_areas": null,
       "grid_template_columns": null,
       "grid_template_rows": null,
       "height": null,
       "justify_content": null,
       "justify_items": null,
       "left": null,
       "margin": null,
       "max_height": null,
       "max_width": null,
       "min_height": null,
       "min_width": null,
       "object_fit": null,
       "object_position": null,
       "order": null,
       "overflow": null,
       "overflow_x": null,
       "overflow_y": null,
       "padding": null,
       "right": null,
       "top": null,
       "visibility": null,
       "width": null
      }
     },
     "9c02dd0cef284518b173650a1c898ebb": {
      "model_module": "@jupyter-widgets/controls",
      "model_module_version": "1.5.0",
      "model_name": "FloatProgressModel",
      "state": {
       "_dom_classes": [],
       "_model_module": "@jupyter-widgets/controls",
       "_model_module_version": "1.5.0",
       "_model_name": "FloatProgressModel",
       "_view_count": null,
       "_view_module": "@jupyter-widgets/controls",
       "_view_module_version": "1.5.0",
       "_view_name": "ProgressView",
       "bar_style": "success",
       "description": "",
       "description_tooltip": null,
       "layout": "IPY_MODEL_2a770f722b1247a48b4eb79990dbaa37",
       "max": 656.0,
       "min": 0.0,
       "orientation": "horizontal",
       "style": "IPY_MODEL_a8c90db84ac34239adda6ff015350a08",
       "value": 656.0
      }
     },
     "9db7e38ea5d14c5aa37f11b98cde3be2": {
      "model_module": "@jupyter-widgets/base",
      "model_module_version": "1.2.0",
      "model_name": "LayoutModel",
      "state": {
       "_model_module": "@jupyter-widgets/base",
       "_model_module_version": "1.2.0",
       "_model_name": "LayoutModel",
       "_view_count": null,
       "_view_module": "@jupyter-widgets/base",
       "_view_module_version": "1.2.0",
       "_view_name": "LayoutView",
       "align_content": null,
       "align_items": null,
       "align_self": null,
       "border": null,
       "bottom": null,
       "display": null,
       "flex": null,
       "flex_flow": null,
       "grid_area": null,
       "grid_auto_columns": null,
       "grid_auto_flow": null,
       "grid_auto_rows": null,
       "grid_column": null,
       "grid_gap": null,
       "grid_row": null,
       "grid_template_areas": null,
       "grid_template_columns": null,
       "grid_template_rows": null,
       "height": null,
       "justify_content": null,
       "justify_items": null,
       "left": null,
       "margin": null,
       "max_height": null,
       "max_width": null,
       "min_height": null,
       "min_width": null,
       "object_fit": null,
       "object_position": null,
       "order": null,
       "overflow": null,
       "overflow_x": null,
       "overflow_y": null,
       "padding": null,
       "right": null,
       "top": null,
       "visibility": null,
       "width": null
      }
     },
     "a0e43b51b8ef4976aa1a22cf25338221": {
      "model_module": "@jupyter-widgets/controls",
      "model_module_version": "1.5.0",
      "model_name": "DescriptionStyleModel",
      "state": {
       "_model_module": "@jupyter-widgets/controls",
       "_model_module_version": "1.5.0",
       "_model_name": "DescriptionStyleModel",
       "_view_count": null,
       "_view_module": "@jupyter-widgets/base",
       "_view_module_version": "1.2.0",
       "_view_name": "StyleView",
       "description_width": ""
      }
     },
     "a4a68fcfa9524dd6a5101ae80f8d66c7": {
      "model_module": "@jupyter-widgets/base",
      "model_module_version": "1.2.0",
      "model_name": "LayoutModel",
      "state": {
       "_model_module": "@jupyter-widgets/base",
       "_model_module_version": "1.2.0",
       "_model_name": "LayoutModel",
       "_view_count": null,
       "_view_module": "@jupyter-widgets/base",
       "_view_module_version": "1.2.0",
       "_view_name": "LayoutView",
       "align_content": null,
       "align_items": null,
       "align_self": null,
       "border": null,
       "bottom": null,
       "display": null,
       "flex": null,
       "flex_flow": null,
       "grid_area": null,
       "grid_auto_columns": null,
       "grid_auto_flow": null,
       "grid_auto_rows": null,
       "grid_column": null,
       "grid_gap": null,
       "grid_row": null,
       "grid_template_areas": null,
       "grid_template_columns": null,
       "grid_template_rows": null,
       "height": null,
       "justify_content": null,
       "justify_items": null,
       "left": null,
       "margin": null,
       "max_height": null,
       "max_width": null,
       "min_height": null,
       "min_width": null,
       "object_fit": null,
       "object_position": null,
       "order": null,
       "overflow": null,
       "overflow_x": null,
       "overflow_y": null,
       "padding": null,
       "right": null,
       "top": null,
       "visibility": null,
       "width": null
      }
     },
     "a8c90db84ac34239adda6ff015350a08": {
      "model_module": "@jupyter-widgets/controls",
      "model_module_version": "1.5.0",
      "model_name": "ProgressStyleModel",
      "state": {
       "_model_module": "@jupyter-widgets/controls",
       "_model_module_version": "1.5.0",
       "_model_name": "ProgressStyleModel",
       "_view_count": null,
       "_view_module": "@jupyter-widgets/base",
       "_view_module_version": "1.2.0",
       "_view_name": "StyleView",
       "bar_color": null,
       "description_width": ""
      }
     },
     "ad482ff99b21445d832f436dd3134414": {
      "model_module": "@jupyter-widgets/controls",
      "model_module_version": "1.5.0",
      "model_name": "HTMLModel",
      "state": {
       "_dom_classes": [],
       "_model_module": "@jupyter-widgets/controls",
       "_model_module_version": "1.5.0",
       "_model_name": "HTMLModel",
       "_view_count": null,
       "_view_module": "@jupyter-widgets/controls",
       "_view_module_version": "1.5.0",
       "_view_name": "HTMLView",
       "description": "",
       "description_tooltip": null,
       "layout": "IPY_MODEL_e1ba754837c94a97bf7c4ae83d35ef39",
       "placeholder": "​",
       "style": "IPY_MODEL_72edba6899bb48f3ae6e2f677c323c80",
       "value": "Downloading: 100%"
      }
     },
     "af66bb187b04415c802a7fe12f5548be": {
      "model_module": "@jupyter-widgets/base",
      "model_module_version": "1.2.0",
      "model_name": "LayoutModel",
      "state": {
       "_model_module": "@jupyter-widgets/base",
       "_model_module_version": "1.2.0",
       "_model_name": "LayoutModel",
       "_view_count": null,
       "_view_module": "@jupyter-widgets/base",
       "_view_module_version": "1.2.0",
       "_view_name": "LayoutView",
       "align_content": null,
       "align_items": null,
       "align_self": null,
       "border": null,
       "bottom": null,
       "display": null,
       "flex": null,
       "flex_flow": null,
       "grid_area": null,
       "grid_auto_columns": null,
       "grid_auto_flow": null,
       "grid_auto_rows": null,
       "grid_column": null,
       "grid_gap": null,
       "grid_row": null,
       "grid_template_areas": null,
       "grid_template_columns": null,
       "grid_template_rows": null,
       "height": null,
       "justify_content": null,
       "justify_items": null,
       "left": null,
       "margin": null,
       "max_height": null,
       "max_width": null,
       "min_height": null,
       "min_width": null,
       "object_fit": null,
       "object_position": null,
       "order": null,
       "overflow": null,
       "overflow_x": null,
       "overflow_y": null,
       "padding": null,
       "right": null,
       "top": null,
       "visibility": null,
       "width": null
      }
     },
     "b35db293b7b743479329bb1eba4b126e": {
      "model_module": "@jupyter-widgets/controls",
      "model_module_version": "1.5.0",
      "model_name": "HTMLModel",
      "state": {
       "_dom_classes": [],
       "_model_module": "@jupyter-widgets/controls",
       "_model_module_version": "1.5.0",
       "_model_name": "HTMLModel",
       "_view_count": null,
       "_view_module": "@jupyter-widgets/controls",
       "_view_module_version": "1.5.0",
       "_view_name": "HTMLView",
       "description": "",
       "description_tooltip": null,
       "layout": "IPY_MODEL_ccef6c850d104dd1b21eb5f1b3e34f08",
       "placeholder": "​",
       "style": "IPY_MODEL_e67dd85918d24bd2b9e3de21fc513e4e",
       "value": "Downloading: 100%"
      }
     },
     "b3b8ec49a7a94731840cc0f3b9406b49": {
      "model_module": "@jupyter-widgets/controls",
      "model_module_version": "1.5.0",
      "model_name": "ProgressStyleModel",
      "state": {
       "_model_module": "@jupyter-widgets/controls",
       "_model_module_version": "1.5.0",
       "_model_name": "ProgressStyleModel",
       "_view_count": null,
       "_view_module": "@jupyter-widgets/base",
       "_view_module_version": "1.2.0",
       "_view_name": "StyleView",
       "bar_color": null,
       "description_width": ""
      }
     },
     "b82d5a0a391848439a71c920e57807c3": {
      "model_module": "@jupyter-widgets/controls",
      "model_module_version": "1.5.0",
      "model_name": "HTMLModel",
      "state": {
       "_dom_classes": [],
       "_model_module": "@jupyter-widgets/controls",
       "_model_module_version": "1.5.0",
       "_model_name": "HTMLModel",
       "_view_count": null,
       "_view_module": "@jupyter-widgets/controls",
       "_view_module_version": "1.5.0",
       "_view_name": "HTMLView",
       "description": "",
       "description_tooltip": null,
       "layout": "IPY_MODEL_8805872ed80c4b60bc05a6c9df88171a",
       "placeholder": "​",
       "style": "IPY_MODEL_df6916e0894d4088aeea41deea4846bc",
       "value": " 28.0/28.0 [00:00&lt;00:00, 897B/s]"
      }
     },
     "b84500b681274876bda1d05b9ef28e0c": {
      "model_module": "@jupyter-widgets/base",
      "model_module_version": "1.2.0",
      "model_name": "LayoutModel",
      "state": {
       "_model_module": "@jupyter-widgets/base",
       "_model_module_version": "1.2.0",
       "_model_name": "LayoutModel",
       "_view_count": null,
       "_view_module": "@jupyter-widgets/base",
       "_view_module_version": "1.2.0",
       "_view_name": "LayoutView",
       "align_content": null,
       "align_items": null,
       "align_self": null,
       "border": null,
       "bottom": null,
       "display": null,
       "flex": null,
       "flex_flow": null,
       "grid_area": null,
       "grid_auto_columns": null,
       "grid_auto_flow": null,
       "grid_auto_rows": null,
       "grid_column": null,
       "grid_gap": null,
       "grid_row": null,
       "grid_template_areas": null,
       "grid_template_columns": null,
       "grid_template_rows": null,
       "height": null,
       "justify_content": null,
       "justify_items": null,
       "left": null,
       "margin": null,
       "max_height": null,
       "max_width": null,
       "min_height": null,
       "min_width": null,
       "object_fit": null,
       "object_position": null,
       "order": null,
       "overflow": null,
       "overflow_x": null,
       "overflow_y": null,
       "padding": null,
       "right": null,
       "top": null,
       "visibility": null,
       "width": null
      }
     },
     "b9670949e4754a3fa73d753086393858": {
      "model_module": "@jupyter-widgets/controls",
      "model_module_version": "1.5.0",
      "model_name": "DescriptionStyleModel",
      "state": {
       "_model_module": "@jupyter-widgets/controls",
       "_model_module_version": "1.5.0",
       "_model_name": "DescriptionStyleModel",
       "_view_count": null,
       "_view_module": "@jupyter-widgets/base",
       "_view_module_version": "1.2.0",
       "_view_name": "StyleView",
       "description_width": ""
      }
     },
     "be567054c1a148f697f518503c213163": {
      "model_module": "@jupyter-widgets/controls",
      "model_module_version": "1.5.0",
      "model_name": "HTMLModel",
      "state": {
       "_dom_classes": [],
       "_model_module": "@jupyter-widgets/controls",
       "_model_module_version": "1.5.0",
       "_model_name": "HTMLModel",
       "_view_count": null,
       "_view_module": "@jupyter-widgets/controls",
       "_view_module_version": "1.5.0",
       "_view_name": "HTMLView",
       "description": "",
       "description_tooltip": null,
       "layout": "IPY_MODEL_ce17cb4a261d42828ced3751125ce19d",
       "placeholder": "​",
       "style": "IPY_MODEL_dba8b52da39e46b7877a89cbaa6c1db4",
       "value": " 455k/455k [00:00&lt;00:00, 2.37MB/s]"
      }
     },
     "bf7a186aca1c4fa28cca07cba104ee57": {
      "model_module": "@jupyter-widgets/controls",
      "model_module_version": "1.5.0",
      "model_name": "HTMLModel",
      "state": {
       "_dom_classes": [],
       "_model_module": "@jupyter-widgets/controls",
       "_model_module_version": "1.5.0",
       "_model_name": "HTMLModel",
       "_view_count": null,
       "_view_module": "@jupyter-widgets/controls",
       "_view_module_version": "1.5.0",
       "_view_name": "HTMLView",
       "description": "",
       "description_tooltip": null,
       "layout": "IPY_MODEL_013db42608bb4ffbb211cadd28b0e6ac",
       "placeholder": "​",
       "style": "IPY_MODEL_191b87c19e974b06b3e16bc25c182314",
       "value": "Downloading: 100%"
      }
     },
     "c245ed7f5eda4a04bf0ce6205b3fc10e": {
      "model_module": "@jupyter-widgets/controls",
      "model_module_version": "1.5.0",
      "model_name": "DescriptionStyleModel",
      "state": {
       "_model_module": "@jupyter-widgets/controls",
       "_model_module_version": "1.5.0",
       "_model_name": "DescriptionStyleModel",
       "_view_count": null,
       "_view_module": "@jupyter-widgets/base",
       "_view_module_version": "1.2.0",
       "_view_name": "StyleView",
       "description_width": ""
      }
     },
     "c291177fbd844fc9aeadfbf013d65150": {
      "model_module": "@jupyter-widgets/controls",
      "model_module_version": "1.5.0",
      "model_name": "ProgressStyleModel",
      "state": {
       "_model_module": "@jupyter-widgets/controls",
       "_model_module_version": "1.5.0",
       "_model_name": "ProgressStyleModel",
       "_view_count": null,
       "_view_module": "@jupyter-widgets/base",
       "_view_module_version": "1.2.0",
       "_view_name": "StyleView",
       "bar_color": null,
       "description_width": ""
      }
     },
     "c48625e929584d9885bc6b572cf84f44": {
      "model_module": "@jupyter-widgets/controls",
      "model_module_version": "1.5.0",
      "model_name": "FloatProgressModel",
      "state": {
       "_dom_classes": [],
       "_model_module": "@jupyter-widgets/controls",
       "_model_module_version": "1.5.0",
       "_model_name": "FloatProgressModel",
       "_view_count": null,
       "_view_module": "@jupyter-widgets/controls",
       "_view_module_version": "1.5.0",
       "_view_name": "ProgressView",
       "bar_style": "success",
       "description": "",
       "description_tooltip": null,
       "layout": "IPY_MODEL_47589492316548048dd80eac6663ac21",
       "max": 231508.0,
       "min": 0.0,
       "orientation": "horizontal",
       "style": "IPY_MODEL_f2689f13d9f24c66be523ef69b6bdd48",
       "value": 231508.0
      }
     },
     "c7ce85a6a07e4f21958e7af7933014e2": {
      "model_module": "@jupyter-widgets/controls",
      "model_module_version": "1.5.0",
      "model_name": "HBoxModel",
      "state": {
       "_dom_classes": [],
       "_model_module": "@jupyter-widgets/controls",
       "_model_module_version": "1.5.0",
       "_model_name": "HBoxModel",
       "_view_count": null,
       "_view_module": "@jupyter-widgets/controls",
       "_view_module_version": "1.5.0",
       "_view_name": "HBoxView",
       "box_style": "",
       "children": [
        "IPY_MODEL_bf7a186aca1c4fa28cca07cba104ee57",
        "IPY_MODEL_97a843b273dc4577a1aeb1b9b7d1e846",
        "IPY_MODEL_d59e4b59eb1e47e1af67ebc504bdd6cc"
       ],
       "layout": "IPY_MODEL_af66bb187b04415c802a7fe12f5548be"
      }
     },
     "c97aed2bc8c64ca5a2691c8092956d5f": {
      "model_module": "@jupyter-widgets/base",
      "model_module_version": "1.2.0",
      "model_name": "LayoutModel",
      "state": {
       "_model_module": "@jupyter-widgets/base",
       "_model_module_version": "1.2.0",
       "_model_name": "LayoutModel",
       "_view_count": null,
       "_view_module": "@jupyter-widgets/base",
       "_view_module_version": "1.2.0",
       "_view_name": "LayoutView",
       "align_content": null,
       "align_items": null,
       "align_self": null,
       "border": null,
       "bottom": null,
       "display": null,
       "flex": null,
       "flex_flow": null,
       "grid_area": null,
       "grid_auto_columns": null,
       "grid_auto_flow": null,
       "grid_auto_rows": null,
       "grid_column": null,
       "grid_gap": null,
       "grid_row": null,
       "grid_template_areas": null,
       "grid_template_columns": null,
       "grid_template_rows": null,
       "height": null,
       "justify_content": null,
       "justify_items": null,
       "left": null,
       "margin": null,
       "max_height": null,
       "max_width": null,
       "min_height": null,
       "min_width": null,
       "object_fit": null,
       "object_position": null,
       "order": null,
       "overflow": null,
       "overflow_x": null,
       "overflow_y": null,
       "padding": null,
       "right": null,
       "top": null,
       "visibility": null,
       "width": null
      }
     },
     "ccef6c850d104dd1b21eb5f1b3e34f08": {
      "model_module": "@jupyter-widgets/base",
      "model_module_version": "1.2.0",
      "model_name": "LayoutModel",
      "state": {
       "_model_module": "@jupyter-widgets/base",
       "_model_module_version": "1.2.0",
       "_model_name": "LayoutModel",
       "_view_count": null,
       "_view_module": "@jupyter-widgets/base",
       "_view_module_version": "1.2.0",
       "_view_name": "LayoutView",
       "align_content": null,
       "align_items": null,
       "align_self": null,
       "border": null,
       "bottom": null,
       "display": null,
       "flex": null,
       "flex_flow": null,
       "grid_area": null,
       "grid_auto_columns": null,
       "grid_auto_flow": null,
       "grid_auto_rows": null,
       "grid_column": null,
       "grid_gap": null,
       "grid_row": null,
       "grid_template_areas": null,
       "grid_template_columns": null,
       "grid_template_rows": null,
       "height": null,
       "justify_content": null,
       "justify_items": null,
       "left": null,
       "margin": null,
       "max_height": null,
       "max_width": null,
       "min_height": null,
       "min_width": null,
       "object_fit": null,
       "object_position": null,
       "order": null,
       "overflow": null,
       "overflow_x": null,
       "overflow_y": null,
       "padding": null,
       "right": null,
       "top": null,
       "visibility": null,
       "width": null
      }
     },
     "ce17cb4a261d42828ced3751125ce19d": {
      "model_module": "@jupyter-widgets/base",
      "model_module_version": "1.2.0",
      "model_name": "LayoutModel",
      "state": {
       "_model_module": "@jupyter-widgets/base",
       "_model_module_version": "1.2.0",
       "_model_name": "LayoutModel",
       "_view_count": null,
       "_view_module": "@jupyter-widgets/base",
       "_view_module_version": "1.2.0",
       "_view_name": "LayoutView",
       "align_content": null,
       "align_items": null,
       "align_self": null,
       "border": null,
       "bottom": null,
       "display": null,
       "flex": null,
       "flex_flow": null,
       "grid_area": null,
       "grid_auto_columns": null,
       "grid_auto_flow": null,
       "grid_auto_rows": null,
       "grid_column": null,
       "grid_gap": null,
       "grid_row": null,
       "grid_template_areas": null,
       "grid_template_columns": null,
       "grid_template_rows": null,
       "height": null,
       "justify_content": null,
       "justify_items": null,
       "left": null,
       "margin": null,
       "max_height": null,
       "max_width": null,
       "min_height": null,
       "min_width": null,
       "object_fit": null,
       "object_position": null,
       "order": null,
       "overflow": null,
       "overflow_x": null,
       "overflow_y": null,
       "padding": null,
       "right": null,
       "top": null,
       "visibility": null,
       "width": null
      }
     },
     "d05473eb5a7b4c7bbe0646559396c65c": {
      "model_module": "@jupyter-widgets/base",
      "model_module_version": "1.2.0",
      "model_name": "LayoutModel",
      "state": {
       "_model_module": "@jupyter-widgets/base",
       "_model_module_version": "1.2.0",
       "_model_name": "LayoutModel",
       "_view_count": null,
       "_view_module": "@jupyter-widgets/base",
       "_view_module_version": "1.2.0",
       "_view_name": "LayoutView",
       "align_content": null,
       "align_items": null,
       "align_self": null,
       "border": null,
       "bottom": null,
       "display": null,
       "flex": null,
       "flex_flow": null,
       "grid_area": null,
       "grid_auto_columns": null,
       "grid_auto_flow": null,
       "grid_auto_rows": null,
       "grid_column": null,
       "grid_gap": null,
       "grid_row": null,
       "grid_template_areas": null,
       "grid_template_columns": null,
       "grid_template_rows": null,
       "height": null,
       "justify_content": null,
       "justify_items": null,
       "left": null,
       "margin": null,
       "max_height": null,
       "max_width": null,
       "min_height": null,
       "min_width": null,
       "object_fit": null,
       "object_position": null,
       "order": null,
       "overflow": null,
       "overflow_x": null,
       "overflow_y": null,
       "padding": null,
       "right": null,
       "top": null,
       "visibility": null,
       "width": null
      }
     },
     "d2d86216d669403d85e8d0d59836485c": {
      "model_module": "@jupyter-widgets/base",
      "model_module_version": "1.2.0",
      "model_name": "LayoutModel",
      "state": {
       "_model_module": "@jupyter-widgets/base",
       "_model_module_version": "1.2.0",
       "_model_name": "LayoutModel",
       "_view_count": null,
       "_view_module": "@jupyter-widgets/base",
       "_view_module_version": "1.2.0",
       "_view_name": "LayoutView",
       "align_content": null,
       "align_items": null,
       "align_self": null,
       "border": null,
       "bottom": null,
       "display": null,
       "flex": null,
       "flex_flow": null,
       "grid_area": null,
       "grid_auto_columns": null,
       "grid_auto_flow": null,
       "grid_auto_rows": null,
       "grid_column": null,
       "grid_gap": null,
       "grid_row": null,
       "grid_template_areas": null,
       "grid_template_columns": null,
       "grid_template_rows": null,
       "height": null,
       "justify_content": null,
       "justify_items": null,
       "left": null,
       "margin": null,
       "max_height": null,
       "max_width": null,
       "min_height": null,
       "min_width": null,
       "object_fit": null,
       "object_position": null,
       "order": null,
       "overflow": null,
       "overflow_x": null,
       "overflow_y": null,
       "padding": null,
       "right": null,
       "top": null,
       "visibility": null,
       "width": null
      }
     },
     "d56db82d50ba4e8491ab263223fae090": {
      "model_module": "@jupyter-widgets/controls",
      "model_module_version": "1.5.0",
      "model_name": "FloatProgressModel",
      "state": {
       "_dom_classes": [],
       "_model_module": "@jupyter-widgets/controls",
       "_model_module_version": "1.5.0",
       "_model_name": "FloatProgressModel",
       "_view_count": null,
       "_view_module": "@jupyter-widgets/controls",
       "_view_module_version": "1.5.0",
       "_view_name": "ProgressView",
       "bar_style": "success",
       "description": "",
       "description_tooltip": null,
       "layout": "IPY_MODEL_1e72af1315474e22948ff48483ba3179",
       "max": 28.0,
       "min": 0.0,
       "orientation": "horizontal",
       "style": "IPY_MODEL_798a81a10e4144a6bda8266e2ab8300f",
       "value": 28.0
      }
     },
     "d59e4b59eb1e47e1af67ebc504bdd6cc": {
      "model_module": "@jupyter-widgets/controls",
      "model_module_version": "1.5.0",
      "model_name": "HTMLModel",
      "state": {
       "_dom_classes": [],
       "_model_module": "@jupyter-widgets/controls",
       "_model_module_version": "1.5.0",
       "_model_name": "HTMLModel",
       "_view_count": null,
       "_view_module": "@jupyter-widgets/controls",
       "_view_module_version": "1.5.0",
       "_view_name": "HTMLView",
       "description": "",
       "description_tooltip": null,
       "layout": "IPY_MODEL_655a3af85e2349cebbf5ea4900f56219",
       "placeholder": "​",
       "style": "IPY_MODEL_4fc721952ab1460f8fa6adbece4dae89",
       "value": " 448k/448k [00:00&lt;00:00, 1.74MB/s]"
      }
     },
     "d9406a5b0e29423e8f81a6d6917e9d9e": {
      "model_module": "@jupyter-widgets/base",
      "model_module_version": "1.2.0",
      "model_name": "LayoutModel",
      "state": {
       "_model_module": "@jupyter-widgets/base",
       "_model_module_version": "1.2.0",
       "_model_name": "LayoutModel",
       "_view_count": null,
       "_view_module": "@jupyter-widgets/base",
       "_view_module_version": "1.2.0",
       "_view_name": "LayoutView",
       "align_content": null,
       "align_items": null,
       "align_self": null,
       "border": null,
       "bottom": null,
       "display": null,
       "flex": null,
       "flex_flow": null,
       "grid_area": null,
       "grid_auto_columns": null,
       "grid_auto_flow": null,
       "grid_auto_rows": null,
       "grid_column": null,
       "grid_gap": null,
       "grid_row": null,
       "grid_template_areas": null,
       "grid_template_columns": null,
       "grid_template_rows": null,
       "height": null,
       "justify_content": null,
       "justify_items": null,
       "left": null,
       "margin": null,
       "max_height": null,
       "max_width": null,
       "min_height": null,
       "min_width": null,
       "object_fit": null,
       "object_position": null,
       "order": null,
       "overflow": null,
       "overflow_x": null,
       "overflow_y": null,
       "padding": null,
       "right": null,
       "top": null,
       "visibility": null,
       "width": null
      }
     },
     "da6600042d264fd68b9071792e36b397": {
      "model_module": "@jupyter-widgets/base",
      "model_module_version": "1.2.0",
      "model_name": "LayoutModel",
      "state": {
       "_model_module": "@jupyter-widgets/base",
       "_model_module_version": "1.2.0",
       "_model_name": "LayoutModel",
       "_view_count": null,
       "_view_module": "@jupyter-widgets/base",
       "_view_module_version": "1.2.0",
       "_view_name": "LayoutView",
       "align_content": null,
       "align_items": null,
       "align_self": null,
       "border": null,
       "bottom": null,
       "display": null,
       "flex": null,
       "flex_flow": null,
       "grid_area": null,
       "grid_auto_columns": null,
       "grid_auto_flow": null,
       "grid_auto_rows": null,
       "grid_column": null,
       "grid_gap": null,
       "grid_row": null,
       "grid_template_areas": null,
       "grid_template_columns": null,
       "grid_template_rows": null,
       "height": null,
       "justify_content": null,
       "justify_items": null,
       "left": null,
       "margin": null,
       "max_height": null,
       "max_width": null,
       "min_height": null,
       "min_width": null,
       "object_fit": null,
       "object_position": null,
       "order": null,
       "overflow": null,
       "overflow_x": null,
       "overflow_y": null,
       "padding": null,
       "right": null,
       "top": null,
       "visibility": null,
       "width": null
      }
     },
     "db926ba7de0842dd950e7d5d6f9d57d2": {
      "model_module": "@jupyter-widgets/controls",
      "model_module_version": "1.5.0",
      "model_name": "HTMLModel",
      "state": {
       "_dom_classes": [],
       "_model_module": "@jupyter-widgets/controls",
       "_model_module_version": "1.5.0",
       "_model_name": "HTMLModel",
       "_view_count": null,
       "_view_module": "@jupyter-widgets/controls",
       "_view_module_version": "1.5.0",
       "_view_name": "HTMLView",
       "description": "",
       "description_tooltip": null,
       "layout": "IPY_MODEL_99abec4d3dcb4d48a05c8c826da0382e",
       "placeholder": "​",
       "style": "IPY_MODEL_47ae7476ba814b79a7bb83be9af43c9f",
       "value": " 797k/797k [00:00&lt;00:00, 2.92MB/s]"
      }
     },
     "dba8b52da39e46b7877a89cbaa6c1db4": {
      "model_module": "@jupyter-widgets/controls",
      "model_module_version": "1.5.0",
      "model_name": "DescriptionStyleModel",
      "state": {
       "_model_module": "@jupyter-widgets/controls",
       "_model_module_version": "1.5.0",
       "_model_name": "DescriptionStyleModel",
       "_view_count": null,
       "_view_module": "@jupyter-widgets/base",
       "_view_module_version": "1.2.0",
       "_view_name": "StyleView",
       "description_width": ""
      }
     },
     "df6916e0894d4088aeea41deea4846bc": {
      "model_module": "@jupyter-widgets/controls",
      "model_module_version": "1.5.0",
      "model_name": "DescriptionStyleModel",
      "state": {
       "_model_module": "@jupyter-widgets/controls",
       "_model_module_version": "1.5.0",
       "_model_name": "DescriptionStyleModel",
       "_view_count": null,
       "_view_module": "@jupyter-widgets/base",
       "_view_module_version": "1.2.0",
       "_view_name": "StyleView",
       "description_width": ""
      }
     },
     "e0387a05fc7546cb895aa251c16e9eb6": {
      "model_module": "@jupyter-widgets/controls",
      "model_module_version": "1.5.0",
      "model_name": "FloatProgressModel",
      "state": {
       "_dom_classes": [],
       "_model_module": "@jupyter-widgets/controls",
       "_model_module_version": "1.5.0",
       "_model_name": "FloatProgressModel",
       "_view_count": null,
       "_view_module": "@jupyter-widgets/controls",
       "_view_module_version": "1.5.0",
       "_view_name": "ProgressView",
       "bar_style": "success",
       "description": "",
       "description_tooltip": null,
       "layout": "IPY_MODEL_b84500b681274876bda1d05b9ef28e0c",
       "max": 1272610.0,
       "min": 0.0,
       "orientation": "horizontal",
       "style": "IPY_MODEL_c291177fbd844fc9aeadfbf013d65150",
       "value": 1272610.0
      }
     },
     "e1ba754837c94a97bf7c4ae83d35ef39": {
      "model_module": "@jupyter-widgets/base",
      "model_module_version": "1.2.0",
      "model_name": "LayoutModel",
      "state": {
       "_model_module": "@jupyter-widgets/base",
       "_model_module_version": "1.2.0",
       "_model_name": "LayoutModel",
       "_view_count": null,
       "_view_module": "@jupyter-widgets/base",
       "_view_module_version": "1.2.0",
       "_view_name": "LayoutView",
       "align_content": null,
       "align_items": null,
       "align_self": null,
       "border": null,
       "bottom": null,
       "display": null,
       "flex": null,
       "flex_flow": null,
       "grid_area": null,
       "grid_auto_columns": null,
       "grid_auto_flow": null,
       "grid_auto_rows": null,
       "grid_column": null,
       "grid_gap": null,
       "grid_row": null,
       "grid_template_areas": null,
       "grid_template_columns": null,
       "grid_template_rows": null,
       "height": null,
       "justify_content": null,
       "justify_items": null,
       "left": null,
       "margin": null,
       "max_height": null,
       "max_width": null,
       "min_height": null,
       "min_width": null,
       "object_fit": null,
       "object_position": null,
       "order": null,
       "overflow": null,
       "overflow_x": null,
       "overflow_y": null,
       "padding": null,
       "right": null,
       "top": null,
       "visibility": null,
       "width": null
      }
     },
     "e30401a64e224e0381bf9cb1eb356a73": {
      "model_module": "@jupyter-widgets/controls",
      "model_module_version": "1.5.0",
      "model_name": "HBoxModel",
      "state": {
       "_dom_classes": [],
       "_model_module": "@jupyter-widgets/controls",
       "_model_module_version": "1.5.0",
       "_model_name": "HBoxModel",
       "_view_count": null,
       "_view_module": "@jupyter-widgets/controls",
       "_view_module_version": "1.5.0",
       "_view_name": "HBoxView",
       "box_style": "",
       "children": [
        "IPY_MODEL_86a7c06e75904327aa9a9d8e117f91b0",
        "IPY_MODEL_c48625e929584d9885bc6b572cf84f44",
        "IPY_MODEL_73bb6ce6624f4a788bc2e9167230d71d"
       ],
       "layout": "IPY_MODEL_da6600042d264fd68b9071792e36b397"
      }
     },
     "e67dd85918d24bd2b9e3de21fc513e4e": {
      "model_module": "@jupyter-widgets/controls",
      "model_module_version": "1.5.0",
      "model_name": "DescriptionStyleModel",
      "state": {
       "_model_module": "@jupyter-widgets/controls",
       "_model_module_version": "1.5.0",
       "_model_name": "DescriptionStyleModel",
       "_view_count": null,
       "_view_module": "@jupyter-widgets/base",
       "_view_module_version": "1.2.0",
       "_view_name": "StyleView",
       "description_width": ""
      }
     },
     "e89d67012ecc4733905e533a5dad3c35": {
      "model_module": "@jupyter-widgets/base",
      "model_module_version": "1.2.0",
      "model_name": "LayoutModel",
      "state": {
       "_model_module": "@jupyter-widgets/base",
       "_model_module_version": "1.2.0",
       "_model_name": "LayoutModel",
       "_view_count": null,
       "_view_module": "@jupyter-widgets/base",
       "_view_module_version": "1.2.0",
       "_view_name": "LayoutView",
       "align_content": null,
       "align_items": null,
       "align_self": null,
       "border": null,
       "bottom": null,
       "display": null,
       "flex": null,
       "flex_flow": null,
       "grid_area": null,
       "grid_auto_columns": null,
       "grid_auto_flow": null,
       "grid_auto_rows": null,
       "grid_column": null,
       "grid_gap": null,
       "grid_row": null,
       "grid_template_areas": null,
       "grid_template_columns": null,
       "grid_template_rows": null,
       "height": null,
       "justify_content": null,
       "justify_items": null,
       "left": null,
       "margin": null,
       "max_height": null,
       "max_width": null,
       "min_height": null,
       "min_width": null,
       "object_fit": null,
       "object_position": null,
       "order": null,
       "overflow": null,
       "overflow_x": null,
       "overflow_y": null,
       "padding": null,
       "right": null,
       "top": null,
       "visibility": null,
       "width": null
      }
     },
     "eb47e1ecaf11463da7b221180628361e": {
      "model_module": "@jupyter-widgets/controls",
      "model_module_version": "1.5.0",
      "model_name": "HTMLModel",
      "state": {
       "_dom_classes": [],
       "_model_module": "@jupyter-widgets/controls",
       "_model_module_version": "1.5.0",
       "_model_name": "HTMLModel",
       "_view_count": null,
       "_view_module": "@jupyter-widgets/controls",
       "_view_module_version": "1.5.0",
       "_view_name": "HTMLView",
       "description": "",
       "description_tooltip": null,
       "layout": "IPY_MODEL_26015a91318c488d9f3ce5dec2daeb4c",
       "placeholder": "​",
       "style": "IPY_MODEL_a0e43b51b8ef4976aa1a22cf25338221",
       "value": "Downloading: 100%"
      }
     },
     "edadd573b8434b7fabf82705b408dbe0": {
      "model_module": "@jupyter-widgets/controls",
      "model_module_version": "1.5.0",
      "model_name": "ProgressStyleModel",
      "state": {
       "_model_module": "@jupyter-widgets/controls",
       "_model_module_version": "1.5.0",
       "_model_name": "ProgressStyleModel",
       "_view_count": null,
       "_view_module": "@jupyter-widgets/base",
       "_view_module_version": "1.2.0",
       "_view_name": "StyleView",
       "bar_color": null,
       "description_width": ""
      }
     },
     "f00ad715b5df471e988e08e6f9682615": {
      "model_module": "@jupyter-widgets/controls",
      "model_module_version": "1.5.0",
      "model_name": "HTMLModel",
      "state": {
       "_dom_classes": [],
       "_model_module": "@jupyter-widgets/controls",
       "_model_module_version": "1.5.0",
       "_model_name": "HTMLModel",
       "_view_count": null,
       "_view_module": "@jupyter-widgets/controls",
       "_view_module_version": "1.5.0",
       "_view_name": "HTMLView",
       "description": "",
       "description_tooltip": null,
       "layout": "IPY_MODEL_960cf9f746444ae785d895fd4b9478f0",
       "placeholder": "​",
       "style": "IPY_MODEL_2c92ff0e6d05451a855fef904ae7e096",
       "value": "Downloading: 100%"
      }
     },
     "f2689f13d9f24c66be523ef69b6bdd48": {
      "model_module": "@jupyter-widgets/controls",
      "model_module_version": "1.5.0",
      "model_name": "ProgressStyleModel",
      "state": {
       "_model_module": "@jupyter-widgets/controls",
       "_model_module_version": "1.5.0",
       "_model_name": "ProgressStyleModel",
       "_view_count": null,
       "_view_module": "@jupyter-widgets/base",
       "_view_module_version": "1.2.0",
       "_view_name": "StyleView",
       "bar_color": null,
       "description_width": ""
      }
     },
     "f620202c9e9642f89d1d521c8b64e17b": {
      "model_module": "@jupyter-widgets/base",
      "model_module_version": "1.2.0",
      "model_name": "LayoutModel",
      "state": {
       "_model_module": "@jupyter-widgets/base",
       "_model_module_version": "1.2.0",
       "_model_name": "LayoutModel",
       "_view_count": null,
       "_view_module": "@jupyter-widgets/base",
       "_view_module_version": "1.2.0",
       "_view_name": "LayoutView",
       "align_content": null,
       "align_items": null,
       "align_self": null,
       "border": null,
       "bottom": null,
       "display": null,
       "flex": null,
       "flex_flow": null,
       "grid_area": null,
       "grid_auto_columns": null,
       "grid_auto_flow": null,
       "grid_auto_rows": null,
       "grid_column": null,
       "grid_gap": null,
       "grid_row": null,
       "grid_template_areas": null,
       "grid_template_columns": null,
       "grid_template_rows": null,
       "height": null,
       "justify_content": null,
       "justify_items": null,
       "left": null,
       "margin": null,
       "max_height": null,
       "max_width": null,
       "min_height": null,
       "min_width": null,
       "object_fit": null,
       "object_position": null,
       "order": null,
       "overflow": null,
       "overflow_x": null,
       "overflow_y": null,
       "padding": null,
       "right": null,
       "top": null,
       "visibility": null,
       "width": null
      }
     },
     "f7ed5d29fb134856a88ec3550f19dd5e": {
      "model_module": "@jupyter-widgets/controls",
      "model_module_version": "1.5.0",
      "model_name": "FloatProgressModel",
      "state": {
       "_dom_classes": [],
       "_model_module": "@jupyter-widgets/controls",
       "_model_module_version": "1.5.0",
       "_model_name": "FloatProgressModel",
       "_view_count": null,
       "_view_module": "@jupyter-widgets/controls",
       "_view_module_version": "1.5.0",
       "_view_name": "ProgressView",
       "bar_style": "success",
       "description": "",
       "description_tooltip": null,
       "layout": "IPY_MODEL_4aa723af8c5c4d758eb4eb986c9a1d80",
       "max": 570.0,
       "min": 0.0,
       "orientation": "horizontal",
       "style": "IPY_MODEL_755646f5572b4fea9faacfe17f75c655",
       "value": 570.0
      }
     },
     "f86c974603724a6f94e381f18811066e": {
      "model_module": "@jupyter-widgets/base",
      "model_module_version": "1.2.0",
      "model_name": "LayoutModel",
      "state": {
       "_model_module": "@jupyter-widgets/base",
       "_model_module_version": "1.2.0",
       "_model_name": "LayoutModel",
       "_view_count": null,
       "_view_module": "@jupyter-widgets/base",
       "_view_module_version": "1.2.0",
       "_view_name": "LayoutView",
       "align_content": null,
       "align_items": null,
       "align_self": null,
       "border": null,
       "bottom": null,
       "display": null,
       "flex": null,
       "flex_flow": null,
       "grid_area": null,
       "grid_auto_columns": null,
       "grid_auto_flow": null,
       "grid_auto_rows": null,
       "grid_column": null,
       "grid_gap": null,
       "grid_row": null,
       "grid_template_areas": null,
       "grid_template_columns": null,
       "grid_template_rows": null,
       "height": null,
       "justify_content": null,
       "justify_items": null,
       "left": null,
       "margin": null,
       "max_height": null,
       "max_width": null,
       "min_height": null,
       "min_width": null,
       "object_fit": null,
       "object_position": null,
       "order": null,
       "overflow": null,
       "overflow_x": null,
       "overflow_y": null,
       "padding": null,
       "right": null,
       "top": null,
       "visibility": null,
       "width": null
      }
     },
     "fcf03451a7034a8b8fe2b57f8a352640": {
      "model_module": "@jupyter-widgets/controls",
      "model_module_version": "1.5.0",
      "model_name": "HBoxModel",
      "state": {
       "_dom_classes": [],
       "_model_module": "@jupyter-widgets/controls",
       "_model_module_version": "1.5.0",
       "_model_name": "HBoxModel",
       "_view_count": null,
       "_view_module": "@jupyter-widgets/controls",
       "_view_module_version": "1.5.0",
       "_view_name": "HBoxView",
       "box_style": "",
       "children": [
        "IPY_MODEL_f00ad715b5df471e988e08e6f9682615",
        "IPY_MODEL_f7ed5d29fb134856a88ec3550f19dd5e",
        "IPY_MODEL_5a0cdc6b4b034892ba7239c1cfe192a7"
       ],
       "layout": "IPY_MODEL_084c1b3d36d54842b202882d71625180"
      }
     },
     "fd73c7b587a4445aa3e60f336022d63b": {
      "model_module": "@jupyter-widgets/controls",
      "model_module_version": "1.5.0",
      "model_name": "HTMLModel",
      "state": {
       "_dom_classes": [],
       "_model_module": "@jupyter-widgets/controls",
       "_model_module_version": "1.5.0",
       "_model_name": "HTMLModel",
       "_view_count": null,
       "_view_module": "@jupyter-widgets/controls",
       "_view_module_version": "1.5.0",
       "_view_name": "HTMLView",
       "description": "",
       "description_tooltip": null,
       "layout": "IPY_MODEL_f86c974603724a6f94e381f18811066e",
       "placeholder": "​",
       "style": "IPY_MODEL_18000a728b9d43c999c2dbf47eb94985",
       "value": "Downloading: 100%"
      }
     }
    },
    "version_major": 2,
    "version_minor": 0
   }
  }
 },
 "nbformat": 4,
 "nbformat_minor": 5
}
