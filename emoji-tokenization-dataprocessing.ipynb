{
 "cells": [
  {
   "cell_type": "code",
   "execution_count": 1,
   "id": "9db67c2d",
   "metadata": {
    "_cell_guid": "b1076dfc-b9ad-4769-8c92-a6c4dae69d19",
    "_uuid": "8f2839f25d086af736a60e9eeb907d3b93b6e0e5",
    "execution": {
     "iopub.execute_input": "2023-02-16T08:04:51.767607Z",
     "iopub.status.busy": "2023-02-16T08:04:51.767135Z",
     "iopub.status.idle": "2023-02-16T08:04:51.778111Z",
     "shell.execute_reply": "2023-02-16T08:04:51.776617Z"
    },
    "papermill": {
     "duration": 0.023962,
     "end_time": "2023-02-16T08:04:51.781327",
     "exception": false,
     "start_time": "2023-02-16T08:04:51.757365",
     "status": "completed"
    },
    "tags": []
   },
   "outputs": [],
   "source": [
    "import pandas as pd"
   ]
  },
  {
   "cell_type": "code",
   "execution_count": 2,
   "id": "8eaf1dbe",
   "metadata": {
    "execution": {
     "iopub.execute_input": "2023-02-16T08:04:51.789937Z",
     "iopub.status.busy": "2023-02-16T08:04:51.789522Z",
     "iopub.status.idle": "2023-02-16T08:04:54.222486Z",
     "shell.execute_reply": "2023-02-16T08:04:54.221025Z"
    },
    "papermill": {
     "duration": 2.440726,
     "end_time": "2023-02-16T08:04:54.225501",
     "exception": false,
     "start_time": "2023-02-16T08:04:51.784775",
     "status": "completed"
    },
    "tags": []
   },
   "outputs": [],
   "source": [
    "df = pd.read_csv('/kaggle/input/masculinity-saturday-twitter-sentiment-analysis/twitter_sentiment_analysis_masculinity_saturday_data_annotated.csv', index_col=0)"
   ]
  },
  {
   "cell_type": "code",
   "execution_count": 3,
   "id": "3a49eb22",
   "metadata": {
    "execution": {
     "iopub.execute_input": "2023-02-16T08:04:54.234527Z",
     "iopub.status.busy": "2023-02-16T08:04:54.234071Z",
     "iopub.status.idle": "2023-02-16T08:04:54.258112Z",
     "shell.execute_reply": "2023-02-16T08:04:54.256942Z"
    },
    "papermill": {
     "duration": 0.031729,
     "end_time": "2023-02-16T08:04:54.260995",
     "exception": false,
     "start_time": "2023-02-16T08:04:54.229266",
     "status": "completed"
    },
    "tags": []
   },
   "outputs": [
    {
     "data": {
      "text/html": [
       "<div>\n",
       "<style scoped>\n",
       "    .dataframe tbody tr th:only-of-type {\n",
       "        vertical-align: middle;\n",
       "    }\n",
       "\n",
       "    .dataframe tbody tr th {\n",
       "        vertical-align: top;\n",
       "    }\n",
       "\n",
       "    .dataframe thead th {\n",
       "        text-align: right;\n",
       "    }\n",
       "</style>\n",
       "<table border=\"1\" class=\"dataframe\">\n",
       "  <thead>\n",
       "    <tr style=\"text-align: right;\">\n",
       "      <th></th>\n",
       "      <th>tweet_created_at</th>\n",
       "      <th>text</th>\n",
       "      <th>Positive</th>\n",
       "      <th>Negative</th>\n",
       "      <th>Neutral</th>\n",
       "      <th>Compound</th>\n",
       "      <th>Sentiment</th>\n",
       "    </tr>\n",
       "  </thead>\n",
       "  <tbody>\n",
       "    <tr>\n",
       "      <th>0</th>\n",
       "      <td>2022-12-30 22:37:46+00:00</td>\n",
       "      <td>Men who have refused to listen to/attend @amer...</td>\n",
       "      <td>0.000</td>\n",
       "      <td>0.073</td>\n",
       "      <td>0.927</td>\n",
       "      <td>-0.2960</td>\n",
       "      <td>Negative</td>\n",
       "    </tr>\n",
       "    <tr>\n",
       "      <th>1</th>\n",
       "      <td>2022-12-30 22:30:58+00:00</td>\n",
       "      <td>@OvOBrezzzy Take amerix next</td>\n",
       "      <td>0.000</td>\n",
       "      <td>0.000</td>\n",
       "      <td>1.000</td>\n",
       "      <td>0.0000</td>\n",
       "      <td>Neutral</td>\n",
       "    </tr>\n",
       "    <tr>\n",
       "      <th>2</th>\n",
       "      <td>2022-12-30 22:18:00+00:00</td>\n",
       "      <td>@AyodeleYo11 @amerix Nah I’m good my masculini...</td>\n",
       "      <td>0.493</td>\n",
       "      <td>0.068</td>\n",
       "      <td>0.439</td>\n",
       "      <td>0.8271</td>\n",
       "      <td>Positive</td>\n",
       "    </tr>\n",
       "    <tr>\n",
       "      <th>3</th>\n",
       "      <td>2022-12-30 20:42:54+00:00</td>\n",
       "      <td>@Amerix_DontSimp There is no need for dating i...</td>\n",
       "      <td>0.000</td>\n",
       "      <td>0.180</td>\n",
       "      <td>0.820</td>\n",
       "      <td>-0.2960</td>\n",
       "      <td>Negative</td>\n",
       "    </tr>\n",
       "    <tr>\n",
       "      <th>4</th>\n",
       "      <td>2022-12-30 20:32:23+00:00</td>\n",
       "      <td>@DyeAnna7 @amerix @kibe From what cos nothing ...</td>\n",
       "      <td>0.110</td>\n",
       "      <td>0.000</td>\n",
       "      <td>0.890</td>\n",
       "      <td>0.6908</td>\n",
       "      <td>Positive</td>\n",
       "    </tr>\n",
       "  </tbody>\n",
       "</table>\n",
       "</div>"
      ],
      "text/plain": [
       "            tweet_created_at  \\\n",
       "0  2022-12-30 22:37:46+00:00   \n",
       "1  2022-12-30 22:30:58+00:00   \n",
       "2  2022-12-30 22:18:00+00:00   \n",
       "3  2022-12-30 20:42:54+00:00   \n",
       "4  2022-12-30 20:32:23+00:00   \n",
       "\n",
       "                                                text  Positive  Negative  \\\n",
       "0  Men who have refused to listen to/attend @amer...     0.000     0.073   \n",
       "1                       @OvOBrezzzy Take amerix next     0.000     0.000   \n",
       "2  @AyodeleYo11 @amerix Nah I’m good my masculini...     0.493     0.068   \n",
       "3  @Amerix_DontSimp There is no need for dating i...     0.000     0.180   \n",
       "4  @DyeAnna7 @amerix @kibe From what cos nothing ...     0.110     0.000   \n",
       "\n",
       "   Neutral  Compound Sentiment  \n",
       "0    0.927   -0.2960  Negative  \n",
       "1    1.000    0.0000   Neutral  \n",
       "2    0.439    0.8271  Positive  \n",
       "3    0.820   -0.2960  Negative  \n",
       "4    0.890    0.6908  Positive  "
      ]
     },
     "execution_count": 3,
     "metadata": {},
     "output_type": "execute_result"
    }
   ],
   "source": [
    "df.head()"
   ]
  },
  {
   "cell_type": "code",
   "execution_count": 4,
   "id": "9ee45256",
   "metadata": {
    "execution": {
     "iopub.execute_input": "2023-02-16T08:04:54.269842Z",
     "iopub.status.busy": "2023-02-16T08:04:54.269382Z",
     "iopub.status.idle": "2023-02-16T08:04:54.352965Z",
     "shell.execute_reply": "2023-02-16T08:04:54.351617Z"
    },
    "papermill": {
     "duration": 0.092611,
     "end_time": "2023-02-16T08:04:54.357152",
     "exception": false,
     "start_time": "2023-02-16T08:04:54.264541",
     "status": "completed"
    },
    "tags": []
   },
   "outputs": [
    {
     "name": "stdout",
     "output_type": "stream",
     "text": [
      "<class 'pandas.core.frame.DataFrame'>\n",
      "Int64Index: 248738 entries, 0 to 248738\n",
      "Data columns (total 7 columns):\n",
      " #   Column            Non-Null Count   Dtype  \n",
      "---  ------            --------------   -----  \n",
      " 0   tweet_created_at  248738 non-null  object \n",
      " 1   text              248738 non-null  object \n",
      " 2   Positive          248738 non-null  float64\n",
      " 3   Negative          248738 non-null  float64\n",
      " 4   Neutral           248738 non-null  float64\n",
      " 5   Compound          248738 non-null  float64\n",
      " 6   Sentiment         248738 non-null  object \n",
      "dtypes: float64(4), object(3)\n",
      "memory usage: 15.2+ MB\n"
     ]
    }
   ],
   "source": [
    "df.info()"
   ]
  },
  {
   "cell_type": "code",
   "execution_count": 5,
   "id": "97c7fe96",
   "metadata": {
    "execution": {
     "iopub.execute_input": "2023-02-16T08:04:54.366483Z",
     "iopub.status.busy": "2023-02-16T08:04:54.366046Z",
     "iopub.status.idle": "2023-02-16T08:04:54.374363Z",
     "shell.execute_reply": "2023-02-16T08:04:54.372616Z"
    },
    "papermill": {
     "duration": 0.015939,
     "end_time": "2023-02-16T08:04:54.377113",
     "exception": false,
     "start_time": "2023-02-16T08:04:54.361174",
     "status": "completed"
    },
    "tags": []
   },
   "outputs": [
    {
     "data": {
      "text/plain": [
       "Index(['tweet_created_at', 'text', 'Positive', 'Negative', 'Neutral',\n",
       "       'Compound', 'Sentiment'],\n",
       "      dtype='object')"
      ]
     },
     "execution_count": 5,
     "metadata": {},
     "output_type": "execute_result"
    }
   ],
   "source": [
    "df.columns"
   ]
  },
  {
   "cell_type": "code",
   "execution_count": 6,
   "id": "334e6002",
   "metadata": {
    "execution": {
     "iopub.execute_input": "2023-02-16T08:04:54.386532Z",
     "iopub.status.busy": "2023-02-16T08:04:54.386134Z",
     "iopub.status.idle": "2023-02-16T08:04:54.407446Z",
     "shell.execute_reply": "2023-02-16T08:04:54.405961Z"
    },
    "papermill": {
     "duration": 0.028488,
     "end_time": "2023-02-16T08:04:54.409722",
     "exception": false,
     "start_time": "2023-02-16T08:04:54.381234",
     "status": "completed"
    },
    "tags": []
   },
   "outputs": [],
   "source": [
    "df = df[['tweet_created_at', 'text', 'Sentiment']]"
   ]
  },
  {
   "cell_type": "code",
   "execution_count": 7,
   "id": "24e0001d",
   "metadata": {
    "execution": {
     "iopub.execute_input": "2023-02-16T08:04:54.419428Z",
     "iopub.status.busy": "2023-02-16T08:04:54.419006Z",
     "iopub.status.idle": "2023-02-16T08:04:54.430609Z",
     "shell.execute_reply": "2023-02-16T08:04:54.429439Z"
    },
    "papermill": {
     "duration": 0.019485,
     "end_time": "2023-02-16T08:04:54.433088",
     "exception": false,
     "start_time": "2023-02-16T08:04:54.413603",
     "status": "completed"
    },
    "tags": []
   },
   "outputs": [
    {
     "data": {
      "text/html": [
       "<div>\n",
       "<style scoped>\n",
       "    .dataframe tbody tr th:only-of-type {\n",
       "        vertical-align: middle;\n",
       "    }\n",
       "\n",
       "    .dataframe tbody tr th {\n",
       "        vertical-align: top;\n",
       "    }\n",
       "\n",
       "    .dataframe thead th {\n",
       "        text-align: right;\n",
       "    }\n",
       "</style>\n",
       "<table border=\"1\" class=\"dataframe\">\n",
       "  <thead>\n",
       "    <tr style=\"text-align: right;\">\n",
       "      <th></th>\n",
       "      <th>tweet_created_at</th>\n",
       "      <th>text</th>\n",
       "      <th>Sentiment</th>\n",
       "    </tr>\n",
       "  </thead>\n",
       "  <tbody>\n",
       "    <tr>\n",
       "      <th>0</th>\n",
       "      <td>2022-12-30 22:37:46+00:00</td>\n",
       "      <td>Men who have refused to listen to/attend @amer...</td>\n",
       "      <td>Negative</td>\n",
       "    </tr>\n",
       "    <tr>\n",
       "      <th>1</th>\n",
       "      <td>2022-12-30 22:30:58+00:00</td>\n",
       "      <td>@OvOBrezzzy Take amerix next</td>\n",
       "      <td>Neutral</td>\n",
       "    </tr>\n",
       "    <tr>\n",
       "      <th>2</th>\n",
       "      <td>2022-12-30 22:18:00+00:00</td>\n",
       "      <td>@AyodeleYo11 @amerix Nah I’m good my masculini...</td>\n",
       "      <td>Positive</td>\n",
       "    </tr>\n",
       "    <tr>\n",
       "      <th>3</th>\n",
       "      <td>2022-12-30 20:42:54+00:00</td>\n",
       "      <td>@Amerix_DontSimp There is no need for dating i...</td>\n",
       "      <td>Negative</td>\n",
       "    </tr>\n",
       "    <tr>\n",
       "      <th>4</th>\n",
       "      <td>2022-12-30 20:32:23+00:00</td>\n",
       "      <td>@DyeAnna7 @amerix @kibe From what cos nothing ...</td>\n",
       "      <td>Positive</td>\n",
       "    </tr>\n",
       "  </tbody>\n",
       "</table>\n",
       "</div>"
      ],
      "text/plain": [
       "            tweet_created_at  \\\n",
       "0  2022-12-30 22:37:46+00:00   \n",
       "1  2022-12-30 22:30:58+00:00   \n",
       "2  2022-12-30 22:18:00+00:00   \n",
       "3  2022-12-30 20:42:54+00:00   \n",
       "4  2022-12-30 20:32:23+00:00   \n",
       "\n",
       "                                                text Sentiment  \n",
       "0  Men who have refused to listen to/attend @amer...  Negative  \n",
       "1                       @OvOBrezzzy Take amerix next   Neutral  \n",
       "2  @AyodeleYo11 @amerix Nah I’m good my masculini...  Positive  \n",
       "3  @Amerix_DontSimp There is no need for dating i...  Negative  \n",
       "4  @DyeAnna7 @amerix @kibe From what cos nothing ...  Positive  "
      ]
     },
     "execution_count": 7,
     "metadata": {},
     "output_type": "execute_result"
    }
   ],
   "source": [
    "df.head()"
   ]
  },
  {
   "cell_type": "code",
   "execution_count": 8,
   "id": "32536eec",
   "metadata": {
    "execution": {
     "iopub.execute_input": "2023-02-16T08:04:54.442797Z",
     "iopub.status.busy": "2023-02-16T08:04:54.441950Z",
     "iopub.status.idle": "2023-02-16T08:04:54.451153Z",
     "shell.execute_reply": "2023-02-16T08:04:54.450027Z"
    },
    "papermill": {
     "duration": 0.01649,
     "end_time": "2023-02-16T08:04:54.453507",
     "exception": false,
     "start_time": "2023-02-16T08:04:54.437017",
     "status": "completed"
    },
    "tags": []
   },
   "outputs": [
    {
     "data": {
      "text/plain": [
       "0     Men who have refused to listen to/attend @amer...\n",
       "1                          @OvOBrezzzy Take amerix next\n",
       "2     @AyodeleYo11 @amerix Nah I’m good my masculini...\n",
       "3     @Amerix_DontSimp There is no need for dating i...\n",
       "4     @DyeAnna7 @amerix @kibe From what cos nothing ...\n",
       "5     @salim_the_don @MwendiaJnr I see you unblocked...\n",
       "6     @german_kenyan @ML_Philosophy 🤣 yes they are a...\n",
       "7     @PadreMusa Amerix once said the alcohol menace...\n",
       "8     @DodoPicard You're in Eastafrica, he probably ...\n",
       "9                      @HBK_ACTIVIST @amerix @kibe Heal\n",
       "10                           Amerix student of the year\n",
       "11    @sholla_saddam These are notes from @amerix's ...\n",
       "12    @amerix I appreciate the intent of this, but I...\n",
       "13    @Mynames_Jefff @Biancawamu2 @amerix Wouldn't b...\n",
       "14    @sharbabababa @Biancawamu2 could be @amerix wife🤷\n",
       "15    @DyeAnna7 @amerix @kibe Was raised by toxic co...\n",
       "16    @butdarkacademia @purevibeezz good thing is An...\n",
       "17    @amerix The system needs you sick and depresse...\n",
       "18    As we end the year 2022, kindly pass my messag...\n",
       "19                       @Ha_thighness @yvng_joh Amerix\n",
       "Name: text, dtype: object"
      ]
     },
     "execution_count": 8,
     "metadata": {},
     "output_type": "execute_result"
    }
   ],
   "source": [
    "df['text'].head(20)"
   ]
  },
  {
   "cell_type": "code",
   "execution_count": null,
   "id": "299e11cc",
   "metadata": {
    "papermill": {
     "duration": 0.00376,
     "end_time": "2023-02-16T08:04:54.462096",
     "exception": false,
     "start_time": "2023-02-16T08:04:54.458336",
     "status": "completed"
    },
    "tags": []
   },
   "outputs": [],
   "source": []
  }
 ],
 "metadata": {
  "kernelspec": {
   "display_name": "Python 3",
   "language": "python",
   "name": "python3"
  },
  "language_info": {
   "codemirror_mode": {
    "name": "ipython",
    "version": 3
   },
   "file_extension": ".py",
   "mimetype": "text/x-python",
   "name": "python",
   "nbconvert_exporter": "python",
   "pygments_lexer": "ipython3",
   "version": "3.7.12"
  },
  "papermill": {
   "default_parameters": {},
   "duration": 12.174767,
   "end_time": "2023-02-16T08:04:55.289697",
   "environment_variables": {},
   "exception": null,
   "input_path": "__notebook__.ipynb",
   "output_path": "__notebook__.ipynb",
   "parameters": {},
   "start_time": "2023-02-16T08:04:43.114930",
   "version": "2.3.4"
  }
 },
 "nbformat": 4,
 "nbformat_minor": 5
}
