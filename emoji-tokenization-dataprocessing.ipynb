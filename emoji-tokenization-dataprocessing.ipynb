{
 "cells": [
  {
   "cell_type": "code",
   "execution_count": 1,
   "id": "e93188a7",
   "metadata": {
    "_cell_guid": "b1076dfc-b9ad-4769-8c92-a6c4dae69d19",
    "_uuid": "8f2839f25d086af736a60e9eeb907d3b93b6e0e5",
    "execution": {
     "iopub.execute_input": "2023-02-16T12:30:33.666253Z",
     "iopub.status.busy": "2023-02-16T12:30:33.665731Z",
     "iopub.status.idle": "2023-02-16T12:30:35.619880Z",
     "shell.execute_reply": "2023-02-16T12:30:35.618690Z"
    },
    "papermill": {
     "duration": 1.972314,
     "end_time": "2023-02-16T12:30:35.622681",
     "exception": false,
     "start_time": "2023-02-16T12:30:33.650367",
     "status": "completed"
    },
    "tags": []
   },
   "outputs": [],
   "source": [
    "import pandas as pd\n",
    "import numpy as np \n",
    "\n",
    "from transformers import AutoTokenizer\n",
    "from transformers import BertTokenizerFast\n",
    "from transformers import BertTokenizer\n",
    "from transformers import RobertaTokenizerFast\n",
    "\n",
    "#from transformers import ROBERTAtokenizer\n",
    "#from transformers import XLNETtokenizer\n",
    "\n",
    "from mlxtend.text import tokenizer_emoticons\n",
    "from nltk.tokenize.casual import TweetTokenizer\n",
    "\n",
    "import matplotlib.pyplot as plt\n",
    "import seaborn as sns\n",
    "\n",
    "import re, string\n",
    "import emoji"
   ]
  },
  {
   "cell_type": "code",
   "execution_count": 2,
   "id": "283f66ee",
   "metadata": {
    "execution": {
     "iopub.execute_input": "2023-02-16T12:30:35.648656Z",
     "iopub.status.busy": "2023-02-16T12:30:35.648264Z",
     "iopub.status.idle": "2023-02-16T12:30:37.509964Z",
     "shell.execute_reply": "2023-02-16T12:30:37.508777Z"
    },
    "papermill": {
     "duration": 1.87786,
     "end_time": "2023-02-16T12:30:37.512575",
     "exception": false,
     "start_time": "2023-02-16T12:30:35.634715",
     "status": "completed"
    },
    "tags": []
   },
   "outputs": [],
   "source": [
    "df = pd.read_csv('/kaggle/input/masculinity-saturday-twitter-sentiment-analysis/twitter_sentiment_analysis_masculinity_saturday_data_annotated.csv', index_col=0)"
   ]
  },
  {
   "cell_type": "code",
   "execution_count": 3,
   "id": "77599805",
   "metadata": {
    "execution": {
     "iopub.execute_input": "2023-02-16T12:30:37.537645Z",
     "iopub.status.busy": "2023-02-16T12:30:37.537208Z",
     "iopub.status.idle": "2023-02-16T12:30:37.556331Z",
     "shell.execute_reply": "2023-02-16T12:30:37.555329Z"
    },
    "papermill": {
     "duration": 0.033895,
     "end_time": "2023-02-16T12:30:37.558497",
     "exception": false,
     "start_time": "2023-02-16T12:30:37.524602",
     "status": "completed"
    },
    "tags": []
   },
   "outputs": [
    {
     "data": {
      "text/html": [
       "<div>\n",
       "<style scoped>\n",
       "    .dataframe tbody tr th:only-of-type {\n",
       "        vertical-align: middle;\n",
       "    }\n",
       "\n",
       "    .dataframe tbody tr th {\n",
       "        vertical-align: top;\n",
       "    }\n",
       "\n",
       "    .dataframe thead th {\n",
       "        text-align: right;\n",
       "    }\n",
       "</style>\n",
       "<table border=\"1\" class=\"dataframe\">\n",
       "  <thead>\n",
       "    <tr style=\"text-align: right;\">\n",
       "      <th></th>\n",
       "      <th>tweet_created_at</th>\n",
       "      <th>text</th>\n",
       "      <th>Positive</th>\n",
       "      <th>Negative</th>\n",
       "      <th>Neutral</th>\n",
       "      <th>Compound</th>\n",
       "      <th>Sentiment</th>\n",
       "    </tr>\n",
       "  </thead>\n",
       "  <tbody>\n",
       "    <tr>\n",
       "      <th>0</th>\n",
       "      <td>2022-12-30 22:37:46+00:00</td>\n",
       "      <td>Men who have refused to listen to/attend @amer...</td>\n",
       "      <td>0.000</td>\n",
       "      <td>0.073</td>\n",
       "      <td>0.927</td>\n",
       "      <td>-0.2960</td>\n",
       "      <td>Negative</td>\n",
       "    </tr>\n",
       "    <tr>\n",
       "      <th>1</th>\n",
       "      <td>2022-12-30 22:30:58+00:00</td>\n",
       "      <td>@OvOBrezzzy Take amerix next</td>\n",
       "      <td>0.000</td>\n",
       "      <td>0.000</td>\n",
       "      <td>1.000</td>\n",
       "      <td>0.0000</td>\n",
       "      <td>Neutral</td>\n",
       "    </tr>\n",
       "    <tr>\n",
       "      <th>2</th>\n",
       "      <td>2022-12-30 22:18:00+00:00</td>\n",
       "      <td>@AyodeleYo11 @amerix Nah I’m good my masculini...</td>\n",
       "      <td>0.493</td>\n",
       "      <td>0.068</td>\n",
       "      <td>0.439</td>\n",
       "      <td>0.8271</td>\n",
       "      <td>Positive</td>\n",
       "    </tr>\n",
       "    <tr>\n",
       "      <th>3</th>\n",
       "      <td>2022-12-30 20:42:54+00:00</td>\n",
       "      <td>@Amerix_DontSimp There is no need for dating i...</td>\n",
       "      <td>0.000</td>\n",
       "      <td>0.180</td>\n",
       "      <td>0.820</td>\n",
       "      <td>-0.2960</td>\n",
       "      <td>Negative</td>\n",
       "    </tr>\n",
       "    <tr>\n",
       "      <th>4</th>\n",
       "      <td>2022-12-30 20:32:23+00:00</td>\n",
       "      <td>@DyeAnna7 @amerix @kibe From what cos nothing ...</td>\n",
       "      <td>0.110</td>\n",
       "      <td>0.000</td>\n",
       "      <td>0.890</td>\n",
       "      <td>0.6908</td>\n",
       "      <td>Positive</td>\n",
       "    </tr>\n",
       "  </tbody>\n",
       "</table>\n",
       "</div>"
      ],
      "text/plain": [
       "            tweet_created_at  \\\n",
       "0  2022-12-30 22:37:46+00:00   \n",
       "1  2022-12-30 22:30:58+00:00   \n",
       "2  2022-12-30 22:18:00+00:00   \n",
       "3  2022-12-30 20:42:54+00:00   \n",
       "4  2022-12-30 20:32:23+00:00   \n",
       "\n",
       "                                                text  Positive  Negative  \\\n",
       "0  Men who have refused to listen to/attend @amer...     0.000     0.073   \n",
       "1                       @OvOBrezzzy Take amerix next     0.000     0.000   \n",
       "2  @AyodeleYo11 @amerix Nah I’m good my masculini...     0.493     0.068   \n",
       "3  @Amerix_DontSimp There is no need for dating i...     0.000     0.180   \n",
       "4  @DyeAnna7 @amerix @kibe From what cos nothing ...     0.110     0.000   \n",
       "\n",
       "   Neutral  Compound Sentiment  \n",
       "0    0.927   -0.2960  Negative  \n",
       "1    1.000    0.0000   Neutral  \n",
       "2    0.439    0.8271  Positive  \n",
       "3    0.820   -0.2960  Negative  \n",
       "4    0.890    0.6908  Positive  "
      ]
     },
     "execution_count": 3,
     "metadata": {},
     "output_type": "execute_result"
    }
   ],
   "source": [
    "df.head()"
   ]
  },
  {
   "cell_type": "code",
   "execution_count": 4,
   "id": "f06e2b2d",
   "metadata": {
    "execution": {
     "iopub.execute_input": "2023-02-16T12:30:37.583628Z",
     "iopub.status.busy": "2023-02-16T12:30:37.583284Z",
     "iopub.status.idle": "2023-02-16T12:30:37.716042Z",
     "shell.execute_reply": "2023-02-16T12:30:37.714956Z"
    },
    "papermill": {
     "duration": 0.148171,
     "end_time": "2023-02-16T12:30:37.718767",
     "exception": false,
     "start_time": "2023-02-16T12:30:37.570596",
     "status": "completed"
    },
    "tags": []
   },
   "outputs": [],
   "source": [
    "df['tweet_created_at'] = pd.to_datetime(df['tweet_created_at'])"
   ]
  },
  {
   "cell_type": "code",
   "execution_count": 5,
   "id": "77b7764f",
   "metadata": {
    "execution": {
     "iopub.execute_input": "2023-02-16T12:30:37.745302Z",
     "iopub.status.busy": "2023-02-16T12:30:37.744919Z",
     "iopub.status.idle": "2023-02-16T12:30:37.751248Z",
     "shell.execute_reply": "2023-02-16T12:30:37.750047Z"
    },
    "papermill": {
     "duration": 0.022405,
     "end_time": "2023-02-16T12:30:37.753363",
     "exception": false,
     "start_time": "2023-02-16T12:30:37.730958",
     "status": "completed"
    },
    "tags": []
   },
   "outputs": [
    {
     "data": {
      "text/plain": [
       "(248738, 7)"
      ]
     },
     "execution_count": 5,
     "metadata": {},
     "output_type": "execute_result"
    }
   ],
   "source": [
    "df.shape"
   ]
  },
  {
   "cell_type": "code",
   "execution_count": 6,
   "id": "32d25c6c",
   "metadata": {
    "execution": {
     "iopub.execute_input": "2023-02-16T12:30:37.779315Z",
     "iopub.status.busy": "2023-02-16T12:30:37.778694Z",
     "iopub.status.idle": "2023-02-16T12:30:38.042843Z",
     "shell.execute_reply": "2023-02-16T12:30:38.041536Z"
    },
    "papermill": {
     "duration": 0.279599,
     "end_time": "2023-02-16T12:30:38.045394",
     "exception": false,
     "start_time": "2023-02-16T12:30:37.765795",
     "status": "completed"
    },
    "tags": []
   },
   "outputs": [],
   "source": [
    "df.drop_duplicates(subset='text',inplace=True)"
   ]
  },
  {
   "cell_type": "code",
   "execution_count": 7,
   "id": "39f14dc8",
   "metadata": {
    "execution": {
     "iopub.execute_input": "2023-02-16T12:30:38.072571Z",
     "iopub.status.busy": "2023-02-16T12:30:38.072089Z",
     "iopub.status.idle": "2023-02-16T12:30:38.080605Z",
     "shell.execute_reply": "2023-02-16T12:30:38.079478Z"
    },
    "papermill": {
     "duration": 0.026335,
     "end_time": "2023-02-16T12:30:38.083677",
     "exception": false,
     "start_time": "2023-02-16T12:30:38.057342",
     "status": "completed"
    },
    "tags": []
   },
   "outputs": [
    {
     "data": {
      "text/plain": [
       "(236023, 7)"
      ]
     },
     "execution_count": 7,
     "metadata": {},
     "output_type": "execute_result"
    }
   ],
   "source": [
    "df.shape"
   ]
  },
  {
   "cell_type": "code",
   "execution_count": 8,
   "id": "e588f80b",
   "metadata": {
    "execution": {
     "iopub.execute_input": "2023-02-16T12:30:38.119513Z",
     "iopub.status.busy": "2023-02-16T12:30:38.118785Z",
     "iopub.status.idle": "2023-02-16T12:30:38.181004Z",
     "shell.execute_reply": "2023-02-16T12:30:38.179573Z"
    },
    "papermill": {
     "duration": 0.085697,
     "end_time": "2023-02-16T12:30:38.183656",
     "exception": false,
     "start_time": "2023-02-16T12:30:38.097959",
     "status": "completed"
    },
    "tags": []
   },
   "outputs": [
    {
     "name": "stdout",
     "output_type": "stream",
     "text": [
      "<class 'pandas.core.frame.DataFrame'>\n",
      "Int64Index: 236023 entries, 0 to 248738\n",
      "Data columns (total 7 columns):\n",
      " #   Column            Non-Null Count   Dtype              \n",
      "---  ------            --------------   -----              \n",
      " 0   tweet_created_at  236023 non-null  datetime64[ns, UTC]\n",
      " 1   text              236023 non-null  object             \n",
      " 2   Positive          236023 non-null  float64            \n",
      " 3   Negative          236023 non-null  float64            \n",
      " 4   Neutral           236023 non-null  float64            \n",
      " 5   Compound          236023 non-null  float64            \n",
      " 6   Sentiment         236023 non-null  object             \n",
      "dtypes: datetime64[ns, UTC](1), float64(4), object(2)\n",
      "memory usage: 14.4+ MB\n"
     ]
    }
   ],
   "source": [
    "df.info()"
   ]
  },
  {
   "cell_type": "code",
   "execution_count": 9,
   "id": "7d5ad049",
   "metadata": {
    "execution": {
     "iopub.execute_input": "2023-02-16T12:30:38.209260Z",
     "iopub.status.busy": "2023-02-16T12:30:38.208868Z",
     "iopub.status.idle": "2023-02-16T12:30:38.215914Z",
     "shell.execute_reply": "2023-02-16T12:30:38.214842Z"
    },
    "papermill": {
     "duration": 0.022449,
     "end_time": "2023-02-16T12:30:38.218103",
     "exception": false,
     "start_time": "2023-02-16T12:30:38.195654",
     "status": "completed"
    },
    "tags": []
   },
   "outputs": [
    {
     "data": {
      "text/plain": [
       "Index(['tweet_created_at', 'text', 'Positive', 'Negative', 'Neutral',\n",
       "       'Compound', 'Sentiment'],\n",
       "      dtype='object')"
      ]
     },
     "execution_count": 9,
     "metadata": {},
     "output_type": "execute_result"
    }
   ],
   "source": [
    "df.columns"
   ]
  },
  {
   "cell_type": "code",
   "execution_count": 10,
   "id": "411f2099",
   "metadata": {
    "execution": {
     "iopub.execute_input": "2023-02-16T12:30:38.243352Z",
     "iopub.status.busy": "2023-02-16T12:30:38.243010Z",
     "iopub.status.idle": "2023-02-16T12:30:38.259942Z",
     "shell.execute_reply": "2023-02-16T12:30:38.258916Z"
    },
    "papermill": {
     "duration": 0.031955,
     "end_time": "2023-02-16T12:30:38.262067",
     "exception": false,
     "start_time": "2023-02-16T12:30:38.230112",
     "status": "completed"
    },
    "tags": []
   },
   "outputs": [],
   "source": [
    "df = df[['tweet_created_at', 'text', 'Sentiment']]"
   ]
  },
  {
   "cell_type": "code",
   "execution_count": 11,
   "id": "7ee17a62",
   "metadata": {
    "execution": {
     "iopub.execute_input": "2023-02-16T12:30:38.288652Z",
     "iopub.status.busy": "2023-02-16T12:30:38.288272Z",
     "iopub.status.idle": "2023-02-16T12:30:38.300138Z",
     "shell.execute_reply": "2023-02-16T12:30:38.299430Z"
    },
    "papermill": {
     "duration": 0.02738,
     "end_time": "2023-02-16T12:30:38.301971",
     "exception": false,
     "start_time": "2023-02-16T12:30:38.274591",
     "status": "completed"
    },
    "tags": []
   },
   "outputs": [
    {
     "data": {
      "text/html": [
       "<div>\n",
       "<style scoped>\n",
       "    .dataframe tbody tr th:only-of-type {\n",
       "        vertical-align: middle;\n",
       "    }\n",
       "\n",
       "    .dataframe tbody tr th {\n",
       "        vertical-align: top;\n",
       "    }\n",
       "\n",
       "    .dataframe thead th {\n",
       "        text-align: right;\n",
       "    }\n",
       "</style>\n",
       "<table border=\"1\" class=\"dataframe\">\n",
       "  <thead>\n",
       "    <tr style=\"text-align: right;\">\n",
       "      <th></th>\n",
       "      <th>tweet_created_at</th>\n",
       "      <th>text</th>\n",
       "      <th>Sentiment</th>\n",
       "    </tr>\n",
       "  </thead>\n",
       "  <tbody>\n",
       "    <tr>\n",
       "      <th>0</th>\n",
       "      <td>2022-12-30 22:37:46+00:00</td>\n",
       "      <td>Men who have refused to listen to/attend @amer...</td>\n",
       "      <td>Negative</td>\n",
       "    </tr>\n",
       "    <tr>\n",
       "      <th>1</th>\n",
       "      <td>2022-12-30 22:30:58+00:00</td>\n",
       "      <td>@OvOBrezzzy Take amerix next</td>\n",
       "      <td>Neutral</td>\n",
       "    </tr>\n",
       "    <tr>\n",
       "      <th>2</th>\n",
       "      <td>2022-12-30 22:18:00+00:00</td>\n",
       "      <td>@AyodeleYo11 @amerix Nah I’m good my masculini...</td>\n",
       "      <td>Positive</td>\n",
       "    </tr>\n",
       "    <tr>\n",
       "      <th>3</th>\n",
       "      <td>2022-12-30 20:42:54+00:00</td>\n",
       "      <td>@Amerix_DontSimp There is no need for dating i...</td>\n",
       "      <td>Negative</td>\n",
       "    </tr>\n",
       "    <tr>\n",
       "      <th>4</th>\n",
       "      <td>2022-12-30 20:32:23+00:00</td>\n",
       "      <td>@DyeAnna7 @amerix @kibe From what cos nothing ...</td>\n",
       "      <td>Positive</td>\n",
       "    </tr>\n",
       "  </tbody>\n",
       "</table>\n",
       "</div>"
      ],
      "text/plain": [
       "           tweet_created_at  \\\n",
       "0 2022-12-30 22:37:46+00:00   \n",
       "1 2022-12-30 22:30:58+00:00   \n",
       "2 2022-12-30 22:18:00+00:00   \n",
       "3 2022-12-30 20:42:54+00:00   \n",
       "4 2022-12-30 20:32:23+00:00   \n",
       "\n",
       "                                                text Sentiment  \n",
       "0  Men who have refused to listen to/attend @amer...  Negative  \n",
       "1                       @OvOBrezzzy Take amerix next   Neutral  \n",
       "2  @AyodeleYo11 @amerix Nah I’m good my masculini...  Positive  \n",
       "3  @Amerix_DontSimp There is no need for dating i...  Negative  \n",
       "4  @DyeAnna7 @amerix @kibe From what cos nothing ...  Positive  "
      ]
     },
     "execution_count": 11,
     "metadata": {},
     "output_type": "execute_result"
    }
   ],
   "source": [
    "df.head()"
   ]
  },
  {
   "cell_type": "code",
   "execution_count": 12,
   "id": "ac1eb1a2",
   "metadata": {
    "execution": {
     "iopub.execute_input": "2023-02-16T12:30:38.328774Z",
     "iopub.status.busy": "2023-02-16T12:30:38.328399Z",
     "iopub.status.idle": "2023-02-16T12:30:38.336655Z",
     "shell.execute_reply": "2023-02-16T12:30:38.335626Z"
    },
    "papermill": {
     "duration": 0.023949,
     "end_time": "2023-02-16T12:30:38.338715",
     "exception": false,
     "start_time": "2023-02-16T12:30:38.314766",
     "status": "completed"
    },
    "tags": []
   },
   "outputs": [
    {
     "data": {
      "text/plain": [
       "0     Men who have refused to listen to/attend @amer...\n",
       "1                          @OvOBrezzzy Take amerix next\n",
       "2     @AyodeleYo11 @amerix Nah I’m good my masculini...\n",
       "3     @Amerix_DontSimp There is no need for dating i...\n",
       "4     @DyeAnna7 @amerix @kibe From what cos nothing ...\n",
       "5     @salim_the_don @MwendiaJnr I see you unblocked...\n",
       "6     @german_kenyan @ML_Philosophy 🤣 yes they are a...\n",
       "7     @PadreMusa Amerix once said the alcohol menace...\n",
       "8     @DodoPicard You're in Eastafrica, he probably ...\n",
       "9                      @HBK_ACTIVIST @amerix @kibe Heal\n",
       "10                           Amerix student of the year\n",
       "11    @sholla_saddam These are notes from @amerix's ...\n",
       "12    @amerix I appreciate the intent of this, but I...\n",
       "13    @Mynames_Jefff @Biancawamu2 @amerix Wouldn't b...\n",
       "14    @sharbabababa @Biancawamu2 could be @amerix wife🤷\n",
       "15    @DyeAnna7 @amerix @kibe Was raised by toxic co...\n",
       "16    @butdarkacademia @purevibeezz good thing is An...\n",
       "17    @amerix The system needs you sick and depresse...\n",
       "18    As we end the year 2022, kindly pass my messag...\n",
       "19                       @Ha_thighness @yvng_joh Amerix\n",
       "Name: text, dtype: object"
      ]
     },
     "execution_count": 12,
     "metadata": {},
     "output_type": "execute_result"
    }
   ],
   "source": [
    "df['text'].head(20)"
   ]
  },
  {
   "cell_type": "code",
   "execution_count": 13,
   "id": "c2e0fe39",
   "metadata": {
    "execution": {
     "iopub.execute_input": "2023-02-16T12:30:38.365651Z",
     "iopub.status.busy": "2023-02-16T12:30:38.365289Z",
     "iopub.status.idle": "2023-02-16T12:30:38.378327Z",
     "shell.execute_reply": "2023-02-16T12:30:38.377294Z"
    },
    "papermill": {
     "duration": 0.028887,
     "end_time": "2023-02-16T12:30:38.380446",
     "exception": false,
     "start_time": "2023-02-16T12:30:38.351559",
     "status": "completed"
    },
    "tags": []
   },
   "outputs": [
    {
     "data": {
      "text/html": [
       "<div>\n",
       "<style scoped>\n",
       "    .dataframe tbody tr th:only-of-type {\n",
       "        vertical-align: middle;\n",
       "    }\n",
       "\n",
       "    .dataframe tbody tr th {\n",
       "        vertical-align: top;\n",
       "    }\n",
       "\n",
       "    .dataframe thead th {\n",
       "        text-align: right;\n",
       "    }\n",
       "</style>\n",
       "<table border=\"1\" class=\"dataframe\">\n",
       "  <thead>\n",
       "    <tr style=\"text-align: right;\">\n",
       "      <th></th>\n",
       "      <th>tweet_created_at</th>\n",
       "      <th>text</th>\n",
       "      <th>Sentiment</th>\n",
       "    </tr>\n",
       "  </thead>\n",
       "  <tbody>\n",
       "    <tr>\n",
       "      <th>248719</th>\n",
       "      <td>2020-01-03 16:00:23+00:00</td>\n",
       "      <td>#FoodFriday means tasty snacks throughout the ...</td>\n",
       "      <td>Neutral</td>\n",
       "    </tr>\n",
       "    <tr>\n",
       "      <th>248720</th>\n",
       "      <td>2020-01-03 15:32:14+00:00</td>\n",
       "      <td>F U E L E D F R I D A Y\\nLooking for a fun, co...</td>\n",
       "      <td>Positive</td>\n",
       "    </tr>\n",
       "    <tr>\n",
       "      <th>248721</th>\n",
       "      <td>2020-01-03 15:15:13+00:00</td>\n",
       "      <td>Kummer reminds you to stay hydrated #foodfrida...</td>\n",
       "      <td>Neutral</td>\n",
       "    </tr>\n",
       "    <tr>\n",
       "      <th>248722</th>\n",
       "      <td>2020-01-03 15:14:57+00:00</td>\n",
       "      <td>Commercial #Kitchens need attention at a great...</td>\n",
       "      <td>Positive</td>\n",
       "    </tr>\n",
       "    <tr>\n",
       "      <th>248723</th>\n",
       "      <td>2020-01-03 15:11:01+00:00</td>\n",
       "      <td>Mary's Meals is changing lives in Zimbabwe htt...</td>\n",
       "      <td>Neutral</td>\n",
       "    </tr>\n",
       "    <tr>\n",
       "      <th>248724</th>\n",
       "      <td>2020-01-03 15:00:48+00:00</td>\n",
       "      <td>Will meat alternatives continue gaining popula...</td>\n",
       "      <td>Positive</td>\n",
       "    </tr>\n",
       "    <tr>\n",
       "      <th>248725</th>\n",
       "      <td>2020-01-03 14:29:10+00:00</td>\n",
       "      <td>These are our top five healthy recipes that yo...</td>\n",
       "      <td>Positive</td>\n",
       "    </tr>\n",
       "    <tr>\n",
       "      <th>248726</th>\n",
       "      <td>2020-01-03 14:01:57+00:00</td>\n",
       "      <td>Burned out on cooking after the holidays? Here...</td>\n",
       "      <td>Positive</td>\n",
       "    </tr>\n",
       "    <tr>\n",
       "      <th>248727</th>\n",
       "      <td>2020-01-03 14:00:38+00:00</td>\n",
       "      <td>Will you eat lettuce that is not grown in soil...</td>\n",
       "      <td>Neutral</td>\n",
       "    </tr>\n",
       "    <tr>\n",
       "      <th>248728</th>\n",
       "      <td>2020-01-03 13:49:24+00:00</td>\n",
       "      <td>#FoodFriday: Is it possible to treat things li...</td>\n",
       "      <td>Negative</td>\n",
       "    </tr>\n",
       "    <tr>\n",
       "      <th>248729</th>\n",
       "      <td>2020-01-03 13:33:59+00:00</td>\n",
       "      <td>Foodies, this particular country is one of our...</td>\n",
       "      <td>Positive</td>\n",
       "    </tr>\n",
       "    <tr>\n",
       "      <th>248730</th>\n",
       "      <td>2020-01-03 13:15:42+00:00</td>\n",
       "      <td>Today is usually #FoodFriday on this timeline....</td>\n",
       "      <td>Negative</td>\n",
       "    </tr>\n",
       "    <tr>\n",
       "      <th>248731</th>\n",
       "      <td>2020-01-03 13:06:15+00:00</td>\n",
       "      <td>#FoodFriday\\n\\nWhat are you cookin' up today o...</td>\n",
       "      <td>Positive</td>\n",
       "    </tr>\n",
       "    <tr>\n",
       "      <th>248732</th>\n",
       "      <td>2020-01-03 12:30:12+00:00</td>\n",
       "      <td>This weeks #FoodFriday is from @WoodsideBay 🍕\\...</td>\n",
       "      <td>Positive</td>\n",
       "    </tr>\n",
       "    <tr>\n",
       "      <th>248733</th>\n",
       "      <td>2020-01-03 12:05:03+00:00</td>\n",
       "      <td>Ring in the New Year with healthy eating. Chec...</td>\n",
       "      <td>Positive</td>\n",
       "    </tr>\n",
       "    <tr>\n",
       "      <th>248734</th>\n",
       "      <td>2020-01-03 11:15:48+00:00</td>\n",
       "      <td>'The old fool forgot the lessons of Blodeuwedd...</td>\n",
       "      <td>Negative</td>\n",
       "    </tr>\n",
       "    <tr>\n",
       "      <th>248735</th>\n",
       "      <td>2020-01-03 10:08:33+00:00</td>\n",
       "      <td>African star Apple (Udara).\\nRich source of vi...</td>\n",
       "      <td>Positive</td>\n",
       "    </tr>\n",
       "    <tr>\n",
       "      <th>248736</th>\n",
       "      <td>2020-01-03 06:44:33+00:00</td>\n",
       "      <td>#FOODFRIDAY 🇮🇹🍫\\nIf you love chocolate, then b...</td>\n",
       "      <td>Positive</td>\n",
       "    </tr>\n",
       "    <tr>\n",
       "      <th>248737</th>\n",
       "      <td>2020-01-03 06:31:10+00:00</td>\n",
       "      <td>#foodfriday @baghdadcafeCT hey offer a variety...</td>\n",
       "      <td>Positive</td>\n",
       "    </tr>\n",
       "    <tr>\n",
       "      <th>248738</th>\n",
       "      <td>2020-01-03 04:30:00+00:00</td>\n",
       "      <td>This Mangalorean special chicken curry can be ...</td>\n",
       "      <td>Positive</td>\n",
       "    </tr>\n",
       "  </tbody>\n",
       "</table>\n",
       "</div>"
      ],
      "text/plain": [
       "                tweet_created_at  \\\n",
       "248719 2020-01-03 16:00:23+00:00   \n",
       "248720 2020-01-03 15:32:14+00:00   \n",
       "248721 2020-01-03 15:15:13+00:00   \n",
       "248722 2020-01-03 15:14:57+00:00   \n",
       "248723 2020-01-03 15:11:01+00:00   \n",
       "248724 2020-01-03 15:00:48+00:00   \n",
       "248725 2020-01-03 14:29:10+00:00   \n",
       "248726 2020-01-03 14:01:57+00:00   \n",
       "248727 2020-01-03 14:00:38+00:00   \n",
       "248728 2020-01-03 13:49:24+00:00   \n",
       "248729 2020-01-03 13:33:59+00:00   \n",
       "248730 2020-01-03 13:15:42+00:00   \n",
       "248731 2020-01-03 13:06:15+00:00   \n",
       "248732 2020-01-03 12:30:12+00:00   \n",
       "248733 2020-01-03 12:05:03+00:00   \n",
       "248734 2020-01-03 11:15:48+00:00   \n",
       "248735 2020-01-03 10:08:33+00:00   \n",
       "248736 2020-01-03 06:44:33+00:00   \n",
       "248737 2020-01-03 06:31:10+00:00   \n",
       "248738 2020-01-03 04:30:00+00:00   \n",
       "\n",
       "                                                     text Sentiment  \n",
       "248719  #FoodFriday means tasty snacks throughout the ...   Neutral  \n",
       "248720  F U E L E D F R I D A Y\\nLooking for a fun, co...  Positive  \n",
       "248721  Kummer reminds you to stay hydrated #foodfrida...   Neutral  \n",
       "248722  Commercial #Kitchens need attention at a great...  Positive  \n",
       "248723  Mary's Meals is changing lives in Zimbabwe htt...   Neutral  \n",
       "248724  Will meat alternatives continue gaining popula...  Positive  \n",
       "248725  These are our top five healthy recipes that yo...  Positive  \n",
       "248726  Burned out on cooking after the holidays? Here...  Positive  \n",
       "248727  Will you eat lettuce that is not grown in soil...   Neutral  \n",
       "248728  #FoodFriday: Is it possible to treat things li...  Negative  \n",
       "248729  Foodies, this particular country is one of our...  Positive  \n",
       "248730  Today is usually #FoodFriday on this timeline....  Negative  \n",
       "248731  #FoodFriday\\n\\nWhat are you cookin' up today o...  Positive  \n",
       "248732  This weeks #FoodFriday is from @WoodsideBay 🍕\\...  Positive  \n",
       "248733  Ring in the New Year with healthy eating. Chec...  Positive  \n",
       "248734  'The old fool forgot the lessons of Blodeuwedd...  Negative  \n",
       "248735  African star Apple (Udara).\\nRich source of vi...  Positive  \n",
       "248736  #FOODFRIDAY 🇮🇹🍫\\nIf you love chocolate, then b...  Positive  \n",
       "248737  #foodfriday @baghdadcafeCT hey offer a variety...  Positive  \n",
       "248738  This Mangalorean special chicken curry can be ...  Positive  "
      ]
     },
     "execution_count": 13,
     "metadata": {},
     "output_type": "execute_result"
    }
   ],
   "source": [
    "df.tail(20)"
   ]
  },
  {
   "cell_type": "code",
   "execution_count": 14,
   "id": "774dbd33",
   "metadata": {
    "execution": {
     "iopub.execute_input": "2023-02-16T12:30:38.408691Z",
     "iopub.status.busy": "2023-02-16T12:30:38.408303Z",
     "iopub.status.idle": "2023-02-16T12:30:44.488280Z",
     "shell.execute_reply": "2023-02-16T12:30:44.487187Z"
    },
    "papermill": {
     "duration": 6.09704,
     "end_time": "2023-02-16T12:30:44.490963",
     "exception": false,
     "start_time": "2023-02-16T12:30:38.393923",
     "status": "completed"
    },
    "tags": []
   },
   "outputs": [
    {
     "data": {
      "application/vnd.jupyter.widget-view+json": {
       "model_id": "8cd6595c6adb4e279f30721d704e757c",
       "version_major": 2,
       "version_minor": 0
      },
      "text/plain": [
       "Downloading:   0%|          | 0.00/28.0 [00:00<?, ?B/s]"
      ]
     },
     "metadata": {},
     "output_type": "display_data"
    },
    {
     "data": {
      "application/vnd.jupyter.widget-view+json": {
       "model_id": "270b16edfb8349b8800d30ec9ad185a4",
       "version_major": 2,
       "version_minor": 0
      },
      "text/plain": [
       "Downloading:   0%|          | 0.00/226k [00:00<?, ?B/s]"
      ]
     },
     "metadata": {},
     "output_type": "display_data"
    },
    {
     "data": {
      "application/vnd.jupyter.widget-view+json": {
       "model_id": "1fca26ce34de4ac58a80ffab0681417b",
       "version_major": 2,
       "version_minor": 0
      },
      "text/plain": [
       "Downloading:   0%|          | 0.00/455k [00:00<?, ?B/s]"
      ]
     },
     "metadata": {},
     "output_type": "display_data"
    },
    {
     "data": {
      "application/vnd.jupyter.widget-view+json": {
       "model_id": "6fb8c52bc3e141179e761edbd0c3e4ac",
       "version_major": 2,
       "version_minor": 0
      },
      "text/plain": [
       "Downloading:   0%|          | 0.00/570 [00:00<?, ?B/s]"
      ]
     },
     "metadata": {},
     "output_type": "display_data"
    }
   ],
   "source": [
    "tokenizer = BertTokenizerFast.from_pretrained('bert-base-uncased')"
   ]
  },
  {
   "cell_type": "code",
   "execution_count": 15,
   "id": "682b2a1f",
   "metadata": {
    "execution": {
     "iopub.execute_input": "2023-02-16T12:30:44.520843Z",
     "iopub.status.busy": "2023-02-16T12:30:44.520440Z",
     "iopub.status.idle": "2023-02-16T12:30:48.725941Z",
     "shell.execute_reply": "2023-02-16T12:30:48.724696Z"
    },
    "papermill": {
     "duration": 4.223362,
     "end_time": "2023-02-16T12:30:48.728527",
     "exception": false,
     "start_time": "2023-02-16T12:30:44.505165",
     "status": "completed"
    },
    "tags": []
   },
   "outputs": [],
   "source": [
    "tokenizer_1 = AutoTokenizer.from_pretrained('bert-base-uncased')"
   ]
  },
  {
   "cell_type": "code",
   "execution_count": 16,
   "id": "5bce43ca",
   "metadata": {
    "execution": {
     "iopub.execute_input": "2023-02-16T12:30:48.758659Z",
     "iopub.status.busy": "2023-02-16T12:30:48.758290Z",
     "iopub.status.idle": "2023-02-16T12:30:57.507777Z",
     "shell.execute_reply": "2023-02-16T12:30:57.506496Z"
    },
    "papermill": {
     "duration": 8.767011,
     "end_time": "2023-02-16T12:30:57.509930",
     "exception": false,
     "start_time": "2023-02-16T12:30:48.742919",
     "status": "completed"
    },
    "tags": []
   },
   "outputs": [
    {
     "name": "stdout",
     "output_type": "stream",
     "text": [
      "99.80984576378619% of the emojis are not identified by this tokenizer.\n"
     ]
    }
   ],
   "source": [
    "emoji_list = list(emoji.EMOJI_DATA.keys())\n",
    "\n",
    "cnt = 0\n",
    "\n",
    "for e in emoji_list:\n",
    "    tokenized = tokenizer.decode(tokenizer.encode(e)).strip(\"</s>\").strip()\n",
    "    if e not in tokenized:\n",
    "        cnt += 1\n",
    "print(f\"{cnt/len(emoji_list)*100}% of the emojis are not identified by this tokenizer.\")"
   ]
  },
  {
   "cell_type": "code",
   "execution_count": 17,
   "id": "b8d34eec",
   "metadata": {
    "execution": {
     "iopub.execute_input": "2023-02-16T12:30:57.538273Z",
     "iopub.status.busy": "2023-02-16T12:30:57.537088Z",
     "iopub.status.idle": "2023-02-16T12:30:57.909603Z",
     "shell.execute_reply": "2023-02-16T12:30:57.908218Z"
    },
    "papermill": {
     "duration": 0.388919,
     "end_time": "2023-02-16T12:30:57.911905",
     "exception": false,
     "start_time": "2023-02-16T12:30:57.522986",
     "status": "completed"
    },
    "tags": []
   },
   "outputs": [
    {
     "name": "stdout",
     "output_type": "stream",
     "text": [
      "99.80984576378619% of the emojis are not identified by this tokenizer.\n"
     ]
    }
   ],
   "source": [
    "emoji_list = list(emoji.EMOJI_DATA.keys())\n",
    "\n",
    "cnt = 0\n",
    "\n",
    "for e in emoji_list:\n",
    "    tokenized = tokenizer_1.decode(tokenizer_1.encode(e)).strip(\"</s>\").strip()\n",
    "    if e not in tokenized:\n",
    "        cnt += 1\n",
    "print(f\"{cnt/len(emoji_list)*100}% of the emojis are not identified by this tokenizer.\")"
   ]
  },
  {
   "cell_type": "code",
   "execution_count": 18,
   "id": "ba0bdddd",
   "metadata": {
    "execution": {
     "iopub.execute_input": "2023-02-16T12:30:57.942104Z",
     "iopub.status.busy": "2023-02-16T12:30:57.941013Z",
     "iopub.status.idle": "2023-02-16T12:31:00.310315Z",
     "shell.execute_reply": "2023-02-16T12:31:00.309383Z"
    },
    "papermill": {
     "duration": 2.386724,
     "end_time": "2023-02-16T12:31:00.312924",
     "exception": false,
     "start_time": "2023-02-16T12:30:57.926200",
     "status": "completed"
    },
    "tags": []
   },
   "outputs": [],
   "source": [
    "tokenizer_3 = BertTokenizer.from_pretrained('bert-base-uncased')"
   ]
  },
  {
   "cell_type": "code",
   "execution_count": 19,
   "id": "0f4cb143",
   "metadata": {
    "execution": {
     "iopub.execute_input": "2023-02-16T12:31:00.342667Z",
     "iopub.status.busy": "2023-02-16T12:31:00.342310Z",
     "iopub.status.idle": "2023-02-16T12:31:01.185210Z",
     "shell.execute_reply": "2023-02-16T12:31:01.184195Z"
    },
    "papermill": {
     "duration": 0.860192,
     "end_time": "2023-02-16T12:31:01.187566",
     "exception": false,
     "start_time": "2023-02-16T12:31:00.327374",
     "status": "completed"
    },
    "tags": []
   },
   "outputs": [
    {
     "name": "stdout",
     "output_type": "stream",
     "text": [
      "99.80984576378619% of the emojis are not identified by this tokenizer.\n"
     ]
    }
   ],
   "source": [
    "emoji_list = list(emoji.EMOJI_DATA.keys())\n",
    "\n",
    "cnt = 0\n",
    "\n",
    "for e in emoji_list:\n",
    "    tokenized = tokenizer_3.decode(tokenizer_3.encode(e)).strip(\"</s>\").strip()\n",
    "    if e not in tokenized:\n",
    "        cnt += 1\n",
    "print(f\"{cnt/len(emoji_list)*100}% of the emojis are not identified by this tokenizer.\")"
   ]
  },
  {
   "cell_type": "code",
   "execution_count": 20,
   "id": "549dd4ac",
   "metadata": {
    "execution": {
     "iopub.execute_input": "2023-02-16T12:31:01.216042Z",
     "iopub.status.busy": "2023-02-16T12:31:01.215723Z",
     "iopub.status.idle": "2023-02-16T12:31:09.657001Z",
     "shell.execute_reply": "2023-02-16T12:31:09.655998Z"
    },
    "papermill": {
     "duration": 8.458156,
     "end_time": "2023-02-16T12:31:09.659692",
     "exception": false,
     "start_time": "2023-02-16T12:31:01.201536",
     "status": "completed"
    },
    "tags": []
   },
   "outputs": [
    {
     "data": {
      "application/vnd.jupyter.widget-view+json": {
       "model_id": "fb04a62455a8452e9775eaa28c3f7345",
       "version_major": 2,
       "version_minor": 0
      },
      "text/plain": [
       "Downloading:   0%|          | 0.00/656 [00:00<?, ?B/s]"
      ]
     },
     "metadata": {},
     "output_type": "display_data"
    },
    {
     "data": {
      "application/vnd.jupyter.widget-view+json": {
       "model_id": "ac6e946e756f4b219299edc7bcecdb34",
       "version_major": 2,
       "version_minor": 0
      },
      "text/plain": [
       "Downloading:   0%|          | 0.00/797k [00:00<?, ?B/s]"
      ]
     },
     "metadata": {},
     "output_type": "display_data"
    },
    {
     "data": {
      "application/vnd.jupyter.widget-view+json": {
       "model_id": "4fc8247fd4364ca18399a83e30ce2842",
       "version_major": 2,
       "version_minor": 0
      },
      "text/plain": [
       "Downloading:   0%|          | 0.00/448k [00:00<?, ?B/s]"
      ]
     },
     "metadata": {},
     "output_type": "display_data"
    },
    {
     "data": {
      "application/vnd.jupyter.widget-view+json": {
       "model_id": "99d9ce67fc5b48a191f93bbcc86e09cb",
       "version_major": 2,
       "version_minor": 0
      },
      "text/plain": [
       "Downloading:   0%|          | 0.00/1.21M [00:00<?, ?B/s]"
      ]
     },
     "metadata": {},
     "output_type": "display_data"
    }
   ],
   "source": [
    "tokenizer_4 = AutoTokenizer.from_pretrained(\"openai-gpt\")"
   ]
  },
  {
   "cell_type": "code",
   "execution_count": 21,
   "id": "610e5514",
   "metadata": {
    "execution": {
     "iopub.execute_input": "2023-02-16T12:31:09.691373Z",
     "iopub.status.busy": "2023-02-16T12:31:09.690972Z",
     "iopub.status.idle": "2023-02-16T12:31:10.030093Z",
     "shell.execute_reply": "2023-02-16T12:31:10.028885Z"
    },
    "papermill": {
     "duration": 0.357093,
     "end_time": "2023-02-16T12:31:10.032423",
     "exception": false,
     "start_time": "2023-02-16T12:31:09.675330",
     "status": "completed"
    },
    "tags": []
   },
   "outputs": [
    {
     "name": "stdout",
     "output_type": "stream",
     "text": [
      "99.80984576378619% of the emojis are not identified by this tokenizer.\n"
     ]
    }
   ],
   "source": [
    "emoji_list = list(emoji.EMOJI_DATA.keys())\n",
    "\n",
    "cnt = 0\n",
    "\n",
    "for e in emoji_list:\n",
    "    tokenized = tokenizer_4.decode(tokenizer_4.encode(e)).strip(\"</s>\").strip()\n",
    "    if e not in tokenized:\n",
    "        cnt += 1\n",
    "print(f\"{cnt/len(emoji_list)*100}% of the emojis are not identified by this tokenizer.\")"
   ]
  },
  {
   "cell_type": "code",
   "execution_count": 22,
   "id": "92334419",
   "metadata": {
    "execution": {
     "iopub.execute_input": "2023-02-16T12:31:10.064326Z",
     "iopub.status.busy": "2023-02-16T12:31:10.063157Z",
     "iopub.status.idle": "2023-02-16T12:31:10.068530Z",
     "shell.execute_reply": "2023-02-16T12:31:10.067666Z"
    },
    "papermill": {
     "duration": 0.023078,
     "end_time": "2023-02-16T12:31:10.070395",
     "exception": false,
     "start_time": "2023-02-16T12:31:10.047317",
     "status": "completed"
    },
    "tags": []
   },
   "outputs": [],
   "source": [
    "def emoji2description(text):\n",
    "\n",
    "    return emoji.replace_emoji(text, replace=lambda chars, data_dict: ' '.join(data_dict['en'].split('_')).strip(':'))"
   ]
  },
  {
   "cell_type": "code",
   "execution_count": 23,
   "id": "28d04033",
   "metadata": {
    "execution": {
     "iopub.execute_input": "2023-02-16T12:31:10.101377Z",
     "iopub.status.busy": "2023-02-16T12:31:10.100375Z",
     "iopub.status.idle": "2023-02-16T12:31:10.106028Z",
     "shell.execute_reply": "2023-02-16T12:31:10.105168Z"
    },
    "papermill": {
     "duration": 0.023186,
     "end_time": "2023-02-16T12:31:10.108084",
     "exception": false,
     "start_time": "2023-02-16T12:31:10.084898",
     "status": "completed"
    },
    "tags": []
   },
   "outputs": [],
   "source": [
    "def emoji2concat_emoji(text):\n",
    "    emoji_list = emoji.emoji_list(text)\n",
    "    ret = emoji.replace_emoji(text, replace='').strip()\n",
    "    for json in emoji_list:\n",
    "        this_emoji = json['emoji']\n",
    "        ret += ' ' + this_emoji\n",
    "    return ret"
   ]
  },
  {
   "cell_type": "code",
   "execution_count": 24,
   "id": "3e3d132c",
   "metadata": {
    "execution": {
     "iopub.execute_input": "2023-02-16T12:31:10.139723Z",
     "iopub.status.busy": "2023-02-16T12:31:10.139387Z",
     "iopub.status.idle": "2023-02-16T12:31:10.145097Z",
     "shell.execute_reply": "2023-02-16T12:31:10.144157Z"
    },
    "papermill": {
     "duration": 0.02411,
     "end_time": "2023-02-16T12:31:10.147268",
     "exception": false,
     "start_time": "2023-02-16T12:31:10.123158",
     "status": "completed"
    },
    "tags": []
   },
   "outputs": [],
   "source": [
    "def emoji2concat_description(text):\n",
    "    emoji_list = emoji.emoji_list(text)\n",
    "    ret = emoji.replace_emoji(text, replace='').strip()\n",
    "    for json in emoji_list:\n",
    "        this_desc = ' '.join(emoji.EMOJI_DATA[json['emoji']]['en'].split('_')).strip(':')\n",
    "        ret += ' ' + this_desc\n",
    "    return ret"
   ]
  },
  {
   "cell_type": "code",
   "execution_count": 25,
   "id": "224c7ab8",
   "metadata": {
    "execution": {
     "iopub.execute_input": "2023-02-16T12:31:10.177439Z",
     "iopub.status.busy": "2023-02-16T12:31:10.176609Z",
     "iopub.status.idle": "2023-02-16T12:32:11.435552Z",
     "shell.execute_reply": "2023-02-16T12:32:11.434619Z"
    },
    "papermill": {
     "duration": 61.276818,
     "end_time": "2023-02-16T12:32:11.438359",
     "exception": false,
     "start_time": "2023-02-16T12:31:10.161541",
     "status": "completed"
    },
    "tags": []
   },
   "outputs": [],
   "source": [
    "texts_new = []\n",
    "\n",
    "for t in df.text:\n",
    "    texts_new.append(\n",
    "        emoji2description(emoji2concat_emoji(emoji2concat_description((t))))\n",
    "    )"
   ]
  },
  {
   "cell_type": "code",
   "execution_count": 26,
   "id": "4c869e0b",
   "metadata": {
    "execution": {
     "iopub.execute_input": "2023-02-16T12:32:11.467744Z",
     "iopub.status.busy": "2023-02-16T12:32:11.467397Z",
     "iopub.status.idle": "2023-02-16T12:32:11.502819Z",
     "shell.execute_reply": "2023-02-16T12:32:11.501973Z"
    },
    "papermill": {
     "duration": 0.052804,
     "end_time": "2023-02-16T12:32:11.505149",
     "exception": false,
     "start_time": "2023-02-16T12:32:11.452345",
     "status": "completed"
    },
    "tags": []
   },
   "outputs": [],
   "source": [
    "df['text_clean'] = texts_new"
   ]
  },
  {
   "cell_type": "code",
   "execution_count": 27,
   "id": "7e26c7f1",
   "metadata": {
    "execution": {
     "iopub.execute_input": "2023-02-16T12:32:11.534718Z",
     "iopub.status.busy": "2023-02-16T12:32:11.534092Z",
     "iopub.status.idle": "2023-02-16T12:32:11.541299Z",
     "shell.execute_reply": "2023-02-16T12:32:11.540293Z"
    },
    "papermill": {
     "duration": 0.02417,
     "end_time": "2023-02-16T12:32:11.543471",
     "exception": false,
     "start_time": "2023-02-16T12:32:11.519301",
     "status": "completed"
    },
    "tags": []
   },
   "outputs": [
    {
     "data": {
      "text/plain": [
       "array(['#FoodFriday means tasty snacks throughout the day!\\n😋💙🥄🍫\\n📷 : @flexible_nati\\n#haveaplant https://t.co/pNSAHV2hDh',\n",
       "       'F U E L E D F R I D A Y\\nLooking for a fun, colorful and healthy recipe to kick off the new year? Well, check out this delicious and beautiful dish!\\n・・・\\nEggs baked in Veggie Nests. Head over to our insta for the recipe. 🤤\\n\\n#fueledfriday #foodfriday #runinrabbit #borntorunfree https://t.co/2Fwez5uYb2',\n",
       "       'Kummer reminds you to stay hydrated #foodfriday https://t.co/rkZmatd97f',\n",
       "       'Commercial #Kitchens need attention at a great price! 🦏 Rhino Shine has a solid plan unlike #JasonGarrett future 🤷🏻\\u200d♂️. #Dallas #winning #coupons #restaurant #hood #cleaning #foodfriday #trucks https://t.co/U0V5BO33uo',\n",
       "       \"Mary's Meals is changing lives in Zimbabwe https://t.co/bioEZAt47N #feelgoodfriday #FoodFriday\",\n",
       "       'Will meat alternatives continue gaining popularity in 2020? https://t.co/wzvi1XOBmj via @YourMorning ht  @LetsTalkScience 🥬🍔🤑 #food #health #diet #nutrition #meatless #plantbased #Vegan #vegetarian #HealthyLiving #HealthyEating #BusinessGrowth #business #FoodFriday',\n",
       "       'These are our top five healthy recipes that you can throw together in the morning and enjoy in the evening (as well as take leftovers for lunch the next day).\\n#FoodFriday #EatHealthy #NewYearNewYou #PersonalTraining #FitnessTogether                       https://t.co/TiKGdeqr1p',\n",
       "       \"Burned out on cooking after the holidays? Here's a selection of quick and easy meals to get you inspired #FoodFriday\\nhttps://t.co/uLYOPeQHQc https://t.co/nyWopWqh79\",\n",
       "       'Will you eat lettuce that is not grown in soil? Large scale #Hydroponics can produce hyper local food in a small space, even shipping containers or in your own home. https://t.co/Ogy8UgHMUt #FoodFriday',\n",
       "       '#FoodFriday: Is it possible to treat things like anxiety and depression with food? https://t.co/93Ez7VwziK\\n#KinderInTheKeys #MentalHealth #Anxiety #PTSD #Depression #Trauma #Recovery #Healing #Treatment #Food #Wellness',\n",
       "       \"Foodies, this particular country is one of our FAV when it comes to FOOD!! 🥘🍲🥗🍜\\n\\nLet's see if you can guess it!! 🤓\\n\\n#FoodFriday #GuessGame #Guess #Fun #FridayThoughts #foodie https://t.co/gK3x3uMArb\",\n",
       "       'Today is usually #FoodFriday on this timeline.\\n\\nI tweet about food. \\n\\nIf you can postpone your instant gratification from bad foods, you can postpone bad habits in your life.\\n\\nHow you approach food is evidently how you approach your other aspects of life.\\n\\n#FoodFriday',\n",
       "       \"#FoodFriday\\n\\nWhat are you cookin' up today or this weekend? What's your favorite recipe? Looking for some new ideas! https://t.co/3VRQTRCxd3\",\n",
       "       'This weeks #FoodFriday is from @WoodsideBay 🍕\\n\\nWould you be interested in a #Chef position with us?\\nThen why not visit the Darwin Escapes website, locate the Careers tab and search for our Chef vacancies 😀\\n\\n#Jobs https://t.co/FWNknvURhn',\n",
       "       'Ring in the New Year with healthy eating. Checkout #ClickNCook #healthrecipe Fruity Homemade Oatmeal. https://t.co/7XR3tw6XsH\\n#FoodFriday',\n",
       "       \"'The old fool forgot the lessons of Blodeuwedd and Frankenstein: never create anything smarter, or more ruthless, than yourself.'\\n.\\n#FoodFriday featuring cheesecake (that I'd been craving since Tuesday but been too lazy to…\\n\\n📸 https://t.co/U6yxC4h3sz via https://t.co/Z51VYxAyBJ https://t.co/8f5Lqkp8hm\",\n",
       "       'African star Apple (Udara).\\nRich source of vita.C is one of the wonderful fruits offered by nature with important health benefits.\\nRanging from tackling toothache, mouth gum disease, soar throat, helps in weight loss and good for expecting mothers \\n\\n#FoodFriday\\n#CoalCityConnect https://t.co/ODyfnS8VVm',\n",
       "       '#FOODFRIDAY 🇮🇹🍫\\nIf you love chocolate, then board the first flight to California. The Nutella Pop Up Hotel is about to open. Discover more in this video. Do you know? Nutella is an Italian product...of course!\\n#italy #food #nutella #language #school… https://t.co/bgG5haT6mQ https://t.co/gw0JhCqZHE',\n",
       "       '#foodfriday @baghdadcafeCT hey offer a variety of delicious foods, from pizza to tacos and sticky wings! For your convenience they also avail on @ubereats_za https://t.co/P8sdNvfMcg',\n",
       "       'This Mangalorean special chicken curry can be paired best with neer dosa or steamed rice. What’s your pick?\\nRecipe Link: https://t.co/iyYCpcuoeA\\n#FoodFriday https://t.co/Bke1o79Zio'],\n",
       "      dtype=object)"
      ]
     },
     "execution_count": 27,
     "metadata": {},
     "output_type": "execute_result"
    }
   ],
   "source": [
    "df['text'].tail(20).values"
   ]
  },
  {
   "cell_type": "code",
   "execution_count": 28,
   "id": "1dcb47cc",
   "metadata": {
    "execution": {
     "iopub.execute_input": "2023-02-16T12:32:11.574038Z",
     "iopub.status.busy": "2023-02-16T12:32:11.573733Z",
     "iopub.status.idle": "2023-02-16T12:32:11.581051Z",
     "shell.execute_reply": "2023-02-16T12:32:11.580048Z"
    },
    "papermill": {
     "duration": 0.025041,
     "end_time": "2023-02-16T12:32:11.583068",
     "exception": false,
     "start_time": "2023-02-16T12:32:11.558027",
     "status": "completed"
    },
    "tags": []
   },
   "outputs": [
    {
     "data": {
      "text/plain": [
       "array(['#FoodFriday means tasty snacks throughout the day!\\n\\n : @flexible_nati\\n#haveaplant https://t.co/pNSAHV2hDh face savoring food blue heart spoon chocolate bar camera',\n",
       "       'F U E L E D F R I D A Y\\nLooking for a fun, colorful and healthy recipe to kick off the new year? Well, check out this delicious and beautiful dish!\\n・・・\\nEggs baked in Veggie Nests. Head over to our insta for the recipe. \\n\\n#fueledfriday #foodfriday #runinrabbit #borntorunfree https://t.co/2Fwez5uYb2 drooling face',\n",
       "       'Kummer reminds you to stay hydrated #foodfriday https://t.co/rkZmatd97f',\n",
       "       'Commercial #Kitchens need attention at a great price!  Rhino Shine has a solid plan unlike #JasonGarrett future . #Dallas #winning #coupons #restaurant #hood #cleaning #foodfriday #trucks https://t.co/U0V5BO33uo rhinoceros man shrugging light skin tone',\n",
       "       \"Mary's Meals is changing lives in Zimbabwe https://t.co/bioEZAt47N #feelgoodfriday #FoodFriday\",\n",
       "       'Will meat alternatives continue gaining popularity in 2020? https://t.co/wzvi1XOBmj via @YourMorning ht  @LetsTalkScience  #food #health #diet #nutrition #meatless #plantbased #Vegan #vegetarian #HealthyLiving #HealthyEating #BusinessGrowth #business #FoodFriday leafy green hamburger money-mouth face',\n",
       "       'These are our top five healthy recipes that you can throw together in the morning and enjoy in the evening (as well as take leftovers for lunch the next day).\\n#FoodFriday #EatHealthy #NewYearNewYou #PersonalTraining #FitnessTogether                       https://t.co/TiKGdeqr1p',\n",
       "       \"Burned out on cooking after the holidays? Here's a selection of quick and easy meals to get you inspired #FoodFriday\\nhttps://t.co/uLYOPeQHQc https://t.co/nyWopWqh79\",\n",
       "       'Will you eat lettuce that is not grown in soil? Large scale #Hydroponics can produce hyper local food in a small space, even shipping containers or in your own home. https://t.co/Ogy8UgHMUt #FoodFriday',\n",
       "       '#FoodFriday: Is it possible to treat things like anxiety and depression with food? https://t.co/93Ez7VwziK\\n#KinderInTheKeys #MentalHealth #Anxiety #PTSD #Depression #Trauma #Recovery #Healing #Treatment #Food #Wellness',\n",
       "       \"Foodies, this particular country is one of our FAV when it comes to FOOD!! \\n\\nLet's see if you can guess it!! \\n\\n#FoodFriday #GuessGame #Guess #Fun #FridayThoughts #foodie https://t.co/gK3x3uMArb shallow pan of food pot of food green salad steaming bowl nerd face\",\n",
       "       'Today is usually #FoodFriday on this timeline.\\n\\nI tweet about food. \\n\\nIf you can postpone your instant gratification from bad foods, you can postpone bad habits in your life.\\n\\nHow you approach food is evidently how you approach your other aspects of life.\\n\\n#FoodFriday',\n",
       "       \"#FoodFriday\\n\\nWhat are you cookin' up today or this weekend? What's your favorite recipe? Looking for some new ideas! https://t.co/3VRQTRCxd3\",\n",
       "       'This weeks #FoodFriday is from @WoodsideBay \\n\\nWould you be interested in a #Chef position with us?\\nThen why not visit the Darwin Escapes website, locate the Careers tab and search for our Chef vacancies \\n\\n#Jobs https://t.co/FWNknvURhn pizza grinning face',\n",
       "       'Ring in the New Year with healthy eating. Checkout #ClickNCook #healthrecipe Fruity Homemade Oatmeal. https://t.co/7XR3tw6XsH\\n#FoodFriday',\n",
       "       \"'The old fool forgot the lessons of Blodeuwedd and Frankenstein: never create anything smarter, or more ruthless, than yourself.'\\n.\\n#FoodFriday featuring cheesecake (that I'd been craving since Tuesday but been too lazy to…\\n\\n https://t.co/U6yxC4h3sz via https://t.co/Z51VYxAyBJ https://t.co/8f5Lqkp8hm camera with flash\",\n",
       "       'African star Apple (Udara).\\nRich source of vita.C is one of the wonderful fruits offered by nature with important health benefits.\\nRanging from tackling toothache, mouth gum disease, soar throat, helps in weight loss and good for expecting mothers \\n\\n#FoodFriday\\n#CoalCityConnect https://t.co/ODyfnS8VVm',\n",
       "       '#FOODFRIDAY \\nIf you love chocolate, then board the first flight to California. The Nutella Pop Up Hotel is about to open. Discover more in this video. Do you know? Nutella is an Italian product...of course!\\n#italy #food #nutella #language #school… https://t.co/bgG5haT6mQ https://t.co/gw0JhCqZHE Italy chocolate bar',\n",
       "       '#foodfriday @baghdadcafeCT hey offer a variety of delicious foods, from pizza to tacos and sticky wings! For your convenience they also avail on @ubereats_za https://t.co/P8sdNvfMcg',\n",
       "       'This Mangalorean special chicken curry can be paired best with neer dosa or steamed rice. What’s your pick?\\nRecipe Link: https://t.co/iyYCpcuoeA\\n#FoodFriday https://t.co/Bke1o79Zio'],\n",
       "      dtype=object)"
      ]
     },
     "execution_count": 28,
     "metadata": {},
     "output_type": "execute_result"
    }
   ],
   "source": [
    "df['text_clean'].tail(20).values"
   ]
  },
  {
   "cell_type": "code",
   "execution_count": 29,
   "id": "aff8a64e",
   "metadata": {
    "execution": {
     "iopub.execute_input": "2023-02-16T12:32:11.613910Z",
     "iopub.status.busy": "2023-02-16T12:32:11.613338Z",
     "iopub.status.idle": "2023-02-16T12:32:11.617478Z",
     "shell.execute_reply": "2023-02-16T12:32:11.616606Z"
    },
    "papermill": {
     "duration": 0.021972,
     "end_time": "2023-02-16T12:32:11.619684",
     "exception": false,
     "start_time": "2023-02-16T12:32:11.597712",
     "status": "completed"
    },
    "tags": []
   },
   "outputs": [],
   "source": [
    "# remove multiple spaces\n",
    "\n",
    "def remove_mult_spaces(text): \n",
    "    return re.sub(\"\\s\\s+\" , \" \", text)"
   ]
  },
  {
   "cell_type": "code",
   "execution_count": 30,
   "id": "9e7eae9c",
   "metadata": {
    "execution": {
     "iopub.execute_input": "2023-02-16T12:32:11.651369Z",
     "iopub.status.busy": "2023-02-16T12:32:11.650645Z",
     "iopub.status.idle": "2023-02-16T12:32:11.656288Z",
     "shell.execute_reply": "2023-02-16T12:32:11.655596Z"
    },
    "papermill": {
     "duration": 0.023233,
     "end_time": "2023-02-16T12:32:11.658313",
     "exception": false,
     "start_time": "2023-02-16T12:32:11.635080",
     "status": "completed"
    },
    "tags": []
   },
   "outputs": [],
   "source": [
    "#Remove punctuations, links, mentions and \\r\\n new line characters\n",
    "\n",
    "def strip_all_entities(text): \n",
    "    text = text.replace('\\r', '').replace('\\n', ' ').replace('\\n', ' ').lower() #remove \\n and \\r and lowercase\n",
    "    text = re.sub(r\"(?:\\@|https?\\://)\\S+\", \"\", text) #remove links and mentions\n",
    "    text = re.sub(r'[^\\x00-\\x7f]',r'', text) #remove non utf8/ascii characters such as '\\x9a\\x91\\x97\\x9a\\x97'\n",
    "    banned_list= string.punctuation + 'Ã'+'±'+'ã'+'¼'+'â'+'»'+'§'\n",
    "    table = str.maketrans('', '', banned_list)\n",
    "    text = text.translate(table)\n",
    "    return text"
   ]
  },
  {
   "cell_type": "code",
   "execution_count": 31,
   "id": "ad007d6f",
   "metadata": {
    "execution": {
     "iopub.execute_input": "2023-02-16T12:32:11.688878Z",
     "iopub.status.busy": "2023-02-16T12:32:11.688345Z",
     "iopub.status.idle": "2023-02-16T12:32:11.693050Z",
     "shell.execute_reply": "2023-02-16T12:32:11.692405Z"
    },
    "papermill": {
     "duration": 0.022128,
     "end_time": "2023-02-16T12:32:11.694948",
     "exception": false,
     "start_time": "2023-02-16T12:32:11.672820",
     "status": "completed"
    },
    "tags": []
   },
   "outputs": [],
   "source": [
    "#clean hashtags at the end of the sentence, and keep those in the middle of the sentence by removing just the # symbol\n",
    "\n",
    "def clean_hashtags(tweet):\n",
    "    new_tweet = \" \".join(word.strip() for word in re.split('#(?!(?:hashtag)\\b)[\\w-]+(?=(?:\\s+#[\\w-]+)*\\s*$)', tweet)) #remove last hashtags\n",
    "    new_tweet2 = \" \".join(word.strip() for word in re.split('#|_', new_tweet)) #remove hashtags symbol from words in the middle of the sentence\n",
    "    return new_tweet2"
   ]
  },
  {
   "cell_type": "code",
   "execution_count": 32,
   "id": "47266629",
   "metadata": {
    "execution": {
     "iopub.execute_input": "2023-02-16T12:32:11.725561Z",
     "iopub.status.busy": "2023-02-16T12:32:11.724987Z",
     "iopub.status.idle": "2023-02-16T12:32:11.729756Z",
     "shell.execute_reply": "2023-02-16T12:32:11.729099Z"
    },
    "papermill": {
     "duration": 0.022144,
     "end_time": "2023-02-16T12:32:11.731560",
     "exception": false,
     "start_time": "2023-02-16T12:32:11.709416",
     "status": "completed"
    },
    "tags": []
   },
   "outputs": [],
   "source": [
    "#Filter special characters such as & and $ present in some words\n",
    "\n",
    "def filter_chars(a):\n",
    "    sent = []\n",
    "    for word in a.split(' '):\n",
    "        if ('$' in word) | ('&' in word):\n",
    "            sent.append('')\n",
    "        else:\n",
    "            sent.append(word)\n",
    "    return ' '.join(sent)"
   ]
  },
  {
   "cell_type": "code",
   "execution_count": 33,
   "id": "4e1cce8c",
   "metadata": {
    "execution": {
     "iopub.execute_input": "2023-02-16T12:32:11.762027Z",
     "iopub.status.busy": "2023-02-16T12:32:11.761708Z",
     "iopub.status.idle": "2023-02-16T12:32:18.088977Z",
     "shell.execute_reply": "2023-02-16T12:32:18.087839Z"
    },
    "papermill": {
     "duration": 6.345378,
     "end_time": "2023-02-16T12:32:18.091682",
     "exception": false,
     "start_time": "2023-02-16T12:32:11.746304",
     "status": "completed"
    },
    "tags": []
   },
   "outputs": [],
   "source": [
    "deeper_clean = []\n",
    "\n",
    "for t in df.text_clean:\n",
    "    deeper_clean.append(\n",
    "        remove_mult_spaces(\n",
    "            filter_chars(\n",
    "                clean_hashtags(\n",
    "                    strip_all_entities(\n",
    "                        (t)\n",
    "                    ))))\n",
    "    )"
   ]
  },
  {
   "cell_type": "code",
   "execution_count": 34,
   "id": "fe94b68f",
   "metadata": {
    "execution": {
     "iopub.execute_input": "2023-02-16T12:32:18.123496Z",
     "iopub.status.busy": "2023-02-16T12:32:18.122694Z",
     "iopub.status.idle": "2023-02-16T12:32:18.156824Z",
     "shell.execute_reply": "2023-02-16T12:32:18.155912Z"
    },
    "papermill": {
     "duration": 0.05266,
     "end_time": "2023-02-16T12:32:18.159347",
     "exception": false,
     "start_time": "2023-02-16T12:32:18.106687",
     "status": "completed"
    },
    "tags": []
   },
   "outputs": [],
   "source": [
    "df['text_clean_deeper'] = deeper_clean"
   ]
  },
  {
   "cell_type": "code",
   "execution_count": 35,
   "id": "12f62770",
   "metadata": {
    "execution": {
     "iopub.execute_input": "2023-02-16T12:32:18.189909Z",
     "iopub.status.busy": "2023-02-16T12:32:18.188979Z",
     "iopub.status.idle": "2023-02-16T12:32:18.196216Z",
     "shell.execute_reply": "2023-02-16T12:32:18.195049Z"
    },
    "papermill": {
     "duration": 0.02465,
     "end_time": "2023-02-16T12:32:18.198461",
     "exception": false,
     "start_time": "2023-02-16T12:32:18.173811",
     "status": "completed"
    },
    "tags": []
   },
   "outputs": [
    {
     "data": {
      "text/plain": [
       "Index(['tweet_created_at', 'text', 'Sentiment', 'text_clean',\n",
       "       'text_clean_deeper'],\n",
       "      dtype='object')"
      ]
     },
     "execution_count": 35,
     "metadata": {},
     "output_type": "execute_result"
    }
   ],
   "source": [
    "df.columns"
   ]
  },
  {
   "cell_type": "code",
   "execution_count": 36,
   "id": "4f948fe0",
   "metadata": {
    "execution": {
     "iopub.execute_input": "2023-02-16T12:32:18.229594Z",
     "iopub.status.busy": "2023-02-16T12:32:18.228701Z",
     "iopub.status.idle": "2023-02-16T12:32:18.235993Z",
     "shell.execute_reply": "2023-02-16T12:32:18.235065Z"
    },
    "papermill": {
     "duration": 0.025156,
     "end_time": "2023-02-16T12:32:18.238079",
     "exception": false,
     "start_time": "2023-02-16T12:32:18.212923",
     "status": "completed"
    },
    "tags": []
   },
   "outputs": [
    {
     "data": {
      "text/plain": [
       "array(['#FoodFriday means tasty snacks throughout the day!\\n😋💙🥄🍫\\n📷 : @flexible_nati\\n#haveaplant https://t.co/pNSAHV2hDh',\n",
       "       'F U E L E D F R I D A Y\\nLooking for a fun, colorful and healthy recipe to kick off the new year? Well, check out this delicious and beautiful dish!\\n・・・\\nEggs baked in Veggie Nests. Head over to our insta for the recipe. 🤤\\n\\n#fueledfriday #foodfriday #runinrabbit #borntorunfree https://t.co/2Fwez5uYb2',\n",
       "       'Kummer reminds you to stay hydrated #foodfriday https://t.co/rkZmatd97f',\n",
       "       'Commercial #Kitchens need attention at a great price! 🦏 Rhino Shine has a solid plan unlike #JasonGarrett future 🤷🏻\\u200d♂️. #Dallas #winning #coupons #restaurant #hood #cleaning #foodfriday #trucks https://t.co/U0V5BO33uo',\n",
       "       \"Mary's Meals is changing lives in Zimbabwe https://t.co/bioEZAt47N #feelgoodfriday #FoodFriday\",\n",
       "       'Will meat alternatives continue gaining popularity in 2020? https://t.co/wzvi1XOBmj via @YourMorning ht  @LetsTalkScience 🥬🍔🤑 #food #health #diet #nutrition #meatless #plantbased #Vegan #vegetarian #HealthyLiving #HealthyEating #BusinessGrowth #business #FoodFriday',\n",
       "       'These are our top five healthy recipes that you can throw together in the morning and enjoy in the evening (as well as take leftovers for lunch the next day).\\n#FoodFriday #EatHealthy #NewYearNewYou #PersonalTraining #FitnessTogether                       https://t.co/TiKGdeqr1p',\n",
       "       \"Burned out on cooking after the holidays? Here's a selection of quick and easy meals to get you inspired #FoodFriday\\nhttps://t.co/uLYOPeQHQc https://t.co/nyWopWqh79\",\n",
       "       'Will you eat lettuce that is not grown in soil? Large scale #Hydroponics can produce hyper local food in a small space, even shipping containers or in your own home. https://t.co/Ogy8UgHMUt #FoodFriday',\n",
       "       '#FoodFriday: Is it possible to treat things like anxiety and depression with food? https://t.co/93Ez7VwziK\\n#KinderInTheKeys #MentalHealth #Anxiety #PTSD #Depression #Trauma #Recovery #Healing #Treatment #Food #Wellness',\n",
       "       \"Foodies, this particular country is one of our FAV when it comes to FOOD!! 🥘🍲🥗🍜\\n\\nLet's see if you can guess it!! 🤓\\n\\n#FoodFriday #GuessGame #Guess #Fun #FridayThoughts #foodie https://t.co/gK3x3uMArb\",\n",
       "       'Today is usually #FoodFriday on this timeline.\\n\\nI tweet about food. \\n\\nIf you can postpone your instant gratification from bad foods, you can postpone bad habits in your life.\\n\\nHow you approach food is evidently how you approach your other aspects of life.\\n\\n#FoodFriday',\n",
       "       \"#FoodFriday\\n\\nWhat are you cookin' up today or this weekend? What's your favorite recipe? Looking for some new ideas! https://t.co/3VRQTRCxd3\",\n",
       "       'This weeks #FoodFriday is from @WoodsideBay 🍕\\n\\nWould you be interested in a #Chef position with us?\\nThen why not visit the Darwin Escapes website, locate the Careers tab and search for our Chef vacancies 😀\\n\\n#Jobs https://t.co/FWNknvURhn',\n",
       "       'Ring in the New Year with healthy eating. Checkout #ClickNCook #healthrecipe Fruity Homemade Oatmeal. https://t.co/7XR3tw6XsH\\n#FoodFriday',\n",
       "       \"'The old fool forgot the lessons of Blodeuwedd and Frankenstein: never create anything smarter, or more ruthless, than yourself.'\\n.\\n#FoodFriday featuring cheesecake (that I'd been craving since Tuesday but been too lazy to…\\n\\n📸 https://t.co/U6yxC4h3sz via https://t.co/Z51VYxAyBJ https://t.co/8f5Lqkp8hm\",\n",
       "       'African star Apple (Udara).\\nRich source of vita.C is one of the wonderful fruits offered by nature with important health benefits.\\nRanging from tackling toothache, mouth gum disease, soar throat, helps in weight loss and good for expecting mothers \\n\\n#FoodFriday\\n#CoalCityConnect https://t.co/ODyfnS8VVm',\n",
       "       '#FOODFRIDAY 🇮🇹🍫\\nIf you love chocolate, then board the first flight to California. The Nutella Pop Up Hotel is about to open. Discover more in this video. Do you know? Nutella is an Italian product...of course!\\n#italy #food #nutella #language #school… https://t.co/bgG5haT6mQ https://t.co/gw0JhCqZHE',\n",
       "       '#foodfriday @baghdadcafeCT hey offer a variety of delicious foods, from pizza to tacos and sticky wings! For your convenience they also avail on @ubereats_za https://t.co/P8sdNvfMcg',\n",
       "       'This Mangalorean special chicken curry can be paired best with neer dosa or steamed rice. What’s your pick?\\nRecipe Link: https://t.co/iyYCpcuoeA\\n#FoodFriday https://t.co/Bke1o79Zio'],\n",
       "      dtype=object)"
      ]
     },
     "execution_count": 36,
     "metadata": {},
     "output_type": "execute_result"
    }
   ],
   "source": [
    "df['text'].tail(20).values"
   ]
  },
  {
   "cell_type": "code",
   "execution_count": 37,
   "id": "732f9bdd",
   "metadata": {
    "execution": {
     "iopub.execute_input": "2023-02-16T12:32:18.268381Z",
     "iopub.status.busy": "2023-02-16T12:32:18.267878Z",
     "iopub.status.idle": "2023-02-16T12:32:18.273999Z",
     "shell.execute_reply": "2023-02-16T12:32:18.273163Z"
    },
    "papermill": {
     "duration": 0.023635,
     "end_time": "2023-02-16T12:32:18.275872",
     "exception": false,
     "start_time": "2023-02-16T12:32:18.252237",
     "status": "completed"
    },
    "tags": []
   },
   "outputs": [
    {
     "data": {
      "text/plain": [
       "array(['#FoodFriday means tasty snacks throughout the day!\\n\\n : @flexible_nati\\n#haveaplant https://t.co/pNSAHV2hDh face savoring food blue heart spoon chocolate bar camera',\n",
       "       'F U E L E D F R I D A Y\\nLooking for a fun, colorful and healthy recipe to kick off the new year? Well, check out this delicious and beautiful dish!\\n・・・\\nEggs baked in Veggie Nests. Head over to our insta for the recipe. \\n\\n#fueledfriday #foodfriday #runinrabbit #borntorunfree https://t.co/2Fwez5uYb2 drooling face',\n",
       "       'Kummer reminds you to stay hydrated #foodfriday https://t.co/rkZmatd97f',\n",
       "       'Commercial #Kitchens need attention at a great price!  Rhino Shine has a solid plan unlike #JasonGarrett future . #Dallas #winning #coupons #restaurant #hood #cleaning #foodfriday #trucks https://t.co/U0V5BO33uo rhinoceros man shrugging light skin tone',\n",
       "       \"Mary's Meals is changing lives in Zimbabwe https://t.co/bioEZAt47N #feelgoodfriday #FoodFriday\",\n",
       "       'Will meat alternatives continue gaining popularity in 2020? https://t.co/wzvi1XOBmj via @YourMorning ht  @LetsTalkScience  #food #health #diet #nutrition #meatless #plantbased #Vegan #vegetarian #HealthyLiving #HealthyEating #BusinessGrowth #business #FoodFriday leafy green hamburger money-mouth face',\n",
       "       'These are our top five healthy recipes that you can throw together in the morning and enjoy in the evening (as well as take leftovers for lunch the next day).\\n#FoodFriday #EatHealthy #NewYearNewYou #PersonalTraining #FitnessTogether                       https://t.co/TiKGdeqr1p',\n",
       "       \"Burned out on cooking after the holidays? Here's a selection of quick and easy meals to get you inspired #FoodFriday\\nhttps://t.co/uLYOPeQHQc https://t.co/nyWopWqh79\",\n",
       "       'Will you eat lettuce that is not grown in soil? Large scale #Hydroponics can produce hyper local food in a small space, even shipping containers or in your own home. https://t.co/Ogy8UgHMUt #FoodFriday',\n",
       "       '#FoodFriday: Is it possible to treat things like anxiety and depression with food? https://t.co/93Ez7VwziK\\n#KinderInTheKeys #MentalHealth #Anxiety #PTSD #Depression #Trauma #Recovery #Healing #Treatment #Food #Wellness',\n",
       "       \"Foodies, this particular country is one of our FAV when it comes to FOOD!! \\n\\nLet's see if you can guess it!! \\n\\n#FoodFriday #GuessGame #Guess #Fun #FridayThoughts #foodie https://t.co/gK3x3uMArb shallow pan of food pot of food green salad steaming bowl nerd face\",\n",
       "       'Today is usually #FoodFriday on this timeline.\\n\\nI tweet about food. \\n\\nIf you can postpone your instant gratification from bad foods, you can postpone bad habits in your life.\\n\\nHow you approach food is evidently how you approach your other aspects of life.\\n\\n#FoodFriday',\n",
       "       \"#FoodFriday\\n\\nWhat are you cookin' up today or this weekend? What's your favorite recipe? Looking for some new ideas! https://t.co/3VRQTRCxd3\",\n",
       "       'This weeks #FoodFriday is from @WoodsideBay \\n\\nWould you be interested in a #Chef position with us?\\nThen why not visit the Darwin Escapes website, locate the Careers tab and search for our Chef vacancies \\n\\n#Jobs https://t.co/FWNknvURhn pizza grinning face',\n",
       "       'Ring in the New Year with healthy eating. Checkout #ClickNCook #healthrecipe Fruity Homemade Oatmeal. https://t.co/7XR3tw6XsH\\n#FoodFriday',\n",
       "       \"'The old fool forgot the lessons of Blodeuwedd and Frankenstein: never create anything smarter, or more ruthless, than yourself.'\\n.\\n#FoodFriday featuring cheesecake (that I'd been craving since Tuesday but been too lazy to…\\n\\n https://t.co/U6yxC4h3sz via https://t.co/Z51VYxAyBJ https://t.co/8f5Lqkp8hm camera with flash\",\n",
       "       'African star Apple (Udara).\\nRich source of vita.C is one of the wonderful fruits offered by nature with important health benefits.\\nRanging from tackling toothache, mouth gum disease, soar throat, helps in weight loss and good for expecting mothers \\n\\n#FoodFriday\\n#CoalCityConnect https://t.co/ODyfnS8VVm',\n",
       "       '#FOODFRIDAY \\nIf you love chocolate, then board the first flight to California. The Nutella Pop Up Hotel is about to open. Discover more in this video. Do you know? Nutella is an Italian product...of course!\\n#italy #food #nutella #language #school… https://t.co/bgG5haT6mQ https://t.co/gw0JhCqZHE Italy chocolate bar',\n",
       "       '#foodfriday @baghdadcafeCT hey offer a variety of delicious foods, from pizza to tacos and sticky wings! For your convenience they also avail on @ubereats_za https://t.co/P8sdNvfMcg',\n",
       "       'This Mangalorean special chicken curry can be paired best with neer dosa or steamed rice. What’s your pick?\\nRecipe Link: https://t.co/iyYCpcuoeA\\n#FoodFriday https://t.co/Bke1o79Zio'],\n",
       "      dtype=object)"
      ]
     },
     "execution_count": 37,
     "metadata": {},
     "output_type": "execute_result"
    }
   ],
   "source": [
    "df['text_clean'].tail(20).values"
   ]
  },
  {
   "cell_type": "code",
   "execution_count": 38,
   "id": "999e03f8",
   "metadata": {
    "execution": {
     "iopub.execute_input": "2023-02-16T12:32:18.306606Z",
     "iopub.status.busy": "2023-02-16T12:32:18.306263Z",
     "iopub.status.idle": "2023-02-16T12:32:18.312462Z",
     "shell.execute_reply": "2023-02-16T12:32:18.311771Z"
    },
    "papermill": {
     "duration": 0.023322,
     "end_time": "2023-02-16T12:32:18.314139",
     "exception": false,
     "start_time": "2023-02-16T12:32:18.290817",
     "status": "completed"
    },
    "tags": []
   },
   "outputs": [
    {
     "data": {
      "text/plain": [
       "array(['foodfriday means tasty snacks throughout the day haveaplant face savoring food blue heart spoon chocolate bar camera',\n",
       "       'f u e l e d f r i d a y looking for a fun colorful and healthy recipe to kick off the new year well check out this delicious and beautiful dish eggs baked in veggie nests head over to our insta for the recipe fueledfriday foodfriday runinrabbit borntorunfree drooling face',\n",
       "       'kummer reminds you to stay hydrated foodfriday',\n",
       "       'commercial kitchens need attention at a great price rhino shine has a solid plan unlike jasongarrett future dallas winning coupons restaurant hood cleaning foodfriday trucks rhinoceros man shrugging light skin tone',\n",
       "       'marys meals is changing lives in zimbabwe feelgoodfriday foodfriday',\n",
       "       'will meat alternatives continue gaining popularity in 2020 via ht food health diet nutrition meatless plantbased vegan vegetarian healthyliving healthyeating businessgrowth business foodfriday leafy green hamburger moneymouth face',\n",
       "       'these are our top five healthy recipes that you can throw together in the morning and enjoy in the evening as well as take leftovers for lunch the next day foodfriday eathealthy newyearnewyou personaltraining fitnesstogether',\n",
       "       'burned out on cooking after the holidays heres a selection of quick and easy meals to get you inspired foodfriday',\n",
       "       'will you eat lettuce that is not grown in soil large scale hydroponics can produce hyper local food in a small space even shipping containers or in your own home foodfriday',\n",
       "       'foodfriday is it possible to treat things like anxiety and depression with food kinderinthekeys mentalhealth anxiety ptsd depression trauma recovery healing treatment food wellness',\n",
       "       'foodies this particular country is one of our fav when it comes to food lets see if you can guess it foodfriday guessgame guess fun fridaythoughts foodie shallow pan of food pot of food green salad steaming bowl nerd face',\n",
       "       'today is usually foodfriday on this timeline i tweet about food if you can postpone your instant gratification from bad foods you can postpone bad habits in your life how you approach food is evidently how you approach your other aspects of life foodfriday',\n",
       "       'foodfriday what are you cookin up today or this weekend whats your favorite recipe looking for some new ideas',\n",
       "       'this weeks foodfriday is from would you be interested in a chef position with us then why not visit the darwin escapes website locate the careers tab and search for our chef vacancies jobs pizza grinning face',\n",
       "       'ring in the new year with healthy eating checkout clickncook healthrecipe fruity homemade oatmeal foodfriday',\n",
       "       'the old fool forgot the lessons of blodeuwedd and frankenstein never create anything smarter or more ruthless than yourself foodfriday featuring cheesecake that id been craving since tuesday but been too lazy to via camera with flash',\n",
       "       'african star apple udara rich source of vitac is one of the wonderful fruits offered by nature with important health benefits ranging from tackling toothache mouth gum disease soar throat helps in weight loss and good for expecting mothers foodfriday coalcityconnect',\n",
       "       'foodfriday if you love chocolate then board the first flight to california the nutella pop up hotel is about to open discover more in this video do you know nutella is an italian productof course italy food nutella language school italy chocolate bar',\n",
       "       'foodfriday hey offer a variety of delicious foods from pizza to tacos and sticky wings for your convenience they also avail on',\n",
       "       'this mangalorean special chicken curry can be paired best with neer dosa or steamed rice whats your pick recipe link foodfriday'],\n",
       "      dtype=object)"
      ]
     },
     "execution_count": 38,
     "metadata": {},
     "output_type": "execute_result"
    }
   ],
   "source": [
    "df['text_clean_deeper'].tail(20).values"
   ]
  },
  {
   "cell_type": "code",
   "execution_count": 39,
   "id": "d0ac1845",
   "metadata": {
    "execution": {
     "iopub.execute_input": "2023-02-16T12:32:18.345064Z",
     "iopub.status.busy": "2023-02-16T12:32:18.344413Z",
     "iopub.status.idle": "2023-02-16T12:32:18.690263Z",
     "shell.execute_reply": "2023-02-16T12:32:18.689083Z"
    },
    "papermill": {
     "duration": 0.364245,
     "end_time": "2023-02-16T12:32:18.693017",
     "exception": false,
     "start_time": "2023-02-16T12:32:18.328772",
     "status": "completed"
    },
    "tags": []
   },
   "outputs": [],
   "source": [
    "text_len = []\n",
    "\n",
    "for text in df.text_clean_deeper:\n",
    "    tweet_len = len(text.split())\n",
    "    \n",
    "    text_len.append(tweet_len)"
   ]
  },
  {
   "cell_type": "code",
   "execution_count": 40,
   "id": "657c1f70",
   "metadata": {
    "execution": {
     "iopub.execute_input": "2023-02-16T12:32:18.724845Z",
     "iopub.status.busy": "2023-02-16T12:32:18.724463Z",
     "iopub.status.idle": "2023-02-16T12:32:18.796010Z",
     "shell.execute_reply": "2023-02-16T12:32:18.794995Z"
    },
    "papermill": {
     "duration": 0.090138,
     "end_time": "2023-02-16T12:32:18.798637",
     "exception": false,
     "start_time": "2023-02-16T12:32:18.708499",
     "status": "completed"
    },
    "tags": []
   },
   "outputs": [],
   "source": [
    "df['text_len'] = text_len"
   ]
  },
  {
   "cell_type": "code",
   "execution_count": 41,
   "id": "e1dc841d",
   "metadata": {
    "execution": {
     "iopub.execute_input": "2023-02-16T12:32:18.831383Z",
     "iopub.status.busy": "2023-02-16T12:32:18.831026Z",
     "iopub.status.idle": "2023-02-16T12:32:18.851652Z",
     "shell.execute_reply": "2023-02-16T12:32:18.850663Z"
    },
    "papermill": {
     "duration": 0.039185,
     "end_time": "2023-02-16T12:32:18.853462",
     "exception": false,
     "start_time": "2023-02-16T12:32:18.814277",
     "status": "completed"
    },
    "tags": []
   },
   "outputs": [
    {
     "data": {
      "text/html": [
       "<div>\n",
       "<style scoped>\n",
       "    .dataframe tbody tr th:only-of-type {\n",
       "        vertical-align: middle;\n",
       "    }\n",
       "\n",
       "    .dataframe tbody tr th {\n",
       "        vertical-align: top;\n",
       "    }\n",
       "\n",
       "    .dataframe thead th {\n",
       "        text-align: right;\n",
       "    }\n",
       "</style>\n",
       "<table border=\"1\" class=\"dataframe\">\n",
       "  <thead>\n",
       "    <tr style=\"text-align: right;\">\n",
       "      <th></th>\n",
       "      <th>tweet_created_at</th>\n",
       "      <th>text</th>\n",
       "      <th>Sentiment</th>\n",
       "      <th>text_clean</th>\n",
       "      <th>text_clean_deeper</th>\n",
       "      <th>text_len</th>\n",
       "    </tr>\n",
       "  </thead>\n",
       "  <tbody>\n",
       "    <tr>\n",
       "      <th>0</th>\n",
       "      <td>2022-12-30 22:37:46+00:00</td>\n",
       "      <td>Men who have refused to listen to/attend @amer...</td>\n",
       "      <td>Negative</td>\n",
       "      <td>Men who have refused to listen to/attend @amer...</td>\n",
       "      <td>men who have refused to listen toattend classe...</td>\n",
       "      <td>36</td>\n",
       "    </tr>\n",
       "    <tr>\n",
       "      <th>1</th>\n",
       "      <td>2022-12-30 22:30:58+00:00</td>\n",
       "      <td>@OvOBrezzzy Take amerix next</td>\n",
       "      <td>Neutral</td>\n",
       "      <td>@OvOBrezzzy Take amerix next</td>\n",
       "      <td>take amerix next</td>\n",
       "      <td>3</td>\n",
       "    </tr>\n",
       "    <tr>\n",
       "      <th>2</th>\n",
       "      <td>2022-12-30 22:18:00+00:00</td>\n",
       "      <td>@AyodeleYo11 @amerix Nah I’m good my masculini...</td>\n",
       "      <td>Positive</td>\n",
       "      <td>@AyodeleYo11 @amerix Nah I’m good my masculini...</td>\n",
       "      <td>nah im good my masculinity health and wellness...</td>\n",
       "      <td>12</td>\n",
       "    </tr>\n",
       "    <tr>\n",
       "      <th>3</th>\n",
       "      <td>2022-12-30 20:42:54+00:00</td>\n",
       "      <td>@Amerix_DontSimp There is no need for dating i...</td>\n",
       "      <td>Negative</td>\n",
       "      <td>@Amerix_DontSimp There is no need for dating i...</td>\n",
       "      <td>there is no need for dating in the first place</td>\n",
       "      <td>10</td>\n",
       "    </tr>\n",
       "    <tr>\n",
       "      <th>4</th>\n",
       "      <td>2022-12-30 20:32:23+00:00</td>\n",
       "      <td>@DyeAnna7 @amerix @kibe From what cos nothing ...</td>\n",
       "      <td>Positive</td>\n",
       "      <td>@DyeAnna7 @amerix @kibe From what cos nothing ...</td>\n",
       "      <td>from what cos nothing is changing and if we go...</td>\n",
       "      <td>45</td>\n",
       "    </tr>\n",
       "  </tbody>\n",
       "</table>\n",
       "</div>"
      ],
      "text/plain": [
       "           tweet_created_at  \\\n",
       "0 2022-12-30 22:37:46+00:00   \n",
       "1 2022-12-30 22:30:58+00:00   \n",
       "2 2022-12-30 22:18:00+00:00   \n",
       "3 2022-12-30 20:42:54+00:00   \n",
       "4 2022-12-30 20:32:23+00:00   \n",
       "\n",
       "                                                text Sentiment  \\\n",
       "0  Men who have refused to listen to/attend @amer...  Negative   \n",
       "1                       @OvOBrezzzy Take amerix next   Neutral   \n",
       "2  @AyodeleYo11 @amerix Nah I’m good my masculini...  Positive   \n",
       "3  @Amerix_DontSimp There is no need for dating i...  Negative   \n",
       "4  @DyeAnna7 @amerix @kibe From what cos nothing ...  Positive   \n",
       "\n",
       "                                          text_clean  \\\n",
       "0  Men who have refused to listen to/attend @amer...   \n",
       "1                       @OvOBrezzzy Take amerix next   \n",
       "2  @AyodeleYo11 @amerix Nah I’m good my masculini...   \n",
       "3  @Amerix_DontSimp There is no need for dating i...   \n",
       "4  @DyeAnna7 @amerix @kibe From what cos nothing ...   \n",
       "\n",
       "                                   text_clean_deeper  text_len  \n",
       "0  men who have refused to listen toattend classe...        36  \n",
       "1                                   take amerix next         3  \n",
       "2  nah im good my masculinity health and wellness...        12  \n",
       "3     there is no need for dating in the first place        10  \n",
       "4  from what cos nothing is changing and if we go...        45  "
      ]
     },
     "execution_count": 41,
     "metadata": {},
     "output_type": "execute_result"
    }
   ],
   "source": [
    "df.head(5)"
   ]
  },
  {
   "cell_type": "code",
   "execution_count": 42,
   "id": "0c3d73ab",
   "metadata": {
    "execution": {
     "iopub.execute_input": "2023-02-16T12:32:18.886656Z",
     "iopub.status.busy": "2023-02-16T12:32:18.885950Z",
     "iopub.status.idle": "2023-02-16T12:32:18.946538Z",
     "shell.execute_reply": "2023-02-16T12:32:18.945530Z"
    },
    "papermill": {
     "duration": 0.079199,
     "end_time": "2023-02-16T12:32:18.948840",
     "exception": false,
     "start_time": "2023-02-16T12:32:18.869641",
     "status": "completed"
    },
    "tags": []
   },
   "outputs": [],
   "source": [
    "df = df[['tweet_created_at', 'text', 'text_clean_deeper', 'Sentiment', 'text_len']]"
   ]
  },
  {
   "cell_type": "code",
   "execution_count": 43,
   "id": "cc7d7f0f",
   "metadata": {
    "execution": {
     "iopub.execute_input": "2023-02-16T12:32:18.981287Z",
     "iopub.status.busy": "2023-02-16T12:32:18.980335Z",
     "iopub.status.idle": "2023-02-16T12:32:18.991532Z",
     "shell.execute_reply": "2023-02-16T12:32:18.990638Z"
    },
    "papermill": {
     "duration": 0.029371,
     "end_time": "2023-02-16T12:32:18.993382",
     "exception": false,
     "start_time": "2023-02-16T12:32:18.964011",
     "status": "completed"
    },
    "tags": []
   },
   "outputs": [
    {
     "data": {
      "text/html": [
       "<div>\n",
       "<style scoped>\n",
       "    .dataframe tbody tr th:only-of-type {\n",
       "        vertical-align: middle;\n",
       "    }\n",
       "\n",
       "    .dataframe tbody tr th {\n",
       "        vertical-align: top;\n",
       "    }\n",
       "\n",
       "    .dataframe thead th {\n",
       "        text-align: right;\n",
       "    }\n",
       "</style>\n",
       "<table border=\"1\" class=\"dataframe\">\n",
       "  <thead>\n",
       "    <tr style=\"text-align: right;\">\n",
       "      <th></th>\n",
       "      <th>tweet_created_at</th>\n",
       "      <th>text</th>\n",
       "      <th>text_clean_deeper</th>\n",
       "      <th>Sentiment</th>\n",
       "      <th>text_len</th>\n",
       "    </tr>\n",
       "  </thead>\n",
       "  <tbody>\n",
       "    <tr>\n",
       "      <th>0</th>\n",
       "      <td>2022-12-30 22:37:46+00:00</td>\n",
       "      <td>Men who have refused to listen to/attend @amer...</td>\n",
       "      <td>men who have refused to listen toattend classe...</td>\n",
       "      <td>Negative</td>\n",
       "      <td>36</td>\n",
       "    </tr>\n",
       "    <tr>\n",
       "      <th>1</th>\n",
       "      <td>2022-12-30 22:30:58+00:00</td>\n",
       "      <td>@OvOBrezzzy Take amerix next</td>\n",
       "      <td>take amerix next</td>\n",
       "      <td>Neutral</td>\n",
       "      <td>3</td>\n",
       "    </tr>\n",
       "    <tr>\n",
       "      <th>2</th>\n",
       "      <td>2022-12-30 22:18:00+00:00</td>\n",
       "      <td>@AyodeleYo11 @amerix Nah I’m good my masculini...</td>\n",
       "      <td>nah im good my masculinity health and wellness...</td>\n",
       "      <td>Positive</td>\n",
       "      <td>12</td>\n",
       "    </tr>\n",
       "    <tr>\n",
       "      <th>3</th>\n",
       "      <td>2022-12-30 20:42:54+00:00</td>\n",
       "      <td>@Amerix_DontSimp There is no need for dating i...</td>\n",
       "      <td>there is no need for dating in the first place</td>\n",
       "      <td>Negative</td>\n",
       "      <td>10</td>\n",
       "    </tr>\n",
       "    <tr>\n",
       "      <th>4</th>\n",
       "      <td>2022-12-30 20:32:23+00:00</td>\n",
       "      <td>@DyeAnna7 @amerix @kibe From what cos nothing ...</td>\n",
       "      <td>from what cos nothing is changing and if we go...</td>\n",
       "      <td>Positive</td>\n",
       "      <td>45</td>\n",
       "    </tr>\n",
       "  </tbody>\n",
       "</table>\n",
       "</div>"
      ],
      "text/plain": [
       "           tweet_created_at  \\\n",
       "0 2022-12-30 22:37:46+00:00   \n",
       "1 2022-12-30 22:30:58+00:00   \n",
       "2 2022-12-30 22:18:00+00:00   \n",
       "3 2022-12-30 20:42:54+00:00   \n",
       "4 2022-12-30 20:32:23+00:00   \n",
       "\n",
       "                                                text  \\\n",
       "0  Men who have refused to listen to/attend @amer...   \n",
       "1                       @OvOBrezzzy Take amerix next   \n",
       "2  @AyodeleYo11 @amerix Nah I’m good my masculini...   \n",
       "3  @Amerix_DontSimp There is no need for dating i...   \n",
       "4  @DyeAnna7 @amerix @kibe From what cos nothing ...   \n",
       "\n",
       "                                   text_clean_deeper Sentiment  text_len  \n",
       "0  men who have refused to listen toattend classe...  Negative        36  \n",
       "1                                   take amerix next   Neutral         3  \n",
       "2  nah im good my masculinity health and wellness...  Positive        12  \n",
       "3     there is no need for dating in the first place  Negative        10  \n",
       "4  from what cos nothing is changing and if we go...  Positive        45  "
      ]
     },
     "execution_count": 43,
     "metadata": {},
     "output_type": "execute_result"
    }
   ],
   "source": [
    "df.head(5)"
   ]
  },
  {
   "cell_type": "code",
   "execution_count": 44,
   "id": "e73cd306",
   "metadata": {
    "execution": {
     "iopub.execute_input": "2023-02-16T12:32:19.027213Z",
     "iopub.status.busy": "2023-02-16T12:32:19.026564Z",
     "iopub.status.idle": "2023-02-16T12:32:19.309963Z",
     "shell.execute_reply": "2023-02-16T12:32:19.308576Z"
    },
    "papermill": {
     "duration": 0.304062,
     "end_time": "2023-02-16T12:32:19.313444",
     "exception": false,
     "start_time": "2023-02-16T12:32:19.009382",
     "status": "completed"
    },
    "tags": []
   },
   "outputs": [
    {
     "data": {
      "image/png": "[encoded data removed]",
      "text/plain": [
       "<Figure size 700x500 with 1 Axes>"
      ]
     },
     "metadata": {},
     "output_type": "display_data"
    }
   ],
   "source": [
    "plt.figure(figsize=(7,5))\n",
    "\n",
    "ax = sns.countplot(x='text_len', data=df[df['text_len']<10], palette='Greens')\n",
    "\n",
    "plt.title('Tweets with less than 10 words')\n",
    "plt.yticks([])\n",
    "ax.bar_label(ax.containers[0])\n",
    "\n",
    "plt.ylabel('count')\n",
    "plt.xlabel('')\n",
    "plt.show()"
   ]
  },
  {
   "cell_type": "code",
   "execution_count": 45,
   "id": "8a7a460a",
   "metadata": {
    "execution": {
     "iopub.execute_input": "2023-02-16T12:32:19.348398Z",
     "iopub.status.busy": "2023-02-16T12:32:19.347999Z",
     "iopub.status.idle": "2023-02-16T12:32:19.354592Z",
     "shell.execute_reply": "2023-02-16T12:32:19.353552Z"
    },
    "papermill": {
     "duration": 0.026286,
     "end_time": "2023-02-16T12:32:19.356926",
     "exception": false,
     "start_time": "2023-02-16T12:32:19.330640",
     "status": "completed"
    },
    "tags": []
   },
   "outputs": [
    {
     "data": {
      "text/plain": [
       "(236023, 5)"
      ]
     },
     "execution_count": 45,
     "metadata": {},
     "output_type": "execute_result"
    }
   ],
   "source": [
    "df.shape"
   ]
  },
  {
   "cell_type": "code",
   "execution_count": 46,
   "id": "43c486e1",
   "metadata": {
    "execution": {
     "iopub.execute_input": "2023-02-16T12:32:19.391060Z",
     "iopub.status.busy": "2023-02-16T12:32:19.390702Z",
     "iopub.status.idle": "2023-02-16T12:32:19.397168Z",
     "shell.execute_reply": "2023-02-16T12:32:19.396064Z"
    },
    "papermill": {
     "duration": 0.026236,
     "end_time": "2023-02-16T12:32:19.399404",
     "exception": false,
     "start_time": "2023-02-16T12:32:19.373168",
     "status": "completed"
    },
    "tags": []
   },
   "outputs": [
    {
     "data": {
      "text/plain": [
       "Index(['tweet_created_at', 'text', 'text_clean_deeper', 'Sentiment',\n",
       "       'text_len'],\n",
       "      dtype='object')"
      ]
     },
     "execution_count": 46,
     "metadata": {},
     "output_type": "execute_result"
    }
   ],
   "source": [
    "df.columns"
   ]
  },
  {
   "cell_type": "code",
   "execution_count": 47,
   "id": "1c4704c9",
   "metadata": {
    "execution": {
     "iopub.execute_input": "2023-02-16T12:32:19.433473Z",
     "iopub.status.busy": "2023-02-16T12:32:19.432772Z",
     "iopub.status.idle": "2023-02-16T12:32:19.458299Z",
     "shell.execute_reply": "2023-02-16T12:32:19.457414Z"
    },
    "papermill": {
     "duration": 0.045413,
     "end_time": "2023-02-16T12:32:19.460492",
     "exception": false,
     "start_time": "2023-02-16T12:32:19.415079",
     "status": "completed"
    },
    "tags": []
   },
   "outputs": [],
   "source": [
    "df = df[df['text_len'] > 1]"
   ]
  },
  {
   "cell_type": "code",
   "execution_count": 48,
   "id": "41720a20",
   "metadata": {
    "execution": {
     "iopub.execute_input": "2023-02-16T12:32:19.494823Z",
     "iopub.status.busy": "2023-02-16T12:32:19.494089Z",
     "iopub.status.idle": "2023-02-16T12:32:19.500820Z",
     "shell.execute_reply": "2023-02-16T12:32:19.499823Z"
    },
    "papermill": {
     "duration": 0.026244,
     "end_time": "2023-02-16T12:32:19.502930",
     "exception": false,
     "start_time": "2023-02-16T12:32:19.476686",
     "status": "completed"
    },
    "tags": []
   },
   "outputs": [
    {
     "data": {
      "text/plain": [
       "(233699, 5)"
      ]
     },
     "execution_count": 48,
     "metadata": {},
     "output_type": "execute_result"
    }
   ],
   "source": [
    "df.shape"
   ]
  },
  {
   "cell_type": "code",
   "execution_count": 49,
   "id": "79c71dd8",
   "metadata": {
    "execution": {
     "iopub.execute_input": "2023-02-16T12:32:19.536884Z",
     "iopub.status.busy": "2023-02-16T12:32:19.536199Z",
     "iopub.status.idle": "2023-02-16T12:32:19.742924Z",
     "shell.execute_reply": "2023-02-16T12:32:19.741575Z"
    },
    "papermill": {
     "duration": 0.227458,
     "end_time": "2023-02-16T12:32:19.746652",
     "exception": false,
     "start_time": "2023-02-16T12:32:19.519194",
     "status": "completed"
    },
    "tags": []
   },
   "outputs": [
    {
     "data": {
      "image/png": "[encoded data removed]",
      "text/plain": [
       "<Figure size 700x500 with 1 Axes>"
      ]
     },
     "metadata": {},
     "output_type": "display_data"
    }
   ],
   "source": [
    "plt.figure(figsize=(7,5))\n",
    "\n",
    "ax = sns.countplot(x='text_len', data=df[df['text_len']<10], palette='Blues')\n",
    "\n",
    "plt.title('Tweets with less than 10 words')\n",
    "plt.yticks([])\n",
    "ax.bar_label(ax.containers[0])\n",
    "\n",
    "plt.ylabel('count')\n",
    "plt.xlabel('')\n",
    "plt.show()"
   ]
  },
  {
   "cell_type": "code",
   "execution_count": 50,
   "id": "66817d0e",
   "metadata": {
    "execution": {
     "iopub.execute_input": "2023-02-16T12:32:19.794880Z",
     "iopub.status.busy": "2023-02-16T12:32:19.794518Z",
     "iopub.status.idle": "2023-02-16T12:32:57.659985Z",
     "shell.execute_reply": "2023-02-16T12:32:57.659011Z"
    },
    "papermill": {
     "duration": 37.885731,
     "end_time": "2023-02-16T12:32:57.662649",
     "exception": false,
     "start_time": "2023-02-16T12:32:19.776918",
     "status": "completed"
    },
    "tags": []
   },
   "outputs": [],
   "source": [
    "token_lens = []\n",
    "\n",
    "for txt in df['text_clean_deeper'].values:\n",
    "    tokens = tokenizer_4.encode(txt, max_length=512, truncation=True)\n",
    "    token_lens.append(len(tokens))\n",
    "    \n",
    "max_len=np.max(token_lens)"
   ]
  },
  {
   "cell_type": "code",
   "execution_count": 51,
   "id": "ce5eb1b4",
   "metadata": {
    "execution": {
     "iopub.execute_input": "2023-02-16T12:32:57.697970Z",
     "iopub.status.busy": "2023-02-16T12:32:57.697586Z",
     "iopub.status.idle": "2023-02-16T12:32:57.702131Z",
     "shell.execute_reply": "2023-02-16T12:32:57.701425Z"
    },
    "papermill": {
     "duration": 0.024644,
     "end_time": "2023-02-16T12:32:57.704476",
     "exception": false,
     "start_time": "2023-02-16T12:32:57.679832",
     "status": "completed"
    },
    "tags": []
   },
   "outputs": [
    {
     "name": "stdout",
     "output_type": "stream",
     "text": [
      "Longest tokenized sentence: 483\n"
     ]
    }
   ],
   "source": [
    "print(f\"Longest tokenized sentence: {max_len}\")"
   ]
  },
  {
   "cell_type": "code",
   "execution_count": 52,
   "id": "594e0ed2",
   "metadata": {
    "execution": {
     "iopub.execute_input": "2023-02-16T12:32:57.739891Z",
     "iopub.status.busy": "2023-02-16T12:32:57.739330Z",
     "iopub.status.idle": "2023-02-16T12:33:35.910889Z",
     "shell.execute_reply": "2023-02-16T12:33:35.909807Z"
    },
    "papermill": {
     "duration": 38.192095,
     "end_time": "2023-02-16T12:33:35.913519",
     "exception": false,
     "start_time": "2023-02-16T12:32:57.721424",
     "status": "completed"
    },
    "tags": []
   },
   "outputs": [
    {
     "name": "stdout",
     "output_type": "stream",
     "text": [
      "INDEX: 3079, TEXT: stream ndi ndi by vicmass luodollar available on spotify youtube boomplay apple music audiomack mdundo deezer itunes youtube music etc click link below kcpe duale riggy g amerix kipkorir amerix david maraga maasai shoe size dubai chart increasing play or pause button play or pause button play or pause button play or pause button play or pause button play or pause button play or pause button play or pause button play or pause button\n",
      "INDEX: 4737, TEXT: amerixtoday i am going to harvest sweet potatoes from the farm next to my sons school womenheheheeand u are advising men not to be attached 2 their children and here u are mentioning ua son mentake charge of your sons beaming face with smiling eyes grinning squinting face grinning squinting face squinting face with tongue squinting face with tongue starstruck starstruck loudly crying face loudly crying face beaming face with smiling eyes grinning squinting face grinning squinting face speaknoevil monkey face with hand over mouth face with hand over mouth beaming face with smiling eyes beaming face with smiling eyes squinting face with tongue grinning squinting face grinning squinting face face with rolling eyes face with rolling eyes face with rolling eyes face with tears of joy face with tears of joy face with tears of joy\n",
      "INDEX: 5142, TEXT: use your block button if my 5 emojis ruined your day face with tears of joy face with tears of joy face with tears of joy face with tears of joy face with tears of joy face with tears of joy face with tears of joy face with tears of joy face with tears of joy face with tears of joy face with tears of joy face with tears of joy face with tears of joy face with tears of joy face with tears of joy face with tears of joy face with tears of joy face with tears of joy face with tears of joy face with tears of joy face with tears of joy face with tears of joy face with tears of joy face with tears of joy face with tears of joy face with tears of joy face with tears of joy face with tears of joy face with tears of joy face with tears of joy face with tears of joy face with tears of joy face with tears of joy face with tears of joy face with tears of joy face with tears of joy face with tears of joy face with tears of joy face with tears of joy face with tears of joy face with tears of joy face with tears of joy face with tears of joy face with tears of joy face with tears of joy face with tears of joy face with tears of joy face with tears of joy face with tears of joy face with tears of joy face with tears of joy face with tears of joy face with tears of joy face with tears of joy face with tears of joy face with tears of joy face with tears of joy face with tears of joy\n",
      "INDEX: 6498, TEXT: nbr of flags in 5011 usernames who liked 279 31 11 9 7 5 5 4 4 4 4 3 3 3 2 2 2 2 2 2 1 1 1 1 1 1 1 1 1 1 1 1 1 1 1 1 1 1 1 kenya uganda tanzania argentina south africa south sudan ghana france brazil russia jamaica united states united kingdom australia kuwait malawi somalia canada liberia nigeria zambia india kosovo isle of man iceland czechia portugal faroe islands namibia turkey spain israel ethiopia guinea heard mcdonald islands niger rwanda china zimbabwe\n",
      "INDEX: 6652, TEXT: lenovo thinkpad ultraslim t480s touchscreen 8th generation processor intel core i5 speed upto 38ghz turbo boost 8gb hd graphics storage 8gb ram256gb ssd with type c charger price ksh 36000 c 0717040531 duale clout matatus amerix range rover wewe kcpe small blue diamond small blue diamond small blue diamond small blue diamond small blue diamond small blue diamond small blue diamond small blue diamond kenya small blue diamond\n",
      "INDEX: 7233, TEXT: hp elitebook 820 gen 5 processor intel core i5 storage 8gb ram500gb hdd base speed 23ghz size 125inches with windows 10 pro and basic softwares warranty available price ksh 23000 contact 0717040531 nairobians nyeri ruto sakaja amerix kcpe riggy g small blue diamond small blue diamond small blue diamond small blue diamond small blue diamond small blue diamond small blue diamond small blue diamond telephone receiver\n",
      "INDEX: 7235, TEXT: hp elitebook 820 gen 5 processor intel core i5 storage 8gb ram500gb hdd base speed 23ghz size 125inches with windows 10 pro and basic softwares warranty available price ksh 23000 contact 0717040531 nairobians nyeri ruto sakaja amerix kcpe riggy g small blue diamond small blue diamond small blue diamond small blue diamond small blue diamond small blue diamond small blue diamond small blue diamond telephone receiver\n",
      "INDEX: 7239, TEXT: hp probook 430 series 8th generation processor intel core i5 turbo boost speed upto 38ghz storage 8gb ram upgradable256gb ssd super fast has hdmitype cusb ports intel hd graphics price ksh 36500 0717040531 ruto sakaja amerix kcpe riggy g small blue diamond collision small blue diamond check mark button small blue diamond small blue diamond small blue diamond small blue diamond small blue diamond small blue diamond\n",
      "INDEX: 7709, TEXT: yesterday fixed games won successfully as expected labancliffonserio whatafinal chairperson babysagini amerix kenya green heart green heart green heart green heart green heart green heart green heart green heart green heart green heart green heart green heart green heart green heart green heart green heart green heart green heart green heart green heart green heart green heart green heart ok hand thumbs up thumbs up thumbs up thumbs up beaming face with smiling eyes beaming face with smiling eyes beaming face with smiling eyes beaming face with smiling eyes check mark button check mark button check mark button check mark button check mark button green heart green heart green heart green heart green heart green heart green heart green heart green heart green heart green heart green heart green heart green heart green heart green heart green heart green heart green heart green heart green heart green heart green heart\n",
      "INDEX: 8525, TEXT: nbr of flags in 5050 usernames who liked 234 14 13 11 8 7 6 6 5 5 4 3 3 3 3 3 2 2 2 2 2 2 2 2 1 1 1 1 1 1 1 1 1 1 1 1 1 1 kenya uganda argentina united states nigeria russia tanzania south africa zimbabwe canada south sudan jamaica spain somalia united kingdom ghana liberia malawi chad france palestinian territories iran australia brazil rwanda cameroon cuba heard mcdonald islands portugal denmark india guinea niger brunei sudan qatar south korea namibia fiji\n",
      "INDEX: 9700, TEXT: lenovo yoga 12 x360 touchscreen processor intel core i5 storage 8gb ram256gb ssd very fast clock speed 25ghz excellent batt ery life comes with stylus pen priceksh 31000 contact 254717040531 swahili kisumu nairobi drake kplc uhuru amerix baby sagini small blue diamond small blue diamond small blue diamond small blue diamond small blue diamond small blue diamond small blue diamond small blue diamond small blue diamond\n",
      "INDEX: 10585, TEXT: nbr of flags in 5062 usernames who liked 244 16 14 9 8 8 8 6 5 5 4 3 3 3 3 2 2 2 2 2 2 1 1 1 1 1 1 1 1 1 1 1 1 1 1 1 1 1 1 kenya uganda argentina united states nigeria tanzania south africa canada zimbabwe russia south sudan jamaica spain somalia france united kingdom liberia malawi ghana chad palestinian territories isle of man iceland brazil rwanda cameroon iran cuba portugal denmark australia india guinea niger brunei sudan qatar south korea namibia\n",
      "INDEX: 11138, TEXT: nbr of flags in 5066 usernames who liked 250 21 13 9 8 8 8 7 6 5 4 3 3 3 2 2 2 2 2 2 2 1 1 1 1 1 1 1 1 1 1 1 1 1 1 1 1 1 1 kenya uganda argentina united states nigeria tanzania south africa canada zimbabwe russia south sudan jamaica spain somalia rwanda united kingdom liberia malawi ghana chad france isle of man iceland brazil cameroon iran palestinian territories cuba portugal denmark australia india guinea niger brunei sudan qatar south korea namibia\n",
      "INDEX: 12140, TEXT: nbr of flags in 5088 usernames who liked 257 22 14 9 9 8 8 7 7 4 4 3 3 3 2 2 2 2 2 2 2 2 1 1 1 1 1 1 1 1 1 1 1 1 1 1 1 1 1 kenya uganda argentina tanzania south africa nigeria united states zimbabwe canada russia south sudan jamaica spain somalia rwanda united kingdom liberia portugal malawi ghana chad france germany isle of man iceland brazil cameroon iran palestinian territories cuba denmark australia india guinea niger brunei sudan qatar south korea\n",
      "INDEX: 13509, TEXT: man i love a good satire account calling selfish psychotic independence masculine face with tears of joy face with tears of joy face with tears of joy face with tears of joy face with tears of joy face with tears of joy face with tears of joy face with tears of joy face with tears of joy face with tears of joy face with tears of joy face with tears of joy face with tears of joy face with tears of joy face with tears of joy face with tears of joy face with tears of joy face with tears of joy face with tears of joy face with tears of joy face with tears of joy face with tears of joy face with tears of joy face with tears of joy face with tears of joy face with tears of joy face with tears of joy face with tears of joy face with tears of joy face with tears of joy face with tears of joy face with tears of joy face with tears of joy face with tears of joy face with tears of joy face with tears of joy face with tears of joy face with tears of joy face with tears of joy face with tears of joy face with tears of joy face with tears of joy face with tears of joy face with tears of joy face with tears of joy face with tears of joy face with tears of joy face with tears of joy face with tears of joy face with tears of joy face with tears of joy face with tears of joy face with tears of joy face with tears of joy face with tears of joy face with tears of joy face with tears of joy face with tears of joy face with tears of joy face with tears of joy face with tears of joy face with tears of joy face with tears of joy face with tears of joy face with tears of joy face with tears of joy face with tears of joy face with tears of joy face with tears of joy face with tears of joy face with tears of joy face with tears of joy face with tears of joy face with tears of joy face with tears of joy face with tears of joy face with tears of joy face with tears of joy face with tears of joy face with tears of joy face with tears of joy face with tears of joy face with tears of joy face with tears of joy face with tears of joy face with tears of joy face with tears of joy face with tears of joy face with tears of joy face with tears of joy face with tears of joy face with tears of joy face with tears of joy face with tears of joy\n",
      "INDEX: 27290, TEXT: unfat unfat old man my friendunfat unfat sir unfat ask your colleagues to unfat rolling on the floor laughing rolling on the floor laughing rolling on the floor laughing rolling on the floor laughing rolling on the floor laughing rolling on the floor laughing rolling on the floor laughing rolling on the floor laughing face with tears of joy face with tears of joy face with tears of joy face with tears of joy face with tears of joy face with tears of joy face with tears of joy face with tears of joy face with tears of joy face with tears of joy face with tears of joy face with tears of joy face with tears of joy face with tears of joy face with tears of joy face with tears of joy face with tears of joy face with tears of joy face with tears of joy face with tears of joy\n",
      "INDEX: 29517, TEXT: lenovo thinkpad ultraslim t480s touchscreen 8th generation processor intel core i5 speed upto 38ghz turbo boost 8gb hd graphics storage 8gb ram512gb ssd with type c charger price ksh 39000 mpesa kisii ruto japan amerix onyango machakos university saf small blue diamond small blue diamond small blue diamond small blue diamond small blue diamond small blue diamond small blue diamond small blue diamond small blue diamond kenya\n",
      "INDEX: 32722, TEXT: amerix amewacorrupt akili kabisa theres no way utafanya everything 100 perfect buana i have nieces who watch while eating mpaka kuoga na the first words they uttered were english words kama hio si progress then wtf do you want face with tears of joy face with tears of joy face with tears of joy face with tears of joy face with tears of joy face with tears of joy face with tears of joy face with tears of joy face with tears of joy face with tears of joy face with tears of joy\n",
      "INDEX: 34629, TEXT: hp elitebook 820 gen 7 intel core i7 storage 12gb ram256gb ssd or 1tb hdd clock speed 28ghz screen resolution 1080p with 4gb intel graphics with backlite keyboard size 125 inches price 35000 0717040531hp uganda kagame mzee kisumu amerix thika road check mark button check mark button check mark button check mark button check mark button check mark button check mark button check mark button check mark button telephone receiver\n",
      "INDEX: 37682, TEXT: what prescription is this for diabetes whether type 1 or 2 it will eventually fluctuate sugar levels and this 34year old man will die of diabetes face with open eyes and hand over mouth face with open eyes and hand over mouth face with open eyes and hand over mouth face with open eyes and hand over mouth face with open eyes and hand over mouth face with open eyes and hand over mouth face with open eyes and hand over mouth face with open mouth face with open mouth face with open mouth face with open mouth face with open mouth face with open mouth face with open mouth face with open mouth face with open mouth face with open mouth face with open mouth man shrugging\n",
      "INDEX: 56260, TEXT: thats all i hadthankyou grinning face with sweat grinning face with sweat grinning face with sweat grinning face with sweat grinning face with sweat grinning face with sweat grinning face with sweat grinning face with sweat grinning face with sweat grinning face with sweat face with tears of joy face with tears of joy face with tears of joy face with tears of joy face with tears of joy face with tears of joy face with tears of joy face with tears of joy face with tears of joy face with tears of joy face with tears of joy face with tears of joy\n",
      "INDEX: 60903, TEXT: power in your hands hp elitebook 820 g4 intel core i77200u 7th gen 28 ghz 2cores 8gb ram 256gb ssd intel hd graphics 620 125 fhd touch disp 34k 0741265207 retweet widely alfred mutua marriage luos amerix bahati manyora kinoti raised hand laptop black square button registered trade mark black square button black square button black square button black square button black square button black square button victory hand\n",
      "INDEX: 67196, TEXT: lemme retweet share screenshot and tag this fellow drayk like 100 times face with tears of joy face with tears of joy face with tears of joy face with tears of joy face with tears of joy face with tears of joy loudly crying face loudly crying face loudly crying face face with tears of joy face with tears of joy face with tears of joy face with tears of joy face with tears of joy face with tears of joy face with tears of joy face with tears of joy face with tears of joy face with tears of joy face with tears of joy face with tears of joy face with tears of joy face with tears of joy face with tears of joy face with tears of joy face with tears of joy\n",
      "INDEX: 69769, TEXT: pay on delivery countrywide hp elitebook x360 1030 g3 133 touchscreen lcd 2 in 1 laptop intel core i5 8th gen i58650u 8gb lpddr3 ram 256gb pcie nvme m2 ssd 133 windows 11 ksh48000 254 713 441634 riggyg amerix tate odinga eldoret obina nairobi club suit club suit club suit club suit club suit club suit\n",
      "INDEX: 69777, TEXT: amerix murife thierry henry andrew tate kisumu eldoret riggy g salim mvurya homabay winnie odinga bungoma get ps5 standard 1padfifa 21 75k ps5 standard2pads fifa 22 85k ps5 standard2pads fifa 22 90k ps5 standard 2pads 80k call or text 0743970341 black small square black small square black small square black small square\n",
      "INDEX: 72811, TEXT: you wish i was fat in your dreams rolling on the floor laughing face with tears of joy rolling on the floor laughing face with tears of joy rolling on the floor laughing face with tears of joy rolling on the floor laughing face with tears of joy rolling on the floor laughing face with tears of joy rolling on the floor laughing face with tears of joy rolling on the floor laughing face with tears of joy rolling on the floor laughing face with tears of joy rolling on the floor laughing face with tears of joy rolling on the floor laughing face with tears of joy rolling on the floor laughing face with tears of joy rolling on the floor laughing face with tears of joy\n",
      "INDEX: 73856, TEXT: 2 days left get 25 off hp elitebook 840 g3 core i5 8gb 256gb ssd callwhatsapp 0716000565 mudavadi machakoscountyexposed ichaweri chebukati eldoret nakuru riggy g mombasa nairobi river grade 6 ronaldo round of 16 somali spaceyamagari alai manday apple kibra fire check mark button check mark button check mark button selfie\n",
      "INDEX: 73857, TEXT: 2 days left get 21 off hp elitebook850 g5 i7 32gb 512gb 156 fhd callwhatsapp 0716000565 mudavadi machakoscountyexposed ichaweri chebukati eldoret nakuru riggy g mombasa nairobi river grade 6 ronaldo round of 16 somali spaceyamagari alai manday apple fire check mark button check mark button check mark button check mark button selfie\n",
      "INDEX: 73858, TEXT: 2 days left get 35 off hp 1030 g2 x360 core i7 16gb 512gb 133touch callwhatsapp 0716000565 mudavadi machakoscountyexposed ichaweri chebukati eldoret nakuru riggy g mombasa nairobi river grade 6 ronaldo round of 16 somali spaceyamagari alai manday apple fire check mark button check mark button check mark button check mark button selfie\n",
      "INDEX: 75328, TEXT: manday please please make today my special day i need to buy bits to my son who is going to army foundation college in september and i am struggling with being able to buy it all folded hands medium skin tone folded hands medium skin tone folded hands medium skin tone folded hands medium skin tone folded hands medium skin tone folded hands medium skin tone folded hands medium skin tone folded hands medium skin tone folded hands medium skin tone folded hands medium skin tone folded hands medium skin tone folded hands medium skin tone folded hands medium skin tone folded hands medium skin tone folded hands medium skin tone folded hands medium skin tone\n",
      "INDEX: 79237, TEXT: horseracingtips fully updated like both value bets mybigbets1 mybigbets mybigbetsboom horseracing pakistancricket smalldickenergy capetown lkp2023 caperacing lormarins durban bettertogether bettingtwitter soccer betway studio microphone horse racing dark skin tone studio microphone horse racing dark skin tone police car light studio microphone police car light money bag money bag money bag man dancing man dancing man dancing smiling face with sunglasses smiling face with sunglasses smiling face with sunglasses horse racing dark skin tone horse racing dark skin tone horse racing dark skin tone\n",
      "INDEX: 80720, TEXT: bipot boom ticket quntaum podcast boom mybigbets1 mybigbets horseracing horseracingtips fifaworldcup tipsters tipster bettingtips bettingsports bettertogether bettingexpert bettingpeople bettingpicks worldcupfinal check mark button horse racing dark skin tone money bag glowing star check mark button check mark button check mark button money bag money bag money bag horse racing dark skin tone horse racing dark skin tone horse racing dark skin tone collision collision collision money bag money bag money bag\n",
      "INDEX: 80769, TEXT: happy punter boom ticket mybigbets mybigbets1 yourfriendlytipster horseracingtips horseracingtipster tipster tipsters horseracing mybigbetsboom mybigbetspodcast fifaworldcup souuthafrica bettingtwitter bettertogether cyril green apple man dancing green apple green apple man dancing green apple money bag money bag money bag horse racing dark skin tone horse racing dark skin tone horse racing dark skin tone money bag money bag money bag horse racing dark skin tone horse racing dark skin tone horse racing dark skin tone\n",
      "INDEX: 82894, TEXT: god must not like us this slip was 50 bands for me i even made this bitch shorter 89 im sorry yall we gotta make this bitch higher again i know we can ride this one if it was all higher bettertogether bettingtwitter bettertogether rolling on the floor laughing rolling on the floor laughing rolling on the floor laughing rolling on the floor laughing rolling on the floor laughing rolling on the floor laughing man facepalming mediumdark skin tone man facepalming mediumdark skin tone man facepalming mediumdark skin tone fire fire fire\n",
      "INDEX: 84024, TEXT: today was a good day if youre reading this i hope yours was too bettertogether thebekindimpact clearthelist teachertwitter party popper party popper snowman snowman snowman snowman snowman snowman snowman snowman snowman snowman snowman snowman snowman snowman snowman snowman snowman snowman snowman snowman snowman snowman snowman snowman snowman snowman snowman snowman snowman snowman snowman snowman snowman snowman snowman snowman snowman snowman snowman snowman snowman snowman snowman snowman snowman snowman snowman snowman snowman snowman snowman snowman snowman snowman snowman snowman snowman snowman snowman snowman snowman snowman snowman snowman snowman snowman snowman snowman snowman snowman snowman snowman\n",
      "INDEX: 86150, TEXT: thank you kindly for including me on this ride with all these fantastic patriots youre simple the best rt amp fbap follow my friend gt lt bluehand bettertogether rightfacing fist mediumlight skin tone collision leftfacing fist mediumlight skin tone blue heart blue heart blue heart oncoming fist mediumlight skin tone oncoming fist mediumlight skin tone oncoming fist mediumlight skin tone oncoming fist mediumlight skin tone oncoming fist mediumlight skin tone oncoming fist mediumlight skin tone shield shield fire fire shield shield collision collision\n",
      "INDEX: 89755, TEXT: taylor swift tickets week coming up am i going to fight this battle for tickets yes yes i am so stay out of the way trying to pull it off bettertogether swifties thebekindimpact smiling face with sunglasses smiling face with sunglasses smiling face with sunglasses seenoevil monkey seenoevil monkey seenoevil monkey seenoevil monkey seenoevil monkey seenoevil monkey seenoevil monkey seenoevil monkey seenoevil monkey seenoevil monkey seenoevil monkey seenoevil monkey seenoevil monkey seenoevil monkey\n",
      "INDEX: 91077, TEXT: all humans are bettertogether voteblue resist voteblue mandelabarnes tonyevers wisconsin lgbtqia blm indigenouspeoples jewish asian disabilityrights marginalized women daughters sisters moms sweat droplets waving hand mediumlight skin tone raised fist dark skin tone victory hand mediumdark skin tone rightfacing fist light skin tone leftfacing fist medium skin tone thumbs up mediumlight skin tone folded hands dark skin tone oncoming fist medium skin tone palms up together mediumdark skin tone victory hand medium skin tone rightfacing fist mediumlight skin tone leftfacing fist dark skin tone raised fist medium skin tone clapping hands mediumdark skin tone\n",
      "INDEX: 91482, TEXT: this is my only points slip this was 80k this nigga nigga ingram fumble it was going be my 8th win i have a new strategy to win constantly hmu bettertogether bettingpicks bettingpicks bettingpicks fanduel nbaparlay rolling on the floor laughing rolling on the floor laughing rolling on the floor laughing rolling on the floor laughing rolling on the floor laughing rolling on the floor laughing rolling on the floor laughing rolling on the floor laughing rolling on the floor laughing face exhaling face exhaling face exhaling face exhaling dollar banknote check mark button check mark button check mark button mobile phone with arrow mobile phone with arrow mobile phone with arrow mobile phone with arrow\n",
      "INDEX: 92050, TEXT: didnt even wanna bet today trash ass matchups but this was 30k ticket 1417 tomorrow im winning big great games tomorrow im shooting for 100k im going to get it bettingexpert bettertogether moneytips nba fanduel face exhaling dollar banknote dollar banknote dollar banknote dollar banknote face exhaling check mark button check mark button check mark button check mark button check mark button check mark button check mark button check mark button rolling on the floor laughing rolling on the floor laughing rolling on the floor laughing rolling on the floor laughing rolling on the floor laughing fire fire fire fire raising hands mediumdark skin tone\n",
      "INDEX: 101137, TEXT: k i can do that i have extra ones to share bettertogether grinning face grinning face grinning face grinning face grinning face grinning face grinning face grinning face grinning face grinning face grinning face grinning face grinning face grinning face grinning face grinning face grinning face grinning face grinning face grinning face grinning face grinning face grinning face grinning face grinning face grinning face grinning face grinning face grinning face grinning face grinning face grinning face grinning face grinning face grinning face grinning face grinning face grinning face grinning face grinning face grinning face grinning face grinning face grinning face grinning face grinning face grinning face grinning face grinning face grinning face grinning face grinning face grinning face grinning face grinning face grinning face grinning face grinning face grinning face grinning face grinning face grinning face grinning face grinning face grinning face grinning face grinning face grinning face grinning face grinning face grinning face grinning face grinning face grinning face grinning face grinning face grinning face grinning face grinning face grinning face grinning face grinning face grinning face grinning face grinning face grinning face grinning face grinning face grinning face grinning face grinning face grinning face grinning face grinning face grinning face grinning face grinning face grinning face grinning face grinning face grinning face grinning face grinning face grinning face grinning face grinning face grinning face\n",
      "INDEX: 110568, TEXT: today we made welcome cards to give to our new year 1 friends all 19 of them who start school tomorrow we cant wait to meet you and show you our big smiles firstday bettertogether kindergarten envelope zany face smiling face with hearts grinning face with big eyes woman and man holding hands medium skin tone mediumlight skin tone women holding hands woman and man holding hands medium skin tone mediumlight skin tone man standing mediumlight skin tone woman and man holding hands medium skin tone mediumlight skin tone\n",
      "INDEX: 111382, TEXT: realized i did not practice getting up early for school today which means i will be tired tomorrow morning anyone else practice getting up early or going to bed early teachertwitter bettertogether thebekindimpact clearthelist party popper party popper party popper party popper party popper party popper party popper party popper party popper party popper party popper party popper party popper party popper party popper party popper party popper party popper party popper party popper party popper party popper\n",
      "INDEX: 111553, TEXT: wednesday i start with studentsum what where is summer scaries teachertwitter bettertogether thebekindimpact clearthelist police car light police car light police car light police car light police car light police car light police car light police car light police car light police car light police car light police car light police car light police car light police car light police car light police car light police car light police car light police car light police car light police car light police car light police car light police car light\n",
      "INDEX: 111734, TEXT: books books books everybody lets retweet and see what we can do to get this list out to the world if you have the energy id appreciate the retweet thanks for your time bettertogether teachertwitter thebekindimpact clearthelist police car light police car light police car light police car light police car light sun sun police car light police car light police car light police car light police car light police car light police car light police car light police car light police car light police car light police car light police car light police car light\n",
      "INDEX: 113765, TEXT: lets clearthelist teachertwitter only 5 containers of wipes left and thats it retweet if you have the strength i appreciate it lets do this bettertogether thebekindimpact vibes positivity police car light police car light police car light police car light police car light police car light police car light police car light police car light police car light police car light police car light police car light police car light police car light police car light police car light police car light police car light police car light police car light police car light police car light police car light sun\n",
      "INDEX: 113780, TEXT: hey teachertwitter any help with this list even a rt would be forever amazing rts do wonders just to get the word out i appreciate all of you bettertogether thebekindimpact clearthelist police car light police car light police car light police car light police car light police car light police car light police car light police car light police car light police car light police car light police car light police car light police car light police car light police car light police car light police car light\n",
      "INDEX: 113912, TEXT: oh my would love a class set of these and they are 25 off today would be so thankful for a rt or any support clearthelist bettertogether adoptateacher teachertwitter johnclearmylist b2swithalane grinning face with big eyes grinning face with big eyes grinning face with big eyes flushed face flushed face flushed face grinning face with big eyes clapping hands light skin tone clapping hands light skin tone clapping hands light skin tone crossed fingers light skin tone crossed fingers light skin tone crossed fingers light skin tone\n",
      "INDEX: 115058, TEXT: congratulations bettingtips bettertogether sportybet betwaysquad betwinnernews check mark button check mark button check mark button check mark button check mark button check mark button check mark button check mark button check mark button check mark button check mark button check mark button bottle with popping cork bottle with popping cork bottle with popping cork bottle with popping cork bottle with popping cork bottle with popping cork bottle with popping cork bottle with popping cork money bag money bag money bag money bag rocket rocket rocket rocket rocket rocket rocket collision collision collision collision collision\n",
      "INDEX: 116604, TEXT: just a 7th grade history teacher looking to revamp and reload any help even rt would be forever amazing bettertogether teachertwitter thebekindimpact clearthelist b2swithalane police car light police car light police car light police car light police car light police car light police car light police car light police car light police car light police car light police car light police car light police car light police car light police car light police car light police car light police car light police car light police car light\n",
      "INDEX: 116916, TEXT: keep pushing multiple aeds are so important for a school especially a large one any help even a retweet would be forever amazing bettertogether thebekindimpact teachertwitter clearthelist project police car light police car light police car light police car light police car light police car light police car light police car light police car light police car light police car light police car light police car light police car light police car light police car light police car light police car light police car light police car light police car light police car light police car light police car light police car light police car light police car light police car light police car light police car light police car light\n",
      "INDEX: 116944, TEXT: its the final countdown so so close a retweet would mean the world lets try to blow this project up and get it launched teachertwitter gameofthrones houseofthedragon bettertogether clearthelist thebekindimpact police car light police car light police car light police car light police car light police car light police car light police car light police car light police car light police car light police car light police car light police car light police car light police car light police car light police car light police car light police car light police car light police car light\n",
      "INDEX: 117080, TEXT: every little bit helps as a coach i know that having multiple aeds is so so important if you have the ability please retweet teachertwitter bettertogether thebekindimpact clearthelist police car light police car light police car light police car light police car light police car light police car light police car light police car light police car light police car light police car light police car light police car light police car light police car light police car light police car light police car light police car light police car light\n",
      "INDEX: 119426, TEXT: what is one thing you forgot to put on your wishlist and why is it a beach house with a jetski teachertwitter bettertogether thebekindimpact smiling face with sunglasses smiling face with sunglasses smiling face with sunglasses smiling face with sunglasses smiling face with sunglasses smiling face with sunglasses smiling face with sunglasses smiling face with sunglasses smiling face with sunglasses smiling face with sunglasses smiling face with sunglasses smiling face with sunglasses smiling face with sunglasses smiling face with sunglasses smiling face with sunglasses smiling face with sunglasses smiling face with sunglasses\n",
      "INDEX: 120008, TEXT: cherish the little moments take time to make memories they are the rock you need to hold onto when times get tough bettertogether weekendthoughts teachertwitter globe showing asiaaustralia globe showing asiaaustralia globe showing asiaaustralia globe showing asiaaustralia globe showing asiaaustralia globe showing asiaaustralia globe showing asiaaustralia globe showing asiaaustralia globe showing asiaaustralia globe showing asiaaustralia globe showing asiaaustralia globe showing asiaaustralia\n",
      "INDEX: 122260, TEXT: teachertwitter the match almost ends soon any help even a rt would be forever appreciated this is a project that would change an entire school population clearthelist thebekindimpact bettertogether united states united states united states united states united states united states united states united states united states united states united states united states united states united states united states united states united states united states united states united states united states united states united states united states united states united states united states united states united states united states united states united states united states united states united states united states united states\n",
      "INDEX: 123905, TEXT: heat wave wishlist dropheating up in nj again 7th grade history teacher here gearing up 4 another yr drop and retweet if you feel up to it bettertogether clearthelists teachertwitter thebekindimpact police car light police car light police car light police car light police car light police car light police car light police car light police car light police car light police car light police car light police car light police car light police car light police car light police car light police car light police car light police car light police car light police car light police car light police car light\n",
      "INDEX: 124759, TEXT: if youre seeing this i hope you rock this friday and glide into an awesome weekend hope its filled with fun and positivity remember to take time for you teachertwitter bettertogether thebekindimpact police car light police car light police car light police car light police car light police car light police car light police car light police car light police car light police car light police car light police car light police car light police car light police car light police car light police car light police car light police car light police car light police car light police car light police car light\n",
      "INDEX: 125434, TEXT: if youre a fan of survivor or naked and afraid you need to watch alone on netflix this is a real survival show teachertwitter bettertogether police car light police car light police car light police car light police car light police car light police car light police car light police car light police car light police car light police car light police car light police car light police car light police car light police car light police car light police car light police car light police car light police car light police car light police car light police car light\n",
      "INDEX: 129715, TEXT: if youre seeing this i want you to have the best rest of this week keep smiling and i hope positivity finds its way into your life even in the smallest way be kind to each other bettertogether teachertwitter police car light police car light police car light police car light police car light police car light police car light police car light police car light police car light police car light police car light police car light police car light police car light police car light police car light police car light folded hands light skin tone folded hands light skin tone folded hands light skin tone folded hands light skin tone folded hands light skin tone folded hands light skin tone folded hands light skin tone\n",
      "INDEX: 130519, TEXT: if i didnt retweet your list in my wishlist drop i just did now i apologize for the delay my notifications have been blowing up so sometimes things get overlooked i apologize bettertogether teachertwitter thebekindimpact clearthelist police car light police car light police car light police car light police car light police car light police car light police car light police car light police car light police car light police car light police car light police car light police car light police car light police car light police car light\n",
      "INDEX: 133924, TEXT: price drop storage containers on my list found much cheaper 27 for 2 to store books costumes and keep them fresh for years teachertwitter clearthelist bettertogether thebekindimpact backhand index pointing down backhand index pointing down backhand index pointing down backhand index pointing down backhand index pointing down backhand index pointing down backhand index pointing down backhand index pointing down backhand index pointing down backhand index pointing down backhand index pointing down backhand index pointing down backhand index pointing down backhand index pointing down backhand index pointing down backhand index pointing down backhand index pointing down\n",
      "INDEX: 134276, TEXT: thank you for your support always 7th grade history teacher looking to make history come alive for his students any help even retweet would b 4ever amazing bettertogether teachertwitter clearthelist police car light police car light police car light police car light police car light police car light police car light police car light police car light police car light police car light police car light police car light police car light police car light police car light police car light police car light police car light police car light police car light police car light police car light police car light police car light\n",
      "INDEX: 134827, TEXT: ok now i can reveal the weekend wishlist drop retweet if you feel up to it we are going to clear some lists this weekend bettertogether thebekindimpact teachertwitter clearthelists police car light police car light police car light police car light police car light police car light police car light police car light police car light united states united states united states united states police car light police car light police car light police car light police car light police car light police car light police car light police car light police car light police car light police car light police car light police car light police car light police car light police car light police car light\n",
      "INDEX: 134970, TEXT: is it too early to say i have a new wishlist drop as my pinned tweet i feel like because its not friday its too early retweet if youd like again if its not too early teachertwitter bettertogether thebekindimpact clearthelist police car light police car light police car light police car light police car light police car light police car light police car light police car light police car light police car light police car light police car light police car light police car light police car light police car light police car light police car light police car light police car light\n",
      "INDEX: 136805, TEXT: hey twitter its me again just reminding you to have an amazing weekend and hope everyone finds a reason to smile bekind bettertogether thebekindimpact teachertwitter united states united states united states united states united states united states united states united states united states united states united states united states united states united states united states united states united states united states united states united states united states united states united states united states united states united states united states united states united states united states united states united states united states united states united states united states united states united states united states united states united states united states united states\n",
      "INDEX: 137167, TEXT: be kind to each other be positive these little things mean the world one step at a time enjoy the friday friyay bettertogether united states united states united states united states united states united states united states united states united states united states united states united states united states united states united states united states united states united states united states united states united states united states united states united states red heart united states united states united states united states united states united states united states united states united states united states united states united states united states united states united states united states united states united states united states united states united states united states united states united states united states united states united states\n",
      "INDEX: 137314, TEXT: 38 items and counting truly cant believe how close i am to clearing my list my students are going to be so psyched when i meet a new group of them this september clearthelists thebekindimpact bettertogether bekind face with open mouth face with open mouth face with open mouth face with open mouth face with open mouth face with open mouth face with open mouth face with open mouth face with open mouth face with open mouth face with open mouth face with open mouth face with open mouth face with open mouth face with open mouth face with open mouth face with open mouth face with open mouth face with open mouth face with open mouth face with open mouth face with open mouth face with open mouth face with open mouth face with open mouth face with open mouth face with open mouth face with open mouth face with open mouth\n",
      "INDEX: 139626, TEXT: a retweet means the world to teachertwitter clearthelist you never know who may see any help would be appreciated greatly thebekindimpact bettertogether keep rocking the week police car light police car light police car light police car light police car light police car light police car light police car light police car light police car light police car light police car light police car light police car light police car light police car light police car light police car light police car light police car light police car light police car light police car light police car light police car light police car light police car light police car light police car light police car light police car light police car light police car light police car light police car light police car light united states\n",
      "INDEX: 139976, TEXT: any help would be forever appreciated even a retweet would mean the world i appreciate all of you and your friendship bettertogether teachertwitter thebekindimpact clearthelists police car light police car light police car light police car light police car light police car light police car light police car light police car light police car light police car light police car light police car light police car light police car light police car light police car light police car light police car light police car light police car light police car light police car light police car light police car light police car light police car light police car light police car light police car light police car light\n",
      "INDEX: 143978, TEXT: bettertogether oh undenzani kodwa queen elizabeth what a 4play on my sons birthday oluthando sparkstime was exactly 1023 when i held u in my arms 11 years ago and our love will go on red heart red heart red heart red heart red heart red heart red heart red heart red heart red heart red heart red heart red heart red heart red heart red heart red heart red heart red heart red heart red heart red heart red heart red heart red heart red heart red heart red heart red heart\n",
      "INDEX: 145596, TEXT: trying to lose weight while having friedreichsataxia is like spongebob trying to live on land nonexistent disabilitytwitter disabled bettertogether amtrying weightloss rolling on the floor laughing rolling on the floor laughing rolling on the floor laughing rolling on the floor laughing rolling on the floor laughing rolling on the floor laughing rolling on the floor laughing rolling on the floor laughing rolling on the floor laughing rolling on the floor laughing rolling on the floor laughing rolling on the floor laughing rolling on the floor laughing rolling on the floor laughing\n",
      "INDEX: 145985, TEXT: wishing the team the best today the team has invested so much to make this a great experience for students teachers and leaders bettertogether speaking head hundred points smiling face with hearteyes smiling face with hearts starstruck camping clapping hands mediumlight skin tone clapping hands mediumlight skin tone clapping hands mediumlight skin tone clapping hands mediumlight skin tone clapping hands mediumlight skin tone clapping hands mediumlight skin tone clapping hands mediumlight skin tone clapping hands mediumlight skin tone clapping hands mediumlight skin tone clapping hands mediumlight skin tone clapping hands mediumlight skin tone clapping hands mediumlight skin tone clapping hands mediumlight skin tone clapping hands mediumlight skin tone smiling face with hearts\n",
      "INDEX: 146641, TEXT: new day for you jam is truly a hip shaking jam hadnt heard it in a while bettertogether radio2000 man dancing dark skin tone woman dancing mediumdark skin tone man dancing dark skin tone woman dancing mediumdark skin tone man dancing dark skin tone woman dancing mediumdark skin tone man dancing dark skin tone woman dancing mediumdark skin tone man dancing dark skin tone woman dancing mediumdark skin tone woman dancing mediumdark skin tone man dancing dark skin tone woman dancing mediumdark skin tone man dancing dark skin tone\n",
      "INDEX: 147090, TEXT: i hope everyone has an amazing day any help would be forever appreciated bettertogether thebekindimpact teachertwitter clearthelist twitterphilanthropy goodmorningtwitterworld thankyoutwice appreciation almostsummer four leaf clover four leaf clover four leaf clover four leaf clover four leaf clover four leaf clover four leaf clover four leaf clover four leaf clover four leaf clover four leaf clover four leaf clover four leaf clover four leaf clover four leaf clover four leaf clover four leaf clover four leaf clover four leaf clover four leaf clover four leaf clover four leaf clover four leaf clover four leaf clover party popper party popper\n",
      "INDEX: 149175, TEXT: premium playerprops mlb christian greene under 75 ks atobttr mlbpicks bettingtwitter bettertogether retweet amp like martial arts uniform baseball fire moneymouth face check mark button check mark button check mark button check mark button check mark button check mark button check mark button check mark button check mark button moneymouth face fire firecracker firecracker fire moneymouth face check mark button check mark button check mark button check mark button check mark button check mark button check mark button check mark button check mark button moneymouth face fire fire japanese bargain button moneymouth face moneymouth face japanese bargain button fire\n",
      "INDEX: 150303, TEXT: if you are seeing this it is going to be an awesome week think positive things all day everyday there is always something to smile about mindsetmatters perspective mentalhealthmatters teachertwitter bettertogether bekind star star star star star star star star smiling face with smiling eyes smiling face with smiling eyes smiling face with smiling eyes smiling face with smiling eyes smiling face with smiling eyes smiling face with smiling eyes smiling face with smiling eyes smiling face with smiling eyes smiling face with smiling eyes smiling face with smiling eyes smiling face with smiling eyes smiling face with smiling eyes smiling face with smiling eyes smiling face with smiling eyes smiling face with smiling eyes\n",
      "INDEX: 150866, TEXT: if you are seeing this i hope you have the happiest of fridays and the amazingest of weekends you deserve it we made it bettertogether teachertwitter thebekindimpact four leaf clover four leaf clover four leaf clover four leaf clover four leaf clover four leaf clover four leaf clover four leaf clover four leaf clover four leaf clover four leaf clover four leaf clover four leaf clover four leaf clover four leaf clover four leaf clover four leaf clover four leaf clover four leaf clover four leaf clover four leaf clover four leaf clover four leaf clover four leaf clover four leaf clover four leaf clover four leaf clover four leaf clover four leaf clover\n",
      "INDEX: 151568, TEXT: cool cats bettertogether winking face upsidedown face thumbs up smiling face with smiling eyes face with rolling eyes hibiscus rose tulip folded hands grinning face grinning face grinning face grinning face grinning face grinning face grinning face grinning face grinning face grinning face grinning face grinning face grinning face grinning face grinning face grinning face grinning face grinning face winking face winking face winking face winking face winking face winking face winking face winking face winking face winking face sparkling heart sparkling heart sparkling heart sparkling heart face with rolling eyes smiling face with smiling eyes butterfly butterfly face with tears of joy rolling on the floor laughing smiling face with sunglasses\n",
      "INDEX: 154693, TEXT: when a momma duck accidentally looses her ducklings shes not leaving until all of them are rescued happymothersday love cute mothersday2022 mothersday sundayvibes bekindalways bettertogether got7 dsds crypto thorloveandthunder duck frontfacing baby chick frontfacing baby chick frontfacing baby chick frontfacing baby chick frontfacing baby chick frontfacing baby chick two hearts frontfacing baby chick two hearts frontfacing baby chick two hearts frontfacing baby chick two hearts frontfacing baby chick two hearts\n",
      "INDEX: 156016, TEXT: thank you for this 7th grade ss teacher trying to revamp supplies for the end of this year and to start next year like comment or retweet would be amazing bettertogether thebekindimpact teachertwitter four leaf clover four leaf clover four leaf clover four leaf clover four leaf clover four leaf clover four leaf clover four leaf clover four leaf clover four leaf clover four leaf clover four leaf clover four leaf clover four leaf clover four leaf clover four leaf clover four leaf clover four leaf clover four leaf clover police car light police car light police car light police car light police car light police car light police car light police car light police car light police car light police car light police car light police car light police car light police car light police car light police car light\n",
      "INDEX: 156828, TEXT: day 2teacherappreciationweek teachertwitter thebekindimpact bettertogether any help would be forever appreciated police car light police car light police car light police car light police car light police car light herb herb herb herb droplet droplet droplet droplet droplet droplet droplet dove dove dove dove winking face with tongue four leaf clover four leaf clover four leaf clover four leaf clover four leaf clover four leaf clover four leaf clover four leaf clover four leaf clover four leaf clover four leaf clover dove four leaf clover four leaf clover dove four leaf clover four leaf clover four leaf clover four leaf clover four leaf clover four leaf clover four leaf clover four leaf clover four leaf clover four leaf clover four leaf clover four leaf clover four leaf clover four leaf clover\n",
      "INDEX: 157756, TEXT: when bae has you in your feelings like masculinitysaturday happyholidays smiling face with hearteyes smiling face with hearteyes beaming face with smiling eyes face blowing a kiss face blowing a kiss woman and man holding hands kiss red heart grimacing face anxious face with sweat anxious face with sweat anxious face with sweat confused face confused face smirking face money with wings two hearts weary face face blowing a kiss face with tears of joy crying face crying face crying face hundred points raising hands person frowning person bowing family kiss mark kiss couple with heart heart with arrow heart with arrow confounded face confounded face heart with arrow raised fist raised fist woman and man holding hands tongue tongue loudly crying face loudly crying face sweat droplets sweat droplets fire raising hands raising hands weary face raised fist raising hands smiling face with hearteyes smirking face smirking face smirking face kiss mark broken heart broken heart broken heart broken heart broken heart broken heart broken heart person walking person walking red heart red heart two hearts broken heart confused face broken heart kiss mark anxious face with sweat anxious face with sweat beaming face with smiling eyes loudly crying face kiss woman and man holding hands woman and man holding hands smiling face with hearteyes face blowing a kiss confounded face weary face crying face broken heart broken heart broken heart\n",
      "INDEX: 160615, TEXT: hp probook 430 7th generation processor intel core i5 storage 8gb ram500gb hdd clock speed 271ghz webcam wireless wifi connectivity with hdmiusb port price ksh29999 warranty 6months 0717040531 baba mumias kericho bungoma masculinitysaturday president check mark button check mark button check mark button check mark button check mark button check mark button check mark button check mark button check mark button telephone receiver kenya\n",
      "INDEX: 161810, TEXT: hp elitebook 840 g3 intel core i5 8gb ram ddr4 256gb ssd touch screen backlight keyboard very slim and portable gt8th generation ksh 34000 call 254 704 471591 sammyboykenya disbandneanow masculinitysaturday sauti sol gachagua secret service eala kumbe nakuru glowing star check mark button check mark button check mark button check mark button check mark button check mark button\n",
      "INDEX: 163637, TEXT: hp elitebook x360 1030 8th generation 2in1 touchscreen fhd 1920x1080 resolution size 13314 inches very slim processor intel core i78350u storage 16gb ram 512gb ssd backlit keyboard price ksh 70000 contact 0717040531 masculinitysaturday kasarani small blue diamond small blue diamond small blue diamond small blue diamond small blue diamond small blue diamond small blue diamond small blue diamond small blue diamond\n",
      "INDEX: 165603, TEXT: men i dont like kids wont explain masculinitysaturday triangular flag triangular flag triangular flag triangular flag triangular flag triangular flag triangular flag triangular flag triangular flag triangular flag triangular flag triangular flag triangular flag triangular flag triangular flag triangular flag triangular flag triangular flag triangular flag triangular flag triangular flag triangular flag triangular flag triangular flag triangular flag triangular flag triangular flag triangular flag triangular flag triangular flag triangular flag triangular flag triangular flag triangular flag triangular flag triangular flag triangular flag triangular flag triangular flag triangular flag triangular flag triangular flag triangular flag triangular flag triangular flag triangular flag triangular flag\n",
      "INDEX: 165809, TEXT: dell optiplex 7010 coi3 3rd generation 4gb memory ram 500gb harddrive available at 13500ksh we are located along tom mboya stcitiko building opp koja roundaboutcall masculinitysaturday devfest2022 devfestnairobi usiu thika bankwithdtb circus tent circus tent keycap 0 keycap 7 keycap 1 keycap 7 keycap 0 keycap 1 keycap 7 keycap 0 keycap 8 keycap 8\n",
      "INDEX: 167808, TEXT: lenovo thinkpad yoga x360 intel core i5 speed upto 30ghz 125inch touchscreen storage 8gb ram 256gb ssd windows 10 pro and basic softwares installed six months warranty price ksh 35000 call whatsapp 2547 01 846 097 kbcweekender masculinitysaturday elon check box with check check box with check check box with check check box with check check box with check check mark check mark\n",
      "INDEX: 168175, TEXT: hello guys hp spectre 14 x360 intel core i51165g7 11th gen 28 ghz 4 cores 16gb ram 512 gb ssd intel iris x graphics 135 fhd ips touch 130k 0741265207 rt widely kenya kajiado senator munoko winnie odinga masculinitysaturday riggy g selfie laptop black square button registered trade mark black square button black square button black square button black square button black square button registered registered black square button victory hand\n",
      "INDEX: 168176, TEXT: hello guys hp spectre 14 x360 intel core i51165g7 11th gen 28 ghz 4 cores 16gb ram 512 gb ssd intel iris x graphics 135 fhd ips touch 130k 0741265207 rt widely kenya kajiado senator munoko winnie odinga masculinitysaturday riggy g selfie laptop black square button registered trade mark black square button black square button black square button black square button black square button registered registered black square button victory hand\n",
      "INDEX: 169524, TEXT: hp elitebook 840 g4 7th generation size 14 inches processor intel core i5 storage8gb ram256gb ssd speed 27ghz upto 38ghz has backlite keyboard 6months warranty price 33500 contact 0714974772 masculinitysaturday eliud owalo kamba president uhuru kenyatta pushpin pushpin pushpin pushpin pushpin pushpin pushpin pushpin pushpin telephone receiver\n",
      "INDEX: 169650, TEXT: lenovo thinkpad yoga x360 intel core i5 speed upto 30ghz 125inch touchscreen storage 8gb ram 256gb ssd windows 10 pro amp basic softwares installed 6 months warranty price 35000 call whatsapp 0701846097 joe ageyo ababu namwamba lg100club masculinitysaturday check box with check check box with check check box with check check box with check diamond suit telephone\n",
      "INDEX: 170270, TEXT: let us plant trees masculinitysaturday palm tree evergreen tree evergreen tree evergreen tree palm tree palm tree palm tree evergreen tree evergreen tree evergreen tree evergreen tree palm tree palm tree palm tree palm tree palm tree palm tree evergreen tree evergreen tree evergreen tree evergreen tree evergreen tree palm tree palm tree palm tree palm tree palm tree palm tree evergreen tree evergreen tree evergreen tree evergreen tree evergreen tree palm tree palm tree palm tree palm tree palm tree palm tree evergreen tree evergreen tree evergreen tree evergreen tree evergreen tree evergreen tree evergreen tree palm tree palm tree palm tree palm tree palm tree palm tree evergreen tree evergreen tree evergreen tree evergreen tree evergreen tree evergreen tree evergreen tree evergreen tree palm tree palm tree palm tree palm tree palm tree palm tree palm tree palm tree evergreen tree evergreen tree evergreen tree evergreen tree evergreen tree palm tree palm tree palm tree evergreen tree evergreen tree evergreen tree evergreen tree evergreen tree evergreen tree evergreen tree evergreen tree evergreen tree evergreen tree evergreen tree evergreen tree evergreen tree evergreen tree palm tree palm tree palm tree palm tree palm tree palm tree palm tree palm tree palm tree palm tree palm tree palm tree palm tree palm tree palm tree palm tree palm tree palm tree evergreen tree evergreen tree evergreen tree evergreen tree evergreen tree evergreen tree evergreen tree evergreen tree evergreen tree evergreen tree\n",
      "INDEX: 170785, TEXT: refurbished hp elitebook g3 1030 ultrabook core i5 8g512gb ssd at ksh58500 only the first class refurbished laptop intel core i7 8g512g ssd intel hd graphics 630 1 year waranty 0742037820 masculinitysaturday george mwangi luo nyanza ksh 1 gikomba laptop laptop dollar banknote dollar banknote check mark button check mark button check mark button check mark button check mark button raised fist raised fist right arrow\n",
      "INDEX: 170846, TEXT: hp elitebook x360 1030 g3 8th generation 2in1 touchscreen fhd 1920x1080 resolution size 133 inches very slim processor intel core i78350u storage8gb ram 512gb ssd backlit keyboard price ksh 61000 contact 0717040531 ksh 1 masculinitysaturday dci small blue diamond small blue diamond small blue diamond small blue diamond small blue diamond small blue diamond small blue diamond small blue diamond small blue diamond\n",
      "INDEX: 171923, TEXT: hp elitebook 840 size 14 inch intel core i5 6th gen storage 8gb ram256gb ssd speed 25ghz with hdmi usb port price ksh 33500 call whatsapp 254701846097 masculinitysaturday william chepkut tuskernexters happy sabbath verasidika hbrfanzone check mark button check mark button check mark button check mark button check mark button check mark button hollow red circle telephone\n",
      "INDEX: 173958, TEXT: hp elitebook 810 revolve touchscreen softwares preinstalled 1year warranty processor intel core i5 storage8gb ram 256gb ssd backlit keyboard price ksh 23500 contact 0714974772 governor sakaja riggyg masculinitysaturday fifa23 derby nairobi ruto dp small blue diamond small blue diamond small blue diamond small blue diamond small blue diamond small blue diamond small blue diamond small blue diamond small blue diamond\n",
      "INDEX: 174577, TEXT: hp elitebook x360 1030 g3 8th generation 2in1 touchscreen fhd 1920x1080 resolution size 133 very slim processor intel core i58350u storage8gb ram256gb ssd backlit keyboard price ksh 50000 0717040531 masculinitysaturday kenyans orengo kinoti small blue diamond small blue diamond small blue diamond small blue diamond small blue diamond small blue diamond small blue diamond small blue diamond small blue diamond telephone receiver\n",
      "INDEX: 176087, TEXT: hp elitebook slim intel core i5 storage 8gb ram500gb hdd speed clock 23ghz battery life 4hrs with windows 10 pro and office very clean with warranty price ksh25000 contact 0717040531 lgbtq nairobi ngong marabou dp rigathi gachagua masculinitysaturday luos pushpin pushpin pushpin pushpin pushpin pushpin pushpin pushpin pushpin\n",
      "INDEX: 180700, TEXT: corey taylor snuff acoustic via hey andrew tate check this video out for what masculinity is you c guzzling q masculinity misogyny men masculinitysaturday backhand index pointing up backhand index pointing up backhand index pointing up backhand index pointing up backhand index pointing up backhand index pointing up backhand index pointing up grinning face with sweat face with tears of joy nauseated face rolling on the floor laughing grinning face with sweat nauseated face face with tears of joy rolling on the floor laughing nauseated face face with tears of joy beaming face with smiling eyes grimacing face face vomiting\n",
      "INDEX: 184953, TEXT: samsung highend phones s7 edge 17500 note 8 27999 s8 21500 s8 26500 s9 27500 s9 29998 note 9 32000 s10 35000 s10 plus 42000 0712630098 masculinitysaturday ruto arsenal kenyakwanzamegarally chebukati nakuru israel kasarani collision kenya glowing star glowing star glowing star glowing star glowing star glowing star glowing star glowing star glowing star mobile phone with arrow\n",
      "INDEX: 185150, TEXT: mnemba island snorkeling and dolphin tour zanzibar 6th11th sep bag packedl bikini sun sand sea good vibes enzamytours kenya7s junet ruto gachagua bukhungu mama ngina langata masculinitysaturday westlands kikuyu wajakoya diving mask diving mask diving mask person swimming dolphin dolphin bikini bikini sun behind cloud sun with face beach with umbrella umbrella on ground water wave water wave man swimming woman swimming milky way cityscape\n",
      "INDEX: 186997, TEXT: hp 1030 g3 x360 intel core i7 8th gen 8gb ram 512gb ssd 133inch touch screen 2 in 1 laptop 65000 0724404935 visit us at old nation house 1st floor shop a12 masculinitysaturday iebc chebukati bungoma jkia msando venezuela kugraduation ruto raila uhuru collision check mark button check mark button check mark button check mark button check mark button collision telephone round pushpin\n",
      "INDEX: 187208, TEXT: hp probook 430 g4 laptop core i5 7th generation 8gb 500gb hdd windows 10 price 37000 locationnairobi cbd calltext or whatsapp 0113586158 follow masculinitysaturday thankyouk24tv iebc chebukati sleeveup azimiondiojibu small orange diamond small orange diamond small orange diamond small orange diamond small orange diamond small orange diamond small orange diamond small orange diamond\n",
      "INDEX: 195834, TEXT: hp elitebook x360 1030 g2 133 touchscreen core i5 7th gen 8gb ddr4 ram 256gb ssd backlit keyboard 360convertible ksh52000 hp window10 budgetlaptops hplaptops hpprobook nairobi eldoret probook windows11 breaking news masculinitysaturday elitebook laptop check box with check check box with check check box with check check box with check check box with check check box with check money bag\n",
      "INDEX: 200934, TEXT: samsung highend phones note edge 13000 s7 edge 17500 note 8 27999 s8 21500 s8 26500 s9 27500 s9 29998 note 9 32000 s10 35000 s10 plus 42000 0712630098 masculinitysaturday itwikataveta mombasa sonko mothersday kenya dizzy kenya glowing star glowing star glowing star glowing star glowing star glowing star glowing star glowing star glowing star glowing star mobile phone with arrow\n",
      "INDEX: 217402, TEXT: incredible noodle in 5 minutes foodneedsafarmer foodfriday foodphotography food noodle noodles chicken trending trendingnow twitterexposed twitterversary red exclamation mark backhand index pointing down backhand index pointing down backhand index pointing down backhand index pointing down backhand index pointing down backhand index pointing down backhand index pointing down backhand index pointing down backhand index pointing down backhand index pointing down backhand index pointing down backhand index pointing down backhand index pointing up backhand index pointing up backhand index pointing up backhand index pointing up backhand index pointing up backhand index pointing up backhand index pointing up backhand index pointing up backhand index pointing up backhand index pointing up backhand index pointing up backhand index pointing up\n",
      "INDEX: 227731, TEXT: whos up for a brunch date foodie foodfriday wednesdaythought cookingmaster artwork artistontwitter foodies foodlovers breadweek toast india delhi foodblogger indianfood love spreadlove delicious brunch drooling face sandwich starstruck sandwich starstruck sandwich smiling face with hearteyes sandwich starstruck sandwich smiling face with hearteyes sandwich starstruck sandwich drooling face sandwich bread drooling face smiling face with hearteyes starstruck sandwich drooling face sandwich smiling face with hearteyes smiling face with hearteyes bread drooling face sandwich\n",
      "INDEX: 229214, TEXT: and i think jaha aloo waha mein shot on tagmention a friend wholl love it follow if you are a foodie too walkwithtaste abhinavshukla 4yearsofdearzindagi foodie foodcoma foodfriday tastebuds face with tears of joy face with tears of joy smiling face with hearteyes smiling face with hearteyes starstruck starstruck speaknoevil monkey seenoevil monkey hearnoevil monkey right arrow right arrow right arrow drooling face drooling face drooling face\n"
     ]
    }
   ],
   "source": [
    "token_lens = []\n",
    "\n",
    "for i,txt in enumerate(df['text_clean_deeper'].values):\n",
    "    tokens = tokenizer_4.encode(txt, max_length=512, truncation=True)\n",
    "    \n",
    "    token_lens.append(len(tokens))\n",
    "    \n",
    "    if len(tokens)>100:\n",
    "        \n",
    "        print(f\"INDEX: {i}, TEXT: {txt}\")  "
   ]
  },
  {
   "cell_type": "code",
   "execution_count": 53,
   "id": "2d9399b7",
   "metadata": {
    "execution": {
     "iopub.execute_input": "2023-02-16T12:33:35.959322Z",
     "iopub.status.busy": "2023-02-16T12:33:35.958699Z",
     "iopub.status.idle": "2023-02-16T12:33:36.028611Z",
     "shell.execute_reply": "2023-02-16T12:33:36.027499Z"
    },
    "papermill": {
     "duration": 0.095134,
     "end_time": "2023-02-16T12:33:36.031011",
     "exception": false,
     "start_time": "2023-02-16T12:33:35.935877",
     "status": "completed"
    },
    "tags": []
   },
   "outputs": [],
   "source": [
    "df['token_lens'] = token_lens"
   ]
  },
  {
   "cell_type": "code",
   "execution_count": 54,
   "id": "42266633",
   "metadata": {
    "execution": {
     "iopub.execute_input": "2023-02-16T12:33:36.076934Z",
     "iopub.status.busy": "2023-02-16T12:33:36.076571Z",
     "iopub.status.idle": "2023-02-16T12:33:36.091626Z",
     "shell.execute_reply": "2023-02-16T12:33:36.090664Z"
    },
    "papermill": {
     "duration": 0.041144,
     "end_time": "2023-02-16T12:33:36.093611",
     "exception": false,
     "start_time": "2023-02-16T12:33:36.052467",
     "status": "completed"
    },
    "tags": []
   },
   "outputs": [
    {
     "data": {
      "text/html": [
       "<div>\n",
       "<style scoped>\n",
       "    .dataframe tbody tr th:only-of-type {\n",
       "        vertical-align: middle;\n",
       "    }\n",
       "\n",
       "    .dataframe tbody tr th {\n",
       "        vertical-align: top;\n",
       "    }\n",
       "\n",
       "    .dataframe thead th {\n",
       "        text-align: right;\n",
       "    }\n",
       "</style>\n",
       "<table border=\"1\" class=\"dataframe\">\n",
       "  <thead>\n",
       "    <tr style=\"text-align: right;\">\n",
       "      <th></th>\n",
       "      <th>tweet_created_at</th>\n",
       "      <th>text</th>\n",
       "      <th>text_clean_deeper</th>\n",
       "      <th>Sentiment</th>\n",
       "      <th>text_len</th>\n",
       "      <th>token_lens</th>\n",
       "    </tr>\n",
       "  </thead>\n",
       "  <tbody>\n",
       "    <tr>\n",
       "      <th>0</th>\n",
       "      <td>2022-12-30 22:37:46+00:00</td>\n",
       "      <td>Men who have refused to listen to/attend @amer...</td>\n",
       "      <td>men who have refused to listen toattend classe...</td>\n",
       "      <td>Negative</td>\n",
       "      <td>36</td>\n",
       "      <td>43</td>\n",
       "    </tr>\n",
       "    <tr>\n",
       "      <th>1</th>\n",
       "      <td>2022-12-30 22:30:58+00:00</td>\n",
       "      <td>@OvOBrezzzy Take amerix next</td>\n",
       "      <td>take amerix next</td>\n",
       "      <td>Neutral</td>\n",
       "      <td>3</td>\n",
       "      <td>4</td>\n",
       "    </tr>\n",
       "    <tr>\n",
       "      <th>2</th>\n",
       "      <td>2022-12-30 22:18:00+00:00</td>\n",
       "      <td>@AyodeleYo11 @amerix Nah I’m good my masculini...</td>\n",
       "      <td>nah im good my masculinity health and wellness...</td>\n",
       "      <td>Positive</td>\n",
       "      <td>12</td>\n",
       "      <td>13</td>\n",
       "    </tr>\n",
       "    <tr>\n",
       "      <th>3</th>\n",
       "      <td>2022-12-30 20:42:54+00:00</td>\n",
       "      <td>@Amerix_DontSimp There is no need for dating i...</td>\n",
       "      <td>there is no need for dating in the first place</td>\n",
       "      <td>Negative</td>\n",
       "      <td>10</td>\n",
       "      <td>10</td>\n",
       "    </tr>\n",
       "    <tr>\n",
       "      <th>4</th>\n",
       "      <td>2022-12-30 20:32:23+00:00</td>\n",
       "      <td>@DyeAnna7 @amerix @kibe From what cos nothing ...</td>\n",
       "      <td>from what cos nothing is changing and if we go...</td>\n",
       "      <td>Positive</td>\n",
       "      <td>45</td>\n",
       "      <td>46</td>\n",
       "    </tr>\n",
       "    <tr>\n",
       "      <th>5</th>\n",
       "      <td>2022-12-30 20:25:56+00:00</td>\n",
       "      <td>@salim_the_don @MwendiaJnr I see you unblocked...</td>\n",
       "      <td>i see you unblocked me one minute uko kwa amer...</td>\n",
       "      <td>Negative</td>\n",
       "      <td>66</td>\n",
       "      <td>84</td>\n",
       "    </tr>\n",
       "    <tr>\n",
       "      <th>6</th>\n",
       "      <td>2022-12-30 20:22:24+00:00</td>\n",
       "      <td>@german_kenyan @ML_Philosophy 🤣 yes they are a...</td>\n",
       "      <td>yes they are also those who can cook i would r...</td>\n",
       "      <td>Negative</td>\n",
       "      <td>52</td>\n",
       "      <td>59</td>\n",
       "    </tr>\n",
       "    <tr>\n",
       "      <th>7</th>\n",
       "      <td>2022-12-30 20:10:49+00:00</td>\n",
       "      <td>@PadreMusa Amerix once said the alcohol menace...</td>\n",
       "      <td>amerix once said the alcohol menace is wreckin...</td>\n",
       "      <td>Negative</td>\n",
       "      <td>46</td>\n",
       "      <td>50</td>\n",
       "    </tr>\n",
       "    <tr>\n",
       "      <th>8</th>\n",
       "      <td>2022-12-30 19:36:49+00:00</td>\n",
       "      <td>@DodoPicard You're in Eastafrica, he probably ...</td>\n",
       "      <td>youre in eastafrica he probably knows amerix</td>\n",
       "      <td>Neutral</td>\n",
       "      <td>7</td>\n",
       "      <td>11</td>\n",
       "    </tr>\n",
       "    <tr>\n",
       "      <th>10</th>\n",
       "      <td>2022-12-30 19:24:08+00:00</td>\n",
       "      <td>Amerix student of the year</td>\n",
       "      <td>amerix student of the year</td>\n",
       "      <td>Neutral</td>\n",
       "      <td>5</td>\n",
       "      <td>6</td>\n",
       "    </tr>\n",
       "    <tr>\n",
       "      <th>11</th>\n",
       "      <td>2022-12-30 19:19:13+00:00</td>\n",
       "      <td>@sholla_saddam These are notes from @amerix's ...</td>\n",
       "      <td>these are notes from masculinitysaturday classes</td>\n",
       "      <td>Neutral</td>\n",
       "      <td>6</td>\n",
       "      <td>10</td>\n",
       "    </tr>\n",
       "    <tr>\n",
       "      <th>12</th>\n",
       "      <td>2022-12-30 19:14:42+00:00</td>\n",
       "      <td>@amerix I appreciate the intent of this, but I...</td>\n",
       "      <td>i appreciate the intent of this but i couldnt ...</td>\n",
       "      <td>Positive</td>\n",
       "      <td>49</td>\n",
       "      <td>51</td>\n",
       "    </tr>\n",
       "    <tr>\n",
       "      <th>13</th>\n",
       "      <td>2022-12-30 19:08:24+00:00</td>\n",
       "      <td>@Mynames_Jefff @Biancawamu2 @amerix Wouldn't b...</td>\n",
       "      <td>wouldnt be surprised</td>\n",
       "      <td>Negative</td>\n",
       "      <td>3</td>\n",
       "      <td>4</td>\n",
       "    </tr>\n",
       "    <tr>\n",
       "      <th>14</th>\n",
       "      <td>2022-12-30 19:02:43+00:00</td>\n",
       "      <td>@sharbabababa @Biancawamu2 could be @amerix wife🤷</td>\n",
       "      <td>could be wife person shrugging</td>\n",
       "      <td>Neutral</td>\n",
       "      <td>5</td>\n",
       "      <td>5</td>\n",
       "    </tr>\n",
       "    <tr>\n",
       "      <th>15</th>\n",
       "      <td>2022-12-30 18:57:05+00:00</td>\n",
       "      <td>@DyeAnna7 @amerix @kibe Was raised by toxic co...</td>\n",
       "      <td>was raised by toxic community and careless soc...</td>\n",
       "      <td>Negative</td>\n",
       "      <td>35</td>\n",
       "      <td>35</td>\n",
       "    </tr>\n",
       "    <tr>\n",
       "      <th>16</th>\n",
       "      <td>2022-12-30 18:56:07+00:00</td>\n",
       "      <td>@butdarkacademia @purevibeezz good thing is An...</td>\n",
       "      <td>good thing is andrew kibe and amerix are still...</td>\n",
       "      <td>Positive</td>\n",
       "      <td>15</td>\n",
       "      <td>17</td>\n",
       "    </tr>\n",
       "    <tr>\n",
       "      <th>17</th>\n",
       "      <td>2022-12-30 18:34:39+00:00</td>\n",
       "      <td>@amerix The system needs you sick and depresse...</td>\n",
       "      <td>the system needs you sick and depressed they m...</td>\n",
       "      <td>Negative</td>\n",
       "      <td>11</td>\n",
       "      <td>11</td>\n",
       "    </tr>\n",
       "    <tr>\n",
       "      <th>18</th>\n",
       "      <td>2022-12-30 18:32:47+00:00</td>\n",
       "      <td>As we end the year 2022, kindly pass my messag...</td>\n",
       "      <td>as we end the year 2022 kindly pass my message...</td>\n",
       "      <td>Positive</td>\n",
       "      <td>25</td>\n",
       "      <td>28</td>\n",
       "    </tr>\n",
       "    <tr>\n",
       "      <th>20</th>\n",
       "      <td>2022-12-30 18:13:04+00:00</td>\n",
       "      <td>@amerix thanks for the encouragement, God has ...</td>\n",
       "      <td>thanks for the encouragement god has been fait...</td>\n",
       "      <td>Positive</td>\n",
       "      <td>11</td>\n",
       "      <td>15</td>\n",
       "    </tr>\n",
       "    <tr>\n",
       "      <th>21</th>\n",
       "      <td>2022-12-30 17:59:25+00:00</td>\n",
       "      <td>What if they one Day arrest Amerix for \"incite...</td>\n",
       "      <td>what if they one day arrest amerix for incitem...</td>\n",
       "      <td>Negative</td>\n",
       "      <td>24</td>\n",
       "      <td>29</td>\n",
       "    </tr>\n",
       "  </tbody>\n",
       "</table>\n",
       "</div>"
      ],
      "text/plain": [
       "            tweet_created_at  \\\n",
       "0  2022-12-30 22:37:46+00:00   \n",
       "1  2022-12-30 22:30:58+00:00   \n",
       "2  2022-12-30 22:18:00+00:00   \n",
       "3  2022-12-30 20:42:54+00:00   \n",
       "4  2022-12-30 20:32:23+00:00   \n",
       "5  2022-12-30 20:25:56+00:00   \n",
       "6  2022-12-30 20:22:24+00:00   \n",
       "7  2022-12-30 20:10:49+00:00   \n",
       "8  2022-12-30 19:36:49+00:00   \n",
       "10 2022-12-30 19:24:08+00:00   \n",
       "11 2022-12-30 19:19:13+00:00   \n",
       "12 2022-12-30 19:14:42+00:00   \n",
       "13 2022-12-30 19:08:24+00:00   \n",
       "14 2022-12-30 19:02:43+00:00   \n",
       "15 2022-12-30 18:57:05+00:00   \n",
       "16 2022-12-30 18:56:07+00:00   \n",
       "17 2022-12-30 18:34:39+00:00   \n",
       "18 2022-12-30 18:32:47+00:00   \n",
       "20 2022-12-30 18:13:04+00:00   \n",
       "21 2022-12-30 17:59:25+00:00   \n",
       "\n",
       "                                                 text  \\\n",
       "0   Men who have refused to listen to/attend @amer...   \n",
       "1                        @OvOBrezzzy Take amerix next   \n",
       "2   @AyodeleYo11 @amerix Nah I’m good my masculini...   \n",
       "3   @Amerix_DontSimp There is no need for dating i...   \n",
       "4   @DyeAnna7 @amerix @kibe From what cos nothing ...   \n",
       "5   @salim_the_don @MwendiaJnr I see you unblocked...   \n",
       "6   @german_kenyan @ML_Philosophy 🤣 yes they are a...   \n",
       "7   @PadreMusa Amerix once said the alcohol menace...   \n",
       "8   @DodoPicard You're in Eastafrica, he probably ...   \n",
       "10                         Amerix student of the year   \n",
       "11  @sholla_saddam These are notes from @amerix's ...   \n",
       "12  @amerix I appreciate the intent of this, but I...   \n",
       "13  @Mynames_Jefff @Biancawamu2 @amerix Wouldn't b...   \n",
       "14  @sharbabababa @Biancawamu2 could be @amerix wife🤷   \n",
       "15  @DyeAnna7 @amerix @kibe Was raised by toxic co...   \n",
       "16  @butdarkacademia @purevibeezz good thing is An...   \n",
       "17  @amerix The system needs you sick and depresse...   \n",
       "18  As we end the year 2022, kindly pass my messag...   \n",
       "20  @amerix thanks for the encouragement, God has ...   \n",
       "21  What if they one Day arrest Amerix for \"incite...   \n",
       "\n",
       "                                    text_clean_deeper Sentiment  text_len  \\\n",
       "0   men who have refused to listen toattend classe...  Negative        36   \n",
       "1                                    take amerix next   Neutral         3   \n",
       "2   nah im good my masculinity health and wellness...  Positive        12   \n",
       "3      there is no need for dating in the first place  Negative        10   \n",
       "4   from what cos nothing is changing and if we go...  Positive        45   \n",
       "5   i see you unblocked me one minute uko kwa amer...  Negative        66   \n",
       "6   yes they are also those who can cook i would r...  Negative        52   \n",
       "7   amerix once said the alcohol menace is wreckin...  Negative        46   \n",
       "8        youre in eastafrica he probably knows amerix   Neutral         7   \n",
       "10                         amerix student of the year   Neutral         5   \n",
       "11   these are notes from masculinitysaturday classes   Neutral         6   \n",
       "12  i appreciate the intent of this but i couldnt ...  Positive        49   \n",
       "13                               wouldnt be surprised  Negative         3   \n",
       "14                     could be wife person shrugging   Neutral         5   \n",
       "15  was raised by toxic community and careless soc...  Negative        35   \n",
       "16  good thing is andrew kibe and amerix are still...  Positive        15   \n",
       "17  the system needs you sick and depressed they m...  Negative        11   \n",
       "18  as we end the year 2022 kindly pass my message...  Positive        25   \n",
       "20  thanks for the encouragement god has been fait...  Positive        11   \n",
       "21  what if they one day arrest amerix for incitem...  Negative        24   \n",
       "\n",
       "    token_lens  \n",
       "0           43  \n",
       "1            4  \n",
       "2           13  \n",
       "3           10  \n",
       "4           46  \n",
       "5           84  \n",
       "6           59  \n",
       "7           50  \n",
       "8           11  \n",
       "10           6  \n",
       "11          10  \n",
       "12          51  \n",
       "13           4  \n",
       "14           5  \n",
       "15          35  \n",
       "16          17  \n",
       "17          11  \n",
       "18          28  \n",
       "20          15  \n",
       "21          29  "
      ]
     },
     "execution_count": 54,
     "metadata": {},
     "output_type": "execute_result"
    }
   ],
   "source": [
    "df.head(20)"
   ]
  },
  {
   "cell_type": "code",
   "execution_count": null,
   "id": "0dc5cc80",
   "metadata": {
    "papermill": {
     "duration": 0.022162,
     "end_time": "2023-02-16T12:33:36.137688",
     "exception": false,
     "start_time": "2023-02-16T12:33:36.115526",
     "status": "completed"
    },
    "tags": []
   },
   "outputs": [],
   "source": []
  }
 ],
 "metadata": {
  "kernelspec": {
   "display_name": "Python 3",
   "language": "python",
   "name": "python3"
  },
  "language_info": {
   "codemirror_mode": {
    "name": "ipython",
    "version": 3
   },
   "file_extension": ".py",
   "mimetype": "text/x-python",
   "name": "python",
   "nbconvert_exporter": "python",
   "pygments_lexer": "ipython3",
   "version": "3.7.12"
  },
  "papermill": {
   "default_parameters": {},
   "duration": 193.113474,
   "end_time": "2023-02-16T12:33:39.208433",
   "environment_variables": {},
   "exception": null,
   "input_path": "__notebook__.ipynb",
   "output_path": "__notebook__.ipynb",
   "parameters": {},
   "start_time": "2023-02-16T12:30:26.094959",
   "version": "2.3.4"
  },
  "widgets": {
   "application/vnd.jupyter.widget-state+json": {
    "state": {
     "00283476c8104715b68d3da87d00c4ff": {
      "model_module": "@jupyter-widgets/base",
      "model_module_version": "1.2.0",
      "model_name": "LayoutModel",
      "state": {
       "_model_module": "@jupyter-widgets/base",
       "_model_module_version": "1.2.0",
       "_model_name": "LayoutModel",
       "_view_count": null,
       "_view_module": "@jupyter-widgets/base",
       "_view_module_version": "1.2.0",
       "_view_name": "LayoutView",
       "align_content": null,
       "align_items": null,
       "align_self": null,
       "border": null,
       "bottom": null,
       "display": null,
       "flex": null,
       "flex_flow": null,
       "grid_area": null,
       "grid_auto_columns": null,
       "grid_auto_flow": null,
       "grid_auto_rows": null,
       "grid_column": null,
       "grid_gap": null,
       "grid_row": null,
       "grid_template_areas": null,
       "grid_template_columns": null,
       "grid_template_rows": null,
       "height": null,
       "justify_content": null,
       "justify_items": null,
       "left": null,
       "margin": null,
       "max_height": null,
       "max_width": null,
       "min_height": null,
       "min_width": null,
       "object_fit": null,
       "object_position": null,
       "order": null,
       "overflow": null,
       "overflow_x": null,
       "overflow_y": null,
       "padding": null,
       "right": null,
       "top": null,
       "visibility": null,
       "width": null
      }
     },
     "00dc20c5008c41dc9f4b19cbee2cdee2": {
      "model_module": "@jupyter-widgets/controls",
      "model_module_version": "1.5.0",
      "model_name": "HTMLModel",
      "state": {
       "_dom_classes": [],
       "_model_module": "@jupyter-widgets/controls",
       "_model_module_version": "1.5.0",
       "_model_name": "HTMLModel",
       "_view_count": null,
       "_view_module": "@jupyter-widgets/controls",
       "_view_module_version": "1.5.0",
       "_view_name": "HTMLView",
       "description": "",
       "description_tooltip": null,
       "layout": "IPY_MODEL_adfb8aa638ee4929a2d7aa5057407b8a",
       "placeholder": "​",
       "style": "IPY_MODEL_be6f40ecec444286b76909b5c1c30472",
       "value": " 455k/455k [00:00&lt;00:00, 1.23MB/s]"
      }
     },
     "05d4e835385a4a06b74d59ec23c4a6a5": {
      "model_module": "@jupyter-widgets/controls",
      "model_module_version": "1.5.0",
      "model_name": "ProgressStyleModel",
      "state": {
       "_model_module": "@jupyter-widgets/controls",
       "_model_module_version": "1.5.0",
       "_model_name": "ProgressStyleModel",
       "_view_count": null,
       "_view_module": "@jupyter-widgets/base",
       "_view_module_version": "1.2.0",
       "_view_name": "StyleView",
       "bar_color": null,
       "description_width": ""
      }
     },
     "0706cad1f0ac4fd9bf1484a64e5290a8": {
      "model_module": "@jupyter-widgets/controls",
      "model_module_version": "1.5.0",
      "model_name": "HTMLModel",
      "state": {
       "_dom_classes": [],
       "_model_module": "@jupyter-widgets/controls",
       "_model_module_version": "1.5.0",
       "_model_name": "HTMLModel",
       "_view_count": null,
       "_view_module": "@jupyter-widgets/controls",
       "_view_module_version": "1.5.0",
       "_view_name": "HTMLView",
       "description": "",
       "description_tooltip": null,
       "layout": "IPY_MODEL_fa9530bcd5874f8291dfd845407d4a9c",
       "placeholder": "​",
       "style": "IPY_MODEL_507c9640af54499ea69c5f38f3ac40d5",
       "value": " 448k/448k [00:00&lt;00:00, 800kB/s]"
      }
     },
     "0766f4b5399e4932b17876b8778998ab": {
      "model_module": "@jupyter-widgets/base",
      "model_module_version": "1.2.0",
      "model_name": "LayoutModel",
      "state": {
       "_model_module": "@jupyter-widgets/base",
       "_model_module_version": "1.2.0",
       "_model_name": "LayoutModel",
       "_view_count": null,
       "_view_module": "@jupyter-widgets/base",
       "_view_module_version": "1.2.0",
       "_view_name": "LayoutView",
       "align_content": null,
       "align_items": null,
       "align_self": null,
       "border": null,
       "bottom": null,
       "display": null,
       "flex": null,
       "flex_flow": null,
       "grid_area": null,
       "grid_auto_columns": null,
       "grid_auto_flow": null,
       "grid_auto_rows": null,
       "grid_column": null,
       "grid_gap": null,
       "grid_row": null,
       "grid_template_areas": null,
       "grid_template_columns": null,
       "grid_template_rows": null,
       "height": null,
       "justify_content": null,
       "justify_items": null,
       "left": null,
       "margin": null,
       "max_height": null,
       "max_width": null,
       "min_height": null,
       "min_width": null,
       "object_fit": null,
       "object_position": null,
       "order": null,
       "overflow": null,
       "overflow_x": null,
       "overflow_y": null,
       "padding": null,
       "right": null,
       "top": null,
       "visibility": null,
       "width": null
      }
     },
     "0837986bd29d4d6f9cb85d56c6ad636c": {
      "model_module": "@jupyter-widgets/controls",
      "model_module_version": "1.5.0",
      "model_name": "DescriptionStyleModel",
      "state": {
       "_model_module": "@jupyter-widgets/controls",
       "_model_module_version": "1.5.0",
       "_model_name": "DescriptionStyleModel",
       "_view_count": null,
       "_view_module": "@jupyter-widgets/base",
       "_view_module_version": "1.2.0",
       "_view_name": "StyleView",
       "description_width": ""
      }
     },
     "0b41790f8d0549e7a99853d1eabb8e69": {
      "model_module": "@jupyter-widgets/controls",
      "model_module_version": "1.5.0",
      "model_name": "FloatProgressModel",
      "state": {
       "_dom_classes": [],
       "_model_module": "@jupyter-widgets/controls",
       "_model_module_version": "1.5.0",
       "_model_name": "FloatProgressModel",
       "_view_count": null,
       "_view_module": "@jupyter-widgets/controls",
       "_view_module_version": "1.5.0",
       "_view_name": "ProgressView",
       "bar_style": "success",
       "description": "",
       "description_tooltip": null,
       "layout": "IPY_MODEL_00283476c8104715b68d3da87d00c4ff",
       "max": 656.0,
       "min": 0.0,
       "orientation": "horizontal",
       "style": "IPY_MODEL_b5984647fa3b47fea7497f0c754d344b",
       "value": 656.0
      }
     },
     "0c457bb401c6470d9a426c8b3512612f": {
      "model_module": "@jupyter-widgets/controls",
      "model_module_version": "1.5.0",
      "model_name": "ProgressStyleModel",
      "state": {
       "_model_module": "@jupyter-widgets/controls",
       "_model_module_version": "1.5.0",
       "_model_name": "ProgressStyleModel",
       "_view_count": null,
       "_view_module": "@jupyter-widgets/base",
       "_view_module_version": "1.2.0",
       "_view_name": "StyleView",
       "bar_color": null,
       "description_width": ""
      }
     },
     "132073f5da944ca29c1fb556d494b08d": {
      "model_module": "@jupyter-widgets/base",
      "model_module_version": "1.2.0",
      "model_name": "LayoutModel",
      "state": {
       "_model_module": "@jupyter-widgets/base",
       "_model_module_version": "1.2.0",
       "_model_name": "LayoutModel",
       "_view_count": null,
       "_view_module": "@jupyter-widgets/base",
       "_view_module_version": "1.2.0",
       "_view_name": "LayoutView",
       "align_content": null,
       "align_items": null,
       "align_self": null,
       "border": null,
       "bottom": null,
       "display": null,
       "flex": null,
       "flex_flow": null,
       "grid_area": null,
       "grid_auto_columns": null,
       "grid_auto_flow": null,
       "grid_auto_rows": null,
       "grid_column": null,
       "grid_gap": null,
       "grid_row": null,
       "grid_template_areas": null,
       "grid_template_columns": null,
       "grid_template_rows": null,
       "height": null,
       "justify_content": null,
       "justify_items": null,
       "left": null,
       "margin": null,
       "max_height": null,
       "max_width": null,
       "min_height": null,
       "min_width": null,
       "object_fit": null,
       "object_position": null,
       "order": null,
       "overflow": null,
       "overflow_x": null,
       "overflow_y": null,
       "padding": null,
       "right": null,
       "top": null,
       "visibility": null,
       "width": null
      }
     },
     "14ea4107e93f4e9e8843fc71a914d1b5": {
      "model_module": "@jupyter-widgets/controls",
      "model_module_version": "1.5.0",
      "model_name": "ProgressStyleModel",
      "state": {
       "_model_module": "@jupyter-widgets/controls",
       "_model_module_version": "1.5.0",
       "_model_name": "ProgressStyleModel",
       "_view_count": null,
       "_view_module": "@jupyter-widgets/base",
       "_view_module_version": "1.2.0",
       "_view_name": "StyleView",
       "bar_color": null,
       "description_width": ""
      }
     },
     "16d59aadcdca476daf87297106c66792": {
      "model_module": "@jupyter-widgets/controls",
      "model_module_version": "1.5.0",
      "model_name": "DescriptionStyleModel",
      "state": {
       "_model_module": "@jupyter-widgets/controls",
       "_model_module_version": "1.5.0",
       "_model_name": "DescriptionStyleModel",
       "_view_count": null,
       "_view_module": "@jupyter-widgets/base",
       "_view_module_version": "1.2.0",
       "_view_name": "StyleView",
       "description_width": ""
      }
     },
     "1ac12eaba3ce46f5b5b93691e8a62225": {
      "model_module": "@jupyter-widgets/base",
      "model_module_version": "1.2.0",
      "model_name": "LayoutModel",
      "state": {
       "_model_module": "@jupyter-widgets/base",
       "_model_module_version": "1.2.0",
       "_model_name": "LayoutModel",
       "_view_count": null,
       "_view_module": "@jupyter-widgets/base",
       "_view_module_version": "1.2.0",
       "_view_name": "LayoutView",
       "align_content": null,
       "align_items": null,
       "align_self": null,
       "border": null,
       "bottom": null,
       "display": null,
       "flex": null,
       "flex_flow": null,
       "grid_area": null,
       "grid_auto_columns": null,
       "grid_auto_flow": null,
       "grid_auto_rows": null,
       "grid_column": null,
       "grid_gap": null,
       "grid_row": null,
       "grid_template_areas": null,
       "grid_template_columns": null,
       "grid_template_rows": null,
       "height": null,
       "justify_content": null,
       "justify_items": null,
       "left": null,
       "margin": null,
       "max_height": null,
       "max_width": null,
       "min_height": null,
       "min_width": null,
       "object_fit": null,
       "object_position": null,
       "order": null,
       "overflow": null,
       "overflow_x": null,
       "overflow_y": null,
       "padding": null,
       "right": null,
       "top": null,
       "visibility": null,
       "width": null
      }
     },
     "1c2ac0ca34694793963a849677628722": {
      "model_module": "@jupyter-widgets/base",
      "model_module_version": "1.2.0",
      "model_name": "LayoutModel",
      "state": {
       "_model_module": "@jupyter-widgets/base",
       "_model_module_version": "1.2.0",
       "_model_name": "LayoutModel",
       "_view_count": null,
       "_view_module": "@jupyter-widgets/base",
       "_view_module_version": "1.2.0",
       "_view_name": "LayoutView",
       "align_content": null,
       "align_items": null,
       "align_self": null,
       "border": null,
       "bottom": null,
       "display": null,
       "flex": null,
       "flex_flow": null,
       "grid_area": null,
       "grid_auto_columns": null,
       "grid_auto_flow": null,
       "grid_auto_rows": null,
       "grid_column": null,
       "grid_gap": null,
       "grid_row": null,
       "grid_template_areas": null,
       "grid_template_columns": null,
       "grid_template_rows": null,
       "height": null,
       "justify_content": null,
       "justify_items": null,
       "left": null,
       "margin": null,
       "max_height": null,
       "max_width": null,
       "min_height": null,
       "min_width": null,
       "object_fit": null,
       "object_position": null,
       "order": null,
       "overflow": null,
       "overflow_x": null,
       "overflow_y": null,
       "padding": null,
       "right": null,
       "top": null,
       "visibility": null,
       "width": null
      }
     },
     "1c51c75b965f444a87c3a2324e49928c": {
      "model_module": "@jupyter-widgets/controls",
      "model_module_version": "1.5.0",
      "model_name": "HTMLModel",
      "state": {
       "_dom_classes": [],
       "_model_module": "@jupyter-widgets/controls",
       "_model_module_version": "1.5.0",
       "_model_name": "HTMLModel",
       "_view_count": null,
       "_view_module": "@jupyter-widgets/controls",
       "_view_module_version": "1.5.0",
       "_view_name": "HTMLView",
       "description": "",
       "description_tooltip": null,
       "layout": "IPY_MODEL_d486726809694b3b81af423d7def2585",
       "placeholder": "​",
       "style": "IPY_MODEL_a219a4d9fc0e42a6813978e2c4257a3b",
       "value": "Downloading: 100%"
      }
     },
     "1de7d2777ffb4a4e898a1e9f75de5c66": {
      "model_module": "@jupyter-widgets/controls",
      "model_module_version": "1.5.0",
      "model_name": "HTMLModel",
      "state": {
       "_dom_classes": [],
       "_model_module": "@jupyter-widgets/controls",
       "_model_module_version": "1.5.0",
       "_model_name": "HTMLModel",
       "_view_count": null,
       "_view_module": "@jupyter-widgets/controls",
       "_view_module_version": "1.5.0",
       "_view_name": "HTMLView",
       "description": "",
       "description_tooltip": null,
       "layout": "IPY_MODEL_6144b5e3f8bf4ecaa2213151266cf45c",
       "placeholder": "​",
       "style": "IPY_MODEL_b3398a9f9e044a4b9958fb655d42fde4",
       "value": "Downloading: 100%"
      }
     },
     "1fca26ce34de4ac58a80ffab0681417b": {
      "model_module": "@jupyter-widgets/controls",
      "model_module_version": "1.5.0",
      "model_name": "HBoxModel",
      "state": {
       "_dom_classes": [],
       "_model_module": "@jupyter-widgets/controls",
       "_model_module_version": "1.5.0",
       "_model_name": "HBoxModel",
       "_view_count": null,
       "_view_module": "@jupyter-widgets/controls",
       "_view_module_version": "1.5.0",
       "_view_name": "HBoxView",
       "box_style": "",
       "children": [
        "IPY_MODEL_1c51c75b965f444a87c3a2324e49928c",
        "IPY_MODEL_90158998a0124087835d369961e7afa6",
        "IPY_MODEL_00dc20c5008c41dc9f4b19cbee2cdee2"
       ],
       "layout": "IPY_MODEL_b7d666a408fb4158b91a89c2b60a8d38"
      }
     },
     "270b16edfb8349b8800d30ec9ad185a4": {
      "model_module": "@jupyter-widgets/controls",
      "model_module_version": "1.5.0",
      "model_name": "HBoxModel",
      "state": {
       "_dom_classes": [],
       "_model_module": "@jupyter-widgets/controls",
       "_model_module_version": "1.5.0",
       "_model_name": "HBoxModel",
       "_view_count": null,
       "_view_module": "@jupyter-widgets/controls",
       "_view_module_version": "1.5.0",
       "_view_name": "HBoxView",
       "box_style": "",
       "children": [
        "IPY_MODEL_1de7d2777ffb4a4e898a1e9f75de5c66",
        "IPY_MODEL_ab9be9e8844d48e1910551c72e969e1f",
        "IPY_MODEL_8e583e7ab937461a98c4a968473cb9d2"
       ],
       "layout": "IPY_MODEL_a2d7c7a7fffd4557b659c4f55a85e617"
      }
     },
     "2ee3a1ffa0ce41be924b02c2632f0b4f": {
      "model_module": "@jupyter-widgets/controls",
      "model_module_version": "1.5.0",
      "model_name": "ProgressStyleModel",
      "state": {
       "_model_module": "@jupyter-widgets/controls",
       "_model_module_version": "1.5.0",
       "_model_name": "ProgressStyleModel",
       "_view_count": null,
       "_view_module": "@jupyter-widgets/base",
       "_view_module_version": "1.2.0",
       "_view_name": "StyleView",
       "bar_color": null,
       "description_width": ""
      }
     },
     "2f3690eb9399457a9ae8d25eecf3ca23": {
      "model_module": "@jupyter-widgets/base",
      "model_module_version": "1.2.0",
      "model_name": "LayoutModel",
      "state": {
       "_model_module": "@jupyter-widgets/base",
       "_model_module_version": "1.2.0",
       "_model_name": "LayoutModel",
       "_view_count": null,
       "_view_module": "@jupyter-widgets/base",
       "_view_module_version": "1.2.0",
       "_view_name": "LayoutView",
       "align_content": null,
       "align_items": null,
       "align_self": null,
       "border": null,
       "bottom": null,
       "display": null,
       "flex": null,
       "flex_flow": null,
       "grid_area": null,
       "grid_auto_columns": null,
       "grid_auto_flow": null,
       "grid_auto_rows": null,
       "grid_column": null,
       "grid_gap": null,
       "grid_row": null,
       "grid_template_areas": null,
       "grid_template_columns": null,
       "grid_template_rows": null,
       "height": null,
       "justify_content": null,
       "justify_items": null,
       "left": null,
       "margin": null,
       "max_height": null,
       "max_width": null,
       "min_height": null,
       "min_width": null,
       "object_fit": null,
       "object_position": null,
       "order": null,
       "overflow": null,
       "overflow_x": null,
       "overflow_y": null,
       "padding": null,
       "right": null,
       "top": null,
       "visibility": null,
       "width": null
      }
     },
     "347314eb2c4e40579ce163c02f44ee0c": {
      "model_module": "@jupyter-widgets/controls",
      "model_module_version": "1.5.0",
      "model_name": "DescriptionStyleModel",
      "state": {
       "_model_module": "@jupyter-widgets/controls",
       "_model_module_version": "1.5.0",
       "_model_name": "DescriptionStyleModel",
       "_view_count": null,
       "_view_module": "@jupyter-widgets/base",
       "_view_module_version": "1.2.0",
       "_view_name": "StyleView",
       "description_width": ""
      }
     },
     "36df571005ed46899ca3703bb89a3006": {
      "model_module": "@jupyter-widgets/controls",
      "model_module_version": "1.5.0",
      "model_name": "DescriptionStyleModel",
      "state": {
       "_model_module": "@jupyter-widgets/controls",
       "_model_module_version": "1.5.0",
       "_model_name": "DescriptionStyleModel",
       "_view_count": null,
       "_view_module": "@jupyter-widgets/base",
       "_view_module_version": "1.2.0",
       "_view_name": "StyleView",
       "description_width": ""
      }
     },
     "3c0e4ac5b7c145b6993e48648e81ac6d": {
      "model_module": "@jupyter-widgets/controls",
      "model_module_version": "1.5.0",
      "model_name": "HTMLModel",
      "state": {
       "_dom_classes": [],
       "_model_module": "@jupyter-widgets/controls",
       "_model_module_version": "1.5.0",
       "_model_name": "HTMLModel",
       "_view_count": null,
       "_view_module": "@jupyter-widgets/controls",
       "_view_module_version": "1.5.0",
       "_view_name": "HTMLView",
       "description": "",
       "description_tooltip": null,
       "layout": "IPY_MODEL_730d9df26e5442d886bff7b4d1cb9452",
       "placeholder": "​",
       "style": "IPY_MODEL_347314eb2c4e40579ce163c02f44ee0c",
       "value": "Downloading: 100%"
      }
     },
     "3d35dd89953f48459fa0515cc2f0b4c9": {
      "model_module": "@jupyter-widgets/base",
      "model_module_version": "1.2.0",
      "model_name": "LayoutModel",
      "state": {
       "_model_module": "@jupyter-widgets/base",
       "_model_module_version": "1.2.0",
       "_model_name": "LayoutModel",
       "_view_count": null,
       "_view_module": "@jupyter-widgets/base",
       "_view_module_version": "1.2.0",
       "_view_name": "LayoutView",
       "align_content": null,
       "align_items": null,
       "align_self": null,
       "border": null,
       "bottom": null,
       "display": null,
       "flex": null,
       "flex_flow": null,
       "grid_area": null,
       "grid_auto_columns": null,
       "grid_auto_flow": null,
       "grid_auto_rows": null,
       "grid_column": null,
       "grid_gap": null,
       "grid_row": null,
       "grid_template_areas": null,
       "grid_template_columns": null,
       "grid_template_rows": null,
       "height": null,
       "justify_content": null,
       "justify_items": null,
       "left": null,
       "margin": null,
       "max_height": null,
       "max_width": null,
       "min_height": null,
       "min_width": null,
       "object_fit": null,
       "object_position": null,
       "order": null,
       "overflow": null,
       "overflow_x": null,
       "overflow_y": null,
       "padding": null,
       "right": null,
       "top": null,
       "visibility": null,
       "width": null
      }
     },
     "3eed80be06e94eb5923c83217e9efaba": {
      "model_module": "@jupyter-widgets/base",
      "model_module_version": "1.2.0",
      "model_name": "LayoutModel",
      "state": {
       "_model_module": "@jupyter-widgets/base",
       "_model_module_version": "1.2.0",
       "_model_name": "LayoutModel",
       "_view_count": null,
       "_view_module": "@jupyter-widgets/base",
       "_view_module_version": "1.2.0",
       "_view_name": "LayoutView",
       "align_content": null,
       "align_items": null,
       "align_self": null,
       "border": null,
       "bottom": null,
       "display": null,
       "flex": null,
       "flex_flow": null,
       "grid_area": null,
       "grid_auto_columns": null,
       "grid_auto_flow": null,
       "grid_auto_rows": null,
       "grid_column": null,
       "grid_gap": null,
       "grid_row": null,
       "grid_template_areas": null,
       "grid_template_columns": null,
       "grid_template_rows": null,
       "height": null,
       "justify_content": null,
       "justify_items": null,
       "left": null,
       "margin": null,
       "max_height": null,
       "max_width": null,
       "min_height": null,
       "min_width": null,
       "object_fit": null,
       "object_position": null,
       "order": null,
       "overflow": null,
       "overflow_x": null,
       "overflow_y": null,
       "padding": null,
       "right": null,
       "top": null,
       "visibility": null,
       "width": null
      }
     },
     "42265b0135244d1dadca8bfebdfef797": {
      "model_module": "@jupyter-widgets/base",
      "model_module_version": "1.2.0",
      "model_name": "LayoutModel",
      "state": {
       "_model_module": "@jupyter-widgets/base",
       "_model_module_version": "1.2.0",
       "_model_name": "LayoutModel",
       "_view_count": null,
       "_view_module": "@jupyter-widgets/base",
       "_view_module_version": "1.2.0",
       "_view_name": "LayoutView",
       "align_content": null,
       "align_items": null,
       "align_self": null,
       "border": null,
       "bottom": null,
       "display": null,
       "flex": null,
       "flex_flow": null,
       "grid_area": null,
       "grid_auto_columns": null,
       "grid_auto_flow": null,
       "grid_auto_rows": null,
       "grid_column": null,
       "grid_gap": null,
       "grid_row": null,
       "grid_template_areas": null,
       "grid_template_columns": null,
       "grid_template_rows": null,
       "height": null,
       "justify_content": null,
       "justify_items": null,
       "left": null,
       "margin": null,
       "max_height": null,
       "max_width": null,
       "min_height": null,
       "min_width": null,
       "object_fit": null,
       "object_position": null,
       "order": null,
       "overflow": null,
       "overflow_x": null,
       "overflow_y": null,
       "padding": null,
       "right": null,
       "top": null,
       "visibility": null,
       "width": null
      }
     },
     "435ba5b258b445c78df6e588c72132de": {
      "model_module": "@jupyter-widgets/controls",
      "model_module_version": "1.5.0",
      "model_name": "DescriptionStyleModel",
      "state": {
       "_model_module": "@jupyter-widgets/controls",
       "_model_module_version": "1.5.0",
       "_model_name": "DescriptionStyleModel",
       "_view_count": null,
       "_view_module": "@jupyter-widgets/base",
       "_view_module_version": "1.2.0",
       "_view_name": "StyleView",
       "description_width": ""
      }
     },
     "435e8301630e4a77a7fb95bf0cd2bc48": {
      "model_module": "@jupyter-widgets/base",
      "model_module_version": "1.2.0",
      "model_name": "LayoutModel",
      "state": {
       "_model_module": "@jupyter-widgets/base",
       "_model_module_version": "1.2.0",
       "_model_name": "LayoutModel",
       "_view_count": null,
       "_view_module": "@jupyter-widgets/base",
       "_view_module_version": "1.2.0",
       "_view_name": "LayoutView",
       "align_content": null,
       "align_items": null,
       "align_self": null,
       "border": null,
       "bottom": null,
       "display": null,
       "flex": null,
       "flex_flow": null,
       "grid_area": null,
       "grid_auto_columns": null,
       "grid_auto_flow": null,
       "grid_auto_rows": null,
       "grid_column": null,
       "grid_gap": null,
       "grid_row": null,
       "grid_template_areas": null,
       "grid_template_columns": null,
       "grid_template_rows": null,
       "height": null,
       "justify_content": null,
       "justify_items": null,
       "left": null,
       "margin": null,
       "max_height": null,
       "max_width": null,
       "min_height": null,
       "min_width": null,
       "object_fit": null,
       "object_position": null,
       "order": null,
       "overflow": null,
       "overflow_x": null,
       "overflow_y": null,
       "padding": null,
       "right": null,
       "top": null,
       "visibility": null,
       "width": null
      }
     },
     "4975a4773028460da4d1ee0e622741e8": {
      "model_module": "@jupyter-widgets/controls",
      "model_module_version": "1.5.0",
      "model_name": "HTMLModel",
      "state": {
       "_dom_classes": [],
       "_model_module": "@jupyter-widgets/controls",
       "_model_module_version": "1.5.0",
       "_model_name": "HTMLModel",
       "_view_count": null,
       "_view_module": "@jupyter-widgets/controls",
       "_view_module_version": "1.5.0",
       "_view_name": "HTMLView",
       "description": "",
       "description_tooltip": null,
       "layout": "IPY_MODEL_767dc7d60eb34b4081ca98c7a61aa071",
       "placeholder": "​",
       "style": "IPY_MODEL_435ba5b258b445c78df6e588c72132de",
       "value": " 1.21M/1.21M [00:00&lt;00:00, 2.42MB/s]"
      }
     },
     "4fc8247fd4364ca18399a83e30ce2842": {
      "model_module": "@jupyter-widgets/controls",
      "model_module_version": "1.5.0",
      "model_name": "HBoxModel",
      "state": {
       "_dom_classes": [],
       "_model_module": "@jupyter-widgets/controls",
       "_model_module_version": "1.5.0",
       "_model_name": "HBoxModel",
       "_view_count": null,
       "_view_module": "@jupyter-widgets/controls",
       "_view_module_version": "1.5.0",
       "_view_name": "HBoxView",
       "box_style": "",
       "children": [
        "IPY_MODEL_3c0e4ac5b7c145b6993e48648e81ac6d",
        "IPY_MODEL_e6b5faae8baa4c1c9b40707a5f60217d",
        "IPY_MODEL_0706cad1f0ac4fd9bf1484a64e5290a8"
       ],
       "layout": "IPY_MODEL_d6257ca85e2242c1ad6fbfdfc5d707d6"
      }
     },
     "507c9640af54499ea69c5f38f3ac40d5": {
      "model_module": "@jupyter-widgets/controls",
      "model_module_version": "1.5.0",
      "model_name": "DescriptionStyleModel",
      "state": {
       "_model_module": "@jupyter-widgets/controls",
       "_model_module_version": "1.5.0",
       "_model_name": "DescriptionStyleModel",
       "_view_count": null,
       "_view_module": "@jupyter-widgets/base",
       "_view_module_version": "1.2.0",
       "_view_name": "StyleView",
       "description_width": ""
      }
     },
     "51e12a1b97bb40bf9d84048ae47b6fe5": {
      "model_module": "@jupyter-widgets/controls",
      "model_module_version": "1.5.0",
      "model_name": "ProgressStyleModel",
      "state": {
       "_model_module": "@jupyter-widgets/controls",
       "_model_module_version": "1.5.0",
       "_model_name": "ProgressStyleModel",
       "_view_count": null,
       "_view_module": "@jupyter-widgets/base",
       "_view_module_version": "1.2.0",
       "_view_name": "StyleView",
       "bar_color": null,
       "description_width": ""
      }
     },
     "53da4a62d15f421dbdc2fca55ba9edd1": {
      "model_module": "@jupyter-widgets/controls",
      "model_module_version": "1.5.0",
      "model_name": "DescriptionStyleModel",
      "state": {
       "_model_module": "@jupyter-widgets/controls",
       "_model_module_version": "1.5.0",
       "_model_name": "DescriptionStyleModel",
       "_view_count": null,
       "_view_module": "@jupyter-widgets/base",
       "_view_module_version": "1.2.0",
       "_view_name": "StyleView",
       "description_width": ""
      }
     },
     "59f4f42b3ded421fa01cb7e8621c30a7": {
      "model_module": "@jupyter-widgets/controls",
      "model_module_version": "1.5.0",
      "model_name": "HTMLModel",
      "state": {
       "_dom_classes": [],
       "_model_module": "@jupyter-widgets/controls",
       "_model_module_version": "1.5.0",
       "_model_name": "HTMLModel",
       "_view_count": null,
       "_view_module": "@jupyter-widgets/controls",
       "_view_module_version": "1.5.0",
       "_view_name": "HTMLView",
       "description": "",
       "description_tooltip": null,
       "layout": "IPY_MODEL_f104c4052edc471b9bef928a5142b712",
       "placeholder": "​",
       "style": "IPY_MODEL_eed79d6f27c640b29ce651c7aefff0d2",
       "value": "Downloading: 100%"
      }
     },
     "6018eec8b74b433da0135440ddbffb5d": {
      "model_module": "@jupyter-widgets/controls",
      "model_module_version": "1.5.0",
      "model_name": "HTMLModel",
      "state": {
       "_dom_classes": [],
       "_model_module": "@jupyter-widgets/controls",
       "_model_module_version": "1.5.0",
       "_model_name": "HTMLModel",
       "_view_count": null,
       "_view_module": "@jupyter-widgets/controls",
       "_view_module_version": "1.5.0",
       "_view_name": "HTMLView",
       "description": "",
       "description_tooltip": null,
       "layout": "IPY_MODEL_796aa586a85e4d979de6c320c801a9f9",
       "placeholder": "​",
       "style": "IPY_MODEL_0837986bd29d4d6f9cb85d56c6ad636c",
       "value": " 28.0/28.0 [00:00&lt;00:00, 945B/s]"
      }
     },
     "60b83d4f0b944acd95f39094250fc504": {
      "model_module": "@jupyter-widgets/controls",
      "model_module_version": "1.5.0",
      "model_name": "DescriptionStyleModel",
      "state": {
       "_model_module": "@jupyter-widgets/controls",
       "_model_module_version": "1.5.0",
       "_model_name": "DescriptionStyleModel",
       "_view_count": null,
       "_view_module": "@jupyter-widgets/base",
       "_view_module_version": "1.2.0",
       "_view_name": "StyleView",
       "description_width": ""
      }
     },
     "6144b5e3f8bf4ecaa2213151266cf45c": {
      "model_module": "@jupyter-widgets/base",
      "model_module_version": "1.2.0",
      "model_name": "LayoutModel",
      "state": {
       "_model_module": "@jupyter-widgets/base",
       "_model_module_version": "1.2.0",
       "_model_name": "LayoutModel",
       "_view_count": null,
       "_view_module": "@jupyter-widgets/base",
       "_view_module_version": "1.2.0",
       "_view_name": "LayoutView",
       "align_content": null,
       "align_items": null,
       "align_self": null,
       "border": null,
       "bottom": null,
       "display": null,
       "flex": null,
       "flex_flow": null,
       "grid_area": null,
       "grid_auto_columns": null,
       "grid_auto_flow": null,
       "grid_auto_rows": null,
       "grid_column": null,
       "grid_gap": null,
       "grid_row": null,
       "grid_template_areas": null,
       "grid_template_columns": null,
       "grid_template_rows": null,
       "height": null,
       "justify_content": null,
       "justify_items": null,
       "left": null,
       "margin": null,
       "max_height": null,
       "max_width": null,
       "min_height": null,
       "min_width": null,
       "object_fit": null,
       "object_position": null,
       "order": null,
       "overflow": null,
       "overflow_x": null,
       "overflow_y": null,
       "padding": null,
       "right": null,
       "top": null,
       "visibility": null,
       "width": null
      }
     },
     "65281598d76641d3b34461b3d25d198f": {
      "model_module": "@jupyter-widgets/controls",
      "model_module_version": "1.5.0",
      "model_name": "HTMLModel",
      "state": {
       "_dom_classes": [],
       "_model_module": "@jupyter-widgets/controls",
       "_model_module_version": "1.5.0",
       "_model_name": "HTMLModel",
       "_view_count": null,
       "_view_module": "@jupyter-widgets/controls",
       "_view_module_version": "1.5.0",
       "_view_name": "HTMLView",
       "description": "",
       "description_tooltip": null,
       "layout": "IPY_MODEL_8a0bc7c77f9a415786212e807c7b5b83",
       "placeholder": "​",
       "style": "IPY_MODEL_53da4a62d15f421dbdc2fca55ba9edd1",
       "value": " 656/656 [00:00&lt;00:00, 24.2kB/s]"
      }
     },
     "676aebad1b1e475bb631ab679889aaad": {
      "model_module": "@jupyter-widgets/controls",
      "model_module_version": "1.5.0",
      "model_name": "HTMLModel",
      "state": {
       "_dom_classes": [],
       "_model_module": "@jupyter-widgets/controls",
       "_model_module_version": "1.5.0",
       "_model_name": "HTMLModel",
       "_view_count": null,
       "_view_module": "@jupyter-widgets/controls",
       "_view_module_version": "1.5.0",
       "_view_name": "HTMLView",
       "description": "",
       "description_tooltip": null,
       "layout": "IPY_MODEL_1c2ac0ca34694793963a849677628722",
       "placeholder": "​",
       "style": "IPY_MODEL_16d59aadcdca476daf87297106c66792",
       "value": "Downloading: 100%"
      }
     },
     "6bf0a0d6657945f9ba60baafb298cdc7": {
      "model_module": "@jupyter-widgets/controls",
      "model_module_version": "1.5.0",
      "model_name": "DescriptionStyleModel",
      "state": {
       "_model_module": "@jupyter-widgets/controls",
       "_model_module_version": "1.5.0",
       "_model_name": "DescriptionStyleModel",
       "_view_count": null,
       "_view_module": "@jupyter-widgets/base",
       "_view_module_version": "1.2.0",
       "_view_name": "StyleView",
       "description_width": ""
      }
     },
     "6fb8c52bc3e141179e761edbd0c3e4ac": {
      "model_module": "@jupyter-widgets/controls",
      "model_module_version": "1.5.0",
      "model_name": "HBoxModel",
      "state": {
       "_dom_classes": [],
       "_model_module": "@jupyter-widgets/controls",
       "_model_module_version": "1.5.0",
       "_model_name": "HBoxModel",
       "_view_count": null,
       "_view_module": "@jupyter-widgets/controls",
       "_view_module_version": "1.5.0",
       "_view_name": "HBoxView",
       "box_style": "",
       "children": [
        "IPY_MODEL_e3ae796bb4564b44914bf3927f733ceb",
        "IPY_MODEL_f68231cecdf94a9eafde24fb9c97bca4",
        "IPY_MODEL_fbb67aced55d481690a3ce6490077056"
       ],
       "layout": "IPY_MODEL_c8615efe36bc4d068cc589ecfb7316f9"
      }
     },
     "730d9df26e5442d886bff7b4d1cb9452": {
      "model_module": "@jupyter-widgets/base",
      "model_module_version": "1.2.0",
      "model_name": "LayoutModel",
      "state": {
       "_model_module": "@jupyter-widgets/base",
       "_model_module_version": "1.2.0",
       "_model_name": "LayoutModel",
       "_view_count": null,
       "_view_module": "@jupyter-widgets/base",
       "_view_module_version": "1.2.0",
       "_view_name": "LayoutView",
       "align_content": null,
       "align_items": null,
       "align_self": null,
       "border": null,
       "bottom": null,
       "display": null,
       "flex": null,
       "flex_flow": null,
       "grid_area": null,
       "grid_auto_columns": null,
       "grid_auto_flow": null,
       "grid_auto_rows": null,
       "grid_column": null,
       "grid_gap": null,
       "grid_row": null,
       "grid_template_areas": null,
       "grid_template_columns": null,
       "grid_template_rows": null,
       "height": null,
       "justify_content": null,
       "justify_items": null,
       "left": null,
       "margin": null,
       "max_height": null,
       "max_width": null,
       "min_height": null,
       "min_width": null,
       "object_fit": null,
       "object_position": null,
       "order": null,
       "overflow": null,
       "overflow_x": null,
       "overflow_y": null,
       "padding": null,
       "right": null,
       "top": null,
       "visibility": null,
       "width": null
      }
     },
     "7649f337c37f45938359a3450dcc3555": {
      "model_module": "@jupyter-widgets/controls",
      "model_module_version": "1.5.0",
      "model_name": "DescriptionStyleModel",
      "state": {
       "_model_module": "@jupyter-widgets/controls",
       "_model_module_version": "1.5.0",
       "_model_name": "DescriptionStyleModel",
       "_view_count": null,
       "_view_module": "@jupyter-widgets/base",
       "_view_module_version": "1.2.0",
       "_view_name": "StyleView",
       "description_width": ""
      }
     },
     "767dc7d60eb34b4081ca98c7a61aa071": {
      "model_module": "@jupyter-widgets/base",
      "model_module_version": "1.2.0",
      "model_name": "LayoutModel",
      "state": {
       "_model_module": "@jupyter-widgets/base",
       "_model_module_version": "1.2.0",
       "_model_name": "LayoutModel",
       "_view_count": null,
       "_view_module": "@jupyter-widgets/base",
       "_view_module_version": "1.2.0",
       "_view_name": "LayoutView",
       "align_content": null,
       "align_items": null,
       "align_self": null,
       "border": null,
       "bottom": null,
       "display": null,
       "flex": null,
       "flex_flow": null,
       "grid_area": null,
       "grid_auto_columns": null,
       "grid_auto_flow": null,
       "grid_auto_rows": null,
       "grid_column": null,
       "grid_gap": null,
       "grid_row": null,
       "grid_template_areas": null,
       "grid_template_columns": null,
       "grid_template_rows": null,
       "height": null,
       "justify_content": null,
       "justify_items": null,
       "left": null,
       "margin": null,
       "max_height": null,
       "max_width": null,
       "min_height": null,
       "min_width": null,
       "object_fit": null,
       "object_position": null,
       "order": null,
       "overflow": null,
       "overflow_x": null,
       "overflow_y": null,
       "padding": null,
       "right": null,
       "top": null,
       "visibility": null,
       "width": null
      }
     },
     "7684379f7f0c49b486f18acdd54b607b": {
      "model_module": "@jupyter-widgets/base",
      "model_module_version": "1.2.0",
      "model_name": "LayoutModel",
      "state": {
       "_model_module": "@jupyter-widgets/base",
       "_model_module_version": "1.2.0",
       "_model_name": "LayoutModel",
       "_view_count": null,
       "_view_module": "@jupyter-widgets/base",
       "_view_module_version": "1.2.0",
       "_view_name": "LayoutView",
       "align_content": null,
       "align_items": null,
       "align_self": null,
       "border": null,
       "bottom": null,
       "display": null,
       "flex": null,
       "flex_flow": null,
       "grid_area": null,
       "grid_auto_columns": null,
       "grid_auto_flow": null,
       "grid_auto_rows": null,
       "grid_column": null,
       "grid_gap": null,
       "grid_row": null,
       "grid_template_areas": null,
       "grid_template_columns": null,
       "grid_template_rows": null,
       "height": null,
       "justify_content": null,
       "justify_items": null,
       "left": null,
       "margin": null,
       "max_height": null,
       "max_width": null,
       "min_height": null,
       "min_width": null,
       "object_fit": null,
       "object_position": null,
       "order": null,
       "overflow": null,
       "overflow_x": null,
       "overflow_y": null,
       "padding": null,
       "right": null,
       "top": null,
       "visibility": null,
       "width": null
      }
     },
     "796aa586a85e4d979de6c320c801a9f9": {
      "model_module": "@jupyter-widgets/base",
      "model_module_version": "1.2.0",
      "model_name": "LayoutModel",
      "state": {
       "_model_module": "@jupyter-widgets/base",
       "_model_module_version": "1.2.0",
       "_model_name": "LayoutModel",
       "_view_count": null,
       "_view_module": "@jupyter-widgets/base",
       "_view_module_version": "1.2.0",
       "_view_name": "LayoutView",
       "align_content": null,
       "align_items": null,
       "align_self": null,
       "border": null,
       "bottom": null,
       "display": null,
       "flex": null,
       "flex_flow": null,
       "grid_area": null,
       "grid_auto_columns": null,
       "grid_auto_flow": null,
       "grid_auto_rows": null,
       "grid_column": null,
       "grid_gap": null,
       "grid_row": null,
       "grid_template_areas": null,
       "grid_template_columns": null,
       "grid_template_rows": null,
       "height": null,
       "justify_content": null,
       "justify_items": null,
       "left": null,
       "margin": null,
       "max_height": null,
       "max_width": null,
       "min_height": null,
       "min_width": null,
       "object_fit": null,
       "object_position": null,
       "order": null,
       "overflow": null,
       "overflow_x": null,
       "overflow_y": null,
       "padding": null,
       "right": null,
       "top": null,
       "visibility": null,
       "width": null
      }
     },
     "7e8453a642f84b58b10a610e240c26b0": {
      "model_module": "@jupyter-widgets/controls",
      "model_module_version": "1.5.0",
      "model_name": "HTMLModel",
      "state": {
       "_dom_classes": [],
       "_model_module": "@jupyter-widgets/controls",
       "_model_module_version": "1.5.0",
       "_model_name": "HTMLModel",
       "_view_count": null,
       "_view_module": "@jupyter-widgets/controls",
       "_view_module_version": "1.5.0",
       "_view_name": "HTMLView",
       "description": "",
       "description_tooltip": null,
       "layout": "IPY_MODEL_2f3690eb9399457a9ae8d25eecf3ca23",
       "placeholder": "​",
       "style": "IPY_MODEL_b93b8c681e2c4da2822fc50168a0b8e7",
       "value": "Downloading: 100%"
      }
     },
     "85355a549b4c49748119f4779876d714": {
      "model_module": "@jupyter-widgets/base",
      "model_module_version": "1.2.0",
      "model_name": "LayoutModel",
      "state": {
       "_model_module": "@jupyter-widgets/base",
       "_model_module_version": "1.2.0",
       "_model_name": "LayoutModel",
       "_view_count": null,
       "_view_module": "@jupyter-widgets/base",
       "_view_module_version": "1.2.0",
       "_view_name": "LayoutView",
       "align_content": null,
       "align_items": null,
       "align_self": null,
       "border": null,
       "bottom": null,
       "display": null,
       "flex": null,
       "flex_flow": null,
       "grid_area": null,
       "grid_auto_columns": null,
       "grid_auto_flow": null,
       "grid_auto_rows": null,
       "grid_column": null,
       "grid_gap": null,
       "grid_row": null,
       "grid_template_areas": null,
       "grid_template_columns": null,
       "grid_template_rows": null,
       "height": null,
       "justify_content": null,
       "justify_items": null,
       "left": null,
       "margin": null,
       "max_height": null,
       "max_width": null,
       "min_height": null,
       "min_width": null,
       "object_fit": null,
       "object_position": null,
       "order": null,
       "overflow": null,
       "overflow_x": null,
       "overflow_y": null,
       "padding": null,
       "right": null,
       "top": null,
       "visibility": null,
       "width": null
      }
     },
     "8a0bc7c77f9a415786212e807c7b5b83": {
      "model_module": "@jupyter-widgets/base",
      "model_module_version": "1.2.0",
      "model_name": "LayoutModel",
      "state": {
       "_model_module": "@jupyter-widgets/base",
       "_model_module_version": "1.2.0",
       "_model_name": "LayoutModel",
       "_view_count": null,
       "_view_module": "@jupyter-widgets/base",
       "_view_module_version": "1.2.0",
       "_view_name": "LayoutView",
       "align_content": null,
       "align_items": null,
       "align_self": null,
       "border": null,
       "bottom": null,
       "display": null,
       "flex": null,
       "flex_flow": null,
       "grid_area": null,
       "grid_auto_columns": null,
       "grid_auto_flow": null,
       "grid_auto_rows": null,
       "grid_column": null,
       "grid_gap": null,
       "grid_row": null,
       "grid_template_areas": null,
       "grid_template_columns": null,
       "grid_template_rows": null,
       "height": null,
       "justify_content": null,
       "justify_items": null,
       "left": null,
       "margin": null,
       "max_height": null,
       "max_width": null,
       "min_height": null,
       "min_width": null,
       "object_fit": null,
       "object_position": null,
       "order": null,
       "overflow": null,
       "overflow_x": null,
       "overflow_y": null,
       "padding": null,
       "right": null,
       "top": null,
       "visibility": null,
       "width": null
      }
     },
     "8cd6595c6adb4e279f30721d704e757c": {
      "model_module": "@jupyter-widgets/controls",
      "model_module_version": "1.5.0",
      "model_name": "HBoxModel",
      "state": {
       "_dom_classes": [],
       "_model_module": "@jupyter-widgets/controls",
       "_model_module_version": "1.5.0",
       "_model_name": "HBoxModel",
       "_view_count": null,
       "_view_module": "@jupyter-widgets/controls",
       "_view_module_version": "1.5.0",
       "_view_name": "HBoxView",
       "box_style": "",
       "children": [
        "IPY_MODEL_7e8453a642f84b58b10a610e240c26b0",
        "IPY_MODEL_d95fb70c93ce4a088044cbdc723024a6",
        "IPY_MODEL_6018eec8b74b433da0135440ddbffb5d"
       ],
       "layout": "IPY_MODEL_f9fdf9676366480598a327889ad62472"
      }
     },
     "8e583e7ab937461a98c4a968473cb9d2": {
      "model_module": "@jupyter-widgets/controls",
      "model_module_version": "1.5.0",
      "model_name": "HTMLModel",
      "state": {
       "_dom_classes": [],
       "_model_module": "@jupyter-widgets/controls",
       "_model_module_version": "1.5.0",
       "_model_name": "HTMLModel",
       "_view_count": null,
       "_view_module": "@jupyter-widgets/controls",
       "_view_module_version": "1.5.0",
       "_view_name": "HTMLView",
       "description": "",
       "description_tooltip": null,
       "layout": "IPY_MODEL_1ac12eaba3ce46f5b5b93691e8a62225",
       "placeholder": "​",
       "style": "IPY_MODEL_6bf0a0d6657945f9ba60baafb298cdc7",
       "value": " 226k/226k [00:00&lt;00:00, 343kB/s]"
      }
     },
     "90158998a0124087835d369961e7afa6": {
      "model_module": "@jupyter-widgets/controls",
      "model_module_version": "1.5.0",
      "model_name": "FloatProgressModel",
      "state": {
       "_dom_classes": [],
       "_model_module": "@jupyter-widgets/controls",
       "_model_module_version": "1.5.0",
       "_model_name": "FloatProgressModel",
       "_view_count": null,
       "_view_module": "@jupyter-widgets/controls",
       "_view_module_version": "1.5.0",
       "_view_name": "ProgressView",
       "bar_style": "success",
       "description": "",
       "description_tooltip": null,
       "layout": "IPY_MODEL_bcccd7d27f934cddb9394df0779fe12d",
       "max": 466062.0,
       "min": 0.0,
       "orientation": "horizontal",
       "style": "IPY_MODEL_0c457bb401c6470d9a426c8b3512612f",
       "value": 466062.0
      }
     },
     "911b1a44d9db4298914b90dbdf3db1c8": {
      "model_module": "@jupyter-widgets/controls",
      "model_module_version": "1.5.0",
      "model_name": "ProgressStyleModel",
      "state": {
       "_model_module": "@jupyter-widgets/controls",
       "_model_module_version": "1.5.0",
       "_model_name": "ProgressStyleModel",
       "_view_count": null,
       "_view_module": "@jupyter-widgets/base",
       "_view_module_version": "1.2.0",
       "_view_name": "StyleView",
       "bar_color": null,
       "description_width": ""
      }
     },
     "99d9ce67fc5b48a191f93bbcc86e09cb": {
      "model_module": "@jupyter-widgets/controls",
      "model_module_version": "1.5.0",
      "model_name": "HBoxModel",
      "state": {
       "_dom_classes": [],
       "_model_module": "@jupyter-widgets/controls",
       "_model_module_version": "1.5.0",
       "_model_name": "HBoxModel",
       "_view_count": null,
       "_view_module": "@jupyter-widgets/controls",
       "_view_module_version": "1.5.0",
       "_view_name": "HBoxView",
       "box_style": "",
       "children": [
        "IPY_MODEL_676aebad1b1e475bb631ab679889aaad",
        "IPY_MODEL_fcbeaa5ac7b4465cac353d504a19db81",
        "IPY_MODEL_4975a4773028460da4d1ee0e622741e8"
       ],
       "layout": "IPY_MODEL_0766f4b5399e4932b17876b8778998ab"
      }
     },
     "9d9300e8622f4bd19d81264ff1762adc": {
      "model_module": "@jupyter-widgets/controls",
      "model_module_version": "1.5.0",
      "model_name": "HTMLModel",
      "state": {
       "_dom_classes": [],
       "_model_module": "@jupyter-widgets/controls",
       "_model_module_version": "1.5.0",
       "_model_name": "HTMLModel",
       "_view_count": null,
       "_view_module": "@jupyter-widgets/controls",
       "_view_module_version": "1.5.0",
       "_view_name": "HTMLView",
       "description": "",
       "description_tooltip": null,
       "layout": "IPY_MODEL_85355a549b4c49748119f4779876d714",
       "placeholder": "​",
       "style": "IPY_MODEL_7649f337c37f45938359a3450dcc3555",
       "value": "Downloading: 100%"
      }
     },
     "a219a4d9fc0e42a6813978e2c4257a3b": {
      "model_module": "@jupyter-widgets/controls",
      "model_module_version": "1.5.0",
      "model_name": "DescriptionStyleModel",
      "state": {
       "_model_module": "@jupyter-widgets/controls",
       "_model_module_version": "1.5.0",
       "_model_name": "DescriptionStyleModel",
       "_view_count": null,
       "_view_module": "@jupyter-widgets/base",
       "_view_module_version": "1.2.0",
       "_view_name": "StyleView",
       "description_width": ""
      }
     },
     "a2d7c7a7fffd4557b659c4f55a85e617": {
      "model_module": "@jupyter-widgets/base",
      "model_module_version": "1.2.0",
      "model_name": "LayoutModel",
      "state": {
       "_model_module": "@jupyter-widgets/base",
       "_model_module_version": "1.2.0",
       "_model_name": "LayoutModel",
       "_view_count": null,
       "_view_module": "@jupyter-widgets/base",
       "_view_module_version": "1.2.0",
       "_view_name": "LayoutView",
       "align_content": null,
       "align_items": null,
       "align_self": null,
       "border": null,
       "bottom": null,
       "display": null,
       "flex": null,
       "flex_flow": null,
       "grid_area": null,
       "grid_auto_columns": null,
       "grid_auto_flow": null,
       "grid_auto_rows": null,
       "grid_column": null,
       "grid_gap": null,
       "grid_row": null,
       "grid_template_areas": null,
       "grid_template_columns": null,
       "grid_template_rows": null,
       "height": null,
       "justify_content": null,
       "justify_items": null,
       "left": null,
       "margin": null,
       "max_height": null,
       "max_width": null,
       "min_height": null,
       "min_width": null,
       "object_fit": null,
       "object_position": null,
       "order": null,
       "overflow": null,
       "overflow_x": null,
       "overflow_y": null,
       "padding": null,
       "right": null,
       "top": null,
       "visibility": null,
       "width": null
      }
     },
     "a96dd4ca4bc243bfb53a3994d239887e": {
      "model_module": "@jupyter-widgets/controls",
      "model_module_version": "1.5.0",
      "model_name": "DescriptionStyleModel",
      "state": {
       "_model_module": "@jupyter-widgets/controls",
       "_model_module_version": "1.5.0",
       "_model_name": "DescriptionStyleModel",
       "_view_count": null,
       "_view_module": "@jupyter-widgets/base",
       "_view_module_version": "1.2.0",
       "_view_name": "StyleView",
       "description_width": ""
      }
     },
     "ab9be9e8844d48e1910551c72e969e1f": {
      "model_module": "@jupyter-widgets/controls",
      "model_module_version": "1.5.0",
      "model_name": "FloatProgressModel",
      "state": {
       "_dom_classes": [],
       "_model_module": "@jupyter-widgets/controls",
       "_model_module_version": "1.5.0",
       "_model_name": "FloatProgressModel",
       "_view_count": null,
       "_view_module": "@jupyter-widgets/controls",
       "_view_module_version": "1.5.0",
       "_view_name": "ProgressView",
       "bar_style": "success",
       "description": "",
       "description_tooltip": null,
       "layout": "IPY_MODEL_cc7a2c00f3cb4170aa4864cfc69b50ea",
       "max": 231508.0,
       "min": 0.0,
       "orientation": "horizontal",
       "style": "IPY_MODEL_51e12a1b97bb40bf9d84048ae47b6fe5",
       "value": 231508.0
      }
     },
     "ac6e946e756f4b219299edc7bcecdb34": {
      "model_module": "@jupyter-widgets/controls",
      "model_module_version": "1.5.0",
      "model_name": "HBoxModel",
      "state": {
       "_dom_classes": [],
       "_model_module": "@jupyter-widgets/controls",
       "_model_module_version": "1.5.0",
       "_model_name": "HBoxModel",
       "_view_count": null,
       "_view_module": "@jupyter-widgets/controls",
       "_view_module_version": "1.5.0",
       "_view_name": "HBoxView",
       "box_style": "",
       "children": [
        "IPY_MODEL_59f4f42b3ded421fa01cb7e8621c30a7",
        "IPY_MODEL_d3dc248b61014a2f84c037beb4b5c843",
        "IPY_MODEL_b287027410a5428688396d764991e523"
       ],
       "layout": "IPY_MODEL_3eed80be06e94eb5923c83217e9efaba"
      }
     },
     "adfb8aa638ee4929a2d7aa5057407b8a": {
      "model_module": "@jupyter-widgets/base",
      "model_module_version": "1.2.0",
      "model_name": "LayoutModel",
      "state": {
       "_model_module": "@jupyter-widgets/base",
       "_model_module_version": "1.2.0",
       "_model_name": "LayoutModel",
       "_view_count": null,
       "_view_module": "@jupyter-widgets/base",
       "_view_module_version": "1.2.0",
       "_view_name": "LayoutView",
       "align_content": null,
       "align_items": null,
       "align_self": null,
       "border": null,
       "bottom": null,
       "display": null,
       "flex": null,
       "flex_flow": null,
       "grid_area": null,
       "grid_auto_columns": null,
       "grid_auto_flow": null,
       "grid_auto_rows": null,
       "grid_column": null,
       "grid_gap": null,
       "grid_row": null,
       "grid_template_areas": null,
       "grid_template_columns": null,
       "grid_template_rows": null,
       "height": null,
       "justify_content": null,
       "justify_items": null,
       "left": null,
       "margin": null,
       "max_height": null,
       "max_width": null,
       "min_height": null,
       "min_width": null,
       "object_fit": null,
       "object_position": null,
       "order": null,
       "overflow": null,
       "overflow_x": null,
       "overflow_y": null,
       "padding": null,
       "right": null,
       "top": null,
       "visibility": null,
       "width": null
      }
     },
     "b2510cc1102f47cca01fef219319c98a": {
      "model_module": "@jupyter-widgets/base",
      "model_module_version": "1.2.0",
      "model_name": "LayoutModel",
      "state": {
       "_model_module": "@jupyter-widgets/base",
       "_model_module_version": "1.2.0",
       "_model_name": "LayoutModel",
       "_view_count": null,
       "_view_module": "@jupyter-widgets/base",
       "_view_module_version": "1.2.0",
       "_view_name": "LayoutView",
       "align_content": null,
       "align_items": null,
       "align_self": null,
       "border": null,
       "bottom": null,
       "display": null,
       "flex": null,
       "flex_flow": null,
       "grid_area": null,
       "grid_auto_columns": null,
       "grid_auto_flow": null,
       "grid_auto_rows": null,
       "grid_column": null,
       "grid_gap": null,
       "grid_row": null,
       "grid_template_areas": null,
       "grid_template_columns": null,
       "grid_template_rows": null,
       "height": null,
       "justify_content": null,
       "justify_items": null,
       "left": null,
       "margin": null,
       "max_height": null,
       "max_width": null,
       "min_height": null,
       "min_width": null,
       "object_fit": null,
       "object_position": null,
       "order": null,
       "overflow": null,
       "overflow_x": null,
       "overflow_y": null,
       "padding": null,
       "right": null,
       "top": null,
       "visibility": null,
       "width": null
      }
     },
     "b287027410a5428688396d764991e523": {
      "model_module": "@jupyter-widgets/controls",
      "model_module_version": "1.5.0",
      "model_name": "HTMLModel",
      "state": {
       "_dom_classes": [],
       "_model_module": "@jupyter-widgets/controls",
       "_model_module_version": "1.5.0",
       "_model_name": "HTMLModel",
       "_view_count": null,
       "_view_module": "@jupyter-widgets/controls",
       "_view_module_version": "1.5.0",
       "_view_name": "HTMLView",
       "description": "",
       "description_tooltip": null,
       "layout": "IPY_MODEL_c1a2b3fc0d5641eeb5b904c7983396a9",
       "placeholder": "​",
       "style": "IPY_MODEL_36df571005ed46899ca3703bb89a3006",
       "value": " 797k/797k [00:00&lt;00:00, 1.25MB/s]"
      }
     },
     "b3398a9f9e044a4b9958fb655d42fde4": {
      "model_module": "@jupyter-widgets/controls",
      "model_module_version": "1.5.0",
      "model_name": "DescriptionStyleModel",
      "state": {
       "_model_module": "@jupyter-widgets/controls",
       "_model_module_version": "1.5.0",
       "_model_name": "DescriptionStyleModel",
       "_view_count": null,
       "_view_module": "@jupyter-widgets/base",
       "_view_module_version": "1.2.0",
       "_view_name": "StyleView",
       "description_width": ""
      }
     },
     "b5984647fa3b47fea7497f0c754d344b": {
      "model_module": "@jupyter-widgets/controls",
      "model_module_version": "1.5.0",
      "model_name": "ProgressStyleModel",
      "state": {
       "_model_module": "@jupyter-widgets/controls",
       "_model_module_version": "1.5.0",
       "_model_name": "ProgressStyleModel",
       "_view_count": null,
       "_view_module": "@jupyter-widgets/base",
       "_view_module_version": "1.2.0",
       "_view_name": "StyleView",
       "bar_color": null,
       "description_width": ""
      }
     },
     "b604dc31f54742fd8a6cf5d2e88be69c": {
      "model_module": "@jupyter-widgets/base",
      "model_module_version": "1.2.0",
      "model_name": "LayoutModel",
      "state": {
       "_model_module": "@jupyter-widgets/base",
       "_model_module_version": "1.2.0",
       "_model_name": "LayoutModel",
       "_view_count": null,
       "_view_module": "@jupyter-widgets/base",
       "_view_module_version": "1.2.0",
       "_view_name": "LayoutView",
       "align_content": null,
       "align_items": null,
       "align_self": null,
       "border": null,
       "bottom": null,
       "display": null,
       "flex": null,
       "flex_flow": null,
       "grid_area": null,
       "grid_auto_columns": null,
       "grid_auto_flow": null,
       "grid_auto_rows": null,
       "grid_column": null,
       "grid_gap": null,
       "grid_row": null,
       "grid_template_areas": null,
       "grid_template_columns": null,
       "grid_template_rows": null,
       "height": null,
       "justify_content": null,
       "justify_items": null,
       "left": null,
       "margin": null,
       "max_height": null,
       "max_width": null,
       "min_height": null,
       "min_width": null,
       "object_fit": null,
       "object_position": null,
       "order": null,
       "overflow": null,
       "overflow_x": null,
       "overflow_y": null,
       "padding": null,
       "right": null,
       "top": null,
       "visibility": null,
       "width": null
      }
     },
     "b7d666a408fb4158b91a89c2b60a8d38": {
      "model_module": "@jupyter-widgets/base",
      "model_module_version": "1.2.0",
      "model_name": "LayoutModel",
      "state": {
       "_model_module": "@jupyter-widgets/base",
       "_model_module_version": "1.2.0",
       "_model_name": "LayoutModel",
       "_view_count": null,
       "_view_module": "@jupyter-widgets/base",
       "_view_module_version": "1.2.0",
       "_view_name": "LayoutView",
       "align_content": null,
       "align_items": null,
       "align_self": null,
       "border": null,
       "bottom": null,
       "display": null,
       "flex": null,
       "flex_flow": null,
       "grid_area": null,
       "grid_auto_columns": null,
       "grid_auto_flow": null,
       "grid_auto_rows": null,
       "grid_column": null,
       "grid_gap": null,
       "grid_row": null,
       "grid_template_areas": null,
       "grid_template_columns": null,
       "grid_template_rows": null,
       "height": null,
       "justify_content": null,
       "justify_items": null,
       "left": null,
       "margin": null,
       "max_height": null,
       "max_width": null,
       "min_height": null,
       "min_width": null,
       "object_fit": null,
       "object_position": null,
       "order": null,
       "overflow": null,
       "overflow_x": null,
       "overflow_y": null,
       "padding": null,
       "right": null,
       "top": null,
       "visibility": null,
       "width": null
      }
     },
     "b93b8c681e2c4da2822fc50168a0b8e7": {
      "model_module": "@jupyter-widgets/controls",
      "model_module_version": "1.5.0",
      "model_name": "DescriptionStyleModel",
      "state": {
       "_model_module": "@jupyter-widgets/controls",
       "_model_module_version": "1.5.0",
       "_model_name": "DescriptionStyleModel",
       "_view_count": null,
       "_view_module": "@jupyter-widgets/base",
       "_view_module_version": "1.2.0",
       "_view_name": "StyleView",
       "description_width": ""
      }
     },
     "bcccd7d27f934cddb9394df0779fe12d": {
      "model_module": "@jupyter-widgets/base",
      "model_module_version": "1.2.0",
      "model_name": "LayoutModel",
      "state": {
       "_model_module": "@jupyter-widgets/base",
       "_model_module_version": "1.2.0",
       "_model_name": "LayoutModel",
       "_view_count": null,
       "_view_module": "@jupyter-widgets/base",
       "_view_module_version": "1.2.0",
       "_view_name": "LayoutView",
       "align_content": null,
       "align_items": null,
       "align_self": null,
       "border": null,
       "bottom": null,
       "display": null,
       "flex": null,
       "flex_flow": null,
       "grid_area": null,
       "grid_auto_columns": null,
       "grid_auto_flow": null,
       "grid_auto_rows": null,
       "grid_column": null,
       "grid_gap": null,
       "grid_row": null,
       "grid_template_areas": null,
       "grid_template_columns": null,
       "grid_template_rows": null,
       "height": null,
       "justify_content": null,
       "justify_items": null,
       "left": null,
       "margin": null,
       "max_height": null,
       "max_width": null,
       "min_height": null,
       "min_width": null,
       "object_fit": null,
       "object_position": null,
       "order": null,
       "overflow": null,
       "overflow_x": null,
       "overflow_y": null,
       "padding": null,
       "right": null,
       "top": null,
       "visibility": null,
       "width": null
      }
     },
     "be6f40ecec444286b76909b5c1c30472": {
      "model_module": "@jupyter-widgets/controls",
      "model_module_version": "1.5.0",
      "model_name": "DescriptionStyleModel",
      "state": {
       "_model_module": "@jupyter-widgets/controls",
       "_model_module_version": "1.5.0",
       "_model_name": "DescriptionStyleModel",
       "_view_count": null,
       "_view_module": "@jupyter-widgets/base",
       "_view_module_version": "1.2.0",
       "_view_name": "StyleView",
       "description_width": ""
      }
     },
     "c16b66933f734348b95f65bdaa50e379": {
      "model_module": "@jupyter-widgets/controls",
      "model_module_version": "1.5.0",
      "model_name": "ProgressStyleModel",
      "state": {
       "_model_module": "@jupyter-widgets/controls",
       "_model_module_version": "1.5.0",
       "_model_name": "ProgressStyleModel",
       "_view_count": null,
       "_view_module": "@jupyter-widgets/base",
       "_view_module_version": "1.2.0",
       "_view_name": "StyleView",
       "bar_color": null,
       "description_width": ""
      }
     },
     "c1a2b3fc0d5641eeb5b904c7983396a9": {
      "model_module": "@jupyter-widgets/base",
      "model_module_version": "1.2.0",
      "model_name": "LayoutModel",
      "state": {
       "_model_module": "@jupyter-widgets/base",
       "_model_module_version": "1.2.0",
       "_model_name": "LayoutModel",
       "_view_count": null,
       "_view_module": "@jupyter-widgets/base",
       "_view_module_version": "1.2.0",
       "_view_name": "LayoutView",
       "align_content": null,
       "align_items": null,
       "align_self": null,
       "border": null,
       "bottom": null,
       "display": null,
       "flex": null,
       "flex_flow": null,
       "grid_area": null,
       "grid_auto_columns": null,
       "grid_auto_flow": null,
       "grid_auto_rows": null,
       "grid_column": null,
       "grid_gap": null,
       "grid_row": null,
       "grid_template_areas": null,
       "grid_template_columns": null,
       "grid_template_rows": null,
       "height": null,
       "justify_content": null,
       "justify_items": null,
       "left": null,
       "margin": null,
       "max_height": null,
       "max_width": null,
       "min_height": null,
       "min_width": null,
       "object_fit": null,
       "object_position": null,
       "order": null,
       "overflow": null,
       "overflow_x": null,
       "overflow_y": null,
       "padding": null,
       "right": null,
       "top": null,
       "visibility": null,
       "width": null
      }
     },
     "c8615efe36bc4d068cc589ecfb7316f9": {
      "model_module": "@jupyter-widgets/base",
      "model_module_version": "1.2.0",
      "model_name": "LayoutModel",
      "state": {
       "_model_module": "@jupyter-widgets/base",
       "_model_module_version": "1.2.0",
       "_model_name": "LayoutModel",
       "_view_count": null,
       "_view_module": "@jupyter-widgets/base",
       "_view_module_version": "1.2.0",
       "_view_name": "LayoutView",
       "align_content": null,
       "align_items": null,
       "align_self": null,
       "border": null,
       "bottom": null,
       "display": null,
       "flex": null,
       "flex_flow": null,
       "grid_area": null,
       "grid_auto_columns": null,
       "grid_auto_flow": null,
       "grid_auto_rows": null,
       "grid_column": null,
       "grid_gap": null,
       "grid_row": null,
       "grid_template_areas": null,
       "grid_template_columns": null,
       "grid_template_rows": null,
       "height": null,
       "justify_content": null,
       "justify_items": null,
       "left": null,
       "margin": null,
       "max_height": null,
       "max_width": null,
       "min_height": null,
       "min_width": null,
       "object_fit": null,
       "object_position": null,
       "order": null,
       "overflow": null,
       "overflow_x": null,
       "overflow_y": null,
       "padding": null,
       "right": null,
       "top": null,
       "visibility": null,
       "width": null
      }
     },
     "cc7a2c00f3cb4170aa4864cfc69b50ea": {
      "model_module": "@jupyter-widgets/base",
      "model_module_version": "1.2.0",
      "model_name": "LayoutModel",
      "state": {
       "_model_module": "@jupyter-widgets/base",
       "_model_module_version": "1.2.0",
       "_model_name": "LayoutModel",
       "_view_count": null,
       "_view_module": "@jupyter-widgets/base",
       "_view_module_version": "1.2.0",
       "_view_name": "LayoutView",
       "align_content": null,
       "align_items": null,
       "align_self": null,
       "border": null,
       "bottom": null,
       "display": null,
       "flex": null,
       "flex_flow": null,
       "grid_area": null,
       "grid_auto_columns": null,
       "grid_auto_flow": null,
       "grid_auto_rows": null,
       "grid_column": null,
       "grid_gap": null,
       "grid_row": null,
       "grid_template_areas": null,
       "grid_template_columns": null,
       "grid_template_rows": null,
       "height": null,
       "justify_content": null,
       "justify_items": null,
       "left": null,
       "margin": null,
       "max_height": null,
       "max_width": null,
       "min_height": null,
       "min_width": null,
       "object_fit": null,
       "object_position": null,
       "order": null,
       "overflow": null,
       "overflow_x": null,
       "overflow_y": null,
       "padding": null,
       "right": null,
       "top": null,
       "visibility": null,
       "width": null
      }
     },
     "d357f328dc6842eba60ae727a00f6a73": {
      "model_module": "@jupyter-widgets/base",
      "model_module_version": "1.2.0",
      "model_name": "LayoutModel",
      "state": {
       "_model_module": "@jupyter-widgets/base",
       "_model_module_version": "1.2.0",
       "_model_name": "LayoutModel",
       "_view_count": null,
       "_view_module": "@jupyter-widgets/base",
       "_view_module_version": "1.2.0",
       "_view_name": "LayoutView",
       "align_content": null,
       "align_items": null,
       "align_self": null,
       "border": null,
       "bottom": null,
       "display": null,
       "flex": null,
       "flex_flow": null,
       "grid_area": null,
       "grid_auto_columns": null,
       "grid_auto_flow": null,
       "grid_auto_rows": null,
       "grid_column": null,
       "grid_gap": null,
       "grid_row": null,
       "grid_template_areas": null,
       "grid_template_columns": null,
       "grid_template_rows": null,
       "height": null,
       "justify_content": null,
       "justify_items": null,
       "left": null,
       "margin": null,
       "max_height": null,
       "max_width": null,
       "min_height": null,
       "min_width": null,
       "object_fit": null,
       "object_position": null,
       "order": null,
       "overflow": null,
       "overflow_x": null,
       "overflow_y": null,
       "padding": null,
       "right": null,
       "top": null,
       "visibility": null,
       "width": null
      }
     },
     "d3dc248b61014a2f84c037beb4b5c843": {
      "model_module": "@jupyter-widgets/controls",
      "model_module_version": "1.5.0",
      "model_name": "FloatProgressModel",
      "state": {
       "_dom_classes": [],
       "_model_module": "@jupyter-widgets/controls",
       "_model_module_version": "1.5.0",
       "_model_name": "FloatProgressModel",
       "_view_count": null,
       "_view_module": "@jupyter-widgets/controls",
       "_view_module_version": "1.5.0",
       "_view_name": "ProgressView",
       "bar_style": "success",
       "description": "",
       "description_tooltip": null,
       "layout": "IPY_MODEL_7684379f7f0c49b486f18acdd54b607b",
       "max": 815973.0,
       "min": 0.0,
       "orientation": "horizontal",
       "style": "IPY_MODEL_14ea4107e93f4e9e8843fc71a914d1b5",
       "value": 815973.0
      }
     },
     "d486726809694b3b81af423d7def2585": {
      "model_module": "@jupyter-widgets/base",
      "model_module_version": "1.2.0",
      "model_name": "LayoutModel",
      "state": {
       "_model_module": "@jupyter-widgets/base",
       "_model_module_version": "1.2.0",
       "_model_name": "LayoutModel",
       "_view_count": null,
       "_view_module": "@jupyter-widgets/base",
       "_view_module_version": "1.2.0",
       "_view_name": "LayoutView",
       "align_content": null,
       "align_items": null,
       "align_self": null,
       "border": null,
       "bottom": null,
       "display": null,
       "flex": null,
       "flex_flow": null,
       "grid_area": null,
       "grid_auto_columns": null,
       "grid_auto_flow": null,
       "grid_auto_rows": null,
       "grid_column": null,
       "grid_gap": null,
       "grid_row": null,
       "grid_template_areas": null,
       "grid_template_columns": null,
       "grid_template_rows": null,
       "height": null,
       "justify_content": null,
       "justify_items": null,
       "left": null,
       "margin": null,
       "max_height": null,
       "max_width": null,
       "min_height": null,
       "min_width": null,
       "object_fit": null,
       "object_position": null,
       "order": null,
       "overflow": null,
       "overflow_x": null,
       "overflow_y": null,
       "padding": null,
       "right": null,
       "top": null,
       "visibility": null,
       "width": null
      }
     },
     "d6257ca85e2242c1ad6fbfdfc5d707d6": {
      "model_module": "@jupyter-widgets/base",
      "model_module_version": "1.2.0",
      "model_name": "LayoutModel",
      "state": {
       "_model_module": "@jupyter-widgets/base",
       "_model_module_version": "1.2.0",
       "_model_name": "LayoutModel",
       "_view_count": null,
       "_view_module": "@jupyter-widgets/base",
       "_view_module_version": "1.2.0",
       "_view_name": "LayoutView",
       "align_content": null,
       "align_items": null,
       "align_self": null,
       "border": null,
       "bottom": null,
       "display": null,
       "flex": null,
       "flex_flow": null,
       "grid_area": null,
       "grid_auto_columns": null,
       "grid_auto_flow": null,
       "grid_auto_rows": null,
       "grid_column": null,
       "grid_gap": null,
       "grid_row": null,
       "grid_template_areas": null,
       "grid_template_columns": null,
       "grid_template_rows": null,
       "height": null,
       "justify_content": null,
       "justify_items": null,
       "left": null,
       "margin": null,
       "max_height": null,
       "max_width": null,
       "min_height": null,
       "min_width": null,
       "object_fit": null,
       "object_position": null,
       "order": null,
       "overflow": null,
       "overflow_x": null,
       "overflow_y": null,
       "padding": null,
       "right": null,
       "top": null,
       "visibility": null,
       "width": null
      }
     },
     "d95fb70c93ce4a088044cbdc723024a6": {
      "model_module": "@jupyter-widgets/controls",
      "model_module_version": "1.5.0",
      "model_name": "FloatProgressModel",
      "state": {
       "_dom_classes": [],
       "_model_module": "@jupyter-widgets/controls",
       "_model_module_version": "1.5.0",
       "_model_name": "FloatProgressModel",
       "_view_count": null,
       "_view_module": "@jupyter-widgets/controls",
       "_view_module_version": "1.5.0",
       "_view_name": "ProgressView",
       "bar_style": "success",
       "description": "",
       "description_tooltip": null,
       "layout": "IPY_MODEL_b604dc31f54742fd8a6cf5d2e88be69c",
       "max": 28.0,
       "min": 0.0,
       "orientation": "horizontal",
       "style": "IPY_MODEL_911b1a44d9db4298914b90dbdf3db1c8",
       "value": 28.0
      }
     },
     "e3ae796bb4564b44914bf3927f733ceb": {
      "model_module": "@jupyter-widgets/controls",
      "model_module_version": "1.5.0",
      "model_name": "HTMLModel",
      "state": {
       "_dom_classes": [],
       "_model_module": "@jupyter-widgets/controls",
       "_model_module_version": "1.5.0",
       "_model_name": "HTMLModel",
       "_view_count": null,
       "_view_module": "@jupyter-widgets/controls",
       "_view_module_version": "1.5.0",
       "_view_name": "HTMLView",
       "description": "",
       "description_tooltip": null,
       "layout": "IPY_MODEL_435e8301630e4a77a7fb95bf0cd2bc48",
       "placeholder": "​",
       "style": "IPY_MODEL_60b83d4f0b944acd95f39094250fc504",
       "value": "Downloading: 100%"
      }
     },
     "e6b5faae8baa4c1c9b40707a5f60217d": {
      "model_module": "@jupyter-widgets/controls",
      "model_module_version": "1.5.0",
      "model_name": "FloatProgressModel",
      "state": {
       "_dom_classes": [],
       "_model_module": "@jupyter-widgets/controls",
       "_model_module_version": "1.5.0",
       "_model_name": "FloatProgressModel",
       "_view_count": null,
       "_view_module": "@jupyter-widgets/controls",
       "_view_module_version": "1.5.0",
       "_view_name": "ProgressView",
       "bar_style": "success",
       "description": "",
       "description_tooltip": null,
       "layout": "IPY_MODEL_d357f328dc6842eba60ae727a00f6a73",
       "max": 458495.0,
       "min": 0.0,
       "orientation": "horizontal",
       "style": "IPY_MODEL_05d4e835385a4a06b74d59ec23c4a6a5",
       "value": 458495.0
      }
     },
     "eed79d6f27c640b29ce651c7aefff0d2": {
      "model_module": "@jupyter-widgets/controls",
      "model_module_version": "1.5.0",
      "model_name": "DescriptionStyleModel",
      "state": {
       "_model_module": "@jupyter-widgets/controls",
       "_model_module_version": "1.5.0",
       "_model_name": "DescriptionStyleModel",
       "_view_count": null,
       "_view_module": "@jupyter-widgets/base",
       "_view_module_version": "1.2.0",
       "_view_name": "StyleView",
       "description_width": ""
      }
     },
     "f104c4052edc471b9bef928a5142b712": {
      "model_module": "@jupyter-widgets/base",
      "model_module_version": "1.2.0",
      "model_name": "LayoutModel",
      "state": {
       "_model_module": "@jupyter-widgets/base",
       "_model_module_version": "1.2.0",
       "_model_name": "LayoutModel",
       "_view_count": null,
       "_view_module": "@jupyter-widgets/base",
       "_view_module_version": "1.2.0",
       "_view_name": "LayoutView",
       "align_content": null,
       "align_items": null,
       "align_self": null,
       "border": null,
       "bottom": null,
       "display": null,
       "flex": null,
       "flex_flow": null,
       "grid_area": null,
       "grid_auto_columns": null,
       "grid_auto_flow": null,
       "grid_auto_rows": null,
       "grid_column": null,
       "grid_gap": null,
       "grid_row": null,
       "grid_template_areas": null,
       "grid_template_columns": null,
       "grid_template_rows": null,
       "height": null,
       "justify_content": null,
       "justify_items": null,
       "left": null,
       "margin": null,
       "max_height": null,
       "max_width": null,
       "min_height": null,
       "min_width": null,
       "object_fit": null,
       "object_position": null,
       "order": null,
       "overflow": null,
       "overflow_x": null,
       "overflow_y": null,
       "padding": null,
       "right": null,
       "top": null,
       "visibility": null,
       "width": null
      }
     },
     "f68231cecdf94a9eafde24fb9c97bca4": {
      "model_module": "@jupyter-widgets/controls",
      "model_module_version": "1.5.0",
      "model_name": "FloatProgressModel",
      "state": {
       "_dom_classes": [],
       "_model_module": "@jupyter-widgets/controls",
       "_model_module_version": "1.5.0",
       "_model_name": "FloatProgressModel",
       "_view_count": null,
       "_view_module": "@jupyter-widgets/controls",
       "_view_module_version": "1.5.0",
       "_view_name": "ProgressView",
       "bar_style": "success",
       "description": "",
       "description_tooltip": null,
       "layout": "IPY_MODEL_132073f5da944ca29c1fb556d494b08d",
       "max": 570.0,
       "min": 0.0,
       "orientation": "horizontal",
       "style": "IPY_MODEL_2ee3a1ffa0ce41be924b02c2632f0b4f",
       "value": 570.0
      }
     },
     "f9fdf9676366480598a327889ad62472": {
      "model_module": "@jupyter-widgets/base",
      "model_module_version": "1.2.0",
      "model_name": "LayoutModel",
      "state": {
       "_model_module": "@jupyter-widgets/base",
       "_model_module_version": "1.2.0",
       "_model_name": "LayoutModel",
       "_view_count": null,
       "_view_module": "@jupyter-widgets/base",
       "_view_module_version": "1.2.0",
       "_view_name": "LayoutView",
       "align_content": null,
       "align_items": null,
       "align_self": null,
       "border": null,
       "bottom": null,
       "display": null,
       "flex": null,
       "flex_flow": null,
       "grid_area": null,
       "grid_auto_columns": null,
       "grid_auto_flow": null,
       "grid_auto_rows": null,
       "grid_column": null,
       "grid_gap": null,
       "grid_row": null,
       "grid_template_areas": null,
       "grid_template_columns": null,
       "grid_template_rows": null,
       "height": null,
       "justify_content": null,
       "justify_items": null,
       "left": null,
       "margin": null,
       "max_height": null,
       "max_width": null,
       "min_height": null,
       "min_width": null,
       "object_fit": null,
       "object_position": null,
       "order": null,
       "overflow": null,
       "overflow_x": null,
       "overflow_y": null,
       "padding": null,
       "right": null,
       "top": null,
       "visibility": null,
       "width": null
      }
     },
     "fa9530bcd5874f8291dfd845407d4a9c": {
      "model_module": "@jupyter-widgets/base",
      "model_module_version": "1.2.0",
      "model_name": "LayoutModel",
      "state": {
       "_model_module": "@jupyter-widgets/base",
       "_model_module_version": "1.2.0",
       "_model_name": "LayoutModel",
       "_view_count": null,
       "_view_module": "@jupyter-widgets/base",
       "_view_module_version": "1.2.0",
       "_view_name": "LayoutView",
       "align_content": null,
       "align_items": null,
       "align_self": null,
       "border": null,
       "bottom": null,
       "display": null,
       "flex": null,
       "flex_flow": null,
       "grid_area": null,
       "grid_auto_columns": null,
       "grid_auto_flow": null,
       "grid_auto_rows": null,
       "grid_column": null,
       "grid_gap": null,
       "grid_row": null,
       "grid_template_areas": null,
       "grid_template_columns": null,
       "grid_template_rows": null,
       "height": null,
       "justify_content": null,
       "justify_items": null,
       "left": null,
       "margin": null,
       "max_height": null,
       "max_width": null,
       "min_height": null,
       "min_width": null,
       "object_fit": null,
       "object_position": null,
       "order": null,
       "overflow": null,
       "overflow_x": null,
       "overflow_y": null,
       "padding": null,
       "right": null,
       "top": null,
       "visibility": null,
       "width": null
      }
     },
     "fb04a62455a8452e9775eaa28c3f7345": {
      "model_module": "@jupyter-widgets/controls",
      "model_module_version": "1.5.0",
      "model_name": "HBoxModel",
      "state": {
       "_dom_classes": [],
       "_model_module": "@jupyter-widgets/controls",
       "_model_module_version": "1.5.0",
       "_model_name": "HBoxModel",
       "_view_count": null,
       "_view_module": "@jupyter-widgets/controls",
       "_view_module_version": "1.5.0",
       "_view_name": "HBoxView",
       "box_style": "",
       "children": [
        "IPY_MODEL_9d9300e8622f4bd19d81264ff1762adc",
        "IPY_MODEL_0b41790f8d0549e7a99853d1eabb8e69",
        "IPY_MODEL_65281598d76641d3b34461b3d25d198f"
       ],
       "layout": "IPY_MODEL_3d35dd89953f48459fa0515cc2f0b4c9"
      }
     },
     "fbb67aced55d481690a3ce6490077056": {
      "model_module": "@jupyter-widgets/controls",
      "model_module_version": "1.5.0",
      "model_name": "HTMLModel",
      "state": {
       "_dom_classes": [],
       "_model_module": "@jupyter-widgets/controls",
       "_model_module_version": "1.5.0",
       "_model_name": "HTMLModel",
       "_view_count": null,
       "_view_module": "@jupyter-widgets/controls",
       "_view_module_version": "1.5.0",
       "_view_name": "HTMLView",
       "description": "",
       "description_tooltip": null,
       "layout": "IPY_MODEL_42265b0135244d1dadca8bfebdfef797",
       "placeholder": "​",
       "style": "IPY_MODEL_a96dd4ca4bc243bfb53a3994d239887e",
       "value": " 570/570 [00:00&lt;00:00, 20.1kB/s]"
      }
     },
     "fcbeaa5ac7b4465cac353d504a19db81": {
      "model_module": "@jupyter-widgets/controls",
      "model_module_version": "1.5.0",
      "model_name": "FloatProgressModel",
      "state": {
       "_dom_classes": [],
       "_model_module": "@jupyter-widgets/controls",
       "_model_module_version": "1.5.0",
       "_model_name": "FloatProgressModel",
       "_view_count": null,
       "_view_module": "@jupyter-widgets/controls",
       "_view_module_version": "1.5.0",
       "_view_name": "ProgressView",
       "bar_style": "success",
       "description": "",
       "description_tooltip": null,
       "layout": "IPY_MODEL_b2510cc1102f47cca01fef219319c98a",
       "max": 1272610.0,
       "min": 0.0,
       "orientation": "horizontal",
       "style": "IPY_MODEL_c16b66933f734348b95f65bdaa50e379",
       "value": 1272610.0
      }
     }
    },
    "version_major": 2,
    "version_minor": 0
   }
  }
 },
 "nbformat": 4,
 "nbformat_minor": 5
}
