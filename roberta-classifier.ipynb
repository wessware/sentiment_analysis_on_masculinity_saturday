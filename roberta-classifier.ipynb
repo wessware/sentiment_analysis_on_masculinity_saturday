{
 "cells": [
  {
   "cell_type": "code",
   "execution_count": 1,
   "id": "c269847a",
   "metadata": {
    "_cell_guid": "b1076dfc-b9ad-4769-8c92-a6c4dae69d19",
    "_uuid": "8f2839f25d086af736a60e9eeb907d3b93b6e0e5",
    "execution": {
     "iopub.execute_input": "2023-01-27T05:29:22.914572Z",
     "iopub.status.busy": "2023-01-27T05:29:22.914130Z",
     "iopub.status.idle": "2023-01-27T05:29:29.891850Z",
     "shell.execute_reply": "2023-01-27T05:29:29.890878Z"
    },
    "papermill": {
     "duration": 6.987517,
     "end_time": "2023-01-27T05:29:29.894504",
     "exception": false,
     "start_time": "2023-01-27T05:29:22.906987",
     "status": "completed"
    },
    "tags": []
   },
   "outputs": [],
   "source": [
    "import pandas as pd \n",
    "import numpy as np\n",
    "\n",
    "import matplotlib.pyplot as plt\n",
    "import seaborn as sns\n",
    "\n",
    "from sklearn import preprocessing\n",
    "from imblearn.over_sampling import RandomOverSampler\n",
    "from sklearn.model_selection import train_test_split\n",
    "from sklearn.feature_extraction.text import CountVectorizer\n",
    "from sklearn.feature_extraction.text import TfidfTransformer\n",
    "\n",
    "import tensorflow as tf\n",
    "from tensorflow import keras\n",
    "\n",
    "from sklearn.metrics import accuracy_score, f1_score\n",
    "from sklearn.metrics import classification_report, confusion_matrix\n",
    "\n",
    "seed=42"
   ]
  },
  {
   "cell_type": "code",
   "execution_count": 2,
   "id": "43bde5d3",
   "metadata": {
    "execution": {
     "iopub.execute_input": "2023-01-27T05:29:29.905371Z",
     "iopub.status.busy": "2023-01-27T05:29:29.904627Z",
     "iopub.status.idle": "2023-01-27T05:29:33.225351Z",
     "shell.execute_reply": "2023-01-27T05:29:33.223987Z"
    },
    "papermill": {
     "duration": 3.329043,
     "end_time": "2023-01-27T05:29:33.228197",
     "exception": false,
     "start_time": "2023-01-27T05:29:29.899154",
     "status": "completed"
    },
    "tags": []
   },
   "outputs": [
    {
     "name": "stderr",
     "output_type": "stream",
     "text": [
      "2023-01-27 05:29:33.171715: I tensorflow/core/common_runtime/process_util.cc:146] Creating new thread pool with default inter op setting: 2. Tune using inter_op_parallelism_threads for best performance.\n"
     ]
    }
   ],
   "source": [
    "from transformers import RobertaTokenizerFast\n",
    "from transformers import TFRobertaModel"
   ]
  },
  {
   "cell_type": "code",
   "execution_count": 3,
   "id": "a0d3da98",
   "metadata": {
    "execution": {
     "iopub.execute_input": "2023-01-27T05:29:33.240345Z",
     "iopub.status.busy": "2023-01-27T05:29:33.238238Z",
     "iopub.status.idle": "2023-01-27T05:29:34.511780Z",
     "shell.execute_reply": "2023-01-27T05:29:34.510542Z"
    },
    "papermill": {
     "duration": 1.282105,
     "end_time": "2023-01-27T05:29:34.514614",
     "exception": false,
     "start_time": "2023-01-27T05:29:33.232509",
     "status": "completed"
    },
    "tags": []
   },
   "outputs": [],
   "source": [
    "df = pd.read_csv('/kaggle/input/amerix-sa-nlp-deep-cleaned-data/sentiment_adv_preprocessed_data.csv', index_col=0)"
   ]
  },
  {
   "cell_type": "code",
   "execution_count": 4,
   "id": "e4d144f2",
   "metadata": {
    "execution": {
     "iopub.execute_input": "2023-01-27T05:29:34.525002Z",
     "iopub.status.busy": "2023-01-27T05:29:34.524550Z",
     "iopub.status.idle": "2023-01-27T05:29:34.542377Z",
     "shell.execute_reply": "2023-01-27T05:29:34.541132Z"
    },
    "papermill": {
     "duration": 0.02579,
     "end_time": "2023-01-27T05:29:34.544727",
     "exception": false,
     "start_time": "2023-01-27T05:29:34.518937",
     "status": "completed"
    },
    "tags": []
   },
   "outputs": [
    {
     "data": {
      "text/html": [
       "<div>\n",
       "<style scoped>\n",
       "    .dataframe tbody tr th:only-of-type {\n",
       "        vertical-align: middle;\n",
       "    }\n",
       "\n",
       "    .dataframe tbody tr th {\n",
       "        vertical-align: top;\n",
       "    }\n",
       "\n",
       "    .dataframe thead th {\n",
       "        text-align: right;\n",
       "    }\n",
       "</style>\n",
       "<table border=\"1\" class=\"dataframe\">\n",
       "  <thead>\n",
       "    <tr style=\"text-align: right;\">\n",
       "      <th></th>\n",
       "      <th>tweet_created_at</th>\n",
       "      <th>text_clean</th>\n",
       "      <th>Sentiment</th>\n",
       "    </tr>\n",
       "  </thead>\n",
       "  <tbody>\n",
       "    <tr>\n",
       "      <th>0</th>\n",
       "      <td>2022-05-20 16:01:49+00:00</td>\n",
       "      <td>actor amp cookbook author recently joined the ...</td>\n",
       "      <td>1</td>\n",
       "    </tr>\n",
       "    <tr>\n",
       "      <th>1</th>\n",
       "      <td>2022-08-23 15:26:31+00:00</td>\n",
       "      <td>sprinkled a little kindness to brighten someon...</td>\n",
       "      <td>1</td>\n",
       "    </tr>\n",
       "    <tr>\n",
       "      <th>2</th>\n",
       "      <td>2021-10-15 17:23:25+00:00</td>\n",
       "      <td>the body is not stupid it has an efficient hom...</td>\n",
       "      <td>1</td>\n",
       "    </tr>\n",
       "    <tr>\n",
       "      <th>3</th>\n",
       "      <td>2022-11-19 16:26:01+00:00</td>\n",
       "      <td>food for the thought masculinitysaturday</td>\n",
       "      <td>2</td>\n",
       "    </tr>\n",
       "    <tr>\n",
       "      <th>4</th>\n",
       "      <td>2022-12-12 08:59:22+00:00</td>\n",
       "      <td>why though</td>\n",
       "      <td>2</td>\n",
       "    </tr>\n",
       "  </tbody>\n",
       "</table>\n",
       "</div>"
      ],
      "text/plain": [
       "            tweet_created_at  \\\n",
       "0  2022-05-20 16:01:49+00:00   \n",
       "1  2022-08-23 15:26:31+00:00   \n",
       "2  2021-10-15 17:23:25+00:00   \n",
       "3  2022-11-19 16:26:01+00:00   \n",
       "4  2022-12-12 08:59:22+00:00   \n",
       "\n",
       "                                          text_clean  Sentiment  \n",
       "0  actor amp cookbook author recently joined the ...          1  \n",
       "1  sprinkled a little kindness to brighten someon...          1  \n",
       "2  the body is not stupid it has an efficient hom...          1  \n",
       "3           food for the thought masculinitysaturday          2  \n",
       "4                                         why though          2  "
      ]
     },
     "execution_count": 4,
     "metadata": {},
     "output_type": "execute_result"
    }
   ],
   "source": [
    "df.head()"
   ]
  },
  {
   "cell_type": "code",
   "execution_count": 5,
   "id": "61b0f0b7",
   "metadata": {
    "execution": {
     "iopub.execute_input": "2023-01-27T05:29:34.555957Z",
     "iopub.status.busy": "2023-01-27T05:29:34.554778Z",
     "iopub.status.idle": "2023-01-27T05:29:34.562862Z",
     "shell.execute_reply": "2023-01-27T05:29:34.562026Z"
    },
    "papermill": {
     "duration": 0.016327,
     "end_time": "2023-01-27T05:29:34.565535",
     "exception": false,
     "start_time": "2023-01-27T05:29:34.549208",
     "status": "completed"
    },
    "tags": []
   },
   "outputs": [],
   "source": [
    "def conf_matrix(y, y_pred, title):\n",
    "    fig, ax =plt.subplots(figsize=(5,5))\n",
    "    labels=['Negative', 'Positive', 'Neutral']\n",
    "    ax=sns.heatmap(confusion_matrix(y, y_pred), annot=True, cmap=\"Blues\", fmt='g', cbar=False, annot_kws={\"size\":25})\n",
    "    plt.title(title, fontsize=20)\n",
    "    ax.xaxis.set_ticklabels(labels, fontsize=17) \n",
    "    ax.yaxis.set_ticklabels(labels, fontsize=17)\n",
    "    ax.set_ylabel('Test', fontsize=20)\n",
    "    ax.set_xlabel('Predicted', fontsize=20)\n",
    "    plt.show()"
   ]
  },
  {
   "cell_type": "code",
   "execution_count": 6,
   "id": "c881fe98",
   "metadata": {
    "execution": {
     "iopub.execute_input": "2023-01-27T05:29:34.576247Z",
     "iopub.status.busy": "2023-01-27T05:29:34.575828Z",
     "iopub.status.idle": "2023-01-27T05:29:35.135714Z",
     "shell.execute_reply": "2023-01-27T05:29:35.134496Z"
    },
    "papermill": {
     "duration": 0.568328,
     "end_time": "2023-01-27T05:29:35.138413",
     "exception": false,
     "start_time": "2023-01-27T05:29:34.570085",
     "status": "completed"
    },
    "tags": []
   },
   "outputs": [],
   "source": [
    "ros = RandomOverSampler()\n",
    "\n",
    "train_x, train_y = ros.fit_resample(np.array(df['text_clean']).reshape(-1, 1), np.array(df['Sentiment']).reshape(-1, 1));\n",
    "\n",
    "ros_df = pd.DataFrame(list(zip([x[0] for x in train_x], train_y)), columns = ['text_clean', 'Sentiment']);"
   ]
  },
  {
   "cell_type": "code",
   "execution_count": 7,
   "id": "dfe68b87",
   "metadata": {
    "execution": {
     "iopub.execute_input": "2023-01-27T05:29:35.156848Z",
     "iopub.status.busy": "2023-01-27T05:29:35.156349Z",
     "iopub.status.idle": "2023-01-27T05:29:35.171055Z",
     "shell.execute_reply": "2023-01-27T05:29:35.169967Z"
    },
    "papermill": {
     "duration": 0.024011,
     "end_time": "2023-01-27T05:29:35.173309",
     "exception": false,
     "start_time": "2023-01-27T05:29:35.149298",
     "status": "completed"
    },
    "tags": []
   },
   "outputs": [
    {
     "data": {
      "text/plain": [
       "1    129038\n",
       "2    129038\n",
       "0    129038\n",
       "Name: Sentiment, dtype: int64"
      ]
     },
     "execution_count": 7,
     "metadata": {},
     "output_type": "execute_result"
    }
   ],
   "source": [
    "ros_df['Sentiment'].value_counts()"
   ]
  },
  {
   "cell_type": "code",
   "execution_count": 8,
   "id": "8d342b9e",
   "metadata": {
    "execution": {
     "iopub.execute_input": "2023-01-27T05:29:35.184140Z",
     "iopub.status.busy": "2023-01-27T05:29:35.183697Z",
     "iopub.status.idle": "2023-01-27T05:29:35.188480Z",
     "shell.execute_reply": "2023-01-27T05:29:35.187522Z"
    },
    "papermill": {
     "duration": 0.012659,
     "end_time": "2023-01-27T05:29:35.190552",
     "exception": false,
     "start_time": "2023-01-27T05:29:35.177893",
     "status": "completed"
    },
    "tags": []
   },
   "outputs": [],
   "source": [
    "X = ros_df['text_clean'].values\n",
    "y = ros_df['Sentiment'].values"
   ]
  },
  {
   "cell_type": "code",
   "execution_count": 9,
   "id": "969197b1",
   "metadata": {
    "execution": {
     "iopub.execute_input": "2023-01-27T05:29:35.201527Z",
     "iopub.status.busy": "2023-01-27T05:29:35.201167Z",
     "iopub.status.idle": "2023-01-27T05:29:35.370702Z",
     "shell.execute_reply": "2023-01-27T05:29:35.369409Z"
    },
    "papermill": {
     "duration": 0.178073,
     "end_time": "2023-01-27T05:29:35.373405",
     "exception": false,
     "start_time": "2023-01-27T05:29:35.195332",
     "status": "completed"
    },
    "tags": []
   },
   "outputs": [],
   "source": [
    "x_, x_test, y_, y_test = train_test_split(X, y, test_size=0.3, stratify=y, random_state=42)"
   ]
  },
  {
   "cell_type": "code",
   "execution_count": 10,
   "id": "9206ea32",
   "metadata": {
    "execution": {
     "iopub.execute_input": "2023-01-27T05:29:35.385495Z",
     "iopub.status.busy": "2023-01-27T05:29:35.385015Z",
     "iopub.status.idle": "2023-01-27T05:29:35.504756Z",
     "shell.execute_reply": "2023-01-27T05:29:35.503829Z"
    },
    "papermill": {
     "duration": 0.129488,
     "end_time": "2023-01-27T05:29:35.507421",
     "exception": false,
     "start_time": "2023-01-27T05:29:35.377933",
     "status": "completed"
    },
    "tags": []
   },
   "outputs": [],
   "source": [
    "x_train, x_val, y_train, y_val = train_test_split(x_, y_, test_size=0.2, stratify=y_, random_state=42)"
   ]
  },
  {
   "cell_type": "code",
   "execution_count": 11,
   "id": "34fcc74d",
   "metadata": {
    "execution": {
     "iopub.execute_input": "2023-01-27T05:29:35.518552Z",
     "iopub.status.busy": "2023-01-27T05:29:35.517787Z",
     "iopub.status.idle": "2023-01-27T05:29:35.523280Z",
     "shell.execute_reply": "2023-01-27T05:29:35.522346Z"
    },
    "papermill": {
     "duration": 0.013533,
     "end_time": "2023-01-27T05:29:35.525492",
     "exception": false,
     "start_time": "2023-01-27T05:29:35.511959",
     "status": "completed"
    },
    "tags": []
   },
   "outputs": [],
   "source": [
    "y_train_c = y_train.copy()\n",
    "y_valid_c = y_val.copy()\n",
    "y_test_c = y_test.copy()"
   ]
  },
  {
   "cell_type": "code",
   "execution_count": 12,
   "id": "3eacdf71",
   "metadata": {
    "execution": {
     "iopub.execute_input": "2023-01-27T05:29:35.536222Z",
     "iopub.status.busy": "2023-01-27T05:29:35.535493Z",
     "iopub.status.idle": "2023-01-27T05:29:35.589457Z",
     "shell.execute_reply": "2023-01-27T05:29:35.588473Z"
    },
    "papermill": {
     "duration": 0.062304,
     "end_time": "2023-01-27T05:29:35.592214",
     "exception": false,
     "start_time": "2023-01-27T05:29:35.529910",
     "status": "completed"
    },
    "tags": []
   },
   "outputs": [],
   "source": [
    "encoder = preprocessing.OneHotEncoder()\n",
    "\n",
    "y_train = encoder.fit_transform(np.array(y_train).reshape(-1, 1)).toarray()\n",
    "y_val = encoder.fit_transform(np.array(y_val).reshape(-1, 1)).toarray()\n",
    "y_test = encoder.fit_transform(np.array(y_test).reshape(-1, 1)).toarray()"
   ]
  },
  {
   "cell_type": "code",
   "execution_count": 13,
   "id": "bc975bc3",
   "metadata": {
    "execution": {
     "iopub.execute_input": "2023-01-27T05:29:35.603568Z",
     "iopub.status.busy": "2023-01-27T05:29:35.602643Z",
     "iopub.status.idle": "2023-01-27T05:29:35.608590Z",
     "shell.execute_reply": "2023-01-27T05:29:35.607440Z"
    },
    "papermill": {
     "duration": 0.015155,
     "end_time": "2023-01-27T05:29:35.611971",
     "exception": false,
     "start_time": "2023-01-27T05:29:35.596816",
     "status": "completed"
    },
    "tags": []
   },
   "outputs": [
    {
     "name": "stdout",
     "output_type": "stream",
     "text": [
      "Training Data: 216783\n",
      "Validation Data: 54196\n",
      "Testing Data: 116135\n"
     ]
    }
   ],
   "source": [
    "print(f\"Training Data: {x_train.shape[0]}\\nValidation Data: {x_val.shape[0]}\\nTesting Data: {x_test.shape[0]}\" )"
   ]
  },
  {
   "cell_type": "code",
   "execution_count": null,
   "id": "250461f6",
   "metadata": {
    "papermill": {
     "duration": 0.004279,
     "end_time": "2023-01-27T05:29:35.620976",
     "exception": false,
     "start_time": "2023-01-27T05:29:35.616697",
     "status": "completed"
    },
    "tags": []
   },
   "outputs": [],
   "source": []
  }
 ],
 "metadata": {
  "kernelspec": {
   "display_name": "Python 3",
   "language": "python",
   "name": "python3"
  },
  "language_info": {
   "codemirror_mode": {
    "name": "ipython",
    "version": 3
   },
   "file_extension": ".py",
   "mimetype": "text/x-python",
   "name": "python",
   "nbconvert_exporter": "python",
   "pygments_lexer": "ipython3",
   "version": "3.7.12"
  },
  "papermill": {
   "default_parameters": {},
   "duration": 24.16679,
   "end_time": "2023-01-27T05:29:38.496472",
   "environment_variables": {},
   "exception": null,
   "input_path": "__notebook__.ipynb",
   "output_path": "__notebook__.ipynb",
   "parameters": {},
   "start_time": "2023-01-27T05:29:14.329682",
   "version": "2.3.4"
  }
 },
 "nbformat": 4,
 "nbformat_minor": 5
}
